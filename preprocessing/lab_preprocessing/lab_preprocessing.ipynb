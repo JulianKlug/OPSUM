{
 "cells": [
  {
   "cell_type": "code",
   "execution_count": null,
   "metadata": {
    "pycharm": {
     "name": "#%%\n"
    }
   },
   "outputs": [],
   "source": [
    "import pandas as pd\n",
    "import os\n",
    "import numpy as np\n",
    "\n",
    "from preprocessing.utils import create_ehr_case_identification_column"
   ]
  },
  {
   "cell_type": "code",
   "execution_count": null,
   "metadata": {
    "pycharm": {
     "name": "#%%\n"
    }
   },
   "outputs": [],
   "source": [
    "data_path = '/Users/jk1/stroke_datasets/stroke_unit_dataset/per_value/Extraction20220629'\n",
    "lab_file_start = 'labo'"
   ]
  },
  {
   "cell_type": "code",
   "execution_count": null,
   "metadata": {
    "pycharm": {
     "name": "#%%\n"
    }
   },
   "outputs": [],
   "source": [
    "lab_files = [pd.read_csv(os.path.join(data_path, f), delimiter=';', encoding='utf-8', dtype=str)\n",
    "             for f in os.listdir(data_path)\n",
    "             if f.startswith(lab_file_start)]"
   ]
  },
  {
   "cell_type": "code",
   "execution_count": null,
   "metadata": {
    "pycharm": {
     "name": "#%%\n"
    }
   },
   "outputs": [],
   "source": [
    "lab_df = pd.concat(lab_files, ignore_index=True)"
   ]
  },
  {
   "cell_type": "code",
   "execution_count": null,
   "metadata": {
    "pycharm": {
     "name": "#%%\n"
    }
   },
   "outputs": [],
   "source": [
    "lab_df['case_admission_id'] = create_ehr_case_identification_column(lab_df)"
   ]
  },
  {
   "cell_type": "code",
   "execution_count": null,
   "metadata": {
    "pycharm": {
     "name": "#%%\n"
    }
   },
   "outputs": [],
   "source": [
    "columns_to_drop = ['nr', 'patient_id', 'eds_end_4digit', 'eds_manual', 'DOB', 'begin_date',\n",
    "                   'end_date', 'death_date', 'death_hosp', 'eds_final_id',\n",
    "                   'eds_final_begin', 'eds_final_end', 'eds_final_patient_id',\n",
    "                   'eds_final_birth', 'eds_final_death', 'eds_final_birth_str',\n",
    "                   'date_from', 'date_to', 'patient_id_manual', 'stroke_onset_date', 'Referral', 'match_by']\n",
    "lab_df.drop(columns_to_drop, axis=1, inplace=True)"
   ]
  },
  {
   "cell_type": "code",
   "execution_count": null,
   "metadata": {
    "pycharm": {
     "name": "#%%\n"
    }
   },
   "outputs": [],
   "source": [
    "lab_df.columns"
   ]
  },
  {
   "cell_type": "code",
   "execution_count": null,
   "metadata": {
    "pycharm": {
     "name": "#%%\n"
    }
   },
   "outputs": [],
   "source": [
    "identification_columns = ['case_admission_id', 'sample_date']\n"
   ]
  },
  {
   "cell_type": "code",
   "execution_count": null,
   "metadata": {
    "pycharm": {
     "name": "#%%\n"
    }
   },
   "outputs": [],
   "source": [
    "lab_names = set([c.split('_')[0] for c in lab_df.columns if c not in identification_columns])\n",
    "new_lab_column_headers = set(['_'.join(c.split('_')[1:]) for c in lab_df.columns if c not in identification_columns])\n",
    "\n",
    "print(lab_names)"
   ]
  },
  {
   "cell_type": "code",
   "execution_count": null,
   "metadata": {
    "pycharm": {
     "name": "#%%\n"
    }
   },
   "outputs": [],
   "source": [
    "# split lab df into individual lab dfs for every lab name\n",
    "lab_df_split_by_lab_name = []\n",
    "\n",
    "for index, lab_name in enumerate(lab_names):\n",
    "    print(index, lab_name)\n",
    "    selected_columns = identification_columns + [c for c in lab_df.columns if c.split('_')[0] == lab_name]\n",
    "    individual_lab_df = lab_df[selected_columns].dropna(subset=[f'{lab_name}_value'])\n",
    "    individual_lab_df.columns = identification_columns + ['_'.join(c.split('_')[1:]) for c in individual_lab_df.columns if c.startswith(lab_name)]\n",
    "    individual_lab_df['lab_name'] = lab_name\n",
    "    lab_df_split_by_lab_name.append(individual_lab_df)"
   ]
  },
  {
   "cell_type": "code",
   "execution_count": null,
   "metadata": {
    "pycharm": {
     "name": "#%%\n"
    }
   },
   "outputs": [],
   "source": [
    "# count number of case_admission_ids with a measure of cholestérol\n",
    "cholest_df = lab_df_split_by_lab_name[25].copy()\n",
    "cholest_df.dropna(subset=['value'], inplace=True)\n",
    "len(cholest_df['case_admission_id'].unique())"
   ]
  },
  {
   "cell_type": "code",
   "execution_count": null,
   "metadata": {
    "pycharm": {
     "name": "#%%\n"
    }
   },
   "outputs": [],
   "source": [
    "cholest_df.head()"
   ]
  },
  {
   "cell_type": "code",
   "execution_count": null,
   "metadata": {
    "pycharm": {
     "name": "#%%\n"
    }
   },
   "outputs": [],
   "source": [
    "cholest_df[cholest_df['case_admission_id'] == '5760418294_23032019']"
   ]
  },
  {
   "cell_type": "code",
   "execution_count": null,
   "metadata": {
    "pycharm": {
     "name": "#%%\n"
    }
   },
   "outputs": [],
   "source": [
    "lab_df[lab_df['case_admission_id'] == '3674381449_13022020']"
   ]
  },
  {
   "cell_type": "code",
   "execution_count": null,
   "metadata": {
    "pycharm": {
     "name": "#%%\n"
    }
   },
   "outputs": [],
   "source": [
    "cholest_df[(cholest_df['value'].notnull()) &\n",
    "           (cholest_df['dosage_label']=='cholestérol HDL')].case_admission_id.unique().shape[0]"
   ]
  },
  {
   "cell_type": "code",
   "execution_count": null,
   "metadata": {
    "pycharm": {
     "name": "#%%\n"
    }
   },
   "outputs": [],
   "source": [
    "len(set(list(cholest_df[(cholest_df['value'].notnull()) &\n",
    "           (cholest_df['dosage_label']=='cholestérol HDL')].case_admission_id.unique())+\n",
    "    list(cholest_df[(cholest_df['value'].notnull()) &\n",
    "           (cholest_df['dosage_label']=='LDL cholestérol calculé')].case_admission_id.unique())+\n",
    "    list(cholest_df[(cholest_df['value'].notnull()) &\n",
    "           (cholest_df['dosage_label']=='cholestérol total')].case_admission_id.unique())\n",
    "    ))"
   ]
  },
  {
   "cell_type": "code",
   "execution_count": null,
   "metadata": {
    "pycharm": {
     "name": "#%%\n"
    }
   },
   "outputs": [],
   "source": [
    "cholest_df['dosage_label'].value_counts()"
   ]
  },
  {
   "cell_type": "code",
   "execution_count": null,
   "metadata": {
    "pycharm": {
     "name": "#%%\n"
    }
   },
   "outputs": [],
   "source": [
    "# find case_admission_id without cholestérol measured\n",
    "set(lab_df['case_admission_id'].unique()) - set(cholest_df['case_admission_id'].unique())"
   ]
  },
  {
   "cell_type": "code",
   "execution_count": null,
   "metadata": {
    "pycharm": {
     "name": "#%%\n"
    }
   },
   "outputs": [],
   "source": [
    "cholest_df"
   ]
  },
  {
   "cell_type": "code",
   "execution_count": null,
   "metadata": {
    "pycharm": {
     "name": "#%%\n"
    }
   },
   "outputs": [],
   "source": [
    "lab_name = 'pO2'\n",
    "selected_columns = identification_columns + [c for c in lab_df.columns if c.split('_')[0] == lab_name]\n",
    "individual_lab_df = lab_df[selected_columns].dropna(subset=[f'{lab_name}_value'])\n",
    "individual_lab_df.columns = identification_columns + ['_'.join(c.split('_')[1:]) for c in individual_lab_df.columns if c.startswith(lab_name)]\n",
    "individual_lab_df.reset_index(drop=True, inplace=True)\n",
    "individual_lab_df"
   ]
  },
  {
   "cell_type": "code",
   "execution_count": null,
   "metadata": {
    "pycharm": {
     "name": "#%%\n"
    }
   },
   "outputs": [],
   "source": [
    "reorganised_lab_df = pd.concat(lab_df_split_by_lab_name, ignore_index=True)"
   ]
  },
  {
   "cell_type": "code",
   "execution_count": null,
   "metadata": {
    "pycharm": {
     "name": "#%%\n"
    }
   },
   "outputs": [],
   "source": [
    "reorganised_lab_df.head()"
   ]
  },
  {
   "cell_type": "code",
   "execution_count": null,
   "metadata": {
    "pycharm": {
     "name": "#%%\n"
    }
   },
   "outputs": [],
   "source": [
    "reorganised_lab_df[reorganised_lab_df.dosage_label.str.contains('Sga-pH')]"
   ]
  },
  {
   "cell_type": "code",
   "execution_count": null,
   "metadata": {
    "pycharm": {
     "name": "#%%\n"
    }
   },
   "outputs": [],
   "source": [
    "# defining equivalent dosage labels\n",
    "fibrinogen_equivalent_dosage_labels = ['fibrinogène', 'fibrinogène, antigène']\n",
    "creatinine_equivalent_dosage_labels = ['créatinine', 'U-créatinine, colorimétrie', 'créatinine, colorimétrie']\n",
    "hematocrit_equivalent_dosage_labels = ['hématocrite', 'G-Sgc-hématocrite, ABL', 'G-Sgv-hématocrite, ABL', 'Hématocrite, Smart 546', 'G-Sgv-hématocrite', 'hématocrite, pocH-100i', 'G-Sgvm-hématocrite, ABL', 'hématocrite, impédancemétrie', 'G-Sgv-hématocrite, ABL', 'G-Sga-hématocrite, ABL']\n",
    "potassium_equivalent_dosage_labels = ['potassium', 'G-Sga-potassium, ABL', 'G-Sgv-potassium, ABL', 'Potassium, Piccolo', 'potassium, potentiométrie', 'G-Sgvm-potassium, ABL', 'G-Sgc-potassium, ABL', 'G-Sgv-potassium', 'U-potassium, potentiométrie indirecte']\n",
    "sodium_equivalent_dosage_labels = ['sodium', 'G-Sga-sodium, ABL', 'G-Sgv-sodium, ABL', 'sodium, potentiométrie', 'Sodium, Piccolo', 'G-Sgvm-sodium, ABL', 'U-sodium, potentiométrie indirecte', 'G-Sgc-sodium, ABL', 'G-Sgv-sodium']\n",
    "urea_equivalent_dosage_labels = ['urée', 'urée, colorimétrie', 'U-urée, colorimétrie']\n",
    "hba1c_equivalent_dosage_labels = ['hémoglobine glyquée', 'hémoglobine glyquée (HbA1c), immunologique d\\x92agglutination latex']\n",
    "hemoglobin_equivalent_dosage_labels = ['hémoglobine', 'G-Sga-hémoglobine, ABL', 'G-Sgv-hémoglobine, ABL', 'hémoglobine, pocH-100i', 'hémoglobine, HemoCue 201', 'G-Sgvm-hémoglobine, ABL', 'G-Sgc-hémoglobine, ABL', 'G-Sgv-hémoglobine']\n",
    "thrombocytes_equivalent_dosage_labels = ['thrombocytes', 'Thrombocytes, pocH-100i']\n",
    "leucocytes_equivalent_dosage_labels = ['leucocytes', 'Leucocytes, pocH-100i']\n",
    "erythrocytes_equivalent_dosage_labels = ['érythrocytes', 'érythrocytes, numération, impédancemétrie']\n",
    "inr_equivalent_dosage_labels = ['INR', 'INR, turbodensitométrie']\n",
    "crp_equivalent_dosage_labels = ['protéine C-réactive', 'Protéine C-Réactive  (CRP), Piccolo', 'protéine C-réactive (CRP), immunoturbidimétrique latex CP', 'protéine C-réactive, Smart 546']\n",
    "glucose_equivalent_dosage_labels = ['glucose', 'G-Sga-glucose, ABL', 'G-Sgv-glucose, ABL', 'Glucose', 'Glucose, Piccolo', 'glucose, PAP', 'G-Sgvm-glucose, ABL', 'G-Sgv-glucose', 'G-Sgc-glucose, ABL', 'U-glucose, PAP colorimétrie']\n",
    "bilirubine_equivalent_dosage_labels = ['bilirubine totale', 'G-Sga-bilirubine totale, ABL', 'G-Sgv-bilirubine totale, ABL', 'Bilirubine totale, Piccolo', 'bilirubine totale, colorimétrie', 'G-Sgvm-bilirubine totale, ABL']\n",
    "asat_equivalent_dosage_labels = ['ASAT', 'Aspartate aminotransférase (ASAT), Piccolo', 'aspartate aminotransférase (ASAT), colorimétrie']\n",
    "alat_equivalent_dosage_labels = ['ALAT', 'Alanine aminotransférase (ALAT), Piccolo', 'alanine aminotransférase (ALAT), colorimétrie']\n",
    "doac_xa_equivalent_dosage_labels = ['Activité anti-Xa (DOAC)', 'Activité anti-Xa (rivaroxaban)', 'Activité anti-Xa (apixaban)', 'Activité anti-Xa (edoxaban)', 'Activité anti-Xa (Apixaban)']\n",
    "ldl_equivalent_dosage_labels = ['LDL cholestérol calculé', 'cholestérol non-HDL']\n",
    "\n",
    "equivalence_lists = [fibrinogen_equivalent_dosage_labels, creatinine_equivalent_dosage_labels, hematocrit_equivalent_dosage_labels,\n",
    "                     potassium_equivalent_dosage_labels, sodium_equivalent_dosage_labels, urea_equivalent_dosage_labels,\n",
    "                     hba1c_equivalent_dosage_labels, hemoglobin_equivalent_dosage_labels, thrombocytes_equivalent_dosage_labels,\n",
    "                     leucocytes_equivalent_dosage_labels, erythrocytes_equivalent_dosage_labels, inr_equivalent_dosage_labels,\n",
    "                     crp_equivalent_dosage_labels, glucose_equivalent_dosage_labels, bilirubine_equivalent_dosage_labels,\n",
    "                     asat_equivalent_dosage_labels, alat_equivalent_dosage_labels, doac_xa_equivalent_dosage_labels, ldl_equivalent_dosage_labels]\n",
    "\n",
    "equalized_reorganised_lab_df = reorganised_lab_df.copy()\n",
    "for equivalence_list in equivalence_lists:\n",
    "    equalized_reorganised_lab_df.loc[reorganised_lab_df['dosage_label'].isin(equivalence_list[1:]), 'dosage_label'] = equivalence_list[0]"
   ]
  },
  {
   "cell_type": "code",
   "execution_count": null,
   "metadata": {
    "pycharm": {
     "name": "#%%\n"
    }
   },
   "outputs": [],
   "source": [
    "dosage_labels_to_exclude = ['érythrocytes agglutinés', 'Type d\\'érythrocytes', 'Type des érythrocytes', 'érythrocytes en rouleaux',\n",
    "                            'Cristaux cholestérol',\n",
    "                            'potassium débit', 'urée débit', 'sodium débit', 'glucose débit',\n",
    "                            'protéine C-réactive, POCT',\n",
    "                            'activité anti-Xa (HBPM), autre posologie', 'activité anti-Xa (HBPM), thérapeutique, 1x /jour']\n",
    "\n",
    "equalized_reorganised_lab_df = equalized_reorganised_lab_df[~equalized_reorganised_lab_df['dosage_label'].isin(dosage_labels_to_exclude)]"
   ]
  },
  {
   "cell_type": "code",
   "execution_count": null,
   "metadata": {
    "pycharm": {
     "name": "#%%\n"
    }
   },
   "outputs": [],
   "source": [
    "dosage_labels = equalized_reorganised_lab_df['dosage_label'].value_counts().reset_index()"
   ]
  },
  {
   "cell_type": "code",
   "execution_count": null,
   "metadata": {
    "pycharm": {
     "name": "#%%\n"
    }
   },
   "outputs": [],
   "source": [
    "dosage_labels[dosage_labels['index'].str.lower().str.contains('hdl')]\n",
    "print(list(dosage_labels[dosage_labels['index'].str.lower().str.contains('xa')]['index']))\n",
    "temp = equalized_reorganised_lab_df[equalized_reorganised_lab_df['dosage_label'].isin([\n",
    "'créatinine, colorimétrie'\n",
    "])]\n",
    "temp"
   ]
  },
  {
   "cell_type": "code",
   "execution_count": null,
   "metadata": {
    "pycharm": {
     "name": "#%%\n"
    }
   },
   "outputs": [],
   "source": [
    "# check that units correspond\n",
    "for dosage_label in equalized_reorganised_lab_df['dosage_label'].unique():\n",
    "    print(dosage_label, equalized_reorganised_lab_df[equalized_reorganised_lab_df['dosage_label'] == dosage_label]['unit_of_measure'].unique())"
   ]
  },
  {
   "cell_type": "code",
   "execution_count": null,
   "metadata": {
    "pycharm": {
     "name": "#%%\n"
    }
   },
   "outputs": [],
   "source": [
    "dosage_label = 'pO2'\n",
    "temp = equalized_reorganised_lab_df[\n",
    "            ~((equalized_reorganised_lab_df['dosage_label'].str.contains(dosage_label)) &\n",
    "            (equalized_reorganised_lab_df['material_label'] != 'sga'))\n",
    "        ]\n",
    "temp[temp.dosage_label.str.contains(dosage_label)]"
   ]
  },
  {
   "cell_type": "code",
   "execution_count": null,
   "metadata": {
    "pycharm": {
     "name": "#%%\n"
    }
   },
   "outputs": [],
   "source": [
    "blood_material_equivalents = ['sga', 'sgv', 'sgvm', 'sgc']\n",
    "equalized_reorganised_lab_df.loc[reorganised_lab_df['material_label'].isin(blood_material_equivalents), 'material_label'] = 'any_blood'"
   ]
  },
  {
   "cell_type": "code",
   "execution_count": null,
   "metadata": {
    "pycharm": {
     "name": "#%%\n"
    }
   },
   "outputs": [],
   "source": [
    "material_to_exclude = ['LCR', 'liqu. pleural', 'épanchement', 'sg cordon', 'liqu. abdo.', 'liqu. ascite', 'liqu.']\n",
    "material_to_maybe_exclude = ['urine']\n",
    "equalized_reorganised_lab_df = equalized_reorganised_lab_df[~equalized_reorganised_lab_df['material_label'].isin(material_to_exclude)]"
   ]
  },
  {
   "cell_type": "code",
   "execution_count": null,
   "metadata": {
    "pycharm": {
     "name": "#%%\n"
    }
   },
   "outputs": [],
   "source": [
    "# filter non numerical values in value column\n",
    "non_numerical_values = equalized_reorganised_lab_df[pd.to_numeric(equalized_reorganised_lab_df['value'], errors='coerce').isnull()]\n",
    "non_numerical_values['value'].unique()"
   ]
  },
  {
   "cell_type": "code",
   "execution_count": null,
   "metadata": {
    "pycharm": {
     "name": "#%%\n"
    }
   },
   "outputs": [],
   "source": [
    "# remove non numerical values in value column\n",
    "non_numerical_values_to_remove = ['ERROR', 'nan', 'SANS RES.', 'Hémolysé', 'sans resultat',\n",
    "       'NON REALISE', 'NON INTERPRÉT.', 'COA', 'TAM']\n",
    "equalized_reorganised_lab_df = equalized_reorganised_lab_df[~equalized_reorganised_lab_df['value'].isin(non_numerical_values_to_remove)]\n",
    "equalized_reorganised_lab_df.dropna(subset=['value'], inplace=True)\n",
    "print('Remaining non-numerical values:', equalized_reorganised_lab_df[pd.to_numeric(equalized_reorganised_lab_df['value'], errors='coerce').isnull()]['value'].unique())"
   ]
  },
  {
   "cell_type": "code",
   "execution_count": null,
   "metadata": {
    "pycharm": {
     "name": "#%%\n"
    }
   },
   "outputs": [],
   "source": [
    "equalized_reorganised_lab_df.head()"
   ]
  },
  {
   "cell_type": "code",
   "execution_count": null,
   "metadata": {
    "pycharm": {
     "name": "#%%\n"
    }
   },
   "outputs": [],
   "source": [
    "dosage_label = 'pO2'\n",
    "equalized_reorganised_lab_df[~equalized_reorganised_lab_df[\n",
    "            (equalized_reorganised_lab_df['dosage_label'].str.contains(dosage_label)) &\n",
    "            (equalized_reorganised_lab_df['material_label'] != 'sga')\n",
    "        ]].head()"
   ]
  },
  {
   "cell_type": "code",
   "execution_count": null,
   "metadata": {
    "pycharm": {
     "name": "#%%\n"
    }
   },
   "outputs": [],
   "source": [
    "# get mean number of values per dosage label patient admission id\n",
    "median_observations_per_case_admission_id = equalized_reorganised_lab_df.groupby(['case_admission_id', 'dosage_label'])['value'].count().reset_index()\n",
    "median_observations_per_case_admission_id.groupby('dosage_label').median()"
   ]
  },
  {
   "cell_type": "code",
   "execution_count": null,
   "metadata": {
    "pycharm": {
     "name": "#%%\n"
    }
   },
   "outputs": [],
   "source": [
    "from matplotlib.dates import DateFormatter\n",
    "import seaborn as sns\n",
    "import matplotlib.pyplot as plt\n",
    "\n",
    "pa_id = np.random.choice(equalized_reorganised_lab_df['case_admission_id'].unique())\n",
    "# pa_id = '9996_05112020'\n",
    "dosage_label = 'cholestérol HDL'\n",
    "temp = equalized_reorganised_lab_df[(equalized_reorganised_lab_df['case_admission_id'] == pa_id) & (equalized_reorganised_lab_df['dosage_label'].isin([dosage_label]))].copy()\n",
    "temp['value'] = pd.to_numeric(temp['value'], errors='coerce')\n",
    "temp['sample_date'] = pd.to_datetime(temp['sample_date'], format='%d.%m.%Y %H:%M')\n",
    "temp = temp.dropna(subset=['value'])\n",
    "ax = sns.scatterplot(x='sample_date', y='value', data=temp, hue='value', legend=False)\n",
    "# Define the date format\n",
    "date_form = DateFormatter(\"%m-%d-%Y\")\n",
    "ax.xaxis.set_major_formatter(date_form)\n",
    "ax.tick_params(axis=\"x\", rotation=45)\n",
    "\n",
    "plt.show()"
   ]
  },
  {
   "cell_type": "code",
   "execution_count": null,
   "metadata": {
    "pycharm": {
     "name": "#%%\n"
    }
   },
   "outputs": [],
   "source": [
    "equalized_reorganised_lab_df[(equalized_reorganised_lab_df['dosage_label'] == 'cholestérol HDL')\n",
    "                             & (equalized_reorganised_lab_df['value'].notnull())].case_admission_id.unique().shape[0]"
   ]
  },
  {
   "cell_type": "code",
   "execution_count": null,
   "metadata": {
    "pycharm": {
     "name": "#%%\n"
    }
   },
   "outputs": [],
   "source": [
    "equalized_reorganised_lab_df[(equalized_reorganised_lab_df['case_admission_id'] == '978287281437_02032018')\n",
    "                             & (equalized_reorganised_lab_df['dosage_label'].str.startswith('LDL'))]\n"
   ]
  },
  {
   "cell_type": "markdown",
   "metadata": {
    "collapsed": false,
    "pycharm": {
     "name": "#%% md\n"
    }
   },
   "source": [
    "# Standardisation\n",
    "\n",
    "by substracting median and dividing by interquartile range (q75 - q25)"
   ]
  },
  {
   "cell_type": "code",
   "execution_count": null,
   "metadata": {
    "pycharm": {
     "name": "#%%\n"
    }
   },
   "outputs": [],
   "source": [
    "standardised_labs = equalized_reorganised_lab_df.copy()\n",
    "\n",
    "for dosage_label in standardised_labs['dosage_label'].unique():\n",
    "    temp = standardised_labs[standardised_labs['dosage_label'] == dosage_label].copy()\n",
    "    temp['value'] = pd.to_numeric(temp['value'], errors='coerce')\n",
    "    temp['value'] = (temp['value'] - temp['value'].median())/ (temp['value'].quantile(0.75) - temp['value'].quantile(0.25))\n",
    "    standardised_labs.loc[standardised_labs['dosage_label'] == dosage_label, 'standardised_value'] = temp['value']\n",
    "\n",
    "standardised_labs.head()"
   ]
  },
  {
   "cell_type": "markdown",
   "metadata": {
    "collapsed": false,
    "pycharm": {
     "name": "#%% md\n"
    }
   },
   "source": [
    "Edge cases:\n",
    "- pH is missing for arterial blood\n",
    "- lactate missing\n",
    "\n",
    "Other remarks:\n",
    "- urine samples should be excluded for now to simplify feature space"
   ]
  },
  {
   "cell_type": "markdown",
   "metadata": {
    "collapsed": false,
    "pycharm": {
     "name": "#%% md\n"
    }
   },
   "source": [
    "## Testing final script"
   ]
  },
  {
   "cell_type": "code",
   "execution_count": null,
   "metadata": {
    "pycharm": {
     "name": "#%%\n"
    }
   },
   "outputs": [],
   "source": [
    "from preprocessing.lab_preprocessing.lab_preprocessing import preprocess_labs\n",
    "from preprocessing.patient_selection.filter_ehr_patients import filter_ehr_patients\n",
    "from preprocessing.variable_assembly.variable_database_assembly import load_data_from_main_dir\n",
    "\n",
    "lab_file_start = 'labo'\n",
    "lab_df = load_data_from_main_dir(data_path, lab_file_start)\n",
    "lab_df = filter_ehr_patients(lab_df)\n",
    "preprocessed_lab_df = preprocess_labs(lab_df, verbose=True)"
   ]
  }
 ],
 "metadata": {
  "kernelspec": {
   "display_name": "Python 3",
   "language": "python",
   "name": "python3"
  },
  "language_info": {
   "codemirror_mode": {
    "name": "ipython",
    "version": 2
   },
   "file_extension": ".py",
   "mimetype": "text/x-python",
   "name": "python",
   "nbconvert_exporter": "python",
   "pygments_lexer": "ipython2",
   "version": "2.7.6"
  }
 },
 "nbformat": 4,
 "nbformat_minor": 0
}
