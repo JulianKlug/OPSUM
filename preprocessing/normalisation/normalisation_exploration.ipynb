{
 "cells": [
  {
   "cell_type": "code",
   "execution_count": null,
   "metadata": {
    "pycharm": {
     "name": "#%%\n"
    }
   },
   "outputs": [],
   "source": [
    "import os.path\n",
    "\n",
    "import pandas as pd\n",
    "import seaborn as sns\n",
    "import matplotlib.pyplot as plt\n",
    "from tqdm import tqdm"
   ]
  },
  {
   "cell_type": "code",
   "execution_count": null,
   "metadata": {
    "pycharm": {
     "name": "#%%\n"
    }
   },
   "outputs": [],
   "source": [
    "data_path = '/Users/jk1/stroke_datasets/stroke_unit_dataset/per_value/Extraction_20220815'\n",
    "admission_data_path = '/Users/jk1/OneDrive - unige.ch/stroke_research/geneva_stroke_unit_dataset/data/stroke_registry/post_hoc_modified/stroke_registry_post_hoc_modified.xlsx'\n",
    "patient_selection_path = '/Users/jk1/temp/opsum_extraction_output/high_frequency_data_patient_selection_with_details.csv'"
   ]
  },
  {
   "cell_type": "code",
   "execution_count": null,
   "metadata": {
    "pycharm": {
     "name": "#%%\n"
    }
   },
   "outputs": [],
   "source": [
    "verbose = True\n",
    "log_dir = ''"
   ]
  },
  {
   "cell_type": "code",
   "execution_count": null,
   "metadata": {
    "pycharm": {
     "name": "#%%\n"
    }
   },
   "outputs": [],
   "source": [
    "from preprocessing.variable_assembly.variable_database_assembly import assemble_variable_database\n",
    "\n",
    "feature_df = assemble_variable_database(data_path, admission_data_path, patient_selection_path)"
   ]
  },
  {
   "cell_type": "code",
   "execution_count": null,
   "metadata": {
    "pycharm": {
     "name": "#%%\n"
    }
   },
   "outputs": [],
   "source": [
    "from preprocessing.handling_missing_values.impute_missing_values import impute_missing_values\n",
    "from preprocessing.resample_to_time_bins.resample_to_hourly_features import resample_to_hourly_features\n",
    "from preprocessing.encoding_categorical_variables.encode_categorical_variables import encode_categorical_variables\n",
    "from preprocessing.variable_assembly.relative_timestamps import transform_to_relative_timestamps\n",
    "\n",
    "restricted_feature_df = transform_to_relative_timestamps(feature_df, drop_old_columns=False,\n",
    "                                                         restrict_to_time_range=True, desired_time_range=72,\n",
    "                                                         enforce_min_time_range=True, min_time_range=12,\n",
    "                                                         log_dir=log_dir)\n",
    "\n",
    "\n",
    "cat_encoded_restricted_feature_df = encode_categorical_variables(restricted_feature_df, verbose=verbose,\n",
    "                                                                 log_dir=log_dir)\n",
    "\n",
    "resampled_df = resample_to_hourly_features(cat_encoded_restricted_feature_df, verbose=verbose)\n",
    "\n",
    "imputed_missing_df = impute_missing_values(resampled_df, verbose=verbose)\n"
   ]
  },
  {
   "cell_type": "code",
   "execution_count": null,
   "metadata": {
    "pycharm": {
     "name": "#%%\n"
    }
   },
   "outputs": [],
   "source": [
    "imputed_missing_df.head()"
   ]
  },
  {
   "cell_type": "code",
   "execution_count": null,
   "metadata": {
    "pycharm": {
     "name": "#%%\n"
    }
   },
   "outputs": [],
   "source": [
    "# get a list of all non binary sample labels\n",
    "non_binary_sample_labels = []\n",
    "for variable in imputed_missing_df.sample_label.unique():\n",
    "    if imputed_missing_df[imputed_missing_df.sample_label == variable].value.nunique() > 2:\n",
    "        non_binary_sample_labels.append(variable)\n",
    "\n",
    "imputed_missing_df_non_binary_feature_df = imputed_missing_df[imputed_missing_df.sample_label.isin(non_binary_sample_labels)]"
   ]
  },
  {
   "cell_type": "code",
   "execution_count": null,
   "metadata": {
    "pycharm": {
     "name": "#%%\n"
    }
   },
   "outputs": [],
   "source": [
    "for variable in imputed_missing_df_non_binary_feature_df.sample_label.unique():\n",
    "    print(f\"'{variable}',\")"
   ]
  },
  {
   "cell_type": "code",
   "execution_count": null,
   "metadata": {
    "pycharm": {
     "name": "#%%\n"
    }
   },
   "outputs": [],
   "source": [
    "variables_to_normalize = [\n",
    "'proBNP',\n",
    "'bilirubine totale',\n",
    "'thrombocytes',\n",
    "'creatinine',\n",
    "'calcium corrige',\n",
    "'hemoglobine',\n",
    "'INR',\n",
    "'potassium',\n",
    "'glycemie moyenne estimee',\n",
    "'hematocrite',\n",
    "'uree',\n",
    "'erythrocytes',\n",
    "'glucose',\n",
    "'leucocytes',\n",
    "'hemoglobine glyquee',\n",
    "'sodium',\n",
    "'proteine C-reactive',\n",
    "'ALAT',\n",
    "'FIO2',\n",
    "'max_NIHSS',\n",
    "'max_diastolic_blood_pressure',\n",
    "'max_heart_rate',\n",
    "'max_mean_blood_pressure',\n",
    "'max_oxygen_saturation',\n",
    "'max_respiratory_rate',\n",
    "'max_systolic_blood_pressure',\n",
    "'min_NIHSS',\n",
    "'min_diastolic_blood_pressure',\n",
    "'min_heart_rate',\n",
    "'min_mean_blood_pressure',\n",
    "'min_oxygen_saturation',\n",
    "'min_respiratory_rate',\n",
    "'min_systolic_blood_pressure',\n",
    "'median_NIHSS',\n",
    "'median_diastolic_blood_pressure',\n",
    "'median_heart_rate',\n",
    "'median_mean_blood_pressure',\n",
    "'median_oxygen_saturation',\n",
    "'median_respiratory_rate',\n",
    "'median_systolic_blood_pressure',\n",
    "'temperature',\n",
    "'weight',\n",
    "'age',\n",
    "'triglycerides',\n",
    "'ASAT',\n",
    "'cholesterol HDL',\n",
    "'Glasgow Coma Scale',\n",
    "'fibrinogene',\n",
    "'PTT',\n",
    "'cholesterol total',\n",
    "'LDL cholesterol calcule',\n",
    "'chlore',\n",
    "'lactate',\n",
    "]"
   ]
  },
  {
   "cell_type": "markdown",
   "metadata": {
    "collapsed": false,
    "pycharm": {
     "name": "#%% md\n"
    }
   },
   "source": [
    "## Following variables are not normalized"
   ]
  },
  {
   "cell_type": "code",
   "execution_count": null,
   "metadata": {
    "pycharm": {
     "name": "#%%\n"
    }
   },
   "outputs": [],
   "source": [
    "# find variables that will not be normalized\n",
    "print(f'Following variables are not normalized:')\n",
    "not_normalized_variables = []\n",
    "for variable in imputed_missing_df.sample_label.unique():\n",
    "    if variable not in variables_to_normalize:\n",
    "        print(f\"'{variable}',\")\n",
    "        not_normalized_variables.append(variable)"
   ]
  },
  {
   "cell_type": "markdown",
   "metadata": {
    "collapsed": false,
    "pycharm": {
     "name": "#%% md\n"
    }
   },
   "source": [
    "## Normalize variables\n",
    "\n",
    "For continuous variables:\n",
    "  - Winsorize values outside the upper and lower bounds of 1⋅5 times the IQR are set to the upper and lower limits of the range\n",
    "  - Scale to a mean of 0 with an SD of 1"
   ]
  },
  {
   "cell_type": "code",
   "execution_count": null,
   "metadata": {
    "pycharm": {
     "name": "#%%\n"
    }
   },
   "outputs": [],
   "source": [
    "imputed_missing_df[imputed_missing_df.sample_label == 'median_heart_rate'].value.plot.hist(bins=50)\n",
    "plt.show()"
   ]
  },
  {
   "cell_type": "code",
   "execution_count": null,
   "metadata": {
    "pycharm": {
     "name": "#%%\n"
    }
   },
   "outputs": [],
   "source": [
    "temp = imputed_missing_df[imputed_missing_df.sample_label == 'median_heart_rate'].value.copy()\n",
    "print(temp.quantile(0.75) - temp.quantile(0.25))\n",
    "print(temp.quantile(0.75) + 1.5*(temp.quantile(0.75) - temp.quantile(0.25)))\n",
    "print(temp.quantile(0.25) - 1.5*(temp.quantile(0.75) - temp.quantile(0.25)))\n",
    "temp = temp.clip(lower=temp.quantile(0.25) - 1.5*(temp.quantile(0.75) - temp.quantile(0.25)),\n",
    "                 upper=temp.quantile(0.75) + 1.5*(temp.quantile(0.75) - temp.quantile(0.25)))"
   ]
  },
  {
   "cell_type": "code",
   "execution_count": null,
   "metadata": {
    "pycharm": {
     "name": "#%%\n"
    }
   },
   "outputs": [],
   "source": [
    "temp.plot.hist(bins=20)\n",
    "plt.show()"
   ]
  },
  {
   "cell_type": "code",
   "execution_count": null,
   "metadata": {
    "pycharm": {
     "name": "#%%\n"
    }
   },
   "outputs": [],
   "source": [
    "temp = (temp - temp.mean()) / temp.std()"
   ]
  },
  {
   "cell_type": "code",
   "execution_count": null,
   "metadata": {
    "pycharm": {
     "name": "#%%\n"
    }
   },
   "outputs": [],
   "source": [
    "temp.plot.hist(bins=20)\n",
    "plt.show()"
   ]
  },
  {
   "cell_type": "markdown",
   "metadata": {
    "collapsed": false,
    "pycharm": {
     "name": "#%% md\n"
    }
   },
   "source": [
    "1. Winsorize"
   ]
  },
  {
   "cell_type": "code",
   "execution_count": null,
   "metadata": {
    "pycharm": {
     "name": "#%%\n"
    }
   },
   "outputs": [],
   "source": [
    "winsorized_restricted_feature_df = imputed_missing_df.copy()\n",
    "for variable in tqdm(variables_to_normalize):\n",
    "    temp = winsorized_restricted_feature_df[winsorized_restricted_feature_df.sample_label == variable].value.copy()\n",
    "    # skip variables with insufficient range (FiO2, GCS)\n",
    "    if temp.quantile(0.75) == temp.quantile(0.25):\n",
    "        continue\n",
    "    temp = temp.clip(lower=temp.quantile(0.25) - 1.5 * (temp.quantile(0.75) - temp.quantile(0.25)),\n",
    "                     upper=temp.quantile(0.75) + 1.5 * (temp.quantile(0.75) - temp.quantile(0.25)))\n",
    "    winsorized_restricted_feature_df.loc[winsorized_restricted_feature_df.sample_label == variable, 'value'] = temp"
   ]
  },
  {
   "cell_type": "markdown",
   "metadata": {
    "collapsed": false,
    "pycharm": {
     "name": "#%% md\n"
    }
   },
   "source": [
    "2. Normalize"
   ]
  },
  {
   "cell_type": "code",
   "execution_count": null,
   "metadata": {
    "pycharm": {
     "name": "#%%\n"
    }
   },
   "outputs": [],
   "source": [
    "# Scale to a mean of 0 with an SD of 1\n",
    "normalized_winsorized_restricted_feature_df = winsorized_restricted_feature_df.copy()\n",
    "normalisation_parameters_columns = ['variable', 'original_mean', 'original_std']\n",
    "normalisation_parameters_df = pd.DataFrame(columns=normalisation_parameters_columns)\n",
    "for variable in tqdm(variables_to_normalize):\n",
    "    temp = normalized_winsorized_restricted_feature_df[\n",
    "        normalized_winsorized_restricted_feature_df.sample_label == variable].value.copy()\n",
    "    normalisation_parameters_df = normalisation_parameters_df.append(pd.DataFrame([[variable, temp.mean(), temp.std()]], columns=normalisation_parameters_columns))\n",
    "    temp = (temp - temp.mean()) / temp.std()\n",
    "    normalized_winsorized_restricted_feature_df.loc[\n",
    "        normalized_winsorized_restricted_feature_df.sample_label == variable, 'value'] = temp"
   ]
  },
  {
   "cell_type": "code",
   "execution_count": null,
   "metadata": {
    "pycharm": {
     "name": "#%%\n"
    }
   },
   "outputs": [],
   "source": [
    "from matplotlib.pyplot import cm\n",
    "import numpy as np\n",
    "\n",
    "colors=cm.hsv(np.linspace(0,1,len(imputed_missing_df.sample_label.unique())))\n",
    "for variable in variables_to_normalize:\n",
    "    if variable not in imputed_missing_df.sample_label.unique():\n",
    "        print(f'{variable} is not present in Dataframe')\n",
    "        continue\n",
    "    # fig, axes = plt.subplot_mosaic('ABC', sharey=True)\n",
    "    fig, (ax1, ax2, ax3) = plt.subplots(1, 3, figsize=(15, 5), sharey=True)\n",
    "    color = colors[imputed_missing_df.sample_label.unique().tolist().index(variable)]\n",
    "\n",
    "    # plot original distribution\n",
    "    ax1 = sns.histplot(imputed_missing_df[imputed_missing_df.sample_label == variable].value, bins=50, ax=ax1, color=color)\n",
    "    ax1.axes.set_xlabel(variable)\n",
    "    ax1.set_title(f'Distribution of {variable}')\n",
    "\n",
    "    # plot winsorized distribution\n",
    "    ax2 = sns.histplot(winsorized_restricted_feature_df[winsorized_restricted_feature_df.sample_label == variable].value, bins=50,  ax=ax2, color=color)\n",
    "    ax2.set_xlabel(variable)\n",
    "    ax2.set_title(f'Distribution of {variable} after Winsorization')\n",
    "\n",
    "    # plot normalized distribution\n",
    "    ax3 = sns.histplot(normalized_winsorized_restricted_feature_df[normalized_winsorized_restricted_feature_df.sample_label == variable].value, bins=50, ax=ax3, color=color)\n",
    "    ax3.set_xlabel(variable)\n",
    "    ax3.set_title(f'Distribution of {variable} after Normalization')\n",
    "\n",
    "    plt.show()"
   ]
  },
  {
   "cell_type": "code",
   "execution_count": null,
   "metadata": {
    "pycharm": {
     "name": "#%%\n"
    }
   },
   "outputs": [],
   "source": [
    "normalisation_parameters_df"
   ]
  },
  {
   "cell_type": "markdown",
   "metadata": {
    "collapsed": false,
    "pycharm": {
     "name": "#%% md\n"
    }
   },
   "source": [
    "### testing the inverse transformation"
   ]
  },
  {
   "cell_type": "code",
   "execution_count": null,
   "metadata": {
    "pycharm": {
     "name": "#%%\n"
    }
   },
   "outputs": [],
   "source": [
    "reverse_normalized_winsorized_restricted_feature_df = normalized_winsorized_restricted_feature_df.copy()\n",
    "for variable in tqdm(normalisation_parameters_df.variable.unique()):\n",
    "    if variable not in reverse_normalized_winsorized_restricted_feature_df.sample_label.unique():\n",
    "        print(f'{variable} is not present in Dataframe')\n",
    "        continue\n",
    "\n",
    "    temp = reverse_normalized_winsorized_restricted_feature_df[\n",
    "        reverse_normalized_winsorized_restricted_feature_df.sample_label == variable].value.copy()\n",
    "    std = normalisation_parameters_df[normalisation_parameters_df.variable == variable].original_std.iloc[0]\n",
    "    mean = normalisation_parameters_df[normalisation_parameters_df.variable == variable].original_mean.iloc[0]\n",
    "    temp = (temp * std) + mean\n",
    "    reverse_normalized_winsorized_restricted_feature_df.loc[\n",
    "        reverse_normalized_winsorized_restricted_feature_df.sample_label == variable, 'value'] = temp"
   ]
  },
  {
   "cell_type": "code",
   "execution_count": null,
   "metadata": {
    "pycharm": {
     "name": "#%%\n"
    }
   },
   "outputs": [],
   "source": [
    "normalized_winsorized_restricted_feature_df.head()"
   ]
  },
  {
   "cell_type": "code",
   "execution_count": null,
   "metadata": {
    "pycharm": {
     "name": "#%%\n"
    }
   },
   "outputs": [],
   "source": [
    "reverse_normalized_winsorized_restricted_feature_df.head()"
   ]
  },
  {
   "cell_type": "code",
   "execution_count": null,
   "metadata": {
    "pycharm": {
     "name": "#%%\n"
    }
   },
   "outputs": [],
   "source": [
    "reverse_normalized_winsorized_restricted_feature_df[reverse_normalized_winsorized_restricted_feature_df.value != winsorized_restricted_feature_df.value].value.iloc[0]"
   ]
  },
  {
   "cell_type": "code",
   "execution_count": null,
   "metadata": {
    "pycharm": {
     "name": "#%%\n"
    }
   },
   "outputs": [],
   "source": [
    "winsorized_restricted_feature_df[reverse_normalized_winsorized_restricted_feature_df.value != winsorized_restricted_feature_df.value].value.iloc[0]\n"
   ]
  },
  {
   "cell_type": "markdown",
   "metadata": {
    "collapsed": false,
    "pycharm": {
     "name": "#%% md\n"
    }
   },
   "source": [
    "Testing if reverse operation recovers state before normalisation (approximation with 10e-5 tolerance)"
   ]
  },
  {
   "cell_type": "code",
   "execution_count": null,
   "metadata": {
    "pycharm": {
     "name": "#%%\n"
    }
   },
   "outputs": [],
   "source": [
    "(np.isclose(reverse_normalized_winsorized_restricted_feature_df.value, winsorized_restricted_feature_df.value, rtol=1e-05, atol=1e-05)).all()"
   ]
  },
  {
   "cell_type": "markdown",
   "metadata": {
    "collapsed": false,
    "pycharm": {
     "name": "#%% md\n"
    }
   },
   "source": [
    "## Testing final implementation"
   ]
  },
  {
   "cell_type": "code",
   "execution_count": null,
   "metadata": {
    "pycharm": {
     "name": "#%%\n"
    }
   },
   "outputs": [],
   "source": [
    "log_dir = '/Users/jk1/temp/opsum_prepro_output/temp_output'"
   ]
  },
  {
   "cell_type": "code",
   "execution_count": null,
   "metadata": {
    "pycharm": {
     "name": "#%%\n"
    }
   },
   "outputs": [],
   "source": [
    "from preprocessing.normalisation.normalisation import normalise_data\n",
    "\n",
    "test_df = normalise_data(imputed_missing_df, verbose=True, log_dir=log_dir)"
   ]
  },
  {
   "cell_type": "code",
   "execution_count": null,
   "metadata": {
    "pycharm": {
     "name": "#%%\n"
    }
   },
   "outputs": [],
   "source": [
    "from matplotlib.pyplot import cm\n",
    "import numpy as np\n",
    "\n",
    "colors=cm.hsv(np.linspace(0,1,len(imputed_missing_df.sample_label.unique())))\n",
    "for variable in variables_to_normalize:\n",
    "    if variable not in imputed_missing_df.sample_label.unique():\n",
    "        print(f'{variable} is not present in Dataframe')\n",
    "        continue\n",
    "    # fig, axes = plt.subplot_mosaic('ABC', sharey=True)\n",
    "    fig, (ax1, ax2) = plt.subplots(1, 2, figsize=(10, 5), sharey=True)\n",
    "    color = colors[imputed_missing_df.sample_label.unique().tolist().index(variable)]\n",
    "\n",
    "    # plot original distribution\n",
    "    ax1 = sns.histplot(imputed_missing_df[imputed_missing_df.sample_label == variable].value, bins=50, ax=ax1, color=color)\n",
    "    ax1.axes.set_xlabel(variable)\n",
    "    ax1.set_title(f'Distribution of {variable}')\n",
    "\n",
    "\n",
    "    # plot normalized distribution\n",
    "    ax2 = sns.histplot(test_df[test_df.sample_label == variable].value, bins=50, ax=ax2, color=color)\n",
    "    ax2.set_xlabel(variable)\n",
    "    ax2.set_title(f'Distribution of {variable} after Normalization')\n",
    "\n",
    "    plt.show()"
   ]
  },
  {
   "cell_type": "code",
   "execution_count": null,
   "metadata": {
    "pycharm": {
     "name": "#%%\n"
    }
   },
   "outputs": [],
   "source": [
    "for variable in variables_to_normalize:\n",
    "    if variable not in test_df.sample_label.unique():\n",
    "        print(f'{variable} is not present in Dataframe')\n",
    "        continue\n",
    "\n",
    "    print(f'{variable}: {test_df[test_df.sample_label == variable].value.mean()}')\n",
    "    print(f'{variable}: {test_df[test_df.sample_label == variable].value.std()}')"
   ]
  }
 ],
 "metadata": {
  "kernelspec": {
   "display_name": "Python 3",
   "language": "python",
   "name": "python3"
  },
  "language_info": {
   "codemirror_mode": {
    "name": "ipython",
    "version": 2
   },
   "file_extension": ".py",
   "mimetype": "text/x-python",
   "name": "python",
   "nbconvert_exporter": "python",
   "pygments_lexer": "ipython2",
   "version": "2.7.6"
  }
 },
 "nbformat": 4,
 "nbformat_minor": 0
}
