{
 "cells": [
  {
   "cell_type": "code",
   "execution_count": null,
   "metadata": {},
   "outputs": [],
   "source": [
    "import pandas as pd\n",
    "import seaborn as sns\n",
    "import matplotlib.pyplot as plt"
   ]
  },
  {
   "cell_type": "code",
   "execution_count": null,
   "metadata": {
    "pycharm": {
     "name": "#%%\n"
    }
   },
   "outputs": [],
   "source": [
    "data_path = '/Users/jk1/stroke_datasets/stroke_unit_dataset/per_value/Extraction_20211110'\n",
    "admission_data_path = '/Users/jk1/OneDrive - unige.ch/stroke_research/geneva_stroke_unit_dataset/data/stroke_registry/post_hoc_modified/stroke_registry_post_hoc_modified.xlsx'\n",
    "patient_selection_path = '/Users/jk1/temp/opsum_extration_output/high_frequency_data_patient_selection.csv'"
   ]
  },
  {
   "cell_type": "code",
   "execution_count": null,
   "metadata": {
    "pycharm": {
     "name": "#%%\n"
    }
   },
   "outputs": [],
   "source": [
    "from preprocessing.variable_assembly.variable_database_assembly import assemble_variable_database\n",
    "\n",
    "feature_df = assemble_variable_database(data_path, admission_data_path, patient_selection_path)"
   ]
  },
  {
   "cell_type": "code",
   "execution_count": null,
   "metadata": {
    "pycharm": {
     "name": "#%%\n"
    }
   },
   "outputs": [],
   "source": [
    "from preprocessing.variable_assembly.relative_timestamps import transform_to_relative_timestamps\n",
    "\n",
    "restricted_feature_df = transform_to_relative_timestamps(feature_df, drop_old_columns=False, restrict_to_time_range=True)"
   ]
  },
  {
   "cell_type": "code",
   "execution_count": null,
   "metadata": {
    "pycharm": {
     "name": "#%%\n"
    }
   },
   "outputs": [],
   "source": [
    "restricted_feature_df.head()"
   ]
  },
  {
   "cell_type": "code",
   "execution_count": null,
   "metadata": {
    "pycharm": {
     "name": "#%%\n"
    }
   },
   "outputs": [],
   "source": [
    "# get a list of all non binary sample labels\n",
    "non_binary_sample_labels = []\n",
    "for variable in restricted_feature_df.sample_label.unique():\n",
    "    if restricted_feature_df[restricted_feature_df.sample_label == variable].value.nunique() > 2:\n",
    "        non_binary_sample_labels.append(variable)\n",
    "\n",
    "restricted_non_binary_feature_df = restricted_feature_df[restricted_feature_df.sample_label.isin(non_binary_sample_labels)]"
   ]
  },
  {
   "cell_type": "code",
   "execution_count": null,
   "metadata": {
    "pycharm": {
     "name": "#%%\n"
    }
   },
   "outputs": [],
   "source": [
    "for variable in restricted_non_binary_feature_df.sample_label.unique():\n",
    "    print(f\"'{variable}',\")"
   ]
  },
  {
   "cell_type": "code",
   "execution_count": null,
   "metadata": {
    "pycharm": {
     "name": "#%%\n"
    }
   },
   "outputs": [],
   "source": [
    "variables_to_normalize = [\n",
    "'proBNP',\n",
    "'bilirubine totale',\n",
    "'thrombocytes',\n",
    "'creatinine',\n",
    "'calcium corrige',\n",
    "'hemoglobine',\n",
    "'INR',\n",
    "'potassium',\n",
    "'glycemie moyenne estimee',\n",
    "'hematocrite',\n",
    "'uree',\n",
    "'erythrocytes',\n",
    "'glucose',\n",
    "'leucocytes',\n",
    "'hemoglobine glyquee',\n",
    "'sodium',\n",
    "'proteine C-reactive',\n",
    "'ALAT',\n",
    "'FIO2',\n",
    "'oxygen_saturation',\n",
    "'systolic_blood_pressure',\n",
    "'diastolic_blood_pressure',\n",
    "'mean_blood_pressure',\n",
    "'heart_rate',\n",
    "'respiratory_rate',\n",
    "'temperature',\n",
    "'weight',\n",
    "'age',\n",
    "'NIHSS',\n",
    "'triglycerides',\n",
    "'ASAT',\n",
    "'cholesterol HDL',\n",
    "'Glasgow Coma Scale',\n",
    "'fibrinogene',\n",
    "'PTT',\n",
    "'cholesterol total',\n",
    "'LDL cholesterol calcule',\n",
    "]"
   ]
  },
  {
   "cell_type": "markdown",
   "metadata": {
    "collapsed": false
   },
   "source": [
    "## Following variables are not normalized"
   ]
  },
  {
   "cell_type": "code",
   "execution_count": null,
   "metadata": {
    "pycharm": {
     "name": "#%%\n"
    }
   },
   "outputs": [],
   "source": [
    "# find variables that will not be normalized\n",
    "print(f'Following variables are not normalized:')\n",
    "not_normalized_variables = []\n",
    "for variable in restricted_feature_df.sample_label.unique():\n",
    "    if variable not in variables_to_normalize:\n",
    "        print(f\"'{variable}',\")\n",
    "        not_normalized_variables.append(variable)"
   ]
  },
  {
   "cell_type": "markdown",
   "metadata": {
    "collapsed": false
   },
   "source": [
    "## Normalize variables\n",
    "\n",
    "For continuous variables:\n",
    "  - Winsorize values outside the upper and lower bounds of 1⋅5 times the IQR are set to the upper and lower limits of the range\n",
    "  - Scale to a mean of 0 with an SD of 1"
   ]
  },
  {
   "cell_type": "code",
   "execution_count": null,
   "metadata": {
    "pycharm": {
     "name": "#%%\n"
    }
   },
   "outputs": [],
   "source": [
    "restricted_feature_df[restricted_feature_df.sample_label == 'heart_rate'].value.plot.hist(bins=50)\n",
    "plt.show()"
   ]
  },
  {
   "cell_type": "code",
   "execution_count": null,
   "metadata": {
    "pycharm": {
     "name": "#%%\n"
    }
   },
   "outputs": [],
   "source": [
    "temp = restricted_feature_df[restricted_feature_df.sample_label == 'heart_rate'].value.copy()\n",
    "print(temp.quantile(0.75) - temp.quantile(0.25))\n",
    "print(temp.quantile(0.75) + 1.5*(temp.quantile(0.75) - temp.quantile(0.25)))\n",
    "print(temp.quantile(0.25) - 1.5*(temp.quantile(0.75) - temp.quantile(0.25)))\n",
    "temp = temp.clip(lower=temp.quantile(0.25) - 1.5*(temp.quantile(0.75) - temp.quantile(0.25)),\n",
    "                 upper=temp.quantile(0.75) + 1.5*(temp.quantile(0.75) - temp.quantile(0.25)))"
   ]
  },
  {
   "cell_type": "code",
   "execution_count": null,
   "metadata": {
    "pycharm": {
     "name": "#%%\n"
    }
   },
   "outputs": [],
   "source": [
    "temp.plot.hist(bins=20)\n",
    "plt.show()"
   ]
  },
  {
   "cell_type": "code",
   "execution_count": null,
   "metadata": {
    "pycharm": {
     "name": "#%%\n"
    }
   },
   "outputs": [],
   "source": [
    "temp = (temp - temp.mean()) / temp.std()"
   ]
  },
  {
   "cell_type": "code",
   "execution_count": null,
   "metadata": {
    "pycharm": {
     "name": "#%%\n"
    }
   },
   "outputs": [],
   "source": [
    "temp.plot.hist(bins=20)\n",
    "plt.show()"
   ]
  },
  {
   "cell_type": "markdown",
   "metadata": {
    "collapsed": false
   },
   "source": [
    "1. Winsorize"
   ]
  },
  {
   "cell_type": "code",
   "execution_count": null,
   "metadata": {
    "pycharm": {
     "name": "#%%\n"
    }
   },
   "outputs": [],
   "source": [
    "winsorized_restricted_feature_df = restricted_feature_df.copy()\n",
    "for variable in variables_to_normalize:\n",
    "    temp = winsorized_restricted_feature_df[winsorized_restricted_feature_df.sample_label == variable].value.copy()\n",
    "    temp = temp.clip(lower=temp.quantile(0.25) - 1.5*(temp.quantile(0.75) - temp.quantile(0.25)),\n",
    "                     upper=temp.quantile(0.75) + 1.5*(temp.quantile(0.75) - temp.quantile(0.25)))\n",
    "    winsorized_restricted_feature_df.loc[winsorized_restricted_feature_df.sample_label == variable, 'value'] = temp"
   ]
  },
  {
   "cell_type": "markdown",
   "metadata": {
    "collapsed": false
   },
   "source": [
    "2. Normalize"
   ]
  },
  {
   "cell_type": "code",
   "execution_count": null,
   "metadata": {
    "pycharm": {
     "name": "#%%\n"
    }
   },
   "outputs": [],
   "source": [
    "normalized_winsorized_restricted_feature_df = winsorized_restricted_feature_df.copy()\n",
    "for variable in variables_to_normalize:\n",
    "    temp = normalized_winsorized_restricted_feature_df[normalized_winsorized_restricted_feature_df.sample_label == variable].value.copy()\n",
    "    temp = (temp - temp.mean()) / temp.std()\n",
    "    normalized_winsorized_restricted_feature_df.loc[normalized_winsorized_restricted_feature_df.sample_label == variable, 'value'] = temp"
   ]
  },
  {
   "cell_type": "code",
   "execution_count": null,
   "metadata": {
    "pycharm": {
     "name": "#%%\n"
    }
   },
   "outputs": [],
   "source": [
    "from matplotlib.pyplot import cm\n",
    "import numpy as np\n",
    "\n",
    "colors=cm.hsv(np.linspace(0,1,len(feature_df.sample_label.unique())))\n",
    "for variable in variables_to_normalize:\n",
    "    # fig, axes = plt.subplot_mosaic('ABC', sharey=True)\n",
    "    fig, (ax1, ax2, ax3) = plt.subplots(1, 3, figsize=(15, 5), sharey=True)\n",
    "    color = colors[restricted_feature_df.sample_label.unique().tolist().index(variable)]\n",
    "\n",
    "    # plot original distribution\n",
    "    ax1 = sns.histplot(restricted_feature_df[restricted_feature_df.sample_label == variable].value, bins=50, ax=ax1, color=color)\n",
    "    ax1.axes.set_xlabel(variable)\n",
    "    ax1.set_title(f'Distribution of {variable}')\n",
    "\n",
    "    # plot winsorized distribution\n",
    "    ax2 = sns.histplot(winsorized_restricted_feature_df[winsorized_restricted_feature_df.sample_label == variable].value, bins=50,  ax=ax2, color=color)\n",
    "    ax2.set_xlabel(variable)\n",
    "    ax2.set_title(f'Distribution of {variable} after Winsorization')\n",
    "\n",
    "    # plot normalized distribution\n",
    "    ax3 = sns.histplot(normalized_winsorized_restricted_feature_df[normalized_winsorized_restricted_feature_df.sample_label == variable].value, bins=50, ax=ax3, color=color)\n",
    "    ax3.set_xlabel(variable)\n",
    "    ax3.set_title(f'Distribution of {variable} after Normalization')\n",
    "\n",
    "    plt.show()"
   ]
  },
  {
   "cell_type": "markdown",
   "metadata": {
    "collapsed": false
   },
   "source": [
    "## Testing final implementation"
   ]
  },
  {
   "cell_type": "code",
   "execution_count": null,
   "metadata": {
    "pycharm": {
     "name": "#%%\n"
    }
   },
   "outputs": [],
   "source": [
    "from preprocessing.normalisation.normalisation import normalise_data\n",
    "\n",
    "test_df = normalise_data(restricted_feature_df, verbose=True)"
   ]
  },
  {
   "cell_type": "code",
   "execution_count": null,
   "metadata": {
    "pycharm": {
     "name": "#%%\n"
    }
   },
   "outputs": [],
   "source": [
    "from matplotlib.pyplot import cm\n",
    "import numpy as np\n",
    "\n",
    "colors=cm.hsv(np.linspace(0,1,len(feature_df.sample_label.unique())))\n",
    "for variable in variables_to_normalize:\n",
    "    # fig, axes = plt.subplot_mosaic('ABC', sharey=True)\n",
    "    fig, (ax1, ax2) = plt.subplots(1, 2, figsize=(10, 5), sharey=True)\n",
    "    color = colors[restricted_feature_df.sample_label.unique().tolist().index(variable)]\n",
    "\n",
    "    # plot original distribution\n",
    "    ax1 = sns.histplot(restricted_feature_df[restricted_feature_df.sample_label == variable].value, bins=50, ax=ax1, color=color)\n",
    "    ax1.axes.set_xlabel(variable)\n",
    "    ax1.set_title(f'Distribution of {variable}')\n",
    "\n",
    "\n",
    "    # plot normalized distribution\n",
    "    ax2 = sns.histplot(test_df[test_df.sample_label == variable].value, bins=50, ax=ax2, color=color)\n",
    "    ax2.set_xlabel(variable)\n",
    "    ax2.set_title(f'Distribution of {variable} after Normalization')\n",
    "\n",
    "    plt.show()"
   ]
  },
  {
   "cell_type": "code",
   "execution_count": null,
   "metadata": {
    "pycharm": {
     "name": "#%%\n"
    }
   },
   "outputs": [],
   "source": []
  }
 ],
 "metadata": {
  "kernelspec": {
   "display_name": "Python 3",
   "language": "python",
   "name": "python3"
  },
  "language_info": {
   "codemirror_mode": {
    "name": "ipython",
    "version": 2
   },
   "file_extension": ".py",
   "mimetype": "text/x-python",
   "name": "python",
   "nbconvert_exporter": "python",
   "pygments_lexer": "ipython2",
   "version": "2.7.6"
  }
 },
 "nbformat": 4,
 "nbformat_minor": 0
}
