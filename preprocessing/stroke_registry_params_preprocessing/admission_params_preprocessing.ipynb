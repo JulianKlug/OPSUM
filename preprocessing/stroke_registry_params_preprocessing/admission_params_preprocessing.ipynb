{
 "cells": [
  {
   "cell_type": "code",
   "execution_count": null,
   "metadata": {
    "pycharm": {
     "name": "#%%\n"
    }
   },
   "outputs": [],
   "source": [
    "import seaborn as sns\n",
    "import pandas as pd\n",
    "import numpy as np\n",
    "import os\n",
    "import matplotlib.pyplot as plt\n"
   ]
  },
  {
   "cell_type": "code",
   "execution_count": null,
   "metadata": {
    "pycharm": {
     "name": "#%%\n"
    }
   },
   "outputs": [],
   "source": [
    "stroke_registry_data_path = '/Users/jk1/OneDrive - unige.ch/stroke_research/geneva_stroke_unit_dataset/data/stroke_registry/post_hoc_modified/stroke_registry_post_hoc_modified.xlsx'\n",
    "output_path = '/Users/jk1/temp/opsum_output'\n",
    "patient_selection = '/Users/jk1/temp/opsum_extraction_output/high_frequency_data_patient_selection_with_details.csv'"
   ]
  },
  {
   "cell_type": "code",
   "execution_count": null,
   "metadata": {
    "pycharm": {
     "name": "#%%\n"
    }
   },
   "outputs": [],
   "source": [
    "all_admission_data_columns = [\n",
    "\"Non-Swiss\",\n",
    "\"Arrival time\",\n",
    "\"Age (calc.)\",\n",
    "\"Sex\",\n",
    "\"Ethnicity\",\n",
    "\"Other ethnicity\",\n",
    "\"Onset date\",\n",
    "\"Onset time\",\n",
    "\"Wake-up date\",\n",
    "\"Wake-up time\",\n",
    "\"Referral\",\n",
    "\"Patient referred to\",\n",
    "\"Transport\",\n",
    "\"Prestroke living situation\",\n",
    "\"Prestroke disability (Rankin)\",\n",
    "\"Stroke syndrom (Bamford)\",\n",
    "\"NIH on admission\",\n",
    "\"GCS on admission\",\n",
    "\"1st syst. bp\",\n",
    "\"1st diast. bp\",\n",
    "\"Height\",\n",
    "\"Weight\",\n",
    "\"BMI\",\n",
    "\"Aspirin pre-stroke\",\n",
    "\"Clopidogrel pre-stroke\",\n",
    "\"Prasugrel pre-stroke\",\n",
    "\"Ticagrelor pre-stroke\",\n",
    "\"Dipyridamole pre-stroke\",\n",
    "\"Vit. K ag pre-stroke\",\n",
    "\"Vit. K ag INR\",\n",
    "\"Rivaroxaban pre-stroke\",\n",
    "\"Dabigatran pre-stroke\",\n",
    "\"Apixaban pre-stroke\",\n",
    "\"Edoxaban pre-stroke\",\n",
    "\"Parenteral ac pre-stroke\",\n",
    "\"Antihypert. drugs pre-stroke\",\n",
    "\"Lipid lowering drugs pre-stroke\",\n",
    "\"Hormone repl. or contracept.\",\n",
    "\"Antiplatelet drugs\",\n",
    "\"Anticoagulants\",\n",
    "\"Initial hospitalization\",\n",
    "\"MedHist Stroke\",\n",
    "\"MedHist TIA\",\n",
    "\"MedHist ICH\",\n",
    "\"MedHist Hypertension\",\n",
    "\"MedHist Diabetes\",\n",
    "\"MedHist Hyperlipidemia\",\n",
    "\"MedHist Smoking\",\n",
    "\"MedHist Atrial Fibr.\",\n",
    "\"MedHist CHD\",\n",
    "\"MedHist Prost. heart valves\",\n",
    "\"MedHist Low ejection fract.\",\n",
    "\"MedHist PAD\",\n",
    "\"Average sleep\",\n",
    "\"Last night sleep\",\n",
    "\"Snoring\",\n",
    "\"Daytime sleepiness\",\n",
    "\"1st glucose\",\n",
    "\"1st cholesterol total\",\n",
    "\"1st cholesterol LDL\",\n",
    "\"1st creatinine\",\n",
    "]"
   ]
  },
  {
   "cell_type": "code",
   "execution_count": null,
   "metadata": {
    "pycharm": {
     "name": "#%%\n"
    }
   },
   "outputs": [],
   "source": [
    "patient_selection_df = pd.read_csv(patient_selection, dtype=str)"
   ]
  },
  {
   "cell_type": "code",
   "execution_count": null,
   "metadata": {
    "pycharm": {
     "name": "#%%\n"
    }
   },
   "outputs": [],
   "source": [
    "full_data_df = pd.read_excel(stroke_registry_data_path)\n",
    "full_data_df['patient_id'] = full_data_df['Case ID'].apply(lambda x: x[8:-4])\n",
    "full_data_df['EDS_last_4_digits'] = full_data_df['Case ID'].apply(lambda x: x[-4:])\n",
    "full_data_df['case_admission_id'] = full_data_df['patient_id'].astype(str) \\\n",
    "                                 + full_data_df['EDS_last_4_digits'].astype(str) \\\n",
    "                                 + '_' + pd.to_datetime(full_data_df['Arrival at hospital'], format='%Y%m%d').dt.strftime('%d%m%Y').astype(str)"
   ]
  },
  {
   "cell_type": "code",
   "execution_count": null,
   "metadata": {
    "pycharm": {
     "name": "#%%\n"
    }
   },
   "outputs": [],
   "source": [
    "patient_selection_df['case_admission_id'] = patient_selection_df['patient_id'].astype(str) \\\n",
    "                                 + patient_selection_df['EDS_last_4_digits'].astype(str) \\\n",
    "                                 + '_' + pd.to_datetime(patient_selection_df['Arrival at hospital'], format='%Y%m%d').dt.strftime('%d%m%Y').astype(str)\n",
    "selected_full_data_df = full_data_df[\n",
    "    full_data_df['case_admission_id'].isin(patient_selection_df['case_admission_id'].tolist())]\n"
   ]
  },
  {
   "cell_type": "code",
   "execution_count": null,
   "metadata": {
    "pycharm": {
     "name": "#%%\n"
    }
   },
   "outputs": [],
   "source": [
    "selected_full_data_df.head()"
   ]
  },
  {
   "cell_type": "code",
   "execution_count": null,
   "metadata": {
    "pycharm": {
     "name": "#%%\n"
    }
   },
   "outputs": [],
   "source": [
    "all_admission_data_df = selected_full_data_df[all_admission_data_columns+['case_admission_id']]"
   ]
  },
  {
   "cell_type": "code",
   "execution_count": null,
   "metadata": {
    "pycharm": {
     "name": "#%%\n"
    }
   },
   "outputs": [],
   "source": [
    "# count nan in every column of all_admission_data_df\n",
    "all_admission_data_df.isna().sum()"
   ]
  },
  {
   "cell_type": "code",
   "execution_count": null,
   "metadata": {
    "pycharm": {
     "name": "#%%\n"
    }
   },
   "outputs": [],
   "source": [
    "# plot percentage of present values in each column\n",
    "((all_admission_data_df.shape[0] - all_admission_data_df.isna().sum())/all_admission_data_df.shape[0]*100).plot.barh(figsize=(10,15), title='Percentage of present values in each column')\n",
    "plt.show()"
   ]
  },
  {
   "cell_type": "code",
   "execution_count": null,
   "metadata": {
    "pycharm": {
     "name": "#%%\n"
    }
   },
   "outputs": [],
   "source": [
    "selected_admission_data_columns = [\n",
    "\"Age (calc.)\",\n",
    "\"Sex\",\n",
    "\"Referral\",\n",
    "\"Prestroke disability (Rankin)\",\n",
    "\"NIH on admission\",\n",
    "\"1st syst. bp\",\n",
    "\"1st diast. bp\",\n",
    "\"Weight\",\n",
    "\"Antihypert. drugs pre-stroke\",\n",
    "\"Lipid lowering drugs pre-stroke\",\n",
    "\"Hormone repl. or contracept.\",\n",
    "\"Antiplatelet drugs\",\n",
    "\"Anticoagulants\",\n",
    "\"MedHist Stroke\",\n",
    "\"MedHist TIA\",\n",
    "\"MedHist ICH\",\n",
    "\"MedHist Hypertension\",\n",
    "\"MedHist Diabetes\",\n",
    "\"MedHist Hyperlipidemia\",\n",
    "\"MedHist Smoking\",\n",
    "\"MedHist Atrial Fibr.\",\n",
    "\"MedHist CHD\",\n",
    "\"MedHist Prost. heart valves\",\n",
    "\"MedHist PAD\",\n",
    "\"1st glucose\",\n",
    "\"1st cholesterol total\",\n",
    "\"1st cholesterol LDL\",\n",
    "\"1st creatinine\",\n",
    "]"
   ]
  },
  {
   "cell_type": "code",
   "execution_count": null,
   "metadata": {
    "pycharm": {
     "name": "#%%\n"
    }
   },
   "outputs": [],
   "source": [
    "selected_admission_data_df = all_admission_data_df[selected_admission_data_columns+['case_admission_id']]"
   ]
  },
  {
   "cell_type": "code",
   "execution_count": null,
   "metadata": {
    "pycharm": {
     "name": "#%%\n"
    }
   },
   "outputs": [],
   "source": [
    "# plot percentage of present values in each column\n",
    "((selected_admission_data_df.shape[0] - selected_admission_data_df.isna().sum())/selected_admission_data_df.shape[0]*100).plot.barh(figsize=(10,10), title='Percentage of present values in each column')\n",
    "plt.show()"
   ]
  },
  {
   "cell_type": "code",
   "execution_count": null,
   "metadata": {
    "pycharm": {
     "name": "#%%\n"
    }
   },
   "outputs": [],
   "source": [
    "# dropping some columns because of insufficient data or irrelevance\n",
    "admission_data_to_drop = [\n",
    "    'MedHist Prost. heart valves',\n",
    "    'Hormone repl. or contracept.'\n",
    "]"
   ]
  },
  {
   "cell_type": "code",
   "execution_count": null,
   "metadata": {
    "pycharm": {
     "name": "#%%\n"
    }
   },
   "outputs": [],
   "source": [
    "selected_admission_data_df.drop(admission_data_to_drop, axis=1, inplace=True)"
   ]
  },
  {
   "cell_type": "markdown",
   "metadata": {
    "collapsed": false,
    "pycharm": {
     "name": "#%% md\n"
    }
   },
   "source": [
    "# Restricting to plausible ranges"
   ]
  },
  {
   "cell_type": "code",
   "execution_count": null,
   "metadata": {
    "pycharm": {
     "name": "#%%\n"
    }
   },
   "outputs": [],
   "source": [
    "possible_value_ranges_file = os.path.join(os.path.dirname(os.path.dirname(os.path.abspath(''))),\n",
    "                                          'preprocessing', 'possible_ranges_for_variables.xlsx')\n",
    "possible_value_ranges = pd.read_excel(possible_value_ranges_file)"
   ]
  },
  {
   "cell_type": "code",
   "execution_count": null,
   "metadata": {
    "pycharm": {
     "name": "#%%\n"
    }
   },
   "outputs": [],
   "source": [
    "def restrict_variable_to_possible_ranges(df, variable_name, possible_value_ranges, verbose=False):\n",
    "    \"\"\"\n",
    "    Restricts a variable to the possible ranges in the possible_value_ranges dataframe.\n",
    "    \"\"\"\n",
    "    variable_range = possible_value_ranges[possible_value_ranges['variable_label'] == variable_name]\n",
    "    variable_range = variable_range.iloc[0]\n",
    "    clean_df = df.copy()\n",
    "    # set score to np.nan if outside of range\n",
    "    clean_df.loc[(df[variable_name] < variable_range['Min']), variable_name] = np.nan\n",
    "    clean_df.loc[(df[variable_name] > variable_range['Max']), variable_name] = np.nan\n",
    "    if verbose:\n",
    "        print(f'Excluding {clean_df[variable_name].isna().sum()} observations because out of range')\n",
    "    excluded_df = df[clean_df[variable_name].isna()]\n",
    "    return clean_df, excluded_df"
   ]
  },
  {
   "cell_type": "code",
   "execution_count": null,
   "metadata": {
    "pycharm": {
     "name": "#%%\n"
    }
   },
   "outputs": [],
   "source": [
    "for admission_column in selected_admission_data_columns:\n",
    "    if (selected_admission_data_df[admission_column].dtype == 'object'):\n",
    "        print(admission_column)\n",
    "        print(selected_admission_data_df[admission_column].value_counts())\n",
    "        print('\\n')"
   ]
  },
  {
   "cell_type": "code",
   "execution_count": null,
   "metadata": {
    "pycharm": {
     "name": "#%%\n"
    }
   },
   "outputs": [],
   "source": [
    "for admission_column in selected_admission_data_columns:\n",
    "    if (selected_admission_data_df[admission_column].dtype != 'object'):\n",
    "        print(admission_column)\n",
    "        print(selected_admission_data_df[admission_column].describe())\n",
    "        print('\\n')"
   ]
  },
  {
   "cell_type": "code",
   "execution_count": null,
   "metadata": {
    "pycharm": {
     "name": "#%%\n"
    }
   },
   "outputs": [],
   "source": [
    "selected_admission_data_df.rename(columns={'Weight':'weight'}, inplace=True)\n",
    "selected_admission_data_df, excluded_weight_df = restrict_variable_to_possible_ranges(selected_admission_data_df, 'weight', possible_value_ranges, verbose=True)"
   ]
  },
  {
   "cell_type": "code",
   "execution_count": null,
   "metadata": {
    "pycharm": {
     "name": "#%%\n"
    }
   },
   "outputs": [],
   "source": [
    "selected_admission_data_df.rename(columns={'Age (calc.)':'age'}, inplace=True)\n",
    "selected_admission_data_df, excluded_age_df = restrict_variable_to_possible_ranges(selected_admission_data_df, 'age', possible_value_ranges, verbose=True)"
   ]
  },
  {
   "cell_type": "code",
   "execution_count": null,
   "metadata": {
    "pycharm": {
     "name": "#%%\n"
    }
   },
   "outputs": [],
   "source": [
    "selected_admission_data_df.rename(columns={'1st syst. bp':'sys'}, inplace=True)\n",
    "selected_admission_data_df, excluded_sys_df = restrict_variable_to_possible_ranges(selected_admission_data_df, 'sys', possible_value_ranges, verbose=True)\n",
    "selected_admission_data_df.rename(columns={'sys':'systolic_blood_pressure'}, inplace=True)"
   ]
  },
  {
   "cell_type": "code",
   "execution_count": null,
   "metadata": {
    "pycharm": {
     "name": "#%%\n"
    }
   },
   "outputs": [],
   "source": [
    "selected_admission_data_df.rename(columns={'1st diast. bp':'dia'}, inplace=True)\n",
    "selected_admission_data_df, excluded_dia_df = restrict_variable_to_possible_ranges(selected_admission_data_df, 'dia', possible_value_ranges, verbose=True)\n",
    "selected_admission_data_df.rename(columns={'dia':'diastolic_blood_pressure'}, inplace=True)"
   ]
  },
  {
   "cell_type": "code",
   "execution_count": null,
   "metadata": {
    "pycharm": {
     "name": "#%%\n"
    }
   },
   "outputs": [],
   "source": [
    "selected_admission_data_df.rename(columns={'1st glucose':'glucose'}, inplace=True)\n",
    "selected_admission_data_df, excluded_glucose_df = restrict_variable_to_possible_ranges(selected_admission_data_df, 'glucose', possible_value_ranges, verbose=True)"
   ]
  },
  {
   "cell_type": "code",
   "execution_count": null,
   "metadata": {
    "pycharm": {
     "name": "#%%\n"
    }
   },
   "outputs": [],
   "source": [
    "selected_admission_data_df.rename(columns={'1st creatinine':'creatinine'}, inplace=True)\n",
    "selected_admission_data_df, excluded_creatinine_df = restrict_variable_to_possible_ranges(selected_admission_data_df, 'creatinine', possible_value_ranges, verbose=True)"
   ]
  },
  {
   "cell_type": "markdown",
   "metadata": {
    "collapsed": false,
    "pycharm": {
     "name": "#%% md\n"
    }
   },
   "source": [
    "Restrict to less categories\n",
    "- Group Medhist Stroke/TIA/ICH\n",
    "- Group Referral subgroups\n"
   ]
  },
  {
   "cell_type": "code",
   "execution_count": null,
   "metadata": {
    "pycharm": {
     "name": "#%%\n"
    }
   },
   "outputs": [],
   "source": [
    "selected_admission_data_df['MedHist cerebrovascular_event'] = (selected_admission_data_df[['MedHist Stroke', 'MedHist TIA', 'MedHist ICH']] == 'yes').any(axis=1)\n",
    "selected_admission_data_df[['MedHist cerebrovascular_event', 'MedHist Stroke', 'MedHist TIA', 'MedHist ICH']].head()"
   ]
  },
  {
   "cell_type": "code",
   "execution_count": null,
   "metadata": {
    "pycharm": {
     "name": "#%%\n"
    }
   },
   "outputs": [],
   "source": [
    "selected_admission_data_df.drop(columns=['MedHist Stroke', 'MedHist TIA', 'MedHist ICH'], inplace=True)"
   ]
  },
  {
   "cell_type": "code",
   "execution_count": null,
   "metadata": {
    "pycharm": {
     "name": "#%%\n"
    }
   },
   "outputs": [],
   "source": [
    "selected_admission_data_df.loc[selected_admission_data_df['Referral'] == 'Other Stroke Unit or Stroke Center', 'Referral'] = 'Other hospital'\n",
    "selected_admission_data_df.loc[selected_admission_data_df['Referral'] == 'General Practitioner', 'Referral'] = 'Self referral'"
   ]
  },
  {
   "cell_type": "code",
   "execution_count": null,
   "metadata": {
    "pycharm": {
     "name": "#%%\n"
    }
   },
   "outputs": [],
   "source": [
    "selected_admission_data_df['Referral'].value_counts()"
   ]
  },
  {
   "cell_type": "code",
   "execution_count": null,
   "metadata": {
    "pycharm": {
     "name": "#%%\n"
    }
   },
   "outputs": [],
   "source": [
    "# plot percentage of present values in each column\n",
    "((selected_admission_data_df.shape[0] - selected_admission_data_df.isna().sum())/selected_admission_data_df.shape[0]*100).plot.barh(figsize=(10,10), title='Percentage of present values in each column')\n",
    "plt.show()"
   ]
  },
  {
   "cell_type": "code",
   "execution_count": null,
   "metadata": {
    "pycharm": {
     "name": "#%%\n"
    }
   },
   "outputs": [],
   "source": [
    "for column in selected_admission_data_df.columns:\n",
    "    print(f'{column}: {len(selected_admission_data_df[column].unique())} of which nan {selected_admission_data_df[column].isna().sum()}')"
   ]
  },
  {
   "cell_type": "markdown",
   "metadata": {
    "collapsed": false,
    "pycharm": {
     "name": "#%% md\n"
    }
   },
   "source": [
    "### Dealing with missing values\n",
    "- for variables with DPI overlap -> leave NaN for now (should be dealt with after fusion)\n",
    "- for age -> check eds database (does not work)\n",
    "- for variables with no DPI overlap -> fill with median"
   ]
  },
  {
   "cell_type": "code",
   "execution_count": null,
   "metadata": {
    "pycharm": {
     "name": "#%%\n"
    }
   },
   "outputs": [],
   "source": [
    "eds_df_path = '/Users/jk1/stroke_datasets/stroke_unit_dataset/per_value/Extraction_20211110/eds_j1.csv'"
   ]
  },
  {
   "cell_type": "code",
   "execution_count": null,
   "metadata": {
    "pycharm": {
     "name": "#%%\n"
    }
   },
   "outputs": [],
   "source": [
    "eds_df = pd.read_csv(eds_df_path, sep=';', dtype=str)"
   ]
  },
  {
   "cell_type": "code",
   "execution_count": null,
   "metadata": {
    "pycharm": {
     "name": "#%%\n"
    }
   },
   "outputs": [],
   "source": [
    "eds_df.head()"
   ]
  },
  {
   "cell_type": "code",
   "execution_count": null,
   "metadata": {
    "pycharm": {
     "name": "#%%\n"
    }
   },
   "outputs": [],
   "source": [
    "from preprocessing.utils import create_ehr_case_identification_column\n",
    "\n",
    "eds_df['case_admission_id'] = create_ehr_case_identification_column(eds_df)"
   ]
  },
  {
   "cell_type": "code",
   "execution_count": null,
   "metadata": {
    "pycharm": {
     "name": "#%%\n"
    }
   },
   "outputs": [],
   "source": [
    "eds_df['age'] = (pd.to_datetime(eds_df['begin_date'], format='%d.%m.%Y %H:%M') - pd.to_datetime(eds_df['DOB'], format='%d.%m.%Y %H:%M')).dt.days / 365.25\n",
    "eds_df[['age', 'DOB', 'begin_date']].head()"
   ]
  },
  {
   "cell_type": "code",
   "execution_count": null,
   "metadata": {
    "pycharm": {
     "name": "#%%\n"
    }
   },
   "outputs": [],
   "source": [
    "for case_admission_id in selected_admission_data_df['case_admission_id'].unique():\n",
    "    if selected_admission_data_df[selected_admission_data_df['case_admission_id'] == case_admission_id]['age'].isna().all():\n",
    "        print(case_admission_id)\n",
    "        print(eds_df[eds_df['case_admission_id'] == case_admission_id][['age', 'DOB', 'begin_date']])"
   ]
  },
  {
   "cell_type": "markdown",
   "metadata": {
    "collapsed": false,
    "pycharm": {
     "name": "#%% md\n"
    }
   },
   "source": [
    "Impression: fetching age from eds database does not work"
   ]
  },
  {
   "cell_type": "code",
   "execution_count": null,
   "metadata": {
    "pycharm": {
     "name": "#%%\n"
    }
   },
   "outputs": [],
   "source": [
    "variables_with_dpi_overlap = ['case_admission_id', 'systolic_blood_pressure', 'diastolic_blood_pressure', 'glucose', 'creatinine', 'NIH on admission', 'weight']\n",
    "print('Variables without DPI overlap')\n",
    "print(set(selected_admission_data_df.columns) - set(variables_with_dpi_overlap))"
   ]
  },
  {
   "cell_type": "code",
   "execution_count": null,
   "metadata": {
    "pycharm": {
     "name": "#%%\n"
    }
   },
   "outputs": [],
   "source": [
    "continuous_variables = ['age']"
   ]
  },
  {
   "cell_type": "code",
   "execution_count": null,
   "metadata": {
    "pycharm": {
     "name": "#%%\n"
    }
   },
   "outputs": [],
   "source": [
    "for variable in selected_admission_data_df.columns:\n",
    "    if variable in variables_with_dpi_overlap:\n",
    "        continue\n",
    "    if variable in continuous_variables:\n",
    "        selected_admission_data_df[variable].fillna(selected_admission_data_df[variable].median(skipna=True), inplace=True)\n",
    "    else:\n",
    "        selected_admission_data_df[variable].fillna(selected_admission_data_df[variable].mode(dropna=True)[0], inplace=True)"
   ]
  },
  {
   "cell_type": "code",
   "execution_count": null,
   "metadata": {
    "pycharm": {
     "name": "#%%\n"
    }
   },
   "outputs": [],
   "source": [
    "for column in selected_admission_data_df.columns:\n",
    "    print(f'{column}: {len(selected_admission_data_df[column].unique())} of which nan {selected_admission_data_df[column].isna().sum()}')"
   ]
  },
  {
   "cell_type": "code",
   "execution_count": null,
   "metadata": {
    "pycharm": {
     "name": "#%%\n"
    }
   },
   "outputs": [],
   "source": [
    "pd.melt(selected_admission_data_df, id_vars=['case_admission_id'])"
   ]
  },
  {
   "cell_type": "code",
   "execution_count": null,
   "metadata": {
    "pycharm": {
     "name": "#%%\n"
    }
   },
   "outputs": [],
   "source": []
  }
 ],
 "metadata": {
  "kernelspec": {
   "display_name": "Python 3",
   "language": "python",
   "name": "python3"
  },
  "language_info": {
   "codemirror_mode": {
    "name": "ipython",
    "version": 2
   },
   "file_extension": ".py",
   "mimetype": "text/x-python",
   "name": "python",
   "nbconvert_exporter": "python",
   "pygments_lexer": "ipython2",
   "version": "2.7.6"
  }
 },
 "nbformat": 4,
 "nbformat_minor": 0
}
