{
 "cells": [
  {
   "cell_type": "code",
   "execution_count": null,
   "metadata": {
    "pycharm": {
     "name": "#%%\n"
    }
   },
   "outputs": [],
   "source": [
    "import pandas as pd\n",
    "from matplotlib import pyplot as plt\n",
    "import os"
   ]
  },
  {
   "cell_type": "code",
   "execution_count": null,
   "metadata": {
    "pycharm": {
     "name": "#%%\n"
    }
   },
   "outputs": [],
   "source": [
    "stroke_registry_data_path = '/Users/jk1/OneDrive - unige.ch/stroke_research/geneva_stroke_unit_dataset/data/stroke_registry/post_hoc_modified/stroke_registry_post_hoc_modified.xlsx'\n",
    "patient_selection = '/Users/jk1/temp/opsum_extration_output/high_frequency_data_patient_selection.csv'\n",
    "out_dir = '/Users/jk1/temp/opsum_extration_output'"
   ]
  },
  {
   "cell_type": "code",
   "execution_count": null,
   "metadata": {
    "pycharm": {
     "name": "#%%\n"
    }
   },
   "outputs": [],
   "source": [
    "patient_selection_df = pd.read_csv(patient_selection, dtype=str)\n",
    "full_data_df = pd.read_excel(stroke_registry_data_path)"
   ]
  },
  {
   "cell_type": "code",
   "execution_count": null,
   "metadata": {
    "pycharm": {
     "name": "#%%\n"
    }
   },
   "outputs": [],
   "source": [
    "full_data_df['patient_id'] = full_data_df['Case ID'].apply(lambda x: x[8:-4])\n",
    "full_data_df['EDS_last_4_digits'] = full_data_df['Case ID'].apply(lambda x: x[-4:])\n",
    "full_data_df['case_admission_id'] = full_data_df['patient_id'].astype(str) + full_data_df['EDS_last_4_digits'].astype(str) + '_' + pd.to_datetime(full_data_df['Arrival at hospital'], format='%Y%m%d').dt.strftime('%d%m%Y').astype(str)\n",
    "patient_selection_df['case_admission_id'] = patient_selection_df['patient_id'].astype(str) + patient_selection_df['EDS_last_4_digits'].astype(str) + '_' + pd.to_datetime(patient_selection_df['Arrival at hospital'], format='%Y%m%d').dt.strftime('%d%m%Y').astype(str)"
   ]
  },
  {
   "cell_type": "code",
   "execution_count": null,
   "metadata": {
    "pycharm": {
     "name": "#%%\n"
    }
   },
   "outputs": [],
   "source": [
    "selected_full_data_df = full_data_df[\n",
    "    full_data_df['case_admission_id'].isin(patient_selection_df['case_admission_id'].tolist())]\n",
    "\n",
    "selected_full_data_df['begin_date'] = pd.to_datetime(selected_full_data_df['Arrival at hospital'],\n",
    "                                                     format='%Y%m%d').dt.strftime('%d.%m.%Y') + ' ' + selected_full_data_df['Arrival time']"
   ]
  },
  {
   "cell_type": "code",
   "execution_count": null,
   "metadata": {
    "pycharm": {
     "name": "#%%\n"
    }
   },
   "outputs": [],
   "source": [
    "selected_full_data_df['onset_datetime'] = pd.to_datetime(pd.to_datetime(selected_full_data_df['Onset date'], format='%Y%m%d').dt.strftime('%d-%m-%Y') \\\n",
    "                                        + ' ' + selected_full_data_df['Onset time'], format='%d-%m-%Y %H:%M')\n",
    "selected_full_data_df['imaging_datetime'] = pd.to_datetime(pd.to_datetime(selected_full_data_df['1st brain imaging date'], format='%Y%m%d').dt.strftime('%d-%m-%Y') \\\n",
    "                                        + ' ' + selected_full_data_df['1st brain imaging time'], format='%d-%m-%Y %H:%M')"
   ]
  },
  {
   "cell_type": "code",
   "execution_count": null,
   "metadata": {
    "pycharm": {
     "name": "#%%\n"
    }
   },
   "outputs": [],
   "source": [
    "selected_full_data_df['begin_date']"
   ]
  },
  {
   "cell_type": "code",
   "execution_count": null,
   "metadata": {
    "pycharm": {
     "name": "#%%\n"
    }
   },
   "outputs": [],
   "source": [
    "selected_full_data_df['onset_to_imaging_min'] = (pd.to_datetime(selected_full_data_df['imaging_datetime'], format='%d-%m-%Y %H:%M:%S') - pd.to_datetime(selected_full_data_df['onset_datetime'], format='%d-%m-%Y %H:%M:%S')).dt.total_seconds() / 60\n",
    "selected_full_data_df['door_to_image_min'] = (pd.to_datetime(selected_full_data_df['imaging_datetime'], format='%d-%m-%Y %H:%M:%S') - pd.to_datetime(selected_full_data_df['begin_date'], format='%d.%m.%Y %H:%M')).dt.total_seconds() / 60\n",
    "selected_full_data_df['onset_to_admission_min'] = (pd.to_datetime(selected_full_data_df['begin_date'], format='%d.%m.%Y %H:%M') - pd.to_datetime(selected_full_data_df['onset_datetime'], format='%d-%m-%Y %H:%M:%S')).dt.total_seconds() / 60"
   ]
  },
  {
   "cell_type": "code",
   "execution_count": null,
   "metadata": {
    "pycharm": {
     "name": "#%%\n"
    }
   },
   "outputs": [],
   "source": [
    "ax = selected_full_data_df.plot.scatter(x='onset_to_imaging_min', y='onset_to_admission_min', color='blue')\n",
    "selected_full_data_df.plot.scatter(x='onset_to_imaging_min', y='door_to_image_min', color='red', ax=ax)\n",
    "ax.set_xlim([0, 1880])\n",
    "ax.set_ylim([0, 1880])\n",
    "plt.show()\n"
   ]
  },
  {
   "cell_type": "code",
   "execution_count": null,
   "metadata": {
    "pycharm": {
     "name": "#%%\n"
    }
   },
   "outputs": [],
   "source": [
    "selected_full_data_df['onset_to_imaging_min'].isna().sum()"
   ]
  },
  {
   "cell_type": "code",
   "execution_count": null,
   "metadata": {
    "pycharm": {
     "name": "#%%\n"
    }
   },
   "outputs": [],
   "source": [
    "selected_full_data_df[['onset_datetime', 'imaging_datetime', 'onset_to_admission_min', 'onset_to_imaging_min', 'door_to_image_min', 'Door to image (min.)', '1st brain imaging type']]"
   ]
  },
  {
   "cell_type": "code",
   "execution_count": null,
   "metadata": {
    "pycharm": {
     "name": "#%%\n"
    }
   },
   "outputs": [],
   "source": [
    "selected_full_data_df[selected_full_data_df['onset_to_admission_min'] > 0]['onset_to_admission_min'].quantile(0.05)"
   ]
  },
  {
   "cell_type": "code",
   "execution_count": null,
   "metadata": {
    "pycharm": {
     "name": "#%%\n"
    }
   },
   "outputs": [],
   "source": [
    "selected_full_data_df[selected_full_data_df['onset_to_admission_min'] > 0]['onset_to_admission_min'].quantile(0.95)"
   ]
  },
  {
   "cell_type": "code",
   "execution_count": null,
   "metadata": {
    "pycharm": {
     "name": "#%%\n"
    }
   },
   "outputs": [],
   "source": [
    "selected_full_data_df['Time of symptom onset known'].value_counts()"
   ]
  },
  {
   "cell_type": "code",
   "execution_count": null,
   "metadata": {
    "pycharm": {
     "name": "#%%\n"
    }
   },
   "outputs": [],
   "source": [
    "temp_df = selected_full_data_df[(selected_full_data_df['Referral'] != 'In-hospital event') & ((selected_full_data_df[\"onset_to_admission_min\"] > 96 * 60) | (selected_full_data_df[\"onset_to_admission_min\"] < 0)) & (selected_full_data_df['Time of symptom onset known'] != 'no')]\n",
    "temp_df[['Case ID', 'onset_to_admission_min', 'onset_datetime', 'begin_date', 'imaging_datetime', 'Referral']]"
   ]
  },
  {
   "cell_type": "code",
   "execution_count": null,
   "metadata": {
    "pycharm": {
     "name": "#%%\n"
    }
   },
   "outputs": [],
   "source": [
    "# temp_df.to_excel(os.path.join(out_dir, 'onset_to_admission_min_outlier.xlsx'))"
   ]
  },
  {
   "cell_type": "code",
   "execution_count": null,
   "metadata": {
    "pycharm": {
     "name": "#%%\n"
    }
   },
   "outputs": [],
   "source": [
    "temp_df = selected_full_data_df[(selected_full_data_df['Referral'] != 'In-hospital event') & (selected_full_data_df['Time of symptom onset known'] != 'no') & (selected_full_data_df[\"onset_to_admission_min\"] < 96 * 60)]\n",
    "ax = temp_df['onset_to_admission_min'].plot.hist(bins=100)\n",
    "ax.set_xlim([0, 2880])\n",
    "plt.show()"
   ]
  },
  {
   "cell_type": "markdown",
   "metadata": {
    "collapsed": false,
    "pycharm": {
     "name": "#%% md\n"
    }
   },
   "source": [
    "## Categorize onset to admission timings\n",
    "\n",
    "Categories\n",
    "- onset_unknown\n",
    "- intra_hospital\n",
    "- <270min (4.5h)\n",
    "- 271-540min (9h)\n",
    "- 541-1440min (24h)\n",
    "- \\>1440min"
   ]
  },
  {
   "cell_type": "code",
   "execution_count": null,
   "metadata": {
    "pycharm": {
     "name": "#%%\n"
    }
   },
   "outputs": [],
   "source": [
    "selected_full_data_df['categorical_onset_to_admission_time'] = pd.cut(selected_full_data_df['onset_to_admission_min'],\n",
    "                                                  bins=[-float(\"inf\"), 270, 540,1440,float(\"inf\")],\n",
    "                                                  labels=['<270min', '271-540min', '541-1440min', '>1440min'])"
   ]
  },
  {
   "cell_type": "code",
   "execution_count": null,
   "metadata": {
    "pycharm": {
     "name": "#%%\n"
    }
   },
   "outputs": [],
   "source": [
    "selected_full_data_df['categorical_onset_to_admission_time'] = selected_full_data_df['categorical_onset_to_admission_time'].cat.add_categories('intra_hospital')\n",
    "selected_full_data_df['categorical_onset_to_admission_time'] = selected_full_data_df['categorical_onset_to_admission_time'].cat.add_categories('onset_unknown')"
   ]
  },
  {
   "cell_type": "code",
   "execution_count": null,
   "metadata": {
    "pycharm": {
     "name": "#%%\n"
    }
   },
   "outputs": [],
   "source": [
    "selected_full_data_df.loc[selected_full_data_df['Referral'] == 'In-hospital event', 'categorical_onset_to_admission_time'] = 'intra_hospital'"
   ]
  },
  {
   "cell_type": "code",
   "execution_count": null,
   "metadata": {
    "pycharm": {
     "name": "#%%\n"
    }
   },
   "outputs": [],
   "source": [
    "selected_full_data_df.loc[selected_full_data_df['Time of symptom onset known'] == 'no', 'categorical_onset_to_admission_time'] = 'onset_unknown'"
   ]
  },
  {
   "cell_type": "code",
   "execution_count": null,
   "metadata": {
    "pycharm": {
     "name": "#%%\n"
    }
   },
   "outputs": [],
   "source": [
    "selected_full_data_df[['categorical_onset_to_admission_time', 'onset_to_admission_min']]"
   ]
  },
  {
   "cell_type": "code",
   "execution_count": null,
   "metadata": {
    "pycharm": {
     "name": "#%%\n"
    }
   },
   "outputs": [],
   "source": [
    "selected_full_data_df['categorical_onset_to_admission_time'].value_counts()"
   ]
  },
  {
   "cell_type": "code",
   "execution_count": null,
   "metadata": {
    "pycharm": {
     "name": "#%%\n"
    }
   },
   "outputs": [],
   "source": [
    "selected_full_data_df['Time of symptom onset known'].value_counts()"
   ]
  },
  {
   "cell_type": "code",
   "execution_count": null,
   "metadata": {
    "pycharm": {
     "name": "#%%\n"
    }
   },
   "outputs": [],
   "source": [
    "selected_full_data_df['wake_up_stroke'] = selected_full_data_df['Time of symptom onset known'].apply(lambda x: True if x == 'wake up'else False)"
   ]
  },
  {
   "cell_type": "code",
   "execution_count": null,
   "metadata": {
    "pycharm": {
     "name": "#%%\n"
    }
   },
   "outputs": [],
   "source": [
    "timing_columns = ['categorical_onset_to_admission_time', 'wake_up_stroke']"
   ]
  },
  {
   "cell_type": "code",
   "execution_count": null,
   "metadata": {
    "pycharm": {
     "name": "#%%\n"
    }
   },
   "outputs": [],
   "source": [
    "timing_df = selected_full_data_df[timing_columns + ['case_admission_id', 'begin_date']]"
   ]
  },
  {
   "cell_type": "code",
   "execution_count": null,
   "metadata": {
    "pycharm": {
     "name": "#%%\n"
    }
   },
   "outputs": [],
   "source": [
    "timing_df.isna().sum()"
   ]
  },
  {
   "cell_type": "code",
   "execution_count": null,
   "metadata": {
    "pycharm": {
     "name": "#%%\n"
    }
   },
   "outputs": [],
   "source": [
    "timing_df = pd.melt(timing_df, id_vars=['case_admission_id', 'begin_date'], var_name='sample_label')\n",
    "timing_df"
   ]
  },
  {
   "cell_type": "code",
   "execution_count": null,
   "metadata": {
    "pycharm": {
     "name": "#%%\n"
    }
   },
   "outputs": [],
   "source": [
    "from preprocessing.stroke_registry_params_preprocessing.timing_params_preprocessing import preprocess_timing_params\n",
    "\n",
    "timing_bis = preprocess_timing_params(selected_full_data_df)"
   ]
  },
  {
   "cell_type": "code",
   "execution_count": null,
   "metadata": {
    "pycharm": {
     "name": "#%%\n"
    }
   },
   "outputs": [],
   "source": [
    "(timing_df == timing_bis).all()"
   ]
  },
  {
   "cell_type": "code",
   "execution_count": null,
   "metadata": {
    "pycharm": {
     "name": "#%%\n"
    }
   },
   "outputs": [],
   "source": []
  }
 ],
 "metadata": {
  "kernelspec": {
   "display_name": "Python 3",
   "language": "python",
   "name": "python3"
  },
  "language_info": {
   "codemirror_mode": {
    "name": "ipython",
    "version": 2
   },
   "file_extension": ".py",
   "mimetype": "text/x-python",
   "name": "python",
   "nbconvert_exporter": "python",
   "pygments_lexer": "ipython2",
   "version": "2.7.6"
  }
 },
 "nbformat": 4,
 "nbformat_minor": 0
}
