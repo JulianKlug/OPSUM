{
 "cells": [
  {
   "cell_type": "markdown",
   "metadata": {
    "collapsed": false
   },
   "source": [
    "# Attempt of extraction of patient notes"
   ]
  },
  {
   "cell_type": "code",
   "execution_count": null,
   "metadata": {},
   "outputs": [],
   "source": [
    "# Import libraries\n",
    "import numpy as np\n",
    "import pandas as pd\n",
    "import matplotlib.pyplot as plt\n",
    "import psycopg2\n",
    "import os"
   ]
  },
  {
   "cell_type": "code",
   "execution_count": null,
   "metadata": {},
   "outputs": [],
   "source": [
    "%matplotlib inline\n",
    "plt.style.use('ggplot')\n",
    "\n",
    "# information used to create a database connection\n",
    "sqluser = 'postgres'\n",
    "sqlpassword = 'postgres'\n",
    "dbname = 'mimic'\n",
    "schema_name = 'mimiciii'\n",
    "\n",
    "# Connect to postgres with a copy of the MIMIC-III database\n",
    "# con = psycopg2.connect(dbname=dbname, user=sqluser)\n",
    "con = psycopg2.connect(dbname=dbname, user=sqluser, password=sqlpassword, port=5000, host='localhost')\n",
    "\n",
    "# the below statement is prepended to queries to ensure they select from the right schema\n",
    "query_schema = 'set search_path to ' + schema_name + ';'"
   ]
  },
  {
   "cell_type": "code",
   "execution_count": null,
   "metadata": {},
   "outputs": [],
   "source": [
    "from prediction.utils.utils import ensure_dir\n",
    "\n",
    "output_dir = '/Users/jk1/temp/mimic/extraction/'"
   ]
  },
  {
   "cell_type": "code",
   "execution_count": null,
   "metadata": {},
   "outputs": [],
   "source": [
    "selection_query_path = '../patient_selection_query.sql'\n",
    "# load in the text of the query\n",
    "with open(selection_query_path) as fp:\n",
    "    patient_selection_query = ''.join(fp.readlines())"
   ]
  },
  {
   "cell_type": "markdown",
   "metadata": {
    "collapsed": false
   },
   "source": [
    "## Extract admission notes"
   ]
  },
  {
   "cell_type": "code",
   "execution_count": null,
   "metadata": {},
   "outputs": [],
   "source": [
    "query = query_schema + patient_selection_query + \"\"\"\n",
    "\n",
    "SELECT selection.subject_id, selection.hadm_id, selection.icustay_id, admissions.admittime, notes.charttime, icustays.intime, notes.category, notes.description, notes.text\n",
    "\n",
    "FROM selection\n",
    "\n",
    "LEFT JOIN noteevents as notes\n",
    "    on selection.hadm_id = notes.hadm_id\n",
    "\n",
    "LEFT JOIN admissions\n",
    "    on selection.hadm_id = admissions.hadm_id\n",
    "\n",
    "LEFT JOIN icustays\n",
    "    on selection.hadm_id = icustays.hadm_id\n",
    "\n",
    "\n",
    "WHERE selection.exclusion_discharge_diagnosis = 0\n",
    "    AND selection.exclusion_first_stay = 0\n",
    "    AND selection.exclusion_age = 0\n",
    "    AND selection.exclusion_los = 0\n",
    "    AND selection.exclusion_non_urgent = 0\n",
    "    AND selection.exclusion_admission_diagnosis = 0\n",
    "\n",
    "    AND LOWER(notes.description) LIKE '%admission%'\n",
    "    AND notes.description != 'Social Work Admission Note'\n",
    "\"\"\"\n",
    "admission_notes_df = pd.read_sql_query(query, con)\n",
    "admission_notes_df"
   ]
  },
  {
   "cell_type": "code",
   "execution_count": null,
   "metadata": {},
   "outputs": [],
   "source": [
    "admission_notes_df.hadm_id.nunique()"
   ]
  },
  {
   "cell_type": "code",
   "execution_count": null,
   "metadata": {},
   "outputs": [],
   "source": [
    "admission_notes_df.category.value_counts()"
   ]
  },
  {
   "cell_type": "code",
   "execution_count": null,
   "metadata": {},
   "outputs": [],
   "source": [
    "admission_notes_df.description.value_counts()\n"
   ]
  },
  {
   "cell_type": "markdown",
   "metadata": {
    "collapsed": false
   },
   "source": [
    "## Extract discharge notes"
   ]
  },
  {
   "cell_type": "code",
   "execution_count": null,
   "metadata": {},
   "outputs": [],
   "source": [
    "query = query_schema + patient_selection_query + \"\"\"\n",
    "\n",
    "SELECT selection.subject_id, selection.hadm_id, selection.icustay_id, admissions.admittime, notes.charttime, icustays.intime, notes.category, notes.description, notes.text\n",
    "\n",
    "FROM selection\n",
    "\n",
    "LEFT JOIN noteevents as notes\n",
    "    on selection.hadm_id = notes.hadm_id\n",
    "\n",
    "LEFT JOIN admissions\n",
    "    on selection.hadm_id = admissions.hadm_id\n",
    "\n",
    "LEFT JOIN icustays\n",
    "    on selection.hadm_id = icustays.hadm_id\n",
    "\n",
    "WHERE selection.exclusion_discharge_diagnosis = 0\n",
    "    AND selection.exclusion_first_stay = 0\n",
    "    AND selection.exclusion_age = 0\n",
    "    AND selection.exclusion_los = 0\n",
    "    AND selection.exclusion_non_urgent = 0\n",
    "    AND selection.exclusion_admission_diagnosis = 0\n",
    "\n",
    "    AND notes.category = 'Discharge summary'\n",
    "\"\"\"\n",
    "\n",
    "discharge_notes_df = pd.read_sql_query(query, con)\n",
    "discharge_notes_df"
   ]
  },
  {
   "cell_type": "code",
   "execution_count": null,
   "metadata": {},
   "outputs": [],
   "source": [
    "discharge_notes_df.head()"
   ]
  },
  {
   "cell_type": "code",
   "execution_count": null,
   "metadata": {},
   "outputs": [],
   "source": [
    "discharge_notes_df.hadm_id.nunique()"
   ]
  },
  {
   "cell_type": "code",
   "execution_count": null,
   "metadata": {},
   "outputs": [],
   "source": [
    "discharge_notes_df.category.value_counts()"
   ]
  },
  {
   "cell_type": "code",
   "execution_count": null,
   "metadata": {},
   "outputs": [],
   "source": [
    "discharge_notes_df.description.value_counts()"
   ]
  },
  {
   "cell_type": "markdown",
   "metadata": {
    "collapsed": false
   },
   "source": [
    "## Discharge notes containing NIHSS\n",
    "\n",
    "specific string: NIH"
   ]
  },
  {
   "cell_type": "code",
   "execution_count": null,
   "metadata": {},
   "outputs": [],
   "source": [
    "query = query_schema + patient_selection_query + \"\"\"\n",
    "\n",
    "SELECT selection.subject_id, selection.hadm_id, selection.icustay_id, admissions.admittime, notes.charttime, icustays.intime, notes.category, notes.description, notes.text\n",
    "\n",
    "FROM selection\n",
    "\n",
    "LEFT JOIN noteevents as notes\n",
    "    on selection.hadm_id = notes.hadm_id\n",
    "\n",
    "LEFT JOIN admissions\n",
    "    on selection.hadm_id = admissions.hadm_id\n",
    "\n",
    "LEFT JOIN icustays\n",
    "    on selection.hadm_id = icustays.hadm_id\n",
    "\n",
    "WHERE selection.exclusion_discharge_diagnosis = 0\n",
    "    AND selection.exclusion_first_stay = 0\n",
    "    AND selection.exclusion_age = 0\n",
    "    AND selection.exclusion_los = 0\n",
    "    AND selection.exclusion_non_urgent = 0\n",
    "    AND selection.exclusion_admission_diagnosis = 0\n",
    "\n",
    "    AND notes.category = 'Discharge summary'\n",
    "    AND LOWER(notes.text) LIKE '%nih%'\n",
    "\"\"\"\n",
    "\n",
    "nih_discharge_notes_df = pd.read_sql_query(query, con)\n",
    "nih_discharge_notes_df"
   ]
  },
  {
   "cell_type": "markdown",
   "metadata": {
    "collapsed": false
   },
   "source": [
    "## Extract social work notes\n",
    "-> should be used for mRS"
   ]
  },
  {
   "cell_type": "code",
   "execution_count": null,
   "metadata": {},
   "outputs": [],
   "source": [
    "query = query_schema + patient_selection_query + \"\"\"\n",
    "\n",
    "SELECT selection.subject_id, selection.hadm_id, selection.icustay_id, admissions.admittime, notes.charttime, icustays.intime, notes.category, notes.description, notes.text\n",
    "\n",
    "FROM selection\n",
    "\n",
    "LEFT JOIN noteevents as notes\n",
    "    on selection.hadm_id = notes.hadm_id\n",
    "\n",
    "LEFT JOIN admissions\n",
    "    on selection.hadm_id = admissions.hadm_id\n",
    "\n",
    "LEFT JOIN icustays\n",
    "    on selection.hadm_id = icustays.hadm_id\n",
    "\n",
    "WHERE selection.exclusion_discharge_diagnosis = 0\n",
    "    AND selection.exclusion_first_stay = 0\n",
    "    AND selection.exclusion_age = 0\n",
    "    AND selection.exclusion_los = 0\n",
    "    AND selection.exclusion_non_urgent = 0\n",
    "    AND selection.exclusion_admission_diagnosis = 0\n",
    "\n",
    "    AND notes.category = 'Social Work'\n",
    "\"\"\"\n",
    "\n",
    "social_work_notes = pd.read_sql_query(query, con)\n",
    "social_work_notes"
   ]
  },
  {
   "cell_type": "markdown",
   "metadata": {
    "collapsed": false
   },
   "source": [
    "## Save notes text"
   ]
  },
  {
   "cell_type": "markdown",
   "metadata": {
    "collapsed": false
   },
   "source": [
    "save discharge notes"
   ]
  },
  {
   "cell_type": "code",
   "execution_count": null,
   "metadata": {},
   "outputs": [],
   "source": [
    "discharge_notes_df_output_dir = os.path.join(output_dir, 'discharge_notes')\n",
    "ensure_dir(discharge_notes_df_output_dir)"
   ]
  },
  {
   "cell_type": "code",
   "execution_count": null,
   "metadata": {},
   "outputs": [],
   "source": [
    "for index, row in discharge_notes_df.iterrows():\n",
    "    save_file_index = 0\n",
    "    save_path = os.path.join(discharge_notes_df_output_dir, f'{row.hadm_id}_{row.icustay_id}_{save_file_index}.txt')\n",
    "    while os.path.exists(save_path):\n",
    "        save_file_index += 1\n",
    "        save_path = os.path.join(discharge_notes_df_output_dir, f'{row.hadm_id}_{row.icustay_id}_{save_file_index}.txt')\n",
    "\n",
    "    with open(save_path, \"w\") as text_file:\n",
    "        text_file.write(row.text)"
   ]
  },
  {
   "cell_type": "code",
   "execution_count": null,
   "metadata": {},
   "outputs": [],
   "source": [
    "nih_discharge_notes_df_output_dir = os.path.join(output_dir, 'nih_discharge_notes')\n",
    "ensure_dir(nih_discharge_notes_df_output_dir)"
   ]
  },
  {
   "cell_type": "code",
   "execution_count": null,
   "metadata": {},
   "outputs": [],
   "source": [
    "for index, row in nih_discharge_notes_df.iterrows():\n",
    "    save_file_index = 0\n",
    "    save_path = os.path.join(nih_discharge_notes_df_output_dir, f'{row.hadm_id}_{row.icustay_id}_{save_file_index}.txt')\n",
    "    while os.path.exists(save_path):\n",
    "        save_file_index += 1\n",
    "        save_path = os.path.join(nih_discharge_notes_df_output_dir, f'{row.hadm_id}_{row.icustay_id}_{save_file_index}.txt')\n",
    "\n",
    "    with open(save_path, \"w\") as text_file:\n",
    "        text_file.write(row.text)"
   ]
  },
  {
   "cell_type": "markdown",
   "metadata": {
    "collapsed": false
   },
   "source": [
    "save admission notes"
   ]
  },
  {
   "cell_type": "code",
   "execution_count": null,
   "metadata": {},
   "outputs": [],
   "source": [
    "admission_notes_df_output_dir = os.path.join(output_dir, 'admission_notes')\n",
    "ensure_dir(admission_notes_df_output_dir)"
   ]
  },
  {
   "cell_type": "code",
   "execution_count": null,
   "metadata": {},
   "outputs": [],
   "source": [
    "for index, row in admission_notes_df.iterrows():\n",
    "    save_file_index = 0\n",
    "    save_path = os.path.join(admission_notes_df_output_dir, f'{row.hadm_id}_{row.icustay_id}_{save_file_index}.txt')\n",
    "    while os.path.exists(save_path):\n",
    "        save_file_index += 1\n",
    "        save_path = os.path.join(admission_notes_df_output_dir, f'{row.hadm_id}_{row.icustay_id}_{save_file_index}.txt')\n",
    "\n",
    "    with open(save_path, \"w\") as text_file:\n",
    "        text_file.write(row.text)"
   ]
  },
  {
   "cell_type": "markdown",
   "metadata": {
    "collapsed": false
   },
   "source": [
    "save social work notes"
   ]
  },
  {
   "cell_type": "code",
   "execution_count": null,
   "metadata": {},
   "outputs": [],
   "source": [
    "social_notes_df_output_dir = os.path.join(output_dir, 'social_notes')\n",
    "ensure_dir(social_notes_df_output_dir)"
   ]
  },
  {
   "cell_type": "code",
   "execution_count": null,
   "metadata": {},
   "outputs": [],
   "source": [
    "for index, row in social_work_notes.iterrows():\n",
    "    save_file_index = 0\n",
    "    save_path = os.path.join(social_notes_df_output_dir, f'{row.hadm_id}_{row.icustay_id}_{save_file_index}.txt')\n",
    "    while os.path.exists(save_path):\n",
    "        save_file_index += 1\n",
    "        save_path = os.path.join(social_notes_df_output_dir, f'{row.hadm_id}_{row.icustay_id}_{save_file_index}.txt')\n",
    "\n",
    "    with open(save_path, \"w\") as text_file:\n",
    "        text_file.write(row.text)"
   ]
  },
  {
   "cell_type": "markdown",
   "metadata": {
    "collapsed": false
   },
   "source": [
    "Create excel files to label text files"
   ]
  },
  {
   "cell_type": "code",
   "execution_count": null,
   "metadata": {},
   "outputs": [],
   "source": [
    "column_names = ['admitted to ICU for stroke',\n",
    "                'onset to ICU admission > 7d',\n",
    "'admission NIHSS',\n",
    "'prestroke mRS',\n",
    "'stroke onset time',\n",
    "'wake up stroke',\n",
    "'IVT time',\n",
    "'IAT time',\n",
    "'Antihypert. drugs pre-stroke',\n",
    "'Lipid lowering drugs pre-stroke',\n",
    "'Antiplatelet drugs',\n",
    "'Anticoagulants',\n",
    "'MedHist Hypertension',\n",
    "'MedHist Diabetes',\n",
    "'MedHist Hyperlipidemia',\n",
    "'MedHist Smoking',\n",
    "'MedHist Atrial Fibr.',\n",
    "'MedHist CHD',\n",
    "'MedHist PAD',\n",
    "'MedHist cerebrovascular_event']"
   ]
  },
  {
   "cell_type": "code",
   "execution_count": null,
   "metadata": {},
   "outputs": [],
   "source": [
    "admission_notes_labels_df = admission_notes_df[['hadm_id', 'icustay_id', 'admittime', 'charttime', 'intime']].copy().drop_duplicates(subset=['hadm_id', 'icustay_id'])\n",
    "for column in column_names:\n",
    "    admission_notes_labels_df[column] = np.nan"
   ]
  },
  {
   "cell_type": "code",
   "execution_count": null,
   "metadata": {},
   "outputs": [],
   "source": [
    "# admission_notes_labels_df.to_excel(os.path.join(admission_notes_df_output_dir, 'admission_notes_labels.xlsx'))"
   ]
  },
  {
   "cell_type": "code",
   "execution_count": null,
   "metadata": {},
   "outputs": [],
   "source": [
    "admission_notes_labels_df"
   ]
  },
  {
   "cell_type": "code",
   "execution_count": null,
   "metadata": {},
   "outputs": [],
   "source": [
    "discharge_notes_labels_df = discharge_notes_df[['hadm_id', 'icustay_id', 'admittime', 'charttime', 'intime']].copy().drop_duplicates(subset=['hadm_id', 'icustay_id'])\n",
    "for column in column_names:\n",
    "    discharge_notes_labels_df[column] = np.nan"
   ]
  },
  {
   "cell_type": "code",
   "execution_count": null,
   "metadata": {},
   "outputs": [],
   "source": [
    "# discharge_notes_labels_df.to_excel(os.path.join(discharge_notes_df_output_dir, 'discharge_notes_labels.xlsx'))"
   ]
  },
  {
   "cell_type": "code",
   "execution_count": null,
   "metadata": {},
   "outputs": [],
   "source": [
    "discharge_notes_labels_df"
   ]
  },
  {
   "cell_type": "code",
   "execution_count": null,
   "metadata": {},
   "outputs": [],
   "source": [
    "nih_discharge_notes_labels_df = nih_discharge_notes_df[['hadm_id', 'icustay_id', 'admittime', 'charttime', 'intime']].copy().drop_duplicates(subset=['hadm_id', 'icustay_id'])\n",
    "for column in column_names:\n",
    "    nih_discharge_notes_labels_df[column] = np.nan"
   ]
  },
  {
   "cell_type": "code",
   "execution_count": null,
   "metadata": {},
   "outputs": [],
   "source": [
    "# nih_discharge_notes_labels_df.to_excel(os.path.join(nih_discharge_notes_df_output_dir, 'nih_discharge_notes_labels.xlsx'))"
   ]
  },
  {
   "cell_type": "code",
   "execution_count": null,
   "metadata": {},
   "outputs": [],
   "source": [
    "social_notes_labels_df = social_work_notes[['hadm_id', 'icustay_id', 'admittime', 'charttime', 'intime']].copy().drop_duplicates(subset=['hadm_id', 'icustay_id'])\n",
    "for column in column_names:\n",
    "    social_notes_labels_df[column] = np.nan"
   ]
  },
  {
   "cell_type": "code",
   "execution_count": null,
   "metadata": {},
   "outputs": [],
   "source": [
    "# social_notes_labels_df.to_excel(os.path.join(social_notes_df_output_dir, 'social_notes_labels.xlsx'))"
   ]
  },
  {
   "cell_type": "code",
   "execution_count": null,
   "metadata": {},
   "outputs": [],
   "source": []
  }
 ],
 "metadata": {
  "kernelspec": {
   "display_name": "Python 3",
   "language": "python",
   "name": "python3"
  },
  "language_info": {
   "codemirror_mode": {
    "name": "ipython",
    "version": 2
   },
   "file_extension": ".py",
   "mimetype": "text/x-python",
   "name": "python",
   "nbconvert_exporter": "python",
   "pygments_lexer": "ipython2",
   "version": "2.7.6"
  }
 },
 "nbformat": 4,
 "nbformat_minor": 0
}
