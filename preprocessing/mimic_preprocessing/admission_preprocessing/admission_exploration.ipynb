{
 "cells": [
  {
   "cell_type": "markdown",
   "metadata": {
    "collapsed": false
   },
   "source": [
    "#### Admission data\n",
    "\n",
    "Goal:     Preprocess the admission data manually extracted from admission / discharge notes\n"
   ]
  },
  {
   "cell_type": "code",
   "execution_count": null,
   "metadata": {},
   "outputs": [],
   "source": [
    "import pandas as pd\n",
    "import numpy as np"
   ]
  },
  {
   "cell_type": "code",
   "execution_count": null,
   "metadata": {},
   "outputs": [],
   "source": [
    "admission_data_path = '/Users/jk1/OneDrive - unige.ch/stroke_research/geneva_stroke_unit_dataset/data/mimic_data/combined_notes_labels_v2.xlsx'\n",
    "admission_table_path = '/Users/jk1/temp/mimic/extraction/admission_df.csv'"
   ]
  },
  {
   "cell_type": "code",
   "execution_count": null,
   "metadata": {},
   "outputs": [],
   "source": [
    "admission_data_df = pd.read_excel(admission_data_path)\n",
    "admission_table_df = pd.read_csv(admission_table_path)"
   ]
  },
  {
   "cell_type": "code",
   "execution_count": null,
   "metadata": {},
   "outputs": [],
   "source": [
    "admission_table_df.head()"
   ]
  },
  {
   "cell_type": "code",
   "execution_count": null,
   "metadata": {},
   "outputs": [],
   "source": [
    "admission_table_df.admission_location.unique()"
   ]
  },
  {
   "cell_type": "code",
   "execution_count": null,
   "metadata": {},
   "outputs": [],
   "source": [
    "admission_table_df.gender.unique()"
   ]
  },
  {
   "cell_type": "markdown",
   "metadata": {
    "collapsed": false
   },
   "source": [
    "## Data extracted from notes"
   ]
  },
  {
   "cell_type": "code",
   "execution_count": null,
   "metadata": {},
   "outputs": [],
   "source": [
    "admission_data_df.head()"
   ]
  },
  {
   "cell_type": "code",
   "execution_count": null,
   "metadata": {},
   "outputs": [],
   "source": [
    "for column in admission_data_df.columns:\n",
    "    print(f\"'{column}',\")"
   ]
  },
  {
   "cell_type": "code",
   "execution_count": null,
   "metadata": {},
   "outputs": [],
   "source": [
    "med_hist_columns = ['Antihypert. drugs pre-stroke',\n",
    "                    'Lipid lowering drugs pre-stroke',\n",
    "                    'Antiplatelet drugs',\n",
    "                    'Anticoagulants',\n",
    "                    'MedHist Hypertension',\n",
    "                    'MedHist Diabetes',\n",
    "                    'MedHist Hyperlipidemia',\n",
    "                    'MedHist Smoking',\n",
    "                    'MedHist Atrial Fibr.',\n",
    "                    'MedHist CHD',\n",
    "                    'MedHist PAD',\n",
    "                    'MedHist cerebrovascular_event']"
   ]
  },
  {
   "cell_type": "code",
   "execution_count": null,
   "metadata": {},
   "outputs": [],
   "source": [
    "for column in med_hist_columns:\n",
    "    print(admission_data_df[column].unique())"
   ]
  },
  {
   "cell_type": "code",
   "execution_count": null,
   "metadata": {},
   "outputs": [],
   "source": [
    "admission_data_df['admitted to ICU for stroke'].unique()"
   ]
  },
  {
   "cell_type": "code",
   "execution_count": null,
   "metadata": {},
   "outputs": [],
   "source": [
    "admission_data_df['onset to ICU admission > 7d'].unique()"
   ]
  },
  {
   "cell_type": "markdown",
   "metadata": {
    "collapsed": false
   },
   "source": [
    "# Preprocess timings"
   ]
  },
  {
   "cell_type": "code",
   "execution_count": null,
   "metadata": {},
   "outputs": [],
   "source": [
    "pd.to_datetime(admission_data_df['intime'], format='%Y-%m-%d %H:%M:%S')"
   ]
  },
  {
   "cell_type": "code",
   "execution_count": null,
   "metadata": {},
   "outputs": [],
   "source": [
    "pd.to_datetime(admission_data_df['stroke onset time'].replace(to_replace=r\"unk(nown|own)\", value=np.nan, regex=True), format='%Y-%m-%d %H:%M:%S')"
   ]
  },
  {
   "cell_type": "code",
   "execution_count": null,
   "metadata": {},
   "outputs": [],
   "source": [
    "admission_data_df['stroke onset time'].replace(to_replace=r\"unk(nown|own)\", value=np.nan, regex=True)"
   ]
  },
  {
   "cell_type": "code",
   "execution_count": null,
   "metadata": {},
   "outputs": [],
   "source": [
    "date_format = '%Y-%m-%d %H:%M:%S'\n",
    "\n",
    "admission_data_df['onset_to_admission_min'] = (pd.to_datetime(admission_data_df['admittime'], format=date_format) -\n",
    "                                                  pd.to_datetime(admission_data_df['stroke onset time']\n",
    "                                                                 .replace(to_replace=r\"unk(nown|own)\", value=np.nan, regex=True),\n",
    "                                                                format=date_format)).dt.total_seconds() / 60"
   ]
  },
  {
   "cell_type": "code",
   "execution_count": null,
   "metadata": {},
   "outputs": [],
   "source": [
    "admission_data_df[admission_data_df.onset_to_admission_min > (7 * 24 * 60)]"
   ]
  },
  {
   "cell_type": "code",
   "execution_count": null,
   "metadata": {},
   "outputs": [],
   "source": [
    "admission_data_df.onset_to_admission_min.describe()"
   ]
  },
  {
   "cell_type": "code",
   "execution_count": null,
   "metadata": {},
   "outputs": [],
   "source": [
    "admission_data_df['categorical_onset_to_admission_time'] = pd.cut(\n",
    "    admission_data_df['onset_to_admission_min'],\n",
    "    bins=[-float(\"inf\"), 270, 540, 1440, float(\"inf\")],\n",
    "    labels=['<270min', '271-540min', '541-1440min', '>1440min'])"
   ]
  },
  {
   "cell_type": "code",
   "execution_count": null,
   "metadata": {},
   "outputs": [],
   "source": [
    "admission_data_df['categorical_onset_to_admission_time'].describe()"
   ]
  },
  {
   "cell_type": "code",
   "execution_count": null,
   "metadata": {},
   "outputs": [],
   "source": [
    "admission_data_df['categorical_onset_to_admission_time'] = admission_data_df[\n",
    "    'categorical_onset_to_admission_time'].cat.add_categories('onset_unknown')\n",
    "admission_data_df.loc[admission_data_df.onset_to_admission_min.isna(), 'categorical_onset_to_admission_time'] = 'onset_unknown'"
   ]
  },
  {
   "cell_type": "code",
   "execution_count": null,
   "metadata": {},
   "outputs": [],
   "source": [
    "admission_data_df[['admittime', 'stroke onset time', 'onset_to_admission_min', 'categorical_onset_to_admission_time']]"
   ]
  },
  {
   "cell_type": "markdown",
   "metadata": {
    "collapsed": false
   },
   "source": [
    "# Preprocess procedures"
   ]
  },
  {
   "cell_type": "code",
   "execution_count": null,
   "metadata": {},
   "outputs": [],
   "source": [
    "admission_data_df['IVT time']"
   ]
  },
  {
   "cell_type": "code",
   "execution_count": null,
   "metadata": {},
   "outputs": [],
   "source": [
    "admission_data_df['IVT'] = ~admission_data_df['IVT time'].isna()\n",
    "\n",
    "admission_data_df['onset_to_IVT_min'] = (pd.to_datetime(admission_data_df['IVT time']\n",
    "                                                             .replace(to_replace=r\"y\", value=np.nan, regex=True),\n",
    "                                                            format=date_format) -\n",
    "                                        pd.to_datetime(admission_data_df['stroke onset time']\n",
    "                                                       .replace(to_replace=r\"unk(nown|own)\", value=np.nan, regex=True),\n",
    "                                                       format=date_format)).dt.total_seconds() / 60"
   ]
  },
  {
   "cell_type": "code",
   "execution_count": null,
   "metadata": {},
   "outputs": [],
   "source": [
    "admission_data_df[['hadm_id', 'stroke onset time', 'IVT time', 'onset_to_IVT_min']]"
   ]
  },
  {
   "cell_type": "code",
   "execution_count": null,
   "metadata": {},
   "outputs": [],
   "source": [
    "admission_data_df['categorical_IVT'] = pd.cut(admission_data_df['onset_to_IVT_min'],\n",
    "                                               bins=[-float(\"inf\"), 90, 270, 540, float(\"inf\")],\n",
    "                                               labels=['<90min', '91-270min', '271-540min', '>540min'])"
   ]
  },
  {
   "cell_type": "code",
   "execution_count": null,
   "metadata": {},
   "outputs": [],
   "source": [
    "admission_data_df.loc[(admission_data_df['categorical_IVT'].isna())\n",
    "                              & (admission_data_df['IVT'] == True), 'categorical_IVT'] = \\\n",
    "                                    admission_data_df['categorical_IVT'].mode()[0]\n",
    "\n",
    "admission_data_df['categorical_IVT'] = admission_data_df['categorical_IVT'].cat.add_categories('no_IVT')\n",
    "admission_data_df['categorical_IVT'].fillna('no_IVT', inplace=True)"
   ]
  },
  {
   "cell_type": "code",
   "execution_count": null,
   "metadata": {},
   "outputs": [],
   "source": [
    "temp = admission_data_df[['stroke onset time', 'IVT time', 'onset_to_IVT_min', 'categorical_IVT', 'IVT']]\n",
    "temp"
   ]
  },
  {
   "cell_type": "code",
   "execution_count": null,
   "metadata": {},
   "outputs": [],
   "source": [
    "temp[temp['stroke onset time'].isin(['unknown', 'unkown'])]"
   ]
  },
  {
   "cell_type": "code",
   "execution_count": null,
   "metadata": {},
   "outputs": [],
   "source": [
    "admission_data_df['categorical_IVT'].mode()[0]"
   ]
  },
  {
   "cell_type": "code",
   "execution_count": null,
   "metadata": {},
   "outputs": [],
   "source": [
    "admission_data_df['IAT'] = ~admission_data_df['IAT time'].isna()\n",
    "\n",
    "admission_data_df['onset_to_IAT_min'] = (pd.to_datetime(admission_data_df['IAT time']\n",
    "                                                             .replace(to_replace=r\"y\", value=np.nan, regex=True),\n",
    "                                                            format=date_format) -\n",
    "                                        pd.to_datetime(admission_data_df['stroke onset time']\n",
    "                                                       .replace(to_replace=r\"unk(nown|own)\", value=np.nan, regex=True),\n",
    "                                                       format=date_format)).dt.total_seconds() / 60"
   ]
  },
  {
   "cell_type": "code",
   "execution_count": null,
   "metadata": {},
   "outputs": [],
   "source": [
    "admission_data_df[['hadm_id', 'stroke onset time', 'IAT time', 'onset_to_IAT_min']]"
   ]
  },
  {
   "cell_type": "code",
   "execution_count": null,
   "metadata": {},
   "outputs": [],
   "source": [
    "admission_data_df['categorical_IAT'] = pd.cut(admission_data_df['onset_to_IAT_min'],\n",
    "                                               bins=[-float(\"inf\"), 270, 540, float(\"inf\")],\n",
    "                                               labels=['<270min', '271-540min', '>540min'])"
   ]
  },
  {
   "cell_type": "code",
   "execution_count": null,
   "metadata": {},
   "outputs": [],
   "source": [
    "admission_data_df['categorical_IAT'].mode()[0]"
   ]
  },
  {
   "cell_type": "code",
   "execution_count": null,
   "metadata": {},
   "outputs": [],
   "source": []
  }
 ],
 "metadata": {
  "kernelspec": {
   "display_name": "Python 3",
   "language": "python",
   "name": "python3"
  },
  "language_info": {
   "codemirror_mode": {
    "name": "ipython",
    "version": 2
   },
   "file_extension": ".py",
   "mimetype": "text/x-python",
   "name": "python",
   "nbconvert_exporter": "python",
   "pygments_lexer": "ipython2",
   "version": "2.7.6"
  }
 },
 "nbformat": 4,
 "nbformat_minor": 0
}
