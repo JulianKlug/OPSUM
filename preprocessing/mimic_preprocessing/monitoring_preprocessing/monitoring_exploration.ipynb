{
 "cells": [
  {
   "cell_type": "code",
   "execution_count": null,
   "metadata": {},
   "outputs": [],
   "source": [
    "import pandas as pd\n",
    "import numpy as np\n",
    "import os"
   ]
  },
  {
   "cell_type": "code",
   "execution_count": null,
   "metadata": {},
   "outputs": [],
   "source": [
    "monitoring_path = '/Users/jk1/temp/mimic/extraction/monitoring_df.csv'\n",
    "patient_selection_path = '/Users/jk1/OneDrive - unige.ch/stroke_research/geneva_stroke_unit_dataset/data/mimic_data/combined_notes_labels.xlsx'"
   ]
  },
  {
   "cell_type": "code",
   "execution_count": null,
   "metadata": {},
   "outputs": [],
   "source": [
    "monitoring_df = pd.read_csv(monitoring_path)"
   ]
  },
  {
   "cell_type": "code",
   "execution_count": null,
   "metadata": {},
   "outputs": [],
   "source": [
    "selection_df = pd.read_excel(patient_selection_path)\n"
   ]
  },
  {
   "cell_type": "code",
   "execution_count": null,
   "metadata": {},
   "outputs": [],
   "source": [
    "possible_value_ranges_file = os.path.join(os.path.dirname(os.path.dirname(os.path.abspath(''))),\n",
    "                                              'preprocessing/possible_ranges_for_variables.xlsx')\n",
    "possible_value_ranges = pd.read_excel(possible_value_ranges_file)"
   ]
  },
  {
   "cell_type": "code",
   "execution_count": null,
   "metadata": {},
   "outputs": [],
   "source": [
    "all_label_df = monitoring_df.label.value_counts()\n",
    "all_label_df"
   ]
  },
  {
   "cell_type": "code",
   "execution_count": null,
   "metadata": {},
   "outputs": [],
   "source": [
    "# all_label_df.to_csv('./all_monitoring_labels.csv')"
   ]
  },
  {
   "cell_type": "markdown",
   "metadata": {
    "collapsed": false
   },
   "source": [
    "### GCS extraction"
   ]
  },
  {
   "cell_type": "code",
   "execution_count": null,
   "metadata": {},
   "outputs": [],
   "source": [
    "GCS_components = ['GCS - Eye Opening', 'GCS - Motor Response', 'GCS - Verbal Response', 'Eye Opening', 'Verbal Response', 'Motor Response', 'GCS Total']"
   ]
  },
  {
   "cell_type": "code",
   "execution_count": null,
   "metadata": {},
   "outputs": [],
   "source": [
    "for label in GCS_components:\n",
    "    print(label, monitoring_df[monitoring_df.label == label].value.count())\n",
    "    print(monitoring_df[monitoring_df.label == label].value.unique())"
   ]
  },
  {
   "cell_type": "code",
   "execution_count": null,
   "metadata": {},
   "outputs": [],
   "source": [
    "verbal_components = ['GCS - Verbal Response', 'Verbal Response']"
   ]
  },
  {
   "cell_type": "code",
   "execution_count": null,
   "metadata": {},
   "outputs": [],
   "source": [
    "set(monitoring_df.hadm_id) - set(monitoring_df[monitoring_df.label.isin(verbal_components)].hadm_id)"
   ]
  },
  {
   "cell_type": "code",
   "execution_count": null,
   "metadata": {},
   "outputs": [],
   "source": [
    "len(set(monitoring_df[(monitoring_df.label.isin(GCS_components))].hadm_id)&set(selection_df.hadm_id)) / len(set(selection_df.hadm_id))"
   ]
  },
  {
   "cell_type": "markdown",
   "metadata": {
    "collapsed": false
   },
   "source": [
    "### FiO2 extraction\n",
    "\n",
    "Target: % of FiO2 (21-100)"
   ]
  },
  {
   "cell_type": "code",
   "execution_count": null,
   "metadata": {},
   "outputs": [],
   "source": [
    "FiO2_labels = ['FiO2 Set', 'Inspired O2 Fraction']\n",
    "O2_flow_labels = ['O2 Flow', 'O2 Flow (lpm)', 'O2 Flow (lpm) #2']\n",
    "O2_labels = FiO2_labels + O2_flow_labels"
   ]
  },
  {
   "cell_type": "code",
   "execution_count": null,
   "metadata": {},
   "outputs": [],
   "source": [
    "fio2_df = monitoring_df[monitoring_df.label.isin(O2_labels)]\n",
    "fio2_df.dropna(subset=['valuenum'], inplace=True)"
   ]
  },
  {
   "cell_type": "code",
   "execution_count": null,
   "metadata": {},
   "outputs": [],
   "source": [
    "# convert FiO2 set to percentage\n",
    "fio2_df.loc[fio2_df.label == 'FiO2 Set', 'valuenum'] = fio2_df[fio2_df.label == 'FiO2 Set'].valuenum * 100"
   ]
  },
  {
   "cell_type": "code",
   "execution_count": null,
   "metadata": {},
   "outputs": [],
   "source": [
    "# Converting    O2    flow    to FIO2\n",
    "fio2_df.loc[(fio2_df.label.isin(O2_flow_labels)) & (fio2_df.valuenum > 15), 'valuenum'] = np.nan\n",
    "fio2_df.loc[(fio2_df.label.isin(O2_flow_labels)) & (fio2_df.valuenum < 0), 'valuenum'] = np.nan\n",
    "# Set to 21% when flow == 0\n",
    "fio2_df.loc[(fio2_df.label.isin(O2_flow_labels)) & (fio2_df.valuenum == 0), 'valuenum'] = 21\n",
    "\n",
    "fio2_df.loc[(fio2_df.label.isin(O2_flow_labels))\n",
    "            & (fio2_df.valuenum.notnull()), 'valuenum'] = 20 + 4 * fio2_df[\n",
    "    (fio2_df.label.isin(O2_flow_labels))\n",
    "    & (fio2_df.valuenum.notnull())]['valuenum']\n",
    "fio2_df['valueuom'] = '%'\n",
    "fio2_df['value'] = fio2_df.valuenum.astype(str)\n",
    "fio2_df['label'] = 'FIO2'\n",
    "fio2_df = fio2_df.drop_duplicates()"
   ]
  },
  {
   "cell_type": "markdown",
   "metadata": {
    "collapsed": false
   },
   "source": [
    "### O2 Saturation preprocessing"
   ]
  },
  {
   "cell_type": "code",
   "execution_count": null,
   "metadata": {},
   "outputs": [],
   "source": [
    "o2_sat_labels = ['O2 saturation pulseoxymetry', 'SpO2']"
   ]
  },
  {
   "cell_type": "code",
   "execution_count": null,
   "metadata": {},
   "outputs": [],
   "source": [
    "spo2_df = monitoring_df[monitoring_df.label.isin(o2_sat_labels)]\n",
    "spo2_df.head()"
   ]
  },
  {
   "cell_type": "code",
   "execution_count": null,
   "metadata": {},
   "outputs": [],
   "source": [
    "for label in o2_sat_labels:\n",
    "    print(label)\n",
    "    print(monitoring_df[monitoring_df.label.isin([label])].valueuom.unique())\n",
    "    print(monitoring_df[monitoring_df.label.isin([label])].valuenum.describe())"
   ]
  },
  {
   "cell_type": "code",
   "execution_count": null,
   "metadata": {},
   "outputs": [],
   "source": [
    "spo2_df.dropna(subset=['valuenum'], inplace=True)\n",
    "spo2_df = spo2_df.drop_duplicates()\n",
    "# spo2_df, _ = restrict_variable_to_possible_ranges(spo2_df, 'spo2', possible_value_ranges,\n",
    "#                                                   verbose=verbose)\n",
    "spo2_df['label'] = 'oxygen_saturation'"
   ]
  },
  {
   "cell_type": "markdown",
   "metadata": {
    "collapsed": false
   },
   "source": [
    "### systolic_blood_pressure"
   ]
  },
  {
   "cell_type": "code",
   "execution_count": null,
   "metadata": {},
   "outputs": [],
   "source": [
    "sys_bp_labels = ['Arterial BP [Systolic]', 'Non Invasive Blood Pressure systolic', 'NBP [Systolic]', 'Arterial Blood Pressure systolic', 'ART BP Systolic', 'Arterial BP #2 [Systolic]', 'Manual Blood Pressure Systolic Left', 'Manual Blood Pressure Systolic Right', 'Manual BP [Systolic]']"
   ]
  },
  {
   "cell_type": "code",
   "execution_count": null,
   "metadata": {},
   "outputs": [],
   "source": [
    "for label in sys_bp_labels:\n",
    "    print(label)\n",
    "    print(monitoring_df[monitoring_df.label.isin([label])].valuenum.describe())\n"
   ]
  },
  {
   "cell_type": "code",
   "execution_count": null,
   "metadata": {},
   "outputs": [],
   "source": [
    "sys_bp_df = monitoring_df[monitoring_df.label.isin(sys_bp_labels)]"
   ]
  },
  {
   "cell_type": "code",
   "execution_count": null,
   "metadata": {},
   "outputs": [],
   "source": [
    "sys_bp_df.valuenum.dtype"
   ]
  },
  {
   "cell_type": "markdown",
   "metadata": {
    "collapsed": false
   },
   "source": [
    "## diastolic bp"
   ]
  },
  {
   "cell_type": "code",
   "execution_count": null,
   "metadata": {},
   "outputs": [],
   "source": [
    "dia_bp_labels = ['Arterial BP [Diastolic]', 'Non Invasive Blood Pressure diastolic', 'NBP [Diastolic]', 'Arterial Blood Pressure diastolic', 'ART BP Diastolic', 'Arterial BP #2 [Diastolic]', 'Manual BP [Diastolic]', 'Manual Blood Pressure Diastolic Left', 'Manual Blood Pressure Diastolic Right']"
   ]
  },
  {
   "cell_type": "code",
   "execution_count": null,
   "metadata": {},
   "outputs": [],
   "source": [
    "dia_bp_df = monitoring_df[monitoring_df.label.isin(dia_bp_labels)]"
   ]
  },
  {
   "cell_type": "code",
   "execution_count": null,
   "metadata": {},
   "outputs": [],
   "source": [
    "dia_bp_df.valuenum.dtype"
   ]
  },
  {
   "cell_type": "markdown",
   "metadata": {
    "collapsed": false
   },
   "source": [
    "## mean bp"
   ]
  },
  {
   "cell_type": "code",
   "execution_count": null,
   "metadata": {},
   "outputs": [],
   "source": [
    "mean_bp_labels = ['Arterial BP Mean', 'Non Invasive Blood Pressure mean', 'NBP Mean', 'Arterial Blood Pressure mean', 'ART BP mean', 'Arterial BP Mean #2', 'Manual BP Mean(calc)']"
   ]
  },
  {
   "cell_type": "code",
   "execution_count": null,
   "metadata": {},
   "outputs": [],
   "source": [
    "mean_bp_df = monitoring_df[monitoring_df.label.isin(mean_bp_labels)]\n"
   ]
  },
  {
   "cell_type": "code",
   "execution_count": null,
   "metadata": {},
   "outputs": [],
   "source": [
    "mean_bp_df.valuenum.dtype"
   ]
  },
  {
   "cell_type": "code",
   "execution_count": null,
   "metadata": {},
   "outputs": [],
   "source": [
    "mean_bp_df.valuenum.describe()"
   ]
  },
  {
   "cell_type": "markdown",
   "metadata": {
    "collapsed": false
   },
   "source": [
    "### heart rate"
   ]
  },
  {
   "cell_type": "code",
   "execution_count": null,
   "metadata": {},
   "outputs": [],
   "source": [
    "heart_rate_labels = ['Heart Rate']"
   ]
  },
  {
   "cell_type": "code",
   "execution_count": null,
   "metadata": {},
   "outputs": [],
   "source": [
    "heart_rate_df = monitoring_df[monitoring_df.label == heart_rate_labels[0]]"
   ]
  },
  {
   "cell_type": "code",
   "execution_count": null,
   "metadata": {},
   "outputs": [],
   "source": [
    "heart_rate_df.valueuom.unique()"
   ]
  },
  {
   "cell_type": "markdown",
   "metadata": {
    "collapsed": false
   },
   "source": [
    "### respiratory rate"
   ]
  },
  {
   "cell_type": "code",
   "execution_count": null,
   "metadata": {},
   "outputs": [],
   "source": [
    "resp_rate_labels = ['Respiratory Rate', 'Respiratory Rate (spontaneous)', 'Respiratory Rate (Total)']"
   ]
  },
  {
   "cell_type": "code",
   "execution_count": null,
   "metadata": {},
   "outputs": [],
   "source": [
    "monitoring_df[monitoring_df.label == resp_rate_labels[2]]"
   ]
  },
  {
   "cell_type": "code",
   "execution_count": null,
   "metadata": {},
   "outputs": [],
   "source": [
    "resp_rate_df = monitoring_df[monitoring_df.label.isin(resp_rate_labels)]\n"
   ]
  },
  {
   "cell_type": "code",
   "execution_count": null,
   "metadata": {},
   "outputs": [],
   "source": [
    "resp_rate_df.valueuom.unique()"
   ]
  },
  {
   "cell_type": "code",
   "execution_count": null,
   "metadata": {},
   "outputs": [],
   "source": [
    "resp_rate_df.valuenum.describe()"
   ]
  },
  {
   "cell_type": "markdown",
   "metadata": {
    "collapsed": false
   },
   "source": [
    "### temperature"
   ]
  },
  {
   "cell_type": "code",
   "execution_count": null,
   "metadata": {},
   "outputs": [],
   "source": [
    "temperature_labels = ['Temperature F', 'Temperature C (calc)', 'Temperature Fahrenheit', 'Temperature C', 'Temperature F (calc)', 'Temperature Celsius']"
   ]
  },
  {
   "cell_type": "code",
   "execution_count": null,
   "metadata": {},
   "outputs": [],
   "source": [
    "temperature_df = monitoring_df[monitoring_df.label.isin(temperature_labels)]"
   ]
  },
  {
   "cell_type": "code",
   "execution_count": null,
   "metadata": {},
   "outputs": [],
   "source": [
    "temperature_df.groupby('label').valueuom.unique()"
   ]
  },
  {
   "cell_type": "code",
   "execution_count": null,
   "metadata": {},
   "outputs": [],
   "source": [
    "temperature_df[temperature_df.valueuom.isna()].valuenum.unique()"
   ]
  },
  {
   "cell_type": "code",
   "execution_count": null,
   "metadata": {},
   "outputs": [],
   "source": [
    "fahrenheit_equivalents = ['Deg. F', '?F']\n",
    "celsius_equivalents = ['Deg. C', '?C']\n",
    "temperature_df.loc[temperature_df.valueuom.isin(fahrenheit_equivalents), 'valuenum'] = (temperature_df[temperature_df.valueuom.isin(fahrenheit_equivalents)] - 32) * (5 / 9)\n",
    "temperature_df.loc[temperature_df.valueuom.isin(fahrenheit_equivalents + celsius_equivalents), 'valueuom'] = celsius_equivalents[0]\n",
    "\n",
    "# if len(temperature_df['temp_unit'].unique()) > 1:\n",
    "#     raise ValueError('Temperature units not unified:', temperature_df['temp_unit'].unique())\n"
   ]
  },
  {
   "cell_type": "code",
   "execution_count": null,
   "metadata": {},
   "outputs": [],
   "source": [
    "temperature_df.valuenum.dtype"
   ]
  },
  {
   "cell_type": "markdown",
   "metadata": {
    "collapsed": false
   },
   "source": [
    "### weight\n",
    "\n",
    "itemids: 762, 763, 3723, 3580, 3581, 3582"
   ]
  },
  {
   "cell_type": "code",
   "execution_count": null,
   "metadata": {},
   "outputs": [],
   "source": [
    "admission_weight_labels = ['Admit Wt', 'Admission Weight (lbs.)', 'Admission Weight (Kg)', 'Previous WeightF', 'Previous Weight']\n",
    "monitoring_weight_labels = ['Daily Weight']"
   ]
  },
  {
   "cell_type": "code",
   "execution_count": null,
   "metadata": {},
   "outputs": [],
   "source": [
    "monitoring_df[monitoring_df.label.isin(admission_weight_labels + monitoring_weight_labels)].valueuom.unique()"
   ]
  },
  {
   "cell_type": "code",
   "execution_count": null,
   "metadata": {},
   "outputs": [],
   "source": [
    "weight_df = monitoring_df[monitoring_df.label.isin(admission_weight_labels + monitoring_weight_labels)]"
   ]
  },
  {
   "cell_type": "code",
   "execution_count": null,
   "metadata": {},
   "outputs": [],
   "source": [
    "len(set(monitoring_df[(monitoring_df.label.isin(admission_weight_labels + monitoring_weight_labels))].hadm_id)&set(selection_df.hadm_id)) / len(set(selection_df.hadm_id))"
   ]
  },
  {
   "cell_type": "markdown",
   "metadata": {
    "collapsed": false
   },
   "source": [
    "### height\n",
    "\n",
    "itemids: 920, 1394, 4187, 3486, 3485, 4188"
   ]
  },
  {
   "cell_type": "code",
   "execution_count": null,
   "metadata": {},
   "outputs": [],
   "source": [
    "height_labels = ['Height (cm)', 'Height', 'Admit Ht']\n",
    "height_itemids = [920, 1394, 4187, 3486, 3485, 4188]"
   ]
  },
  {
   "cell_type": "code",
   "execution_count": null,
   "metadata": {},
   "outputs": [],
   "source": [
    "height_df = monitoring_df[monitoring_df.label.isin(height_labels)]"
   ]
  },
  {
   "cell_type": "code",
   "execution_count": null,
   "metadata": {},
   "outputs": [],
   "source": [
    "monitoring_df[monitoring_df.label.isin(height_labels)].isin(['inches', 'Inch'])"
   ]
  },
  {
   "cell_type": "code",
   "execution_count": null,
   "metadata": {},
   "outputs": [],
   "source": [
    "len(set(monitoring_df[(monitoring_df.label.isin(height_labels))].hadm_id)&set(selection_df.hadm_id)) / len(set(selection_df.hadm_id))"
   ]
  },
  {
   "cell_type": "markdown",
   "metadata": {
    "collapsed": false
   },
   "source": [
    "### glycemia"
   ]
  },
  {
   "cell_type": "code",
   "execution_count": null,
   "metadata": {},
   "outputs": [],
   "source": [
    "glucose_labels = ['Fingerstick Glucose', 'Glucose finger stick', 'Glucose', 'Glucose (serum)', 'Glucose (whole blood)', 'Glucose (70-105)']"
   ]
  },
  {
   "cell_type": "code",
   "execution_count": null,
   "metadata": {},
   "outputs": [],
   "source": [
    "monitoring_df[monitoring_df.label.isin(glucose_labels)].valuenum.dtype"
   ]
  },
  {
   "cell_type": "code",
   "execution_count": null,
   "metadata": {},
   "outputs": [],
   "source": [
    "for label in glucose_labels:\n",
    "    print(label)\n",
    "    print(monitoring_df[monitoring_df.label.isin([label])].valueuom.unique())\n",
    "    print(monitoring_df[monitoring_df.label.isin([label])].valuenum.describe())"
   ]
  },
  {
   "cell_type": "code",
   "execution_count": null,
   "metadata": {},
   "outputs": [],
   "source": [
    "monitoring_df.head()"
   ]
  },
  {
   "cell_type": "markdown",
   "metadata": {
    "collapsed": false
   },
   "source": [
    "# Verifying preprocessing"
   ]
  },
  {
   "cell_type": "code",
   "execution_count": null,
   "metadata": {},
   "outputs": [],
   "source": [
    "preprocessed_data_path = '/Users/jk1/temp/mimic/preprocessing/preprocessed_monitoring_df.csv'"
   ]
  },
  {
   "cell_type": "code",
   "execution_count": null,
   "metadata": {},
   "outputs": [],
   "source": [
    "preprocessed_dd = pd.read_csv(preprocessed_data_path)"
   ]
  },
  {
   "cell_type": "code",
   "execution_count": null,
   "metadata": {},
   "outputs": [],
   "source": [
    "preprocessed_dd.head()"
   ]
  },
  {
   "cell_type": "code",
   "execution_count": null,
   "metadata": {},
   "outputs": [],
   "source": [
    "preprocessed_dd.label.unique()"
   ]
  },
  {
   "cell_type": "code",
   "execution_count": null,
   "metadata": {},
   "outputs": [],
   "source": [
    "preprocessed_dd.valuenum.isna().value_counts()"
   ]
  },
  {
   "cell_type": "code",
   "execution_count": null,
   "metadata": {},
   "outputs": [],
   "source": []
  }
 ],
 "metadata": {
  "kernelspec": {
   "display_name": "Python 3",
   "language": "python",
   "name": "python3"
  },
  "language_info": {
   "codemirror_mode": {
    "name": "ipython",
    "version": 2
   },
   "file_extension": ".py",
   "mimetype": "text/x-python",
   "name": "python",
   "nbconvert_exporter": "python",
   "pygments_lexer": "ipython2",
   "version": "2.7.6"
  }
 },
 "nbformat": 4,
 "nbformat_minor": 0
}
