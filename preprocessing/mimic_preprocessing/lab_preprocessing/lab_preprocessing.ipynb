{
 "cells": [
  {
   "cell_type": "markdown",
   "metadata": {
    "collapsed": false
   },
   "source": [
    "# Exploring Lab preprocessing\n",
    "\n",
    "- Align to unified equivalent label\n",
    "- restrict to selected variables\n",
    "- convert to target units of measure\n",
    "- restrict to plausible range\n",
    "- log descriptive stats"
   ]
  },
  {
   "cell_type": "code",
   "execution_count": null,
   "metadata": {},
   "outputs": [],
   "source": [
    "import pandas as pd\n",
    "from tqdm import tqdm\n",
    "import os\n",
    "import numpy as np"
   ]
  },
  {
   "cell_type": "code",
   "execution_count": null,
   "metadata": {},
   "outputs": [],
   "source": [
    "lab_df_path = '/Users/jk1/temp/mimic/extraction/lab_df.csv'"
   ]
  },
  {
   "cell_type": "code",
   "execution_count": null,
   "metadata": {},
   "outputs": [],
   "source": [
    "verbose = True"
   ]
  },
  {
   "cell_type": "code",
   "execution_count": null,
   "metadata": {},
   "outputs": [],
   "source": [
    "lab_df = pd.read_csv(lab_df_path)"
   ]
  },
  {
   "cell_type": "code",
   "execution_count": null,
   "metadata": {},
   "outputs": [],
   "source": [
    "selected_reference_values = pd.read_excel('./selected_lab_values.xlsx')"
   ]
  },
  {
   "cell_type": "code",
   "execution_count": null,
   "metadata": {},
   "outputs": [],
   "source": [
    "lab_df.head()"
   ]
  },
  {
   "cell_type": "code",
   "execution_count": null,
   "metadata": {},
   "outputs": [],
   "source": [
    "lab_df.label.unique()"
   ]
  },
  {
   "cell_type": "code",
   "execution_count": null,
   "metadata": {},
   "outputs": [],
   "source": [
    "selected_reference_values"
   ]
  },
  {
   "cell_type": "markdown",
   "metadata": {
    "collapsed": false
   },
   "source": [
    "## Align to unified equivalent labels"
   ]
  },
  {
   "cell_type": "code",
   "execution_count": null,
   "metadata": {},
   "outputs": [],
   "source": [
    "aligned_lab_df = lab_df.copy()"
   ]
  },
  {
   "cell_type": "code",
   "execution_count": null,
   "metadata": {},
   "outputs": [],
   "source": [
    "for _, row in selected_reference_values.iterrows():\n",
    "    if pd.isna(row.MIMIC_equivalent_name):\n",
    "        if row.DPI_name == 'calcium corrige':\n",
    "            continue\n",
    "        else:\n",
    "            raise ValueError(f'No MIMIC equivalent for {row.DPI_name}')\n",
    "    equivalence_list = pd.DataFrame([row.MIMIC_equivalent_name, row.other_MIMIC_equivalents]).dropna()[0].tolist()\n",
    "    aligned_lab_df.loc[\n",
    "            aligned_lab_df['label'].isin(equivalence_list), 'label'] = row.DPI_name\n",
    "\n"
   ]
  },
  {
   "cell_type": "markdown",
   "metadata": {
    "collapsed": false
   },
   "source": [
    "## Create calcium corrige\n",
    "\n",
    "-> search for albumin and calcium drawn at same time"
   ]
  },
  {
   "cell_type": "code",
   "execution_count": null,
   "metadata": {},
   "outputs": [],
   "source": [
    "calcium_components_df = aligned_lab_df[aligned_lab_df.label.isin(['Calcium, Total', 'Albumin'])]\n",
    "calcium_components_df['hadm_id_charttime'] = calcium_components_df['hadm_id'].astype(str) + '_' + calcium_components_df['charttime'].astype(str)\n",
    "# calcium_components_df['label_hadm_id_charttime'] = calcium_components_df['hadm_id'].astype(str) + '_' + calcium_components_df['hadm_id_charttime'].astype(str)\n",
    "calcium_components_df = calcium_components_df.drop_duplicates()[(calcium_components_df.drop_duplicates().duplicated(subset=['hadm_id_charttime'], keep=False))]"
   ]
  },
  {
   "cell_type": "code",
   "execution_count": null,
   "metadata": {},
   "outputs": [],
   "source": [
    "corrected_calcium_df = calcium_components_df[calcium_components_df.label == 'Calcium, Total'].copy()\n",
    "corrected_calcium_df['corrected_value'] = corrected_calcium_df['valuenum']\n",
    "for index, row in tqdm(corrected_calcium_df.iterrows()):\n",
    "    # Formula: adjusted [Ca](mmol/L) = total [Ca](mmol/L) + 0.02 (40 - [albumin](g/L))\n",
    "    # Conversion factors:\n",
    "    # - calcium (mg/dl -> mmol/L) : *0.2495\n",
    "    # - albumin (g/dL -> g/L): *10\n",
    "    simultaneous_albumin = calcium_components_df[(calcium_components_df.label == 'Albumin') & (calcium_components_df.charttime == row.charttime)]\n",
    "    corrected_calcium_df.at[index,'corrected_value'] = row['corrected_value'] * 0.2495 + 0.02 * (40 - simultaneous_albumin.valuenum.values[0] * 10)\n",
    "corrected_calcium_df['corrected_valueuom'] = 'mmol/l'"
   ]
  },
  {
   "cell_type": "code",
   "execution_count": null,
   "metadata": {},
   "outputs": [],
   "source": [
    "corrected_calcium_df['label'] = 'calcium corrige'\n",
    "corrected_calcium_df['value'] = corrected_calcium_df['corrected_value']\n",
    "corrected_calcium_df['valuenum'] = corrected_calcium_df['corrected_value']\n",
    "corrected_calcium_df['valueuom'] = corrected_calcium_df['corrected_valueuom']\n",
    "corrected_calcium_df.drop(columns=['corrected_value', 'corrected_valueuom', 'hadm_id_charttime'], inplace=True)\n",
    "\n",
    "\n"
   ]
  },
  {
   "cell_type": "code",
   "execution_count": null,
   "metadata": {},
   "outputs": [],
   "source": [
    "aligned_lab_df = pd.concat([aligned_lab_df, corrected_calcium_df])"
   ]
  },
  {
   "cell_type": "markdown",
   "metadata": {
    "collapsed": false
   },
   "source": [
    "## Restrict to selected variables"
   ]
  },
  {
   "cell_type": "code",
   "execution_count": null,
   "metadata": {},
   "outputs": [],
   "source": [
    "selected_lab_labels = selected_reference_values['DPI_name'].tolist()\n",
    "restricted_lab_df = aligned_lab_df.copy()\n",
    "restricted_lab_df = restricted_lab_df[restricted_lab_df.label.isin(selected_lab_labels)]"
   ]
  },
  {
   "cell_type": "code",
   "execution_count": null,
   "metadata": {},
   "outputs": [],
   "source": [
    "assert restricted_lab_df.label.unique().tolist().sort() == selected_lab_labels.sort()"
   ]
  },
  {
   "cell_type": "markdown",
   "metadata": {
    "collapsed": false
   },
   "source": [
    "## Convert Non numerical values\n",
    "- \">\" & \"greater than\" are replaced by value + 5% of value"
   ]
  },
  {
   "cell_type": "code",
   "execution_count": null,
   "metadata": {},
   "outputs": [],
   "source": [
    "non_interpretable_non_numerical_values = ['NEG', 'TR', 'UNABLE TO REPORT', 'ERROR', 'UNABLE TO PERFORM']"
   ]
  },
  {
   "cell_type": "code",
   "execution_count": null,
   "metadata": {},
   "outputs": [],
   "source": [
    "restricted_lab_df.loc[(restricted_lab_df.valuenum.isna()) & (restricted_lab_df.value.isin(non_interpretable_non_numerical_values)), 'value'] = np.nan"
   ]
  },
  {
   "cell_type": "code",
   "execution_count": null,
   "metadata": {},
   "outputs": [],
   "source": [
    "restricted_lab_df.loc[restricted_lab_df['value'].str.contains(\">\", case=False, na=False), ['value', 'valuenum']] = \\\n",
    "    restricted_lab_df[restricted_lab_df['value'].str.contains(\">\", case=False, na=False)]\\\n",
    "        .apply(lambda row: float(row['value'].split('>')[1]) * 1.05 , axis=1)\n",
    "\n",
    "restricted_lab_df.loc[restricted_lab_df['value'].str.contains(\"greater than \", case=False, na=False), ['value', 'valuenum']] = \\\n",
    "    restricted_lab_df[restricted_lab_df['value'].str.contains(\"greater than \", case=False, na=False)]\\\n",
    "        .apply(lambda row: float(row['value'].split('GREATER THAN ')[1]) * 1.05 , axis=1)\n",
    "\n",
    "restricted_lab_df.loc[restricted_lab_df['value'].str.contains(\"IS HIGHEST MEASURED \", case=False, na=False), ['value', 'valuenum']] = \\\n",
    "    restricted_lab_df[restricted_lab_df['value'].str.contains(\"IS HIGHEST MEASURED \", case=False, na=False)]\\\n",
    "        .apply(lambda row: float(row['value'].split('IS HIGHEST MEASURED ')[0]) * 1.05 , axis=1)"
   ]
  },
  {
   "cell_type": "code",
   "execution_count": null,
   "metadata": {},
   "outputs": [],
   "source": [
    "\n",
    "if verbose:\n",
    "    print(f'Excluding {len(restricted_lab_df[(restricted_lab_df.valuenum.isna()) & (~restricted_lab_df.value.isna())])} values because non-numerical')\n",
    "\n",
    "restricted_lab_df.drop(restricted_lab_df[(restricted_lab_df.valuenum.isna()) & (~restricted_lab_df.value.isna())].index, inplace=True)\n"
   ]
  },
  {
   "cell_type": "code",
   "execution_count": null,
   "metadata": {},
   "outputs": [],
   "source": [
    "restricted_lab_df[(restricted_lab_df.valuenum.isna()) & (~restricted_lab_df.value.isna())]"
   ]
  },
  {
   "cell_type": "markdown",
   "metadata": {
    "collapsed": false
   },
   "source": [
    "## Convert units"
   ]
  },
  {
   "cell_type": "code",
   "execution_count": null,
   "metadata": {},
   "outputs": [],
   "source": [
    "print('Converting units')\n",
    "# Not perfect in terms of efficiency or conciseness, but no bottleneck + works + readable (-> leave like this for now)\n",
    "for _, row in tqdm(selected_reference_values[selected_reference_values.unit_conversion_needed == 1].iterrows()):\n",
    "    restricted_lab_df.valuenum = restricted_lab_df.apply(lambda X: X.valuenum * row['multiplicative_factor']\n",
    "                                                            if X.label == row['DPI_name'] else X.valuenum, axis=1)\n",
    "    restricted_lab_df.valueuom = restricted_lab_df.apply(lambda X: row['DPI_units']\n",
    "                                                            if X.label == row['DPI_name'] else X.valueuom, axis=1)\n"
   ]
  },
  {
   "cell_type": "markdown",
   "metadata": {
    "collapsed": false
   },
   "source": [
    "Converting units for proteine C-reactive (some values are ine mg/dl and not mg/l)"
   ]
  },
  {
   "cell_type": "code",
   "execution_count": null,
   "metadata": {},
   "outputs": [],
   "source": [
    "restricted_lab_df.loc[restricted_lab_df.valueuom == 'mg/dL', 'valuenum'] = restricted_lab_df[restricted_lab_df.valueuom == 'mg/dL']['valuenum'] * 10\n",
    "restricted_lab_df.loc[restricted_lab_df.valueuom == 'mg/dL', 'valueuom'] = 'mg/l'"
   ]
  },
  {
   "cell_type": "code",
   "execution_count": null,
   "metadata": {},
   "outputs": [],
   "source": [
    "restricted_lab_df.value = restricted_lab_df.valuenum.astype(str)"
   ]
  },
  {
   "cell_type": "markdown",
   "metadata": {
    "collapsed": false
   },
   "source": [
    "Replace units that are equivalent"
   ]
  },
  {
   "cell_type": "code",
   "execution_count": null,
   "metadata": {},
   "outputs": [],
   "source": [
    "restricted_lab_df.loc[(restricted_lab_df['label'].isin(['chlore', 'sodium', 'potassium']))\n",
    "                       & (restricted_lab_df['valueuom'] == 'mEq/L'), 'valueuom'] = 'mmol/l'\n",
    "restricted_lab_df.loc[restricted_lab_df['valueuom'] == 'mmol/L', 'valueuom'] = 'mmol/l'\n",
    "restricted_lab_df.loc[(restricted_lab_df['valueuom'] == 'IU/L'), 'valueuom'] = 'U/l'\n",
    "restricted_lab_df.loc[(restricted_lab_df['valueuom'] == 'm/uL'), 'valueuom'] = 'T/l'\n",
    "restricted_lab_df.loc[(restricted_lab_df['valueuom'] == 'K/uL'), 'valueuom'] = 'G/l'\n",
    "restricted_lab_df.loc[(restricted_lab_df['valueuom'] == 'pg/mL'), 'valueuom'] = 'ng/l'"
   ]
  },
  {
   "cell_type": "code",
   "execution_count": null,
   "metadata": {},
   "outputs": [],
   "source": [
    "for _, row in selected_reference_values.iterrows():\n",
    "    if pd.isna(row.DPI_units):\n",
    "        continue\n",
    "    if row.DPI_units != restricted_lab_df[restricted_lab_df.label == row.DPI_name].valueuom.unique()[0]:\n",
    "        raise ValueError(f'Units for {row.DPI_name} do not correspond', row.DPI_units, restricted_lab_df[restricted_lab_df.label == row.DPI_name].valueuom.unique()[0])"
   ]
  },
  {
   "cell_type": "markdown",
   "metadata": {
    "collapsed": false
   },
   "source": [
    "## Restrict to plausible value ranges"
   ]
  },
  {
   "cell_type": "code",
   "execution_count": null,
   "metadata": {},
   "outputs": [],
   "source": [
    "plausible_restricted_lab_df = restricted_lab_df.copy()"
   ]
  },
  {
   "cell_type": "code",
   "execution_count": null,
   "metadata": {},
   "outputs": [],
   "source": [
    "possible_value_ranges_file = os.path.join(os.path.dirname(os.path.dirname(os.path.abspath(''))),\n",
    "                                              'preprocessing/possible_ranges_for_variables.xlsx')\n",
    "possible_value_ranges = pd.read_excel(possible_value_ranges_file)"
   ]
  },
  {
   "cell_type": "code",
   "execution_count": null,
   "metadata": {},
   "outputs": [],
   "source": [
    "plausible_restricted_lab_df['out_of_range'] = False\n",
    "for variable in possible_value_ranges['variable_label'].dropna().unique():\n",
    "    possible_value_ranges_for_variable = possible_value_ranges[possible_value_ranges['variable_label'] == variable]\n",
    "    plausible_restricted_lab_df.loc[(plausible_restricted_lab_df['label'] == variable)\n",
    "                             & (~plausible_restricted_lab_df['valuenum'].between(\n",
    "                                         possible_value_ranges_for_variable['Min'].values[0],\n",
    "                                         possible_value_ranges_for_variable['Max'].values[0])),\n",
    "                                    'out_of_range'] = True\n"
   ]
  },
  {
   "cell_type": "code",
   "execution_count": null,
   "metadata": {},
   "outputs": [],
   "source": [
    "n_observations_out_ouf_range = len(plausible_restricted_lab_df[(plausible_restricted_lab_df[\"out_of_range\"]) & (~plausible_restricted_lab_df.valuenum.isna())])\n",
    "if verbose:\n",
    "    print(f'Excluding {n_observations_out_ouf_range} observations because out of range')\n",
    "\n",
    "plausible_restricted_lab_df.loc[plausible_restricted_lab_df['out_of_range'] == True, ['value', 'valuenum']] = np.NAN\n",
    "\n",
    "plausible_restricted_lab_df.dropna(subset=['valuenum'], inplace=True)"
   ]
  },
  {
   "cell_type": "markdown",
   "metadata": {
    "collapsed": false
   },
   "source": [
    "## Log descriptive stats"
   ]
  },
  {
   "cell_type": "code",
   "execution_count": null,
   "metadata": {},
   "outputs": [],
   "source": [
    "# get mean number of values per dosage label patient admission id\n",
    "median_observations_per_case_admission_id = \\\n",
    "    plausible_restricted_lab_df.groupby(['hadm_id', 'label'])['valuenum'].count().reset_index()\n",
    "median_observations_per_case_admission_id_df = median_observations_per_case_admission_id.groupby('label').median()\n",
    "median_observations_per_case_admission_id_df.rename(columns={'value': 'median_observations_per_case_admission_id'}, inplace=True)\n",
    "descriptive_stats_df = plausible_restricted_lab_df.groupby('label')['valuenum'].describe()"
   ]
  },
  {
   "cell_type": "code",
   "execution_count": null,
   "metadata": {},
   "outputs": [],
   "source": [
    "median_observations_per_case_admission_id_df"
   ]
  },
  {
   "cell_type": "code",
   "execution_count": null,
   "metadata": {},
   "outputs": [],
   "source": [
    "descriptive_stats_df"
   ]
  },
  {
   "cell_type": "markdown",
   "metadata": {
    "collapsed": false
   },
   "source": [
    "## Testing full pipeline"
   ]
  },
  {
   "cell_type": "code",
   "execution_count": null,
   "metadata": {},
   "outputs": [],
   "source": [
    "from mimic_preprocessing.lab_preprocessing.lab_preprocessing import preprocess_labs\n",
    "\n",
    "preprocessed_labs = preprocess_labs(lab_df, log_dir='/Users/jk1/temp/mimic/prepro/test')"
   ]
  },
  {
   "cell_type": "code",
   "execution_count": null,
   "metadata": {},
   "outputs": [],
   "source": [
    "preprocessed_labs[preprocessed_labs.valuenum.isna()]"
   ]
  },
  {
   "cell_type": "markdown",
   "metadata": {
    "collapsed": false
   },
   "source": [
    "Remaining issues:\n",
    "- BNP does not have the same distribution in both datasets"
   ]
  },
  {
   "cell_type": "code",
   "execution_count": null,
   "metadata": {},
   "outputs": [],
   "source": [
    "lab_df[lab_df.label == 'NTproBNP']"
   ]
  },
  {
   "cell_type": "code",
   "execution_count": null,
   "metadata": {},
   "outputs": [],
   "source": []
  }
 ],
 "metadata": {
  "kernelspec": {
   "display_name": "Python 3",
   "language": "python",
   "name": "python3"
  },
  "language_info": {
   "codemirror_mode": {
    "name": "ipython",
    "version": 2
   },
   "file_extension": ".py",
   "mimetype": "text/x-python",
   "name": "python",
   "nbconvert_exporter": "python",
   "pygments_lexer": "ipython2",
   "version": "2.7.6"
  }
 },
 "nbformat": 4,
 "nbformat_minor": 0
}
