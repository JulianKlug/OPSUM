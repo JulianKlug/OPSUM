{
 "cells": [
  {
   "cell_type": "markdown",
   "metadata": {
    "collapsed": false
   },
   "source": [
    "# Report inclusion/exclusion numbers"
   ]
  },
  {
   "cell_type": "code",
   "execution_count": null,
   "metadata": {},
   "outputs": [],
   "source": [
    "import pandas as pd\n",
    "import numpy as np\n",
    "import pandas as pd\n",
    "import matplotlib.pyplot as plt\n",
    "import psycopg2"
   ]
  },
  {
   "cell_type": "code",
   "execution_count": null,
   "metadata": {},
   "outputs": [],
   "source": [
    "outcomes_path = '/Users/jk1/temp/mimic/extraction/outcome_df.csv'\n",
    "mimic_notes_path = '/Users/jk1/OneDrive - unige.ch/stroke_research/geneva_stroke_unit_dataset/data/mimic_data/combined_notes_labels_v2.xlsx'"
   ]
  },
  {
   "cell_type": "code",
   "execution_count": null,
   "metadata": {},
   "outputs": [],
   "source": [
    " # information used to create a database connection\n",
    "sqluser = 'postgres'\n",
    "sqlpassword = 'postgres'\n",
    "dbname = 'mimic'\n",
    "schema_name = 'mimiciii'\n",
    "con = psycopg2.connect(dbname=dbname, user=sqluser, password=sqlpassword, port=5000, host='localhost')\n",
    "\n",
    "# the below statement is prepended to queries to ensure they select from the right schema\n",
    "query_schema = f'set search_path to {schema_name};'"
   ]
  },
  {
   "cell_type": "code",
   "execution_count": null,
   "metadata": {},
   "outputs": [],
   "source": [
    "selection_query_path = './data_extraction/patient_selection_query.sql'\n",
    "# load in the text of the query\n",
    "with open(selection_query_path) as fp:\n",
    "    patient_selection_query = ''.join(fp.readlines())"
   ]
  },
  {
   "cell_type": "code",
   "execution_count": null,
   "metadata": {},
   "outputs": [],
   "source": [
    "query = query_schema + patient_selection_query + \"\"\"\n",
    "            SELECT selection.subject_id, selection.hadm_id, selection.icustay_id,\n",
    "                    selection.exclusion_los, selection.exclusion_age, selection.exclusion_first_stay,\n",
    "                    selection.exclusion_discharge_diagnosis, selection.exclusion_non_urgent, selection.exclusion_admission_diagnosis\n",
    "            FROM selection\n",
    "            \"\"\""
   ]
  },
  {
   "cell_type": "code",
   "execution_count": null,
   "metadata": {},
   "outputs": [],
   "source": [
    "included_patients_df = pd.read_sql_query(query, con)"
   ]
  },
  {
   "cell_type": "markdown",
   "metadata": {
    "collapsed": false
   },
   "source": [
    "## Extract exclusion criteria"
   ]
  },
  {
   "cell_type": "code",
   "execution_count": null,
   "metadata": {},
   "outputs": [],
   "source": [
    "print('{:20s} {:5d}'.format('Number of Patient records', included_patients_df.hadm_id.nunique()))\n",
    "for col in included_patients_df.columns:\n",
    "    if \"exclusion_\" in col:\n",
    "        print('{:20s} {:5d} ({:2.2f}%)'.format(col, len(set(included_patients_df.hadm_id.unique()) - set(included_patients_df[included_patients_df[col] == 0].hadm_id.unique())), len(set(included_patients_df.hadm_id.unique()) - set(included_patients_df[included_patients_df[col] == 0].hadm_id.unique()))*100.0/included_patients_df.hadm_id.nunique()))"
   ]
  },
  {
   "cell_type": "code",
   "execution_count": null,
   "metadata": {},
   "outputs": [],
   "source": [
    "print(f'Not admitted for acute ischemic stroke: {len(set(included_patients_df.hadm_id.unique()) - set(included_patients_df[(included_patients_df[\"exclusion_discharge_diagnosis\"] == 0) & (included_patients_df[\"exclusion_admission_diagnosis\"] == 0) & (included_patients_df[\"exclusion_non_urgent\"] == 0)].hadm_id.unique()))}')"
   ]
  },
  {
   "cell_type": "markdown",
   "metadata": {
    "collapsed": false
   },
   "source": [
    "Within patients admitted for acute ischemic stroke:"
   ]
  },
  {
   "cell_type": "code",
   "execution_count": null,
   "metadata": {},
   "outputs": [],
   "source": [
    "n_patients_with_ais = len(set(included_patients_df[(included_patients_df[\"exclusion_discharge_diagnosis\"] == 0) & (included_patients_df[\"exclusion_admission_diagnosis\"] == 0) & (included_patients_df[\"exclusion_non_urgent\"] == 0)].hadm_id.unique()))\n",
    "\n",
    "print('{:20s} {:5d}'.format('Number of Patient records admitted for acute ischemic stroke', n_patients_with_ais))\n",
    "\n",
    "for col in included_patients_df.columns:\n",
    "    if \"exclusion_\" in col:\n",
    "        print('{:20s} {:5d} ({:2.2f}%)'.format(col, len(set(included_patients_df[(included_patients_df[\"exclusion_discharge_diagnosis\"] == 0) & (included_patients_df[\"exclusion_admission_diagnosis\"] == 0) & (included_patients_df[\"exclusion_non_urgent\"] == 0)].hadm_id.unique()) - set(included_patients_df[included_patients_df[col] == 0].hadm_id.unique())), len(set(included_patients_df[(included_patients_df[\"exclusion_discharge_diagnosis\"] == 0) & (included_patients_df[\"exclusion_admission_diagnosis\"] == 0) & (included_patients_df[\"exclusion_non_urgent\"] == 0)].hadm_id.unique()) - set(included_patients_df[included_patients_df[col] == 0].hadm_id.unique()))*100.0/n_patients_with_ais))"
   ]
  },
  {
   "cell_type": "markdown",
   "metadata": {
    "collapsed": false
   },
   "source": [
    "## Retained patients after primary exclusion"
   ]
  },
  {
   "cell_type": "code",
   "execution_count": null,
   "metadata": {},
   "outputs": [],
   "source": [
    "outcome_df = pd.read_csv(outcomes_path)"
   ]
  },
  {
   "cell_type": "code",
   "execution_count": null,
   "metadata": {},
   "outputs": [],
   "source": [
    "print('Number of patients after primary exclusion:', outcome_df.hadm_id.nunique())"
   ]
  },
  {
   "cell_type": "markdown",
   "metadata": {
    "collapsed": false
   },
   "source": [
    "## Retained with detailed note\n",
    "- admission note\n",
    "- discharge note with detailed neuro admission exam"
   ]
  },
  {
   "cell_type": "code",
   "execution_count": null,
   "metadata": {},
   "outputs": [],
   "source": [
    "mimic_notes_df = pd.read_excel(mimic_notes_path)"
   ]
  },
  {
   "cell_type": "code",
   "execution_count": null,
   "metadata": {},
   "outputs": [],
   "source": [
    "print('Number of patients with detailed notes:', mimic_notes_df.hadm_id.nunique())"
   ]
  },
  {
   "cell_type": "code",
   "execution_count": null,
   "metadata": {},
   "outputs": [],
   "source": []
  }
 ],
 "metadata": {
  "kernelspec": {
   "display_name": "Python 3",
   "language": "python",
   "name": "python3"
  },
  "language_info": {
   "codemirror_mode": {
    "name": "ipython",
    "version": 2
   },
   "file_extension": ".py",
   "mimetype": "text/x-python",
   "name": "python",
   "nbconvert_exporter": "python",
   "pygments_lexer": "ipython2",
   "version": "2.7.6"
  }
 },
 "nbformat": 4,
 "nbformat_minor": 0
}
