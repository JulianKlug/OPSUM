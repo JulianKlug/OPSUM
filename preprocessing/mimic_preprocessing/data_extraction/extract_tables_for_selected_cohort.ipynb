{
 "cells": [
  {
   "cell_type": "markdown",
   "metadata": {
    "collapsed": false
   },
   "source": [
    "# Extract tables\n",
    "\n",
    "Given a cohort selection query, extract selected tables for patients in cohort\n",
    "\n",
    "Relevant tables:\n",
    "- CHARTEVENTS\n",
    "- LABEVENTS\n",
    "- PATIENTS"
   ]
  },
  {
   "cell_type": "code",
   "execution_count": null,
   "metadata": {},
   "outputs": [],
   "source": [
    "# Import libraries\n",
    "import numpy as np\n",
    "import pandas as pd\n",
    "import matplotlib.pyplot as plt\n",
    "import psycopg2\n",
    "import os"
   ]
  },
  {
   "cell_type": "code",
   "execution_count": null,
   "metadata": {},
   "outputs": [],
   "source": [
    "output_dir = '/Users/jk1/temp/mimic/extraction'"
   ]
  },
  {
   "cell_type": "code",
   "execution_count": null,
   "metadata": {},
   "outputs": [],
   "source": [
    "%matplotlib inline\n",
    "plt.style.use('ggplot')\n",
    "\n",
    "# information used to create a database connection\n",
    "sqluser = 'postgres'\n",
    "sqlpassword = 'postgres'\n",
    "dbname = 'mimic'\n",
    "schema_name = 'mimiciii'\n",
    "con = psycopg2.connect(dbname=dbname, user=sqluser, password=sqlpassword, port=5000, host='localhost')\n",
    "\n",
    "\n",
    "# the below statement is prepended to queries to ensure they select from the right schema\n",
    "query_schema = 'set search_path to ' + schema_name + ';'"
   ]
  },
  {
   "cell_type": "code",
   "execution_count": null,
   "metadata": {},
   "outputs": [],
   "source": [
    "selection_query_path = './patient_selection_query.sql'\n",
    "# load in the text of the query\n",
    "with open(selection_query_path) as fp:\n",
    "    patient_selection_query = ''.join(fp.readlines())"
   ]
  },
  {
   "cell_type": "markdown",
   "metadata": {
    "collapsed": false
   },
   "source": [
    "# Extract mortality outcome\n",
    "\n",
    "- in-hospital mortality (needs dod, hospital-discharge date)\n",
    "- 3m mortality (needs dod, hospital admission date)"
   ]
  },
  {
   "cell_type": "code",
   "execution_count": null,
   "metadata": {},
   "outputs": [],
   "source": [
    "query = query_schema + patient_selection_query + \"\"\"\n",
    "\n",
    "SELECT selection.subject_id, selection.hadm_id, selection.icustay_id , selection.age,\n",
    "  admissions.admittime, admissions.dischtime, pat.dod\n",
    "\n",
    "FROM selection\n",
    "\n",
    "INNER JOIN patients pat\n",
    "  ON selection.subject_id = pat.subject_id\n",
    "\n",
    "INNER JOIN admissions admissions\n",
    "  ON selection.hadm_id = admissions.hadm_id\n",
    "\n",
    "WHERE selection.exclusion_discharge_diagnosis = 0\n",
    "    AND selection.exclusion_first_stay = 0\n",
    "    AND selection.exclusion_age = 0\n",
    "    AND selection.exclusion_los = 0\n",
    "    AND selection.exclusion_non_urgent = 0\n",
    "    AND selection.exclusion_admission_diagnosis = 0\n",
    "\"\"\"\n",
    "mortality_df = pd.read_sql_query(query, con)\n",
    "mortality_df"
   ]
  },
  {
   "cell_type": "code",
   "execution_count": null,
   "metadata": {},
   "outputs": [],
   "source": [
    "mortality_df.to_csv(os.path.join(output_dir, 'mortality_df.csv'))"
   ]
  },
  {
   "cell_type": "markdown",
   "metadata": {
    "collapsed": false
   },
   "source": [
    "# Extract lab df"
   ]
  },
  {
   "cell_type": "code",
   "execution_count": null,
   "metadata": {},
   "outputs": [],
   "source": [
    "query = query_schema + \"\"\"\n",
    "WITH sel_lab as\n",
    "(\n",
    "\"\"\" + patient_selection_query + \"\"\"\n",
    "SELECT selection.subject_id, selection.hadm_id, selection.icustay_id,\n",
    "        lab.itemid, lab.charttime,\tlab.value,\tlab.valuenum,\tlab.valueuom\n",
    "FROM selection\n",
    "\n",
    "INNER JOIN labevents as lab\n",
    "    on selection.hadm_id = lab.hadm_id\n",
    "\n",
    "WHERE selection.exclusion_discharge_diagnosis = 0\n",
    "    AND selection.exclusion_first_stay = 0\n",
    "    AND selection.exclusion_age = 0\n",
    "    AND selection.exclusion_los = 0\n",
    ")\n",
    "\n",
    "SELECT sel_lab.subject_id, sel_lab.hadm_id, sel_lab.icustay_id,\n",
    "        sel_lab.itemid, d_labitems.label,\tsel_lab.charttime,\tsel_lab.value,\tsel_lab.valuenum,\tsel_lab.valueuom\n",
    "FROM sel_lab\n",
    "LEFT JOIN d_labitems as d_labitems\n",
    "    on sel_lab.itemid = d_labitems.itemid\n",
    "\n",
    "\"\"\"\n",
    "lab_df = pd.read_sql_query(query, con)\n",
    "lab_df"
   ]
  },
  {
   "cell_type": "code",
   "execution_count": null,
   "metadata": {},
   "outputs": [],
   "source": [
    "lab_df.to_csv(os.path.join(output_dir, 'lab_df.csv'))"
   ]
  },
  {
   "cell_type": "markdown",
   "metadata": {
    "collapsed": false
   },
   "source": [
    "# Extract monitoring"
   ]
  },
  {
   "cell_type": "code",
   "execution_count": null,
   "metadata": {},
   "outputs": [],
   "source": [
    "query = query_schema + \"\"\"\n",
    "WITH sel_monitoring as\n",
    "(\n",
    "\"\"\" + patient_selection_query + \"\"\"\n",
    "SELECT selection.subject_id, selection.hadm_id, selection.icustay_id,\n",
    "        chart.itemid,\tchart.charttime,\tchart.storetime,\tchart.value,\tchart.valuenum,\tchart.valueuom\n",
    "\n",
    "FROM selection\n",
    "\n",
    "INNER JOIN chartevents as chart\n",
    "    on selection.hadm_id = chart.hadm_id\n",
    "\n",
    "WHERE selection.exclusion_discharge_diagnosis = 0\n",
    "    AND selection.exclusion_first_stay = 0\n",
    "    AND selection.exclusion_age = 0\n",
    "    AND selection.exclusion_los = 0\n",
    ")\n",
    "\n",
    "SELECT sel_monitoring.subject_id, sel_monitoring.hadm_id, sel_monitoring.icustay_id,\n",
    "    sel_monitoring.itemid, d_items.label,\tsel_monitoring.charttime,\tsel_monitoring.storetime,\tsel_monitoring.value,\tsel_monitoring.valuenum,\tsel_monitoring.valueuom\n",
    "FROM sel_monitoring\n",
    "LEFT JOIN d_items as d_items\n",
    "    on sel_monitoring.itemid = d_items.itemid\n",
    "\n",
    "\n",
    "\"\"\"\n",
    "monitoring_df = pd.read_sql_query(query, con)\n",
    "monitoring_df"
   ]
  },
  {
   "cell_type": "code",
   "execution_count": null,
   "metadata": {},
   "outputs": [],
   "source": [
    "monitoring_df.to_csv(os.path.join(output_dir, 'monitoring_df.csv'))"
   ]
  },
  {
   "cell_type": "markdown",
   "metadata": {
    "collapsed": false
   },
   "source": [
    "# Admission variables"
   ]
  },
  {
   "cell_type": "code",
   "execution_count": null,
   "metadata": {},
   "outputs": [],
   "source": [
    "query = query_schema + \"\"\"\n",
    "WITH sel_admission as\n",
    "(\n",
    "\"\"\" + patient_selection_query + \"\"\"\n",
    "SELECT selection.subject_id, selection.hadm_id, selection.icustay_id, selection.age, pat.gender, admissions.diagnosis, admissions.admission_type, admissions.admission_location, chart.itemid, chart.value as chart_value\n",
    "\n",
    "FROM selection\n",
    "\n",
    "INNER JOIN patients pat\n",
    "  ON selection.subject_id = pat.subject_id\n",
    "\n",
    "INNER JOIN admissions admissions\n",
    "  ON selection.hadm_id = admissions.hadm_id\n",
    "\n",
    "LEFT JOIN chartevents as chart\n",
    "    ON selection.hadm_id = chart.hadm_id\n",
    "    AND (chart.itemid = 225059 OR chart.itemid = 225811)\n",
    "\n",
    "WHERE selection.exclusion_discharge_diagnosis = 0\n",
    "    AND selection.exclusion_first_stay = 0\n",
    "    AND selection.exclusion_age = 0\n",
    "    AND selection.exclusion_los = 0\n",
    ")\n",
    "\n",
    "SELECT sel_admission.subject_id, sel_admission.hadm_id, sel_admission.icustay_id,\n",
    "    sel_admission.age, sel_admission.gender, sel_admission.admission_type, sel_admission.diagnosis, sel_admission.admission_location,\n",
    "    sel_admission.itemid, d_items.label, sel_admission.chart_value\n",
    "\n",
    "FROM sel_admission\n",
    "LEFT JOIN d_items as d_items\n",
    "    on sel_admission.itemid = d_items.itemid\n",
    "\n",
    "\n",
    "\"\"\"\n",
    "admission_df = pd.read_sql_query(query, con)\n",
    "admission_df"
   ]
  },
  {
   "cell_type": "code",
   "execution_count": null,
   "metadata": {},
   "outputs": [],
   "source": [
    "admission_df.to_csv(os.path.join(output_dir, 'admission_df.csv'))"
   ]
  },
  {
   "cell_type": "markdown",
   "metadata": {
    "collapsed": false
   },
   "source": [
    "# Procedures variables"
   ]
  },
  {
   "cell_type": "code",
   "execution_count": null,
   "metadata": {},
   "outputs": [],
   "source": [
    "query = query_schema + \"\"\"\n",
    "WITH sel_procedure as\n",
    "(\n",
    "\"\"\" + patient_selection_query + \"\"\"\n",
    "SELECT selection.subject_id, selection.hadm_id, selection.icustay_id, selection.admittime,\n",
    "        procedures.icd9_code, in_cv.itemid as citemid, in_cv.charttime as charttime, in_mv.itemid as mitemid, in_mv.starttime as starttime,\n",
    "        proc_mv.itemid as pmitemid, proc_mv.starttime as proc_starttime\n",
    "\n",
    "FROM selection\n",
    "\n",
    "LEFT JOIN procedures_icd as procedures\n",
    "  ON selection.hadm_id = procedures.hadm_id\n",
    "  AND (procedures.icd9_code::integer = 3974 OR procedures.icd9_code::integer = 9910)\n",
    "\n",
    "LEFT JOIN inputevents_cv as in_cv\n",
    "    ON selection.hadm_id = in_cv.hadm_id\n",
    "    AND (in_cv.itemid = 227056 OR in_cv.itemid = 2666 OR in_cv.itemid = 2667 OR in_cv.itemid = 42575 OR in_cv.itemid = 221319)\n",
    "\n",
    "LEFT JOIN inputevents_mv as in_mv\n",
    "    ON selection.hadm_id = in_mv.hadm_id\n",
    "    AND (in_mv.itemid = 227056 OR in_mv.itemid = 2666 OR in_mv.itemid = 2667 OR in_mv.itemid = 42575 OR in_mv.itemid = 221319)\n",
    "\n",
    "LEFT JOIN procedureevents_mv as proc_mv\n",
    "    ON selection.hadm_id = proc_mv.hadm_id\n",
    "    AND (proc_mv.itemid = 225427 OR proc_mv.itemid = 225462)\n",
    "\n",
    "WHERE selection.exclusion_discharge_diagnosis = 0\n",
    "    AND selection.exclusion_first_stay = 0\n",
    "    AND selection.exclusion_age = 0\n",
    "    AND selection.exclusion_los = 0\n",
    "    AND selection.exclusion_non_urgent = 0\n",
    ")\n",
    "\n",
    "SELECT sel_procedure.subject_id, sel_procedure.hadm_id, sel_procedure.icustay_id, sel_procedure.admittime,\n",
    "    sel_procedure.icd9_code, sel_procedure.charttime, sel_procedure.starttime, proc_starttime, d_icd_procedures.long_title, d_items.label, pmitemid, mitemid, citemid\n",
    "\n",
    "FROM sel_procedure\n",
    "\n",
    "LEFT JOIN d_icd_procedures\n",
    "    on sel_procedure.icd9_code = d_icd_procedures.icd9_code\n",
    "\n",
    "LEFT JOIN d_items as d_items\n",
    "    ON sel_procedure.citemid = d_items.itemid\n",
    "    OR sel_procedure.mitemid = d_items.itemid\n",
    "    OR sel_procedure.pmitemid = d_items.itemid\n",
    "\n",
    "\"\"\"\n",
    "procedure_df = pd.read_sql_query(query, con)\n",
    "procedure_df"
   ]
  },
  {
   "cell_type": "code",
   "execution_count": null,
   "metadata": {},
   "outputs": [],
   "source": [
    "procedure_df.label.unique()"
   ]
  },
  {
   "cell_type": "code",
   "execution_count": null,
   "metadata": {},
   "outputs": [],
   "source": [
    "procedure_df[procedure_df.hadm_id == 136317]"
   ]
  },
  {
   "cell_type": "code",
   "execution_count": null,
   "metadata": {},
   "outputs": [],
   "source": [
    "# procedure_df.to_csv(os.path.join(output_dir, 'procedure_df.csv'))"
   ]
  },
  {
   "cell_type": "code",
   "execution_count": null,
   "metadata": {},
   "outputs": [],
   "source": [
    "ditems_path = '/Users/jk1/stroke_datasets/mimic-iii-clinical-database-demo-1.4/D_ITEMS.csv'"
   ]
  },
  {
   "cell_type": "code",
   "execution_count": null,
   "metadata": {},
   "outputs": [],
   "source": [
    "ditems_df = pd.read_csv(ditems_path)"
   ]
  },
  {
   "cell_type": "code",
   "execution_count": null,
   "metadata": {},
   "outputs": [],
   "source": [
    "ditems_df.category.unique()"
   ]
  },
  {
   "cell_type": "code",
   "execution_count": null,
   "metadata": {},
   "outputs": [],
   "source": []
  }
 ],
 "metadata": {
  "kernelspec": {
   "display_name": "Python 3",
   "language": "python",
   "name": "python3"
  },
  "language_info": {
   "codemirror_mode": {
    "name": "ipython",
    "version": 2
   },
   "file_extension": ".py",
   "mimetype": "text/x-python",
   "name": "python",
   "nbconvert_exporter": "python",
   "pygments_lexer": "ipython2",
   "version": "2.7.6"
  }
 },
 "nbformat": 4,
 "nbformat_minor": 0
}
