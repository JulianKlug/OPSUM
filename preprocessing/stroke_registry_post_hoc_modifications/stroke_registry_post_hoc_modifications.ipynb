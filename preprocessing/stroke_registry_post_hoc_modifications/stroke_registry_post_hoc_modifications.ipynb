{
 "cells": [
  {
   "cell_type": "code",
   "execution_count": null,
   "metadata": {
    "pycharm": {
     "name": "#%%\n"
    }
   },
   "outputs": [],
   "source": [
    "import pandas as pd\n",
    "import os\n",
    "import numpy as np\n",
    "from modun.file_io import ensure_dir"
   ]
  },
  {
   "cell_type": "code",
   "execution_count": null,
   "metadata": {
    "pycharm": {
     "name": "#%%\n"
    }
   },
   "outputs": [],
   "source": [
    "data_2018_path = '/Users/jk1/OneDrive - unige.ch/stroke_research/geneva_stroke_unit_dataset/data/stroke_registry/original_extraction/062022/SSR_cases_of_2018.xlsx'\n",
    "data_2019_path = '/Users/jk1/OneDrive - unige.ch/stroke_research/geneva_stroke_unit_dataset/data/stroke_registry/original_extraction/062022/SSR_cases_of_2019.xlsx'\n",
    "data_2020_path = '/Users/jk1/OneDrive - unige.ch/stroke_research/geneva_stroke_unit_dataset/data/stroke_registry/original_extraction/062022/SSR_cases_of_2020.xlsx'\n",
    "data_2021_path = '/Users/jk1/OneDrive - unige.ch/stroke_research/geneva_stroke_unit_dataset/data/stroke_registry/original_extraction/062022/SSR_cases_of_2021.xlsx'"
   ]
  },
  {
   "cell_type": "code",
   "execution_count": null,
   "metadata": {
    "pycharm": {
     "name": "#%%\n"
    }
   },
   "outputs": [],
   "source": [
    "modifications_path = '/Users/jk1/OneDrive - unige.ch/stroke_research/geneva_stroke_unit_dataset/data/stroke_registry/post_hoc_modifications.xlsx'"
   ]
  },
  {
   "cell_type": "code",
   "execution_count": null,
   "metadata": {
    "pycharm": {
     "name": "#%%\n"
    }
   },
   "outputs": [],
   "source": [
    "os.path.join(os.path.dirname(os.path.dirname(data_2018_path)), 'post_hoc_modified')"
   ]
  },
  {
   "cell_type": "code",
   "execution_count": null,
   "metadata": {
    "pycharm": {
     "name": "#%%\n"
    }
   },
   "outputs": [],
   "source": [
    "post_hoc_data_dir = os.path.join(os.path.dirname(os.path.dirname(data_2018_path)), 'post_hoc_modified')\n",
    "ensure_dir(post_hoc_data_dir)"
   ]
  },
  {
   "cell_type": "code",
   "execution_count": null,
   "metadata": {
    "pycharm": {
     "name": "#%%\n"
    }
   },
   "outputs": [],
   "source": [
    "# skipping empty rows at the beginning\n",
    "data_2018_df = pd.read_excel(data_2018_path, skiprows=[0, 1, 2, 3, 4, 5, 7])\n",
    "data_2019_df = pd.read_excel(data_2019_path, skiprows=[0, 1, 2, 3, 4, 5, 7])\n",
    "data_2020_df = pd.read_excel(data_2020_path, skiprows=[0, 1, 2, 3, 4, 5, 7])\n",
    "data_2021_df = pd.read_excel(data_2021_path, skiprows=[0, 1, 2, 3, 4, 5, 7])"
   ]
  },
  {
   "cell_type": "markdown",
   "metadata": {
    "collapsed": false,
    "pycharm": {
     "name": "#%% md\n"
    }
   },
   "source": [
    "Verify all columns correspond"
   ]
  },
  {
   "cell_type": "code",
   "execution_count": null,
   "metadata": {
    "pycharm": {
     "name": "#%%\n"
    }
   },
   "outputs": [],
   "source": [
    "(\n",
    "np.all(data_2018_df.columns == data_2019_df.columns),\n",
    "np.all(data_2018_df.columns == data_2020_df.columns),\n",
    "np.all(data_2018_df.columns == data_2021_df.columns)\n",
    ")"
   ]
  },
  {
   "cell_type": "code",
   "execution_count": null,
   "metadata": {
    "pycharm": {
     "name": "#%%\n"
    }
   },
   "outputs": [],
   "source": [
    "stroke_registry_df = pd.concat([data_2018_df, data_2019_df, data_2020_df, data_2021_df])"
   ]
  },
  {
   "cell_type": "code",
   "execution_count": null,
   "metadata": {
    "pycharm": {
     "name": "#%%\n"
    }
   },
   "outputs": [],
   "source": [
    "modifications_df = pd.read_excel(modifications_path)"
   ]
  },
  {
   "cell_type": "code",
   "execution_count": null,
   "metadata": {
    "pycharm": {
     "name": "#%%\n"
    }
   },
   "outputs": [],
   "source": [
    "stroke_registry_df"
   ]
  },
  {
   "cell_type": "code",
   "execution_count": null,
   "metadata": {
    "pycharm": {
     "name": "#%%\n"
    }
   },
   "outputs": [],
   "source": [
    "modifications_df"
   ]
  },
  {
   "cell_type": "code",
   "execution_count": null,
   "metadata": {
    "pycharm": {
     "name": "#%%\n"
    }
   },
   "outputs": [],
   "source": [
    "for index, row in modifications_df.iterrows():\n",
    "    print(f'Modifying {row[\"modified_column\"]} for {row[\"Case ID\"]}, because {row[\"reason\"]}')\n",
    "    stroke_registry_df.loc[stroke_registry_df['Case ID'] == row['Case ID'], row['modified_column']] = row['new_value']"
   ]
  },
  {
   "cell_type": "code",
   "execution_count": null,
   "metadata": {
    "pycharm": {
     "name": "#%%\n"
    }
   },
   "outputs": [],
   "source": [
    "stroke_registry_df.to_excel(os.path.join('/Users/jk1/Downloads', 'stroke_registry_post_hoc_modified.xlsx'), index=False)"
   ]
  },
  {
   "cell_type": "code",
   "execution_count": null,
   "metadata": {
    "pycharm": {
     "name": "#%%\n"
    }
   },
   "outputs": [],
   "source": []
  }
 ],
 "metadata": {
  "kernelspec": {
   "display_name": "Python 3",
   "language": "python",
   "name": "python3"
  },
  "language_info": {
   "codemirror_mode": {
    "name": "ipython",
    "version": 2
   },
   "file_extension": ".py",
   "mimetype": "text/x-python",
   "name": "python",
   "nbconvert_exporter": "python",
   "pygments_lexer": "ipython2",
   "version": "2.7.6"
  }
 },
 "nbformat": 4,
 "nbformat_minor": 0
}
