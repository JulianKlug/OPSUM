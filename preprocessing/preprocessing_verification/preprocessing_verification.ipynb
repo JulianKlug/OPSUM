{
 "cells": [
  {
   "cell_type": "code",
   "execution_count": null,
   "metadata": {
    "pycharm": {
     "name": "#%%\n"
    }
   },
   "outputs": [],
   "source": [
    "from tqdm import tqdm\n",
    "import matplotlib.pyplot as plt\n",
    "import pandas as pd\n",
    "import os\n",
    "import seaborn as sns\n",
    "import numpy as np"
   ]
  },
  {
   "cell_type": "code",
   "execution_count": null,
   "metadata": {
    "pycharm": {
     "name": "#%%\n"
    }
   },
   "outputs": [],
   "source": [
    "data_path = '/Users/jk1/temp/opsum_prepro_output/preprocessed_features_15062022_191426.csv'\n",
    "outcomes_path = '/Users/jk1/temp/opsum_prepro_output/preprocessed_outcomes_15062022_191426.csv'"
   ]
  },
  {
   "cell_type": "code",
   "execution_count": null,
   "metadata": {
    "pycharm": {
     "name": "#%%\n"
    }
   },
   "outputs": [],
   "source": [
    "data_df = pd.read_csv(data_path)\n",
    "outcomes_df = pd.read_csv(outcomes_path)"
   ]
  },
  {
   "cell_type": "code",
   "execution_count": null,
   "metadata": {
    "pycharm": {
     "name": "#%%\n"
    }
   },
   "outputs": [],
   "source": [
    "outcomes_df.head()"
   ]
  },
  {
   "cell_type": "code",
   "execution_count": null,
   "metadata": {
    "pycharm": {
     "name": "#%%\n"
    }
   },
   "outputs": [],
   "source": [
    "len(data_df.case_admission_id.unique())\n"
   ]
  },
  {
   "cell_type": "code",
   "execution_count": null,
   "metadata": {
    "pycharm": {
     "name": "#%%\n"
    }
   },
   "outputs": [],
   "source": [
    "# find number of case_admission_id that have an outcome\n",
    "outcome = '3M mRS 0-2'\n",
    "n_patients_with_outcome = outcomes_df[(outcomes_df.case_admission_id.isin(data_df.case_admission_id.unique())) & (~outcomes_df[outcome].isnull())].case_admission_id.nunique()\n",
    "n_patients_without_outcome = len(data_df.case_admission_id.unique()) - n_patients_with_outcome\n",
    "print(f'Number of patients with outcome: {n_patients_with_outcome}')\n",
    "print(f'Number of patients without outcome: {n_patients_without_outcome}')"
   ]
  },
  {
   "cell_type": "code",
   "execution_count": null,
   "metadata": {
    "pycharm": {
     "name": "#%%\n"
    }
   },
   "outputs": [],
   "source": [
    "# print description of every sample_label in sample_labels in data_df\n",
    "for sample_label in data_df['sample_label'].unique():\n",
    "    print(sample_label)\n",
    "    print(data_df[data_df['sample_label'] == sample_label].value.describe())"
   ]
  },
  {
   "cell_type": "code",
   "execution_count": null,
   "metadata": {
    "pycharm": {
     "name": "#%%\n"
    }
   },
   "outputs": [],
   "source": [
    "# plot distribution of every sample_label in sample_labels in data_df\n",
    "for sample_label in data_df['sample_label'].unique():\n",
    "    ax = sns.distplot(data_df[data_df['sample_label'] == sample_label].value)\n",
    "    ax.set_title(sample_label)\n",
    "    plt.show()"
   ]
  },
  {
   "cell_type": "code",
   "execution_count": null,
   "metadata": {
    "pycharm": {
     "name": "#%%\n"
    }
   },
   "outputs": [],
   "source": []
  }
 ],
 "metadata": {
  "kernelspec": {
   "display_name": "Python 3",
   "language": "python",
   "name": "python3"
  },
  "language_info": {
   "codemirror_mode": {
    "name": "ipython",
    "version": 2
   },
   "file_extension": ".py",
   "mimetype": "text/x-python",
   "name": "python",
   "nbconvert_exporter": "python",
   "pygments_lexer": "ipython2",
   "version": "2.7.6"
  }
 },
 "nbformat": 4,
 "nbformat_minor": 0
}
