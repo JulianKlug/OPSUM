{
 "cells": [
  {
   "cell_type": "code",
   "execution_count": null,
   "metadata": {
    "pycharm": {
     "name": "#%%\n"
    }
   },
   "outputs": [],
   "source": [
    "import pandas as pd"
   ]
  },
  {
   "cell_type": "code",
   "execution_count": null,
   "metadata": {
    "pycharm": {
     "name": "#%%\n"
    }
   },
   "outputs": [],
   "source": [
    "eds_j1_path = '/Users/jk1/OneDrive - unige.ch/stroke_research/geneva_stroke_unit_dataset/data/Extraction_20211110/eds_j1.csv'\n",
    "patient_selection_path = '/Users/jk1/temp/opsum_extration_output/high_frequency_data_patient_selection_with_details.csv'"
   ]
  },
  {
   "cell_type": "code",
   "execution_count": null,
   "metadata": {
    "pycharm": {
     "name": "#%%\n"
    }
   },
   "outputs": [],
   "source": [
    "eds_df = pd.read_csv(eds_j1_path, sep=';', dtype=str)"
   ]
  },
  {
   "cell_type": "code",
   "execution_count": null,
   "metadata": {
    "pycharm": {
     "name": "#%%\n"
    }
   },
   "outputs": [],
   "source": [
    "eds_df[(eds_df.begin_date.str.slice(0, -5) != eds_df.eds_final_begin.str.slice(0, -5)) & (eds_df.eds_final_begin.notna())]"
   ]
  },
  {
   "cell_type": "code",
   "execution_count": null,
   "metadata": {
    "pycharm": {
     "name": "#%%\n"
    }
   },
   "outputs": [],
   "source": [
    "from preprocessing.eds_verification.eds_tests.test_registry_and_extraction_start_date import test_registry_and_extraction_start_date\n",
    "\n",
    "test_registry_and_extraction_start_date(patient_selection_path, eds_j1_path)"
   ]
  },
  {
   "cell_type": "code",
   "execution_count": null,
   "metadata": {
    "pycharm": {
     "name": "#%%\n"
    }
   },
   "outputs": [],
   "source": [
    "registry_data_df = pd.read_csv(patient_selection_path, dtype=str)"
   ]
  },
  {
   "cell_type": "code",
   "execution_count": null,
   "metadata": {
    "pycharm": {
     "name": "#%%\n"
    }
   },
   "outputs": [],
   "source": [
    "registry_data_df.head()"
   ]
  },
  {
   "cell_type": "code",
   "execution_count": null,
   "metadata": {
    "pycharm": {
     "name": "#%%\n"
    }
   },
   "outputs": [],
   "source": [
    "eds_df.patient_id[0]"
   ]
  },
  {
   "cell_type": "code",
   "execution_count": null,
   "metadata": {
    "pycharm": {
     "name": "#%%\n"
    }
   },
   "outputs": [],
   "source": [
    "registry_data_df[registry_data_df.patient_id == eds_df.patient_id[0]]"
   ]
  },
  {
   "cell_type": "code",
   "execution_count": null,
   "metadata": {
    "pycharm": {
     "name": "#%%\n"
    }
   },
   "outputs": [],
   "source": [
    "joined_df = pd.merge(eds_df, registry_data_df, how='left', left_on=['patient_id', 'eds_end_4digit'], right_on=['patient_id', 'EDS_last_4_digits'])"
   ]
  },
  {
   "cell_type": "code",
   "execution_count": null,
   "metadata": {
    "pycharm": {
     "name": "#%%\n"
    }
   },
   "outputs": [],
   "source": [
    "joined_df.head()"
   ]
  },
  {
   "cell_type": "code",
   "execution_count": null,
   "metadata": {
    "pycharm": {
     "name": "#%%\n"
    }
   },
   "outputs": [],
   "source": [
    "joined_df['Arrival at hospital'] = pd.to_datetime(joined_df['Arrival at hospital'], format='%Y%m%d').dt.strftime('%d.%m.%Y').astype(str)"
   ]
  },
  {
   "cell_type": "code",
   "execution_count": null,
   "metadata": {
    "pycharm": {
     "name": "#%%\n"
    }
   },
   "outputs": [],
   "source": [
    "joined_df['begin_date'] = pd.to_datetime(joined_df['begin_date'], format='%d.%m.%Y %H:%M').dt.strftime('%d.%m.%Y').astype(str)"
   ]
  },
  {
   "cell_type": "code",
   "execution_count": null,
   "metadata": {
    "pycharm": {
     "name": "#%%\n"
    }
   },
   "outputs": [],
   "source": [
    "joined_df['eds_final_begin'] = pd.to_datetime(joined_df['eds_final_begin'], format='%d.%m.%Y %H:%M').dt.strftime('%d.%m.%Y').astype(str)"
   ]
  },
  {
   "cell_type": "code",
   "execution_count": null,
   "metadata": {
    "pycharm": {
     "name": "#%%\n"
    }
   },
   "outputs": [],
   "source": [
    "joined_df['date_from'] = pd.to_datetime(joined_df['date_from'], format='%d.%m.%Y %H:%M').dt.strftime('%d.%m.%Y').astype(str)"
   ]
  },
  {
   "cell_type": "code",
   "execution_count": null,
   "metadata": {
    "pycharm": {
     "name": "#%%\n"
    }
   },
   "outputs": [],
   "source": [
    "joined_df[['begin_date', 'eds_final_begin', 'Arrival at hospital']].head()"
   ]
  },
  {
   "cell_type": "code",
   "execution_count": null,
   "metadata": {
    "pycharm": {
     "name": "#%%\n"
    }
   },
   "outputs": [],
   "source": [
    "joined_df[joined_df['begin_date'] != joined_df['Arrival at hospital']][['patient_id', 'eds_end_4digit','begin_date', 'eds_final_begin', 'Arrival at hospital', 'date_from']]"
   ]
  },
  {
   "cell_type": "code",
   "execution_count": null,
   "metadata": {
    "pycharm": {
     "name": "#%%\n"
    }
   },
   "outputs": [],
   "source": [
    "joined_df[joined_df['eds_final_begin'] != joined_df['Arrival at hospital']][['patient_id', 'eds_end_4digit','begin_date', 'eds_final_begin', 'Arrival at hospital', 'date_from']]"
   ]
  },
  {
   "cell_type": "code",
   "execution_count": null,
   "metadata": {
    "pycharm": {
     "name": "#%%\n"
    }
   },
   "outputs": [],
   "source": [
    "joined_df[joined_df['eds_final_begin'] != joined_df['date_from']][['patient_id', 'eds_end_4digit','begin_date', 'eds_final_begin', 'Arrival at hospital', 'date_from']]"
   ]
  },
  {
   "cell_type": "code",
   "execution_count": null,
   "metadata": {
    "pycharm": {
     "name": "#%%\n"
    }
   },
   "outputs": [],
   "source": [
    "joined_df[(joined_df['eds_final_begin'] != joined_df['Arrival at hospital']) & (joined_df['begin_date'] != joined_df['Arrival at hospital'])][['patient_id', 'eds_end_4digit','begin_date', 'eds_final_begin', 'Arrival at hospital', 'date_from']]"
   ]
  },
  {
   "cell_type": "code",
   "execution_count": null,
   "metadata": {
    "pycharm": {
     "name": "#%%\n"
    }
   },
   "outputs": [],
   "source": [
    "joined_df[joined_df['Stroke onset date'].isnull()]"
   ]
  },
  {
   "cell_type": "code",
   "execution_count": null,
   "metadata": {
    "pycharm": {
     "name": "#%%\n"
    }
   },
   "outputs": [],
   "source": [
    "# TODO:\n",
    "#  - check if patients with wrong EDS are excluded (probably if high_frequency_data_patient_selection_with_details.csv is used)\n",
    "#  - check if patients with no data in registry are excluded\n",
    "#  - verify if case with registry data entered with sample date anterior to EHR data is excluded"
   ]
  },
  {
   "cell_type": "code",
   "execution_count": null,
   "metadata": {
    "pycharm": {
     "name": "#%%\n"
    }
   },
   "outputs": [],
   "source": []
  }
 ],
 "metadata": {
  "kernelspec": {
   "display_name": "Python 3",
   "language": "python",
   "name": "python3"
  },
  "language_info": {
   "codemirror_mode": {
    "name": "ipython",
    "version": 2
   },
   "file_extension": ".py",
   "mimetype": "text/x-python",
   "name": "python",
   "nbconvert_exporter": "python",
   "pygments_lexer": "ipython2",
   "version": "2.7.6"
  }
 },
 "nbformat": 4,
 "nbformat_minor": 0
}
