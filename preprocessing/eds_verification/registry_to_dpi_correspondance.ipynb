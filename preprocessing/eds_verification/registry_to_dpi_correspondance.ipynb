{
 "cells": [
  {
   "cell_type": "code",
   "execution_count": null,
   "metadata": {
    "pycharm": {
     "name": "#%%\n"
    }
   },
   "outputs": [],
   "source": [
    "import matplotlib.pyplot as plt\n",
    "import pandas as pd\n",
    "import numpy as np\n",
    "import os"
   ]
  },
  {
   "cell_type": "code",
   "execution_count": null,
   "metadata": {
    "pycharm": {
     "name": "#%%\n"
    }
   },
   "outputs": [],
   "source": [
    "registry_patient_selection_path = '/Users/jk1/temp/opsum_extraction_output/high_frequency_data_patient_selection_with_details.csv'\n",
    "output_path = '/Users/jk1/temp/opsum_extration_output'"
   ]
  },
  {
   "cell_type": "code",
   "execution_count": null,
   "metadata": {
    "pycharm": {
     "name": "#%%\n"
    }
   },
   "outputs": [],
   "source": [
    "registry_data_df = pd.read_csv(registry_patient_selection_path, dtype=str)"
   ]
  },
  {
   "cell_type": "code",
   "execution_count": null,
   "metadata": {
    "pycharm": {
     "name": "#%%\n"
    }
   },
   "outputs": [],
   "source": [
    "# registry_data_df['registry_stroke_onset'] = pd.to_datetime(pd.to_datetime(registry_data_df['Stroke onset date'], format='%Y%m%d').dt.strftime('%d-%m-%Y') \\\n",
    "#                                         + ' ' + registry_data_df['Stroke onset time'], format='%d-%m-%Y %H:%M', ).dt.strftime('%d.%m.%Y %H:%M')\n",
    "#\n",
    "# registry_data_df['registry_admission_date'] = pd.to_datetime(pd.to_datetime(registry_data_df['Arrival at hospital'], format='%Y%m%d').dt.strftime('%d-%m-%Y') \\\n",
    "#                                         + ' ' + registry_data_df['Arrival time'], format='%d-%m-%Y %H:%M').dt.strftime('%d.%m.%Y %H:%M')"
   ]
  },
  {
   "cell_type": "code",
   "execution_count": null,
   "metadata": {
    "pycharm": {
     "name": "#%%\n"
    }
   },
   "outputs": [],
   "source": [
    "from preprocessing.utils import create_registry_case_identification_column\n",
    "\n",
    "registry_data_df['case_admission_id'] = create_registry_case_identification_column(registry_data_df)"
   ]
  },
  {
   "cell_type": "code",
   "execution_count": null,
   "metadata": {
    "pycharm": {
     "name": "#%%\n"
    }
   },
   "outputs": [],
   "source": [
    "len(registry_data_df['case_admission_id'].unique())"
   ]
  },
  {
   "cell_type": "code",
   "execution_count": null,
   "metadata": {
    "pycharm": {
     "name": "#%%\n"
    }
   },
   "outputs": [],
   "source": [
    "import pandas as pd\n",
    "eds_df = pd.read_csv('/Users/jk1/stroke_datasets/stroke_unit_dataset/per_value/Extraction_20220815/eds_j1.csv', delimiter=';', dtype=str)"
   ]
  },
  {
   "cell_type": "code",
   "execution_count": null,
   "metadata": {
    "pycharm": {
     "name": "#%%\n"
    }
   },
   "outputs": [],
   "source": [
    "from preprocessing.utils import create_ehr_case_identification_column\n",
    "\n",
    "eds_df['case_admission_id'] = create_ehr_case_identification_column(eds_df)"
   ]
  },
  {
   "cell_type": "code",
   "execution_count": null,
   "metadata": {
    "pycharm": {
     "name": "#%%\n"
    }
   },
   "outputs": [],
   "source": [
    "len(eds_df['case_admission_id'].unique())"
   ]
  },
  {
   "cell_type": "code",
   "execution_count": null,
   "metadata": {
    "pycharm": {
     "name": "#%%\n"
    }
   },
   "outputs": [],
   "source": [
    "from preprocessing.patient_selection.filter_ehr_patients import filter_ehr_patients\n",
    "\n",
    "filtered_eds_df = filter_ehr_patients(eds_df, registry_patient_selection_path)\n",
    "len(filtered_eds_df['case_admission_id'].unique())"
   ]
  },
  {
   "cell_type": "code",
   "execution_count": null,
   "metadata": {
    "pycharm": {
     "name": "#%%\n"
    }
   },
   "outputs": [],
   "source": [
    "filtered_eds_df[filtered_eds_df.patient_id == '97738228'][['patient_id', 'patient_id_manual', 'eds_final_patient_id', 'eds_end_4digit', 'eds_manual', 'eds_final_id']]"
   ]
  },
  {
   "cell_type": "code",
   "execution_count": null,
   "metadata": {
    "pycharm": {
     "name": "#%%\n"
    }
   },
   "outputs": [],
   "source": [
    "# find number of case_admission_ids in registry and eds\n",
    "len(set(registry_data_df['case_admission_id'].unique()).intersection(set(filtered_eds_df['case_admission_id'].unique())))"
   ]
  },
  {
   "cell_type": "code",
   "execution_count": null,
   "metadata": {
    "pycharm": {
     "name": "#%%\n"
    }
   },
   "outputs": [],
   "source": [
    "# find patients only present in registry and missing from eds\n",
    "set(registry_data_df['case_admission_id'].unique()) - set(filtered_eds_df['case_admission_id'].unique())"
   ]
  },
  {
   "cell_type": "code",
   "execution_count": null,
   "metadata": {
    "pycharm": {
     "name": "#%%\n"
    }
   },
   "outputs": [],
   "source": [
    "# find patients only present in eds\n",
    "set(eds_df['case_admission_id'].unique()).difference(set(registry_data_df['case_admission_id'].unique()))"
   ]
  },
  {
   "cell_type": "code",
   "execution_count": null,
   "metadata": {
    "pycharm": {
     "name": "#%%\n"
    }
   },
   "outputs": [],
   "source": [
    "eds_df.rename(columns={'eds_end_4digit': 'EDS_last_4_digits'}, inplace=True)"
   ]
  },
  {
   "cell_type": "code",
   "execution_count": null,
   "metadata": {
    "pycharm": {
     "name": "#%%\n"
    }
   },
   "outputs": [],
   "source": [
    "eds_df.head()"
   ]
  },
  {
   "cell_type": "code",
   "execution_count": null,
   "metadata": {
    "pycharm": {
     "name": "#%%\n"
    }
   },
   "outputs": [],
   "source": [
    "registry_data_df.head()"
   ]
  },
  {
   "cell_type": "markdown",
   "metadata": {
    "pycharm": {
     "name": "#%% md\n"
    }
   },
   "source": [
    "Restrict to patient selection"
   ]
  },
  {
   "cell_type": "code",
   "execution_count": null,
   "metadata": {
    "pycharm": {
     "name": "#%%\n"
    }
   },
   "outputs": [],
   "source": [
    "restricted_eds_df = eds_df[eds_df['case_admission_id'].isin(registry_data_df['case_admission_id'])]\n"
   ]
  },
  {
   "cell_type": "code",
   "execution_count": null,
   "metadata": {
    "pycharm": {
     "name": "#%%\n"
    }
   },
   "outputs": [],
   "source": [
    "joined_df = pd.merge(registry_data_df, restricted_eds_df, on=['case_admission_id'], how='left')"
   ]
  },
  {
   "cell_type": "code",
   "execution_count": null,
   "metadata": {
    "pycharm": {
     "name": "#%%\n"
    }
   },
   "outputs": [],
   "source": [
    "joined_df.head()"
   ]
  },
  {
   "cell_type": "markdown",
   "metadata": {
    "pycharm": {
     "name": "#%% md\n"
    }
   },
   "source": [
    "##### Impression: For correspondence between registry and DPI data use case id (patient id + EDS last 4 digits) with begin date.\n",
    "\n",
    "Notes:\n",
    "- In DPI data, for the same case id, multiple begin dates are found -> restrict analysis to begin date found in stroke registry."
   ]
  },
  {
   "cell_type": "markdown",
   "metadata": {
    "pycharm": {
     "name": "#%% md\n"
    }
   },
   "source": [
    "# Find intra-hospital stroke patients / patients with a stroke after hospital admission\n"
   ]
  },
  {
   "cell_type": "code",
   "execution_count": null,
   "metadata": {
    "pycharm": {
     "name": "#%%\n"
    }
   },
   "outputs": [],
   "source": [
    "joined_df['delta_onset_eds_date_from_in_days'] = (pd.to_datetime(joined_df['Onset date'], format='%Y%m%d') - pd.to_datetime(joined_df['date_from'], format='%d.%m.%Y %H:%M')).dt.days"
   ]
  },
  {
   "cell_type": "code",
   "execution_count": null,
   "metadata": {
    "pycharm": {
     "name": "#%%\n"
    }
   },
   "outputs": [],
   "source": [
    "joined_df[['case_admission_id','date_from', 'Onset date', 'delta_onset_eds_date_from_in_days']]"
   ]
  },
  {
   "cell_type": "code",
   "execution_count": null,
   "metadata": {
    "pycharm": {
     "name": "#%%\n"
    }
   },
   "outputs": [],
   "source": [
    "# find patients where admission date is correct but there is a difference between onset date and date_from\n",
    "sub_acute_stroke_admissions = joined_df[(joined_df['delta_onset_eds_date_from_in_days'] <= -7)\n",
    "          & (~joined_df['case_admission_id'].isin(differing_starting_date_df['case_admission_id']))\n",
    "          & (~joined_df['case_admission_id'].isin(minor_differing_starting_date_df['case_admission_id']))]"
   ]
  },
  {
   "cell_type": "code",
   "execution_count": null,
   "metadata": {
    "pycharm": {
     "name": "#%%\n"
    }
   },
   "outputs": [],
   "source": [
    "sub_acute_stroke_admissions[['case_admission_id','date_from', 'registry_stroke_onset', 'delta_onset_eds_date_from_in_days']]"
   ]
  },
  {
   "cell_type": "markdown",
   "metadata": {
    "pycharm": {
     "name": "#%% md\n"
    }
   },
   "source": [
    "Impression: some admissions may be sub-acute, and some due to a glitch in onset date"
   ]
  },
  {
   "cell_type": "code",
   "execution_count": null,
   "metadata": {
    "pycharm": {
     "name": "#%%\n"
    }
   },
   "outputs": [],
   "source": [
    "stroke_after_7_day_admission = joined_df[(joined_df['delta_onset_eds_date_from_in_days'] > 7)\n",
    "          & (~joined_df['case_admission_id'].isin(differing_starting_date_df['case_admission_id']))\n",
    "          & (~joined_df['case_admission_id'].isin(minor_differing_starting_date_df['case_admission_id']))]"
   ]
  },
  {
   "cell_type": "code",
   "execution_count": null,
   "metadata": {
    "pycharm": {
     "name": "#%%\n"
    }
   },
   "outputs": [],
   "source": [
    "stroke_after_7_day_admission[['case_admission_id','date_from', 'registry_stroke_onset', 'delta_onset_eds_date_from_in_days', 'Referral']]"
   ]
  },
  {
   "cell_type": "code",
   "execution_count": null,
   "metadata": {
    "pycharm": {
     "name": "#%%\n"
    }
   },
   "outputs": [],
   "source": [
    "stroke_after_7_day_admission['Referral'].value_counts()"
   ]
  },
  {
   "cell_type": "code",
   "execution_count": null,
   "metadata": {
    "pycharm": {
     "name": "#%%\n"
    }
   },
   "outputs": [],
   "source": [
    "stroke_after_7_day_admission.drop(['Unnamed: 0', 'Onset date', 'Onset time', 'nr', 'patient_id_y',\n",
    "       'EDS_last_4_digits_y', 'DOB_y', 'begin_date', 'end_date',\n",
    "       'death_date', 'death_hosp', 'eds_final_id', 'eds_final_begin',\n",
    "       'eds_final_end', 'eds_final_patient_id', 'eds_final_birth',\n",
    "       'eds_final_death', 'eds_final_birth_str', 'date_from', 'date_to',\n",
    "       'registry_arrival_to_date_from_days', 'eds_manual'], axis=1, inplace=True)"
   ]
  },
  {
   "cell_type": "code",
   "execution_count": null,
   "metadata": {
    "pycharm": {
     "name": "#%%\n"
    }
   },
   "outputs": [],
   "source": [
    "# stroke_after_7_day_admission.to_csv(os.path.join(output_path, 'patients_with_stroke_after_7_days_admission.csv'), index=False)"
   ]
  },
  {
   "cell_type": "code",
   "execution_count": null,
   "metadata": {
    "pycharm": {
     "name": "#%%\n"
    }
   },
   "outputs": [],
   "source": []
  }
 ],
 "metadata": {
  "kernelspec": {
   "display_name": "Python 3",
   "language": "python",
   "name": "python3"
  },
  "language_info": {
   "codemirror_mode": {
    "name": "ipython",
    "version": 3
   },
   "file_extension": ".py",
   "mimetype": "text/x-python",
   "name": "python",
   "nbconvert_exporter": "python",
   "pygments_lexer": "ipython3",
   "version": "3.8.11"
  }
 },
 "nbformat": 4,
 "nbformat_minor": 1
}
