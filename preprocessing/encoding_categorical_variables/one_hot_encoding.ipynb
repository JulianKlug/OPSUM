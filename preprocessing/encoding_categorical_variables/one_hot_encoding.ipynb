{
 "cells": [
  {
   "cell_type": "code",
   "execution_count": null,
   "metadata": {},
   "outputs": [],
   "source": [
    "import pandas\n",
    "import numpy as np\n",
    "import pandas as pd"
   ]
  },
  {
   "cell_type": "code",
   "execution_count": null,
   "metadata": {
    "pycharm": {
     "name": "#%%\n"
    }
   },
   "outputs": [],
   "source": [
    "data_path = '/Users/jk1/stroke_datasets/stroke_unit_dataset/per_value/Extraction_20211110'\n",
    "admission_data_path = '/Users/jk1/OneDrive - unige.ch/stroke_research/geneva_stroke_unit_dataset/data/stroke_registry/post_hoc_modified/stroke_registry_post_hoc_modified.xlsx'\n",
    "patient_selection_path = '/Users/jk1/temp/opsum_extration_output/high_frequency_data_patient_selection.csv'"
   ]
  },
  {
   "cell_type": "code",
   "execution_count": null,
   "metadata": {
    "pycharm": {
     "name": "#%%\n"
    }
   },
   "outputs": [],
   "source": [
    "from preprocessing.variable_assembly.variable_database_assembly import assemble_variable_database\n",
    "\n",
    "feature_df = assemble_variable_database(data_path, admission_data_path, patient_selection_path)"
   ]
  },
  {
   "cell_type": "code",
   "execution_count": null,
   "metadata": {
    "pycharm": {
     "name": "#%%\n"
    }
   },
   "outputs": [],
   "source": [
    "from preprocessing.variable_assembly.relative_timestamps import transform_to_relative_timestamps\n",
    "\n",
    "restricted_feature_df = transform_to_relative_timestamps(feature_df, drop_old_columns=False, restrict_to_time_range=True)"
   ]
  },
  {
   "cell_type": "code",
   "execution_count": null,
   "metadata": {
    "pycharm": {
     "name": "#%%\n"
    }
   },
   "outputs": [],
   "source": [
    "from preprocessing.normalisation.normalisation import normalise_data\n",
    "\n",
    "normalised_restricted_feature_df = normalise_data(restricted_feature_df, verbose=True)"
   ]
  },
  {
   "cell_type": "code",
   "execution_count": null,
   "metadata": {
    "pycharm": {
     "name": "#%%\n"
    }
   },
   "outputs": [],
   "source": [
    "normalised_restricted_feature_df.head()"
   ]
  },
  {
   "cell_type": "code",
   "execution_count": null,
   "metadata": {
    "pycharm": {
     "name": "#%%\n"
    }
   },
   "outputs": [],
   "source": [
    "variables_to_normalize = [\n",
    "'proBNP',\n",
    "'bilirubine totale',\n",
    "'thrombocytes',\n",
    "'creatinine',\n",
    "'calcium corrige',\n",
    "'hemoglobine',\n",
    "'INR',\n",
    "'potassium',\n",
    "'glycemie moyenne estimee',\n",
    "'hematocrite',\n",
    "'uree',\n",
    "'erythrocytes',\n",
    "'glucose',\n",
    "'leucocytes',\n",
    "'hemoglobine glyquee',\n",
    "'sodium',\n",
    "'proteine C-reactive',\n",
    "'ALAT',\n",
    "'FIO2',\n",
    "'oxygen_saturation',\n",
    "'systolic_blood_pressure',\n",
    "'diastolic_blood_pressure',\n",
    "'mean_blood_pressure',\n",
    "'heart_rate',\n",
    "'respiratory_rate',\n",
    "'temperature',\n",
    "'weight',\n",
    "'age',\n",
    "'NIHSS',\n",
    "'triglycerides',\n",
    "'ASAT',\n",
    "'cholesterol HDL',\n",
    "'Glasgow Coma Scale',\n",
    "'fibrinogene',\n",
    "'PTT',\n",
    "'cholesterol total',\n",
    "'LDL cholesterol calcule',\n",
    "]"
   ]
  },
  {
   "cell_type": "code",
   "execution_count": null,
   "metadata": {
    "pycharm": {
     "name": "#%%\n"
    }
   },
   "outputs": [],
   "source": [
    "for variable in normalised_restricted_feature_df.sample_label.unique():\n",
    "    if variable in variables_to_normalize:\n",
    "        continue\n",
    "    print(f\"'{variable}', {len(normalised_restricted_feature_df[normalised_restricted_feature_df.sample_label == variable]['value'].unique())}\")"
   ]
  },
  {
   "cell_type": "markdown",
   "metadata": {
    "collapsed": false,
    "pycharm": {
     "name": "#%% md\n"
    }
   },
   "source": [
    "## Encoding categorical variables\n",
    "\n",
    "difference between binary and non-binary variables is irrelevant when dummy encoding variables:\n",
    "- binary variables are encoded as 0 and 1 of one of the two categories as (variable_category1)\n",
    "- non-binary variables are encoded as 0 and 1 of for the n-1 categories as (variable_category1, variable_category2, ..., variable_category_n-1)"
   ]
  },
  {
   "cell_type": "code",
   "execution_count": null,
   "metadata": {
    "pycharm": {
     "name": "#%%\n"
    }
   },
   "outputs": [],
   "source": [
    "categorical_variables = [var for var in normalised_restricted_feature_df.sample_label.unique()\n",
    "    if (var not in variables_to_normalize)]\n",
    "categorical_variables"
   ]
  },
  {
   "cell_type": "code",
   "execution_count": null,
   "metadata": {
    "pycharm": {
     "name": "#%%\n"
    }
   },
   "outputs": [],
   "source": [
    "non_binary_categorical_variables = [\n",
    "    'Referral',\n",
    "    'Prestroke disability (Rankin)',\n",
    "    'categorical_onset_to_admission_time',\n",
    "    'categorical_IVT',\n",
    "    'categorical_IAT'\n",
    "]"
   ]
  },
  {
   "cell_type": "code",
   "execution_count": null,
   "metadata": {
    "pycharm": {
     "name": "#%%\n"
    }
   },
   "outputs": [],
   "source": [
    "binary_variables =  [var for var in normalised_restricted_feature_df.sample_label.unique()\n",
    "    if (var not in variables_to_normalize) & (var not in non_binary_categorical_variables)]"
   ]
  },
  {
   "cell_type": "code",
   "execution_count": null,
   "metadata": {
    "pycharm": {
     "name": "#%%\n"
    }
   },
   "outputs": [],
   "source": [
    "normalised_restricted_feature_df[normalised_restricted_feature_df.sample_label.isin(categorical_variables)].head()"
   ]
  },
  {
   "cell_type": "code",
   "execution_count": null,
   "metadata": {
    "pycharm": {
     "name": "#%%\n"
    }
   },
   "outputs": [],
   "source": [
    "dummy_coded_temp = pd.get_dummies(normalised_restricted_feature_df[normalised_restricted_feature_df.sample_label == 'Referral'], columns=['value'], prefix='referral', drop_first=True)\n",
    "dummy_coded_temp.columns = [str(col).lower().replace(' ', '_') for col in dummy_coded_temp.columns]\n",
    "dummy_coded_temp.head()"
   ]
  },
  {
   "cell_type": "code",
   "execution_count": null,
   "metadata": {
    "pycharm": {
     "name": "#%%\n"
    }
   },
   "outputs": [],
   "source": [
    "dummy_coded_temp.drop(columns=['sample_label'], inplace=True)\n",
    "dummy_coded_temp.melt(id_vars=['case_admission_id', 'sample_date', 'source', 'first_sample_date', 'relative_sample_date'], var_name='sample_label', value_name='value')"
   ]
  },
  {
   "cell_type": "code",
   "execution_count": null,
   "metadata": {
    "pycharm": {
     "name": "#%%\n"
    }
   },
   "outputs": [],
   "source": [
    "set(dummy_coded_temp.columns)"
   ]
  },
  {
   "cell_type": "code",
   "execution_count": null,
   "metadata": {
    "pycharm": {
     "name": "#%%\n"
    }
   },
   "outputs": [],
   "source": [
    "one_hot_normalised_restricted_features = normalised_restricted_feature_df.copy()"
   ]
  },
  {
   "cell_type": "code",
   "execution_count": null,
   "metadata": {
    "pycharm": {
     "name": "#%%\n"
    }
   },
   "outputs": [],
   "source": [
    "hot_one_encoded_variables = []\n",
    "for categorical_variable in categorical_variables:\n",
    "    dummy_coded_temp = pd.get_dummies(one_hot_normalised_restricted_features[one_hot_normalised_restricted_features.sample_label == categorical_variable], columns=['value'], prefix=str(categorical_variable).lower(), drop_first=True)\n",
    "    # find baseline value\n",
    "    baseline_value = [var\n",
    "                      for var in one_hot_normalised_restricted_features[one_hot_normalised_restricted_features.sample_label == categorical_variable]['value'].unique()\n",
    "                      if str(var) not in\n",
    "                      [col_name.split(str(categorical_variable).lower() + '_')[-1] for col_name in dummy_coded_temp.columns]\n",
    "                      ]\n",
    "    print(f'Baseline for {categorical_variable}: {baseline_value}')\n",
    "    dummy_coded_temp.columns = [str(col).lower().replace(' ', '_') for col in dummy_coded_temp.columns]\n",
    "    hot_one_encoded_variables += list(dummy_coded_temp.columns)\n",
    "    dummy_coded_temp.drop(columns=['sample_label'], inplace=True)\n",
    "    dummy_coded_temp = dummy_coded_temp.melt(id_vars=['case_admission_id', 'sample_date', 'source', 'first_sample_date', 'relative_sample_date'], var_name='sample_label', value_name='value')\n",
    "    one_hot_normalised_restricted_features = one_hot_normalised_restricted_features.append(dummy_coded_temp)\n",
    "\n",
    "    # drop original non-binary categorical variable\n",
    "    one_hot_normalised_restricted_features = one_hot_normalised_restricted_features[one_hot_normalised_restricted_features.sample_label != categorical_variable]"
   ]
  },
  {
   "cell_type": "code",
   "execution_count": null,
   "metadata": {
    "pycharm": {
     "name": "#%%\n"
    }
   },
   "outputs": [],
   "source": [
    "set(hot_one_encoded_variables)"
   ]
  },
  {
   "cell_type": "code",
   "execution_count": null,
   "metadata": {
    "pycharm": {
     "name": "#%%\n"
    }
   },
   "outputs": [],
   "source": [
    "one_hot_normalised_restricted_features.sample_label.unique()"
   ]
  },
  {
   "cell_type": "code",
   "execution_count": null,
   "metadata": {
    "pycharm": {
     "name": "#%%\n"
    }
   },
   "outputs": [],
   "source": [
    "one_hot_normalised_restricted_features[one_hot_normalised_restricted_features.sample_label.isin(hot_one_encoded_variables)]"
   ]
  },
  {
   "cell_type": "code",
   "execution_count": null,
   "metadata": {
    "pycharm": {
     "name": "#%%\n"
    }
   },
   "outputs": [],
   "source": [
    "from preprocessing.encoding_categorical_variables.encode_categorical_variables import encode_categorical_variables\n",
    "\n",
    "encode_categorical_variables(normalised_restricted_feature_df)"
   ]
  },
  {
   "cell_type": "code",
   "execution_count": null,
   "metadata": {
    "pycharm": {
     "name": "#%%\n"
    }
   },
   "outputs": [],
   "source": []
  }
 ],
 "metadata": {
  "kernelspec": {
   "display_name": "Python 3",
   "language": "python",
   "name": "python3"
  },
  "language_info": {
   "codemirror_mode": {
    "name": "ipython",
    "version": 2
   },
   "file_extension": ".py",
   "mimetype": "text/x-python",
   "name": "python",
   "nbconvert_exporter": "python",
   "pygments_lexer": "ipython2",
   "version": "2.7.6"
  }
 },
 "nbformat": 4,
 "nbformat_minor": 0
}
