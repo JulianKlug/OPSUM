{
 "cells": [
  {
   "cell_type": "code",
   "execution_count": null,
   "metadata": {},
   "outputs": [],
   "source": [
    "import pandas as pd\n",
    "import numpy as np\n",
    "import os"
   ]
  },
  {
   "cell_type": "code",
   "execution_count": null,
   "metadata": {},
   "outputs": [],
   "source": [
    "data_path = '/Users/jk1/stroke_datasets/stroke_unit_dataset/per_value/Extraction_20220815'\n",
    "admission_data_path = '/Users/jk1/OneDrive - unige.ch/stroke_research/geneva_stroke_unit_dataset/data/stroke_registry/post_hoc_modified/stroke_registry_post_hoc_modified.xlsx'\n",
    "patient_selection_path = '/Users/jk1/temp/opsum_extraction_output/high_frequency_data_patient_selection_with_details.csv'\n",
    "output_path = '/Users/jk1/temp/opsum_prepro_output/temp_output'\n",
    "log_dir = output_path\n",
    "verbose = True"
   ]
  },
  {
   "cell_type": "code",
   "execution_count": null,
   "metadata": {},
   "outputs": [],
   "source": [
    "from preprocessing.variable_assembly.variable_database_assembly import assemble_variable_database\n",
    "\n",
    "feature_database = assemble_variable_database(data_path, admission_data_path, patient_selection_path, verbose=True, log_dir=log_dir)\n"
   ]
  },
  {
   "cell_type": "code",
   "execution_count": null,
   "metadata": {},
   "outputs": [],
   "source": [
    "feature_database.head()"
   ]
  },
  {
   "cell_type": "code",
   "execution_count": null,
   "metadata": {},
   "outputs": [],
   "source": [
    "feature_database.case_admission_id.nunique()"
   ]
  },
  {
   "cell_type": "code",
   "execution_count": null,
   "metadata": {},
   "outputs": [],
   "source": [
    "temp = feature_database[feature_database['case_admission_id'] == '98535071_6410']"
   ]
  },
  {
   "cell_type": "code",
   "execution_count": null,
   "metadata": {},
   "outputs": [],
   "source": [
    "datatime_format = '%d.%m.%Y %H:%M'\n",
    "\n",
    "pd.to_datetime(temp[temp.source == 'stroke_registry'].sample_date, format=datatime_format)"
   ]
  },
  {
   "cell_type": "code",
   "execution_count": null,
   "metadata": {},
   "outputs": [],
   "source": [
    "temp"
   ]
  },
  {
   "cell_type": "code",
   "execution_count": null,
   "metadata": {},
   "outputs": [],
   "source": [
    "# temp[temp['sample_date_dt'].isnull()]"
   ]
  },
  {
   "cell_type": "code",
   "execution_count": null,
   "metadata": {},
   "outputs": [],
   "source": [
    "feature_database['sample_date'] = pd.to_datetime(feature_database['sample_date'], format='%d.%m.%Y %H:%M')"
   ]
  },
  {
   "cell_type": "code",
   "execution_count": null,
   "metadata": {},
   "outputs": [],
   "source": [
    "first_sample_date = feature_database.groupby('case_admission_id').sample_date.min()\n",
    "first_sample_date = first_sample_date.reset_index(level=0)\n",
    "first_sample_date.columns = ['case_admission_id', 'first_sample_date']"
   ]
  },
  {
   "cell_type": "code",
   "execution_count": null,
   "metadata": {},
   "outputs": [],
   "source": [
    "last_sample_date = feature_database.groupby('case_admission_id').sample_date.max()\n",
    "last_sample_date = last_sample_date.reset_index(level=0)\n",
    "last_sample_date.columns = ['case_admission_id', 'last_sample_date']"
   ]
  },
  {
   "cell_type": "code",
   "execution_count": null,
   "metadata": {},
   "outputs": [],
   "source": [
    "merged_data = pd.merge(first_sample_date, last_sample_date, on='case_admission_id')\n",
    "merged_data['sample_range'] = pd.to_datetime(merged_data['last_sample_date']) - pd.to_datetime(merged_data['first_sample_date'])"
   ]
  },
  {
   "cell_type": "code",
   "execution_count": null,
   "metadata": {},
   "outputs": [],
   "source": [
    "merged_data"
   ]
  },
  {
   "cell_type": "code",
   "execution_count": null,
   "metadata": {},
   "outputs": [],
   "source": [
    "# find data with sample range < 1 day\n",
    "merged_data[merged_data['sample_range'] < pd.Timedelta('1 days')]"
   ]
  },
  {
   "cell_type": "markdown",
   "metadata": {},
   "source": [
    "## Testing restricting to patients within stroke registry"
   ]
  },
  {
   "cell_type": "code",
   "execution_count": null,
   "metadata": {},
   "outputs": [],
   "source": [
    "patient_selection_df = pd.read_csv(patient_selection_path, dtype=str)\n"
   ]
  },
  {
   "cell_type": "code",
   "execution_count": null,
   "metadata": {},
   "outputs": [],
   "source": [
    "patient_selection_df['case_admission_id'] = patient_selection_df['patient_id'].astype(str) \\\n",
    "                                 + patient_selection_df['EDS_last_4_digits'].astype(str) \\\n",
    "                                 + '_' + pd.to_datetime(patient_selection_df['Arrival at hospital'], format='%Y%m%d').dt.strftime('%d%m%Y').astype(str)"
   ]
  },
  {
   "cell_type": "code",
   "execution_count": null,
   "metadata": {},
   "outputs": [],
   "source": [
    "restricted_to_registry_df = feature_database[feature_database['case_admission_id'].isin(patient_selection_df['case_admission_id'])]"
   ]
  },
  {
   "cell_type": "code",
   "execution_count": null,
   "metadata": {},
   "outputs": [],
   "source": [
    "len(restricted_to_registry_df['case_admission_id'].unique())"
   ]
  },
  {
   "cell_type": "code",
   "execution_count": null,
   "metadata": {},
   "outputs": [],
   "source": [
    "from preprocessing.patient_selection.restrict_to_patient_selection import restrict_to_patient_selection\n",
    "\n",
    "functional_restricted_df = restrict_to_patient_selection(feature_database, patient_selection_path, verbose=verbose)"
   ]
  },
  {
   "cell_type": "code",
   "execution_count": null,
   "metadata": {},
   "outputs": [],
   "source": [
    "feature_database[feature_database['case_admission_id'] == '1005030884_08112018']"
   ]
  },
  {
   "cell_type": "code",
   "execution_count": null,
   "metadata": {},
   "outputs": [],
   "source": [
    "# find list of cases in patient_selection_df that are not in restricted_to_registry_df\n",
    "case_admission_ids_with_missing_data = (set(patient_selection_df['case_admission_id'].unique()) - set(functional_restricted_df['case_admission_id'].unique()))\n",
    "missing_patients = patient_selection_df[patient_selection_df['case_admission_id'].isin(case_admission_ids_with_missing_data)]\n",
    "missing_patients"
   ]
  },
  {
   "cell_type": "code",
   "execution_count": null,
   "metadata": {},
   "outputs": [],
   "source": [
    "# missing_patients.to_csv(os.path.join(output_path, 'patients_with_missing_data.csv'), index=False)"
   ]
  },
  {
   "cell_type": "markdown",
   "metadata": {},
   "source": [
    "## Testing fusion with admission data"
   ]
  },
  {
   "cell_type": "code",
   "execution_count": null,
   "metadata": {},
   "outputs": [],
   "source": [
    "\n",
    "from preprocessing.admission_params_preprocessing.admission_params_preprocessing import preprocess_admission_data\n",
    "\n",
    "admission_data_files = [file for file in os.listdir(admission_data_path) if file.startswith('SSR_cases_of')]\n",
    "admission_data_tables = [pd.read_excel(os.path.join(admission_data_path, file), skiprows=[0, 1, 2, 3, 4, 5, 7]) for file in admission_data_files]\n",
    "admission_data_df = pd.concat(admission_data_tables)\n",
    "admission_data_df = preprocess_admission_data(admission_data_df, patient_selection_df, verbose=verbose)"
   ]
  },
  {
   "cell_type": "code",
   "execution_count": null,
   "metadata": {},
   "outputs": [],
   "source": [
    "set(admission_data_df['case_admission_id']).difference(set(feature_database['case_admission_id']))"
   ]
  },
  {
   "cell_type": "code",
   "execution_count": null,
   "metadata": {},
   "outputs": [],
   "source": [
    "set(feature_database['case_admission_id']).difference(set(admission_data_df['case_admission_id']))"
   ]
  },
  {
   "cell_type": "code",
   "execution_count": null,
   "metadata": {},
   "outputs": [],
   "source": [
    "feature_database[feature_database['case_admission_id'].str.startswith('2001')]"
   ]
  },
  {
   "cell_type": "code",
   "execution_count": null,
   "metadata": {},
   "outputs": [],
   "source": [
    "# find case_admission_id starting with \"846826\" in admission_data_df\n",
    "admission_data_df[admission_data_df['case_admission_id'].str.startswith('2001')]"
   ]
  },
  {
   "cell_type": "code",
   "execution_count": null,
   "metadata": {},
   "outputs": [],
   "source": [
    "pd.to_datetime(feature_database.groupby('case_admission_id')['sample_date'].first()) - pd.to_datetime(feature_database.groupby('case_admission_id')['begin_date'].first())"
   ]
  }
 ],
 "metadata": {
  "kernelspec": {
   "display_name": "Python 3",
   "language": "python",
   "name": "python3"
  },
  "language_info": {
   "codemirror_mode": {
    "name": "ipython",
    "version": 3
   },
   "file_extension": ".py",
   "mimetype": "text/x-python",
   "name": "python",
   "nbconvert_exporter": "python",
   "pygments_lexer": "ipython3",
   "version": "3.8.11"
  }
 },
 "nbformat": 4,
 "nbformat_minor": 1
}
