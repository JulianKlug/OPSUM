{
 "cells": [
  {
   "cell_type": "code",
   "execution_count": null,
   "metadata": {
    "pycharm": {
     "name": "#%%\n"
    }
   },
   "outputs": [],
   "source": [
    "import os\n",
    "\n",
    "import matplotlib.pyplot as plt\n",
    "import pandas as pd"
   ]
  },
  {
   "cell_type": "code",
   "execution_count": null,
   "metadata": {
    "pycharm": {
     "name": "#%%\n"
    }
   },
   "outputs": [],
   "source": [
    "data_path = '/Users/jk1/stroke_datasets/stroke_unit_dataset/per_value/Extraction_20211110'\n",
    "admission_data_path = '/Users/jk1/OneDrive - unige.ch/stroke_research/geneva_stroke_unit_dataset/data/stroke_registry/post_hoc_modified/stroke_registry_post_hoc_modified.xlsx'\n",
    "patient_selection_path = '/Users/jk1/temp/opsum_extration_output/high_frequency_data_patient_selection.csv'"
   ]
  },
  {
   "cell_type": "code",
   "execution_count": null,
   "metadata": {
    "pycharm": {
     "name": "#%%\n"
    }
   },
   "outputs": [],
   "source": [
    "from preprocessing.variable_assembly.variable_database_assembly import assemble_variable_database\n",
    "\n",
    "feature_df = assemble_variable_database(data_path, admission_data_path, patient_selection_path)"
   ]
  },
  {
   "cell_type": "code",
   "execution_count": null,
   "metadata": {
    "pycharm": {
     "name": "#%%\n"
    }
   },
   "outputs": [],
   "source": [
    "feature_df.head()"
   ]
  },
  {
   "cell_type": "code",
   "execution_count": null,
   "metadata": {
    "pycharm": {
     "name": "#%%\n"
    }
   },
   "outputs": [],
   "source": [
    "feature_df['sample_label'].unique().tolist()"
   ]
  },
  {
   "cell_type": "code",
   "execution_count": null,
   "metadata": {
    "pycharm": {
     "name": "#%%\n"
    }
   },
   "outputs": [],
   "source": [
    "feature_df.groupby(['case_admission_id', 'sample_label'])['sample_label'].count().groupby('sample_label').describe()"
   ]
  },
  {
   "cell_type": "code",
   "execution_count": null,
   "metadata": {
    "pycharm": {
     "name": "#%%\n"
    }
   },
   "outputs": [],
   "source": [
    "# count how many patients have at least one occurence of each sample_label\n",
    "n_patients = feature_df.case_admission_id.unique().shape[0]\n",
    "count_df = pd.DataFrame(columns=['sample_label', 'count', 'n_missing', 'percentage_missing'])\n",
    "for sample_label in feature_df.sample_label.unique():\n",
    "    n_patients_with_sample_label = feature_df.query('sample_label == @sample_label').case_admission_id.unique().shape[0]\n",
    "    count_df = count_df.append({'sample_label': sample_label,\n",
    "                                'count': n_patients_with_sample_label,\n",
    "                                'n_missing': n_patients - n_patients_with_sample_label,\n",
    "                                'percentage_missing': (n_patients - n_patients_with_sample_label) / n_patients,\n",
    "                                'percentage_present': n_patients_with_sample_label / n_patients},\n",
    "                               ignore_index=True)\n",
    "count_df"
   ]
  },
  {
   "cell_type": "code",
   "execution_count": null,
   "metadata": {
    "pycharm": {
     "name": "#%%\n"
    }
   },
   "outputs": [],
   "source": [
    "# append a row with missingness of any cholesterol\n",
    "patients_with_cholesterol_HDL = feature_df.query('sample_label == \"cholesterol HDL\"').case_admission_id.unique()\n",
    "patients_with_total_cholesterol = feature_df.query('sample_label == \"cholesterol total\"').case_admission_id.unique()\n",
    "patients_with_cholesterol_LDL = feature_df.query('sample_label == \"LDL cholesterol calcule\"').case_admission_id.unique()\n",
    "patients_with_any_cholesterol = set(patients_with_cholesterol_HDL).union(set(patients_with_total_cholesterol)).union(set(patients_with_cholesterol_LDL))\n",
    "n_patients_with_any_cholesterol = len(patients_with_any_cholesterol)\n",
    "count_df = count_df.append({'sample_label': 'any_cholesterol',\n",
    "                            'count': n_patients_with_any_cholesterol,\n",
    "                            'n_missing': n_patients - n_patients_with_any_cholesterol,\n",
    "                            'percentage_missing': (n_patients - n_patients_with_any_cholesterol) / n_patients,\n",
    "                            'percentage_present': n_patients_with_any_cholesterol / n_patients},\n",
    "                           ignore_index=True)"
   ]
  },
  {
   "cell_type": "code",
   "execution_count": null,
   "metadata": {
    "pycharm": {
     "name": "#%%\n"
    }
   },
   "outputs": [],
   "source": [
    "# output_dir = '/Users/jk1/temp/opsum_extration_output'\n",
    "# count_df.to_csv(os.path.join(output_dir, 'label_count_per_patient_df.csv'))"
   ]
  },
  {
   "cell_type": "code",
   "execution_count": null,
   "metadata": {
    "pycharm": {
     "name": "#%%\n"
    }
   },
   "outputs": [],
   "source": [
    "ax = count_df.plot.barh(x='sample_label', y='percentage_present', figsize=(10, 20), legend=False)\n",
    "ax.set_xlabel('Number of patients with label')\n",
    "ax.set_title('Number of patients per feature')\n",
    "plt.show()"
   ]
  },
  {
   "cell_type": "code",
   "execution_count": null,
   "metadata": {
    "pycharm": {
     "name": "#%%\n"
    }
   },
   "outputs": [],
   "source": [
    "for sample_label in feature_df.sample_label.unique():\n",
    "    print(sample_label)\n"
   ]
  },
  {
   "cell_type": "code",
   "execution_count": null,
   "metadata": {
    "pycharm": {
     "name": "#%%\n"
    }
   },
   "outputs": [],
   "source": [
    "# list of all case_admission_ids\n",
    "case_admission_ids = feature_df.case_admission_id.unique().tolist()"
   ]
  },
  {
   "cell_type": "code",
   "execution_count": null,
   "metadata": {
    "pycharm": {
     "name": "#%%\n"
    }
   },
   "outputs": [],
   "source": [
    "# load list of patients with wrong EDS\n",
    "list_of_wrong_EDS_patients_path = '/Users/jk1/temp/opsum_extration_output/patients_with_wrong_eds_start.csv'\n",
    "list_of_wrong_EDS_patients_df = pd.read_csv(list_of_wrong_EDS_patients_path)"
   ]
  },
  {
   "cell_type": "code",
   "execution_count": null,
   "metadata": {
    "pycharm": {
     "name": "#%%\n"
    }
   },
   "outputs": [],
   "source": [
    "# load list of patients with no data\n",
    "list_of_no_data_patients_path = '/Users/jk1/temp/opsum_extration_output/patients_with_missing_data.csv'\n",
    "list_of_no_data_patients_df = pd.read_csv(list_of_no_data_patients_path)"
   ]
  },
  {
   "cell_type": "markdown",
   "metadata": {
    "collapsed": false,
    "pycharm": {
     "name": "#%% md\n"
    }
   },
   "source": [
    "Find patients with missing LDL /HDL / cholesterol data"
   ]
  },
  {
   "cell_type": "code",
   "execution_count": null,
   "metadata": {
    "pycharm": {
     "name": "#%%\n"
    }
   },
   "outputs": [],
   "source": [
    "# list of case_admission_id with missing cholesterol HDL\n",
    "patients_with_cholesterol_HDL = feature_df.query('sample_label == \"cholesterol HDL\"').case_admission_id.unique()\n",
    "patients_with_total_cholesterol = feature_df.query('sample_label == \"cholesterol total\"').case_admission_id.unique()\n",
    "patients_with_cholesterol_LDL = feature_df.query('sample_label == \"LDL cholesterol calcule\"').case_admission_id.unique()\n",
    "patients_without_cholesterol_HDL = [x for x in case_admission_ids if x not in patients_with_cholesterol_HDL]\n",
    "patients_without_cholesterol_LDL = [x for x in case_admission_ids if x not in patients_with_cholesterol_LDL]\n",
    "patients_without_total_cholesterol = [x for x in case_admission_ids if x not in patients_with_total_cholesterol]\n",
    "patients_without_any_cholesterol_value = set(case_admission_ids) - set(patients_with_cholesterol_HDL) - set(patients_with_cholesterol_LDL) - set(patients_with_total_cholesterol)"
   ]
  },
  {
   "cell_type": "code",
   "execution_count": null,
   "metadata": {
    "pycharm": {
     "name": "#%%\n"
    }
   },
   "outputs": [],
   "source": [
    "restricted_patients_without_any_cholesterol_value = [x for x in patients_without_any_cholesterol_value if x not in list_of_wrong_EDS_patients_df.case_admission_id.unique() and x not in list_of_no_data_patients_df.case_admission_id.unique()]"
   ]
  },
  {
   "cell_type": "code",
   "execution_count": null,
   "metadata": {
    "pycharm": {
     "name": "#%%\n"
    }
   },
   "outputs": [],
   "source": [
    "restricted_patients_without_total_cholesterol = [x for x in patients_without_total_cholesterol if x not in list_of_wrong_EDS_patients_df.case_admission_id.unique() and x not in list_of_no_data_patients_df.case_admission_id.unique()]"
   ]
  },
  {
   "cell_type": "code",
   "execution_count": null,
   "metadata": {
    "pycharm": {
     "name": "#%%\n"
    }
   },
   "outputs": [],
   "source": [
    "# get patients with both LDL and HDL and total cholesterol\n",
    "patients_with_both_LDL_and_HDL = set(patients_with_cholesterol_LDL) & set(patients_with_cholesterol_HDL) & set(patients_with_total_cholesterol)\n",
    "patients_with_both_LDL_and_HDL"
   ]
  },
  {
   "cell_type": "code",
   "execution_count": null,
   "metadata": {
    "pycharm": {
     "name": "#%%\n"
    }
   },
   "outputs": [],
   "source": [
    "set(restricted_patients_without_any_cholesterol_value)"
   ]
  },
  {
   "cell_type": "code",
   "execution_count": null,
   "metadata": {
    "pycharm": {
     "name": "#%%\n"
    }
   },
   "outputs": [],
   "source": [
    "feature_df[(feature_df['case_admission_id'] == '5336975762_26102019') & (feature_df['sample_label'].str.startswith('LDL'))]"
   ]
  },
  {
   "cell_type": "code",
   "execution_count": null,
   "metadata": {
    "pycharm": {
     "name": "#%%\n"
    }
   },
   "outputs": [],
   "source": [
    "feature_df[(feature_df['case_admission_id'] == '5336975762_26102019')]"
   ]
  },
  {
   "cell_type": "code",
   "execution_count": null,
   "metadata": {
    "pycharm": {
     "name": "#%%\n"
    }
   },
   "outputs": [],
   "source": [
    "feature_df[(feature_df['case_admission_id'].str.startswith('97145347'))]"
   ]
  },
  {
   "cell_type": "code",
   "execution_count": null,
   "metadata": {
    "pycharm": {
     "name": "#%%\n"
    }
   },
   "outputs": [],
   "source": [
    "feature_df[(feature_df['case_admission_id'].str.startswith('533697'))]['case_admission_id'].unique()"
   ]
  },
  {
   "cell_type": "code",
   "execution_count": null,
   "metadata": {
    "pycharm": {
     "name": "#%%\n"
    }
   },
   "outputs": [],
   "source": [
    "from preprocessing.variable_assembly.relative_timestamps import transform_to_relative_timestamps\n",
    "from preprocessing.encoding_categorical_variables.encode_categorical_variables import encode_categorical_variables\n",
    "from preprocessing.normalisation.normalisation import normalise_data\n",
    "\n",
    "restricted_feature_df = transform_to_relative_timestamps(feature_df, drop_old_columns=False, restrict_to_time_range=True)\n",
    "normalised_restricted_feature_df = normalise_data(restricted_feature_df, verbose=True)\n",
    "cat_encoded_normalised_restricted_feature_df = encode_categorical_variables(normalised_restricted_feature_df)"
   ]
  },
  {
   "cell_type": "code",
   "execution_count": null,
   "metadata": {
    "pycharm": {
     "name": "#%%\n"
    }
   },
   "outputs": [],
   "source": [
    "n_patients = cat_encoded_normalised_restricted_feature_df.case_admission_id.unique().shape[0]\n",
    "count_df = pd.DataFrame(columns=['sample_label', 'count', 'n_missing', 'percentage_missing'])\n",
    "for sample_label in cat_encoded_normalised_restricted_feature_df.sample_label.unique():\n",
    "    n_patients_with_sample_label = cat_encoded_normalised_restricted_feature_df.query('sample_label == @sample_label').case_admission_id.unique().shape[0]\n",
    "    count_df = count_df.append({'sample_label': sample_label,\n",
    "                                'count': n_patients_with_sample_label,\n",
    "                                'n_missing': n_patients - n_patients_with_sample_label,\n",
    "                                'percentage_missing': (n_patients - n_patients_with_sample_label) / n_patients,\n",
    "                                'percentage_present': n_patients_with_sample_label / n_patients},\n",
    "                               ignore_index=True)"
   ]
  },
  {
   "cell_type": "code",
   "execution_count": null,
   "metadata": {
    "pycharm": {
     "name": "#%%\n"
    }
   },
   "outputs": [],
   "source": [
    "ax = count_df.plot.barh(x='sample_label', y='percentage_present', figsize=(10, 20), legend=False)\n",
    "ax.set_xlabel('Number of patients with label')\n",
    "ax.set_title('Number of patients per feature')\n",
    "plt.show()"
   ]
  },
  {
   "cell_type": "code",
   "execution_count": null,
   "metadata": {
    "pycharm": {
     "name": "#%%\n"
    }
   },
   "outputs": [],
   "source": []
  }
 ],
 "metadata": {
  "kernelspec": {
   "display_name": "Python 3",
   "language": "python",
   "name": "python3"
  },
  "language_info": {
   "codemirror_mode": {
    "name": "ipython",
    "version": 2
   },
   "file_extension": ".py",
   "mimetype": "text/x-python",
   "name": "python",
   "nbconvert_exporter": "python",
   "pygments_lexer": "ipython2",
   "version": "2.7.6"
  }
 },
 "nbformat": 4,
 "nbformat_minor": 0
}
