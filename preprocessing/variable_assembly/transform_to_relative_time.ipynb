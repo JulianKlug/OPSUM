{
 "cells": [
  {
   "cell_type": "code",
   "execution_count": null,
   "metadata": {
    "pycharm": {
     "name": "#%%\n"
    }
   },
   "outputs": [],
   "source": [
    "import pandas as pd\n",
    "import numpy as np"
   ]
  },
  {
   "cell_type": "code",
   "execution_count": null,
   "metadata": {
    "pycharm": {
     "name": "#%%\n"
    }
   },
   "outputs": [],
   "source": [
    "data_path = '/Users/jk1/stroke_datasets/stroke_unit_dataset/per_value/Extraction_20220815'\n",
    "admission_data_path = '/Users/jk1/OneDrive - unige.ch/stroke_research/geneva_stroke_unit_dataset/data/stroke_registry/post_hoc_modified/stroke_registry_post_hoc_modified.xlsx'\n",
    "patient_selection_path = '/Users/jk1/temp/opsum_extraction_output/high_frequency_data_patient_selection_with_details.csv'"
   ]
  },
  {
   "cell_type": "code",
   "execution_count": null,
   "metadata": {
    "pycharm": {
     "name": "#%%\n"
    }
   },
   "outputs": [],
   "source": [
    "from preprocessing.variable_assembly.variable_database_assembly import assemble_variable_database\n",
    "\n",
    "feature_df = assemble_variable_database(data_path, admission_data_path, patient_selection_path)"
   ]
  },
  {
   "cell_type": "markdown",
   "metadata": {
    "collapsed": false,
    "pycharm": {
     "name": "#%% md\n"
    }
   },
   "source": [
    "## Elaborating transformation function"
   ]
  },
  {
   "cell_type": "code",
   "execution_count": null,
   "metadata": {
    "pycharm": {
     "name": "#%%\n"
    }
   },
   "outputs": [],
   "source": [
    "feature_df.head()"
   ]
  },
  {
   "cell_type": "code",
   "execution_count": null,
   "metadata": {
    "pycharm": {
     "name": "#%%\n"
    }
   },
   "outputs": [],
   "source": [
    "datatime_format = '%d.%m.%Y %H:%M'"
   ]
  },
  {
   "cell_type": "code",
   "execution_count": null,
   "metadata": {
    "pycharm": {
     "name": "#%%\n"
    }
   },
   "outputs": [],
   "source": [
    "# find first sample_date for each case_admission id\n",
    "feature_df['sample_date'] = pd.to_datetime(feature_df['sample_date'], format=datatime_format)\n",
    "first_sample_date = feature_df.groupby('case_admission_id').sample_date.min()"
   ]
  },
  {
   "cell_type": "code",
   "execution_count": null,
   "metadata": {
    "pycharm": {
     "name": "#%%\n"
    }
   },
   "outputs": [],
   "source": [
    "first_sample_date.head()"
   ]
  },
  {
   "cell_type": "code",
   "execution_count": null,
   "metadata": {
    "pycharm": {
     "name": "#%%\n"
    }
   },
   "outputs": [],
   "source": [
    "first_sample_date = first_sample_date.reset_index(level=0)\n"
   ]
  },
  {
   "cell_type": "code",
   "execution_count": null,
   "metadata": {
    "pycharm": {
     "name": "#%%\n"
    }
   },
   "outputs": [],
   "source": [
    "feature_df['case_admission_id'] = feature_df['case_admission_id'].astype(str)\n",
    "first_sample_date['case_admission_id'] = first_sample_date['case_admission_id'].astype(str)\n",
    "first_sample_date.rename(columns={'sample_date': 'first_sample_date'}, inplace=True)"
   ]
  },
  {
   "cell_type": "code",
   "execution_count": null,
   "metadata": {
    "pycharm": {
     "name": "#%%\n"
    }
   },
   "outputs": [],
   "source": [
    "feature_df = feature_df.merge(first_sample_date, on='case_admission_id')\n"
   ]
  },
  {
   "cell_type": "code",
   "execution_count": null,
   "metadata": {
    "pycharm": {
     "name": "#%%\n"
    }
   },
   "outputs": [],
   "source": [
    "feature_df.head()"
   ]
  },
  {
   "cell_type": "code",
   "execution_count": null,
   "metadata": {
    "pycharm": {
     "name": "#%%\n"
    }
   },
   "outputs": [],
   "source": [
    "feature_df['relative_sample_date'] = (pd.to_datetime(feature_df['sample_date'], format=datatime_format) - pd.to_datetime(feature_df['first_sample_date'], format=datatime_format)).dt.seconds / (60*60)"
   ]
  },
  {
   "cell_type": "code",
   "execution_count": null,
   "metadata": {
    "pycharm": {
     "name": "#%%\n"
    }
   },
   "outputs": [],
   "source": [
    "feature_df.head(500)"
   ]
  },
  {
   "cell_type": "code",
   "execution_count": null,
   "metadata": {
    "pycharm": {
     "name": "#%%\n"
    }
   },
   "outputs": [],
   "source": [
    "(feature_df['relative_sample_date'] < 0).any()"
   ]
  },
  {
   "cell_type": "markdown",
   "metadata": {
    "collapsed": false,
    "pycharm": {
     "name": "#%% md\n"
    }
   },
   "source": [
    "#### Finding edge cases where EHR start too early"
   ]
  },
  {
   "cell_type": "code",
   "execution_count": null,
   "metadata": {
    "pycharm": {
     "name": "#%%\n"
    }
   },
   "outputs": [],
   "source": [
    "temp_df = feature_df.copy()"
   ]
  },
  {
   "cell_type": "code",
   "execution_count": null,
   "metadata": {
    "pycharm": {
     "name": "#%%\n"
    }
   },
   "outputs": [],
   "source": [
    "datatime_format = '%d.%m.%Y %H:%M'\n",
    "\n",
    "# find first sample_date for each case_admission id\n",
    "temp_df['sample_date'] = pd.to_datetime(temp_df['sample_date'], format=datatime_format)"
   ]
  },
  {
   "cell_type": "code",
   "execution_count": null,
   "metadata": {
    "pycharm": {
     "name": "#%%\n"
    }
   },
   "outputs": [],
   "source": [
    "import numpy as np\n",
    "# find number of case admission ids in feature_df where sample date of source == stroke registry is after first sample date of source == EHR\n",
    "\n",
    "first_ehr_sample_date = temp_df[temp_df.source == 'EHR'].groupby('case_admission_id').sample_date.min().reset_index(level=0)\n",
    "first_ehr_sample_date.rename(columns={'sample_date': 'first_ehr_sample_date'}, inplace=True)\n",
    "first_registry_sample_date = temp_df[temp_df.source == 'stroke_registry'].groupby('case_admission_id').sample_date.min().reset_index(level=0)\n",
    "first_registry_sample_date.rename(columns={'sample_date': 'first_registry_sample_date'}, inplace=True)\n",
    "\n",
    "merged_df = first_ehr_sample_date.merge(first_registry_sample_date, on='case_admission_id')\n",
    "merged_df['delta_first_sample_date_dt'] = (merged_df['first_ehr_sample_date'] - merged_df['first_registry_sample_date'])\n",
    "merged_df['delta_first_sample_date_h'] = merged_df['delta_first_sample_date_dt'] / np.timedelta64(1, 'h')"
   ]
  },
  {
   "cell_type": "code",
   "execution_count": null,
   "metadata": {
    "pycharm": {
     "name": "#%%\n"
    }
   },
   "outputs": [],
   "source": [
    "first_NIHSS_sample_date = temp_df[(temp_df.sample_label == 'NIHSS') & (temp_df.source == 'EHR')].groupby('case_admission_id').sample_date.min().reset_index(level=0)\n",
    "# for all cases with missing NIHSS data, use nan\n",
    "missing_NIHSS_sample_date = pd.DataFrame(set(temp_df.case_admission_id.unique())\n",
    "                                         .difference(set(first_NIHSS_sample_date.case_admission_id.unique())),\n",
    "                                         columns=['case_admission_id'])\n",
    "missing_NIHSS_sample_date['sample_date'] = np.nan\n",
    "first_NIHSS_sample_date = first_NIHSS_sample_date.append(missing_NIHSS_sample_date)\n",
    "first_NIHSS_sample_date.rename(columns={'sample_date': 'first_NIHSS_sample_date'}, inplace=True)\n",
    "\n",
    "merged_df = merged_df.merge(first_NIHSS_sample_date, on='case_admission_id')"
   ]
  },
  {
   "cell_type": "code",
   "execution_count": null,
   "metadata": {
    "pycharm": {
     "name": "#%%\n"
    }
   },
   "outputs": [],
   "source": [
    "merged_df['delta_first_NIHSS_to_registry_start_date_h'] = (merged_df['first_NIHSS_sample_date'] - merged_df['first_registry_sample_date']) / np.timedelta64(1, 'h')\n"
   ]
  },
  {
   "cell_type": "code",
   "execution_count": null,
   "metadata": {
    "pycharm": {
     "name": "#%%\n"
    }
   },
   "outputs": [],
   "source": [
    "merged_df[merged_df['delta_first_sample_date_h'] < -24]"
   ]
  },
  {
   "cell_type": "code",
   "execution_count": null,
   "metadata": {
    "pycharm": {
     "name": "#%%\n"
    }
   },
   "outputs": [],
   "source": [
    "cids_with_problematic_delta = merged_df[merged_df['delta_first_sample_date_h'] < -24].case_admission_id.unique()"
   ]
  },
  {
   "cell_type": "code",
   "execution_count": null,
   "metadata": {
    "pycharm": {
     "name": "#%%\n"
    }
   },
   "outputs": [],
   "source": [
    "temp_df[temp_df.case_admission_id == '207196_7187']"
   ]
  },
  {
   "cell_type": "code",
   "execution_count": null,
   "metadata": {
    "pycharm": {
     "name": "#%%\n"
    }
   },
   "outputs": [],
   "source": [
    "# find first EHR sample in the 24h before first registry sample\n",
    "\n",
    "def find_first_EHR_in_24h_from_registry_start(pa_id):\n",
    "    first_registry_sample_date_minus_24h = merged_df[merged_df.case_admission_id == pa_id].first_registry_sample_date - pd.Timedelta(hours=24)\n",
    "    subj_df = temp_df[(temp_df.case_admission_id == pa_id)]\n",
    "    subj_df['delta_sample_date_to_registry_sample_date_minus_24h'] = (temp_df.sample_date - first_registry_sample_date_minus_24h.iloc[0]) / np.timedelta64(\n",
    "            1, 'h')\n",
    "    return subj_df[(subj_df.delta_sample_date_to_registry_sample_date_minus_24h > 0) & (temp_df.source == 'EHR')].sample_date.min()\n"
   ]
  },
  {
   "cell_type": "code",
   "execution_count": null,
   "metadata": {
    "pycharm": {
     "name": "#%%\n"
    }
   },
   "outputs": [],
   "source": [
    "# plot number of samples per sample_date for a given case_admission_id\n",
    "import matplotlib.pyplot as plt\n",
    "import seaborn as sns\n",
    "\n",
    "def plot_samples_per_sample_date(cid):\n",
    "    n_samples_per_sample_date = temp_df.groupby(['case_admission_id', 'sample_date']).sample_label.count().reset_index()\n",
    "    n_samples_per_sample_date.rename(columns={'sample_label': 'n_samples'}, inplace=True)\n",
    "\n",
    "    cid_df = n_samples_per_sample_date[n_samples_per_sample_date.case_admission_id == cid]\n",
    "    ax = sns.scatterplot(x='sample_date', y='n_samples', data=cid_df)\n",
    "    sns.scatterplot(x=[first_registry_sample_date[first_registry_sample_date.case_admission_id == cid].first_registry_sample_date.iloc[0]], y=[10], color='red', ax=ax)\n",
    "    sns.scatterplot(x=[first_NIHSS_sample_date[first_NIHSS_sample_date.case_admission_id == cid].first_NIHSS_sample_date.iloc[0]], y=[11], color='green', ax=ax)\n",
    "    first_EHR_in_24h_from_registry_start = find_first_EHR_in_24h_from_registry_start(cid)\n",
    "    sns.scatterplot(x=first_EHR_in_24h_from_registry_start, y=[12], color='purple', ax=ax)\n",
    "    # rotate x axis labels\n",
    "    plt.setp(ax.get_xticklabels(), rotation=45)\n",
    "    print(f'Subj: {cid}')\n",
    "    print('Registry start:', first_registry_sample_date[first_registry_sample_date.case_admission_id == cid].first_registry_sample_date.iloc[0])\n",
    "    print('first NIHSS', first_NIHSS_sample_date[first_NIHSS_sample_date.case_admission_id == cid].first_NIHSS_sample_date.iloc[0])\n",
    "    plt.show()"
   ]
  },
  {
   "cell_type": "code",
   "execution_count": null,
   "metadata": {
    "pycharm": {
     "name": "#%%\n"
    }
   },
   "outputs": [],
   "source": [
    "for cid in cids_with_problematic_delta:\n",
    "    plot_samples_per_sample_date(cid)"
   ]
  },
  {
   "cell_type": "markdown",
   "metadata": {
    "collapsed": false,
    "pycharm": {
     "name": "#%% md\n"
    }
   },
   "source": [
    "Possible rule for finding edge case:\n",
    "- default reference as start: first sample date of EHR\n",
    "- when first sample date of EHR is more than 1 day before first sample date of stroke registry:\n",
    "-> use first sample of EHR in the 24h before start according to registry\n"
   ]
  },
  {
   "cell_type": "markdown",
   "metadata": {
    "collapsed": false,
    "pycharm": {
     "name": "#%% md\n"
    }
   },
   "source": [
    "Old way, not used anymore:\n",
    "- when first sample date of EHR is more than 1 day before first sample date of stroke registry:\n",
    "    - if first sample of NIHSS is before first sample of stroke registry -> reference is first sample of EHR (as first sample of NIHSS occurs after other data is available)\n",
    "    - if first sample of NIHSS is after first sample of stroke registry -> reference is first sample of stroke registry\n",
    "    -> remove samples occurring before reference\n"
   ]
  },
  {
   "cell_type": "markdown",
   "metadata": {
    "collapsed": false,
    "pycharm": {
     "name": "#%% md\n"
    }
   },
   "source": []
  },
  {
   "cell_type": "markdown",
   "metadata": {
    "collapsed": false,
    "pycharm": {
     "name": "#%% md\n"
    }
   },
   "source": [
    "## Testing transformation function"
   ]
  },
  {
   "cell_type": "code",
   "execution_count": null,
   "metadata": {
    "pycharm": {
     "name": "#%%\n"
    }
   },
   "outputs": [],
   "source": [
    "temp_df = feature_df.copy()"
   ]
  },
  {
   "cell_type": "code",
   "execution_count": null,
   "metadata": {
    "pycharm": {
     "name": "#%%\n"
    }
   },
   "outputs": [],
   "source": [
    "len(temp_df.case_admission_id.unique())"
   ]
  },
  {
   "cell_type": "code",
   "execution_count": null,
   "metadata": {
    "pycharm": {
     "name": "#%%\n"
    }
   },
   "outputs": [],
   "source": [
    "from preprocessing.variable_assembly.relative_timestamps import transform_to_relative_timestamps\n",
    "\n",
    "temp_df = transform_to_relative_timestamps(temp_df, drop_old_columns=False,\n",
    "                                         restrict_to_time_range=True, desired_time_range=72,\n",
    "                                         enforce_min_time_range=True, min_time_range=12,\n",
    "                                           log_dir='/Users/jk1/temp/opsum_extraction_output/test')"
   ]
  },
  {
   "cell_type": "code",
   "execution_count": null,
   "metadata": {
    "pycharm": {
     "name": "#%%\n"
    }
   },
   "outputs": [],
   "source": [
    "len(temp_df.case_admission_id.unique())\n"
   ]
  },
  {
   "cell_type": "code",
   "execution_count": null,
   "metadata": {
    "pycharm": {
     "name": "#%%\n"
    }
   },
   "outputs": [],
   "source": [
    "temp_df.head()"
   ]
  },
  {
   "cell_type": "markdown",
   "metadata": {
    "collapsed": false,
    "pycharm": {
     "name": "#%% md\n"
    }
   },
   "source": [
    "#### Testing functional selection of starting date"
   ]
  },
  {
   "cell_type": "code",
   "execution_count": null,
   "metadata": {
    "pycharm": {
     "name": "#%%\n"
    }
   },
   "outputs": [],
   "source": [
    "# Find first sample date of EHR\n",
    "first_ehr_sample_date = temp_df[(temp_df.source == 'EHR') & (temp_df.sample_label != 'FIO2')] \\\n",
    "    .groupby('case_admission_id').sample_date.min().reset_index(level=0)\n",
    "first_ehr_sample_date.rename(columns={'sample_date': 'first_ehr_sample_date'}, inplace=True)\n",
    "\n",
    "# Find first sample date of stroke registry\n",
    "first_registry_sample_date = temp_df[temp_df.source == 'stroke_registry'].groupby(\n",
    "    'case_admission_id').sample_date.min().reset_index(level=0)\n",
    "first_registry_sample_date.rename(columns={'sample_date': 'first_registry_sample_date'}, inplace=True)\n",
    "merged_first_sample_dates_df = first_ehr_sample_date.merge(first_registry_sample_date, on='case_admission_id')\n",
    "merged_first_sample_dates_df['delta_first_sample_date_h'] = (\n",
    "                    merged_first_sample_dates_df[\n",
    "                        'first_ehr_sample_date']\n",
    "                    - merged_first_sample_dates_df[\n",
    "                        'first_registry_sample_date']) / np.timedelta64(\n",
    "    1, 'h')"
   ]
  },
  {
   "cell_type": "code",
   "execution_count": null,
   "metadata": {
    "pycharm": {
     "name": "#%%\n"
    }
   },
   "outputs": [],
   "source": [
    "merged_first_sample_dates_df"
   ]
  },
  {
   "cell_type": "markdown",
   "metadata": {
    "collapsed": false,
    "pycharm": {
     "name": "#%% md\n"
    }
   },
   "source": [
    "Is functional if stroke registry date and first sample date of EHR are at < 24h"
   ]
  },
  {
   "cell_type": "markdown",
   "metadata": {
    "collapsed": false,
    "pycharm": {
     "name": "#%% md\n"
    }
   },
   "source": [
    "##### Check restriction to minimum sampling range"
   ]
  },
  {
   "cell_type": "code",
   "execution_count": null,
   "metadata": {
    "pycharm": {
     "name": "#%%\n"
    }
   },
   "outputs": [],
   "source": [
    "min_time_range = 12"
   ]
  },
  {
   "cell_type": "code",
   "execution_count": null,
   "metadata": {
    "pycharm": {
     "name": "#%%\n"
    }
   },
   "outputs": [],
   "source": [
    "# check range of relative_sample_date for each case_admission_id\n",
    "max_sampling_dates = temp_df[temp_df.source != 'stroke_registry'].groupby('case_admission_id').relative_sample_date.max().reset_index()\n",
    "max_sampling_dates[max_sampling_dates.relative_sample_date < 24]"
   ]
  },
  {
   "cell_type": "code",
   "execution_count": null,
   "metadata": {
    "pycharm": {
     "name": "#%%\n"
    }
   },
   "outputs": [],
   "source": [
    "max_sampling_dates = temp_df[temp_df.source != 'stroke_registry'].groupby(\n",
    "            'case_admission_id').relative_sample_date.max().reset_index()\n",
    "cid_with_short_range = max_sampling_dates[\n",
    "            max_sampling_dates.relative_sample_date < min_time_range].case_admission_id.unique()"
   ]
  },
  {
   "cell_type": "code",
   "execution_count": null,
   "metadata": {
    "pycharm": {
     "name": "#%%\n"
    }
   },
   "outputs": [],
   "source": [
    "cid_with_short_range"
   ]
  },
  {
   "cell_type": "code",
   "execution_count": null,
   "metadata": {
    "pycharm": {
     "name": "#%%\n"
    }
   },
   "outputs": [],
   "source": [
    "plot_samples_per_sample_date('268410_7611')"
   ]
  },
  {
   "cell_type": "markdown",
   "metadata": {
    "collapsed": false,
    "pycharm": {
     "name": "#%% md\n"
    }
   },
   "source": [
    "268410_7611 in an exception because having been transferred between two hospitals"
   ]
  },
  {
   "cell_type": "code",
   "execution_count": null,
   "metadata": {
    "pycharm": {
     "name": "#%%\n"
    }
   },
   "outputs": [],
   "source": []
  }
 ],
 "metadata": {
  "kernelspec": {
   "display_name": "Python 3",
   "language": "python",
   "name": "python3"
  },
  "language_info": {
   "codemirror_mode": {
    "name": "ipython",
    "version": 2
   },
   "file_extension": ".py",
   "mimetype": "text/x-python",
   "name": "python",
   "nbconvert_exporter": "python",
   "pygments_lexer": "ipython2",
   "version": "2.7.6"
  }
 },
 "nbformat": 4,
 "nbformat_minor": 0
}
