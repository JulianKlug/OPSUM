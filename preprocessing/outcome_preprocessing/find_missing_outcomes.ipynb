{
 "cells": [
  {
   "cell_type": "code",
   "execution_count": null,
   "metadata": {
    "pycharm": {
     "name": "#%%\n"
    }
   },
   "outputs": [],
   "source": [
    "import pandas as pd"
   ]
  },
  {
   "cell_type": "code",
   "execution_count": null,
   "metadata": {
    "pycharm": {
     "name": "#%%\n"
    }
   },
   "outputs": [],
   "source": [
    "registry_path = '/Users/jk1/OneDrive - unige.ch/stroke_research/geneva_stroke_unit_dataset/data/stroke_registry/post_hoc_modified/stroke_registry_post_hoc_modified.xlsx'"
   ]
  },
  {
   "cell_type": "code",
   "execution_count": null,
   "metadata": {
    "pycharm": {
     "name": "#%%\n"
    }
   },
   "outputs": [],
   "source": [
    "patient_selection_path = '/Users/jk1/temp/opsum_extration_output/high_frequency_data_patient_selection_with_details.csv'"
   ]
  },
  {
   "cell_type": "code",
   "execution_count": null,
   "metadata": {
    "pycharm": {
     "name": "#%%\n"
    }
   },
   "outputs": [],
   "source": [
    "stroke_df = pd.read_excel(registry_path)"
   ]
  },
  {
   "cell_type": "code",
   "execution_count": null,
   "metadata": {
    "pycharm": {
     "name": "#%%\n"
    }
   },
   "outputs": [],
   "source": [
    "patient_selection_df = pd.read_csv(patient_selection_path, dtype=str)"
   ]
  },
  {
   "cell_type": "code",
   "execution_count": null,
   "metadata": {
    "pycharm": {
     "name": "#%%\n"
    }
   },
   "outputs": [],
   "source": [
    "stroke_df.head()"
   ]
  },
  {
   "cell_type": "code",
   "execution_count": null,
   "metadata": {
    "pycharm": {
     "name": "#%%\n"
    }
   },
   "outputs": [],
   "source": [
    "patient_selection_df.head()"
   ]
  },
  {
   "cell_type": "code",
   "execution_count": null,
   "metadata": {
    "pycharm": {
     "name": "#%%\n"
    }
   },
   "outputs": [],
   "source": [
    "from preprocessing.utils import create_registry_case_identification_column\n",
    "\n",
    "patient_selection_df['case_admission_id'] = create_registry_case_identification_column(patient_selection_df)\n",
    "stroke_df['case_admission_id'] = create_registry_case_identification_column(stroke_df)"
   ]
  },
  {
   "cell_type": "code",
   "execution_count": null,
   "metadata": {
    "pycharm": {
     "name": "#%%\n"
    }
   },
   "outputs": [],
   "source": [
    "restricted_stroke_df = stroke_df[stroke_df.case_admission_id.isin(patient_selection_df.case_admission_id)]"
   ]
  },
  {
   "cell_type": "code",
   "execution_count": null,
   "metadata": {
    "pycharm": {
     "name": "#%%\n"
    }
   },
   "outputs": [],
   "source": [
    "# if death in hospital, set mRs to 6\n",
    "restricted_stroke_df.loc[restricted_stroke_df['Death in hospital'] == 'yes', '3M mRS'] = 6\n",
    "# if 3M Death and 3M mRS nan, set mrs to 6\n",
    "restricted_stroke_df.loc[(restricted_stroke_df['3M Death'] == 'yes') &\n",
    "                                    (restricted_stroke_df['3M mRS'].isna()), '3M mRS'] = 6"
   ]
  },
  {
   "cell_type": "code",
   "execution_count": null,
   "metadata": {
    "pycharm": {
     "name": "#%%\n"
    }
   },
   "outputs": [],
   "source": [
    "n_total_missing_outcomes =  restricted_stroke_df['3M mRS'].isna().sum()\n",
    "print(f'Number of total missing outcomes: {n_total_missing_outcomes}, {n_total_missing_outcomes/len(restricted_stroke_df)}; n=  {len(restricted_stroke_df)}')"
   ]
  },
  {
   "cell_type": "code",
   "execution_count": null,
   "metadata": {
    "pycharm": {
     "name": "#%%\n"
    }
   },
   "outputs": [],
   "source": [
    "# find cids from transfers from France (where Non-Swiss == yes & referral == other hospital)\n",
    "cids_transfers_from_france = restricted_stroke_df[(restricted_stroke_df['Referral'] == 'Other hospital') & (restricted_stroke_df['Non-Swiss'] == 'yes')]['case_admission_id'].values"
   ]
  },
  {
   "cell_type": "code",
   "execution_count": null,
   "metadata": {
    "pycharm": {
     "name": "#%%\n"
    }
   },
   "outputs": [],
   "source": [
    "n_missing_outcomes_transfers_from_france = restricted_stroke_df[restricted_stroke_df.case_admission_id.isin(cids_transfers_from_france)]['3M mRS'].isna().sum()\n",
    "print(f'Number of missing outcomes in transfers from france:', n_missing_outcomes_transfers_from_france, 'for a number of transfers from France:', len(cids_transfers_from_france))"
   ]
  },
  {
   "cell_type": "code",
   "execution_count": null,
   "metadata": {
    "pycharm": {
     "name": "#%%\n"
    }
   },
   "outputs": [],
   "source": [
    "n_missing_outcomes_for_non_swiss_residents = restricted_stroke_df[restricted_stroke_df['Non-Swiss'] == 'yes']['3M mRS'].isna().sum()\n",
    "print(f'Number of missing outcomes for non swiss residents:', n_missing_outcomes_for_non_swiss_residents, 'of:', len(restricted_stroke_df[restricted_stroke_df['Non-Swiss'] == 'yes']))"
   ]
  },
  {
   "cell_type": "code",
   "execution_count": null,
   "metadata": {
    "pycharm": {
     "name": "#%%\n"
    }
   },
   "outputs": [],
   "source": [
    "n_missing_outcomes_all_transfers = restricted_stroke_df[(restricted_stroke_df['Referral'] == 'Other hospital')]['3M mRS'].isna().sum()\n",
    "print(f'Number of missing outcomes for all transferred patients:', n_missing_outcomes_all_transfers, f'for a total of {len(restricted_stroke_df[restricted_stroke_df[\"Referral\"] == \"Other hospital\"])} events')"
   ]
  },
  {
   "cell_type": "code",
   "execution_count": null,
   "metadata": {
    "pycharm": {
     "name": "#%%\n"
    }
   },
   "outputs": [],
   "source": [
    "n_missing_outcomes_in_hospital = restricted_stroke_df[restricted_stroke_df['Referral'] == 'In-hospital event']['3M mRS'].isna().sum()\n",
    "print(f'Number of missing outcomes for in-hospital events:', n_missing_outcomes_in_hospital, f'for a total of {len(restricted_stroke_df[restricted_stroke_df[\"Referral\"] == \"In-hospital event\"])} events')"
   ]
  },
  {
   "cell_type": "code",
   "execution_count": null,
   "metadata": {
    "pycharm": {
     "name": "#%%\n"
    }
   },
   "outputs": [],
   "source": [
    "restricted_stroke_df[(restricted_stroke_df['Non-Swiss'] != 'yes') & (restricted_stroke_df['Referral'] != 'In-hospital event') & (restricted_stroke_df['3M mRS'].isna())]"
   ]
  },
  {
   "cell_type": "code",
   "execution_count": null,
   "metadata": {
    "pycharm": {
     "name": "#%%\n"
    }
   },
   "outputs": [],
   "source": []
  }
 ],
 "metadata": {
  "kernelspec": {
   "display_name": "Python 3",
   "language": "python",
   "name": "python3"
  },
  "language_info": {
   "codemirror_mode": {
    "name": "ipython",
    "version": 2
   },
   "file_extension": ".py",
   "mimetype": "text/x-python",
   "name": "python",
   "nbconvert_exporter": "python",
   "pygments_lexer": "ipython2",
   "version": "2.7.6"
  }
 },
 "nbformat": 4,
 "nbformat_minor": 0
}
