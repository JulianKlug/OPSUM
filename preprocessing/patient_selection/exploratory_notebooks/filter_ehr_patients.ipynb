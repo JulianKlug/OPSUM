{
 "cells": [
  {
   "cell_type": "markdown",
   "metadata": {
    "collapsed": false,
    "pycharm": {
     "name": "#%% md\n"
    }
   },
   "source": [
    "# Filter EHR patients\n",
    "\n",
    "Filter out:\n",
    "- patients with missmatch in patient_id (from registry) and eds_final_patient_id (from EHR extraction)\n",
    "    - Goal: avoid using data from another patient that was mistakenly selected during EHR extraction\n",
    "    - Exception: patient with manually completed EDS or ID (patient_id_manual, eds_manual)\n",
    "\n",
    "__This code is now in:__ `patient_selection/filter_ehr_patients.py`\n"
   ]
  },
  {
   "cell_type": "code",
   "execution_count": null,
   "metadata": {
    "pycharm": {
     "name": "#%%\n"
    }
   },
   "outputs": [],
   "source": [
    "import pandas as pd\n",
    "import os"
   ]
  },
  {
   "cell_type": "code",
   "execution_count": null,
   "metadata": {
    "pycharm": {
     "name": "#%%\n"
    }
   },
   "outputs": [],
   "source": [
    "data_path = '/Users/jk1/stroke_datasets/stroke_unit_dataset/per_value/errors_Extraction_20220815/eds_j1.csv'"
   ]
  },
  {
   "cell_type": "code",
   "execution_count": null,
   "metadata": {
    "pycharm": {
     "name": "#%%\n"
    }
   },
   "outputs": [],
   "source": [
    "data_df = pd.read_csv(data_path, delimiter=';', encoding='utf-8',\n",
    "                         dtype=str)"
   ]
  },
  {
   "cell_type": "code",
   "execution_count": null,
   "metadata": {
    "pycharm": {
     "name": "#%%\n"
    }
   },
   "outputs": [],
   "source": [
    "# selected rows\n",
    "data_df[(data_df['patient_id'] != data_df['eds_final_patient_id'])\n",
    "        & ((data_df.eds_manual.isna()) | (data_df.match_by != '0 = eds manual'))\n",
    "]"
   ]
  },
  {
   "cell_type": "code",
   "execution_count": null,
   "metadata": {
    "pycharm": {
     "name": "#%%\n"
    }
   },
   "outputs": [],
   "source": [
    "data_df[(~data_df.patient_id_manual.isna() & (data_df.match_by != '0 = eds manual'))]"
   ]
  },
  {
   "cell_type": "code",
   "execution_count": null,
   "metadata": {
    "pycharm": {
     "name": "#%%\n"
    }
   },
   "outputs": [],
   "source": [
    "# drop selected rows\n",
    "filtered_data_df = data_df.drop(data_df[(data_df['patient_id'] != data_df['eds_final_patient_id'])\n",
    "        & ((data_df.eds_manual.isna()) | (data_df.match_by != '0 = eds manual'))].index)"
   ]
  },
  {
   "cell_type": "markdown",
   "metadata": {
    "collapsed": false,
    "pycharm": {
     "name": "#%% md\n"
    }
   },
   "source": [
    "## Testing final function"
   ]
  },
  {
   "cell_type": "code",
   "execution_count": null,
   "metadata": {
    "pycharm": {
     "name": "#%%\n"
    }
   },
   "outputs": [],
   "source": [
    "data_path = '/Users/jk1/stroke_datasets/stroke_unit_dataset/per_value/Extraction20220629'\n",
    "lab_file_start = 'labo'"
   ]
  },
  {
   "cell_type": "code",
   "execution_count": null,
   "metadata": {
    "pycharm": {
     "name": "#%%\n"
    }
   },
   "outputs": [],
   "source": [
    "lab_files = [pd.read_csv(os.path.join(data_path, f), delimiter=';', encoding='utf-8', dtype=str)\n",
    "             for f in os.listdir(data_path)\n",
    "             if f.startswith(lab_file_start)]"
   ]
  },
  {
   "cell_type": "code",
   "execution_count": null,
   "metadata": {
    "pycharm": {
     "name": "#%%\n"
    }
   },
   "outputs": [],
   "source": [
    "from preprocessing.utils import create_ehr_case_identification_column\n",
    "\n",
    "lab_df = pd.concat(lab_files, ignore_index=True)\n",
    "lab_df['case_admission_id'] = create_ehr_case_identification_column(lab_df)"
   ]
  },
  {
   "cell_type": "code",
   "execution_count": null,
   "metadata": {
    "pycharm": {
     "name": "#%%\n"
    }
   },
   "outputs": [],
   "source": [
    "from preprocessing.patient_selection.filter_ehr_patients import filter_ehr_patients\n",
    "\n",
    "filtered_df = filter_ehr_patients(lab_df)"
   ]
  },
  {
   "cell_type": "code",
   "execution_count": null,
   "metadata": {
    "pycharm": {
     "name": "#%%\n"
    }
   },
   "outputs": [],
   "source": [
    "len(filtered_df.case_admission_id.unique()), len(lab_df.case_admission_id.unique())"
   ]
  },
  {
   "cell_type": "code",
   "execution_count": null,
   "metadata": {
    "pycharm": {
     "name": "#%%\n"
    }
   },
   "outputs": [],
   "source": [
    "lab_df[(lab_df['patient_id'] != lab_df['eds_final_patient_id'])\n",
    "        & ((lab_df.eds_manual.isna()) | (lab_df.match_by != '0 = eds manual'))\n",
    "]"
   ]
  },
  {
   "cell_type": "code",
   "execution_count": null,
   "metadata": {
    "pycharm": {
     "name": "#%%\n"
    }
   },
   "outputs": [],
   "source": [
    "filtered_df[(filtered_df['patient_id'] != filtered_df['eds_final_patient_id'])\n",
    "        & ((filtered_df.eds_manual.isna()) | (filtered_df.match_by != '0 = eds manual'))\n",
    "]"
   ]
  },
  {
   "cell_type": "markdown",
   "metadata": {
    "collapsed": false,
    "pycharm": {
     "name": "#%% md\n"
    }
   },
   "source": [
    "Function works as expected."
   ]
  }
 ],
 "metadata": {
  "kernelspec": {
   "display_name": "Python 3",
   "language": "python",
   "name": "python3"
  },
  "language_info": {
   "codemirror_mode": {
    "name": "ipython",
    "version": 2
   },
   "file_extension": ".py",
   "mimetype": "text/x-python",
   "name": "python",
   "nbconvert_exporter": "python",
   "pygments_lexer": "ipython2",
   "version": "2.7.6"
  }
 },
 "nbformat": 4,
 "nbformat_minor": 0
}
