{
 "cells": [
  {
   "cell_type": "markdown",
   "metadata": {
    "collapsed": false,
    "pycharm": {
     "name": "#%% md\n"
    }
   },
   "source": [
    "# Exclude cases with missmatch between EHR and registry data\n",
    "\n",
    "*Exclusion criteria for cases start date of EHR sampling*\n",
    "    - EHR sampling start date needs to at most [lower_bound_days, default 26] days before stroke onset (so that totale sampled days periods includes 72h of stroke monitoring) [when stroke onset is not available, arrival date from registry is used]\n",
    "    - EHR sampling start date should be at most [upper_bound_days, default 7] days after reference date in registry (stroke onset or arrival date, whichever is later)\n",
    "\n",
    "\n",
    "*Exclusion criteria for individual samples*\n",
    "- Samples occurring before the day of stroke onset should be excluded\n",
    "\n",
    "\n",
    "__This code is now in:__ `patient_selection/restrict_to_patient_selection.py`\n"
   ]
  },
  {
   "cell_type": "code",
   "execution_count": null,
   "metadata": {
    "pycharm": {
     "name": "#%%\n"
    }
   },
   "outputs": [],
   "source": [
    "import pandas as pd"
   ]
  },
  {
   "cell_type": "code",
   "execution_count": null,
   "metadata": {
    "pycharm": {
     "name": "#%%\n"
    }
   },
   "outputs": [],
   "source": [
    "raw_data_path = '/Users/jk1/stroke_datasets/stroke_unit_dataset/per_value/Extraction_20220815'\n",
    "patient_selection_path = '/Users/jk1/temp/opsum_extraction_output/high_frequency_data_patient_selection_with_details.csv'"
   ]
  },
  {
   "cell_type": "code",
   "execution_count": null,
   "metadata": {
    "pycharm": {
     "name": "#%%\n"
    }
   },
   "outputs": [],
   "source": [
    "from preprocessing.patient_selection.filter_ehr_patients import filter_ehr_patients\n",
    "from preprocessing.vitals_preprocessing.vitals_preprocessing import preprocess_vitals\n",
    "from preprocessing.variable_assembly.variable_database_assembly import load_data_from_main_dir\n",
    "\n",
    "# Load and preprocess vitals data\n",
    "vitals_file_start = 'patientvalue'\n",
    "vitals_df = load_data_from_main_dir(raw_data_path, vitals_file_start)\n",
    "vitals_df = filter_ehr_patients(vitals_df, patient_selection_path)\n",
    "vitals_df = preprocess_vitals(vitals_df, verbose=True)\n",
    "vitals_df = vitals_df[['case_admission_id','datetime','vital_value','vital_name']]\n",
    "vitals_df.rename(columns={'vital_name': 'sample_label', 'vital_value':'value', 'datetime':'sample_date'}, inplace=True)\n",
    "vitals_df['source'] = 'EHR'"
   ]
  },
  {
   "cell_type": "code",
   "execution_count": null,
   "metadata": {
    "pycharm": {
     "name": "#%%\n"
    }
   },
   "outputs": [],
   "source": [
    "from preprocessing.utils import create_registry_case_identification_column\n",
    "\n",
    "patient_selection_df = pd.read_csv(patient_selection_path, dtype=str)\n",
    "patient_selection_df['case_admission_id'] = create_registry_case_identification_column(patient_selection_df)"
   ]
  },
  {
   "cell_type": "code",
   "execution_count": null,
   "metadata": {
    "pycharm": {
     "name": "#%%\n"
    }
   },
   "outputs": [],
   "source": [
    "restricted_to_selection_df = vitals_df[\n",
    "        vitals_df['case_admission_id'].isin(patient_selection_df['case_admission_id'])]"
   ]
  },
  {
   "cell_type": "code",
   "execution_count": null,
   "metadata": {
    "pycharm": {
     "name": "#%%\n"
    }
   },
   "outputs": [],
   "source": [
    "datatime_format = '%d.%m.%Y %H:%M'"
   ]
  },
  {
   "cell_type": "code",
   "execution_count": null,
   "metadata": {
    "pycharm": {
     "name": "#%%\n"
    }
   },
   "outputs": [],
   "source": [
    "# find first sample_date for each case_admission id\n",
    "temp_df = restricted_to_selection_df.copy()\n",
    "temp_df['sample_date_dt'] = pd.to_datetime(temp_df['sample_date'], format=datatime_format)\n",
    "first_sample_date = temp_df.groupby('case_admission_id').sample_date_dt.min()\n",
    "temp_df.drop(columns=['sample_date_dt'], inplace=True)\n",
    "first_sample_date = first_sample_date.reset_index(level=0)\n",
    "first_sample_date.rename(columns={'sample_date_dt': 'first_sample_date'}, inplace=True)\n",
    "first_sample_date = first_sample_date.merge(patient_selection_df, on='case_admission_id', how='left')"
   ]
  },
  {
   "cell_type": "code",
   "execution_count": null,
   "metadata": {
    "pycharm": {
     "name": "#%%\n"
    }
   },
   "outputs": [],
   "source": [
    "first_sample_date.head()"
   ]
  },
  {
   "cell_type": "markdown",
   "metadata": {
    "collapsed": false,
    "pycharm": {
     "name": "#%% md\n"
    }
   },
   "source": [
    "## LOWER BOUND"
   ]
  },
  {
   "cell_type": "code",
   "execution_count": null,
   "metadata": {
    "pycharm": {
     "name": "#%%\n"
    }
   },
   "outputs": [],
   "source": [
    "# maxmimum number of days that first sample of EHR data can be before stroke onset (ideally number of ehr sampling days - 4) to include 72h of stroke monitoring\n",
    "lower_bound_days = 26\n"
   ]
  },
  {
   "cell_type": "code",
   "execution_count": null,
   "metadata": {
    "pycharm": {
     "name": "#%%\n"
    }
   },
   "outputs": [],
   "source": [
    "# set stroke onset date as reference (or Arrival date if no stroke onset date is available)\n",
    "first_sample_date['event_start_date_reference'] = first_sample_date['Stroke onset date'].fillna(\n",
    "    first_sample_date['Arrival at hospital'])\n",
    "first_sample_date['registry_onset_to_first_sample_date_days'] = (\n",
    "        pd.to_datetime(first_sample_date['first_sample_date'], format=datatime_format) - pd.to_datetime(\n",
    "    first_sample_date['event_start_date_reference'], format='%Y%m%d')).dt.days"
   ]
  },
  {
   "cell_type": "code",
   "execution_count": null,
   "metadata": {
    "pycharm": {
     "name": "#%%\n"
    }
   },
   "outputs": [],
   "source": [
    "first_sample_date[['event_start_date_reference', 'Stroke onset date', 'Arrival at hospital']]"
   ]
  },
  {
   "cell_type": "code",
   "execution_count": null,
   "metadata": {
    "pycharm": {
     "name": "#%%\n"
    }
   },
   "outputs": [],
   "source": [
    "first_sample_date[['case_admission_id', 'registry_onset_to_first_sample_date_days', 'event_start_date_reference', 'first_sample_date', 'Arrival at hospital']]"
   ]
  },
  {
   "cell_type": "code",
   "execution_count": null,
   "metadata": {
    "pycharm": {
     "name": "#%%\n"
    }
   },
   "outputs": [],
   "source": [
    "cid_sampled_too_early = first_sample_date[first_sample_date['registry_onset_to_first_sample_date_days'] < -1 * lower_bound_days]['case_admission_id'].unique()\n",
    "cid_sampled_too_early"
   ]
  },
  {
   "cell_type": "markdown",
   "metadata": {
    "collapsed": false,
    "pycharm": {
     "name": "#%% md\n"
    }
   },
   "source": [
    "## UPPER BOUND"
   ]
  },
  {
   "cell_type": "code",
   "execution_count": null,
   "metadata": {
    "pycharm": {
     "name": "#%%\n"
    }
   },
   "outputs": [],
   "source": [
    "# maximum number of days that first sample of EHR data can be after reference date in registry to include only acute stroke events (should generally by 7 days)\n",
    "upper_bound_days = 7"
   ]
  },
  {
   "cell_type": "code",
   "execution_count": null,
   "metadata": {
    "pycharm": {
     "name": "#%%\n"
    }
   },
   "outputs": [],
   "source": [
    "# set end of reference period to stroke onset or arrival at hospital, whichever is later\n",
    "# (if stroke onset not defined, arrival at hospital is used implicitly)\n",
    "first_sample_date['delta_onset_arrival'] = (\n",
    "        pd.to_datetime(first_sample_date['Stroke onset date'], format='%Y%m%d') - pd.to_datetime(\n",
    "    first_sample_date['Arrival at hospital'], format='%Y%m%d')).dt.total_seconds()\n",
    "first_sample_date['sampling_start_upper_bound_reference'] = first_sample_date \\\n",
    "    .apply(lambda x: x['Stroke onset date'] if x['delta_onset_arrival'] > 0 else x['Arrival at hospital'], axis=1)\n",
    "first_sample_date[['sampling_start_upper_bound_reference', 'Arrival at hospital', 'Stroke onset date', 'delta_onset_arrival']]"
   ]
  },
  {
   "cell_type": "code",
   "execution_count": null,
   "metadata": {
    "pycharm": {
     "name": "#%%\n"
    }
   },
   "outputs": [],
   "source": [
    "first_sample_date['registry_upper_bound_to_first_sample_date_days'] = (\n",
    "                pd.to_datetime(first_sample_date['first_sample_date'], format=datatime_format) - pd.to_datetime(\n",
    "            first_sample_date['sampling_start_upper_bound_reference'], format='%Y%m%d')).dt.days"
   ]
  },
  {
   "cell_type": "code",
   "execution_count": null,
   "metadata": {
    "pycharm": {
     "name": "#%%\n"
    }
   },
   "outputs": [],
   "source": [
    "first_sample_date[['case_admission_id', 'registry_upper_bound_to_first_sample_date_days', 'sampling_start_upper_bound_reference', 'first_sample_date', 'Arrival at hospital', 'Stroke onset date']]"
   ]
  },
  {
   "cell_type": "code",
   "execution_count": null,
   "metadata": {
    "pycharm": {
     "name": "#%%\n"
    }
   },
   "outputs": [],
   "source": [
    "cid_sampled_too_late = first_sample_date[first_sample_date['registry_upper_bound_to_first_sample_date_days'] > upper_bound_days][\n",
    "            'case_admission_id'].unique()\n",
    "cid_sampled_too_late"
   ]
  },
  {
   "cell_type": "code",
   "execution_count": null,
   "metadata": {
    "pycharm": {
     "name": "#%%\n"
    }
   },
   "outputs": [],
   "source": [
    "# drop cid from temp_df if in cid_sampled_too_early or cid_sampled_too_late\n",
    "temp_df = temp_df[~temp_df['case_admission_id'].isin(cid_sampled_too_early)]\n",
    "temp_df = temp_df[~temp_df['case_admission_id'].isin(cid_sampled_too_late)]"
   ]
  },
  {
   "cell_type": "code",
   "execution_count": null,
   "metadata": {
    "pycharm": {
     "name": "#%%\n"
    }
   },
   "outputs": [],
   "source": [
    "len(cid_sampled_too_early) + len(cid_sampled_too_late)"
   ]
  },
  {
   "cell_type": "code",
   "execution_count": null,
   "metadata": {
    "pycharm": {
     "name": "#%%\n"
    }
   },
   "outputs": [],
   "source": [
    "# Samples occurring before 1 day before stroke onset should be excluded\n",
    "temp_df = temp_df.merge(patient_selection_df[['case_admission_id', 'Stroke onset date', 'Arrival at hospital']], on='case_admission_id', how='left')\n",
    "temp_df['event_start_date_reference'] = temp_df['Stroke onset date'].fillna(temp_df['Arrival at hospital'])\n",
    "temp_df['delta_sample_date_stroke_onset'] = (\n",
    "            pd.to_datetime(temp_df['sample_date'], format=datatime_format) - pd.to_datetime(\n",
    "        temp_df['event_start_date_reference'], format='%Y%m%d')).dt.days"
   ]
  },
  {
   "cell_type": "code",
   "execution_count": null,
   "metadata": {
    "pycharm": {
     "name": "#%%\n"
    }
   },
   "outputs": [],
   "source": [
    "len(temp_df[temp_df['delta_sample_date_stroke_onset'] < 0])"
   ]
  },
  {
   "cell_type": "code",
   "execution_count": null,
   "metadata": {
    "pycharm": {
     "name": "#%%\n"
    }
   },
   "outputs": [],
   "source": [
    "# drop rows with delta_sample_date_stroke_onset < 0\n",
    "temp_df = temp_df[temp_df['delta_sample_date_stroke_onset'] >= 0]\n",
    "temp_df.drop(['delta_sample_date_stroke_onset', 'event_start_date_reference', 'Stroke onset date', 'Arrival at hospital'], axis=1, inplace=True)"
   ]
  },
  {
   "cell_type": "markdown",
   "metadata": {
    "collapsed": false,
    "pycharm": {
     "name": "#%% md\n"
    }
   },
   "source": [
    "# Test final function"
   ]
  },
  {
   "cell_type": "code",
   "execution_count": null,
   "metadata": {
    "pycharm": {
     "name": "#%%\n"
    }
   },
   "outputs": [],
   "source": [
    "from preprocessing.patient_selection.restrict_to_patient_selection import restrict_to_patient_selection\n",
    "\n",
    "restrict_to_patient_selection(vitals_df, patient_selection_path, True)"
   ]
  },
  {
   "cell_type": "code",
   "execution_count": null,
   "metadata": {
    "pycharm": {
     "name": "#%%\n"
    }
   },
   "outputs": [],
   "source": []
  }
 ],
 "metadata": {
  "kernelspec": {
   "display_name": "Python 3",
   "language": "python",
   "name": "python3"
  },
  "language_info": {
   "codemirror_mode": {
    "name": "ipython",
    "version": 2
   },
   "file_extension": ".py",
   "mimetype": "text/x-python",
   "name": "python",
   "nbconvert_exporter": "python",
   "pygments_lexer": "ipython2",
   "version": "2.7.6"
  }
 },
 "nbformat": 4,
 "nbformat_minor": 0
}
