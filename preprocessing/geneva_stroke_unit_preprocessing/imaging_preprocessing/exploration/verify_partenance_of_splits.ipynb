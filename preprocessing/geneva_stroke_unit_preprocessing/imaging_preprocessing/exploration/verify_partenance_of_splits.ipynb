{
 "cells": [
  {
   "cell_type": "code",
   "execution_count": null,
   "id": "initial_id",
   "metadata": {
    "ExecuteTime": {
     "end_time": "2024-02-16T16:17:44.472577Z",
     "start_time": "2024-02-16T16:17:44.469704Z"
    }
   },
   "outputs": [],
   "source": [
    "import pandas as pd"
   ]
  },
  {
   "cell_type": "code",
   "execution_count": null,
   "id": "66b612617319c055",
   "metadata": {
    "ExecuteTime": {
     "end_time": "2024-02-16T16:20:26.309697Z",
     "start_time": "2024-02-16T16:20:26.304711Z"
    }
   },
   "outputs": [],
   "source": [
    "imaging_data_path = '/Users/jk1/Library/CloudStorage/OneDrive-unige.ch/stroke_research/geneva_stroke_unit_dataset/data/perfusion_imaging_data/random_subset_for_imaging_extraction.xlsx'\n",
    "features_path = '/Users/jk1/temp/opsum_prepro_output/gsu_prepro_01012023_233050/preprocessed_features_01012023_233050.csv'\n",
    "labels_path = '/Users/jk1/temp/opsum_prepro_output/gsu_prepro_01012023_233050/preprocessed_outcomes_01012023_233050.csv'"
   ]
  },
  {
   "cell_type": "code",
   "execution_count": null,
   "id": "55ed91217bc66714",
   "metadata": {
    "ExecuteTime": {
     "end_time": "2024-02-16T16:24:14.811805Z",
     "start_time": "2024-02-16T16:24:14.804455Z"
    }
   },
   "outputs": [],
   "source": [
    "test_size = 0.2\n",
    "seed=42\n",
    "n_splits=5\n",
    "outcome = '3M mRS 0-2'"
   ]
  },
  {
   "cell_type": "code",
   "execution_count": null,
   "id": "4c88be2d35ecbcb2",
   "metadata": {
    "ExecuteTime": {
     "end_time": "2024-02-16T16:23:55.165838Z",
     "start_time": "2024-02-16T16:23:54.929243Z"
    }
   },
   "outputs": [],
   "source": [
    "imaging_data_df = pd.read_excel(imaging_data_path)"
   ]
  },
  {
   "cell_type": "code",
   "execution_count": null,
   "id": "4d5f36f486cf4f8f",
   "metadata": {
    "ExecuteTime": {
     "end_time": "2024-02-16T16:27:09.479488Z",
     "start_time": "2024-02-16T16:27:09.474107Z"
    }
   },
   "outputs": [],
   "source": [
    "imaging_data_df.head()"
   ]
  },
  {
   "cell_type": "code",
   "execution_count": null,
   "id": "f843ef16534cd456",
   "metadata": {
    "ExecuteTime": {
     "end_time": "2024-02-16T16:24:47.772711Z",
     "start_time": "2024-02-16T16:24:17.021681Z"
    }
   },
   "outputs": [],
   "source": [
    "from sklearn.model_selection import train_test_split\n",
    "from prediction.utils.utils import check_data\n",
    "from prediction.outcome_prediction.data_loading.data_formatting import format_to_2d_table_with_time, \\\n",
    "    link_patient_id_to_outcome\n",
    "\n",
    "### LOAD THE DATA\n",
    "X, y = format_to_2d_table_with_time(feature_df_path=features_path, outcome_df_path=labels_path,\n",
    "                                    outcome=outcome)\n",
    "\n",
    "n_time_steps = X.relative_sample_date_hourly_cat.max() + 1\n",
    "n_channels = X.sample_label.unique().shape[0]\n",
    "\n",
    "# test if data is corrupted\n",
    "check_data(X)\n",
    "\n",
    "\"\"\"\n",
    "SPLITTING DATA\n",
    "Splitting is done by patient id (and not admission id) as in case of the rare multiple admissions per patient there\n",
    "would be a risk of data leakage otherwise split 'pid' in TRAIN and TEST pid = unique patient_id\n",
    "\"\"\"\n",
    "# Reduce every patient to a single outcome (to avoid duplicates)\n",
    "all_pids_with_outcome = link_patient_id_to_outcome(y, outcome)\n",
    "pid_train, pid_test, y_pid_train, y_pid_test = train_test_split(all_pids_with_outcome.patient_id.tolist(),\n",
    "                                                                all_pids_with_outcome.outcome.tolist(),\n",
    "                                                                stratify=all_pids_with_outcome.outcome.tolist(),\n",
    "                                                                test_size=test_size,\n",
    "                                                                random_state=seed)"
   ]
  },
  {
   "cell_type": "code",
   "execution_count": null,
   "id": "3fb751ff900d9888",
   "metadata": {
    "ExecuteTime": {
     "end_time": "2024-02-16T16:27:21.514496Z",
     "start_time": "2024-02-16T16:27:21.507357Z"
    }
   },
   "outputs": [],
   "source": [
    "imaging_data_df['pid'] = imaging_data_df['case_admission_id'].apply(lambda x: x.split('_')[0])"
   ]
  },
  {
   "cell_type": "code",
   "execution_count": null,
   "id": "20537713646de341",
   "metadata": {
    "ExecuteTime": {
     "end_time": "2024-02-16T16:30:12.155216Z",
     "start_time": "2024-02-16T16:30:12.146755Z"
    }
   },
   "outputs": [],
   "source": [
    "n_pid_train_in_imaging_set = imaging_data_df[imaging_data_df['pid'].isin(pid_train)].shape[0]\n",
    "n_pid_test_in_imaging_set = imaging_data_df[imaging_data_df['pid'].isin(pid_test)].shape[0]\n",
    "print(f'Number of patients in training set in imaging subset: {n_pid_train_in_imaging_set}')\n",
    "print(f'Number of patients in test set in imaging subset: {n_pid_test_in_imaging_set}')\n",
    "\n",
    "n_pid_train_with_imaging = imaging_data_df[(imaging_data_df['pid'].isin(pid_train)) & (imaging_data_df.CTP_present == 1)].shape[0]\n",
    "n_pid_test_with_imaging = imaging_data_df[(imaging_data_df['pid'].isin(pid_test)) & (imaging_data_df.CTP_present == 1)].shape[0]\n",
    "\n",
    "print(f'Number of patients in training set with imaging data: {n_pid_train_with_imaging}')\n",
    "print(f'Number of patients in test set with imaging data: {n_pid_test_with_imaging}')"
   ]
  },
  {
   "cell_type": "code",
   "execution_count": null,
   "id": "9aa6df58bc4e1b84",
   "metadata": {
    "ExecuteTime": {
     "end_time": "2024-02-16T18:55:59.381784Z",
     "start_time": "2024-02-16T18:55:59.377342Z"
    }
   },
   "outputs": [],
   "source": [
    "n_cid_train_with_imaging = imaging_data_df[(imaging_data_df['pid'].isin(pid_train)) & (imaging_data_df.CBF.notnull())].case_admission_id.unique().shape[0]\n",
    "n_cid_test_with_imaging = imaging_data_df[(imaging_data_df['pid'].isin(pid_test)) & (imaging_data_df.CBF.notnull())].case_admission_id.unique().shape[0]\n",
    "\n",
    "print(f'Number of admissions in training set with imaging data: {n_cid_train_with_imaging}')\n",
    "print(f'Number of admissions in test set with imaging data: {n_cid_test_with_imaging}')"
   ]
  },
  {
   "cell_type": "code",
   "execution_count": null,
   "id": "992e8de92115533f",
   "metadata": {},
   "outputs": [],
   "source": []
  }
 ],
 "metadata": {
  "kernelspec": {
   "display_name": "Python 3",
   "language": "python",
   "name": "python3"
  },
  "language_info": {
   "codemirror_mode": {
    "name": "ipython",
    "version": 2
   },
   "file_extension": ".py",
   "mimetype": "text/x-python",
   "name": "python",
   "nbconvert_exporter": "python",
   "pygments_lexer": "ipython2",
   "version": "2.7.6"
  }
 },
 "nbformat": 4,
 "nbformat_minor": 5
}
