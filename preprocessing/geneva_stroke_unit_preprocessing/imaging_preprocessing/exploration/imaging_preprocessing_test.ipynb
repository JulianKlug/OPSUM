{
 "cells": [
  {
   "cell_type": "code",
   "execution_count": null,
   "id": "initial_id",
   "metadata": {
    "ExecuteTime": {
     "end_time": "2024-02-16T16:49:41.013814Z",
     "start_time": "2024-02-16T16:49:39.485821Z"
    }
   },
   "outputs": [],
   "source": [
    "import pandas as pd"
   ]
  },
  {
   "cell_type": "code",
   "execution_count": null,
   "id": "92beae541321b88",
   "metadata": {
    "ExecuteTime": {
     "end_time": "2024-02-16T16:51:45.724422Z",
     "start_time": "2024-02-16T16:51:45.720777Z"
    }
   },
   "outputs": [],
   "source": [
    "imaging_data_path = '/Users/jk1/Library/CloudStorage/OneDrive-unige.ch/stroke_research/geneva_stroke_unit_dataset/data/perfusion_imaging_data/random_subset_for_imaging_extraction.xlsx'\n",
    "patient_selection_path = '/Users/jk1/temp/opsum_extraction_output/gsu_extraction_01012023_222140/high_frequency_data_patient_selection_with_details.csv'"
   ]
  },
  {
   "cell_type": "code",
   "execution_count": null,
   "id": "55c9dc0804d26baf",
   "metadata": {
    "ExecuteTime": {
     "end_time": "2024-02-16T16:57:30.338109Z",
     "start_time": "2024-02-16T16:57:30.265754Z"
    }
   },
   "outputs": [],
   "source": [
    "imaging_data_df = pd.read_excel(imaging_data_path)"
   ]
  },
  {
   "cell_type": "code",
   "execution_count": null,
   "id": "f7b68da8f0d673fc",
   "metadata": {
    "ExecuteTime": {
     "end_time": "2024-02-16T16:57:30.812901Z",
     "start_time": "2024-02-16T16:57:30.794025Z"
    }
   },
   "outputs": [],
   "source": [
    "from preprocessing.geneva_stroke_unit_preprocessing.patient_selection.restrict_to_patient_selection import \\\n",
    "    restrict_to_patient_selection\n",
    "from preprocessing.geneva_stroke_unit_preprocessing.patient_selection.filter_ehr_patients import filter_ehr_patients\n",
    "\n",
    "imaging_data_df = restrict_to_patient_selection(imaging_data_df, patient_selection_path, restrict_to_event_period=False)"
   ]
  },
  {
   "cell_type": "markdown",
   "id": "ab67d6c924ce03aa",
   "metadata": {
    "collapsed": false
   },
   "source": []
  },
  {
   "cell_type": "code",
   "execution_count": null,
   "id": "2a93eaadf33e31e8",
   "metadata": {
    "ExecuteTime": {
     "end_time": "2024-02-16T17:07:33.160409Z",
     "start_time": "2024-02-16T17:07:33.144411Z"
    }
   },
   "outputs": [],
   "source": [
    "imaging_data_df"
   ]
  },
  {
   "cell_type": "code",
   "execution_count": null,
   "id": "6262ba641e1a9a38",
   "metadata": {
    "ExecuteTime": {
     "end_time": "2024-02-16T17:14:37.239356Z",
     "start_time": "2024-02-16T17:14:37.229782Z"
    }
   },
   "outputs": [],
   "source": [
    "target_datatime_format = '%d.%m.%Y %H:%M'\n",
    "imaging_data_df['imaging_full_date'] = imaging_data_df['1st brain imaging date'].astype(str) + ' ' + imaging_data_df['1st brain imaging time'].astype(str)\n",
    "imaging_data_df['sample_date'] = pd.to_datetime(imaging_data_df['imaging_full_date'], format='%Y%m%d %H:%M')\n",
    "# convert to target format\n",
    "imaging_data_df['sample_date'] = imaging_data_df['sample_date'].dt.strftime(target_datatime_format)"
   ]
  },
  {
   "cell_type": "code",
   "execution_count": null,
   "id": "d54ac0ecf0ea33b9",
   "metadata": {
    "ExecuteTime": {
     "end_time": "2024-02-16T17:14:53.797722Z",
     "start_time": "2024-02-16T17:14:53.792715Z"
    }
   },
   "outputs": [],
   "source": [
    "imaging_data_df[['sample_date', 'imaging_full_date']]"
   ]
  },
  {
   "cell_type": "code",
   "execution_count": null,
   "id": "7b1d21244598cbc",
   "metadata": {
    "ExecuteTime": {
     "end_time": "2024-02-16T18:47:32.693657Z",
     "start_time": "2024-02-16T18:47:32.685323Z"
    }
   },
   "outputs": [],
   "source": [
    "# Variables to include: 'T10' (Tmax > 10), 'T8' (Tmax > 8), 'T6' (Tmax > 6), 'T4' (Tmax > 4), 'CBF' (CBF < 30%)\n",
    "# - CTP_artefacted (presence of artefacts in CTP) --> not kept for now, because to little data\n",
    "\n",
    "selected_imaging_data_df = imaging_data_df[['case_admission_id', 'sample_date', 'T10', 'T8', 'T6', 'T4', 'CBF']]"
   ]
  },
  {
   "cell_type": "code",
   "execution_count": null,
   "id": "1abf76627d891b1",
   "metadata": {
    "ExecuteTime": {
     "end_time": "2024-02-16T18:47:33.023059Z",
     "start_time": "2024-02-16T18:47:33.015746Z"
    }
   },
   "outputs": [],
   "source": [
    "selected_imaging_data_df = selected_imaging_data_df.melt(id_vars=['case_admission_id', 'sample_date'], value_vars=['T10', 'T8', 'T6', 'T4', 'CBF'], var_name='sample_label', value_name='value')"
   ]
  },
  {
   "cell_type": "code",
   "execution_count": null,
   "id": "124a21d44b3159dd",
   "metadata": {
    "ExecuteTime": {
     "end_time": "2024-02-16T18:47:33.405112Z",
     "start_time": "2024-02-16T18:47:33.394648Z"
    }
   },
   "outputs": [],
   "source": [
    "selected_imaging_data_df[(selected_imaging_data_df.sample_label == 'CBF')\n",
    "                                            & (selected_imaging_data_df.value.notnull())]['case_admission_id'].unique()"
   ]
  },
  {
   "cell_type": "code",
   "execution_count": null,
   "id": "73b3974ebea2260d",
   "metadata": {
    "ExecuteTime": {
     "end_time": "2024-02-16T18:51:29.236524Z",
     "start_time": "2024-02-16T18:51:29.226062Z"
    }
   },
   "outputs": [],
   "source": [
    "selected_imaging_data_df[(selected_imaging_data_df.sample_label == 'CBF')\n",
    "                                            & (selected_imaging_data_df.value.notnull())]"
   ]
  },
  {
   "cell_type": "code",
   "execution_count": null,
   "id": "31517839e163bbc6",
   "metadata": {
    "ExecuteTime": {
     "end_time": "2024-02-16T18:57:53.336645Z",
     "start_time": "2024-02-16T18:57:53.315873Z"
    }
   },
   "outputs": [],
   "source": [
    "selected_imaging_data_df[(selected_imaging_data_df.sample_label == 'CBF')\n",
    "                                            & (selected_imaging_data_df.value.notnull())].case_admission_id.nunique()"
   ]
  },
  {
   "cell_type": "code",
   "execution_count": null,
   "id": "635330fc2bb892ce",
   "metadata": {},
   "outputs": [],
   "source": []
  }
 ],
 "metadata": {
  "kernelspec": {
   "display_name": "Python 3",
   "language": "python",
   "name": "python3"
  },
  "language_info": {
   "codemirror_mode": {
    "name": "ipython",
    "version": 2
   },
   "file_extension": ".py",
   "mimetype": "text/x-python",
   "name": "python",
   "nbconvert_exporter": "python",
   "pygments_lexer": "ipython2",
   "version": "2.7.6"
  }
 },
 "nbformat": 4,
 "nbformat_minor": 5
}
