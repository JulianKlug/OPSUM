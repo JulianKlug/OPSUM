{
 "cells": [
  {
   "cell_type": "code",
   "execution_count": null,
   "id": "ae0e399b",
   "metadata": {},
   "outputs": [],
   "source": [
    "import pandas as pd\n",
    "from preprocessing.geneva_stroke_unit_preprocessing.utils import create_registry_case_identification_column"
   ]
  },
  {
   "cell_type": "code",
   "execution_count": null,
   "id": "0ff41c46",
   "metadata": {},
   "outputs": [],
   "source": [
    "registry_path = '/Users/jk1/Library/CloudStorage/OneDrive-unige.ch/stroke_research/geneva_stroke_unit_dataset/data/stroke_registry/post_hoc_modified/stroke_registry_post_hoc_modified.xlsx'\n",
    "patients_with_imaging_extracted_path = '/Users/jk1/Library/CloudStorage/OneDrive-unige.ch/stroke_research/geneva_stroke_unit_dataset/data/perfusion_imaging_data/random_subset_for_imaging_extraction.xlsx'\n",
    "test_pids_path = '/Users/jk1/temp/opsum_end/preprocessing/gsu_Extraction_20220815_prepro_09052025_220520/early_neurological_deterioration_train_data_splits/pid_test.csv'\n",
    "train_pids_path = '/Users/jk1/temp/opsum_end/preprocessing/gsu_Extraction_20220815_prepro_09052025_220520/early_neurological_deterioration_train_data_splits/pid_train.csv'"
   ]
  },
  {
   "cell_type": "code",
   "execution_count": null,
   "id": "5119cd19",
   "metadata": {},
   "outputs": [],
   "source": [
    "stroke_registry_df = pd.read_excel(registry_path)\n",
    "patients_with_imaging_extracted_df = pd.read_excel(patients_with_imaging_extracted_path)"
   ]
  },
  {
   "cell_type": "code",
   "execution_count": null,
   "id": "51e9371b",
   "metadata": {},
   "outputs": [],
   "source": [
    "train_pids = pd.read_csv(train_pids_path, dtype={'patient_id': str})\n",
    "test_pids = pd.read_csv(test_pids_path, dtype={'patient_id': str})\n",
    "all_pids = pd.concat([train_pids, test_pids])"
   ]
  },
  {
   "cell_type": "code",
   "execution_count": null,
   "id": "995102bf",
   "metadata": {},
   "outputs": [],
   "source": [
    "stroke_registry_df['case_admission_id'] = create_registry_case_identification_column(stroke_registry_df)\n",
    "stroke_registry_df['patient_id'] = stroke_registry_df['Case ID'].apply(lambda x: x[8:-4]).astype(str)\n",
    "stroke_registry_df['EDS_last_4_digits'] = stroke_registry_df['Case ID'].apply(lambda x: x[-4:]).astype(str)"
   ]
  },
  {
   "cell_type": "code",
   "execution_count": null,
   "id": "6d0d0b8c",
   "metadata": {},
   "outputs": [],
   "source": [
    "stroke_registry_df.shape"
   ]
  },
  {
   "cell_type": "code",
   "execution_count": null,
   "id": "a0d03300",
   "metadata": {},
   "outputs": [],
   "source": [
    "# remove patients with imaging data already extracted\n",
    "patients_with_imaging_extracted_cids = patients_with_imaging_extracted_df['case_admission_id'].unique()\n",
    "stroke_registry_df = stroke_registry_df[~stroke_registry_df['case_admission_id'].isin(patients_with_imaging_extracted_cids)]"
   ]
  },
  {
   "cell_type": "code",
   "execution_count": null,
   "id": "ade46651",
   "metadata": {},
   "outputs": [],
   "source": [
    "# restrict to patiebnts in the train and test sets\n",
    "stroke_registry_df = stroke_registry_df[stroke_registry_df['patient_id'].isin(all_pids['patient_id'])]"
   ]
  },
  {
   "cell_type": "code",
   "execution_count": null,
   "id": "556cb6ad",
   "metadata": {},
   "outputs": [],
   "source": [
    "identifier_columns = ['Case ID', 'case_admission_id', 'patient_id', 'EDS_last_4_digits', 'DOB', 'Arrival at hospital', 'Arrival time', '1st brain imaging date', '1st brain imaging time']\n"
   ]
  },
  {
   "cell_type": "code",
   "execution_count": null,
   "id": "07780002",
   "metadata": {},
   "outputs": [],
   "source": [
    "extraction_target_df = stroke_registry_df[identifier_columns].copy()"
   ]
  },
  {
   "cell_type": "code",
   "execution_count": null,
   "id": "df24a1df",
   "metadata": {},
   "outputs": [],
   "source": [
    "# extraction_target_df.to_csv('/Users/jk1/temp/opsum_end/preprocessing/imaging_extraction_target.csv', index=False)"
   ]
  },
  {
   "cell_type": "code",
   "execution_count": null,
   "id": "4e7ac7a6",
   "metadata": {},
   "outputs": [],
   "source": []
  }
 ],
 "metadata": {
  "kernelspec": {
   "display_name": "opsum",
   "language": "python",
   "name": "python3"
  },
  "language_info": {
   "codemirror_mode": {
    "name": "ipython",
    "version": 3
   },
   "file_extension": ".py",
   "mimetype": "text/x-python",
   "name": "python",
   "nbconvert_exporter": "python",
   "pygments_lexer": "ipython3",
   "version": "3.8.11"
  }
 },
 "nbformat": 4,
 "nbformat_minor": 5
}
