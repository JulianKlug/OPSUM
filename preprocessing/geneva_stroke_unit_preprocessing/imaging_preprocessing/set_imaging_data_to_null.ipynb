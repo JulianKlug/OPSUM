{
 "cells": [
  {
   "cell_type": "markdown",
   "id": "8969ef5b7826bb60",
   "metadata": {
    "collapsed": false
   },
   "source": [
    "## Testing model trained on imaging data when imaging data is not available\n",
    "\n",
    "Gist: set imaging data to null to see difference in model performance"
   ]
  },
  {
   "cell_type": "code",
   "execution_count": null,
   "id": "initial_id",
   "metadata": {
    "ExecuteTime": {
     "end_time": "2024-03-01T19:10:16.643495Z",
     "start_time": "2024-03-01T19:10:15.062042Z"
    }
   },
   "outputs": [],
   "source": [
    "import pandas as pd"
   ]
  },
  {
   "cell_type": "code",
   "execution_count": null,
   "id": "ad5fee39e11270b5",
   "metadata": {
    "ExecuteTime": {
     "end_time": "2024-03-01T19:10:28.774293Z",
     "start_time": "2024-03-01T19:10:28.769703Z"
    }
   },
   "outputs": [],
   "source": [
    "features_path = '/Users/jk1/temp/opsum_prepro_output/with_imaging/gsu_Extraction_20220815_prepro_24022024_115629_with_imaging/preprocessed_features_24022024_115629.csv'"
   ]
  },
  {
   "cell_type": "code",
   "execution_count": null,
   "id": "8a85bdd252e9f754",
   "metadata": {
    "ExecuteTime": {
     "end_time": "2024-03-01T19:10:43.958292Z",
     "start_time": "2024-03-01T19:10:33.077414Z"
    }
   },
   "outputs": [],
   "source": [
    "df = pd.read_csv(features_path)"
   ]
  },
  {
   "cell_type": "code",
   "execution_count": null,
   "id": "f4065826bedf6611",
   "metadata": {
    "ExecuteTime": {
     "end_time": "2024-03-01T19:11:43.633753Z",
     "start_time": "2024-03-01T19:11:43.628191Z"
    }
   },
   "outputs": [],
   "source": [
    "imaging_labels = ['T10', 'T8', 'T6', 'T4', 'CBF']"
   ]
  },
  {
   "cell_type": "code",
   "execution_count": null,
   "id": "6a282ef662d87327",
   "metadata": {
    "ExecuteTime": {
     "end_time": "2024-03-01T19:12:18.065495Z",
     "start_time": "2024-03-01T19:12:18.059659Z"
    }
   },
   "outputs": [],
   "source": [
    "df.head()"
   ]
  },
  {
   "cell_type": "code",
   "execution_count": null,
   "id": "a444c9387658d9ae",
   "metadata": {
    "ExecuteTime": {
     "end_time": "2024-03-01T19:20:43.846473Z",
     "start_time": "2024-03-01T19:20:33.469671Z"
    }
   },
   "outputs": [],
   "source": [
    "for label in imaging_labels:\n",
    "    # Null is value that was imputed for patients without imaging data\n",
    "    df.loc[(df.sample_label == label), 'value'] = df[(df.sample_label == label) & (df.source == 'EHR_pop_imputed')].value.median()"
   ]
  },
  {
   "cell_type": "code",
   "execution_count": null,
   "id": "2d4b22718345015c",
   "metadata": {
    "ExecuteTime": {
     "end_time": "2024-03-01T19:24:28.841766Z",
     "start_time": "2024-03-01T19:23:24.625555Z"
    }
   },
   "outputs": [],
   "source": [
    "# df.to_csv('/Users/jk1/temp/opsum_prepro_output/with_imaging/gsu_Extraction_20220815_prepro_24022024_115629_with_imaging/preprocessed_features_24022024_115629_nullified_imaging.csv', index=False)"
   ]
  },
  {
   "cell_type": "code",
   "execution_count": null,
   "id": "808b81702f416c3f",
   "metadata": {},
   "outputs": [],
   "source": []
  }
 ],
 "metadata": {
  "kernelspec": {
   "display_name": "Python 3",
   "language": "python",
   "name": "python3"
  },
  "language_info": {
   "codemirror_mode": {
    "name": "ipython",
    "version": 2
   },
   "file_extension": ".py",
   "mimetype": "text/x-python",
   "name": "python",
   "nbconvert_exporter": "python",
   "pygments_lexer": "ipython2",
   "version": "2.7.6"
  }
 },
 "nbformat": 4,
 "nbformat_minor": 5
}
