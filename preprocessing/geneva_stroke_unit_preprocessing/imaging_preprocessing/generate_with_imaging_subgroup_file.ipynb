{
 "cells": [
  {
   "cell_type": "code",
   "execution_count": null,
   "id": "initial_id",
   "metadata": {
    "ExecuteTime": {
     "end_time": "2024-02-25T17:24:09.330822Z",
     "start_time": "2024-02-25T17:24:07.036297Z"
    }
   },
   "outputs": [],
   "source": [
    "import pandas as pd"
   ]
  },
  {
   "cell_type": "code",
   "execution_count": null,
   "id": "7e5ea1d778ffb3cf",
   "metadata": {
    "ExecuteTime": {
     "end_time": "2024-02-25T17:24:29.760755Z",
     "start_time": "2024-02-25T17:24:29.754622Z"
    }
   },
   "outputs": [],
   "source": [
    "restricted_to_imaging_features_path = '/Users/jk1/temp/opsum_prepro_output/with_imaging/gsu_Extraction_20220815_prepro_24022024_133425_restricted_to_imaging/preprocessed_features_24022024_133425.csv'"
   ]
  },
  {
   "cell_type": "code",
   "execution_count": null,
   "id": "a1a70c9d7dece288",
   "metadata": {
    "ExecuteTime": {
     "end_time": "2024-02-25T17:24:43.438891Z",
     "start_time": "2024-02-25T17:24:42.454959Z"
    }
   },
   "outputs": [],
   "source": [
    "restricted_to_imaging_features_df = pd.read_csv(restricted_to_imaging_features_path)"
   ]
  },
  {
   "cell_type": "code",
   "execution_count": null,
   "id": "7cf6d88fa59a0643",
   "metadata": {
    "ExecuteTime": {
     "end_time": "2024-02-25T17:27:29.086229Z",
     "start_time": "2024-02-25T17:27:29.080095Z"
    }
   },
   "outputs": [],
   "source": [
    "restricted_to_imaging_features_df.case_admission_id"
   ]
  },
  {
   "cell_type": "code",
   "execution_count": null,
   "id": "c56b3770be31748c",
   "metadata": {
    "ExecuteTime": {
     "end_time": "2024-02-25T17:29:30.880504Z",
     "start_time": "2024-02-25T17:29:30.870512Z"
    }
   },
   "outputs": [],
   "source": [
    "imaging_subset_cids = restricted_to_imaging_features_df.case_admission_id.drop_duplicates()"
   ]
  },
  {
   "cell_type": "code",
   "execution_count": null,
   "id": "1efbd3aae50e9a25",
   "metadata": {
    "ExecuteTime": {
     "end_time": "2024-02-25T17:29:31.609169Z",
     "start_time": "2024-02-25T17:29:31.581802Z"
    }
   },
   "outputs": [],
   "source": [
    "imaging_subset_cids.to_csv('/Users/jk1/Downloads/imaging_subset_cids.csv')"
   ]
  },
  {
   "cell_type": "code",
   "execution_count": null,
   "id": "6d664fec07cab9a",
   "metadata": {},
   "outputs": [],
   "source": []
  }
 ],
 "metadata": {
  "kernelspec": {
   "display_name": "Python 3",
   "language": "python",
   "name": "python3"
  },
  "language_info": {
   "codemirror_mode": {
    "name": "ipython",
    "version": 2
   },
   "file_extension": ".py",
   "mimetype": "text/x-python",
   "name": "python",
   "nbconvert_exporter": "python",
   "pygments_lexer": "ipython2",
   "version": "2.7.6"
  }
 },
 "nbformat": 4,
 "nbformat_minor": 5
}
