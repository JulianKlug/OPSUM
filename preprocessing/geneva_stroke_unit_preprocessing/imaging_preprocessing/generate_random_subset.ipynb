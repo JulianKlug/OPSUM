{
 "cells": [
  {
   "cell_type": "code",
   "execution_count": null,
   "id": "initial_id",
   "metadata": {
    "ExecuteTime": {
     "end_time": "2024-02-02T12:25:27.341022Z",
     "start_time": "2024-02-02T12:25:27.335043Z"
    }
   },
   "outputs": [],
   "source": [
    "import pandas as pd\n",
    "import numpy as np\n",
    "from preprocessing.geneva_stroke_unit_preprocessing.utils import create_registry_case_identification_column"
   ]
  },
  {
   "cell_type": "code",
   "execution_count": null,
   "id": "52de509262a85077",
   "metadata": {
    "ExecuteTime": {
     "end_time": "2024-02-02T11:35:03.839933Z",
     "start_time": "2024-02-02T11:35:03.832674Z"
    }
   },
   "outputs": [],
   "source": [
    "preprocessed_gsu_dataset_outcomes_path = '/Users/jk1/temp/opsum_prepro_output/gsu_prepro_01012023_233050/preprocessed_outcomes_01012023_233050.csv'\n",
    "pre_extracted_imaging_path = '/Users/jk1/Library/CloudStorage/OneDrive-unige.ch/stroke_research/geneva_stroke_dataset/volumetric_perfusion_data/original/Total2016_2019IVTEVT_RAPID_IMAGE.xlsx'"
   ]
  },
  {
   "cell_type": "code",
   "execution_count": null,
   "id": "1a5e0d00d6431057",
   "metadata": {
    "ExecuteTime": {
     "end_time": "2024-02-02T11:39:55.567475Z",
     "start_time": "2024-02-02T11:39:55.560658Z"
    }
   },
   "outputs": [],
   "source": [
    "outcome = '3M mRS 0-2'"
   ]
  },
  {
   "cell_type": "code",
   "execution_count": null,
   "id": "f009718f0bc15c8b",
   "metadata": {
    "ExecuteTime": {
     "end_time": "2024-02-02T12:21:09.616745Z",
     "start_time": "2024-02-02T12:20:59.235368Z"
    }
   },
   "outputs": [],
   "source": [
    "preprocessed_gsu_dataset_outcomes_df = pd.read_csv(preprocessed_gsu_dataset_outcomes_path)\n",
    "pre_extracted_imaging_df = pd.read_excel(pre_extracted_imaging_path)"
   ]
  },
  {
   "cell_type": "markdown",
   "id": "4b099749c779345b",
   "metadata": {
    "collapsed": false
   },
   "source": [
    "## Generate random subset of patients to test with imaging data\n",
    "\n",
    "Size: 10%\n",
    "\n",
    "- up to 2019 (as imaging data already partly extracted up to 2019)\n",
    "- with all "
   ]
  },
  {
   "cell_type": "code",
   "execution_count": null,
   "id": "fb14d139461d01cc",
   "metadata": {
    "ExecuteTime": {
     "end_time": "2024-02-02T11:40:39.050842Z",
     "start_time": "2024-02-02T11:40:38.996941Z"
    }
   },
   "outputs": [],
   "source": [
    "preprocessed_gsu_dataset_outcomes_df.head()"
   ]
  },
  {
   "cell_type": "code",
   "execution_count": null,
   "id": "1118ce01eb4d94e0",
   "metadata": {
    "ExecuteTime": {
     "end_time": "2024-02-02T12:33:41.368896Z",
     "start_time": "2024-02-02T12:33:41.359775Z"
    }
   },
   "outputs": [],
   "source": [
    "# restrict to patients with outcome\n",
    "preprocessed_gsu_dataset_outcomes_df = preprocessed_gsu_dataset_outcomes_df[pd.notnull(preprocessed_gsu_dataset_outcomes_df[outcome])]"
   ]
  },
  {
   "cell_type": "code",
   "execution_count": null,
   "id": "54d932c272f218d2",
   "metadata": {
    "ExecuteTime": {
     "end_time": "2024-02-02T12:33:59.374038Z",
     "start_time": "2024-02-02T12:33:59.363145Z"
    }
   },
   "outputs": [],
   "source": [
    "# compute 10% of the dataset size\n",
    "random_subset_size = int(preprocessed_gsu_dataset_outcomes_df.shape[0] * 0.1)\n",
    "random_subset_size"
   ]
  },
  {
   "cell_type": "code",
   "execution_count": null,
   "id": "11b0f740a27097d1",
   "metadata": {
    "ExecuteTime": {
     "end_time": "2024-02-02T12:37:10.019407Z",
     "start_time": "2024-02-02T12:37:10.000760Z"
    }
   },
   "outputs": [],
   "source": [
    "random_subset_all_years_df = preprocessed_gsu_dataset_outcomes_df.sample(n=random_subset_size, random_state=42)\n",
    "random_subset_before_2020_df = preprocessed_gsu_dataset_outcomes_df[preprocessed_gsu_dataset_outcomes_df['Discharge date'] < 20200000].sample(n=random_subset_size, random_state=42)"
   ]
  },
  {
   "cell_type": "markdown",
   "id": "c1e8644699e85905",
   "metadata": {
    "collapsed": false
   },
   "source": [
    "## Find number of patients with imaging already extracted \n",
    "\n",
    "Goal: estimate workload for extracting imaging data for the random subset of patients"
   ]
  },
  {
   "cell_type": "code",
   "execution_count": null,
   "id": "15be5ee264752aba",
   "metadata": {
    "ExecuteTime": {
     "end_time": "2024-02-02T12:21:13.091355Z",
     "start_time": "2024-02-02T12:21:13.068453Z"
    }
   },
   "outputs": [],
   "source": [
    "# if CASE ID does not start with 'SSR-HUG-':\n",
    "    # CASE ID = 'SSR-HUG-' + CASE ID\n",
    "\n",
    "pre_extracted_imaging_df['Case ID'] = pre_extracted_imaging_df['Case ID'].apply(lambda x: 'SSR-HUG-' + str(x) if not str(x).startswith('SSR-HUG-') else x)\n",
    "pre_extracted_imaging_df['case_admission_id'] = create_registry_case_identification_column(pre_extracted_imaging_df)"
   ]
  },
  {
   "cell_type": "code",
   "execution_count": null,
   "id": "cae06075cbc72488",
   "metadata": {
    "ExecuteTime": {
     "end_time": "2024-02-02T12:26:54.372470Z",
     "start_time": "2024-02-02T12:26:54.336493Z"
    }
   },
   "outputs": [],
   "source": [
    "pre_extracted_imaging_df['CTP_lookup'] = pre_extracted_imaging_df.apply(lambda x: 1 if pd.notnull(x['CBF']) else np.nan, axis=1)\n",
    "# fill nas with 0 if comment = pas de CTP\n",
    "pre_extracted_imaging_df['CTP_lookup'] = pre_extracted_imaging_df.apply(lambda x: 0 if x['Comment'] == 'pas de CTP' else x['CTP_lookup'], axis=1)"
   ]
  },
  {
   "cell_type": "code",
   "execution_count": null,
   "id": "45566b86acbc20a5",
   "metadata": {
    "ExecuteTime": {
     "end_time": "2024-02-02T16:35:20.057440Z",
     "start_time": "2024-02-02T16:35:20.010218Z"
    }
   },
   "outputs": [],
   "source": [
    "pre_extracted_imaging_df"
   ]
  },
  {
   "cell_type": "code",
   "execution_count": null,
   "id": "1d563bdbcf5e1161",
   "metadata": {
    "ExecuteTime": {
     "end_time": "2024-02-02T12:30:10.928910Z",
     "start_time": "2024-02-02T12:30:10.910878Z"
    }
   },
   "outputs": [],
   "source": [
    "columns_to_keep = ['case_admission_id', 'CTP_lookup', 'T10', 'T8', 'T6', 'T4', 'CBF', 'Comment']"
   ]
  },
  {
   "cell_type": "code",
   "execution_count": null,
   "id": "6741fb37f182581f",
   "metadata": {
    "ExecuteTime": {
     "end_time": "2024-02-02T16:37:05.760279Z",
     "start_time": "2024-02-02T16:37:05.752353Z"
    }
   },
   "outputs": [],
   "source": [
    "pre_extracted_imaging_df[columns_to_keep + ['Acute perf. imaging type']]"
   ]
  },
  {
   "cell_type": "markdown",
   "id": "500239e9b73f207c",
   "metadata": {
    "collapsed": false
   },
   "source": [
    "merge with all preprocessed patients"
   ]
  },
  {
   "cell_type": "code",
   "execution_count": null,
   "id": "6602090c33b83de9",
   "metadata": {
    "ExecuteTime": {
     "end_time": "2024-02-02T12:39:56.975663Z",
     "start_time": "2024-02-02T12:39:56.949049Z"
    }
   },
   "outputs": [],
   "source": [
    "preprocessed_gsu_dataset_outcomes_with_imaging_data = preprocessed_gsu_dataset_outcomes_df.merge(pre_extracted_imaging_df[columns_to_keep], left_on='case_admission_id', right_on='case_admission_id', how='left')"
   ]
  },
  {
   "cell_type": "code",
   "execution_count": null,
   "id": "3c4b9116b6245d2e",
   "metadata": {
    "ExecuteTime": {
     "end_time": "2024-02-02T12:40:00.391562Z",
     "start_time": "2024-02-02T12:40:00.381868Z"
    }
   },
   "outputs": [],
   "source": [
    "preprocessed_gsu_dataset_outcomes_with_imaging_data.CTP_lookup.value_counts()"
   ]
  },
  {
   "cell_type": "markdown",
   "id": "2117b7aba7b804aa",
   "metadata": {
    "collapsed": false
   },
   "source": [
    "join imaging data with random subset of patients"
   ]
  },
  {
   "cell_type": "code",
   "execution_count": null,
   "id": "6ae0914320c5c6c3",
   "metadata": {
    "ExecuteTime": {
     "end_time": "2024-02-02T12:37:17.200547Z",
     "start_time": "2024-02-02T12:37:17.183493Z"
    }
   },
   "outputs": [],
   "source": [
    "random_subset_all_years_df = random_subset_all_years_df.merge(pre_extracted_imaging_df[columns_to_keep], left_on='case_admission_id', right_on='case_admission_id', how='left')\n",
    "random_subset_before_2020_df = random_subset_before_2020_df.merge(pre_extracted_imaging_df[columns_to_keep], left_on='case_admission_id', right_on='case_admission_id', how='left')"
   ]
  },
  {
   "cell_type": "code",
   "execution_count": null,
   "id": "2e86843b5a30d0e2",
   "metadata": {
    "ExecuteTime": {
     "end_time": "2024-02-02T12:41:08.975164Z",
     "start_time": "2024-02-02T12:41:08.956280Z"
    }
   },
   "outputs": [],
   "source": [
    "random_subset_before_2020_df.CTP_lookup.value_counts()\n",
    "n_remaining_to_extract = random_subset_before_2020_df.CTP_lookup.isna().sum()\n",
    "print(f'Number of patients with missing imaging data: {n_remaining_to_extract}')"
   ]
  },
  {
   "cell_type": "code",
   "execution_count": null,
   "id": "24cae1fb3e90ff7c",
   "metadata": {
    "ExecuteTime": {
     "end_time": "2024-02-02T12:41:16.361386Z",
     "start_time": "2024-02-02T12:41:16.353621Z"
    }
   },
   "outputs": [],
   "source": [
    "random_subset_all_years_df.CTP_lookup.value_counts()\n",
    "n_remaining_to_extract = random_subset_all_years_df.CTP_lookup.isna().sum()\n",
    "print(f'Number of patients with missing imaging data: {n_remaining_to_extract}')"
   ]
  },
  {
   "cell_type": "code",
   "execution_count": null,
   "id": "8b91151ea038e109",
   "metadata": {},
   "outputs": [],
   "source": []
  }
 ],
 "metadata": {
  "kernelspec": {
   "display_name": "Python 3",
   "language": "python",
   "name": "python3"
  },
  "language_info": {
   "codemirror_mode": {
    "name": "ipython",
    "version": 2
   },
   "file_extension": ".py",
   "mimetype": "text/x-python",
   "name": "python",
   "nbconvert_exporter": "python",
   "pygments_lexer": "ipython2",
   "version": "2.7.6"
  }
 },
 "nbformat": 4,
 "nbformat_minor": 5
}
