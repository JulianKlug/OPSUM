{
 "cells": [
  {
   "cell_type": "code",
   "execution_count": null,
   "id": "initial_id",
   "metadata": {
    "ExecuteTime": {
     "end_time": "2024-02-02T12:25:27.341022Z",
     "start_time": "2024-02-02T12:25:27.335043Z"
    }
   },
   "outputs": [],
   "source": [
    "import pandas as pd\n",
    "import numpy as np\n",
    "from preprocessing.geneva_stroke_unit_preprocessing.utils import create_registry_case_identification_column"
   ]
  },
  {
   "cell_type": "code",
   "execution_count": null,
   "id": "52de509262a85077",
   "metadata": {
    "ExecuteTime": {
     "end_time": "2024-02-05T14:28:05.997415Z",
     "start_time": "2024-02-05T14:28:05.988815Z"
    }
   },
   "outputs": [],
   "source": [
    "preprocessed_gsu_dataset_outcomes_path = '/Users/jk1/temp/opsum_prepro_output/gsu_prepro_01012023_233050/preprocessed_outcomes_01012023_233050.csv'\n",
    "pre_extracted_imaging_path = '/Users/jk1/Library/CloudStorage/OneDrive-unige.ch/stroke_research/geneva_stroke_dataset/volumetric_perfusion_data/original/Total2016_2019IVTEVT_RAPID_IMAGE.xlsx'\n",
    "stroke_registry_path = '/Users/jk1/Library/CloudStorage/OneDrive-unige.ch/stroke_research/geneva_stroke_unit_dataset/data/stroke_registry/post_hoc_modified/stroke_registry_post_hoc_modified.xlsx'"
   ]
  },
  {
   "cell_type": "code",
   "execution_count": null,
   "id": "1a5e0d00d6431057",
   "metadata": {
    "ExecuteTime": {
     "end_time": "2024-02-05T14:28:06.286573Z",
     "start_time": "2024-02-05T14:28:06.281117Z"
    }
   },
   "outputs": [],
   "source": [
    "outcome = '3M mRS 0-2'"
   ]
  },
  {
   "cell_type": "code",
   "execution_count": null,
   "id": "f009718f0bc15c8b",
   "metadata": {
    "ExecuteTime": {
     "end_time": "2024-02-05T14:28:24.783783Z",
     "start_time": "2024-02-05T14:28:06.589744Z"
    }
   },
   "outputs": [],
   "source": [
    "preprocessed_gsu_dataset_outcomes_df = pd.read_csv(preprocessed_gsu_dataset_outcomes_path)\n",
    "pre_extracted_imaging_df = pd.read_excel(pre_extracted_imaging_path)\n",
    "stroke_registry_df = pd.read_excel(stroke_registry_path)"
   ]
  },
  {
   "cell_type": "code",
   "execution_count": null,
   "id": "44fd36f341cae00f",
   "metadata": {
    "ExecuteTime": {
     "end_time": "2024-02-05T14:38:07.727306Z",
     "start_time": "2024-02-05T14:38:07.707967Z"
    }
   },
   "outputs": [],
   "source": [
    "stroke_registry_df['case_admission_id'] = create_registry_case_identification_column(stroke_registry_df)\n",
    "stroke_registry_df['patient_id'] = stroke_registry_df['Case ID'].apply(lambda x: x[8:-4]).astype(str)\n",
    "stroke_registry_df['EDS_last_4_digits'] = stroke_registry_df['Case ID'].apply(lambda x: x[-4:]).astype(str)"
   ]
  },
  {
   "cell_type": "code",
   "execution_count": null,
   "id": "137348f2e72231e0",
   "metadata": {
    "ExecuteTime": {
     "end_time": "2024-02-05T14:38:08.359429Z",
     "start_time": "2024-02-05T14:38:08.352212Z"
    }
   },
   "outputs": [],
   "source": [
    "identifier_columns = ['Case ID', 'case_admission_id', 'patient_id', 'EDS_last_4_digits', 'DOB', 'Arrival at hospital', 'Arrival time', '1st brain imaging date', '1st brain imaging time']\n",
    "imaging_columns = [ 'T10', 'T8', 'T6', 'T4', 'CBF', 'Comment']"
   ]
  },
  {
   "cell_type": "markdown",
   "id": "4b099749c779345b",
   "metadata": {
    "collapsed": false
   },
   "source": [
    "## Generate random subset of patients to test with imaging data\n",
    "\n",
    "Size: 10%\n",
    "- exclude patients with missing outcome and with no imaging data (as reported from registry)\n",
    "\n",
    "Options:\n",
    "- up to 2019 (as imaging data already partly extracted up to 2019)\n",
    "- with all "
   ]
  },
  {
   "cell_type": "code",
   "execution_count": null,
   "id": "fb14d139461d01cc",
   "metadata": {
    "ExecuteTime": {
     "end_time": "2024-02-05T14:28:24.827918Z",
     "start_time": "2024-02-05T14:28:24.810477Z"
    }
   },
   "outputs": [],
   "source": [
    "preprocessed_gsu_dataset_outcomes_df.head()"
   ]
  },
  {
   "cell_type": "code",
   "execution_count": null,
   "id": "1118ce01eb4d94e0",
   "metadata": {
    "ExecuteTime": {
     "end_time": "2024-02-05T14:28:24.829432Z",
     "start_time": "2024-02-05T14:28:24.819764Z"
    }
   },
   "outputs": [],
   "source": [
    "# restrict to patients with outcome\n",
    "preprocessed_gsu_dataset_outcomes_df = preprocessed_gsu_dataset_outcomes_df[pd.notnull(preprocessed_gsu_dataset_outcomes_df[outcome])]"
   ]
  },
  {
   "cell_type": "markdown",
   "id": "5747b00b68db257a",
   "metadata": {
    "collapsed": false
   },
   "source": [
    "Compute 10% of the dataset size"
   ]
  },
  {
   "cell_type": "code",
   "execution_count": null,
   "id": "54d932c272f218d2",
   "metadata": {
    "ExecuteTime": {
     "end_time": "2024-02-05T14:28:24.848739Z",
     "start_time": "2024-02-05T14:28:24.829646Z"
    }
   },
   "outputs": [],
   "source": [
    "# compute 10% of the dataset size\n",
    "random_subset_size = int(preprocessed_gsu_dataset_outcomes_df.shape[0] * 0.1)\n",
    "random_subset_size"
   ]
  },
  {
   "cell_type": "markdown",
   "id": "fbb01768ceca4be2",
   "metadata": {
    "collapsed": false
   },
   "source": [
    "Only sample patients with imaging data (as reported from registry)"
   ]
  },
  {
   "cell_type": "code",
   "execution_count": null,
   "id": "f9c816bb7dbf7fc3",
   "metadata": {
    "ExecuteTime": {
     "end_time": "2024-02-05T14:40:52.911720Z",
     "start_time": "2024-02-05T14:40:52.883129Z"
    }
   },
   "outputs": [],
   "source": [
    "# join with information from stroke registry\n",
    "preprocessed_gsu_dataset_outcomes_df = preprocessed_gsu_dataset_outcomes_df.merge(stroke_registry_df[identifier_columns], left_on='case_admission_id', right_on='case_admission_id', how='left')"
   ]
  },
  {
   "cell_type": "code",
   "execution_count": null,
   "id": "bd3b690966752997",
   "metadata": {
    "ExecuteTime": {
     "end_time": "2024-02-05T14:42:16.978620Z",
     "start_time": "2024-02-05T14:42:16.962079Z"
    }
   },
   "outputs": [],
   "source": [
    "preprocessed_gsu_dataset_outcomes_df = preprocessed_gsu_dataset_outcomes_df[preprocessed_gsu_dataset_outcomes_df['1st brain imaging date'].notnull()]"
   ]
  },
  {
   "cell_type": "code",
   "execution_count": null,
   "id": "11b0f740a27097d1",
   "metadata": {
    "ExecuteTime": {
     "end_time": "2024-02-05T14:42:36.063071Z",
     "start_time": "2024-02-05T14:42:36.025919Z"
    }
   },
   "outputs": [],
   "source": [
    "random_subset_all_years_df = preprocessed_gsu_dataset_outcomes_df.sample(n=random_subset_size, random_state=42)\n",
    "random_subset_before_2020_df = preprocessed_gsu_dataset_outcomes_df[preprocessed_gsu_dataset_outcomes_df['Discharge date'] < 20200000].sample(n=random_subset_size, random_state=42)"
   ]
  },
  {
   "cell_type": "markdown",
   "id": "c1e8644699e85905",
   "metadata": {
    "collapsed": false
   },
   "source": [
    "## Find number of patients with imaging already extracted \n",
    "\n",
    "Goal: estimate workload for extracting imaging data for the random subset of patients"
   ]
  },
  {
   "cell_type": "code",
   "execution_count": null,
   "id": "15be5ee264752aba",
   "metadata": {
    "ExecuteTime": {
     "end_time": "2024-02-05T14:42:55.013368Z",
     "start_time": "2024-02-05T14:42:54.980900Z"
    }
   },
   "outputs": [],
   "source": [
    "# if CASE ID does not start with 'SSR-HUG-':\n",
    "    # CASE ID = 'SSR-HUG-' + CASE ID\n",
    "\n",
    "pre_extracted_imaging_df['Case ID'] = pre_extracted_imaging_df['Case ID'].apply(lambda x: 'SSR-HUG-' + str(x) if not str(x).startswith('SSR-HUG-') else x)\n",
    "pre_extracted_imaging_df['case_admission_id'] = create_registry_case_identification_column(pre_extracted_imaging_df)"
   ]
  },
  {
   "cell_type": "code",
   "execution_count": null,
   "id": "cae06075cbc72488",
   "metadata": {
    "ExecuteTime": {
     "end_time": "2024-02-05T14:42:55.440751Z",
     "start_time": "2024-02-05T14:42:55.437844Z"
    }
   },
   "outputs": [],
   "source": [
    "pre_extracted_imaging_df['CTP_lookup'] = pre_extracted_imaging_df.apply(lambda x: 1 if pd.notnull(x['CBF']) else np.nan, axis=1)\n",
    "# fill nas with 0 if comment = pas de CTP\n",
    "pre_extracted_imaging_df['CTP_lookup'] = pre_extracted_imaging_df.apply(lambda x: 0 if x['Comment'] == 'pas de CTP' else x['CTP_lookup'], axis=1)"
   ]
  },
  {
   "cell_type": "code",
   "execution_count": null,
   "id": "45566b86acbc20a5",
   "metadata": {
    "ExecuteTime": {
     "end_time": "2024-02-05T14:42:55.938906Z",
     "start_time": "2024-02-05T14:42:55.906779Z"
    }
   },
   "outputs": [],
   "source": [
    "pre_extracted_imaging_df"
   ]
  },
  {
   "cell_type": "code",
   "execution_count": null,
   "id": "1d563bdbcf5e1161",
   "metadata": {
    "ExecuteTime": {
     "end_time": "2024-02-05T14:42:59.639079Z",
     "start_time": "2024-02-05T14:42:59.608628Z"
    }
   },
   "outputs": [],
   "source": [
    "columns_to_keep = ['case_admission_id', 'CTP_lookup', 'T10', 'T8', 'T6', 'T4', 'CBF', 'Comment']"
   ]
  },
  {
   "cell_type": "code",
   "execution_count": null,
   "id": "6741fb37f182581f",
   "metadata": {
    "ExecuteTime": {
     "end_time": "2024-02-05T14:43:00.236772Z",
     "start_time": "2024-02-05T14:43:00.212405Z"
    }
   },
   "outputs": [],
   "source": [
    "pre_extracted_imaging_df[columns_to_keep + ['Acute perf. imaging type']]"
   ]
  },
  {
   "cell_type": "markdown",
   "id": "500239e9b73f207c",
   "metadata": {
    "collapsed": false
   },
   "source": [
    "merge with all preprocessed patients"
   ]
  },
  {
   "cell_type": "code",
   "execution_count": null,
   "id": "6602090c33b83de9",
   "metadata": {
    "ExecuteTime": {
     "end_time": "2024-02-05T14:43:06.431570Z",
     "start_time": "2024-02-05T14:43:06.409736Z"
    }
   },
   "outputs": [],
   "source": [
    "preprocessed_gsu_dataset_outcomes_with_imaging_data = preprocessed_gsu_dataset_outcomes_df.merge(pre_extracted_imaging_df[columns_to_keep], left_on='case_admission_id', right_on='case_admission_id', how='left')"
   ]
  },
  {
   "cell_type": "code",
   "execution_count": null,
   "id": "3c4b9116b6245d2e",
   "metadata": {
    "ExecuteTime": {
     "end_time": "2024-02-05T14:43:06.881443Z",
     "start_time": "2024-02-05T14:43:06.846671Z"
    }
   },
   "outputs": [],
   "source": [
    "preprocessed_gsu_dataset_outcomes_with_imaging_data.CTP_lookup.value_counts()"
   ]
  },
  {
   "cell_type": "markdown",
   "id": "2117b7aba7b804aa",
   "metadata": {
    "collapsed": false
   },
   "source": [
    "join imaging data with random subset of patients"
   ]
  },
  {
   "cell_type": "code",
   "execution_count": null,
   "id": "6ae0914320c5c6c3",
   "metadata": {
    "ExecuteTime": {
     "end_time": "2024-02-05T14:43:15.701718Z",
     "start_time": "2024-02-05T14:43:15.670975Z"
    }
   },
   "outputs": [],
   "source": [
    "random_subset_all_years_df = random_subset_all_years_df.merge(pre_extracted_imaging_df[columns_to_keep], left_on='case_admission_id', right_on='case_admission_id', how='left')\n",
    "random_subset_before_2020_df = random_subset_before_2020_df.merge(pre_extracted_imaging_df[columns_to_keep], left_on='case_admission_id', right_on='case_admission_id', how='left')"
   ]
  },
  {
   "cell_type": "code",
   "execution_count": null,
   "id": "2e86843b5a30d0e2",
   "metadata": {
    "ExecuteTime": {
     "end_time": "2024-02-05T14:43:20.277999Z",
     "start_time": "2024-02-05T14:43:20.267510Z"
    }
   },
   "outputs": [],
   "source": [
    "random_subset_before_2020_df.CTP_lookup.value_counts()\n",
    "n_remaining_to_extract = random_subset_before_2020_df.CTP_lookup.isna().sum()\n",
    "print(f'Number of patients with missing imaging data: {n_remaining_to_extract}')"
   ]
  },
  {
   "cell_type": "code",
   "execution_count": null,
   "id": "24cae1fb3e90ff7c",
   "metadata": {
    "ExecuteTime": {
     "end_time": "2024-02-05T14:43:21.142302Z",
     "start_time": "2024-02-05T14:43:21.133515Z"
    }
   },
   "outputs": [],
   "source": [
    "random_subset_all_years_df.CTP_lookup.value_counts()\n",
    "n_remaining_to_extract = random_subset_all_years_df.CTP_lookup.isna().sum()\n",
    "print(f'Number of patients with missing imaging data: {n_remaining_to_extract}')"
   ]
  },
  {
   "cell_type": "code",
   "execution_count": null,
   "id": "8b91151ea038e109",
   "metadata": {
    "ExecuteTime": {
     "end_time": "2024-02-05T14:43:28.383235Z",
     "start_time": "2024-02-05T14:43:28.371174Z"
    }
   },
   "outputs": [],
   "source": [
    "random_subset_all_years_df.CTP_lookup.value_counts()"
   ]
  },
  {
   "cell_type": "markdown",
   "id": "c2639011149728d2",
   "metadata": {
    "collapsed": false
   },
   "source": [
    "## Create a sheet for extraction of missing data"
   ]
  },
  {
   "cell_type": "code",
   "execution_count": null,
   "id": "9a379c9f8f7a46af",
   "metadata": {
    "ExecuteTime": {
     "end_time": "2024-02-05T14:30:48.554795Z",
     "start_time": "2024-02-05T14:30:48.518185Z"
    }
   },
   "outputs": [],
   "source": [
    "identifier_columns = ['Case ID', 'case_admission_id', 'patient_id', 'EDS_last_4_digits', 'DOB', 'Arrival at hospital', 'Arrival time', '1st brain imaging date', '1st brain imaging time']\n",
    "imaging_columns = [ 'T10', 'T8', 'T6', 'T4', 'CBF', 'Comment']\n",
    "selected_columns = identifier_columns + imaging_columns"
   ]
  },
  {
   "cell_type": "code",
   "execution_count": null,
   "id": "cc9586b8a23afd82",
   "metadata": {
    "ExecuteTime": {
     "end_time": "2024-02-05T14:44:56.687238Z",
     "start_time": "2024-02-05T14:44:56.676880Z"
    }
   },
   "outputs": [],
   "source": [
    "random_subset_all_years_data_for_extraction_df = random_subset_all_years_df[selected_columns]\n",
    "random_subset_all_years_data_for_extraction_df['CTP_present'] = np.nan"
   ]
  },
  {
   "cell_type": "code",
   "execution_count": null,
   "id": "6f341536f24b4cd5",
   "metadata": {
    "ExecuteTime": {
     "end_time": "2024-02-05T14:45:01.298839Z",
     "start_time": "2024-02-05T14:45:01.185712Z"
    }
   },
   "outputs": [],
   "source": [
    "output_folder = '/Users/jk1/Downloads'\n",
    "output_file_name = 'random_subset_for_imaging_extraction.xlsx'\n",
    "\n",
    "random_subset_all_years_data_for_extraction_df.to_excel(f'{output_folder}/{output_file_name}', index=False)"
   ]
  },
  {
   "cell_type": "code",
   "execution_count": null,
   "id": "ad5d4c7034efb85",
   "metadata": {},
   "outputs": [],
   "source": []
  }
 ],
 "metadata": {
  "kernelspec": {
   "display_name": "Python 3",
   "language": "python",
   "name": "python3"
  },
  "language_info": {
   "codemirror_mode": {
    "name": "ipython",
    "version": 2
   },
   "file_extension": ".py",
   "mimetype": "text/x-python",
   "name": "python",
   "nbconvert_exporter": "python",
   "pygments_lexer": "ipython2",
   "version": "2.7.6"
  }
 },
 "nbformat": 4,
 "nbformat_minor": 5
}
