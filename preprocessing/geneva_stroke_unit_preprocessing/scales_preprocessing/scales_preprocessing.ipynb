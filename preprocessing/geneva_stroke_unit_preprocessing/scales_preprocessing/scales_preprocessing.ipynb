{
 "cells": [
  {
   "cell_type": "code",
   "execution_count": null,
   "metadata": {
    "pycharm": {
     "name": "#%%\n"
    }
   },
   "outputs": [],
   "source": [
    "import matplotlib.pyplot as plt\n",
    "import pandas as pd\n",
    "import os\n",
    "import numpy as np"
   ]
  },
  {
   "cell_type": "markdown",
   "metadata": {
    "collapsed": false,
    "pycharm": {
     "name": "#%% md\n"
    }
   },
   "source": [
    "!Warning! For scale, patient_id seems to be overwritten by eds_final_patient_id"
   ]
  },
  {
   "cell_type": "code",
   "execution_count": null,
   "metadata": {
    "pycharm": {
     "name": "#%%\n"
    }
   },
   "outputs": [],
   "source": [
    "data_path = '/Users/jk1/stroke_datasets/stroke_unit_dataset/per_value/Extraction_20220815'\n",
    "scales_file_start = 'scale'"
   ]
  },
  {
   "cell_type": "code",
   "execution_count": null,
   "metadata": {
    "pycharm": {
     "name": "#%%\n"
    }
   },
   "outputs": [],
   "source": [
    "scales_files = [pd.read_csv(os.path.join(data_path, f), delimiter=';', encoding='utf-8', dtype=str)\n",
    "             for f in os.listdir(data_path)\n",
    "             if f.startswith(scales_file_start)]"
   ]
  },
  {
   "cell_type": "code",
   "execution_count": null,
   "metadata": {
    "pycharm": {
     "name": "#%%\n"
    }
   },
   "outputs": [],
   "source": [
    "scales_df = pd.concat(scales_files, ignore_index=True)"
   ]
  },
  {
   "cell_type": "code",
   "execution_count": null,
   "metadata": {
    "pycharm": {
     "name": "#%%\n"
    }
   },
   "outputs": [],
   "source": [
    "eds_df = pd.read_csv(os.path.join(data_path, 'eds_j1.csv'), delimiter=';', encoding='utf-8', dtype=str)"
   ]
  },
  {
   "cell_type": "code",
   "execution_count": null,
   "metadata": {
    "pycharm": {
     "name": "#%%\n"
    }
   },
   "outputs": [],
   "source": [
    "eds_df.head()"
   ]
  },
  {
   "cell_type": "markdown",
   "metadata": {
    "collapsed": false,
    "pycharm": {
     "name": "#%% md\n"
    }
   },
   "source": [
    "## Verfing patient ids"
   ]
  },
  {
   "cell_type": "markdown",
   "metadata": {
    "collapsed": false,
    "pycharm": {
     "name": "#%% md\n"
    }
   },
   "source": [
    "Verify if patient_id was overwritten\n",
    "\n",
    "__This has been automated__: /ehr_extraction_verification/detect_overwritten_patient_ids.py\n"
   ]
  },
  {
   "cell_type": "code",
   "execution_count": null,
   "metadata": {
    "pycharm": {
     "name": "#%%\n"
    }
   },
   "outputs": [],
   "source": [
    "eds_df[eds_df.patient_id != eds_df.eds_final_patient_id]"
   ]
  },
  {
   "cell_type": "code",
   "execution_count": null,
   "metadata": {
    "pycharm": {
     "name": "#%%\n"
    }
   },
   "outputs": [],
   "source": [
    "scales_df[scales_df.patient_id != scales_df.eds_final_patient_id]"
   ]
  },
  {
   "cell_type": "code",
   "execution_count": null,
   "metadata": {
    "pycharm": {
     "name": "#%%\n"
    }
   },
   "outputs": [],
   "source": [
    "eds_df[eds_df.eds_final_patient_id == '279818']"
   ]
  },
  {
   "cell_type": "code",
   "execution_count": null,
   "metadata": {
    "pycharm": {
     "name": "#%%\n"
    }
   },
   "outputs": [],
   "source": [
    "scales_df[scales_df.eds_final_patient_id == '279818']"
   ]
  },
  {
   "cell_type": "code",
   "execution_count": null,
   "metadata": {
    "pycharm": {
     "name": "#%%\n"
    }
   },
   "outputs": [],
   "source": [
    "from ehr_extraction_verification.detect_overwritten_patient_ids import detect_overwritten_patient_ids\n",
    "\n",
    "detect_overwritten_patient_ids(scales_df, eds_df, verbose=True)"
   ]
  },
  {
   "cell_type": "markdown",
   "metadata": {
    "collapsed": false,
    "pycharm": {
     "name": "#%% md\n"
    }
   },
   "source": [
    "Patient id seems to be have overwritten by final eds id"
   ]
  },
  {
   "cell_type": "markdown",
   "metadata": {
    "collapsed": false,
    "pycharm": {
     "name": "#%% md\n"
    }
   },
   "source": [
    "### Correct overwritten patient_id"
   ]
  },
  {
   "cell_type": "markdown",
   "metadata": {
    "collapsed": false,
    "pycharm": {
     "name": "#%% md\n"
    }
   },
   "source": [
    "__Method__:\n",
    "\n",
    "Retrieve correct patient id by matching 'patient_id', 'eds_end_4digit', 'eds_manual', 'patient_id_manual' on scale_df side with 'eds_final_patient_id', 'eds_end_4digit', 'eds_manual', 'patient_id_manual' on eds_df\n",
    "\n",
    "__This has been automated__: preprocessing.utils.correct_overwritten_patient_id"
   ]
  },
  {
   "cell_type": "code",
   "execution_count": null,
   "metadata": {
    "pycharm": {
     "name": "#%%\n"
    }
   },
   "outputs": [],
   "source": [
    "intermediate_retrieval_df = scales_df.apply(lambda x: str(x['patient_id']) + '/' + str(x['eds_end_4digit']) + '/' + str(x['eds_manual']) + '/' + str(x['patient_id_manual']), axis=1)"
   ]
  },
  {
   "cell_type": "code",
   "execution_count": null,
   "metadata": {
    "pycharm": {
     "name": "#%%\n"
    }
   },
   "outputs": [],
   "source": [
    "intermediate_retrieval_df.drop_duplicates(inplace=True)\n",
    "intermediate_retrieval_df.nunique()"
   ]
  },
  {
   "cell_type": "code",
   "execution_count": null,
   "metadata": {
    "pycharm": {
     "name": "#%%\n"
    }
   },
   "outputs": [],
   "source": [
    "truncated_eds_df = eds_df[['patient_id', 'eds_end_4digit', 'eds_manual', 'patient_id_manual', 'eds_final_patient_id']]"
   ]
  },
  {
   "cell_type": "code",
   "execution_count": null,
   "metadata": {
    "pycharm": {
     "name": "#%%\n"
    }
   },
   "outputs": [],
   "source": [
    "truncated_eds_df['retrieval_id'] = truncated_eds_df.apply(lambda x: str(x['eds_final_patient_id']) + '/' + str(x['eds_end_4digit']) + '/' + str(x['eds_manual']) + '/' + str(x['patient_id_manual']), axis=1)"
   ]
  },
  {
   "cell_type": "code",
   "execution_count": null,
   "metadata": {
    "pycharm": {
     "name": "#%%\n"
    }
   },
   "outputs": [],
   "source": [
    "temp = pd.merge(intermediate_retrieval_df.to_frame(), truncated_eds_df, left_on=0, right_on='retrieval_id', how='left')"
   ]
  },
  {
   "cell_type": "code",
   "execution_count": null,
   "metadata": {
    "pycharm": {
     "name": "#%%\n"
    }
   },
   "outputs": [],
   "source": [
    "duplicated_id = temp[temp.retrieval_id.duplicated()].retrieval_id"
   ]
  },
  {
   "cell_type": "code",
   "execution_count": null,
   "metadata": {
    "pycharm": {
     "name": "#%%\n"
    }
   },
   "outputs": [],
   "source": [
    "temp[temp.retrieval_id.isin(duplicated_id)]"
   ]
  },
  {
   "cell_type": "markdown",
   "metadata": {
    "collapsed": false,
    "pycharm": {
     "name": "#%% md\n"
    }
   },
   "source": [
    "Extra rows are due to duplicated entries in eds_df"
   ]
  },
  {
   "cell_type": "code",
   "execution_count": null,
   "metadata": {
    "pycharm": {
     "name": "#%%\n"
    }
   },
   "outputs": [],
   "source": [
    "# TODO Try merge lefto on / right on\n",
    "truncated_eds_df.drop_duplicates(inplace=True)\n",
    "scales_df = pd.merge(scales_df, truncated_eds_df, left_on=['patient_id', 'eds_end_4digit', 'eds_manual', 'patient_id_manual'],\n",
    "         right_on=['eds_final_patient_id', 'eds_end_4digit', 'eds_manual', 'patient_id_manual'], suffixes=('', '_eds'), how='left')"
   ]
  },
  {
   "cell_type": "code",
   "execution_count": null,
   "metadata": {
    "pycharm": {
     "name": "#%%\n"
    }
   },
   "outputs": [],
   "source": [
    "scales_df.drop(['patient_id', 'eds_final_patient_id_eds', 'nr'], axis=1, inplace=True)\n",
    "scales_df.rename(columns={'patient_id_eds': 'patient_id'}, inplace=True)"
   ]
  },
  {
   "cell_type": "code",
   "execution_count": null,
   "metadata": {
    "pycharm": {
     "name": "#%%\n"
    }
   },
   "outputs": [],
   "source": [
    "scales_df.head()"
   ]
  },
  {
   "cell_type": "code",
   "execution_count": null,
   "metadata": {
    "pycharm": {
     "name": "#%%\n"
    }
   },
   "outputs": [],
   "source": [
    "scales_df[scales_df.eds_final_patient_id == '279818'][['patient_id', 'eds_end_4digit', 'eds_manual', 'eds_final_patient_id']]"
   ]
  },
  {
   "cell_type": "markdown",
   "metadata": {
    "collapsed": false,
    "pycharm": {
     "name": "#%% md\n"
    }
   },
   "source": [
    "## Preprocessing"
   ]
  },
  {
   "cell_type": "code",
   "execution_count": null,
   "metadata": {
    "pycharm": {
     "name": "#%%\n"
    }
   },
   "outputs": [],
   "source": [
    "from preprocessing.utils import create_ehr_case_identification_column\n",
    "\n",
    "scales_df['case_admission_id'] = create_ehr_case_identification_column(scales_df)"
   ]
  },
  {
   "cell_type": "code",
   "execution_count": null,
   "metadata": {
    "pycharm": {
     "name": "#%%\n"
    }
   },
   "outputs": [],
   "source": [
    "columns_to_drop = ['patient_id', 'eds_end_4digit', 'eds_manual', 'DOB', 'begin_date',\n",
    "                       'end_date', 'death_date', 'death_hosp', 'eds_final_id',\n",
    "                       'eds_final_begin', 'eds_final_end', 'eds_final_patient_id',\n",
    "                       'eds_final_birth', 'eds_final_death', 'eds_final_birth_str',\n",
    "                       'date_from', 'date_to', 'patient_id_manual', 'stroke_onset_date', 'Referral', 'match_by', 'multiple_id']\n",
    "scales_df.drop(columns_to_drop, axis=1, inplace=True)"
   ]
  },
  {
   "cell_type": "code",
   "execution_count": null,
   "metadata": {
    "pycharm": {
     "name": "#%%\n"
    }
   },
   "outputs": [],
   "source": [
    "scales_df.head()"
   ]
  },
  {
   "cell_type": "code",
   "execution_count": null,
   "metadata": {
    "pycharm": {
     "name": "#%%\n"
    }
   },
   "outputs": [],
   "source": [
    "possible_value_ranges_file = os.path.join(os.path.dirname(os.path.dirname(os.path.abspath(''))),\n",
    "                                          'preprocessing', 'possible_ranges_for_variables.xlsx')\n",
    "possible_value_ranges = pd.read_excel(possible_value_ranges_file)"
   ]
  },
  {
   "cell_type": "code",
   "execution_count": null,
   "metadata": {
    "pycharm": {
     "name": "#%%\n"
    }
   },
   "outputs": [],
   "source": [
    "def restrict_variable_to_possible_ranges(df, variable_name, possible_value_ranges, verbose=False):\n",
    "    \"\"\"\n",
    "    Restricts a variable to the possible ranges in the possible_value_ranges dataframe.\n",
    "    \"\"\"\n",
    "    variable_range = possible_value_ranges[possible_value_ranges['variable_label'] == variable_name]\n",
    "    variable_range = variable_range.iloc[0]\n",
    "    clean_df = df.copy()\n",
    "    # set score to np.nan if outside of range\n",
    "    clean_df.loc[(df['scale'] == variable_name) & (df['score'] < variable_range['Min']), 'score'] = np.nan\n",
    "    clean_df.loc[(df['scale'] == variable_name) & (df['score'] > variable_range['Max']), 'score'] = np.nan\n",
    "    if verbose:\n",
    "        print(f'Excluding {clean_df.score.isna().sum()} observations because out of range')\n",
    "    excluded_df = df[clean_df.score.isna()]\n",
    "    clean_df = clean_df.dropna(subset=['score'])\n",
    "    return clean_df, excluded_df"
   ]
  },
  {
   "cell_type": "code",
   "execution_count": null,
   "metadata": {
    "pycharm": {
     "name": "#%%\n"
    }
   },
   "outputs": [],
   "source": [
    "scales_df.scale.value_counts()"
   ]
  },
  {
   "cell_type": "code",
   "execution_count": null,
   "metadata": {
    "pycharm": {
     "name": "#%%\n"
    }
   },
   "outputs": [],
   "source": [
    "glasgow_equivalents = ['Glasgow + pupilles', 'Glasgow + pupilles + sensibilité/motricité', 'Glasgow', 'Glasgow  urgence',\n",
    "                       'Neurologie - Glasgow']\n",
    "scales_df.loc[scales_df['scale'].isin(glasgow_equivalents), 'scale'] = 'Glasgow Coma Scale'\n"
   ]
  },
  {
   "cell_type": "code",
   "execution_count": null,
   "metadata": {
    "pycharm": {
     "name": "#%%\n"
    }
   },
   "outputs": [],
   "source": [
    "NIHSS_equivalents = ['NIHSS - National Institute oh Health Stroke Scale', 'NIHSS - National Institute of Health Stroke Scale']\n",
    "scales_df.loc[scales_df['scale'].isin(NIHSS_equivalents), 'scale'] = 'NIHSS'"
   ]
  },
  {
   "cell_type": "code",
   "execution_count": null,
   "metadata": {
    "pycharm": {
     "name": "#%%\n"
    }
   },
   "outputs": [],
   "source": [
    "pain_scale_equivalents = ['EVA', 'Echelle douleur numérique', 'Douleur - b - Echelle numérique','Douleur - a - EVA', 'Douleur - c - Echelle verbale']\n",
    "scales_df.loc[scales_df['scale'].isin(pain_scale_equivalents), 'scale'] = 'pain scale'\n",
    "# drop rows with scale = 'Douleur - h - CPOT' as not comparable with other scales\n",
    "scales_df.drop(scales_df[scales_df['scale'].str.contains('CPOT')].index, inplace=True)"
   ]
  },
  {
   "cell_type": "code",
   "execution_count": null,
   "metadata": {
    "pycharm": {
     "name": "#%%\n"
    }
   },
   "outputs": [],
   "source": [
    "scales_df.scale.value_counts()"
   ]
  },
  {
   "cell_type": "code",
   "execution_count": null,
   "metadata": {
    "pycharm": {
     "name": "#%%\n"
    }
   },
   "outputs": [],
   "source": [
    "scales_df.dropna(subset=['score'], inplace=True)\n",
    "remaining_non_numerical_values = \\\n",
    "    scales_df[pd.to_numeric(scales_df['score'], errors='coerce').isnull()][\n",
    "        'score'].unique()\n",
    "print('Remaining non-numerical values:', remaining_non_numerical_values)\n",
    "if len(remaining_non_numerical_values) > 0:\n",
    "    raise ValueError(f'Remaining non-numerical values: {remaining_non_numerical_values}')\n",
    "scales_df['score'] = pd.to_numeric(scales_df['score'], errors='coerce')\n"
   ]
  },
  {
   "cell_type": "code",
   "execution_count": null,
   "metadata": {
    "pycharm": {
     "name": "#%%\n"
    }
   },
   "outputs": [],
   "source": [
    "scales_df[scales_df.scale == 'NIHSS'].score.describe()"
   ]
  },
  {
   "cell_type": "code",
   "execution_count": null,
   "metadata": {
    "pycharm": {
     "name": "#%%\n"
    }
   },
   "outputs": [],
   "source": [
    "cleaned_scales_df, NIHSS_excluded_df = restrict_variable_to_possible_ranges(scales_df, 'NIHSS', possible_value_ranges, verbose=True)\n",
    "cleaned_scales_df, glasgow_excluded_df = restrict_variable_to_possible_ranges(cleaned_scales_df, 'Glasgow Coma Scale', possible_value_ranges, verbose=True)"
   ]
  },
  {
   "cell_type": "code",
   "execution_count": null,
   "metadata": {
    "pycharm": {
     "name": "#%%\n"
    }
   },
   "outputs": [],
   "source": [
    "cleaned_scales_df.head()"
   ]
  },
  {
   "cell_type": "code",
   "execution_count": null,
   "metadata": {
    "pycharm": {
     "name": "#%%\n"
    }
   },
   "outputs": [],
   "source": [
    "cleaned_scales_df[scales_df['scale'] == 'NIHSS'].plot.hist(bins=50)\n",
    "plt.show()"
   ]
  },
  {
   "cell_type": "code",
   "execution_count": null,
   "metadata": {
    "pycharm": {
     "name": "#%%\n"
    }
   },
   "outputs": [],
   "source": [
    "cleaned_scales_df[scales_df['scale'] == 'Glasgow Coma Scale'].plot.hist(bins=50)\n",
    "plt.show()\n"
   ]
  },
  {
   "cell_type": "code",
   "execution_count": null,
   "metadata": {
    "pycharm": {
     "name": "#%%\n"
    }
   },
   "outputs": [],
   "source": [
    "cleaned_scales_df[scales_df['scale'] == 'pain scale'].plot.hist(bins=50)\n",
    "plt.show()\n"
   ]
  },
  {
   "cell_type": "code",
   "execution_count": null,
   "metadata": {
    "pycharm": {
     "name": "#%%\n"
    }
   },
   "outputs": [],
   "source": [
    "scales_df.groupby('scale')['score'].describe()\n",
    "\n"
   ]
  },
  {
   "cell_type": "markdown",
   "metadata": {
    "collapsed": false,
    "pycharm": {
     "name": "#%% md\n"
    }
   },
   "source": [
    "## Testing final function"
   ]
  },
  {
   "cell_type": "code",
   "execution_count": null,
   "metadata": {
    "pycharm": {
     "name": "#%%\n"
    }
   },
   "outputs": [],
   "source": [
    "from preprocessing.scales_preprocessing.scales_preprocessing import preprocess_scales\n",
    "\n",
    "preprocessed_scales = preprocess_scales(scales_df.copy(), eds_df, verbose=True)"
   ]
  },
  {
   "cell_type": "code",
   "execution_count": null,
   "metadata": {
    "pycharm": {
     "name": "#%%\n"
    }
   },
   "outputs": [],
   "source": [
    "preprocessed_scales.head()"
   ]
  },
  {
   "cell_type": "code",
   "execution_count": null,
   "metadata": {
    "pycharm": {
     "name": "#%%\n"
    }
   },
   "outputs": [],
   "source": [
    "preprocessed_scales.groupby('scale')['score'].describe()\n"
   ]
  },
  {
   "cell_type": "code",
   "execution_count": null,
   "metadata": {
    "pycharm": {
     "name": "#%%\n"
    }
   },
   "outputs": [],
   "source": [
    "preprocessed_scales[preprocessed_scales['scale'] == 'NIHSS'].plot.hist(bins=50)\n",
    "plt.show()"
   ]
  },
  {
   "cell_type": "code",
   "execution_count": null,
   "metadata": {
    "pycharm": {
     "name": "#%%\n"
    }
   },
   "outputs": [],
   "source": []
  }
 ],
 "metadata": {
  "kernelspec": {
   "display_name": "Python 3",
   "language": "python",
   "name": "python3"
  },
  "language_info": {
   "codemirror_mode": {
    "name": "ipython",
    "version": 2
   },
   "file_extension": ".py",
   "mimetype": "text/x-python",
   "name": "python",
   "nbconvert_exporter": "python",
   "pygments_lexer": "ipython2",
   "version": "2.7.6"
  }
 },
 "nbformat": 4,
 "nbformat_minor": 0
}
