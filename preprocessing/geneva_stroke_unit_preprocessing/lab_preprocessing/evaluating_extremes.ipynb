{
 "cells": [
  {
   "cell_type": "code",
   "execution_count": null,
   "metadata": {},
   "outputs": [],
   "source": [
    "import pandas as pd\n",
    "import os\n",
    "import numpy as np\n",
    "from preprocessing.lab_preprocessing.lab_preprocessing import preprocess_labs\n",
    "from data_visualisation.plot_labs import plot_patient_lab\n",
    "import matplotlib.pyplot as plt\n"
   ]
  },
  {
   "cell_type": "code",
   "execution_count": null,
   "metadata": {
    "pycharm": {
     "name": "#%%\n"
    }
   },
   "outputs": [],
   "source": [
    "data_path = '/Users/jk1/stroke_datasets/stroke_unit_dataset/per_value/Extraction_20211110'\n",
    "lab_file_start = 'labo'"
   ]
  },
  {
   "cell_type": "code",
   "execution_count": null,
   "metadata": {
    "pycharm": {
     "name": "#%%\n"
    }
   },
   "outputs": [],
   "source": [
    "lab_files = [pd.read_csv(os.path.join(data_path, f), delimiter=';', encoding='utf-8')\n",
    "             for f in os.listdir(data_path)\n",
    "             if f.startswith(lab_file_start)]\n",
    "\n",
    "lab_df = pd.concat(lab_files, ignore_index=True)"
   ]
  },
  {
   "cell_type": "code",
   "execution_count": null,
   "metadata": {
    "pycharm": {
     "name": "#%%\n"
    }
   },
   "outputs": [],
   "source": [
    "preprocessed_lab_df = preprocess_labs(lab_df, verbose=False)"
   ]
  },
  {
   "cell_type": "code",
   "execution_count": null,
   "metadata": {
    "pycharm": {
     "name": "#%%\n"
    }
   },
   "outputs": [],
   "source": [
    "preprocessed_lab_df.groupby('dosage_label')['value'].describe()"
   ]
  },
  {
   "cell_type": "markdown",
   "metadata": {
    "collapsed": false
   },
   "source": [
    "- check min pCO2 value\n",
    "- check min and max pO2 values\n",
    "- check max pO2/FO2 values\n",
    "- cehck max creat values\n",
    "- check min hct values\n",
    "- cehck min and max hgb values\n",
    "- check max leuco values\n",
    "- check max potassium values\n",
    "- check min and max BNP values\n",
    "- check min and max thrombo values\n",
    "- check max trigly values\n"
   ]
  },
  {
   "cell_type": "code",
   "execution_count": null,
   "metadata": {
    "pycharm": {
     "name": "#%%\n"
    }
   },
   "outputs": [],
   "source": [
    "# find patient admission id with min pCO2 value\n",
    "pCO2_df = preprocessed_lab_df[preprocessed_lab_df['dosage_label'] == 'G-Sga-pCO2(T), ABL']\n",
    "pCO2_df[pCO2_df['value'] == pCO2_df['value'].min()]"
   ]
  },
  {
   "cell_type": "code",
   "execution_count": null,
   "metadata": {
    "pycharm": {
     "name": "#%%\n"
    }
   },
   "outputs": [],
   "source": [
    "pa_id = pCO2_df[pCO2_df['value'] == pCO2_df['value'].min()]['case_admission_id'].values[0]\n",
    "ax = plot_patient_lab(pa_id, 'G-Sga-pCO2(T), ABL', preprocessed_lab_df)\n",
    "plt.show()"
   ]
  },
  {
   "cell_type": "code",
   "execution_count": null,
   "metadata": {
    "pycharm": {
     "name": "#%%\n"
    }
   },
   "outputs": [],
   "source": [
    "# find patient admission id with max pO2 value\n",
    "pO2_df = preprocessed_lab_df[preprocessed_lab_df['dosage_label'] == 'G-Sga-pO2(T), ABL']\n",
    "pO2_df[pO2_df['value'] == pO2_df['value'].max()]"
   ]
  },
  {
   "cell_type": "code",
   "execution_count": null,
   "metadata": {
    "pycharm": {
     "name": "#%%\n"
    }
   },
   "outputs": [],
   "source": [
    "pa_id = pO2_df[pO2_df['value'] == pO2_df['value'].max()]['case_admission_id'].values[0]\n",
    "ax = plot_patient_lab(pa_id, 'G-Sga-pO2(T), ABL', preprocessed_lab_df)\n",
    "plt.show()"
   ]
  },
  {
   "cell_type": "code",
   "execution_count": null,
   "metadata": {
    "pycharm": {
     "name": "#%%\n"
    }
   },
   "outputs": [],
   "source": [
    "# find patient admission id with min pO2 value\n",
    "pa_id = pO2_df[pO2_df['value'] == pO2_df['value'].min()]['case_admission_id'].values[0]\n",
    "ax = plot_patient_lab(pa_id, 'G-Sga-pO2(T), ABL', preprocessed_lab_df)\n",
    "plt.show()"
   ]
  },
  {
   "cell_type": "code",
   "execution_count": null,
   "metadata": {
    "pycharm": {
     "name": "#%%\n"
    }
   },
   "outputs": [],
   "source": [
    "# find patient admission id with max pO2/FO2 value\n",
    "pO2_fO2_df = preprocessed_lab_df[preprocessed_lab_df['dosage_label'] == 'G-Sga-pO2(a,T)/FO2(I), ABL']\n",
    "pO2_fO2_df.sort_values(by='value', ascending=False).head(5)"
   ]
  },
  {
   "cell_type": "code",
   "execution_count": null,
   "metadata": {
    "pycharm": {
     "name": "#%%\n"
    }
   },
   "outputs": [],
   "source": [
    "pa_id = pO2_fO2_df[pO2_fO2_df['value'] == pO2_fO2_df['value'].max()]['case_admission_id'].values[0]\n",
    "ax = plot_patient_lab(pa_id, 'G-Sga-pO2(a,T)/FO2(I), ABL', preprocessed_lab_df)\n",
    "plt.show()"
   ]
  },
  {
   "cell_type": "code",
   "execution_count": null,
   "metadata": {
    "pycharm": {
     "name": "#%%\n"
    }
   },
   "outputs": [],
   "source": [
    "# find patient with max creat value\n",
    "creat_df = preprocessed_lab_df[preprocessed_lab_df['dosage_label'] == 'creatinine']\n",
    "creat_df.sort_values(by='value', ascending=False).head(5)\n"
   ]
  },
  {
   "cell_type": "code",
   "execution_count": null,
   "metadata": {
    "pycharm": {
     "name": "#%%\n"
    }
   },
   "outputs": [],
   "source": [
    "pa_id = creat_df[creat_df['value'] == creat_df['value'].max()]['case_admission_id'].values[0]\n",
    "ax = plot_patient_lab(pa_id, 'creatinine', preprocessed_lab_df)\n",
    "plt.show()"
   ]
  },
  {
   "cell_type": "code",
   "execution_count": null,
   "metadata": {
    "pycharm": {
     "name": "#%%\n"
    }
   },
   "outputs": [],
   "source": [
    "# find patient with min hematocrite value\n",
    "hct_df = preprocessed_lab_df[preprocessed_lab_df['dosage_label'] == 'hematocrite']\n",
    "hct_df.sort_values(by='value', ascending=True).head(5)"
   ]
  },
  {
   "cell_type": "code",
   "execution_count": null,
   "metadata": {
    "pycharm": {
     "name": "#%%\n"
    }
   },
   "outputs": [],
   "source": [
    "pa_id = hct_df[hct_df['value'] == hct_df['value'].min()]['case_admission_id'].values[0]\n",
    "ax = plot_patient_lab('497529_08012021', 'hematocrite', preprocessed_lab_df)\n",
    "plt.show()"
   ]
  },
  {
   "cell_type": "code",
   "execution_count": null,
   "metadata": {
    "pycharm": {
     "name": "#%%\n"
    }
   },
   "outputs": [],
   "source": [
    "# find patients with min and max hgb values\n",
    "hgb_df = preprocessed_lab_df[preprocessed_lab_df['dosage_label'] == 'hemoglobine']\n",
    "hgb_df.sort_values(by='value', ascending=True).head(5)"
   ]
  },
  {
   "cell_type": "code",
   "execution_count": null,
   "metadata": {
    "pycharm": {
     "name": "#%%\n"
    }
   },
   "outputs": [],
   "source": [
    "hgb_df.sort_values(by='value', ascending=False).head(5)"
   ]
  },
  {
   "cell_type": "code",
   "execution_count": null,
   "metadata": {
    "pycharm": {
     "name": "#%%\n"
    }
   },
   "outputs": [],
   "source": [
    "pa_id = hgb_df[hgb_df['value'] == hgb_df['value'].min()]['case_admission_id'].values[0]\n",
    "ax = plot_patient_lab(pa_id, 'hemoglobine', preprocessed_lab_df)\n",
    "plt.show()"
   ]
  },
  {
   "cell_type": "code",
   "execution_count": null,
   "metadata": {
    "pycharm": {
     "name": "#%%\n"
    }
   },
   "outputs": [],
   "source": [
    "pa_id = hgb_df[hgb_df['value'] == hgb_df['value'].max()]['case_admission_id'].values[0]\n",
    "ax = plot_patient_lab(pa_id, 'hemoglobine', preprocessed_lab_df)\n",
    "plt.show()"
   ]
  },
  {
   "cell_type": "code",
   "execution_count": null,
   "metadata": {
    "pycharm": {
     "name": "#%%\n"
    }
   },
   "outputs": [],
   "source": [
    "# find patient with max leucocytes value\n",
    "leuco_df = preprocessed_lab_df[preprocessed_lab_df['dosage_label'] == 'leucocytes']\n",
    "leuco_df.sort_values(by='value', ascending=False).head(5)"
   ]
  },
  {
   "cell_type": "code",
   "execution_count": null,
   "metadata": {
    "pycharm": {
     "name": "#%%\n"
    }
   },
   "outputs": [],
   "source": [
    "pa_id = leuco_df[leuco_df['value'] == leuco_df['value'].max()]['case_admission_id'].values[0]\n",
    "ax = plot_patient_lab(pa_id, 'leucocytes', preprocessed_lab_df)\n",
    "plt.show()"
   ]
  },
  {
   "cell_type": "code",
   "execution_count": null,
   "metadata": {
    "pycharm": {
     "name": "#%%\n"
    }
   },
   "outputs": [],
   "source": [
    "# find patient with max potassium value\n",
    "potassium_df = preprocessed_lab_df[preprocessed_lab_df['dosage_label'] == 'potassium']\n",
    "potassium_df.sort_values(by='value', ascending=False).head(5)"
   ]
  },
  {
   "cell_type": "code",
   "execution_count": null,
   "metadata": {
    "pycharm": {
     "name": "#%%\n"
    }
   },
   "outputs": [],
   "source": [
    "pa_id = potassium_df[potassium_df['value'] == potassium_df['value'].max()]['case_admission_id'].values[0]\n",
    "ax = plot_patient_lab(pa_id, 'potassium', preprocessed_lab_df)\n",
    "plt.show()"
   ]
  },
  {
   "cell_type": "code",
   "execution_count": null,
   "metadata": {
    "pycharm": {
     "name": "#%%\n"
    }
   },
   "outputs": [],
   "source": [
    "# find patients with min and max BNP values\n",
    "bnp_df = preprocessed_lab_df[preprocessed_lab_df['dosage_label'] == 'proBNP']\n",
    "bnp_df.sort_values(by='value', ascending=False).head(5)"
   ]
  },
  {
   "cell_type": "code",
   "execution_count": null,
   "metadata": {
    "pycharm": {
     "name": "#%%\n"
    }
   },
   "outputs": [],
   "source": [
    "pa_id = bnp_df[bnp_df['value'] == bnp_df['value'].max()]['case_admission_id'].values[0]\n",
    "ax = plot_patient_lab(pa_id, 'proBNP', preprocessed_lab_df)\n",
    "plt.show()"
   ]
  },
  {
   "cell_type": "code",
   "execution_count": null,
   "metadata": {
    "pycharm": {
     "name": "#%%\n"
    }
   },
   "outputs": [],
   "source": [
    "bnp_df.sort_values(by='value', ascending=True).head(5)"
   ]
  },
  {
   "cell_type": "code",
   "execution_count": null,
   "metadata": {
    "pycharm": {
     "name": "#%%\n"
    }
   },
   "outputs": [],
   "source": [
    "pa_id = bnp_df[bnp_df['value'] == bnp_df['value'].min()]['case_admission_id'].values[0]\n",
    "ax = plot_patient_lab(pa_id, 'proBNP', preprocessed_lab_df)\n",
    "plt.show()"
   ]
  },
  {
   "cell_type": "code",
   "execution_count": null,
   "metadata": {
    "pycharm": {
     "name": "#%%\n"
    }
   },
   "outputs": [],
   "source": [
    "# find patients with min and max thrombo values\n",
    "thrombo_df = preprocessed_lab_df[preprocessed_lab_df['dosage_label'] == 'thrombocytes']\n",
    "thrombo_df.sort_values(by='value', ascending=False).head(5)"
   ]
  },
  {
   "cell_type": "code",
   "execution_count": null,
   "metadata": {
    "pycharm": {
     "name": "#%%\n"
    }
   },
   "outputs": [],
   "source": [
    "pa_id = thrombo_df[thrombo_df['value'] == thrombo_df['value'].max()]['case_admission_id'].values[0]\n",
    "ax = plot_patient_lab(pa_id, 'thrombocytes', preprocessed_lab_df)\n",
    "plt.show()"
   ]
  },
  {
   "cell_type": "code",
   "execution_count": null,
   "metadata": {
    "pycharm": {
     "name": "#%%\n"
    }
   },
   "outputs": [],
   "source": [
    "thrombo_df.sort_values(by='value', ascending=True).head(5)"
   ]
  },
  {
   "cell_type": "code",
   "execution_count": null,
   "metadata": {
    "pycharm": {
     "name": "#%%\n"
    }
   },
   "outputs": [],
   "source": [
    "pa_id = thrombo_df[thrombo_df['value'] == thrombo_df['value'].min()]['case_admission_id'].values[0]\n",
    "ax = plot_patient_lab(pa_id, 'thrombocytes', preprocessed_lab_df)\n",
    "plt.show()\n"
   ]
  },
  {
   "cell_type": "code",
   "execution_count": null,
   "metadata": {
    "pycharm": {
     "name": "#%%\n"
    }
   },
   "outputs": [],
   "source": [
    "# find patient with max trigly values\n",
    "tg_df = preprocessed_lab_df[preprocessed_lab_df['dosage_label'] == 'triglycerides']\n",
    "tg_df.sort_values(by='value', ascending=False).head(5)\n",
    "\n"
   ]
  },
  {
   "cell_type": "code",
   "execution_count": null,
   "metadata": {
    "pycharm": {
     "name": "#%%\n"
    }
   },
   "outputs": [],
   "source": [
    "pa_id = tg_df[tg_df['value'] == tg_df['value'].max()]['case_admission_id'].values[0]\n",
    "ax = plot_patient_lab(pa_id, 'triglycerides', preprocessed_lab_df)\n",
    "plt.show()"
   ]
  },
  {
   "cell_type": "code",
   "execution_count": null,
   "metadata": {
    "pycharm": {
     "name": "#%%\n"
    }
   },
   "outputs": [],
   "source": [
    "# find patient with min bilirubin values\n",
    "bili_df = preprocessed_lab_df[preprocessed_lab_df['dosage_label'] == 'bilirubine totale']\n",
    "bili_df.sort_values(by='value', ascending=True).head(10)"
   ]
  },
  {
   "cell_type": "code",
   "execution_count": null,
   "metadata": {
    "pycharm": {
     "name": "#%%\n"
    }
   },
   "outputs": [],
   "source": [
    "pa_id = bili_df[bili_df['value'] == bili_df['value'].min()]['case_admission_id'].values[0]\n",
    "ax = plot_patient_lab('98520458_29092019', 'bilirubine totale', preprocessed_lab_df)\n",
    "plt.show()"
   ]
  },
  {
   "cell_type": "code",
   "execution_count": null,
   "metadata": {
    "pycharm": {
     "name": "#%%\n"
    }
   },
   "outputs": [],
   "source": [
    "outliers = preprocessed_lab_df.groupby('dosage_label')['value'].apply(lambda x: np.abs(x - x.mean()) > 5 * x.std())\n",
    "preprocessed_lab_df[outliers]"
   ]
  },
  {
   "cell_type": "code",
   "execution_count": null,
   "metadata": {
    "pycharm": {
     "name": "#%%\n"
    }
   },
   "outputs": [],
   "source": []
  }
 ],
 "metadata": {
  "kernelspec": {
   "display_name": "Python 3",
   "language": "python",
   "name": "python3"
  },
  "language_info": {
   "codemirror_mode": {
    "name": "ipython",
    "version": 2
   },
   "file_extension": ".py",
   "mimetype": "text/x-python",
   "name": "python",
   "nbconvert_exporter": "python",
   "pygments_lexer": "ipython2",
   "version": "2.7.6"
  }
 },
 "nbformat": 4,
 "nbformat_minor": 0
}
