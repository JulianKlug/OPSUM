{
 "cells": [
  {
   "cell_type": "markdown",
   "id": "b57093eeb1976ff4",
   "metadata": {
    "collapsed": false
   },
   "source": [
    "# Evaluate COVID status of patients to establish subgroup"
   ]
  },
  {
   "cell_type": "code",
   "execution_count": null,
   "id": "initial_id",
   "metadata": {
    "ExecuteTime": {
     "end_time": "2024-02-25T14:28:19.953271Z",
     "start_time": "2024-02-25T14:28:17.290199Z"
    }
   },
   "outputs": [],
   "source": [
    "import pandas as pd\n",
    "import os"
   ]
  },
  {
   "cell_type": "code",
   "execution_count": null,
   "id": "ffec05201e863fc8",
   "metadata": {
    "ExecuteTime": {
     "end_time": "2024-02-25T14:28:19.966248Z",
     "start_time": "2024-02-25T14:28:19.955826Z"
    }
   },
   "outputs": [],
   "source": [
    "data_path = '/Users/jk1/stroke_datasets/stroke_unit_dataset/per_value/Extraction_20220815'\n",
    "lab_file_start = 'labo'"
   ]
  },
  {
   "cell_type": "code",
   "execution_count": null,
   "id": "d75a8100a454c743",
   "metadata": {
    "ExecuteTime": {
     "end_time": "2024-02-25T14:28:27.753245Z",
     "start_time": "2024-02-25T14:28:19.964871Z"
    }
   },
   "outputs": [],
   "source": [
    "lab_files = [pd.read_csv(os.path.join(data_path, f), delimiter=';', encoding='utf-8', dtype=str)\n",
    "             for f in os.listdir(data_path)\n",
    "             if f.startswith(lab_file_start)]\n",
    "lab_df = pd.concat(lab_files, ignore_index=True)"
   ]
  },
  {
   "cell_type": "code",
   "execution_count": null,
   "id": "179f452237f855ef",
   "metadata": {
    "ExecuteTime": {
     "end_time": "2024-02-25T14:28:28.421831Z",
     "start_time": "2024-02-25T14:28:27.754907Z"
    }
   },
   "outputs": [],
   "source": [
    "from preprocessing.geneva_stroke_unit_preprocessing.utils import create_ehr_case_identification_column\n",
    "\n",
    "lab_df['case_admission_id'] = create_ehr_case_identification_column(lab_df)"
   ]
  },
  {
   "cell_type": "code",
   "execution_count": null,
   "id": "c408fcd7e20192dd",
   "metadata": {
    "ExecuteTime": {
     "end_time": "2024-02-25T14:28:28.463511Z",
     "start_time": "2024-02-25T14:28:28.434599Z"
    }
   },
   "outputs": [],
   "source": [
    "lab_df.head()"
   ]
  },
  {
   "cell_type": "code",
   "execution_count": null,
   "id": "148ee45e1319800e",
   "metadata": {
    "ExecuteTime": {
     "end_time": "2024-02-25T14:28:28.477712Z",
     "start_time": "2024-02-25T14:28:28.462723Z"
    }
   },
   "outputs": [],
   "source": [
    "accepted_materials = ['frot. nasophary.', 'frot. orophary.', 'LBA', 'aspir. bronch.', 'aspir. nasoph.']\n",
    "positive_labels = ['POSITIF', 'PRESENT']"
   ]
  },
  {
   "cell_type": "code",
   "execution_count": null,
   "id": "6f591c1ab5722a5b",
   "metadata": {
    "ExecuteTime": {
     "end_time": "2024-02-25T14:36:31.613321Z",
     "start_time": "2024-02-25T14:36:31.043127Z"
    }
   },
   "outputs": [],
   "source": [
    "# find subset where SARS is in dosage_label\n",
    "lab_df[(lab_df['dosage_label'].str.contains('SARS')) & (lab_df.material_label.isin(accepted_materials))].head()"
   ]
  },
  {
   "cell_type": "markdown",
   "id": "67db1bcee4053512",
   "metadata": {
    "collapsed": false
   },
   "source": [
    "Number of patients with positive Sars-Cov-2 test (anytime within same admission)"
   ]
  },
  {
   "cell_type": "code",
   "execution_count": null,
   "id": "99e1934d8bfdb50b",
   "metadata": {
    "ExecuteTime": {
     "end_time": "2024-02-25T14:28:30.491418Z",
     "start_time": "2024-02-25T14:28:29.827262Z"
    }
   },
   "outputs": [],
   "source": [
    "lab_df[(lab_df['dosage_label'].str.contains('SARS')) & (lab_df.material_label.isin(accepted_materials)) & (lab_df.value.isin(positive_labels))].case_admission_id.nunique()"
   ]
  },
  {
   "cell_type": "code",
   "execution_count": null,
   "id": "a8190ecce76a1052",
   "metadata": {
    "ExecuteTime": {
     "end_time": "2024-02-25T14:28:31.467632Z",
     "start_time": "2024-02-25T14:28:30.964660Z"
    }
   },
   "outputs": [],
   "source": [
    "# check number of patients with test value is number (after conversion to numeric)\n",
    "lab_df['value_numeric'] = pd.to_numeric(lab_df['value'], errors='coerce')\n",
    "lab_df[(lab_df['dosage_label'].str.contains('SARS')) & (lab_df.material_label.isin(accepted_materials)) & (lab_df.value_numeric.notna())].case_admission_id.nunique()"
   ]
  },
  {
   "cell_type": "code",
   "execution_count": null,
   "id": "d80ccd6c31ce973d",
   "metadata": {
    "ExecuteTime": {
     "end_time": "2024-02-25T14:34:52.903520Z",
     "start_time": "2024-02-25T14:34:51.827697Z"
    }
   },
   "outputs": [],
   "source": [
    "# all numeric values seem to be associated with a postive label\n",
    "len(set(list(lab_df[(lab_df['dosage_label'].str.contains('SARS')) & (lab_df.material_label.isin(accepted_materials)) & (lab_df.value.isin(positive_labels))].case_admission_id.unique()) + list(lab_df[(lab_df['dosage_label'].str.contains('SARS')) & (lab_df.material_label.isin(accepted_materials)) & (lab_df.value_numeric.notna())].case_admission_id.unique())))"
   ]
  },
  {
   "cell_type": "markdown",
   "id": "fa551e434f853a6c",
   "metadata": {
    "collapsed": false
   },
   "source": [
    "only within first 72h"
   ]
  },
  {
   "cell_type": "code",
   "execution_count": null,
   "id": "15394404b62d45a7",
   "metadata": {
    "ExecuteTime": {
     "end_time": "2024-02-25T14:28:38.626422Z",
     "start_time": "2024-02-25T14:28:38.148445Z"
    }
   },
   "outputs": [],
   "source": [
    "datatime_format = '%d.%m.%Y %H:%M'\n",
    "lab_df['delta_admission_to_sample'] = (pd.to_datetime(lab_df['sample_date'], format=datatime_format ) - pd.to_datetime(lab_df['begin_date'], format=datatime_format)).dt.total_seconds() / 3600"
   ]
  },
  {
   "cell_type": "code",
   "execution_count": null,
   "id": "1820397cd44d2eaa",
   "metadata": {
    "ExecuteTime": {
     "end_time": "2024-02-25T14:28:39.295187Z",
     "start_time": "2024-02-25T14:28:38.664461Z"
    }
   },
   "outputs": [],
   "source": [
    "lab_df[(lab_df['dosage_label'].str.contains('SARS')) & (lab_df.material_label.isin(accepted_materials)) & (lab_df.value.isin(positive_labels)) & (lab_df.delta_admission_to_sample < 72)].case_admission_id.nunique()"
   ]
  },
  {
   "cell_type": "markdown",
   "id": "65954d06448f5608",
   "metadata": {
    "collapsed": false
   },
   "source": [
    "Save list of patients with positive SARS-Cov-2 test \n",
    "- within admission (otherwise too little patients, and would still influence outcome)"
   ]
  },
  {
   "cell_type": "code",
   "execution_count": null,
   "id": "e0d8ae06a25330da",
   "metadata": {
    "ExecuteTime": {
     "end_time": "2024-02-25T14:40:41.915298Z",
     "start_time": "2024-02-25T14:40:41.258821Z"
    }
   },
   "outputs": [],
   "source": [
    "covid_subset_df = lab_df[(lab_df['dosage_label'].str.contains('SARS')) & (lab_df.material_label.isin(accepted_materials)) & (lab_df.value.isin(positive_labels))][['case_admission_id', 'patient_id']].drop_duplicates(subset=['case_admission_id'])"
   ]
  },
  {
   "cell_type": "code",
   "execution_count": null,
   "id": "4b75abb38a237ae3",
   "metadata": {
    "ExecuteTime": {
     "end_time": "2024-02-25T14:41:23.086095Z",
     "start_time": "2024-02-25T14:41:23.072932Z"
    }
   },
   "outputs": [],
   "source": [
    "# covid_subset_df.to_csv('/Users/jk1/temp/opsum_covid_subset.csv', index=False)"
   ]
  },
  {
   "cell_type": "code",
   "execution_count": null,
   "id": "b54e2c388e7a916a",
   "metadata": {},
   "outputs": [],
   "source": []
  }
 ],
 "metadata": {
  "kernelspec": {
   "display_name": "Python 3",
   "language": "python",
   "name": "python3"
  },
  "language_info": {
   "codemirror_mode": {
    "name": "ipython",
    "version": 2
   },
   "file_extension": ".py",
   "mimetype": "text/x-python",
   "name": "python",
   "nbconvert_exporter": "python",
   "pygments_lexer": "ipython2",
   "version": "2.7.6"
  }
 },
 "nbformat": 4,
 "nbformat_minor": 5
}
