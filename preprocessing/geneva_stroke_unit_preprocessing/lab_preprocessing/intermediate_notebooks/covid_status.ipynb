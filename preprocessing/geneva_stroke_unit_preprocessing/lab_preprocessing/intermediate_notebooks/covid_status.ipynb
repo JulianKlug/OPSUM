{
 "cells": [
  {
   "cell_type": "markdown",
   "id": "b57093eeb1976ff4",
   "metadata": {
    "collapsed": false
   },
   "source": [
    "# Evaluate COVID status of patients to establish subgroup"
   ]
  },
  {
   "cell_type": "code",
   "execution_count": null,
   "id": "initial_id",
   "metadata": {
    "ExecuteTime": {
     "end_time": "2024-02-02T12:46:26.243315Z",
     "start_time": "2024-02-02T12:46:26.237545Z"
    }
   },
   "outputs": [],
   "source": [
    "import pandas as pd\n",
    "import os"
   ]
  },
  {
   "cell_type": "code",
   "execution_count": null,
   "id": "ffec05201e863fc8",
   "metadata": {
    "ExecuteTime": {
     "end_time": "2024-02-02T12:46:26.466883Z",
     "start_time": "2024-02-02T12:46:26.461571Z"
    }
   },
   "outputs": [],
   "source": [
    "data_path = '/Users/jk1/stroke_datasets/stroke_unit_dataset/per_value/Extraction_20220815'\n",
    "lab_file_start = 'labo'"
   ]
  },
  {
   "cell_type": "code",
   "execution_count": null,
   "id": "d75a8100a454c743",
   "metadata": {
    "ExecuteTime": {
     "end_time": "2024-02-02T12:46:34.551753Z",
     "start_time": "2024-02-02T12:46:26.833932Z"
    }
   },
   "outputs": [],
   "source": [
    "lab_files = [pd.read_csv(os.path.join(data_path, f), delimiter=';', encoding='utf-8', dtype=str)\n",
    "             for f in os.listdir(data_path)\n",
    "             if f.startswith(lab_file_start)]\n",
    "lab_df = pd.concat(lab_files, ignore_index=True)"
   ]
  },
  {
   "cell_type": "code",
   "execution_count": null,
   "id": "179f452237f855ef",
   "metadata": {
    "ExecuteTime": {
     "end_time": "2024-02-02T14:22:49.338661Z",
     "start_time": "2024-02-02T14:22:48.705642Z"
    }
   },
   "outputs": [],
   "source": [
    "from preprocessing.geneva_stroke_unit_preprocessing.utils import create_ehr_case_identification_column\n",
    "\n",
    "lab_df['case_admission_id'] = create_ehr_case_identification_column(lab_df)"
   ]
  },
  {
   "cell_type": "code",
   "execution_count": null,
   "id": "c408fcd7e20192dd",
   "metadata": {
    "ExecuteTime": {
     "end_time": "2024-02-02T14:22:46.892167Z",
     "start_time": "2024-02-02T14:22:46.883357Z"
    }
   },
   "outputs": [],
   "source": [
    "lab_df.head()"
   ]
  },
  {
   "cell_type": "code",
   "execution_count": null,
   "id": "148ee45e1319800e",
   "metadata": {
    "ExecuteTime": {
     "end_time": "2024-02-02T14:21:35.216891Z",
     "start_time": "2024-02-02T14:21:35.204495Z"
    }
   },
   "outputs": [],
   "source": [
    "accepted_materials = ['frot. nasophary.', 'frot. orophary.', 'LBA', 'aspir. bronch.', 'aspir. nasoph.']\n",
    "positive_labels = ['POSITIF', 'PRESENT']"
   ]
  },
  {
   "cell_type": "code",
   "execution_count": null,
   "id": "6f591c1ab5722a5b",
   "metadata": {
    "ExecuteTime": {
     "end_time": "2024-02-02T14:26:28.988430Z",
     "start_time": "2024-02-02T14:26:28.477576Z"
    }
   },
   "outputs": [],
   "source": [
    "# find subset where SARS is in dosage_label\n",
    "lab_df[(lab_df['dosage_label'].str.contains('SARS')) & (lab_df.material_label.isin(accepted_materials))].head()"
   ]
  },
  {
   "cell_type": "markdown",
   "id": "67db1bcee4053512",
   "metadata": {
    "collapsed": false
   },
   "source": [
    "Number of patients with positive Sars-Cov-2 test (anytime within same admission)"
   ]
  },
  {
   "cell_type": "code",
   "execution_count": null,
   "id": "99e1934d8bfdb50b",
   "metadata": {
    "ExecuteTime": {
     "end_time": "2024-02-02T14:22:54.329879Z",
     "start_time": "2024-02-02T14:22:53.088819Z"
    }
   },
   "outputs": [],
   "source": [
    "lab_df[(lab_df['dosage_label'].str.contains('SARS')) & (lab_df.material_label.isin(accepted_materials)) & (lab_df.value.isin(positive_labels))].case_admission_id.nunique()"
   ]
  },
  {
   "cell_type": "code",
   "execution_count": null,
   "id": "a8190ecce76a1052",
   "metadata": {
    "ExecuteTime": {
     "end_time": "2024-02-02T14:25:11.932043Z",
     "start_time": "2024-02-02T14:25:11.361001Z"
    }
   },
   "outputs": [],
   "source": [
    "# check number of patients with test value is number (after conversion to numeric)\n",
    "lab_df['value_numeric'] = pd.to_numeric(lab_df['value'], errors='coerce')\n",
    "lab_df[(lab_df['dosage_label'].str.contains('SARS')) & (lab_df.material_label.isin(accepted_materials)) & (lab_df.value_numeric.notna())].case_admission_id.nunique()"
   ]
  },
  {
   "cell_type": "markdown",
   "id": "fa551e434f853a6c",
   "metadata": {
    "collapsed": false
   },
   "source": [
    "only within first 72h"
   ]
  },
  {
   "cell_type": "code",
   "execution_count": null,
   "id": "15394404b62d45a7",
   "metadata": {
    "ExecuteTime": {
     "end_time": "2024-02-02T14:35:14.761022Z",
     "start_time": "2024-02-02T14:35:14.256680Z"
    }
   },
   "outputs": [],
   "source": [
    "datatime_format = '%d.%m.%Y %H:%M'\n",
    "lab_df['delta_admission_to_sample'] = (pd.to_datetime(lab_df['sample_date'], format=datatime_format ) - pd.to_datetime(lab_df['begin_date'], format=datatime_format)).dt.total_seconds() / 3600"
   ]
  },
  {
   "cell_type": "code",
   "execution_count": null,
   "id": "1820397cd44d2eaa",
   "metadata": {
    "ExecuteTime": {
     "end_time": "2024-02-02T14:35:58.520436Z",
     "start_time": "2024-02-02T14:35:57.871121Z"
    }
   },
   "outputs": [],
   "source": [
    "lab_df[(lab_df['dosage_label'].str.contains('SARS')) & (lab_df.material_label.isin(accepted_materials)) & (lab_df.value.isin(positive_labels)) & (lab_df.delta_admission_to_sample < 72)].case_admission_id.nunique()"
   ]
  },
  {
   "cell_type": "code",
   "execution_count": null,
   "id": "b5d989700915ce0b",
   "metadata": {},
   "outputs": [],
   "source": []
  }
 ],
 "metadata": {
  "kernelspec": {
   "display_name": "Python 3",
   "language": "python",
   "name": "python3"
  },
  "language_info": {
   "codemirror_mode": {
    "name": "ipython",
    "version": 2
   },
   "file_extension": ".py",
   "mimetype": "text/x-python",
   "name": "python",
   "nbconvert_exporter": "python",
   "pygments_lexer": "ipython2",
   "version": "2.7.6"
  }
 },
 "nbformat": 4,
 "nbformat_minor": 5
}
