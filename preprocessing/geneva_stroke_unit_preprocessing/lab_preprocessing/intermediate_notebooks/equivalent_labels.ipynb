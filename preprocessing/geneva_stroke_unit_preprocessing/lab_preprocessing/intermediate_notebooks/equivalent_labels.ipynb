{
 "cells": [
  {
   "cell_type": "code",
   "execution_count": null,
   "metadata": {
    "pycharm": {
     "name": "#%%\n"
    }
   },
   "outputs": [],
   "source": [
    "import pandas as pd"
   ]
  },
  {
   "cell_type": "code",
   "execution_count": null,
   "metadata": {
    "pycharm": {
     "name": "#%%\n"
    }
   },
   "outputs": [],
   "source": [
    "# defining equivalent dosage labels\n",
    "fibrinogen_equivalent_dosage_labels = ['fibrinogène', 'fibrinogène, antigène']\n",
    "creatinine_equivalent_dosage_labels = ['créatinine', 'U-créatinine, colorimétrie', 'créatinine, colorimétrie',\n",
    "                                       'Creatinine, Piccolo', 'G-Creatinine, ABL', 'Creatinine, iSTAT']\n",
    "hematocrit_equivalent_dosage_labels = ['hématocrite', 'G-Sgc-hématocrite, ABL', 'G-Sgv-hématocrite, ABL',\n",
    "                                       'Hématocrite, Smart 546', 'G-Sgv-hématocrite', 'hématocrite, pocH-100i',\n",
    "                                       'G-Sgvm-hématocrite, ABL', 'hématocrite, impédancemétrie',\n",
    "                                       'G-Sgv-hématocrite, ABL', 'G-Sga-hématocrite, ABL', 'Hématocrite, Smart 546', 'G-Sgc-hématocrite, ABL']\n",
    "potassium_equivalent_dosage_labels = ['potassium', 'G-Sga-potassium, ABL', 'G-Sgv-potassium, ABL', 'Potassium, Piccolo',\n",
    "                                      'potassium, potentiométrie', 'G-Sgvm-potassium, ABL', 'G-Sgc-potassium, ABL',\n",
    "                                      'G-Sgv-potassium', 'U-potassium, potentiométrie indirecte']\n",
    "sodium_equivalent_dosage_labels = ['sodium', 'G-Sga-sodium, ABL', 'G-Sgv-sodium, ABL', 'sodium, potentiométrie',\n",
    "                                   'Sodium, Piccolo', 'G-Sgvm-sodium, ABL', 'U-sodium, potentiométrie indirecte',\n",
    "                                   'G-Sgc-sodium, ABL', 'G-Sgv-sodium']\n",
    "urea_equivalent_dosage_labels = ['urée', 'urée, colorimétrie', 'U-urée, colorimétrie']\n",
    "hba1c_equivalent_dosage_labels = ['hémoglobine glyquée',\n",
    "                                  'hémoglobine glyquée (HbA1c), immunologique d\\x92agglutination latex']\n",
    "hemoglobin_equivalent_dosage_labels = ['hémoglobine', 'G-Sga-hémoglobine, ABL', 'G-Sgv-hémoglobine, ABL',\n",
    "                                       'hémoglobine, pocH-100i', 'hémoglobine, HemoCue 201', 'G-Sgvm-hémoglobine, ABL',\n",
    "                                       'G-Sgc-hémoglobine, ABL', 'G-Sgv-hémoglobine']\n",
    "thrombocytes_equivalent_dosage_labels = ['thrombocytes', 'Thrombocytes, pocH-100i']\n",
    "leucocytes_equivalent_dosage_labels = ['leucocytes', 'Leucocytes, pocH-100i']\n",
    "erythrocytes_equivalent_dosage_labels = ['érythrocytes', 'érythrocytes, numération, impédancemétrie', 'Erythrocytes, pocH-100i']\n",
    "inr_equivalent_dosage_labels = ['INR', 'INR, turbodensitométrie', 'INR, électrochimie', 'INR, CoaguCheck']\n",
    "crp_equivalent_dosage_labels = ['protéine C-réactive', 'Protéine C-Réactive  (CRP), Piccolo',\n",
    "                                'protéine C-réactive (CRP), immunoturbidimétrique latex CP',\n",
    "                                'protéine C-réactive, Smart 546', 'protéine C-réactive, POCT']\n",
    "glucose_equivalent_dosage_labels = ['glucose', 'G-Sga-glucose, ABL', 'G-Sgv-glucose, ABL', 'Glucose',\n",
    "                                    'Glucose, Piccolo', 'glucose, PAP', 'G-Sgvm-glucose, ABL', 'G-Sgv-glucose',\n",
    "                                    'G-Sgc-glucose, ABL', 'U-glucose, PAP colorimétrie']\n",
    "bilirubine_equivalent_dosage_labels = ['bilirubine totale', 'G-Sga-bilirubine totale, ABL',\n",
    "                                       'G-Sgv-bilirubine totale, ABL', 'Bilirubine totale, Piccolo',\n",
    "                                       'bilirubine totale, colorimétrie', 'G-Sgvm-bilirubine totale, ABL']\n",
    "asat_equivalent_dosage_labels = ['ASAT', 'Aspartate aminotransférase (ASAT), Piccolo',\n",
    "                                 'aspartate aminotransférase (ASAT), colorimétrie']\n",
    "alat_equivalent_dosage_labels = ['ALAT', 'Alanine aminotransférase (ALAT), Piccolo',\n",
    "                                 'alanine aminotransférase (ALAT), colorimétrie']\n",
    "doac_xa_equivalent_dosage_labels = ['Activité anti-Xa (DOAC)', 'Activité anti-Xa (rivaroxaban)',\n",
    "                                    'Activité anti-Xa (apixaban)', 'Activité anti-Xa (edoxaban)',\n",
    "                                    'Activité anti-Xa (Apixaban)']\n",
    "ldl_equivalent_dosage_labels = ['LDL cholestérol calculé', 'cholestérol non-HDL']\n",
    "lactate_equivalent_dosage_labels = ['lactate', 'G-Sgv-lactate, ABL', 'G-Sga-lactate, ABL', 'G-Sgc-lactate, ABL']\n",
    "osmolality_equivalent_dosage_labels = ['osmolality', 'G-Sgv-mOsm, ABL', 'G-Sga-mOsm, ABL', 'G-Sgvm-mOsm, ABL', 'G-Sgc-mOsm, ABL']\n",
    "chlore_equivalent_dosage_labels = ['chlore', 'chlorures', 'G-Sga-chlorures, ABL', 'G-Sgv-chlorures, ABL', 'G-Sgc-chlorures, ABL', 'Chlorures, Piccolo']\n",
    "pH_equivalent_dosage_labels = ['G-Sga-pH(T), ABL', 'G-Sga-pH(T°), ABL']\n",
    "\n",
    "equivalence_lists = [fibrinogen_equivalent_dosage_labels, creatinine_equivalent_dosage_labels,\n",
    "                     hematocrit_equivalent_dosage_labels,\n",
    "                     potassium_equivalent_dosage_labels, sodium_equivalent_dosage_labels,\n",
    "                     urea_equivalent_dosage_labels,\n",
    "                     hba1c_equivalent_dosage_labels, hemoglobin_equivalent_dosage_labels,\n",
    "                     thrombocytes_equivalent_dosage_labels,\n",
    "                     leucocytes_equivalent_dosage_labels, erythrocytes_equivalent_dosage_labels,\n",
    "                     inr_equivalent_dosage_labels,\n",
    "                     crp_equivalent_dosage_labels, glucose_equivalent_dosage_labels,\n",
    "                     bilirubine_equivalent_dosage_labels,\n",
    "                     asat_equivalent_dosage_labels, alat_equivalent_dosage_labels, doac_xa_equivalent_dosage_labels,\n",
    "                     ldl_equivalent_dosage_labels, lactate_equivalent_dosage_labels, osmolality_equivalent_dosage_labels,\n",
    "                     chlore_equivalent_dosage_labels, pH_equivalent_dosage_labels]"
   ]
  },
  {
   "cell_type": "code",
   "execution_count": null,
   "metadata": {
    "pycharm": {
     "name": "#%%\n"
    }
   },
   "outputs": [],
   "source": [
    "df = pd.DataFrame(equivalence_lists)\n",
    "df.head()"
   ]
  },
  {
   "cell_type": "code",
   "execution_count": null,
   "metadata": {
    "pycharm": {
     "name": "#%%\n"
    }
   },
   "outputs": [],
   "source": [
    "# df.T.to_csv('equivalent_labels.csv', index_label=False)"
   ]
  },
  {
   "cell_type": "code",
   "execution_count": null,
   "metadata": {
    "pycharm": {
     "name": "#%%\n"
    }
   },
   "outputs": [],
   "source": [
    "df2 = pd.read_csv('equivalent_labels.csv')\n",
    "df2.head()"
   ]
  },
  {
   "cell_type": "code",
   "execution_count": null,
   "metadata": {
    "pycharm": {
     "name": "#%%\n"
    }
   },
   "outputs": [],
   "source": [
    "df2['0'].dropna().values"
   ]
  },
  {
   "cell_type": "code",
   "execution_count": null,
   "metadata": {
    "pycharm": {
     "name": "#%%\n"
    }
   },
   "outputs": [],
   "source": []
  }
 ],
 "metadata": {
  "kernelspec": {
   "display_name": "Python 3",
   "language": "python",
   "name": "python3"
  },
  "language_info": {
   "codemirror_mode": {
    "name": "ipython",
    "version": 2
   },
   "file_extension": ".py",
   "mimetype": "text/x-python",
   "name": "python",
   "nbconvert_exporter": "python",
   "pygments_lexer": "ipython2",
   "version": "2.7.6"
  }
 },
 "nbformat": 4,
 "nbformat_minor": 0
}
