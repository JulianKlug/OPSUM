{
 "cells": [
  {
   "cell_type": "code",
   "execution_count": null,
   "id": "initial_id",
   "metadata": {
    "ExecuteTime": {
     "end_time": "2024-06-05T19:22:41.743071Z",
     "start_time": "2024-06-05T19:22:41.740473Z"
    }
   },
   "outputs": [],
   "source": [
    "import seaborn as sns\n",
    "from matplotlib import pyplot as plt\n",
    "import pandas as pd\n",
    "import numpy as np"
   ]
  },
  {
   "cell_type": "code",
   "execution_count": null,
   "id": "2c97faf0b2490cc1",
   "metadata": {
    "ExecuteTime": {
     "end_time": "2024-06-05T19:22:42.144720Z",
     "start_time": "2024-06-05T19:22:42.142211Z"
    }
   },
   "outputs": [],
   "source": [
    "ehr_data_path = \"/Users/jk1/stroke_datasets/stroke_unit_dataset/per_value/Extraction_20220815\"\n",
    "stroke_registry_data_path = \"/Users/jk1/Library/CloudStorage/OneDrive-unige.ch/stroke_research/geneva_stroke_unit_dataset/data/stroke_registry/post_hoc_modified/stroke_registry_post_hoc_modified.xlsx\"\n",
    "patient_selection_path = \"/Users/jk1/temp/opsum_end/gsu_extraction_09052025_204357/high_frequency_data_patient_selection_with_details.csv\""
   ]
  },
  {
   "cell_type": "code",
   "execution_count": null,
   "id": "d1ec0fd6d1680dec",
   "metadata": {
    "ExecuteTime": {
     "end_time": "2024-06-05T19:28:21.356184Z",
     "start_time": "2024-06-05T19:22:42.658169Z"
    }
   },
   "outputs": [],
   "source": [
    "from preprocessing.geneva_stroke_unit_preprocessing.variable_assembly.relative_timestamps import \\\n",
    "    transform_to_relative_timestamps\n",
    "from preprocessing.geneva_stroke_unit_preprocessing.variable_assembly.variable_database_assembly import \\\n",
    "    assemble_variable_database\n",
    "\n",
    "desired_time_range = 72\n",
    "feature_df = assemble_variable_database(ehr_data_path, stroke_registry_data_path, patient_selection_path,\n",
    "                                            imaging_data_path='',\n",
    "                                            restrict_to_patients_with_imaging_data_available=False,\n",
    "                                            log_dir='', verbose=False)\n",
    "restricted_feature_df = transform_to_relative_timestamps(feature_df, drop_old_columns=False,\n",
    "                                                             restrict_to_time_range=True, desired_time_range=desired_time_range,\n",
    "                                                             enforce_min_time_range=True, min_time_range=12,\n",
    "                                                             log_dir='')"
   ]
  },
  {
   "cell_type": "code",
   "execution_count": null,
   "id": "d9b5e5d59e70b73",
   "metadata": {
    "ExecuteTime": {
     "end_time": "2024-06-05T19:28:21.378984Z",
     "start_time": "2024-06-05T19:28:21.358450Z"
    }
   },
   "outputs": [],
   "source": [
    "restricted_feature_df.head()"
   ]
  },
  {
   "cell_type": "code",
   "execution_count": null,
   "id": "d37384dd3c5d7076",
   "metadata": {
    "ExecuteTime": {
     "end_time": "2024-06-05T19:28:21.740470Z",
     "start_time": "2024-06-05T19:28:21.382589Z"
    }
   },
   "outputs": [],
   "source": [
    "nihss_df = restricted_feature_df[(restricted_feature_df['sample_label'] == 'NIHSS') & (restricted_feature_df['source'] == 'EHR')]"
   ]
  },
  {
   "cell_type": "code",
   "execution_count": null,
   "id": "119bcb516e78421f",
   "metadata": {
    "ExecuteTime": {
     "end_time": "2024-06-05T19:28:21.749884Z",
     "start_time": "2024-06-05T19:28:21.742380Z"
    }
   },
   "outputs": [],
   "source": [
    "def detect_end_events(temp, require_min_repeats=False, min_delta=4):\n",
    "    temp['sample_date'] = pd.to_datetime(temp['sample_date'], format='%d.%m.%Y %H:%M')\n",
    "    temp['value'] = temp['value'].astype(float)\n",
    "    temp.sort_values('sample_date', inplace=True)\n",
    "\n",
    "    if require_min_repeats:\n",
    "        # for a given patient, compute minimum NIHSS confirmed by at least 2 consecutive measurements\n",
    "        temp['same_as_previous'] = (temp['value'].shift(1) == temp['value']).astype(int)\n",
    "        temp['score_with_min_1_repeat'] = temp['value']\n",
    "        temp.loc[temp['same_as_previous'] == 0, 'score_with_min_1_repeat'] = np.nan\n",
    "        # for every row, compute min in rows with same_as_previous up to this row\n",
    "        temp['min_nihss'] = temp['score_with_min_1_repeat'].expanding().min()\n",
    "        drop_cols = ['same_as_previous', 'score_with_min_1_repeat', 'min_nihss', 'delta_to_min']\n",
    "    else:\n",
    "        temp['min_nihss'] = temp['value'].expanding().min()\n",
    "        drop_cols = ['min_nihss', 'delta_to_min']\n",
    "\n",
    "    temp['delta_to_min'] = temp['value'] - temp['min_nihss']\n",
    "    temp['end'] = temp['delta_to_min'] >= min_delta\n",
    "\n",
    "    # only retain first end event\n",
    "    temp['n_end'] = temp['end'].cumsum()\n",
    "    temp.loc[temp['n_end'] > 1, 'end'] = False\n",
    "\n",
    "    drop_cols.append('n_end')\n",
    "    temp.drop(drop_cols, axis=1, inplace=True)\n",
    "    return temp"
   ]
  },
  {
   "cell_type": "code",
   "execution_count": null,
   "id": "7b47d5e4",
   "metadata": {},
   "outputs": [],
   "source": [
    "def detect_end_events(temp, require_min_repeats=False, min_delta=4, keep_multiple_events=True):\n",
    "    \"\"\"\n",
    "    Detect neurological deterioration events based on NIHSS increases.\n",
    "    \n",
    "    Parameters:\n",
    "    - temp: DataFrame with NIHSS measurements\n",
    "    - require_min_repeats: If True, only consider NIHSS values confirmed by at least 2 consecutive measurements\n",
    "    - min_delta: Minimum increase in NIHSS score to be considered deterioration\n",
    "    - keep_multiple_events: If True, detect multiple deterioration events by resetting baseline after each event\n",
    "    \n",
    "    Returns:\n",
    "    - DataFrame with detected events\n",
    "    \"\"\"\n",
    "    temp = temp.copy()\n",
    "    temp['sample_date'] = pd.to_datetime(temp['sample_date'], format='%d.%m.%Y %H:%M')\n",
    "    temp['value'] = temp['value'].astype(float)\n",
    "    temp.sort_values('sample_date', inplace=True)\n",
    "    \n",
    "    # Initialize columns for tracking\n",
    "    temp['min_nihss'] = np.nan\n",
    "    temp['delta_to_min'] = np.nan\n",
    "    temp['end'] = False\n",
    "    \n",
    "    if not keep_multiple_events:\n",
    "        # Original behavior - just use expanding min and mark first event only\n",
    "        if require_min_repeats:\n",
    "            # For a given patient, compute minimum NIHSS confirmed by at least 2 consecutive measurements\n",
    "            temp['same_as_previous'] = (temp['value'].shift(1) == temp['value']).astype(int)\n",
    "            temp['score_with_min_1_repeat'] = temp['value']\n",
    "            temp.loc[temp['same_as_previous'] == 0, 'score_with_min_1_repeat'] = np.nan\n",
    "            temp['min_nihss'] = temp['score_with_min_1_repeat'].expanding().min()\n",
    "        else:\n",
    "            temp['min_nihss'] = temp['value'].expanding().min()\n",
    "            \n",
    "        temp['delta_to_min'] = temp['value'] - temp['min_nihss']\n",
    "        temp['end'] = temp['delta_to_min'] >= min_delta\n",
    "        \n",
    "        # Only retain first end event\n",
    "        temp['n_end'] = temp['end'].cumsum()\n",
    "        temp.loc[temp['n_end'] > 1, 'end'] = False\n",
    "        drop_cols = ['n_end']\n",
    "        \n",
    "    else:\n",
    "        # New behavior - reset minimum after each event\n",
    "        current_min = np.inf\n",
    "        last_event_idx = -1\n",
    "        \n",
    "        if require_min_repeats:\n",
    "            # Mark scores that are repeated at least once\n",
    "            temp['same_as_previous'] = (temp['value'].shift(1) == temp['value']).astype(int)\n",
    "            temp['valid_score'] = (temp['same_as_previous'] == 1) | (temp['same_as_previous'].shift(-1) == 1)\n",
    "        else:\n",
    "            temp['valid_score'] = True\n",
    "            \n",
    "        # Process rows sequentially to detect multiple events\n",
    "        for i, row in temp.iterrows():\n",
    "            if not pd.isna(row['value']):\n",
    "                if require_min_repeats and not row['valid_score']:\n",
    "                    # Skip this measurement as it's not confirmed\n",
    "                    temp.at[i, 'min_nihss'] = current_min\n",
    "                    continue\n",
    "                    \n",
    "                # Update minimum if this is a new minimum since last event\n",
    "                if row['value'] < current_min:\n",
    "                    current_min = row['value']\n",
    "                    \n",
    "                # Calculate delta and check for event\n",
    "                temp.at[i, 'min_nihss'] = current_min\n",
    "                temp.at[i, 'delta_to_min'] = row['value'] - current_min\n",
    "                \n",
    "                if temp.at[i, 'delta_to_min'] >= min_delta:\n",
    "                    # This is a deterioration event\n",
    "                    temp.at[i, 'end'] = True\n",
    "                    # Reset the minimum to this new value for subsequent measurements\n",
    "                    current_min = row['value']\n",
    "        \n",
    "        if require_min_repeats:\n",
    "            drop_cols = ['same_as_previous', 'valid_score']\n",
    "        else:\n",
    "            drop_cols = []\n",
    "    \n",
    "    # Drop temporary columns\n",
    "    if 'drop_cols' in locals() and len(drop_cols) > 0:\n",
    "        temp.drop(drop_cols, axis=1, inplace=True)\n",
    "        \n",
    "    return temp"
   ]
  },
  {
   "cell_type": "code",
   "execution_count": null,
   "id": "921cd2146109f96c",
   "metadata": {
    "ExecuteTime": {
     "end_time": "2024-06-04T19:38:47.607452Z",
     "start_time": "2024-06-04T19:38:47.603385Z"
    }
   },
   "outputs": [],
   "source": [
    "nihss_df.shape"
   ]
  },
  {
   "cell_type": "code",
   "execution_count": null,
   "id": "8fbcffc9",
   "metadata": {},
   "outputs": [],
   "source": [
    "temp = nihss_df[nihss_df['case_admission_id'] == '1011794_0030']\n",
    "temp = detect_end_events(temp, require_min_repeats=False, min_delta=4, keep_multiple_events=True)\n",
    "# temp['sample_date'] = pd.to_datetime(temp['sample_date'], format='%d.%m.%Y %H:%M')\n",
    "# temp['value'] = temp['value'].astype(float)\n",
    "# temp.sort_values('sample_date', inplace=True)\n",
    "\n",
    "\n",
    "# temp['min_nihss'] = temp['value'].expanding().min()\n",
    "# drop_cols = ['min_nihss', 'delta_to_min']\n",
    "# temp['delta_to_min'] = temp['value'] - temp['min_nihss']\n",
    "# temp['end'] = temp['delta_to_min'] >= min_delta\n",
    "\n",
    "# # only retain first end event\n",
    "# temp['n_end'] = temp['end'].cumsum()"
   ]
  },
  {
   "cell_type": "code",
   "execution_count": null,
   "id": "1a15a32815c5b896",
   "metadata": {
    "ExecuteTime": {
     "end_time": "2024-06-05T19:28:21.753445Z",
     "start_time": "2024-06-05T19:28:21.751251Z"
    }
   },
   "outputs": [],
   "source": [
    "min_delta = 4\n",
    "keep_multiple_events = True"
   ]
  },
  {
   "cell_type": "code",
   "execution_count": null,
   "id": "70e994758659256b",
   "metadata": {
    "ExecuteTime": {
     "end_time": "2024-06-04T19:39:01.099167Z",
     "start_time": "2024-06-04T19:38:48.310180Z"
    }
   },
   "outputs": [],
   "source": [
    "end_strict_df = nihss_df.groupby('case_admission_id').apply(detect_end_events, require_min_repeats=True, min_delta=min_delta, keep_multiple_events=keep_multiple_events)\n",
    "end_strict_df.reset_index(drop=True, inplace=True)\n",
    "\n",
    "end_strict_df[end_strict_df.end].case_admission_id.nunique()"
   ]
  },
  {
   "cell_type": "code",
   "execution_count": null,
   "id": "bd700b1b45e008da",
   "metadata": {
    "ExecuteTime": {
     "end_time": "2024-06-05T19:28:32.956914Z",
     "start_time": "2024-06-05T19:28:21.755716Z"
    }
   },
   "outputs": [],
   "source": [
    "require_min_repeats = False\n",
    "\n",
    "non_strict_end_nihss_df = nihss_df.groupby('case_admission_id').apply(detect_end_events, require_min_repeats=require_min_repeats, min_delta=min_delta, keep_multiple_events=keep_multiple_events)\n",
    "# undo groupby\n",
    "non_strict_end_nihss_df.reset_index(drop=True, inplace=True)"
   ]
  },
  {
   "cell_type": "code",
   "execution_count": null,
   "id": "61cfbdf071303483",
   "metadata": {
    "ExecuteTime": {
     "end_time": "2024-06-05T19:30:55.582593Z",
     "start_time": "2024-06-05T19:30:55.573830Z"
    }
   },
   "outputs": [],
   "source": [
    "non_strict_end_nihss_df[non_strict_end_nihss_df.end].case_admission_id.nunique()"
   ]
  },
  {
   "cell_type": "code",
   "execution_count": null,
   "id": "3290ebd4",
   "metadata": {},
   "outputs": [],
   "source": [
    "non_strict_end_nihss_df.end.sum()"
   ]
  },
  {
   "cell_type": "code",
   "execution_count": null,
   "id": "b887b8f7",
   "metadata": {},
   "outputs": [],
   "source": [
    "# number of of end events without duplicates\n",
    "non_strict_end_nihss_df[non_strict_end_nihss_df.end].sample_date.nunique()\n"
   ]
  },
  {
   "cell_type": "code",
   "execution_count": null,
   "id": "fc28fda3f5ac9f13",
   "metadata": {
    "ExecuteTime": {
     "end_time": "2024-06-05T19:34:51.432328Z",
     "start_time": "2024-06-05T19:34:51.427479Z"
    }
   },
   "outputs": [],
   "source": [
    "# non_strict_end_nihss_df = non_strict_end_nihss_df[non_strict_end_nihss_df.end]\n",
    "non_strict_end_nihss_df['relative_sample_date_hourly_cat'] = np.floor(non_strict_end_nihss_df['relative_sample_date'])"
   ]
  },
  {
   "cell_type": "code",
   "execution_count": null,
   "id": "760bb716df392cff",
   "metadata": {
    "ExecuteTime": {
     "end_time": "2024-06-05T19:34:52.654530Z",
     "start_time": "2024-06-05T19:34:52.630954Z"
    }
   },
   "outputs": [],
   "source": [
    "non_strict_end_nihss_df[non_strict_end_nihss_df.end]"
   ]
  },
  {
   "cell_type": "code",
   "execution_count": null,
   "id": "71fdcc6cd6fecf67",
   "metadata": {
    "ExecuteTime": {
     "end_time": "2024-06-05T19:35:49.719104Z",
     "start_time": "2024-06-05T19:35:49.413844Z"
    }
   },
   "outputs": [],
   "source": [
    "# histogram of relative sample date hourly cat\n",
    "sns.histplot(data=non_strict_end_nihss_df, x='relative_sample_date_hourly_cat', hue='end', multiple='stack', bins=desired_time_range)\n",
    "plt.show()"
   ]
  },
  {
   "cell_type": "code",
   "execution_count": null,
   "id": "c19642d7f81f5efa",
   "metadata": {
    "ExecuteTime": {
     "end_time": "2024-06-04T18:24:26.889439Z",
     "start_time": "2024-06-04T18:24:26.885005Z"
    }
   },
   "outputs": [],
   "source": [
    "def plot_end(nihss_df, cid):\n",
    "    temp = nihss_df[nihss_df['case_admission_id'] == cid]\n",
    "    temp['value'] = temp['value'].astype(float)\n",
    "    ax = sns.scatterplot(x='relative_sample_date', y='value', data=temp, hue='value', legend=False)\n",
    "    # tilt x label\n",
    "    plt.xticks(rotation=45)\n",
    "    \n",
    "    # plot red bar on end events\n",
    "    end_events = temp[temp['end']]\n",
    "    for i in range(end_events.shape[0]):\n",
    "        plt.axvline(end_events.iloc[i]['relative_sample_date'], color='red', linestyle='--', alpha=0.5)\n",
    "    \n",
    "    ax.set_xlim(0, 73)\n",
    "    \n",
    "    fig = ax.get_figure()\n",
    "    fig.suptitle(f'{cid}')\n",
    "    return fig\n",
    "    "
   ]
  },
  {
   "cell_type": "code",
   "execution_count": null,
   "id": "dbf66271",
   "metadata": {},
   "outputs": [],
   "source": [
    "nihss_df = nihss_df "
   ]
  },
  {
   "cell_type": "code",
   "execution_count": null,
   "id": "2c68ad4a7d73418e",
   "metadata": {
    "ExecuteTime": {
     "end_time": "2024-06-04T18:24:43.124260Z",
     "start_time": "2024-06-04T18:24:42.984664Z"
    }
   },
   "outputs": [],
   "source": [
    "# random cid of all case_admission_id\n",
    "# cid = nihss_df['case_admission_id'].sample(1).values[0]\n",
    "cid = '10338_5096'\n",
    "fig = plot_end(non_strict_end_nihss_df, cid)\n",
    "plt.show()"
   ]
  },
  {
   "cell_type": "code",
   "execution_count": null,
   "id": "a9e33ca2d075affb",
   "metadata": {
    "ExecuteTime": {
     "end_time": "2024-06-04T19:40:08.253990Z",
     "start_time": "2024-06-04T19:39:44.214034Z"
    }
   },
   "outputs": [],
   "source": [
    "# create pdf with all plots\n",
    "from matplotlib.backends.backend_pdf import PdfPages\n",
    "pdf_path = '/Users/jk1/temp/nihss_non_strict_multi_end_event_plots.pdf'\n",
    "with PdfPages(pdf_path) as pdf:\n",
    "    for cid in non_strict_end_nihss_df[non_strict_end_nihss_df.end]['case_admission_id'].unique():\n",
    "        fig = plot_end(non_strict_end_nihss_df, cid)\n",
    "        pdf.savefig(fig)\n",
    "        plt.close(fig)"
   ]
  },
  {
   "cell_type": "code",
   "execution_count": null,
   "id": "5948bcfbf471e087",
   "metadata": {
    "ExecuteTime": {
     "end_time": "2024-06-04T18:34:57.435371Z",
     "start_time": "2024-06-04T18:34:57.415814Z"
    }
   },
   "outputs": [],
   "source": [
    "nihss_df[nihss_df['case_admission_id'] == '400976_8257']"
   ]
  },
  {
   "cell_type": "code",
   "execution_count": null,
   "id": "fc5b9d7afe76c6b1",
   "metadata": {},
   "outputs": [],
   "source": []
  }
 ],
 "metadata": {
  "kernelspec": {
   "display_name": "opsum",
   "language": "python",
   "name": "python3"
  },
  "language_info": {
   "codemirror_mode": {
    "name": "ipython",
    "version": 3
   },
   "file_extension": ".py",
   "mimetype": "text/x-python",
   "name": "python",
   "nbconvert_exporter": "python",
   "pygments_lexer": "ipython3",
   "version": "3.8.11"
  }
 },
 "nbformat": 4,
 "nbformat_minor": 5
}
