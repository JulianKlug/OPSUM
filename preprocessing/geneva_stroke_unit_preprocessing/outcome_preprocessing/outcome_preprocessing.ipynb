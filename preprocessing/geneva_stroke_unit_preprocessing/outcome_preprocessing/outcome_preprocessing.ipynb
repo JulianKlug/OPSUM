{
 "cells": [
  {
   "cell_type": "code",
   "execution_count": null,
   "metadata": {},
   "outputs": [],
   "source": [
    "import seaborn as sns\n",
    "import pandas as pd\n",
    "import numpy as np\n",
    "import os\n",
    "import matplotlib.pyplot as plt"
   ]
  },
  {
   "cell_type": "code",
   "execution_count": null,
   "metadata": {},
   "outputs": [],
   "source": [
    "registry_path = '/Users/jk1/OneDrive - unige.ch/stroke_research/geneva_stroke_unit_dataset/data/stroke_registry/post_hoc_modified/stroke_registry_post_hoc_modified.xlsx'\n",
    "output_path = '/Users/jk1/temp/opsum_output'"
   ]
  },
  {
   "cell_type": "code",
   "execution_count": null,
   "metadata": {},
   "outputs": [],
   "source": [
    "patient_selection_path = '/Users/jk1/temp/opsum_extraction_output/high_frequency_data_patient_selection_with_details.csv'"
   ]
  },
  {
   "cell_type": "code",
   "execution_count": null,
   "metadata": {},
   "outputs": [],
   "source": [
    "patient_selection_df = pd.read_csv(patient_selection_path, dtype = str)"
   ]
  },
  {
   "cell_type": "code",
   "execution_count": null,
   "metadata": {},
   "outputs": [],
   "source": [
    "stroke_df = pd.read_excel(registry_path)\n"
   ]
  },
  {
   "cell_type": "code",
   "execution_count": null,
   "metadata": {},
   "outputs": [],
   "source": [
    "from preprocessing.utils import create_registry_case_identification_column\n",
    "\n",
    "patient_selection_df['case_admission_id'] = create_registry_case_identification_column(patient_selection_df)\n",
    "stroke_df['case_admission_id'] = create_registry_case_identification_column(stroke_df)\n"
   ]
  },
  {
   "cell_type": "code",
   "execution_count": null,
   "metadata": {},
   "outputs": [],
   "source": [
    "from preprocessing.patient_selection.restrict_to_patient_selection import restrict_to_patient_selection\n",
    "\n",
    "restricted_stroke_registry_df = restrict_to_patient_selection(stroke_df, patient_selection_path, restrict_to_event_period=False,\n",
    "                                                                  verbose=True)"
   ]
  },
  {
   "cell_type": "code",
   "execution_count": null,
   "metadata": {},
   "outputs": [],
   "source": [
    "patient_selection_df['case_id'] = patient_selection_df['patient_id'].astype(str) + patient_selection_df['EDS_last_4_digits'].astype(str)"
   ]
  },
  {
   "cell_type": "code",
   "execution_count": null,
   "metadata": {},
   "outputs": [],
   "source": [
    "# if death in hospital, set mRs to 6\n",
    "restricted_stroke_registry_df.loc[restricted_stroke_registry_df['Death in hospital'] == 'yes', '3M mRS'] = 6\n",
    "# if 3M Death and 3M mRS nan, set mrs to 6\n",
    "restricted_stroke_registry_df.loc[(restricted_stroke_registry_df['3M Death'] == 'yes') &\n",
    "                                    (restricted_stroke_registry_df['3M mRS'].isna()), '3M mRS'] = 6"
   ]
  },
  {
   "cell_type": "code",
   "execution_count": null,
   "metadata": {},
   "outputs": [],
   "source": [
    "restricted_stroke_registry_df['3M delta mRS'] = restricted_stroke_registry_df['3M mRS'] - restricted_stroke_registry_df[\n",
    "        'Prestroke disability (Rankin)']"
   ]
  },
  {
   "cell_type": "code",
   "execution_count": null,
   "metadata": {},
   "outputs": [],
   "source": [
    "# if death in hospital set 3M Death to yes\n",
    "restricted_stroke_registry_df.loc[restricted_stroke_registry_df['Death in hospital'] == 'yes', '3M Death'] = 'yes'\n",
    "# if 3M mRs == 6, set 3M Death to yes\n",
    "restricted_stroke_registry_df.loc[restricted_stroke_registry_df['3M mRS'] == 6, '3M Death'] = 'yes'\n",
    "# if 3M mRs not nan and not 6, set 3M Death to no\n",
    "restricted_stroke_registry_df.loc[(restricted_stroke_registry_df['3M mRS'] != 6) &\n",
    "                                  (~restricted_stroke_registry_df['3M mRS'].isna())\n",
    "                                &(restricted_stroke_registry_df['3M Death'].isna()), '3M Death'] = 'no'"
   ]
  },
  {
   "cell_type": "code",
   "execution_count": null,
   "metadata": {},
   "outputs": [],
   "source": [
    "restricted_stroke_registry_df.loc[restricted_stroke_registry_df['3M Death'] == 'yes', '3M Death'] = 1\n",
    "restricted_stroke_registry_df.loc[restricted_stroke_registry_df['3M Death'] == 'no', '3M Death'] = 0"
   ]
  },
  {
   "cell_type": "code",
   "execution_count": null,
   "metadata": {},
   "outputs": [],
   "source": [
    "restricted_stroke_registry_df['Death in hospital'].isnull().sum()"
   ]
  },
  {
   "cell_type": "code",
   "execution_count": null,
   "metadata": {},
   "outputs": [],
   "source": [
    "restricted_stroke_registry_df"
   ]
  },
  {
   "cell_type": "code",
   "execution_count": null,
   "metadata": {},
   "outputs": [],
   "source": [
    "outcome_columns = [\"Symptomatic ICH\",\n",
    "\"Symptomatic ICH date\",\n",
    "\"Recurrent stroke\",\n",
    "\"Recurrent stroke date\",\n",
    "\"Orolingual angioedema\",\n",
    "\"Death in hospital\",\n",
    "\"Death at hospital date\",\n",
    "\"Death at hospital time\",\n",
    "\"Death at hospital cause\",\n",
    "\"Epileptic seizure in hospital\",\n",
    "\"Epileptic seizure in hospital date\",\n",
    "\"Decompr. craniectomy\",\n",
    "\"Decompr. craniectomy date\",\n",
    "\"CEA\",\n",
    "\"CEA date\",\n",
    "\"CAS\",\n",
    "\"CAS date\",\n",
    "\"Other endovascular revascularization\",\n",
    "\"Other surgical revascularization\",\n",
    "\"Other surgical revascularization date\",\n",
    "\"Other surgical revascularization spec\",\n",
    "\"PFO closure\",\n",
    "\"PFO closure date\",\n",
    "\"Discharge destination\",\n",
    "\"Discharge date\",\n",
    "\"Discharge time\",\n",
    "\"Duration of hospital stay (days)\",\n",
    "\"3M date\",\n",
    "\"3M mode\",\n",
    "\"3M mRS\",\n",
    "\"3M NIHSS\",\"3M Stroke\",\n",
    "\"3M Stroke date\",\n",
    "\"3M ICH\", '3M ICH date', '3M Death', '3M Death date', '3M Death cause',\n",
    "       '3M Epileptic seizure', '3M Epileptic seizure date', '3M delta mRS']"
   ]
  },
  {
   "cell_type": "code",
   "execution_count": null,
   "metadata": {},
   "outputs": [],
   "source": [
    "treatment_columns = [\n",
    "    \"IVT with rtPA\",\n",
    "\"IVT start date\",\n",
    "\"IVT start time\",\n",
    "\"Total rtPA dose\",\n",
    "\"Onset to treatment (min.)\",\n",
    "\"Door to treatment (min.)\",\n",
    "\"IAT\",\n",
    "\"Date of groin puncture\",\n",
    "\"Time of groin puncture\",\n",
    "\"Onset to groin puncture (min.)\",\n",
    "\"Door to groin puncture (min.)\",\n",
    "\"IAT end date\",\n",
    "\"IAT end time\",\n",
    "\"Anesthesia\",\n",
    "\"IAT rtPA\",\n",
    "\"IAT rtPA dose\",\n",
    "\"IAT urokinase\",\n",
    "\"IAT urokinase dose\",\n",
    "\"IAT mech. treatment\",\n",
    "\"IAT stent retriever\",\n",
    "\"IAT aspiration\",\n",
    "\"IAT distal retriever\",\n",
    "\"IAT balloon\",\n",
    "\"IAT intracranial stent\",\n",
    "\"IAT extracranial stent\",\n",
    "\"IAT other mechanical\",\n",
    "]"
   ]
  },
  {
   "cell_type": "code",
   "execution_count": null,
   "metadata": {},
   "outputs": [],
   "source": [
    "imaging_columns = [\n",
    "    \"1st brain imaging type\",\n",
    "\"1st brain imaging date\",\n",
    "\"1st brain imaging time\",\n",
    "\"Door to image (min.)\",\n",
    "\"1st brain imaging result\",\n",
    "\"Acute perf. imaging type\",\n",
    "\"Acute perf. imaging result\",\n",
    "\"1st vascular imaging type\",\n",
    "\"1st vascular imaging result\",\n",
    "    \"FU brain imaging\",\n",
    "\"FU brain imaging result\",\n",
    "\"MCA\",\n",
    "\"ACA\",\n",
    "\"PCA\",\n",
    "\"Vertebro-basilar\",\n",
    "\"Ocular\",\n",
    "    \"Etiology TOAST\",\n",
    "\"Etiology TOAST other\",\n",
    "\"Etiology\",\n",
    "\"Etiology other\",\n",
    "]"
   ]
  },
  {
   "cell_type": "code",
   "execution_count": null,
   "metadata": {},
   "outputs": [],
   "source": [
    "outcome_df = selected_full_data_df[[\"case_admission_id\"]+ outcome_columns]"
   ]
  },
  {
   "cell_type": "code",
   "execution_count": null,
   "metadata": {},
   "outputs": [],
   "source": [
    "outcome_df['3M mRS'].describe()"
   ]
  },
  {
   "cell_type": "code",
   "execution_count": null,
   "metadata": {},
   "outputs": [],
   "source": [
    "outcome_df['3M mRS'].plot(kind='hist', title='3M mRS', bins=50)\n",
    "plt.show()"
   ]
  },
  {
   "cell_type": "code",
   "execution_count": null,
   "metadata": {},
   "outputs": [],
   "source": [
    "(outcome_df['3M mRS'] <= 1).value_counts()"
   ]
  },
  {
   "cell_type": "code",
   "execution_count": null,
   "metadata": {},
   "outputs": [],
   "source": [
    "outcome_df.loc[outcome_df['3M delta mRS']<0, '3M delta mRS'] = 0\n",
    "outcome_df['3M delta mRS'].describe()"
   ]
  },
  {
   "cell_type": "code",
   "execution_count": null,
   "metadata": {},
   "outputs": [],
   "source": [
    "outcome_df['3M delta mRS'].plot(kind='hist', title='3M delta mRS', bins=50)\n",
    "plt.show()"
   ]
  },
  {
   "cell_type": "code",
   "execution_count": null,
   "metadata": {},
   "outputs": [],
   "source": [
    "(outcome_df['3M delta mRS'] <= 1).value_counts()"
   ]
  },
  {
   "cell_type": "code",
   "execution_count": null,
   "metadata": {},
   "outputs": [],
   "source": [
    "outcome_df['3M NIHSS'].plot(kind='hist', title='3M NIHSS', bins=50)\n",
    "plt.show()"
   ]
  },
  {
   "cell_type": "code",
   "execution_count": null,
   "metadata": {},
   "outputs": [],
   "source": [
    "outcome_df['3M NIHSS'].describe()"
   ]
  },
  {
   "cell_type": "code",
   "execution_count": null,
   "metadata": {},
   "outputs": [],
   "source": [
    "outcome_df['3M Death'].value_counts()"
   ]
  },
  {
   "cell_type": "code",
   "execution_count": null,
   "metadata": {},
   "outputs": [],
   "source": [
    "outcome_df['3M Stroke'].value_counts()"
   ]
  },
  {
   "cell_type": "code",
   "execution_count": null,
   "metadata": {},
   "outputs": [],
   "source": [
    "outcome_df['3M Epileptic seizure'].value_counts()"
   ]
  },
  {
   "cell_type": "code",
   "execution_count": null,
   "metadata": {},
   "outputs": [],
   "source": [
    "outcome_df['3M ICH'].value_counts()"
   ]
  },
  {
   "cell_type": "code",
   "execution_count": null,
   "metadata": {},
   "outputs": [],
   "source": [
    "outcome_df['Symptomatic ICH'].value_counts()"
   ]
  },
  {
   "cell_type": "code",
   "execution_count": null,
   "metadata": {},
   "outputs": [],
   "source": [
    "outcome_df['Recurrent stroke'].value_counts()"
   ]
  },
  {
   "cell_type": "code",
   "execution_count": null,
   "metadata": {},
   "outputs": [],
   "source": [
    "outcome_df['Duration of hospital stay (days)'].describe()"
   ]
  },
  {
   "cell_type": "code",
   "execution_count": null,
   "metadata": {},
   "outputs": [],
   "source": [
    "outcome_df.loc[outcome_df['Duration of hospital stay (days)']>365, 'Duration of hospital stay (days)'] = np.nan\n",
    "outcome_df['Duration of hospital stay (days)'].plot.hist(bins=50)\n",
    "plt.show()"
   ]
  },
  {
   "cell_type": "markdown",
   "metadata": {
    "collapsed": false
   },
   "source": [
    "# Extracting early neurologic deterioriation\n",
    "Rise in in NIHSS of min 2 or 4 points in the first 72h"
   ]
  },
  {
   "cell_type": "code",
   "execution_count": null,
   "metadata": {},
   "outputs": [],
   "source": [
    "from preprocessing.scales_preprocessing.scales_preprocessing import preprocess_scales\n",
    "\n",
    "data_path = '/Users/jk1/stroke_datasets/stroke_unit_dataset/per_value/Extraction_20211110'\n",
    "scales_file_start = 'scale'\n",
    "scales_files = [pd.read_csv(os.path.join(data_path, f), delimiter=';', encoding='utf-8')\n",
    "                for f in os.listdir(data_path)\n",
    "                if f.startswith(scales_file_start)]\n",
    "scales_df = pd.concat(scales_files, ignore_index=True)\n",
    "\n",
    "scales_df = preprocess_scales(scales_df)\n",
    "scales_df.head()"
   ]
  },
  {
   "cell_type": "code",
   "execution_count": null,
   "metadata": {},
   "outputs": [],
   "source": [
    "scales_df['event_date'] = pd.to_datetime(scales_df['event_date'], format='%d.%m.%Y %H:%M')\n",
    "# find first sample date for each patient admission id\n",
    "first_sample_dates_df = scales_df.groupby('case_admission_id')['event_date'].min()\n",
    "scales_df_with_rel_dates_df = scales_df.join(first_sample_dates_df, on='case_admission_id',\n",
    "                                             rsuffix='_first').copy()\n",
    "scales_df_with_rel_dates_df['relative_sample_date'] = (pd.to_datetime(scales_df_with_rel_dates_df['event_date'],\n",
    "                                                                      format='%d.%m.%Y %H:%M') - pd.to_datetime(\n",
    "    scales_df_with_rel_dates_df['event_date_first'], format='%d.%m.%Y %H:%M')).dt.total_seconds() / (60 * 60)"
   ]
  },
  {
   "cell_type": "code",
   "execution_count": null,
   "metadata": {},
   "outputs": [],
   "source": [
    "NIHSS_scale_df = scales_df_with_rel_dates_df[scales_df_with_rel_dates_df['scale'] == 'NIHSS'].copy()"
   ]
  },
  {
   "cell_type": "code",
   "execution_count": null,
   "metadata": {},
   "outputs": [],
   "source": [
    "early_neurologic_deterioriation_df = selected_full_data_df[[\"case_admission_id\", 'NIH on admission']]"
   ]
  },
  {
   "cell_type": "code",
   "execution_count": null,
   "metadata": {},
   "outputs": [],
   "source": [
    "early_neurologic_deterioriation_df = early_neurologic_deterioriation_df.merge(NIHSS_scale_df, on='case_admission_id', how='left')"
   ]
  },
  {
   "cell_type": "code",
   "execution_count": null,
   "metadata": {},
   "outputs": [],
   "source": [
    "early_neurologic_deterioriation_df['delta_NIHSS'] =  early_neurologic_deterioriation_df['score'] - early_neurologic_deterioriation_df['NIH on admission']\n",
    "early_neurologic_deterioriation_df.head()"
   ]
  },
  {
   "cell_type": "code",
   "execution_count": null,
   "metadata": {},
   "outputs": [],
   "source": [
    "early_neurologic_deterioriation_df['early_neurologic_deterioration_delta2'] = ((early_neurologic_deterioriation_df['delta_NIHSS'] >= 2) & (early_neurologic_deterioriation_df['relative_sample_date'] < 72))"
   ]
  },
  {
   "cell_type": "code",
   "execution_count": null,
   "metadata": {},
   "outputs": [],
   "source": [
    "early_neurologic_deterioriation_df['early_neurologic_deterioration_delta4'] = ((early_neurologic_deterioriation_df['delta_NIHSS'] >= 4) & (early_neurologic_deterioriation_df['relative_sample_date'] < 72))"
   ]
  },
  {
   "cell_type": "code",
   "execution_count": null,
   "metadata": {},
   "outputs": [],
   "source": [
    "# count the number of case_admission_ids with early neurologic deterioration\n",
    "early_neurologic_deterioriation_df.groupby('case_admission_id').apply(lambda x: x['early_neurologic_deterioration_delta2'].any()).value_counts()"
   ]
  },
  {
   "cell_type": "code",
   "execution_count": null,
   "metadata": {},
   "outputs": [],
   "source": [
    "early_neurologic_deterioriation_df.groupby('case_admission_id').apply(lambda x: x['early_neurologic_deterioration_delta4'].any()).value_counts()"
   ]
  },
  {
   "cell_type": "code",
   "execution_count": null,
   "metadata": {},
   "outputs": [],
   "source": [
    "ax = sns.scatterplot(x='relative_sample_date', y='delta_NIHSS', hue='early_neurologic_deterioration_delta2',\n",
    "                     data=early_neurologic_deterioriation_df, alpha=0.1, legend=False)\n",
    "ax.set_xlim(0, 72)\n",
    "plt.show()"
   ]
  },
  {
   "cell_type": "code",
   "execution_count": null,
   "metadata": {},
   "outputs": [],
   "source": [
    "pa_id = np.random.choice(early_neurologic_deterioriation_df['case_admission_id'].unique())\n",
    "temp = early_neurologic_deterioriation_df[(early_neurologic_deterioriation_df['case_admission_id'] == pa_id)].copy()\n",
    "ax = sns.scatterplot(x='relative_sample_date', y='score', data=temp, hue='early_neurologic_deterioration_delta2', legend=True)\n",
    "ax.set_xlabel('Hours from admission')\n",
    "ax.set_ylabel('NIHSS')\n",
    "ax.set_title('Example of NIHSS progression for patient admission id: ' + str(pa_id))\n",
    "ax.tick_params(axis=\"x\", rotation=45)\n",
    "plt.legend(bbox_to_anchor=(1.02, 1), loc='upper left', borderaxespad=0)\n",
    "\n",
    "print('Admission NIHSS', early_neurologic_deterioriation_df[early_neurologic_deterioriation_df['case_admission_id'] == pa_id]['NIH on admission'].values[0])\n",
    "plt.show()"
   ]
  },
  {
   "cell_type": "markdown",
   "metadata": {
    "collapsed": false
   },
   "source": [
    "Remarks:\n",
    "- Early neurologic deterioration has to be clearly defined\n",
    "   - Persistent increase? Transient increase?\n"
   ]
  }
 ],
 "metadata": {
  "kernelspec": {
   "display_name": "Python 3",
   "language": "python",
   "name": "python3"
  },
  "language_info": {
   "codemirror_mode": {
    "name": "ipython",
    "version": 2
   },
   "file_extension": ".py",
   "mimetype": "text/x-python",
   "name": "python",
   "nbconvert_exporter": "python",
   "pygments_lexer": "ipython2",
   "version": "2.7.6"
  }
 },
 "nbformat": 4,
 "nbformat_minor": 0
}
