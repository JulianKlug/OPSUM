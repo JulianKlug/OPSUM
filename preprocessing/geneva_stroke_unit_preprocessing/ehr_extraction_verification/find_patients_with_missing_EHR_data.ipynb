{
 "cells": [
  {
   "cell_type": "code",
   "execution_count": null,
   "metadata": {},
   "outputs": [],
   "source": [
    "import pandas as pd\n",
    "import numpy as np\n",
    "import os\n",
    "from preprocessing.utils import create_ehr_case_identification_column, create_registry_case_identification_column\n",
    "from preprocessing.variable_assembly.variable_database_assembly import load_data_from_main_dir"
   ]
  },
  {
   "cell_type": "code",
   "execution_count": null,
   "metadata": {},
   "outputs": [],
   "source": [
    "raw_ehr_data_dir = '/Users/jk1/stroke_datasets/stroke_unit_dataset/per_value/Extraction_20221117'\n",
    "patient_selection_path = '/Users/jk1/temp/opsum_extraction_output/high_frequency_data_patient_selection_with_details.csv'\n",
    "out_dir = '/Users/jk1/temp/opsum_extraction_output/ehr_extraction_errors/Extraction_20221117'"
   ]
  },
  {
   "cell_type": "code",
   "execution_count": null,
   "metadata": {},
   "outputs": [],
   "source": [
    "patient_selection_df = pd.read_csv(patient_selection_path, dtype=str)\n",
    "patient_selection_df['case_admission_id'] = create_registry_case_identification_column(patient_selection_df)\n",
    "cids_in_selection = set(patient_selection_df['case_admission_id'].unique())\n",
    "patient_selection_df_initial_columns = patient_selection_df.columns"
   ]
  },
  {
   "cell_type": "code",
   "execution_count": null,
   "metadata": {},
   "outputs": [],
   "source": [
    "lab_file_start = 'labo'\n",
    "lab_df = load_data_from_main_dir(raw_ehr_data_dir, lab_file_start)\n",
    "lab_df['case_admission_id'] = create_ehr_case_identification_column(lab_df)\n",
    "lab_df = lab_df[lab_df['case_admission_id'].isin(cids_in_selection)]"
   ]
  },
  {
   "cell_type": "code",
   "execution_count": null,
   "metadata": {},
   "outputs": [],
   "source": [
    "scales_file_start = 'scale'\n",
    "scales_df = load_data_from_main_dir(raw_ehr_data_dir, scales_file_start)\n",
    "scales_df['case_admission_id'] = create_ehr_case_identification_column(scales_df)\n",
    "scales_df = scales_df[scales_df['case_admission_id'].isin(cids_in_selection)]\n",
    "scales_df.rename(columns={'event_date': 'sample_date'}, inplace=True)\n"
   ]
  },
  {
   "cell_type": "code",
   "execution_count": null,
   "metadata": {},
   "outputs": [],
   "source": [
    "ventilation_file_start = 'ventilation'\n",
    "ventilation_df = load_data_from_main_dir(raw_ehr_data_dir, ventilation_file_start)\n",
    "ventilation_df['case_admission_id'] = create_ehr_case_identification_column(ventilation_df)\n",
    "ventilation_df = ventilation_df[ventilation_df['case_admission_id'].isin(cids_in_selection)]\n",
    "ventilation_df.rename(columns={'datetime': 'sample_date'}, inplace=True)\n"
   ]
  },
  {
   "cell_type": "code",
   "execution_count": null,
   "metadata": {},
   "outputs": [],
   "source": [
    "vitals_file_start = 'patientvalue'\n",
    "vitals_df = load_data_from_main_dir(raw_ehr_data_dir, vitals_file_start)\n",
    "vitals_df['case_admission_id'] = create_ehr_case_identification_column(vitals_df)\n",
    "vitals_df = vitals_df[vitals_df['case_admission_id'].isin(cids_in_selection)]\n",
    "vitals_df.rename(columns={'datetime': 'sample_date'}, inplace=True)"
   ]
  },
  {
   "cell_type": "code",
   "execution_count": null,
   "metadata": {},
   "outputs": [],
   "source": [
    "vitals_df.head()"
   ]
  },
  {
   "cell_type": "code",
   "execution_count": null,
   "metadata": {},
   "outputs": [],
   "source": [
    "scales_df.head()"
   ]
  },
  {
   "cell_type": "code",
   "execution_count": null,
   "metadata": {},
   "outputs": [],
   "source": [
    "ehr_sample_dates = pd.concat([lab_df[['case_admission_id', 'sample_date']],\n",
    "                                scales_df[['case_admission_id', 'sample_date']],\n",
    "                                ventilation_df[['case_admission_id', 'sample_date']],\n",
    "                                vitals_df[['case_admission_id', 'sample_date']]])"
   ]
  },
  {
   "cell_type": "code",
   "execution_count": null,
   "metadata": {},
   "outputs": [],
   "source": [
    "ehr_sample_dates.head()"
   ]
  },
  {
   "cell_type": "code",
   "execution_count": null,
   "metadata": {},
   "outputs": [],
   "source": [
    "ehr_sample_dates['sample_date'] = pd.to_datetime(ehr_sample_dates['sample_date'], format='%d.%m.%Y %H:%M')"
   ]
  },
  {
   "cell_type": "code",
   "execution_count": null,
   "metadata": {},
   "outputs": [],
   "source": [
    "ehr_first_sample_date = ehr_sample_dates.groupby('case_admission_id').sample_date.min()\n",
    "ehr_first_sample_date = ehr_first_sample_date.reset_index(level=0)\n",
    "ehr_first_sample_date.columns = ['case_admission_id', 'ehr_first_sample_date']"
   ]
  },
  {
   "cell_type": "code",
   "execution_count": null,
   "metadata": {},
   "outputs": [],
   "source": [
    "ehr_last_sample_date = ehr_sample_dates.groupby('case_admission_id').sample_date.max()\n",
    "ehr_last_sample_date = ehr_last_sample_date.reset_index(level=0)\n",
    "ehr_last_sample_date.columns = ['case_admission_id', 'ehr_last_sample_date']"
   ]
  },
  {
   "cell_type": "code",
   "execution_count": null,
   "metadata": {},
   "outputs": [],
   "source": [
    "ehr_sample_date_range = pd.merge(ehr_first_sample_date, ehr_last_sample_date, on='case_admission_id')\n",
    "ehr_sample_date_range['ehr_sample_range'] = pd.to_datetime(ehr_sample_date_range['ehr_last_sample_date']) - pd.to_datetime(ehr_sample_date_range['ehr_first_sample_date'])"
   ]
  },
  {
   "cell_type": "code",
   "execution_count": null,
   "metadata": {},
   "outputs": [],
   "source": [
    "ehr_sample_date_range[ehr_sample_date_range['ehr_sample_range'] < pd.Timedelta('1 days 00:00:00')]"
   ]
  },
  {
   "cell_type": "code",
   "execution_count": null,
   "metadata": {},
   "outputs": [],
   "source": [
    "# set end of reference period to stroke onset or arrival at hospital, whichever is later\n",
    "patient_selection_df['delta_onset_arrival'] = (\n",
    "        pd.to_datetime(patient_selection_df['Stroke onset date'], format='%Y%m%d') - pd.to_datetime(\n",
    "    patient_selection_df['Arrival at hospital'], format='%Y%m%d')).dt.total_seconds()\n",
    "patient_selection_df['registry_sampling_start_upper_bound_reference'] = patient_selection_df \\\n",
    "        .apply(lambda x: x['Stroke onset date'] if x['delta_onset_arrival'] > 0 else x['Arrival at hospital'], axis=1)"
   ]
  },
  {
   "cell_type": "code",
   "execution_count": null,
   "metadata": {},
   "outputs": [],
   "source": [
    "patient_selection_df['registry_sampling_end'] = patient_selection_df['Discharge date'].fillna(patient_selection_df['Death at hospital date'])"
   ]
  },
  {
   "cell_type": "code",
   "execution_count": null,
   "metadata": {},
   "outputs": [],
   "source": [
    "patient_selection_df['registry_sample_range'] = pd.to_datetime(patient_selection_df['registry_sampling_end'], format='%Y%m%d') \\\n",
    "                                                - pd.to_datetime(patient_selection_df['registry_sampling_start_upper_bound_reference'], format='%Y%m%d')"
   ]
  },
  {
   "cell_type": "code",
   "execution_count": null,
   "metadata": {},
   "outputs": [],
   "source": [
    "patient_selection_df[['case_admission_id', 'registry_sample_range', 'registry_sampling_start_upper_bound_reference', 'registry_sampling_end']]"
   ]
  },
  {
   "cell_type": "code",
   "execution_count": null,
   "metadata": {},
   "outputs": [],
   "source": [
    "merged_data = pd.merge(ehr_sample_date_range, patient_selection_df[['case_admission_id', 'registry_sample_range', 'registry_sampling_start_upper_bound_reference', 'registry_sampling_end']], on='case_admission_id')\n",
    "merged_data.head()"
   ]
  },
  {
   "cell_type": "code",
   "execution_count": null,
   "metadata": {},
   "outputs": [],
   "source": [
    "merged_data['delta_sample_range'] = merged_data['registry_sample_range'] - merged_data['ehr_sample_range']\n",
    "merged_data.head()"
   ]
  },
  {
   "cell_type": "code",
   "execution_count": null,
   "metadata": {},
   "outputs": [],
   "source": [
    "# find cid with delta_sample_range over 1 day\n",
    "patients_with_missing_data = merged_data[(merged_data['delta_sample_range'] > pd.Timedelta('1 days')) & (merged_data['ehr_sample_range'] < pd.Timedelta('3 days'))]\n",
    "patients_with_missing_data"
   ]
  },
  {
   "cell_type": "code",
   "execution_count": null,
   "metadata": {},
   "outputs": [],
   "source": [
    "patients_with_missing_data[patients_with_missing_data.case_admission_id == '224339_5465']"
   ]
  },
  {
   "cell_type": "markdown",
   "metadata": {
    "collapsed": false
   },
   "source": [
    "Patients with probable wrong discharge date"
   ]
  },
  {
   "cell_type": "code",
   "execution_count": null,
   "metadata": {},
   "outputs": [],
   "source": [
    "merged_data[(~merged_data.case_admission_id.isin(patients_with_missing_data.case_admission_id) )\n",
    "            & (merged_data['registry_sample_range'] < pd.Timedelta('1 days'))\n",
    "            & (merged_data['ehr_sample_range'] >= pd.Timedelta('1 days'))]"
   ]
  },
  {
   "cell_type": "code",
   "execution_count": null,
   "metadata": {},
   "outputs": [],
   "source": [
    "patients_with_missing_data_with_info = pd.merge(patients_with_missing_data, patient_selection_df[patient_selection_df_initial_columns], on='case_admission_id')"
   ]
  },
  {
   "cell_type": "code",
   "execution_count": null,
   "metadata": {},
   "outputs": [],
   "source": [
    "patients_with_missing_data_with_info.head()"
   ]
  },
  {
   "cell_type": "code",
   "execution_count": null,
   "metadata": {},
   "outputs": [],
   "source": [
    "patients_with_missing_data_with_info.to_csv(os.path.join(out_dir, 'patients_with_some_missing_EHR_data_with_info.tsv'), index=False, sep='\\t')"
   ]
  },
  {
   "cell_type": "code",
   "execution_count": null,
   "metadata": {},
   "outputs": [],
   "source": []
  }
 ],
 "metadata": {
  "kernelspec": {
   "display_name": "Python 3",
   "language": "python",
   "name": "python3"
  },
  "language_info": {
   "codemirror_mode": {
    "name": "ipython",
    "version": 2
   },
   "file_extension": ".py",
   "mimetype": "text/x-python",
   "name": "python",
   "nbconvert_exporter": "python",
   "pygments_lexer": "ipython2",
   "version": "2.7.6"
  }
 },
 "nbformat": 4,
 "nbformat_minor": 0
}
