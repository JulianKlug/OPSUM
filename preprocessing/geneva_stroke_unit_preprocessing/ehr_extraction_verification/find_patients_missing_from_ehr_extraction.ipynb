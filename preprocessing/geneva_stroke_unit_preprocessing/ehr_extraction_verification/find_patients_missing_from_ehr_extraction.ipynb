{
 "cells": [
  {
   "cell_type": "code",
   "execution_count": null,
   "metadata": {},
   "outputs": [],
   "source": [
    "import pandas as pd\n",
    "import numpy as np\n",
    "import os\n",
    "from preprocessing.utils import create_ehr_case_identification_column, create_registry_case_identification_column\n",
    "from preprocessing.variable_assembly.variable_database_assembly import load_data_from_main_dir"
   ]
  },
  {
   "cell_type": "code",
   "execution_count": null,
   "metadata": {},
   "outputs": [],
   "source": [
    "raw_ehr_data_dir = '/Users/jk1/stroke_datasets/stroke_unit_dataset/per_value/Extraction_20221117'\n",
    "patient_selection_path = '/Users/jk1/temp/opsum_extraction_output/high_frequency_data_patient_selection_with_details.csv'\n",
    "out_dir = '/Users/jk1/temp/opsum_extraction_output/ehr_extraction_errors/Extraction_20221117'"
   ]
  },
  {
   "cell_type": "code",
   "execution_count": null,
   "metadata": {},
   "outputs": [],
   "source": [
    "lab_file_start = 'labo'\n",
    "lab_df = load_data_from_main_dir(raw_ehr_data_dir, lab_file_start)\n",
    "lab_df['eds_end_4digit'] = lab_df['eds_end_4digit'].str.zfill(4)\n",
    "lab_df['case_admission_id'] = create_ehr_case_identification_column(lab_df)\n"
   ]
  },
  {
   "cell_type": "code",
   "execution_count": null,
   "metadata": {},
   "outputs": [],
   "source": [
    "scales_file_start = 'scale'\n",
    "scales_df = load_data_from_main_dir(raw_ehr_data_dir, scales_file_start)\n",
    "scales_df['eds_end_4digit'] = scales_df['eds_end_4digit'].str.zfill(4)\n",
    "scales_df['case_admission_id'] = create_ehr_case_identification_column(scales_df)\n"
   ]
  },
  {
   "cell_type": "code",
   "execution_count": null,
   "metadata": {},
   "outputs": [],
   "source": [
    "ventilation_file_start = 'ventilation'\n",
    "ventilation_df = load_data_from_main_dir(raw_ehr_data_dir, ventilation_file_start)\n",
    "ventilation_df['eds_end_4digit'] = ventilation_df['eds_end_4digit'].str.zfill(4)\n",
    "ventilation_df['case_admission_id'] = create_ehr_case_identification_column(ventilation_df)\n"
   ]
  },
  {
   "cell_type": "code",
   "execution_count": null,
   "metadata": {},
   "outputs": [],
   "source": [
    "vitals_file_start = 'patientvalue'\n",
    "vitals_df = load_data_from_main_dir(raw_ehr_data_dir, vitals_file_start)\n",
    "vitals_df['eds_end_4digit'] = vitals_df['eds_end_4digit'].str.zfill(4)\n",
    "vitals_df['case_admission_id'] = create_ehr_case_identification_column(vitals_df)"
   ]
  },
  {
   "cell_type": "code",
   "execution_count": null,
   "metadata": {},
   "outputs": [],
   "source": [
    "vitals_df.head(1000)"
   ]
  },
  {
   "cell_type": "code",
   "execution_count": null,
   "metadata": {},
   "outputs": [],
   "source": [
    "pid = '97063889'\n",
    "vitals_df[vitals_df['patient_id'] == pid].head()"
   ]
  },
  {
   "cell_type": "code",
   "execution_count": null,
   "metadata": {},
   "outputs": [],
   "source": [
    "cid_from_ehr = pd.concat([vitals_df['case_admission_id'], lab_df['case_admission_id'], scales_df['case_admission_id'], ventilation_df['case_admission_id']]).unique()\n",
    "cid_from_ehr"
   ]
  },
  {
   "cell_type": "code",
   "execution_count": null,
   "metadata": {},
   "outputs": [],
   "source": [
    "patient_selection_df = pd.read_csv(patient_selection_path, dtype=str)\n",
    "patient_selection_df['case_admission_id'] = create_registry_case_identification_column(patient_selection_df)\n",
    "cids_in_selection = set(patient_selection_df['case_admission_id'].unique())"
   ]
  },
  {
   "cell_type": "code",
   "execution_count": null,
   "metadata": {},
   "outputs": [],
   "source": [
    "# find cids in selection but not in ehr\n",
    "missing_cids = set(cids_in_selection).difference(set(cid_from_ehr))"
   ]
  },
  {
   "cell_type": "code",
   "execution_count": null,
   "metadata": {},
   "outputs": [],
   "source": [
    "missing_patients_info = patient_selection_df[patient_selection_df['case_admission_id'].isin(missing_cids)]\n",
    "missing_patients_info"
   ]
  },
  {
   "cell_type": "code",
   "execution_count": null,
   "metadata": {},
   "outputs": [],
   "source": [
    "dt_format = '%Y%m%d'\n",
    "missing_patients_info['delta_stroke_to_admission_days'] = pd.to_datetime(missing_patients_info['Stroke onset date'], format=dt_format) - pd.to_datetime(missing_patients_info['Arrival at hospital'], format=dt_format)"
   ]
  },
  {
   "cell_type": "code",
   "execution_count": null,
   "metadata": {},
   "outputs": [],
   "source": [
    "missing_patients_info.to_csv(os.path.join(out_dir, 'patients_missing_in_EHR_extraction.tsv'), index=False, sep='\\t')"
   ]
  },
  {
   "cell_type": "code",
   "execution_count": null,
   "metadata": {},
   "outputs": [],
   "source": []
  }
 ],
 "metadata": {
  "kernelspec": {
   "display_name": "Python 3",
   "language": "python",
   "name": "python3"
  },
  "language_info": {
   "codemirror_mode": {
    "name": "ipython",
    "version": 2
   },
   "file_extension": ".py",
   "mimetype": "text/x-python",
   "name": "python",
   "nbconvert_exporter": "python",
   "pygments_lexer": "ipython2",
   "version": "2.7.6"
  }
 },
 "nbformat": 4,
 "nbformat_minor": 0
}
