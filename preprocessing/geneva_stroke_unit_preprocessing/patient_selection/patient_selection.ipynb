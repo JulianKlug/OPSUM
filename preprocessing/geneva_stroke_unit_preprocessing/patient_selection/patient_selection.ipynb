{
 "cells": [
  {
   "cell_type": "markdown",
   "metadata": {
    "collapsed": false
   },
   "source": [
    "# Select patients from stroke registry data\n",
    "- Inclusion criteria: > 18y, ischemic stroke, inpatient/non-transferred, not refusing to participate\n",
    "- Exclusion criteria: < 12h, hospitalisation > 7d after stroke onset\n",
    "    - Optional exclusion criteria: international transfer (from France), intra-hospital stroke"
   ]
  },
  {
   "cell_type": "code",
   "execution_count": null,
   "metadata": {
    "ExecuteTime": {
     "end_time": "2023-08-15T18:47:02.504046Z",
     "start_time": "2023-08-15T18:47:00.520973Z"
    }
   },
   "outputs": [],
   "source": [
    "import pandas as pd\n",
    "import numpy as np\n",
    "import os\n",
    "from preprocessing.geneva_stroke_unit_preprocessing.utils import create_registry_case_identification_column, \\\n",
    "    create_ehr_case_identification_column"
   ]
  },
  {
   "cell_type": "code",
   "execution_count": null,
   "metadata": {
    "ExecuteTime": {
     "end_time": "2023-08-15T18:47:02.508320Z",
     "start_time": "2023-08-15T18:47:02.504323Z"
    }
   },
   "outputs": [],
   "source": [
    "stroke_registry_data_path = '/Users/jk1/OneDrive - unige.ch/stroke_research/geneva_stroke_unit_dataset/data/stroke_registry/post_hoc_modified/stroke_registry_post_hoc_modified.xlsx'"
   ]
  },
  {
   "cell_type": "code",
   "execution_count": null,
   "metadata": {
    "ExecuteTime": {
     "end_time": "2023-08-15T18:47:02.517870Z",
     "start_time": "2023-08-15T18:47:02.509313Z"
    }
   },
   "outputs": [],
   "source": [
    "manual_eds_completion_folder = '/Users/jk1/OneDrive - unige.ch/stroke_research/geneva_stroke_unit_dataset/data/stroke_registry/manuel_eds_completion'"
   ]
  },
  {
   "cell_type": "code",
   "execution_count": null,
   "metadata": {
    "ExecuteTime": {
     "end_time": "2023-08-15T18:47:02.518280Z",
     "start_time": "2023-08-15T18:47:02.512881Z"
    }
   },
   "outputs": [],
   "source": [
    "# general consent is present for the extraction of 20221117\n",
    "general_consent_eds_path = '/Users/jk1/stroke_datasets/stroke_unit_dataset/per_value/Extraction_20221117/eds_j1.csv'"
   ]
  },
  {
   "cell_type": "code",
   "execution_count": null,
   "metadata": {
    "ExecuteTime": {
     "end_time": "2023-08-15T18:47:02.525290Z",
     "start_time": "2023-08-15T18:47:02.519249Z"
    }
   },
   "outputs": [],
   "source": [
    "output_path = '/Users/jk1/temp/opsum_extraction_output'"
   ]
  },
  {
   "cell_type": "code",
   "execution_count": null,
   "metadata": {
    "ExecuteTime": {
     "end_time": "2023-08-15T18:47:25.218249Z",
     "start_time": "2023-08-15T18:47:02.524720Z"
    }
   },
   "outputs": [],
   "source": [
    "all_data_df = pd.read_excel(stroke_registry_data_path)"
   ]
  },
  {
   "cell_type": "code",
   "execution_count": null,
   "metadata": {
    "ExecuteTime": {
     "end_time": "2023-08-15T18:47:25.285284Z",
     "start_time": "2023-08-15T18:47:25.200457Z"
    }
   },
   "outputs": [],
   "source": [
    "all_data_df['patient_id'] = all_data_df['Case ID'].apply(lambda x: x[8:-4]).astype(str)\n",
    "all_data_df['EDS_last_4_digits'] = all_data_df['Case ID'].apply(lambda x: x[-4:]).astype(str)\n",
    "all_data_df['case_admission_id'] = create_registry_case_identification_column(all_data_df)"
   ]
  },
  {
   "cell_type": "code",
   "execution_count": null,
   "metadata": {
    "ExecuteTime": {
     "end_time": "2023-08-15T18:47:25.288650Z",
     "start_time": "2023-08-15T18:47:25.249656Z"
    }
   },
   "outputs": [],
   "source": [
    "n_duplicates = len(all_data_df[all_data_df['Type of event'] == 'duplicate']['case_admission_id'].unique())\n",
    "n_records_screened = len(all_data_df['case_admission_id'].unique()) - n_duplicates\n",
    "\n",
    "all_data_df = all_data_df[all_data_df['Type of event'] != 'duplicate']\n",
    "\n",
    "print('Number of records screened: ', n_records_screened, 'after removing duplicates: ', n_duplicates)"
   ]
  },
  {
   "cell_type": "markdown",
   "metadata": {
    "collapsed": false
   },
   "source": [
    "### Exclude patients refusing participation in research"
   ]
  },
  {
   "cell_type": "code",
   "execution_count": null,
   "metadata": {
    "ExecuteTime": {
     "end_time": "2023-08-15T18:49:49.853409Z",
     "start_time": "2023-08-15T18:49:49.715551Z"
    }
   },
   "outputs": [],
   "source": [
    "general_consent_eds_df = pd.read_csv(general_consent_eds_path, delimiter=';', encoding='utf-8', dtype=str)\n",
    "general_consent_eds_df['case_admission_id'] = create_ehr_case_identification_column(general_consent_eds_df)"
   ]
  },
  {
   "cell_type": "code",
   "execution_count": null,
   "metadata": {
    "ExecuteTime": {
     "end_time": "2023-08-15T18:49:50.675172Z",
     "start_time": "2023-08-15T18:49:50.573396Z"
    }
   },
   "outputs": [],
   "source": [
    "consent_df = all_data_df[['case_admission_id', 'Patient refuses use of data for research']]\\\n",
    "    .merge(general_consent_eds_df[['case_admission_id', 'patient_id_gc']], on='case_admission_id', how='left')"
   ]
  },
  {
   "cell_type": "code",
   "execution_count": null,
   "metadata": {
    "ExecuteTime": {
     "end_time": "2023-08-15T18:49:51.251849Z",
     "start_time": "2023-08-15T18:49:51.139460Z"
    }
   },
   "outputs": [],
   "source": [
    "consent_df.patient_id_gc.unique(), consent_df['Patient refuses use of data for research'].unique()"
   ]
  },
  {
   "cell_type": "code",
   "execution_count": null,
   "metadata": {
    "ExecuteTime": {
     "end_time": "2023-08-15T18:49:51.645337Z",
     "start_time": "2023-08-15T18:49:51.553332Z"
    }
   },
   "outputs": [],
   "source": [
    "patients_refusing_use_of_data = consent_df[(consent_df.patient_id_gc == 'Non') | ((consent_df['Patient refuses use of data for research'] == 'yes') & (consent_df.patient_id_gc != 'Oui'))].case_admission_id.unique()"
   ]
  },
  {
   "cell_type": "code",
   "execution_count": null,
   "metadata": {
    "ExecuteTime": {
     "end_time": "2023-08-15T18:49:52.332600Z",
     "start_time": "2023-08-15T18:49:52.195869Z"
    }
   },
   "outputs": [],
   "source": [
    "# Remove patients not wanting to participate in research\n",
    "n_patient_refuses_research = len(patients_refusing_use_of_data)\n",
    "print(f'{n_patient_refuses_research} patients refuse the use of their data')\n",
    "full_data_df = all_data_df[~all_data_df.case_admission_id.isin(patients_refusing_use_of_data)]"
   ]
  },
  {
   "cell_type": "markdown",
   "metadata": {
    "collapsed": false
   },
   "source": [
    "### Include only ischemic stroke patients"
   ]
  },
  {
   "cell_type": "code",
   "execution_count": null,
   "metadata": {
    "ExecuteTime": {
     "end_time": "2023-08-15T18:49:53.621294Z",
     "start_time": "2023-08-15T18:49:53.494864Z"
    }
   },
   "outputs": [],
   "source": [
    "full_data_df['Type of event'].value_counts()"
   ]
  },
  {
   "cell_type": "code",
   "execution_count": null,
   "metadata": {
    "ExecuteTime": {
     "end_time": "2023-08-15T18:49:54.240368Z",
     "start_time": "2023-08-15T18:49:54.077807Z"
    }
   },
   "outputs": [],
   "source": [
    "# all_data_df['Type of event'].value_counts().to_excel(os.path.join(output_path, 'type_of_event.xlsx'))"
   ]
  },
  {
   "cell_type": "code",
   "execution_count": null,
   "metadata": {
    "ExecuteTime": {
     "end_time": "2023-08-15T18:49:54.953783Z",
     "start_time": "2023-08-15T18:49:54.869033Z"
    }
   },
   "outputs": [],
   "source": [
    "# select only ischemic stroke patients\n",
    "all_stroke_df = full_data_df[full_data_df['Type of event'] == 'Ischemic stroke']"
   ]
  },
  {
   "cell_type": "code",
   "execution_count": null,
   "metadata": {
    "ExecuteTime": {
     "end_time": "2023-08-15T18:49:55.423093Z",
     "start_time": "2023-08-15T18:49:55.247686Z"
    }
   },
   "outputs": [],
   "source": [
    "n_patients_not_ischemic_stroke = len(full_data_df['case_admission_id'].unique()) - len(all_stroke_df['case_admission_id'].unique())\n",
    "print('Number of patients excluded because not ischemic stroke: ', n_patients_not_ischemic_stroke)"
   ]
  },
  {
   "cell_type": "markdown",
   "metadata": {
    "collapsed": false
   },
   "source": [
    "### Exclude patients not hospitalised in our center or discharged"
   ]
  },
  {
   "cell_type": "code",
   "execution_count": null,
   "metadata": {
    "ExecuteTime": {
     "end_time": "2023-08-15T18:49:56.130584Z",
     "start_time": "2023-08-15T18:49:56.032975Z"
    }
   },
   "outputs": [],
   "source": [
    "all_stroke_df['Initial hospitalization'].value_counts()"
   ]
  },
  {
   "cell_type": "code",
   "execution_count": null,
   "metadata": {
    "ExecuteTime": {
     "end_time": "2023-08-15T18:49:56.827575Z",
     "start_time": "2023-08-15T18:49:56.752429Z"
    }
   },
   "outputs": [],
   "source": [
    "# all_data_df['Initial hospitalization'].value_counts().to_excel(os.path.join(output_path, 'initial_hospitalization.xlsx'))"
   ]
  },
  {
   "cell_type": "code",
   "execution_count": null,
   "metadata": {
    "ExecuteTime": {
     "end_time": "2023-08-15T18:49:57.598216Z",
     "start_time": "2023-08-15T18:49:57.487588Z"
    }
   },
   "outputs": [],
   "source": [
    "# exclude patients that were immediately discharged or referred to other center\n",
    "stroke_df = all_stroke_df[all_stroke_df['Initial hospitalization'] != 'Outpatient management']\n",
    "stroke_df = stroke_df[stroke_df['Initial hospitalization'] != 'Referral to other Stroke Unit or Stroke Center']\n",
    "stroke_df = stroke_df[stroke_df['Initial hospitalization'] != 'Referral to other hospital or care institution']"
   ]
  },
  {
   "cell_type": "code",
   "execution_count": null,
   "metadata": {
    "ExecuteTime": {
     "end_time": "2023-08-15T18:49:58.103069Z",
     "start_time": "2023-08-15T18:49:57.906136Z"
    }
   },
   "outputs": [],
   "source": [
    "n_not_hospitalised_in_house = len(all_stroke_df['case_admission_id'].unique()) - len(stroke_df['case_admission_id'].unique())\n",
    "print('Number of patients excluded because discharged or referred to other center: ', n_not_hospitalised_in_house)"
   ]
  },
  {
   "cell_type": "markdown",
   "metadata": {
    "collapsed": false
   },
   "source": [
    "### Exclude patients with less than 12h of hospitalization"
   ]
  },
  {
   "cell_type": "code",
   "execution_count": null,
   "metadata": {
    "ExecuteTime": {
     "end_time": "2023-08-15T18:50:00.617254Z",
     "start_time": "2023-08-15T18:49:59.314006Z"
    }
   },
   "outputs": [],
   "source": [
    "# set end of reference period to stroke onset or arrival at hospital, whichever is later\n",
    "# this takes into account potential in-hospital stroke events\n",
    "\n",
    "datatime_format = '%d.%m.%Y %H:%M'\n",
    "stroke_df['arrival_dt'] = pd.to_datetime(stroke_df['Arrival at hospital'],\n",
    "                                                  format='%Y%m%d').dt.strftime('%d.%m.%Y') + ' ' + \\\n",
    "                                   pd.to_datetime(stroke_df['Arrival time'], format='%H:%M',\n",
    "                                                  infer_datetime_format=True).dt.strftime('%H:%M')\n",
    "\n",
    "stroke_df['stroke_dt'] = pd.to_datetime(stroke_df['Onset date'],\n",
    "                                                 format='%Y%m%d').dt.strftime('%d.%m.%Y') + ' ' + \\\n",
    "                                    pd.to_datetime(stroke_df['Onset time'], format='%H:%M',\n",
    "                                                   infer_datetime_format=True).dt.strftime('%H:%M')\n",
    "\n",
    "stroke_df['delta_onset_arrival'] = (\n",
    "        pd.to_datetime(stroke_df['stroke_dt'], format=datatime_format, errors='coerce')\n",
    "        - pd.to_datetime(stroke_df['arrival_dt'], format=datatime_format, errors='coerce')\n",
    ").dt.total_seconds()\n",
    "stroke_df['registry_sampling_start_upper_bound_reference'] = stroke_df \\\n",
    "    .apply(lambda x: x['stroke_dt'] if x['delta_onset_arrival'] > 0 else x['arrival_dt'],\n",
    "           axis=1)\n"
   ]
  },
  {
   "cell_type": "code",
   "execution_count": null,
   "metadata": {
    "ExecuteTime": {
     "end_time": "2023-08-15T18:50:00.818494Z",
     "start_time": "2023-08-15T18:50:00.543274Z"
    }
   },
   "outputs": [],
   "source": [
    "stroke_df['discharge_dt'] = pd.to_datetime(stroke_df['Discharge date'],\n",
    "                                                  format='%Y%m%d').dt.strftime('%d.%m.%Y') + ' ' + \\\n",
    "                                   pd.to_datetime(stroke_df['Discharge time'], format='%H:%M',\n",
    "                                                  infer_datetime_format=True).dt.strftime('%H:%M')\n",
    "\n",
    "stroke_df['death_dt'] = pd.to_datetime(stroke_df['Death at hospital date'],\n",
    "                                                  format='%Y%m%d').dt.strftime('%d.%m.%Y') + ' ' + \\\n",
    "                                   pd.to_datetime(stroke_df['Death at hospital time'], format='%H:%M',\n",
    "                                                  infer_datetime_format=True).dt.strftime('%H:%M')\n",
    "\n",
    "stroke_df['registry_sampling_end'] = stroke_df['discharge_dt'].fillna(stroke_df['death_dt'])\n"
   ]
  },
  {
   "cell_type": "code",
   "execution_count": null,
   "metadata": {
    "ExecuteTime": {
     "end_time": "2023-08-15T18:50:00.978760Z",
     "start_time": "2023-08-15T18:50:00.884759Z"
    }
   },
   "outputs": [],
   "source": [
    "stroke_df['registry_sample_range'] = pd.to_datetime(stroke_df['registry_sampling_end'], format=datatime_format) \\\n",
    "                                                - pd.to_datetime(stroke_df['registry_sampling_start_upper_bound_reference'], format=datatime_format)"
   ]
  },
  {
   "cell_type": "code",
   "execution_count": null,
   "metadata": {
    "ExecuteTime": {
     "end_time": "2023-08-15T18:50:01.176085Z",
     "start_time": "2023-08-15T18:50:00.966745Z"
    }
   },
   "outputs": [],
   "source": [
    "cid_with_hospitalization_duration_less_than_12h = stroke_df[stroke_df['registry_sample_range'] < pd.Timedelta('12h')]['case_admission_id'].unique()"
   ]
  },
  {
   "cell_type": "code",
   "execution_count": null,
   "metadata": {
    "ExecuteTime": {
     "end_time": "2023-08-15T18:50:01.800771Z",
     "start_time": "2023-08-15T18:50:01.686693Z"
    }
   },
   "outputs": [],
   "source": [
    "n_with_hospitalization_duration_less_than_12h = len(cid_with_hospitalization_duration_less_than_12h)\n",
    "print('Number of patients excluded because hospitalization duration less than 12h: ', len(cid_with_hospitalization_duration_less_than_12h))\n",
    "print('NB: more patients will be excluded programmatically if total span of data is less than 12h')"
   ]
  },
  {
   "cell_type": "code",
   "execution_count": null,
   "metadata": {
    "ExecuteTime": {
     "end_time": "2023-08-15T18:50:02.685490Z",
     "start_time": "2023-08-15T18:50:02.512196Z"
    }
   },
   "outputs": [],
   "source": [
    "# exclude patients with less than 12h of hospitalization\n",
    "stroke_df = stroke_df[~stroke_df['case_admission_id'].isin(cid_with_hospitalization_duration_less_than_12h)]"
   ]
  },
  {
   "cell_type": "markdown",
   "metadata": {
    "collapsed": false
   },
   "source": [
    "### Exclude non acute stroke (hospitalisation > 7 days after stroke onset)"
   ]
  },
  {
   "cell_type": "code",
   "execution_count": null,
   "metadata": {
    "ExecuteTime": {
     "end_time": "2023-08-15T18:50:03.835520Z",
     "start_time": "2023-08-15T18:50:03.671357Z"
    }
   },
   "outputs": [],
   "source": [
    "cid_with_non_acute_stroke = stroke_df[stroke_df['delta_onset_arrival'] < -7 * 24 * 60 * 60]['case_admission_id'].unique()\n",
    "n_with_non_acute_stroke = len(cid_with_non_acute_stroke)\n",
    "print('Number of patients excluded because non acute stroke: ', n_with_non_acute_stroke)"
   ]
  },
  {
   "cell_type": "code",
   "execution_count": null,
   "metadata": {
    "ExecuteTime": {
     "end_time": "2023-08-15T18:50:04.321334Z",
     "start_time": "2023-08-15T18:50:04.117577Z"
    }
   },
   "outputs": [],
   "source": [
    "stroke_df = stroke_df[~stroke_df['case_admission_id'].isin(cid_with_non_acute_stroke)]"
   ]
  },
  {
   "cell_type": "markdown",
   "metadata": {
    "collapsed": false
   },
   "source": [
    "### Optional exclusion criteria"
   ]
  },
  {
   "cell_type": "code",
   "execution_count": null,
   "metadata": {
    "ExecuteTime": {
     "end_time": "2023-08-15T18:50:04.995084Z",
     "start_time": "2023-08-15T18:50:04.856796Z"
    }
   },
   "outputs": [],
   "source": [
    "exclude_transfers_from_france = True\n",
    "exclude_intra_hospital_stroke = True\n",
    "exclude_patients_under_18 = True"
   ]
  },
  {
   "cell_type": "code",
   "execution_count": null,
   "metadata": {
    "ExecuteTime": {
     "end_time": "2023-08-15T18:50:05.580944Z",
     "start_time": "2023-08-15T18:50:05.463573Z"
    }
   },
   "outputs": [],
   "source": [
    "n_patients_transferred_from_france = 0\n",
    "if exclude_transfers_from_france:\n",
    "    # find cids from transfers from France (where Non-Swiss == yes & referral == other hospital)\n",
    "    cids_transfers_from_france = stroke_df[(stroke_df['Referral'] == 'Other hospital') & (stroke_df['Non-Swiss'] == 'yes')]['case_admission_id'].values\n",
    "    n_patients_transferred_from_france = len(cids_transfers_from_france)\n",
    "    print('Number of patients excluded because transfers from France: ', n_patients_transferred_from_france)\n",
    "    stroke_df = stroke_df[~stroke_df['case_admission_id'].isin(cids_transfers_from_france)]"
   ]
  },
  {
   "cell_type": "code",
   "execution_count": null,
   "metadata": {
    "ExecuteTime": {
     "end_time": "2023-08-15T18:50:06.275073Z",
     "start_time": "2023-08-15T18:50:06.176455Z"
    }
   },
   "outputs": [],
   "source": [
    "n_patients_with_intra_hospital_stroke = 0\n",
    "if exclude_intra_hospital_stroke:\n",
    "    # find cids with intra-hospital stroke\n",
    "    cids_intra_hospital_stroke = stroke_df[stroke_df['Referral'] == 'In-hospital event']['case_admission_id'].unique()\n",
    "    n_patients_with_intra_hospital_stroke = len(cids_intra_hospital_stroke)\n",
    "    print('Number of patients excluded because intra-hospital stroke: ', n_patients_with_intra_hospital_stroke)\n",
    "    stroke_df = stroke_df[~stroke_df['case_admission_id'].isin(cids_intra_hospital_stroke)]"
   ]
  },
  {
   "cell_type": "code",
   "execution_count": null,
   "metadata": {
    "ExecuteTime": {
     "end_time": "2023-08-15T18:50:07.538654Z",
     "start_time": "2023-08-15T18:50:07.406937Z"
    }
   },
   "outputs": [],
   "source": [
    "stroke_df"
   ]
  },
  {
   "cell_type": "code",
   "execution_count": null,
   "metadata": {
    "ExecuteTime": {
     "end_time": "2023-08-15T18:50:10.705400Z",
     "start_time": "2023-08-15T18:50:10.675174Z"
    }
   },
   "outputs": [],
   "source": [
    "n_patients_under_18 = 0\n",
    "if exclude_patients_under_18:\n",
    "    # find cids with patients under 18 (exclude patients with age < 1 as this represents wrong DOB)\n",
    "    cids_under_18 = stroke_df[(stroke_df['Age (calc.)'] < 18) & (stroke_df['Age (calc.)'] > 1)]['case_admission_id'].unique()\n",
    "    n_patients_under_18 = len(cids_under_18)\n",
    "    print('Number of patients excluded because under 18: ', n_patients_under_18)\n",
    "    stroke_df = stroke_df[~stroke_df['case_admission_id'].isin(cids_under_18)]"
   ]
  },
  {
   "cell_type": "markdown",
   "metadata": {
    "collapsed": false
   },
   "source": [
    "### End of exclusion criteria"
   ]
  },
  {
   "cell_type": "code",
   "execution_count": null,
   "metadata": {
    "ExecuteTime": {
     "end_time": "2023-08-15T18:50:13.136224Z",
     "start_time": "2023-08-15T18:50:12.824912Z"
    }
   },
   "outputs": [],
   "source": [
    "len(stroke_df['case_admission_id'].unique())"
   ]
  },
  {
   "cell_type": "code",
   "execution_count": null,
   "metadata": {
    "ExecuteTime": {
     "end_time": "2023-08-15T18:51:50.617189Z",
     "start_time": "2023-08-15T18:51:50.455481Z"
    }
   },
   "outputs": [],
   "source": [
    "# counting patients with outcome variables\n",
    "sum(stroke_df['3M Death'].value_counts())"
   ]
  },
  {
   "cell_type": "code",
   "execution_count": null,
   "metadata": {},
   "outputs": [],
   "source": [
    "stroke_df['Death in hospital'].value_counts()\n"
   ]
  },
  {
   "cell_type": "code",
   "execution_count": null,
   "metadata": {},
   "outputs": [],
   "source": [
    "stroke_df['Referral'].value_counts()"
   ]
  },
  {
   "cell_type": "code",
   "execution_count": null,
   "metadata": {},
   "outputs": [],
   "source": [
    "stroke_df['Initial hospitalization'].value_counts()"
   ]
  },
  {
   "cell_type": "markdown",
   "metadata": {
    "collapsed": false
   },
   "source": [
    "## Adding additional information"
   ]
  },
  {
   "cell_type": "code",
   "execution_count": null,
   "metadata": {},
   "outputs": [],
   "source": [
    "onset_date = pd.to_datetime(pd.to_datetime(stroke_df['Onset date'], format='%Y%m%d').dt.strftime('%d-%m-%Y') \\\n",
    "                                        + ' ' + stroke_df['Onset time'])\n",
    "\n",
    "admission_date = pd.to_datetime(pd.to_datetime(stroke_df['Arrival at hospital'], format='%Y%m%d').dt.strftime('%d-%m-%Y') \\\n",
    "                                        + ' ' + stroke_df['Arrival time'])\n",
    "\n",
    "discharge_date = pd.to_datetime(pd.to_datetime(stroke_df['Discharge date'], format='%Y%m%d').dt.strftime('%d-%m-%Y') \\\n",
    "                                        + ' ' + stroke_df['Discharge time'])\n"
   ]
  },
  {
   "cell_type": "code",
   "execution_count": null,
   "metadata": {},
   "outputs": [],
   "source": [
    "stroke_df.head()"
   ]
  },
  {
   "cell_type": "markdown",
   "metadata": {
    "collapsed": false
   },
   "source": [
    "#### Fuse with databases of manually completed EDS"
   ]
  },
  {
   "cell_type": "code",
   "execution_count": null,
   "metadata": {},
   "outputs": [],
   "source": [
    "pd.read_excel('/Users/jk1/OneDrive - unige.ch/stroke_research/geneva_stroke_unit_dataset/data/stroke_registry/manuel_eds_completion/patients_with_missing_data_manual_completion.xlsx', dtype=str,                                            converters={\"EDS_last_4_digits\": str})"
   ]
  },
  {
   "cell_type": "code",
   "execution_count": null,
   "metadata": {},
   "outputs": [],
   "source": [
    "manual_eds_completion_dfs = [pd.read_excel(os.path.join(manual_eds_completion_folder, f),\n",
    "                                           converters={\"EDS_last_4_digits\": str, # Ensure EDS_last_4_digits is read as string, maintaining leading 0s\n",
    "                                                       }) for f in os.listdir(manual_eds_completion_folder) if f.endswith('.xlsx')]"
   ]
  },
  {
   "cell_type": "code",
   "execution_count": null,
   "metadata": {},
   "outputs": [],
   "source": [
    "all_manual_eds_completions = pd.concat(manual_eds_completion_dfs)"
   ]
  },
  {
   "cell_type": "code",
   "execution_count": null,
   "metadata": {},
   "outputs": [],
   "source": [
    "all_manual_eds_completions = all_manual_eds_completions[['patient_id', 'EDS_last_4_digits', 'manual_eds', 'manual_patient_id']]\n",
    "all_manual_eds_completions = all_manual_eds_completions.astype(str)\n",
    "all_manual_eds_completions['EDS_last_4_digits'] = all_manual_eds_completions['EDS_last_4_digits'].str.zfill(4)\n",
    "all_manual_eds_completions['manual_patient_id'] = all_manual_eds_completions['manual_patient_id'].str.replace(r'\\.0$', \"\", regex=True)\n",
    "all_manual_eds_completions['manual_eds'] = all_manual_eds_completions['manual_eds'].str.replace(r'\\.0$', \"\", regex=True)"
   ]
  },
  {
   "cell_type": "code",
   "execution_count": null,
   "metadata": {},
   "outputs": [],
   "source": [
    "all_manual_eds_completions"
   ]
  },
  {
   "cell_type": "code",
   "execution_count": null,
   "metadata": {},
   "outputs": [],
   "source": [
    "all_manual_eds_completions[all_manual_eds_completions.patient_id == '157394']"
   ]
  },
  {
   "cell_type": "code",
   "execution_count": null,
   "metadata": {},
   "outputs": [],
   "source": [
    "stroke_df = stroke_df.merge(all_manual_eds_completions, how='left', on=['patient_id', 'EDS_last_4_digits'])"
   ]
  },
  {
   "cell_type": "code",
   "execution_count": null,
   "metadata": {},
   "outputs": [],
   "source": [
    "selected_columns = ['patient_id', 'EDS_last_4_digits', 'manual_eds', 'manual_patient_id', 'DOB',\n",
    "                                                   'Arrival at hospital', 'Arrival time',\n",
    "                                                   'Discharge date', 'Discharge time',\n",
    "                                                   'Death at hospital date', 'Death at hospital time', 'Time of symptom onset known', 'Onset date', 'Onset time', 'Referral']"
   ]
  },
  {
   "cell_type": "code",
   "execution_count": null,
   "metadata": {},
   "outputs": [],
   "source": [
    "# ensure leading zeros are kept\n",
    "stroke_df[['patient_id', 'EDS_last_4_digits']] = stroke_df[['patient_id', 'EDS_last_4_digits']].astype(str)"
   ]
  },
  {
   "cell_type": "code",
   "execution_count": null,
   "metadata": {},
   "outputs": [],
   "source": [
    "extraction_target_df = stroke_df.copy()\n",
    "# for extraction replace missing stroke onset date with admission_date (to have a reference date in case of in-hospital strokes)\n",
    "extraction_target_df['Onset time'] = extraction_target_df.apply(lambda x: x['Arrival time'] if pd.isnull(x['Onset date']) else x['Onset time'], axis=1)\n",
    "extraction_target_df['Onset date'] = extraction_target_df.apply(lambda x: x['Arrival at hospital'] if pd.isnull(x['Onset date']) else x['Onset date'], axis=1)"
   ]
  },
  {
   "cell_type": "code",
   "execution_count": null,
   "metadata": {},
   "outputs": [],
   "source": [
    "high_frequency_data_patient_selection_with_details = stroke_df[selected_columns]\n",
    "extraction_target_df = extraction_target_df[selected_columns]"
   ]
  },
  {
   "cell_type": "code",
   "execution_count": null,
   "metadata": {},
   "outputs": [],
   "source": [
    "high_frequency_data_patient_selection_with_details.rename(columns={'Onset date': 'Stroke onset date', 'Onset time': 'Stroke onset time'}, inplace=True)\n",
    "extraction_target_df.rename(columns={'Onset date': 'Stroke onset date', 'Onset time': 'Stroke onset time'}, inplace=True)\n"
   ]
  },
  {
   "cell_type": "code",
   "execution_count": null,
   "metadata": {},
   "outputs": [],
   "source": [
    "high_frequency_data_patient_selection_with_details.head()"
   ]
  },
  {
   "cell_type": "code",
   "execution_count": null,
   "metadata": {},
   "outputs": [],
   "source": [
    "import pandas as pd\n",
    "# excluded patients logs\n",
    "excluded_patients_df = pd.DataFrame({\n",
    "    'n_records_screened': n_records_screened,\n",
    "    'n_patient_refuses_research': n_patient_refuses_research,\n",
    "    'n_patients_not_ischemic_stroke': n_patients_not_ischemic_stroke,\n",
    "    'n_not_hospitalised_in_house': n_not_hospitalised_in_house,\n",
    "    'n_with_hospitalization_duration_less_than_12h': n_with_hospitalization_duration_less_than_12h,\n",
    "    'n_with_non_acute_stroke': n_with_non_acute_stroke,\n",
    "    'n_patients_transferred_from_france': n_patients_transferred_from_france,\n",
    "    'n_patients_with_intra_hospital_stroke': n_patients_with_intra_hospital_stroke,\n",
    "    'Comments': 'more patients will be excluded programmatically (1. insufficient length of hosp, 2. patient not found in EHR)'\n",
    "}, index=[0])\n",
    "\n",
    "excluded_patients_df = excluded_patients_df.T\n",
    "excluded_patients_df.columns = ['number of patients']"
   ]
  },
  {
   "cell_type": "code",
   "execution_count": null,
   "metadata": {},
   "outputs": [],
   "source": [
    "save_data = True"
   ]
  },
  {
   "cell_type": "code",
   "execution_count": null,
   "metadata": {},
   "outputs": [],
   "source": [
    "extraction_target_df.astype(str).head()"
   ]
  },
  {
   "cell_type": "code",
   "execution_count": null,
   "metadata": {},
   "outputs": [],
   "source": [
    "from modun.file_io import ensure_dir\n",
    "import time\n",
    "\n",
    "if save_data:\n",
    "    timestamp = time.strftime(\"%d%m%Y_%H%M%S\")\n",
    "    output_path = os.path.join(output_path, f'gsu_extraction_{timestamp}')\n",
    "    ensure_dir(output_path)\n",
    "\n",
    "    high_frequency_data_patient_selection_with_details.to_csv(os.path.join(output_path, 'high_frequency_data_patient_selection_with_details.csv'))\n",
    "    extraction_target_df.to_csv(os.path.join(output_path, 'high_frequency_data_patient_selection_extraction_target.csv'))\n",
    "    excluded_patients_df.to_csv(os.path.join(output_path, f'excluded_patients_df_{timestamp}.csv'))"
   ]
  },
  {
   "cell_type": "code",
   "execution_count": null,
   "metadata": {},
   "outputs": [],
   "source": []
  }
 ],
 "metadata": {
  "kernelspec": {
   "display_name": "Python 3",
   "language": "python",
   "name": "python3"
  },
  "language_info": {
   "codemirror_mode": {
    "name": "ipython",
    "version": 2
   },
   "file_extension": ".py",
   "mimetype": "text/x-python",
   "name": "python",
   "nbconvert_exporter": "python",
   "pygments_lexer": "ipython2",
   "version": "2.7.6"
  }
 },
 "nbformat": 4,
 "nbformat_minor": 0
}
