{
 "cells": [
  {
   "cell_type": "code",
   "execution_count": null,
   "metadata": {},
   "outputs": [],
   "source": [
    "import argparse\n",
    "import os\n",
    "\n",
    "import pandas as pd\n",
    "import time\n",
    "\n",
    "from preprocessing.preprocessing_tools.encoding_categorical_variables.encode_categorical_variables import encode_categorical_variables\n",
    "from preprocessing.preprocessing_tools.handling_missing_values.impute_missing_values import impute_missing_values\n",
    "from preprocessing.preprocessing_tools.normalisation.normalisation import normalise_data\n",
    "from preprocessing.preprocessing_tools.resample_to_time_bins.resample_to_hourly_features import resample_to_hourly_features\n",
    "from preprocessing.geneva_stroke_unit_preprocessing.variable_assembly.variable_database_assembly import assemble_variable_database\n",
    "from preprocessing.geneva_stroke_unit_preprocessing.variable_assembly.relative_timestamps import transform_to_relative_timestamps"
   ]
  },
  {
   "cell_type": "code",
   "execution_count": null,
   "metadata": {},
   "outputs": [],
   "source": [
    "ehr_data_path = '/Users/jk1/stroke_datasets/stroke_unit_dataset/per_value/Extraction_20220815'\n",
    "stroke_registry_data_path = '/Users/jk1/OneDrive - unige.ch/stroke_research/geneva_stroke_unit_dataset/data/stroke_registry/post_hoc_modified/stroke_registry_post_hoc_modified.xlsx'\n",
    "patient_selection_path = '/Users/jk1/temp/opsum_extraction_output/gsu_extraction_01012023_222140/high_frequency_data_patient_selection_with_details.csv'\n",
    "log_dir = '/Users/jk1/temp/opsum_prepro_output/temp_output'\n",
    "\n",
    "verbose:bool=True"
   ]
  },
  {
   "cell_type": "code",
   "execution_count": null,
   "metadata": {},
   "outputs": [],
   "source": [
    "# 1. Restrict to patient selection (& filter out patients with no EHR data or EHR data with wrong dates)\n",
    "# 2. Preprocess EHR and stroke registry variables\n",
    "# 3. Restrict to variable selection\n",
    "# 4. Assemble database from lab/scales/ventilation/vitals + stroke registry subparts\n",
    "print('STARTING VARIABLE PREPROCESSING')\n",
    "feature_df = assemble_variable_database(ehr_data_path, stroke_registry_data_path, patient_selection_path,\n",
    "                                        log_dir=log_dir, verbose=verbose)\n",
    "print(f'A. Number of patients: {feature_df.case_admission_id.nunique()}')"
   ]
  },
  {
   "cell_type": "code",
   "execution_count": null,
   "metadata": {},
   "outputs": [],
   "source": [
    "from preprocessing.geneva_stroke_unit_preprocessing.utils import create_registry_case_identification_column\n",
    "\n",
    "patient_selection = pd.read_csv(patient_selection_path, dtype=str)\n",
    "patient_selection['case_admission_id'] = create_registry_case_identification_column(patient_selection)\n"
   ]
  },
  {
   "cell_type": "code",
   "execution_count": null,
   "metadata": {},
   "outputs": [],
   "source": [
    "patient_selection.case_admission_id.nunique()"
   ]
  },
  {
   "cell_type": "code",
   "execution_count": null,
   "metadata": {},
   "outputs": [],
   "source": [
    "feature_df.head()"
   ]
  },
  {
   "cell_type": "code",
   "execution_count": null,
   "metadata": {},
   "outputs": [],
   "source": [
    "feature_df[feature_df.value.isna()].sample_label.unique()"
   ]
  },
  {
   "cell_type": "code",
   "execution_count": null,
   "metadata": {},
   "outputs": [],
   "source": [
    "feature_df.case_admission_id.nunique()"
   ]
  },
  {
   "cell_type": "code",
   "execution_count": null,
   "metadata": {},
   "outputs": [],
   "source": [
    "# 5. Transform timestamps to relative timestamps from first measure\n",
    "# 6. Restrict to time range\n",
    "# - Exclude patients with data sampled in a time window < 12h\n",
    "# - Restrict to desired time range: 72h\n",
    "print('TRANSFORMING TO RELATIVE TIME AND RESTRICTING TIME RANGE')\n",
    "restricted_feature_df = transform_to_relative_timestamps(feature_df, drop_old_columns=False,\n",
    "                                                         restrict_to_time_range=True, desired_time_range=72,\n",
    "                                                         enforce_min_time_range=True, min_time_range=12,\n",
    "                                                         log_dir=log_dir)\n",
    "print(f'B. Number of patients: {restricted_feature_df.case_admission_id.nunique()}')"
   ]
  },
  {
   "cell_type": "code",
   "execution_count": null,
   "metadata": {},
   "outputs": [],
   "source": [
    "restricted_feature_df.head()"
   ]
  },
  {
   "cell_type": "code",
   "execution_count": null,
   "metadata": {},
   "outputs": [],
   "source": [
    "restricted_feature_df[restricted_feature_df.value.isna()].sample_label.unique()\n"
   ]
  },
  {
   "cell_type": "code",
   "execution_count": null,
   "metadata": {},
   "outputs": [],
   "source": [
    "restricted_feature_df.case_admission_id.nunique()"
   ]
  },
  {
   "cell_type": "code",
   "execution_count": null,
   "metadata": {},
   "outputs": [],
   "source": [
    "# 7. Encoding categorical variables (one-hot)\n",
    "print('ENCODING CATEGORICAL VARIABLES')\n",
    "cat_encoded_restricted_feature_df = encode_categorical_variables(restricted_feature_df, verbose=verbose,\n",
    "                                                                 log_dir=log_dir)"
   ]
  },
  {
   "cell_type": "code",
   "execution_count": null,
   "metadata": {},
   "outputs": [],
   "source": [
    "cat_encoded_restricted_feature_df.head()"
   ]
  },
  {
   "cell_type": "code",
   "execution_count": null,
   "metadata": {},
   "outputs": [],
   "source": [
    "cat_encoded_restricted_feature_df[cat_encoded_restricted_feature_df.value.isna()].sample_label.unique()\n"
   ]
  },
  {
   "cell_type": "code",
   "execution_count": null,
   "metadata": {},
   "outputs": [],
   "source": [
    "cat_encoded_restricted_feature_df.case_admission_id.nunique()"
   ]
  },
  {
   "cell_type": "code",
   "execution_count": null,
   "metadata": {},
   "outputs": [],
   "source": [
    "# 8. Resampling to hourly frequency\n",
    "print('RESAMPLING TO HOURLY FREQUENCY')\n",
    "resampled_df = resample_to_hourly_features(cat_encoded_restricted_feature_df, verbose=verbose)\n",
    "print(f'D. Number of patients: {resampled_df.case_admission_id.nunique()}')"
   ]
  },
  {
   "cell_type": "code",
   "execution_count": null,
   "metadata": {},
   "outputs": [],
   "source": [
    "resampled_df.head()"
   ]
  },
  {
   "cell_type": "code",
   "execution_count": null,
   "metadata": {},
   "outputs": [],
   "source": [
    "resampled_df[resampled_df.value.isna()].sample_label.unique()\n"
   ]
  },
  {
   "cell_type": "code",
   "execution_count": null,
   "metadata": {},
   "outputs": [],
   "source": [
    "resampled_df.case_admission_id.nunique()"
   ]
  },
  {
   "cell_type": "code",
   "execution_count": null,
   "metadata": {},
   "outputs": [],
   "source": [
    "# 9. imputation of missing values\n",
    "print('IMPUTING MISSING VALUES')\n",
    "imputed_missing_df = impute_missing_values(resampled_df, verbose=verbose)\n",
    "print(f'E. Number of patients: {imputed_missing_df.case_admission_id.nunique()}')"
   ]
  },
  {
   "cell_type": "code",
   "execution_count": null,
   "metadata": {},
   "outputs": [],
   "source": [
    "imputed_missing_df.head()"
   ]
  },
  {
   "cell_type": "code",
   "execution_count": null,
   "metadata": {},
   "outputs": [],
   "source": [
    "imputed_missing_df[imputed_missing_df.value.isna()]"
   ]
  },
  {
   "cell_type": "code",
   "execution_count": null,
   "metadata": {},
   "outputs": [],
   "source": [
    "imputed_missing_df.case_admission_id.nunique()"
   ]
  },
  {
   "cell_type": "code",
   "execution_count": null,
   "metadata": {},
   "outputs": [],
   "source": [
    "# 10. normalisation\n",
    "print('APPLYING NORMALISATION')\n",
    "normalised_df = normalise_data(imputed_missing_df, verbose=verbose, log_dir=log_dir)\n",
    "print(f'F. Number of patients: {normalised_df.case_admission_id.nunique()}')"
   ]
  },
  {
   "cell_type": "code",
   "execution_count": null,
   "metadata": {},
   "outputs": [],
   "source": [
    "normalised_df.head(1000)"
   ]
  },
  {
   "cell_type": "code",
   "execution_count": null,
   "metadata": {},
   "outputs": [],
   "source": [
    "normalised_df[normalised_df.value.isna()].sample_label.unique()"
   ]
  },
  {
   "cell_type": "code",
   "execution_count": null,
   "metadata": {},
   "outputs": [],
   "source": [
    "len(normalised_df.case_admission_id.unique())"
   ]
  },
  {
   "cell_type": "code",
   "execution_count": null,
   "metadata": {},
   "outputs": [],
   "source": [
    "imputed_missing_df[imputed_missing_df.sample_label == 'creatinine'].describe()\n"
   ]
  },
  {
   "cell_type": "code",
   "execution_count": null,
   "metadata": {},
   "outputs": [],
   "source": [
    "imputed_missing_df[imputed_missing_df.sample_label == 'max_heart_rate'].describe()"
   ]
  },
  {
   "cell_type": "code",
   "execution_count": null,
   "metadata": {},
   "outputs": [],
   "source": [
    "TODO:\n",
    "- check if all selected variables are present every hour"
   ]
  },
  {
   "cell_type": "code",
   "execution_count": null,
   "metadata": {
    "pycharm": {
     "is_executing": true
    }
   },
   "outputs": [],
   "source": [
    "temp = normalised_df.head(1000)"
   ]
  },
  {
   "cell_type": "code",
   "execution_count": null,
   "metadata": {},
   "outputs": [],
   "source": []
  }
 ],
 "metadata": {
  "kernelspec": {
   "display_name": "Python 3",
   "language": "python",
   "name": "python3"
  },
  "language_info": {
   "codemirror_mode": {
    "name": "ipython",
    "version": 2
   },
   "file_extension": ".py",
   "mimetype": "text/x-python",
   "name": "python",
   "nbconvert_exporter": "python",
   "pygments_lexer": "ipython2",
   "version": "2.7.6"
  }
 },
 "nbformat": 4,
 "nbformat_minor": 0
}
