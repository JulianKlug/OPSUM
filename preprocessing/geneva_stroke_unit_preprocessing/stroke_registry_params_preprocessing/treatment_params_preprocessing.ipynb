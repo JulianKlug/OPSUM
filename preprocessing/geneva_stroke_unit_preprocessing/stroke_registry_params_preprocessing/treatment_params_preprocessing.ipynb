{
 "cells": [
  {
   "cell_type": "code",
   "execution_count": null,
   "metadata": {
    "pycharm": {
     "name": "#%%\n"
    }
   },
   "outputs": [],
   "source": [
    "import pandas as pd\n",
    "from matplotlib import pyplot as plt\n",
    "import os"
   ]
  },
  {
   "cell_type": "code",
   "execution_count": null,
   "metadata": {
    "pycharm": {
     "name": "#%%\n"
    }
   },
   "outputs": [],
   "source": [
    "stroke_registry_data_path = '/Users/jk1/OneDrive - unige.ch/stroke_research/geneva_stroke_unit_dataset/data/stroke_registry/post_hoc_modified/stroke_registry_post_hoc_modified.xlsx'\n",
    "patient_selection = '/Users/jk1/temp/opsum_extration_output/high_frequency_data_patient_selection.csv'\n",
    "out_dir = '/Users/jk1/temp/opsum_extration_output'"
   ]
  },
  {
   "cell_type": "code",
   "execution_count": null,
   "metadata": {
    "pycharm": {
     "name": "#%%\n"
    }
   },
   "outputs": [],
   "source": [
    "patient_selection_df = pd.read_csv(patient_selection, dtype=str)"
   ]
  },
  {
   "cell_type": "code",
   "execution_count": null,
   "metadata": {
    "pycharm": {
     "name": "#%%\n"
    }
   },
   "outputs": [],
   "source": [
    "full_data_df = pd.read_excel(stroke_registry_data_path)\n",
    "full_data_df['patient_id'] = full_data_df['Case ID'].apply(lambda x: x[8:-4])\n",
    "full_data_df['EDS_last_4_digits'] = full_data_df['Case ID'].apply(lambda x: x[-4:])\n",
    "full_data_df['case_admission_id'] = full_data_df['patient_id'].astype(str) \\\n",
    "                                 + full_data_df['EDS_last_4_digits'].astype(str) \\\n",
    "                                 + '_' + pd.to_datetime(full_data_df['Arrival at hospital'], format='%Y%m%d').dt.strftime('%d%m%Y').astype(str)"
   ]
  },
  {
   "cell_type": "code",
   "execution_count": null,
   "metadata": {
    "pycharm": {
     "name": "#%%\n"
    }
   },
   "outputs": [],
   "source": [
    "patient_selection_df['case_admission_id'] = patient_selection_df['patient_id'].astype(str) \\\n",
    "                                 + patient_selection_df['EDS_last_4_digits'].astype(str) \\\n",
    "                                 + '_' + pd.to_datetime(patient_selection_df['Arrival at hospital'], format='%Y%m%d').dt.strftime('%d%m%Y').astype(str)\n",
    "selected_full_data_df = full_data_df[\n",
    "    full_data_df['case_admission_id'].isin(patient_selection_df['case_admission_id'].tolist())]\n"
   ]
  },
  {
   "cell_type": "code",
   "execution_count": null,
   "metadata": {
    "pycharm": {
     "name": "#%%\n"
    }
   },
   "outputs": [],
   "source": [
    "selected_full_data_df['begin_date'] = pd.to_datetime(selected_full_data_df['Arrival at hospital'],\n",
    "                                                     format='%Y%m%d').dt.strftime('%d.%m.%Y') + ' ' + \\\n",
    "                                      selected_full_data_df['Arrival time']"
   ]
  },
  {
   "cell_type": "code",
   "execution_count": null,
   "metadata": {
    "pycharm": {
     "name": "#%%\n"
    }
   },
   "outputs": [],
   "source": [
    "selected_full_data_df['onset_datetime'] = pd.to_datetime(pd.to_datetime(selected_full_data_df['Onset date'], format='%Y%m%d').dt.strftime('%d-%m-%Y') \\\n",
    "                                        + ' ' + selected_full_data_df['Onset time'], format='%d-%m-%Y %H:%M')\n",
    "selected_full_data_df['IVT_datetime'] = pd.to_datetime(pd.to_datetime(selected_full_data_df['IVT start date'], format='%Y%m%d').dt.strftime('%d-%m-%Y') \\\n",
    "                                        + ' ' + selected_full_data_df['IVT start time'], format='%d-%m-%Y %H:%M')\n",
    "selected_full_data_df['groin_puncture_datetime'] = pd.to_datetime(pd.to_datetime(selected_full_data_df['Date of groin puncture'], format='%Y%m%d').dt.strftime('%d-%m-%Y') \\\n",
    "                                        + ' ' + selected_full_data_df['Time of groin puncture'], format='%d-%m-%Y %H:%M')"
   ]
  },
  {
   "cell_type": "code",
   "execution_count": null,
   "metadata": {
    "pycharm": {
     "name": "#%%\n"
    }
   },
   "outputs": [],
   "source": [
    "selected_full_data_df[['Date of groin puncture', 'Time of groin puncture', 'groin_puncture_datetime']]"
   ]
  },
  {
   "cell_type": "code",
   "execution_count": null,
   "metadata": {
    "pycharm": {
     "name": "#%%\n"
    }
   },
   "outputs": [],
   "source": [
    "selected_full_data_df['onset_to_IVT_min'] = (pd.to_datetime(selected_full_data_df['IVT_datetime'], format='%d-%m-%Y %H:%M:%S') - pd.to_datetime(selected_full_data_df['onset_datetime'], format='%d-%m-%Y %H:%M:%S')).dt.total_seconds() / 60\n",
    "selected_full_data_df['onset_to_groin_min'] = (pd.to_datetime(selected_full_data_df['groin_puncture_datetime'], format='%d-%m-%Y %H:%M:%S') - pd.to_datetime(selected_full_data_df['onset_datetime'], format='%d-%m-%Y %H:%M:%S')).dt.total_seconds() / 60"
   ]
  },
  {
   "cell_type": "code",
   "execution_count": null,
   "metadata": {
    "pycharm": {
     "name": "#%%\n"
    }
   },
   "outputs": [],
   "source": [
    "selected_full_data_df[['onset_datetime','IVT_datetime', 'groin_puncture_datetime', 'onset_to_IVT_min', 'onset_to_groin_min']]"
   ]
  },
  {
   "cell_type": "code",
   "execution_count": null,
   "metadata": {
    "pycharm": {
     "name": "#%%\n"
    }
   },
   "outputs": [],
   "source": [
    "ax = selected_full_data_df.plot(y='onset_to_IVT_min', x=\"Door to image (min.)\", kind='scatter')\n",
    "selected_full_data_df.plot(y='onset_to_groin_min', x=\"Door to image (min.)\", kind='scatter', ax=ax, color='red')\n",
    "ax.set_xlim(0, 100)\n",
    "ax.set_ylim(0, 800)\n",
    "plt.show()"
   ]
  },
  {
   "cell_type": "code",
   "execution_count": null,
   "metadata": {
    "pycharm": {
     "name": "#%%\n"
    }
   },
   "outputs": [],
   "source": [
    "selected_full_data_df[\"onset_to_IVT_min\"].describe()"
   ]
  },
  {
   "cell_type": "code",
   "execution_count": null,
   "metadata": {
    "pycharm": {
     "name": "#%%\n"
    }
   },
   "outputs": [],
   "source": [
    "selected_full_data_df[\"onset_to_IVT_min\"].quantile(0.05)"
   ]
  },
  {
   "cell_type": "markdown",
   "metadata": {
    "collapsed": false,
    "pycharm": {
     "name": "#%% md\n"
    }
   },
   "source": [
    "Finding wrong onset to IVT timings"
   ]
  },
  {
   "cell_type": "code",
   "execution_count": null,
   "metadata": {
    "pycharm": {
     "name": "#%%\n"
    }
   },
   "outputs": [],
   "source": [
    "temp_df = selected_full_data_df[(selected_full_data_df[\"onset_to_IVT_min\"] > 24 * 60) | (selected_full_data_df[\"onset_to_IVT_min\"] < 10)]\n",
    "temp_df[['Case ID', 'onset_to_IVT_min', 'onset_datetime', 'Arrival at hospital', 'IVT_datetime']]"
   ]
  },
  {
   "cell_type": "code",
   "execution_count": null,
   "metadata": {
    "pycharm": {
     "name": "#%%\n"
    }
   },
   "outputs": [],
   "source": [
    "# temp_df.to_excel(os.path.join(out_dir, 'wrong_onset_to_IVT_min.xlsx'))"
   ]
  },
  {
   "cell_type": "code",
   "execution_count": null,
   "metadata": {
    "pycharm": {
     "name": "#%%\n"
    }
   },
   "outputs": [],
   "source": [
    "temp_df = selected_full_data_df[(selected_full_data_df[\"onset_to_IVT_min\"] < 24 * 60) & (selected_full_data_df[\"onset_to_IVT_min\"] > 10)]\n",
    "temp_df.plot.hist(y='onset_to_IVT_min', bins=100)\n",
    "plt.show()"
   ]
  },
  {
   "cell_type": "markdown",
   "metadata": {
    "collapsed": false,
    "pycharm": {
     "name": "#%% md\n"
    }
   },
   "source": [
    "## Categorizing IVT treatment\n",
    "\n",
    "Categories:\n",
    "'not_treated', '<90min', '91-270min', '271-540min', '>540min'"
   ]
  },
  {
   "cell_type": "code",
   "execution_count": null,
   "metadata": {
    "pycharm": {
     "name": "#%%\n"
    }
   },
   "outputs": [],
   "source": [
    "selected_full_data_df['categorical_IVT'] = pd.cut(selected_full_data_df['onset_to_IVT_min'],\n",
    "                                                  bins=[-float(\"inf\"), 90,270,540,float(\"inf\")],\n",
    "                                                  labels=['<90min', '91-270min', '271-540min', '>540min'])"
   ]
  },
  {
   "cell_type": "code",
   "execution_count": null,
   "metadata": {
    "pycharm": {
     "name": "#%%\n"
    }
   },
   "outputs": [],
   "source": [
    "selected_full_data_df['categorical_IVT'] = selected_full_data_df['categorical_IVT'].cat.add_categories('no_IVT')\n",
    "selected_full_data_df['categorical_IVT'].fillna('no_IVT', inplace=True)"
   ]
  },
  {
   "cell_type": "code",
   "execution_count": null,
   "metadata": {
    "pycharm": {
     "name": "#%%\n"
    }
   },
   "outputs": [],
   "source": [
    "selected_full_data_df[['categorical_IVT', 'onset_to_IVT_min']]"
   ]
  },
  {
   "cell_type": "markdown",
   "metadata": {
    "collapsed": false,
    "pycharm": {
     "name": "#%% md\n"
    }
   },
   "source": [
    "For patients with unknown IVT timing, replace NaN with mode"
   ]
  },
  {
   "cell_type": "code",
   "execution_count": null,
   "metadata": {
    "pycharm": {
     "name": "#%%\n"
    }
   },
   "outputs": [],
   "source": [
    "selected_full_data_df[(selected_full_data_df['categorical_IVT'] == 'no_IVT') & (selected_full_data_df['IVT with rtPA'] != 'no')]"
   ]
  },
  {
   "cell_type": "code",
   "execution_count": null,
   "metadata": {
    "pycharm": {
     "name": "#%%\n"
    }
   },
   "outputs": [],
   "source": [
    "selected_full_data_df[(selected_full_data_df['categorical_IVT'] != 'no_IVT')]['categorical_IVT'].mode()"
   ]
  },
  {
   "cell_type": "code",
   "execution_count": null,
   "metadata": {
    "pycharm": {
     "name": "#%%\n"
    }
   },
   "outputs": [],
   "source": [
    "selected_full_data_df.loc[(selected_full_data_df['categorical_IVT'] == 'no_IVT')\n",
    "                          & (selected_full_data_df['IVT with rtPA'] != 'no'), 'categorical_IVT'] = selected_full_data_df[(selected_full_data_df['categorical_IVT'] != 'no_IVT')]['categorical_IVT'].mode()[0]"
   ]
  },
  {
   "cell_type": "code",
   "execution_count": null,
   "metadata": {
    "pycharm": {
     "name": "#%%\n"
    }
   },
   "outputs": [],
   "source": [
    "selected_full_data_df['categorical_IVT'].value_counts()"
   ]
  },
  {
   "cell_type": "markdown",
   "metadata": {
    "collapsed": false,
    "pycharm": {
     "name": "#%% md\n"
    }
   },
   "source": [
    "# Preprocessing IAT"
   ]
  },
  {
   "cell_type": "code",
   "execution_count": null,
   "metadata": {
    "pycharm": {
     "name": "#%%\n"
    }
   },
   "outputs": [],
   "source": [
    "selected_full_data_df[\"onset_to_groin_min\"].describe()"
   ]
  },
  {
   "cell_type": "markdown",
   "metadata": {
    "collapsed": false,
    "pycharm": {
     "name": "#%% md\n"
    }
   },
   "source": [
    "Find wrong IAT timings"
   ]
  },
  {
   "cell_type": "code",
   "execution_count": null,
   "metadata": {
    "pycharm": {
     "name": "#%%\n"
    }
   },
   "outputs": [],
   "source": [
    "selected_full_data_df[\"onset_to_groin_min\"].quantile(0.95)"
   ]
  },
  {
   "cell_type": "code",
   "execution_count": null,
   "metadata": {
    "pycharm": {
     "name": "#%%\n"
    }
   },
   "outputs": [],
   "source": [
    "temp_df = selected_full_data_df[(selected_full_data_df[\"onset_to_groin_min\"] > 30 * 60) | (selected_full_data_df[\"onset_to_groin_min\"] < 10)]\n",
    "temp_df[['Case ID', 'onset_to_groin_min', 'onset_datetime', 'Arrival at hospital', 'Date of groin puncture', 'Time of groin puncture', 'Arrival time']]"
   ]
  },
  {
   "cell_type": "code",
   "execution_count": null,
   "metadata": {
    "pycharm": {
     "name": "#%%\n"
    }
   },
   "outputs": [],
   "source": [
    "# temp_df.to_excel(os.path.join(out_dir, 'wrong_onset_to_IAT_timings.xlsx'))"
   ]
  },
  {
   "cell_type": "markdown",
   "metadata": {
    "collapsed": false,
    "pycharm": {
     "name": "#%% md\n"
    }
   },
   "source": [
    "## Categorizing IAT treatment\n",
    "\n",
    "Categories\n",
    "- not treated\n",
    "- < 270min (4.5h)\n",
    "- 271-540min (<9)\n",
    "-  \\> 540min"
   ]
  },
  {
   "cell_type": "code",
   "execution_count": null,
   "metadata": {
    "pycharm": {
     "name": "#%%\n"
    }
   },
   "outputs": [],
   "source": [
    "temp_df = selected_full_data_df[(selected_full_data_df[\"onset_to_groin_min\"] < 30 * 60) & (selected_full_data_df[\"onset_to_groin_min\"] > 10)]\n",
    "temp_df.plot.hist(y='onset_to_groin_min', bins=100)\n",
    "plt.show()"
   ]
  },
  {
   "cell_type": "code",
   "execution_count": null,
   "metadata": {
    "pycharm": {
     "name": "#%%\n"
    }
   },
   "outputs": [],
   "source": [
    "selected_full_data_df['categorical_IAT'] = pd.cut(selected_full_data_df['onset_to_groin_min'],\n",
    "                                                  bins=[-float(\"inf\"), 270, 540,float(\"inf\")],\n",
    "                                                  labels=['<270min', '271-540min', '>540min'])"
   ]
  },
  {
   "cell_type": "code",
   "execution_count": null,
   "metadata": {
    "pycharm": {
     "name": "#%%\n"
    }
   },
   "outputs": [],
   "source": [
    "selected_full_data_df['categorical_IAT'] = selected_full_data_df['categorical_IAT'].cat.add_categories('no_IAT')\n",
    "selected_full_data_df['categorical_IAT'].fillna('no_IAT', inplace=True)"
   ]
  },
  {
   "cell_type": "code",
   "execution_count": null,
   "metadata": {
    "pycharm": {
     "name": "#%%\n"
    }
   },
   "outputs": [],
   "source": [
    "selected_full_data_df[['onset_to_groin_min', 'categorical_IAT']]"
   ]
  },
  {
   "cell_type": "markdown",
   "metadata": {
    "collapsed": false,
    "pycharm": {
     "name": "#%% md\n"
    }
   },
   "source": [
    "Replacing eventually missing timings with mode"
   ]
  },
  {
   "cell_type": "code",
   "execution_count": null,
   "metadata": {
    "pycharm": {
     "name": "#%%\n"
    }
   },
   "outputs": [],
   "source": [
    "selected_full_data_df.loc[(selected_full_data_df['categorical_IAT'] == 'no_IAT')\n",
    "                          & (selected_full_data_df['IAT'] == 'yes'), 'categorical_IAT'] = selected_full_data_df[(selected_full_data_df['categorical_IAT'] != 'no_IAT')]['categorical_IAT'].mode()[0]"
   ]
  },
  {
   "cell_type": "code",
   "execution_count": null,
   "metadata": {
    "pycharm": {
     "name": "#%%\n"
    }
   },
   "outputs": [],
   "source": [
    "selected_full_data_df['categorical_IAT'].value_counts()"
   ]
  },
  {
   "cell_type": "code",
   "execution_count": null,
   "metadata": {
    "pycharm": {
     "name": "#%%\n"
    }
   },
   "outputs": [],
   "source": [
    "treatment_columns = ['categorical_IVT', 'categorical_IAT']"
   ]
  },
  {
   "cell_type": "code",
   "execution_count": null,
   "metadata": {
    "pycharm": {
     "name": "#%%\n"
    }
   },
   "outputs": [],
   "source": [
    "treatment_df = selected_full_data_df[treatment_columns + ['case_admission_id', 'begin_date']]"
   ]
  },
  {
   "cell_type": "code",
   "execution_count": null,
   "metadata": {
    "pycharm": {
     "name": "#%%\n"
    }
   },
   "outputs": [],
   "source": [
    "treatment_df.isna().sum().sum()"
   ]
  },
  {
   "cell_type": "code",
   "execution_count": null,
   "metadata": {
    "pycharm": {
     "name": "#%%\n"
    }
   },
   "outputs": [],
   "source": [
    "pd.melt(treatment_df, id_vars=['case_admission_id', 'begin_date'], var_name='sample_label')\n"
   ]
  },
  {
   "cell_type": "code",
   "execution_count": null,
   "metadata": {
    "pycharm": {
     "name": "#%%\n"
    }
   },
   "outputs": [],
   "source": [
    "selected_full_data_df[\"IVT with rtPA\"].value_counts()"
   ]
  },
  {
   "cell_type": "code",
   "execution_count": null,
   "metadata": {
    "pycharm": {
     "name": "#%%\n"
    }
   },
   "outputs": [],
   "source": [
    "selected_full_data_df.loc[treatment_df[\"IVT with rtPA\"] == \"started before admission\", \"IVT with rtPA\"] = \"yes\""
   ]
  },
  {
   "cell_type": "code",
   "execution_count": null,
   "metadata": {
    "pycharm": {
     "name": "#%%\n"
    }
   },
   "outputs": [],
   "source": [
    "selected_full_data_df[\"IAT\"]"
   ]
  },
  {
   "cell_type": "code",
   "execution_count": null,
   "metadata": {
    "pycharm": {
     "name": "#%%\n"
    }
   },
   "outputs": [],
   "source": [
    "selected_full_data_df[\"IAT\"].value_counts()"
   ]
  },
  {
   "cell_type": "code",
   "execution_count": null,
   "metadata": {
    "pycharm": {
     "name": "#%%\n"
    }
   },
   "outputs": [],
   "source": []
  }
 ],
 "metadata": {
  "kernelspec": {
   "display_name": "Python 3",
   "language": "python",
   "name": "python3"
  },
  "language_info": {
   "codemirror_mode": {
    "name": "ipython",
    "version": 2
   },
   "file_extension": ".py",
   "mimetype": "text/x-python",
   "name": "python",
   "nbconvert_exporter": "python",
   "pygments_lexer": "ipython2",
   "version": "2.7.6"
  }
 },
 "nbformat": 4,
 "nbformat_minor": 0
}
