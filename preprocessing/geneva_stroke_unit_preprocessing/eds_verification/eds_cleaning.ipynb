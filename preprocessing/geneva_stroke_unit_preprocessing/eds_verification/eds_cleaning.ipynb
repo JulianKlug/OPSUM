{
 "cells": [
  {
   "cell_type": "code",
   "execution_count": null,
   "metadata": {
    "pycharm": {
     "name": "#%%\n"
    }
   },
   "outputs": [],
   "source": [
    "import pandas as pd\n",
    "import os\n",
    "\n",
    "from preprocessing.utils import create_ehr_case_identification_column"
   ]
  },
  {
   "cell_type": "code",
   "execution_count": null,
   "metadata": {
    "pycharm": {
     "name": "#%%\n"
    }
   },
   "outputs": [],
   "source": [
    "eds_df = pd.read_csv('/Users/jk1/stroke_datasets/stroke_unit_dataset/per_value/Extraction_20211110/eds_j1.csv', delimiter=';')"
   ]
  },
  {
   "cell_type": "code",
   "execution_count": null,
   "metadata": {
    "pycharm": {
     "name": "#%%\n"
    }
   },
   "outputs": [],
   "source": [
    "eds_df['case_admission_id'] = create_ehr_case_identification_column(eds_df)"
   ]
  },
  {
   "cell_type": "code",
   "execution_count": null,
   "metadata": {
    "pycharm": {
     "name": "#%%\n"
    }
   },
   "outputs": [],
   "source": [
    "differing_patient_ids = eds_df['patient_id'] != eds_df['eds_final_patient_id']"
   ]
  },
  {
   "cell_type": "code",
   "execution_count": null,
   "metadata": {
    "pycharm": {
     "name": "#%%\n"
    }
   },
   "outputs": [],
   "source": [
    "eds_with_differing_patient_id = eds_df[differing_patient_ids]"
   ]
  },
  {
   "cell_type": "code",
   "execution_count": null,
   "metadata": {
    "pycharm": {
     "name": "#%%\n"
    }
   },
   "outputs": [],
   "source": [
    "duplicate_dob_ids = eds_df[eds_df.duplicated(subset=['DOB'])]['patient_id']\n",
    "duplicate_patient_id_ids = eds_df[eds_df.duplicated(subset=['patient_id'])]['patient_id']\n",
    "duplicate_begin_date_ids = eds_df[eds_df.duplicated(subset=['begin_date'])]['patient_id']\n",
    "duplicate_final_begin_date_ids = eds_df[eds_df.duplicated(subset=['eds_final_begin'])]['patient_id']\n",
    "duplicate_eds_final_ids = eds_df[eds_df.duplicated(subset=['eds_final_id'])]['patient_id']"
   ]
  },
  {
   "cell_type": "code",
   "execution_count": null,
   "metadata": {
    "pycharm": {
     "name": "#%%\n"
    }
   },
   "outputs": [],
   "source": [
    "duplicate_patient_id_df = eds_df[eds_df['patient_id'].isin(duplicate_patient_id_ids)]"
   ]
  },
  {
   "cell_type": "code",
   "execution_count": null,
   "metadata": {
    "pycharm": {
     "name": "#%%\n"
    }
   },
   "outputs": [],
   "source": [
    "duplicate_patient_id_without_duplicate_dob_df = duplicate_patient_id_df[~duplicate_patient_id_df['patient_id'].isin(duplicate_dob_ids)]"
   ]
  },
  {
   "cell_type": "markdown",
   "metadata": {
    "collapsed": false,
    "pycharm": {
     "name": "#%% md\n"
    }
   },
   "source": [
    "Impression: patient ids with duplicated DOB are simply errors in DOB reporting. Therefore patient ids seem to be trustworthy."
   ]
  },
  {
   "cell_type": "code",
   "execution_count": null,
   "metadata": {
    "pycharm": {
     "name": "#%%\n"
    }
   },
   "outputs": [],
   "source": [
    "# search for duplicated ids without duplicated begin date\n",
    "duplicate_patient_id_without_duplicate_begin_date_df = duplicate_patient_id_df[~duplicate_patient_id_df['patient_id'].isin(duplicate_begin_date_ids)]"
   ]
  },
  {
   "cell_type": "code",
   "execution_count": null,
   "metadata": {
    "pycharm": {
     "name": "#%%\n"
    }
   },
   "outputs": [],
   "source": [
    "duplicate_eds_final_id_df = eds_df[eds_df['patient_id'].isin(duplicate_eds_final_ids)]"
   ]
  },
  {
   "cell_type": "code",
   "execution_count": null,
   "metadata": {
    "pycharm": {
     "name": "#%%\n"
    }
   },
   "outputs": [],
   "source": [
    "duplicate_case_admission_id_ids = eds_df[eds_df.duplicated(subset=['case_admission_id'])]['patient_id']\n",
    "duplicate_case_admission_id_df = eds_df[eds_df['patient_id'].isin(duplicate_case_admission_id_ids)]"
   ]
  },
  {
   "cell_type": "code",
   "execution_count": null,
   "metadata": {
    "pycharm": {
     "name": "#%%\n"
    }
   },
   "outputs": [],
   "source": [
    "duplicate_patient_id_without_duplicate_case_admission_id = duplicate_patient_id_df[~duplicate_patient_id_df['patient_id'].isin(duplicate_case_admission_id_ids)]"
   ]
  },
  {
   "cell_type": "markdown",
   "metadata": {
    "collapsed": false,
    "pycharm": {
     "name": "#%% md\n"
    }
   },
   "source": [
    "Patient admission ids seem to be a good way to identify patients venues.\n",
    "A possible edge case seems to be a patient leaving the hospital and being readmitted the next day.\n"
   ]
  },
  {
   "cell_type": "code",
   "execution_count": null,
   "metadata": {
    "pycharm": {
     "name": "#%%\n"
    }
   },
   "outputs": [],
   "source": []
  }
 ],
 "metadata": {
  "kernelspec": {
   "display_name": "Python 3",
   "language": "python",
   "name": "python3"
  },
  "language_info": {
   "codemirror_mode": {
    "name": "ipython",
    "version": 2
   },
   "file_extension": ".py",
   "mimetype": "text/x-python",
   "name": "python",
   "nbconvert_exporter": "python",
   "pygments_lexer": "ipython2",
   "version": "2.7.6"
  }
 },
 "nbformat": 4,
 "nbformat_minor": 0
}
