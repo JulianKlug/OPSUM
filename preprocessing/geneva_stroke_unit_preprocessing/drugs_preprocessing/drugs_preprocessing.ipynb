{
 "cells": [
  {
   "cell_type": "code",
   "execution_count": null,
   "metadata": {
    "pycharm": {
     "name": "#%%\n"
    }
   },
   "outputs": [],
   "source": [
    "import matplotlib.pyplot as plt\n",
    "import pandas as pd\n",
    "import os\n",
    "import numpy as np\n",
    "\n",
    "from preprocessing.utils import create_ehr_case_identification_column"
   ]
  },
  {
   "cell_type": "code",
   "execution_count": null,
   "metadata": {
    "pycharm": {
     "name": "#%%\n"
    }
   },
   "outputs": [],
   "source": [
    "data_path = '/Users/jk1/stroke_datasets/stroke_unit_dataset/per_value/Extraction20220629'\n",
    "drugs_file_start = 'prescription'"
   ]
  },
  {
   "cell_type": "code",
   "execution_count": null,
   "metadata": {
    "pycharm": {
     "name": "#%%\n"
    }
   },
   "outputs": [],
   "source": [
    "drugs_files = [pd.read_csv(os.path.join(data_path, f), delimiter=';', encoding='utf-8')\n",
    "             for f in os.listdir(data_path)\n",
    "             if f.startswith(drugs_file_start)]"
   ]
  },
  {
   "cell_type": "code",
   "execution_count": null,
   "metadata": {
    "pycharm": {
     "name": "#%%\n"
    }
   },
   "outputs": [],
   "source": [
    "drugs_df = pd.concat(drugs_files, ignore_index=True)"
   ]
  },
  {
   "cell_type": "code",
   "execution_count": null,
   "metadata": {
    "pycharm": {
     "name": "#%%\n"
    }
   },
   "outputs": [],
   "source": [
    "drugs_df['case_admission_id'] = create_ehr_case_identification_column(drugs_df)"
   ]
  },
  {
   "cell_type": "code",
   "execution_count": null,
   "metadata": {
    "pycharm": {
     "name": "#%%\n"
    }
   },
   "outputs": [],
   "source": [
    "columns_to_drop = ['nr', 'patient_id', 'eds_end_4digit', 'eds_manual', 'DOB', 'begin_date',\n",
    "       'end_date', 'death_date', 'death_hosp', 'eds_final_id',\n",
    "       'eds_final_begin', 'eds_final_end', 'eds_final_patient_id',\n",
    "       'eds_final_birth', 'eds_final_death', 'eds_final_birth_str',\n",
    "       'date_from', 'date_to']\n",
    "drugs_df.drop(columns_to_drop, axis=1, inplace=True)"
   ]
  },
  {
   "cell_type": "code",
   "execution_count": null,
   "metadata": {
    "pycharm": {
     "name": "#%%\n"
    }
   },
   "outputs": [],
   "source": [
    "drugs_df.head()"
   ]
  },
  {
   "cell_type": "code",
   "execution_count": null,
   "metadata": {
    "pycharm": {
     "name": "#%%\n"
    }
   },
   "outputs": [],
   "source": [
    "administered_drugs = drugs_df['short_name'].value_counts()"
   ]
  },
  {
   "cell_type": "code",
   "execution_count": null,
   "metadata": {
    "pycharm": {
     "name": "#%%\n"
    }
   },
   "outputs": [],
   "source": [
    "a = drugs_df[drugs_df['case_admission_id']=='1032987_03082018']"
   ]
  },
  {
   "cell_type": "code",
   "execution_count": null,
   "metadata": {
    "pycharm": {
     "name": "#%%\n"
    }
   },
   "outputs": [],
   "source": [
    "\n",
    "from matplotlib.dates import DateFormatter\n",
    "import seaborn as sns\n",
    "import matplotlib.pyplot as plt\n",
    "\n",
    "pa_id = np.random.choice(drugs_df['case_admission_id'].unique())\n",
    "temp = drugs_df[(drugs_df['case_admission_id'] == pa_id)].copy()\n",
    "temp['start_date'] = pd.to_datetime(temp['start_date'], format='%d.%m.%Y %H:%M')\n",
    "\n",
    "ax = sns.scatterplot(x='start_date', y='short_name', hue='short_name', data=temp, legend=False)\n",
    "\n",
    "date_form = DateFormatter(\"%d-%m-%Y\")\n",
    "ax.xaxis.set_major_formatter(date_form)\n",
    "plt.xticks(ha='right')\n",
    "ax.tick_params(axis=\"x\", rotation=45)\n",
    "plt.show()"
   ]
  },
  {
   "cell_type": "markdown",
   "metadata": {
    "collapsed": false,
    "pycharm": {
     "name": "#%% md\n"
    }
   },
   "source": [
    "Remarks: administered drugs would be better than prescribed drugs\n",
    "\n"
   ]
  }
 ],
 "metadata": {
  "kernelspec": {
   "display_name": "Python 3",
   "language": "python",
   "name": "python3"
  },
  "language_info": {
   "codemirror_mode": {
    "name": "ipython",
    "version": 2
   },
   "file_extension": ".py",
   "mimetype": "text/x-python",
   "name": "python",
   "nbconvert_exporter": "python",
   "pygments_lexer": "ipython2",
   "version": "2.7.6"
  }
 },
 "nbformat": 4,
 "nbformat_minor": 0
}
