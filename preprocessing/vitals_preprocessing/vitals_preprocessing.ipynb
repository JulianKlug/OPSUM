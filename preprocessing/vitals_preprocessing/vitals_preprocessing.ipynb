{
 "cells": [
  {
   "cell_type": "code",
   "execution_count": null,
   "metadata": {
    "pycharm": {
     "name": "#%%\n"
    }
   },
   "outputs": [],
   "source": [
    "import matplotlib.pyplot as plt\n",
    "import pandas as pd\n",
    "import os\n",
    "import numpy as np\n",
    "\n",
    "from preprocessing.utils import create_ehr_case_identification_column\n",
    "from preprocessing.vitals_preprocessing.vitals_preprocessing import string_to_numeric\n",
    "from preprocessing.utils import restrict_variable_to_possible_ranges\n"
   ]
  },
  {
   "cell_type": "code",
   "execution_count": null,
   "metadata": {
    "pycharm": {
     "name": "#%%\n"
    }
   },
   "outputs": [],
   "source": [
    "data_path = '/Users/jk1/stroke_datasets/stroke_unit_dataset/per_value/Extraction_20220815'\n",
    "vitals_file_start = 'patientvalue'"
   ]
  },
  {
   "cell_type": "code",
   "execution_count": null,
   "metadata": {
    "pycharm": {
     "name": "#%%\n"
    }
   },
   "outputs": [],
   "source": [
    "vitals_files = [pd.read_csv(os.path.join(data_path, f), delimiter=';', encoding='utf-8', dtype=str)\n",
    "             for f in os.listdir(data_path)\n",
    "             if f.startswith(vitals_file_start)]"
   ]
  },
  {
   "cell_type": "code",
   "execution_count": null,
   "metadata": {
    "pycharm": {
     "name": "#%%\n"
    }
   },
   "outputs": [],
   "source": [
    "vitals_df = pd.concat(vitals_files, ignore_index=True)"
   ]
  },
  {
   "cell_type": "code",
   "execution_count": null,
   "metadata": {
    "pycharm": {
     "name": "#%%\n"
    }
   },
   "outputs": [],
   "source": [
    "possible_value_ranges_file = os.path.join(os.path.dirname(os.path.dirname(os.path.abspath(''))),\n",
    "                                          'preprocessing', 'possible_ranges_for_variables.xlsx')\n",
    "possible_value_ranges = pd.read_excel(possible_value_ranges_file)"
   ]
  },
  {
   "cell_type": "code",
   "execution_count": null,
   "metadata": {
    "pycharm": {
     "name": "#%%\n"
    }
   },
   "outputs": [],
   "source": [
    "vitals_df['case_admission_id'] = create_ehr_case_identification_column(vitals_df)\n"
   ]
  },
  {
   "cell_type": "code",
   "execution_count": null,
   "metadata": {
    "pycharm": {
     "name": "#%%\n"
    }
   },
   "outputs": [],
   "source": [
    "vitals_df.head()"
   ]
  },
  {
   "cell_type": "code",
   "execution_count": null,
   "metadata": {
    "pycharm": {
     "name": "#%%\n"
    }
   },
   "outputs": [],
   "source": [
    "columns_to_drop = ['nr', 'patient_id', 'eds_end_4digit', 'eds_manual', 'DOB', 'begin_date',\n",
    "                   'end_date', 'death_date', 'death_hosp', 'eds_final_id',\n",
    "                   'eds_final_begin', 'eds_final_end', 'eds_final_patient_id',\n",
    "                   'eds_final_birth', 'eds_final_death', 'eds_final_birth_str',\n",
    "                   'date_from', 'date_to', 'patient_id_manual', 'stroke_onset_date', 'Referral',\n",
    "                   'match_by', 'multiple_id']\n",
    "vitals_df.drop(columns_to_drop, axis=1, inplace=True)"
   ]
  },
  {
   "cell_type": "code",
   "execution_count": null,
   "metadata": {
    "pycharm": {
     "name": "#%%\n"
    }
   },
   "outputs": [],
   "source": [
    "vitals_df.columns"
   ]
  },
  {
   "cell_type": "markdown",
   "metadata": {
    "collapsed": false,
    "pycharm": {
     "name": "#%% md\n"
    }
   },
   "source": [
    "## Extracting relevant information from table (only needed for extractions after 08 2022)"
   ]
  },
  {
   "cell_type": "code",
   "execution_count": null,
   "metadata": {
    "pycharm": {
     "name": "#%%\n"
    }
   },
   "outputs": [],
   "source": [
    "pv_values = vitals_df.patient_value.value_counts().reset_index()\n",
    "pv_values"
   ]
  },
  {
   "cell_type": "code",
   "execution_count": null,
   "metadata": {
    "pycharm": {
     "name": "#%%\n"
    }
   },
   "outputs": [],
   "source": [
    "pv_values[~pv_values['index'].str.contains('lab')]"
   ]
  },
  {
   "cell_type": "markdown",
   "metadata": {
    "collapsed": false,
    "pycharm": {
     "name": "#%% md\n"
    }
   },
   "source": [
    "__Target parameters__: pv.ta, pv.pulse, pv.spo2, pv.fr, pv.temperature, pv.glycemia, pv.weight"
   ]
  },
  {
   "cell_type": "code",
   "execution_count": null,
   "metadata": {
    "pycharm": {
     "name": "#%%\n"
    }
   },
   "outputs": [],
   "source": [
    "import time\n",
    "\n",
    "start = time.time()\n",
    "print(\"hello\")\n",
    "\n",
    "temp_df = vitals_df[(vitals_df.patient_value.values == 'patient.sv.poids')]\n",
    "\n",
    "end = time.time()\n",
    "print(end - start)"
   ]
  },
  {
   "cell_type": "code",
   "execution_count": null,
   "metadata": {
    "pycharm": {
     "name": "#%%\n"
    }
   },
   "outputs": [],
   "source": [
    "print(temp_df.subkey.unique())\n",
    "temp_df.head(1000)"
   ]
  },
  {
   "cell_type": "code",
   "execution_count": null,
   "metadata": {
    "pycharm": {
     "name": "#%%\n"
    }
   },
   "outputs": [],
   "source": [
    "temp_df[temp_df.subkey == 'Unite'].value.unique()"
   ]
  },
  {
   "cell_type": "code",
   "execution_count": null,
   "metadata": {
    "pycharm": {
     "name": "#%%\n"
    }
   },
   "outputs": [],
   "source": [
    "cid2 = temp_df[temp_df.subkey == 'Valeur'].case_admission_id.unique()"
   ]
  },
  {
   "cell_type": "code",
   "execution_count": null,
   "metadata": {
    "pycharm": {
     "name": "#%%\n"
    }
   },
   "outputs": [],
   "source": [
    "cid1 = temp_df[temp_df.subkey == 'weight'].case_admission_id.unique()"
   ]
  },
  {
   "cell_type": "code",
   "execution_count": null,
   "metadata": {
    "pycharm": {
     "name": "#%%\n"
    }
   },
   "outputs": [],
   "source": [
    "len(set(cid2) - set(cid1))"
   ]
  },
  {
   "cell_type": "code",
   "execution_count": null,
   "metadata": {
    "pycharm": {
     "name": "#%%\n"
    }
   },
   "outputs": [],
   "source": [
    "temp_df[temp_df.subkey == 'o2'].head()"
   ]
  },
  {
   "cell_type": "markdown",
   "metadata": {
    "collapsed": false,
    "pycharm": {
     "name": "#%% md\n"
    }
   },
   "source": [
    "#### Preprocessing temperature"
   ]
  },
  {
   "cell_type": "code",
   "execution_count": null,
   "metadata": {
    "pycharm": {
     "name": "#%%\n"
    }
   },
   "outputs": [],
   "source": [
    "if 'subkey' in vitals_df.columns:\n",
    "    # convert for compatibility with old data\n",
    "    temperature_df = vitals_df[vitals_df.patient_value.values == 'pv.temperature']\n",
    "    temperature_df = temperature_df[temperature_df.subkey.values == 'temperature']\n",
    "    temperature_df.drop(columns=['patient_value', 'subkey'], inplace=True)\n",
    "    temperature_df.rename(columns={'value':'temperature', 'unit':'temp_unit'}, inplace=True)\n",
    "else:\n",
    "    temperature_df = vitals_df[['case_admission_id', 'datetime', 'temperature', 'temp_unit']]\n",
    "\n",
    "temperature_df.dropna(subset=['temperature'], inplace=True)"
   ]
  },
  {
   "cell_type": "code",
   "execution_count": null,
   "metadata": {
    "pycharm": {
     "name": "#%%\n"
    }
   },
   "outputs": [],
   "source": [
    "temperature_df.head()"
   ]
  },
  {
   "cell_type": "code",
   "execution_count": null,
   "metadata": {
    "pycharm": {
     "name": "#%%\n"
    }
   },
   "outputs": [],
   "source": [
    "from preprocessing.utils import safe_conversion_to_numeric\n",
    "\n",
    "# convert ',' to '.' in temperature column\n",
    "temperature_df['temperature'] = temperature_df['temperature'].astype(str).apply(lambda t: t.replace(',', '.'))\n",
    "# remove trailing '.'\n",
    "temperature_df['temperature'] = temperature_df['temperature'].apply(lambda t: t.rstrip('.'))\n",
    "temperature_df = temperature_df[temperature_df.temperature != '']\n",
    "\n",
    "temperature_df = safe_conversion_to_numeric(temperature_df, 'temperature')"
   ]
  },
  {
   "cell_type": "code",
   "execution_count": null,
   "metadata": {
    "pycharm": {
     "name": "#%%\n"
    }
   },
   "outputs": [],
   "source": [
    "if len(temperature_df['temp_unit'].unique()) > 1:\n",
    "    raise ValueError('Temperature units not unified:', temperature_df['temp_unit'].unique())\n",
    "temperature_df['temp_unit'].unique()"
   ]
  },
  {
   "cell_type": "code",
   "execution_count": null,
   "metadata": {
    "pycharm": {
     "name": "#%%\n"
    }
   },
   "outputs": [],
   "source": [
    "temperature_df['temperature'].describe()"
   ]
  },
  {
   "cell_type": "code",
   "execution_count": null,
   "metadata": {
    "pycharm": {
     "name": "#%%\n"
    }
   },
   "outputs": [],
   "source": [
    "from preprocessing.utils import restrict_variable_to_possible_ranges\n",
    "\n",
    "temperature_df, excluded_temperature_df = restrict_variable_to_possible_ranges(temperature_df, 'temperature', possible_value_ranges, verbose=True)"
   ]
  },
  {
   "cell_type": "code",
   "execution_count": null,
   "metadata": {
    "pycharm": {
     "name": "#%%\n"
    }
   },
   "outputs": [],
   "source": [
    "temperature_df['temperature'].plot.hist(bins=50)\n",
    "plt.show()\n",
    "\n"
   ]
  },
  {
   "cell_type": "markdown",
   "metadata": {
    "collapsed": false,
    "pycharm": {
     "name": "#%% md\n"
    }
   },
   "source": [
    "### Processing glycemia"
   ]
  },
  {
   "cell_type": "code",
   "execution_count": null,
   "metadata": {
    "pycharm": {
     "name": "#%%\n"
    }
   },
   "outputs": [],
   "source": [
    "\n",
    "glycemia_df = vitals_df[vitals_df.patient_value.values == 'pv.glycemia']\n",
    "glycemia_df = glycemia_df[glycemia_df.subkey.values == 'glycemia']\n",
    "glycemia_df.drop(columns=['patient_value', 'subkey'], inplace=True)\n",
    "glycemia_df.dropna(subset=['value'], inplace=True)"
   ]
  },
  {
   "cell_type": "code",
   "execution_count": null,
   "metadata": {
    "pycharm": {
     "name": "#%%\n"
    }
   },
   "outputs": [],
   "source": [
    "if len(glycemia_df['unit'].unique()) > 1:\n",
    "    raise ValueError('Glycemia units not unified:', glycemia_df['unit'].unique())\n",
    "glycemia_df['unit'].unique()"
   ]
  },
  {
   "cell_type": "code",
   "execution_count": null,
   "metadata": {
    "pycharm": {
     "name": "#%%\n"
    }
   },
   "outputs": [],
   "source": [
    "# convert ',' to '.' in temperature column\n",
    "glycemia_df['value'] = glycemia_df['value'].astype(str).apply(lambda t: t.replace(',', '.'))\n",
    "# remove trailing '.'\n",
    "glycemia_df['value'] = glycemia_df['value'].astype(str).apply(lambda t: t.rstrip('.'))\n",
    "glycemia_df = glycemia_df[glycemia_df.value != '']"
   ]
  },
  {
   "cell_type": "code",
   "execution_count": null,
   "metadata": {
    "pycharm": {
     "name": "#%%\n"
    }
   },
   "outputs": [],
   "source": [
    "glycemia_df = safe_conversion_to_numeric(glycemia_df, 'value')\n"
   ]
  },
  {
   "cell_type": "code",
   "execution_count": null,
   "metadata": {
    "pycharm": {
     "name": "#%%\n"
    }
   },
   "outputs": [],
   "source": [
    "glycemia_df.rename(columns={'value':'glucose'}, inplace=True)\n",
    "glycemia_df, excluded_glycemia_df = restrict_variable_to_possible_ranges(glycemia_df, 'glucose', possible_value_ranges, verbose=True)"
   ]
  },
  {
   "cell_type": "markdown",
   "metadata": {
    "collapsed": false,
    "pycharm": {
     "name": "#%% md\n"
    }
   },
   "source": [
    "### Preprocessing systolic blood pressure\n"
   ]
  },
  {
   "cell_type": "code",
   "execution_count": null,
   "metadata": {
    "pycharm": {
     "name": "#%%\n"
    }
   },
   "outputs": [],
   "source": [
    "if 'subkey' in vitals_df.columns:\n",
    "    # convert for compatibility with old data\n",
    "    sys_bp_df = vitals_df[(vitals_df.patient_value.values == 'pv.ta') & (vitals_df.subkey.values == 'sys')]\n",
    "    sys_bp_df.drop(columns=['patient_value', 'subkey'], inplace=True)\n",
    "    sys_bp_df.rename(columns={'value':'sys', 'unit':'sys_unit'}, inplace=True)\n",
    "else:\n",
    "    sys_bp_df = vitals_df[['case_admission_id', 'datetime', 'sys', 'sys_unit']]\n",
    "\n",
    "sys_bp_df.dropna(subset=['sys'], inplace=True)\n",
    "\n"
   ]
  },
  {
   "cell_type": "code",
   "execution_count": null,
   "metadata": {
    "pycharm": {
     "name": "#%%\n"
    }
   },
   "outputs": [],
   "source": [
    "sys_bp_df['sys_unit'].fillna('mmHg', inplace=True)\n",
    "if len(sys_bp_df['sys_unit'].unique()) > 1:\n",
    "    raise ValueError('Systolic blood pressure units not unified:', sys_bp_df['sys_unit'].unique())\n",
    "sys_bp_df['sys_unit'].unique()"
   ]
  },
  {
   "cell_type": "code",
   "execution_count": null,
   "metadata": {
    "pycharm": {
     "name": "#%%\n"
    }
   },
   "outputs": [],
   "source": [
    "# convert ',' to '.' in temperature column\n",
    "sys_bp_df['sys'] = sys_bp_df['sys'].astype(str).apply(lambda t: t.replace(',', '.'))\n",
    "# remove trailing '.'\n",
    "sys_bp_df['sys'] = sys_bp_df['sys'].astype(str).apply(lambda t: t.rstrip('.'))\n",
    "sys_bp_df = sys_bp_df[sys_bp_df.sys != '']"
   ]
  },
  {
   "cell_type": "code",
   "execution_count": null,
   "metadata": {
    "pycharm": {
     "name": "#%%\n"
    }
   },
   "outputs": [],
   "source": [
    "sys_bp_df = safe_conversion_to_numeric(sys_bp_df, 'sys')"
   ]
  },
  {
   "cell_type": "code",
   "execution_count": null,
   "metadata": {
    "pycharm": {
     "name": "#%%\n"
    }
   },
   "outputs": [],
   "source": [
    "sys_bp_df, excluded_sys_bp_df = restrict_variable_to_possible_ranges(sys_bp_df, 'sys', possible_value_ranges, verbose=True)"
   ]
  },
  {
   "cell_type": "code",
   "execution_count": null,
   "metadata": {
    "pycharm": {
     "name": "#%%\n"
    }
   },
   "outputs": [],
   "source": [
    "sys_bp_df['sys'].describe()\n"
   ]
  },
  {
   "cell_type": "code",
   "execution_count": null,
   "metadata": {
    "pycharm": {
     "name": "#%%\n"
    }
   },
   "outputs": [],
   "source": [
    "sys_bp_df['sys'].plot.hist(bins=50)\n",
    "plt.show()"
   ]
  },
  {
   "cell_type": "markdown",
   "metadata": {
    "collapsed": false,
    "pycharm": {
     "name": "#%% md\n"
    }
   },
   "source": [
    "### Preprocessing diastolic blood pressure\n"
   ]
  },
  {
   "cell_type": "code",
   "execution_count": null,
   "metadata": {
    "pycharm": {
     "name": "#%%\n"
    }
   },
   "outputs": [],
   "source": [
    "if 'subkey' in vitals_df.columns:\n",
    "    # convert for compatibility with old data\n",
    "    dia_bp_df = vitals_df[(vitals_df.patient_value.values == 'pv.ta') & (vitals_df.subkey.values == 'dia')]\n",
    "    dia_bp_df.drop(columns=['patient_value', 'subkey'], inplace=True)\n",
    "    dia_bp_df.rename(columns={'value':'dia', 'unit':'dia_unit'}, inplace=True)\n",
    "else:\n",
    "    dia_bp_df = vitals_df[['case_admission_id', 'datetime', 'dia', 'dia_unit']]\n",
    "\n",
    "dia_bp_df.dropna(subset=['dia'], inplace=True)\n"
   ]
  },
  {
   "cell_type": "code",
   "execution_count": null,
   "metadata": {
    "pycharm": {
     "name": "#%%\n"
    }
   },
   "outputs": [],
   "source": [
    "dia_bp_df"
   ]
  },
  {
   "cell_type": "code",
   "execution_count": null,
   "metadata": {
    "pycharm": {
     "name": "#%%\n"
    }
   },
   "outputs": [],
   "source": [
    "dia_bp_df['dia_unit'].fillna('mmHg', inplace=True)\n",
    "if len(dia_bp_df['dia_unit'].unique()) > 1:\n",
    "    raise ValueError('Diasystolic blood pressure units not unified:', dia_bp_df['dia_unit'].unique())"
   ]
  },
  {
   "cell_type": "code",
   "execution_count": null,
   "metadata": {
    "pycharm": {
     "name": "#%%\n"
    }
   },
   "outputs": [],
   "source": [
    "dia_bp_df = string_to_numeric(dia_bp_df, 'dia')"
   ]
  },
  {
   "cell_type": "code",
   "execution_count": null,
   "metadata": {
    "pycharm": {
     "name": "#%%\n"
    }
   },
   "outputs": [],
   "source": [
    "dia_bp_df, excluded_dia_bp_df = restrict_variable_to_possible_ranges(dia_bp_df, 'dia', possible_value_ranges, verbose=True)"
   ]
  },
  {
   "cell_type": "code",
   "execution_count": null,
   "metadata": {
    "pycharm": {
     "name": "#%%\n"
    }
   },
   "outputs": [],
   "source": [
    "dia_bp_df.describe()"
   ]
  },
  {
   "cell_type": "code",
   "execution_count": null,
   "metadata": {
    "pycharm": {
     "name": "#%%\n"
    }
   },
   "outputs": [],
   "source": [
    "dia_bp_df['dia'].plot.hist(bins=50)\n",
    "plt.show()"
   ]
  },
  {
   "cell_type": "markdown",
   "metadata": {
    "collapsed": false,
    "pycharm": {
     "name": "#%% md\n"
    }
   },
   "source": [
    "### Preprocessing mean blood pressure"
   ]
  },
  {
   "cell_type": "code",
   "execution_count": null,
   "metadata": {
    "pycharm": {
     "name": "#%%\n"
    }
   },
   "outputs": [],
   "source": [
    "if 'subkey' in vitals_df.columns:\n",
    "    # convert for compatibility with old data\n",
    "    mean_bp_df = vitals_df[(vitals_df.patient_value.values == 'pv.ta') & (vitals_df.subkey.values == 'mean')]\n",
    "    mean_bp_df.drop(columns=['patient_value', 'subkey'], inplace=True)\n",
    "    mean_bp_df.rename(columns={'value':'mean', 'unit':'mean_unit'}, inplace=True)\n",
    "else:\n",
    "    mean_bp_df = vitals_df[['case_admission_id', 'datetime', 'mean', 'mean_unit']]\n",
    "\n",
    "mean_bp_df.dropna(subset=['mean'], inplace=True)"
   ]
  },
  {
   "cell_type": "code",
   "execution_count": null,
   "metadata": {
    "pycharm": {
     "name": "#%%\n"
    }
   },
   "outputs": [],
   "source": [
    "mean_bp_df"
   ]
  },
  {
   "cell_type": "code",
   "execution_count": null,
   "metadata": {
    "pycharm": {
     "name": "#%%\n"
    }
   },
   "outputs": [],
   "source": [
    "mean_bp_df['mean_unit'].fillna('mmHg', inplace=True)\n",
    "if len(mean_bp_df['mean_unit'].unique()) > 1:\n",
    "    raise ValueError('Mean blood pressure units not unified:', mean_bp_df['mean_unit'].unique())"
   ]
  },
  {
   "cell_type": "code",
   "execution_count": null,
   "metadata": {
    "pycharm": {
     "name": "#%%\n"
    }
   },
   "outputs": [],
   "source": [
    "mean_bp_df = string_to_numeric(mean_bp_df, 'mean')"
   ]
  },
  {
   "cell_type": "code",
   "execution_count": null,
   "metadata": {
    "pycharm": {
     "name": "#%%\n"
    }
   },
   "outputs": [],
   "source": [
    "mean_bp_df, excluded_mean_bp_df = restrict_variable_to_possible_ranges(mean_bp_df, 'mean', possible_value_ranges, verbose=True)"
   ]
  },
  {
   "cell_type": "code",
   "execution_count": null,
   "metadata": {
    "pycharm": {
     "name": "#%%\n"
    }
   },
   "outputs": [],
   "source": [
    "mean_bp_df.describe()"
   ]
  },
  {
   "cell_type": "code",
   "execution_count": null,
   "metadata": {
    "pycharm": {
     "name": "#%%\n"
    }
   },
   "outputs": [],
   "source": [
    "mean_bp_df['mean'].plot.hist(bins=50)\n",
    "plt.show()"
   ]
  },
  {
   "cell_type": "markdown",
   "metadata": {
    "collapsed": false,
    "pycharm": {
     "name": "#%% md\n"
    }
   },
   "source": [
    "### Preprocessing heart rate\n"
   ]
  },
  {
   "cell_type": "code",
   "execution_count": null,
   "metadata": {
    "pycharm": {
     "name": "#%%\n"
    }
   },
   "outputs": [],
   "source": [
    "if 'subkey' in vitals_df.columns:\n",
    "    # convert for compatibility with old data\n",
    "    pulse_df = vitals_df[(vitals_df.patient_value.values == 'pv.pulse') & (vitals_df.subkey.values == 'pulse')]\n",
    "    pulse_df.drop(columns=['patient_value', 'subkey'], inplace=True)\n",
    "    pulse_df.rename(columns={'value':'pulse', 'unit':'pulse_unit'}, inplace=True)\n",
    "else:\n",
    "    pulse_df = vitals_df[['case_admission_id', 'datetime', 'pulse', 'pulse_unit']]\n",
    "\n",
    "pulse_df.dropna(subset=['pulse'], inplace=True)\n"
   ]
  },
  {
   "cell_type": "code",
   "execution_count": null,
   "metadata": {
    "pycharm": {
     "name": "#%%\n"
    }
   },
   "outputs": [],
   "source": [
    "pulse_df"
   ]
  },
  {
   "cell_type": "code",
   "execution_count": null,
   "metadata": {
    "pycharm": {
     "name": "#%%\n"
    }
   },
   "outputs": [],
   "source": [
    "pulse_target_unit = possible_value_ranges[possible_value_ranges.variable_label == 'pulse'].units.iloc[0]\n",
    "pulse_equivalent_units = ['bpm', 'puls./min.', '/min']\n",
    "if pulse_target_unit in pulse_equivalent_units:\n",
    "    pulse_df['pulse_unit'].fillna(pulse_target_unit, inplace=True)\n",
    "    # convert to regex with |\n",
    "    pulse_df['pulse_unit'].replace('|'.join(pulse_equivalent_units), pulse_target_unit, regex=True, inplace=True)\n",
    "else:\n",
    "    raise ValueError(f'Pulse target unit as defined in {possible_value_ranges_file}, not part of {pulse_equivalent_units}')\n",
    "if len(pulse_df['pulse_unit'].unique()) > 1:\n",
    "    raise ValueError('Pulse units not unified:', pulse_df['pulse_unit'].unique())"
   ]
  },
  {
   "cell_type": "code",
   "execution_count": null,
   "metadata": {
    "pycharm": {
     "name": "#%%\n"
    }
   },
   "outputs": [],
   "source": [
    "pulse_df[pulse_df.pulse.str.contains('-')]"
   ]
  },
  {
   "cell_type": "code",
   "execution_count": null,
   "metadata": {
    "pycharm": {
     "name": "#%%\n"
    }
   },
   "outputs": [],
   "source": [
    "pulse_df = pulse_df[pulse_df['pulse'] != '-']\n",
    "pulse_df = string_to_numeric(pulse_df, 'pulse')\n"
   ]
  },
  {
   "cell_type": "code",
   "execution_count": null,
   "metadata": {
    "pycharm": {
     "name": "#%%\n"
    }
   },
   "outputs": [],
   "source": [
    "pulse_df, excluded_pulse_df = restrict_variable_to_possible_ranges(pulse_df, 'pulse', possible_value_ranges, verbose=True)"
   ]
  },
  {
   "cell_type": "code",
   "execution_count": null,
   "metadata": {
    "pycharm": {
     "name": "#%%\n"
    }
   },
   "outputs": [],
   "source": [
    "pulse_df.describe()"
   ]
  },
  {
   "cell_type": "code",
   "execution_count": null,
   "metadata": {
    "pycharm": {
     "name": "#%%\n"
    }
   },
   "outputs": [],
   "source": [
    "pulse_df.plot.hist(bins=50)\n",
    "plt.show()"
   ]
  },
  {
   "cell_type": "markdown",
   "metadata": {
    "collapsed": false,
    "pycharm": {
     "name": "#%% md\n"
    }
   },
   "source": [
    "### Preprocessing respiratory rate\n"
   ]
  },
  {
   "cell_type": "code",
   "execution_count": null,
   "metadata": {
    "pycharm": {
     "name": "#%%\n"
    }
   },
   "outputs": [],
   "source": [
    "if 'subkey' in vitals_df.columns:\n",
    "    # convert for compatibility with old data\n",
    "    resp_rate_df = vitals_df[(vitals_df.patient_value.values == 'pv.fr')]\n",
    "    resp_rate_df.drop(columns=['patient_value', 'subkey'], inplace=True)\n",
    "    resp_rate_df.rename(columns={'value': 'fr', 'unit': 'fr_unit'}, inplace=True)\n",
    "else:\n",
    "    resp_rate_df = vitals_df[['case_admission_id', 'datetime', 'fr', 'fr_unit']]\n",
    "\n",
    "resp_rate_df.dropna(subset=['fr'], inplace=True)\n"
   ]
  },
  {
   "cell_type": "code",
   "execution_count": null,
   "metadata": {
    "pycharm": {
     "name": "#%%\n"
    }
   },
   "outputs": [],
   "source": [
    "from preprocessing.vitals_preprocessing.vitals_preprocessing import harmonize_units\n",
    "\n",
    "resp_rate_equivalent_units = ['/min', 'cycles/min.']\n",
    "resp_rate_df = harmonize_units(resp_rate_df, 'fr', 'fr_unit', possible_value_ranges, resp_rate_equivalent_units)"
   ]
  },
  {
   "cell_type": "code",
   "execution_count": null,
   "metadata": {
    "pycharm": {
     "name": "#%%\n"
    }
   },
   "outputs": [],
   "source": [
    "resp_rate_df = string_to_numeric(resp_rate_df, 'fr')"
   ]
  },
  {
   "cell_type": "code",
   "execution_count": null,
   "metadata": {
    "pycharm": {
     "name": "#%%\n"
    }
   },
   "outputs": [],
   "source": [
    "resp_rate_df, excluded_resp_rate_df = restrict_variable_to_possible_ranges(resp_rate_df, 'fr', possible_value_ranges, verbose=True)"
   ]
  },
  {
   "cell_type": "code",
   "execution_count": null,
   "metadata": {
    "pycharm": {
     "name": "#%%\n"
    }
   },
   "outputs": [],
   "source": [
    "excluded_resp_rate_df"
   ]
  },
  {
   "cell_type": "code",
   "execution_count": null,
   "metadata": {
    "pycharm": {
     "name": "#%%\n"
    }
   },
   "outputs": [],
   "source": [
    "resp_rate_df.describe()"
   ]
  },
  {
   "cell_type": "code",
   "execution_count": null,
   "metadata": {
    "pycharm": {
     "name": "#%%\n"
    }
   },
   "outputs": [],
   "source": [
    "resp_rate_df.plot.hist(bins=50)\n",
    "plt.show()"
   ]
  },
  {
   "cell_type": "markdown",
   "metadata": {
    "collapsed": false,
    "pycharm": {
     "name": "#%% md\n"
    }
   },
   "source": [
    "### Preprocessing oxygen saturation\n"
   ]
  },
  {
   "cell_type": "code",
   "execution_count": null,
   "metadata": {
    "pycharm": {
     "name": "#%%\n"
    }
   },
   "outputs": [],
   "source": [
    "if 'subkey' in vitals_df.columns:\n",
    "    # convert for compatibility with old data\n",
    "    spo2_df = vitals_df[(vitals_df.patient_value.values == 'pv.spo2') & (vitals_df.subkey.values == 'spo2') ]\n",
    "    spo2_df.drop(columns=['patient_value', 'subkey'], inplace=True)\n",
    "    spo2_df.rename(columns={'value': 'spo2', 'unit': 'spo2_unit'}, inplace=True)\n",
    "else:\n",
    "    spo2_df = vitals_df[['case_admission_id', 'datetime', 'spo2', 'spo2_unit']]\n",
    "\n",
    "spo2_df.dropna(subset=['spo2'], inplace=True)\n"
   ]
  },
  {
   "cell_type": "code",
   "execution_count": null,
   "metadata": {
    "pycharm": {
     "name": "#%%\n"
    }
   },
   "outputs": [],
   "source": [
    "spo2_df = harmonize_units(spo2_df, 'spo2', 'spo2_unit', possible_value_ranges, ['%'])"
   ]
  },
  {
   "cell_type": "code",
   "execution_count": null,
   "metadata": {
    "pycharm": {
     "name": "#%%\n"
    }
   },
   "outputs": [],
   "source": [
    "spo2_df = string_to_numeric(spo2_df, 'spo2')"
   ]
  },
  {
   "cell_type": "code",
   "execution_count": null,
   "metadata": {
    "pycharm": {
     "name": "#%%\n"
    }
   },
   "outputs": [],
   "source": [
    "spo2_df, excluded_spo2_df = restrict_variable_to_possible_ranges(spo2_df, 'spo2', possible_value_ranges, verbose=True)"
   ]
  },
  {
   "cell_type": "code",
   "execution_count": null,
   "metadata": {
    "pycharm": {
     "name": "#%%\n"
    }
   },
   "outputs": [],
   "source": [
    "spo2_df.describe()"
   ]
  },
  {
   "cell_type": "code",
   "execution_count": null,
   "metadata": {
    "pycharm": {
     "name": "#%%\n"
    }
   },
   "outputs": [],
   "source": [
    "spo2_df.plot.hist(bins=50)\n",
    "plt.show()"
   ]
  },
  {
   "cell_type": "markdown",
   "metadata": {
    "collapsed": false,
    "pycharm": {
     "name": "#%% md\n"
    }
   },
   "source": [
    "### Processing FiO2"
   ]
  },
  {
   "cell_type": "code",
   "execution_count": null,
   "metadata": {
    "pycharm": {
     "name": "#%%\n"
    }
   },
   "outputs": [],
   "source": [
    "# convert for compatibility with old data\n",
    "fio2_df = vitals_df[(vitals_df.patient_value.values == 'pv.spo2')\n",
    "                    & ((vitals_df.subkey.values == 'o2') | (vitals_df.subkey.values == 'fio2')) ]\n",
    "fio2_df.drop(columns=['patient_value'], inplace=True)\n",
    "fio2_df.rename(columns={'value': 'FIO2', 'unit': 'FIO2_unit'}, inplace=True)\n",
    "fio2_df.dropna(subset=['FIO2'], inplace=True)"
   ]
  },
  {
   "cell_type": "code",
   "execution_count": null,
   "metadata": {
    "pycharm": {
     "name": "#%%\n"
    }
   },
   "outputs": [],
   "source": [
    "fio2_df = string_to_numeric(fio2_df, 'FIO2')\n"
   ]
  },
  {
   "cell_type": "code",
   "execution_count": null,
   "metadata": {
    "pycharm": {
     "name": "#%%\n"
    }
   },
   "outputs": [],
   "source": [
    "fio2_df"
   ]
  },
  {
   "cell_type": "code",
   "execution_count": null,
   "metadata": {
    "pycharm": {
     "name": "#%%\n"
    }
   },
   "outputs": [],
   "source": [
    "# Converting    O2    flow    to FIO2\n",
    "fio2_df.loc[(fio2_df['FIO2_unit'] == 'L/min') & (fio2_df['FIO2'] > 15), 'FIO2'] = np.nan\n",
    "fio2_df.loc[(fio2_df['FIO2_unit'] == 'L/min') & (fio2_df['FIO2'] < 0), 'FIO2'] = np.nan\n",
    "# Set to 21% when flow == 0\n",
    "fio2_df.loc[(fio2_df['FIO2_unit'] == 'L/min') & (fio2_df['FIO2'] == 0), 'FIO2'] = 21\n",
    "\n",
    "fio2_df.loc[(fio2_df['FIO2_unit'] == 'L/min')\n",
    "                   & (fio2_df['FIO2'].notnull()), 'FIO2'] = 20 + 4 * fio2_df[\n",
    "    (fio2_df['FIO2_unit'] == 'L/min')\n",
    "    & (fio2_df['FIO2'].notnull())]['FIO2']\n",
    "\n"
   ]
  },
  {
   "cell_type": "code",
   "execution_count": null,
   "metadata": {
    "pycharm": {
     "name": "#%%\n"
    }
   },
   "outputs": [],
   "source": [
    "fio2_df.loc[fio2_df['FIO2_unit'] == 'L/min', 'FIO2_unit'] = '%'"
   ]
  },
  {
   "cell_type": "code",
   "execution_count": null,
   "metadata": {
    "pycharm": {
     "name": "#%%\n"
    }
   },
   "outputs": [],
   "source": [
    "fio2_df = harmonize_units(fio2_df, 'FIO2', 'FIO2_unit', possible_value_ranges, ['%'])\n"
   ]
  },
  {
   "cell_type": "code",
   "execution_count": null,
   "metadata": {
    "pycharm": {
     "name": "#%%\n"
    }
   },
   "outputs": [],
   "source": [
    "fio2_df, excluded_fio2_df = restrict_variable_to_possible_ranges(fio2_df, 'FIO2', possible_value_ranges,\n",
    "                                                      verbose=True)"
   ]
  },
  {
   "cell_type": "code",
   "execution_count": null,
   "metadata": {
    "pycharm": {
     "name": "#%%\n"
    }
   },
   "outputs": [],
   "source": [
    "excluded_fio2_df"
   ]
  },
  {
   "cell_type": "code",
   "execution_count": null,
   "metadata": {
    "pycharm": {
     "name": "#%%\n"
    }
   },
   "outputs": [],
   "source": [
    "fio2_df.dropna(subset=['FIO2'], inplace=True)\n",
    "fio2_df.drop(columns=['subkey'], inplace=True)"
   ]
  },
  {
   "cell_type": "code",
   "execution_count": null,
   "metadata": {
    "pycharm": {
     "name": "#%%\n"
    }
   },
   "outputs": [],
   "source": [
    "fio2_df.describe()"
   ]
  },
  {
   "cell_type": "code",
   "execution_count": null,
   "metadata": {
    "pycharm": {
     "name": "#%%\n"
    }
   },
   "outputs": [],
   "source": [
    "fio2_df.plot.hist(bins=50)\n",
    "plt.show()"
   ]
  },
  {
   "cell_type": "markdown",
   "metadata": {
    "collapsed": false,
    "pycharm": {
     "name": "#%% md\n"
    }
   },
   "source": [
    "### Preprocessing weight\n",
    "\n"
   ]
  },
  {
   "cell_type": "code",
   "execution_count": null,
   "metadata": {
    "pycharm": {
     "name": "#%%\n"
    }
   },
   "outputs": [],
   "source": [
    "if 'subkey' in vitals_df.columns:\n",
    "    # convert for compatibility with old data\n",
    "    weight_df = vitals_df[((vitals_df.patient_value.values == 'pv.weight') & (vitals_df.subkey.values == 'weight'))\n",
    "                           | ((vitals_df.patient_value.values == 'patient.sv.poids') & (vitals_df.subkey.values == 'Valeur'))]\n",
    "    weight_df.drop(columns=['patient_value', 'subkey'], inplace=True)\n",
    "    weight_df.rename(columns={'value': 'weight', 'unit': 'weight_unit'}, inplace=True)\n",
    "else:\n",
    "    weight_df = vitals_df[['case_admission_id', 'datetime', 'weight', 'weight_unit']]\n",
    "\n",
    "weight_df.dropna(subset=['weight'], inplace=True)"
   ]
  },
  {
   "cell_type": "code",
   "execution_count": null,
   "metadata": {
    "pycharm": {
     "name": "#%%\n"
    }
   },
   "outputs": [],
   "source": [
    "weight_df = harmonize_units(weight_df, 'weight', 'weight_unit', possible_value_ranges, ['kg'])"
   ]
  },
  {
   "cell_type": "code",
   "execution_count": null,
   "metadata": {
    "pycharm": {
     "name": "#%%\n"
    }
   },
   "outputs": [],
   "source": [
    "weight_df = string_to_numeric(weight_df, 'weight')"
   ]
  },
  {
   "cell_type": "code",
   "execution_count": null,
   "metadata": {
    "pycharm": {
     "name": "#%%\n"
    }
   },
   "outputs": [],
   "source": [
    "weight_df, excluded_weight_df = restrict_variable_to_possible_ranges(weight_df, 'weight', possible_value_ranges, verbose=True)"
   ]
  },
  {
   "cell_type": "code",
   "execution_count": null,
   "metadata": {
    "pycharm": {
     "name": "#%%\n"
    }
   },
   "outputs": [],
   "source": [
    "weight_df = weight_df.drop_duplicates()"
   ]
  },
  {
   "cell_type": "code",
   "execution_count": null,
   "metadata": {
    "pycharm": {
     "name": "#%%\n"
    }
   },
   "outputs": [],
   "source": [
    "weight_df.describe()"
   ]
  },
  {
   "cell_type": "code",
   "execution_count": null,
   "metadata": {
    "pycharm": {
     "name": "#%%\n"
    }
   },
   "outputs": [],
   "source": [
    "weight_df.plot.hist(bins=50)\n",
    "plt.show()"
   ]
  },
  {
   "cell_type": "markdown",
   "metadata": {
    "collapsed": false,
    "pycharm": {
     "name": "#%% md\n"
    }
   },
   "source": [
    "# Testing entire pipeline"
   ]
  },
  {
   "cell_type": "code",
   "execution_count": null,
   "metadata": {
    "pycharm": {
     "name": "#%%\n"
    }
   },
   "outputs": [],
   "source": [
    "from preprocessing.vitals_preprocessing.vitals_preprocessing import preprocess_vitals\n",
    "\n",
    "preprocessed_vitals_df = preprocess_vitals(vitals_df, verbose=True)"
   ]
  },
  {
   "cell_type": "code",
   "execution_count": null,
   "metadata": {
    "pycharm": {
     "name": "#%%\n"
    }
   },
   "outputs": [],
   "source": [
    "preprocessed_vitals_df.head()"
   ]
  },
  {
   "cell_type": "code",
   "execution_count": null,
   "metadata": {
    "pycharm": {
     "name": "#%%\n"
    }
   },
   "outputs": [],
   "source": [
    "preprocessed_vitals_df.vital_name.unique()"
   ]
  },
  {
   "cell_type": "code",
   "execution_count": null,
   "metadata": {
    "pycharm": {
     "name": "#%%\n"
    }
   },
   "outputs": [],
   "source": [
    "from matplotlib.dates import DateFormatter\n",
    "import seaborn as sns\n",
    "import matplotlib.pyplot as plt\n",
    "\n",
    "pa_id = np.random.choice(preprocessed_vitals_df.case_admission_id.unique())\n",
    "vital = 'heart_rate'\n",
    "temp = preprocessed_vitals_df[(preprocessed_vitals_df['case_admission_id'] == pa_id) & (preprocessed_vitals_df.vital_name == vital)].copy()\n",
    "temp['datetime'] = pd.to_datetime(temp['datetime'], format='%d.%m.%Y %H:%M')\n",
    "ax = sns.scatterplot(x='datetime', y='vital_value', data=temp, hue='vital_value', legend=False)\n",
    "# Define the date format\n",
    "date_form = DateFormatter(\"%m-%d-%Y\")\n",
    "ax.xaxis.set_major_formatter(date_form)\n",
    "ax.tick_params(axis=\"x\", rotation=45)\n",
    "ax.set_ylim(0,100)\n",
    "ax.set_title(f'{vital} for subj {pa_id}')\n",
    "plt.show()"
   ]
  },
  {
   "cell_type": "code",
   "execution_count": null,
   "metadata": {
    "pycharm": {
     "name": "#%%\n"
    }
   },
   "outputs": [],
   "source": []
  }
 ],
 "metadata": {
  "kernelspec": {
   "display_name": "Python 3",
   "language": "python",
   "name": "python3"
  },
  "language_info": {
   "codemirror_mode": {
    "name": "ipython",
    "version": 2
   },
   "file_extension": ".py",
   "mimetype": "text/x-python",
   "name": "python",
   "nbconvert_exporter": "python",
   "pygments_lexer": "ipython2",
   "version": "2.7.6"
  }
 },
 "nbformat": 4,
 "nbformat_minor": 0
}
