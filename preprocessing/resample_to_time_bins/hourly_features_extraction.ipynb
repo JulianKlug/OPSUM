{
 "cells": [
  {
   "cell_type": "code",
   "execution_count": null,
   "metadata": {},
   "outputs": [],
   "source": [
    "import pandas\n",
    "import numpy as np\n",
    "import pandas as pd"
   ]
  },
  {
   "cell_type": "code",
   "execution_count": null,
   "metadata": {
    "pycharm": {
     "name": "#%%\n"
    }
   },
   "outputs": [],
   "source": [
    "data_path = '/Users/jk1/stroke_datasets/stroke_unit_dataset/per_value/Extraction_20211110'\n",
    "admission_data_path = '/Users/jk1/OneDrive - unige.ch/stroke_research/geneva_stroke_unit_dataset/data/stroke_registry/post_hoc_modified/stroke_registry_post_hoc_modified.xlsx'\n",
    "patient_selection_path = '/Users/jk1/temp/opsum_extration_output/high_frequency_data_patient_selection.csv'"
   ]
  },
  {
   "cell_type": "code",
   "execution_count": null,
   "metadata": {
    "pycharm": {
     "name": "#%%\n"
    }
   },
   "outputs": [],
   "source": [
    "from preprocessing.variable_assembly.variable_database_assembly import assemble_variable_database\n",
    "\n",
    "feature_df = assemble_variable_database(data_path, admission_data_path, patient_selection_path)"
   ]
  },
  {
   "cell_type": "code",
   "execution_count": null,
   "metadata": {
    "pycharm": {
     "name": "#%%\n"
    }
   },
   "outputs": [],
   "source": [
    "from preprocessing.variable_assembly.relative_timestamps import transform_to_relative_timestamps\n",
    "\n",
    "restricted_feature_df = transform_to_relative_timestamps(feature_df, drop_old_columns=False, restrict_to_time_range=True)"
   ]
  },
  {
   "cell_type": "code",
   "execution_count": null,
   "metadata": {
    "pycharm": {
     "name": "#%%\n"
    }
   },
   "outputs": [],
   "source": [
    "from preprocessing.normalisation.normalisation import normalise_data\n",
    "\n",
    "normalised_restricted_feature_df = normalise_data(restricted_feature_df, verbose=True)"
   ]
  },
  {
   "cell_type": "code",
   "execution_count": null,
   "metadata": {
    "pycharm": {
     "name": "#%%\n"
    }
   },
   "outputs": [],
   "source": [
    "from preprocessing.encoding_categorical_variables.encode_categorical_variables import encode_categorical_variables\n",
    "\n",
    "cat_encoded_normalised_restricted_feature_df = encode_categorical_variables(normalised_restricted_feature_df)"
   ]
  },
  {
   "cell_type": "code",
   "execution_count": null,
   "metadata": {
    "pycharm": {
     "name": "#%%\n"
    }
   },
   "outputs": [],
   "source": [
    "cat_encoded_normalised_restricted_feature_df.head()"
   ]
  },
  {
   "cell_type": "code",
   "execution_count": null,
   "metadata": {
    "pycharm": {
     "name": "#%%\n"
    }
   },
   "outputs": [],
   "source": [
    "cat_encoded_normalised_restricted_feature_df['relative_sample_date_hourly_cat'] = np.floor(cat_encoded_normalised_restricted_feature_df['relative_sample_date'])"
   ]
  },
  {
   "cell_type": "code",
   "execution_count": null,
   "metadata": {
    "pycharm": {
     "name": "#%%\n"
    }
   },
   "outputs": [],
   "source": [
    "cat_encoded_normalised_restricted_feature_df.head()"
   ]
  },
  {
   "cell_type": "code",
   "execution_count": null,
   "metadata": {
    "pycharm": {
     "name": "#%%\n"
    }
   },
   "outputs": [],
   "source": [
    "for variable in cat_encoded_normalised_restricted_feature_df.sample_label.unique():\n",
    "    print(f\"'{variable}',\")"
   ]
  },
  {
   "cell_type": "code",
   "execution_count": null,
   "metadata": {
    "pycharm": {
     "name": "#%%\n"
    }
   },
   "outputs": [],
   "source": [
    "variables_to_down_sample = [\n",
    "    'NIHSS',\n",
    "    'oxygen_saturation',\n",
    "    'systolic_blood_pressure',\n",
    "    'diastolic_blood_pressure',\n",
    "    'mean_blood_pressure',\n",
    "    'heart_rate',\n",
    "    'respiratory_rate'\n",
    "]"
   ]
  },
  {
   "cell_type": "code",
   "execution_count": null,
   "metadata": {
    "pycharm": {
     "name": "#%%\n"
    }
   },
   "outputs": [],
   "source": [
    "# find hourly median value for NIHSS\n",
    "median_NIHSS = cat_encoded_normalised_restricted_feature_df[cat_encoded_normalised_restricted_feature_df.sample_label == 'NIHSS'].groupby([\n",
    "    'case_admission_id',\n",
    "    'relative_sample_date_hourly_cat'\n",
    "])['value'].median().reset_index()\n",
    "median_NIHSS"
   ]
  },
  {
   "cell_type": "code",
   "execution_count": null,
   "metadata": {
    "pycharm": {
     "name": "#%%\n"
    }
   },
   "outputs": [],
   "source": [
    "cat_encoded_normalised_restricted_feature_df[cat_encoded_normalised_restricted_feature_df.sample_label == 'NIHSS'].groupby([\n",
    "    'case_admission_id',\n",
    "    'relative_sample_date_hourly_cat'\n",
    "])['value'].min().reset_index()"
   ]
  },
  {
   "cell_type": "code",
   "execution_count": null,
   "metadata": {
    "pycharm": {
     "name": "#%%\n"
    }
   },
   "outputs": [],
   "source": [
    "cat_encoded_normalised_restricted_feature_df_essential_columns = cat_encoded_normalised_restricted_feature_df[[\n",
    "    'case_admission_id',\n",
    "    'relative_sample_date_hourly_cat',\n",
    "    'sample_label',\n",
    "    'source',\n",
    "    'value'\n",
    "]]"
   ]
  },
  {
   "cell_type": "code",
   "execution_count": null,
   "metadata": {
    "pycharm": {
     "name": "#%%\n"
    }
   },
   "outputs": [],
   "source": [
    "for variable in variables_to_down_sample:\n",
    "    print(f\"{variable}\")\n",
    "    median_variable_df = cat_encoded_normalised_restricted_feature_df[cat_encoded_normalised_restricted_feature_df.sample_label == variable].groupby([\n",
    "        'case_admission_id',\n",
    "        'relative_sample_date_hourly_cat'\n",
    "    ])['value'].median().reset_index()\n",
    "    median_variable_df['sample_label'] = f'median_{variable}'\n",
    "    max_variable_df = cat_encoded_normalised_restricted_feature_df[cat_encoded_normalised_restricted_feature_df.sample_label == variable].groupby([\n",
    "        'case_admission_id',\n",
    "        'relative_sample_date_hourly_cat'\n",
    "    ])['value'].max().reset_index()\n",
    "    max_variable_df['sample_label'] = f'max_{variable}'\n",
    "    min_variable_df = cat_encoded_normalised_restricted_feature_df[cat_encoded_normalised_restricted_feature_df.sample_label == variable].groupby([\n",
    "        'case_admission_id',\n",
    "        'relative_sample_date_hourly_cat'\n",
    "    ])['value'].min().reset_index()\n",
    "    min_variable_df['sample_label'] = f'min_{variable}'\n",
    "    temp_df = pd.concat([median_variable_df, max_variable_df, min_variable_df], axis=0)\n",
    "    # all variables to downsample are from EHR\n",
    "    temp_df['source'] = 'EHR'\n",
    "    cat_encoded_normalised_restricted_feature_df_essential_columns = cat_encoded_normalised_restricted_feature_df_essential_columns.append(temp_df)\n",
    "    # drop all rows of sample label variable\n",
    "    cat_encoded_normalised_restricted_feature_df_essential_columns = cat_encoded_normalised_restricted_feature_df_essential_columns[cat_encoded_normalised_restricted_feature_df_essential_columns.sample_label != variable]\n"
   ]
  },
  {
   "cell_type": "code",
   "execution_count": null,
   "metadata": {
    "pycharm": {
     "name": "#%%\n"
    }
   },
   "outputs": [],
   "source": [
    "cat_encoded_normalised_restricted_feature_df_essential_columns.sample_label.unique()"
   ]
  },
  {
   "cell_type": "code",
   "execution_count": null,
   "metadata": {
    "pycharm": {
     "name": "#%%\n"
    }
   },
   "outputs": [],
   "source": [
    "all_other_vars = [sample_label for sample_label in cat_encoded_normalised_restricted_feature_df.sample_label.unique()\n",
    "                                if sample_label not in variables_to_down_sample]"
   ]
  },
  {
   "cell_type": "code",
   "execution_count": null,
   "metadata": {
    "pycharm": {
     "name": "#%%\n"
    }
   },
   "outputs": [],
   "source": [
    "# for all other variables, when more than one sample per hour is present, take the median\n",
    "for variable in all_other_vars:\n",
    "    print(f\"{variable}\")\n",
    "    median_variable_df = cat_encoded_normalised_restricted_feature_df[cat_encoded_normalised_restricted_feature_df.sample_label == variable].groupby([\n",
    "        'case_admission_id',\n",
    "        'relative_sample_date_hourly_cat'\n",
    "    ])['value'].median().reset_index()\n",
    "    median_variable_df['sample_label'] = f'{variable}'\n",
    "    median_variable_df['source'] = cat_encoded_normalised_restricted_feature_df[cat_encoded_normalised_restricted_feature_df.sample_label == variable]['source'].mode()[0]\n",
    "    # drop old rows of the variable\n",
    "    cat_encoded_normalised_restricted_feature_df_essential_columns = cat_encoded_normalised_restricted_feature_df_essential_columns[cat_encoded_normalised_restricted_feature_df_essential_columns.sample_label != variable]\n",
    "    cat_encoded_normalised_restricted_feature_df_essential_columns = cat_encoded_normalised_restricted_feature_df_essential_columns.append(median_variable_df)\n"
   ]
  },
  {
   "cell_type": "code",
   "execution_count": null,
   "metadata": {
    "pycharm": {
     "name": "#%%\n"
    }
   },
   "outputs": [],
   "source": [
    "# count number of values per case_admission_id, relative_sample_date_hourly_cat, sample_label\n",
    "cat_encoded_normalised_restricted_feature_df_essential_columns.groupby(['case_admission_id', 'relative_sample_date_hourly_cat', 'sample_label']).count().reset_index()"
   ]
  },
  {
   "cell_type": "markdown",
   "metadata": {
    "collapsed": false,
    "pycharm": {
     "name": "#%% md\n"
    }
   },
   "source": []
  },
  {
   "cell_type": "code",
   "execution_count": null,
   "metadata": {
    "pycharm": {
     "name": "#%%\n"
    }
   },
   "outputs": [],
   "source": [
    "cat_encoded_normalised_restricted_feature_df_essential_columns.groupby(['case_admission_id', 'relative_sample_date_hourly_cat', 'sample_label']).count().reset_index().value.unique()"
   ]
  },
  {
   "cell_type": "code",
   "execution_count": null,
   "metadata": {
    "pycharm": {
     "name": "#%%\n"
    }
   },
   "outputs": [],
   "source": [
    "from preprocessing.resample_to_time_bins.resample_to_hourly_features import resample_to_hourly_features\n",
    "\n",
    "resampled_df = resample_to_hourly_features(cat_encoded_normalised_restricted_feature_df)\n",
    "resampled_df.head()"
   ]
  },
  {
   "cell_type": "code",
   "execution_count": null,
   "metadata": {
    "pycharm": {
     "name": "#%%\n"
    }
   },
   "outputs": [],
   "source": [
    "resampled_df.groupby(['case_admission_id', 'relative_sample_date_hourly_cat', 'sample_label']).count().reset_index()"
   ]
  },
  {
   "cell_type": "code",
   "execution_count": null,
   "metadata": {
    "pycharm": {
     "name": "#%%\n"
    }
   },
   "outputs": [],
   "source": [
    "(cat_encoded_normalised_restricted_feature_df_essential_columns == resampled_df).all().all()"
   ]
  },
  {
   "cell_type": "code",
   "execution_count": null,
   "metadata": {
    "pycharm": {
     "name": "#%%\n"
    }
   },
   "outputs": [],
   "source": []
  }
 ],
 "metadata": {
  "kernelspec": {
   "display_name": "Python 3",
   "language": "python",
   "name": "python3"
  },
  "language_info": {
   "codemirror_mode": {
    "name": "ipython",
    "version": 2
   },
   "file_extension": ".py",
   "mimetype": "text/x-python",
   "name": "python",
   "nbconvert_exporter": "python",
   "pygments_lexer": "ipython2",
   "version": "2.7.6"
  }
 },
 "nbformat": 4,
 "nbformat_minor": 0
}
