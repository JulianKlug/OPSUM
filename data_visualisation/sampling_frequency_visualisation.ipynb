{
 "cells": [
  {
   "cell_type": "code",
   "execution_count": null,
   "metadata": {
    "pycharm": {
     "name": "#%%\n"
    }
   },
   "outputs": [],
   "source": [
    "import pandas as pd\n",
    "import numpy as np"
   ]
  },
  {
   "cell_type": "code",
   "execution_count": null,
   "metadata": {
    "pycharm": {
     "name": "#%%\n"
    }
   },
   "outputs": [],
   "source": [
    "data_path = '/Users/jk1/stroke_datasets/stroke_unit_dataset/per_value/Extraction_20220815'\n",
    "admission_data_path = '/Users/jk1/OneDrive - unige.ch/stroke_research/geneva_stroke_unit_dataset/data/stroke_registry/post_hoc_modified/stroke_registry_post_hoc_modified.xlsx'\n",
    "patient_selection_path = '/Users/jk1/temp/opsum_extraction_output/high_frequency_data_patient_selection_with_details.csv'"
   ]
  },
  {
   "cell_type": "code",
   "execution_count": null,
   "metadata": {
    "pycharm": {
     "name": "#%%\n"
    }
   },
   "outputs": [],
   "source": [
    "from preprocessing.variable_assembly.variable_database_assembly import assemble_variable_database\n",
    "\n",
    "feature_df = assemble_variable_database(data_path, admission_data_path, patient_selection_path)"
   ]
  },
  {
   "cell_type": "code",
   "execution_count": null,
   "metadata": {
    "pycharm": {
     "name": "#%%\n"
    }
   },
   "outputs": [],
   "source": [
    "from preprocessing.variable_assembly.relative_timestamps import transform_to_relative_timestamps\n",
    "\n",
    "feature_df = transform_to_relative_timestamps(feature_df, drop_old_columns=False)"
   ]
  },
  {
   "cell_type": "code",
   "execution_count": null,
   "metadata": {
    "pycharm": {
     "name": "#%%\n"
    }
   },
   "outputs": [],
   "source": [
    "feature_df[feature_df['relative_sample_date'] > 24*14]['case_admission_id'].unique()"
   ]
  },
  {
   "cell_type": "code",
   "execution_count": null,
   "metadata": {
    "pycharm": {
     "name": "#%%\n"
    }
   },
   "outputs": [],
   "source": [
    "feature_df['relative_sample_date'].describe()"
   ]
  },
  {
   "cell_type": "code",
   "execution_count": null,
   "metadata": {
    "pycharm": {
     "name": "#%%\n"
    }
   },
   "outputs": [],
   "source": [
    "feature_df['binned_sample_date'] = np.floor(feature_df['relative_sample_date'])"
   ]
  },
  {
   "cell_type": "code",
   "execution_count": null,
   "metadata": {
    "pycharm": {
     "name": "#%%\n"
    }
   },
   "outputs": [],
   "source": [
    "feature_df.head(50)"
   ]
  },
  {
   "cell_type": "code",
   "execution_count": null,
   "metadata": {
    "pycharm": {
     "name": "#%%\n"
    }
   },
   "outputs": [],
   "source": [
    "feature_df.groupby(['case_admission_id', 'binned_sample_date', 'sample_label']).count().reset_index()"
   ]
  },
  {
   "cell_type": "code",
   "execution_count": null,
   "metadata": {
    "pycharm": {
     "name": "#%%\n"
    }
   },
   "outputs": [],
   "source": [
    "feature_df[feature_df['sample_label'] == 'oxygen_saturation'].groupby(['case_admission_id', 'binned_sample_date'])['value'].count().unstack()"
   ]
  },
  {
   "cell_type": "code",
   "execution_count": null,
   "metadata": {
    "pycharm": {
     "name": "#%%\n"
    }
   },
   "outputs": [],
   "source": [
    "from matplotlib import pyplot as plt\n",
    "import seaborn as sns\n",
    "from matplotlib.pyplot import cm\n",
    "import numpy as np\n",
    "\n",
    "\n",
    "colors=cm.hsv(np.linspace(0,1,len(feature_df.sample_label.unique())))\n",
    "for variable, color in zip(feature_df.sample_label.unique(), colors):\n",
    "\n",
    "    variable_sampling_count_df = feature_df[feature_df['sample_label'] == variable].groupby(['case_admission_id', 'binned_sample_date']).count().reset_index()\n",
    "\n",
    "    fig = plt.figure(figsize=(10,4))\n",
    "    ax1 = fig.add_subplot(121)\n",
    "    sns.scatterplot(x='binned_sample_date' , y='value', data=variable_sampling_count_df,\n",
    "                    color=color, alpha=0.02, ax=ax1)\n",
    "    ax1.set_xlim(0, 24*14)\n",
    "    ax1.set_title(f'{variable} sampling rate')\n",
    "    ax1.set_ylabel('Sample counts')\n",
    "    ax1.set_xlabel('Hourly relative sampling times')\n",
    "\n",
    "    dfxx = variable_sampling_count_df.value.describe().to_frame().round(2)\n",
    "\n",
    "    ax2 = fig.add_subplot(122)\n",
    "    font_size=12\n",
    "    bbox=[0, 0, 1, 1]\n",
    "    ax2.axis('off')\n",
    "    mpl_table = ax2.table(cellText = dfxx.values, rowLabels = dfxx.index, bbox=bbox, colLabels=['Sampling distribution'])\n",
    "    mpl_table.auto_set_font_size(False)\n",
    "    mpl_table.set_fontsize(font_size)\n",
    "    fig.savefig(f'{variable.replace(\"/\",\"\")}.png')\n",
    "\n",
    "\n",
    "plt.show()"
   ]
  },
  {
   "cell_type": "code",
   "execution_count": null,
   "metadata": {
    "pycharm": {
     "name": "#%%\n"
    }
   },
   "outputs": [],
   "source": [
    "variable_sampling_count_df = feature_df.groupby(['binned_sample_date']).count().reset_index()\n",
    "\n",
    "fig = plt.figure(figsize=(10,4))\n",
    "ax1 = fig.add_subplot(121)\n",
    "sns.scatterplot(x='binned_sample_date' , y='value', data=variable_sampling_count_df,\n",
    "                color=color, alpha=0.02, ax=ax1)\n",
    "ax1.set_xlim(0, 24*14)\n",
    "ax1.set_title(f'Variables sampled per hour')\n",
    "ax1.set_ylabel('Sample counts')\n",
    "ax1.set_xlabel('Hours from admission')\n",
    "\n",
    "dfxx = variable_sampling_count_df.value.describe().to_frame().round(2)\n",
    "\n",
    "ax2 = fig.add_subplot(122)\n",
    "font_size=12\n",
    "bbox=[0, 0, 1, 1]\n",
    "ax2.axis('off')\n",
    "mpl_table = ax2.table(cellText = dfxx.values, rowLabels = dfxx.index, bbox=bbox, colLabels=['Sampling distribution'])\n",
    "mpl_table.auto_set_font_size(False)\n",
    "mpl_table.set_fontsize(font_size)\n",
    "fig.savefig(f'overall.png', dpi=700)"
   ]
  },
  {
   "cell_type": "code",
   "execution_count": null,
   "metadata": {
    "pycharm": {
     "name": "#%%\n"
    }
   },
   "outputs": [],
   "source": [
    "feature_df[feature_df['sample_label'] == 'oxygen_saturation'].groupby(['case_admission_id', 'binned_sample_date']).count().reset_index()['value'].describe()"
   ]
  },
  {
   "cell_type": "markdown",
   "metadata": {
    "collapsed": false,
    "pycharm": {
     "name": "#%% md\n"
    }
   },
   "source": [
    "Check highly sampled individual"
   ]
  },
  {
   "cell_type": "code",
   "execution_count": null,
   "metadata": {
    "pycharm": {
     "name": "#%%\n"
    }
   },
   "outputs": [],
   "source": [
    "temp = feature_df[feature_df['sample_label'] == 'oxygen_saturation'].groupby(['case_admission_id', 'binned_sample_date']).count().reset_index()\n",
    "temp[temp['value'] == 121]"
   ]
  },
  {
   "cell_type": "code",
   "execution_count": null,
   "metadata": {
    "pycharm": {
     "name": "#%%\n"
    }
   },
   "outputs": [],
   "source": [
    "feature_df[(feature_df['case_admission_id'] == '263647_2692')\n",
    "           & (feature_df['sample_label'] == 'oxygen_saturation')\n",
    "           & (feature_df['binned_sample_date'] == 455)]"
   ]
  },
  {
   "cell_type": "code",
   "execution_count": null,
   "metadata": {
    "pycharm": {
     "name": "#%%\n"
    }
   },
   "outputs": [],
   "source": []
  }
 ],
 "metadata": {
  "kernelspec": {
   "display_name": "Python 3",
   "language": "python",
   "name": "python3"
  },
  "language_info": {
   "codemirror_mode": {
    "name": "ipython",
    "version": 2
   },
   "file_extension": ".py",
   "mimetype": "text/x-python",
   "name": "python",
   "nbconvert_exporter": "python",
   "pygments_lexer": "ipython2",
   "version": "2.7.6"
  }
 },
 "nbformat": 4,
 "nbformat_minor": 0
}
