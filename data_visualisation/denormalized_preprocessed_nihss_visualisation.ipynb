{
 "cells": [
  {
   "cell_type": "markdown",
   "metadata": {
    "collapsed": false
   },
   "source": [
    "# Visualise NIHSS after preprocessing but in real scale"
   ]
  },
  {
   "cell_type": "code",
   "execution_count": null,
   "metadata": {},
   "outputs": [],
   "source": [
    "import pandas as pd\n",
    "import numpy as np\n",
    "from tqdm import tqdm\n",
    "import matplotlib.pyplot as plt\n",
    "import seaborn as sns"
   ]
  },
  {
   "cell_type": "code",
   "execution_count": null,
   "metadata": {},
   "outputs": [],
   "source": [
    "preprocessed_features_path = '/Users/jk1/temp/mimic/preprocessing/test/mimic_prepro_29122022_173530/preprocessed_features_29122022_173530.csv'\n",
    "admission_notes_data_path = '/Users/jk1/OneDrive - unige.ch/stroke_research/geneva_stroke_unit_dataset/data/mimic_data/combined_notes_labels.xlsx'\n",
    "normalisation_params_path = '/Users/jk1/temp/mimic/preprocessing/test/mimic_prepro_29122022_163718/logs_29122022_163718/reference_population_normalisation_parameters.csv'"
   ]
  },
  {
   "cell_type": "code",
   "execution_count": null,
   "metadata": {},
   "outputs": [],
   "source": [
    "preprocessed_features_df = pd.read_csv(preprocessed_features_path)\n",
    "normalisation_params_df = pd.read_csv(normalisation_params_path)"
   ]
  },
  {
   "cell_type": "code",
   "execution_count": null,
   "metadata": {},
   "outputs": [],
   "source": [
    "admission_notes_data_df = pd.read_excel(admission_notes_data_path)"
   ]
  },
  {
   "cell_type": "code",
   "execution_count": null,
   "metadata": {},
   "outputs": [],
   "source": [
    "def reverse_normalisation_for_subj(norm_subj_df, normalisation_parameters_df):\n",
    "    subj_df = norm_subj_df.copy()\n",
    "    for variable in normalisation_parameters_df.variable.unique():\n",
    "        if variable not in subj_df.sample_label.unique():\n",
    "            continue\n",
    "\n",
    "        temp = subj_df[subj_df.sample_label == variable].value.copy()\n",
    "        std = normalisation_parameters_df[normalisation_parameters_df.variable == variable].original_std.iloc[0]\n",
    "        mean = normalisation_parameters_df[normalisation_parameters_df.variable == variable].original_mean.iloc[0]\n",
    "        temp = (temp * std) + mean\n",
    "        subj_df.loc[subj_df.sample_label == variable, 'value'] = temp\n",
    "\n",
    "    return subj_df"
   ]
  },
  {
   "cell_type": "code",
   "execution_count": null,
   "metadata": {},
   "outputs": [],
   "source": [
    "preprocessed_features_df.head()"
   ]
  },
  {
   "cell_type": "code",
   "execution_count": null,
   "metadata": {},
   "outputs": [],
   "source": [
    "pa_id = np.random.choice(preprocessed_features_df['case_admission_id'].unique())\n",
    "pa_id"
   ]
  },
  {
   "cell_type": "code",
   "execution_count": null,
   "metadata": {},
   "outputs": [],
   "source": [
    "admission_notes_data_df['case_admission_id'] = admission_notes_data_df.hadm_id.astype(str) + '_' + admission_notes_data_df.icustay_id.astype(str)\n",
    "admission_notes_data_df.head()"
   ]
  },
  {
   "cell_type": "code",
   "execution_count": null,
   "metadata": {},
   "outputs": [],
   "source": [
    "pa_id = '120793_201738'"
   ]
  },
  {
   "cell_type": "code",
   "execution_count": null,
   "metadata": {},
   "outputs": [],
   "source": [
    "vital_name = 'median_NIHSS'\n",
    "subj_denorm_data = reverse_normalisation_for_subj(preprocessed_features_df[preprocessed_features_df.case_admission_id == pa_id], normalisation_params_df)\n",
    "subj_admission_nihss = admission_notes_data_df[admission_notes_data_df.case_admission_id == pa_id]['admission NIHSS'].values[0]\n",
    "temp = subj_denorm_data[(subj_denorm_data.sample_label.isin([vital_name]))].copy()\n",
    "ax = sns.scatterplot(x='relative_sample_date_hourly_cat', y='value', data=temp, hue='value', legend=False)\n",
    "ax.set_xlabel('Hours from admission')\n",
    "ax.set_ylabel(vital_name)\n",
    "ax.tick_params(axis=\"x\", rotation=45)\n",
    "ax.set_ylim(0, 41)\n",
    "ax.set_title(f'{vital_name}, with admission NIHSS at {subj_admission_nihss}')\n",
    "\n",
    "plt.show()"
   ]
  },
  {
   "cell_type": "markdown",
   "metadata": {
    "collapsed": false
   },
   "source": [
    "High admission NIHSS values do not appear as they are filtered by winsorizing (using the params obtained from reference population)"
   ]
  },
  {
   "cell_type": "code",
   "execution_count": null,
   "metadata": {},
   "outputs": [],
   "source": []
  }
 ],
 "metadata": {
  "kernelspec": {
   "display_name": "Python 3",
   "language": "python",
   "name": "python3"
  },
  "language_info": {
   "codemirror_mode": {
    "name": "ipython",
    "version": 2
   },
   "file_extension": ".py",
   "mimetype": "text/x-python",
   "name": "python",
   "nbconvert_exporter": "python",
   "pygments_lexer": "ipython2",
   "version": "2.7.6"
  }
 },
 "nbformat": 4,
 "nbformat_minor": 0
}
