{
 "cells": [
  {
   "cell_type": "markdown",
   "metadata": {
    "collapsed": false
   },
   "source": [
    "# Visualise NIHSS after preprocessing but in real scale"
   ]
  },
  {
   "cell_type": "code",
   "execution_count": null,
   "metadata": {
    "ExecuteTime": {
     "end_time": "2024-06-04T12:59:45.542016Z",
     "start_time": "2024-06-04T12:59:45.531495Z"
    }
   },
   "outputs": [],
   "source": [
    "import pandas as pd\n",
    "import numpy as np\n",
    "from tqdm import tqdm\n",
    "import matplotlib.pyplot as plt\n",
    "import seaborn as sns"
   ]
  },
  {
   "cell_type": "code",
   "execution_count": null,
   "metadata": {
    "ExecuteTime": {
     "end_time": "2024-06-04T13:06:22.673404Z",
     "start_time": "2024-06-04T13:06:22.670729Z"
    }
   },
   "outputs": [],
   "source": [
    "preprocessed_features_path = '/Users/jk1/temp/opsum_mimic/preprocessing/mimic_prepro_25012023_232713/preprocessed_features_25012023_232713.csv'\n",
    "admission_notes_data_path = '/Users/jk1/Library/CloudStorage/OneDrive-unige.ch/stroke_research/geneva_stroke_unit_dataset/data/mimic_data/combined_notes_labels_v2.xlsx'\n",
    "normalisation_params_path = '/Users/jk1/temp/opsum_mimic/preprocessing/mimic_prepro_25012023_232713/logs_25012023_232713/reference_population_normalisation_parameters.csv'\n",
    "monitoring_df_path = '/Users/jk1/temp/opsum_mimic/extraction/monitoring_df.csv'"
   ]
  },
  {
   "cell_type": "code",
   "execution_count": null,
   "metadata": {
    "ExecuteTime": {
     "end_time": "2024-06-04T13:02:46.966985Z",
     "start_time": "2024-06-04T13:02:45.994751Z"
    }
   },
   "outputs": [],
   "source": [
    "preprocessed_features_df = pd.read_csv(preprocessed_features_path)\n",
    "normalisation_params_df = pd.read_csv(normalisation_params_path)"
   ]
  },
  {
   "cell_type": "code",
   "execution_count": null,
   "metadata": {
    "ExecuteTime": {
     "end_time": "2024-06-04T13:06:38.421307Z",
     "start_time": "2024-06-04T13:06:32.048822Z"
    }
   },
   "outputs": [],
   "source": [
    "admission_notes_data_df = pd.read_excel(admission_notes_data_path)\n",
    "monitoring_df = pd.read_csv(monitoring_df_path)"
   ]
  },
  {
   "cell_type": "code",
   "execution_count": null,
   "metadata": {
    "ExecuteTime": {
     "end_time": "2024-06-04T13:02:48.936093Z",
     "start_time": "2024-06-04T13:02:48.931422Z"
    }
   },
   "outputs": [],
   "source": [
    "def reverse_normalisation_for_subj(norm_subj_df, normalisation_parameters_df):\n",
    "    subj_df = norm_subj_df.copy()\n",
    "    for variable in normalisation_parameters_df.variable.unique():\n",
    "        if variable not in subj_df.sample_label.unique():\n",
    "            continue\n",
    "\n",
    "        temp = subj_df[subj_df.sample_label == variable].value.copy()\n",
    "        std = normalisation_parameters_df[normalisation_parameters_df.variable == variable].original_std.iloc[0]\n",
    "        mean = normalisation_parameters_df[normalisation_parameters_df.variable == variable].original_mean.iloc[0]\n",
    "        temp = (temp * std) + mean\n",
    "        subj_df.loc[subj_df.sample_label == variable, 'value'] = temp\n",
    "\n",
    "    return subj_df"
   ]
  },
  {
   "cell_type": "code",
   "execution_count": null,
   "metadata": {
    "ExecuteTime": {
     "end_time": "2024-06-04T13:02:49.830315Z",
     "start_time": "2024-06-04T13:02:49.819538Z"
    }
   },
   "outputs": [],
   "source": [
    "preprocessed_features_df.head()"
   ]
  },
  {
   "cell_type": "code",
   "execution_count": null,
   "metadata": {
    "ExecuteTime": {
     "end_time": "2024-06-04T13:02:50.791252Z",
     "start_time": "2024-06-04T13:02:50.706681Z"
    }
   },
   "outputs": [],
   "source": [
    "pa_id = np.random.choice(preprocessed_features_df['case_admission_id'].unique())\n",
    "pa_id"
   ]
  },
  {
   "cell_type": "code",
   "execution_count": null,
   "metadata": {
    "ExecuteTime": {
     "end_time": "2024-06-04T13:02:51.567514Z",
     "start_time": "2024-06-04T13:02:51.543597Z"
    }
   },
   "outputs": [],
   "source": [
    "admission_notes_data_df['case_admission_id'] = admission_notes_data_df.hadm_id.astype(str) + '_' + admission_notes_data_df.icustay_id.astype(str)\n",
    "admission_notes_data_df.head()"
   ]
  },
  {
   "cell_type": "code",
   "execution_count": null,
   "metadata": {
    "ExecuteTime": {
     "end_time": "2024-06-04T13:06:40.065189Z",
     "start_time": "2024-06-04T13:06:39.856481Z"
    }
   },
   "outputs": [],
   "source": [
    "NIHSS_labels = [\"Level of Consciousness\",\n",
    "                    \"Level of Conscious\",\n",
    "                    \"Richmond-RAS Scale\",\n",
    "                    \"Riker-SAS Scale\",\n",
    "                    \"GCS Total\",\n",
    "                    \"Ramsey SedationScale\",\n",
    "                    \"PAR-Consciousness\",\n",
    "                    \"Orientation\",\n",
    "                    \"Orientation to Place\",\n",
    "                    \"Orientation to Time\",\n",
    "                    \"Orient/Clouding Sensory\",\n",
    "                    \"Follows Commands\",\n",
    "                    \"Commands Response\",\n",
    "                    \"Visual Field Cut\",\n",
    "                    \"Facial Droop\",\n",
    "                    \"Face Droop\",\n",
    "                    \"RU Strength/Movement\",\n",
    "                    \"Strength R Arm\",\n",
    "                    \"LU Strength/Movement\",\n",
    "                    \"Strength L Arm\",\n",
    "                    \"RL Strength/Movement\",\n",
    "                    \"Strength R Leg\",\n",
    "                    \"LL Strength/Movement\",\n",
    "                    \"Strength L Leg\",\n",
    "                    \"Ataxia\",\n",
    "                    \"LUE Sensation\",\n",
    "                    \"LLE Sensation\",\n",
    "                    \"LLE [Sensation]\",\n",
    "                    \"LUE [Sensation]\",\n",
    "                    \"RUE Sensation\",\n",
    "                    \"RLE Sensation\",\n",
    "                    \"RLE [Sensation]\",\n",
    "                    \"RUE [Sensation]\",\n",
    "                    \"Braden Sensory Perception\",\n",
    "                    \"Braden SensoryPercep\",\n",
    "                    \"Speech\",\n",
    "                    \"Slurred Speech\"]\n",
    "\n",
    "NIHSS_df = monitoring_df[monitoring_df.label.isin(NIHSS_labels)]"
   ]
  },
  {
   "cell_type": "code",
   "execution_count": null,
   "metadata": {
    "ExecuteTime": {
     "end_time": "2024-06-04T13:06:46.024867Z",
     "start_time": "2024-06-04T13:06:46.013906Z"
    }
   },
   "outputs": [],
   "source": [
    "NIHSS_df.head()"
   ]
  },
  {
   "cell_type": "code",
   "execution_count": null,
   "metadata": {
    "ExecuteTime": {
     "end_time": "2024-06-04T13:02:52.444358Z",
     "start_time": "2024-06-04T13:02:52.441817Z"
    }
   },
   "outputs": [],
   "source": [
    "pa_id = '120793_201738'"
   ]
  },
  {
   "cell_type": "code",
   "execution_count": null,
   "metadata": {
    "ExecuteTime": {
     "end_time": "2024-06-04T13:07:45.864657Z",
     "start_time": "2024-06-04T13:07:45.841391Z"
    }
   },
   "outputs": [],
   "source": [
    "NIHSS_df[NIHSS_df.hadm_id == int(pa_id.split('_')[0])].sort_values('charttime')"
   ]
  },
  {
   "cell_type": "code",
   "execution_count": null,
   "metadata": {
    "ExecuteTime": {
     "end_time": "2024-06-04T13:02:53.558450Z",
     "start_time": "2024-06-04T13:02:53.062735Z"
    }
   },
   "outputs": [],
   "source": [
    "vital_name = 'median_NIHSS'\n",
    "subj_denorm_data = reverse_normalisation_for_subj(preprocessed_features_df[preprocessed_features_df.case_admission_id == pa_id], normalisation_params_df)\n",
    "subj_admission_nihss = admission_notes_data_df[admission_notes_data_df.case_admission_id == pa_id]['admission NIHSS'].values[0]\n",
    "temp = subj_denorm_data[(subj_denorm_data.sample_label.isin([vital_name]))].copy()\n",
    "ax = sns.scatterplot(x='relative_sample_date_hourly_cat', y='value', data=temp, hue='value', legend=False)\n",
    "ax.set_xlabel('Hours from admission')\n",
    "ax.set_ylabel(vital_name)\n",
    "ax.tick_params(axis=\"x\", rotation=45)\n",
    "ax.set_ylim(0, 41)\n",
    "ax.set_title(f'{vital_name}, with admission NIHSS at {subj_admission_nihss}')\n",
    "\n",
    "plt.show()"
   ]
  },
  {
   "cell_type": "markdown",
   "metadata": {
    "collapsed": false
   },
   "source": [
    "High admission NIHSS values do not appear as they are filtered by winsorizing (using the params obtained from reference population)"
   ]
  },
  {
   "cell_type": "code",
   "execution_count": null,
   "metadata": {},
   "outputs": [],
   "source": []
  }
 ],
 "metadata": {
  "kernelspec": {
   "display_name": "Python 3",
   "language": "python",
   "name": "python3"
  },
  "language_info": {
   "codemirror_mode": {
    "name": "ipython",
    "version": 2
   },
   "file_extension": ".py",
   "mimetype": "text/x-python",
   "name": "python",
   "nbconvert_exporter": "python",
   "pygments_lexer": "ipython2",
   "version": "2.7.6"
  }
 },
 "nbformat": 4,
 "nbformat_minor": 0
}
