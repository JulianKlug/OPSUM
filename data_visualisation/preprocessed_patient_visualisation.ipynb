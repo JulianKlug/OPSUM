{
 "cells": [
  {
   "cell_type": "code",
   "execution_count": null,
   "metadata": {},
   "outputs": [],
   "source": [
    "from tqdm import tqdm\n",
    "import matplotlib.pyplot as plt\n",
    "import pandas as pd\n",
    "import os\n",
    "import seaborn as sns\n",
    "import numpy as np"
   ]
  },
  {
   "cell_type": "code",
   "execution_count": null,
   "metadata": {},
   "outputs": [],
   "source": [
    "data_path = '/Users/jk1/temp/mimic/preprocessing/test/mimic_prepro_30122022_133144/preprocessed_features_30122022_133144.csv'\n",
    "outcomes_path = '/Users/jk1/temp/mimic/preprocessing/test/mimic_prepro_30122022_133144/preprocessed_outcomes_30122022_133144.csv'"
   ]
  },
  {
   "cell_type": "code",
   "execution_count": null,
   "metadata": {},
   "outputs": [],
   "source": [
    "data_df = pd.read_csv(data_path)\n",
    "outcomes_df = pd.read_csv(outcomes_path)"
   ]
  },
  {
   "cell_type": "code",
   "execution_count": null,
   "metadata": {},
   "outputs": [],
   "source": [
    "data_df.head()"
   ]
  },
  {
   "cell_type": "code",
   "execution_count": null,
   "metadata": {},
   "outputs": [],
   "source": [
    "outcomes_df.head()"
   ]
  },
  {
   "cell_type": "code",
   "execution_count": null,
   "metadata": {},
   "outputs": [],
   "source": [
    "pa_id = np.random.choice(data_df['case_admission_id'].unique())\n",
    "pa_id"
   ]
  },
  {
   "cell_type": "code",
   "execution_count": null,
   "metadata": {},
   "outputs": [],
   "source": [
    "vital_name = 'Glasgow Coma Scale'\n",
    "temp = data_df[(data_df['case_admission_id'] == pa_id)\n",
    "                                          & (data_df.sample_label.isin([vital_name]))].copy()\n",
    "ax = sns.scatterplot(x='relative_sample_date_hourly_cat', y='value', data=temp, hue='value', legend=False)\n",
    "ax.set_xlabel('Hours from admission')\n",
    "ax.set_ylabel(vital_name)\n",
    "ax.tick_params(axis=\"x\", rotation=45)\n",
    "ax.set_ylim(-3.2, 3.2)\n",
    "ax.set_title(vital_name)\n",
    "\n",
    "plt.show()"
   ]
  },
  {
   "cell_type": "code",
   "execution_count": null,
   "metadata": {},
   "outputs": [],
   "source": [
    "data_df[(data_df['case_admission_id'] == pa_id) & (data_df.sample_label.isin([\"cholesterol HDL\"]))]"
   ]
  },
  {
   "cell_type": "code",
   "execution_count": null,
   "metadata": {},
   "outputs": [],
   "source": [
    "data_df.source.unique()"
   ]
  },
  {
   "cell_type": "code",
   "execution_count": null,
   "metadata": {},
   "outputs": [],
   "source": [
    "sample_labels = data_df.sample_label.unique()\n",
    "sample_labels"
   ]
  },
  {
   "cell_type": "code",
   "execution_count": null,
   "metadata": {},
   "outputs": [],
   "source": [
    "\n",
    "from matplotlib.lines import Line2D\n",
    "\n",
    "\n",
    "def plot_features(pa_id, subject_df, sample_labels, outcome, outcome_name, plot_source=False):\n",
    "    plt.subplots_adjust(hspace=0.2)\n",
    "\n",
    "    # set number of columns (use 3 to demonstrate the change)\n",
    "    ncols = 5\n",
    "    # calculate number of rows\n",
    "    nrows = len(sample_labels) // ncols + (len(sample_labels) % ncols > 0)\n",
    "    plt.figure(figsize=(5*ncols, 5*nrows))\n",
    "\n",
    "    for n, sample_label in enumerate(sample_labels):\n",
    "    # add a new subplot iteratively using nrows and cols\n",
    "        ax = plt.subplot(nrows, ncols, n + 1)\n",
    "        label_df = subject_df[(subject_df.sample_label.isin([sample_label]))].copy()\n",
    "\n",
    "        if not plot_source:\n",
    "            ax = sns.scatterplot(x='relative_sample_date_hourly_cat', y='value', data=label_df, hue='value', legend=False, ax=ax)\n",
    "        else:\n",
    "            palette = {\"EHR\": \"navy\", \"EHR_locf_imputed\": \"lavender\", \"EHR_pop_imputed\": \"magenta\", \"EHR_pop_imputed_locf_imputed\": \"pink\",\n",
    "                       \"stroke_registry\": \"darkgreen\", \"stroke_registry_locf_imputed\": \"paleturquoise\", \"stroke_registry_pop_imputed\": \"magenta\", \"stroke_registry_pop_imputed_locf_imputed\": \"pink\",\n",
    "                       \"notes\": \"darkgreen\", \"notes_locf_imputed\": \"paleturquoise\", \"notes_pop_imputed\": \"magenta\", \"notes_pop_imputed_locf_imputed\": \"pink\",}\n",
    "            ax = sns.scatterplot(x='relative_sample_date_hourly_cat', y='value', data=label_df, hue='source', legend=False, ax=ax, palette=palette)\n",
    "\n",
    "            if n == len(sample_labels) - 1:\n",
    "                legend_elements = [Line2D([0], [0], marker='o', color='w', label=source,\n",
    "                          markerfacecolor=palette[source], markersize=10) for source in palette.keys()]\n",
    "                ax.legend(handles=legend_elements, loc='center left', bbox_to_anchor=(1, 0.5))\n",
    "\n",
    "        # chart formatting\n",
    "        # ax.set_xlabel('Hours from admission')\n",
    "        ax.tick_params(axis=\"x\", rotation=45)\n",
    "        ax.set_ylim(-3, 3)\n",
    "        ax.set_title(sample_label.upper())\n",
    "        # ax.get_legend().remove()\n",
    "        ax.set_xlabel(\"\")\n",
    "\n",
    "    fig = plt.gcf()\n",
    "    fig.suptitle(f'{pa_id}; {outcome_name}: {outcome}', y=0.89, fontsize = 25)\n",
    "    return fig\n"
   ]
  },
  {
   "cell_type": "code",
   "execution_count": null,
   "metadata": {},
   "outputs": [],
   "source": [
    "subject_df = data_df[(data_df['case_admission_id'] == pa_id)]\n",
    "subject_outcome = outcomes_df[outcomes_df.case_admission_id == pa_id]['3M Death'].values[0]"
   ]
  },
  {
   "cell_type": "code",
   "execution_count": null,
   "metadata": {},
   "outputs": [],
   "source": [
    "plot_features(pa_id, subject_df, sample_labels, subject_outcome, '3M Death', plot_source=True)"
   ]
  },
  {
   "cell_type": "code",
   "execution_count": null,
   "metadata": {},
   "outputs": [],
   "source": [
    "from modun.file_io import ensure_dir\n",
    "\n",
    "out_dir = os.path.join(os.path.dirname(data_path), 'data_visualisation')\n",
    "ensure_dir(out_dir)"
   ]
  },
  {
   "cell_type": "markdown",
   "metadata": {
    "collapsed": false
   },
   "source": [
    "# Create data visualisations for all patients"
   ]
  },
  {
   "cell_type": "code",
   "execution_count": null,
   "metadata": {},
   "outputs": [],
   "source": [
    "outcome = '3M Death'"
   ]
  },
  {
   "cell_type": "code",
   "execution_count": null,
   "metadata": {},
   "outputs": [],
   "source": [
    "for pa_id in tqdm(data_df.case_admission_id.unique()):\n",
    "    subject_df = data_df[(data_df['case_admission_id'] == pa_id)]\n",
    "    outcome_values = outcomes_df[outcomes_df.case_admission_id == pa_id][outcome].values\n",
    "    if len(outcome_values) > 0:\n",
    "        subj_outcome = outcome_values[0]\n",
    "    else:\n",
    "        subj_outcome = np.nan\n",
    "    fig = plot_features(pa_id, subject_df, sample_labels, subj_outcome, outcome, plot_source=True)\n",
    "    fig.savefig(os.path.join(out_dir, pa_id + '.pdf'), bbox_inches='tight')\n",
    "    plt.close()"
   ]
  },
  {
   "cell_type": "code",
   "execution_count": null,
   "metadata": {},
   "outputs": [],
   "source": []
  }
 ],
 "metadata": {
  "kernelspec": {
   "display_name": "Python 3",
   "language": "python",
   "name": "python3"
  },
  "language_info": {
   "codemirror_mode": {
    "name": "ipython",
    "version": 2
   },
   "file_extension": ".py",
   "mimetype": "text/x-python",
   "name": "python",
   "nbconvert_exporter": "python",
   "pygments_lexer": "ipython2",
   "version": "2.7.6"
  }
 },
 "nbformat": 4,
 "nbformat_minor": 0
}
