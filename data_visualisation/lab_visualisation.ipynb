{
 "cells": [
  {
   "cell_type": "code",
   "execution_count": null,
   "metadata": {},
   "outputs": [],
   "source": [
    "import pandas as pd\n",
    "import os\n",
    "import numpy as np\n",
    "from preprocessing.lab_preprocessing.lab_preprocessing import preprocess_labs\n",
    "from matplotlib.dates import DateFormatter\n",
    "import seaborn as sns\n",
    "import matplotlib.pyplot as plt"
   ]
  },
  {
   "cell_type": "code",
   "execution_count": null,
   "metadata": {
    "pycharm": {
     "name": "#%%\n"
    }
   },
   "outputs": [],
   "source": [
    "data_path = '/Users/jk1/stroke_datasets/stroke_unit_dataset/per_value/Extraction_20211110'\n",
    "lab_file_start = 'labo'"
   ]
  },
  {
   "cell_type": "code",
   "execution_count": null,
   "metadata": {
    "pycharm": {
     "name": "#%%\n"
    }
   },
   "outputs": [],
   "source": [
    "lab_files = [pd.read_csv(os.path.join(data_path, f), delimiter=';', encoding='utf-8', dtype=str)\n",
    "             for f in os.listdir(data_path)\n",
    "             if f.startswith(lab_file_start)]\n",
    "\n",
    "lab_df = pd.concat(lab_files, ignore_index=True)"
   ]
  },
  {
   "cell_type": "code",
   "execution_count": null,
   "metadata": {
    "pycharm": {
     "name": "#%%\n"
    }
   },
   "outputs": [],
   "source": [
    "preprocessed_lab_df = preprocess_labs(lab_df, verbose=False)"
   ]
  },
  {
   "cell_type": "code",
   "execution_count": null,
   "metadata": {
    "pycharm": {
     "name": "#%%\n"
    }
   },
   "outputs": [],
   "source": [
    "preprocessed_lab_df['sample_date'] = pd.to_datetime(preprocessed_lab_df['sample_date'], format='%d.%m.%Y %H:%M')\n",
    "# find first sample date for each patient admission id\n",
    "first_sample_dates_df = preprocessed_lab_df.groupby('case_admission_id')['sample_date'].min()\n",
    "first_sample_dates_df.head(2)"
   ]
  },
  {
   "cell_type": "code",
   "execution_count": null,
   "metadata": {
    "pycharm": {
     "name": "#%%\n"
    }
   },
   "outputs": [],
   "source": [
    "\n",
    "preprocessed_lab_with_rel_dates_df = preprocessed_lab_df.join(first_sample_dates_df, on='case_admission_id', rsuffix='_first').copy()"
   ]
  },
  {
   "cell_type": "code",
   "execution_count": null,
   "metadata": {
    "pycharm": {
     "name": "#%%\n"
    }
   },
   "outputs": [],
   "source": [
    "preprocessed_lab_with_rel_dates_df['relative_sample_date'] = \\\n",
    "    (pd.to_datetime(preprocessed_lab_with_rel_dates_df['sample_date'], format='%d.%m.%Y %H:%M')\n",
    "     - pd.to_datetime(preprocessed_lab_with_rel_dates_df['sample_date_first'], format='%d.%m.%Y %H:%M'))\\\n",
    "        .dt.total_seconds() / (60*60)\n"
   ]
  },
  {
   "cell_type": "code",
   "execution_count": null,
   "metadata": {
    "pycharm": {
     "name": "#%%\n"
    }
   },
   "outputs": [],
   "source": [
    "# get random id from all patient admission ids\n",
    "pa_id = np.random.choice(preprocessed_lab_with_rel_dates_df['case_admission_id'].unique())\n",
    "dosage_label = 'sodium'\n",
    "temp = preprocessed_lab_with_rel_dates_df[(preprocessed_lab_with_rel_dates_df['case_admission_id'] == pa_id)\n",
    "                                          & (preprocessed_lab_with_rel_dates_df['dosage_label'].isin([dosage_label]))].copy()\n",
    "# temp['value'] = pd.to_numeric(temp['value'], errors='coerce')\n",
    "# temp['sample_date'] = pd.to_datetime(temp['sample_date'], format='%d.%m.%Y %H:%M')\n",
    "# temp = temp.dropna(subset=['value'])\n",
    "ax = sns.scatterplot(x='relative_sample_date', y='value', data=temp, hue='value', legend=False)\n",
    "# Define the date format\n",
    "# date_form = DateFormatter(\"%d\")\n",
    "# ax.xaxis.set_major_formatter(date_form)\n",
    "ax.tick_params(axis=\"x\", rotation=45)\n",
    "\n",
    "plt.show()"
   ]
  },
  {
   "cell_type": "code",
   "execution_count": null,
   "metadata": {
    "pycharm": {
     "name": "#%%\n"
    }
   },
   "outputs": [],
   "source": [
    "sodium_df = preprocessed_lab_with_rel_dates_df[preprocessed_lab_with_rel_dates_df['dosage_label'].isin(['sodium'])].copy()\n",
    "sns.scatterplot(x='relative_sample_date', y='value', data=sodium_df, hue='value', legend=False, alpha=0.1)\n",
    "plt.show()"
   ]
  },
  {
   "cell_type": "code",
   "execution_count": null,
   "metadata": {
    "pycharm": {
     "name": "#%%\n"
    }
   },
   "outputs": [],
   "source": [
    "g = sns.relplot(x='relative_sample_date', y='value', col='dosage_label', col_wrap=10,\n",
    "                data=preprocessed_lab_with_rel_dates_df, hue='dosage_label', legend=False, alpha=0.1,\n",
    "            facet_kws=dict(sharey=False))\n",
    "g.set(xlim=(0, 350))\n",
    "plt.show()"
   ]
  },
  {
   "cell_type": "code",
   "execution_count": null,
   "metadata": {
    "pycharm": {
     "name": "#%%\n"
    }
   },
   "outputs": [],
   "source": [
    "for dosage_label in preprocessed_lab_with_rel_dates_df['dosage_label'].unique():\n",
    "    dosage_df = preprocessed_lab_with_rel_dates_df[preprocessed_lab_with_rel_dates_df['dosage_label'] == dosage_label]\n",
    "    g = sns.displot(x=\"value\", data=dosage_df, kde=True, legend=False)\n",
    "    g.ax.set_title(dosage_label)\n",
    "    plt.show()\n",
    "    fig = g.fig\n",
    "    # fig.savefig(f'{dosage_label.replace(\"/\",\"\")}.png')"
   ]
  },
  {
   "cell_type": "code",
   "execution_count": null,
   "metadata": {
    "pycharm": {
     "name": "#%%\n"
    }
   },
   "outputs": [],
   "source": []
  }
 ],
 "metadata": {
  "kernelspec": {
   "display_name": "Python 3",
   "language": "python",
   "name": "python3"
  },
  "language_info": {
   "codemirror_mode": {
    "name": "ipython",
    "version": 3
   },
   "file_extension": ".py",
   "mimetype": "text/x-python",
   "name": "python",
   "nbconvert_exporter": "python",
   "pygments_lexer": "ipython3",
   "version": "3.8.11"
  }
 },
 "nbformat": 4,
 "nbformat_minor": 1
}
