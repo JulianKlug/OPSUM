{
 "cells": [
  {
   "cell_type": "code",
   "execution_count": null,
   "metadata": {},
   "outputs": [],
   "source": [
    "import matplotlib.pyplot as plt\n",
    "import pandas as pd\n",
    "import os\n",
    "import seaborn as sns\n",
    "from preprocessing.scales_preprocessing.scales_preprocessing import preprocess_scales\n"
   ]
  },
  {
   "cell_type": "code",
   "execution_count": null,
   "metadata": {
    "pycharm": {
     "name": "#%%\n"
    }
   },
   "outputs": [],
   "source": [
    "data_path = '/Users/jk1/stroke_datasets/stroke_unit_dataset/per_value/Extraction_20211110'\n",
    "scales_file_start = 'scale'"
   ]
  },
  {
   "cell_type": "code",
   "execution_count": null,
   "metadata": {
    "pycharm": {
     "name": "#%%\n"
    }
   },
   "outputs": [],
   "source": [
    "eds_df = pd.read_csv(os.path.join(data_path, 'eds_j1.csv'), delimiter=';', encoding='utf-8', dtype={\"patient_id\":\"string\", \"eds_end_4digit\":\"string\", \"eds_final_patient_id\":\"string\"})"
   ]
  },
  {
   "cell_type": "code",
   "execution_count": null,
   "metadata": {
    "pycharm": {
     "name": "#%%\n"
    }
   },
   "outputs": [],
   "source": [
    "scales_files = [pd.read_csv(os.path.join(data_path, f), delimiter=';', encoding='utf-8', dtype=str)\n",
    "                for f in os.listdir(data_path)\n",
    "                if f.startswith(scales_file_start)]\n",
    "scales_df = pd.concat(scales_files, ignore_index=True)"
   ]
  },
  {
   "cell_type": "code",
   "execution_count": null,
   "metadata": {
    "pycharm": {
     "name": "#%%\n"
    }
   },
   "outputs": [],
   "source": [
    "\n",
    "scales_df = preprocess_scales(scales_df, eds_df)\n",
    "scales_df.head()"
   ]
  },
  {
   "cell_type": "code",
   "execution_count": null,
   "metadata": {
    "pycharm": {
     "name": "#%%\n"
    }
   },
   "outputs": [],
   "source": [
    "scales_df.groupby('scale')['score'].describe()"
   ]
  },
  {
   "cell_type": "code",
   "execution_count": null,
   "metadata": {
    "pycharm": {
     "name": "#%%\n"
    }
   },
   "outputs": [],
   "source": [
    "scales_df['event_date'] = pd.to_datetime(scales_df['event_date'], format='%d.%m.%Y %H:%M')\n",
    "# find first sample date for each patient admission id\n",
    "first_sample_dates_df = scales_df.groupby('case_admission_id')['event_date'].min()\n",
    "first_sample_dates_df.head(2)"
   ]
  },
  {
   "cell_type": "code",
   "execution_count": null,
   "metadata": {
    "pycharm": {
     "name": "#%%\n"
    }
   },
   "outputs": [],
   "source": [
    "scales_df_with_rel_dates_df = scales_df.join(first_sample_dates_df, on='case_admission_id',\n",
    "                                                              rsuffix='_first').copy()\n",
    "scales_df_with_rel_dates_df['relative_sample_date'] = (pd.to_datetime(scales_df_with_rel_dates_df['event_date'], format='%d.%m.%Y %H:%M') - pd.to_datetime(scales_df_with_rel_dates_df['event_date_first'], format='%d.%m.%Y %H:%M')).dt.total_seconds() / (60 * 60)"
   ]
  },
  {
   "cell_type": "code",
   "execution_count": null,
   "metadata": {
    "pycharm": {
     "name": "#%%\n"
    }
   },
   "outputs": [],
   "source": [
    "g = sns.relplot(x='relative_sample_date', y='score', col='scale',\n",
    "                data=scales_df_with_rel_dates_df, hue='scale', legend=False, alpha=0.1,\n",
    "            facet_kws=dict(sharey=False))\n",
    "g.set(xlim=(0, 350))\n",
    "plt.show()"
   ]
  },
  {
   "cell_type": "code",
   "execution_count": null,
   "metadata": {
    "pycharm": {
     "name": "#%%\n"
    }
   },
   "outputs": [],
   "source": [
    "for scale in scales_df_with_rel_dates_df['scale'].unique():\n",
    "    scale_df = scales_df_with_rel_dates_df[scales_df_with_rel_dates_df['scale'] == scale]\n",
    "    g = sns.displot(x=\"score\", data=scale_df, kde=True, legend=False)\n",
    "    g.ax.set_title(scale)\n",
    "    plt.show()"
   ]
  },
  {
   "cell_type": "code",
   "execution_count": null,
   "metadata": {
    "pycharm": {
     "name": "#%%\n"
    }
   },
   "outputs": [],
   "source": [
    "NIHSS_df = scales_df_with_rel_dates_df[scales_df_with_rel_dates_df['scale'] == 'NIHSS']\n",
    "GCS_df = scales_df_with_rel_dates_df[scales_df_with_rel_dates_df['scale'] == 'Glasgow Coma Scale']"
   ]
  },
  {
   "cell_type": "code",
   "execution_count": null,
   "metadata": {
    "pycharm": {
     "name": "#%%\n"
    }
   },
   "outputs": [],
   "source": [
    "pa_id = '97572842_10062019'\n",
    "pa_df = GCS_df[GCS_df['case_admission_id'] == pa_id]\n",
    "\n",
    "ax = sns.scatterplot(x='relative_sample_date', y='score', data=pa_df, hue='score', legend=True)\n",
    "ax.set_xlabel('Hours from admission')\n",
    "ax.set_ylabel('NIHSS')\n",
    "\n",
    "plt.show()\n"
   ]
  },
  {
   "cell_type": "code",
   "execution_count": null,
   "metadata": {
    "pycharm": {
     "name": "#%%\n"
    }
   },
   "outputs": [],
   "source": []
  }
 ],
 "metadata": {
  "kernelspec": {
   "display_name": "Python 3",
   "language": "python",
   "name": "python3"
  },
  "language_info": {
   "codemirror_mode": {
    "name": "ipython",
    "version": 2
   },
   "file_extension": ".py",
   "mimetype": "text/x-python",
   "name": "python",
   "nbconvert_exporter": "python",
   "pygments_lexer": "ipython2",
   "version": "2.7.6"
  }
 },
 "nbformat": 4,
 "nbformat_minor": 0
}
