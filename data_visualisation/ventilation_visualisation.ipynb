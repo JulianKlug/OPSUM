{
 "cells": [
  {
   "cell_type": "code",
   "execution_count": null,
   "metadata": {
    "pycharm": {
     "name": "#%%\n"
    }
   },
   "outputs": [],
   "source": [
    "import matplotlib.pyplot as plt\n",
    "import pandas as pd\n",
    "import os\n",
    "import numpy as np\n",
    "import seaborn as sns\n",
    "from preprocessing.ventilation_preprocessing.ventilation_preprocessing import preprocess_ventilation\n"
   ]
  },
  {
   "cell_type": "code",
   "execution_count": null,
   "metadata": {
    "pycharm": {
     "name": "#%%\n"
    }
   },
   "outputs": [],
   "source": [
    "data_path = '/Users/jk1/stroke_datasets/stroke_unit_dataset/per_value/Extraction_20211110'\n",
    "ventilation_file_start = 'ventilation'\n",
    "ventilation_files = [pd.read_csv(os.path.join(data_path, f), delimiter=';', encoding='utf-8', dtype=str)\n",
    "                     for f in os.listdir(data_path)\n",
    "                     if f.startswith(ventilation_file_start)]"
   ]
  },
  {
   "cell_type": "code",
   "execution_count": null,
   "metadata": {
    "pycharm": {
     "name": "#%%\n"
    }
   },
   "outputs": [],
   "source": [
    "ventilation_df = pd.concat(ventilation_files, ignore_index=True)"
   ]
  },
  {
   "cell_type": "code",
   "execution_count": null,
   "metadata": {
    "pycharm": {
     "name": "#%%\n"
    }
   },
   "outputs": [],
   "source": [
    "fio2_df, spo2_df = preprocess_ventilation(ventilation_df)"
   ]
  },
  {
   "cell_type": "code",
   "execution_count": null,
   "metadata": {
    "pycharm": {
     "name": "#%%\n"
    }
   },
   "outputs": [],
   "source": [
    "fio2_df['datetime'] = pd.to_datetime(fio2_df['datetime'], format='%d.%m.%Y %H:%M')\n",
    "# find first sample date for each patient admission id\n",
    "first_sample_dates_df = fio2_df.groupby('case_admission_id')['datetime'].min()\n",
    "first_sample_dates_df.head(2)"
   ]
  },
  {
   "cell_type": "code",
   "execution_count": null,
   "metadata": {
    "pycharm": {
     "name": "#%%\n"
    }
   },
   "outputs": [],
   "source": [
    "fio2_df_with_rel_dates_df = fio2_df.join(first_sample_dates_df, on='case_admission_id', rsuffix='_first').copy()\n",
    "fio2_df_with_rel_dates_df['relative_sample_date'] = (pd.to_datetime(fio2_df_with_rel_dates_df['datetime'], format='%d.%m.%Y %H:%M')\n",
    "                                                     - pd.to_datetime(fio2_df_with_rel_dates_df['datetime_first'], format='%d.%m.%Y %H:%M')).dt.total_seconds() / (60 * 60)"
   ]
  },
  {
   "cell_type": "code",
   "execution_count": null,
   "metadata": {
    "pycharm": {
     "name": "#%%\n"
    }
   },
   "outputs": [],
   "source": [
    "g = sns.relplot(x='relative_sample_date', y='FIO2',\n",
    "                data=fio2_df_with_rel_dates_df, hue='FIO2', legend=False, alpha=0.3,\n",
    "            facet_kws=dict(sharey=False))\n",
    "g.set(xlim=(0, 350), xlabel='Hours from admission', ylabel='FiO2')\n",
    "plt.show()"
   ]
  },
  {
   "cell_type": "code",
   "execution_count": null,
   "metadata": {
    "pycharm": {
     "name": "#%%\n"
    }
   },
   "outputs": [],
   "source": [
    "g = sns.displot(x=\"FIO2\", data=fio2_df, kde=True, legend=False)\n",
    "g.set_xlabels('FIO2')\n",
    "g.set_titles('FIO2')\n",
    "plt.show()"
   ]
  },
  {
   "cell_type": "code",
   "execution_count": null,
   "metadata": {
    "pycharm": {
     "name": "#%%\n"
    }
   },
   "outputs": [],
   "source": [
    "g = sns.displot(x=\"spo2\", data=spo2_df, kde=True, legend=False)\n",
    "g.set_xlabels('spO2')\n",
    "g.set_titles('spO2')\n",
    "plt.show()"
   ]
  },
  {
   "cell_type": "code",
   "execution_count": null,
   "metadata": {
    "pycharm": {
     "name": "#%%\n"
    }
   },
   "outputs": [],
   "source": []
  }
 ],
 "metadata": {
  "kernelspec": {
   "display_name": "Python 3",
   "language": "python",
   "name": "python3"
  },
  "language_info": {
   "codemirror_mode": {
    "name": "ipython",
    "version": 2
   },
   "file_extension": ".py",
   "mimetype": "text/x-python",
   "name": "python",
   "nbconvert_exporter": "python",
   "pygments_lexer": "ipython2",
   "version": "2.7.6"
  }
 },
 "nbformat": 4,
 "nbformat_minor": 0
}
