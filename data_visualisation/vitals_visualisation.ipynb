{
 "cells": [
  {
   "cell_type": "code",
   "execution_count": null,
   "metadata": {
    "pycharm": {
     "name": "#%%\n"
    }
   },
   "outputs": [],
   "source": [
    "import os\n",
    "import numpy as np\n",
    "import pandas as pd\n",
    "from preprocessing.vitals_preprocessing.vitals_preprocessing import preprocess_vitals\n",
    "import seaborn as sns\n",
    "import matplotlib.pyplot as plt"
   ]
  },
  {
   "cell_type": "code",
   "execution_count": null,
   "metadata": {
    "pycharm": {
     "name": "#%%\n"
    }
   },
   "outputs": [],
   "source": [
    "data_path = '/Users/jk1/stroke_datasets/stroke_unit_dataset/per_value/Extraction_20211110'\n",
    "vitals_file_start = 'patientvalue'\n",
    "vitals_files = [pd.read_csv(os.path.join(data_path, f), delimiter=';', encoding='utf-8', dtype=str)\n",
    "             for f in os.listdir(data_path)\n",
    "             if f.startswith(vitals_file_start)]\n",
    "vitals_df = pd.concat(vitals_files, ignore_index=True)"
   ]
  },
  {
   "cell_type": "code",
   "execution_count": null,
   "metadata": {
    "pycharm": {
     "name": "#%%\n"
    }
   },
   "outputs": [],
   "source": [
    "vitals_df = preprocess_vitals(vitals_df, verbose=True)"
   ]
  },
  {
   "cell_type": "code",
   "execution_count": null,
   "metadata": {
    "pycharm": {
     "name": "#%%\n"
    }
   },
   "outputs": [],
   "source": [
    "vitals_df.head()"
   ]
  },
  {
   "cell_type": "code",
   "execution_count": null,
   "metadata": {
    "pycharm": {
     "name": "#%%\n"
    }
   },
   "outputs": [],
   "source": [
    "vitals_df.groupby('vital_name')['vital_value'].describe()\n"
   ]
  },
  {
   "cell_type": "code",
   "execution_count": null,
   "metadata": {
    "pycharm": {
     "name": "#%%\n"
    }
   },
   "outputs": [],
   "source": [
    "vitals_df['datetime'] = pd.to_datetime(vitals_df['datetime'], format='%d.%m.%Y %H:%M')\n",
    "# find first sample date for each patient admission id\n",
    "first_sample_dates_df = vitals_df.groupby('case_admission_id')['datetime'].min()\n",
    "first_sample_dates_df.head(2)"
   ]
  },
  {
   "cell_type": "code",
   "execution_count": null,
   "metadata": {
    "pycharm": {
     "name": "#%%\n"
    }
   },
   "outputs": [],
   "source": [
    "vitals_df_with_rel_dates_df = vitals_df.join(first_sample_dates_df, on='case_admission_id', rsuffix='_first').copy()"
   ]
  },
  {
   "cell_type": "code",
   "execution_count": null,
   "metadata": {
    "pycharm": {
     "name": "#%%\n"
    }
   },
   "outputs": [],
   "source": [
    "vitals_df_with_rel_dates_df['relative_sample_date'] = \\\n",
    "    (pd.to_datetime(vitals_df_with_rel_dates_df['datetime'], format='%d.%m.%Y %H:%M')\n",
    "     - pd.to_datetime(vitals_df_with_rel_dates_df['datetime_first'], format='%d.%m.%Y %H:%M'))\\\n",
    "        .dt.total_seconds() / (60*60)"
   ]
  },
  {
   "cell_type": "code",
   "execution_count": null,
   "metadata": {
    "pycharm": {
     "name": "#%%\n"
    }
   },
   "outputs": [],
   "source": [
    "# get random id from all patient admission ids\n",
    "pa_id = np.random.choice(vitals_df_with_rel_dates_df['case_admission_id'].unique())\n",
    "vital_name = 'respiratory_rate'\n",
    "temp = vitals_df_with_rel_dates_df[(vitals_df_with_rel_dates_df['case_admission_id'] == pa_id)\n",
    "                                          & (vitals_df_with_rel_dates_df['vital_name'].isin([vital_name]))].copy()\n",
    "ax = sns.scatterplot(x='relative_sample_date', y='vital_value', data=temp, hue='vital_value', legend=False)\n",
    "ax.set_xlabel('Hours from admission')\n",
    "ax.set_ylabel(vital_name)\n",
    "ax.tick_params(axis=\"x\", rotation=45)\n",
    "\n",
    "plt.show()"
   ]
  },
  {
   "cell_type": "code",
   "execution_count": null,
   "metadata": {
    "pycharm": {
     "name": "#%%\n"
    }
   },
   "outputs": [],
   "source": [
    "g = sns.relplot(x='relative_sample_date', y='vital_value', col='vital_name', col_wrap=4,\n",
    "                data=vitals_df_with_rel_dates_df, hue='vital_name', legend=False, alpha=0.05, s=5,\n",
    "            facet_kws=dict(sharey=False))\n",
    "g.set(xlim=(0, 350), xlabel='Hours from admission', ylabel='Vital value')\n",
    "plt.show()"
   ]
  },
  {
   "cell_type": "code",
   "execution_count": null,
   "metadata": {
    "pycharm": {
     "name": "#%%\n"
    }
   },
   "outputs": [],
   "source": [
    "for vital_name in vitals_df_with_rel_dates_df['vital_name'].unique():\n",
    "    vital_df = vitals_df_with_rel_dates_df[vitals_df_with_rel_dates_df['vital_name'] == vital_name]\n",
    "    g = sns.displot(x=\"vital_value\", data=vital_df, kde=True, legend=False)\n",
    "    g.ax.set_title(vital_name)\n",
    "    g.ax.set_xlabel(vital_name)\n",
    "    plt.show()"
   ]
  },
  {
   "cell_type": "code",
   "execution_count": null,
   "metadata": {
    "pycharm": {
     "name": "#%%\n"
    }
   },
   "outputs": [],
   "source": []
  }
 ],
 "metadata": {
  "kernelspec": {
   "display_name": "Python 3",
   "language": "python",
   "name": "python3"
  },
  "language_info": {
   "codemirror_mode": {
    "name": "ipython",
    "version": 2
   },
   "file_extension": ".py",
   "mimetype": "text/x-python",
   "name": "python",
   "nbconvert_exporter": "python",
   "pygments_lexer": "ipython2",
   "version": "2.7.6"
  }
 },
 "nbformat": 4,
 "nbformat_minor": 0
}
