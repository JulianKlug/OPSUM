{
 "cells": [
  {
   "cell_type": "markdown",
   "metadata": {
    "collapsed": false,
    "pycharm": {
     "name": "#%% md\n"
    }
   },
   "source": [
    "## Verify if patients excluded through automatic exclusion in preprocessing and manual exclusion correspond"
   ]
  },
  {
   "cell_type": "code",
   "execution_count": null,
   "metadata": {
    "pycharm": {
     "name": "#%%\n"
    }
   },
   "outputs": [],
   "source": [
    "import pandas as pd"
   ]
  },
  {
   "cell_type": "code",
   "execution_count": null,
   "metadata": {
    "pycharm": {
     "name": "#%%\n"
    }
   },
   "outputs": [],
   "source": [
    "manual_exclusion_paths = ['/Users/jk1/temp/opsum_extration_output/ehr_extraction_errors/manual_verification/patients_with_missing_data.csv',\n",
    "                          # '/Users/jk1/temp/opsum_extration_output/ehr_extraction_errors/manual_verification/patients_with_slightly_shifted_eds_start.csv',\n",
    "                          # '/Users/jk1/temp/opsum_extration_output/ehr_extraction_errors/manual_verification/patients_with_stroke_after_7_days_admission.csv',\n",
    "                          '/Users/jk1/temp/opsum_extration_output/ehr_extraction_errors/manual_verification/patients_with_wrong_eds_start_and_missing_data_removed.xlsx',\n",
    "                          '/Users/jk1/temp/opsum_extration_output/ehr_extraction_errors/manual_verification/patients_with_wrong_eds_start.csv']"
   ]
  },
  {
   "cell_type": "code",
   "execution_count": null,
   "metadata": {
    "pycharm": {
     "name": "#%%\n"
    }
   },
   "outputs": [],
   "source": [
    "preprocessing_excluded_patients_path = '/Users/jk1/temp/opsum_prepro_output/logs_15062022_191426/missing_cids_from_feature_database.tsv'"
   ]
  },
  {
   "cell_type": "code",
   "execution_count": null,
   "metadata": {
    "pycharm": {
     "name": "#%%\n"
    }
   },
   "outputs": [],
   "source": [
    "manual_exclusion_dfs = []\n",
    "for manual_exclusion_path in manual_exclusion_paths:\n",
    "    if manual_exclusion_path.endswith('.csv'):\n",
    "        manual_exclusion_dfs.append(pd.read_csv(manual_exclusion_path, dtype=str))\n",
    "    elif manual_exclusion_path.endswith('.xlsx'):\n",
    "        manual_exclusion_dfs.append(pd.read_excel(manual_exclusion_path, dtype=str))\n"
   ]
  },
  {
   "cell_type": "code",
   "execution_count": null,
   "metadata": {
    "pycharm": {
     "name": "#%%\n"
    }
   },
   "outputs": [],
   "source": [
    "manual_exclusion_cids = []\n",
    "for manual_exclusion_df in manual_exclusion_dfs:\n",
    "    if 'patient_id_x' in manual_exclusion_df.columns:\n",
    "        manual_exclusion_cids.append(manual_exclusion_df['patient_id_x'].astype(str) + '_' + manual_exclusion_df['EDS_last_4_digits_x'].astype(str))\n",
    "    else:\n",
    "        manual_exclusion_cids.append(manual_exclusion_df['patient_id'].astype(str) + '_' + manual_exclusion_df['EDS_last_4_digits'].astype(str))"
   ]
  },
  {
   "cell_type": "code",
   "execution_count": null,
   "metadata": {
    "pycharm": {
     "name": "#%%\n"
    }
   },
   "outputs": [],
   "source": [
    "def flatten_list(l):\n",
    "    return [item for sublist in l for item in sublist]"
   ]
  },
  {
   "cell_type": "code",
   "execution_count": null,
   "metadata": {
    "pycharm": {
     "name": "#%%\n"
    }
   },
   "outputs": [],
   "source": [
    "manual_exclusion_cids = set(flatten_list(manual_exclusion_cids))"
   ]
  },
  {
   "cell_type": "code",
   "execution_count": null,
   "metadata": {
    "pycharm": {
     "name": "#%%\n"
    }
   },
   "outputs": [],
   "source": [
    "preprocessing_excluded_patients_df = pd.read_csv(preprocessing_excluded_patients_path, sep='\\t')"
   ]
  },
  {
   "cell_type": "code",
   "execution_count": null,
   "metadata": {
    "pycharm": {
     "name": "#%%\n"
    }
   },
   "outputs": [],
   "source": [
    "preprocessing_excluded_patients_cids = set(preprocessing_excluded_patients_df['case_admission_id'].astype(str))"
   ]
  },
  {
   "cell_type": "markdown",
   "metadata": {
    "collapsed": false,
    "pycharm": {
     "name": "#%% md\n"
    }
   },
   "source": [
    "Find patients that are only excluded through preprocessing"
   ]
  },
  {
   "cell_type": "code",
   "execution_count": null,
   "metadata": {
    "pycharm": {
     "name": "#%%\n"
    }
   },
   "outputs": [],
   "source": [
    "cids_only_excluded_through_preprocessing = preprocessing_excluded_patients_cids.difference(manual_exclusion_cids)"
   ]
  },
  {
   "cell_type": "markdown",
   "metadata": {
    "collapsed": false,
    "pycharm": {
     "name": "#%% md\n"
    }
   },
   "source": [
    "Find patients that are only excluded through manual exclusion"
   ]
  },
  {
   "cell_type": "code",
   "execution_count": null,
   "metadata": {
    "pycharm": {
     "name": "#%%\n"
    }
   },
   "outputs": [],
   "source": [
    "cids_only_excluded_through_manual_exclusion = manual_exclusion_cids.difference(preprocessing_excluded_patients_cids)"
   ]
  },
  {
   "cell_type": "code",
   "execution_count": null,
   "metadata": {
    "pycharm": {
     "name": "#%%\n"
    }
   },
   "outputs": [],
   "source": [
    "# for a given patient_id, find in which manual exclusion file the patient is\n",
    "pid = '58752'\n",
    "for idx, manual_exclusion_df in enumerate(manual_exclusion_dfs):\n",
    "    if 'patient_id_x' in manual_exclusion_df.columns:\n",
    "        if pid in manual_exclusion_df['patient_id_x'].astype(str).values:\n",
    "            print(manual_exclusion_paths[idx])\n",
    "    else:\n",
    "        if pid in manual_exclusion_df['patient_id'].astype(str).values:\n",
    "            print(manual_exclusion_paths[idx])"
   ]
  },
  {
   "cell_type": "code",
   "execution_count": null,
   "metadata": {
    "pycharm": {
     "name": "#%%\n"
    }
   },
   "outputs": [],
   "source": []
  }
 ],
 "metadata": {
  "kernelspec": {
   "display_name": "Python 3",
   "language": "python",
   "name": "python3"
  },
  "language_info": {
   "codemirror_mode": {
    "name": "ipython",
    "version": 2
   },
   "file_extension": ".py",
   "mimetype": "text/x-python",
   "name": "python",
   "nbconvert_exporter": "python",
   "pygments_lexer": "ipython2",
   "version": "2.7.6"
  }
 },
 "nbformat": 4,
 "nbformat_minor": 0
}
