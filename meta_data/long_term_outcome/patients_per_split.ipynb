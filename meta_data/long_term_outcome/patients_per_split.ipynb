{
 "cells": [
  {
   "cell_type": "markdown",
   "id": "cf52a1554d2db545",
   "metadata": {
    "collapsed": false
   },
   "source": [
    "# Components for flow chart"
   ]
  },
  {
   "cell_type": "code",
   "execution_count": null,
   "id": "initial_id",
   "metadata": {
    "ExecuteTime": {
     "end_time": "2024-03-01T20:08:31.498859Z",
     "start_time": "2024-03-01T20:08:30.038459Z"
    }
   },
   "outputs": [],
   "source": [
    "import pandas as pd"
   ]
  },
  {
   "cell_type": "code",
   "execution_count": null,
   "id": "e456492fa14bcba1",
   "metadata": {
    "ExecuteTime": {
     "end_time": "2024-03-01T20:08:31.505795Z",
     "start_time": "2024-03-01T20:08:31.502308Z"
    }
   },
   "outputs": [],
   "source": [
    "mrs_test_pids_path = '/Users/jk1/temp/opsum_prediction_output/transformer/3M_mrs02/transformer_20230402_184459_test_set_evaluation/pid_test.tsv'\n",
    "mrs_train_pids_path = '/Users/jk1/temp/opsum_prediction_output/transformer/3M_mrs02/transformer_20230402_184459_test_set_evaluation/pid_train.tsv'\n",
    "\n",
    "death_test_pids_path = '/Users/jk1/temp/opsum_prediction_output/transformer/3M_Death/testing/pid_test.tsv'\n",
    "death_train_pids_path = '/Users/jk1/temp/opsum_prediction_output/transformer/3M_Death/testing/pid_train.tsv'\n",
    "\n",
    "death_in_hospital_test_pids_path = '/Users/jk1/temp/opsum_prediction_output/transformer/Death_in_hospital/testing/15_02_23/pid_test.tsv'\n",
    "death_in_hospital_train_pids_path = '/Users/jk1/temp/opsum_prediction_output/transformer/Death_in_hospital/testing/15_02_23/pid_train.tsv'\n",
    "\n",
    "data_path = '/Users/jk1/temp/opsum_prepro_output/gsu_prepro_01012023_233050/preprocessed_features_01012023_233050.csv'\n",
    "outcome_df = '/Users/jk1/temp/opsum_prepro_output/gsu_prepro_01012023_233050/preprocessed_outcomes_01012023_233050.csv'"
   ]
  },
  {
   "cell_type": "code",
   "execution_count": null,
   "id": "d93aeb47e233087",
   "metadata": {
    "ExecuteTime": {
     "end_time": "2024-03-01T20:08:35.811800Z",
     "start_time": "2024-03-01T20:08:35.789639Z"
    }
   },
   "outputs": [],
   "source": [
    "mrs_test_pids = pd.read_csv(mrs_test_pids_path, sep='\\t', header=None)\n",
    "mrs_train_pids = pd.read_csv(mrs_train_pids_path, sep='\\t', header=None)\n",
    "\n",
    "death_test_pids = pd.read_csv(death_test_pids_path, sep='\\t', header=None)\n",
    "death_train_pids = pd.read_csv(death_train_pids_path, sep='\\t', header=None)\n",
    "\n",
    "death_in_hospital_test_pids = pd.read_csv(death_in_hospital_test_pids_path, sep='\\t', header=None)\n",
    "death_in_hospital_train_pids = pd.read_csv(death_in_hospital_train_pids_path, sep='\\t', header=None)"
   ]
  },
  {
   "cell_type": "code",
   "execution_count": null,
   "id": "3d98fa2a34f143d7",
   "metadata": {
    "ExecuteTime": {
     "end_time": "2024-03-01T20:08:48.913211Z",
     "start_time": "2024-03-01T20:08:39.097991Z"
    }
   },
   "outputs": [],
   "source": [
    "data_df = pd.read_csv(data_path)\n",
    "outcomes_df = pd.read_csv(outcome_df)"
   ]
  },
  {
   "cell_type": "code",
   "execution_count": null,
   "id": "8f2a6707e47ad372",
   "metadata": {
    "ExecuteTime": {
     "end_time": "2024-03-01T20:08:53.767746Z",
     "start_time": "2024-03-01T20:08:48.923553Z"
    }
   },
   "outputs": [],
   "source": [
    "data_df['pid'] = data_df['case_admission_id'].apply(lambda x: x.split('_')[0])\n",
    "outcomes_df['pid'] = outcomes_df['case_admission_id'].apply(lambda x: x.split('_')[0])"
   ]
  },
  {
   "cell_type": "markdown",
   "id": "6bae83436dfcca20",
   "metadata": {
    "collapsed": false
   },
   "source": [
    "## Overall"
   ]
  },
  {
   "cell_type": "code",
   "execution_count": null,
   "id": "5e4285d377c14f22",
   "metadata": {
    "ExecuteTime": {
     "end_time": "2024-03-01T20:08:55.146185Z",
     "start_time": "2024-03-01T20:08:53.768653Z"
    }
   },
   "outputs": [],
   "source": [
    "n_admissions = outcomes_df[(outcomes_df.case_admission_id.isin(data_df.case_admission_id.unique()))].case_admission_id.nunique()\n",
    "n_unique_patients = outcomes_df[(outcomes_df.case_admission_id.isin(data_df.case_admission_id.unique()))].pid.nunique()"
   ]
  },
  {
   "cell_type": "code",
   "execution_count": null,
   "id": "d70d334939d4ccb6",
   "metadata": {
    "ExecuteTime": {
     "end_time": "2024-03-01T20:08:55.161519Z",
     "start_time": "2024-03-01T20:08:55.147396Z"
    }
   },
   "outputs": [],
   "source": [
    "print('Number of admissions')\n",
    "n_admissions"
   ]
  },
  {
   "cell_type": "code",
   "execution_count": null,
   "id": "d6c7b38abf22a3f7",
   "metadata": {
    "ExecuteTime": {
     "end_time": "2024-03-01T20:08:55.168453Z",
     "start_time": "2024-03-01T20:08:55.162255Z"
    }
   },
   "outputs": [],
   "source": [
    "print('Number of unique patients')\n",
    "n_unique_patients"
   ]
  },
  {
   "cell_type": "code",
   "execution_count": null,
   "id": "addb104f735af60a",
   "metadata": {
    "ExecuteTime": {
     "end_time": "2024-03-01T20:08:55.793913Z",
     "start_time": "2024-03-01T20:08:55.167090Z"
    }
   },
   "outputs": [],
   "source": [
    "# find number of unique patients with multiple admissions\n",
    "n_unique_patients_with_multiple_admissions = outcomes_df[(outcomes_df.case_admission_id.isin(data_df.case_admission_id.unique()))].groupby('pid').case_admission_id.nunique().reset_index()"
   ]
  },
  {
   "cell_type": "code",
   "execution_count": null,
   "id": "a486e3d7f306fa8a",
   "metadata": {
    "ExecuteTime": {
     "end_time": "2024-03-01T20:08:55.802138Z",
     "start_time": "2024-03-01T20:08:55.796488Z"
    }
   },
   "outputs": [],
   "source": [
    "n_unique_patients_with_multiple_admissions[n_unique_patients_with_multiple_admissions.case_admission_id > 1].shape"
   ]
  },
  {
   "cell_type": "markdown",
   "id": "48a7659ade668f38",
   "metadata": {
    "collapsed": false
   },
   "source": [
    "## MRS"
   ]
  },
  {
   "cell_type": "code",
   "execution_count": null,
   "id": "a04c33fecfec7dac",
   "metadata": {
    "ExecuteTime": {
     "end_time": "2024-03-01T20:09:07.793287Z",
     "start_time": "2024-03-01T20:09:07.788376Z"
    }
   },
   "outputs": [],
   "source": [
    "len(mrs_test_pids), len(mrs_train_pids)"
   ]
  },
  {
   "cell_type": "code",
   "execution_count": null,
   "id": "45fc38f33c92d8ee",
   "metadata": {
    "ExecuteTime": {
     "end_time": "2024-03-01T20:09:11.566958Z",
     "start_time": "2024-03-01T20:09:10.100641Z"
    }
   },
   "outputs": [],
   "source": [
    "n_admissions_mrs = outcomes_df[(outcomes_df.case_admission_id.isin(data_df.case_admission_id.unique())) & (\n",
    "            ~outcomes_df['3M mRS 0-2'].isnull())].case_admission_id.nunique()\n",
    "n_admissions_mrs_train_set = outcomes_df[(outcomes_df.case_admission_id.isin(data_df.case_admission_id.unique())) & (\n",
    "            ~outcomes_df['3M mRS 0-2'].isnull()) & (outcomes_df.pid.isin(mrs_train_pids[0]))].case_admission_id.nunique()\n",
    "n_admissions_mrs_test_set = outcomes_df[(outcomes_df.case_admission_id.isin(data_df.case_admission_id.unique())) & (\n",
    "            ~outcomes_df['3M mRS 0-2'].isnull()) & (outcomes_df.pid.isin(mrs_test_pids[0]))].case_admission_id.nunique()"
   ]
  },
  {
   "cell_type": "code",
   "execution_count": null,
   "id": "31ccba247049e29c",
   "metadata": {
    "ExecuteTime": {
     "end_time": "2024-03-01T20:09:11.591795Z",
     "start_time": "2024-03-01T20:09:11.571291Z"
    }
   },
   "outputs": [],
   "source": [
    "print('Number of admissions for 3M mRS')\n",
    "n_admissions_mrs_train_set, n_admissions_mrs_test_set, n_admissions_mrs_train_set + n_admissions_mrs_test_set, n_admissions_mrs"
   ]
  },
  {
   "cell_type": "markdown",
   "id": "8324edd67d46363c",
   "metadata": {
    "collapsed": false
   },
   "source": [
    "NB: one admission has been removed post-hoc from training set (age criterion adjusted to 18y)"
   ]
  },
  {
   "cell_type": "code",
   "execution_count": null,
   "id": "15b3cddd51753e8e",
   "metadata": {
    "ExecuteTime": {
     "end_time": "2024-03-01T20:09:30.015766Z",
     "start_time": "2024-03-01T20:09:28.359031Z"
    }
   },
   "outputs": [],
   "source": [
    "n_unique_patients_mrs = outcomes_df[(outcomes_df.case_admission_id.isin(data_df.case_admission_id.unique())) & (\n",
    "            ~outcomes_df['3M mRS 0-2'].isnull())].pid.nunique()\n",
    "n_unique_patients_mrs_train_set = outcomes_df[(outcomes_df.case_admission_id.isin(data_df.case_admission_id.unique())) & (\n",
    "            ~outcomes_df['3M mRS 0-2'].isnull()) & (outcomes_df.pid.isin(mrs_train_pids[0]))].pid.nunique()\n",
    "n_unique_patients_mrs_test_set = outcomes_df[(outcomes_df.case_admission_id.isin(data_df.case_admission_id.unique())) & (\n",
    "            ~outcomes_df['3M mRS 0-2'].isnull()) & (outcomes_df.pid.isin(mrs_test_pids[0]))].pid.nunique()"
   ]
  },
  {
   "cell_type": "code",
   "execution_count": null,
   "id": "7b39f5208f3b343a",
   "metadata": {
    "ExecuteTime": {
     "end_time": "2024-03-01T20:09:30.023185Z",
     "start_time": "2024-03-01T20:09:30.017579Z"
    }
   },
   "outputs": [],
   "source": [
    "print('Number of unique patients for 3M mRS')\n",
    "n_unique_patients_mrs_train_set, n_unique_patients_mrs_test_set, n_unique_patients_mrs_train_set + n_unique_patients_mrs_test_set, n_unique_patients_mrs"
   ]
  },
  {
   "cell_type": "markdown",
   "id": "7172dd0b64cad7bf",
   "metadata": {
    "collapsed": false
   },
   "source": [
    "## Death"
   ]
  },
  {
   "cell_type": "code",
   "execution_count": null,
   "id": "8064200c090333b2",
   "metadata": {
    "ExecuteTime": {
     "end_time": "2024-03-01T20:09:30.032251Z",
     "start_time": "2024-03-01T20:09:30.023370Z"
    }
   },
   "outputs": [],
   "source": [
    "len(death_test_pids), len(death_train_pids)"
   ]
  },
  {
   "cell_type": "code",
   "execution_count": null,
   "id": "b295a8ba514b35aa",
   "metadata": {
    "ExecuteTime": {
     "end_time": "2024-03-01T20:09:32.367498Z",
     "start_time": "2024-03-01T20:09:30.740822Z"
    }
   },
   "outputs": [],
   "source": [
    "n_admissions_death = outcomes_df[(outcomes_df.case_admission_id.isin(data_df.case_admission_id.unique())) & (\n",
    "            ~outcomes_df['3M Death'].isnull())].case_admission_id.nunique()\n",
    "n_admissions_death_train_set = outcomes_df[(outcomes_df.case_admission_id.isin(data_df.case_admission_id.unique())) & (\n",
    "            ~outcomes_df['3M Death'].isnull()) & (outcomes_df.pid.isin(death_train_pids[0]))].case_admission_id.nunique()\n",
    "n_admissions_death_test_set = outcomes_df[(outcomes_df.case_admission_id.isin(data_df.case_admission_id.unique())) & (\n",
    "            ~outcomes_df['3M Death'].isnull()) & (outcomes_df.pid.isin(death_test_pids[0]))].case_admission_id.nunique()"
   ]
  },
  {
   "cell_type": "code",
   "execution_count": null,
   "id": "800ee43f8f597b32",
   "metadata": {
    "ExecuteTime": {
     "end_time": "2024-03-01T20:09:32.376032Z",
     "start_time": "2024-03-01T20:09:32.369881Z"
    }
   },
   "outputs": [],
   "source": [
    "print('Number of admissions for 3M Death')\n",
    "n_admissions_death_test_set, n_admissions_death_train_set, n_admissions_death_test_set + n_admissions_death_train_set, n_admissions_death"
   ]
  },
  {
   "cell_type": "code",
   "execution_count": null,
   "id": "632e5be47ecc9549",
   "metadata": {
    "ExecuteTime": {
     "end_time": "2024-03-01T20:09:34.319035Z",
     "start_time": "2024-03-01T20:09:32.774663Z"
    }
   },
   "outputs": [],
   "source": [
    "n_unique_patients_death = outcomes_df[(outcomes_df.case_admission_id.isin(data_df.case_admission_id.unique())) & (\n",
    "            ~outcomes_df['3M Death'].isnull())].pid.nunique()\n",
    "n_unique_patients_death_train_set = outcomes_df[(outcomes_df.case_admission_id.isin(data_df.case_admission_id.unique())) & (\n",
    "            ~outcomes_df['3M Death'].isnull()) & (outcomes_df.pid.isin(death_train_pids[0]))].pid.nunique()\n",
    "n_unique_patients_death_test_set = outcomes_df[(outcomes_df.case_admission_id.isin(data_df.case_admission_id.unique())) & (\n",
    "            ~outcomes_df['3M Death'].isnull()) & (outcomes_df.pid.isin(death_test_pids[0]))].pid.nunique()"
   ]
  },
  {
   "cell_type": "code",
   "execution_count": null,
   "id": "fbdbe016b5beaf39",
   "metadata": {
    "ExecuteTime": {
     "end_time": "2024-03-01T20:09:34.328080Z",
     "start_time": "2024-03-01T20:09:34.322135Z"
    }
   },
   "outputs": [],
   "source": [
    "print('Number of unique patients for 3M Death')\n",
    "n_unique_patients_death_train_set, n_unique_patients_death_test_set, n_unique_patients_death_train_set + n_unique_patients_death_test_set, n_unique_patients_death"
   ]
  },
  {
   "cell_type": "markdown",
   "id": "a3b81e1a23274267",
   "metadata": {
    "collapsed": false
   },
   "source": [
    "## Death in hospital"
   ]
  },
  {
   "cell_type": "code",
   "execution_count": null,
   "id": "524affdc8cf4f436",
   "metadata": {
    "ExecuteTime": {
     "end_time": "2024-03-01T20:09:51.567899Z",
     "start_time": "2024-03-01T20:09:51.549935Z"
    }
   },
   "outputs": [],
   "source": [
    "len(death_in_hospital_test_pids), len(death_in_hospital_train_pids)"
   ]
  },
  {
   "cell_type": "code",
   "execution_count": null,
   "id": "31d8ba230b299338",
   "metadata": {
    "ExecuteTime": {
     "end_time": "2024-03-01T20:10:22.113144Z",
     "start_time": "2024-03-01T20:10:20.614340Z"
    }
   },
   "outputs": [],
   "source": [
    "n_admissions_death_in_hospital = outcomes_df[(outcomes_df.case_admission_id.isin(data_df.case_admission_id.unique())) & (\n",
    "            ~outcomes_df['Death in hospital'].isnull())].case_admission_id.nunique()\n",
    "\n",
    "n_admissions_death_in_hospital_train_set = outcomes_df[(outcomes_df.case_admission_id.isin(data_df.case_admission_id.unique())) & (\n",
    "            ~outcomes_df['Death in hospital'].isnull()) & (outcomes_df.pid.isin(death_in_hospital_train_pids[0]))].case_admission_id.nunique()\n",
    "\n",
    "n_admissions_death_in_hospital_test_set = outcomes_df[(outcomes_df.case_admission_id.isin(data_df.case_admission_id.unique())) & (\n",
    "            ~outcomes_df['Death in hospital'].isnull()) & (outcomes_df.pid.isin(death_in_hospital_test_pids[0]))].case_admission_id.nunique()"
   ]
  },
  {
   "cell_type": "code",
   "execution_count": null,
   "id": "c3382304f654be02",
   "metadata": {
    "ExecuteTime": {
     "end_time": "2024-03-01T20:10:44.331694Z",
     "start_time": "2024-03-01T20:10:44.311049Z"
    }
   },
   "outputs": [],
   "source": [
    "print('Number of admissions for Death in hospital')\n",
    "n_admissions_death_in_hospital_test_set, n_admissions_death_in_hospital_train_set, n_admissions_death_in_hospital_test_set + n_admissions_death_in_hospital_train_set, n_admissions_death_in_hospital"
   ]
  },
  {
   "cell_type": "code",
   "execution_count": null,
   "id": "14478704e64f7643",
   "metadata": {
    "ExecuteTime": {
     "end_time": "2024-03-01T20:11:19.072328Z",
     "start_time": "2024-03-01T20:11:17.552905Z"
    }
   },
   "outputs": [],
   "source": [
    "n_unique_patients_death_in_hospital = outcomes_df[(outcomes_df.case_admission_id.isin(data_df.case_admission_id.unique())) & (\n",
    "            ~outcomes_df['Death in hospital'].isnull())].pid.nunique()\n",
    "n_unique_patients_death_in_hospital_train_set = outcomes_df[(outcomes_df.case_admission_id.isin(data_df.case_admission_id.unique())) & (\n",
    "            ~outcomes_df['Death in hospital'].isnull()) & (outcomes_df.pid.isin(death_in_hospital_train_pids[0]))].pid.nunique()\n",
    "n_unique_patients_death_in_hospital_test_set = outcomes_df[(outcomes_df.case_admission_id.isin(data_df.case_admission_id.unique())) & (\n",
    "            ~outcomes_df['Death in hospital'].isnull()) & (outcomes_df.pid.isin(death_in_hospital_test_pids[0]))].pid.nunique()\n"
   ]
  },
  {
   "cell_type": "code",
   "execution_count": null,
   "id": "652f1777f04ae644",
   "metadata": {
    "ExecuteTime": {
     "end_time": "2024-03-01T20:11:20.004776Z",
     "start_time": "2024-03-01T20:11:19.987289Z"
    }
   },
   "outputs": [],
   "source": [
    "print('Number of unique patients for Death in hospital')\n",
    "n_unique_patients_death_in_hospital_train_set, n_unique_patients_death_in_hospital_test_set, n_unique_patients_death_in_hospital_train_set + n_unique_patients_death_in_hospital_test_set, n_unique_patients_death_in_hospital"
   ]
  },
  {
   "cell_type": "code",
   "execution_count": null,
   "id": "59657a1ac36a57c7",
   "metadata": {},
   "outputs": [],
   "source": []
  }
 ],
 "metadata": {
  "kernelspec": {
   "display_name": "Python 3",
   "language": "python",
   "name": "python3"
  },
  "language_info": {
   "codemirror_mode": {
    "name": "ipython",
    "version": 2
   },
   "file_extension": ".py",
   "mimetype": "text/x-python",
   "name": "python",
   "nbconvert_exporter": "python",
   "pygments_lexer": "ipython2",
   "version": "2.7.6"
  }
 },
 "nbformat": 4,
 "nbformat_minor": 5
}
