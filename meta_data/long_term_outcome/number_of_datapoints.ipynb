{
 "cells": [
  {
   "cell_type": "code",
   "execution_count": null,
   "id": "initial_id",
   "metadata": {
    "ExecuteTime": {
     "end_time": "2024-03-04T15:26:23.988812Z",
     "start_time": "2024-03-04T15:26:23.979340Z"
    }
   },
   "outputs": [],
   "source": [
    "import pandas as pd"
   ]
  },
  {
   "cell_type": "code",
   "execution_count": null,
   "id": "f45adda9b4cf666c",
   "metadata": {
    "ExecuteTime": {
     "end_time": "2024-03-04T15:27:26.491841Z",
     "start_time": "2024-03-04T15:27:26.484353Z"
    }
   },
   "outputs": [],
   "source": [
    "missingness_data_path = '/Users/jk1/temp/opsum_prepro_output/gsu_prepro_01012023_233050/logs_01012023_233050/missingness.csv'\n",
    "features_data_path = '/Users/jk1/temp/opsum_prepro_output/gsu_prepro_01012023_233050/preprocessed_features_01012023_233050.csv'"
   ]
  },
  {
   "cell_type": "code",
   "execution_count": null,
   "id": "58b321fddfdee71",
   "metadata": {
    "ExecuteTime": {
     "end_time": "2024-03-04T15:28:19.009425Z",
     "start_time": "2024-03-04T15:28:04.474567Z"
    }
   },
   "outputs": [],
   "source": [
    "missingness_df = pd.read_csv(missingness_data_path)\n",
    "features_df = pd.read_csv(features_data_path)"
   ]
  },
  {
   "cell_type": "markdown",
   "id": "453a14adfba59798",
   "metadata": {
    "collapsed": false
   },
   "source": [
    "Compute datapoints from missingness logs"
   ]
  },
  {
   "cell_type": "code",
   "execution_count": null,
   "id": "f218389f748b52c8",
   "metadata": {
    "ExecuteTime": {
     "end_time": "2024-03-04T15:26:24.023796Z",
     "start_time": "2024-03-04T15:26:24.012096Z"
    }
   },
   "outputs": [],
   "source": [
    "n_total = 2492\n",
    "n_features = missingness_df.shape[0]"
   ]
  },
  {
   "cell_type": "code",
   "execution_count": null,
   "id": "d5a26108dcdfb251",
   "metadata": {
    "ExecuteTime": {
     "end_time": "2024-03-04T15:26:24.025205Z",
     "start_time": "2024-03-04T15:26:24.018568Z"
    }
   },
   "outputs": [],
   "source": [
    "target_columns = [f'n_missing_h{h}' for h in range(0, 72)]"
   ]
  },
  {
   "cell_type": "code",
   "execution_count": null,
   "id": "56c144032cd549d8",
   "metadata": {
    "ExecuteTime": {
     "end_time": "2024-03-04T15:26:24.050675Z",
     "start_time": "2024-03-04T15:26:24.022837Z"
    }
   },
   "outputs": [],
   "source": [
    "n_total_datapoints = 0 \n",
    "for col in target_columns:\n",
    "    n_total_datapoints += n_total * n_features - missingness_df[col].sum()"
   ]
  },
  {
   "cell_type": "code",
   "execution_count": null,
   "id": "8d2f5add049b3471",
   "metadata": {
    "ExecuteTime": {
     "end_time": "2024-03-04T15:26:24.116486Z",
     "start_time": "2024-03-04T15:26:24.108130Z"
    }
   },
   "outputs": [],
   "source": [
    "n_total_datapoints"
   ]
  },
  {
   "cell_type": "code",
   "execution_count": null,
   "id": "476eb17f4397c782",
   "metadata": {
    "ExecuteTime": {
     "end_time": "2024-03-04T15:26:24.127301Z",
     "start_time": "2024-03-04T15:26:24.115644Z"
    }
   },
   "outputs": [],
   "source": [
    "# mean per admission\n",
    "n_total_datapoints / n_total"
   ]
  },
  {
   "cell_type": "markdown",
   "id": "4153a35d1c82f905",
   "metadata": {
    "collapsed": false
   },
   "source": [
    "Compute datapoints from features DF"
   ]
  },
  {
   "cell_type": "code",
   "execution_count": null,
   "id": "b33df4482e2802d9",
   "metadata": {
    "ExecuteTime": {
     "end_time": "2024-03-04T15:29:01.677360Z",
     "start_time": "2024-03-04T15:29:01.660229Z"
    }
   },
   "outputs": [],
   "source": [
    "features_df.head()"
   ]
  },
  {
   "cell_type": "code",
   "execution_count": null,
   "id": "e5126acbc577b71f",
   "metadata": {
    "ExecuteTime": {
     "end_time": "2024-03-04T18:59:56.926176Z",
     "start_time": "2024-03-04T18:59:55.571365Z"
    }
   },
   "outputs": [],
   "source": [
    "not_imputed_features_df = features_df[features_df['source'].isin(['EHR', 'stroke_registry'])]"
   ]
  },
  {
   "cell_type": "code",
   "execution_count": null,
   "id": "537cda365366611f",
   "metadata": {
    "ExecuteTime": {
     "end_time": "2024-03-04T19:04:42.573140Z",
     "start_time": "2024-03-04T19:04:42.074521Z"
    }
   },
   "outputs": [],
   "source": [
    "# number of rows per case_admission_id\n",
    "mean_n_obs_per_cid = not_imputed_features_df.groupby('case_admission_id').size().mean()\n",
    "median_n_obs_per_cid = not_imputed_features_df.groupby('case_admission_id').size().median()\n",
    "p5_n_obs_per_cid = not_imputed_features_df.groupby('case_admission_id').size().quantile(0.05)\n",
    "p95_n_obs_per_cid = not_imputed_features_df.groupby('case_admission_id').size().quantile(0.95)\n",
    "\n",
    "print(f'mean_n_obs_per_cid: {mean_n_obs_per_cid}')\n",
    "print(f'median_n_obs_per_cid: {median_n_obs_per_cid} (p5: {p5_n_obs_per_cid}, p95: {p95_n_obs_per_cid})')"
   ]
  },
  {
   "cell_type": "code",
   "execution_count": null,
   "id": "293df2d10cd310e5",
   "metadata": {
    "ExecuteTime": {
     "end_time": "2024-03-04T19:05:02.622751Z",
     "start_time": "2024-03-04T19:05:02.615617Z"
    }
   },
   "outputs": [],
   "source": [
    "n_possible_obs_per_cid = 72 * 84\n",
    "n_possible_obs_per_cid"
   ]
  },
  {
   "cell_type": "code",
   "execution_count": null,
   "id": "971c6091123b5b68",
   "metadata": {},
   "outputs": [],
   "source": []
  }
 ],
 "metadata": {
  "kernelspec": {
   "display_name": "Python 3",
   "language": "python",
   "name": "python3"
  },
  "language_info": {
   "codemirror_mode": {
    "name": "ipython",
    "version": 2
   },
   "file_extension": ".py",
   "mimetype": "text/x-python",
   "name": "python",
   "nbconvert_exporter": "python",
   "pygments_lexer": "ipython2",
   "version": "2.7.6"
  }
 },
 "nbformat": 4,
 "nbformat_minor": 5
}
