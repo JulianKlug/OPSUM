{
 "cells": [
  {
   "cell_type": "code",
   "execution_count": null,
   "metadata": {
    "ExecuteTime": {
     "end_time": "2023-05-04T17:22:12.714607Z",
     "start_time": "2023-05-04T17:22:12.710735Z"
    }
   },
   "outputs": [],
   "source": [
    "import pandas as pd\n",
    "import os"
   ]
  },
  {
   "cell_type": "code",
   "execution_count": null,
   "metadata": {
    "ExecuteTime": {
     "end_time": "2023-05-04T17:23:16.804188Z",
     "start_time": "2023-05-04T17:23:16.798613Z"
    }
   },
   "outputs": [],
   "source": [
    "gsu_missingness_path = '/Users/jk1/temp/opsum_prepro_output/gsu_prepro_01012023_233050/logs_01012023_233050/missingness.csv'\n",
    "mimic_missingness_path = '/Users/jk1/temp/opsum_mimic/preprocessing/mimic_prepro_25012023_232713/logs_25012023_232713/missingness.csv'\n",
    "var_to_english_map_path = os.path.join(os.path.dirname(os.path.dirname(os.path.abspath('__file__'))),\n",
    "                                                           'preprocessing/preprocessing_tools/feature_name_to_english_name_correspondence.xlsx')"
   ]
  },
  {
   "cell_type": "code",
   "execution_count": null,
   "metadata": {
    "ExecuteTime": {
     "end_time": "2023-05-04T17:39:09.419390Z",
     "start_time": "2023-05-04T17:39:09.412825Z"
    }
   },
   "outputs": [],
   "source": [
    "output_dir = '/Users/jk1/Downloads'"
   ]
  },
  {
   "cell_type": "code",
   "execution_count": null,
   "metadata": {
    "ExecuteTime": {
     "end_time": "2023-05-04T17:23:40.609148Z",
     "start_time": "2023-05-04T17:23:40.406914Z"
    }
   },
   "outputs": [],
   "source": [
    "gsu_missingness_df = pd.read_csv(gsu_missingness_path)\n",
    "mimic_missingness_df = pd.read_csv(mimic_missingness_path)\n",
    "var_to_english_map_df = pd.read_excel(var_to_english_map_path)"
   ]
  },
  {
   "cell_type": "code",
   "execution_count": null,
   "metadata": {
    "ExecuteTime": {
     "end_time": "2023-05-04T17:26:31.729629Z",
     "start_time": "2023-05-04T17:26:31.726768Z"
    }
   },
   "outputs": [],
   "source": [
    "gsu_total_n = gsu_missingness_df.n_missing_h1.max()\n",
    "mimic_total_n = mimic_missingness_df.n_missing_h1.max()"
   ]
  },
  {
   "cell_type": "code",
   "execution_count": null,
   "metadata": {
    "ExecuteTime": {
     "end_time": "2023-05-04T17:31:20.694230Z",
     "start_time": "2023-05-04T17:31:20.690570Z"
    }
   },
   "outputs": [],
   "source": [
    "gsu_missingness_df['Geneva Dataset'] = gsu_missingness_df.n_missing_overall.apply(lambda x: f'{x} ({x / gsu_total_n * 100:.1f}%)')\n",
    "mimic_missingness_df['MIMIC Dataset'] = mimic_missingness_df.n_missing_overall.apply(lambda x: f'{x} ({x / mimic_total_n * 100:.1f}%)')"
   ]
  },
  {
   "cell_type": "code",
   "execution_count": null,
   "metadata": {
    "ExecuteTime": {
     "end_time": "2023-05-04T17:37:12.147278Z",
     "start_time": "2023-05-04T17:37:12.144369Z"
    }
   },
   "outputs": [],
   "source": [
    "overall_df = gsu_missingness_df[['sample_label', 'Geneva Dataset']].merge(mimic_missingness_df[['sample_label', 'MIMIC Dataset']], on='sample_label', how='outer')"
   ]
  },
  {
   "cell_type": "code",
   "execution_count": null,
   "metadata": {
    "ExecuteTime": {
     "end_time": "2023-05-04T17:38:10.350247Z",
     "start_time": "2023-05-04T17:38:10.345288Z"
    }
   },
   "outputs": [],
   "source": [
    "overall_df"
   ]
  },
  {
   "cell_type": "code",
   "execution_count": null,
   "metadata": {
    "ExecuteTime": {
     "end_time": "2023-05-04T17:37:14.460856Z",
     "start_time": "2023-05-04T17:37:14.456933Z"
    }
   },
   "outputs": [],
   "source": [
    "# remove sample lables starting with max or min\n",
    "overall_df = overall_df[~overall_df.sample_label.str.startswith('max')]\n",
    "overall_df = overall_df[~overall_df.sample_label.str.startswith('min')]\n",
    "# for samples starting with median, remove the median_ prefix\n",
    "overall_df.loc[overall_df.sample_label.str.startswith('median'), 'sample_label'] = overall_df.loc[overall_df.sample_label.str.startswith('median'), 'sample_label'].apply(lambda x: x[7:])\n",
    "# remove underscores in sample labels\n",
    "overall_df.sample_label = overall_df.sample_label.apply(lambda x: x.replace('_', ' '))"
   ]
  },
  {
   "cell_type": "code",
   "execution_count": null,
   "metadata": {
    "ExecuteTime": {
     "end_time": "2023-05-04T17:37:14.764228Z",
     "start_time": "2023-05-04T17:37:14.733003Z"
    }
   },
   "outputs": [],
   "source": [
    "for feature in overall_df.sample_label.unique():\n",
    "    if feature in var_to_english_map_df.feature_name.values:\n",
    "        overall_df.loc[overall_df.sample_label == feature, 'sample_label'] = var_to_english_map_df[var_to_english_map_df.feature_name == feature].english_name.values[0]"
   ]
  },
  {
   "cell_type": "code",
   "execution_count": null,
   "metadata": {
    "ExecuteTime": {
     "end_time": "2023-05-04T17:38:07.116726Z",
     "start_time": "2023-05-04T17:38:07.111431Z"
    }
   },
   "outputs": [],
   "source": [
    "# capitalise first letter of each word\n",
    "overall_df.sample_label = overall_df.sample_label.apply(lambda x: ' '.join([word.capitalize() for word in x.split(' ')]))"
   ]
  },
  {
   "cell_type": "code",
   "execution_count": null,
   "metadata": {
    "ExecuteTime": {
     "end_time": "2023-05-04T17:38:46.917524Z",
     "start_time": "2023-05-04T17:38:46.911928Z"
    }
   },
   "outputs": [],
   "source": [
    "# rename sample label column to Variable\n",
    "overall_df.rename(columns={'sample_label': 'Variable'}, inplace=True)"
   ]
  },
  {
   "cell_type": "code",
   "execution_count": null,
   "metadata": {
    "ExecuteTime": {
     "end_time": "2023-05-04T17:39:21.826189Z",
     "start_time": "2023-05-04T17:39:21.818617Z"
    }
   },
   "outputs": [],
   "source": [
    "overall_df.to_csv(os.path.join(output_dir, 'missingness.csv'), index=False)"
   ]
  },
  {
   "cell_type": "code",
   "execution_count": null,
   "metadata": {},
   "outputs": [],
   "source": []
  }
 ],
 "metadata": {
  "kernelspec": {
   "display_name": "Python 3",
   "language": "python",
   "name": "python3"
  },
  "language_info": {
   "codemirror_mode": {
    "name": "ipython",
    "version": 2
   },
   "file_extension": ".py",
   "mimetype": "text/x-python",
   "name": "python",
   "nbconvert_exporter": "python",
   "pygments_lexer": "ipython2",
   "version": "2.7.6"
  }
 },
 "nbformat": 4,
 "nbformat_minor": 0
}
