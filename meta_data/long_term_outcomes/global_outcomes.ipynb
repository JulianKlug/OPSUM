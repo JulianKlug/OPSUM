{
 "cells": [
  {
   "cell_type": "code",
   "execution_count": null,
   "id": "initial_id",
   "metadata": {
    "ExecuteTime": {
     "end_time": "2023-07-29T11:53:49.294660Z",
     "start_time": "2023-07-29T11:53:49.291220Z"
    }
   },
   "outputs": [],
   "source": [
    "import pandas"
   ]
  },
  {
   "cell_type": "code",
   "execution_count": null,
   "id": "9cf96d91a658854d",
   "metadata": {
    "ExecuteTime": {
     "end_time": "2023-07-29T11:53:56.326742Z",
     "start_time": "2023-07-29T11:53:56.317941Z"
    }
   },
   "outputs": [],
   "source": [
    "gsu_registry_path = '/Users/jk1/OneDrive - unige.ch/stroke_research/geneva_stroke_unit_dataset/data/stroke_registry/post_hoc_modified/stroke_registry_post_hoc_modified.xlsx'"
   ]
  },
  {
   "cell_type": "code",
   "execution_count": null,
   "id": "9b758578bb9d163",
   "metadata": {
    "ExecuteTime": {
     "end_time": "2023-07-29T11:54:15.797204Z",
     "start_time": "2023-07-29T11:54:01.386878Z"
    }
   },
   "outputs": [],
   "source": [
    "gsu_registry = pandas.read_excel(gsu_registry_path)"
   ]
  },
  {
   "cell_type": "code",
   "execution_count": null,
   "id": "91f53b942372d983",
   "metadata": {
    "ExecuteTime": {
     "end_time": "2023-07-29T11:54:15.860024Z",
     "start_time": "2023-07-29T11:54:15.803248Z"
    }
   },
   "outputs": [],
   "source": [
    "gsu_registry"
   ]
  },
  {
   "cell_type": "code",
   "execution_count": null,
   "id": "e6dfa456023d8d68",
   "metadata": {
    "ExecuteTime": {
     "end_time": "2023-07-29T11:56:21.972088Z",
     "start_time": "2023-07-29T11:56:21.940006Z"
    }
   },
   "outputs": [],
   "source": [
    "# check fraction of patients with 3M mRS > 2\n",
    "n_patients_with_3M_mRS = len(gsu_registry[~gsu_registry['3M mRS'].isna()])\n",
    "n_patients_with_poor_outcome = len(gsu_registry[gsu_registry['3M mRS'] > 2])\n",
    "print(f'Fraction of patients with 3M mRS > 2: {n_patients_with_poor_outcome / n_patients_with_3M_mRS}')"
   ]
  },
  {
   "cell_type": "code",
   "execution_count": null,
   "id": "767b6ff3ae30d174",
   "metadata": {},
   "outputs": [],
   "source": []
  }
 ],
 "metadata": {
  "kernelspec": {
   "display_name": "Python 3",
   "language": "python",
   "name": "python3"
  },
  "language_info": {
   "codemirror_mode": {
    "name": "ipython",
    "version": 2
   },
   "file_extension": ".py",
   "mimetype": "text/x-python",
   "name": "python",
   "nbconvert_exporter": "python",
   "pygments_lexer": "ipython2",
   "version": "2.7.6"
  }
 },
 "nbformat": 4,
 "nbformat_minor": 5
}
