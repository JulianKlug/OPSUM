{
 "cells": [
  {
   "cell_type": "markdown",
   "id": "cb973cc887af728c",
   "metadata": {
    "collapsed": false
   },
   "source": [
    "## Compute length of stay in intermediate/intensive care unit"
   ]
  },
  {
   "cell_type": "markdown",
   "id": "e94776b837808daf",
   "metadata": {
    "collapsed": false
   },
   "source": [
    "in extractions of 2022 end_date is overwritten by passage_end_date"
   ]
  },
  {
   "cell_type": "code",
   "execution_count": null,
   "id": "initial_id",
   "metadata": {
    "ExecuteTime": {
     "end_time": "2024-02-05T09:03:15.828690Z",
     "start_time": "2024-02-05T09:03:15.825266Z"
    }
   },
   "outputs": [],
   "source": [
    "import pandas as pd\n",
    "import os\n",
    "import numpy as np\n",
    "from preprocessing.geneva_stroke_unit_preprocessing.utils import create_ehr_case_identification_column"
   ]
  },
  {
   "cell_type": "code",
   "execution_count": null,
   "id": "4add2bd5e66f3f36",
   "metadata": {
    "ExecuteTime": {
     "end_time": "2024-02-05T09:03:19.190380Z",
     "start_time": "2024-02-05T09:03:19.186815Z"
    }
   },
   "outputs": [],
   "source": [
    "data_path = '/Users/jk1/stroke_datasets/stroke_unit_dataset/per_value/Extraction_20220815'\n",
    "location_file_start = 'passages'"
   ]
  },
  {
   "cell_type": "code",
   "execution_count": null,
   "id": "45c068d2ddff97f1",
   "metadata": {
    "ExecuteTime": {
     "end_time": "2024-02-05T09:03:33.564544Z",
     "start_time": "2024-02-05T09:03:29.866211Z"
    }
   },
   "outputs": [],
   "source": [
    "location_files = [pd.read_csv(os.path.join(data_path, f), delimiter=';', encoding='utf-8', dtype=str)\n",
    "                  for f in os.listdir(data_path)\n",
    "                  if f.startswith(location_file_start)]\n",
    "location_df = pd.concat(location_files, ignore_index=True)\n",
    "location_df['case_admission_id'] = create_ehr_case_identification_column(location_df)"
   ]
  },
  {
   "cell_type": "code",
   "execution_count": null,
   "id": "1fc52ed25be3b861",
   "metadata": {
    "ExecuteTime": {
     "end_time": "2024-02-05T12:49:44.889832Z",
     "start_time": "2024-02-05T12:49:44.871679Z"
    }
   },
   "outputs": [],
   "source": [
    "location_df.head()"
   ]
  },
  {
   "cell_type": "code",
   "execution_count": null,
   "id": "d45f1faff0fb10b",
   "metadata": {
    "ExecuteTime": {
     "end_time": "2024-02-05T12:27:37.989302Z",
     "start_time": "2024-02-05T12:27:37.814118Z"
    }
   },
   "outputs": [],
   "source": [
    "location_df.care_unit.value_counts()"
   ]
  },
  {
   "cell_type": "code",
   "execution_count": null,
   "id": "6917eb64e4af57be",
   "metadata": {
    "ExecuteTime": {
     "end_time": "2024-02-05T12:58:38.996575Z",
     "start_time": "2024-02-05T12:58:38.986762Z"
    }
   },
   "outputs": [],
   "source": [
    "intermediate_care_equivalents = ['2EL+-US', 'JUL033-US']\n",
    "intensive_care_equivalents = ['OPERASI-US', 'JULSI-US']\n",
    "imc_and_icu_equivalents = intermediate_care_equivalents + intensive_care_equivalents"
   ]
  },
  {
   "cell_type": "code",
   "execution_count": null,
   "id": "4a3d6b8c75889c5d",
   "metadata": {
    "ExecuteTime": {
     "end_time": "2024-02-05T12:59:31.333896Z",
     "start_time": "2024-02-05T12:59:31.286937Z"
    }
   },
   "outputs": [],
   "source": [
    "imc_and_icu_df = location_df[location_df.care_unit.isin(imc_and_icu_equivalents)]"
   ]
  },
  {
   "cell_type": "code",
   "execution_count": null,
   "id": "cc0a6e86f3a0cc7a",
   "metadata": {
    "ExecuteTime": {
     "end_time": "2024-02-05T13:04:15.788813Z",
     "start_time": "2024-02-05T13:04:11.249203Z"
    }
   },
   "outputs": [],
   "source": [
    "# for every case_admission_id find last occurrence (as defined by end_date column) of intermediate care or ICU\n",
    "last_exit_date_imc_and_icu_df = location_df.groupby('case_admission_id').apply(lambda x: x[x.care_unit.isin(imc_and_icu_equivalents)].sort_values('end_date').tail(1)['end_date'])\n",
    "last_exit_date_imc_and_icu_df = last_exit_date_imc_and_icu_df.reset_index().rename(columns={'end_date': 'last_exit_date_imc_and_icu'})"
   ]
  },
  {
   "cell_type": "code",
   "execution_count": null,
   "id": "f7daabb403ae247e",
   "metadata": {
    "ExecuteTime": {
     "end_time": "2024-02-05T13:04:31.081337Z",
     "start_time": "2024-02-05T13:04:30.799836Z"
    }
   },
   "outputs": [],
   "source": [
    "location_df = location_df.merge(last_exit_date_imc_and_icu_df, on='case_admission_id', how='left')"
   ]
  },
  {
   "cell_type": "code",
   "execution_count": null,
   "id": "90ae8f6e3b87c601",
   "metadata": {
    "ExecuteTime": {
     "end_time": "2024-02-05T13:09:12.809212Z",
     "start_time": "2024-02-05T13:09:12.687655Z"
    }
   },
   "outputs": [],
   "source": [
    "datetime_format = '%d.%m.%Y %H:%M'\n",
    "location_df['length_of_continuous_care_stay'] = (pd.to_datetime(location_df['last_exit_date_imc_and_icu'], format=datetime_format) - pd.to_datetime(location_df['eds_final_begin'], format=datetime_format)).dt.total_seconds() / (60 * 60)"
   ]
  },
  {
   "cell_type": "code",
   "execution_count": null,
   "id": "6465fb8c15422acb",
   "metadata": {
    "ExecuteTime": {
     "end_time": "2024-02-05T13:10:16.077483Z",
     "start_time": "2024-02-05T13:10:16.020100Z"
    }
   },
   "outputs": [],
   "source": [
    "# keep single row per case_admission_id\n",
    "los_df = location_df.drop_duplicates('case_admission_id')[['case_admission_id', 'length_of_continuous_care_stay']]"
   ]
  },
  {
   "cell_type": "code",
   "execution_count": null,
   "id": "c66a3ade7c07f99b",
   "metadata": {
    "ExecuteTime": {
     "end_time": "2024-02-05T13:10:30.808713Z",
     "start_time": "2024-02-05T13:10:30.801623Z"
    }
   },
   "outputs": [],
   "source": [
    "los_df.length_of_continuous_care_stay.describe()"
   ]
  },
  {
   "cell_type": "code",
   "execution_count": null,
   "id": "d7cf69a63ec368f1",
   "metadata": {
    "ExecuteTime": {
     "end_time": "2024-02-05T13:28:38.348126Z",
     "start_time": "2024-02-05T13:28:37.421665Z"
    }
   },
   "outputs": [],
   "source": [
    "# plot histogram\n",
    "import seaborn as sns\n",
    "import matplotlib.pyplot as plt\n",
    "\n",
    "g = sns.displot(los_df.length_of_continuous_care_stay, kde=True, bins=250)\n",
    "ax = g.ax\n",
    "\n",
    "ax.set(xlabel='Length of stay in intermediate/intensive care unit (hours)', ylabel='Number of cases')\n",
    "ax.set_xlim(0, 250)\n",
    "\n",
    "# show kde in violet\n",
    "for i in range(0, len(ax.patches)):\n",
    "    ax.patches[i].set_color('lightblue')\n",
    "    ax.patches[i].set_edgecolor('black')\n",
    "    ax.patches[i].set_linewidth(0.5)\n",
    "    ax.patches[i].set_alpha(0.5)\n",
    "    \n",
    "for i in range(0, len(ax.lines)):\n",
    "    ax.lines[i].set_color('purple')\n",
    "    ax.lines[i].set_linewidth(1.5)\n",
    "    ax.lines[i].set_alpha(0.5)\n",
    "\n",
    "# show legend for KDE and histogram\n",
    "ax.legend(['KDE', 'Histogram'])\n",
    "\n",
    "# set figure size to 10x10\n",
    "fig = plt.gcf()\n",
    "fig.set_size_inches(10, 10)\n",
    "\n",
    "plt.show()"
   ]
  },
  {
   "cell_type": "code",
   "execution_count": null,
   "id": "caed29c63dd91e73",
   "metadata": {
    "ExecuteTime": {
     "end_time": "2024-02-05T13:23:23.400206Z",
     "start_time": "2024-02-05T13:23:22.213224Z"
    }
   },
   "outputs": [],
   "source": [
    "# save figure\n",
    "# fig.savefig('/Users/jk1/temp/length_of_stay_in_intermediate_intensive_care_unit.tif', dpi=600, bbox_inches='tight')"
   ]
  },
  {
   "cell_type": "code",
   "execution_count": null,
   "id": "b62e4c12cf7522ab",
   "metadata": {},
   "outputs": [],
   "source": []
  }
 ],
 "metadata": {
  "kernelspec": {
   "display_name": "Python 3",
   "language": "python",
   "name": "python3"
  },
  "language_info": {
   "codemirror_mode": {
    "name": "ipython",
    "version": 2
   },
   "file_extension": ".py",
   "mimetype": "text/x-python",
   "name": "python",
   "nbconvert_exporter": "python",
   "pygments_lexer": "ipython2",
   "version": "2.7.6"
  }
 },
 "nbformat": 4,
 "nbformat_minor": 5
}
