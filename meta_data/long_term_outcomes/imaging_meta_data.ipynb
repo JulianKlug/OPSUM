{
 "cells": [
  {
   "cell_type": "code",
   "execution_count": null,
   "id": "initial_id",
   "metadata": {
    "ExecuteTime": {
     "end_time": "2024-04-03T14:25:43.481497Z",
     "start_time": "2024-04-03T14:25:43.479279Z"
    }
   },
   "outputs": [],
   "source": [
    "import pandas as pd"
   ]
  },
  {
   "cell_type": "code",
   "execution_count": null,
   "id": "3dbb8e89f490b071",
   "metadata": {},
   "outputs": [],
   "source": [
    "imaging_data_path = '/Users/jk1/Library/CloudStorage/OneDrive-unige.ch/stroke_research/geneva_stroke_unit_dataset/data/perfusion_imaging_data/random_subset_for_imaging_extraction.xlsx'"
   ]
  },
  {
   "cell_type": "code",
   "execution_count": null,
   "id": "d8fec3bfc2ca0804",
   "metadata": {},
   "outputs": [],
   "source": [
    "imaging_data_df = pd.read_excel(imaging_data_path)"
   ]
  },
  {
   "cell_type": "code",
   "execution_count": null,
   "id": "a6f22df3a61f7151",
   "metadata": {},
   "outputs": [],
   "source": [
    "imaging_data_df.head()"
   ]
  },
  {
   "cell_type": "code",
   "execution_count": null,
   "id": "c17bc33aacb6df67",
   "metadata": {},
   "outputs": [],
   "source": [
    "n_patients_selected = imaging_data_df.shape[0]\n",
    "print(f'Number of patients selected: {n_patients_selected}')"
   ]
  },
  {
   "cell_type": "code",
   "execution_count": null,
   "id": "48f6992787c67e97",
   "metadata": {},
   "outputs": [],
   "source": [
    "n_patients_with_perfusion_imaging = imaging_data_df['CTP_present'].sum()\n",
    "print(f'Number of patients with perfusion imaging: {n_patients_with_perfusion_imaging} ({n_patients_with_perfusion_imaging/n_patients_selected*100:.2f}%)')\n",
    "n_missing_perfusion_imaging = n_patients_selected - n_patients_with_perfusion_imaging\n",
    "print(f'Number of patients without perfusion imaging: {n_missing_perfusion_imaging} ({n_missing_perfusion_imaging/n_patients_selected*100:.1f}%)')"
   ]
  },
  {
   "cell_type": "code",
   "execution_count": null,
   "id": "77d2d74fc785bfb5",
   "metadata": {},
   "outputs": [],
   "source": [
    "imaging_params = ['T10', 'T8', 'T6', 'T4', 'CBF']"
   ]
  },
  {
   "cell_type": "code",
   "execution_count": null,
   "id": "ad704555a5f54afa",
   "metadata": {},
   "outputs": [],
   "source": [
    "# get max for each parameter\n",
    "max_values = imaging_data_df[imaging_params].max()\n",
    "print(max_values)"
   ]
  },
  {
   "cell_type": "code",
   "execution_count": null,
   "id": "ce7210d5ccdb9b83",
   "metadata": {},
   "outputs": [],
   "source": []
  }
 ],
 "metadata": {
  "kernelspec": {
   "display_name": "Python 3",
   "language": "python",
   "name": "python3"
  },
  "language_info": {
   "codemirror_mode": {
    "name": "ipython",
    "version": 3
   },
   "file_extension": ".py",
   "mimetype": "text/x-python",
   "name": "python",
   "nbconvert_exporter": "python",
   "pygments_lexer": "ipython3",
   "version": "3.8.11"
  }
 },
 "nbformat": 4,
 "nbformat_minor": 5
}
