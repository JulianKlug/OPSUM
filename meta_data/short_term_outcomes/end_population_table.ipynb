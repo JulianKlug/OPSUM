{
 "cells": [
  {
   "cell_type": "code",
   "execution_count": null,
   "id": "initial_id",
   "metadata": {
    "ExecuteTime": {
     "end_time": "2025-04-03T07:37:27.061325Z",
     "start_time": "2025-04-03T07:37:27.052551Z"
    }
   },
   "outputs": [],
   "source": [
    "import numpy as np\n",
    "import pandas as pd\n",
    "\n",
    "from meta_data.long_term_outcomes.geneva_stroke_unit_patient_characteristics import extract_patient_characteristics\n",
    "from preprocessing.geneva_stroke_unit_preprocessing.utils import create_registry_case_identification_column"
   ]
  },
  {
   "cell_type": "code",
   "execution_count": null,
   "id": "c7084a0a6ccfded2",
   "metadata": {
    "ExecuteTime": {
     "end_time": "2025-04-03T07:09:52.684398Z",
     "start_time": "2025-04-03T07:09:52.680319Z"
    }
   },
   "outputs": [],
   "source": [
    "cids_path = '/Users/jk1/temp/opsum_end/preprocessing/gsu_Extraction_20220815_prepro_08062024_083500/case_admission_ids.csv'\n",
    "outcomes_path = '/Users/jk1/temp/opsum_end/preprocessing/gsu_Extraction_20220815_prepro_08062024_083500/preprocessed_outcomes_short_term_08062024_083500.csv'\n",
    "registry_path = '/Users/jk1/Library/CloudStorage/OneDrive-unige.ch/stroke_research/geneva_stroke_unit_dataset/data/stroke_registry/post_hoc_modified/stroke_registry_post_hoc_modified.xlsx'"
   ]
  },
  {
   "cell_type": "code",
   "execution_count": null,
   "id": "121dee99b8c90f4",
   "metadata": {
    "ExecuteTime": {
     "end_time": "2025-04-03T07:10:11.233243Z",
     "start_time": "2025-04-03T07:10:06.059371Z"
    }
   },
   "outputs": [],
   "source": [
    "cids_df = pd.read_csv(cids_path)\n",
    "outcomes_df = pd.read_csv(outcomes_path)\n",
    "registry_df = pd.read_excel(registry_path)"
   ]
  },
  {
   "cell_type": "code",
   "execution_count": null,
   "id": "66841038bda46d1c",
   "metadata": {
    "ExecuteTime": {
     "end_time": "2025-04-03T07:18:09.991239Z",
     "start_time": "2025-04-03T07:18:09.951705Z"
    }
   },
   "outputs": [],
   "source": [
    "registry_df['case_admission_id'] = create_registry_case_identification_column(registry_df)\n",
    "registry_df = registry_df[registry_df.case_admission_id.isin(cids_df.case_admission_id)]"
   ]
  },
  {
   "cell_type": "code",
   "execution_count": null,
   "id": "483a678e7670c6c1",
   "metadata": {
    "ExecuteTime": {
     "end_time": "2025-04-03T07:21:58.221434Z",
     "start_time": "2025-04-03T07:21:58.005462Z"
    }
   },
   "outputs": [],
   "source": [
    "# add and END column to the registry_df (with all patients that are in outcomes_df 1 and all others 0) as well as a column with END timing (taken from the column relative_sample_date in outcomes_df)\n",
    "registry_df['END'] = 0\n",
    "registry_df.loc[registry_df.case_admission_id.isin(outcomes_df.case_admission_id), 'END'] = 1\n",
    "registry_df['END_timing'] = np.NAN\n",
    "\n",
    "for i, row in outcomes_df.iterrows():\n",
    "    registry_df.loc[registry_df.case_admission_id == row.case_admission_id, 'END_timing'] = row.relative_sample_date\n"
   ]
  },
  {
   "cell_type": "code",
   "execution_count": null,
   "id": "e640be6330886979",
   "metadata": {
    "ExecuteTime": {
     "end_time": "2025-04-03T08:21:14.611274Z",
     "start_time": "2025-04-03T08:21:14.550166Z"
    }
   },
   "outputs": [],
   "source": [
    "registry_df['Etiology TOAST'].value_counts()"
   ]
  },
  {
   "cell_type": "code",
   "execution_count": null,
   "id": "c48445f3564e82d",
   "metadata": {
    "ExecuteTime": {
     "end_time": "2025-04-03T08:23:54.808454Z",
     "start_time": "2025-04-03T08:23:54.798141Z"
    }
   },
   "outputs": [],
   "source": [
    "registry_df['Etiology - Cardiac embolism'] = registry_df['Etiology TOAST'].apply(lambda x: 1 if x == 'Cardiac embolism' else 0)\n",
    "registry_df['Etiology - Large artery atherosclerosis'] = registry_df['Etiology TOAST'].apply(lambda x: 1 if x == 'Large artery atherosclerosis' else 0)\n",
    "registry_df['Etiology - Small vessel disease'] = registry_df['Etiology TOAST'].apply(lambda x: 1 if x == 'Small vessel disease' else 0)"
   ]
  },
  {
   "cell_type": "code",
   "execution_count": null,
   "id": "e4d5ad80ba390652",
   "metadata": {
    "ExecuteTime": {
     "end_time": "2025-04-03T08:24:10.256677Z",
     "start_time": "2025-04-03T08:24:10.252519Z"
    }
   },
   "outputs": [],
   "source": [
    "CONTINUOUS_CHARACTERISTICS = [\n",
    "    'Age (calc.)',\n",
    "    'Prestroke disability (Rankin)',\n",
    "    'NIH on admission',\n",
    "    'BMI',\n",
    "    ]\n",
    "\n",
    "CATEGORICAL_CHARACTERISTICS = [\n",
    "    'Sex',\n",
    "    'IVT with rtPA',\n",
    "    'IAT',\n",
    "    'MedHist Hypertension',\n",
    "    'MedHist Diabetes',\n",
    "    'MedHist Hyperlipidemia',\n",
    "    'MedHist Atrial Fibr.',\n",
    "    'Etiology - Cardiac embolism',\n",
    "    'Etiology - Large artery atherosclerosis',\n",
    "    'Etiology - Small vessel disease',\n",
    "]"
   ]
  },
  {
   "cell_type": "code",
   "execution_count": null,
   "id": "65a56d709f4fda9c",
   "metadata": {
    "ExecuteTime": {
     "end_time": "2025-04-03T08:25:49.555014Z",
     "start_time": "2025-04-03T08:25:49.544663Z"
    }
   },
   "outputs": [],
   "source": [
    "# create a function that takes a registry_df like dataframe and outputs a popluation descriptive table\n",
    "def create_population_table(df, continuous_characteristics, categorical_characteristics, count_nan=False):\n",
    "    \"\"\"\n",
    "    Create a population descriptive table from a dataframe.\n",
    "\n",
    "    Parameters:\n",
    "    df (pd.DataFrame): Dataframe containing the data.\n",
    "\n",
    "    Returns:\n",
    "    pd.DataFrame: Population descriptive table.\n",
    "    \"\"\" \n",
    "    population_df = pd.DataFrame()\n",
    "    population_str_df = pd.DataFrame()\n",
    "    \n",
    "    n_cases = df.case_admission_id.nunique()\n",
    "    n_patients = df.case_admission_id.apply(lambda x: x.split('_')[0]).nunique()\n",
    "    \n",
    "    population_df['n cases'] = [n_cases]\n",
    "    population_df['n patients'] = [n_patients]\n",
    "    population_str_df['n patients'] = [n_patients]\n",
    "    population_str_df['n cases'] = [n_cases]\n",
    "    \n",
    "    for characteristic in continuous_characteristics:\n",
    "        population_df[f'median {characteristic}'] = [df[characteristic].median()]\n",
    "        population_df[f'Q25 {characteristic}'] = [df[characteristic].quantile(0.25)]\n",
    "        population_df[f'Q75 {characteristic}'] = [df[characteristic].quantile(0.75)]\n",
    "        # count number of missing values for characteristic\n",
    "        population_df[f'n missing {characteristic}'] = [df[characteristic].isnull().sum()]\n",
    "        population_str_df[f'{characteristic}'] = f'{population_df[f\"median {characteristic}\"][0]:.1f} ({population_df[f\"Q25 {characteristic}\"][0]:.1f}-{population_df[f\"Q75 {characteristic}\"][0]:.1f})'\n",
    "\n",
    "    for characteristic in categorical_characteristics:\n",
    "        # get number of most common value for each categorical characteristic\n",
    "        max_category = df[characteristic].value_counts().idxmax()\n",
    "        if 'yes' in df[characteristic].unique():\n",
    "            display_category = 'yes'\n",
    "        elif 1 in df[characteristic].unique():\n",
    "            display_category = 1\n",
    "        elif 'Female' in df[characteristic].unique():\n",
    "            display_category = 'Female'\n",
    "        else:\n",
    "            display_category = max_category\n",
    "        population_df[f'{characteristic} {display_category}'] = [df[characteristic].value_counts()[display_category]]\n",
    "        if not count_nan:\n",
    "            # get percentage as fraction of non_nan\n",
    "            population_df[f'p {characteristic} {display_category}'] = [df[characteristic].value_counts()[display_category]/df[characteristic].count() * 100]\n",
    "        else:\n",
    "            # get percentage as fraction of total (including missing values)\n",
    "            population_df[f'p {characteristic} {display_category}'] = [df[characteristic].value_counts()[display_category]/len(df) * 100]\n",
    "        population_df[f'n missing {characteristic}'] = [df[characteristic].isnull().sum()]\n",
    "\n",
    "        if display_category == 'yes' or display_category == 1:\n",
    "            population_str_df[f'{characteristic}'] = f'{population_df[f\"{characteristic} {display_category}\"][0]} ({population_df[f\"p {characteristic} {display_category}\"][0]:.1f}%)'\n",
    "        else:\n",
    "            population_str_df[f'{characteristic} ({display_category})'] = f'{population_df[f\"{characteristic} {display_category}\"][0]} ({population_df[f\"p {characteristic} {display_category}\"][0]:.1f}%)'\n",
    "\n",
    "    return population_df, population_str_df"
   ]
  },
  {
   "cell_type": "code",
   "execution_count": null,
   "id": "bea8f09611ceb77c",
   "metadata": {
    "ExecuteTime": {
     "end_time": "2025-04-03T08:25:50.230501Z",
     "start_time": "2025-04-03T08:25:50.096576Z"
    }
   },
   "outputs": [],
   "source": [
    "overall_population_df, overall_population_str_df = create_population_table(registry_df, CONTINUOUS_CHARACTERISTICS, CATEGORICAL_CHARACTERISTICS)\n",
    "no_end_population_df, no_end_population_str_df = create_population_table(registry_df[registry_df.END == 0], CONTINUOUS_CHARACTERISTICS, CATEGORICAL_CHARACTERISTICS)\n",
    "end_population_df, end_population_str_df = create_population_table(registry_df[registry_df.END == 1], CONTINUOUS_CHARACTERISTICS, CATEGORICAL_CHARACTERISTICS)"
   ]
  },
  {
   "cell_type": "code",
   "execution_count": null,
   "id": "4132633e711e1e53",
   "metadata": {
    "ExecuteTime": {
     "end_time": "2025-04-03T08:26:10.873964Z",
     "start_time": "2025-04-03T08:26:10.867471Z"
    }
   },
   "outputs": [],
   "source": [
    "# side to side end and no end population table\n",
    "comparison_table_df = pd.concat([end_population_str_df.T, no_end_population_str_df.T], axis=1)\n",
    "comparison_table_df.columns = ['END', 'No END']"
   ]
  },
  {
   "cell_type": "code",
   "execution_count": null,
   "id": "345a4b6d1a4371be",
   "metadata": {
    "ExecuteTime": {
     "end_time": "2025-04-03T08:26:12.225064Z",
     "start_time": "2025-04-03T08:26:12.217145Z"
    }
   },
   "outputs": [],
   "source": [
    "comparison_table_df"
   ]
  },
  {
   "cell_type": "code",
   "execution_count": null,
   "id": "d4393ec70df221d",
   "metadata": {
    "ExecuteTime": {
     "end_time": "2025-04-03T09:00:09.193505Z",
     "start_time": "2025-04-03T09:00:09.188907Z"
    }
   },
   "outputs": [],
   "source": [
    "comparison_table_df.to_csv('/Users/jk1/Downloads/end_table1.csv')"
   ]
  },
  {
   "cell_type": "code",
   "execution_count": null,
   "id": "fff1af9d4943b770",
   "metadata": {},
   "outputs": [],
   "source": []
  }
 ],
 "metadata": {
  "kernelspec": {
   "display_name": "Python 3",
   "language": "python",
   "name": "python3"
  },
  "language_info": {
   "codemirror_mode": {
    "name": "ipython",
    "version": 2
   },
   "file_extension": ".py",
   "mimetype": "text/x-python",
   "name": "python",
   "nbconvert_exporter": "python",
   "pygments_lexer": "ipython2",
   "version": "2.7.6"
  }
 },
 "nbformat": 4,
 "nbformat_minor": 5
}
