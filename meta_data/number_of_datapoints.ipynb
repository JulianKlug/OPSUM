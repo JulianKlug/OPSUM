{
 "cells": [
  {
   "cell_type": "code",
   "execution_count": null,
   "id": "initial_id",
   "metadata": {
    "ExecuteTime": {
     "end_time": "2023-08-17T11:54:40.131356Z",
     "start_time": "2023-08-17T11:54:38.631454Z"
    }
   },
   "outputs": [],
   "source": [
    "import pandas as pd"
   ]
  },
  {
   "cell_type": "code",
   "execution_count": null,
   "id": "f45adda9b4cf666c",
   "metadata": {
    "ExecuteTime": {
     "end_time": "2023-08-17T11:55:11.489080Z",
     "start_time": "2023-08-17T11:55:11.481973Z"
    }
   },
   "outputs": [],
   "source": [
    "missingness_data_path = '/Users/jk1/temp/opsum_prepro_output/gsu_prepro_01012023_233050/logs_01012023_233050/missingness.csv'"
   ]
  },
  {
   "cell_type": "code",
   "execution_count": null,
   "id": "58b321fddfdee71",
   "metadata": {
    "ExecuteTime": {
     "end_time": "2023-08-17T11:55:14.150679Z",
     "start_time": "2023-08-17T11:55:14.129991Z"
    }
   },
   "outputs": [],
   "source": [
    "missingness_df = pd.read_csv(missingness_data_path)"
   ]
  },
  {
   "cell_type": "code",
   "execution_count": null,
   "id": "f218389f748b52c8",
   "metadata": {
    "ExecuteTime": {
     "end_time": "2023-08-17T12:01:40.205640Z",
     "start_time": "2023-08-17T12:01:40.199785Z"
    }
   },
   "outputs": [],
   "source": [
    "n_total = 2492\n",
    "n_features = missingness_df.shape[0]"
   ]
  },
  {
   "cell_type": "code",
   "execution_count": null,
   "id": "d5a26108dcdfb251",
   "metadata": {
    "ExecuteTime": {
     "end_time": "2023-08-17T12:01:40.409068Z",
     "start_time": "2023-08-17T12:01:40.400954Z"
    }
   },
   "outputs": [],
   "source": [
    "target_columns = [f'n_missing_h{h}' for h in range(0, 72)]"
   ]
  },
  {
   "cell_type": "code",
   "execution_count": null,
   "id": "56c144032cd549d8",
   "metadata": {
    "ExecuteTime": {
     "end_time": "2023-08-17T12:01:40.835104Z",
     "start_time": "2023-08-17T12:01:40.830606Z"
    }
   },
   "outputs": [],
   "source": [
    "n_total_datapoints = 0 \n",
    "for col in target_columns:\n",
    "    n_total_datapoints += n_total * n_features - missingness_df[col].sum()"
   ]
  },
  {
   "cell_type": "code",
   "execution_count": null,
   "id": "8d2f5add049b3471",
   "metadata": {
    "ExecuteTime": {
     "end_time": "2023-08-17T12:01:44.750147Z",
     "start_time": "2023-08-17T12:01:44.737256Z"
    }
   },
   "outputs": [],
   "source": [
    "n_total_datapoints"
   ]
  },
  {
   "cell_type": "code",
   "execution_count": null,
   "id": "476eb17f4397c782",
   "metadata": {
    "ExecuteTime": {
     "end_time": "2023-08-17T12:03:59.049302Z",
     "start_time": "2023-08-17T12:03:59.036585Z"
    }
   },
   "outputs": [],
   "source": [
    "# mean per admission\n",
    "n_total_datapoints / n_total"
   ]
  },
  {
   "cell_type": "code",
   "execution_count": null,
   "id": "b33df4482e2802d9",
   "metadata": {},
   "outputs": [],
   "source": []
  }
 ],
 "metadata": {
  "kernelspec": {
   "display_name": "Python 3",
   "language": "python",
   "name": "python3"
  },
  "language_info": {
   "codemirror_mode": {
    "name": "ipython",
    "version": 2
   },
   "file_extension": ".py",
   "mimetype": "text/x-python",
   "name": "python",
   "nbconvert_exporter": "python",
   "pygments_lexer": "ipython2",
   "version": "2.7.6"
  }
 },
 "nbformat": 4,
 "nbformat_minor": 5
}
