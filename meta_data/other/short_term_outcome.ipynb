{
 "cells": [
  {
   "cell_type": "code",
   "execution_count": null,
   "id": "initial_id",
   "metadata": {
    "ExecuteTime": {
     "end_time": "2024-06-18T12:47:14.125233Z",
     "start_time": "2024-06-18T12:47:11.915612Z"
    }
   },
   "outputs": [],
   "source": [
    "import pandas as pd\n",
    "import matplotlib.pyplot as plt"
   ]
  },
  {
   "cell_type": "code",
   "execution_count": null,
   "id": "6a67c7f87672bbcf",
   "metadata": {
    "ExecuteTime": {
     "end_time": "2024-06-18T12:47:14.130555Z",
     "start_time": "2024-06-18T12:47:14.127250Z"
    }
   },
   "outputs": [],
   "source": [
    "features_path = '/Users/jk1/temp/opsum_end/preprocessing/gsu_Extraction_20220815_prepro_08062024_083500/preprocessed_features_08062024_083500.csv'\n",
    "short_term_outcomes_path = '/Users/jk1/temp/opsum_end/preprocessing/gsu_Extraction_20220815_prepro_08062024_083500/preprocessed_outcomes_short_term_08062024_083500.csv'"
   ]
  },
  {
   "cell_type": "code",
   "execution_count": null,
   "id": "c27adc23e57eabac",
   "metadata": {
    "ExecuteTime": {
     "end_time": "2024-06-18T12:47:24.723943Z",
     "start_time": "2024-06-18T12:47:14.132644Z"
    }
   },
   "outputs": [],
   "source": [
    "features_df = pd.read_csv(features_path)\n",
    "short_term_outcomes_df = pd.read_csv(short_term_outcomes_path)"
   ]
  },
  {
   "cell_type": "code",
   "execution_count": null,
   "id": "38ee8c08c60fbc9e",
   "metadata": {
    "ExecuteTime": {
     "end_time": "2024-06-18T12:47:25.492260Z",
     "start_time": "2024-06-18T12:47:24.726127Z"
    }
   },
   "outputs": [],
   "source": [
    "features_df.case_admission_id.nunique()"
   ]
  },
  {
   "cell_type": "code",
   "execution_count": null,
   "id": "81da96e08a68a885",
   "metadata": {
    "ExecuteTime": {
     "end_time": "2024-06-18T12:47:25.498425Z",
     "start_time": "2024-06-18T12:47:25.494Z"
    }
   },
   "outputs": [],
   "source": [
    "short_term_outcomes_df.case_admission_id.nunique()"
   ]
  },
  {
   "cell_type": "code",
   "execution_count": null,
   "id": "4f6b4addf3725cd7",
   "metadata": {
    "ExecuteTime": {
     "end_time": "2024-06-18T12:47:25.518282Z",
     "start_time": "2024-06-18T12:47:25.500006Z"
    }
   },
   "outputs": [],
   "source": [
    "short_term_outcomes_df.head()"
   ]
  },
  {
   "cell_type": "code",
   "execution_count": null,
   "id": "1690a1a88ecc7df0",
   "metadata": {
    "ExecuteTime": {
     "end_time": "2024-06-18T12:47:25.949002Z",
     "start_time": "2024-06-18T12:47:25.520060Z"
    }
   },
   "outputs": [],
   "source": [
    "# plot hist of relative_sample_date\n",
    "short_term_outcomes_df.relative_sample_date.hist(bins=72)\n",
    "plt.show()"
   ]
  },
  {
   "cell_type": "code",
   "execution_count": null,
   "id": "bc0f8b02dc837e76",
   "metadata": {
    "ExecuteTime": {
     "end_time": "2024-06-18T12:47:58.775367Z",
     "start_time": "2024-06-18T12:47:58.769354Z"
    }
   },
   "outputs": [],
   "source": [
    "short_term_outcomes_df.relative_sample_date.describe()"
   ]
  },
  {
   "cell_type": "code",
   "execution_count": null,
   "id": "7343b35d0e0647a3",
   "metadata": {
    "ExecuteTime": {
     "end_time": "2024-06-18T12:54:19.483906Z",
     "start_time": "2024-06-18T12:54:19.479107Z"
    }
   },
   "outputs": [],
   "source": [
    "short_term_outcomes_df[short_term_outcomes_df.relative_sample_date > 12+1].shape"
   ]
  },
  {
   "cell_type": "code",
   "execution_count": null,
   "id": "7fab3aaacd837e23",
   "metadata": {
    "ExecuteTime": {
     "end_time": "2024-06-08T12:50:53.447523Z",
     "start_time": "2024-06-08T12:50:53.439923Z"
    }
   },
   "outputs": [],
   "source": [
    "features_df.head()"
   ]
  },
  {
   "cell_type": "code",
   "execution_count": null,
   "id": "588d94cc8805a50a",
   "metadata": {
    "ExecuteTime": {
     "end_time": "2024-06-08T13:17:40.463950Z",
     "start_time": "2024-06-08T12:54:50.739363Z"
    }
   },
   "outputs": [],
   "source": [
    "from prediction.short_term_outcome_prediction.data_splits import label_timeseries\n",
    "\n",
    "labelled_features_df = label_timeseries(features_df, short_term_outcomes_df, 'early_neurological_deterioration', 6)"
   ]
  },
  {
   "cell_type": "code",
   "execution_count": null,
   "id": "8c5ded5477a1eaa4",
   "metadata": {
    "ExecuteTime": {
     "end_time": "2024-06-08T13:23:10.800788Z",
     "start_time": "2024-06-08T13:23:09.997135Z"
    }
   },
   "outputs": [],
   "source": [
    "labelled_features_df[labelled_features_df.case_admission_id == '1011794_0030']"
   ]
  },
  {
   "cell_type": "code",
   "execution_count": null,
   "id": "25b1a470b2537cbb",
   "metadata": {},
   "outputs": [],
   "source": []
  }
 ],
 "metadata": {
  "kernelspec": {
   "display_name": "Python 3",
   "language": "python",
   "name": "python3"
  },
  "language_info": {
   "codemirror_mode": {
    "name": "ipython",
    "version": 2
   },
   "file_extension": ".py",
   "mimetype": "text/x-python",
   "name": "python",
   "nbconvert_exporter": "python",
   "pygments_lexer": "ipython2",
   "version": "2.7.6"
  }
 },
 "nbformat": 4,
 "nbformat_minor": 5
}
