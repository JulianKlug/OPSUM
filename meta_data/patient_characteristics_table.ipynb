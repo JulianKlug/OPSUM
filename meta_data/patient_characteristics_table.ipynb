{
 "cells": [
  {
   "cell_type": "code",
   "execution_count": null,
   "metadata": {},
   "outputs": [],
   "source": [
    "import pandas as pd\n",
    "import numpy as np"
   ]
  },
  {
   "cell_type": "code",
   "execution_count": null,
   "metadata": {},
   "outputs": [],
   "source": [
    "patient_characteristics_df_path = '/Users/jk1/temp/opsum_prediction_output/LSTM_72h_testing/3M_mRS02/2023_01_02_1057/test_LSTM_sigmoid_all_balanced_0.2_2_True_RMSprop_3M mRS 0-2_16_3/patient_characteristics_test.tsv'"
   ]
  },
  {
   "cell_type": "code",
   "execution_count": null,
   "metadata": {},
   "outputs": [],
   "source": [
    "if patient_characteristics_df_path.endswith('.tsv'):\n",
    "    patient_characteristics_df = pd.read_csv(patient_characteristics_df_path, sep='\\t')\n",
    "else:\n",
    "    patient_characteristics_df = pd.read_csv(patient_characteristics_df_path)\n",
    "patient_characteristics_df.T"
   ]
  },
  {
   "cell_type": "code",
   "execution_count": null,
   "metadata": {},
   "outputs": [],
   "source": [
    "reformatted_df = pd.DataFrame(index=[0])"
   ]
  },
  {
   "cell_type": "code",
   "execution_count": null,
   "metadata": {},
   "outputs": [],
   "source": [
    "print('Number of patients (!= number of admissions)')\n",
    "patient_characteristics_df['n patients']"
   ]
  },
  {
   "cell_type": "code",
   "execution_count": null,
   "metadata": {},
   "outputs": [],
   "source": [
    "f'{int(patient_characteristics_df[\"median Age (calc.)\"][0])} ({int(patient_characteristics_df[\"Q25 Age (calc.)\"][0])}-{int(patient_characteristics_df[\"Q75 Age (calc.)\"][0])})'"
   ]
  },
  {
   "cell_type": "code",
   "execution_count": null,
   "metadata": {},
   "outputs": [],
   "source": [
    "reformatted_df['Age, years'] = f'{int(patient_characteristics_df[\"median Age (calc.)\"][0])} ({int(patient_characteristics_df[\"Q25 Age (calc.)\"][0])}-{int(patient_characteristics_df[\"Q75 Age (calc.)\"][0])})'\n",
    "\n",
    "if \"Sex Male\" in patient_characteristics_df.columns:\n",
    "    reformatted_df['Sex, male'] = f'{int(patient_characteristics_df[\"Sex Male\"][0])} ({int(patient_characteristics_df[\"% Sex Male\"][0] * 100)}%)'\n",
    "else:\n",
    "    reformatted_df['Sex, male'] = f'{patient_characteristics_df[\"n patients\"][0] - int(patient_characteristics_df[\"Sex Female\"][0])} ({int(100 - patient_characteristics_df[\"% Sex Female\"][0] * 100)}%)'\n",
    "\n",
    "reformatted_df['Pre-stroke diability, mRS'] = f'{int(patient_characteristics_df[\"median Prestroke disability (Rankin)\"][0])} ({int(patient_characteristics_df[\"Q25 Prestroke disability (Rankin)\"][0])}-{int(patient_characteristics_df[\"Q75 Prestroke disability (Rankin)\"][0])})'\n",
    "\n",
    "reformatted_df['BMI, kg/m2'] = f'{int(patient_characteristics_df[\"median BMI\"][0])} ({int(patient_characteristics_df[\"Q25 BMI\"][0])}-{int(patient_characteristics_df[\"Q75 BMI\"][0])})'\n",
    "\n",
    "reformatted_df['Hypertension'] = f'{int(patient_characteristics_df[\"MedHist Hypertension yes\"][0])} ({int(patient_characteristics_df[\"% MedHist Hypertension yes\"][0] * 100)}%)'\n",
    "\n",
    "n_diabetes = patient_characteristics_df[\"n patients\"][0] - patient_characteristics_df[\"MedHist Diabetes no\"][0] - patient_characteristics_df[\"n missing MedHist Diabetes\"][0]\n",
    "reformatted_df['Diabetes'] = f'{int(n_diabetes)} ({int(n_diabetes / patient_characteristics_df[\"n patients\"][0] * 100)}%)'\n",
    "\n",
    "n_afib = patient_characteristics_df[\"n patients\"][0] - patient_characteristics_df[\"MedHist Atrial Fibr. no\"][0] - patient_characteristics_df[\"n missing MedHist Atrial Fibr.\"][0]\n",
    "reformatted_df['Atrial fibrillation'] = f'{int(n_afib)} ({int(n_afib / patient_characteristics_df[\"n patients\"][0] * 100)}%)'\n",
    "\n",
    "reformatted_df['NIH on admission'] = f'{int(patient_characteristics_df[\"median NIH on admission\"][0])} ({int(patient_characteristics_df[\"Q25 NIH on admission\"][0])}-{int(patient_characteristics_df[\"Q75 NIH on admission\"][0])})'\n",
    "\n",
    "if \"IVT with rtPA no\" in patient_characteristics_df.columns:\n",
    "    n_IVT = patient_characteristics_df[\"n patients\"][0] - patient_characteristics_df[\"IVT with rtPA no\"][0] - patient_characteristics_df[\"n missing IVT with rtPA\"][0]\n",
    "else:\n",
    "    n_IVT = patient_characteristics_df['IVT with rtPA yes'] - patient_characteristics_df[\"n missing IVT with rtPA\"][0]\n",
    "reformatted_df['IVT'] = f'{int(n_IVT)} ({int(n_IVT / patient_characteristics_df[\"n patients\"][0] * 100)}%)'\n",
    "\n",
    "n_IAT = patient_characteristics_df[\"n patients\"][0] - patient_characteristics_df[\"IAT no\"][0] - patient_characteristics_df[\"n missing IAT\"][0]\n",
    "reformatted_df['IAT'] = f'{int(n_IAT)} ({int(n_IAT / patient_characteristics_df[\"n patients\"][0] * 100)}%)'\n",
    "\n",
    "if not np.isnan(patient_characteristics_df[\"median 3M mRS\"][0]):\n",
    "    reformatted_df['Disability at 3 months, mRS'] = f'{int(patient_characteristics_df[\"median 3M mRS\"][0])} ({int(patient_characteristics_df[\"Q25 3M mRS\"][0])}-{int(patient_characteristics_df[\"Q75 3M mRS\"][0])})'\n",
    "else:\n",
    "    reformatted_df['Disability at 3 months, mRS'] = ''\n",
    "\n",
    "n_death = patient_characteristics_df[\"n patients\"][0] - patient_characteristics_df[\"3M Death no\"][0] - patient_characteristics_df[\"n missing 3M Death\"][0]\n",
    "reformatted_df['Mortality at 3 months'] = f'{int(n_death)} ({int(n_death / patient_characteristics_df[\"n patients\"][0] * 100)}%)'\n",
    "\n",
    "reformatted_df.T"
   ]
  },
  {
   "cell_type": "code",
   "execution_count": null,
   "metadata": {
    "pycharm": {
     "is_executing": true
    }
   },
   "outputs": [],
   "source": []
  },
  {
   "cell_type": "code",
   "execution_count": null,
   "metadata": {},
   "outputs": [],
   "source": []
  }
 ],
 "metadata": {
  "kernelspec": {
   "display_name": "Python 3",
   "language": "python",
   "name": "python3"
  },
  "language_info": {
   "codemirror_mode": {
    "name": "ipython",
    "version": 2
   },
   "file_extension": ".py",
   "mimetype": "text/x-python",
   "name": "python",
   "nbconvert_exporter": "python",
   "pygments_lexer": "ipython2",
   "version": "2.7.6"
  }
 },
 "nbformat": 4,
 "nbformat_minor": 0
}
