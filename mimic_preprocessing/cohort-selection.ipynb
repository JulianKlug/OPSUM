{
 "cells": [
  {
   "cell_type": "markdown",
   "metadata": {
    "pycharm": {
     "name": "#%% md\n"
    }
   },
   "source": [
    "# Cohort selection\n",
    "\n",
    "- Inclusion criteria: > 17y, ischemic stroke, inpatient/non-transferred, not refusing to participate\n",
    "- Exclusion criteria: < 12h, hospitalisation > 7d after stroke onset\n",
    "\n",
    "\n",
    "Requirements:\n",
    "* MIMIC-III in a PostgreSQL database\n"
   ]
  },
  {
   "cell_type": "code",
   "execution_count": null,
   "metadata": {
    "pycharm": {
     "name": "#%%\n"
    }
   },
   "outputs": [],
   "source": [
    "# Import libraries\n",
    "import numpy as np\n",
    "import pandas as pd\n",
    "import matplotlib.pyplot as plt\n",
    "import psycopg2\n",
    "\n",
    "# below imports are used to print out pretty pandas dataframes\n",
    "from IPython.display import display, HTML\n",
    "\n",
    "%matplotlib inline\n",
    "plt.style.use('ggplot')\n",
    "\n",
    "# information used to create a database connection\n",
    "sqluser = 'postgres'\n",
    "dbname = 'mimic'\n",
    "schema_name = 'mimiciii'\n",
    "\n",
    "# Connect to postgres with a copy of the MIMIC-III database\n",
    "con = psycopg2.connect(dbname=dbname, user=sqluser)\n",
    "\n",
    "# the below statement is prepended to queries to ensure they select from the right schema\n",
    "query_schema = 'set search_path to ' + schema_name + ';'"
   ]
  },
  {
   "cell_type": "markdown",
   "metadata": {
    "pycharm": {
     "name": "#%% md\n"
    }
   },
   "source": [
    "Cohort selection will begin with three tables: *patients*, *admissions*, and *icustays*:\n",
    "\n",
    "* *patients*: information about a patient that does not change - e.g. date of birth, genotypical sex\n",
    "* *admissions*: information recorded on hospital admission - admission type (elective, emergency), time of admission\n",
    "* *icustays*: information recorded on intensive care unit admission - primarily admission and discharge time\n",
    "\n",
    "As MIMIC-III is primarily an intensive care unit (ICU) database, the focus will be on patients admitted to and discharged from the ICU. That is, rather than selecting our cohort based off the individual patient (identified by `subject_id` in the database), we will usually want to select our cohort based off the ICU stay (identified by `icustay_id`)."
   ]
  },
  {
   "cell_type": "markdown",
   "metadata": {
    "pycharm": {
     "name": "#%% md\n"
    }
   },
   "source": [
    "# Exclude base on length of stay, first ICU stay, age"
   ]
  },
  {
   "cell_type": "code",
   "execution_count": null,
   "metadata": {
    "pycharm": {
     "name": "#%%\n"
    }
   },
   "outputs": [],
   "source": [
    "query = query_schema + \"\"\"\n",
    "WITH co AS\n",
    "(\n",
    "SELECT icu.subject_id, icu.hadm_id, icu.icustay_id\n",
    ", EXTRACT(EPOCH FROM outtime - intime)/60.0/60.0 as icu_length_of_stay_h\n",
    ", EXTRACT('epoch' from icu.intime - pat.dob) / 60.0 / 60.0 / 24.0 / 365.242 as age\n",
    ", RANK() OVER (PARTITION BY icu.subject_id ORDER BY icu.intime) AS icustay_id_order\n",
    "FROM icustays icu\n",
    "INNER JOIN patients pat\n",
    "  ON icu.subject_id = pat.subject_id\n",
    "LIMIT 100\n",
    ")\n",
    "SELECT\n",
    "  co.subject_id, co.hadm_id, co.icustay_id, co.icu_length_of_stay_h\n",
    "  , co.age\n",
    "  , co.icustay_id_order\n",
    "  , CASE\n",
    "        WHEN co.icu_length_of_stay_h < 12 then 1\n",
    "    ELSE 0 END\n",
    "    AS exclusion_los\n",
    "  , CASE\n",
    "        WHEN co.age < 17 then 1\n",
    "    ELSE 0 END\n",
    "    AS exclusion_age\n",
    "  , CASE \n",
    "        WHEN co.icustay_id_order != 1 THEN 1\n",
    "    ELSE 0 END \n",
    "    AS exclusion_first_stay\n",
    "FROM co\n",
    "\"\"\"\n",
    "df = pd.read_sql_query(query, con)\n",
    "df"
   ]
  },
  {
   "cell_type": "markdown",
   "metadata": {
    "collapsed": false,
    "pycharm": {
     "name": "#%% md\n"
    }
   },
   "source": [
    "# Get discharge diagnosis\n",
    "\n",
    "ischemic stroke (ICD-9-CM codes 433, 434 and 436)"
   ]
  },
  {
   "cell_type": "code",
   "execution_count": null,
   "metadata": {
    "pycharm": {
     "name": "#%%\n"
    }
   },
   "outputs": [],
   "source": [
    "query = query_schema + \"\"\"\n",
    "WITH co AS\n",
    "(\n",
    "SELECT icu.subject_id, icu.hadm_id, icu.icustay_id, dx.icd9_code\n",
    ", EXTRACT(EPOCH FROM outtime - intime)/60.0/60.0 as icu_length_of_stay_h\n",
    ", EXTRACT('epoch' from icu.intime - pat.dob) / 60.0 / 60.0 / 24.0 / 365.242 as age\n",
    ", RANK() OVER (PARTITION BY icu.subject_id ORDER BY icu.intime) AS icustay_id_order\n",
    "FROM icustays icu\n",
    "INNER JOIN patients pat\n",
    "  ON icu.subject_id = pat.subject_id\n",
    "INNER JOIN diagnoses_icd dx\n",
    "  ON icu.hadm_id = dx.hadm_id\n",
    "LIMIT 10\n",
    ")\n",
    "SELECT\n",
    "  co.subject_id, co.hadm_id, co.icustay_id, co.icu_length_of_stay_h\n",
    "  , co.age\n",
    "  , co.icustay_id_order\n",
    "  , co.icd9_code\n",
    "  , CASE\n",
    "        WHEN co.icu_length_of_stay_h < 12 then 1\n",
    "    ELSE 0 END\n",
    "    AS exclusion_los\n",
    "  , CASE\n",
    "        WHEN co.age < 17 then 1\n",
    "    ELSE 0 END\n",
    "    AS exclusion_age\n",
    "  , CASE\n",
    "        WHEN co.icustay_id_order != 1 THEN 1\n",
    "    ELSE 0 END\n",
    "    AS exclusion_first_stay\n",
    "  , CASE\n",
    "        WHEN co.icd9_code LIKE '433%' OR co.icd9_code LIKE '434%' OR co.icd9_code LIKE '436%'  THEN 0\n",
    "    ELSE 1 END\n",
    "    AS exclusion_discharge_diagnosis\n",
    "FROM co\n",
    "\"\"\"\n",
    "df = pd.read_sql_query(query, con)\n",
    "df"
   ]
  },
  {
   "cell_type": "markdown",
   "metadata": {
    "collapsed": false,
    "pycharm": {
     "name": "#%% md\n"
    }
   },
   "source": [
    "# Get admission diagnosis"
   ]
  },
  {
   "cell_type": "code",
   "execution_count": null,
   "metadata": {
    "pycharm": {
     "name": "#%%\n"
    }
   },
   "outputs": [],
   "source": [
    "query = query_schema + \"\"\"\n",
    "WITH co AS\n",
    "(\n",
    "SELECT icu.subject_id, icu.hadm_id, icu.icustay_id, dx.icd9_code, admissions.admission_type, admissions.diagnosis\n",
    ", EXTRACT(EPOCH FROM outtime - intime)/60.0/60.0 as icu_length_of_stay_h\n",
    ", EXTRACT('epoch' from icu.intime - pat.dob) / 60.0 / 60.0 / 24.0 / 365.242 as age\n",
    ", RANK() OVER (PARTITION BY icu.subject_id ORDER BY icu.intime) AS icustay_id_order\n",
    "FROM icustays icu\n",
    "INNER JOIN patients pat\n",
    "  ON icu.subject_id = pat.subject_id\n",
    "INNER JOIN diagnoses_icd dx\n",
    "  ON icu.hadm_id = dx.hadm_id\n",
    "INNER JOIN admissions admissions\n",
    "  ON icu.hadm_id = admissions.hadm_id\n",
    ")\n",
    "SELECT\n",
    "  co.subject_id, co.hadm_id, co.icustay_id, co.icu_length_of_stay_h\n",
    "  , co.age\n",
    "  , co.icustay_id_order\n",
    "  , co.admission_type\n",
    "  , co.diagnosis\n",
    "  , co.icd9_code\n",
    "  , CASE\n",
    "        WHEN co.icu_length_of_stay_h < 12 then 1\n",
    "    ELSE 0 END\n",
    "    AS exclusion_los\n",
    "  , CASE\n",
    "        WHEN co.age < 17 then 1\n",
    "    ELSE 0 END\n",
    "    AS exclusion_age\n",
    "  , CASE\n",
    "        WHEN co.icustay_id_order != 1 THEN 1\n",
    "    ELSE 0 END\n",
    "    AS exclusion_first_stay\n",
    "  , CASE\n",
    "        WHEN co.icd9_code LIKE '433%' OR co.icd9_code LIKE '434%' OR co.icd9_code LIKE '436%'  THEN 0\n",
    "    ELSE 1 END\n",
    "    AS exclusion_discharge_diagnosis\n",
    "FROM co\n",
    "\"\"\"\n",
    "df = pd.read_sql_query(query, con)\n",
    "df"
   ]
  },
  {
   "cell_type": "markdown",
   "metadata": {
    "collapsed": false,
    "pycharm": {
     "name": "#%% md\n"
    }
   },
   "source": [
    "# TODO:\n",
    "\n",
    "- add admission type & admission diagnosis to final query\n",
    "- further criteria (time from stroke) could be extracted from admission note\n",
    "- time from hospital  admission  to icu admission?"
   ]
  },
  {
   "cell_type": "markdown",
   "metadata": {
    "collapsed": false,
    "pycharm": {
     "name": "#%% md\n"
    }
   },
   "source": []
  },
  {
   "cell_type": "markdown",
   "metadata": {
    "collapsed": false,
    "pycharm": {
     "name": "#%% md\n"
    }
   },
   "source": [
    "## Summarise exclusion criteria"
   ]
  },
  {
   "cell_type": "code",
   "execution_count": null,
   "metadata": {
    "pycharm": {
     "name": "#%%\n"
    }
   },
   "outputs": [],
   "source": [
    "print('{:20s} {:5d}'.format('Observations', df.shape[0]))\n",
    "idxExcl = np.zeros(df.shape[0],dtype=bool)\n",
    "for col in df.columns:\n",
    "    if \"exclusion_\" in col:\n",
    "        print('{:20s} {:5d} ({:2.2f}%)'.format(col, df[col].sum(), df[col].sum()*100.0/df.shape[0]))\n",
    "        idxExcl = (idxExcl) | (df[col]==1)\n",
    "\n",
    "# print a summary of how many were excluded in total\n",
    "print('')\n",
    "print('{:20s} {:5d} ({:2.2f}%)'.format('Total excluded', np.sum(idxExcl), np.sum(idxExcl)*100.0/df.shape[0]))\n",
    "print('{:20s} {:5d} ({:2.2f}%)'.format('Total remaining', df.shape[0]- np.sum(idxExcl), 100- np.sum(idxExcl)*100.0/df.shape[0]))"
   ]
  },
  {
   "cell_type": "markdown",
   "metadata": {
    "collapsed": false,
    "pycharm": {
     "name": "#%% md\n"
    }
   },
   "source": [
    "# Save final selection query"
   ]
  },
  {
   "cell_type": "code",
   "execution_count": null,
   "metadata": {
    "pycharm": {
     "name": "#%%\n"
    }
   },
   "outputs": [],
   "source": [
    "final_selection_query = \"\"\"\n",
    "WITH selection AS\n",
    "(\n",
    "WITH co AS\n",
    "(\n",
    "SELECT icu.subject_id, icu.hadm_id, icu.icustay_id, dx.icd9_code\n",
    ", EXTRACT(EPOCH FROM outtime - intime)/60.0/60.0 as icu_length_of_stay_h\n",
    ", EXTRACT('epoch' from icu.intime - pat.dob) / 60.0 / 60.0 / 24.0 / 365.242 as age\n",
    ", RANK() OVER (PARTITION BY icu.subject_id ORDER BY icu.intime) AS icustay_id_order\n",
    "\n",
    "FROM icustays icu\n",
    "INNER JOIN patients pat\n",
    "  ON icu.subject_id = pat.subject_id\n",
    "INNER JOIN diagnoses_icd dx\n",
    "  ON icu.hadm_id = dx.hadm_id\n",
    ")\n",
    "\n",
    "SELECT\n",
    "  co.subject_id, co.hadm_id, co.icustay_id, co.icu_length_of_stay_h\n",
    "  , co.age\n",
    "  , co.icustay_id_order\n",
    "  , co.icd9_code\n",
    "  , CASE\n",
    "    WHEN co.icu_length_of_stay_h < 12 then 1\n",
    "    ELSE 0 END\n",
    "    AS exclusion_los\n",
    "    , CASE\n",
    "        WHEN co.age < 17 then 1\n",
    "    ELSE 0 END\n",
    "    AS exclusion_age\n",
    "    , CASE\n",
    "        WHEN co.icustay_id_order != 1 THEN 1\n",
    "    ELSE 0 END\n",
    "    AS exclusion_first_stay\n",
    "    , CASE\n",
    "        WHEN co.icd9_code LIKE '433%' OR co.icd9_code LIKE '434%' OR co.icd9_code LIKE '436%'  THEN 0\n",
    "    ELSE 1 END\n",
    "    AS exclusion_discharge_diagnosis\n",
    "FROM co\n",
    ")\n",
    "\"\"\""
   ]
  },
  {
   "cell_type": "code",
   "execution_count": null,
   "metadata": {
    "pycharm": {
     "name": "#%%\n"
    }
   },
   "outputs": [],
   "source": [
    "save = False"
   ]
  },
  {
   "cell_type": "code",
   "execution_count": null,
   "metadata": {
    "pycharm": {
     "name": "#%%\n"
    }
   },
   "outputs": [],
   "source": [
    "if save:\n",
    "    save_path = 'patient_selection_query.sql'\n",
    "    with open(save_path, \"w\") as text_file:\n",
    "        text_file.write(final_selection_query)"
   ]
  },
  {
   "cell_type": "markdown",
   "metadata": {
    "collapsed": false,
    "pycharm": {
     "name": "#%% md\n"
    }
   },
   "source": [
    "Apply selection query"
   ]
  },
  {
   "cell_type": "code",
   "execution_count": null,
   "metadata": {
    "pycharm": {
     "name": "#%%\n"
    }
   },
   "outputs": [],
   "source": [
    "query = query_schema + final_selection_query + \"\"\"\n",
    "SELECT selection.subject_id, selection.hadm_id, selection.icustay_id  , selection.age\n",
    "  , selection.icustay_id_order\n",
    "  , selection.icd9_code\n",
    "\n",
    "FROM selection\n",
    "\n",
    "WHERE selection.exclusion_discharge_diagnosis = 0\n",
    "    AND selection.exclusion_first_stay = 0\n",
    "    AND selection.exclusion_age = 0\n",
    "    AND selection.exclusion_los = 0\n",
    "\"\"\"\n",
    "df = pd.read_sql_query(query, con)\n",
    "df"
   ]
  },
  {
   "cell_type": "code",
   "execution_count": null,
   "metadata": {
    "pycharm": {
     "name": "#%%\n"
    }
   },
   "outputs": [],
   "source": [
    "# close out the database connection\n",
    "con.close()"
   ]
  },
  {
   "cell_type": "markdown",
   "metadata": {
    "pycharm": {
     "name": "#%% md\n"
    }
   },
   "source": [
    "<!-- TODO: steal from hst-953 course -->"
   ]
  },
  {
   "cell_type": "code",
   "execution_count": null,
   "metadata": {
    "pycharm": {
     "name": "#%%\n"
    }
   },
   "outputs": [],
   "source": []
  }
 ],
 "metadata": {
  "kernelspec": {
   "display_name": "Python 3 (ipykernel)",
   "language": "python",
   "name": "python3"
  },
  "language_info": {
   "codemirror_mode": {
    "name": "ipython",
    "version": 2
   },
   "file_extension": ".py",
   "mimetype": "text/x-python",
   "name": "python",
   "nbconvert_exporter": "python",
   "pygments_lexer": "ipython2",
   "version": "2.7.12"
  }
 },
 "nbformat": 4,
 "nbformat_minor": 1
}
