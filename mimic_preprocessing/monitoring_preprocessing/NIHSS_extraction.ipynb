{
 "cells": [
  {
   "cell_type": "markdown",
   "metadata": {
    "collapsed": false
   },
   "source": [
    "# Reconstruct NIHSS for concomitant individual items\n",
    "\n",
    "As probably not all items will always be presented\n",
    "- forwards from initial score (maybe use decomposed version of MIMIC NIHSS?)\n",
    "- forward from previous score\n",
    "\n",
    "Marker of timing: strength testing (RU Strength/Movement - as is most frequent)\n"
   ]
  },
  {
   "cell_type": "code",
   "execution_count": null,
   "metadata": {},
   "outputs": [],
   "source": [
    "import pandas as pd"
   ]
  },
  {
   "cell_type": "code",
   "execution_count": null,
   "metadata": {},
   "outputs": [],
   "source": [
    "monitoring_path = '/Users/jk1/temp/mimic/extraction/monitoring_df.csv'\n",
    "patient_selection_path = '/Users/jk1/OneDrive - unige.ch/stroke_research/geneva_stroke_unit_dataset/data/mimic_data/combined_notes_labels.xlsx'"
   ]
  },
  {
   "cell_type": "code",
   "execution_count": null,
   "metadata": {},
   "outputs": [],
   "source": [
    "monitoring_df = pd.read_csv(monitoring_path)"
   ]
  },
  {
   "cell_type": "code",
   "execution_count": null,
   "metadata": {},
   "outputs": [],
   "source": [
    "selection_df = pd.read_excel(patient_selection_path)"
   ]
  },
  {
   "cell_type": "markdown",
   "metadata": {
    "collapsed": false
   },
   "source": [
    "## Level of consciousness\n",
    "\n",
    "1a. Level of Consciousness\n",
    " - 0 = Alert; keenly responsive.\n",
    " - 1 = Not alert; but arousable by minor stimulation to obey, answer, or respond.\n",
    " - 2 = Not alert; requires repeated stimulation to attend, or is obtunded and requires strong or painful stimulation to make movements (not stereotyped).\n",
    " - 3 = Responds only with reflex motor or autonomic effects or totally unresponsive, flaccid, and areflexic.\n",
    "\n"
   ]
  },
  {
   "cell_type": "code",
   "execution_count": null,
   "metadata": {},
   "outputs": [],
   "source": [
    "consciousness_labels = ['Level of Consciousness', 'Level of Conscious','PAR-Consciousness', 'GCS Total', 'Richmond-RAS Scale', 'Riker-SAS Scale', 'Ramsey SedationScale']"
   ]
  },
  {
   "cell_type": "code",
   "execution_count": null,
   "metadata": {},
   "outputs": [],
   "source": [
    "for label in consciousness_labels:\n",
    "    print(label, monitoring_df[monitoring_df.label == label].value.count())\n",
    "    print(monitoring_df[monitoring_df.label == label].value.unique())\n"
   ]
  },
  {
   "cell_type": "code",
   "execution_count": null,
   "metadata": {},
   "outputs": [],
   "source": [
    "monitoring_df[monitoring_df.label == 'Ramsey SedationScale'].value.unique()"
   ]
  },
  {
   "cell_type": "markdown",
   "metadata": {
    "collapsed": false
   },
   "source": [
    "1b. LOC Questions: The patient is asked the month and his/her age.\n",
    "- Grading: 0 = Answers both questions correctly. /  1 = Answers one question correctly. /  2 = Answers neither question correctly."
   ]
  },
  {
   "cell_type": "code",
   "execution_count": null,
   "metadata": {},
   "outputs": [],
   "source": [
    "orientation_labels = ['Orientation','Orientation to Place', 'Orientation to Time', 'Orient/Clouding Sensory']"
   ]
  },
  {
   "cell_type": "code",
   "execution_count": null,
   "metadata": {},
   "outputs": [],
   "source": [
    "for label in orientation_labels:\n",
    "    print(label, monitoring_df[monitoring_df.label == label].value.count())\n",
    "    print(monitoring_df[monitoring_df.label == label].value.unique())"
   ]
  },
  {
   "cell_type": "code",
   "execution_count": null,
   "metadata": {},
   "outputs": [],
   "source": [
    "monitoring_df[monitoring_df.label == 'Orientation'].value.value_counts()"
   ]
  },
  {
   "cell_type": "markdown",
   "metadata": {
    "collapsed": false
   },
   "source": [
    "1c. LOC Commands\n",
    "- Grading: 0 = Performs both tasks correctly. / 1 = Performs one task correctly. / 2 = Performs neither task correctly."
   ]
  },
  {
   "cell_type": "code",
   "execution_count": null,
   "metadata": {},
   "outputs": [],
   "source": [
    "commands_labels = ['Follows Commands', 'Commands Response']"
   ]
  },
  {
   "cell_type": "code",
   "execution_count": null,
   "metadata": {},
   "outputs": [],
   "source": [
    "for label in commands_labels:\n",
    "    print(label, monitoring_df[monitoring_df.label == label].value.count())\n",
    "    print(monitoring_df[monitoring_df.label == label].value.unique())"
   ]
  },
  {
   "cell_type": "markdown",
   "metadata": {
    "collapsed": false
   },
   "source": [
    "2. Best Gaze\n",
    "Grading: 0 = Normal./  1 = Partial gaze palsy; gaze is abnormal in one or both eyes, but forced deviation or total gaze paresis is not present. /  2 = Forced deviation, or total gaze paresis not overcome by the oculocephalic maneuver.\n",
    "\n",
    "-> No good solution"
   ]
  },
  {
   "cell_type": "markdown",
   "metadata": {
    "collapsed": false
   },
   "source": [
    "3. Visual: Visual fields (upper and lower quadrants) are tested by\n",
    "confrontation\n",
    "Grading:\n",
    " 0 = No visual loss.\n",
    " 1 = Partial hemianopia.\n",
    " 2 = Complete hemianopia.\n",
    " 3 = Bilateral hemianopia"
   ]
  },
  {
   "cell_type": "code",
   "execution_count": null,
   "metadata": {},
   "outputs": [],
   "source": [
    "visual_field_labels = ['Visual Field Cut']"
   ]
  },
  {
   "cell_type": "code",
   "execution_count": null,
   "metadata": {},
   "outputs": [],
   "source": [
    "monitoring_df[monitoring_df.label == 'Visual / hearing deficit'].value.value_counts()\n"
   ]
  },
  {
   "cell_type": "markdown",
   "metadata": {
    "collapsed": false
   },
   "source": [
    "4. Facial Palsy\n",
    " 0 = Normal symmetrical movements.\n",
    " 1 = Minor paralysis (flattened nasolabial fold, asymmetry on\n",
    "smiling).\n",
    " 2 = Partial paralysis (total or near-total paralysis of lower\n",
    "face).\n",
    " 3 = Complete paralysis of one or both sides (absence of\n",
    "facial movement in the upper and lower face)."
   ]
  },
  {
   "cell_type": "code",
   "execution_count": null,
   "metadata": {},
   "outputs": [],
   "source": [
    "facial_palsy_labels = ['Facial Droop', 'Face Droop']"
   ]
  },
  {
   "cell_type": "code",
   "execution_count": null,
   "metadata": {},
   "outputs": [],
   "source": [
    "monitoring_df[monitoring_df.label == 'Face Droop'].value.value_counts()"
   ]
  },
  {
   "cell_type": "markdown",
   "metadata": {
    "collapsed": false
   },
   "source": [
    "5. Motor Arm L & R\n",
    " 0 = No drift; limb holds 90 (or 45) degrees for full 10 seconds.\n",
    " 1 = Drift; limb holds 90 (or 45) degrees, but drifts down before\n",
    "full 10 seconds; does not hit bed or other support.\n",
    " 2 = Some effort against gravity; limb cannot get to or\n",
    "maintain (if cued) 90 (or 45) degrees, drifts down to bed,\n",
    "but has some effort against gravity.\n",
    " 3 = No effort against gravity; limb falls.\n",
    " 4 = No movement."
   ]
  },
  {
   "cell_type": "code",
   "execution_count": null,
   "metadata": {},
   "outputs": [],
   "source": [
    "motor_ru_labels = ['RU Strength/Movement', 'Strength R Arm']\n",
    "motor_lu_labels = ['LU Strength/Movement', 'Strength L Arm']"
   ]
  },
  {
   "cell_type": "markdown",
   "metadata": {
    "collapsed": false
   },
   "source": [
    "Fraction of patiens in selection with motor eval"
   ]
  },
  {
   "cell_type": "code",
   "execution_count": null,
   "metadata": {},
   "outputs": [],
   "source": [
    "len(set(monitoring_df[(monitoring_df.label.isin(motor_lu_labels)) & (~monitoring_df.value.isin(['Other/Remarks', 'Posturing']))].hadm_id)&set(selection_df.hadm_id)) / len(set(selection_df.hadm_id))"
   ]
  },
  {
   "cell_type": "code",
   "execution_count": null,
   "metadata": {},
   "outputs": [],
   "source": [
    "monitoring_df[monitoring_df.label == 'RU Strength/Movement'].value.value_counts()"
   ]
  },
  {
   "cell_type": "markdown",
   "metadata": {
    "collapsed": false
   },
   "source": [
    "6. Motor Leg L & R\n",
    " 0 = No drift; leg holds 30-degree position for full 5 seconds.\n",
    " 1 = Drift; leg falls by the end of the 5-second period but does\n",
    "not hit bed.\n",
    " 2 = Some effort against gravity; leg falls to bed by 5\n",
    "seconds, but has some effort against gravity.\n",
    " 3 = No effort against gravity; leg falls to bed immediately.\n",
    " 4 = No movement."
   ]
  },
  {
   "cell_type": "code",
   "execution_count": null,
   "metadata": {},
   "outputs": [],
   "source": [
    "motor_rl_labels = ['RL Strength/Movement', 'Strength R Leg']\n",
    "motor_ll_labels = ['LL Strength/Movement', 'Strength L Leg']"
   ]
  },
  {
   "cell_type": "code",
   "execution_count": null,
   "metadata": {},
   "outputs": [],
   "source": [
    "len(set(monitoring_df[(monitoring_df.label.isin(motor_ll_labels)) & (~monitoring_df.value.isin(['Other/Remarks', 'Posturing', 'Moves on Bed']))].hadm_id)&set(selection_df.hadm_id)) / len(set(selection_df.hadm_id))"
   ]
  },
  {
   "cell_type": "code",
   "execution_count": null,
   "metadata": {},
   "outputs": [],
   "source": [
    "monitoring_df[monitoring_df.label == 'Strength R Leg'].value.value_counts()\n"
   ]
  },
  {
   "cell_type": "code",
   "execution_count": null,
   "metadata": {},
   "outputs": [],
   "source": [
    "monitoring_df[monitoring_df.label == 'RL Strength/Movement'].value.value_counts()\n"
   ]
  },
  {
   "cell_type": "markdown",
   "metadata": {
    "collapsed": false
   },
   "source": [
    "7. Limb Ataxia\n",
    "0 = Absent.\n",
    " 1 = Present in one limb.\n",
    " 2 = Present in two limbs"
   ]
  },
  {
   "cell_type": "code",
   "execution_count": null,
   "metadata": {},
   "outputs": [],
   "source": [
    "Ataxia"
   ]
  },
  {
   "cell_type": "code",
   "execution_count": null,
   "metadata": {},
   "outputs": [],
   "source": [
    "monitoring_df[monitoring_df.label == 'Ataxia']\n"
   ]
  },
  {
   "cell_type": "markdown",
   "metadata": {
    "collapsed": false
   },
   "source": [
    "8. Sensory\n",
    "0 = Normal; no sensory loss.\n",
    " 1 = Mild-to-moderate sensory loss; patient feels pinprick is\n",
    "less sharp or is dull on the affected side; or there is a\n",
    "loss of superficial pain with pinprick, but patient is aware\n",
    "of being touched.\n",
    " 2 = Severe to total sensory loss; patient is not aware of\n",
    "being touched in the face, arm, and leg. Or if Coma or if bilateral"
   ]
  },
  {
   "cell_type": "code",
   "execution_count": null,
   "metadata": {},
   "outputs": [],
   "source": [
    "sensory_labels = ['Braden Sensory Perception', 'Braden SensoryPercep', 'RUE Sensation', 'RLE Sensation', 'LUE Sensation', 'LLE Sensation', 'RUE [Sensation]', 'RLE [Sensation]', 'LLE [Sensation]', 'LUE [Sensation]']"
   ]
  },
  {
   "cell_type": "code",
   "execution_count": null,
   "metadata": {},
   "outputs": [],
   "source": [
    "for label in sensory_labels:\n",
    "    print(label, monitoring_df[monitoring_df.label == label].value.count())\n",
    "    print(monitoring_df[monitoring_df.label == label].value.unique())"
   ]
  },
  {
   "cell_type": "code",
   "execution_count": null,
   "metadata": {},
   "outputs": [],
   "source": [
    "monitoring_df[monitoring_df.label == 'RUE [Sensation]'].value.value_counts()\n"
   ]
  },
  {
   "cell_type": "markdown",
   "metadata": {
    "collapsed": false
   },
   "source": [
    "9. Best Language:\n",
    "0 = No aphasia; normal.\n",
    " 1 = Mild-to-moderate aphasia;\n",
    " 2 = Severe aphasia;\n",
    " 3 = Mute, global aphasia; no usable speech or auditory\n",
    "comprehension. Or coma"
   ]
  },
  {
   "cell_type": "code",
   "execution_count": null,
   "metadata": {},
   "outputs": [],
   "source": [
    "language_labels = ['Speech']"
   ]
  },
  {
   "cell_type": "code",
   "execution_count": null,
   "metadata": {},
   "outputs": [],
   "source": [
    "monitoring_df[monitoring_df.label == 'Communication'].value.value_counts()\n"
   ]
  },
  {
   "cell_type": "markdown",
   "metadata": {
    "collapsed": false
   },
   "source": [
    "10. Dysarthria\n",
    " 0 = Normal.\n",
    " 1 = Mild-to-moderate dysarthria; patient slurs at least some\n",
    "words and, at worst, can be understood with some\n",
    "difficulty.\n",
    " 2 = Severe dysarthria; patient's speech is so slurred as to be\n",
    "unintelligible in the absence of or out of proportion to\n",
    "any dysphasia, or is mute/anarthric.\n",
    "If intubated UN"
   ]
  },
  {
   "cell_type": "code",
   "execution_count": null,
   "metadata": {},
   "outputs": [],
   "source": [
    "dysarthria_labels = ['Slurred Speech', 'Speech']"
   ]
  },
  {
   "cell_type": "code",
   "execution_count": null,
   "metadata": {},
   "outputs": [],
   "source": [
    "monitoring_df[monitoring_df.label == 'Speech'].value.value_counts()\n"
   ]
  },
  {
   "cell_type": "markdown",
   "metadata": {
    "collapsed": false
   },
   "source": [
    "11. Extinction and Inattention\n",
    "0 = No abnormality.\n",
    " 1 = Visual, tactile, auditory, spatial, or personal inattention\n",
    "or extinction to bilateral simultaneous stimulation in one\n",
    "of the sensory modalities.\n",
    " 2 = Profound hemi-inattention or extinction to more than\n",
    "one modality; does not recognize own hand or orients\n",
    "to only one side of space.\n",
    "\n",
    "-> no corresponding evaluation"
   ]
  },
  {
   "cell_type": "markdown",
   "metadata": {
    "collapsed": false
   },
   "source": [
    "## Finding evaluations at same time\n",
    "\n",
    "Baseline determinant of testing: motor testing -> RU Strength/Movement (as is most frequent)"
   ]
  },
  {
   "cell_type": "code",
   "execution_count": null,
   "metadata": {},
   "outputs": [],
   "source": [
    "monitoring_df[(monitoring_df.label == 'RU Strength/Movement')]"
   ]
  },
  {
   "cell_type": "code",
   "execution_count": null,
   "metadata": {},
   "outputs": [],
   "source": [
    "monitoring_df[(monitoring_df.hadm_id == 163618) & (monitoring_df.charttime <= '2184-09-17 05:00:00') & (monitoring_df.label.isin(sensory_labels))].sort_values(by=['charttime'], ascending=False)"
   ]
  },
  {
   "cell_type": "markdown",
   "metadata": {
    "collapsed": false
   },
   "source": [
    "## Compare obtained NIHSS to admission NIHSS\n",
    "\n",
    "- compute differences with ./testing_NIHSS_extraction.py"
   ]
  },
  {
   "cell_type": "code",
   "execution_count": null,
   "metadata": {},
   "outputs": [],
   "source": [
    "delta_df_path = './delta_nihss.csv'"
   ]
  },
  {
   "cell_type": "code",
   "execution_count": null,
   "metadata": {},
   "outputs": [],
   "source": [
    "delta_df = pd.read_csv(delta_df_path)"
   ]
  },
  {
   "cell_type": "code",
   "execution_count": null,
   "metadata": {},
   "outputs": [],
   "source": [
    "delta_df.mean()"
   ]
  },
  {
   "cell_type": "code",
   "execution_count": null,
   "metadata": {},
   "outputs": [],
   "source": [
    "consciousness_labels = ['Level of Consciousness', 'Level of Conscious',\n",
    "                        'Richmond-RAS Scale', 'Riker-SAS Scale', 'GCS Total', 'Ramsey SedationScale',\n",
    "                        'PAR-Consciousness']\n",
    "orientation_labels = ['Orientation', 'Orientation to Place', 'Orientation to Time', 'Orient/Clouding Sensory']\n",
    "command_response_labels = ['Follows Commands', 'Commands Response']\n",
    "visual_field_labels = ['Visual Field Cut']\n",
    "facial_palsy_labels = ['Facial Droop', 'Face Droop']\n",
    "motor_ru_labels = ['RU Strength/Movement', 'Strength R Arm']\n",
    "motor_lu_labels = ['LU Strength/Movement', 'Strength L Arm']\n",
    "motor_rl_labels = ['RL Strength/Movement', 'Strength R Leg']\n",
    "motor_ll_labels = ['LL Strength/Movement', 'Strength L Leg']\n",
    "ataxia_labels = ['Ataxia']\n",
    "sensory_l_labels = ['LUE Sensation', 'LLE Sensation', 'LLE [Sensation]', 'LUE [Sensation]']\n",
    "sensory_r_labels = ['RUE Sensation', 'RLE Sensation', 'RLE [Sensation]', 'RUE [Sensation]']\n",
    "overall_sensory_labels = ['Braden Sensory Perception', 'Braden SensoryPercep']\n",
    "language_labels = ['Speech']\n",
    "dysarthria_labels = ['Speech', 'Slurred Speech']\n",
    "\n",
    "all_nihss_labels = consciousness_labels + orientation_labels + command_response_labels + visual_field_labels \\\n",
    "                   + facial_palsy_labels + motor_ru_labels + motor_lu_labels + motor_rl_labels + motor_ll_labels \\\n",
    "                   + ataxia_labels + sensory_l_labels + sensory_r_labels + overall_sensory_labels \\\n",
    "                   + language_labels + dysarthria_labels"
   ]
  },
  {
   "cell_type": "code",
   "execution_count": null,
   "metadata": {},
   "outputs": [],
   "source": [
    "for label in all_nihss_labels:\n",
    "    print(f'\"{label}\",')"
   ]
  },
  {
   "cell_type": "code",
   "execution_count": null,
   "metadata": {},
   "outputs": [],
   "source": []
  }
 ],
 "metadata": {
  "kernelspec": {
   "display_name": "Python 3",
   "language": "python",
   "name": "python3"
  },
  "language_info": {
   "codemirror_mode": {
    "name": "ipython",
    "version": 2
   },
   "file_extension": ".py",
   "mimetype": "text/x-python",
   "name": "python",
   "nbconvert_exporter": "python",
   "pygments_lexer": "ipython2",
   "version": "2.7.6"
  }
 },
 "nbformat": 4,
 "nbformat_minor": 0
}
