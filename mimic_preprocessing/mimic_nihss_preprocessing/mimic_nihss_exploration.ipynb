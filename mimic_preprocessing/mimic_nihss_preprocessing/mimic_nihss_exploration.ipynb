{
 "cells": [
  {
   "cell_type": "markdown",
   "metadata": {
    "collapsed": false
   },
   "source": [
    "# Exploring the MIMIC 3 NIHSS dataset"
   ]
  },
  {
   "cell_type": "code",
   "execution_count": null,
   "metadata": {},
   "outputs": [],
   "source": [
    "import warnings\n",
    "\n",
    "import pandas as pd\n",
    "import numpy as np"
   ]
  },
  {
   "cell_type": "code",
   "execution_count": null,
   "metadata": {},
   "outputs": [],
   "source": [
    "mimic_nihss_train_path = '/Users/jk1/stroke_datasets/national-institutes-of-health-stroke-scale-nihss-annotations-for-the-mimic-iii-database-1.0.0/NER_Train.txt'\n",
    "\n",
    "mimic_nihss_test_path = '/Users/jk1/stroke_datasets/national-institutes-of-health-stroke-scale-nihss-annotations-for-the-mimic-iii-database-1.0.0/NER_Test.txt'"
   ]
  },
  {
   "cell_type": "code",
   "execution_count": null,
   "metadata": {},
   "outputs": [],
   "source": [
    "output_dir = '/Users/jk1/stroke_datasets/national-institutes-of-health-stroke-scale-nihss-annotations-for-the-mimic-iii-database-1.0.0'"
   ]
  },
  {
   "cell_type": "code",
   "execution_count": null,
   "metadata": {},
   "outputs": [],
   "source": [
    "with open(mimic_nihss_train_path, 'r') as textfile:\n",
    "    mimic_nihss_train_text = textfile.read()\n",
    "\n",
    "with open(mimic_nihss_test_path, 'r') as textfile:\n",
    "    mimic_nihss_test_text = textfile.read()"
   ]
  },
  {
   "cell_type": "code",
   "execution_count": null,
   "metadata": {},
   "outputs": [],
   "source": [
    "mimic_nihss_train_data = eval(mimic_nihss_train_text)\n",
    "mimic_nihss_test_data = eval(mimic_nihss_test_text)"
   ]
  },
  {
   "cell_type": "code",
   "execution_count": null,
   "metadata": {},
   "outputs": [],
   "source": [
    "def flatten(list):\n",
    "    return [item for sublist in list for item in sublist]"
   ]
  },
  {
   "cell_type": "code",
   "execution_count": null,
   "metadata": {},
   "outputs": [],
   "source": [
    "def get_measurement(parsed_subj_nlp_db, parsed_subj_nlp_df, subj_relationship_df, label):\n",
    "    if label not in parsed_subj_nlp_df.label.unique():\n",
    "        return np.nan\n",
    "\n",
    "    label_t_id = parsed_subj_nlp_df[parsed_subj_nlp_df.label == label].t_id.values[0]\n",
    "\n",
    "    if label_t_id not in subj_relationship_df.t_id1.unique():\n",
    "        return np.nan\n",
    "\n",
    "    target_t_id = subj_relationship_df[subj_relationship_df.t_id1 == label_t_id].t_id2.values[0]\n",
    "\n",
    "    if target_t_id not in parsed_subj_nlp_df.t_id.unique():\n",
    "        return np.nan\n",
    "\n",
    "    target_token = parsed_subj_nlp_df[parsed_subj_nlp_df.t_id == target_t_id].token_position1.values[0]\n",
    "\n",
    "    if not parsed_subj_nlp_db['token'][target_token].isdigit():\n",
    "        return np.nan\n",
    "\n",
    "    return int(parsed_subj_nlp_db['token'][target_token])"
   ]
  },
  {
   "cell_type": "code",
   "execution_count": null,
   "metadata": {},
   "outputs": [],
   "source": [
    "mimic_nihss_selected_data =  mimic_nihss_test_data"
   ]
  },
  {
   "cell_type": "code",
   "execution_count": null,
   "metadata": {},
   "outputs": [],
   "source": [
    "unique_labels = []\n",
    "for subj in mimic_nihss_selected_data:\n",
    "    unique_labels.append(pd.DataFrame(subj['entities'], columns=['t_id', 'label', 'token_position1', 'token_position2']).label.unique())"
   ]
  },
  {
   "cell_type": "code",
   "execution_count": null,
   "metadata": {},
   "outputs": [],
   "source": [
    "nihss_item_labels = [\n",
    "'NIHSS',\n",
    "'1a_LOC',\n",
    "'1b_LOCQuestions',\n",
    "'1c_LOCCommands',\n",
    "'2_BestGaze',\n",
    "'3_Visual',\n",
    "'4_FacialPalsy',\n",
    "'5a_LeftArm',\n",
    "'5b_RightArm',\n",
    "'6a_LeftLeg',\n",
    "'6b_RightLeg',\n",
    "'7_LimbAtaxia',\n",
    "'8_Sensory',\n",
    "'9_BestLanguage',\n",
    "'10_Dysarthria',\n",
    "'11_ExtinctionInattention'\n",
    "]"
   ]
  },
  {
   "cell_type": "code",
   "execution_count": null,
   "metadata": {},
   "outputs": [],
   "source": [
    "def get_nihss_decomposition_df(mimic_nihss_selected_data, nihss_item_labels):\n",
    "    all_subjs_df = pd.DataFrame(columns=['hadm_id'] + nihss_item_labels)\n",
    "\n",
    "    for subj in mimic_nihss_selected_data:\n",
    "        subj_df = pd.DataFrame(subj['entities'], columns=['t_id', 'label', 'token_position1', 'token_position2'])\n",
    "        subj_relationship_df = pd.DataFrame(subj['relations'], columns=['t_id1', 't_id2', 'r_id', 'relationship'])\n",
    "        subj_relationship_df = subj_relationship_df[subj_relationship_df.relationship == 'Has_Value']\n",
    "\n",
    "        nihss_item_measurements = []\n",
    "        for nihss_item in nihss_item_labels:\n",
    "            nihss_item_measurements.append(get_measurement(subj, subj_df, subj_relationship_df, nihss_item))\n",
    "\n",
    "        if nihss_item_measurements[0] != np.nansum(nihss_item_measurements[1:]):\n",
    "            print(f'WARNING: For subj {subj[\"HADM_ID\"]}, sum of components of NIHSS should equal total', nihss_item_measurements[0], np.nansum(nihss_item_measurements[1:]))\n",
    "\n",
    "        subj_measurements_df = pd.DataFrame([[subj['HADM_ID']] + nihss_item_measurements], columns=['hadm_id'] + nihss_item_labels, index=[0])\n",
    "        all_subjs_df = all_subjs_df.append(subj_measurements_df, ignore_index=True)\n",
    "\n",
    "    return all_subjs_df\n",
    "\n"
   ]
  },
  {
   "cell_type": "code",
   "execution_count": null,
   "metadata": {},
   "outputs": [],
   "source": [
    "mimic_nihss_train_df = get_nihss_decomposition_df(mimic_nihss_train_data, nihss_item_labels)\n",
    "mimic_nihss_test_df = get_nihss_decomposition_df(mimic_nihss_test_data, nihss_item_labels)"
   ]
  },
  {
   "cell_type": "code",
   "execution_count": null,
   "metadata": {},
   "outputs": [],
   "source": [
    "overall_mimic_df = mimic_nihss_train_df.append(mimic_nihss_test_df)"
   ]
  },
  {
   "cell_type": "code",
   "execution_count": null,
   "metadata": {},
   "outputs": [],
   "source": [
    "overall_mimic_df"
   ]
  },
  {
   "cell_type": "code",
   "execution_count": null,
   "metadata": {},
   "outputs": [],
   "source": [
    "import os\n",
    "# overall_mimic_df.to_csv(os.path.join(output_dir, 'mimic_nihss_database.csv'))"
   ]
  },
  {
   "cell_type": "markdown",
   "metadata": {
    "collapsed": false
   },
   "source": [
    "# Find fraction of patients having a NIHSS decomposition"
   ]
  },
  {
   "cell_type": "code",
   "execution_count": null,
   "metadata": {},
   "outputs": [],
   "source": [
    "notes_df_path = '/Users/jk1/OneDrive - unige.ch/stroke_research/geneva_stroke_unit_dataset/data/mimic_data/combined_notes_labels.xlsx'\n",
    "notes_df = pd.read_excel(notes_df_path)"
   ]
  },
  {
   "cell_type": "code",
   "execution_count": null,
   "metadata": {},
   "outputs": [],
   "source": [
    "len(set(notes_df.hadm_id)&set(overall_mimic_df.hadm_id)) / len(set(notes_df.hadm_id))"
   ]
  },
  {
   "cell_type": "code",
   "execution_count": null,
   "metadata": {},
   "outputs": [],
   "source": [
    "set(notes_df.hadm_id)&set(overall_mimic_df.hadm_id)"
   ]
  },
  {
   "cell_type": "code",
   "execution_count": null,
   "metadata": {},
   "outputs": [],
   "source": []
  }
 ],
 "metadata": {
  "kernelspec": {
   "display_name": "Python 3",
   "language": "python",
   "name": "python3"
  },
  "language_info": {
   "codemirror_mode": {
    "name": "ipython",
    "version": 2
   },
   "file_extension": ".py",
   "mimetype": "text/x-python",
   "name": "python",
   "nbconvert_exporter": "python",
   "pygments_lexer": "ipython2",
   "version": "2.7.6"
  }
 },
 "nbformat": 4,
 "nbformat_minor": 0
}
