{
 "cells": [
  {
   "cell_type": "code",
   "execution_count": null,
   "metadata": {},
   "outputs": [],
   "source": [
    "import pandas as pd\n",
    "import numpy as np"
   ]
  },
  {
   "cell_type": "code",
   "execution_count": null,
   "metadata": {},
   "outputs": [],
   "source": [
    "features_df_path = '/Users/jk1/temp/opsum_prepro_output/preprocessed_features_02092022_083046.csv'\n",
    "outcome_df_path = '/Users/jk1/temp/opsum_prepro_output/preprocessed_outcomes_02092022_083046.csv'"
   ]
  },
  {
   "cell_type": "code",
   "execution_count": null,
   "metadata": {},
   "outputs": [],
   "source": [
    "features_df = pd.read_csv(features_df_path)\n",
    "outcome_df = pd.read_csv(outcome_df_path)\n",
    "features_df.drop(['Unnamed: 0'], axis=1, inplace=True)"
   ]
  },
  {
   "cell_type": "code",
   "execution_count": null,
   "metadata": {},
   "outputs": [],
   "source": [
    "features_df.head()"
   ]
  },
  {
   "cell_type": "code",
   "execution_count": null,
   "metadata": {},
   "outputs": [],
   "source": [
    "outcome_df"
   ]
  },
  {
   "cell_type": "markdown",
   "metadata": {
    "collapsed": false
   },
   "source": [
    "## Linear data representation without time dimension\n",
    "\n",
    "Goal: can be fed into a tree or simple NN model"
   ]
  },
  {
   "cell_type": "code",
   "execution_count": null,
   "metadata": {},
   "outputs": [],
   "source": [
    "# keep one row per case_admission_id\n",
    "pivoted_features = pd.pivot_table(features_df, index='case_admission_id', values=['value'], columns=['relative_sample_date_hourly_cat', 'sample_label'])"
   ]
  },
  {
   "cell_type": "code",
   "execution_count": null,
   "metadata": {},
   "outputs": [],
   "source": [
    "pivoted_features.head()"
   ]
  },
  {
   "cell_type": "code",
   "execution_count": null,
   "metadata": {},
   "outputs": [],
   "source": [
    "pivoted_features.columns = [f'{col[2]}_hcat_{col[1]}' for col in pivoted_features.columns.values]"
   ]
  },
  {
   "cell_type": "code",
   "execution_count": null,
   "metadata": {},
   "outputs": [],
   "source": [
    "# check for duplicated index\n",
    "pivoted_features.index.duplicated().sum()"
   ]
  },
  {
   "cell_type": "code",
   "execution_count": null,
   "metadata": {},
   "outputs": [],
   "source": [
    "pivoted_features.reset_index()\n"
   ]
  },
  {
   "cell_type": "code",
   "execution_count": null,
   "metadata": {},
   "outputs": [],
   "source": [
    "pivoted_features_np = pivoted_features.reset_index().values\n",
    "pivoted_features_np"
   ]
  },
  {
   "cell_type": "code",
   "execution_count": null,
   "metadata": {},
   "outputs": [],
   "source": [
    "X = pivoted_features_np[:, 1:]"
   ]
  },
  {
   "cell_type": "code",
   "execution_count": null,
   "metadata": {},
   "outputs": [],
   "source": [
    "outcome_value = '3M mRS 0-2'"
   ]
  },
  {
   "cell_type": "code",
   "execution_count": null,
   "metadata": {},
   "outputs": [],
   "source": [
    "y = [outcome_df[outcome_df.case_admission_id == id][outcome_value].values[0]\n",
    "     if len(outcome_df[outcome_df.case_admission_id == id][outcome_value].values) > 0\n",
    "     else np.nan\n",
    "     for id in pivoted_features_np[:,0]]"
   ]
  },
  {
   "cell_type": "code",
   "execution_count": null,
   "metadata": {},
   "outputs": [],
   "source": [
    "pivoted_features_np[:, 1:].shape"
   ]
  },
  {
   "cell_type": "code",
   "execution_count": null,
   "metadata": {},
   "outputs": [],
   "source": [
    "pd.DataFrame(y).value_counts()"
   ]
  },
  {
   "cell_type": "code",
   "execution_count": null,
   "metadata": {},
   "outputs": [],
   "source": [
    "# count nan in y\n",
    "y.count(np.nan)"
   ]
  },
  {
   "cell_type": "code",
   "execution_count": null,
   "metadata": {},
   "outputs": [],
   "source": [
    "y = list(map(binarize_to_int, y))"
   ]
  },
  {
   "cell_type": "code",
   "execution_count": null,
   "metadata": {},
   "outputs": [],
   "source": [
    "np.isnan(y).sum()"
   ]
  },
  {
   "cell_type": "code",
   "execution_count": null,
   "metadata": {},
   "outputs": [],
   "source": [
    "np.nansum(y)"
   ]
  },
  {
   "cell_type": "code",
   "execution_count": null,
   "metadata": {},
   "outputs": [],
   "source": [
    "# find case_admission_ids where y is nan\n",
    "cid_with_no_outcome = pivoted_features_np[np.isnan(y), 0]\n",
    "print('Found {} case_admission_ids with no outcome'.format(len(cid_with_no_outcome)))"
   ]
  },
  {
   "cell_type": "code",
   "execution_count": null,
   "metadata": {},
   "outputs": [],
   "source": [
    "# remove values in X and y where y is nan\n",
    "X = X[~np.isnan(y)]\n",
    "y = np.array(y)[~np.isnan(y)]"
   ]
  },
  {
   "cell_type": "markdown",
   "metadata": {
    "collapsed": false
   },
   "source": [
    "## 2-dimensional data representation with time dimension"
   ]
  },
  {
   "cell_type": "code",
   "execution_count": null,
   "metadata": {},
   "outputs": [],
   "source": [
    "features_df['patient_id'] = features_df['case_admission_id'].apply(lambda x: x.split('_')[0])\n"
   ]
  },
  {
   "cell_type": "code",
   "execution_count": null,
   "metadata": {},
   "outputs": [],
   "source": [
    "features_df.head()"
   ]
  },
  {
   "cell_type": "code",
   "execution_count": null,
   "metadata": {},
   "outputs": [],
   "source": [
    "# number of unique case_admission_ids per patient_id\n",
    "features_df.groupby('patient_id')['case_admission_id'].nunique()"
   ]
  },
  {
   "cell_type": "code",
   "execution_count": null,
   "metadata": {},
   "outputs": [],
   "source": [
    "outcome = '3M mRS 0-2'"
   ]
  },
  {
   "cell_type": "code",
   "execution_count": null,
   "metadata": {},
   "outputs": [],
   "source": [
    "X = features_df.copy()\n",
    "y = pd.DataFrame(X['case_admission_id'].unique(), columns=['case_admission_id'])\n",
    "\n",
    "y['patient_id'] = y['case_admission_id'].apply(lambda x: x.split('_')[0])\n",
    "y['outcome'] = y.case_admission_id.apply(lambda x:\n",
    "                                         outcome_df[outcome_df.case_admission_id == x][outcome].values[0]\n",
    "                                         if len(outcome_df[outcome_df.case_admission_id == x][outcome].values) > 0\n",
    "                                         else np.nan)\n"
   ]
  },
  {
   "cell_type": "code",
   "execution_count": null,
   "metadata": {},
   "outputs": [],
   "source": [
    "y.head()"
   ]
  },
  {
   "cell_type": "code",
   "execution_count": null,
   "metadata": {},
   "outputs": [],
   "source": [
    "from prediction.mrs_outcome_prediction.data_loading.data_formatting import binarize_to_int\n",
    "\n",
    "y['outcome'] = y['outcome'].apply(binarize_to_int)\n"
   ]
  },
  {
   "cell_type": "code",
   "execution_count": null,
   "metadata": {},
   "outputs": [],
   "source": [
    "y.head()"
   ]
  },
  {
   "cell_type": "code",
   "execution_count": null,
   "metadata": {},
   "outputs": [],
   "source": [
    "y[y.outcome.isna()]['case_admission_id'].unique()"
   ]
  },
  {
   "cell_type": "code",
   "execution_count": null,
   "metadata": {},
   "outputs": [],
   "source": [
    "y[y.case_admission_id == '10699578052_02032019']"
   ]
  },
  {
   "cell_type": "code",
   "execution_count": null,
   "metadata": {},
   "outputs": [],
   "source": [
    "# find case_admission_ids where y is nan\n",
    "cid_with_no_outcome = y[y.outcome.isna()]['case_admission_id'].unique()\n",
    "print('Found {} case_admission_ids with no outcome. These will be excluded.'.format(len(cid_with_no_outcome)))"
   ]
  },
  {
   "cell_type": "code",
   "execution_count": null,
   "metadata": {},
   "outputs": [],
   "source": [
    "# remove values in X and y where y is nan\n",
    "X = X[~X.case_admission_id.isin(cid_with_no_outcome)]\n",
    "y = y[~y.case_admission_id.isin(cid_with_no_outcome)]"
   ]
  },
  {
   "cell_type": "code",
   "execution_count": null,
   "metadata": {},
   "outputs": [],
   "source": [
    "X.head()"
   ]
  },
  {
   "cell_type": "markdown",
   "metadata": {
    "collapsed": false
   },
   "source": [
    "## Transform pandas dataframe to multidimensional numpy array"
   ]
  },
  {
   "cell_type": "code",
   "execution_count": null,
   "metadata": {},
   "outputs": [],
   "source": [
    "X.values"
   ]
  },
  {
   "cell_type": "code",
   "execution_count": null,
   "metadata": {},
   "outputs": [],
   "source": [
    "n_time_steps = X.relative_sample_date_hourly_cat.max() + 1\n",
    "n_channels = X.sample_label.unique().shape[0]"
   ]
  },
  {
   "cell_type": "code",
   "execution_count": null,
   "metadata": {},
   "outputs": [],
   "source": [
    "df = X[['case_admission_id', 'relative_sample_date_hourly_cat', 'sample_label', 'value']].copy()\n",
    "# create 4d numpy array with shape (n_cases, n_time_steps, n_sample_labels, n_features)\n"
   ]
  },
  {
   "cell_type": "code",
   "execution_count": null,
   "metadata": {},
   "outputs": [],
   "source": [
    "gb_cid = [x for _, x in df.groupby('case_admission_id')]"
   ]
  },
  {
   "cell_type": "code",
   "execution_count": null,
   "metadata": {},
   "outputs": [],
   "source": [
    "gb_cid[0]"
   ]
  },
  {
   "cell_type": "code",
   "execution_count": null,
   "metadata": {},
   "outputs": [],
   "source": [
    "gb_time = np.array([[x for _, x in gb_cid_x.groupby('relative_sample_date_hourly_cat')] for gb_cid_x in gb_cid])"
   ]
  },
  {
   "cell_type": "code",
   "execution_count": null,
   "metadata": {},
   "outputs": [],
   "source": [
    "gb_time.shape"
   ]
  },
  {
   "cell_type": "code",
   "execution_count": null,
   "metadata": {},
   "outputs": [],
   "source": [
    "from prediction.mrs_outcome_prediction.data_loading.data_formatting import features_to_numpy\n",
    "\n",
    "df_np = features_to_numpy(X)"
   ]
  },
  {
   "cell_type": "code",
   "execution_count": null,
   "metadata": {},
   "outputs": [],
   "source": [
    "df_np.shape"
   ]
  },
  {
   "cell_type": "code",
   "execution_count": null,
   "metadata": {},
   "outputs": [],
   "source": [
    "# verify that the order of sample_labels is the same in every case_admission_id and time_step\n",
    "df_np[:, 0, :, 2]"
   ]
  },
  {
   "cell_type": "code",
   "execution_count": null,
   "metadata": {},
   "outputs": [],
   "source": [
    "case_admission_id_lookup = {cid: i for i, cid in enumerate(df_np[:, 0, 0, 0])}\n",
    "time_step_lookup = {t: i for i, t in enumerate(df_np[0, :, 0, 1])}\n",
    "sample_label_lookup = {sl: i for i, sl in enumerate(df_np[0, 0, :, 2])}\n"
   ]
  },
  {
   "cell_type": "code",
   "execution_count": null,
   "metadata": {},
   "outputs": [],
   "source": [
    "sample_label_lookup"
   ]
  },
  {
   "cell_type": "code",
   "execution_count": null,
   "metadata": {},
   "outputs": [],
   "source": [
    "# sample random item from gb_time\n",
    "idx_cid = np.random.randint(0, df_np.shape[0])\n",
    "idx_time = np.random.randint(0, df_np.shape[1])\n",
    "idx_sl = np.random.randint(0, df_np.shape[2])\n",
    "\n",
    "print(df_np[idx_cid, idx_time, idx_sl, :])\n",
    "\n",
    "# check that this corresponds to the same information as the original dataframe\n",
    "print(df[df.case_admission_id == df_np[idx_cid, idx_time, idx_sl, 0]][df.relative_sample_date_hourly_cat == df_np[idx_cid, idx_time, idx_sl, 1]][df.sample_label == df_np[idx_cid, idx_time, idx_sl, 2]]['value'].values)\n",
    "\n",
    "df[df.case_admission_id == df_np[idx_cid, idx_time, idx_sl, 0]][df.relative_sample_date_hourly_cat == df_np[idx_cid, idx_time, idx_sl, 1]][df.sample_label == df_np[idx_cid, idx_time, idx_sl, 2]]['value'].values[0] == df_np[idx_cid, idx_time, idx_sl, 3]"
   ]
  },
  {
   "cell_type": "markdown",
   "metadata": {
    "collapsed": false
   },
   "source": [
    "## Link patient id to a single outcome"
   ]
  },
  {
   "cell_type": "code",
   "execution_count": null,
   "metadata": {},
   "outputs": [],
   "source": [
    "all_pids = y[['patient_id', 'outcome']].copy()"
   ]
  },
  {
   "cell_type": "code",
   "execution_count": null,
   "metadata": {},
   "outputs": [],
   "source": [
    "all_pids.head()"
   ]
  },
  {
   "cell_type": "code",
   "execution_count": null,
   "metadata": {},
   "outputs": [],
   "source": [
    "# replaces duplicated patient_ids with a single patient_id with minimum outcome\n",
    "duplicated_pids = all_pids[all_pids.duplicated(subset='patient_id', keep=False)].copy()\n",
    "reduced_pids = duplicated_pids.groupby('patient_id').min().reset_index()\n",
    "reduced_pids"
   ]
  },
  {
   "cell_type": "code",
   "execution_count": null,
   "metadata": {},
   "outputs": [],
   "source": [
    "all_pids_no_duplicates = all_pids[~all_pids.duplicated(subset='patient_id', keep=False)].copy()\n",
    "all_pids_no_duplicates = all_pids_no_duplicates.append(reduced_pids)"
   ]
  },
  {
   "cell_type": "code",
   "execution_count": null,
   "metadata": {},
   "outputs": [],
   "source": [
    "all_pids_no_duplicates.patient_id.isnull().sum()"
   ]
  },
  {
   "cell_type": "code",
   "execution_count": null,
   "metadata": {},
   "outputs": [],
   "source": [
    "all_pids_no_duplicates"
   ]
  },
  {
   "cell_type": "code",
   "execution_count": null,
   "metadata": {},
   "outputs": [],
   "source": []
  }
 ],
 "metadata": {
  "kernelspec": {
   "display_name": "Python 3",
   "language": "python",
   "name": "python3"
  },
  "language_info": {
   "codemirror_mode": {
    "name": "ipython",
    "version": 2
   },
   "file_extension": ".py",
   "mimetype": "text/x-python",
   "name": "python",
   "nbconvert_exporter": "python",
   "pygments_lexer": "ipython2",
   "version": "2.7.6"
  }
 },
 "nbformat": 4,
 "nbformat_minor": 0
}
