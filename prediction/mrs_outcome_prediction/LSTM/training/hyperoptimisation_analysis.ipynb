{
 "cells": [
  {
   "cell_type": "code",
   "execution_count": null,
   "metadata": {
    "pycharm": {
     "name": "#%%\n"
    }
   },
   "outputs": [],
   "source": [
    "import pandas as pd\n",
    "import seaborn as sns\n",
    "import matplotlib.pyplot as plt"
   ]
  },
  {
   "cell_type": "code",
   "execution_count": null,
   "metadata": {
    "pycharm": {
     "name": "#%%\n"
    }
   },
   "outputs": [],
   "source": [
    "AUC_results_path = '/Users/jk1/temp/opsum_prediction_output/LSTM_72h/server_run/sbatch_run/2022_09_07_1744/AUC_history_gridsearch.tsv'\n",
    "CV_results = '/Users/jk1/temp/opsum_prediction_output/LSTM_72h/server_run/sbatch_run/2022_09_07_1744/CV_history_gridsearch.tsv'"
   ]
  },
  {
   "cell_type": "code",
   "execution_count": null,
   "metadata": {
    "pycharm": {
     "name": "#%%\n"
    }
   },
   "outputs": [],
   "source": [
    "AUC_results_df = pd.read_csv(AUC_results_path, sep='\\t')\n",
    "CV_results_df = pd.read_csv(CV_results, sep='\\t')"
   ]
  },
  {
   "cell_type": "code",
   "execution_count": null,
   "metadata": {
    "pycharm": {
     "name": "#%%\n"
    }
   },
   "outputs": [],
   "source": [
    "AUC_results_df"
   ]
  },
  {
   "cell_type": "code",
   "execution_count": null,
   "metadata": {
    "pycharm": {
     "name": "#%%\n"
    }
   },
   "outputs": [],
   "source": [
    "# get summary stats\n",
    "AUC_results_df.matthews_train.describe()"
   ]
  },
  {
   "cell_type": "code",
   "execution_count": null,
   "metadata": {
    "pycharm": {
     "name": "#%%\n"
    }
   },
   "outputs": [],
   "source": [
    "# plot train and val AUC for each activation\n",
    "print(AUC_results_df.activation.unique())\n",
    "ax  = sns.stripplot(x='activation', y='auc_train', data=AUC_results_df, alpha=0.3, size=2.5, color='blue')\n",
    "sns.stripplot(x='activation', y='auc_val', data=AUC_results_df, ax=ax, alpha=0.3, size=2.5, color='orange')\n",
    "# add legend\n",
    "ax.legend(['train', 'val'])\n",
    "ax.set_title('LSTM AUC by activation')\n",
    "ax.set_ylim(0.4, 1)\n",
    "ax.set_ylabel('AUC')\n",
    "plt.show()"
   ]
  },
  {
   "cell_type": "code",
   "execution_count": null,
   "metadata": {
    "pycharm": {
     "name": "#%%\n"
    }
   },
   "outputs": [],
   "source": [
    "color1_alpha1 = (0.9647058823529412, 0.06274509803921569, 0.403921568627451, 1)\n",
    "color1_alpha01 = (0.9647058823529412, 0.06274509803921569, 0.403921568627451, 0.1)\n",
    "\n",
    "color2_alpha1 = (0.01568627450980392, 0.6078431372549019, 0.6039215686274509, 1)\n",
    "color2_alpha01 = (0.01568627450980392, 0.6078431372549019, 0.6039215686274509, 0.1)"
   ]
  },
  {
   "cell_type": "code",
   "execution_count": null,
   "metadata": {
    "pycharm": {
     "name": "#%%\n"
    }
   },
   "outputs": [],
   "source": [
    "categorical_variable = 'data'\n",
    "print(AUC_results_df[categorical_variable].unique())\n",
    "fig, [ax1, ax2] = plt.subplots(1, 2, figsize=(10, 5))\n",
    "\n",
    "# plot train and val AUC for each variable\n",
    "sns.violinplot(x=categorical_variable, y='auc_train', data=AUC_results_df, ax=ax1, alpha=0.1, size=2.5, inner=None)\n",
    "sns.violinplot(x=categorical_variable, y='auc_val', data=AUC_results_df, ax=ax1, alpha=0.1, size=2.5)\n",
    "ax1.collections[0].set_edgecolor(color1_alpha1)\n",
    "ax1.collections[0].set_facecolor(color1_alpha01)\n",
    "ax1.collections[1].set_edgecolor(color1_alpha1)\n",
    "ax1.collections[1].set_facecolor(color1_alpha01)\n",
    "ax1.collections[2].set_edgecolor(color2_alpha1)\n",
    "ax1.collections[2].set_facecolor(color2_alpha01)\n",
    "# ax1.collections[4].set_edgecolor(color2_alpha1)\n",
    "# ax1.collections[4].set_facecolor(color2_alpha01)\n",
    "\n",
    "sns.stripplot(x=categorical_variable, y='auc_train', data=AUC_results_df, ax=ax1, alpha=0.1, size=2.5, color='magenta')\n",
    "sns.stripplot(x=categorical_variable, y='auc_val', data=AUC_results_df, ax=ax1, alpha=0.1, size=2.5, color='green')\n",
    "# add legend\n",
    "ax1.legend(['train', 'val'])\n",
    "ax1.set_title(f'LSTM AUC by {categorical_variable}')\n",
    "ax1.set_ylim(0.4, 1)\n",
    "ax1.set_ylabel('AUC')\n",
    "\n",
    "# plot train and val matthews for each variable\n",
    "sns.violinplot(x=categorical_variable, y='matthews_train', data=AUC_results_df, ax=ax2, alpha=0.1, size=2.5, inner=None)\n",
    "sns.violinplot(x=categorical_variable, y='matthews_val', data=AUC_results_df, ax=ax2, alpha=0.1, size=2.5)\n",
    "ax2.collections[0].set_edgecolor(color1_alpha1)\n",
    "ax2.collections[0].set_facecolor(color1_alpha01)\n",
    "ax2.collections[1].set_edgecolor(color1_alpha1)\n",
    "ax2.collections[1].set_facecolor(color1_alpha01)\n",
    "ax2.collections[2].set_edgecolor(color2_alpha1)\n",
    "ax2.collections[2].set_facecolor(color2_alpha01)\n",
    "# ax2.collections[4].set_edgecolor(color2_alpha1)\n",
    "# ax2.collections[4].set_facecolor(color2_alpha01)\n",
    "\n",
    "sns.stripplot(x=categorical_variable, y='matthews_train', data=AUC_results_df, ax=ax2, alpha=0.1, size=2.5, color='magenta')\n",
    "sns.stripplot(x=categorical_variable, y='matthews_val', data=AUC_results_df, ax=ax2, alpha=0.1, size=2.5, color='green')\n",
    "# add legend\n",
    "ax2.legend(['train', 'val'])\n",
    "ax2.set_title(f'LSTM Matthews by {categorical_variable}')\n",
    "ax2.set_ylim(-0.2, 0.8)\n",
    "ax2.set_ylabel('Matthews')\n",
    "\n",
    "plt.show()"
   ]
  },
  {
   "cell_type": "markdown",
   "metadata": {
    "collapsed": false,
    "pycharm": {
     "name": "#%% md\n"
    }
   },
   "source": [
    "Best Data: balanced"
   ]
  },
  {
   "cell_type": "code",
   "execution_count": null,
   "metadata": {
    "pycharm": {
     "name": "#%%\n"
    }
   },
   "outputs": [],
   "source": [
    "categorical_variable = 'dropout'\n",
    "print(AUC_results_df[categorical_variable].unique())\n",
    "fig, [[ax1, ax2], [ax3, ax4]] = plt.subplots(2, 2, figsize=(10, 5))\n",
    "\n",
    "# plot train and val AUC for each variable\n",
    "sns.violinplot(x=categorical_variable, y='auc_train', data=AUC_results_df, ax=ax1, alpha=0.1, size=2.5, palette='Spectral')\n",
    "sns.violinplot(x=categorical_variable, y='auc_val', data=AUC_results_df, ax=ax2, alpha=0.1, size=2.5, palette='Spectral')\n",
    "\n",
    "\n",
    "# plot train and val matthews for each variable\n",
    "sns.violinplot(x=categorical_variable, y='matthews_train', data=AUC_results_df, ax=ax3, alpha=0.1, size=2.5, palette='Spectral')\n",
    "sns.violinplot(x=categorical_variable, y='matthews_val', data=AUC_results_df, ax=ax4, alpha=0.1, size=2.5, palette='Spectral')\n",
    "\n",
    "fig.set_tight_layout(True)\n",
    "fig.suptitle(f'LSTM results by {categorical_variable}')\n",
    "\n",
    "plt.show()"
   ]
  },
  {
   "cell_type": "markdown",
   "metadata": {
    "collapsed": false,
    "pycharm": {
     "name": "#%% md\n"
    }
   },
   "source": [
    "Best dropout: 0.2"
   ]
  },
  {
   "cell_type": "code",
   "execution_count": null,
   "metadata": {
    "pycharm": {
     "name": "#%%\n"
    }
   },
   "outputs": [],
   "source": [
    "categorical_variable = 'layers'\n",
    "print(AUC_results_df[categorical_variable].unique())\n",
    "fig, [[ax1, ax2], [ax3, ax4]] = plt.subplots(2, 2, figsize=(10, 5))\n",
    "\n",
    "# plot train and val AUC for each variable\n",
    "sns.violinplot(x=categorical_variable, y='auc_train', data=AUC_results_df, ax=ax1, alpha=0.1, size=2.5, palette='Spectral')\n",
    "sns.violinplot(x=categorical_variable, y='auc_val', data=AUC_results_df, ax=ax2, alpha=0.1, size=2.5, palette='Spectral')\n",
    "\n",
    "\n",
    "# plot train and val matthews for each variable\n",
    "sns.violinplot(x=categorical_variable, y='matthews_train', data=AUC_results_df, ax=ax3, alpha=0.1, size=2.5, palette='Spectral')\n",
    "sns.violinplot(x=categorical_variable, y='matthews_val', data=AUC_results_df, ax=ax4, alpha=0.1, size=2.5, palette='Spectral')\n",
    "\n",
    "fig.set_tight_layout(True)\n",
    "fig.suptitle(f'LSTM results by {categorical_variable}')\n",
    "\n",
    "plt.show()"
   ]
  },
  {
   "cell_type": "markdown",
   "metadata": {
    "collapsed": false,
    "pycharm": {
     "name": "#%% md\n"
    }
   },
   "source": [
    "best layers: 1"
   ]
  },
  {
   "cell_type": "code",
   "execution_count": null,
   "metadata": {
    "pycharm": {
     "name": "#%%\n"
    }
   },
   "outputs": [],
   "source": [
    "categorical_variable = 'optimizer'\n",
    "print(AUC_results_df[categorical_variable].unique())\n",
    "fig, [[ax1, ax2], [ax3, ax4]] = plt.subplots(2, 2, figsize=(10, 5))\n",
    "\n",
    "# plot train and val AUC for each variable\n",
    "sns.violinplot(x=categorical_variable, y='auc_train', data=AUC_results_df, ax=ax1, alpha=0.1, size=2.5, palette='Spectral')\n",
    "sns.violinplot(x=categorical_variable, y='auc_val', data=AUC_results_df, ax=ax2, alpha=0.1, size=2.5, palette='Spectral')\n",
    "\n",
    "\n",
    "# plot train and val matthews for each variable\n",
    "sns.violinplot(x=categorical_variable, y='matthews_train', data=AUC_results_df, ax=ax3, alpha=0.1, size=2.5, palette='Spectral')\n",
    "sns.violinplot(x=categorical_variable, y='matthews_val', data=AUC_results_df, ax=ax4, alpha=0.1, size=2.5, palette='Spectral')\n",
    "\n",
    "fig.set_tight_layout(True)\n",
    "\n",
    "# set figure title\n",
    "fig.suptitle(f'LSTM results by {categorical_variable}')\n",
    "\n",
    "plt.show()"
   ]
  },
  {
   "cell_type": "code",
   "execution_count": null,
   "metadata": {
    "pycharm": {
     "name": "#%%\n"
    }
   },
   "outputs": [],
   "source": [
    "categorical_variable = 'units'\n",
    "print(AUC_results_df[categorical_variable].unique())\n",
    "fig, [[ax1, ax2], [ax3, ax4]] = plt.subplots(2, 2, figsize=(10, 10))\n",
    "\n",
    "# plot train and val AUC for each variable\n",
    "sns.violinplot(x=categorical_variable, y='auc_train', data=AUC_results_df, ax=ax1, alpha=0.1, size=2.5, palette='Spectral')\n",
    "sns.violinplot(x=categorical_variable, y='auc_val', data=AUC_results_df, ax=ax2, alpha=0.1, size=2.5, palette='Spectral')\n",
    "\n",
    "\n",
    "# plot train and val matthews for each variable\n",
    "sns.violinplot(x=categorical_variable, y='matthews_train', data=AUC_results_df, ax=ax3, alpha=0.1, size=2.5, palette='Spectral')\n",
    "sns.violinplot(x=categorical_variable, y='matthews_val', data=AUC_results_df, ax=ax4, alpha=0.1, size=2.5, palette='Spectral')\n",
    "\n",
    "fig.set_tight_layout(True)\n",
    "\n",
    "# set figure title\n",
    "fig.suptitle(f'LSTM results by {categorical_variable}')\n",
    "\n",
    "plt.show()"
   ]
  },
  {
   "cell_type": "code",
   "execution_count": null,
   "metadata": {
    "pycharm": {
     "name": "#%%\n"
    }
   },
   "outputs": [],
   "source": [
    "AUC_results_df.head()"
   ]
  },
  {
   "cell_type": "markdown",
   "metadata": {
    "collapsed": false,
    "pycharm": {
     "name": "#%% md\n"
    }
   },
   "source": [
    "## Finding best overall parameters\n",
    "\n",
    "(best mean performance over all folds)"
   ]
  },
  {
   "cell_type": "code",
   "execution_count": null,
   "metadata": {
    "pycharm": {
     "name": "#%%\n"
    }
   },
   "outputs": [],
   "source": [
    "# get mean auc_val of parameter combination over all CV folds (cv_num)\n",
    "AUC_results_df.groupby(['activation', 'batch', 'data', 'layers', 'masking', 'units', 'optimizer', 'outcome', 'dropout'])['auc_val'].median()"
   ]
  },
  {
   "cell_type": "code",
   "execution_count": null,
   "metadata": {
    "pycharm": {
     "name": "#%%\n"
    }
   },
   "outputs": [],
   "source": [
    "AUC_results_df.groupby(['activation', 'batch', 'data', 'layers', 'masking', 'units', 'optimizer', 'outcome', 'dropout'])['matthews_val'].median()"
   ]
  },
  {
   "cell_type": "code",
   "execution_count": null,
   "metadata": {
    "pycharm": {
     "name": "#%%\n"
    }
   },
   "outputs": [],
   "source": [
    "overall_best_parameter_result = AUC_results_df[\n",
    "    (AUC_results_df['data'] == 'unchanged') &\n",
    "    (AUC_results_df['dropout'] == 0.2) &\n",
    "    (AUC_results_df['layers'] == 2) &\n",
    "    (AUC_results_df['optimizer'] == 'RMSprop') &\n",
    "    (AUC_results_df['units'] == 128)\n",
    "]\n",
    "overall_best_parameter_result"
   ]
  },
  {
   "cell_type": "markdown",
   "metadata": {
    "collapsed": false,
    "pycharm": {
     "name": "#%% md\n"
    }
   },
   "source": [
    "## Best fold"
   ]
  },
  {
   "cell_type": "code",
   "execution_count": null,
   "metadata": {
    "pycharm": {
     "name": "#%%\n"
    }
   },
   "outputs": [],
   "source": [
    "AUC_results_df"
   ]
  },
  {
   "cell_type": "markdown",
   "metadata": {
    "collapsed": false,
    "pycharm": {
     "name": "#%% md\n"
    }
   },
   "source": [
    "## Best individual parameters\n",
    "\n",
    "(by best individually performing parameter)"
   ]
  },
  {
   "cell_type": "code",
   "execution_count": null,
   "metadata": {
    "pycharm": {
     "name": "#%%\n"
    }
   },
   "outputs": [],
   "source": [
    "individual_best_parameter_result = AUC_results_df[\n",
    "    (AUC_results_df['data'] == 'unchanged') &\n",
    "    (AUC_results_df['dropout'] == 0.6) &\n",
    "    (AUC_results_df['layers'] == 1) &\n",
    "    (AUC_results_df['optimizer'] == 'RMSprop') &\n",
    "    (AUC_results_df['units'] == 128)\n",
    "]\n",
    "individual_best_parameter_result"
   ]
  },
  {
   "cell_type": "code",
   "execution_count": null,
   "metadata": {
    "pycharm": {
     "name": "#%%\n"
    }
   },
   "outputs": [],
   "source": [
    "individual_best_parameter_result['matthews_val'].median(), individual_best_parameter_result['auc_val'].median()"
   ]
  },
  {
   "cell_type": "code",
   "execution_count": null,
   "metadata": {
    "pycharm": {
     "name": "#%%\n"
    }
   },
   "outputs": [],
   "source": [
    "individual_best_parameter_CV_df = CV_results_df[\n",
    "    (CV_results_df['data'] == 'unchanged') &\n",
    "    (CV_results_df['dropout'] == 0.6) &\n",
    "    (CV_results_df['layers'] == 1) &\n",
    "    (CV_results_df['optimizer'] == 'RMSprop') &\n",
    "    (CV_results_df['units'] == 128)\n",
    "]\n"
   ]
  },
  {
   "cell_type": "code",
   "execution_count": null,
   "metadata": {
    "pycharm": {
     "name": "#%%\n"
    }
   },
   "outputs": [],
   "source": [
    "individual_best_parameter_CV_df.head()"
   ]
  },
  {
   "cell_type": "code",
   "execution_count": null,
   "metadata": {
    "pycharm": {
     "name": "#%%\n"
    }
   },
   "outputs": [],
   "source": []
  }
 ],
 "metadata": {
  "kernelspec": {
   "display_name": "Python 3",
   "language": "python",
   "name": "python3"
  },
  "language_info": {
   "codemirror_mode": {
    "name": "ipython",
    "version": 2
   },
   "file_extension": ".py",
   "mimetype": "text/x-python",
   "name": "python",
   "nbconvert_exporter": "python",
   "pygments_lexer": "ipython2",
   "version": "2.7.6"
  }
 },
 "nbformat": 4,
 "nbformat_minor": 0
}
