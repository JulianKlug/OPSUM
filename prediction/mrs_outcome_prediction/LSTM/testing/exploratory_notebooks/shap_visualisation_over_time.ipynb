{
 "cells": [
  {
   "cell_type": "markdown",
   "metadata": {
    "collapsed": false
   },
   "source": [
    "# Exploring shap value visualisation over time\n",
    "\n",
    "Valid version is last"
   ]
  },
  {
   "cell_type": "code",
   "execution_count": null,
   "metadata": {},
   "outputs": [],
   "source": [
    "import numpy as np\n",
    "import seaborn as sns\n",
    "import matplotlib.pyplot as plt\n",
    "from random import randint\n",
    "import pandas as pd\n",
    "import pickle\n",
    "from tqdm import tqdm\n",
    "from prediction.mrs_outcome_prediction.LSTM.testing.shap_helper_functions import check_shap_version_compatibility"
   ]
  },
  {
   "cell_type": "code",
   "execution_count": null,
   "metadata": {},
   "outputs": [],
   "source": [
    "\n",
    "# Shap values require very specific versions\n",
    "check_shap_version_compatibility()"
   ]
  },
  {
   "cell_type": "code",
   "execution_count": null,
   "metadata": {},
   "outputs": [],
   "source": [
    "model_weights_path = '/Users/jk1/temp/opsum_prediction_output/LSTM_72h_testing/2022_09_07_1744/test_LSTM_sigmoid_all_unchanged_0.2_2_True_RMSprop_3M mRS 0-2_128_4/sigmoid_all_unchanged_0.2_2_True_RMSprop_3M mRS 0-2_128_4.hdf5'\n",
    "features_path = '/Users/jk1/temp/opsum_prepro_output/preprocessed_features_02092022_083046.csv'\n",
    "labels_path = '/Users/jk1/temp/opsum_prepro_output/preprocessed_outcomes_02092022_083046.csv'\n",
    "normalisation_parameters_path = '/Users/jk1/temp/opsum_prepro_output/logs_02092022_083046/normalisation_parameters.csv'\n",
    "shap_values_path = \"/Users/jk1/temp/opsum_prediction_output/LSTM_72h_testing/2022_09_07_1744/deep_explainer_shap_values.pkl\"\n"
   ]
  },
  {
   "cell_type": "code",
   "execution_count": null,
   "metadata": {},
   "outputs": [],
   "source": [
    "outcome = '3M mRS 0-2'\n",
    "masking = True\n",
    "units = 128\n",
    "activation = 'sigmoid'\n",
    "dropout = 0.2\n",
    "layers = 2\n",
    "optimizer = 'RMSprop'\n",
    "seed = 42\n",
    "test_size = 0.20\n",
    "override_masking_value = False"
   ]
  },
  {
   "cell_type": "code",
   "execution_count": null,
   "metadata": {},
   "outputs": [],
   "source": [
    "from prediction.mrs_outcome_prediction.data_loading.data_formatting import format_to_2d_table_with_time\n",
    "\n",
    "# load the dataset\n",
    "X, y = format_to_2d_table_with_time(feature_df_path=features_path, outcome_df_path=labels_path,\n",
    "                                    outcome=outcome)\n"
   ]
  },
  {
   "cell_type": "code",
   "execution_count": null,
   "metadata": {},
   "outputs": [],
   "source": [
    "n_time_steps = X.relative_sample_date_hourly_cat.max() + 1\n",
    "n_channels = X.sample_label.unique().shape[0]"
   ]
  },
  {
   "cell_type": "code",
   "execution_count": null,
   "metadata": {},
   "outputs": [],
   "source": [
    "from sklearn.model_selection import train_test_split\n",
    "from prediction.mrs_outcome_prediction.data_loading.data_formatting import features_to_numpy, \\\n",
    "    link_patient_id_to_outcome, numpy_to_lookup_table\n",
    "\n",
    "# Reduce every patient to a single outcome (to avoid duplicates)\n",
    "all_pids_with_outcome = link_patient_id_to_outcome(y, outcome)\n",
    "pid_train, pid_test, y_pid_train, y_pid_test = train_test_split(all_pids_with_outcome.patient_id.tolist(),\n",
    "                                                                all_pids_with_outcome.outcome.tolist(),\n",
    "                                                                stratify=all_pids_with_outcome.outcome.tolist(),\n",
    "                                                                test_size=test_size,\n",
    "                                                                random_state=seed)\n",
    "\n",
    "test_X_df = X[X.patient_id.isin(pid_test)]\n",
    "test_y_df = y[y.patient_id.isin(pid_test)]\n",
    "train_X_df = X[X.patient_id.isin(pid_train)]\n",
    "train_y_df = y[y.patient_id.isin(pid_train)]\n",
    "\n",
    "train_X_np = features_to_numpy(train_X_df,\n",
    "                                 ['case_admission_id', 'relative_sample_date_hourly_cat', 'sample_label', 'value'])\n",
    "test_X_np = features_to_numpy(test_X_df,\n",
    "                              ['case_admission_id', 'relative_sample_date_hourly_cat', 'sample_label', 'value'])\n",
    "train_y_np = np.array([train_y_df[train_y_df.case_admission_id == cid].outcome.values[0] for cid in\n",
    "                         train_X_np[:, 0, 0, 0]]).astype('float32')\n",
    "test_y_np = np.array([test_y_df[test_y_df.case_admission_id == cid].outcome.values[0] for cid in\n",
    "                      test_X_np[:, 0, 0, 0]]).astype('float32')\n",
    "\n",
    "# create look-up table for case_admission_ids, sample_labels and relative_sample_date_hourly_cat\n",
    "test_features_lookup_table = numpy_to_lookup_table(test_X_np)\n",
    "train_features_lookup_table = numpy_to_lookup_table(train_X_np)\n",
    "\n",
    "# Remove the case_admission_id, sample_label, and time_step_label columns from the data\n",
    "test_X_np = test_X_np[:, :, :, -1].astype('float32')\n",
    "train_X_np = train_X_np[:, :, :, -1].astype('float32')"
   ]
  },
  {
   "cell_type": "markdown",
   "metadata": {
    "collapsed": false
   },
   "source": [
    "## Prediction at every timepoint for a given subject"
   ]
  },
  {
   "cell_type": "code",
   "execution_count": null,
   "metadata": {},
   "outputs": [],
   "source": [
    "from prediction.utils.scoring import precision, recall, matthews\n",
    "from prediction.mrs_outcome_prediction.LSTM.LSTM import lstm_generator\n",
    "\n",
    "subj = randint(0, len(test_X_np))\n",
    "\n",
    "subj_pred_over_ts = []\n",
    "\n",
    "for ts in tqdm(range(n_time_steps)):\n",
    "    modified_time_steps = ts + 1\n",
    "    model = lstm_generator(x_time_shape=modified_time_steps, x_channels_shape=n_channels, masking=masking, n_units=units,\n",
    "                           activation=activation, dropout=dropout, n_layers=layers)\n",
    "\n",
    "    model.compile(loss='binary_crossentropy', optimizer=optimizer,\n",
    "                  metrics=['accuracy', precision, recall, matthews])\n",
    "\n",
    "    model.load_weights(model_weights_path)\n",
    "\n",
    "    subj_X_with_first_n_ts = test_X_np[subj:subj+1,0:modified_time_steps,:]\n",
    "\n",
    "    y_pred = model.predict(subj_X_with_first_n_ts)\n",
    "    subj_pred_over_ts.append(y_pred[0][0])\n"
   ]
  },
  {
   "cell_type": "code",
   "execution_count": null,
   "metadata": {},
   "outputs": [],
   "source": [
    "len(subj_pred_over_ts)"
   ]
  },
  {
   "cell_type": "markdown",
   "metadata": {
    "collapsed": false
   },
   "source": [
    "## Find shap explanations for every timepoint for this subject"
   ]
  },
  {
   "cell_type": "code",
   "execution_count": null,
   "metadata": {},
   "outputs": [],
   "source": [
    "with open(shap_values_path, 'rb') as handle:\n",
    "    shap_values = pickle.load(handle)"
   ]
  },
  {
   "cell_type": "code",
   "execution_count": null,
   "metadata": {},
   "outputs": [],
   "source": [
    "features = list(test_features_lookup_table['sample_label'].keys())"
   ]
  },
  {
   "cell_type": "code",
   "execution_count": null,
   "metadata": {},
   "outputs": [],
   "source": [
    "shap_values[0][subj, 33].shape"
   ]
  },
  {
   "cell_type": "markdown",
   "metadata": {
    "collapsed": false
   },
   "source": [
    "Taking shap values from every individual timestep (actually model as access to aggregated history before ts as well)"
   ]
  },
  {
   "cell_type": "code",
   "execution_count": null,
   "metadata": {},
   "outputs": [],
   "source": [
    "selected_features_over_ts = []\n",
    "selected_features_shap_over_ts = []\n",
    "for ts in tqdm(range(n_time_steps)):\n",
    "    # find index of 3 features with biggest positive shap impart\n",
    "    selected_positive_features = shap_values[0][subj, ts].argsort()[-3:][::-1]\n",
    "    np.array(features)[selected_positive_features]\n",
    "\n",
    "    # find index of 3 features with biggest negative shap impart\n",
    "    selected_negative_features = shap_values[0][subj, ts].argsort()[:3][::-1]\n",
    "    np.array(features)[selected_negative_features]\n",
    "\n",
    "    selected_features = np.concatenate((selected_positive_features, selected_negative_features))\n",
    "    selected_features_over_ts.append(selected_features)\n",
    "\n",
    "    selected_features_shap_over_ts.append(shap_values[0][subj, ts, selected_features])\n",
    "\n"
   ]
  },
  {
   "cell_type": "code",
   "execution_count": null,
   "metadata": {},
   "outputs": [],
   "source": [
    "len(set(flatten(selected_features_over_ts)))"
   ]
  },
  {
   "cell_type": "code",
   "execution_count": null,
   "metadata": {},
   "outputs": [],
   "source": [
    "fig = plt.figure(figsize=(15,10))\n",
    "\n",
    "timestep_axis = np.array(range(n_time_steps))\n",
    "ax = sns.lineplot(x=timestep_axis, y=subj_pred_over_ts)\n",
    "\n",
    "k = 5\n",
    "alpha = 0.3\n",
    "positive_color_palette = ['#d6fff6', '#231651', '#4DCCBD']\n",
    "negative_color_palette = ['#EEEBD0', '#EBB3A9', '#E87EA1']\n",
    "\n",
    "positive_feature1 = subj_pred_over_ts + k * np.array(selected_features_shap_over_ts)[:, 0]\n",
    "ax.fill_between(timestep_axis, subj_pred_over_ts, positive_feature1, color=positive_color_palette[0], alpha=alpha)\n",
    "positive_feature2 = positive_feature1 + k * np.array(selected_features_shap_over_ts)[:, 1]\n",
    "ax.fill_between(timestep_axis, subj_pred_over_ts, positive_feature2, color=positive_color_palette[1], alpha=alpha)\n",
    "positive_feature3 = positive_feature2 + k * np.array(selected_features_shap_over_ts)[:, 2]\n",
    "ax.fill_between(timestep_axis, subj_pred_over_ts, positive_feature3, color=positive_color_palette[2], alpha=alpha)\n",
    "\n",
    "negative_feature1 = subj_pred_over_ts + k * np.array(selected_features_shap_over_ts)[:, 3]\n",
    "ax.fill_between(timestep_axis, negative_feature1, subj_pred_over_ts, color=negative_color_palette[0], alpha=alpha)\n",
    "negative_feature2 = negative_feature1 + k * np.array(selected_features_shap_over_ts)[:, 4]\n",
    "ax.fill_between(timestep_axis, negative_feature2, subj_pred_over_ts, color=negative_color_palette[1], alpha=alpha)\n",
    "negative_feature3 = negative_feature2 + k * np.array(selected_features_shap_over_ts)[:, 5]\n",
    "ax.fill_between(timestep_axis, negative_feature3, subj_pred_over_ts, color=negative_color_palette[2], alpha=alpha)\n",
    "\n",
    "ax.set_title(f'Predictions for subject {subj} of test set along time', fontsize=20)\n",
    "ax.set_xlabel('Time from admission (hours)', fontsize=15)\n",
    "ax.set_ylabel('Probability of favorable outcome', fontsize=15)\n",
    "\n",
    "plt.plot()"
   ]
  },
  {
   "cell_type": "markdown",
   "metadata": {
    "collapsed": false
   },
   "source": [
    "Taking shap values for summed timestep (individual timestep + summed history before it)\n"
   ]
  },
  {
   "cell_type": "code",
   "execution_count": null,
   "metadata": {},
   "outputs": [],
   "source": [
    "selected_features_over_ts = []\n",
    "selected_features_shap_over_ts = []\n",
    "\n",
    "subj_pred_df_columns = ['timestep', 'prediction', 'shap_feature_id', 'shap_value']\n",
    "subj_pred_df = pd.DataFrame(columns=subj_pred_df_columns)\n",
    "\n",
    "for ts in tqdm(range(n_time_steps)):\n",
    "    modified_time_steps = ts + 1\n",
    "\n",
    "    # find index of 3 features with biggest positive shap impart\n",
    "    selected_positive_features = shap_values[0][subj, 0:modified_time_steps].sum(axis=0).argsort()[-3:][::-1]\n",
    "    np.array(features)[selected_positive_features]\n",
    "\n",
    "    # find index of 3 features with biggest negative shap impart\n",
    "    selected_negative_features = shap_values[0][subj, 0:modified_time_steps].sum(axis=0).argsort()[:3][::-1]\n",
    "    np.array(features)[selected_negative_features]\n",
    "\n",
    "    selected_features = np.concatenate((selected_positive_features, selected_negative_features))\n",
    "    selected_features_over_ts.append(selected_features)\n",
    "\n",
    "    subj_shap_values_at_ts = shap_values[0][subj, 0:modified_time_steps, selected_features].sum(axis=1)\n",
    "    selected_features_shap_over_ts.append(subj_shap_values_at_ts)\n",
    "\n",
    "    subj_pred_df_ts = pd.DataFrame([selected_features, subj_shap_values_at_ts]).T\n",
    "    subj_pred_df_ts.columns = subj_pred_df_columns[-2:]\n",
    "    subj_pred_df_ts['timestep'] = ts\n",
    "    subj_pred_df_ts['prediction'] = subj_pred_over_ts[ts]\n",
    "    subj_pred_df = subj_pred_df.append(subj_pred_df_ts)\n"
   ]
  },
  {
   "cell_type": "code",
   "execution_count": null,
   "metadata": {},
   "outputs": [],
   "source": [
    "len(set(flatten(selected_features_over_ts)))\n"
   ]
  },
  {
   "cell_type": "code",
   "execution_count": null,
   "metadata": {},
   "outputs": [],
   "source": [
    "fig = plt.figure(figsize=(15,10))\n",
    "\n",
    "timestep_axis = np.array(range(n_time_steps))\n",
    "ax = sns.lineplot(x=timestep_axis, y=subj_pred_over_ts)\n",
    "\n",
    "k = 1\n",
    "alpha = 0.3\n",
    "positive_color_palette = ['#d6fff6', '#231651', '#4DCCBD']\n",
    "negative_color_palette = ['#EEEBD0', '#EBB3A9', '#E87EA1']\n",
    "\n",
    "positive_feature1 = subj_pred_over_ts + k * np.array(selected_features_shap_over_ts)[:, 0]\n",
    "ax.fill_between(timestep_axis, subj_pred_over_ts, positive_feature1, color=positive_color_palette[0], alpha=alpha)\n",
    "positive_feature2 = positive_feature1 + k * np.array(selected_features_shap_over_ts)[:, 1]\n",
    "ax.fill_between(timestep_axis, subj_pred_over_ts, positive_feature2, color=positive_color_palette[1], alpha=alpha)\n",
    "positive_feature3 = positive_feature2 + k * np.array(selected_features_shap_over_ts)[:, 2]\n",
    "ax.fill_between(timestep_axis, subj_pred_over_ts, positive_feature3, color=positive_color_palette[2], alpha=alpha)\n",
    "\n",
    "negative_feature1 = subj_pred_over_ts + k * np.array(selected_features_shap_over_ts)[:, 3]\n",
    "ax.fill_between(timestep_axis, negative_feature1, subj_pred_over_ts, color=negative_color_palette[0], alpha=alpha)\n",
    "negative_feature2 = negative_feature1 + k * np.array(selected_features_shap_over_ts)[:, 4]\n",
    "ax.fill_between(timestep_axis, negative_feature2, subj_pred_over_ts, color=negative_color_palette[1], alpha=alpha)\n",
    "negative_feature3 = negative_feature2 + k * np.array(selected_features_shap_over_ts)[:, 5]\n",
    "ax.fill_between(timestep_axis, negative_feature3, subj_pred_over_ts, color=negative_color_palette[2], alpha=alpha)\n",
    "\n",
    "ax.set_title(f'Predictions for subject {subj} of test set along time', fontsize=20)\n",
    "ax.set_xlabel('Time from admission (hours)', fontsize=15)\n",
    "ax.set_ylabel('Probability of favorable outcome', fontsize=15)\n",
    "\n",
    "plt.plot()"
   ]
  },
  {
   "cell_type": "markdown",
   "metadata": {
    "collapsed": false
   },
   "source": [
    "Plot every individual feature"
   ]
  },
  {
   "cell_type": "code",
   "execution_count": null,
   "metadata": {},
   "outputs": [],
   "source": [
    "subj_pred_df.head()"
   ]
  },
  {
   "cell_type": "code",
   "execution_count": null,
   "metadata": {},
   "outputs": [],
   "source": [
    "n_features = 3\n",
    "positive_features = shap_values[0][subj, :,:].sum(axis=0).argsort()[-n_features :]\n",
    "negative_features = shap_values[0][subj, :,:].sum(axis=0).argsort()[:n_features]\n",
    "selected_features = np.concatenate((positive_features, negative_features))\n",
    "\n"
   ]
  },
  {
   "cell_type": "code",
   "execution_count": null,
   "metadata": {},
   "outputs": [],
   "source": [
    "shap_values[0][subj, :, selected_features]"
   ]
  },
  {
   "cell_type": "code",
   "execution_count": null,
   "metadata": {},
   "outputs": [],
   "source": [
    "fig = plt.figure(figsize=(15,10))\n",
    "\n",
    "k=1\n",
    "alpha=0.6\n",
    "\n",
    "timestep_axis = np.array(range(n_time_steps))\n",
    "\n",
    "positive_color_palette = sns.color_palette(\"mako\", n_colors=len(positive_features))\n",
    "negative_color_palette = sns.color_palette(\"flare_r\", n_colors=len(negative_features))\n",
    "\n",
    "\n",
    "# temp = subj_pred_df[['timestep', 'prediction']].drop_duplicates().reset_index(drop=True)\n",
    "# ax1 = sns.lineplot(x='timestep', y='prediction', data=temp)\n",
    "\n",
    "timestep_axis = np.array(range(n_time_steps))\n",
    "ax = sns.lineplot(x=timestep_axis, y=subj_pred_over_ts)\n",
    "\n",
    "# plot positive features\n",
    "baseline = subj_pred_over_ts\n",
    "for i, feature in enumerate(positive_features):\n",
    "    positive_feature = baseline + k * shap_values[0][subj, :, feature]\n",
    "    ax.fill_between(timestep_axis, baseline, positive_feature, color=positive_color_palette[i], alpha=alpha, label=features[feature])\n",
    "    baseline = positive_feature\n",
    "\n",
    "\n",
    "# plot negative features\n",
    "baseline = subj_pred_over_ts\n",
    "for i, feature in enumerate(negative_features):\n",
    "    negative_feature = baseline + k * shap_values[0][subj, :, feature]\n",
    "    ax.fill_between(timestep_axis, negative_feature, baseline, color=negative_color_palette[i], alpha=alpha, label=features[feature])\n",
    "    baseline = negative_feature\n",
    "\n",
    "ax.legend()"
   ]
  },
  {
   "cell_type": "markdown",
   "metadata": {
    "collapsed": false
   },
   "source": [
    "Normalise shap values by substracting preceding value"
   ]
  },
  {
   "cell_type": "code",
   "execution_count": null,
   "metadata": {},
   "outputs": [],
   "source": [
    "fig = plt.figure(figsize=(15,10))\n",
    "\n",
    "k=10\n",
    "alpha=0.6\n",
    "\n",
    "timestep_axis = np.array(range(n_time_steps))\n",
    "\n",
    "positive_color_palette = sns.color_palette(\"mako\", n_colors=len(positive_features))\n",
    "negative_color_palette = sns.color_palette(\"flare_r\", n_colors=len(negative_features))\n",
    "\n",
    "timestep_axis = np.array(range(n_time_steps))\n",
    "ax = sns.lineplot(x=timestep_axis, y=subj_pred_over_ts)\n",
    "\n",
    "# normalise shap_values\n",
    "normalised_subj_shap = np.concatenate([shap_values[0][subj,0:1,:], np.diff(shap_values[0][subj], n=1, axis=0)])\n",
    "\n",
    "# plot positive features\n",
    "baseline = subj_pred_over_ts\n",
    "for i, feature in enumerate(positive_features):\n",
    "    positive_feature = baseline + k * normalised_subj_shap[:, feature]\n",
    "    ax.fill_between(timestep_axis, baseline, positive_feature, color=positive_color_palette[i], alpha=alpha, label=features[feature])\n",
    "    baseline = positive_feature\n",
    "\n",
    "\n",
    "# plot negative features\n",
    "baseline = subj_pred_over_ts\n",
    "for i, feature in enumerate(negative_features):\n",
    "    negative_feature = baseline + k * normalised_subj_shap[:, feature]\n",
    "    ax.fill_between(timestep_axis, negative_feature, baseline, color=negative_color_palette[i], alpha=alpha, label=features[feature])\n",
    "    baseline = negative_feature\n",
    "\n",
    "ax.legend()"
   ]
  },
  {
   "cell_type": "markdown",
   "metadata": {
    "collapsed": false
   },
   "source": [
    "Shap values should be normalised so that the total at each timestep is equal to divergence of timestep"
   ]
  },
  {
   "cell_type": "code",
   "execution_count": null,
   "metadata": {},
   "outputs": [],
   "source": [
    "diff_from_baseline_prediction_at_ts = np.array(subj_pred_over_ts) - 0.5\n",
    "sequential_diff_from_baseline = np.concatenate([diff_from_baseline_prediction_at_ts[0:1], np.diff(diff_from_baseline_prediction_at_ts, n=1, axis=0)])\n",
    "normalised_subj_shap = ((shap_values[0][subj,:,:].T / np.abs(shap_values[0][subj,:,:].sum(axis=-1))) * np.abs(sequential_diff_from_baseline)).T\n",
    "\n"
   ]
  },
  {
   "cell_type": "code",
   "execution_count": null,
   "metadata": {},
   "outputs": [],
   "source": [
    "# temp = np.concatenate([shap_values[0][subj,0:1,:], np.diff(shap_values[0][subj], n=1, axis=0)])\n",
    "# normalised_subj_shap = ((temp[:,:].T / temp[:,:].sum(axis=-1)) * (np.array(subj_pred_over_ts) - 0.5)).T"
   ]
  },
  {
   "cell_type": "code",
   "execution_count": null,
   "metadata": {},
   "outputs": [],
   "source": [
    "fig = plt.figure(figsize=(15,10))\n",
    "\n",
    "k=1\n",
    "alpha=0.3\n",
    "\n",
    "timestep_axis = np.array(range(n_time_steps))\n",
    "\n",
    "positive_color_palette = sns.color_palette(\"mako\", n_colors=len(positive_features))\n",
    "negative_color_palette = sns.color_palette(\"flare_r\", n_colors=len(negative_features))\n",
    "\n",
    "timestep_axis = np.array(range(n_time_steps))\n",
    "ax = sns.lineplot(x=timestep_axis, y=subj_pred_over_ts)\n",
    "\n",
    "# plot positive features\n",
    "baseline = subj_pred_over_ts\n",
    "for i, feature in enumerate(positive_features):\n",
    "    positive_feature = baseline + k * normalised_subj_shap[:, feature]\n",
    "    ax.fill_between(timestep_axis, baseline, positive_feature, color=positive_color_palette[i], alpha=alpha, label=features[feature])\n",
    "    baseline = positive_feature\n",
    "\n",
    "\n",
    "# plot negative features\n",
    "baseline = subj_pred_over_ts\n",
    "for i, feature in enumerate(negative_features):\n",
    "    negative_feature = baseline + k * normalised_subj_shap[:, feature]\n",
    "    ax.fill_between(timestep_axis, negative_feature, baseline, color=negative_color_palette[i], alpha=alpha, label=features[feature])\n",
    "    baseline = negative_feature\n",
    "\n",
    "ax.legend()\n",
    "\n",
    "ax.set_title(f'Predictions for subject {subj} of test set along time', fontsize=20)\n",
    "ax.set_xlabel('Time from admission (hours)', fontsize=15)\n",
    "ax.set_ylabel('Probability of favorable outcome', fontsize=15)\n",
    "\n",
    "plt.plot()"
   ]
  },
  {
   "cell_type": "markdown",
   "metadata": {
    "collapsed": false
   },
   "source": [
    "## Use shap predictions computed with model for each timepoint"
   ]
  },
  {
   "cell_type": "code",
   "execution_count": null,
   "metadata": {},
   "outputs": [],
   "source": [
    "shap_over_time_path = '/Users/jk1/temp/opsum_prediction_output/LSTM_72h_testing/2022_09_07_1744/deep_explainer_shap_values_over_ts.pkl'"
   ]
  },
  {
   "cell_type": "code",
   "execution_count": null,
   "metadata": {},
   "outputs": [],
   "source": [
    "with open(shap_over_time_path, 'rb') as handle:\n",
    "    shap_values_over_time = pickle.load(handle)"
   ]
  },
  {
   "cell_type": "code",
   "execution_count": null,
   "metadata": {},
   "outputs": [],
   "source": [
    "cumulative_shap_values_over_time = np.array([shap_values_over_time[ts][0].sum(axis=1) for ts in range(n_time_steps)])\n",
    "cumulative_shap_values_over_time.shape"
   ]
  },
  {
   "cell_type": "code",
   "execution_count": null,
   "metadata": {},
   "outputs": [],
   "source": [
    "n_features = 3\n",
    "# find index of 3 features with biggest positive shap impart\n",
    "selected_positive_features = cumulative_shap_values_over_time[:, subj].sum(axis=0).argsort()[-n_features:]\n",
    "\n",
    "# find index of 3 features with biggest negative shap impart\n",
    "selected_negative_features = cumulative_shap_values_over_time[:, subj].sum(axis=0).argsort()[:n_features]\n",
    "\n",
    "selected_features = np.concatenate((selected_positive_features, selected_negative_features))\n",
    "\n"
   ]
  },
  {
   "cell_type": "code",
   "execution_count": null,
   "metadata": {},
   "outputs": [],
   "source": [
    "fig = plt.figure(figsize=(15,10))\n",
    "\n",
    "k=1\n",
    "alpha=0.3\n",
    "\n",
    "timestep_axis = np.array(range(n_time_steps))\n",
    "\n",
    "positive_color_palette = sns.color_palette(\"mako\", n_colors=len(positive_features))\n",
    "negative_color_palette = sns.color_palette(\"flare_r\", n_colors=len(negative_features))\n",
    "\n",
    "timestep_axis = np.array(range(n_time_steps))\n",
    "ax = sns.lineplot(x=timestep_axis, y=subj_pred_over_ts)\n",
    "\n",
    "\n",
    "# todo: depending on sign of feature change direction of addition\n",
    "pos_baseline = subj_pred_over_ts\n",
    "neg_baseline = subj_pred_over_ts\n",
    "pos_count = 0\n",
    "neg_count = 0\n",
    "for i, feature in enumerate(selected_features):\n",
    "    subj_cumulative_shap_value_over_time = cumulative_shap_values_over_time[:, subj, feature]\n",
    "    positive_portion = (subj_cumulative_shap_value_over_time > 0)\n",
    "    negative_portion = (subj_cumulative_shap_value_over_time < 0)\n",
    "\n",
    "    pos_function = subj_cumulative_shap_value_over_time.copy()\n",
    "    pos_function[negative_portion] = 0\n",
    "\n",
    "    neg_function = subj_cumulative_shap_value_over_time.copy()\n",
    "    neg_function[positive_portion] = 0\n",
    "\n",
    "    if feature in selected_positive_features:\n",
    "        feature_color = positive_color_palette[pos_count]\n",
    "        pos_count += 1\n",
    "    else:\n",
    "        feature_color = negative_color_palette[neg_count]\n",
    "        neg_count += 1\n",
    "\n",
    "    positive_feature = pos_baseline + k * pos_function\n",
    "    ax.fill_between(timestep_axis, pos_baseline, positive_feature, color=feature_color, alpha=alpha, label=features[feature])\n",
    "    pos_baseline = positive_feature\n",
    "\n",
    "    negative_feature = neg_baseline + k * neg_function\n",
    "    ax.fill_between(timestep_axis, negative_feature, neg_baseline, color=feature_color, alpha=alpha)\n",
    "    neg_baseline = negative_feature\n",
    "\n",
    "ax.legend()\n",
    "\n",
    "ax.set_title(f'Predictions for subject {subj} of test set along time', fontsize=20)\n",
    "ax.set_xlabel('Time from admission (hours)', fontsize=15)\n",
    "ax.set_ylabel('Probability of favorable outcome', fontsize=15)\n",
    "\n",
    "plt.plot()"
   ]
  },
  {
   "cell_type": "code",
   "execution_count": null,
   "metadata": {},
   "outputs": [],
   "source": [
    "normalisation_parameters_df = pd.read_csv(normalisation_parameters_path)"
   ]
  },
  {
   "cell_type": "code",
   "execution_count": null,
   "metadata": {},
   "outputs": [],
   "source": [
    "def reverse_normalisation_for_subj(subj_df, normalisation_parameters_df):\n",
    "    for variable in normalisation_parameters_df.variable.unique():\n",
    "        if variable not in subj_df.columns:\n",
    "            continue\n",
    "\n",
    "        temp = subj_df[variable].copy()\n",
    "        std = normalisation_parameters_df[normalisation_parameters_df.variable == variable].original_std.iloc[0]\n",
    "        mean = normalisation_parameters_df[normalisation_parameters_df.variable == variable].original_mean.iloc[0]\n",
    "        temp = (temp * std) + mean\n",
    "        subj_df[variable] = temp\n",
    "\n",
    "    return subj_df"
   ]
  },
  {
   "cell_type": "code",
   "execution_count": null,
   "metadata": {},
   "outputs": [],
   "source": [
    "non_norm_x_subj_df = reverse_normalisation_for_subj(pd.DataFrame(data=test_X_np[subj], columns = features), normalisation_parameters_df)\n"
   ]
  },
  {
   "cell_type": "code",
   "execution_count": null,
   "metadata": {},
   "outputs": [],
   "source": [
    "plt.figure(figsize=(15, 12))\n",
    "plt.subplots_adjust(hspace=0.2)\n",
    "plt.suptitle(\"Selected features\", fontsize=18, y=0.95)\n",
    "\n",
    "# set number of columns (use 3 to demonstrate the change)\n",
    "ncols = 3\n",
    "# calculate number of rows\n",
    "nrows = len(selected_features) // ncols + (len(selected_features) % ncols > 0)\n",
    "\n",
    "pos_count = 0\n",
    "neg_count = 0\n",
    "# loop through the length of features and keep track of index\n",
    "for n, feature in enumerate(selected_features):\n",
    "    # add a new subplot iteratively using nrows and cols\n",
    "    ax = plt.subplot(nrows, ncols, n + 1)\n",
    "\n",
    "    if feature in selected_positive_features:\n",
    "        feature_color = positive_color_palette[pos_count]\n",
    "        pos_count += 1\n",
    "    else:\n",
    "        feature_color = negative_color_palette[neg_count]\n",
    "        neg_count += 1\n",
    "    sns.lineplot(y=features[feature], x='index', data=non_norm_x_subj_df.reset_index(), color=feature_color, ax=ax)\n",
    "\n",
    "    ax.set_title(features[feature])"
   ]
  },
  {
   "cell_type": "code",
   "execution_count": null,
   "metadata": {},
   "outputs": [],
   "source": []
  }
 ],
 "metadata": {
  "kernelspec": {
   "display_name": "Python 3",
   "language": "python",
   "name": "python3"
  },
  "language_info": {
   "codemirror_mode": {
    "name": "ipython",
    "version": 2
   },
   "file_extension": ".py",
   "mimetype": "text/x-python",
   "name": "python",
   "nbconvert_exporter": "python",
   "pygments_lexer": "ipython2",
   "version": "2.7.6"
  }
 },
 "nbformat": 4,
 "nbformat_minor": 0
}
