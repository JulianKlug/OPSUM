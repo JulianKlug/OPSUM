{
 "cells": [
  {
   "attachments": {},
   "cell_type": "markdown",
   "metadata": {
    "collapsed": false
   },
   "source": [
    "# ROC Curve comparison with confidence intervals"
   ]
  },
  {
   "cell_type": "code",
   "execution_count": null,
   "metadata": {
    "ExecuteTime": {
     "end_time": "2023-07-25T06:19:58.722523Z",
     "start_time": "2023-07-25T06:19:58.391352Z"
    }
   },
   "outputs": [],
   "source": [
    "import pickle\n",
    "import os\n",
    "import numpy as np\n",
    "import matplotlib.pyplot as plt\n",
    "from tqdm import tqdm\n",
    "import seaborn as sns\n",
    "import pandas as pd\n",
    "from sklearn.metrics import roc_curve, auc, precision_recall_curve\n",
    "import matplotlib.patches as mpatches\n",
    "from matplotlib.legend_handler import HandlerTuple"
   ]
  },
  {
   "cell_type": "code",
   "execution_count": null,
   "metadata": {
    "ExecuteTime": {
     "end_time": "2023-07-25T06:19:58.732309Z",
     "start_time": "2023-07-25T06:19:58.725230Z"
    }
   },
   "outputs": [],
   "source": [
    "thrive_c_mrs02_predictions_path = '/Users/jk1/temp/opsum_prediction_output/THRIVE_C/THRIVE_C_3m_mrs02_predictions/test_gt_and_pred.pkl'\n",
    "transformer_mrs02_predictions_path = '/Users/jk1/temp/opsum_prediction_output/transformer/3M_mrs02/transformer_20230402_184459_test_set_evaluation'\n",
    "lstm_mrs02_predictions_path = '/Users/jk1/temp/opsum_prediction_output/LSTM_72h_testing/3M_mRS02/2023_01_02_1057/all_folds'\n",
    "xgb_mrs02_predictions_path = '/Users/jk1/temp/opsum_prediction_output/linear_72h_xgb/3M_mrs02/with_feature_aggregration/testing/all_folds'\n",
    "\n",
    "thrive_c_death_predictions_path = '/Users/jk1/temp/opsum_prediction_output/THRIVE_C/THRIVE_C_3m_death_predictions/3m_death_test_gt_and_pred.pkl'\n",
    "transformer_death_predictions_path = '/Users/jk1/temp/opsum_prediction_output/transformer/3M_Death/testing'\n",
    "lstm_death_predictions_path = '/Users/jk1/temp/opsum_prediction_output/LSTM_72h_testing/3M_Death/2023_01_04_2020/all_folds'\n",
    "xgb_death_predictions_path = '/Users/jk1/temp/opsum_prediction_output/linear_72h_xgb/3M_Death/testing/all_folds'"
   ]
  },
  {
   "cell_type": "code",
   "execution_count": null,
   "metadata": {
    "ExecuteTime": {
     "end_time": "2023-07-25T06:19:58.732745Z",
     "start_time": "2023-07-25T06:19:58.728375Z"
    }
   },
   "outputs": [],
   "source": [
    "output_dir = '/Users/jk1/Downloads'"
   ]
  },
  {
   "cell_type": "code",
   "execution_count": null,
   "metadata": {
    "ExecuteTime": {
     "end_time": "2023-07-25T06:19:58.743629Z",
     "start_time": "2023-07-25T06:19:58.740522Z"
    }
   },
   "outputs": [],
   "source": [
    "n_folds = 5\n",
    "seed = 42\n",
    "\n",
    "mrs02_transformer_selected_fold = 2\n",
    "death_transformer_selected_fold = 1\n",
    "\n",
    "# subtract one to go from fold number to index\n",
    "mrs02_xgb_selected_fold = 3 - 1\n",
    "death_xgb_selected_fold = 3 - 1\n",
    "\n",
    "mrs02_lstm_selected_fold = 3 - 1 \n",
    "death_lstm_selected_fold = 2 - 1"
   ]
  },
  {
   "attachments": {},
   "cell_type": "markdown",
   "metadata": {
    "collapsed": false
   },
   "source": [
    "Load data"
   ]
  },
  {
   "cell_type": "code",
   "execution_count": null,
   "metadata": {
    "ExecuteTime": {
     "end_time": "2023-07-25T06:19:58.753029Z",
     "start_time": "2023-07-25T06:19:58.741554Z"
    }
   },
   "outputs": [],
   "source": [
    "thrivec_mrs02_gt, thrivec_mrs02_predictions = pickle.load(open(thrive_c_mrs02_predictions_path, 'rb'))\n",
    "thrivec_death_gt, thrivec_death_predictions = pickle.load(open(thrive_c_death_predictions_path, 'rb'))"
   ]
  },
  {
   "cell_type": "code",
   "execution_count": null,
   "metadata": {
    "ExecuteTime": {
     "end_time": "2023-07-25T06:20:00.668970Z",
     "start_time": "2023-07-25T06:19:58.749828Z"
    }
   },
   "outputs": [],
   "source": [
    "transformer_mrs02_folds = []\n",
    "for fidx in range(n_folds):\n",
    "    transformer_mrs02_folds.append(pickle.load(open(os.path.join(transformer_mrs02_predictions_path, f'fold_{fidx}_test_gt_and_pred.pkl'), 'rb')))\n",
    "transformer_death_folds = []\n",
    "for fidx in range(n_folds):\n",
    "    transformer_death_folds.append(pickle.load(open(os.path.join(transformer_death_predictions_path, f'fold_{fidx}_test_gt_and_pred.pkl'), 'rb')))"
   ]
  },
  {
   "cell_type": "code",
   "execution_count": null,
   "metadata": {
    "ExecuteTime": {
     "end_time": "2023-07-25T06:20:00.681108Z",
     "start_time": "2023-07-25T06:20:00.673151Z"
    }
   },
   "outputs": [],
   "source": [
    "xgb_mrs02_folds = []\n",
    "for fidx in range(n_folds):\n",
    "    xgb_mrs02_folds.append(pickle.load(open(os.path.join(xgb_mrs02_predictions_path, f'test_gt_and_pred_cv_{fidx}.pkl'), 'rb')))\n",
    "    \n",
    "xgb_death_folds = []\n",
    "for fidx in range(n_folds):\n",
    "    xgb_death_folds.append(pickle.load(open(os.path.join(xgb_death_predictions_path, f'test_gt_and_pred_cv_{fidx}.pkl'), 'rb')))"
   ]
  },
  {
   "cell_type": "code",
   "execution_count": null,
   "metadata": {
    "ExecuteTime": {
     "end_time": "2023-07-25T06:20:00.713145Z",
     "start_time": "2023-07-25T06:20:00.691522Z"
    }
   },
   "outputs": [],
   "source": [
    "lstm_mrs02_folds = []\n",
    "for fidx in range(n_folds):\n",
    "    # search in every subdir of lstm_mrs02_predictions_path to find and load file: test_gt_and_pred_fold_{fidx}.pkl\n",
    "    for subdir in os.listdir(lstm_mrs02_predictions_path):\n",
    "        if os.path.isdir(os.path.join(lstm_mrs02_predictions_path, subdir)):\n",
    "            for file in os.listdir(os.path.join(lstm_mrs02_predictions_path, subdir)):\n",
    "                if file == f'test_gt_and_pred_fold_{fidx+1}.pkl':\n",
    "                    lstm_mrs02_folds.append(pickle.load(open(os.path.join(lstm_mrs02_predictions_path, subdir, file), 'rb')))\n",
    "                    \n",
    "lstm_death_folds = []\n",
    "for fidx in range(n_folds):\n",
    "    # search in every subdir of lstm_mrs02_predictions_path to find and load file: test_gt_and_pred_fold_{fidx}.pkl\n",
    "    for subdir in os.listdir(lstm_death_predictions_path):\n",
    "        if os.path.isdir(os.path.join(lstm_death_predictions_path, subdir)):\n",
    "            for file in os.listdir(os.path.join(lstm_death_predictions_path, subdir)):\n",
    "                if file == f'test_gt_and_pred_fold_{fidx+1}.pkl':\n",
    "                    lstm_death_folds.append(pickle.load(open(os.path.join(lstm_death_predictions_path, subdir, file), 'rb')))"
   ]
  },
  {
   "cell_type": "code",
   "execution_count": null,
   "metadata": {
    "ExecuteTime": {
     "end_time": "2023-07-25T06:20:00.723720Z",
     "start_time": "2023-07-25T06:20:00.714415Z"
    }
   },
   "outputs": [],
   "source": [
    "all_colors_palette = sns.color_palette(['#f61067', '#049b9a', '#012D98', '#a76dfe'], n_colors=4)\n",
    "all_colors_palette"
   ]
  },
  {
   "attachments": {},
   "cell_type": "markdown",
   "metadata": {
    "collapsed": false
   },
   "source": [
    "# Helper functions"
   ]
  },
  {
   "cell_type": "code",
   "execution_count": null,
   "metadata": {
    "ExecuteTime": {
     "end_time": "2023-07-25T06:20:00.734787Z",
     "start_time": "2023-07-25T06:20:00.727792Z"
    }
   },
   "outputs": [],
   "source": [
    "def compute_roc_and_pr_curves(folds, n_interpolated_points=200):\n",
    "    roc_df = pd.DataFrame()\n",
    "    resampled_roc_df = pd.DataFrame()\n",
    "    roc_aucs = []\n",
    "    pr_df = pd.DataFrame()\n",
    "    resampled_pr_df = pd.DataFrame()\n",
    "    pr_aucs = []\n",
    "    for fidx in tqdm(range(n_folds)):\n",
    "        fpr, tpr, _ = roc_curve(folds[fidx][0], folds[fidx][1])\n",
    "        roc_aucs.append(auc(fpr, tpr))\n",
    "        resampled_tpr = np.interp(np.linspace(0, 1, n_interpolated_points), fpr, tpr)\n",
    "        roc_df = roc_df.append(pd.DataFrame({'fpr': fpr, 'tpr': tpr, 'fold': fidx}))\n",
    "        resampled_roc_df = resampled_roc_df.append(pd.DataFrame({'fpr': np.linspace(0,1,n_interpolated_points),  'tpr': resampled_tpr, 'fold': fidx}))\n",
    "\n",
    "        precision, recall, _ = precision_recall_curve(folds[fidx][0], folds[fidx][1])\n",
    "        recall, precision = zip(*sorted(zip(recall, precision)))\n",
    "        pr_aucs.append(auc(recall, precision))\n",
    "        resampled_precision = np.interp(np.linspace(0, 1, n_interpolated_points), recall, precision)\n",
    "        pr_df = pr_df.append(pd.DataFrame({'recall': recall, 'precision': precision, 'fold': fidx}))\n",
    "        resampled_pr_df = resampled_pr_df.append(pd.DataFrame({'recall': np.linspace(0,1,n_interpolated_points),  'precision': resampled_precision, 'fold': fidx}))\n",
    "\n",
    "    return roc_df, resampled_roc_df, roc_aucs, pr_df, resampled_pr_df, pr_aucs\n"
   ]
  },
  {
   "cell_type": "markdown",
   "metadata": {
    "collapsed": false
   },
   "source": [
    "## Prepare data for mrs02 outcome"
   ]
  },
  {
   "attachments": {},
   "cell_type": "markdown",
   "metadata": {
    "collapsed": false
   },
   "source": [
    "### Compute ROC and PR curve standard deviation for THRIVE-C"
   ]
  },
  {
   "cell_type": "code",
   "execution_count": null,
   "metadata": {
    "ExecuteTime": {
     "end_time": "2023-07-25T06:20:00.751011Z",
     "start_time": "2023-07-25T06:20:00.732776Z"
    }
   },
   "outputs": [],
   "source": [
    "# split thrivec data into 5 folds\n",
    "mrs02_thrivec_folds = []\n",
    "for fidx in range(n_folds):\n",
    "    mrs02_thrivec_folds.append((thrivec_mrs02_gt[fidx::n_folds], thrivec_mrs02_predictions[fidx::n_folds]))"
   ]
  },
  {
   "cell_type": "code",
   "execution_count": null,
   "metadata": {
    "ExecuteTime": {
     "end_time": "2023-07-25T06:20:00.751812Z",
     "start_time": "2023-07-25T06:20:00.738838Z"
    }
   },
   "outputs": [],
   "source": [
    "mrs02_thrivec_fpr, mrs02_thrivec_tpr, _ = roc_curve(thrivec_mrs02_gt, thrivec_mrs02_predictions)\n",
    "mrs02_thrivec_roc_auc = auc(mrs02_thrivec_fpr, mrs02_thrivec_tpr)\n",
    "mrs02_thrivec_resampled_tpr = np.interp(np.linspace(0, 1, 200), mrs02_thrivec_fpr, mrs02_thrivec_tpr)\n",
    "\n",
    "mrs02_thrivec_precision, mrs02_thrivec_recall, _ = precision_recall_curve(thrivec_mrs02_gt, thrivec_mrs02_predictions)\n",
    "mrs02_thrivec_recall, mrs02_thrivec_precision = zip(*sorted(zip(mrs02_thrivec_recall, mrs02_thrivec_precision)))\n",
    "mrs02_thrivec_pr_auc = auc(mrs02_thrivec_recall, mrs02_thrivec_precision)\n",
    "mrs02_thrivec_resampled_precision = np.interp(np.linspace(0, 1, 200), mrs02_thrivec_recall, mrs02_thrivec_precision)"
   ]
  },
  {
   "cell_type": "code",
   "execution_count": null,
   "metadata": {
    "ExecuteTime": {
     "end_time": "2023-07-25T06:20:00.811454Z",
     "start_time": "2023-07-25T06:20:00.750507Z"
    }
   },
   "outputs": [],
   "source": [
    "mrs02_thrivec_roc_df, mrs02_thrivec_resampled_roc_df, mrs02_thrivec_roc_aucs, mrs02_thrivec_pr_df, mrs02_thrivec_resampled_pr_df, mrs02_thrivec_pr_aucs = compute_roc_and_pr_curves(mrs02_thrivec_folds)"
   ]
  },
  {
   "cell_type": "code",
   "execution_count": null,
   "metadata": {
    "ExecuteTime": {
     "end_time": "2023-07-25T06:20:00.821702Z",
     "start_time": "2023-07-25T06:20:00.782330Z"
    }
   },
   "outputs": [],
   "source": [
    "mrs02_thrivec_resampled_roc_std = mrs02_thrivec_resampled_roc_df.groupby('fpr').agg({'tpr': ['mean', 'std']})['tpr']['std']\n",
    "mrs02_thrivec_resampled_pr_std = mrs02_thrivec_resampled_pr_df.groupby('recall').agg({'precision': ['mean', 'std']})['precision']['std']"
   ]
  },
  {
   "attachments": {},
   "cell_type": "markdown",
   "metadata": {
    "collapsed": false
   },
   "source": [
    "### Transformer curves with fold variation"
   ]
  },
  {
   "cell_type": "code",
   "execution_count": null,
   "metadata": {
    "ExecuteTime": {
     "end_time": "2023-07-25T06:20:00.840588Z",
     "start_time": "2023-07-25T06:20:00.799936Z"
    }
   },
   "outputs": [],
   "source": [
    "mrs02_transformer_roc_df, mrs02_transformer_resampled_roc_df, mrs02_transformer_roc_aucs, mrs02_transformer_pr_df, mrs02_transformer_resampled_pr_df, mrs02_transformer_pr_aucs = compute_roc_and_pr_curves(transformer_mrs02_folds)"
   ]
  },
  {
   "cell_type": "code",
   "execution_count": null,
   "metadata": {
    "ExecuteTime": {
     "end_time": "2023-07-25T06:20:00.878327Z",
     "start_time": "2023-07-25T06:20:00.833622Z"
    }
   },
   "outputs": [],
   "source": [
    "mrs02_transformer_resampled_roc_std = mrs02_transformer_resampled_roc_df.groupby('fpr').agg({'tpr': ['mean', 'std']})['tpr']['std']\n",
    "mrs02_transformer_resampled_pr_std = mrs02_transformer_resampled_pr_df.groupby('recall').agg({'precision': ['mean', 'std']})['precision']['std']"
   ]
  },
  {
   "cell_type": "markdown",
   "metadata": {
    "collapsed": false
   },
   "source": [
    "### XGB curves with fold variation"
   ]
  },
  {
   "cell_type": "code",
   "execution_count": null,
   "metadata": {
    "ExecuteTime": {
     "end_time": "2023-07-25T06:20:00.905239Z",
     "start_time": "2023-07-25T06:20:00.840715Z"
    }
   },
   "outputs": [],
   "source": [
    "mrs02_xgb_roc_df, mrs02_xgb_resampled_roc_df, mrs02_xgb_roc_aucs, mrs02_xgb_pr_df, mrs02_xgb_resampled_pr_df, mrs02_xgb_pr_aucs = compute_roc_and_pr_curves(xgb_mrs02_folds)"
   ]
  },
  {
   "cell_type": "code",
   "execution_count": null,
   "metadata": {
    "ExecuteTime": {
     "end_time": "2023-07-25T06:20:00.918092Z",
     "start_time": "2023-07-25T06:20:00.873608Z"
    }
   },
   "outputs": [],
   "source": [
    "mrs02_xgb_resampled_roc_std = mrs02_xgb_resampled_roc_df.groupby('fpr').agg({'tpr': ['mean', 'std']})['tpr']['std']\n",
    "mrs02_xgb_resampled_pr_std = mrs02_xgb_resampled_pr_df.groupby('recall').agg({'precision': ['mean', 'std']})['precision']['std']"
   ]
  },
  {
   "cell_type": "markdown",
   "metadata": {
    "collapsed": false
   },
   "source": [
    "### LSTM curves with fold variation"
   ]
  },
  {
   "cell_type": "code",
   "execution_count": null,
   "metadata": {
    "ExecuteTime": {
     "end_time": "2023-07-25T06:20:00.976931Z",
     "start_time": "2023-07-25T06:20:00.881437Z"
    }
   },
   "outputs": [],
   "source": [
    "mrs02_lstm_roc_df, mrs02_lstm_resampled_roc_df, mrs02_lstm_roc_aucs, mrs02_lstm_pr_df, mrs02_lstm_resampled_pr_df, mrs02_lstm_pr_aucs = compute_roc_and_pr_curves(lstm_mrs02_folds)"
   ]
  },
  {
   "cell_type": "code",
   "execution_count": null,
   "metadata": {
    "ExecuteTime": {
     "end_time": "2023-07-25T06:20:00.990110Z",
     "start_time": "2023-07-25T06:20:00.914882Z"
    }
   },
   "outputs": [],
   "source": [
    "mrs02_lstm_resampled_roc_std = mrs02_lstm_resampled_roc_df.groupby('fpr').agg({'tpr': ['mean', 'std']})['tpr']['std']\n",
    "mrs02_lstm_resampled_pr_std = mrs02_lstm_resampled_pr_df.groupby('recall').agg({'precision': ['mean', 'std']})['precision']['std']"
   ]
  },
  {
   "cell_type": "markdown",
   "metadata": {
    "collapsed": false
   },
   "source": [
    "## Prepare data for mortality prediction"
   ]
  },
  {
   "cell_type": "code",
   "execution_count": null,
   "metadata": {
    "ExecuteTime": {
     "end_time": "2023-07-25T06:20:00.992015Z",
     "start_time": "2023-07-25T06:20:00.927618Z"
    }
   },
   "outputs": [],
   "source": [
    "# split thrivec data into 5 folds\n",
    "death_thrivec_folds = []\n",
    "for fidx in range(n_folds):\n",
    "    death_thrivec_folds.append((thrivec_death_gt[fidx::n_folds], thrivec_death_predictions[fidx::n_folds]))\n",
    "\n",
    "death_thrivec_fpr, death_thrivec_tpr, _ = roc_curve(thrivec_death_gt, thrivec_death_predictions)\n",
    "death_thrivec_roc_auc = auc(death_thrivec_fpr, death_thrivec_tpr)\n",
    "death_thrivec_resampled_tpr = np.interp(np.linspace(0, 1, 200), death_thrivec_fpr, death_thrivec_tpr)\n",
    "\n",
    "death_thrivec_precision, death_thrivec_recall, _ = precision_recall_curve(thrivec_death_gt, thrivec_death_predictions)\n",
    "death_thrivec_recall, death_thrivec_precision = zip(*sorted(zip(death_thrivec_recall, death_thrivec_precision)))\n",
    "death_thrivec_pr_auc = auc(death_thrivec_recall, death_thrivec_precision)\n",
    "death_thrivec_resampled_precision = np.interp(np.linspace(0, 1, 200), death_thrivec_recall, death_thrivec_precision)\n",
    "\n",
    "death_thrivec_roc_df, death_thrivec_resampled_roc_df, death_thrivec_roc_aucs, death_thrivec_pr_df, death_thrivec_resampled_pr_df, death_thrivec_pr_aucs = compute_roc_and_pr_curves(\n",
    "    death_thrivec_folds)\n",
    "\n",
    "death_thrivec_resampled_roc_std = death_thrivec_resampled_roc_df.groupby('fpr').agg({'tpr': ['mean', 'std']})['tpr']['std']\n",
    "death_thrivec_resampled_pr_std = death_thrivec_resampled_pr_df.groupby('recall').agg({'precision': ['mean', 'std']})['precision'][\n",
    "    'std']"
   ]
  },
  {
   "cell_type": "code",
   "execution_count": null,
   "metadata": {
    "ExecuteTime": {
     "end_time": "2023-07-25T06:20:01.086891Z",
     "start_time": "2023-07-25T06:20:00.971186Z"
    }
   },
   "outputs": [],
   "source": [
    "transformer_death_roc_df, transformer_death_resampled_roc_df, transformer_death_roc_aucs, transformer_death_pr_df, transformer_death_resampled_pr_df, transformer_death_pr_aucs = compute_roc_and_pr_curves(transformer_death_folds)\n",
    "\n",
    "transformer_death_resampled_roc_std = transformer_death_resampled_roc_df.groupby('fpr').agg({'tpr': ['mean', 'std']})['tpr']['std']\n",
    "transformer_death_resampled_pr_std = transformer_death_resampled_pr_df.groupby('recall').agg({'precision': ['mean', 'std']})['precision']['std']\n"
   ]
  },
  {
   "cell_type": "code",
   "execution_count": null,
   "metadata": {
    "ExecuteTime": {
     "end_time": "2023-07-25T06:20:01.088808Z",
     "start_time": "2023-07-25T06:20:01.008217Z"
    }
   },
   "outputs": [],
   "source": [
    "death_xgb_roc_df, death_xgb_resampled_roc_df, death_xgb_roc_aucs, death_xgb_pr_df, death_xgb_resampled_pr_df, death_xgb_pr_aucs = compute_roc_and_pr_curves(xgb_death_folds)\n",
    "death_xgb_resampled_roc_std = death_xgb_resampled_roc_df.groupby('fpr').agg({'tpr': ['mean', 'std']})['tpr']['std']\n",
    "death_xgb_resampled_pr_std = death_xgb_resampled_pr_df.groupby('recall').agg({'precision': ['mean', 'std']})['precision']['std']"
   ]
  },
  {
   "cell_type": "code",
   "execution_count": null,
   "metadata": {
    "ExecuteTime": {
     "end_time": "2023-07-25T06:20:01.091731Z",
     "start_time": "2023-07-25T06:20:01.044168Z"
    }
   },
   "outputs": [],
   "source": [
    "death_lstm_roc_df, death_lstm_resampled_roc_df, death_lstm_roc_aucs, death_lstm_pr_df, death_lstm_resampled_pr_df, death_lstm_pr_aucs = compute_roc_and_pr_curves(lstm_death_folds)\n",
    "death_lstm_resampled_roc_std = death_lstm_resampled_roc_df.groupby('fpr').agg({'tpr': ['mean', 'std']})['tpr']['std']\n",
    "death_lstm_resampled_pr_std = death_lstm_resampled_pr_df.groupby('recall').agg({'precision': ['mean', 'std']})['precision']['std']"
   ]
  },
  {
   "cell_type": "markdown",
   "metadata": {
    "collapsed": false
   },
   "source": [
    "## Plot ROC AUCs"
   ]
  },
  {
   "cell_type": "code",
   "execution_count": null,
   "metadata": {
    "ExecuteTime": {
     "end_time": "2023-07-25T06:20:01.105183Z",
     "start_time": "2023-07-25T06:20:01.086001Z"
    }
   },
   "outputs": [],
   "source": [
    "mrs02_roc_auc_df = pd.concat(\n",
    "[\n",
    "    pd.DataFrame({'model': 'Transformer', 'auc': mrs02_transformer_roc_aucs}),\n",
    "    pd.DataFrame({'model': 'XGBoost', 'auc': mrs02_xgb_roc_aucs}),\n",
    "    pd.DataFrame({'model': 'LSTM', 'auc': mrs02_lstm_roc_aucs}),\n",
    "    pd.DataFrame({'model': 'THRIVE-C', 'auc': mrs02_thrivec_roc_aucs}),\n",
    "]\n",
    ")\n",
    "\n",
    "selected_fold_roc_auc_df = pd.concat(\n",
    "    [\n",
    "        pd.DataFrame({'model': 'Transformer', 'auc': mrs02_transformer_roc_aucs[mrs02_transformer_selected_fold]}, index=[0]),\n",
    "        pd.DataFrame({'model': 'XGBoost', 'auc': mrs02_xgb_roc_aucs[mrs02_xgb_selected_fold]}, index=[0]),\n",
    "        pd.DataFrame({'model': 'LSTM', 'auc': mrs02_lstm_roc_aucs[mrs02_lstm_selected_fold]}, index=[0]),\n",
    "        pd.DataFrame({'model': 'THRIVE-C', 'auc': mrs02_thrivec_roc_auc}, index=[0]),\n",
    "    ]\n",
    ")"
   ]
  },
  {
   "cell_type": "code",
   "execution_count": null,
   "metadata": {
    "ExecuteTime": {
     "end_time": "2023-07-25T06:20:01.378971Z",
     "start_time": "2023-07-25T06:20:01.094260Z"
    }
   },
   "outputs": [],
   "source": [
    "ax = sns.stripplot(x='model', y='auc', data=mrs02_roc_auc_df)\n",
    "sns.stripplot(x='model', y='auc', data=selected_fold_roc_auc_df, ax=ax, color='red')"
   ]
  },
  {
   "cell_type": "code",
   "execution_count": null,
   "metadata": {
    "ExecuteTime": {
     "end_time": "2023-07-25T06:20:01.389140Z",
     "start_time": "2023-07-25T06:20:01.386Z"
    }
   },
   "outputs": [],
   "source": [
    "death_roc_auc_df = pd.concat(\n",
    "[\n",
    "    pd.DataFrame({'model': 'Transformer', 'auc': transformer_death_roc_aucs}),\n",
    "    pd.DataFrame({'model': 'XGBoost', 'auc': death_xgb_roc_aucs}),\n",
    "    pd.DataFrame({'model': 'LSTM', 'auc': death_lstm_roc_aucs}),\n",
    "    pd.DataFrame({'model': 'THRIVE-C', 'auc': death_thrivec_roc_aucs}),\n",
    "]\n",
    ")\n",
    "\n",
    "selected_fold_death_roc_auc_df = pd.concat(\n",
    "    [\n",
    "        pd.DataFrame({'model': 'Transformer', 'auc': transformer_death_roc_aucs[death_transformer_selected_fold]}, index=[0]),\n",
    "        pd.DataFrame({'model': 'XGBoost', 'auc': death_xgb_roc_aucs[death_xgb_selected_fold]}, index=[0]),\n",
    "        pd.DataFrame({'model': 'LSTM', 'auc': death_lstm_roc_aucs[death_lstm_selected_fold]}, index=[0]),\n",
    "        pd.DataFrame({'model': 'THRIVE-C', 'auc': death_thrivec_roc_auc}, index=[0]),\n",
    "    ]\n",
    ")"
   ]
  },
  {
   "cell_type": "code",
   "execution_count": null,
   "metadata": {
    "ExecuteTime": {
     "end_time": "2023-07-25T06:20:01.624597Z",
     "start_time": "2023-07-25T06:20:01.403693Z"
    }
   },
   "outputs": [],
   "source": [
    "ax = sns.stripplot(x='model', y='auc', data=death_roc_auc_df)\n",
    "sns.stripplot(x='model', y='auc', data=selected_fold_death_roc_auc_df, ax=ax, color='red')"
   ]
  },
  {
   "cell_type": "code",
   "execution_count": null,
   "metadata": {
    "ExecuteTime": {
     "end_time": "2023-07-25T06:20:01.635139Z",
     "start_time": "2023-07-25T06:20:01.627476Z"
    }
   },
   "outputs": [],
   "source": [
    "import matplotlib\n",
    "from matplotlib.font_manager import FontProperties\n",
    "\n",
    "font_files = ['/Library/Fonts/calibri-bold-italic.ttf',\n",
    "'/Library/Fonts/calibri-bold.ttf',\n",
    "'/Library/Fonts/calibri-italic.ttf',\n",
    "'/Library/Fonts/calibri-regular.ttf',\n",
    "'/Library/Fonts/calibril.ttf']\n",
    "\n",
    "font_path = font_files[-1]\n",
    "calibri_font = FontProperties(fname=font_path)\n",
    "calibri_font.get_name()\n",
    "\n",
    "for font_file in font_files:\n",
    "    matplotlib.font_manager.fontManager.addfont(font_file)"
   ]
  },
  {
   "cell_type": "code",
   "execution_count": null,
   "metadata": {
    "ExecuteTime": {
     "end_time": "2023-07-25T06:23:50.634223Z",
     "start_time": "2023-07-25T06:23:50.161461Z"
    }
   },
   "outputs": [],
   "source": [
    " # combined plot \n",
    "sns.set_theme(style=\"whitegrid\", context=\"paper\", font_scale = 1)\n",
    "plt.rcParams['font.family'] = calibri_font.get_name()\n",
    "\n",
    "cm = 1/2.54  # centimeters in inches\n",
    "main_fig = plt.figure(figsize=(18 * cm, 9 * cm))\n",
    "\n",
    "\n",
    "tick_label_size = 6\n",
    "label_font_size = 7\n",
    "subplot_number_font_size = 9\n",
    "suptitle_font_size = 10\n",
    "\n",
    "ax = main_fig.subplots(1, 2, sharex=False, sharey=True)\n",
    "\n",
    "sns.stripplot(x='model', y='auc', data=mrs02_roc_auc_df, ax=ax[0])\n",
    "sns.stripplot(x='model', y='auc', data=selected_fold_roc_auc_df, ax=ax[0], color='red')\n",
    "ax[0].set_title('Prediction of functional outcome')\n",
    "ax[0].set_ylabel('ROC AUC', fontsize=label_font_size)\n",
    "ax[0].set_xlabel(None)\n",
    "\n",
    "sns.stripplot(x='model', y='auc', data=death_roc_auc_df, ax=ax[1])\n",
    "sns.stripplot(x='model', y='auc', data=selected_fold_death_roc_auc_df, ax=ax[1], color='red')\n",
    "ax[1].set_title('Prediction of mortality')\n",
    "ax[1].set_ylabel(None)\n",
    "\n",
    "# adjust spacing between subplots\n",
    "plt.subplots_adjust(wspace=0.1)\n",
    "\n",
    "plt.suptitle('ROC AUC performance (inter-fold variability)', fontsize=suptitle_font_size, x=0.5, y=1.02)"
   ]
  },
  {
   "cell_type": "code",
   "execution_count": null,
   "metadata": {
    "ExecuteTime": {
     "end_time": "2023-07-25T06:20:02.170135Z",
     "start_time": "2023-07-25T06:20:02.159855Z"
    }
   },
   "outputs": [],
   "source": [
    "# main_fig.savefig(os.path.join(output_dir, 'inter_fold_variation_roc_auc_performance.svg'), bbox_inches=\"tight\", format='svg', dpi=1200)"
   ]
  },
  {
   "cell_type": "code",
   "execution_count": null,
   "metadata": {
    "ExecuteTime": {
     "end_time": "2023-07-25T06:20:02.170362Z",
     "start_time": "2023-07-25T06:20:02.164191Z"
    }
   },
   "outputs": [],
   "source": []
  }
 ],
 "metadata": {
  "kernelspec": {
   "display_name": "Python 3",
   "language": "python",
   "name": "python3"
  },
  "language_info": {
   "codemirror_mode": {
    "name": "ipython",
    "version": 3
   },
   "file_extension": ".py",
   "mimetype": "text/x-python",
   "name": "python",
   "nbconvert_exporter": "python",
   "pygments_lexer": "ipython3",
   "version": "3.8.11"
  }
 },
 "nbformat": 4,
 "nbformat_minor": 0
}
