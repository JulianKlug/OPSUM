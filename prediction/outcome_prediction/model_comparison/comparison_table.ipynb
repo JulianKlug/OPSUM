{
 "cells": [
  {
   "cell_type": "code",
   "execution_count": null,
   "metadata": {
    "ExecuteTime": {
     "end_time": "2023-05-09T07:37:43.809515Z",
     "start_time": "2023-05-09T07:37:43.801918Z"
    }
   },
   "outputs": [],
   "source": [
    "import pandas as pd\n",
    "import os"
   ]
  },
  {
   "cell_type": "code",
   "execution_count": null,
   "metadata": {
    "ExecuteTime": {
     "end_time": "2023-05-09T07:37:44.090572Z",
     "start_time": "2023-05-09T07:37:44.084928Z"
    }
   },
   "outputs": [],
   "source": [
    "mrs02_transformer_path = '/Users/jk1/temp/opsum_prediction_output/transformer/3M_mrs02/transformer_20230402_184459_test_set_evaluation/overall_results.csv'\n",
    "mrs02_xgb_path = '/Users/jk1/temp/opsum_prediction_output/linear_72h_xgb/3M_mrs02/with_feature_aggregration/testing/test_XGB_results.csv'\n",
    "mrs02_lstm_path = '/Users/jk1/temp/opsum_prediction_output/LSTM_72h_testing/3M_mRS02/2023_01_02_1057/test_LSTM_sigmoid_all_balanced_0.2_2_True_RMSprop_3M mRS 0-2_16_3/test_LSTM_results.tsv'\n",
    "mrs02_mlp_path = '/Users/jk1/temp/opsum_prediction_output/linear_72h_perceptron/mrs02/with_feature_aggregration_mlp/all_folds/test_mlp_cv_2_results.csv'\n",
    "mrs02_thrivec_path = '/Users/jk1/temp/opsum_prediction_output/THRIVE_C/THRIVE_C_3m_mrs02_predictions/thriveC_mrs02_results.csv'\n",
    "\n",
    "death_xgb_path = '/Users/jk1/temp/opsum_prediction_output/linear_72h_xgb/3M_Death/testing/test_XGB_results.csv'\n",
    "death_transformer_path = '/Users/jk1/temp/opsum_prediction_output/transformer/3M_Death/testing/overall_results.csv'\n",
    "death_lstm_path = '/Users/jk1/temp/opsum_prediction_output/LSTM_72h_testing/3M_Death/2023_01_04_2020/test_LSTM_sigmoid_all_balanced_0.0_2_True_RMSprop_3M Death_128_2/test_LSTM_results.tsv'\n",
    "death_mlp_path = '/Users/jk1/temp/opsum_prediction_output/linear_72h_perceptron/death/feature_aggregration_mlp/testing/test_mlp_cv_2_results.csv'\n",
    "death_thrivec_path = '/Users/jk1/temp/opsum_prediction_output/THRIVE_C/THRIVE_C_3m_death_predictions/3m_death_results.csv'\n",
    "\n",
    "death_mimic_xgb_path = '/Users/jk1/temp/opsum_prediction_output/linear_72h_xgb/3M_Death/external_validation/external_validation_XGB_results.csv'\n",
    "death_mimic_transformer_path = '/Users/jk1/temp/opsum_prediction_output/transformer/3M_Death/external_validation/overall_results.csv'\n",
    "death_mimic_lstm_path = '/Users/jk1/temp/opsum_prediction_output/LSTM_72h_testing/external_validation/3M_Death/2023_01_04_2020/all_folds/test_LSTM_sigmoid_all_balanced_0.0_2_True_RMSprop_3M Death_128_2/test_LSTM_results_fold_2.tsv'\n",
    "death_mimic_mlp_path = '/Users/jk1/temp/opsum_prediction_output/linear_72h_perceptron/death/feature_aggregration_mlp/external_validation/overall_results.csv'\n"
   ]
  },
  {
   "cell_type": "code",
   "execution_count": null,
   "metadata": {
    "ExecuteTime": {
     "end_time": "2023-05-09T07:37:44.720549Z",
     "start_time": "2023-05-09T07:37:44.714429Z"
    }
   },
   "outputs": [],
   "source": [
    "output_dir = '/Users/jk1/Downloads'"
   ]
  },
  {
   "cell_type": "code",
   "execution_count": null,
   "metadata": {
    "ExecuteTime": {
     "end_time": "2023-05-09T07:37:52.339556Z",
     "start_time": "2023-05-09T07:37:52.268353Z"
    }
   },
   "outputs": [],
   "source": [
    "mrs02_xgb_df = pd.read_csv(mrs02_xgb_path)\n",
    "mrs02_transformer_df = pd.read_csv(mrs02_transformer_path)\n",
    "mrs02_lstm_df = pd.read_csv(mrs02_lstm_path, sep='\\t')\n",
    "mrs02_mlp_df = pd.read_csv(mrs02_mlp_path)\n",
    "mrs02_thrivec_df = pd.read_csv(mrs02_thrivec_path)\n",
    "\n",
    "death_xgb_df = pd.read_csv(death_xgb_path)\n",
    "death_transformer_df = pd.read_csv(death_transformer_path)\n",
    "death_lstm_df = pd.read_csv(death_lstm_path, sep='\\t')\n",
    "death_mlp_df = pd.read_csv(death_mlp_path)\n",
    "death_thrivec_df = pd.read_csv(death_thrivec_path)\n",
    "\n",
    "death_mimic_xgb_df = pd.read_csv(death_mimic_xgb_path)\n",
    "death_mimic_transformer_df = pd.read_csv(death_mimic_transformer_path)\n",
    "death_mimic_lstm_df = pd.read_csv(death_mimic_lstm_path, sep='\\t')\n",
    "death_mimic_mlp_df = pd.read_csv(death_mimic_mlp_path)"
   ]
  },
  {
   "cell_type": "code",
   "execution_count": null,
   "metadata": {
    "ExecuteTime": {
     "end_time": "2023-05-09T07:37:52.841672Z",
     "start_time": "2023-05-09T07:37:52.836146Z"
    }
   },
   "outputs": [],
   "source": [
    "mrs02_transformer_df = mrs02_transformer_df[mrs02_transformer_df.fold == mrs02_transformer_df.best_cv_fold.mode()[0]]\n",
    "death_transformer_df = death_transformer_df[death_transformer_df.fold == death_transformer_df.best_cv_fold.mode()[0]]\n",
    "death_mimic_transformer_df = death_mimic_transformer_df[death_mimic_transformer_df.fold == death_mimic_transformer_df.best_cv_fold.mode()[0]]\n",
    "death_mimic_mlp_df = death_mimic_mlp_df[death_mimic_mlp_df.fold == death_mimic_mlp_df.best_val_fold.mode()[0] - 1]"
   ]
  },
  {
   "cell_type": "code",
   "execution_count": null,
   "metadata": {
    "ExecuteTime": {
     "end_time": "2023-05-09T07:38:07.838386Z",
     "start_time": "2023-05-09T07:38:07.835431Z"
    }
   },
   "outputs": [],
   "source": [
    "def preprocess_df(df, model_name, outcome, dataset_name):\n",
    "    preprocessed_df = pd.DataFrame()\n",
    "    # report result rounded to 3 decimal places with 95% CI\n",
    "    preprocessed_df['ROC AUC'] = [f'{round(df[\"auc_test\"].values[0], 3):.3f} ({round(df[\"auc_test_lower_ci\"].values[0], 3):.3f}-{round(df[\"auc_test_upper_ci\"].values[0], 3):.3f})']\n",
    "    preprocessed_df[\"Matthew's Coefficient\"] = [f'{round(df[\"matthews_test\"].values[0], 3):.3f} ({round(df[\"matthews_test_lower_ci\"].values[0], 3):.3f}-{round(df[\"matthews_test_upper_ci\"].values[0], 3):.3f})']\n",
    "    preprocessed_df[\"Accuracy\"] = [f'{round(df[\"accuracy_test\"].values[0], 3):.3f} ({round(df[\"accuracy_test_lower_ci\"].values[0], 3):.3f}-{round(df[\"accuracy_test_upper_ci\"].values[0], 3):.3f})']\n",
    "    preprocessed_df[\"Precision (positive predictive value)\"] = [f'{round(df[\"precision_test\"].values[0], 3):.3f} ({round(df[\"precision_test_lower_ci\"].values[0], 3):.3f}-{round(df[\"precision_test_upper_ci\"].values[0], 3):.3f})']\n",
    "    preprocessed_df[\"Recall (Sensitivity)\"] = [f'{round(df[\"recall_test\"].values[0], 3):.3f} ({round(df[\"recall_test_lower_ci\"].values[0], 3):.3f}-{round(df[\"recall_test_upper_ci\"].values[0], 3):.3f})']\n",
    "    if 'specificity_test' in df.columns:\n",
    "        preprocessed_df[\"Specificity\"] = [f'{round(df[\"specificity_test\"].values[0], 3):.3f} ({round(df[\"specificity_test_lower_ci\"].values[0], 3):.3f}-{round(df[\"specificity_test_upper_ci\"].values[0], 3):.3f})']\n",
    "    else:\n",
    "        preprocessed_df[\"Specificity\"] = [f'NA']\n",
    "\n",
    "    preprocessed_df['Model'] = [model_name]\n",
    "    preprocessed_df['Outcome'] = [outcome]\n",
    "    preprocessed_df['Dataset'] = [dataset_name]\n",
    "\n",
    "    return preprocessed_df"
   ]
  },
  {
   "cell_type": "code",
   "execution_count": null,
   "metadata": {
    "ExecuteTime": {
     "end_time": "2023-05-09T07:38:09.239448Z",
     "start_time": "2023-05-09T07:38:09.227568Z"
    }
   },
   "outputs": [],
   "source": [
    "processed_mrs02_xgb_df = preprocess_df(mrs02_xgb_df, 'XGB', '3M mrs02', 'GSU')\n",
    "processed_death_xgb_df = preprocess_df(death_xgb_df, 'XGB', '3M Death', 'GSU')\n",
    "processed_death_mimic_xgb_df = preprocess_df(death_mimic_xgb_df, 'XGB', '3M Death', 'MIMIC')"
   ]
  },
  {
   "cell_type": "code",
   "execution_count": null,
   "metadata": {
    "ExecuteTime": {
     "end_time": "2023-05-09T07:38:09.878839Z",
     "start_time": "2023-05-09T07:38:09.866183Z"
    }
   },
   "outputs": [],
   "source": [
    "processed_mrs02_transformer_df = preprocess_df(mrs02_transformer_df, 'Transformer', '3M mrs02', 'GSU')\n",
    "processed_death_transformer_df = preprocess_df(death_transformer_df, 'Transformer', '3M Death', 'GSU')\n",
    "processed_death_mimic_transformer_df = preprocess_df(death_mimic_transformer_df, 'Transformer', '3M Death', 'MIMIC')"
   ]
  },
  {
   "cell_type": "code",
   "execution_count": null,
   "metadata": {
    "ExecuteTime": {
     "end_time": "2023-05-09T07:38:11.457161Z",
     "start_time": "2023-05-09T07:38:11.449971Z"
    }
   },
   "outputs": [],
   "source": [
    "processed_mrs02_lstm_df = preprocess_df(mrs02_lstm_df, 'LSTM', '3M mrs02', 'GSU')\n",
    "processed_death_lstm_df = preprocess_df(death_lstm_df, 'LSTM', '3M Death', 'GSU')\n",
    "processed_death_mimic_lstm_df = preprocess_df(death_mimic_lstm_df, 'LSTM', '3M Death', 'MIMIC')"
   ]
  },
  {
   "cell_type": "code",
   "execution_count": null,
   "metadata": {
    "ExecuteTime": {
     "end_time": "2023-05-09T07:38:12.848158Z",
     "start_time": "2023-05-09T07:38:12.836002Z"
    }
   },
   "outputs": [],
   "source": [
    "processed_mrs02_mlp_df = preprocess_df(mrs02_mlp_df, 'MLP', '3M mrs02', 'GSU')\n",
    "processed_death_mlp_df = preprocess_df(death_mlp_df, 'MLP', '3M Death', 'GSU')\n",
    "processed_death_mimic_mlp_df = preprocess_df(death_mimic_mlp_df, 'MLP', '3M Death', 'MIMIC')"
   ]
  },
  {
   "cell_type": "code",
   "execution_count": null,
   "metadata": {
    "ExecuteTime": {
     "end_time": "2023-05-09T07:38:13.158432Z",
     "start_time": "2023-05-09T07:38:13.155918Z"
    }
   },
   "outputs": [],
   "source": [
    "processed_mrs02_thrivec_df = preprocess_df(mrs02_thrivec_df, 'THRIVE-C', '3M mrs02', 'GSU')\n",
    "processed_death_thrivec_df = preprocess_df(death_thrivec_df, 'THRIVE-C', '3M Death', 'GSU')"
   ]
  },
  {
   "cell_type": "code",
   "execution_count": null,
   "metadata": {
    "ExecuteTime": {
     "end_time": "2023-05-09T07:38:13.654518Z",
     "start_time": "2023-05-09T07:38:13.650234Z"
    }
   },
   "outputs": [],
   "source": [
    "overall_mrs02_results_df = pd.concat([processed_mrs02_transformer_df, processed_mrs02_xgb_df, processed_mrs02_lstm_df, processed_mrs02_mlp_df, processed_mrs02_thrivec_df])"
   ]
  },
  {
   "cell_type": "code",
   "execution_count": null,
   "metadata": {
    "ExecuteTime": {
     "end_time": "2023-05-09T07:38:14.572576Z",
     "start_time": "2023-05-09T07:38:14.568056Z"
    }
   },
   "outputs": [],
   "source": [
    "overall_death_results_df = pd.concat([processed_death_transformer_df, processed_death_xgb_df, processed_death_lstm_df,processed_death_mlp_df, processed_death_thrivec_df])"
   ]
  },
  {
   "cell_type": "code",
   "execution_count": null,
   "metadata": {
    "ExecuteTime": {
     "end_time": "2023-05-09T07:38:15.286859Z",
     "start_time": "2023-05-09T07:38:15.283517Z"
    }
   },
   "outputs": [],
   "source": [
    "overall_death_mimic_results_df = pd.concat([processed_death_mimic_transformer_df, processed_death_mimic_xgb_df, processed_death_mimic_lstm_df, processed_death_mimic_mlp_df])"
   ]
  },
  {
   "cell_type": "code",
   "execution_count": null,
   "metadata": {
    "ExecuteTime": {
     "end_time": "2023-05-09T07:38:16.034864Z",
     "start_time": "2023-05-09T07:38:16.029460Z"
    }
   },
   "outputs": [],
   "source": [
    "overall_mrs02_results_df"
   ]
  },
  {
   "cell_type": "code",
   "execution_count": null,
   "metadata": {
    "ExecuteTime": {
     "end_time": "2023-05-08T08:35:36.972900Z",
     "start_time": "2023-05-08T08:35:36.969290Z"
    }
   },
   "outputs": [],
   "source": [
    "overall_death_results_df"
   ]
  },
  {
   "cell_type": "code",
   "execution_count": null,
   "metadata": {
    "ExecuteTime": {
     "end_time": "2023-05-09T07:38:58.241783Z",
     "start_time": "2023-05-09T07:38:58.236618Z"
    }
   },
   "outputs": [],
   "source": [
    "overall_death_mimic_results_df"
   ]
  },
  {
   "cell_type": "code",
   "execution_count": null,
   "metadata": {
    "ExecuteTime": {
     "end_time": "2023-05-09T07:39:22.140237Z",
     "start_time": "2023-05-09T07:39:22.049623Z"
    }
   },
   "outputs": [],
   "source": [
    "# save results as csv\n",
    "overall_mrs02_results_df.to_csv(os.path.join(output_dir, 'mrs02_model_comparison.csv'), index=False)\n",
    "overall_death_results_df.to_csv(os.path.join(output_dir, 'death_model_comparison.csv'), index=False)\n",
    "overall_death_mimic_results_df.to_csv(os.path.join(output_dir, 'death_mimic_model_comparison.csv'), index=False)"
   ]
  },
  {
   "cell_type": "code",
   "execution_count": null,
   "metadata": {
    "ExecuteTime": {
     "end_time": "2023-05-09T07:39:22.542672Z",
     "start_time": "2023-05-09T07:39:22.533816Z"
    }
   },
   "outputs": [],
   "source": [
    "# save joined table\n",
    "overall_results_df = pd.concat([overall_mrs02_results_df, overall_death_results_df, overall_death_mimic_results_df])\n",
    "overall_results_df.to_csv(os.path.join(output_dir, 'overall_model_comparison.csv'), index=False)"
   ]
  },
  {
   "cell_type": "code",
   "execution_count": null,
   "metadata": {},
   "outputs": [],
   "source": []
  }
 ],
 "metadata": {
  "kernelspec": {
   "display_name": "Python 3",
   "language": "python",
   "name": "python3"
  },
  "language_info": {
   "codemirror_mode": {
    "name": "ipython",
    "version": 2
   },
   "file_extension": ".py",
   "mimetype": "text/x-python",
   "name": "python",
   "nbconvert_exporter": "python",
   "pygments_lexer": "ipython2",
   "version": "2.7.6"
  }
 },
 "nbformat": 4,
 "nbformat_minor": 0
}
