{
 "cells": [
  {
   "cell_type": "code",
   "execution_count": null,
   "metadata": {
    "ExecuteTime": {
     "end_time": "2023-04-27T18:48:47.853982Z",
     "start_time": "2023-04-27T18:48:47.852128Z"
    }
   },
   "outputs": [],
   "source": [
    "import pandas as pd\n",
    "import os"
   ]
  },
  {
   "cell_type": "code",
   "execution_count": null,
   "metadata": {
    "ExecuteTime": {
     "end_time": "2023-04-27T18:48:48.527355Z",
     "start_time": "2023-04-27T18:48:48.522864Z"
    }
   },
   "outputs": [],
   "source": [
    "mrs02_transformer_path = '/Users/jk1/temp/opsum_prediction_output/transformer/3M_mrs02/transformer_20230402_184459_test_set_evaluation/overall_results.csv'\n",
    "mrs02_xgb_path = '/Users/jk1/temp/opsum_prediction_output/linear_72h_xgb/3M_mrs02/with_feature_aggregration/testing/test_XGB_results.csv'\n",
    "mrs02_lstm_path = '/Users/jk1/temp/opsum_prediction_output/LSTM_72h_testing/3M_mRS02/2023_01_02_1057/test_LSTM_sigmoid_all_balanced_0.2_2_True_RMSprop_3M mRS 0-2_16_3/test_LSTM_results.tsv'\n",
    "mrs02_thrivec_path = '/Users/jk1/temp/opsum_prediction_output/THRIVE_C/THRIVE_C_3m_mrs02_predictions/thriveC_mrs02_results.csv'\n",
    "\n",
    "death_xgb_path = '/Users/jk1/temp/opsum_prediction_output/linear_72h_xgb/3M_Death/testing/test_XGB_results.csv'\n",
    "death_transformer_path = '/Users/jk1/temp/opsum_prediction_output/transformer/3M_Death/testing/overall_results.csv'\n",
    "death_lstm_path = '/Users/jk1/temp/opsum_prediction_output/LSTM_72h_testing/3M_Death/2023_01_04_2020/test_LSTM_sigmoid_all_balanced_0.0_2_True_RMSprop_3M Death_128_2/test_LSTM_results.tsv'\n",
    "death_thrivec_path = '/Users/jk1/temp/opsum_prediction_output/THRIVE_C/THRIVE_C_3m_death_predictions/3m_death_results.csv'\n",
    "\n",
    "death_mimic_xgb_path = '/Users/jk1/temp/opsum_prediction_output/linear_72h_xgb/3M_Death/external_validation/external_validation_XGB_results.csv'\n",
    "death_mimic_transformer_path = '/Users/jk1/temp/opsum_prediction_output/transformer/3M_Death/external_validation/overall_results.csv'\n",
    "death_mimic_lstm_path = '/Users/jk1/temp/opsum_prediction_output/LSTM_72h_testing/external_validation/3M_Death/2023_01_04_2020/all_folds/test_LSTM_sigmoid_all_balanced_0.0_2_True_RMSprop_3M Death_128_2/test_LSTM_results_fold_2.tsv'\n"
   ]
  },
  {
   "cell_type": "code",
   "execution_count": null,
   "metadata": {
    "ExecuteTime": {
     "end_time": "2023-04-27T18:48:49.697247Z",
     "start_time": "2023-04-27T18:48:49.690994Z"
    }
   },
   "outputs": [],
   "source": [
    "output_dir = '/Users/jk1/Downloads'"
   ]
  },
  {
   "cell_type": "code",
   "execution_count": null,
   "metadata": {
    "ExecuteTime": {
     "end_time": "2023-04-27T18:49:23.835213Z",
     "start_time": "2023-04-27T18:49:23.809183Z"
    }
   },
   "outputs": [],
   "source": [
    "mrs02_xgb_df = pd.read_csv(mrs02_xgb_path)\n",
    "mrs02_transformer_df = pd.read_csv(mrs02_transformer_path)\n",
    "mrs02_lstm_df = pd.read_csv(mrs02_lstm_path, sep='\\t')\n",
    "mrs02_thrivec_df = pd.read_csv(mrs02_thrivec_path)\n",
    "\n",
    "death_xgb_df = pd.read_csv(death_xgb_path)\n",
    "death_transformer_df = pd.read_csv(death_transformer_path)\n",
    "death_lstm_df = pd.read_csv(death_lstm_path, sep='\\t')\n",
    "death_thrivec_df = pd.read_csv(death_thrivec_path)\n",
    "\n",
    "death_mimic_xgb_df = pd.read_csv(death_mimic_xgb_path)\n",
    "death_mimic_transformer_df = pd.read_csv(death_mimic_transformer_path)\n",
    "death_mimic_lstm_df = pd.read_csv(death_mimic_lstm_path, sep='\\t')"
   ]
  },
  {
   "cell_type": "code",
   "execution_count": null,
   "metadata": {
    "ExecuteTime": {
     "end_time": "2023-04-27T18:49:24.681532Z",
     "start_time": "2023-04-27T18:49:24.676835Z"
    }
   },
   "outputs": [],
   "source": [
    "mrs02_transformer_df = mrs02_transformer_df[mrs02_transformer_df.fold == mrs02_transformer_df.best_cv_fold.mode()[0]]\n",
    "death_transformer_df = death_transformer_df[death_transformer_df.fold == death_transformer_df.best_cv_fold.mode()[0]]\n",
    "death_mimic_transformer_df = death_mimic_transformer_df[death_mimic_transformer_df.fold == death_mimic_transformer_df.best_cv_fold.mode()[0]]"
   ]
  },
  {
   "cell_type": "code",
   "execution_count": null,
   "metadata": {
    "ExecuteTime": {
     "end_time": "2023-04-27T18:49:26.059373Z",
     "start_time": "2023-04-27T18:49:26.055291Z"
    }
   },
   "outputs": [],
   "source": [
    "def preprocess_df(df, model_name, outcome, dataset_name):\n",
    "    preprocessed_df = pd.DataFrame()\n",
    "    # report result rounded to 3 decimal places with 95% CI\n",
    "    preprocessed_df['ROC AUC'] = [f'{round(df[\"auc_test\"].values[0], 3):.3f} ({round(df[\"auc_test_lower_ci\"].values[0], 3):.3f}-{round(df[\"auc_test_upper_ci\"].values[0], 3):.3f})']\n",
    "    preprocessed_df[\"Matthew's Coefficient\"] = [f'{round(df[\"matthews_test\"].values[0], 3):.3f} ({round(df[\"matthews_test_lower_ci\"].values[0], 3):.3f}-{round(df[\"matthews_test_upper_ci\"].values[0], 3):.3f})']\n",
    "    preprocessed_df[\"Accuracy\"] = [f'{round(df[\"accuracy_test\"].values[0], 3):.3f} ({round(df[\"accuracy_test_lower_ci\"].values[0], 3):.3f}-{round(df[\"accuracy_test_upper_ci\"].values[0], 3):.3f})']\n",
    "    preprocessed_df[\"Precision (positive predictive value)\"] = [f'{round(df[\"precision_test\"].values[0], 3):.3f} ({round(df[\"precision_test_lower_ci\"].values[0], 3):.3f}-{round(df[\"precision_test_upper_ci\"].values[0], 3):.3f})']\n",
    "    preprocessed_df[\"Recall (Sensitivity)\"] = [f'{round(df[\"recall_test\"].values[0], 3):.3f} ({round(df[\"recall_test_lower_ci\"].values[0], 3):.3f}-{round(df[\"recall_test_upper_ci\"].values[0], 3):.3f})']\n",
    "    if 'specificity_test' in df.columns:\n",
    "        preprocessed_df[\"Specificity\"] = [f'{round(df[\"specificity_test\"].values[0], 3):.3f} ({round(df[\"specificity_test_lower_ci\"].values[0], 3):.3f}-{round(df[\"specificity_test_upper_ci\"].values[0], 3):.3f})']\n",
    "    else:\n",
    "        preprocessed_df[\"Specificity\"] = [f'NA']\n",
    "\n",
    "    preprocessed_df['Model'] = [model_name]\n",
    "    preprocessed_df['Outcome'] = [outcome]\n",
    "    preprocessed_df['Dataset'] = [dataset_name]\n",
    "\n",
    "    return preprocessed_df"
   ]
  },
  {
   "cell_type": "code",
   "execution_count": null,
   "metadata": {
    "ExecuteTime": {
     "end_time": "2023-04-27T18:49:26.621006Z",
     "start_time": "2023-04-27T18:49:26.608773Z"
    }
   },
   "outputs": [],
   "source": [
    "processed_mrs02_xgb_df = preprocess_df(mrs02_xgb_df, 'XGB', '3M mrs02', 'GSU')\n",
    "processed_death_xgb_df = preprocess_df(death_xgb_df, 'XGB', '3M Death', 'GSU')\n",
    "processed_death_mimic_xgb_df = preprocess_df(death_mimic_xgb_df, 'XGB', '3M Death', 'MIMIC')"
   ]
  },
  {
   "cell_type": "code",
   "execution_count": null,
   "metadata": {
    "ExecuteTime": {
     "end_time": "2023-04-27T18:49:27.039143Z",
     "start_time": "2023-04-27T18:49:27.029526Z"
    }
   },
   "outputs": [],
   "source": [
    "processed_mrs02_transformer_df = preprocess_df(mrs02_transformer_df, 'Transformer', '3M mrs02', 'GSU')\n",
    "processed_death_transformer_df = preprocess_df(death_transformer_df, 'Transformer', '3M Death', 'GSU')\n",
    "processed_death_mimic_transformer_df = preprocess_df(death_mimic_transformer_df, 'Transformer', '3M Death', 'MIMIC')"
   ]
  },
  {
   "cell_type": "code",
   "execution_count": null,
   "metadata": {
    "ExecuteTime": {
     "end_time": "2023-04-27T18:49:27.471453Z",
     "start_time": "2023-04-27T18:49:27.456073Z"
    }
   },
   "outputs": [],
   "source": [
    "processed_mrs02_lstm_df = preprocess_df(mrs02_lstm_df, 'LSTM', '3M mrs02', 'GSU')\n",
    "processed_death_lstm_df = preprocess_df(death_lstm_df, 'LSTM', '3M Death', 'GSU')\n",
    "processed_death_mimic_lstm_df = preprocess_df(death_mimic_lstm_df, 'LSTM', '3M Death', 'MIMIC')"
   ]
  },
  {
   "cell_type": "code",
   "execution_count": null,
   "metadata": {
    "ExecuteTime": {
     "end_time": "2023-04-27T18:49:27.826228Z",
     "start_time": "2023-04-27T18:49:27.813779Z"
    }
   },
   "outputs": [],
   "source": [
    "processed_mrs02_thrivec_df = preprocess_df(mrs02_thrivec_df, 'THRIVE-C', '3M mrs02', 'GSU')\n",
    "processed_death_thrivec_df = preprocess_df(death_thrivec_df, 'THRIVE-C', '3M Death', 'GSU')"
   ]
  },
  {
   "cell_type": "code",
   "execution_count": null,
   "metadata": {
    "ExecuteTime": {
     "end_time": "2023-04-27T18:49:28.660713Z",
     "start_time": "2023-04-27T18:49:28.652696Z"
    }
   },
   "outputs": [],
   "source": [
    "overall_mrs02_results_df = pd.concat([processed_mrs02_transformer_df, processed_mrs02_xgb_df, processed_mrs02_lstm_df, processed_mrs02_thrivec_df])"
   ]
  },
  {
   "cell_type": "code",
   "execution_count": null,
   "metadata": {
    "ExecuteTime": {
     "end_time": "2023-04-27T18:49:29.026948Z",
     "start_time": "2023-04-27T18:49:29.024395Z"
    }
   },
   "outputs": [],
   "source": [
    "overall_death_results_df = pd.concat([processed_death_transformer_df, processed_death_xgb_df, processed_death_lstm_df, processed_death_thrivec_df])"
   ]
  },
  {
   "cell_type": "code",
   "execution_count": null,
   "metadata": {
    "ExecuteTime": {
     "end_time": "2023-04-27T18:49:29.391550Z",
     "start_time": "2023-04-27T18:49:29.383342Z"
    }
   },
   "outputs": [],
   "source": [
    "overall_death_mimic_results_df = pd.concat([processed_death_mimic_transformer_df, processed_death_mimic_xgb_df, processed_death_mimic_lstm_df])"
   ]
  },
  {
   "cell_type": "code",
   "execution_count": null,
   "metadata": {
    "ExecuteTime": {
     "end_time": "2023-04-27T18:49:30.399661Z",
     "start_time": "2023-04-27T18:49:30.373612Z"
    }
   },
   "outputs": [],
   "source": [
    "overall_mrs02_results_df"
   ]
  },
  {
   "cell_type": "code",
   "execution_count": null,
   "metadata": {
    "ExecuteTime": {
     "end_time": "2023-04-27T18:49:31.244791Z",
     "start_time": "2023-04-27T18:49:31.239955Z"
    }
   },
   "outputs": [],
   "source": [
    "overall_death_results_df"
   ]
  },
  {
   "cell_type": "code",
   "execution_count": null,
   "metadata": {
    "ExecuteTime": {
     "end_time": "2023-04-27T18:49:32.105289Z",
     "start_time": "2023-04-27T18:49:32.100966Z"
    }
   },
   "outputs": [],
   "source": [
    "overall_death_mimic_results_df"
   ]
  },
  {
   "cell_type": "code",
   "execution_count": null,
   "metadata": {
    "ExecuteTime": {
     "end_time": "2023-04-26T10:35:53.450033Z",
     "start_time": "2023-04-26T10:35:53.391206Z"
    }
   },
   "outputs": [],
   "source": [
    "# save results as csv\n",
    "overall_mrs02_results_df.to_csv(os.path.join(output_dir, 'mrs02_model_comparison.csv'), index=False)\n",
    "overall_death_results_df.to_csv(os.path.join(output_dir, 'death_model_comparison.csv'), index=False)\n",
    "overall_death_mimic_results_df.to_csv(os.path.join(output_dir, 'death_mimic_model_comparison.csv'), index=False)"
   ]
  },
  {
   "cell_type": "code",
   "execution_count": null,
   "metadata": {
    "ExecuteTime": {
     "end_time": "2023-04-26T10:36:55.901563Z",
     "start_time": "2023-04-26T10:36:55.862910Z"
    }
   },
   "outputs": [],
   "source": [
    "# save joined table\n",
    "overall_results_df = pd.concat([overall_mrs02_results_df, overall_death_results_df, overall_death_mimic_results_df])\n",
    "overall_results_df.to_csv(os.path.join(output_dir, 'overall_model_comparison.csv'), index=False)"
   ]
  },
  {
   "cell_type": "code",
   "execution_count": null,
   "metadata": {},
   "outputs": [],
   "source": []
  }
 ],
 "metadata": {
  "kernelspec": {
   "display_name": "Python 3",
   "language": "python",
   "name": "python3"
  },
  "language_info": {
   "codemirror_mode": {
    "name": "ipython",
    "version": 2
   },
   "file_extension": ".py",
   "mimetype": "text/x-python",
   "name": "python",
   "nbconvert_exporter": "python",
   "pygments_lexer": "ipython2",
   "version": "2.7.6"
  }
 },
 "nbformat": 4,
 "nbformat_minor": 0
}
