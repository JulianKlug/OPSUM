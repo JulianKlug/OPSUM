{
 "cells": [
  {
   "cell_type": "code",
   "execution_count": null,
   "metadata": {
    "ExecuteTime": {
     "end_time": "2023-04-08T16:03:27.496183Z",
     "start_time": "2023-04-08T16:03:26.350115Z"
    }
   },
   "outputs": [],
   "source": [
    "import pickle\n",
    "import numpy as np"
   ]
  },
  {
   "cell_type": "code",
   "execution_count": null,
   "metadata": {
    "ExecuteTime": {
     "end_time": "2023-04-08T16:10:00.829516Z",
     "start_time": "2023-04-08T16:10:00.826246Z"
    }
   },
   "outputs": [],
   "source": [
    "xgb_predictions_path = '/Users/jk1/temp/opsum_prediction_output/linear_72h_xgb/with_feature_aggregration/testing/test_gt_and_pred.pkl'\n",
    "transformer_predictions_path = '/Users/jk1/Downloads/transformer_20230402_184459_test_set_evaluation/fold_2_test_gt_and_pred.pkl'"
   ]
  },
  {
   "cell_type": "code",
   "execution_count": null,
   "metadata": {
    "ExecuteTime": {
     "end_time": "2023-04-08T16:13:51.777863Z",
     "start_time": "2023-04-08T16:13:51.768665Z"
    }
   },
   "outputs": [],
   "source": [
    "xgb_gt, xgb_predictions = pickle.load(open(xgb_predictions_path, 'rb'))\n",
    "transformer_gt, transformer_predictions = pickle.load(open(transformer_predictions_path, 'rb'))"
   ]
  },
  {
   "cell_type": "code",
   "execution_count": null,
   "metadata": {
    "ExecuteTime": {
     "end_time": "2023-04-08T16:14:10.446825Z",
     "start_time": "2023-04-08T16:14:10.441837Z"
    }
   },
   "outputs": [],
   "source": [
    "all(xgb_gt == transformer_gt)"
   ]
  },
  {
   "cell_type": "markdown",
   "metadata": {
    "collapsed": false
   },
   "source": [
    "Using DeLong's test to compare the two models"
   ]
  },
  {
   "cell_type": "code",
   "execution_count": null,
   "metadata": {
    "ExecuteTime": {
     "end_time": "2023-04-08T16:17:05.732457Z",
     "start_time": "2023-04-08T16:17:05.725830Z"
    }
   },
   "outputs": [],
   "source": [
    "from prediction.outcome_prediction.model_comparison.de_long_comparison import delong_roc_test\n",
    "\n",
    "10 ** delong_roc_test(xgb_gt, xgb_predictions, transformer_predictions)"
   ]
  },
  {
   "cell_type": "markdown",
   "metadata": {
    "collapsed": false
   },
   "source": [
    "Using the pyroc package to compare the two models"
   ]
  },
  {
   "cell_type": "code",
   "execution_count": null,
   "metadata": {
    "ExecuteTime": {
     "end_time": "2023-04-08T16:21:47.581559Z",
     "start_time": "2023-04-08T16:21:47.008665Z"
    }
   },
   "outputs": [],
   "source": [
    "import pyroc\n",
    "\n",
    "roc = pyroc.ROC(xgb_gt, [xgb_predictions, transformer_predictions])"
   ]
  },
  {
   "cell_type": "code",
   "execution_count": null,
   "metadata": {
    "ExecuteTime": {
     "end_time": "2023-04-08T16:22:16.508598Z",
     "start_time": "2023-04-08T16:22:16.500158Z"
    }
   },
   "outputs": [],
   "source": [
    "roc.compare(contrast=[1, -1], alpha=0.05)"
   ]
  },
  {
   "cell_type": "code",
   "execution_count": null,
   "metadata": {},
   "outputs": [],
   "source": []
  }
 ],
 "metadata": {
  "kernelspec": {
   "display_name": "Python 3",
   "language": "python",
   "name": "python3"
  },
  "language_info": {
   "codemirror_mode": {
    "name": "ipython",
    "version": 2
   },
   "file_extension": ".py",
   "mimetype": "text/x-python",
   "name": "python",
   "nbconvert_exporter": "python",
   "pygments_lexer": "ipython2",
   "version": "2.7.6"
  }
 },
 "nbformat": 4,
 "nbformat_minor": 0
}
