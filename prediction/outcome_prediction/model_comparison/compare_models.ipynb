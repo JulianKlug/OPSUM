{
 "cells": [
  {
   "cell_type": "code",
   "execution_count": null,
   "metadata": {
    "ExecuteTime": {
     "end_time": "2023-04-16T01:01:39.726444Z",
     "start_time": "2023-04-16T01:01:39.723120Z"
    }
   },
   "outputs": [],
   "source": [
    "import pickle\n",
    "import numpy as np"
   ]
  },
  {
   "cell_type": "code",
   "execution_count": null,
   "metadata": {
    "ExecuteTime": {
     "end_time": "2023-04-16T01:01:39.950309Z",
     "start_time": "2023-04-16T01:01:39.945876Z"
    }
   },
   "outputs": [],
   "source": [
    "xgb_mrs_predictions_path = '/Users/jk1/temp/opsum_prediction_output/linear_72h_xgb/with_feature_aggregration/testing/test_gt_and_pred.pkl'\n",
    "transformer_mrs_predictions_path = '/Users/jk1/Downloads/transformer_20230402_184459_test_set_evaluation/fold_2_test_gt_and_pred.pkl'\n",
    "\n",
    "xgb_death_predictions_path = '/Users/jk1/temp/opsum_prediction_output/linear_72h_xgb/3M_Death/testing/test_gt_and_pred.pkl'\n",
    "transformer_death_predictions_path = '/Users/jk1/temp/opsum_prediction_output/transformer/3M_Death/testing/fold_1_test_gt_and_pred.pkl'\n",
    "\n",
    "xgb_mimic_death_predictions_path = '/Users/jk1/temp/opsum_prediction_output/linear_72h_xgb/3M_Death/external_validation/external_validation_gt_and_pred.pkl'\n",
    "transformer_mimic_death_predictions_path = '/Users/jk1/temp/opsum_prediction_output/transformer/3M_Death/external_validation/fold_1_test_gt_and_pred.pkl'"
   ]
  },
  {
   "cell_type": "code",
   "execution_count": null,
   "metadata": {
    "ExecuteTime": {
     "end_time": "2023-04-16T01:01:40.189202Z",
     "start_time": "2023-04-16T01:01:40.185104Z"
    }
   },
   "outputs": [],
   "source": [
    "outcome = 'MIMIC 3M Death'"
   ]
  },
  {
   "cell_type": "code",
   "execution_count": null,
   "metadata": {
    "ExecuteTime": {
     "end_time": "2023-04-16T01:01:40.510764Z",
     "start_time": "2023-04-16T01:01:40.507203Z"
    }
   },
   "outputs": [],
   "source": [
    "if outcome == '3M Death':\n",
    "    xgb_predictions_path = xgb_death_predictions_path\n",
    "    transformer_predictions_path = transformer_death_predictions_path\n",
    "elif outcome == '3M mRS 0-2':\n",
    "    xgb_predictions_path = xgb_mrs_predictions_path\n",
    "    transformer_predictions_path = transformer_mrs_predictions_path\n",
    "\n",
    "elif outcome == 'MIMIC 3M Death':\n",
    "    xgb_predictions_path = xgb_mimic_death_predictions_path\n",
    "    transformer_predictions_path = transformer_mimic_death_predictions_path\n",
    "else:\n",
    "    raise ValueError('Unknown outcome')"
   ]
  },
  {
   "cell_type": "code",
   "execution_count": null,
   "metadata": {
    "ExecuteTime": {
     "end_time": "2023-04-16T01:01:41.410768Z",
     "start_time": "2023-04-16T01:01:41.407155Z"
    }
   },
   "outputs": [],
   "source": [
    "xgb_gt, xgb_predictions = pickle.load(open(xgb_predictions_path, 'rb'))\n",
    "transformer_gt, transformer_predictions = pickle.load(open(transformer_predictions_path, 'rb'))"
   ]
  },
  {
   "cell_type": "code",
   "execution_count": null,
   "metadata": {
    "ExecuteTime": {
     "end_time": "2023-04-16T01:01:41.758871Z",
     "start_time": "2023-04-16T01:01:41.750348Z"
    }
   },
   "outputs": [],
   "source": [
    "all(xgb_gt == transformer_gt)"
   ]
  },
  {
   "cell_type": "markdown",
   "metadata": {
    "collapsed": false
   },
   "source": [
    "Using DeLong's test to compare the two models"
   ]
  },
  {
   "cell_type": "code",
   "execution_count": null,
   "metadata": {
    "ExecuteTime": {
     "end_time": "2023-04-16T01:01:43.890354Z",
     "start_time": "2023-04-16T01:01:43.855875Z"
    }
   },
   "outputs": [],
   "source": [
    "from prediction.outcome_prediction.model_comparison.de_long_comparison import delong_roc_test\n",
    "\n",
    "10 ** delong_roc_test(xgb_gt, xgb_predictions, transformer_predictions)"
   ]
  },
  {
   "cell_type": "markdown",
   "metadata": {
    "collapsed": false
   },
   "source": [
    "Using the pyroc package to compare the two models"
   ]
  },
  {
   "cell_type": "code",
   "execution_count": null,
   "metadata": {
    "ExecuteTime": {
     "end_time": "2023-04-08T16:21:47.581559Z",
     "start_time": "2023-04-08T16:21:47.008665Z"
    }
   },
   "outputs": [],
   "source": [
    "import pyroc\n",
    "\n",
    "roc = pyroc.ROC(xgb_gt, [xgb_predictions, transformer_predictions])"
   ]
  },
  {
   "cell_type": "code",
   "execution_count": null,
   "metadata": {
    "ExecuteTime": {
     "end_time": "2023-04-08T16:22:16.508598Z",
     "start_time": "2023-04-08T16:22:16.500158Z"
    }
   },
   "outputs": [],
   "source": [
    "roc.compare(contrast=[1, -1], alpha=0.05)"
   ]
  },
  {
   "cell_type": "code",
   "execution_count": null,
   "metadata": {},
   "outputs": [],
   "source": []
  }
 ],
 "metadata": {
  "kernelspec": {
   "display_name": "Python 3",
   "language": "python",
   "name": "python3"
  },
  "language_info": {
   "codemirror_mode": {
    "name": "ipython",
    "version": 2
   },
   "file_extension": ".py",
   "mimetype": "text/x-python",
   "name": "python",
   "nbconvert_exporter": "python",
   "pygments_lexer": "ipython2",
   "version": "2.7.6"
  }
 },
 "nbformat": 4,
 "nbformat_minor": 0
}
