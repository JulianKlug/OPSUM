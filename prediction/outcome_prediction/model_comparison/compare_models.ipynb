{
 "cells": [
  {
   "cell_type": "code",
   "execution_count": null,
   "metadata": {
    "ExecuteTime": {
     "end_time": "2024-03-04T10:41:10.741501Z",
     "start_time": "2024-03-04T10:41:10.736452Z"
    }
   },
   "outputs": [],
   "source": [
    "import pickle\n",
    "import numpy as np\n",
    "import pandas as pd"
   ]
  },
  {
   "cell_type": "code",
   "execution_count": null,
   "metadata": {
    "ExecuteTime": {
     "end_time": "2024-03-04T10:44:14.169389Z",
     "start_time": "2024-03-04T10:44:14.149288Z"
    }
   },
   "outputs": [],
   "source": [
    "xgb_mrs_predictions_path = '/Users/jk1/temp/opsum_prediction_output/linear_72h_xgb/3M_mrs02/with_feature_aggregration/testing/test_gt_and_pred.pkl'\n",
    "transformer_mrs_predictions_path = '/Users/jk1/temp/opsum_prediction_output/transformer/3M_mrs02/transformer_20230402_184459_test_set_evaluation/fold_2_test_gt_and_pred.pkl'\n",
    "mlp_mrs_predictions_path = '/Users/jk1/temp/opsum_prediction_output/linear_72h_perceptron/mrs02/with_feature_aggregration_mlp/all_folds/test_gt_and_pred_cv_2.pkl'\n",
    "lstm_mrs_predictions_path = '/Users/jk1/temp/opsum_prediction_output/LSTM_72h/testing/3M_mRS02/2023_01_02_1057/test_LSTM_sigmoid_all_balanced_0.2_2_True_RMSprop_3M mRS 0-2_16_3/test_gt_and_pred.pkl'\n",
    "thrivec_mrs_predictions_path = '/Users/jk1/temp/opsum_prediction_output/THRIVE_C/THRIVE_C_3m_mrs02_predictions/test_gt_and_pred.pkl'\n",
    "\n",
    "xgb_death_predictions_path = '/Users/jk1/temp/opsum_prediction_output/linear_72h_xgb/3M_Death/testing/test_gt_and_pred.pkl'\n",
    "transformer_death_predictions_path = '/Users/jk1/temp/opsum_prediction_output/transformer/3M_Death/testing/fold_1_test_gt_and_pred.pkl'\n",
    "mlp_death_predictions_path = '/Users/jk1/temp/opsum_prediction_output/linear_72h_perceptron/death/feature_aggregration_mlp/testing/test_gt_and_pred_cv_2.pkl'\n",
    "lstm_death_predictions_path = '/Users/jk1/temp/opsum_prediction_output/LSTM_72h/testing/3M_Death/2023_01_04_2020/all_folds/test_LSTM_sigmoid_all_balanced_0.0_2_True_RMSprop_3M Death_128_2/test_gt_and_pred_fold_2.pkl'\n",
    "thrivec_death_predictions_path = '/Users/jk1/temp/opsum_prediction_output/THRIVE_C/THRIVE_C_3m_death_predictions/3m_death_test_gt_and_pred.pkl'\n",
    "\n",
    "xgb_death_in_hospital_predictions_path = '/Users/jk1/temp/opsum_prediction_output/linear_72h_xgb/Death_in_hospital/testing/test_gt_and_pred_cv_2.pkl'\n",
    "transformer_death_in_hospital_predictions_path = '/Users/jk1/temp/opsum_prediction_output/transformer/Death_in_hospital/testing/15_02_23/fold_2_test_gt_and_pred.pkl'\n",
    "lstm_death_in_hospital_predictions_path = '/Users/jk1/temp/opsum_prediction_output/LSTM_72h/testing/Death_in_hospital/2024_02_05_1346/LSTM_test_death_in_hospital/test_LSTM_sigmoid_all_unchanged_0.2_1_True_RMSprop_Death in hospital_32_3/test_gt_and_pred_fold_3.pkl'\n",
    "thrive_c_death_in_hosp_predictions_path = '/Users/jk1/temp/opsum_prediction_output/THRIVE_C/THRIVE_C_death_in_hospital_predictions/death_in_hospital_test_gt_and_pred.pkl'\n",
    "\n",
    "xgb_mimic_death_predictions_path = '/Users/jk1/temp/opsum_prediction_output/linear_72h_xgb/3M_Death/external_validation/external_validation_gt_and_pred.pkl'\n",
    "transformer_mimic_death_predictions_path = '/Users/jk1/temp/opsum_prediction_output/transformer/3M_Death/external_validation/fold_1_test_gt_and_pred.pkl'\n",
    "mlp_mimic_death_predictions_path = '/Users/jk1/temp/opsum_prediction_output/linear_72h_perceptron/death/feature_aggregration_mlp/external_validation/fold_2_test_gt_and_pred.pkl'\n",
    "lstm_mimic_death_predictions_path = '/Users/jk1/temp/opsum_prediction_output/LSTM_72h/external_validation/3M_Death/2023_01_04_2020/all_folds/test_LSTM_sigmoid_all_balanced_0.0_2_True_RMSprop_3M Death_128_2/test_gt_and_pred_fold_2.pkl'\n",
    "\n",
    "xgb_mimic_death_in_hospital_predictions_path = '/Users/jk1/temp/opsum_prediction_output/linear_72h_xgb/Death_in_hospital/external_validation/external_validation_gt_and_pred_cv_2.pkl' \n",
    "transformer_mimic_death_in_hospital_predictions_path = '/Users/jk1/temp/opsum_prediction_output/transformer/Death_in_hospital/external_validation/fold_2_test_gt_and_pred.pkl'\n",
    "lstm_mimic_death_in_hospital_predictions_path = '/Users/jk1/temp/opsum_prediction_output/LSTM_72h/external_validation/Death_in_hospital/2024_02_24/test_LSTM_sigmoid_all_unchanged_0.2_1_True_RMSprop_Death in hospital_32_3/test_gt_and_pred_fold_3.pkl'"
   ]
  },
  {
   "cell_type": "markdown",
   "metadata": {
    "collapsed": false
   },
   "source": [
    "# Compare transformer and XGB"
   ]
  },
  {
   "cell_type": "code",
   "execution_count": null,
   "metadata": {
    "ExecuteTime": {
     "end_time": "2024-03-04T10:41:13.175397Z",
     "start_time": "2024-03-04T10:41:10.970365Z"
    }
   },
   "outputs": [],
   "source": [
    "from sklearn.metrics import roc_curve, auc\n",
    "# Create a table with the AUC of the two models for mrs / death and mimic (with p-values)\n",
    "\n",
    "import pandas as pd\n",
    "import numpy as np\n",
    "from prediction.outcome_prediction.model_comparison.de_long_comparison import delong_roc_test\n",
    "\n",
    "def get_auc(gt, predictions):\n",
    "    fpr, tpr, _ = roc_curve(gt, predictions)\n",
    "    return auc(fpr, tpr)\n",
    "\n",
    "def get_auc_and_p_value(gt, other_model_predictions, transformer_predictions):\n",
    "    auc_other_model = get_auc(gt, other_model_predictions)\n",
    "    auc_transformer = get_auc(gt, transformer_predictions)\n",
    "    p_value = 10 ** delong_roc_test(gt, other_model_predictions, transformer_predictions)\n",
    "    return auc_other_model, auc_transformer, p_value\n",
    "\n",
    "def get_auc_and_p_value_for_outcome(outcome):\n",
    "    if outcome == '3M Death':\n",
    "        xgb_predictions_path = xgb_death_predictions_path\n",
    "        transformer_predictions_path = transformer_death_predictions_path\n",
    "    elif outcome == '3M mRS 0-2':\n",
    "        xgb_predictions_path = xgb_mrs_predictions_path\n",
    "        transformer_predictions_path = transformer_mrs_predictions_path\n",
    "    elif outcome == 'Death in hospital':\n",
    "        xgb_predictions_path = xgb_death_in_hospital_predictions_path\n",
    "        transformer_predictions_path = transformer_death_in_hospital_predictions_path\n",
    "    elif outcome == 'MIMIC 3M Death':\n",
    "        xgb_predictions_path = xgb_mimic_death_predictions_path\n",
    "        transformer_predictions_path = transformer_mimic_death_predictions_path\n",
    "    elif outcome == 'MIMIC Death in hospital':\n",
    "        xgb_predictions_path = xgb_mimic_death_in_hospital_predictions_path\n",
    "        transformer_predictions_path = transformer_mimic_death_in_hospital_predictions_path\n",
    "    else:\n",
    "        raise ValueError('Unknown outcome')\n",
    "\n",
    "    xgb_gt, xgb_predictions = pickle.load(open(xgb_predictions_path, 'rb'))\n",
    "    transformer_gt, transformer_predictions = pickle.load(open(transformer_predictions_path, 'rb'))\n",
    "\n",
    "    auc_xgb, auc_transformer, p_value = get_auc_and_p_value(xgb_gt, xgb_predictions, transformer_predictions)\n",
    "    return auc_xgb, auc_transformer, p_value\n",
    "\n",
    "df = pd.DataFrame(columns=['Outcome', 'XGB AUC', 'Transformer AUC', 'p-value'])\n",
    "for outcome in ['Death in hospital', '3M Death', '3M mRS 0-2', 'MIMIC Death in hospital','MIMIC 3M Death']:\n",
    "    auc_xgb, auc_transformer, p_value = get_auc_and_p_value_for_outcome(outcome)\n",
    "    df = df.append({'Outcome': outcome, 'XGB AUC': auc_xgb, 'Transformer AUC': auc_transformer, 'p-value': p_value[0][0]}, ignore_index=True)\n"
   ]
  },
  {
   "cell_type": "code",
   "execution_count": null,
   "metadata": {
    "ExecuteTime": {
     "end_time": "2024-03-04T10:41:13.201779Z",
     "start_time": "2024-03-04T10:41:13.175376Z"
    }
   },
   "outputs": [],
   "source": [
    "df"
   ]
  },
  {
   "cell_type": "code",
   "execution_count": null,
   "metadata": {
    "ExecuteTime": {
     "end_time": "2024-03-04T10:41:13.210593Z",
     "start_time": "2024-03-04T10:41:13.199100Z"
    }
   },
   "outputs": [],
   "source": [
    "# df.to_csv('/Users/jk1/Downloads/model_comparison_xgb_transformer.csv')"
   ]
  },
  {
   "cell_type": "markdown",
   "metadata": {
    "collapsed": false
   },
   "source": [
    "# Compare MLP with transformer"
   ]
  },
  {
   "cell_type": "code",
   "execution_count": null,
   "metadata": {
    "ExecuteTime": {
     "end_time": "2023-07-05T20:54:35.739601Z",
     "start_time": "2023-07-05T20:54:35.716469Z"
    }
   },
   "outputs": [],
   "source": [
    "def get_auc_and_p_value_for_outcome_mlp(outcome):\n",
    "    if outcome == '3M Death':\n",
    "        mlp_predictions_path = mlp_death_predictions_path\n",
    "        transformer_predictions_path = transformer_death_predictions_path\n",
    "    elif outcome == '3M mRS 0-2':\n",
    "        mlp_predictions_path = mlp_mrs_predictions_path\n",
    "        transformer_predictions_path = transformer_mrs_predictions_path\n",
    "\n",
    "    elif outcome == 'MIMIC 3M Death':\n",
    "        mlp_predictions_path = mlp_mimic_death_predictions_path\n",
    "        transformer_predictions_path = transformer_mimic_death_predictions_path\n",
    "    else:\n",
    "        raise ValueError('Unknown outcome')\n",
    "\n",
    "    mlp_gt, mlp_predictions = pickle.load(open(mlp_predictions_path, 'rb'))\n",
    "    transformer_gt, transformer_predictions = pickle.load(open(transformer_predictions_path, 'rb'))\n",
    "\n",
    "    auc_mlp, auc_transformer, p_value = get_auc_and_p_value(mlp_gt, mlp_predictions, transformer_predictions)\n",
    "    return auc_mlp, auc_transformer, p_value\n",
    "\n",
    "df = pd.DataFrame(columns=['Outcome', 'MLP AUC', 'Transformer AUC', 'p-value'])\n",
    "for outcome in ['3M Death', '3M mRS 0-2', 'MIMIC 3M Death']:\n",
    "    auc_mlp, auc_transformer, p_value = get_auc_and_p_value_for_outcome_mlp(outcome)\n",
    "    df = df.append({'Outcome': outcome, 'MLP AUC': auc_mlp, 'Transformer AUC': auc_transformer, 'p-value': p_value[0][0]}, ignore_index=True)"
   ]
  },
  {
   "cell_type": "code",
   "execution_count": null,
   "metadata": {
    "ExecuteTime": {
     "end_time": "2023-07-05T20:54:37.116464Z",
     "start_time": "2023-07-05T20:54:37.109454Z"
    }
   },
   "outputs": [],
   "source": [
    "df"
   ]
  },
  {
   "cell_type": "code",
   "execution_count": null,
   "metadata": {
    "ExecuteTime": {
     "end_time": "2023-05-09T07:42:39.360824Z",
     "start_time": "2023-05-09T07:42:39.354227Z"
    }
   },
   "outputs": [],
   "source": [
    "# df.to_csv('/Users/jk1/Downloads/model_comparison_mlp_transformer.csv')"
   ]
  },
  {
   "cell_type": "markdown",
   "metadata": {
    "collapsed": false
   },
   "source": [
    "# Compare LSTM with transformer"
   ]
  },
  {
   "cell_type": "code",
   "execution_count": null,
   "metadata": {
    "ExecuteTime": {
     "end_time": "2024-03-04T10:44:18.851826Z",
     "start_time": "2024-03-04T10:44:18.808591Z"
    }
   },
   "outputs": [],
   "source": [
    "def get_auc_and_p_value_for_outcome_lstm(outcome):\n",
    "    if outcome == '3M Death':\n",
    "        lstm_predictions_path = lstm_death_predictions_path\n",
    "        transformer_predictions_path = transformer_death_predictions_path\n",
    "    elif outcome == '3M mRS 0-2':\n",
    "        lstm_predictions_path = lstm_mrs_predictions_path\n",
    "        transformer_predictions_path = transformer_mrs_predictions_path\n",
    "    elif outcome == 'Death in hospital':\n",
    "        lstm_predictions_path = lstm_death_in_hospital_predictions_path\n",
    "        transformer_predictions_path = transformer_death_in_hospital_predictions_path\n",
    "    elif outcome == 'MIMIC 3M Death':\n",
    "        lstm_predictions_path = lstm_mimic_death_predictions_path\n",
    "        transformer_predictions_path = transformer_mimic_death_predictions_path\n",
    "    elif outcome == 'MIMIC Death in hospital':\n",
    "        lstm_predictions_path = lstm_mimic_death_in_hospital_predictions_path\n",
    "        transformer_predictions_path = transformer_mimic_death_in_hospital_predictions_path\n",
    "    else:\n",
    "        raise ValueError('Unknown outcome')\n",
    "\n",
    "    lstm_gt, lstm_predictions = pickle.load(open(lstm_predictions_path, 'rb'))\n",
    "    transformer_gt, transformer_predictions = pickle.load(open(transformer_predictions_path, 'rb'))\n",
    "    print(lstm_gt.shape, lstm_predictions.shape, transformer_predictions.shape)\n",
    "\n",
    "    auc_lstm, auc_transformer, p_value = get_auc_and_p_value(lstm_gt, lstm_predictions.squeeze(), transformer_predictions)\n",
    "    return auc_lstm, auc_transformer, p_value\n",
    "\n",
    "df = pd.DataFrame(columns=['Outcome', 'LSTM AUC', 'Transformer AUC', 'p-value'])\n",
    "for outcome in ['Death in hospital', '3M Death', '3M mRS 0-2', 'MIMIC Death in hospital','MIMIC 3M Death']:\n",
    "    auc_lstm, auc_transformer, p_value = get_auc_and_p_value_for_outcome_lstm(outcome)\n",
    "    df = df.append({'Outcome': outcome, 'LSTM AUC': auc_lstm, 'Transformer AUC': auc_transformer, 'p-value': p_value[0][0]}, ignore_index=True)"
   ]
  },
  {
   "cell_type": "code",
   "execution_count": null,
   "metadata": {
    "ExecuteTime": {
     "end_time": "2024-03-04T10:44:21.571654Z",
     "start_time": "2024-03-04T10:44:21.567303Z"
    }
   },
   "outputs": [],
   "source": [
    "df"
   ]
  },
  {
   "cell_type": "code",
   "execution_count": null,
   "metadata": {
    "ExecuteTime": {
     "end_time": "2024-03-04T10:45:08.827326Z",
     "start_time": "2024-03-04T10:45:08.817653Z"
    }
   },
   "outputs": [],
   "source": [
    "# df.to_csv('/Users/jk1/Downloads/model_comparison_lstm_transformer.csv')"
   ]
  },
  {
   "cell_type": "markdown",
   "metadata": {
    "collapsed": false
   },
   "source": [
    "# Compare THRIVE-C with transformer"
   ]
  },
  {
   "cell_type": "code",
   "execution_count": null,
   "metadata": {
    "ExecuteTime": {
     "end_time": "2023-07-05T21:04:20.154299Z",
     "start_time": "2023-07-05T21:04:20.123369Z"
    }
   },
   "outputs": [],
   "source": [
    "def get_auc_and_p_value_for_outcome_thrive(outcome):\n",
    "    if outcome == '3M Death':\n",
    "        thrive_predictions_path = thrivec_death_predictions_path\n",
    "        transformer_predictions_path = transformer_death_predictions_path\n",
    "    elif outcome == '3M mRS 0-2':\n",
    "        thrive_predictions_path = thrivec_mrs_predictions_path\n",
    "        transformer_predictions_path = transformer_mrs_predictions_path\n",
    "    else:\n",
    "        raise ValueError('Unknown outcome')\n",
    "\n",
    "    thrive_gt, thrive_predictions = pickle.load(open(thrive_predictions_path, 'rb'))\n",
    "    transformer_gt, transformer_predictions = pickle.load(open(transformer_predictions_path, 'rb'))\n",
    "\n",
    "    auc_thrive, auc_transformer, p_value = get_auc_and_p_value(thrive_gt, thrive_predictions.squeeze(), transformer_predictions)\n",
    "    return auc_thrive, auc_transformer, p_value\n",
    "\n",
    "df = pd.DataFrame(columns=['Outcome', 'THRIVE-C AUC', 'Transformer AUC', 'p-value'])\n",
    "for outcome in ['3M Death', '3M mRS 0-2']:\n",
    "    auc_thrive, auc_transformer, p_value = get_auc_and_p_value_for_outcome_thrive(outcome)\n",
    "    df = df.append({'Outcome': outcome, 'THRIVE-C AUC': auc_thrive, 'Transformer AUC': auc_transformer, 'p-value': p_value[0][0]}, ignore_index=True)"
   ]
  },
  {
   "cell_type": "code",
   "execution_count": null,
   "metadata": {},
   "outputs": [],
   "source": []
  }
 ],
 "metadata": {
  "kernelspec": {
   "display_name": "Python 3",
   "language": "python",
   "name": "python3"
  },
  "language_info": {
   "codemirror_mode": {
    "name": "ipython",
    "version": 2
   },
   "file_extension": ".py",
   "mimetype": "text/x-python",
   "name": "python",
   "nbconvert_exporter": "python",
   "pygments_lexer": "ipython2",
   "version": "2.7.6"
  }
 },
 "nbformat": 4,
 "nbformat_minor": 0
}
