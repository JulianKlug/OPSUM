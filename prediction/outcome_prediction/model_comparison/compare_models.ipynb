{
 "cells": [
  {
   "cell_type": "code",
   "execution_count": null,
   "metadata": {
    "ExecuteTime": {
     "end_time": "2023-05-09T07:40:29.840750Z",
     "start_time": "2023-05-09T07:40:29.833924Z"
    }
   },
   "outputs": [],
   "source": [
    "import pickle\n",
    "import numpy as np\n",
    "import pandas as pd"
   ]
  },
  {
   "cell_type": "code",
   "execution_count": null,
   "metadata": {
    "ExecuteTime": {
     "end_time": "2023-05-09T07:40:27.538556Z",
     "start_time": "2023-05-09T07:40:27.530727Z"
    }
   },
   "outputs": [],
   "source": [
    "xgb_mrs_predictions_path = '/Users/jk1/temp/opsum_prediction_output/linear_72h_xgb/3M_mrs02/with_feature_aggregration/testing/test_gt_and_pred.pkl'\n",
    "transformer_mrs_predictions_path = '/Users/jk1/temp/opsum_prediction_output/transformer/3M_mrs02/transformer_20230402_184459_test_set_evaluation/fold_2_test_gt_and_pred.pkl'\n",
    "mlp_mrs_predictions_path = '/Users/jk1/temp/opsum_prediction_output/linear_72h_perceptron/mrs02/with_feature_aggregration_mlp/all_folds/test_gt_and_pred_cv_2.pkl'\n",
    "\n",
    "xgb_death_predictions_path = '/Users/jk1/temp/opsum_prediction_output/linear_72h_xgb/3M_Death/testing/test_gt_and_pred.pkl'\n",
    "transformer_death_predictions_path = '/Users/jk1/temp/opsum_prediction_output/transformer/3M_Death/testing/fold_1_test_gt_and_pred.pkl'\n",
    "mlp_death_predictions_path = '/Users/jk1/temp/opsum_prediction_output/linear_72h_perceptron/death/feature_aggregration_mlp/testing/test_gt_and_pred_cv_2.pkl'\n",
    "\n",
    "xgb_mimic_death_predictions_path = '/Users/jk1/temp/opsum_prediction_output/linear_72h_xgb/3M_Death/external_validation/external_validation_gt_and_pred.pkl'\n",
    "transformer_mimic_death_predictions_path = '/Users/jk1/temp/opsum_prediction_output/transformer/3M_Death/external_validation/fold_1_test_gt_and_pred.pkl'\n",
    "mlp_mimic_death_predictions_path = '/Users/jk1/temp/opsum_prediction_output/linear_72h_perceptron/death/feature_aggregration_mlp/external_validation/fold_2_test_gt_and_pred.pkl'"
   ]
  },
  {
   "cell_type": "markdown",
   "metadata": {
    "collapsed": false
   },
   "source": [
    "# Compare transformer and XGB"
   ]
  },
  {
   "cell_type": "code",
   "execution_count": null,
   "metadata": {
    "ExecuteTime": {
     "end_time": "2023-05-09T07:43:03.623550Z",
     "start_time": "2023-05-09T07:43:03.597598Z"
    }
   },
   "outputs": [],
   "source": [
    "from sklearn.metrics import roc_curve, auc\n",
    "# Create a table with the AUC of the two models for mrs / death and mimic (with p-values)\n",
    "\n",
    "import pandas as pd\n",
    "import numpy as np\n",
    "from prediction.outcome_prediction.model_comparison.de_long_comparison import delong_roc_test\n",
    "\n",
    "def get_auc(gt, predictions):\n",
    "    fpr, tpr, _ = roc_curve(gt, predictions)\n",
    "    return auc(fpr, tpr)\n",
    "\n",
    "def get_auc_and_p_value(gt, other_model_predictions, transformer_predictions):\n",
    "    auc_other_model = get_auc(gt, other_model_predictions)\n",
    "    auc_transformer = get_auc(gt, transformer_predictions)\n",
    "    p_value = 10 ** delong_roc_test(gt, other_model_predictions, transformer_predictions)\n",
    "    return auc_other_model, auc_transformer, p_value\n",
    "\n",
    "def get_auc_and_p_value_for_outcome(outcome):\n",
    "    if outcome == '3M Death':\n",
    "        xgb_predictions_path = xgb_death_predictions_path\n",
    "        transformer_predictions_path = transformer_death_predictions_path\n",
    "    elif outcome == '3M mRS 0-2':\n",
    "        xgb_predictions_path = xgb_mrs_predictions_path\n",
    "        transformer_predictions_path = transformer_mrs_predictions_path\n",
    "\n",
    "    elif outcome == 'MIMIC 3M Death':\n",
    "        xgb_predictions_path = xgb_mimic_death_predictions_path\n",
    "        transformer_predictions_path = transformer_mimic_death_predictions_path\n",
    "    else:\n",
    "        raise ValueError('Unknown outcome')\n",
    "\n",
    "    xgb_gt, xgb_predictions = pickle.load(open(xgb_predictions_path, 'rb'))\n",
    "    transformer_gt, transformer_predictions = pickle.load(open(transformer_predictions_path, 'rb'))\n",
    "\n",
    "    auc_xgb, auc_transformer, p_value = get_auc_and_p_value(xgb_gt, xgb_predictions, transformer_predictions)\n",
    "    return auc_xgb, auc_transformer, p_value\n",
    "\n",
    "df = pd.DataFrame(columns=['Outcome', 'XGB AUC', 'Transformer AUC', 'p-value'])\n",
    "for outcome in ['3M Death', '3M mRS 0-2', 'MIMIC 3M Death']:\n",
    "    auc_xgb, auc_transformer, p_value = get_auc_and_p_value_for_outcome(outcome)\n",
    "    df = df.append({'Outcome': outcome, 'XGB AUC': auc_xgb, 'Transformer AUC': auc_transformer, 'p-value': p_value[0][0]}, ignore_index=True)\n"
   ]
  },
  {
   "cell_type": "code",
   "execution_count": null,
   "metadata": {
    "ExecuteTime": {
     "end_time": "2023-05-09T07:43:03.841186Z",
     "start_time": "2023-05-09T07:43:03.836087Z"
    }
   },
   "outputs": [],
   "source": [
    "df"
   ]
  },
  {
   "cell_type": "code",
   "execution_count": null,
   "metadata": {
    "ExecuteTime": {
     "end_time": "2023-05-09T07:43:04.165446Z",
     "start_time": "2023-05-09T07:43:04.157173Z"
    }
   },
   "outputs": [],
   "source": [
    "df.to_csv('/Users/jk1/Downloads/model_comparison_xgb_transformer.csv')"
   ]
  },
  {
   "cell_type": "markdown",
   "metadata": {
    "collapsed": false
   },
   "source": [
    "# Compare MLP with transformer"
   ]
  },
  {
   "cell_type": "code",
   "execution_count": null,
   "metadata": {
    "ExecuteTime": {
     "end_time": "2023-05-09T07:41:19.018954Z",
     "start_time": "2023-05-09T07:41:18.992761Z"
    }
   },
   "outputs": [],
   "source": [
    "def get_auc_and_p_value_for_outcome_mlp(outcome):\n",
    "    if outcome == '3M Death':\n",
    "        mlp_predictions_path = mlp_death_predictions_path\n",
    "        transformer_predictions_path = transformer_death_predictions_path\n",
    "    elif outcome == '3M mRS 0-2':\n",
    "        mlp_predictions_path = mlp_mrs_predictions_path\n",
    "        transformer_predictions_path = transformer_mrs_predictions_path\n",
    "\n",
    "    elif outcome == 'MIMIC 3M Death':\n",
    "        mlp_predictions_path = mlp_mimic_death_predictions_path\n",
    "        transformer_predictions_path = transformer_mimic_death_predictions_path\n",
    "    else:\n",
    "        raise ValueError('Unknown outcome')\n",
    "\n",
    "    mlp_gt, mlp_predictions = pickle.load(open(mlp_predictions_path, 'rb'))\n",
    "    transformer_gt, transformer_predictions = pickle.load(open(transformer_predictions_path, 'rb'))\n",
    "\n",
    "    auc_mlp, auc_transformer, p_value = get_auc_and_p_value(mlp_gt, mlp_predictions, transformer_predictions)\n",
    "    return auc_mlp, auc_transformer, p_value\n",
    "\n",
    "df = pd.DataFrame(columns=['Outcome', 'MLP AUC', 'Transformer AUC', 'p-value'])\n",
    "for outcome in ['3M Death', '3M mRS 0-2', 'MIMIC 3M Death']:\n",
    "    auc_mlp, auc_transformer, p_value = get_auc_and_p_value_for_outcome_mlp(outcome)\n",
    "    df = df.append({'Outcome': outcome, 'MLP AUC': auc_mlp, 'Transformer AUC': auc_transformer, 'p-value': p_value[0][0]}, ignore_index=True)"
   ]
  },
  {
   "cell_type": "code",
   "execution_count": null,
   "metadata": {
    "ExecuteTime": {
     "end_time": "2023-05-09T07:41:19.707300Z",
     "start_time": "2023-05-09T07:41:19.701502Z"
    }
   },
   "outputs": [],
   "source": [
    "df"
   ]
  },
  {
   "cell_type": "code",
   "execution_count": null,
   "metadata": {
    "ExecuteTime": {
     "end_time": "2023-05-09T07:42:39.360824Z",
     "start_time": "2023-05-09T07:42:39.354227Z"
    }
   },
   "outputs": [],
   "source": [
    "df.to_csv('/Users/jk1/Downloads/model_comparison_mlp_transformer.csv')"
   ]
  },
  {
   "cell_type": "code",
   "execution_count": null,
   "metadata": {},
   "outputs": [],
   "source": []
  }
 ],
 "metadata": {
  "kernelspec": {
   "display_name": "Python 3",
   "language": "python",
   "name": "python3"
  },
  "language_info": {
   "codemirror_mode": {
    "name": "ipython",
    "version": 2
   },
   "file_extension": ".py",
   "mimetype": "text/x-python",
   "name": "python",
   "nbconvert_exporter": "python",
   "pygments_lexer": "ipython2",
   "version": "2.7.6"
  }
 },
 "nbformat": 4,
 "nbformat_minor": 0
}
