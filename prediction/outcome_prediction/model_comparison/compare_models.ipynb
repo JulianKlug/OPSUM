{
 "cells": [
  {
   "cell_type": "code",
   "execution_count": null,
   "metadata": {
    "ExecuteTime": {
     "end_time": "2023-04-16T01:01:39.726444Z",
     "start_time": "2023-04-16T01:01:39.723120Z"
    }
   },
   "outputs": [],
   "source": [
    "import pickle\n",
    "import numpy as np"
   ]
  },
  {
   "cell_type": "code",
   "execution_count": null,
   "metadata": {
    "ExecuteTime": {
     "end_time": "2023-04-16T01:07:53.211187Z",
     "start_time": "2023-04-16T01:07:53.207988Z"
    }
   },
   "outputs": [],
   "source": [
    "xgb_mrs_predictions_path = '/Users/jk1/temp/opsum_prediction_output/linear_72h_xgb/3M_mrs02/with_feature_aggregration/testing/test_gt_and_pred.pkl'\n",
    "transformer_mrs_predictions_path = '/Users/jk1/temp/opsum_prediction_output/transformer/3M_mrs02/transformer_20230402_184459_test_set_evaluation/fold_2_test_gt_and_pred.pkl'\n",
    "\n",
    "xgb_death_predictions_path = '/Users/jk1/temp/opsum_prediction_output/linear_72h_xgb/3M_Death/testing/test_gt_and_pred.pkl'\n",
    "transformer_death_predictions_path = '/Users/jk1/temp/opsum_prediction_output/transformer/3M_Death/testing/fold_1_test_gt_and_pred.pkl'\n",
    "\n",
    "xgb_mimic_death_predictions_path = '/Users/jk1/temp/opsum_prediction_output/linear_72h_xgb/3M_Death/external_validation/external_validation_gt_and_pred.pkl'\n",
    "transformer_mimic_death_predictions_path = '/Users/jk1/temp/opsum_prediction_output/transformer/3M_Death/external_validation/fold_1_test_gt_and_pred.pkl'"
   ]
  },
  {
   "cell_type": "code",
   "execution_count": null,
   "metadata": {
    "ExecuteTime": {
     "end_time": "2023-04-16T01:01:40.189202Z",
     "start_time": "2023-04-16T01:01:40.185104Z"
    }
   },
   "outputs": [],
   "source": [
    "outcome = 'MIMIC 3M Death'"
   ]
  },
  {
   "cell_type": "code",
   "execution_count": null,
   "metadata": {
    "ExecuteTime": {
     "end_time": "2023-04-16T01:01:40.510764Z",
     "start_time": "2023-04-16T01:01:40.507203Z"
    }
   },
   "outputs": [],
   "source": [
    "if outcome == '3M Death':\n",
    "    xgb_predictions_path = xgb_death_predictions_path\n",
    "    transformer_predictions_path = transformer_death_predictions_path\n",
    "elif outcome == '3M mRS 0-2':\n",
    "    xgb_predictions_path = xgb_mrs_predictions_path\n",
    "    transformer_predictions_path = transformer_mrs_predictions_path\n",
    "\n",
    "elif outcome == 'MIMIC 3M Death':\n",
    "    xgb_predictions_path = xgb_mimic_death_predictions_path\n",
    "    transformer_predictions_path = transformer_mimic_death_predictions_path\n",
    "else:\n",
    "    raise ValueError('Unknown outcome')"
   ]
  },
  {
   "cell_type": "code",
   "execution_count": null,
   "metadata": {
    "ExecuteTime": {
     "end_time": "2023-04-16T01:01:41.410768Z",
     "start_time": "2023-04-16T01:01:41.407155Z"
    }
   },
   "outputs": [],
   "source": [
    "xgb_gt, xgb_predictions = pickle.load(open(xgb_predictions_path, 'rb'))\n",
    "transformer_gt, transformer_predictions = pickle.load(open(transformer_predictions_path, 'rb'))"
   ]
  },
  {
   "cell_type": "code",
   "execution_count": null,
   "metadata": {
    "ExecuteTime": {
     "end_time": "2023-04-16T01:01:41.758871Z",
     "start_time": "2023-04-16T01:01:41.750348Z"
    }
   },
   "outputs": [],
   "source": [
    "all(xgb_gt == transformer_gt)"
   ]
  },
  {
   "cell_type": "markdown",
   "metadata": {
    "collapsed": false
   },
   "source": [
    "Using DeLong's test to compare the two models"
   ]
  },
  {
   "cell_type": "code",
   "execution_count": null,
   "metadata": {
    "ExecuteTime": {
     "end_time": "2023-04-16T01:01:43.890354Z",
     "start_time": "2023-04-16T01:01:43.855875Z"
    }
   },
   "outputs": [],
   "source": [
    "from prediction.outcome_prediction.model_comparison.de_long_comparison import delong_roc_test\n",
    "\n",
    "10 ** delong_roc_test(xgb_gt, xgb_predictions, transformer_predictions)"
   ]
  },
  {
   "cell_type": "markdown",
   "metadata": {
    "collapsed": false
   },
   "source": [
    "Using the pyroc package to compare the two models"
   ]
  },
  {
   "cell_type": "code",
   "execution_count": null,
   "metadata": {
    "ExecuteTime": {
     "end_time": "2023-04-08T16:21:47.581559Z",
     "start_time": "2023-04-08T16:21:47.008665Z"
    }
   },
   "outputs": [],
   "source": [
    "import pyroc\n",
    "\n",
    "roc = pyroc.ROC(xgb_gt, [xgb_predictions, transformer_predictions])"
   ]
  },
  {
   "cell_type": "code",
   "execution_count": null,
   "metadata": {
    "ExecuteTime": {
     "end_time": "2023-04-08T16:22:16.508598Z",
     "start_time": "2023-04-08T16:22:16.500158Z"
    }
   },
   "outputs": [],
   "source": [
    "roc.compare(contrast=[1, -1], alpha=0.05)"
   ]
  },
  {
   "cell_type": "markdown",
   "metadata": {
    "collapsed": false
   },
   "source": [
    "Overall results"
   ]
  },
  {
   "cell_type": "code",
   "execution_count": null,
   "metadata": {
    "ExecuteTime": {
     "end_time": "2023-04-16T01:09:11.890914Z",
     "start_time": "2023-04-16T01:09:11.864162Z"
    }
   },
   "outputs": [],
   "source": [
    "from sklearn.metrics import roc_curve, auc\n",
    "# Create a table with the AUC of the two models for mrs / death and mimic (with p-values)\n",
    "\n",
    "import pandas as pd\n",
    "import numpy as np\n",
    "from prediction.outcome_prediction.model_comparison.de_long_comparison import delong_roc_test\n",
    "\n",
    "def get_auc(gt, predictions):\n",
    "    fpr, tpr, _ = roc_curve(gt, predictions)\n",
    "    return auc(fpr, tpr)\n",
    "\n",
    "def get_auc_and_p_value(gt, xgb_predictions, transformer_predictions):\n",
    "    auc_xgb = get_auc(gt, xgb_predictions)\n",
    "    auc_transformer = get_auc(gt, transformer_predictions)\n",
    "    p_value = 10 ** delong_roc_test(gt, xgb_predictions, transformer_predictions)\n",
    "    return auc_xgb, auc_transformer, p_value\n",
    "\n",
    "def get_auc_and_p_value_for_outcome(outcome):\n",
    "    if outcome == '3M Death':\n",
    "        xgb_predictions_path = xgb_death_predictions_path\n",
    "        transformer_predictions_path = transformer_death_predictions_path\n",
    "    elif outcome == '3M mRS 0-2':\n",
    "        xgb_predictions_path = xgb_mrs_predictions_path\n",
    "        transformer_predictions_path = transformer_mrs_predictions_path\n",
    "\n",
    "    elif outcome == 'MIMIC 3M Death':\n",
    "        xgb_predictions_path = xgb_mimic_death_predictions_path\n",
    "        transformer_predictions_path = transformer_mimic_death_predictions_path\n",
    "    else:\n",
    "        raise ValueError('Unknown outcome')\n",
    "\n",
    "    xgb_gt, xgb_predictions = pickle.load(open(xgb_predictions_path, 'rb'))\n",
    "    transformer_gt, transformer_predictions = pickle.load(open(transformer_predictions_path, 'rb'))\n",
    "\n",
    "    auc_xgb, auc_transformer, p_value = get_auc_and_p_value(xgb_gt, xgb_predictions, transformer_predictions)\n",
    "    return auc_xgb, auc_transformer, p_value\n",
    "\n",
    "df = pd.DataFrame(columns=['Outcome', 'XGB AUC', 'Transformer AUC', 'p-value'])\n",
    "for outcome in ['3M Death', '3M mRS 0-2', 'MIMIC 3M Death']:\n",
    "    auc_xgb, auc_transformer, p_value = get_auc_and_p_value_for_outcome(outcome)\n",
    "    df = df.append({'Outcome': outcome, 'XGB AUC': auc_xgb, 'Transformer AUC': auc_transformer, 'p-value': p_value[0][0]}, ignore_index=True)\n"
   ]
  },
  {
   "cell_type": "code",
   "execution_count": null,
   "metadata": {
    "ExecuteTime": {
     "end_time": "2023-04-16T01:09:13.360653Z",
     "start_time": "2023-04-16T01:09:13.355109Z"
    }
   },
   "outputs": [],
   "source": [
    "df"
   ]
  },
  {
   "cell_type": "code",
   "execution_count": null,
   "metadata": {
    "ExecuteTime": {
     "end_time": "2023-04-16T01:09:56.900616Z",
     "start_time": "2023-04-16T01:09:56.859882Z"
    }
   },
   "outputs": [],
   "source": [
    "df.to_csv('/Users/jk1/Downloads/model_comparison.csv')"
   ]
  },
  {
   "cell_type": "code",
   "execution_count": null,
   "metadata": {},
   "outputs": [],
   "source": []
  }
 ],
 "metadata": {
  "kernelspec": {
   "display_name": "Python 3",
   "language": "python",
   "name": "python3"
  },
  "language_info": {
   "codemirror_mode": {
    "name": "ipython",
    "version": 2
   },
   "file_extension": ".py",
   "mimetype": "text/x-python",
   "name": "python",
   "nbconvert_exporter": "python",
   "pygments_lexer": "ipython2",
   "version": "2.7.6"
  }
 },
 "nbformat": 4,
 "nbformat_minor": 0
}
