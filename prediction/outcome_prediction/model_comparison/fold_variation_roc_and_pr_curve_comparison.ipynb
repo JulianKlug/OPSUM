{
 "cells": [
  {
   "attachments": {},
   "cell_type": "markdown",
   "metadata": {
    "collapsed": false
   },
   "source": [
    "# ROC Curve comparison with confidence intervals"
   ]
  },
  {
   "cell_type": "code",
   "execution_count": null,
   "metadata": {
    "ExecuteTime": {
     "end_time": "2023-06-26T17:11:29.467581Z",
     "start_time": "2023-06-26T17:11:29.279544Z"
    }
   },
   "outputs": [],
   "source": [
    "import pickle\n",
    "import os\n",
    "import numpy as np\n",
    "import matplotlib.pyplot as plt\n",
    "from tqdm import tqdm\n",
    "import seaborn as sns\n",
    "import pandas as pd\n",
    "from sklearn.metrics import roc_curve, auc, precision_recall_curve\n",
    "import matplotlib.patches as mpatches\n",
    "from matplotlib.legend_handler import HandlerTuple"
   ]
  },
  {
   "cell_type": "code",
   "execution_count": null,
   "metadata": {
    "ExecuteTime": {
     "end_time": "2023-06-26T17:11:29.470829Z",
     "start_time": "2023-06-26T17:11:29.284839Z"
    }
   },
   "outputs": [],
   "source": [
    "thrive_c_mrs02_predictions_path = '/Users/jk1/temp/opsum_prediction_output/THRIVE_C/THRIVE_C_3m_mrs02_predictions/test_gt_and_pred.pkl'\n",
    "transformer_mrs02_predictions_path = '/Users/jk1/temp/opsum_prediction_output/transformer/3M_mrs02/transformer_20230402_184459_test_set_evaluation'\n",
    "lstm_mrs02_predictions_path = '/Users/jk1/temp/opsum_prediction_output/LSTM_72h_testing/3M_mRS02/2023_01_02_1057/all_folds'\n",
    "xgb_mrs02_predictions_path = '/Users/jk1/temp/opsum_prediction_output/linear_72h_xgb/3M_mrs02/with_feature_aggregration/testing/all_folds'\n",
    "\n",
    "thrive_c_death_predictions_path = '/Users/jk1/temp/opsum_prediction_output/THRIVE_C/THRIVE_C_3m_death_predictions/3m_death_test_gt_and_pred.pkl'\n",
    "transformer_death_predictions_path = '/Users/jk1/temp/opsum_prediction_output/transformer/3M_Death/testing'\n",
    "lstm_death_predictions_path = '/Users/jk1/temp/opsum_prediction_output/LSTM_72h_testing/3M_Death/2023_01_04_2020/all_folds'\n",
    "xgb_death_predictions_path = '/Users/jk1/temp/opsum_prediction_output/linear_72h_xgb/3M_Death/testing/all_folds'"
   ]
  },
  {
   "cell_type": "code",
   "execution_count": null,
   "metadata": {
    "ExecuteTime": {
     "end_time": "2023-06-26T17:11:29.605189Z",
     "start_time": "2023-06-26T17:11:29.288292Z"
    }
   },
   "outputs": [],
   "source": [
    "output_dir = '/Users/jk1/Downloads'"
   ]
  },
  {
   "cell_type": "code",
   "execution_count": null,
   "metadata": {
    "ExecuteTime": {
     "end_time": "2023-06-26T17:11:29.623836Z",
     "start_time": "2023-06-26T17:11:29.294178Z"
    }
   },
   "outputs": [],
   "source": [
    "n_folds = 5\n",
    "seed = 42\n",
    "\n",
    "mrs02_transformer_selected_fold = 2\n",
    "death_transformer_selected_fold = 1\n",
    "\n",
    "# subtract one to go from fold number to index\n",
    "mrs02_xgb_selected_fold = 3 - 1\n",
    "death_xgb_selected_fold = 3 - 1\n",
    "\n",
    "mrs02_lstm_selected_fold = 3 - 1 \n",
    "death_lstm_selected_fold = 2 - 1"
   ]
  },
  {
   "attachments": {},
   "cell_type": "markdown",
   "metadata": {
    "collapsed": false
   },
   "source": [
    "Load data"
   ]
  },
  {
   "cell_type": "code",
   "execution_count": null,
   "metadata": {
    "ExecuteTime": {
     "end_time": "2023-06-26T17:11:29.629932Z",
     "start_time": "2023-06-26T17:11:29.299931Z"
    }
   },
   "outputs": [],
   "source": [
    "thrivec_mrs02_gt, thrivec_mrs02_predictions = pickle.load(open(thrive_c_mrs02_predictions_path, 'rb'))\n",
    "thrivec_death_gt, thrivec_death_predictions = pickle.load(open(thrive_c_death_predictions_path, 'rb'))"
   ]
  },
  {
   "cell_type": "code",
   "execution_count": null,
   "metadata": {
    "ExecuteTime": {
     "end_time": "2023-06-26T17:11:29.693950Z",
     "start_time": "2023-06-26T17:11:29.307552Z"
    }
   },
   "outputs": [],
   "source": [
    "transformer_mrs02_folds = []\n",
    "for fidx in range(n_folds):\n",
    "    transformer_mrs02_folds.append(pickle.load(open(os.path.join(transformer_mrs02_predictions_path, f'fold_{fidx}_test_gt_and_pred.pkl'), 'rb')))\n",
    "transformer_death_folds = []\n",
    "for fidx in range(n_folds):\n",
    "    transformer_death_folds.append(pickle.load(open(os.path.join(transformer_death_predictions_path, f'fold_{fidx}_test_gt_and_pred.pkl'), 'rb')))"
   ]
  },
  {
   "cell_type": "code",
   "execution_count": null,
   "metadata": {
    "ExecuteTime": {
     "end_time": "2023-06-26T17:11:29.700575Z",
     "start_time": "2023-06-26T17:11:29.324200Z"
    }
   },
   "outputs": [],
   "source": [
    "xgb_mrs02_folds = []\n",
    "for fidx in range(n_folds):\n",
    "    xgb_mrs02_folds.append(pickle.load(open(os.path.join(xgb_mrs02_predictions_path, f'test_gt_and_pred_cv_{fidx}.pkl'), 'rb')))\n",
    "    \n",
    "xgb_death_folds = []\n",
    "for fidx in range(n_folds):\n",
    "    xgb_death_folds.append(pickle.load(open(os.path.join(xgb_death_predictions_path, f'test_gt_and_pred_cv_{fidx}.pkl'), 'rb')))"
   ]
  },
  {
   "cell_type": "code",
   "execution_count": null,
   "metadata": {
    "ExecuteTime": {
     "end_time": "2023-06-26T17:11:29.729983Z",
     "start_time": "2023-06-26T17:11:29.332182Z"
    }
   },
   "outputs": [],
   "source": [
    "lstm_mrs02_folds = []\n",
    "for fidx in range(n_folds):\n",
    "    # search in every subdir of lstm_mrs02_predictions_path to find and load file: test_gt_and_pred_fold_{fidx}.pkl\n",
    "    for subdir in os.listdir(lstm_mrs02_predictions_path):\n",
    "        if os.path.isdir(os.path.join(lstm_mrs02_predictions_path, subdir)):\n",
    "            for file in os.listdir(os.path.join(lstm_mrs02_predictions_path, subdir)):\n",
    "                if file == f'test_gt_and_pred_fold_{fidx+1}.pkl':\n",
    "                    lstm_mrs02_folds.append(pickle.load(open(os.path.join(lstm_mrs02_predictions_path, subdir, file), 'rb')))\n",
    "                    \n",
    "lstm_death_folds = []\n",
    "for fidx in range(n_folds):\n",
    "    # search in every subdir of lstm_mrs02_predictions_path to find and load file: test_gt_and_pred_fold_{fidx}.pkl\n",
    "    for subdir in os.listdir(lstm_death_predictions_path):\n",
    "        if os.path.isdir(os.path.join(lstm_death_predictions_path, subdir)):\n",
    "            for file in os.listdir(os.path.join(lstm_death_predictions_path, subdir)):\n",
    "                if file == f'test_gt_and_pred_fold_{fidx+1}.pkl':\n",
    "                    lstm_death_folds.append(pickle.load(open(os.path.join(lstm_death_predictions_path, subdir, file), 'rb')))"
   ]
  },
  {
   "cell_type": "code",
   "execution_count": null,
   "metadata": {
    "ExecuteTime": {
     "end_time": "2023-06-26T17:11:29.754128Z",
     "start_time": "2023-06-26T17:11:29.350013Z"
    }
   },
   "outputs": [],
   "source": [
    "all_colors_palette = sns.color_palette(['#f61067', '#049b9a', '#012D98', '#a76dfe'], n_colors=4)\n",
    "all_colors_palette"
   ]
  },
  {
   "attachments": {},
   "cell_type": "markdown",
   "metadata": {
    "collapsed": false
   },
   "source": [
    "# Helper functions"
   ]
  },
  {
   "cell_type": "code",
   "execution_count": null,
   "metadata": {
    "ExecuteTime": {
     "end_time": "2023-06-26T17:11:29.787181Z",
     "start_time": "2023-06-26T17:11:29.360626Z"
    }
   },
   "outputs": [],
   "source": [
    "def compute_roc_and_pr_curves(folds, n_interpolated_points=200):\n",
    "    roc_df = pd.DataFrame()\n",
    "    resampled_roc_df = pd.DataFrame()\n",
    "    roc_aucs = []\n",
    "    pr_df = pd.DataFrame()\n",
    "    resampled_pr_df = pd.DataFrame()\n",
    "    pr_aucs = []\n",
    "    for fidx in tqdm(range(n_folds)):\n",
    "        fpr, tpr, _ = roc_curve(folds[fidx][0], folds[fidx][1])\n",
    "        roc_aucs.append(auc(fpr, tpr))\n",
    "        resampled_tpr = np.interp(np.linspace(0, 1, n_interpolated_points), fpr, tpr)\n",
    "        roc_df = roc_df.append(pd.DataFrame({'fpr': fpr, 'tpr': tpr, 'fold': fidx}))\n",
    "        resampled_roc_df = resampled_roc_df.append(pd.DataFrame({'fpr': np.linspace(0,1,n_interpolated_points),  'tpr': resampled_tpr, 'fold': fidx}))\n",
    "\n",
    "        precision, recall, _ = precision_recall_curve(folds[fidx][0], folds[fidx][1])\n",
    "        recall, precision = zip(*sorted(zip(recall, precision)))\n",
    "        pr_aucs.append(auc(recall, precision))\n",
    "        resampled_precision = np.interp(np.linspace(0, 1, n_interpolated_points), recall, precision)\n",
    "        pr_df = pr_df.append(pd.DataFrame({'recall': recall, 'precision': precision, 'fold': fidx}))\n",
    "        resampled_pr_df = resampled_pr_df.append(pd.DataFrame({'recall': np.linspace(0,1,n_interpolated_points),  'precision': resampled_precision, 'fold': fidx}))\n",
    "\n",
    "    return roc_df, resampled_roc_df, roc_aucs, pr_df, resampled_pr_df, pr_aucs\n"
   ]
  },
  {
   "cell_type": "markdown",
   "metadata": {
    "collapsed": false
   },
   "source": [
    "## Prepare data for mrs02 outcome"
   ]
  },
  {
   "attachments": {},
   "cell_type": "markdown",
   "metadata": {
    "collapsed": false
   },
   "source": [
    "### Compute ROC and PR curve standard deviation for THRIVE-C"
   ]
  },
  {
   "cell_type": "code",
   "execution_count": null,
   "metadata": {
    "ExecuteTime": {
     "end_time": "2023-06-26T17:11:29.787384Z",
     "start_time": "2023-06-26T17:11:29.365188Z"
    }
   },
   "outputs": [],
   "source": [
    "# split thrivec data into 5 folds\n",
    "mrs02_thrivec_folds = []\n",
    "for fidx in range(n_folds):\n",
    "    mrs02_thrivec_folds.append((thrivec_mrs02_gt[fidx::n_folds], thrivec_mrs02_predictions[fidx::n_folds]))"
   ]
  },
  {
   "cell_type": "code",
   "execution_count": null,
   "metadata": {
    "ExecuteTime": {
     "end_time": "2023-06-26T17:11:29.788001Z",
     "start_time": "2023-06-26T17:11:29.371105Z"
    }
   },
   "outputs": [],
   "source": [
    "mrs02_thrivec_fpr, mrs02_thrivec_tpr, _ = roc_curve(thrivec_mrs02_gt, thrivec_mrs02_predictions)\n",
    "mrs02_thrivec_roc_auc = auc(mrs02_thrivec_fpr, mrs02_thrivec_tpr)\n",
    "mrs02_thrivec_resampled_tpr = np.interp(np.linspace(0, 1, 200), mrs02_thrivec_fpr, mrs02_thrivec_tpr)\n",
    "\n",
    "mrs02_thrivec_precision, mrs02_thrivec_recall, _ = precision_recall_curve(thrivec_mrs02_gt, thrivec_mrs02_predictions)\n",
    "mrs02_thrivec_recall, mrs02_thrivec_precision = zip(*sorted(zip(mrs02_thrivec_recall, mrs02_thrivec_precision)))\n",
    "mrs02_thrivec_pr_auc = auc(mrs02_thrivec_recall, mrs02_thrivec_precision)\n",
    "mrs02_thrivec_resampled_precision = np.interp(np.linspace(0, 1, 200), mrs02_thrivec_recall, mrs02_thrivec_precision)"
   ]
  },
  {
   "cell_type": "code",
   "execution_count": null,
   "metadata": {
    "ExecuteTime": {
     "end_time": "2023-06-26T17:11:29.805046Z",
     "start_time": "2023-06-26T17:11:29.380790Z"
    }
   },
   "outputs": [],
   "source": [
    "mrs02_thrivec_roc_df, mrs02_thrivec_resampled_roc_df, mrs02_thrivec_roc_aucs, mrs02_thrivec_pr_df, mrs02_thrivec_resampled_pr_df, mrs02_thrivec_pr_aucs = compute_roc_and_pr_curves(mrs02_thrivec_folds)"
   ]
  },
  {
   "cell_type": "code",
   "execution_count": null,
   "metadata": {
    "ExecuteTime": {
     "end_time": "2023-06-26T17:11:29.805203Z",
     "start_time": "2023-06-26T17:11:29.416554Z"
    }
   },
   "outputs": [],
   "source": [
    "mrs02_thrivec_resampled_roc_std = mrs02_thrivec_resampled_roc_df.groupby('fpr').agg({'tpr': ['mean', 'std']})['tpr']['std']\n",
    "mrs02_thrivec_resampled_pr_std = mrs02_thrivec_resampled_pr_df.groupby('recall').agg({'precision': ['mean', 'std']})['precision']['std']"
   ]
  },
  {
   "attachments": {},
   "cell_type": "markdown",
   "metadata": {
    "collapsed": false
   },
   "source": [
    "### Transformer curves with fold variation"
   ]
  },
  {
   "cell_type": "code",
   "execution_count": null,
   "metadata": {
    "ExecuteTime": {
     "end_time": "2023-06-26T17:11:29.805640Z",
     "start_time": "2023-06-26T17:11:29.426109Z"
    }
   },
   "outputs": [],
   "source": [
    "mrs02_transformer_roc_df, mrs02_transformer_resampled_roc_df, mrs02_transformer_roc_aucs, mrs02_transformer_pr_df, mrs02_transformer_resampled_pr_df, mrs02_transformer_pr_aucs = compute_roc_and_pr_curves(transformer_mrs02_folds)"
   ]
  },
  {
   "cell_type": "code",
   "execution_count": null,
   "metadata": {
    "ExecuteTime": {
     "end_time": "2023-06-26T17:11:29.805737Z",
     "start_time": "2023-06-26T17:11:29.457542Z"
    }
   },
   "outputs": [],
   "source": [
    "mrs02_transformer_resampled_roc_std = mrs02_transformer_resampled_roc_df.groupby('fpr').agg({'tpr': ['mean', 'std']})['tpr']['std']\n",
    "mrs02_transformer_resampled_pr_std = mrs02_transformer_resampled_pr_df.groupby('recall').agg({'precision': ['mean', 'std']})['precision']['std']"
   ]
  },
  {
   "cell_type": "markdown",
   "metadata": {
    "collapsed": false
   },
   "source": [
    "### XGB curves with fold variation"
   ]
  },
  {
   "cell_type": "code",
   "execution_count": null,
   "metadata": {
    "ExecuteTime": {
     "end_time": "2023-06-26T17:11:29.806224Z",
     "start_time": "2023-06-26T17:11:29.467158Z"
    }
   },
   "outputs": [],
   "source": [
    "mrs02_xgb_roc_df, mrs02_xgb_resampled_roc_df, mrs02_xgb_roc_aucs, mrs02_xgb_pr_df, mrs02_xgb_resampled_pr_df, mrs02_xgb_pr_aucs = compute_roc_and_pr_curves(xgb_mrs02_folds)"
   ]
  },
  {
   "cell_type": "code",
   "execution_count": null,
   "metadata": {
    "ExecuteTime": {
     "end_time": "2023-06-26T17:11:29.806357Z",
     "start_time": "2023-06-26T17:11:29.497674Z"
    }
   },
   "outputs": [],
   "source": [
    "mrs02_xgb_resampled_roc_std = mrs02_xgb_resampled_roc_df.groupby('fpr').agg({'tpr': ['mean', 'std']})['tpr']['std']\n",
    "mrs02_xgb_resampled_pr_std = mrs02_xgb_resampled_pr_df.groupby('recall').agg({'precision': ['mean', 'std']})['precision']['std']"
   ]
  },
  {
   "cell_type": "markdown",
   "metadata": {
    "collapsed": false
   },
   "source": [
    "### LSTM curves with fold variation"
   ]
  },
  {
   "cell_type": "code",
   "execution_count": null,
   "metadata": {
    "ExecuteTime": {
     "end_time": "2023-06-26T17:11:29.807012Z",
     "start_time": "2023-06-26T17:11:29.508602Z"
    }
   },
   "outputs": [],
   "source": [
    "mrs02_lstm_roc_df, mrs02_lstm_resampled_roc_df, mrs02_lstm_roc_aucs, mrs02_lstm_pr_df, mrs02_lstm_resampled_pr_df, mrs02_lstm_pr_aucs = compute_roc_and_pr_curves(lstm_mrs02_folds)"
   ]
  },
  {
   "cell_type": "code",
   "execution_count": null,
   "metadata": {
    "ExecuteTime": {
     "end_time": "2023-06-26T17:11:29.807331Z",
     "start_time": "2023-06-26T17:11:29.538Z"
    }
   },
   "outputs": [],
   "source": [
    "mrs02_lstm_resampled_roc_std = mrs02_lstm_resampled_roc_df.groupby('fpr').agg({'tpr': ['mean', 'std']})['tpr']['std']\n",
    "mrs02_lstm_resampled_pr_std = mrs02_lstm_resampled_pr_df.groupby('recall').agg({'precision': ['mean', 'std']})['precision']['std']"
   ]
  },
  {
   "cell_type": "markdown",
   "metadata": {
    "collapsed": false
   },
   "source": [
    "## Prepare data for mortality prediction"
   ]
  },
  {
   "cell_type": "code",
   "execution_count": null,
   "metadata": {
    "ExecuteTime": {
     "end_time": "2023-06-26T17:11:29.808122Z",
     "start_time": "2023-06-26T17:11:29.550130Z"
    }
   },
   "outputs": [],
   "source": [
    "# split thrivec data into 5 folds\n",
    "death_thrivec_folds = []\n",
    "for fidx in range(n_folds):\n",
    "    death_thrivec_folds.append((thrivec_death_gt[fidx::n_folds], thrivec_death_predictions[fidx::n_folds]))\n",
    "\n",
    "death_thrivec_fpr, death_thrivec_tpr, _ = roc_curve(thrivec_death_gt, thrivec_death_predictions)\n",
    "death_thrivec_roc_auc = auc(death_thrivec_fpr, death_thrivec_tpr)\n",
    "death_thrivec_resampled_tpr = np.interp(np.linspace(0, 1, 200), death_thrivec_fpr, death_thrivec_tpr)\n",
    "\n",
    "death_thrivec_precision, death_thrivec_recall, _ = precision_recall_curve(thrivec_death_gt, thrivec_death_predictions)\n",
    "death_thrivec_recall, death_thrivec_precision = zip(*sorted(zip(death_thrivec_recall, death_thrivec_precision)))\n",
    "death_thrivec_pr_auc = auc(death_thrivec_recall, death_thrivec_precision)\n",
    "death_thrivec_resampled_precision = np.interp(np.linspace(0, 1, 200), death_thrivec_recall, death_thrivec_precision)\n",
    "\n",
    "death_thrivec_roc_df, death_thrivec_resampled_roc_df, death_thrivec_roc_aucs, death_thrivec_pr_df, death_thrivec_resampled_pr_df, death_thrivec_pr_aucs = compute_roc_and_pr_curves(\n",
    "    death_thrivec_folds)\n",
    "\n",
    "death_thrivec_resampled_roc_std = death_thrivec_resampled_roc_df.groupby('fpr').agg({'tpr': ['mean', 'std']})['tpr']['std']\n",
    "death_thrivec_resampled_pr_std = death_thrivec_resampled_pr_df.groupby('recall').agg({'precision': ['mean', 'std']})['precision'][\n",
    "    'std']"
   ]
  },
  {
   "cell_type": "code",
   "execution_count": null,
   "metadata": {
    "ExecuteTime": {
     "end_time": "2023-06-26T17:11:29.916187Z",
     "start_time": "2023-06-26T17:11:29.592503Z"
    }
   },
   "outputs": [],
   "source": [
    "transformer_death_roc_df, transformer_death_resampled_roc_df, transformer_death_roc_aucs, transformer_death_pr_df, transformer_death_resampled_pr_df, transformer_death_pr_aucs = compute_roc_and_pr_curves(transformer_death_folds)\n",
    "\n",
    "transformer_death_resampled_roc_std = transformer_death_resampled_roc_df.groupby('fpr').agg({'tpr': ['mean', 'std']})['tpr']['std']\n",
    "transformer_death_resampled_pr_std = transformer_death_resampled_pr_df.groupby('recall').agg({'precision': ['mean', 'std']})['precision']['std']\n"
   ]
  },
  {
   "cell_type": "code",
   "execution_count": null,
   "metadata": {
    "ExecuteTime": {
     "end_time": "2023-06-26T17:11:29.916738Z",
     "start_time": "2023-06-26T17:11:29.629161Z"
    }
   },
   "outputs": [],
   "source": [
    "death_xgb_roc_df, death_xgb_resampled_roc_df, death_xgb_roc_aucs, death_xgb_pr_df, death_xgb_resampled_pr_df, death_xgb_pr_aucs = compute_roc_and_pr_curves(xgb_death_folds)\n",
    "death_xgb_resampled_roc_std = death_xgb_resampled_roc_df.groupby('fpr').agg({'tpr': ['mean', 'std']})['tpr']['std']\n",
    "death_xgb_resampled_pr_std = death_xgb_resampled_pr_df.groupby('recall').agg({'precision': ['mean', 'std']})['precision']['std']"
   ]
  },
  {
   "cell_type": "code",
   "execution_count": null,
   "metadata": {
    "ExecuteTime": {
     "end_time": "2023-06-26T17:11:29.917590Z",
     "start_time": "2023-06-26T17:11:29.665250Z"
    }
   },
   "outputs": [],
   "source": [
    "death_lstm_roc_df, death_lstm_resampled_roc_df, death_lstm_roc_aucs, death_lstm_pr_df, death_lstm_resampled_pr_df, death_lstm_pr_aucs = compute_roc_and_pr_curves(lstm_death_folds)\n",
    "death_lstm_resampled_roc_std = death_lstm_resampled_roc_df.groupby('fpr').agg({'tpr': ['mean', 'std']})['tpr']['std']\n",
    "death_lstm_resampled_pr_std = death_lstm_resampled_pr_df.groupby('recall').agg({'precision': ['mean', 'std']})['precision']['std']"
   ]
  },
  {
   "attachments": {},
   "cell_type": "markdown",
   "metadata": {
    "collapsed": false
   },
   "source": [
    "### Resampled ROC curve with fold variation\n"
   ]
  },
  {
   "cell_type": "code",
   "execution_count": null,
   "metadata": {
    "ExecuteTime": {
     "end_time": "2023-06-26T17:11:29.917716Z",
     "start_time": "2023-06-26T17:11:29.713709Z"
    }
   },
   "outputs": [],
   "source": [
    "def plot_roc_auc_curve(transformer_roc_df, transformer_resampled_roc_df, transformer_resampled_roc_std, transformer_roc_aucs, transformer_selected_fold,\n",
    "                            xgb_roc_df, xgb_resampled_roc_df, xgb_resampled_roc_std, xgb_roc_aucs, xgb_selected_fold,\n",
    "                            lstm_roc_df, lstm_resampled_roc_df, lstm_resampled_roc_std, lstm_roc_aucs, lstm_selected_fold,\n",
    "                           thrivec_resampled_tpr, thrivec_resampled_roc_std, thrivec_roc_auc,\n",
    "                           ax, plot_legend = True, tick_label_size = 11, label_font_size = 13):\n",
    "\n",
    "    all_colors_palette = sns.color_palette(['#f61067', '#049b9a', '#012D98', '#a76dfe'], n_colors=4)\n",
    "    n_float_numbers = 3\n",
    "    \n",
    "    ## Main model: Transformer\n",
    "    # plot variation across folds (+/- 1 std)\n",
    "    error = 1*transformer_resampled_roc_std.values\n",
    "    lower = transformer_resampled_roc_df[transformer_resampled_roc_df.fold == transformer_selected_fold].tpr - error\n",
    "    upper = transformer_resampled_roc_df[transformer_resampled_roc_df.fold == transformer_selected_fold].tpr + error\n",
    "    ax.fill_between(transformer_resampled_roc_std.index, lower, upper, alpha=0.2, color=all_colors_palette[0])\n",
    "    \n",
    "    # Plot selected fold in bold\n",
    "    ax = sns.lineplot(data=transformer_roc_df[transformer_roc_df.fold == transformer_selected_fold], x='fpr', y='tpr', color=all_colors_palette[0], label=f'Transformer (area = %0.{n_float_numbers}f)' % transformer_roc_aucs[transformer_selected_fold],\n",
    "                       ax=ax, errorbar=None)\n",
    "    \n",
    "    \n",
    "    ## Comparators: THRIVE-C\n",
    "    # plot variation across folds (+/- 1 std)\n",
    "    error = 1*thrivec_resampled_roc_std.values\n",
    "    lower = thrivec_resampled_tpr - error\n",
    "    upper = thrivec_resampled_tpr + error\n",
    "    ax.fill_between(np.linspace(0, 1, 200), lower, upper, alpha=0.2, color=all_colors_palette[1])\n",
    "    \n",
    "    # Plot THRIVE-C in bold\n",
    "    sns.lineplot(x=np.linspace(0, 1, 200), y=thrivec_resampled_tpr, color=all_colors_palette[1], label=f'THRIVE-C (area = %0.{n_float_numbers}f)' % thrivec_roc_auc,\n",
    "                 ax=ax, linewidth=2)\n",
    "    \n",
    "    ## Comparators: XGBoost \n",
    "    error = 1*xgb_resampled_roc_std.values\n",
    "    lower = xgb_resampled_roc_df[xgb_resampled_roc_df.fold == xgb_selected_fold].tpr - error\n",
    "    upper = xgb_resampled_roc_df[xgb_resampled_roc_df.fold == xgb_selected_fold].tpr + error\n",
    "    ax.fill_between(xgb_resampled_roc_std.index, lower, upper, alpha=0.2, color=all_colors_palette[2])   \n",
    "    ax = sns.lineplot(data=xgb_roc_df[xgb_roc_df.fold == xgb_selected_fold], x='fpr', y='tpr', color=all_colors_palette[2], label=f'XGBoost (area = %0.{n_float_numbers}f)' % xgb_roc_aucs[xgb_selected_fold],\n",
    "                       ax=ax, errorbar=None)\n",
    "    \n",
    "    ## Comparators: LSTM\n",
    "    error = 1*lstm_resampled_roc_std.values\n",
    "    lower = lstm_resampled_roc_df[lstm_resampled_roc_df.fold == lstm_selected_fold].tpr - error\n",
    "    upper = lstm_resampled_roc_df[lstm_resampled_roc_df.fold == lstm_selected_fold].tpr + error\n",
    "    ax.fill_between(lstm_resampled_roc_std.index, lower, upper, alpha=0.2, color=all_colors_palette[3])\n",
    "    ax = sns.lineplot(data=lstm_roc_df[lstm_roc_df.fold == lstm_selected_fold], x='fpr', y='tpr', color=all_colors_palette[3], label=f'LSTM (area = %0.{n_float_numbers}f)' % lstm_roc_aucs[lstm_selected_fold],\n",
    "                       ax=ax, errorbar=None)\n",
    "    \n",
    "    ax.plot([0, 1], [0, 1], color='grey', lw=1, linestyle='--', alpha=0.5)\n",
    "    \n",
    "    ax.set_xlabel('1 - Specificity (False Positive Rate)', fontsize=label_font_size)\n",
    "    ax.set_ylabel('Sensitivity (True Positive Rate)', fontsize=label_font_size)\n",
    "    ax.tick_params('x', labelsize=tick_label_size)\n",
    "    ax.tick_params('y', labelsize=tick_label_size)\n",
    "    \n",
    "    if plot_legend:\n",
    "        legend_markers, legend_labels = ax.get_legend_handles_labels()\n",
    "        sd1_patch = mpatches.Patch(color=all_colors_palette[0], alpha=0.3)\n",
    "        sd2_patch = mpatches.Patch(color=all_colors_palette[1], alpha=0.3)\n",
    "        sd_3_patch = mpatches.Patch(color=all_colors_palette[2], alpha=0.3)\n",
    "        sd_4_patch = mpatches.Patch(color=all_colors_palette[3], alpha=0.3)\n",
    "        sd_marker = (sd1_patch, sd2_patch, sd_3_patch, sd_4_patch)\n",
    "        sd_labels = '± s.d.'\n",
    "        legend_markers.append(sd_marker)\n",
    "        legend_labels.append(sd_labels)\n",
    "        ax.legend(legend_markers, legend_labels, fontsize=label_font_size,\n",
    "                  handler_map={tuple: HandlerTuple(ndivide=None)})\n",
    "    \n",
    "    else:\n",
    "        # remove legend\n",
    "        ax.get_legend().remove()\n",
    "    \n",
    "    fig = ax.get_figure()\n",
    "    return fig"
   ]
  },
  {
   "cell_type": "markdown",
   "metadata": {
    "collapsed": false
   },
   "source": [
    "#### Plot mrs02 ROC curve"
   ]
  },
  {
   "cell_type": "code",
   "execution_count": null,
   "metadata": {
    "ExecuteTime": {
     "end_time": "2023-06-26T17:11:30.109154Z",
     "start_time": "2023-06-26T17:11:29.720769Z"
    }
   },
   "outputs": [],
   "source": [
    "custom_params = {\"axes.spines.right\": False, \"axes.spines.top\": False, 'figure.figsize':(10,10)}\n",
    "sns.set_theme(style=\"whitegrid\", rc=custom_params, context=\"paper\", font_scale = 1)\n",
    "\n",
    "ax = plt.subplot(111)\n",
    "\n",
    "plot_roc_auc_curve(mrs02_transformer_roc_df, mrs02_transformer_resampled_roc_df, mrs02_transformer_resampled_roc_std, mrs02_transformer_roc_aucs, mrs02_transformer_selected_fold,\n",
    "                          mrs02_xgb_roc_df, mrs02_xgb_resampled_roc_df, mrs02_xgb_resampled_roc_std, mrs02_xgb_roc_aucs, mrs02_xgb_selected_fold,\n",
    "                            mrs02_lstm_roc_df, mrs02_lstm_resampled_roc_df, mrs02_lstm_resampled_roc_std, mrs02_lstm_roc_aucs, mrs02_lstm_selected_fold,\n",
    "                       mrs02_thrivec_resampled_tpr, mrs02_thrivec_resampled_roc_std, mrs02_thrivec_roc_auc, \n",
    "                       ax, plot_legend = True, tick_label_size = 11, label_font_size = 13)\n",
    "\n",
    "plt.show()"
   ]
  },
  {
   "cell_type": "code",
   "execution_count": null,
   "metadata": {
    "ExecuteTime": {
     "end_time": "2023-06-26T17:11:30.114135Z",
     "start_time": "2023-06-26T17:11:30.106955Z"
    }
   },
   "outputs": [],
   "source": [
    "# fig.savefig(os.path.join(output_dir, f'roc_curve_{outcome.replace(\" \", \"_\")}.svg'), bbox_inches=\"tight\", format='svg', dpi=1200)"
   ]
  },
  {
   "cell_type": "markdown",
   "metadata": {
    "collapsed": false
   },
   "source": [
    "#### Plot death ROC curve"
   ]
  },
  {
   "cell_type": "code",
   "execution_count": null,
   "metadata": {
    "ExecuteTime": {
     "end_time": "2023-06-26T17:11:30.475561Z",
     "start_time": "2023-06-26T17:11:30.116344Z"
    }
   },
   "outputs": [],
   "source": [
    "custom_params = {\"axes.spines.right\": False, \"axes.spines.top\": False, 'figure.figsize':(10,10)}\n",
    "sns.set_theme(style=\"whitegrid\", rc=custom_params, context=\"paper\", font_scale = 1)\n",
    "\n",
    "ax = plt.subplot(111)\n",
    "\n",
    "plot_roc_auc_curve(transformer_death_roc_df, transformer_death_resampled_roc_df, transformer_death_resampled_roc_std, transformer_death_roc_aucs, death_transformer_selected_fold,\n",
    "                          death_xgb_roc_df, death_xgb_resampled_roc_df, death_xgb_resampled_roc_std, death_xgb_roc_aucs, death_xgb_selected_fold,\n",
    "                            death_lstm_roc_df, death_lstm_resampled_roc_df, death_lstm_resampled_roc_std, death_lstm_roc_aucs, death_lstm_selected_fold,\n",
    "                       death_thrivec_resampled_tpr, death_thrivec_resampled_roc_std, death_thrivec_roc_auc, \n",
    "                       ax, plot_legend = True, tick_label_size = 11, label_font_size = 13)\n",
    "\n",
    "plt.show()"
   ]
  },
  {
   "attachments": {},
   "cell_type": "markdown",
   "metadata": {
    "collapsed": false
   },
   "source": [
    "### Overall Precision-Recall curve"
   ]
  },
  {
   "cell_type": "code",
   "execution_count": null,
   "metadata": {
    "ExecuteTime": {
     "end_time": "2023-06-26T17:11:30.487674Z",
     "start_time": "2023-06-26T17:11:30.484911Z"
    }
   },
   "outputs": [],
   "source": [
    "def plot_pr_curve(transformer_pr_df, transformer_resampled_pr_df, transformer_resampled_pr_std, transformer_pr_aucs, transformer_selected_fold,\n",
    "                    xgb_pr_df, xgb_resampled_pr_df, xgb_resampled_pr_std, xgb_pr_aucs, xgb_selected_fold,\n",
    "                    lstm_pr_df, lstm_resampled_pr_df, lstm_resampled_pr_std, lstm_pr_aucs, lstm_selected_fold,\n",
    "                      thrivec_resampled_precision, thrivec_resampled_pr_std, thrivec_pr_auc,\n",
    "                      ax1, plot_legend = True, tick_label_size = 11, label_font_size = 13):\n",
    "    \n",
    "    all_colors_palette = sns.color_palette(['#f61067', '#049b9a', '#012D98', '#a76dfe'], n_colors=4)\n",
    "    n_float_numbers = 3\n",
    "\n",
    "\n",
    "    ## Main model: Transformer\n",
    "    # plot variation across folds (+/- 1 std)\n",
    "    error = 1*transformer_resampled_pr_std.values\n",
    "    lower = transformer_resampled_pr_df[transformer_resampled_pr_df.fold == transformer_selected_fold].precision - error\n",
    "    upper = transformer_resampled_pr_df[transformer_resampled_pr_df.fold == transformer_selected_fold].precision + error\n",
    "    ax1.fill_between(transformer_resampled_pr_std.index, lower, upper, alpha=0.2, color=all_colors_palette[0])\n",
    "    \n",
    "    # Plot selected fold in bold\n",
    "    ax1 = sns.lineplot(data=transformer_pr_df[transformer_pr_df.fold == transformer_selected_fold], x='recall', y='precision', color=all_colors_palette[0], label=f'Transformer (area = %0.{n_float_numbers}f)' % transformer_pr_aucs[transformer_selected_fold],\n",
    "                       ax=ax1, errorbar=None)\n",
    "    \n",
    "    ## Comparators: THRIVE-C\n",
    "    # plot variation across folds (+/- 1 std)\n",
    "    error = 1*thrivec_resampled_pr_std.values\n",
    "    lower = thrivec_resampled_precision - error\n",
    "    upper = thrivec_resampled_precision + error\n",
    "    ax1.fill_between(np.linspace(0, 1, 200), lower, upper, alpha=0.2, color=all_colors_palette[1])\n",
    "    \n",
    "    # Plot THRIVE-C in bold\n",
    "    sns.lineplot(x=np.linspace(0, 1, 200), y=thrivec_resampled_precision, color=all_colors_palette[1], label='THRIVE-C (area = %0.2f)' % thrivec_pr_auc,\n",
    "                 ax=ax1, linewidth=2)\n",
    "    \n",
    "    ## Comparators: XGBoost\n",
    "    error = 1*xgb_resampled_pr_std.values\n",
    "    lower = xgb_resampled_pr_df[xgb_resampled_pr_df.fold == xgb_selected_fold].precision - error\n",
    "    upper = xgb_resampled_pr_df[xgb_resampled_pr_df.fold == xgb_selected_fold].precision + error\n",
    "    ax1.fill_between(xgb_resampled_pr_std.index, lower, upper, alpha=0.2, color=all_colors_palette[2])\n",
    "    ax1 = sns.lineplot(data=xgb_pr_df[xgb_pr_df.fold == xgb_selected_fold], x='recall', y='precision', color=all_colors_palette[2], label=f'XGBoost (area = %0.{n_float_numbers}f)' % xgb_pr_aucs[xgb_selected_fold],\n",
    "                       ax=ax1, errorbar=None)\n",
    "    \n",
    "    ## Comparators: LSTM\n",
    "    error = 1*lstm_resampled_pr_std.values\n",
    "    lower = lstm_resampled_pr_df[lstm_resampled_pr_df.fold == lstm_selected_fold].precision - error\n",
    "    upper = lstm_resampled_pr_df[lstm_resampled_pr_df.fold == lstm_selected_fold].precision + error\n",
    "    ax1.fill_between(lstm_resampled_pr_std.index, lower, upper, alpha=0.2, color=all_colors_palette[3])\n",
    "    ax1 = sns.lineplot(data=lstm_pr_df[lstm_pr_df.fold == lstm_selected_fold], x='recall', y='precision', color=all_colors_palette[3], label=f'LSTM (area = %0.{n_float_numbers}f)' % lstm_pr_aucs[lstm_selected_fold],\n",
    "                       ax=ax1, errorbar=None)\n",
    "    \n",
    "    ax1.set_xlabel('Recall', fontsize=label_font_size)\n",
    "    ax1.set_ylabel('Precision', fontsize=label_font_size)\n",
    "    ax1.tick_params('x', labelsize=tick_label_size)\n",
    "    ax1.tick_params('y', labelsize=tick_label_size)\n",
    "    \n",
    "    if plot_legend:\n",
    "        legend_markers, legend_labels = ax1.get_legend_handles_labels()\n",
    "        sd1_patch = mpatches.Patch(color=all_colors_palette[0], alpha=0.3)\n",
    "        sd2_patch = mpatches.Patch(color=all_colors_palette[1], alpha=0.3)\n",
    "        sd3_patch = mpatches.Patch(color=all_colors_palette[2], alpha=0.3)\n",
    "        sd4_patch = mpatches.Patch(color=all_colors_palette[3], alpha=0.3)\n",
    "        sd_marker = (sd1_patch, sd2_patch, sd3_patch, sd4_patch)\n",
    "        sd_labels = '± s.d.'\n",
    "        legend_markers.append(sd_marker)\n",
    "        legend_labels.append(sd_labels)\n",
    "        ax1.legend(legend_markers, legend_labels, fontsize=label_font_size,\n",
    "                  handler_map={tuple: HandlerTuple(ndivide=None)})\n",
    "    \n",
    "    else:\n",
    "        # remove legend\n",
    "        ax1.get_legend().remove()\n",
    "    \n",
    "    fig1 = ax1.get_figure()\n",
    "    return fig1"
   ]
  },
  {
   "cell_type": "markdown",
   "metadata": {
    "collapsed": false
   },
   "source": [
    "## Plot PR curve for mrs02"
   ]
  },
  {
   "cell_type": "code",
   "execution_count": null,
   "metadata": {
    "ExecuteTime": {
     "end_time": "2023-06-26T17:11:31.089677Z",
     "start_time": "2023-06-26T17:11:30.492802Z"
    }
   },
   "outputs": [],
   "source": [
    "custom_params = {\"axes.spines.right\": False, \"axes.spines.top\": False, 'figure.figsize':(10,10)}\n",
    "sns.set_theme(style=\"whitegrid\", rc=custom_params, context=\"paper\", font_scale = 1)\n",
    "\n",
    "ax1 = plt.subplot(111)\n",
    "\n",
    "fig1 = plot_pr_curve(mrs02_transformer_pr_df, mrs02_transformer_resampled_pr_df, mrs02_transformer_resampled_pr_std, mrs02_transformer_pr_aucs, mrs02_transformer_selected_fold,\n",
    "                    mrs02_xgb_pr_df, mrs02_xgb_resampled_pr_df, mrs02_xgb_resampled_pr_std, mrs02_xgb_pr_aucs, mrs02_xgb_selected_fold,\n",
    "                    mrs02_lstm_pr_df, mrs02_lstm_resampled_pr_df, mrs02_lstm_resampled_pr_std, mrs02_lstm_pr_aucs, mrs02_lstm_selected_fold,\n",
    "                      mrs02_thrivec_resampled_precision, mrs02_thrivec_resampled_pr_std, mrs02_thrivec_pr_auc,\n",
    "                      ax1, plot_legend = True, tick_label_size = 11, label_font_size = 13)\n",
    "\n",
    "plt.show()"
   ]
  },
  {
   "cell_type": "markdown",
   "metadata": {
    "collapsed": false
   },
   "source": [
    "## Plot PR curve for death"
   ]
  },
  {
   "cell_type": "code",
   "execution_count": null,
   "metadata": {
    "ExecuteTime": {
     "end_time": "2023-06-26T17:11:31.452919Z",
     "start_time": "2023-06-26T17:11:31.092747Z"
    }
   },
   "outputs": [],
   "source": [
    "custom_params = {\"axes.spines.right\": False, \"axes.spines.top\": False, 'figure.figsize':(10,10)}\n",
    "sns.set_theme(style=\"whitegrid\", rc=custom_params, context=\"paper\", font_scale = 1)\n",
    "\n",
    "ax1 = plt.subplot(111)\n",
    "\n",
    "fig1 = plot_pr_curve(transformer_death_pr_df, transformer_death_resampled_pr_df, transformer_death_resampled_pr_std, transformer_death_pr_aucs, death_transformer_selected_fold,\n",
    "                    death_xgb_pr_df, death_xgb_resampled_pr_df, death_xgb_resampled_pr_std, death_xgb_pr_aucs, death_xgb_selected_fold,\n",
    "                    death_lstm_pr_df, death_lstm_resampled_pr_df, death_lstm_resampled_pr_std, death_lstm_pr_aucs, death_lstm_selected_fold,\n",
    "                      death_thrivec_resampled_precision, death_thrivec_resampled_pr_std, death_thrivec_pr_auc,\n",
    "                      ax1, plot_legend = True, tick_label_size = 11, label_font_size = 13)\n",
    "\n",
    "plt.show()"
   ]
  },
  {
   "cell_type": "code",
   "execution_count": null,
   "metadata": {
    "ExecuteTime": {
     "end_time": "2023-06-26T17:11:31.453249Z",
     "start_time": "2023-06-26T17:11:31.448491Z"
    }
   },
   "outputs": [],
   "source": [
    "# fig1.savefig(os.path.join(output_dir, f'precision_recall_curve_{outcome.replace(\" \", \"_\")}.svg'), bbox_inches=\"tight\", format='svg', dpi=1200)"
   ]
  },
  {
   "cell_type": "markdown",
   "metadata": {
    "collapsed": false
   },
   "source": [
    "### Combined plot"
   ]
  },
  {
   "cell_type": "code",
   "execution_count": null,
   "metadata": {
    "ExecuteTime": {
     "end_time": "2023-06-26T17:11:33.081993Z",
     "start_time": "2023-06-26T17:11:31.475376Z"
    }
   },
   "outputs": [],
   "source": [
    "sns.set_theme(style=\"whitegrid\", context=\"paper\", font_scale = 1)\n",
    "\n",
    "cm = 1/2.54  # centimeters in inches\n",
    "main_fig = plt.figure(figsize=(18 * cm, 20 * cm))\n",
    "\n",
    "tick_label_size = 6\n",
    "label_font_size = 7\n",
    "subplot_number_font_size = 9\n",
    "suptitle_font_size = 10\n",
    "plot_subplot_titles = True\n",
    "\n",
    "subfigs = main_fig.subfigures(2, 1, wspace=0.07, height_ratios=[1, 1])\n",
    "\n",
    "# MRS02\n",
    "subfigs[0].suptitle('I. Prediction of functional outcome', fontsize=suptitle_font_size, horizontalalignment='left', x=0.1, y=1.)\n",
    "\n",
    "ax1, ax2 = subfigs[0].subplots(1, 2)\n",
    "subfigs[0].subplots_adjust(wspace=0.3)\n",
    "\n",
    "plot_roc_auc_curve(mrs02_transformer_roc_df, mrs02_transformer_resampled_roc_df, mrs02_transformer_resampled_roc_std, mrs02_transformer_roc_aucs, mrs02_transformer_selected_fold,\n",
    "                    mrs02_xgb_roc_df, mrs02_xgb_resampled_roc_df, mrs02_xgb_resampled_roc_std, mrs02_xgb_roc_aucs, mrs02_xgb_selected_fold,\n",
    "                    mrs02_lstm_roc_df, mrs02_lstm_resampled_roc_df, mrs02_lstm_resampled_roc_std, mrs02_lstm_roc_aucs, mrs02_lstm_selected_fold,\n",
    "                       mrs02_thrivec_resampled_tpr, mrs02_thrivec_resampled_roc_std, mrs02_thrivec_roc_auc, \n",
    "                    ax1, plot_legend = True, tick_label_size = tick_label_size, label_font_size = label_font_size)\n",
    "if plot_subplot_titles:\n",
    "    ax1.set_title('A.', fontsize=subplot_number_font_size, horizontalalignment='left', x=-0.1)\n",
    "\n",
    "plot_pr_curve(mrs02_transformer_pr_df, mrs02_transformer_resampled_pr_df, mrs02_transformer_resampled_pr_std, mrs02_transformer_pr_aucs, mrs02_transformer_selected_fold,\n",
    "                    mrs02_xgb_pr_df, mrs02_xgb_resampled_pr_df, mrs02_xgb_resampled_pr_std, mrs02_xgb_pr_aucs, mrs02_xgb_selected_fold,\n",
    "                    mrs02_lstm_pr_df, mrs02_lstm_resampled_pr_df, mrs02_lstm_resampled_pr_std, mrs02_lstm_pr_aucs, mrs02_lstm_selected_fold,\n",
    "                      mrs02_thrivec_resampled_precision, mrs02_thrivec_resampled_pr_std, mrs02_thrivec_pr_auc,\n",
    "                      ax2, plot_legend = True, tick_label_size = tick_label_size, label_font_size = label_font_size)\n",
    "if plot_subplot_titles:\n",
    "    ax2.set_title('B.', fontsize=subplot_number_font_size, horizontalalignment='left', x=-0.1)\n",
    "\n",
    "# Death\n",
    "subfigs[1].suptitle('II. Prediction of mortality', fontsize=suptitle_font_size, horizontalalignment='left', x=0.1, y=1.0)\n",
    "\n",
    "ax3, ax4 = subfigs[1].subplots(1, 2)\n",
    "subfigs[1].subplots_adjust(wspace=0.3)\n",
    "\n",
    "plot_roc_auc_curve(transformer_death_roc_df, transformer_death_resampled_roc_df, transformer_death_resampled_roc_std, transformer_death_roc_aucs, death_transformer_selected_fold,\n",
    "                    death_xgb_roc_df, death_xgb_resampled_roc_df, death_xgb_resampled_roc_std, death_xgb_roc_aucs, death_xgb_selected_fold,\n",
    "                    death_lstm_roc_df, death_lstm_resampled_roc_df, death_lstm_resampled_roc_std, death_lstm_roc_aucs, death_lstm_selected_fold,\n",
    "                    death_thrivec_resampled_tpr, death_thrivec_resampled_roc_std, death_thrivec_roc_auc,\n",
    "                    ax3, plot_legend = True, tick_label_size = tick_label_size, label_font_size = label_font_size)\n",
    "if plot_subplot_titles:\n",
    "    ax3.set_title('C.', fontsize=subplot_number_font_size, horizontalalignment='left', x=-0.1)\n",
    "\n",
    "plot_pr_curve(transformer_death_pr_df, transformer_death_resampled_pr_df, transformer_death_resampled_pr_std, transformer_death_pr_aucs, death_transformer_selected_fold,\n",
    "                    death_xgb_pr_df, death_xgb_resampled_pr_df, death_xgb_resampled_pr_std, death_xgb_pr_aucs, death_xgb_selected_fold,\n",
    "                    death_lstm_pr_df, death_lstm_resampled_pr_df, death_lstm_resampled_pr_std, death_lstm_pr_aucs, death_lstm_selected_fold,\n",
    "                      death_thrivec_resampled_precision, death_thrivec_resampled_pr_std, death_thrivec_pr_auc,\n",
    "                      ax4, plot_legend = True, tick_label_size = tick_label_size, label_font_size = label_font_size)\n",
    "if plot_subplot_titles:\n",
    "    ax4.set_title('D.', fontsize=subplot_number_font_size, horizontalalignment='left', x=-0.1)\n",
    "    \n",
    "plt.show()"
   ]
  },
  {
   "cell_type": "code",
   "execution_count": null,
   "metadata": {
    "ExecuteTime": {
     "end_time": "2023-06-26T17:11:40.982328Z",
     "start_time": "2023-06-26T17:11:39.920374Z"
    }
   },
   "outputs": [],
   "source": [
    "# main_fig.savefig(os.path.join(output_dir, 'comparative_performances_combined.svg'), bbox_inches=\"tight\", format='svg', dpi=1200)"
   ]
  },
  {
   "cell_type": "code",
   "execution_count": null,
   "metadata": {
    "ExecuteTime": {
     "end_time": "2023-06-26T17:11:33.088912Z",
     "start_time": "2023-06-26T17:11:33.083922Z"
    }
   },
   "outputs": [],
   "source": []
  }
 ],
 "metadata": {
  "kernelspec": {
   "display_name": "Python 3",
   "language": "python",
   "name": "python3"
  },
  "language_info": {
   "codemirror_mode": {
    "name": "ipython",
    "version": 3
   },
   "file_extension": ".py",
   "mimetype": "text/x-python",
   "name": "python",
   "nbconvert_exporter": "python",
   "pygments_lexer": "ipython3",
   "version": "3.8.11"
  }
 },
 "nbformat": 4,
 "nbformat_minor": 0
}
