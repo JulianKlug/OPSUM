{
 "cells": [
  {
   "cell_type": "code",
   "execution_count": null,
   "metadata": {
    "ExecuteTime": {
     "end_time": "2023-07-05T19:59:36.796446Z",
     "start_time": "2023-07-05T19:59:36.785782Z"
    }
   },
   "outputs": [],
   "source": [
    "import pandas as pd\n",
    "import os\n",
    "import matplotlib.pyplot as plt\n",
    "import seaborn as sns\n",
    "import numpy as np"
   ]
  },
  {
   "cell_type": "code",
   "execution_count": null,
   "metadata": {
    "ExecuteTime": {
     "end_time": "2023-07-05T19:41:05.019601Z",
     "start_time": "2023-07-05T19:41:05.016520Z"
    }
   },
   "outputs": [],
   "source": [
    "mrs02_transformer_path = '/Users/jk1/temp/opsum_prediction_output/transformer/3M_mrs02/transformer_20230402_184459_test_set_evaluation/overall_results.csv'\n",
    "mrs02_xgb_path = '/Users/jk1/temp/opsum_prediction_output/linear_72h_xgb/3M_mrs02/with_feature_aggregration/testing/test_XGB_results.csv'\n",
    "mrs02_lstm_path = '/Users/jk1/temp/opsum_prediction_output/LSTM_72h_testing/3M_mRS02/2023_01_02_1057/test_LSTM_sigmoid_all_balanced_0.2_2_True_RMSprop_3M mRS 0-2_16_3/test_LSTM_results.tsv'\n",
    "mrs02_mlp_path = '/Users/jk1/temp/opsum_prediction_output/linear_72h_perceptron/mrs02/with_feature_aggregration_mlp/all_folds/test_mlp_cv_2_results.csv'\n",
    "mrs02_thrivec_path = '/Users/jk1/temp/opsum_prediction_output/THRIVE_C/THRIVE_C_3m_mrs02_predictions/thriveC_mrs02_results.csv'\n",
    "\n",
    "death_xgb_path = '/Users/jk1/temp/opsum_prediction_output/linear_72h_xgb/3M_Death/testing/test_XGB_results.csv'\n",
    "death_transformer_path = '/Users/jk1/temp/opsum_prediction_output/transformer/3M_Death/testing/overall_results.csv'\n",
    "death_lstm_path = '/Users/jk1/temp/opsum_prediction_output/LSTM_72h_testing/3M_Death/2023_01_04_2020/test_LSTM_sigmoid_all_balanced_0.0_2_True_RMSprop_3M Death_128_2/test_LSTM_results.tsv'\n",
    "death_mlp_path = '/Users/jk1/temp/opsum_prediction_output/linear_72h_perceptron/death/feature_aggregration_mlp/testing/test_mlp_cv_2_results.csv'\n",
    "death_thrivec_path = '/Users/jk1/temp/opsum_prediction_output/THRIVE_C/THRIVE_C_3m_death_predictions/3m_death_results.csv'\n",
    "\n",
    "death_mimic_xgb_path = '/Users/jk1/temp/opsum_prediction_output/linear_72h_xgb/3M_Death/external_validation/external_validation_XGB_results.csv'\n",
    "death_mimic_transformer_path = '/Users/jk1/temp/opsum_prediction_output/transformer/3M_Death/external_validation/overall_results.csv'\n",
    "death_mimic_lstm_path = '/Users/jk1/temp/opsum_prediction_output/LSTM_72h_testing/external_validation/3M_Death/2023_01_04_2020/all_folds/test_LSTM_sigmoid_all_balanced_0.0_2_True_RMSprop_3M Death_128_2/test_LSTM_results_fold_2.tsv'\n",
    "death_mimic_mlp_path = '/Users/jk1/temp/opsum_prediction_output/linear_72h_perceptron/death/feature_aggregration_mlp/external_validation/overall_results.csv'\n"
   ]
  },
  {
   "cell_type": "code",
   "execution_count": null,
   "metadata": {
    "ExecuteTime": {
     "end_time": "2023-07-05T19:41:05.023864Z",
     "start_time": "2023-07-05T19:41:05.020969Z"
    }
   },
   "outputs": [],
   "source": [
    "output_dir = '/Users/jk1/Downloads'"
   ]
  },
  {
   "cell_type": "code",
   "execution_count": null,
   "metadata": {
    "ExecuteTime": {
     "end_time": "2023-07-05T19:41:05.086638Z",
     "start_time": "2023-07-05T19:41:05.027824Z"
    }
   },
   "outputs": [],
   "source": [
    "mrs02_xgb_df = pd.read_csv(mrs02_xgb_path)\n",
    "mrs02_transformer_df = pd.read_csv(mrs02_transformer_path)\n",
    "mrs02_lstm_df = pd.read_csv(mrs02_lstm_path, sep='\\t')\n",
    "mrs02_mlp_df = pd.read_csv(mrs02_mlp_path)\n",
    "mrs02_thrivec_df = pd.read_csv(mrs02_thrivec_path)\n",
    "\n",
    "death_xgb_df = pd.read_csv(death_xgb_path)\n",
    "death_transformer_df = pd.read_csv(death_transformer_path)\n",
    "death_lstm_df = pd.read_csv(death_lstm_path, sep='\\t')\n",
    "death_mlp_df = pd.read_csv(death_mlp_path)\n",
    "death_thrivec_df = pd.read_csv(death_thrivec_path)\n",
    "\n",
    "death_mimic_xgb_df = pd.read_csv(death_mimic_xgb_path)\n",
    "death_mimic_transformer_df = pd.read_csv(death_mimic_transformer_path)\n",
    "death_mimic_lstm_df = pd.read_csv(death_mimic_lstm_path, sep='\\t')\n",
    "death_mimic_mlp_df = pd.read_csv(death_mimic_mlp_path)"
   ]
  },
  {
   "cell_type": "code",
   "execution_count": null,
   "metadata": {
    "ExecuteTime": {
     "end_time": "2023-07-05T19:41:05.134943Z",
     "start_time": "2023-07-05T19:41:05.132328Z"
    }
   },
   "outputs": [],
   "source": [
    "mrs02_transformer_df = mrs02_transformer_df[mrs02_transformer_df.fold == mrs02_transformer_df.best_cv_fold.mode()[0]]\n",
    "death_transformer_df = death_transformer_df[death_transformer_df.fold == death_transformer_df.best_cv_fold.mode()[0]]\n",
    "death_mimic_transformer_df = death_mimic_transformer_df[death_mimic_transformer_df.fold == death_mimic_transformer_df.best_cv_fold.mode()[0]]\n",
    "death_mimic_mlp_df = death_mimic_mlp_df[death_mimic_mlp_df.fold == death_mimic_mlp_df.best_val_fold.mode()[0] - 1]"
   ]
  },
  {
   "cell_type": "code",
   "execution_count": null,
   "metadata": {
    "ExecuteTime": {
     "end_time": "2023-07-05T19:42:23.624116Z",
     "start_time": "2023-07-05T19:42:23.610588Z"
    }
   },
   "outputs": [],
   "source": [
    "death_mimic_xgb_df"
   ]
  },
  {
   "cell_type": "code",
   "execution_count": null,
   "metadata": {
    "ExecuteTime": {
     "end_time": "2023-07-05T20:06:27.715524Z",
     "start_time": "2023-07-05T20:06:27.703718Z"
    }
   },
   "outputs": [],
   "source": [
    "roc_auc_df = pd.concat([\n",
    "    pd.DataFrame({'model': 'Transformer', 'outcome': 'mRS 0-2', 'roc_auc': mrs02_transformer_df.auc_test, 'lower_ci': mrs02_transformer_df.auc_test_lower_ci, 'upper_ci': mrs02_transformer_df.auc_test_upper_ci}),\n",
    "    pd.DataFrame({'model': 'Transformer', 'outcome': 'Death', 'roc_auc': death_transformer_df.auc_test, 'lower_ci': death_transformer_df.auc_test_lower_ci, 'upper_ci': death_transformer_df.auc_test_upper_ci}),\n",
    "    pd.DataFrame({'model': 'Transformer', 'outcome': 'Death (MIMIC)', 'roc_auc': death_mimic_transformer_df.auc_test, 'lower_ci': death_mimic_transformer_df.auc_test_lower_ci, 'upper_ci': death_mimic_transformer_df.auc_test_upper_ci}),\n",
    "    pd.DataFrame({'model': 'XGBoost', 'outcome': 'mRS 0-2', 'roc_auc': mrs02_xgb_df.auc_test, 'lower_ci': mrs02_xgb_df.auc_test_lower_ci, 'upper_ci': mrs02_xgb_df.auc_test_upper_ci}),\n",
    "    pd.DataFrame({'model': 'XGBoost', 'outcome': 'Death', 'roc_auc': death_xgb_df.auc_test, 'lower_ci': death_xgb_df.auc_test_lower_ci, 'upper_ci': death_xgb_df.auc_test_upper_ci}),\n",
    "    pd.DataFrame({'model': 'XGBoost', 'outcome': 'Death (MIMIC)', 'roc_auc': death_mimic_xgb_df.auc_test, 'lower_ci': death_mimic_xgb_df.auc_test_lower_ci, 'upper_ci': death_mimic_xgb_df.auc_test_upper_ci}),\n",
    "    pd.DataFrame({'model': 'LSTM', 'outcome': 'mRS 0-2', 'roc_auc': mrs02_lstm_df.auc_test, 'lower_ci': mrs02_lstm_df.auc_test_lower_ci, 'upper_ci': mrs02_lstm_df.auc_test_upper_ci}),\n",
    "    pd.DataFrame({'model': 'LSTM', 'outcome': 'Death', 'roc_auc': death_lstm_df.auc_test, 'lower_ci': death_lstm_df.auc_test_lower_ci, 'upper_ci': death_lstm_df.auc_test_upper_ci}),\n",
    "    pd.DataFrame({'model': 'LSTM', 'outcome': 'Death (MIMIC)', 'roc_auc': death_mimic_lstm_df.auc_test, 'lower_ci': death_mimic_lstm_df.auc_test_lower_ci, 'upper_ci': death_mimic_lstm_df.auc_test_upper_ci}),\n",
    "    pd.DataFrame({'model': 'THRIVE-C', 'outcome': 'mRS 0-2', 'roc_auc': mrs02_thrivec_df.auc_test, 'lower_ci': mrs02_thrivec_df.auc_test_lower_ci, 'upper_ci': mrs02_thrivec_df.auc_test_upper_ci}),\n",
    "    pd.DataFrame({'model': 'THRIVE-C', 'outcome': 'Death', 'roc_auc': death_thrivec_df.auc_test, 'lower_ci': death_thrivec_df.auc_test_lower_ci, 'upper_ci': death_thrivec_df.auc_test_upper_ci})\n",
    "])"
   ]
  },
  {
   "cell_type": "code",
   "execution_count": null,
   "metadata": {
    "ExecuteTime": {
     "end_time": "2023-07-05T20:06:28.044208Z",
     "start_time": "2023-07-05T20:06:28.038976Z"
    }
   },
   "outputs": [],
   "source": [
    "roc_auc_df"
   ]
  },
  {
   "cell_type": "code",
   "execution_count": null,
   "metadata": {
    "ExecuteTime": {
     "end_time": "2023-07-05T20:06:28.331958Z",
     "start_time": "2023-07-05T20:06:28.326800Z"
    }
   },
   "outputs": [],
   "source": [
    "# join columns roc_auc, lower_ci, upper_ci into a single column\n",
    "joined_roc_auc_df = roc_auc_df.melt(id_vars=['model', 'outcome'], value_vars=['roc_auc', 'lower_ci', 'upper_ci'], value_name='roc_auc')"
   ]
  },
  {
   "cell_type": "code",
   "execution_count": null,
   "metadata": {
    "ExecuteTime": {
     "end_time": "2023-07-05T20:14:42.125367Z",
     "start_time": "2023-07-05T20:14:42.102063Z"
    }
   },
   "outputs": [],
   "source": [
    "import matplotlib\n",
    "from matplotlib.font_manager import FontProperties\n",
    "\n",
    "font_files = ['/Library/Fonts/calibri-bold-italic.ttf',\n",
    "'/Library/Fonts/calibri-bold.ttf',\n",
    "'/Library/Fonts/calibri-italic.ttf',\n",
    "'/Library/Fonts/calibri-regular.ttf',\n",
    "'/Library/Fonts/calibril.ttf']\n",
    "\n",
    "font_path = font_files[-1]\n",
    "calibri_font = FontProperties(fname=font_path)\n",
    "calibri_font.get_name()\n",
    "\n",
    "for font_file in font_files:\n",
    "    matplotlib.font_manager.fontManager.addfont(font_file)"
   ]
  },
  {
   "cell_type": "code",
   "execution_count": null,
   "metadata": {
    "ExecuteTime": {
     "end_time": "2023-07-05T21:26:44.912239Z",
     "start_time": "2023-07-05T21:26:43.759298Z"
    }
   },
   "outputs": [],
   "source": [
    "sns.set_theme(style=\"whitegrid\", context=\"paper\", font_scale = 1)\n",
    "plt.rcParams['font.family'] = calibri_font.get_name()\n",
    "\n",
    "tick_label_size = 6\n",
    "label_font_size = 7\n",
    "subplot_number_font_size = 9\n",
    "suptitle_font_size = 10\n",
    "\n",
    "all_colors_palette = sns.color_palette(['#f61067', '#012D98', '#a76dfe', '#049b9a'], n_colors=5)\n",
    "\n",
    "g = sns.catplot(\n",
    "    data=joined_roc_auc_df,\n",
    "    y='model',\n",
    "    x='roc_auc',\n",
    "    hue='model',\n",
    "    col='outcome',\n",
    "    kind='point',\n",
    "    orient='h',\n",
    "    estimator='median',\n",
    "    errorbar=(\"pi\", 100),\n",
    "    palette=all_colors_palette,\n",
    ")\n",
    "\n",
    "cm = 1/2.54  # centimeters in inches\n",
    "# set figure size\n",
    "g.fig.set_size_inches(18 * cm, 10 * cm)\n",
    "\n",
    "# remove y axis label\n",
    "g.set(ylabel=None)\n",
    "# rename x axis label\n",
    "g.set_axis_labels('ROC AUC', None, fontsize=label_font_size)\n",
    "# change subplot column titles\n",
    "g.axes[0, 0].set_title('A. Prediction of functional outcome', fontsize=suptitle_font_size)\n",
    "g.axes[0, 1].set_title('B. Prediction of mortality', fontsize=suptitle_font_size)\n",
    "g.axes[0, 2].set_title('C. Prediction of mortality (MIMIC)', fontsize=suptitle_font_size)\n",
    "\n",
    "# # set subplot title alignement to left align\n",
    "# g.axes[0, 0].title.set_ha('left')\n",
    "# g.axes[0, 1].title.set_ha('left')\n",
    "# g.axes[0, 2].title.set_ha('left')\n",
    "# \n",
    "# # align titles of subplots to left of subplot\n",
    "# g.axes[0, 0].title.set_position([-0.04, 1.05])\n",
    "# g.axes[0, 1].title.set_position([-0.04, 1.05])\n",
    "# g.axes[0, 2].title.set_position([-0.04, 1.05])\n",
    "\n",
    "# increase space between subplots\n",
    "g.fig.subplots_adjust(wspace=0.1)\n",
    "\n",
    "# change y ticks font size\n",
    "g.set_yticklabels(['Transformer', 'XGBoost', 'LSTM', 'THRIVE-C'], fontsize=subplot_number_font_size)\n",
    "# change x ticks font size\n",
    "g.axes[0, 0].tick_params(axis='x', labelsize=tick_label_size)\n",
    "g.axes[0, 1].tick_params(axis='x', labelsize=tick_label_size)\n",
    "g.axes[0, 2].tick_params(axis='x', labelsize=tick_label_size)\n",
    "\n",
    "# increase spacing between legend and plot\n",
    "g._legend.set_bbox_to_anchor([1.1, 0.5])\n",
    "# change legend font size\n",
    "g._legend.set_title('Models', prop={'size': subplot_number_font_size})\n",
    "\n",
    "plt.suptitle('ROC AUC performance (bootstrapped confidence intervals)', fontsize=suptitle_font_size, x=0.5, y=1.05)\n",
    "\n",
    "plt.show()"
   ]
  },
  {
   "cell_type": "code",
   "execution_count": null,
   "metadata": {
    "ExecuteTime": {
     "end_time": "2023-07-05T21:26:48.442586Z",
     "start_time": "2023-07-05T21:26:48.006223Z"
    }
   },
   "outputs": [],
   "source": [
    "# g.fig.savefig(os.path.join(output_dir, 'performance_pointplot.svg'), bbox_inches=\"tight\", format='svg', dpi=1200)\n",
    "# "
   ]
  },
  {
   "cell_type": "code",
   "execution_count": null,
   "metadata": {},
   "outputs": [],
   "source": [
    " "
   ]
  }
 ],
 "metadata": {
  "kernelspec": {
   "display_name": "Python 3",
   "language": "python",
   "name": "python3"
  },
  "language_info": {
   "codemirror_mode": {
    "name": "ipython",
    "version": 2
   },
   "file_extension": ".py",
   "mimetype": "text/x-python",
   "name": "python",
   "nbconvert_exporter": "python",
   "pygments_lexer": "ipython2",
   "version": "2.7.6"
  }
 },
 "nbformat": 4,
 "nbformat_minor": 0
}
