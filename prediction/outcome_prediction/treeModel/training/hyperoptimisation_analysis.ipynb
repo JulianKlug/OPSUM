{
 "cells": [
  {
   "cell_type": "code",
   "execution_count": null,
   "metadata": {
    "ExecuteTime": {
     "end_time": "2023-04-14T17:38:38.991871Z",
     "start_time": "2023-04-14T17:38:38.987219Z"
    }
   },
   "outputs": [],
   "source": [
    "import matplotlib.pyplot as plt\n",
    "import seaborn as sns\n",
    "import pandas as pd\n",
    "import os"
   ]
  },
  {
   "cell_type": "code",
   "execution_count": null,
   "metadata": {
    "ExecuteTime": {
     "end_time": "2023-04-14T17:38:38.996497Z",
     "start_time": "2023-04-14T17:38:38.993086Z"
    }
   },
   "outputs": [],
   "source": [
    "output_dir = '/Users/jk1/temp/opsum_prediction_output/linear_72h_xgb/3M_Death'"
   ]
  },
  {
   "cell_type": "code",
   "execution_count": null,
   "metadata": {
    "ExecuteTime": {
     "end_time": "2023-04-14T17:38:39.016706Z",
     "start_time": "2023-04-14T17:38:39.000243Z"
    }
   },
   "outputs": [],
   "source": [
    "# read in all tsv files in the output directory\n",
    "files = [f for f in os.listdir(output_dir) if f.endswith('.csv')]\n",
    "files"
   ]
  },
  {
   "cell_type": "code",
   "execution_count": null,
   "metadata": {
    "ExecuteTime": {
     "end_time": "2023-04-14T17:38:39.835484Z",
     "start_time": "2023-04-14T17:38:39.018046Z"
    }
   },
   "outputs": [],
   "source": [
    "# load data from each file and extract n_neurons as a column\n",
    "dfs = []\n",
    "for f in files:\n",
    "    df = pd.read_csv(os.path.join(output_dir, f), sep=',')\n",
    "    dfs.append(df)"
   ]
  },
  {
   "cell_type": "code",
   "execution_count": null,
   "metadata": {
    "ExecuteTime": {
     "end_time": "2023-04-14T17:38:39.903309Z",
     "start_time": "2023-04-14T17:38:39.841876Z"
    }
   },
   "outputs": [],
   "source": [
    "# concatenate all dataframes\n",
    "df = pd.concat(dfs)"
   ]
  },
  {
   "cell_type": "code",
   "execution_count": null,
   "metadata": {
    "ExecuteTime": {
     "end_time": "2023-04-14T17:38:39.938599Z",
     "start_time": "2023-04-14T17:38:39.905486Z"
    }
   },
   "outputs": [],
   "source": [
    "df"
   ]
  },
  {
   "cell_type": "markdown",
   "metadata": {
    "collapsed": false
   },
   "source": [
    "## Identify best parameters"
   ]
  },
  {
   "cell_type": "code",
   "execution_count": null,
   "metadata": {
    "ExecuteTime": {
     "end_time": "2023-04-14T17:38:40.054298Z",
     "start_time": "2023-04-14T17:38:39.940265Z"
    }
   },
   "outputs": [],
   "source": [
    "df.groupby(['max_depth', 'n_estimators', 'learning_rate', 'alpha', 'reg_lambda']).median().sort_values(by='auc_val', ascending=False)"
   ]
  },
  {
   "cell_type": "code",
   "execution_count": null,
   "metadata": {
    "ExecuteTime": {
     "end_time": "2023-04-14T17:38:40.107813Z",
     "start_time": "2023-04-14T17:38:39.990786Z"
    }
   },
   "outputs": [],
   "source": [
    "best_overall_parameters_df = pd.DataFrame(df.groupby(['max_depth', 'n_estimators', 'learning_rate', 'alpha', 'reg_lambda']).median().sort_values(by='auc_val', ascending=False).reset_index().iloc[0]).T"
   ]
  },
  {
   "cell_type": "code",
   "execution_count": null,
   "metadata": {
    "ExecuteTime": {
     "end_time": "2023-04-14T18:35:50.629261Z",
     "start_time": "2023-04-14T18:35:50.625304Z"
    }
   },
   "outputs": [],
   "source": [
    "best_overall_parameters_df"
   ]
  },
  {
   "cell_type": "code",
   "execution_count": null,
   "metadata": {
    "ExecuteTime": {
     "end_time": "2023-04-14T17:38:40.108176Z",
     "start_time": "2023-04-14T17:38:40.024830Z"
    }
   },
   "outputs": [],
   "source": [
    "best_overall_parameters_df.to_csv(os.path.join(output_dir, 'best_overall_parameters.csv'), index=False)"
   ]
  },
  {
   "cell_type": "code",
   "execution_count": null,
   "metadata": {
    "ExecuteTime": {
     "end_time": "2023-04-14T17:39:06.571167Z",
     "start_time": "2023-04-14T17:39:06.559339Z"
    }
   },
   "outputs": [],
   "source": [
    "overall_best_parameter_result = df[\n",
    "    (df['max_depth'] == best_overall_parameters_df['max_depth'][0]) &\n",
    "    (df['n_estimators'] == best_overall_parameters_df.n_estimators[0]) &\n",
    "    (df['learning_rate'] == best_overall_parameters_df.learning_rate[0]) &\n",
    "    (df['alpha'] == best_overall_parameters_df.alpha[0]) &\n",
    "    (df['reg_lambda'] == best_overall_parameters_df.reg_lambda[0])\n",
    "]\n",
    "overall_best_parameter_result"
   ]
  },
  {
   "cell_type": "markdown",
   "metadata": {
    "collapsed": false
   },
   "source": [
    "## Influence of parameters"
   ]
  },
  {
   "cell_type": "code",
   "execution_count": null,
   "metadata": {
    "ExecuteTime": {
     "end_time": "2023-04-14T17:39:08.204548Z",
     "start_time": "2023-04-14T17:39:07.996395Z"
    }
   },
   "outputs": [],
   "source": [
    "# plot influence of hidden_layer_sizes\n",
    "sns.violinplot(x='n_estimators', y='auc_val', data=df)\n",
    "plt.show()"
   ]
  },
  {
   "cell_type": "code",
   "execution_count": null,
   "metadata": {
    "ExecuteTime": {
     "end_time": "2023-04-14T17:39:08.647285Z",
     "start_time": "2023-04-14T17:39:08.431565Z"
    }
   },
   "outputs": [],
   "source": [
    "# plot influence of max_depth\n",
    "sns.violinplot(x='max_depth', y='auc_val', data=df)\n",
    "plt.show()"
   ]
  },
  {
   "cell_type": "code",
   "execution_count": null,
   "metadata": {
    "ExecuteTime": {
     "end_time": "2023-04-14T17:39:09.153788Z",
     "start_time": "2023-04-14T17:39:09.018831Z"
    }
   },
   "outputs": [],
   "source": [
    "# plot influence of learning_rate\n",
    "sns.violinplot(x='learning_rate', y='auc_val', data=df)\n",
    "plt.show()"
   ]
  },
  {
   "cell_type": "code",
   "execution_count": null,
   "metadata": {
    "ExecuteTime": {
     "end_time": "2023-04-14T17:39:09.878874Z",
     "start_time": "2023-04-14T17:39:09.681442Z"
    }
   },
   "outputs": [],
   "source": [
    "# plot influence of alpha\n",
    "sns.violinplot(x='alpha', y='auc_val', data=df)\n",
    "plt.show()"
   ]
  },
  {
   "cell_type": "code",
   "execution_count": null,
   "metadata": {
    "ExecuteTime": {
     "end_time": "2023-04-14T17:39:10.697865Z",
     "start_time": "2023-04-14T17:39:10.515204Z"
    }
   },
   "outputs": [],
   "source": [
    "# plot influence of reg_lambda\n",
    "sns.violinplot(x='reg_lambda', y='auc_val', data=df)\n",
    "plt.show()"
   ]
  },
  {
   "cell_type": "code",
   "execution_count": null,
   "metadata": {},
   "outputs": [],
   "source": []
  }
 ],
 "metadata": {
  "kernelspec": {
   "display_name": "Python 3",
   "language": "python",
   "name": "python3"
  },
  "language_info": {
   "codemirror_mode": {
    "name": "ipython",
    "version": 2
   },
   "file_extension": ".py",
   "mimetype": "text/x-python",
   "name": "python",
   "nbconvert_exporter": "python",
   "pygments_lexer": "ipython2",
   "version": "2.7.6"
  }
 },
 "nbformat": 4,
 "nbformat_minor": 0
}
