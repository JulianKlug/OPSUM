{
 "cells": [
  {
   "cell_type": "code",
   "execution_count": null,
   "metadata": {
    "ExecuteTime": {
     "end_time": "2024-02-15T08:48:52.206507Z",
     "start_time": "2024-02-15T08:48:52.200933Z"
    }
   },
   "outputs": [],
   "source": [
    "import matplotlib.pyplot as plt\n",
    "import seaborn as sns\n",
    "import pandas as pd\n",
    "import os"
   ]
  },
  {
   "cell_type": "code",
   "execution_count": null,
   "metadata": {
    "ExecuteTime": {
     "end_time": "2024-02-15T08:48:52.211969Z",
     "start_time": "2024-02-15T08:48:52.205451Z"
    }
   },
   "outputs": [],
   "source": [
    "output_dir = '/Users/jk1/temp/opsum_prediction_output/linear_72h_xgb/Death_in_hospital'"
   ]
  },
  {
   "cell_type": "code",
   "execution_count": null,
   "metadata": {
    "ExecuteTime": {
     "end_time": "2024-02-15T08:48:52.224075Z",
     "start_time": "2024-02-15T08:48:52.212455Z"
    }
   },
   "outputs": [],
   "source": [
    "# read in all tsv files in the output directory\n",
    "files = [f for f in os.listdir(output_dir) if f.endswith('.csv')]\n",
    "files"
   ]
  },
  {
   "cell_type": "code",
   "execution_count": null,
   "metadata": {
    "ExecuteTime": {
     "end_time": "2024-02-15T08:48:52.863745Z",
     "start_time": "2024-02-15T08:48:52.222566Z"
    }
   },
   "outputs": [],
   "source": [
    "# load data from each file and extract n_neurons as a column\n",
    "dfs = []\n",
    "for f in files:\n",
    "    df = pd.read_csv(os.path.join(output_dir, f), sep=',')\n",
    "    dfs.append(df)"
   ]
  },
  {
   "cell_type": "code",
   "execution_count": null,
   "metadata": {
    "ExecuteTime": {
     "end_time": "2024-02-15T08:48:52.903058Z",
     "start_time": "2024-02-15T08:48:52.848972Z"
    }
   },
   "outputs": [],
   "source": [
    "# concatenate all dataframes\n",
    "df = pd.concat(dfs)"
   ]
  },
  {
   "cell_type": "code",
   "execution_count": null,
   "metadata": {
    "ExecuteTime": {
     "end_time": "2024-02-15T08:48:53.340744Z",
     "start_time": "2024-02-15T08:48:53.309404Z"
    }
   },
   "outputs": [],
   "source": [
    "df"
   ]
  },
  {
   "cell_type": "markdown",
   "metadata": {
    "collapsed": false
   },
   "source": [
    "## Identify best parameters"
   ]
  },
  {
   "cell_type": "code",
   "execution_count": null,
   "metadata": {
    "ExecuteTime": {
     "end_time": "2024-02-15T08:49:00.125947Z",
     "start_time": "2024-02-15T08:49:00.077396Z"
    }
   },
   "outputs": [],
   "source": [
    "df.groupby(['max_depth', 'n_estimators', 'learning_rate', 'alpha', 'reg_lambda']).median().sort_values(by='auc_val', ascending=False)"
   ]
  },
  {
   "cell_type": "code",
   "execution_count": null,
   "metadata": {
    "ExecuteTime": {
     "end_time": "2024-02-15T08:49:21.136097Z",
     "start_time": "2024-02-15T08:49:21.110416Z"
    }
   },
   "outputs": [],
   "source": [
    "best_overall_parameters_df = pd.DataFrame(df.groupby(['max_depth', 'n_estimators', 'learning_rate', 'alpha', 'reg_lambda']).median().sort_values(by='auc_val', ascending=False).reset_index().iloc[0]).T"
   ]
  },
  {
   "cell_type": "code",
   "execution_count": null,
   "metadata": {
    "ExecuteTime": {
     "end_time": "2024-02-15T08:49:22.367319Z",
     "start_time": "2024-02-15T08:49:22.358692Z"
    }
   },
   "outputs": [],
   "source": [
    "best_overall_parameters_df"
   ]
  },
  {
   "cell_type": "code",
   "execution_count": null,
   "metadata": {
    "ExecuteTime": {
     "end_time": "2024-02-15T08:49:35.352173Z",
     "start_time": "2024-02-15T08:49:35.345899Z"
    }
   },
   "outputs": [],
   "source": [
    "best_overall_parameters_df.to_csv(os.path.join(output_dir, 'best_overall_parameters.csv'), index=False)"
   ]
  },
  {
   "cell_type": "code",
   "execution_count": null,
   "metadata": {
    "ExecuteTime": {
     "end_time": "2024-02-15T08:49:36.146469Z",
     "start_time": "2024-02-15T08:49:36.085787Z"
    }
   },
   "outputs": [],
   "source": [
    "overall_best_parameter_result = df[\n",
    "    (df['max_depth'] == best_overall_parameters_df['max_depth'][0]) &\n",
    "    (df['n_estimators'] == best_overall_parameters_df.n_estimators[0]) &\n",
    "    (df['learning_rate'] == best_overall_parameters_df.learning_rate[0]) &\n",
    "    (df['alpha'] == best_overall_parameters_df.alpha[0]) &\n",
    "    (df['reg_lambda'] == best_overall_parameters_df.reg_lambda[0])\n",
    "]\n",
    "overall_best_parameter_result"
   ]
  },
  {
   "cell_type": "markdown",
   "metadata": {
    "collapsed": false
   },
   "source": [
    "## Influence of parameters"
   ]
  },
  {
   "cell_type": "code",
   "execution_count": null,
   "metadata": {
    "ExecuteTime": {
     "end_time": "2024-02-15T08:49:53.704950Z",
     "start_time": "2024-02-15T08:49:53.481718Z"
    }
   },
   "outputs": [],
   "source": [
    "# plot influence of hidden_layer_sizes\n",
    "sns.violinplot(x='n_estimators', y='auc_val', data=df)\n",
    "plt.show()"
   ]
  },
  {
   "cell_type": "code",
   "execution_count": null,
   "metadata": {
    "ExecuteTime": {
     "end_time": "2024-02-15T08:49:56.871949Z",
     "start_time": "2024-02-15T08:49:56.673823Z"
    }
   },
   "outputs": [],
   "source": [
    "# plot influence of max_depth\n",
    "sns.violinplot(x='max_depth', y='auc_val', data=df)\n",
    "plt.show()"
   ]
  },
  {
   "cell_type": "code",
   "execution_count": null,
   "metadata": {
    "ExecuteTime": {
     "end_time": "2024-02-15T08:50:00.437227Z",
     "start_time": "2024-02-15T08:50:00.255375Z"
    }
   },
   "outputs": [],
   "source": [
    "# plot influence of learning_rate\n",
    "sns.violinplot(x='learning_rate', y='auc_val', data=df)\n",
    "plt.show()"
   ]
  },
  {
   "cell_type": "code",
   "execution_count": null,
   "metadata": {
    "ExecuteTime": {
     "end_time": "2024-02-15T08:50:05.522218Z",
     "start_time": "2024-02-15T08:50:05.292688Z"
    }
   },
   "outputs": [],
   "source": [
    "# plot influence of alpha\n",
    "sns.violinplot(x='alpha', y='auc_val', data=df)\n",
    "plt.show()"
   ]
  },
  {
   "cell_type": "code",
   "execution_count": null,
   "metadata": {
    "ExecuteTime": {
     "end_time": "2024-02-15T08:50:09.336468Z",
     "start_time": "2024-02-15T08:50:09.149377Z"
    }
   },
   "outputs": [],
   "source": [
    "# plot influence of reg_lambda\n",
    "sns.violinplot(x='reg_lambda', y='auc_val', data=df)\n",
    "plt.show()"
   ]
  },
  {
   "cell_type": "code",
   "execution_count": null,
   "metadata": {},
   "outputs": [],
   "source": []
  }
 ],
 "metadata": {
  "kernelspec": {
   "display_name": "Python 3",
   "language": "python",
   "name": "python3"
  },
  "language_info": {
   "codemirror_mode": {
    "name": "ipython",
    "version": 2
   },
   "file_extension": ".py",
   "mimetype": "text/x-python",
   "name": "python",
   "nbconvert_exporter": "python",
   "pygments_lexer": "ipython2",
   "version": "2.7.6"
  }
 },
 "nbformat": 4,
 "nbformat_minor": 0
}
