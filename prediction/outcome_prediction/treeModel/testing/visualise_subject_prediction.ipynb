{
 "cells": [
  {
   "cell_type": "markdown",
   "id": "ea1da0a1",
   "metadata": {
    "collapsed": false
   },
   "source": [
    "# Interactive visualisation of the prediction for a single subject"
   ]
  },
  {
   "cell_type": "code",
   "execution_count": null,
   "id": "a1708a13",
   "metadata": {
    "ExecuteTime": {
     "end_time": "2023-04-27T19:33:49.929030Z",
     "start_time": "2023-04-27T19:33:45.839203Z"
    }
   },
   "outputs": [],
   "source": [
    "import os\n",
    "import numpy as np\n",
    "import seaborn as sns\n",
    "import matplotlib.pyplot as plt\n",
    "import matplotlib.patches as mpatches\n",
    "from random import randint\n",
    "import pandas as pd\n",
    "import pickle\n",
    "from preprocessing.preprocessing_tools.normalisation.reverse_normalisation import reverse_normalisation\n",
    "from prediction.utils.shap_helper_functions import check_shap_version_compatibility\n",
    "from prediction.utils.utils import flatten\n",
    "from prediction.outcome_prediction.data_loading.data_loader import load_data\n",
    "from prediction.utils.utils import aggregate_features_over_time\n",
    "from sklearn.model_selection import train_test_split\n",
    "from prediction.outcome_prediction.data_loading.data_formatting import format_to_2d_table_with_time, \\\n",
    "    link_patient_id_to_outcome, features_to_numpy, numpy_to_lookup_table"
   ]
  },
  {
   "cell_type": "code",
   "execution_count": null,
   "id": "8ab97dd6",
   "metadata": {
    "ExecuteTime": {
     "end_time": "2023-04-27T19:33:49.933463Z",
     "start_time": "2023-04-27T19:33:49.928598Z"
    }
   },
   "outputs": [],
   "source": [
    "# Shap values require very specific versions\n",
    "check_shap_version_compatibility()"
   ]
  },
  {
   "cell_type": "code",
   "execution_count": null,
   "id": "f1c0dfb8",
   "metadata": {
    "ExecuteTime": {
     "end_time": "2023-04-27T19:34:24.155604Z",
     "start_time": "2023-04-27T19:34:24.131663Z"
    }
   },
   "outputs": [],
   "source": [
    "features_path = '/Users/jk1/temp/opsum_prepro_output/gsu_prepro_01012023_233050/preprocessed_features_01012023_233050.csv'\n",
    "labels_path = '/Users/jk1/temp/opsum_prepro_output/gsu_prepro_01012023_233050/preprocessed_outcomes_01012023_233050.csv'\n",
    "normalisation_parameters_path = '/Users/jk1/temp/opsum_prepro_output/gsu_prepro_01012023_233050/logs_01012023_233050/normalisation_parameters.csv'\n",
    "shap_over_time_path = '/Users/jk1/temp/opsum_prediction_output/linear_72h_xgb/3M_mrs02/with_feature_aggregration/testing/tree_explainer_shap_values_over_ts.pkl'\n",
    "predictions_over_time_path = '/Users/jk1/temp/opsum_prediction_output/linear_72h_xgb/with_feature_aggregration/testing/predictions_over_timesteps.pkl'\n",
    "out_dir = '/Users/jk1/Downloads'"
   ]
  },
  {
   "cell_type": "code",
   "execution_count": null,
   "id": "2b8bac9d",
   "metadata": {
    "ExecuteTime": {
     "end_time": "2023-04-11T20:29:40.359267Z",
     "start_time": "2023-04-11T20:29:40.352815Z"
    }
   },
   "outputs": [],
   "source": [
    "outcome = '3M mRS 0-2'\n",
    "test_size = 0.2\n",
    "seed = 42\n",
    "n_splits = 5\n",
    "moving_average = False\n",
    "n_time_steps = 72\n",
    "total_n_features = 84"
   ]
  },
  {
   "cell_type": "code",
   "execution_count": null,
   "id": "c8f905e2",
   "metadata": {
    "ExecuteTime": {
     "end_time": "2023-04-11T20:29:40.364607Z",
     "start_time": "2023-04-11T20:29:40.356102Z"
    }
   },
   "outputs": [],
   "source": [
    "n_features = 3"
   ]
  },
  {
   "cell_type": "code",
   "execution_count": null,
   "id": "3bf9c408",
   "metadata": {
    "ExecuteTime": {
     "end_time": "2023-04-27T19:34:27.154992Z",
     "start_time": "2023-04-27T19:34:26.950538Z"
    }
   },
   "outputs": [],
   "source": [
    "with open(shap_over_time_path, 'rb') as handle:\n",
    "    shap_values_over_time = pickle.load(handle)\n",
    "shap_values_over_time = np.array(shap_values_over_time)\n",
    "normalisation_parameters_df = pd.read_csv(normalisation_parameters_path)"
   ]
  },
  {
   "cell_type": "code",
   "execution_count": null,
   "id": "5fb69d96",
   "metadata": {
    "ExecuteTime": {
     "end_time": "2023-04-11T20:43:10.526267Z",
     "start_time": "2023-04-11T20:43:10.511899Z"
    }
   },
   "outputs": [],
   "source": [
    "with open(predictions_over_time_path, 'rb') as handle:\n",
    "    predictions_over_time = pickle.load(handle)\n",
    "predictions_over_time = np.array(predictions_over_time)"
   ]
  },
  {
   "cell_type": "markdown",
   "id": "6c59a76e",
   "metadata": {
    "collapsed": false
   },
   "source": [
    "## Load data"
   ]
  },
  {
   "cell_type": "code",
   "execution_count": null,
   "id": "1ad91c82",
   "metadata": {
    "ExecuteTime": {
     "end_time": "2023-04-11T20:30:25.123547Z",
     "start_time": "2023-04-11T20:29:40.523744Z"
    }
   },
   "outputs": [],
   "source": [
    "X, y = format_to_2d_table_with_time(feature_df_path=features_path, outcome_df_path=labels_path,\n",
    "                                    outcome=outcome)\n",
    "\n",
    "# Reduce every patient to a single outcome (to avoid duplicates)\n",
    "all_pids_with_outcome = link_patient_id_to_outcome(y, outcome)\n",
    "pid_train, pid_test, y_pid_train, y_pid_test = train_test_split(all_pids_with_outcome.patient_id.tolist(),\n",
    "                                                                all_pids_with_outcome.outcome.tolist(),\n",
    "                                                                stratify=all_pids_with_outcome.outcome.tolist(),\n",
    "                                                                test_size=test_size,\n",
    "                                                                random_state=seed)\n",
    "# Preprocess overall train data\n",
    "train_X_df = X[X.patient_id.isin(pid_train)]\n",
    "train_y_df = y[y.patient_id.isin(pid_train)]\n",
    "train_X_np = features_to_numpy(train_X_df,\n",
    "                               ['case_admission_id', 'relative_sample_date_hourly_cat', 'sample_label', 'value'])\n",
    "train_y_np = np.array([train_y_df[train_y_df.case_admission_id == cid].outcome.values[0] for cid in\n",
    "                       train_X_np[:, 0, 0, 0]]).astype('float32')\n",
    "train_X_np = train_X_np[:, :, :, -1].astype('float32')\n",
    "\n",
    "\n",
    "# Preprocess overall test data\n",
    "test_X_df = X[X.patient_id.isin(pid_test)]\n",
    "test_y_df = y[y.patient_id.isin(pid_test)]\n",
    "test_X_np = features_to_numpy(test_X_df,\n",
    "                              ['case_admission_id', 'relative_sample_date_hourly_cat', 'sample_label', 'value'])\n",
    "test_y_np = np.array([test_y_df[test_y_df.case_admission_id == cid].outcome.values[0] for cid in\n",
    "                      test_X_np[:, 0, 0, 0]]).astype('float32')\n",
    "# create look-up table for case_admission_ids, sample_labels and relative_sample_date_hourly_cat\n",
    "test_features_lookup_table = numpy_to_lookup_table(test_X_np)\n",
    "# Remove the case_admission_id, sample_label, and time_step_label columns from the data\n",
    "test_X_np = test_X_np[:, :, :, -1].astype('float32')"
   ]
  },
  {
   "cell_type": "code",
   "execution_count": null,
   "id": "0e1bae24",
   "metadata": {
    "ExecuteTime": {
     "end_time": "2023-04-11T20:30:25.208194Z",
     "start_time": "2023-04-11T20:30:25.125494Z"
    }
   },
   "outputs": [],
   "source": [
    "X_test, y_test = aggregate_features_over_time(test_X_np, test_y_np, moving_average=moving_average)\n",
    "X_test = X_test.reshape(-1, n_time_steps, X_test.shape[-1]).astype('float32')"
   ]
  },
  {
   "cell_type": "code",
   "execution_count": null,
   "id": "db46830b",
   "metadata": {
    "ExecuteTime": {
     "end_time": "2023-04-11T20:30:25.212904Z",
     "start_time": "2023-04-11T20:30:25.210276Z"
    }
   },
   "outputs": [],
   "source": [
    "original_features = list(test_features_lookup_table['sample_label'])"
   ]
  },
  {
   "cell_type": "code",
   "execution_count": null,
   "id": "b3097248",
   "metadata": {
    "ExecuteTime": {
     "end_time": "2023-04-11T20:30:25.224275Z",
     "start_time": "2023-04-11T20:30:25.221043Z"
    }
   },
   "outputs": [],
   "source": [
    "avg_feature_names = [f'avg_{item}' for item in list(test_features_lookup_table['sample_label'])]\n",
    "min_feature_names = [f'min_{item}' for item in list(test_features_lookup_table['sample_label'])]\n",
    "max_feature_names = [f'max_{item}' for item in list(test_features_lookup_table['sample_label'])]\n",
    "\n",
    "feature_names = flatten([original_features, avg_feature_names, min_feature_names, max_feature_names])"
   ]
  },
  {
   "cell_type": "code",
   "execution_count": null,
   "id": "3222dc10",
   "metadata": {
    "ExecuteTime": {
     "end_time": "2023-04-11T20:31:42.434421Z",
     "start_time": "2023-04-11T20:30:25.223367Z"
    }
   },
   "outputs": [],
   "source": [
    "non_normalised_train_X_df = reverse_normalisation(train_X_df, normalisation_parameters_df)"
   ]
  },
  {
   "cell_type": "markdown",
   "id": "9746274f",
   "metadata": {
    "collapsed": false
   },
   "source": [
    "## Choose subject and load prediction"
   ]
  },
  {
   "cell_type": "code",
   "execution_count": null,
   "id": "9b639990",
   "metadata": {
    "ExecuteTime": {
     "end_time": "2023-04-12T20:03:08.664847Z",
     "start_time": "2023-04-12T20:03:08.656490Z"
    }
   },
   "outputs": [],
   "source": [
    "subj = randint(0, len(test_X_np))"
   ]
  },
  {
   "cell_type": "code",
   "execution_count": null,
   "id": "3fb38b9f",
   "metadata": {
    "ExecuteTime": {
     "end_time": "2023-04-12T20:03:08.861693Z",
     "start_time": "2023-04-12T20:03:08.845945Z"
    }
   },
   "outputs": [],
   "source": [
    "print(subj, predictions_over_time[-1,subj], y_test[subj])"
   ]
  },
  {
   "cell_type": "code",
   "execution_count": null,
   "id": "1a54ff8f",
   "metadata": {
    "ExecuteTime": {
     "end_time": "2023-04-12T20:03:09.068535Z",
     "start_time": "2023-04-12T20:03:09.055976Z"
    }
   },
   "outputs": [],
   "source": [
    "subj_pred_over_ts = predictions_over_time[:,subj]"
   ]
  },
  {
   "cell_type": "markdown",
   "execution_count": 25,
   "id": "b0e226f7",
   "metadata": {
    "ExecuteTime": {
     "end_time": "2023-04-10T21:40:20.993489Z",
     "start_time": "2023-04-10T21:40:20.990480Z"
    },
    "collapsed": false
   },
   "outputs": [
    {
     "data": {
      "text/plain": "(72, 451, 336)"
     },
     "execution_count": 25,
     "metadata": {},
     "output_type": "execute_result"
    }
   ],
   "source": [
    "## Plot overall subject prediction & explanation"
   ]
  },
  {
   "cell_type": "code",
   "execution_count": null,
   "id": "055749e2",
   "metadata": {
    "ExecuteTime": {
     "end_time": "2023-04-12T20:20:39.510031Z",
     "start_time": "2023-04-12T20:20:39.499465Z"
    }
   },
   "outputs": [],
   "source": [
    "n_features = 3"
   ]
  },
  {
   "cell_type": "code",
   "execution_count": null,
   "id": "addd03b1",
   "metadata": {
    "ExecuteTime": {
     "end_time": "2023-04-12T20:20:40.247537Z",
     "start_time": "2023-04-12T20:20:39.894121Z"
    }
   },
   "outputs": [],
   "source": [
    "from prediction.utils.visualisation_helper_functions import reverse_normalisation_for_subj\n",
    "\n",
    "# plot a bar plot showing impact of most important features on the prediction across all n_time_steps\n",
    "# find index of 3 features with biggest positive shap impart\n",
    "selected_positive_features = np.squeeze(shap_values_over_time[-1])[subj].argsort()[-n_features:][::-1]\n",
    "\n",
    "# find index of 3 features with biggest negative shap impart\n",
    "selected_negative_features = np.squeeze(shap_values_over_time[-1])[subj].argsort()[:n_features][::-1]\n",
    "\n",
    "selected_features = np.concatenate((selected_positive_features, selected_negative_features))\n",
    "\n",
    "fig1 = plt.figure(figsize=(15,5))\n",
    "ax1 = fig1.add_subplot(121)\n",
    "ax = sns.barplot(y=np.array(feature_names)[selected_features], x=np.squeeze(shap_values_over_time[-1])[subj][selected_features], palette=\"RdBu_r\")\n",
    "ax.title.set_text(f'SHAP values for subj {subj} ')\n",
    "\n",
    "non_norm_subj_df = reverse_normalisation_for_subj(pd.DataFrame(data=test_X_np[subj], columns = original_features), normalisation_parameters_df)\n",
    "# display median of original feature value (and not aggregation) - therefore modulo is taken\n",
    "median_norm_feature_df = non_norm_subj_df.median(axis=0)[selected_features % total_n_features]\n",
    "\n",
    "ax2 = fig1.add_subplot(122)\n",
    "font_size=12\n",
    "bbox=[0, 0, 1, 1]\n",
    "ax2.axis('off')\n",
    "cell_text = []\n",
    "for row in range(len(median_norm_feature_df)):\n",
    "    cell_text.append([median_norm_feature_df.iloc[row].astype(str)])\n",
    "mpl_table = ax2.table(cellText = cell_text, rowLabels = median_norm_feature_df.index, bbox=bbox, colLabels=['Normalised value'], cellLoc='center', colLoc='center', loc='center')\n",
    "mpl_table.auto_set_font_size(False)\n",
    "mpl_table.set_fontsize(font_size)\n",
    "\n",
    "fig1.set_tight_layout(True)\n",
    "# set figure title\n",
    "fig1.suptitle(f'Explanation of prediction for subj {subj} with a probability of good outcome of {subj_pred_over_ts[-1]:.2f}', fontsize=20)\n",
    "\n",
    "plt.show()"
   ]
  },
  {
   "cell_type": "code",
   "execution_count": null,
   "id": "918abb9c",
   "metadata": {
    "ExecuteTime": {
     "end_time": "2023-04-12T20:03:11.614517Z",
     "start_time": "2023-04-12T20:03:11.601938Z"
    }
   },
   "outputs": [],
   "source": [
    "# fig1.savefig(os.path.join(out_dir, 'final_prediction.png'), dpi=600)"
   ]
  },
  {
   "cell_type": "markdown",
   "id": "836c499e",
   "metadata": {
    "collapsed": false
   },
   "source": [
    "## Plot relevant features in relation to training population"
   ]
  },
  {
   "cell_type": "code",
   "execution_count": null,
   "id": "f7b301ba",
   "metadata": {
    "ExecuteTime": {
     "end_time": "2023-04-12T20:03:19.171366Z",
     "start_time": "2023-04-12T20:03:13.246314Z"
    }
   },
   "outputs": [],
   "source": [
    "fig2 = plt.figure(figsize=(15, 12))\n",
    "plt.subplots_adjust(hspace=0.2)\n",
    "plt.suptitle(\"Selected features\", fontsize=18, y=0.99, x=0.52, horizontalalignment='center')\n",
    "\n",
    "# set number of columns (use 3 to demonstrate the change)\n",
    "ncols = 3\n",
    "# calculate number of rows\n",
    "nrows = len(selected_features) // ncols + (len(selected_features) % ncols > 0)\n",
    "\n",
    "# loop through the length of features and keep track of index\n",
    "for n, feature in enumerate(selected_features):\n",
    "    # add a new subplot iteratively using nrows and cols\n",
    "    ax = plt.subplot(nrows, ncols, n + 1)\n",
    "\n",
    "    temp_pop_df = non_normalised_train_X_df[non_normalised_train_X_df.sample_label == original_features[feature % total_n_features]]\n",
    "    sns.histplot(temp_pop_df.value, ax=ax)\n",
    "    plt.scatter(median_norm_feature_df[original_features[feature % total_n_features]], 0, marker='o', s=500)\n",
    "    if (n % ncols) == 1:\n",
    "        if n <= len(selected_features) / 2:\n",
    "            ax.set_title(r\"$\\bf{Positive\\ features}$\" +f'\\n\\n{original_features[feature % total_n_features]}')\n",
    "        else:\n",
    "            ax.set_title(r\"$\\bf{Negative\\ features}$\" + f'\\n\\n{original_features[feature % total_n_features]}')\n",
    "\n",
    "    else:\n",
    "        ax.set_title(original_features[feature % total_n_features])\n",
    "\n",
    "plt.tight_layout()"
   ]
  },
  {
   "cell_type": "code",
   "execution_count": null,
   "id": "d7a85968",
   "metadata": {
    "ExecuteTime": {
     "end_time": "2023-04-12T20:03:19.175841Z",
     "start_time": "2023-04-12T20:03:19.173134Z"
    }
   },
   "outputs": [],
   "source": [
    "# fig2.savefig(os.path.join(out_dir, 'features_histogram_comparison.png'), dpi=600)"
   ]
  },
  {
   "cell_type": "code",
   "execution_count": null,
   "id": "1c96f7f5",
   "metadata": {
    "ExecuteTime": {
     "end_time": "2023-04-13T18:43:26.483406Z",
     "start_time": "2023-04-13T18:43:26.479227Z"
    }
   },
   "outputs": [],
   "source": [
    "def density_jitter(values, width=1.0, cluster_factor=1.0):\n",
    "    \"\"\"\n",
    "    Add jitter to a 1D array of values, using a kernel density estimate\n",
    "    \"\"\"\n",
    "    inds = np.arange(len(values))\n",
    "    np.random.shuffle(inds)\n",
    "    values = values[inds]\n",
    "    N = len(values)\n",
    "    nbins = 100\n",
    "    quant = np.round(nbins * (values - np.min(values)) / (np.max(values) - np.min(values) + 1e-8))\n",
    "    inds = np.argsort(quant + np.random.randn(N) * 1e-6)\n",
    "    layer = 0\n",
    "    last_bin = -1\n",
    "    ys = np.zeros(N)\n",
    "    for ind in inds:\n",
    "        if quant[ind] != last_bin:\n",
    "            layer = 0\n",
    "        ys[ind] = cluster_factor * (np.ceil(layer / 2) * ((layer % 2) * 2 - 1))\n",
    "        layer += 1\n",
    "        last_bin = quant[ind]\n",
    "    ys *= 0.9 * (width / np.max(ys + 1))\n",
    "\n",
    "    return ys"
   ]
  },
  {
   "cell_type": "code",
   "execution_count": null,
   "id": "902a6aef",
   "metadata": {
    "ExecuteTime": {
     "end_time": "2023-04-13T19:48:26.993587Z",
     "start_time": "2023-04-13T19:48:22.854512Z"
    }
   },
   "outputs": [],
   "source": [
    "from matplotlib.legend_handler import HandlerTuple\n",
    "\n",
    "fig2_5 = plt.figure(figsize=(15, 12))\n",
    "plt.subplots_adjust(hspace=0.2)\n",
    "plt.suptitle(\"Selected features\", fontsize=18, y=0.99, x=0.52, horizontalalignment='center')\n",
    "\n",
    "overlay_population_scatter = True\n",
    "overlay_subject_scatter = False\n",
    "plot_legend = True\n",
    "shap_value_base = 1000\n",
    "label_font_size = 12\n",
    "\n",
    "# set number of columns (use 3 to demonstrate the change)\n",
    "ncols = n_features\n",
    "# calculate number of rows\n",
    "nrows = 2\n",
    "\n",
    "# loop through the length of features and keep track of index\n",
    "for n, feature in enumerate(selected_features):\n",
    "    # add a new subplot iteratively using nrows and cols\n",
    "    ax = plt.subplot(nrows, ncols, n + 1)\n",
    "\n",
    "    temp_pop_df = non_normalised_train_X_df[non_normalised_train_X_df.sample_label == original_features[feature % total_n_features]].groupby('case_admission_id').median()\n",
    "    sns.violinplot(temp_pop_df.value, ax=ax, color=feature_color_dict[feature], alpha=0.1, inner=None)\n",
    "    plt.setp(ax.collections, alpha=.1)\n",
    "\n",
    "    if overlay_population_scatter:\n",
    "        ys = density_jitter(temp_pop_df.value.values, width=0.25, cluster_factor=1)\n",
    "        ax.scatter(0 + ys, temp_pop_df.value, alpha=0.005, color='grey')\n",
    "\n",
    "    if overlay_subject_scatter:\n",
    "        ys = density_jitter(non_norm_subj_df[np.array(feature_names)[feature % total_n_features]].values, width=0.5)\n",
    "        plt.scatter(0 + ys, non_norm_subj_df[np.array(feature_names)[feature % total_n_features]].values, marker='o', zorder=10, color='grey', alpha=0.1)\n",
    "\n",
    "    # set weight of marker based on shap value\n",
    "    marker_size = np.abs(shap_values_over_time[-1, subj, feature]) * shap_value_base\n",
    "\n",
    "    # set z-order to make sure the scatter plot is on top\n",
    "    plt.scatter(0, median_norm_feature_df[original_features[feature % total_n_features]], marker='o', s=marker_size, zorder=10, color=feature_color_dict[feature], alpha=0.8)\n",
    "    if (n % ncols) == 1:\n",
    "        if n <= len(selected_features) / 2:\n",
    "            ax.set_title(r\"$\\bf{Positive\\ features}$\" +f'\\n\\n{original_features[feature % total_n_features]}')\n",
    "        else:\n",
    "            ax.set_title(r\"$\\bf{Negative\\ features}$\" + f'\\n\\n{original_features[feature % total_n_features]}')\n",
    "\n",
    "    else:\n",
    "        ax.set_title(original_features[feature % total_n_features])\n",
    "\n",
    "    ax.set_xlim(-1, 1)\n",
    "    ax.set_ylim(0, temp_pop_df.value.max() + temp_pop_df.value.max() / 5)\n",
    "    # turn off x axis\n",
    "    # ax.set_xticks([])\n",
    "\n",
    "    # add a legend for the shap value marker size on the bottom right of the last plot\n",
    "    if (n == len(selected_features) /2 - 1) & plot_legend:\n",
    "        legend_markers, legend_labels = ax.get_legend_handles_labels()\n",
    "        subj_value_1 = plt.scatter([], [], marker='o', s=shap_value_base/4, color=feature_color_dict[selected_features[0]], alpha=0.8)\n",
    "        subj_value_2 = plt.scatter([], [], marker='o', s=shap_value_base/8, color=feature_color_dict[selected_features[1]], alpha=0.8)\n",
    "        subj_value_3 = plt.scatter([], [], marker='o', s=shap_value_base/16, color=feature_color_dict[selected_features[2]], alpha=0.8)\n",
    "        subj_marker = (subj_value_1, subj_value_2, subj_value_3)\n",
    "        subj_labels = 'Subject feature value\\n(Size proportional to\\nweight in model)'\n",
    "        legend_markers.append(subj_marker)\n",
    "        legend_labels.append(subj_labels)\n",
    "\n",
    "        violin_patch1 = mpatches.Patch(color=feature_color_dict[selected_features[0]], alpha=0.1)\n",
    "        violin_patch2 = mpatches.Patch(color=feature_color_dict[selected_features[1]], alpha=0.1)\n",
    "        violin_patch3 = mpatches.Patch(color=feature_color_dict[selected_features[2]], alpha=0.1)\n",
    "        violin_plot_marker = (violin_patch1, violin_patch2, violin_patch3)\n",
    "        violin_plot_label = 'Distribution in\\ntraining population'\n",
    "        legend_markers.append(violin_plot_marker)\n",
    "        legend_labels.append(violin_plot_label)\n",
    "\n",
    "\n",
    "        if overlay_population_scatter:\n",
    "            # add a legend for the violin contour plots (population)\n",
    "            legend_markers.append(plt.scatter([], [], marker='o', s=10, color='grey', alpha=0.3))\n",
    "            legend_labels.append('Individual values in\\ntraining population')\n",
    "\n",
    "        # plot legend outside of right side of plot\n",
    "        # and avoid that markers are on the legend box border\n",
    "        ax.legend(legend_markers, legend_labels, fontsize=label_font_size,\n",
    "                  handler_map={tuple: HandlerTuple(ndivide=None)},\n",
    "                    bbox_to_anchor=(1.05, 1), loc='upper left', borderaxespad=0.,\n",
    "                    handleheight=2, handlelength=4)\n",
    "\n",
    "plt.tight_layout()\n"
   ]
  },
  {
   "cell_type": "markdown",
   "execution_count": 59,
   "id": "c1aa6372",
   "metadata": {
    "ExecuteTime": {
     "end_time": "2023-04-10T22:04:08.005132Z",
     "start_time": "2023-04-10T22:04:08.001597Z"
    },
    "collapsed": false
   },
   "outputs": [
    {
     "data": {
      "text/html": "<svg  width=\"165\" height=\"55\"><rect x=\"0\" y=\"0\" width=\"55\" height=\"55\" style=\"fill:#873171;stroke-width:2;stroke:rgb(255,255,255)\"/><rect x=\"55\" y=\"0\" width=\"55\" height=\"55\" style=\"fill:#c24167;stroke-width:2;stroke:rgb(255,255,255)\"/><rect x=\"110\" y=\"0\" width=\"55\" height=\"55\" style=\"fill:#e5725f;stroke-width:2;stroke:rgb(255,255,255)\"/></svg>",
      "text/plain": "[(0.52754464, 0.19024042, 0.44199159),\n (0.76214598, 0.25492998, 0.40539471),\n (0.8982602, 0.44713126, 0.37163458)]"
     },
     "execution_count": 59,
     "metadata": {},
     "output_type": "execute_result"
    }
   ],
   "source": [
    "## Plot evolution of prediction & explanation over time"
   ]
  },
  {
   "cell_type": "code",
   "execution_count": null,
   "id": "7f37b83e",
   "metadata": {
    "ExecuteTime": {
     "end_time": "2023-04-12T20:03:19.179890Z",
     "start_time": "2023-04-12T20:03:19.177562Z"
    }
   },
   "outputs": [],
   "source": [
    "overall_prevailing_features = False\n",
    "weigh_by_feature_value = False"
   ]
  },
  {
   "cell_type": "code",
   "execution_count": null,
   "id": "e2aeb505",
   "metadata": {
    "ExecuteTime": {
     "end_time": "2023-04-12T21:47:14.064300Z",
     "start_time": "2023-04-12T21:47:13.615194Z"
    }
   },
   "outputs": [],
   "source": [
    "cumulative_shap_values_over_time = np.array([shap_values_over_time[ts].sum(axis=1) for ts in range(n_time_steps)])\n",
    "\n",
    "# find index of 3 features with biggest positive shap impart & index of 3 features with biggest negative shap impart\n",
    "if overall_prevailing_features:\n",
    "    # prevailing features over cumulative time\n",
    "    selected_negative_features = cumulative_shap_values_over_time[:, subj].argsort()[:n_features][::-1]\n",
    "    selected_positive_features = cumulative_shap_values_over_time[:, subj].argsort()[-n_features:][::-1]\n",
    "else:\n",
    "    # prevailing features at last timepoint\n",
    "    selected_positive_features = np.squeeze(shap_values_over_time[-1])[subj].argsort()[-n_features:][::-1]\n",
    "    selected_negative_features = np.squeeze(shap_values_over_time[-1])[subj].argsort()[:n_features][::-1]\n",
    "\n",
    "selected_features = np.concatenate((selected_positive_features, selected_negative_features))\n",
    "\n",
    "fig3 = plt.figure(figsize=(15,10))\n",
    "\n",
    "k=0.05\n",
    "alpha=0.3\n",
    "\n",
    "timestep_axis = np.array(range(n_time_steps))\n",
    "\n",
    "positive_color_palette = sns.color_palette(\"mako\", n_colors=len(selected_positive_features))\n",
    "negative_color_palette = sns.color_palette(\"flare_r\", n_colors=len(selected_negative_features))\n",
    "\n",
    "timestep_axis = np.array(range(n_time_steps))\n",
    "ax = sns.lineplot(x=timestep_axis, y=subj_pred_over_ts, label='probability', linewidth = 2)\n",
    "\n",
    "\n",
    "pos_baseline = subj_pred_over_ts\n",
    "neg_baseline = subj_pred_over_ts\n",
    "pos_count = 0\n",
    "neg_count = 0\n",
    "feature_color_dict = {}\n",
    "\n",
    "for i, feature in enumerate(selected_features):\n",
    "    subj_feature_shap_value_over_time = shap_values_over_time[:, subj, feature]\n",
    "    positive_portion = (subj_feature_shap_value_over_time > 0)\n",
    "    negative_portion = (subj_feature_shap_value_over_time < 0)\n",
    "\n",
    "    pos_function = subj_feature_shap_value_over_time.copy()\n",
    "    pos_function[negative_portion] = 0\n",
    "\n",
    "    neg_function = subj_feature_shap_value_over_time.copy()\n",
    "    neg_function[positive_portion] = 0\n",
    "\n",
    "    if feature in selected_positive_features:\n",
    "        feature_color = positive_color_palette[pos_count]\n",
    "        pos_count += 1\n",
    "    else:\n",
    "        feature_color = negative_color_palette[neg_count]\n",
    "        neg_count += 1\n",
    "    feature_color_dict[feature] = feature_color\n",
    "\n",
    "    positive_feature = pos_baseline + k * pos_function\n",
    "    if weigh_by_feature_value:\n",
    "        positive_feature *= X_test[subj, :, feature] / X_test[:, :, feature].max()\n",
    "    ax.fill_between(timestep_axis, pos_baseline, positive_feature, color=feature_color, alpha=alpha, label=feature_names[feature])\n",
    "    pos_baseline = positive_feature\n",
    "\n",
    "    negative_feature = neg_baseline + k * neg_function\n",
    "    if weigh_by_feature_value:\n",
    "        negative_feature *= X_test[subj, :, feature] / X_test[:, :, feature].max()\n",
    "    ax.fill_between(timestep_axis, negative_feature, neg_baseline, color=feature_color, alpha=alpha)\n",
    "    neg_baseline = negative_feature\n",
    "\n",
    "ax.legend(fontsize='x-large')\n",
    "\n",
    "ax.set_title(f'Predictions for subject {subj} of test set along time', fontsize=20)\n",
    "ax.set_xlabel('Time from admission (hours)', fontsize=15)\n",
    "ax.set_ylabel('Probability of favorable outcome', fontsize=15)\n",
    "\n",
    "# ax.set_ylim(0,1)\n",
    "\n",
    "plt.plot()\n",
    "\n"
   ]
  },
  {
   "cell_type": "code",
   "execution_count": null,
   "id": "4a728eb8",
   "metadata": {
    "ExecuteTime": {
     "end_time": "2023-04-12T20:03:19.523203Z",
     "start_time": "2023-04-12T20:03:19.519995Z"
    }
   },
   "outputs": [],
   "source": [
    "# fig3.savefig(os.path.join(out_dir, 'prediction_over_time.png'), dpi=600)"
   ]
  },
  {
   "cell_type": "markdown",
   "execution_count": 95,
   "id": "95fcd29e",
   "metadata": {
    "ExecuteTime": {
     "end_time": "2023-04-10T22:22:27.860244Z",
     "start_time": "2023-04-10T22:22:27.837669Z"
    },
    "collapsed": false
   },
   "outputs": [
    {
     "data": {
      "text/plain": "array([-1.36266315, -1.46299159, -1.46299159, -1.46299159,  0.09214502,\n        0.09214502,  0.09214502,  0.15768713,  0.15768713,  0.15768713,\n        0.15768713, -1.39744948, -1.39744948, -1.39744948,  0.40769495,\n        0.3213818 ,  0.3213818 ,  0.45657155,  0.45657155,  0.45657155,\n        0.45657155,  0.45657155,  0.45657155,  0.45657155,  0.48376107,\n        0.48376107,  0.48376107,  0.48376107,  0.48376107,  0.48376107,\n        0.48376107,  0.48376107,  0.48376107,  0.48376107,  0.48376107,\n        0.54554504,  0.54554504,  0.54554504,  0.54554504,  0.52677056,\n        0.52677056,  0.52677056,  0.52677056,  0.52677056,  0.52677056,\n        0.52677056,  0.52677056,  0.52677056,  0.52677056,  0.52677056,\n        0.52677056,  0.52677056,  0.52677056,  0.52677056,  0.52677056,\n        0.52677056,  0.52677056,  0.52677056,  0.52677056,  0.52677056,\n        0.52677056,  0.52677056,  0.52677056,  0.52677056,  0.52677056,\n        0.52677056,  0.52677056,  0.52677056,  0.52677056,  0.52677056,\n        0.52677056,  0.52677056])"
     },
     "execution_count": 95,
     "metadata": {},
     "output_type": "execute_result"
    }
   ],
   "source": [
    "## Plot selected features over time"
   ]
  },
  {
   "cell_type": "code",
   "execution_count": null,
   "id": "a653b178",
   "metadata": {
    "ExecuteTime": {
     "end_time": "2023-04-12T20:03:21.052724Z",
     "start_time": "2023-04-12T20:03:19.532811Z"
    }
   },
   "outputs": [],
   "source": [
    "fig4 = plt.figure(figsize=(15, 12))\n",
    "plt.subplots_adjust(hspace=0.2)\n",
    "plt.suptitle(\"Selected features\", fontsize=18, y=0.99, x=0.52, horizontalalignment='center')\n",
    "\n",
    "# set number of columns (use 3 to demonstrate the change)\n",
    "ncols = 3\n",
    "# calculate number of rows\n",
    "nrows = len(selected_features) // ncols + (len(selected_features) % ncols > 0)\n",
    "\n",
    "pos_count = 0\n",
    "neg_count = 0\n",
    "# loop through the length of features and keep track of index\n",
    "for n, feature in enumerate(selected_features):\n",
    "    # add a new subplot iteratively using nrows and cols\n",
    "    ax = plt.subplot(nrows, ncols, n + 1)\n",
    "\n",
    "    if feature in selected_positive_features:\n",
    "        feature_color = positive_color_palette[pos_count]\n",
    "        pos_count += 1\n",
    "    else:\n",
    "        feature_color = negative_color_palette[neg_count]\n",
    "        neg_count += 1\n",
    "\n",
    "    sns.lineplot(y=original_features[feature % total_n_features], x='index', data=non_norm_subj_df.reset_index(), color=feature_color, ax=ax)\n",
    "\n",
    "    if (n % ncols) == 1:\n",
    "        if n <= len(selected_features) / 2:\n",
    "            ax.set_title(r\"$\\bf{Positive\\ features}$\" +f'\\n\\n{original_features[feature % total_n_features]}')\n",
    "        else:\n",
    "            ax.set_title(r\"$\\bf{Negative\\ features}$\" + f'\\n\\n{original_features[feature % total_n_features]}')\n",
    "    else:\n",
    "        ax.set_title(feature_names[feature])\n",
    "plt.tight_layout()\n"
   ]
  },
  {
   "cell_type": "code",
   "execution_count": null,
   "id": "e9b6b818",
   "metadata": {
    "ExecuteTime": {
     "end_time": "2023-04-12T20:03:21.057086Z",
     "start_time": "2023-04-12T20:03:21.053897Z"
    }
   },
   "outputs": [],
   "source": [
    "# fig4.savefig(os.path.join(out_dir, 'features_over_time.png'), dpi=600)"
   ]
  },
  {
   "cell_type": "markdown",
   "id": "55ab6dfd",
   "metadata": {
    "collapsed": false
   },
   "source": [
    "## Identify features driving changes in prediction over time"
   ]
  },
  {
   "cell_type": "code",
   "execution_count": null,
   "id": "f36889b8",
   "metadata": {
    "ExecuteTime": {
     "end_time": "2023-04-12T20:03:21.430707Z",
     "start_time": "2023-04-12T20:03:21.057796Z"
    }
   },
   "outputs": [],
   "source": [
    "threshold = 0.02\n",
    "n_features = 0\n",
    "k=0.05\n",
    "alpha=0.3\n",
    "\n",
    "# identify significant changes in prediction over time by a change in threshold X% in prediction\n",
    "significant_timesteps = np.where(np.abs(np.diff(subj_pred_over_ts)) > threshold)[0]\n",
    "# for each timestep, identify the feature that has the largest impact on the prediction\n",
    "selected_features_by_impact = np.abs(np.diff(shap_values_over_time[:, subj], axis=0))[significant_timesteps].argmax(axis=1)\n",
    "selected_positive_features_by_impact = [selected_features_by_impact[ftx] for ftx in range(len(significant_timesteps))\n",
    "  if shap_values_over_time[significant_timesteps[ftx] + 1, subj, selected_features_by_impact[ftx]] > 0]\n",
    "selected_negative_features_by_impact = [selected_features_by_impact[ftx] for ftx in range(len(significant_timesteps))\n",
    "  if shap_values_over_time[significant_timesteps[ftx] + 1, subj, selected_features_by_impact[ftx]] < 0]\n",
    "\n",
    "if n_features == 0:\n",
    "    selected_positive_features = np.array([])\n",
    "    selected_negative_features = np.array([])\n",
    "else:\n",
    "    selected_positive_features = shap_values_over_time[-1,subj].argsort()[-n_features:][::-1]\n",
    "    selected_negative_features = shap_values_over_time[-1,subj].argsort()[:n_features][::-1]\n",
    "\n",
    "selected_features = np.concatenate((selected_positive_features, selected_positive_features_by_impact, selected_negative_features, selected_negative_features_by_impact)).astype(int)\n",
    "\n",
    "fig3 = plt.figure(figsize=(15,10))\n",
    "\n",
    "\n",
    "positive_color_palette = sns.color_palette(\"mako\", n_colors=len(set(np.concatenate((selected_positive_features, selected_positive_features_by_impact)))))\n",
    "negative_color_palette = sns.color_palette(\"flare_r\", n_colors=len(set(np.concatenate((selected_negative_features, selected_negative_features_by_impact)))))\n",
    "\n",
    "# plot prediction over time\n",
    "timestep_axis = np.array(range(n_time_steps))\n",
    "ax = sns.lineplot(x=timestep_axis, y=subj_pred_over_ts, label='probability', linewidth = 2)\n",
    "\n",
    "pos_baseline = subj_pred_over_ts\n",
    "neg_baseline = subj_pred_over_ts\n",
    "pos_count = 0\n",
    "neg_count = 0\n",
    "feature_color_dict = {}\n",
    "for i, feature in enumerate(set(selected_features)):\n",
    "    subj_feature_shap_value_over_time = shap_values_over_time[:, subj, feature]\n",
    "    positive_portion = (subj_feature_shap_value_over_time > 0)\n",
    "    negative_portion = (subj_feature_shap_value_over_time < 0)\n",
    "\n",
    "    pos_function = subj_feature_shap_value_over_time.copy()\n",
    "    pos_function[negative_portion] = 0\n",
    "\n",
    "    neg_function = subj_feature_shap_value_over_time.copy()\n",
    "    neg_function[positive_portion] = 0\n",
    "\n",
    "    if feature in selected_features_by_impact:\n",
    "        # set value to zero before the significant timestep\n",
    "        important_ts_idx = np.where(selected_features_by_impact == feature)[0]\n",
    "        pos_function[:significant_timesteps[important_ts_idx][0] + 1] = 0\n",
    "        neg_function[:significant_timesteps[important_ts_idx][0] + 1] = 0\n",
    "\n",
    "    if feature in selected_positive_features:\n",
    "        feature_color = positive_color_palette[pos_count]\n",
    "        pos_count += 1\n",
    "    elif feature in selected_negative_features:\n",
    "        feature_color = negative_color_palette[neg_count]\n",
    "        neg_count += 1\n",
    "    elif feature in selected_negative_features_by_impact:\n",
    "        feature_color = negative_color_palette[neg_count]\n",
    "        neg_count += 1\n",
    "    elif feature in selected_positive_features_by_impact:\n",
    "        feature_color = positive_color_palette[pos_count]\n",
    "        pos_count += 1\n",
    "    feature_color_dict[feature] = feature_color\n",
    "\n",
    "    if np.any(pos_function):\n",
    "        positive_feature = pos_baseline + k * pos_function\n",
    "        ax.fill_between(timestep_axis , pos_baseline, positive_feature, color=feature_color, alpha=alpha)\n",
    "        pos_baseline = positive_feature\n",
    "\n",
    "    if np.any(neg_function):\n",
    "        negative_feature = neg_baseline + k * neg_function\n",
    "        ax.fill_between(timestep_axis, negative_feature, neg_baseline, color=feature_color, alpha=alpha)\n",
    "        neg_baseline = negative_feature\n",
    "\n",
    "    # add a legend entry for the feature fill\n",
    "    ax.scatter([], [], color=feature_color, alpha=alpha, label=feature_names[feature],marker=\"s\", s=200)\n",
    "\n",
    "\n",
    "# marking inflection points\n",
    "for feature in set(selected_features_by_impact):\n",
    "    important_ts_idx = np.where(selected_features_by_impact == feature)[0]\n",
    "    for ts_idx in important_ts_idx:\n",
    "        # downward inflection point\n",
    "        if subj_pred_over_ts[significant_timesteps[ts_idx]] > subj_pred_over_ts[significant_timesteps[ts_idx] + 1]:\n",
    "            marker = 'v'\n",
    "            marker_y_level = pos_baseline[significant_timesteps[ts_idx]] + 0.005\n",
    "            text_y_level = marker_y_level + 0.01\n",
    "        # upward inflection point\n",
    "        else:\n",
    "            marker = '^'\n",
    "            marker_y_level = neg_baseline[significant_timesteps[ts_idx]] - 0.005\n",
    "            text_y_level = marker_y_level - 0.015\n",
    "\n",
    "        ax.scatter(significant_timesteps[ts_idx], marker_y_level, color=feature_color_dict[feature], s=100, marker=marker, alpha=1, edgecolors='white')\n",
    "        # insert a label on the plot\n",
    "        ax.text(significant_timesteps[ts_idx]+ 0.01, text_y_level, feature_names[feature], fontsize=12, color='black')\n",
    "\n",
    "\n",
    "ax.legend(fontsize='x-large')\n",
    "ax.set_title(f'Predictions for subject {subj} of test set along time', fontsize=20)\n",
    "ax.set_xlabel('Time from admission (hours)', fontsize=15)\n",
    "ax.set_ylabel('Probability of favorable outcome', fontsize=15)\n",
    "\n",
    "plt.plot()"
   ]
  },
  {
   "cell_type": "markdown",
   "execution_count": 78,
   "id": "ad32e6d4",
   "metadata": {
    "ExecuteTime": {
     "end_time": "2023-04-10T22:11:54.550383Z",
     "start_time": "2023-04-10T22:11:53.084591Z"
    },
    "collapsed": false
   },
   "outputs": [
    {
     "data": {
      "image/png": "[encoded data removed]",
      "text/plain": "<Figure size 1080x864 with 6 Axes>"
     },
     "metadata": {
      "needs_background": "light"
     },
     "output_type": "display_data"
    }
   ],
   "source": [
    "## Plot contribution of a specific feature"
   ]
  },
  {
   "cell_type": "code",
   "execution_count": null,
   "id": "c8d62f4c",
   "metadata": {
    "ExecuteTime": {
     "end_time": "2023-04-11T21:10:17.133666Z",
     "start_time": "2023-04-11T21:10:17.123217Z"
    }
   },
   "outputs": [],
   "source": [
    "np.array(original_features)"
   ]
  },
  {
   "cell_type": "code",
   "execution_count": null,
   "id": "ff6f73c7",
   "metadata": {
    "ExecuteTime": {
     "end_time": "2023-04-10T22:48:45.645204Z",
     "start_time": "2023-04-10T22:48:45.304411Z"
    }
   },
   "outputs": [],
   "source": [
    "selected_features = [\"median_mean_blood_pressure\", \"median_diastolic_blood_pressure\", \"median_systolic_blood_pressure\"]\n"
   ]
  },
  {
   "cell_type": "code",
   "execution_count": null,
   "id": "0f0219bb",
   "metadata": {
    "ExecuteTime": {
     "end_time": "2023-04-10T22:55:47.647234Z",
     "start_time": "2023-04-10T22:55:46.203534Z"
    }
   },
   "outputs": [],
   "source": [
    "selected_features_idx = [np.where(np.array(original_features) == selected_feature)[0][0] for selected_feature in selected_features]\n",
    "selected_features_idx"
   ]
  },
  {
   "cell_type": "code",
   "execution_count": null,
   "id": "335cccc9",
   "metadata": {},
   "outputs": [],
   "source": [
    "cumulative_shap_values_over_time = np.array([shap_values_over_time[ts][0].sum(axis=1) for ts in range(n_time_steps)])\n",
    "subj_pred_over_ts = predictions_over_time[:,subj]\n",
    "\n",
    "fig3 = plt.figure(figsize=(15,10))\n",
    "\n",
    "k=1\n",
    "alpha=0.3\n",
    "\n",
    "timestep_axis = np.array(range(n_time_steps))\n",
    "\n",
    "positive_color_palette = sns.color_palette(\"mako\", n_colors=len(selected_positive_features))\n",
    "negative_color_palette = sns.color_palette(\"flare_r\", n_colors=len(selected_negative_features))\n",
    "\n",
    "timestep_axis = np.array(range(n_time_steps))\n",
    "ax = sns.lineplot(x=timestep_axis, y=subj_pred_over_ts, label='probability', linewidth = 2)\n",
    "ax2 = ax.twinx()\n",
    "\n",
    "\n",
    "pos_baseline = subj_pred_over_ts\n",
    "neg_baseline = subj_pred_over_ts\n",
    "pos_count, neg_count = 0, 0\n",
    "for i, feature in enumerate(selected_features_idx):\n",
    "    subj_cumulative_shap_value_over_time = cumulative_shap_values_over_time[:, subj, feature]\n",
    "    positive_portion = (subj_cumulative_shap_value_over_time > 0)\n",
    "    negative_portion = (subj_cumulative_shap_value_over_time < 0)\n",
    "\n",
    "    pos_function = subj_cumulative_shap_value_over_time.copy()\n",
    "    pos_function[negative_portion] = 0\n",
    "\n",
    "    neg_function = subj_cumulative_shap_value_over_time.copy()\n",
    "    neg_function[positive_portion] = 0\n",
    "\n",
    "    if sum(subj_cumulative_shap_value_over_time) > 0:\n",
    "        feature_color = positive_color_palette[pos_count]\n",
    "        pos_count += 1\n",
    "    else:\n",
    "        feature_color = negative_color_palette[neg_count]\n",
    "        neg_count += 1\n",
    "\n",
    "    positive_feature = pos_baseline + k * pos_function\n",
    "    ax.fill_between(timestep_axis, pos_baseline, positive_feature, color=feature_color, alpha=alpha, label=features[feature])\n",
    "    pos_baseline = positive_feature\n",
    "\n",
    "    negative_feature = neg_baseline + k * neg_function\n",
    "    ax.fill_between(timestep_axis, negative_feature, neg_baseline, color=feature_color, alpha=alpha)\n",
    "    neg_baseline = negative_feature\n",
    "\n",
    "    sns.scatterplot(y=features[feature], x='index', data=non_norm_subj_df.reset_index(), ax=ax2, legend=False, color=feature_color)\n",
    "\n",
    "ax.legend(fontsize='x-large')\n",
    "\n",
    "ax.set_title(f'Predictions for subject {subj} of test set along time', fontsize=20)\n",
    "ax.set_xlabel('Time from admission (hours)', fontsize=15)\n",
    "ax.set_ylabel('Probability of favorable outcome', fontsize=15)\n",
    "\n",
    "plt.plot()"
   ]
  },
  {
   "cell_type": "code",
   "execution_count": null,
   "id": "e4ba3204",
   "metadata": {},
   "outputs": [],
   "source": [
    "fig4 = plt.figure(figsize=(15, 12))\n",
    "plt.subplots_adjust(hspace=0.2)\n",
    "plt.suptitle(\"Selected features\", fontsize=18, y=0.99, x=0.52, horizontalalignment='center')\n",
    "\n",
    "# set number of columns (use 3 to demonstrate the change)\n",
    "ncols = 3\n",
    "# calculate number of rows\n",
    "nrows = len(selected_features_idx) // ncols + (len(selected_features_idx) % ncols > 0)\n",
    "\n",
    "pos_count = 0\n",
    "neg_count = 0\n",
    "# loop through the length of features and keep track of index\n",
    "for n, feature in enumerate(selected_features_idx):\n",
    "    # add a new subplot iteratively using nrows and cols\n",
    "    ax = plt.subplot(nrows, ncols, n + 1)\n",
    "\n",
    "    if sum(subj_cumulative_shap_value_over_time) > 0:\n",
    "        feature_color = positive_color_palette[pos_count]\n",
    "        pos_count += 1\n",
    "    else:\n",
    "        feature_color = negative_color_palette[neg_count]\n",
    "        neg_count += 1\n",
    "    sns.lineplot(y=features[feature], x='index', data=non_norm_subj_df.reset_index(), color=feature_color, ax=ax)\n",
    "\n",
    "    ax.set_title(features[feature])\n",
    "plt.tight_layout()"
   ]
  },
  {
   "cell_type": "code",
   "execution_count": null,
   "id": "8323521d",
   "metadata": {},
   "outputs": [],
   "source": [
    "shap_values_over_time[-1][0].shape"
   ]
  },
  {
   "cell_type": "code",
   "execution_count": null,
   "id": "5e5b3423",
   "metadata": {
    "ExecuteTime": {
     "end_time": "2023-04-10T22:41:39.378595Z",
     "start_time": "2023-04-10T22:41:37.959604Z"
    }
   },
   "outputs": [],
   "source": [
    "import shap\n",
    "\n",
    "auto=False\n",
    "\n",
    "X_test_2D = test_X_np.reshape(-1,n_channels)\n",
    "shap_values_2D = shap_values_over_time[-1][0].reshape(-1,n_channels)\n",
    "x_test_2d = pd.DataFrame(data=X_test_2D, columns = features)\n",
    "\n",
    "for n, feature in enumerate(selected_features_idx):\n",
    "    if auto == True:\n",
    "        # automatic choice of interaction\n",
    "        shap.dependence_plot(features[feature], shap_values_2D, x_test_2d)\n",
    "    else:\n",
    "        shap.dependence_plot(features[feature], shap_values_2D, x_test_2d, interaction_index=\"median_NIHSS\")"
   ]
  },
  {
   "cell_type": "code",
   "execution_count": null,
   "id": "55fa8120",
   "metadata": {},
   "outputs": [],
   "source": []
  }
 ],
 "metadata": {
  "kernelspec": {
   "display_name": "Python 3",
   "language": "python",
   "name": "python3"
  },
  "language_info": {
   "codemirror_mode": {
    "name": "ipython",
    "version": 2
   },
   "file_extension": ".py",
   "mimetype": "text/x-python",
   "name": "python",
   "nbconvert_exporter": "python",
   "pygments_lexer": "ipython2",
   "version": "2.7.6"
  }
 },
 "nbformat": 4,
 "nbformat_minor": 5
}
