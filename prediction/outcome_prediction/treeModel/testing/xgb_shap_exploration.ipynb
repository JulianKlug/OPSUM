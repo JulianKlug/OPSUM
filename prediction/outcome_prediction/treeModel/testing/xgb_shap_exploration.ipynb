{
 "cells": [
  {
   "cell_type": "code",
   "execution_count": null,
   "metadata": {
    "ExecuteTime": {
     "end_time": "2023-04-08T21:24:27.952663Z",
     "start_time": "2023-04-08T21:24:17.135975Z"
    }
   },
   "outputs": [],
   "source": [
    "import shap\n",
    "import pandas as pd\n",
    "import xgboost as xgb\n",
    "from prediction.utils.utils import aggregate_features_over_time\n",
    "from prediction.outcome_prediction.data_loading.data_loader import load_data\n",
    "from prediction.utils.shap_helper_functions import check_shap_version_compatibility\n"
   ]
  },
  {
   "cell_type": "code",
   "execution_count": null,
   "metadata": {
    "ExecuteTime": {
     "end_time": "2023-04-08T21:24:27.978268Z",
     "start_time": "2023-04-08T21:24:27.957073Z"
    }
   },
   "outputs": [],
   "source": [
    "# Shap values require very specific versions\n",
    "check_shap_version_compatibility()"
   ]
  },
  {
   "cell_type": "code",
   "execution_count": null,
   "metadata": {
    "ExecuteTime": {
     "end_time": "2023-04-08T21:24:28.030220Z",
     "start_time": "2023-04-08T21:24:27.976011Z"
    }
   },
   "outputs": [],
   "source": [
    "features_path = '/Users/jk1/temp/opsum_prepro_output/gsu_prepro_01012023_233050/preprocessed_features_01012023_233050.csv'\n",
    "labels_path = '/Users/jk1/temp/opsum_prepro_output/gsu_prepro_01012023_233050/preprocessed_outcomes_01012023_233050.csv'\n",
    "normalisation_parameters_path = '/Users/jk1/temp/opsum_prepro_output/gsu_prepro_01012023_233050/logs_01012023_233050/normalisation_parameters.csv'\n",
    "parameters_path = '/Users/jk1/temp/opsum_prediction_output/linear_72h_xgb/with_feature_aggregration/best_overall_parameters.csv'\n",
    "model_path = '/Users/jk1/temp/opsum_prediction_output/linear_72h_xgb/with_feature_aggregration/testing/feature_aggregration_xgb_3M mRS 0-2_2_0.1_200_100.0_1.0_cv3.json'\n",
    "outcome = '3M mRS 0-2'\n",
    "n_splits = 5\n",
    "n_epochs = 5000\n",
    "seed = 42\n",
    "test_size = 0.2"
   ]
  },
  {
   "cell_type": "code",
   "execution_count": null,
   "metadata": {
    "ExecuteTime": {
     "end_time": "2023-04-08T21:24:28.163252Z",
     "start_time": "2023-04-08T21:24:27.989068Z"
    }
   },
   "outputs": [],
   "source": [
    "parameters_df = pd.read_csv(parameters_path)\n",
    "parameters_df"
   ]
  },
  {
   "cell_type": "code",
   "execution_count": null,
   "metadata": {
    "ExecuteTime": {
     "end_time": "2023-04-09T08:43:22.105253Z",
     "start_time": "2023-04-09T08:43:21.986305Z"
    }
   },
   "outputs": [],
   "source": [
    "if 'moving_average' in parameters_df:\n",
    "    moving_average = parameters_df['moving_average'][0]\n",
    "else:\n",
    "    moving_average = False"
   ]
  },
  {
   "cell_type": "markdown",
   "metadata": {
    "collapsed": false
   },
   "source": [
    "Load data"
   ]
  },
  {
   "cell_type": "code",
   "execution_count": null,
   "metadata": {
    "ExecuteTime": {
     "end_time": "2023-04-08T21:27:24.797481Z",
     "start_time": "2023-04-08T21:24:28.096287Z"
    }
   },
   "outputs": [],
   "source": [
    "# (pid_train, pid_test), (train_X_np, train_y_np), (test_X_np, test_y_np), splits, test_features_lookup_table\n",
    "pids, training_data, test_data, splits, test_features_lookup_table = load_data(features_path, labels_path, outcome, test_size, n_splits, seed)"
   ]
  },
  {
   "cell_type": "code",
   "execution_count": null,
   "metadata": {
    "ExecuteTime": {
     "end_time": "2023-04-08T21:27:24.801603Z",
     "start_time": "2023-04-08T21:27:24.795299Z"
    }
   },
   "outputs": [],
   "source": [
    "test_X_np, test_y_np = test_data"
   ]
  },
  {
   "cell_type": "code",
   "execution_count": null,
   "metadata": {
    "ExecuteTime": {
     "end_time": "2023-04-09T08:48:57.217225Z",
     "start_time": "2023-04-09T08:48:57.110198Z"
    }
   },
   "outputs": [],
   "source": [
    "X_test, y_test = aggregate_features_over_time(test_X_np, test_y_np, moving_average=moving_average)\n",
    "# only keep prediction at last timepoint\n",
    "X_test = X_test.reshape(-1, 72, X_test.shape[-1])[:, -1, :].astype('float32')\n",
    "y_test = y_test.reshape(-1, 72)[:, -1].astype('float32')"
   ]
  },
  {
   "cell_type": "code",
   "execution_count": null,
   "metadata": {
    "ExecuteTime": {
     "end_time": "2023-04-08T21:27:25.292686Z",
     "start_time": "2023-04-08T21:27:24.945805Z"
    }
   },
   "outputs": [],
   "source": [
    "fold_X_train, fold_X_val, fold_y_train, fold_y_val = splits[int(parameters_df['CV'][0])]\n",
    "X_train, y_train = aggregate_features_over_time(fold_X_train, fold_y_train, moving_average=moving_average)"
   ]
  },
  {
   "cell_type": "markdown",
   "metadata": {
    "collapsed": false
   },
   "source": [
    "Load model"
   ]
  },
  {
   "cell_type": "code",
   "execution_count": null,
   "metadata": {
    "ExecuteTime": {
     "end_time": "2023-04-08T21:27:25.332509Z",
     "start_time": "2023-04-08T21:27:25.295450Z"
    }
   },
   "outputs": [],
   "source": [
    "xgb_model = xgb.XGBClassifier(learning_rate=parameters_df['learning_rate'][0], max_depth=parameters_df['max_depth'][0], n_estimators=parameters_df['n_estimators'][0], reg_lambda=parameters_df['reg_lambda'][0], alpha=parameters_df['alpha'][0])\n",
    "\n",
    "xgb_model.load_model(model_path)"
   ]
  },
  {
   "cell_type": "code",
   "execution_count": null,
   "metadata": {
    "ExecuteTime": {
     "end_time": "2023-04-08T21:27:25.364905Z",
     "start_time": "2023-04-08T21:27:25.331352Z"
    }
   },
   "outputs": [],
   "source": [
    "xgb_model.predict_proba(X_test)"
   ]
  },
  {
   "cell_type": "markdown",
   "metadata": {
    "collapsed": false
   },
   "source": [
    "Compute SHAP"
   ]
  },
  {
   "cell_type": "code",
   "execution_count": null,
   "metadata": {
    "ExecuteTime": {
     "end_time": "2023-04-08T21:27:25.437026Z",
     "start_time": "2023-04-08T21:27:25.365486Z"
    }
   },
   "outputs": [],
   "source": [
    "explainer = shap.TreeExplainer(xgb_model, X_train)"
   ]
  },
  {
   "cell_type": "code",
   "execution_count": null,
   "metadata": {
    "ExecuteTime": {
     "end_time": "2023-04-09T08:49:06.633979Z",
     "start_time": "2023-04-09T08:49:06.232820Z"
    }
   },
   "outputs": [],
   "source": [
    " # explain the testing instances (can use fewer instances)\n",
    "# explaining each prediction requires 2 * background dataset size runs\n",
    "shap_values = explainer.shap_values(X_test)\n"
   ]
  },
  {
   "cell_type": "code",
   "execution_count": null,
   "metadata": {
    "ExecuteTime": {
     "end_time": "2023-04-08T21:45:42.624646Z",
     "start_time": "2023-04-08T21:45:42.612812Z"
    }
   },
   "outputs": [],
   "source": [
    "def flatten(l):\n",
    "    return [item for sublist in l for item in sublist]"
   ]
  },
  {
   "cell_type": "code",
   "execution_count": null,
   "metadata": {
    "ExecuteTime": {
     "end_time": "2023-04-08T21:45:44.408259Z",
     "start_time": "2023-04-08T21:45:44.399635Z"
    }
   },
   "outputs": [],
   "source": [
    "# all_features = np.concatenate([features, avg_features, min_features, max_features], 2)\n",
    "\n",
    "avg_feature_names = [f'avg_{item}' for item in list(test_features_lookup_table['sample_label'])]\n",
    "min_feature_names = [f'min_{item}' for item in list(test_features_lookup_table['sample_label'])]\n",
    "max_feature_names = [f'max_{item}' for item in list(test_features_lookup_table['sample_label'])]\n",
    "\n",
    "feature_names = flatten([list(test_features_lookup_table['sample_label']), avg_feature_names, min_feature_names, max_feature_names])"
   ]
  },
  {
   "cell_type": "code",
   "execution_count": null,
   "metadata": {
    "ExecuteTime": {
     "end_time": "2023-04-09T08:49:14.389534Z",
     "start_time": "2023-04-09T08:49:13.658581Z"
    }
   },
   "outputs": [],
   "source": [
    "shap.summary_plot(shap_values, pd.DataFrame(X_test, columns=feature_names)\n",
    ")"
   ]
  },
  {
   "cell_type": "code",
   "execution_count": null,
   "metadata": {
    "ExecuteTime": {
     "end_time": "2023-04-08T21:48:32.827402Z",
     "start_time": "2023-04-08T21:48:32.700028Z"
    }
   },
   "outputs": [],
   "source": [
    "shap.initjs()"
   ]
  },
  {
   "cell_type": "code",
   "execution_count": null,
   "metadata": {
    "ExecuteTime": {
     "end_time": "2023-04-08T21:49:15.746642Z",
     "start_time": "2023-04-08T21:49:13.260822Z"
    }
   },
   "outputs": [],
   "source": [
    "shap.force_plot(explainer.expected_value, shap_values, pd.DataFrame(X_test, columns=feature_names))"
   ]
  },
  {
   "cell_type": "code",
   "execution_count": null,
   "metadata": {},
   "outputs": [],
   "source": []
  }
 ],
 "metadata": {
  "kernelspec": {
   "display_name": "Python 3",
   "language": "python",
   "name": "python3"
  },
  "language_info": {
   "codemirror_mode": {
    "name": "ipython",
    "version": 2
   },
   "file_extension": ".py",
   "mimetype": "text/x-python",
   "name": "python",
   "nbconvert_exporter": "python",
   "pygments_lexer": "ipython2",
   "version": "2.7.6"
  }
 },
 "nbformat": 4,
 "nbformat_minor": 0
}
