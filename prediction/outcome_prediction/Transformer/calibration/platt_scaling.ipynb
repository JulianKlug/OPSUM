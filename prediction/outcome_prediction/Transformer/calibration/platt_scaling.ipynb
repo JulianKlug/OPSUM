{
 "cells": [
  {
   "cell_type": "code",
   "execution_count": null,
   "metadata": {},
   "outputs": [],
   "source": [
    "import pickle\n",
    "from scipy.optimize import minimize\n",
    "from scipy.special import logit, expit\n",
    "import numpy as np\n",
    "import pandas as pd\n",
    "import seaborn as sns\n",
    "from sklearn.calibration import calibration_curve\n",
    "import matplotlib.pyplot as plt\n",
    "\n",
    "from prediction.outcome_prediction.Transformer.calibration.calibration_measures import evaluate_calibration"
   ]
  },
  {
   "cell_type": "markdown",
   "metadata": {
    "collapsed": false
   },
   "source": [
    "# Recalibration by Platt scaling\n",
    "\n",
    "Ref for implementation: https://github.com/nplan-io/kdd2020-calibration/blob/master/tutorial/KDD%202020%20-%20nPlan%20calibration%20session%20(completed).ipynb"
   ]
  },
  {
   "cell_type": "code",
   "execution_count": null,
   "metadata": {},
   "outputs": [],
   "source": [
    "output_dir = '/Users/jk1/Downloads'"
   ]
  },
  {
   "cell_type": "markdown",
   "metadata": {
    "collapsed": false
   },
   "source": [
    "## MRS02"
   ]
  },
  {
   "cell_type": "code",
   "execution_count": null,
   "metadata": {},
   "outputs": [],
   "source": [
    "val_predictions_path = '/Users/jk1/temp/opsum_prediction_output/transformer/3M_mrs02/predictions_for_all_sets/val_predictions_and_gt.pkl'\n",
    "test_predictions_path = '/Users/jk1/temp/opsum_prediction_output/transformer/3M_mrs02/predictions_for_all_sets/test_predictions_and_gt.pkl'\n",
    "train_predictions_path = '/Users/jk1/temp/opsum_prediction_output/transformer/3M_mrs02/predictions_for_all_sets/train_predictions_and_gt.pkl'"
   ]
  },
  {
   "cell_type": "code",
   "execution_count": null,
   "metadata": {},
   "outputs": [],
   "source": [
    "with open(val_predictions_path, 'rb') as f:\n",
    "    raw_predictions_validation, sigm_predictions_validation, gt_validation = pickle.load(f)\n",
    "    raw_predictions_validation = np.array(raw_predictions_validation)\n",
    "    sigm_predictions_validation = np.array(sigm_predictions_validation)\n",
    "with open(test_predictions_path, 'rb') as f:\n",
    "    raw_predictions_test, sigm_predictions_test, gt_test = pickle.load(f)\n",
    "    raw_predictions_test = np.array(raw_predictions_test)\n",
    "    sigm_predictions_test = np.array(sigm_predictions_test)\n",
    "with open(train_predictions_path, 'rb') as f:\n",
    "    raw_predictions_train, sigm_predictions_train, gt_train = pickle.load(f)\n",
    "    raw_predictions_train = np.array(raw_predictions_train)\n",
    "    sigm_predictions_train = np.array(sigm_predictions_train)"
   ]
  },
  {
   "cell_type": "code",
   "execution_count": null,
   "metadata": {},
   "outputs": [],
   "source": [
    "all_colors_palette = sns.color_palette(['#f61067', '#049b9a', '#012D98', '#a76dfe'], n_colors=4)\n",
    "all_colors_palette"
   ]
  },
  {
   "cell_type": "code",
   "execution_count": null,
   "metadata": {},
   "outputs": [],
   "source": [
    "base_colors = sns.color_palette(['#012D98', '#049b9a'], n_colors=2)\n",
    "base_colors"
   ]
  },
  {
   "cell_type": "code",
   "execution_count": null,
   "metadata": {},
   "outputs": [],
   "source": [
    "def plot_reliability_diagram(prob_true, prob_pred, model_name, y_prob=None, predefined_ax=None, n_bins=10, hist=False):\n",
    "    # Plot the calibration curve for ResNet in comparison with what a perfectly calibrated model would look like\n",
    "    tick_label_size = 13\n",
    "    label_font_size = 15\n",
    "\n",
    "    if predefined_ax==None:\n",
    "        fig = plt.figure(figsize=(10, 10))\n",
    "        ax = plt.gca()\n",
    "    else:\n",
    "        ax = predefined_ax\n",
    "        plt.sca(ax)\n",
    "        fig = plt.gcf()\n",
    "\n",
    "    if predefined_ax==None:\n",
    "        plt.plot([0, 1], [0, 1], color=\"#FE4A49\", linestyle=\":\", label=\"Perfectly calibrated model\")\n",
    "        if hist and y_prob is not None:\n",
    "            ax.hist(y_prob, weights=np.ones_like(y_prob) / len(y_prob), alpha=.2,\n",
    "                    bins=np.maximum(10, n_bins))\n",
    "        color = base_colors[0]\n",
    "    else:\n",
    "        color = base_colors[1]\n",
    "    plt.plot(prob_pred, prob_true, \"s-\", label=model_name, color=color)\n",
    "\n",
    "    plt.ylabel(\"Fraction of positives\", fontsize=label_font_size)\n",
    "    plt.xlabel(\"Mean predicted value\", fontsize=label_font_size,)\n",
    "\n",
    "    plt.legend(fontsize=label_font_size)\n",
    "    plt.xticks(fontsize=tick_label_size)\n",
    "    plt.yticks(fontsize=tick_label_size)\n",
    "\n",
    "    plt.grid(True, color=\"#B2C7D9\")\n",
    "\n",
    "    return fig, ax\n"
   ]
  },
  {
   "cell_type": "code",
   "execution_count": null,
   "metadata": {},
   "outputs": [],
   "source": [
    "y_logits = logit(sigm_predictions_validation)\n",
    "y_val_binary = np.array(gt_validation)"
   ]
  },
  {
   "cell_type": "code",
   "execution_count": null,
   "metadata": {},
   "outputs": [],
   "source": [
    "def scale_fun_bce(x, *args):\n",
    "    a, b = x\n",
    "    y_logit_scaled = a*y_logits + b\n",
    "    y_pred_inner = expit(y_logit_scaled)\n",
    "    bce = sum([-(y_t * np.log(y_p) + (1 - y_t) * np.log(1 - y_p)) for y_t, y_p in zip(y_val_binary[:1000], y_pred_inner) if not y_p==0])\n",
    "    return bce\n"
   ]
  },
  {
   "cell_type": "code",
   "execution_count": null,
   "metadata": {},
   "outputs": [],
   "source": [
    "min_obj = minimize(scale_fun_bce,[1,0], method='Nelder-Mead',options={'xatol': 1e-8, 'disp': True})\n",
    "min_obj"
   ]
  },
  {
   "cell_type": "code",
   "execution_count": null,
   "metadata": {},
   "outputs": [],
   "source": [
    "y_logits = logit(sigm_predictions_test)\n",
    "y_test_pred_corr = expit(min_obj.x[0]*y_logits+min_obj.x[1])\n",
    "\n",
    "prob_true_binary, prob_pred_binary = calibration_curve(gt_test, sigm_predictions_test, n_bins=10)\n",
    "prob_true_binary_corr, prob_pred_binary_corr = calibration_curve(gt_test, y_test_pred_corr, n_bins=10)\n",
    "fig, ax = plot_reliability_diagram(prob_true_binary, prob_pred_binary, \"Transformer\")\n",
    "# plot_reliability_diagram(prob_true_binary_corr, prob_pred_binary_corr, \"Transformer (calibrated)\")\n",
    "plot_reliability_diagram(prob_true_binary_corr, prob_pred_binary_corr, \"Transformer (calibrated)\", predefined_ax=ax)\n",
    "plt.show()"
   ]
  },
  {
   "cell_type": "code",
   "execution_count": null,
   "metadata": {},
   "outputs": [],
   "source": [
    "# fig.savefig(f'{output_dir}/mrs02_reliability_diagram.svg', bbox_inches=\"tight\", format='svg', dpi=1200)"
   ]
  },
  {
   "cell_type": "code",
   "execution_count": null,
   "metadata": {},
   "outputs": [],
   "source": [
    "initial_cal_df = evaluate_calibration(gt_test, sigm_predictions_test)\n",
    "initial_cal_df['state'] = 'initial'"
   ]
  },
  {
   "cell_type": "code",
   "execution_count": null,
   "metadata": {},
   "outputs": [],
   "source": [
    "recal_df = evaluate_calibration(gt_test, y_test_pred_corr)\n",
    "recal_df['state'] = 'Platt scaled'"
   ]
  },
  {
   "cell_type": "code",
   "execution_count": null,
   "metadata": {},
   "outputs": [],
   "source": [
    "mrs02_cal_df = pd.concat([initial_cal_df, recal_df])\n",
    "mrs02_cal_df.to_csv(f'{output_dir}/mrs02_calibration.csv')"
   ]
  },
  {
   "cell_type": "markdown",
   "metadata": {
    "collapsed": false
   },
   "source": [
    "## Death"
   ]
  },
  {
   "cell_type": "code",
   "execution_count": null,
   "metadata": {},
   "outputs": [],
   "source": [
    "val_predictions_path = '/Users/jk1/temp/opsum_prediction_output/transformer/3M_Death/testing/all_sets_predictions/val_predictions_and_gt.pkl'\n",
    "test_predictions_path = '/Users/jk1/temp/opsum_prediction_output/transformer/3M_Death/testing/all_sets_predictions/test_predictions_and_gt.pkl'\n",
    "train_predictions_path = '/Users/jk1/temp/opsum_prediction_output/transformer/3M_Death/testing/all_sets_predictions/train_predictions_and_gt.pkl'"
   ]
  },
  {
   "cell_type": "code",
   "execution_count": null,
   "metadata": {},
   "outputs": [],
   "source": [
    "with open(val_predictions_path, 'rb') as f:\n",
    "    raw_predictions_validation, sigm_predictions_validation, gt_validation = pickle.load(f)\n",
    "    raw_predictions_validation = np.array(raw_predictions_validation)\n",
    "    sigm_predictions_validation = np.array(sigm_predictions_validation)\n",
    "\n",
    "with open(test_predictions_path, 'rb') as f:\n",
    "    raw_predictions_test, sigm_predictions_test, gt_test = pickle.load(f)\n",
    "    raw_predictions_test = np.array(raw_predictions_test)\n",
    "    sigm_predictions_test = np.array(sigm_predictions_test)\n",
    "\n",
    "with open(train_predictions_path, 'rb') as f:\n",
    "    raw_predictions_train, sigm_predictions_train, gt_train = pickle.load(f)\n",
    "    raw_predictions_train = np.array(raw_predictions_train)\n",
    "    sigm_predictions_train = np.array(sigm_predictions_train)"
   ]
  },
  {
   "cell_type": "code",
   "execution_count": null,
   "metadata": {},
   "outputs": [],
   "source": [
    "y_logits = logit(sigm_predictions_validation)\n",
    "y_val_binary = np.array(gt_validation)"
   ]
  },
  {
   "cell_type": "code",
   "execution_count": null,
   "metadata": {},
   "outputs": [],
   "source": [
    "def scale_fun_bce(x, *args):\n",
    "    a, b = x\n",
    "    y_logit_scaled = a*y_logits + b\n",
    "    y_pred_inner = expit(y_logit_scaled)\n",
    "    bce = sum([-(y_t * np.log(y_p) + (1 - y_t) * np.log(1 - y_p)) for y_t, y_p in zip(y_val_binary[:1000], y_pred_inner) if not y_p==0])\n",
    "    return bce"
   ]
  },
  {
   "cell_type": "code",
   "execution_count": null,
   "metadata": {},
   "outputs": [],
   "source": [
    "min_obj = minimize(scale_fun_bce,[1,0], method='Nelder-Mead',options={'xatol': 1e-8, 'disp': True})\n",
    "min_obj"
   ]
  },
  {
   "cell_type": "code",
   "execution_count": null,
   "metadata": {},
   "outputs": [],
   "source": [
    "y_logits = logit(sigm_predictions_test)\n",
    "y_test_pred_corr = expit(min_obj.x[0]*y_logits+min_obj.x[1])\n",
    "\n",
    "prob_true_binary, prob_pred_binary = calibration_curve(gt_test, sigm_predictions_test, n_bins=10)\n",
    "prob_true_binary_corr, prob_pred_binary_corr = calibration_curve(gt_test, y_test_pred_corr, n_bins=10)\n",
    "fig2, ax = plot_reliability_diagram(prob_true_binary, prob_pred_binary, \"Transformer\")\n",
    "# plot_reliability_diagram(prob_true_binary_corr, prob_pred_binary_corr, \"Transformer (calibrated)\")\n",
    "plot_reliability_diagram(prob_true_binary_corr, prob_pred_binary_corr, \"Transformer (calibrated)\", predefined_ax=ax)\n",
    "plt.show()"
   ]
  },
  {
   "cell_type": "code",
   "execution_count": null,
   "metadata": {},
   "outputs": [],
   "source": [
    "# fig2.savefig(f'{output_dir}/death_reliability_diagram.svg', bbox_inches=\"tight\", format='svg', dpi=1200)"
   ]
  },
  {
   "cell_type": "code",
   "execution_count": null,
   "metadata": {},
   "outputs": [],
   "source": [
    "initial_cal_df = evaluate_calibration(gt_test, sigm_predictions_test)\n",
    "initial_cal_df['state'] = 'initial'"
   ]
  },
  {
   "cell_type": "code",
   "execution_count": null,
   "metadata": {},
   "outputs": [],
   "source": [
    "recal_df = evaluate_calibration(gt_test, y_test_pred_corr)\n",
    "recal_df['state'] = 'Platt scaled'"
   ]
  },
  {
   "cell_type": "code",
   "execution_count": null,
   "metadata": {},
   "outputs": [],
   "source": [
    "death_cal_df = pd.concat([initial_cal_df, recal_df])\n",
    "death_cal_df.to_csv(f'{output_dir}/death_calibration.csv')"
   ]
  },
  {
   "cell_type": "markdown",
   "metadata": {
    "collapsed": false
   },
   "source": [
    "## MIMIC"
   ]
  },
  {
   "cell_type": "code",
   "execution_count": null,
   "metadata": {},
   "outputs": [],
   "source": [
    "test_predictions_path = '/Users/jk1/temp/opsum_prediction_output/transformer/3M_Death/external_validation/fold_1_test_gt_and_pred.pkl'"
   ]
  },
  {
   "cell_type": "code",
   "execution_count": null,
   "metadata": {},
   "outputs": [],
   "source": [
    "with open(test_predictions_path, 'rb') as f:\n",
    "    y_test, y_pred_test = pickle.load(f)\n",
    "    sigm_predictions_test = np.array(y_pred_test)"
   ]
  },
  {
   "cell_type": "code",
   "execution_count": null,
   "metadata": {},
   "outputs": [],
   "source": [
    "y_logits = logit(sigm_predictions_test)\n",
    "y_test_pred_corr = expit(min_obj.x[0]*y_logits+min_obj.x[1])"
   ]
  },
  {
   "cell_type": "code",
   "execution_count": null,
   "metadata": {},
   "outputs": [],
   "source": [
    "prob_true_binary, prob_pred_binary = calibration_curve(y_test, sigm_predictions_test, n_bins=10)\n",
    "prob_true_binary_corr, prob_pred_binary_corr = calibration_curve(y_test, y_test_pred_corr, n_bins=10)\n",
    "fig3, ax = plot_reliability_diagram(prob_true_binary, prob_pred_binary, \"Transformer\", y_prob=sigm_predictions_test,  hist=False)\n",
    "# plot_reliability_diagram(prob_true_binary_corr, prob_pred_binary_corr, \"Transformer (calibrated)\")\n",
    "plot_reliability_diagram(prob_true_binary_corr, prob_pred_binary_corr, \"Transformer (calibrated)\", predefined_ax=ax)\n",
    "plt.show()"
   ]
  },
  {
   "cell_type": "code",
   "execution_count": null,
   "metadata": {},
   "outputs": [],
   "source": [
    "# fig3.savefig(f'{output_dir}/mimic_reliability_diagram.svg', bbox_inches=\"tight\", format='svg', dpi=1200)"
   ]
  },
  {
   "cell_type": "code",
   "execution_count": null,
   "metadata": {},
   "outputs": [],
   "source": [
    "initial_cal_df = evaluate_calibration(y_test, sigm_predictions_test)\n",
    "initial_cal_df['state'] = 'initial'"
   ]
  },
  {
   "cell_type": "code",
   "execution_count": null,
   "metadata": {},
   "outputs": [],
   "source": [
    "recal_df = evaluate_calibration(y_test, y_test_pred_corr)\n",
    "recal_df['state'] = 'Platt scaled'"
   ]
  },
  {
   "cell_type": "code",
   "execution_count": null,
   "metadata": {},
   "outputs": [],
   "source": [
    "mimic_cal_df = pd.concat([initial_cal_df, recal_df])\n",
    "mimic_cal_df.to_csv(f'{output_dir}/mimic_calibration.csv')"
   ]
  },
  {
   "cell_type": "markdown",
   "metadata": {
    "collapsed": false
   },
   "source": [
    "## Recalibrate with a fraction of mimic\n",
    "\n",
    "Gist: a small fraction of external validation data is used to recalibrate the model. The recalibrated model is then evaluated on the rest of the external validation data."
   ]
  },
  {
   "cell_type": "code",
   "execution_count": null,
   "metadata": {},
   "outputs": [],
   "source": [
    "from sklearn.model_selection import train_test_split\n",
    "\n",
    "# split mimic into 2 parts\n",
    "y_test_pred, y_recal_pred, y_test_gt, y_recal_gt = train_test_split(y_pred_test, y_test, test_size=0.2, random_state=42)\n",
    "y_test_gt = np.array(y_test_gt)\n",
    "y_test_pred = np.array(y_test_pred)"
   ]
  },
  {
   "cell_type": "code",
   "execution_count": null,
   "metadata": {},
   "outputs": [],
   "source": [
    "y_logits = logit(y_recal_pred)\n",
    "y_val_binary = np.array(y_recal_gt)"
   ]
  },
  {
   "cell_type": "code",
   "execution_count": null,
   "metadata": {},
   "outputs": [],
   "source": [
    "def scale_fun_bce(x, *args):\n",
    "    a, b = x\n",
    "    y_logit_scaled = a*y_logits + b\n",
    "    y_pred_inner = expit(y_logit_scaled)\n",
    "    bce = sum([-(y_t * np.log(y_p) + (1 - y_t) * np.log(1 - y_p)) for y_t, y_p in zip(y_val_binary[:1000], y_pred_inner) if not y_p==0])\n",
    "    return bce"
   ]
  },
  {
   "cell_type": "code",
   "execution_count": null,
   "metadata": {},
   "outputs": [],
   "source": [
    "min_obj = minimize(scale_fun_bce,[1,0], method='Nelder-Mead',options={'xatol': 1e-8, 'disp': True})\n",
    "min_obj"
   ]
  },
  {
   "cell_type": "code",
   "execution_count": null,
   "metadata": {},
   "outputs": [],
   "source": [
    "y_logits = logit(y_test_pred)\n",
    "y_test_pred_corr = expit(min_obj.x[0]*y_logits+min_obj.x[1])\n",
    "\n",
    "prob_true_binary, prob_pred_binary = calibration_curve(y_test_gt, y_test_pred, n_bins=10)\n",
    "prob_true_binary_corr, prob_pred_binary_corr = calibration_curve(y_test_gt, y_test_pred_corr, n_bins=10)\n",
    "fig4, ax = plot_reliability_diagram(prob_true_binary, prob_pred_binary, \"Transformer\")\n",
    "# plot_reliability_diagram(prob_true_binary_corr, prob_pred_binary_corr, \"Transformer (calibrated)\")\n",
    "plot_reliability_diagram(prob_true_binary_corr, prob_pred_binary_corr, \"Transformer (calibrated)\", predefined_ax=ax)\n",
    "plt.show()"
   ]
  },
  {
   "cell_type": "code",
   "execution_count": null,
   "metadata": {},
   "outputs": [],
   "source": [
    "initial_cal_df = evaluate_calibration(y_test_gt, y_test_pred)\n",
    "initial_cal_df['state'] = 'initial'\n",
    "recal_df = evaluate_calibration(y_test_gt, y_test_pred_corr)\n",
    "recal_df['state'] = 'Platt scaled'\n",
    "mimic_cal_df = pd.concat([initial_cal_df, recal_df])\n",
    "mimic_cal_df"
   ]
  },
  {
   "cell_type": "code",
   "execution_count": null,
   "metadata": {},
   "outputs": [],
   "source": []
  }
 ],
 "metadata": {
  "kernelspec": {
   "display_name": "Python 3",
   "language": "python",
   "name": "python3"
  },
  "language_info": {
   "codemirror_mode": {
    "name": "ipython",
    "version": 2
   },
   "file_extension": ".py",
   "mimetype": "text/x-python",
   "name": "python",
   "nbconvert_exporter": "python",
   "pygments_lexer": "ipython2",
   "version": "2.7.6"
  }
 },
 "nbformat": 4,
 "nbformat_minor": 0
}
