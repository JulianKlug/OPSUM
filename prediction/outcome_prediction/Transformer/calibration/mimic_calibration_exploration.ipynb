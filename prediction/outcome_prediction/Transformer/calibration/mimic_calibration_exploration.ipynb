{
 "cells": [
  {
   "cell_type": "code",
   "execution_count": null,
   "metadata": {
    "ExecuteTime": {
     "end_time": "2023-05-05T20:31:19.664656Z",
     "start_time": "2023-05-05T20:31:15.915855Z"
    }
   },
   "outputs": [],
   "source": [
    "import pandas as pd\n",
    "import pickle\n",
    "import numpy as np\n",
    "from sklearn.calibration import calibration_curve\n",
    "import matplotlib.pyplot as plt"
   ]
  },
  {
   "cell_type": "code",
   "execution_count": null,
   "metadata": {
    "ExecuteTime": {
     "end_time": "2023-05-05T20:31:19.665014Z",
     "start_time": "2023-05-05T20:31:19.657593Z"
    }
   },
   "outputs": [],
   "source": [
    "predictions_path = '/Users/jk1/temp/opsum_prediction_output/transformer/3M_Death/external_validation/fold_1_test_gt_and_pred.pkl'"
   ]
  },
  {
   "cell_type": "code",
   "execution_count": null,
   "metadata": {
    "ExecuteTime": {
     "end_time": "2023-05-05T20:31:22.195338Z",
     "start_time": "2023-05-05T20:31:22.185860Z"
    }
   },
   "outputs": [],
   "source": [
    "model_weights_path= '/Users/jk1/temp/opsum_prediction_output/transformer/3M_Death/testing/checkpoints_opsum_transformer_20230409_060354_cv_1/opsum_transformer_epoch=14_val_auroc=0.9105.ckpt'\n",
    "model_config_path = '/Users/jk1/temp/opsum_prediction_output/transformer/3M_Death/hyperopt_selected_transformer_death_20230409_060354.json'\n",
    "\n",
    "features_path = '/Users/jk1/temp/opsum_prepro_output/gsu_prepro_01012023_233050/preprocessed_features_01012023_233050.csv'\n",
    "labels_path = '/Users/jk1/temp/opsum_prepro_output/gsu_prepro_01012023_233050/preprocessed_outcomes_01012023_233050.csv'\n",
    "\n",
    "ext_features_path = '/Users/jk1/temp/opsum_mimic/preprocessing/mimic_prepro_25012023_232713/preprocessed_features_25012023_232713.csv'\n",
    "ext_labels_path = '/Users/jk1/temp/opsum_mimic/preprocessing/mimic_prepro_25012023_232713/preprocessed_outcomes_25012023_232713.csv'"
   ]
  },
  {
   "cell_type": "markdown",
   "metadata": {
    "collapsed": false
   },
   "source": [
    "## Initial calibration curve"
   ]
  },
  {
   "cell_type": "markdown",
   "metadata": {
    "collapsed": false
   },
   "source": [
    "Load predictions"
   ]
  },
  {
   "cell_type": "code",
   "execution_count": null,
   "metadata": {
    "ExecuteTime": {
     "end_time": "2023-05-05T20:31:24.371999Z",
     "start_time": "2023-05-05T20:31:23.028077Z"
    }
   },
   "outputs": [],
   "source": [
    "death_gt, death_predictions = pickle.load(open(predictions_path, 'rb'))"
   ]
  },
  {
   "cell_type": "code",
   "execution_count": null,
   "metadata": {
    "ExecuteTime": {
     "end_time": "2023-05-05T20:31:24.372358Z",
     "start_time": "2023-05-05T20:31:24.368887Z"
    }
   },
   "outputs": [],
   "source": [
    "from sklearn.metrics import brier_score_loss\n",
    "print(f\"Brier score for death at 3 months: {brier_score_loss(death_gt, death_predictions.numpy())}\")"
   ]
  },
  {
   "cell_type": "code",
   "execution_count": null,
   "metadata": {
    "ExecuteTime": {
     "end_time": "2023-05-07T13:25:23.072642Z",
     "start_time": "2023-05-07T13:25:20.833845Z"
    }
   },
   "outputs": [],
   "source": [
    "from prediction.utils.visualisation_helper_functions import plot_calibration_curve\n",
    "\n",
    "plot_calibration_curve(death_gt, death_predictions.numpy(), n_bins=2)\n",
    "plt.title(f\"Calibration curve for prediction of mRS (0-2) at 3 months\")\n",
    "plt.show()"
   ]
  },
  {
   "cell_type": "markdown",
   "metadata": {
    "collapsed": false
   },
   "source": [
    "## Recalibration"
   ]
  },
  {
   "cell_type": "markdown",
   "metadata": {
    "collapsed": false
   },
   "source": [
    "Load data"
   ]
  },
  {
   "cell_type": "code",
   "execution_count": null,
   "metadata": {
    "ExecuteTime": {
     "end_time": "2023-05-05T20:31:25.943773Z",
     "start_time": "2023-05-05T20:31:25.939349Z"
    }
   },
   "outputs": [],
   "source": [
    "outcome = '3M Death'\n",
    "test_size = 0.2\n",
    "n_splits = 5\n",
    "seed = 42\n",
    "use_gpu = False"
   ]
  },
  {
   "cell_type": "code",
   "execution_count": null,
   "metadata": {
    "ExecuteTime": {
     "end_time": "2023-05-05T20:33:54.208238Z",
     "start_time": "2023-05-05T20:31:26.973851Z"
    }
   },
   "outputs": [],
   "source": [
    "from prediction.outcome_prediction.data_loading.data_loader import load_data\n",
    "\n",
    "pids, train_data, test_data, train_splits, test_features_lookup_table = load_data(features_path, labels_path, outcome, test_size, n_splits, seed)\n"
   ]
  },
  {
   "cell_type": "code",
   "execution_count": null,
   "metadata": {
    "ExecuteTime": {
     "end_time": "2023-05-05T20:33:58.960879Z",
     "start_time": "2023-05-05T20:33:54.211323Z"
    }
   },
   "outputs": [],
   "source": [
    "from prediction.outcome_prediction.data_loading.data_loader import load_external_data\n",
    "\n",
    "# load external test data\n",
    "test_X_np, test_y_np, test_features_lookup_table = load_external_data(ext_features_path, ext_labels_path, outcome)\n"
   ]
  },
  {
   "cell_type": "markdown",
   "metadata": {
    "collapsed": false
   },
   "source": [
    "Load model"
   ]
  },
  {
   "cell_type": "code",
   "execution_count": null,
   "metadata": {
    "ExecuteTime": {
     "end_time": "2023-05-05T20:33:58.966396Z",
     "start_time": "2023-05-05T20:33:58.963240Z"
    }
   },
   "outputs": [],
   "source": [
    "import json\n",
    "\n",
    "model_config = json.load(open(model_config_path, 'r'))"
   ]
  },
  {
   "cell_type": "code",
   "execution_count": null,
   "metadata": {
    "ExecuteTime": {
     "end_time": "2023-05-05T20:34:01.589215Z",
     "start_time": "2023-05-05T20:33:58.971318Z"
    }
   },
   "outputs": [],
   "source": [
    "from prediction.outcome_prediction.Transformer.lightning_wrapper import LitModel\n",
    "from prediction.outcome_prediction.Transformer.architecture import OPSUMTransformer\n",
    "from prediction.outcome_prediction.Transformer.utils.utils import DictLogger\n",
    "import pytorch_lightning as pl\n",
    "\n",
    "if use_gpu:\n",
    "    accelerator = 'gpu'\n",
    "else:\n",
    "    accelerator = 'cpu'\n",
    "logger = DictLogger(0)\n",
    "trainer = pl.Trainer(accelerator=accelerator, devices=1, max_epochs=1000,\n",
    "                     gradient_clip_val=model_config['grad_clip_value'], logger=logger)\n",
    "\n",
    "\n",
    "\n",
    "# define model\n",
    "ff_factor = 2\n",
    "ff_dim = ff_factor * model_config['model_dim']\n",
    "pos_encode_factor = 1\n",
    "\n",
    "model_architecture = OPSUMTransformer(\n",
    "    input_dim=84,\n",
    "    num_layers=int(model_config['num_layers']),\n",
    "    model_dim=int(model_config['model_dim']),\n",
    "    dropout=int(model_config['dropout']),\n",
    "    ff_dim=int(ff_dim),\n",
    "    num_heads=int(model_config['num_head']),\n",
    "    num_classes=1,\n",
    "    max_dim=500,\n",
    "    pos_encode_factor=pos_encode_factor\n",
    ")\n",
    "\n",
    "trained_model = LitModel.load_from_checkpoint(checkpoint_path=model_weights_path, model=model_architecture,\n",
    "                                              lr=model_config['lr'],\n",
    "                                              wd=model_config['weight_decay'],\n",
    "                                              train_noise=model_config['train_noise'])"
   ]
  },
  {
   "cell_type": "code",
   "execution_count": null,
   "metadata": {
    "ExecuteTime": {
     "end_time": "2023-05-05T20:34:01.594558Z",
     "start_time": "2023-05-05T20:34:01.588308Z"
    }
   },
   "outputs": [],
   "source": [
    "fold_X_train, fold_X_val, fold_y_train, fold_y_val = train_splits[model_config['best_cv_fold']]"
   ]
  },
  {
   "cell_type": "code",
   "execution_count": null,
   "metadata": {
    "ExecuteTime": {
     "end_time": "2023-05-05T20:34:01.729829Z",
     "start_time": "2023-05-05T20:34:01.595968Z"
    }
   },
   "outputs": [],
   "source": [
    "from prediction.outcome_prediction.Transformer.utils.utils import prepare_dataset\n",
    "\n",
    "_, test_dataset = prepare_dataset((fold_X_train, test_X_np, fold_y_train, test_y_np),\n",
    "                                                  balanced=model_config['balanced'],\n",
    "                                                  rescale=True,\n",
    "                                                  use_gpu=False)"
   ]
  },
  {
   "cell_type": "code",
   "execution_count": null,
   "metadata": {
    "ExecuteTime": {
     "end_time": "2023-05-05T20:34:01.867715Z",
     "start_time": "2023-05-05T20:34:01.732304Z"
    }
   },
   "outputs": [],
   "source": [
    "from torch.utils.data import DataLoader\n",
    "\n",
    "train_dataset, val_dataset = prepare_dataset((fold_X_train, fold_X_val, fold_y_train, fold_y_val),\n",
    "                                                      balanced=model_config['balanced'],\n",
    "                                                      rescale=True,\n",
    "                                                      use_gpu=False)\n",
    "\n",
    "val_loader = DataLoader(val_dataset, batch_size=1024)\n",
    "train_loader = DataLoader(train_dataset, batch_size=fold_X_train.shape[0])"
   ]
  },
  {
   "cell_type": "code",
   "execution_count": null,
   "metadata": {
    "ExecuteTime": {
     "end_time": "2023-05-05T20:34:01.872175Z",
     "start_time": "2023-05-05T20:34:01.868434Z"
    }
   },
   "outputs": [],
   "source": [
    "samples, samples_y = [], []\n",
    "for i in range(len(val_dataset)):\n",
    "    sample, sample_y = val_dataset[i]\n",
    "    samples.append(sample)\n",
    "    samples_y.append(sample_y)"
   ]
  },
  {
   "cell_type": "code",
   "execution_count": null,
   "metadata": {
    "ExecuteTime": {
     "end_time": "2023-05-05T20:34:01.881892Z",
     "start_time": "2023-05-05T20:34:01.873549Z"
    }
   },
   "outputs": [],
   "source": [
    "from torch.utils.data import TensorDataset\n",
    "import torch as ch\n",
    "import numpy as np\n",
    "\n",
    "long_val_dataset = TensorDataset(ch.stack(samples), ch.from_numpy(np.array(samples_y)).long())"
   ]
  },
  {
   "cell_type": "markdown",
   "metadata": {
    "collapsed": false
   },
   "source": [
    "## Re-calibration using GSU dataset\n"
   ]
  },
  {
   "cell_type": "markdown",
   "metadata": {
    "collapsed": false
   },
   "source": [
    "Prepare temperature calibration"
   ]
  },
  {
   "cell_type": "code",
   "execution_count": null,
   "metadata": {
    "ExecuteTime": {
     "end_time": "2023-05-05T20:35:35.964929Z",
     "start_time": "2023-05-05T20:34:01.883384Z"
    }
   },
   "outputs": [],
   "source": [
    "from prediction.utils.calibration_tools import ModelWithTemperature\n",
    "\n",
    "temp_scale_model = ModelWithTemperature(trained_model.model, use_gpu=False)\n",
    "temp_scale_model.set_temperature(valid_loader=DataLoader(long_val_dataset, batch_size=1024))"
   ]
  },
  {
   "cell_type": "markdown",
   "metadata": {
    "collapsed": false
   },
   "source": [
    "Make predictions"
   ]
  },
  {
   "cell_type": "code",
   "execution_count": null,
   "metadata": {
    "ExecuteTime": {
     "end_time": "2023-05-05T20:37:06.815356Z",
     "start_time": "2023-05-05T20:35:35.962024Z"
    }
   },
   "outputs": [],
   "source": [
    "from tqdm import tqdm\n",
    "temp_calibrated_preds = []\n",
    "for i in tqdm(range(len(test_dataset))):\n",
    "    sample, sample_y = test_dataset[i]\n",
    "    temp_calibrated_preds.append(temp_scale_model.forward(sample.unsqueeze(0)))"
   ]
  },
  {
   "cell_type": "code",
   "execution_count": null,
   "metadata": {
    "ExecuteTime": {
     "end_time": "2023-05-05T20:37:06.933212Z",
     "start_time": "2023-05-05T20:37:06.832227Z"
    }
   },
   "outputs": [],
   "source": [
    "temp_calibrated_preds_arr = np.array([ch.sigmoid(temp_calibrated_preds[i][0, -1, -1]).detach().numpy() for i in range(len(test_dataset))])"
   ]
  },
  {
   "cell_type": "code",
   "execution_count": null,
   "metadata": {
    "ExecuteTime": {
     "end_time": "2023-05-05T20:40:02.999722Z",
     "start_time": "2023-05-05T20:40:02.986322Z"
    }
   },
   "outputs": [],
   "source": [
    "plot_calibration_curve(death_gt, temp_calibrated_preds_arr, n_bins=10, title=f\"Calibration curve for calibrated prediction of death at 3 months\")\n",
    "plt.show()"
   ]
  },
  {
   "cell_type": "markdown",
   "metadata": {
    "collapsed": false
   },
   "source": [
    "Using isotonic regression"
   ]
  },
  {
   "cell_type": "code",
   "execution_count": null,
   "metadata": {
    "ExecuteTime": {
     "end_time": "2023-04-16T19:16:27.980749Z",
     "start_time": "2023-04-16T19:16:27.970168Z"
    }
   },
   "outputs": [],
   "source": [
    "from prediction.utils.calibration_tools import CalibratableModelFactory\n",
    "\n",
    "factory = CalibratableModelFactory()\n",
    "\n",
    "wrapped_model = factory.get_model(trained_model, trainer)"
   ]
  },
  {
   "cell_type": "code",
   "execution_count": null,
   "metadata": {
    "ExecuteTime": {
     "end_time": "2023-05-05T20:40:35.645890Z",
     "start_time": "2023-05-05T20:40:35.634996Z"
    }
   },
   "outputs": [],
   "source": [
    "wrapped_model.calibrate(val_loader, fold_y_val)"
   ]
  },
  {
   "cell_type": "code",
   "execution_count": null,
   "metadata": {
    "ExecuteTime": {
     "end_time": "2023-05-05T20:42:40.799474Z",
     "start_time": "2023-05-05T20:40:36.351395Z"
    }
   },
   "outputs": [],
   "source": [
    "iso_cal_pred = wrapped_model.predict_calibrated(DataLoader(test_dataset, batch_size=1024),'isotonic')"
   ]
  },
  {
   "cell_type": "code",
   "execution_count": null,
   "metadata": {
    "ExecuteTime": {
     "end_time": "2023-05-05T20:44:07.039494Z",
     "start_time": "2023-05-05T20:42:40.812875Z"
    }
   },
   "outputs": [],
   "source": [
    "plot_calibration_curve(death_gt, iso_cal_pred, n_bins=10, title=f\"Calibration curve for calibrated prediction of death at 3 months\")\n",
    "plt.show()"
   ]
  },
  {
   "cell_type": "markdown",
   "execution_count": 25,
   "metadata": {
    "ExecuteTime": {
     "end_time": "2023-05-05T20:44:07.054416Z",
     "start_time": "2023-05-05T20:44:07.041806Z"
    },
    "collapsed": false
   },
   "outputs": [
    {
     "name": "stdout",
     "output_type": "stream",
     "text": [
      "Brier score for death at 3 months after isotonic recalibration: 0.1527770084494448\n"
     ]
    }
   ],
   "source": [
    "## Re-calibration using a fraction of MIMIC dataset\n",
    "\n",
    "Gist: use a sub-fraction of MIMIC to calibrate model"
   ]
  },
  {
   "cell_type": "code",
   "execution_count": null,
   "metadata": {
    "ExecuteTime": {
     "end_time": "2023-04-16T18:52:35.777407Z",
     "start_time": "2023-04-16T18:52:35.710554Z"
    }
   },
   "outputs": [],
   "source": [
    "from sklearn.model_selection import train_test_split\n",
    "\n",
    "calib_size = 0.1\n",
    "\n",
    "ext_test_X, ext_calib_X, ext_test_y, ext_calib_y = train_test_split(test_X_np, test_y_np,\n",
    "                                                                    stratify=test_y_np,\n",
    "                                                                test_size=calib_size,\n",
    "                                                                random_state=seed)"
   ]
  },
  {
   "cell_type": "code",
   "execution_count": null,
   "metadata": {
    "ExecuteTime": {
     "end_time": "2023-04-16T18:52:36.038233Z",
     "start_time": "2023-04-16T18:52:35.744769Z"
    }
   },
   "outputs": [],
   "source": [
    "_, ext_calib_dataset = prepare_dataset((fold_X_train, ext_calib_X, fold_y_train, ext_calib_y),\n",
    "                                                  balanced=model_config['balanced'],\n",
    "                                                  rescale=True,\n",
    "                                                  use_gpu=False)\n",
    "\n",
    "_, ext_test_dataset = prepare_dataset((fold_X_train, ext_test_X, fold_y_train, ext_test_y),\n",
    "                                                  balanced=model_config['balanced'],\n",
    "                                                  rescale=True,\n",
    "                                                  use_gpu=False)"
   ]
  },
  {
   "cell_type": "markdown",
   "execution_count": 26,
   "metadata": {
    "ExecuteTime": {
     "end_time": "2023-05-05T20:45:45.171127Z",
     "start_time": "2023-05-05T20:45:45.147374Z"
    },
    "collapsed": false
   },
   "outputs": [],
   "source": [
    "Prepare temperature calibration"
   ]
  },
  {
   "cell_type": "code",
   "execution_count": null,
   "metadata": {
    "ExecuteTime": {
     "end_time": "2023-05-05T20:45:49.602348Z",
     "start_time": "2023-05-05T20:45:49.242712Z"
    }
   },
   "outputs": [],
   "source": [
    "samples, samples_y = [], []\n",
    "for i in range(len(ext_calib_dataset)):\n",
    "    sample, sample_y = ext_calib_dataset[i]\n",
    "    samples.append(sample)\n",
    "    samples_y.append(sample_y)\n",
    "\n",
    "long_ext_calib_dataset = TensorDataset(ch.stack(samples), ch.from_numpy(np.array(samples_y)).long())"
   ]
  },
  {
   "cell_type": "code",
   "execution_count": null,
   "metadata": {
    "ExecuteTime": {
     "end_time": "2023-04-16T18:47:01.398858Z",
     "start_time": "2023-04-16T18:46:48.122142Z"
    }
   },
   "outputs": [],
   "source": [
    "temp_scale_model = ModelWithTemperature(trained_model.model, use_gpu=False)\n",
    "temp_scale_model.set_temperature(valid_loader=DataLoader(long_ext_calib_dataset, batch_size=1024))"
   ]
  },
  {
   "cell_type": "code",
   "execution_count": null,
   "metadata": {
    "ExecuteTime": {
     "end_time": "2023-05-05T20:45:59.649428Z",
     "start_time": "2023-05-05T20:45:59.636084Z"
    }
   },
   "outputs": [],
   "source": [
    "ext_temp_calibrated_preds = []\n",
    "for i in tqdm(range(len(ext_test_dataset))):\n",
    "    sample, sample_y = ext_test_dataset[i]\n",
    "    ext_temp_calibrated_preds.append(temp_scale_model.forward(sample.unsqueeze(0)))"
   ]
  },
  {
   "cell_type": "code",
   "execution_count": null,
   "metadata": {
    "ExecuteTime": {
     "end_time": "2023-05-05T20:47:49.698624Z",
     "start_time": "2023-05-05T20:47:43.452553Z"
    }
   },
   "outputs": [],
   "source": [
    "ext_temp_calibrated_preds_arr = np.array([ch.sigmoid(ext_temp_calibrated_preds[i][0, -1, -1]).detach().numpy() for i in range(len(ext_test_dataset))])"
   ]
  },
  {
   "cell_type": "code",
   "execution_count": null,
   "metadata": {
    "ExecuteTime": {
     "end_time": "2023-05-05T20:49:30.247061Z",
     "start_time": "2023-05-05T20:47:49.675261Z"
    }
   },
   "outputs": [],
   "source": [
    "plot_calibration_curve(ext_test_y, ext_temp_calibrated_preds_arr, n_bins=10, title=f\"Calibration curve for calibrated prediction of death at 3 months\")\n",
    "plt.show()"
   ]
  },
  {
   "cell_type": "markdown",
   "execution_count": 31,
   "metadata": {
    "ExecuteTime": {
     "end_time": "2023-05-05T20:49:30.281599Z",
     "start_time": "2023-05-05T20:49:30.257085Z"
    },
    "collapsed": false
   },
   "outputs": [],
   "source": [
    "Using isotonic regression"
   ]
  },
  {
   "cell_type": "code",
   "execution_count": null,
   "metadata": {
    "ExecuteTime": {
     "end_time": "2023-05-05T20:49:30.334738Z",
     "start_time": "2023-05-05T20:49:30.303137Z"
    }
   },
   "outputs": [],
   "source": [
    "wrapped_model = factory.get_model(trained_model, trainer)"
   ]
  },
  {
   "cell_type": "code",
   "execution_count": null,
   "metadata": {
    "ExecuteTime": {
     "end_time": "2023-04-16T19:21:51.481867Z",
     "start_time": "2023-04-16T19:21:45.921300Z"
    }
   },
   "outputs": [],
   "source": [
    "wrapped_model.calibrate(DataLoader(ext_calib_dataset, batch_size=1024), ext_calib_y)"
   ]
  },
  {
   "cell_type": "code",
   "execution_count": null,
   "metadata": {
    "ExecuteTime": {
     "end_time": "2023-04-16T19:22:54.849479Z",
     "start_time": "2023-04-16T19:22:08.011045Z"
    }
   },
   "outputs": [],
   "source": [
    "ext_iso_cal_pred = wrapped_model.predict_calibrated(DataLoader(ext_test_dataset, batch_size=1024),'isotonic')"
   ]
  },
  {
   "cell_type": "code",
   "execution_count": null,
   "metadata": {
    "ExecuteTime": {
     "end_time": "2023-05-05T20:50:23.430682Z",
     "start_time": "2023-05-05T20:50:23.420400Z"
    }
   },
   "outputs": [],
   "source": [
    "plot_calibration_curve(ext_test_y, ext_iso_cal_pred, n_bins=10, title=f\"Calibration curve for calibrated prediction of death at 3 months\")\n",
    "plt.show()"
   ]
  },
  {
   "cell_type": "code",
   "execution_count": null,
   "metadata": {
    "ExecuteTime": {
     "end_time": "2023-05-05T20:50:41.693756Z",
     "start_time": "2023-05-05T20:50:32.902158Z"
    }
   },
   "outputs": [],
   "source": []
  }
 ],
 "metadata": {
  "kernelspec": {
   "display_name": "Python 3",
   "language": "python",
   "name": "python3"
  },
  "language_info": {
   "codemirror_mode": {
    "name": "ipython",
    "version": 2
   },
   "file_extension": ".py",
   "mimetype": "text/x-python",
   "name": "python",
   "nbconvert_exporter": "python",
   "pygments_lexer": "ipython2",
   "version": "2.7.6"
  }
 },
 "nbformat": 4,
 "nbformat_minor": 0
}
