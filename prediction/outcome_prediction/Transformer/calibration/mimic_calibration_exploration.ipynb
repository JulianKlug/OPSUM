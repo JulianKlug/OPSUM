{
 "cells": [
  {
   "cell_type": "code",
   "execution_count": null,
   "metadata": {
    "ExecuteTime": {
     "end_time": "2023-04-16T18:22:35.069453Z",
     "start_time": "2023-04-16T18:22:32.816506Z"
    }
   },
   "outputs": [],
   "source": [
    "import pandas as pd\n",
    "import pickle\n",
    "import numpy as np\n",
    "from sklearn.calibration import calibration_curve\n",
    "import matplotlib.pyplot as plt"
   ]
  },
  {
   "cell_type": "code",
   "execution_count": null,
   "metadata": {
    "ExecuteTime": {
     "end_time": "2023-04-16T18:25:04.441322Z",
     "start_time": "2023-04-16T18:25:04.431374Z"
    }
   },
   "outputs": [],
   "source": [
    "predictions_path = '/Users/jk1/temp/opsum_prediction_output/transformer/3M_Death/external_validation/fold_1_test_gt_and_pred.pkl'"
   ]
  },
  {
   "cell_type": "code",
   "execution_count": null,
   "metadata": {
    "ExecuteTime": {
     "end_time": "2023-04-16T18:29:33.651910Z",
     "start_time": "2023-04-16T18:29:33.630673Z"
    }
   },
   "outputs": [],
   "source": [
    "model_weights_path= '/Users/jk1/temp/opsum_prediction_output/transformer/3M_Death/testing/checkpoints_opsum_transformer_20230409_060354_cv_1/opsum_transformer_epoch=14_val_auroc=0.9105.ckpt'\n",
    "model_config_path = '/Users/jk1/temp/opsum_prediction_output/transformer/3M_Death/hyperopt_selected_transformer_death_20230409_060354.json'\n",
    "\n",
    "features_path = '/Users/jk1/temp/opsum_prepro_output/gsu_prepro_01012023_233050/preprocessed_features_01012023_233050.csv'\n",
    "labels_path = '/Users/jk1/temp/opsum_prepro_output/gsu_prepro_01012023_233050/preprocessed_outcomes_01012023_233050.csv'\n",
    "\n",
    "ext_features_path = '/Users/jk1/temp/opsum_mimic/preprocessing/mimic_prepro_25012023_232713/preprocessed_features_25012023_232713.csv'\n",
    "ext_labels_path = '/Users/jk1/temp/opsum_mimic/preprocessing/mimic_prepro_25012023_232713/preprocessed_outcomes_25012023_232713.csv'"
   ]
  },
  {
   "cell_type": "markdown",
   "metadata": {
    "collapsed": false
   },
   "source": [
    "## Initial calibration curve"
   ]
  },
  {
   "cell_type": "markdown",
   "metadata": {
    "collapsed": false
   },
   "source": [
    "Load predictions"
   ]
  },
  {
   "cell_type": "code",
   "execution_count": null,
   "metadata": {
    "ExecuteTime": {
     "end_time": "2023-04-16T18:25:05.619479Z",
     "start_time": "2023-04-16T18:25:04.961023Z"
    }
   },
   "outputs": [],
   "source": [
    "death_gt, death_predictions = pickle.load(open(predictions_path, 'rb'))"
   ]
  },
  {
   "cell_type": "code",
   "execution_count": null,
   "metadata": {
    "ExecuteTime": {
     "end_time": "2023-04-16T18:25:05.913974Z",
     "start_time": "2023-04-16T18:25:05.621223Z"
    }
   },
   "outputs": [],
   "source": [
    "from prediction.utils.visualisation_helper_functions import plot_calibration_curve\n",
    "\n",
    "plot_calibration_curve(death_gt, death_predictions.numpy(), n_bins=10)\n",
    "plt.title(f\"Calibration curve for prediction of mRS (0-2) at 3 months\")\n",
    "plt.show()"
   ]
  },
  {
   "cell_type": "markdown",
   "metadata": {
    "collapsed": false
   },
   "source": [
    "## Recalibration"
   ]
  },
  {
   "cell_type": "markdown",
   "metadata": {
    "collapsed": false
   },
   "source": [
    "Load data"
   ]
  },
  {
   "cell_type": "code",
   "execution_count": null,
   "metadata": {
    "ExecuteTime": {
     "end_time": "2023-04-16T18:25:47.209947Z",
     "start_time": "2023-04-16T18:25:47.205604Z"
    }
   },
   "outputs": [],
   "source": [
    "outcome = '3M Death'\n",
    "test_size = 0.2\n",
    "n_splits = 5\n",
    "seed = 42\n",
    "use_gpu = False"
   ]
  },
  {
   "cell_type": "code",
   "execution_count": null,
   "metadata": {
    "ExecuteTime": {
     "end_time": "2023-04-16T18:28:44.553028Z",
     "start_time": "2023-04-16T18:26:22.377858Z"
    }
   },
   "outputs": [],
   "source": [
    "from prediction.outcome_prediction.data_loading.data_loader import load_data\n",
    "\n",
    "pids, train_data, test_data, train_splits, test_features_lookup_table = load_data(features_path, labels_path, outcome, test_size, n_splits, seed)\n"
   ]
  },
  {
   "cell_type": "code",
   "execution_count": null,
   "metadata": {
    "ExecuteTime": {
     "end_time": "2023-04-16T18:29:44.413522Z",
     "start_time": "2023-04-16T18:29:39.519208Z"
    }
   },
   "outputs": [],
   "source": [
    "from prediction.outcome_prediction.data_loading.data_loader import load_external_data\n",
    "\n",
    "# load external test data\n",
    "test_X_np, test_y_np, test_features_lookup_table = load_external_data(ext_features_path, ext_labels_path, outcome)\n"
   ]
  },
  {
   "cell_type": "markdown",
   "metadata": {
    "collapsed": false
   },
   "source": [
    "Load model"
   ]
  },
  {
   "cell_type": "code",
   "execution_count": null,
   "metadata": {
    "ExecuteTime": {
     "end_time": "2023-04-16T18:29:44.420866Z",
     "start_time": "2023-04-16T18:29:44.414605Z"
    }
   },
   "outputs": [],
   "source": [
    "import json\n",
    "\n",
    "model_config = json.load(open(model_config_path, 'r'))"
   ]
  },
  {
   "cell_type": "code",
   "execution_count": null,
   "metadata": {
    "ExecuteTime": {
     "end_time": "2023-04-16T18:29:47.141020Z",
     "start_time": "2023-04-16T18:29:44.422516Z"
    }
   },
   "outputs": [],
   "source": [
    "from prediction.outcome_prediction.Transformer.lightning_wrapper import LitModel\n",
    "from prediction.outcome_prediction.Transformer.architecture import OPSUMTransformer\n",
    "from prediction.outcome_prediction.Transformer.utils.utils import DictLogger\n",
    "import pytorch_lightning as pl\n",
    "\n",
    "if use_gpu:\n",
    "    accelerator = 'gpu'\n",
    "else:\n",
    "    accelerator = 'cpu'\n",
    "logger = DictLogger(0)\n",
    "trainer = pl.Trainer(accelerator=accelerator, devices=1, max_epochs=1000,\n",
    "                     gradient_clip_val=model_config['grad_clip_value'], logger=logger)\n",
    "\n",
    "\n",
    "\n",
    "# define model\n",
    "ff_factor = 2\n",
    "ff_dim = ff_factor * model_config['model_dim']\n",
    "pos_encode_factor = 1\n",
    "\n",
    "model_architecture = OPSUMTransformer(\n",
    "    input_dim=84,\n",
    "    num_layers=int(model_config['num_layers']),\n",
    "    model_dim=int(model_config['model_dim']),\n",
    "    dropout=int(model_config['dropout']),\n",
    "    ff_dim=int(ff_dim),\n",
    "    num_heads=int(model_config['num_head']),\n",
    "    num_classes=1,\n",
    "    max_dim=500,\n",
    "    pos_encode_factor=pos_encode_factor\n",
    ")\n",
    "\n",
    "trained_model = LitModel.load_from_checkpoint(checkpoint_path=model_weights_path, model=model_architecture,\n",
    "                                              lr=model_config['lr'],\n",
    "                                              wd=model_config['weight_decay'],\n",
    "                                              train_noise=model_config['train_noise'])"
   ]
  },
  {
   "cell_type": "code",
   "execution_count": null,
   "metadata": {
    "ExecuteTime": {
     "end_time": "2023-04-16T18:29:47.149319Z",
     "start_time": "2023-04-16T18:29:47.143733Z"
    }
   },
   "outputs": [],
   "source": [
    "fold_X_train, fold_X_val, fold_y_train, fold_y_val = train_splits[model_config['best_cv_fold']]"
   ]
  },
  {
   "cell_type": "code",
   "execution_count": null,
   "metadata": {
    "ExecuteTime": {
     "end_time": "2023-04-16T18:33:14.120643Z",
     "start_time": "2023-04-16T18:33:14.005852Z"
    }
   },
   "outputs": [],
   "source": [
    "from prediction.outcome_prediction.Transformer.utils.utils import prepare_dataset\n",
    "\n",
    "_, test_dataset = prepare_dataset((fold_X_train, test_X_np, fold_y_train, test_y_np),\n",
    "                                                  balanced=model_config['balanced'],\n",
    "                                                  rescale=True,\n",
    "                                                  use_gpu=False)"
   ]
  },
  {
   "cell_type": "code",
   "execution_count": null,
   "metadata": {
    "ExecuteTime": {
     "end_time": "2023-04-16T18:29:47.277912Z",
     "start_time": "2023-04-16T18:29:47.147319Z"
    }
   },
   "outputs": [],
   "source": [
    "from torch.utils.data import DataLoader\n",
    "\n",
    "train_dataset, val_dataset = prepare_dataset((fold_X_train, fold_X_val, fold_y_train, fold_y_val),\n",
    "                                                      balanced=model_config['balanced'],\n",
    "                                                      rescale=True,\n",
    "                                                      use_gpu=False)\n",
    "\n",
    "val_loader = DataLoader(val_dataset, batch_size=1024)\n",
    "train_loader = DataLoader(train_dataset, batch_size=fold_X_train.shape[0])"
   ]
  },
  {
   "cell_type": "code",
   "execution_count": null,
   "metadata": {
    "ExecuteTime": {
     "end_time": "2023-04-16T18:29:47.289699Z",
     "start_time": "2023-04-16T18:29:47.280545Z"
    }
   },
   "outputs": [],
   "source": [
    "samples, samples_y = [], []\n",
    "for i in range(len(val_dataset)):\n",
    "    sample, sample_y = val_dataset[i]\n",
    "    samples.append(sample)\n",
    "    samples_y.append(sample_y)"
   ]
  },
  {
   "cell_type": "code",
   "execution_count": null,
   "metadata": {
    "ExecuteTime": {
     "end_time": "2023-04-16T18:29:47.291509Z",
     "start_time": "2023-04-16T18:29:47.284449Z"
    }
   },
   "outputs": [],
   "source": [
    "from torch.utils.data import TensorDataset\n",
    "import torch as ch\n",
    "import numpy as np\n",
    "\n",
    "long_val_dataset = TensorDataset(ch.stack(samples), ch.from_numpy(np.array(samples_y)).long())"
   ]
  },
  {
   "cell_type": "markdown",
   "metadata": {
    "collapsed": false
   },
   "source": [
    "## Re-calibration using GSU dataset\n"
   ]
  },
  {
   "cell_type": "markdown",
   "metadata": {
    "collapsed": false
   },
   "source": [
    "Prepare temperature calibration"
   ]
  },
  {
   "cell_type": "code",
   "execution_count": null,
   "metadata": {
    "ExecuteTime": {
     "end_time": "2023-04-16T18:51:08.911092Z",
     "start_time": "2023-04-16T18:49:41.775890Z"
    }
   },
   "outputs": [],
   "source": [
    "from prediction.utils.calibration_tools import ModelWithTemperature\n",
    "\n",
    "temp_scale_model = ModelWithTemperature(trained_model.model, use_gpu=False)\n",
    "temp_scale_model.set_temperature(valid_loader=DataLoader(long_val_dataset, batch_size=1024))"
   ]
  },
  {
   "cell_type": "markdown",
   "metadata": {
    "collapsed": false
   },
   "source": [
    "Make predictions"
   ]
  },
  {
   "cell_type": "code",
   "execution_count": null,
   "metadata": {
    "ExecuteTime": {
     "end_time": "2023-04-16T18:52:35.352430Z",
     "start_time": "2023-04-16T18:51:13.495119Z"
    }
   },
   "outputs": [],
   "source": [
    "from tqdm import tqdm\n",
    "temp_calibrated_preds = []\n",
    "for i in tqdm(range(len(test_dataset))):\n",
    "    sample, sample_y = test_dataset[i]\n",
    "    temp_calibrated_preds.append(temp_scale_model.forward(sample.unsqueeze(0)))"
   ]
  },
  {
   "cell_type": "code",
   "execution_count": null,
   "metadata": {
    "ExecuteTime": {
     "end_time": "2023-04-16T18:52:35.382525Z",
     "start_time": "2023-04-16T18:52:35.359306Z"
    }
   },
   "outputs": [],
   "source": [
    "temp_calibrated_preds_arr = np.array([ch.sigmoid(temp_calibrated_preds[i][0, -1, -1]).detach().numpy() for i in range(len(test_dataset))])"
   ]
  },
  {
   "cell_type": "code",
   "execution_count": null,
   "metadata": {
    "ExecuteTime": {
     "end_time": "2023-04-16T18:58:19.235472Z",
     "start_time": "2023-04-16T18:58:17.932360Z"
    }
   },
   "outputs": [],
   "source": [
    "plot_calibration_curve(death_gt, temp_calibrated_preds_arr, n_bins=10, title=f\"Calibration curve for calibrated prediction of death at 3 months\")\n",
    "plt.show()"
   ]
  },
  {
   "cell_type": "markdown",
   "metadata": {
    "collapsed": false
   },
   "source": [
    "Using isotonic regression"
   ]
  },
  {
   "cell_type": "code",
   "execution_count": null,
   "metadata": {
    "ExecuteTime": {
     "end_time": "2023-04-16T19:16:27.980749Z",
     "start_time": "2023-04-16T19:16:27.970168Z"
    }
   },
   "outputs": [],
   "source": [
    "from prediction.utils.calibration_tools import CalibratableModelFactory\n",
    "\n",
    "factory = CalibratableModelFactory()\n",
    "\n",
    "wrapped_model = factory.get_model(trained_model, trainer)"
   ]
  },
  {
   "cell_type": "code",
   "execution_count": null,
   "metadata": {
    "ExecuteTime": {
     "end_time": "2023-04-16T19:18:25.544871Z",
     "start_time": "2023-04-16T19:16:54.007229Z"
    }
   },
   "outputs": [],
   "source": [
    "wrapped_model.calibrate(val_loader, fold_y_val)"
   ]
  },
  {
   "cell_type": "code",
   "execution_count": null,
   "metadata": {
    "ExecuteTime": {
     "end_time": "2023-04-16T19:19:24.845394Z",
     "start_time": "2023-04-16T19:18:25.607804Z"
    }
   },
   "outputs": [],
   "source": [
    "iso_cal_pred = wrapped_model.predict_calibrated(DataLoader(test_dataset, batch_size=1024),'isotonic')"
   ]
  },
  {
   "cell_type": "code",
   "execution_count": null,
   "metadata": {
    "ExecuteTime": {
     "end_time": "2023-04-16T19:19:25.016715Z",
     "start_time": "2023-04-16T19:19:24.852994Z"
    }
   },
   "outputs": [],
   "source": [
    "plot_calibration_curve(death_gt, iso_cal_pred, n_bins=10, title=f\"Calibration curve for calibrated prediction of death at 3 months\")\n",
    "plt.show()"
   ]
  },
  {
   "cell_type": "markdown",
   "metadata": {
    "collapsed": false
   },
   "source": [
    "## Re-calibration using a fraction of MIMIC dataset\n",
    "\n",
    "Gist: use a sub-fraction of MIMIC to calibrate model"
   ]
  },
  {
   "cell_type": "code",
   "execution_count": null,
   "metadata": {
    "ExecuteTime": {
     "end_time": "2023-04-16T18:52:35.777407Z",
     "start_time": "2023-04-16T18:52:35.710554Z"
    }
   },
   "outputs": [],
   "source": [
    "from sklearn.model_selection import train_test_split\n",
    "\n",
    "calib_size = 0.1\n",
    "\n",
    "ext_test_X, ext_calib_X, ext_test_y, ext_calib_y = train_test_split(test_X_np, test_y_np,\n",
    "                                                                    stratify=test_y_np,\n",
    "                                                                test_size=calib_size,\n",
    "                                                                random_state=seed)"
   ]
  },
  {
   "cell_type": "code",
   "execution_count": null,
   "metadata": {
    "ExecuteTime": {
     "end_time": "2023-04-16T18:52:36.038233Z",
     "start_time": "2023-04-16T18:52:35.744769Z"
    }
   },
   "outputs": [],
   "source": [
    "_, ext_calib_dataset = prepare_dataset((fold_X_train, ext_calib_X, fold_y_train, ext_calib_y),\n",
    "                                                  balanced=model_config['balanced'],\n",
    "                                                  rescale=True,\n",
    "                                                  use_gpu=False)\n",
    "\n",
    "_, ext_test_dataset = prepare_dataset((fold_X_train, ext_test_X, fold_y_train, ext_test_y),\n",
    "                                                  balanced=model_config['balanced'],\n",
    "                                                  rescale=True,\n",
    "                                                  use_gpu=False)"
   ]
  },
  {
   "cell_type": "markdown",
   "metadata": {
    "collapsed": false
   },
   "source": [
    "Prepare temperature calibration"
   ]
  },
  {
   "cell_type": "code",
   "execution_count": null,
   "metadata": {
    "ExecuteTime": {
     "end_time": "2023-04-16T18:52:36.044094Z",
     "start_time": "2023-04-16T18:52:36.038907Z"
    }
   },
   "outputs": [],
   "source": [
    "samples, samples_y = [], []\n",
    "for i in range(len(ext_calib_dataset)):\n",
    "    sample, sample_y = ext_calib_dataset[i]\n",
    "    samples.append(sample)\n",
    "    samples_y.append(sample_y)\n",
    "\n",
    "long_ext_calib_dataset = TensorDataset(ch.stack(samples), ch.from_numpy(np.array(samples_y)).long())"
   ]
  },
  {
   "cell_type": "code",
   "execution_count": null,
   "metadata": {
    "ExecuteTime": {
     "end_time": "2023-04-16T18:47:01.398858Z",
     "start_time": "2023-04-16T18:46:48.122142Z"
    }
   },
   "outputs": [],
   "source": [
    "temp_scale_model = ModelWithTemperature(trained_model.model, use_gpu=False)\n",
    "temp_scale_model.set_temperature(valid_loader=DataLoader(long_ext_calib_dataset, batch_size=1024))"
   ]
  },
  {
   "cell_type": "code",
   "execution_count": null,
   "metadata": {
    "ExecuteTime": {
     "end_time": "2023-04-16T18:48:06.256979Z",
     "start_time": "2023-04-16T18:47:05.503615Z"
    }
   },
   "outputs": [],
   "source": [
    "ext_temp_calibrated_preds = []\n",
    "for i in tqdm(range(len(ext_test_dataset))):\n",
    "    sample, sample_y = ext_test_dataset[i]\n",
    "    ext_temp_calibrated_preds.append(temp_scale_model.forward(sample.unsqueeze(0)))"
   ]
  },
  {
   "cell_type": "code",
   "execution_count": null,
   "metadata": {
    "ExecuteTime": {
     "end_time": "2023-04-16T18:48:06.269540Z",
     "start_time": "2023-04-16T18:48:06.263287Z"
    }
   },
   "outputs": [],
   "source": [
    "ext_temp_calibrated_preds_arr = np.array([ch.sigmoid(ext_temp_calibrated_preds[i][0, -1, -1]).detach().numpy() for i in range(len(ext_test_dataset))])"
   ]
  },
  {
   "cell_type": "code",
   "execution_count": null,
   "metadata": {
    "ExecuteTime": {
     "end_time": "2023-04-16T18:48:06.462314Z",
     "start_time": "2023-04-16T18:48:06.272684Z"
    }
   },
   "outputs": [],
   "source": [
    "plot_calibration_curve(ext_test_y, ext_temp_calibrated_preds_arr, n_bins=10, title=f\"Calibration curve for calibrated prediction of death at 3 months\")\n",
    "plt.show()"
   ]
  },
  {
   "cell_type": "markdown",
   "metadata": {
    "collapsed": false
   },
   "source": [
    "Using isotonic regression"
   ]
  },
  {
   "cell_type": "code",
   "execution_count": null,
   "metadata": {
    "ExecuteTime": {
     "end_time": "2023-04-16T19:20:40.687826Z",
     "start_time": "2023-04-16T19:20:40.640449Z"
    }
   },
   "outputs": [],
   "source": [
    "wrapped_model = factory.get_model(trained_model, trainer)"
   ]
  },
  {
   "cell_type": "code",
   "execution_count": null,
   "metadata": {
    "ExecuteTime": {
     "end_time": "2023-04-16T19:21:51.481867Z",
     "start_time": "2023-04-16T19:21:45.921300Z"
    }
   },
   "outputs": [],
   "source": [
    "wrapped_model.calibrate(DataLoader(ext_calib_dataset, batch_size=1024), ext_calib_y)"
   ]
  },
  {
   "cell_type": "code",
   "execution_count": null,
   "metadata": {
    "ExecuteTime": {
     "end_time": "2023-04-16T19:22:54.849479Z",
     "start_time": "2023-04-16T19:22:08.011045Z"
    }
   },
   "outputs": [],
   "source": [
    "ext_iso_cal_pred = wrapped_model.predict_calibrated(DataLoader(ext_test_dataset, batch_size=1024),'isotonic')"
   ]
  },
  {
   "cell_type": "code",
   "execution_count": null,
   "metadata": {
    "ExecuteTime": {
     "end_time": "2023-04-16T19:23:31.407953Z",
     "start_time": "2023-04-16T19:23:31.290166Z"
    }
   },
   "outputs": [],
   "source": [
    "plot_calibration_curve(ext_test_y, ext_iso_cal_pred, n_bins=10, title=f\"Calibration curve for calibrated prediction of death at 3 months\")\n",
    "plt.show()"
   ]
  },
  {
   "cell_type": "code",
   "execution_count": null,
   "metadata": {},
   "outputs": [],
   "source": []
  }
 ],
 "metadata": {
  "kernelspec": {
   "display_name": "Python 3",
   "language": "python",
   "name": "python3"
  },
  "language_info": {
   "codemirror_mode": {
    "name": "ipython",
    "version": 2
   },
   "file_extension": ".py",
   "mimetype": "text/x-python",
   "name": "python",
   "nbconvert_exporter": "python",
   "pygments_lexer": "ipython2",
   "version": "2.7.6"
  }
 },
 "nbformat": 4,
 "nbformat_minor": 0
}
