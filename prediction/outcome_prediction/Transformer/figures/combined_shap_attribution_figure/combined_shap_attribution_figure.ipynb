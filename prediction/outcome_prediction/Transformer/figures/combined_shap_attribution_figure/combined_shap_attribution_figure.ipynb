{
 "cells": [
  {
   "cell_type": "code",
   "execution_count": null,
   "metadata": {
    "ExecuteTime": {
     "end_time": "2023-06-26T20:12:36.832831Z",
     "start_time": "2023-06-26T20:12:36.583175Z"
    }
   },
   "outputs": [],
   "source": [
    "import pandas as pd\n",
    "import pickle\n",
    "import os\n",
    "import numpy as np\n",
    "import seaborn as sns\n",
    "import matplotlib.pyplot as plt\n",
    "from sklearn.metrics import roc_auc_score\n",
    "import matplotlib.patches as mpatches\n",
    "from sklearn.utils import resample\n",
    "from tqdm import tqdm\n",
    "from matplotlib.legend_handler import HandlerTuple\n",
    "import matplotlib.lines as mlines"
   ]
  },
  {
   "cell_type": "code",
   "execution_count": null,
   "metadata": {
    "ExecuteTime": {
     "end_time": "2023-06-27T20:08:16.425219Z",
     "start_time": "2023-06-27T20:08:16.415795Z"
    }
   },
   "outputs": [],
   "source": [
    "mrs02_top_features_data_path = '/Users/jk1/temp/opsum_figure_temp_data/shap_top_features/3M_mRS_0-2_top_shap_features_figure_data.pkl'\n",
    "death_top_features_data_path = '/Users/jk1/temp/opsum_figure_temp_data/shap_top_features/3M_Death_top_shap_features_figure_data.pkl'\n",
    "mrs02_shap_over_time_data_path = '/Users/jk1/temp/opsum_figure_temp_data/shap_over_time/3M_mrs02_shap_along_time_figure_data.pkl'\n",
    "death_shap_over_time_data_path = '/Users/jk1/temp/opsum_figure_temp_data/shap_over_time/3M_Death_shap_along_time_figure_data.pkl'"
   ]
  },
  {
   "cell_type": "code",
   "execution_count": null,
   "metadata": {
    "ExecuteTime": {
     "end_time": "2023-06-27T20:08:16.806238Z",
     "start_time": "2023-06-27T20:08:16.775028Z"
    }
   },
   "outputs": [],
   "source": [
    "with open(os.path.join(mrs02_top_features_data_path), 'rb') as f:\n",
    "        mrs02_selected_features_with_shap_values_df, mrs02_selected_features = pickle.load(f)\n",
    "        \n",
    "with open(os.path.join(death_top_features_data_path), 'rb') as f:\n",
    "        death_selected_features_with_shap_values_df, death_selected_features = pickle.load(f)\n",
    "        \n",
    "with open(os.path.join(mrs02_shap_over_time_data_path), 'rb') as f:\n",
    "        mrs02_summed_shap_along_features, mrs02_n_timesteps, mrs02_n_subj = pickle.load(f)\n",
    "        \n",
    "with open(os.path.join(death_shap_over_time_data_path), 'rb') as f:\n",
    "        death_summed_shap_along_features, death_n_timesteps, death_n_subj = pickle.load(f)"
   ]
  },
  {
   "cell_type": "markdown",
   "metadata": {
    "collapsed": false
   },
   "source": [
    "Plotting functions"
   ]
  },
  {
   "cell_type": "code",
   "execution_count": null,
   "metadata": {
    "ExecuteTime": {
     "end_time": "2023-06-27T20:16:19.766067Z",
     "start_time": "2023-06-27T20:16:19.754193Z"
    }
   },
   "outputs": [],
   "source": [
    "from prediction.utils.visualisation_helper_functions import hex_to_rgb_color, create_palette\n",
    "from mpl_toolkits.axes_grid1 import make_axes_locatable\n",
    "from matplotlib.colors import ListedColormap\n",
    "import matplotlib.lines as mlines\n",
    "from matplotlib.legend_handler import HandlerTuple\n",
    "import matplotlib\n",
    "from colormath.color_objects import LabColor\n",
    "\n",
    "\n",
    "def plot_top_features_shap(selected_features_with_shap_values_df, selected_features,\n",
    "        ax,\n",
    "    plot_shap_direction_label = True,\n",
    "    plot_legend = True,\n",
    "    plot_colorbar = True,\n",
    "    plot_feature_value_along_y = False,\n",
    "    reverse_outcome_direction = False,   \n",
    "    tick_label_size = 11,\n",
    "    label_font_size = 13,\n",
    "    row_height = 0.4,\n",
    "    alpha = 0.8):\n",
    "    \n",
    "    # Define the color palette\n",
    "    start_color = '#012D98'\n",
    "    end_color = '#f61067'\n",
    "    number_of_colors = 50\n",
    "    start_rgb = hex_to_rgb_color(start_color)\n",
    "    end_rgb = hex_to_rgb_color(end_color)\n",
    "    palette = create_palette(start_rgb, end_rgb, number_of_colors, LabColor, extrapolation_length=1)\n",
    "      \n",
    "    \n",
    "    for pos, feature in enumerate(selected_features[::-1]):\n",
    "        shaps = selected_features_with_shap_values_df[selected_features_with_shap_values_df.feature.isin([feature])].shap_value.values\n",
    "        values = selected_features_with_shap_values_df[selected_features_with_shap_values_df.feature.isin([feature])].feature_value\n",
    "        ax.axhline(y=pos, color=\"#cccccc\", lw=0.5, dashes=(1, 5), zorder=-1)\n",
    "    \n",
    "        values = np.array(values, dtype=np.float64)  # make sure this can be numeric\n",
    "    \n",
    "        N = len(shaps)\n",
    "        nbins = 100\n",
    "        quant = np.round(nbins * (shaps - np.min(shaps)) / (np.max(shaps) - np.min(shaps) + 1e-8))\n",
    "        inds = np.argsort(quant + np.random.randn(N) * 1e-6)\n",
    "        layer = 0\n",
    "        last_bin = -1\n",
    "    \n",
    "        if plot_feature_value_along_y:\n",
    "            ys = values.copy()\n",
    "            cluster_factor = 0.1\n",
    "            for ind in inds:\n",
    "                if quant[ind] != last_bin:\n",
    "                    layer = 0\n",
    "                ys[ind] += cluster_factor * (np.ceil(layer / 2) * ((layer % 2) * 2 - 1))\n",
    "                layer += 1\n",
    "                last_bin = quant[ind]\n",
    "    \n",
    "        else:\n",
    "            ys = np.zeros(N)\n",
    "            cluster_factor = 1\n",
    "            for ind in inds:\n",
    "                if quant[ind] != last_bin:\n",
    "                    layer = 0\n",
    "                ys[ind] = cluster_factor * (np.ceil(layer / 2) * ((layer % 2) * 2 - 1))\n",
    "                layer += 1\n",
    "                last_bin = quant[ind]\n",
    "    \n",
    "        ys *= 0.9 * (row_height / np.max(ys + 1))\n",
    "    \n",
    "        # trim the color range, but prevent the color range from collapsing\n",
    "        vmin = np.nanpercentile(values, 5)\n",
    "        vmax = np.nanpercentile(values, 95)\n",
    "        if vmin == vmax:\n",
    "            vmin = np.nanpercentile(values, 1)\n",
    "            vmax = np.nanpercentile(values, 99)\n",
    "            if vmin == vmax:\n",
    "                vmin = np.min(values)\n",
    "                vmax = np.max(values)\n",
    "        if vmin > vmax: # fixes rare numerical precision issues\n",
    "            vmin = vmax\n",
    "    \n",
    "        # plot the non-nan values colored by the trimmed feature value\n",
    "        cvals = values.astype(np.float64)\n",
    "        cvals_imp = cvals.copy()\n",
    "        cvals_imp[np.isnan(cvals)] = (vmin + vmax) / 2.0\n",
    "        cvals[cvals_imp > vmax] = vmax\n",
    "        cvals[cvals_imp < vmin] = vmin\n",
    "        ax.scatter(shaps, pos + ys,\n",
    "                   cmap=ListedColormap(palette), vmin=vmin, vmax=vmax, s=16,\n",
    "                   c=cvals, alpha=alpha, linewidth=0,\n",
    "                   zorder=3, rasterized=len(shaps) > 500)\n",
    "    \n",
    "    \n",
    "    \n",
    "    axis_color=\"#333333\"\n",
    "    if plot_colorbar:\n",
    "        m = matplotlib.cm.ScalarMappable(cmap=ListedColormap(palette))\n",
    "        m.set_array([0, 1])\n",
    "        \n",
    "        divider = make_axes_locatable(ax)\n",
    "        cax = divider.append_axes('right', size='5%', pad=0.5)\n",
    "\n",
    "        # get fig from ax\n",
    "        fig = ax.get_figure()\n",
    "        cb = fig.colorbar(m, ticks=[0, 1], aspect=10, shrink=0.2, ax=cax)\n",
    "        cb.set_ticklabels(['Low', 'High'])\n",
    "        cb.ax.tick_params(labelsize=tick_label_size, length=0)\n",
    "        cb.set_label('Feature value', size=label_font_size)\n",
    "        cb.ax.yaxis.set_label_position('left')\n",
    "        cb.set_alpha(1)\n",
    "        cb.outline.set_visible(False)\n",
    "        # turn off grid and spines on cax\n",
    "        cax.grid(False)\n",
    "        cax.spines['right'].set_visible(False)\n",
    "        cax.spines['top'].set_visible(False)\n",
    "        cax.spines['left'].set_visible(False)\n",
    "        cax.spines['bottom'].set_visible(False)\n",
    "        cax.set_xticks([])\n",
    "        cax.set_yticks([])\n",
    "    \n",
    "    if plot_legend:\n",
    "        legend_markers = []\n",
    "        legend_labels = []\n",
    "        single_dot = mlines.Line2D([], [], color=palette[len(palette)//2], marker='.', linestyle='None',\n",
    "                              markersize=10)\n",
    "        single_dot_label = 'Single Patient\\n(summed over time)'\n",
    "        legend_markers.append(single_dot)\n",
    "        legend_labels.append(single_dot_label)\n",
    "    \n",
    "        ax.legend(legend_markers, legend_labels, title='SHAP/Feature values', fontsize=tick_label_size, title_fontsize=label_font_size,\n",
    "                  handler_map={tuple: HandlerTuple(ndivide=None)},\n",
    "                         loc='upper left', frameon=True)\n",
    "    \n",
    "    \n",
    "    ax.xaxis.set_ticks_position('bottom')\n",
    "    ax.yaxis.set_ticks_position('none')\n",
    "    ax.spines['right'].set_visible(False)\n",
    "    ax.spines['top'].set_visible(False)\n",
    "    ax.spines['left'].set_visible(False)\n",
    "    ax.tick_params(color=axis_color, labelcolor=axis_color)\n",
    "    \n",
    "    yticklabels = selected_features[::-1]\n",
    "    ax.set_yticks(range(len(selected_features_with_shap_values_df.feature.unique())))\n",
    "    ax.set_yticklabels(yticklabels, fontsize=label_font_size)\n",
    "    ax.tick_params('y', length=20, width=0.5, which='major')\n",
    "    ax.tick_params('x', labelsize=tick_label_size)\n",
    "    ax.set_ylim(-1, len(selected_features_with_shap_values_df.feature.unique()))\n",
    "    ax.set_xlabel('SHAP Value \\n(impact on model output)', fontsize=label_font_size)\n",
    "    ax.grid(color='white', axis='y')\n",
    "    \n",
    "    \n",
    "    # Plot additional explanation with the shap value X axis\n",
    "    if plot_shap_direction_label:\n",
    "        x_ticks_coordinates = ax.get_xticks()\n",
    "        x_ticks_labels = [item.get_text() for item in ax.get_xticklabels()]\n",
    "        # let x tick label be the coordinate with 2 decimals\n",
    "    \n",
    "        if reverse_outcome_direction:\n",
    "            x_ticks_labels = [f'{x_ticks_coordinate:.0f}' for x_ticks_coordinate in x_ticks_coordinates]\n",
    "            x_ticks_labels[0] = f'Toward better\\noutcome'\n",
    "            x_ticks_labels[-1] = f'Toward worse\\noutcome'\n",
    "        else:\n",
    "            x_ticks_labels = [f'{x_ticks_coordinate:.1f}' for x_ticks_coordinate in x_ticks_coordinates]\n",
    "            x_ticks_labels[0] = f'Toward worse\\noutcome'\n",
    "            x_ticks_labels[-1] = f'Toward better\\noutcome'\n",
    "    \n",
    "        ax.set_xticks(x_ticks_coordinates)\n",
    "        ax.set_xticklabels(x_ticks_labels)\n",
    "    \n",
    "    return ax"
   ]
  },
  {
   "cell_type": "code",
   "execution_count": null,
   "metadata": {
    "ExecuteTime": {
     "end_time": "2023-06-27T20:16:23.432609Z",
     "start_time": "2023-06-27T20:16:22.850281Z"
    }
   },
   "outputs": [],
   "source": [
    "fig, ax = plt.subplots(figsize=(10, 10))\n",
    "\n",
    "plot_top_features_shap(\n",
    "    mrs02_selected_features_with_shap_values_df, mrs02_selected_features,\n",
    "        ax,\n",
    "    plot_colorbar=True\n",
    ")"
   ]
  },
  {
   "cell_type": "code",
   "execution_count": null,
   "metadata": {
    "ExecuteTime": {
     "end_time": "2023-06-27T20:08:20.019418Z",
     "start_time": "2023-06-27T20:08:19.240281Z"
    }
   },
   "outputs": [],
   "source": [
    "fig, ax = plt.subplots(figsize=(10, 10))\n",
    "\n",
    "plot_top_features_shap(\n",
    "    death_selected_features_with_shap_values_df, death_selected_features,\n",
    "        ax,\n",
    " reverse_outcome_direction=True)"
   ]
  },
  {
   "cell_type": "code",
   "execution_count": null,
   "metadata": {
    "ExecuteTime": {
     "end_time": "2023-06-27T20:15:08.784012Z",
     "start_time": "2023-06-27T20:15:08.773613Z"
    }
   },
   "outputs": [],
   "source": [
    "from matplotlib.colors import ListedColormap\n",
    "import matplotlib\n",
    "from mpl_toolkits.axes_grid1 import make_axes_locatable\n",
    "import matplotlib.lines as mlines\n",
    "from matplotlib.legend_handler import HandlerTuple\n",
    "from prediction.utils.visualisation_helper_functions import hex_to_rgb_color, create_palette\n",
    "from colormath.color_objects import LabColor\n",
    "\n",
    "\n",
    "def plot_shap_along_time(summed_shap_along_features, n_timesteps, n_subj,\n",
    "        ax,\n",
    "    plot_legend = True,\n",
    "    plot_colorbar = True,\n",
    "    plot_median = True,\n",
    "    tick_label_size = 11,\n",
    "    label_font_size = 13,\n",
    "                         alpha=0.9\n",
    "    ):\n",
    "\n",
    "    # create palette\n",
    "    start_color= '#049b9a'\n",
    "    end_color= '#012D98'\n",
    "    number_of_colors = n_timesteps * n_subj\n",
    "    start_rgb = hex_to_rgb_color(start_color)\n",
    "    end_rgb = hex_to_rgb_color(end_color)    \n",
    "    palette = create_palette(start_rgb, end_rgb, number_of_colors, LabColor, extrapolation_length=1)\n",
    "\n",
    "    ax = sns.scatterplot(x=np.tile(np.arange(0, n_timesteps), n_subj) + (np.random.rand(n_subj * n_timesteps) / 1), y=summed_shap_along_features.flatten(),\n",
    "                         hue=np.log(summed_shap_along_features.flatten()), ax=ax,\n",
    "                         alpha=0.05, legend=False, palette=palette)\n",
    "    \n",
    "    if plot_median:\n",
    "        # plot median summed shap value on top\n",
    "        median_color = '#f61067'\n",
    "        ax = sns.lineplot(x=np.arange(0, n_timesteps), y=np.median(summed_shap_along_features, axis=0), ax=ax,\n",
    "                          color=median_color, markers='.', lw=2, alpha=alpha)\n",
    "    \n",
    "    ax.set(yscale=\"log\")\n",
    "    \n",
    "    ax.set_xlabel('Time from admission (hours)', fontsize=label_font_size)\n",
    "    ax.set_ylabel('Sum of absolute SHAP values', fontsize=label_font_size)\n",
    "    ax.tick_params('x', labelsize=tick_label_size)\n",
    "    ax.tick_params('y', labelsize=tick_label_size)\n",
    "    \n",
    "    if plot_colorbar:\n",
    "        m = matplotlib.cm.ScalarMappable(cmap=ListedColormap(palette))\n",
    "        m.set_array([0, 1])\n",
    "        divider = make_axes_locatable(ax)\n",
    "        cax = divider.append_axes('right', size='5%', pad=1.2)\n",
    "\n",
    "        # get fig from ax\n",
    "        fig = ax.get_figure()\n",
    "        \n",
    "        cb = fig.colorbar(m, ticks=[0, 1], aspect=10, shrink=0.2, ax=cax)\n",
    "        cb.set_ticklabels(['Small impact on \\nmodel output', 'Large impact on \\nmodel output'])\n",
    "        cb.ax.tick_params(labelsize=tick_label_size, length=0)\n",
    "        cb.set_label('SHAP values', size=label_font_size)\n",
    "        cb.ax.yaxis.set_label_position('left')\n",
    "        cb.set_alpha(1)\n",
    "        cb.outline.set_visible(False)\n",
    "        # turn off grid and spines on cax\n",
    "        cax.grid(False)\n",
    "        cax.spines['right'].set_visible(False)\n",
    "        cax.spines['top'].set_visible(False)\n",
    "        cax.spines['left'].set_visible(False)\n",
    "        cax.spines['bottom'].set_visible(False)\n",
    "        cax.set_xticks([])\n",
    "        cax.set_yticks([])\n",
    "    \n",
    "    if plot_legend:\n",
    "        legend_markers = []\n",
    "        legend_labels = []\n",
    "        single_dot = mlines.Line2D([], [], color=palette[len(palette)//2], marker='.', linestyle='None',\n",
    "                              markersize=10)\n",
    "        single_dot_label = 'Single patient at timepoint t'\n",
    "        legend_markers.append(single_dot)\n",
    "        legend_labels.append(single_dot_label)\n",
    "    \n",
    "        if plot_median:\n",
    "            median_line = mlines.Line2D([], [], color=median_color, linestyle='-')\n",
    "            median_line_label = 'Median'\n",
    "            legend_markers.append(median_line)\n",
    "            legend_labels.append(median_line_label)\n",
    "    \n",
    "        ax.legend(legend_markers, legend_labels, title='Summed absolute SHAP', fontsize=tick_label_size, title_fontsize=label_font_size,\n",
    "                  handler_map={tuple: HandlerTuple(ndivide=None)})\n",
    "        \n",
    "    return ax"
   ]
  },
  {
   "cell_type": "code",
   "execution_count": null,
   "metadata": {
    "ExecuteTime": {
     "end_time": "2023-06-27T20:15:22.122589Z",
     "start_time": "2023-06-27T20:15:10.927624Z"
    }
   },
   "outputs": [],
   "source": [
    "fig, ax = plt.subplots(figsize=(10, 10))\n",
    "\n",
    "plot_shap_along_time(mrs02_summed_shap_along_features, mrs02_n_timesteps, mrs02_n_subj, ax, plot_legend=True, plot_colorbar=True, plot_median=True)\n",
    "   "
   ]
  },
  {
   "cell_type": "code",
   "execution_count": null,
   "metadata": {
    "ExecuteTime": {
     "end_time": "2023-06-27T20:09:55.351498Z",
     "start_time": "2023-06-27T20:09:38.512730Z"
    }
   },
   "outputs": [],
   "source": [
    "fig, ax = plt.subplots(figsize=(10, 10))\n",
    "\n",
    "plot_shap_along_time(death_summed_shap_along_features, death_n_timesteps, death_n_subj, ax, plot_legend=True, plot_colorbar=True, plot_median=True)"
   ]
  },
  {
   "cell_type": "markdown",
   "metadata": {
    "collapsed": false
   },
   "source": [
    "# Plot combined plot"
   ]
  },
  {
   "cell_type": "code",
   "execution_count": null,
   "metadata": {
    "ExecuteTime": {
     "end_time": "2023-06-27T20:31:03.108608Z",
     "start_time": "2023-06-27T20:30:26.323872Z"
    }
   },
   "outputs": [],
   "source": [
    "sns.set_theme(style=\"whitegrid\", context=\"paper\", font_scale = 1)\n",
    "\n",
    "cm = 1/2.54  # centimeters in inches\n",
    "main_fig = plt.figure(figsize=(18 * cm, 22 * cm))\n",
    "\n",
    "tick_label_size = 6\n",
    "label_font_size = 7\n",
    "subplot_number_font_size = 9\n",
    "suptitle_font_size = 10\n",
    "plot_subplot_titles = True\n",
    "\n",
    "plot_legend = True\n",
    "plot_colorbar = False\n",
    "\n",
    "subfigs = main_fig.subfigures(2, 1, height_ratios=[1, 1])\n",
    "# increase space between subfigs\n",
    "main_fig.subplots_adjust(hspace=4.5)\n",
    "\n",
    "# MRS02\n",
    "subfigs[0].suptitle('I. Prediction of functional outcome', fontsize=suptitle_font_size, horizontalalignment='left', x=0.1, y=1.)\n",
    "\n",
    "ax1, ax2 = subfigs[0].subplots(1, 2)\n",
    "subfigs[0].subplots_adjust(wspace=0.3)\n",
    "\n",
    "plot_top_features_shap(\n",
    "    mrs02_selected_features_with_shap_values_df, mrs02_selected_features,\n",
    "    ax1,\n",
    "    plot_legend=plot_legend,\n",
    "    plot_colorbar=plot_colorbar,\n",
    "    tick_label_size=tick_label_size,\n",
    "    label_font_size=label_font_size\n",
    ")\n",
    "\n",
    "plot_shap_along_time(mrs02_summed_shap_along_features, mrs02_n_timesteps, mrs02_n_subj, ax2, \n",
    "                     plot_legend=plot_legend, plot_colorbar=plot_colorbar, plot_median=True,\n",
    "                     tick_label_size=tick_label_size,\n",
    "                     label_font_size=label_font_size)\n",
    "\n",
    "if plot_subplot_titles:\n",
    "    ax1.set_title('A.', fontsize=subplot_number_font_size, horizontalalignment='left', x=-0.1)\n",
    "    ax2.set_title('B.', fontsize=subplot_number_font_size, horizontalalignment='left', x=-0.1)\n",
    "    \n",
    "    \n",
    "# Death\n",
    "subfigs[1].suptitle('II. Prediction of mortality', fontsize=suptitle_font_size, horizontalalignment='left', x=0.1, y=1.0)\n",
    "\n",
    "ax3, ax4 = subfigs[1].subplots(1, 2)\n",
    "subfigs[1].subplots_adjust(wspace=0.3)\n",
    "\n",
    "plot_top_features_shap(\n",
    "    death_selected_features_with_shap_values_df, death_selected_features,\n",
    "    ax3,\n",
    "    plot_legend=plot_legend,\n",
    "    plot_colorbar=plot_colorbar,\n",
    "    tick_label_size=tick_label_size,\n",
    "    label_font_size=label_font_size\n",
    ")\n",
    "\n",
    "plot_shap_along_time(death_summed_shap_along_features, death_n_timesteps, death_n_subj, ax4, \n",
    "                     plot_legend=plot_legend, plot_colorbar=plot_colorbar, plot_median=True,\n",
    "                     tick_label_size=tick_label_size,\n",
    "                     label_font_size=label_font_size)\n",
    "\n",
    "if plot_subplot_titles:\n",
    "    ax3.set_title('C.', fontsize=subplot_number_font_size, horizontalalignment='left', x=-0.1)\n",
    "    ax4.set_title('D.', fontsize=subplot_number_font_size, horizontalalignment='left', x=-0.1)"
   ]
  },
  {
   "cell_type": "code",
   "execution_count": null,
   "metadata": {
    "ExecuteTime": {
     "end_time": "2023-06-27T20:28:19.820353Z",
     "start_time": "2023-06-27T20:28:19.316157Z"
    }
   },
   "outputs": [],
   "source": [
    "output_dir = '/Users/jk1/Downloads'\n",
    "# main_fig.savefig(os.path.join(output_dir, 'comparative_performances_combined.svg'), bbox_inches=\"tight\", format='svg', dpi=1200)\n"
   ]
  }
 ],
 "metadata": {
  "kernelspec": {
   "display_name": "Python 3",
   "language": "python",
   "name": "python3"
  },
  "language_info": {
   "codemirror_mode": {
    "name": "ipython",
    "version": 2
   },
   "file_extension": ".py",
   "mimetype": "text/x-python",
   "name": "python",
   "nbconvert_exporter": "python",
   "pygments_lexer": "ipython2",
   "version": "2.7.6"
  }
 },
 "nbformat": 4,
 "nbformat_minor": 0
}
