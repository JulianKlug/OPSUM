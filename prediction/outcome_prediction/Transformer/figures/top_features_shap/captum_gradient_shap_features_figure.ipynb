{
 "cells": [
  {
   "cell_type": "code",
   "execution_count": null,
   "metadata": {
    "ExecuteTime": {
     "end_time": "2024-10-24T06:48:51.432542Z",
     "start_time": "2024-10-24T06:48:44.552306Z"
    }
   },
   "outputs": [],
   "source": [
    "import shap\n",
    "import numpy as np\n",
    "import pandas as pd\n",
    "import os\n",
    "import pickle\n",
    "from prediction.utils.shap_helper_functions import check_shap_version_compatibility\n",
    "import seaborn as sns\n",
    "import matplotlib.pyplot as plt"
   ]
  },
  {
   "cell_type": "markdown",
   "metadata": {
    "collapsed": false
   },
   "source": [
    "Requirements:\n",
    "- TensorFlow 1.14\n",
    "- Python 3.7\n",
    "- Protobuf downgrade to 3.20: `pip install protobuf==3.20`\n",
    "- downgrade h5py to 2.10: `pip install h5py==2.10`\n",
    "- turn off masking in LSTM"
   ]
  },
  {
   "cell_type": "code",
   "execution_count": null,
   "metadata": {
    "ExecuteTime": {
     "end_time": "2024-10-24T06:48:54.832198Z",
     "start_time": "2024-10-24T06:48:54.829099Z"
    }
   },
   "outputs": [],
   "source": [
    "# Shap values require very specific versions\n",
    "check_shap_version_compatibility()"
   ]
  },
  {
   "cell_type": "code",
   "execution_count": null,
   "metadata": {
    "ExecuteTime": {
     "end_time": "2024-10-24T06:48:55.388009Z",
     "start_time": "2024-10-24T06:48:55.370812Z"
    }
   },
   "outputs": [],
   "source": [
    "# print the JS visualization code to the notebook\n",
    "shap.initjs()"
   ]
  },
  {
   "cell_type": "code",
   "execution_count": null,
   "metadata": {
    "ExecuteTime": {
     "end_time": "2024-10-24T06:48:56.374488Z",
     "start_time": "2024-10-24T06:48:56.368950Z"
    }
   },
   "outputs": [],
   "source": [
    "death_shap_values_path = '/Users/jk1/temp/opsum_prediction_output/transformer/3M_Death/testing/transformer_explainer_shap_values_over_ts_death_captum_n1431_all_ts_cv1.pkl'\n",
    "mrs_shap_values_path = '/Users/jk1/temp/opsum_prediction_output/transformer/3M_mrs02/transformer_20230402_184459_test_set_evaluation/explanability/transformer_explainer_shap_values_over_ts_3m_mrs02_captum_n1449_all_72_cv2.pkl'\n",
    "death_in_hosp_shap_values_path = '/Users/jk1/temp/opsum_prediction_output/transformer/Death_in_hospital/inference/death_in_hospital_shap_values_2/transformer_explainer_shap_values_over_ts.pkl'\n",
    "features_path = '/Users/jk1/temp/opsum_prepro_output/gsu_prepro_01012023_233050/preprocessed_features_01012023_233050.csv'\n",
    "labels_path = '/Users/jk1/temp/opsum_prepro_output/gsu_prepro_01012023_233050/preprocessed_outcomes_01012023_233050.csv'\n",
    "cat_encoding_path = os.path.join(os.path.dirname(features_path), f'logs_{os.path.basename(features_path).split(\".\")[0].split(\"_\")[-2]}_{os.path.basename(features_path).split(\".\")[0].split(\"_\")[-1]}/categorical_variable_encoding.csv')"
   ]
  },
  {
   "cell_type": "code",
   "execution_count": null,
   "metadata": {
    "ExecuteTime": {
     "end_time": "2024-10-24T06:48:57.299064Z",
     "start_time": "2024-10-24T06:48:57.295648Z"
    }
   },
   "outputs": [],
   "source": [
    "output_dir = '/Users/jk1/Downloads'"
   ]
  },
  {
   "cell_type": "code",
   "execution_count": null,
   "metadata": {
    "ExecuteTime": {
     "end_time": "2024-10-24T06:57:44.310453Z",
     "start_time": "2024-10-24T06:57:44.306703Z"
    }
   },
   "outputs": [],
   "source": [
    "outcome = '3M Death'\n",
    "seed = 42\n",
    "test_size = 0.20\n",
    "n_splits = 5"
   ]
  },
  {
   "cell_type": "code",
   "execution_count": null,
   "metadata": {
    "ExecuteTime": {
     "end_time": "2024-10-24T06:57:44.709967Z",
     "start_time": "2024-10-24T06:57:44.705862Z"
    }
   },
   "outputs": [],
   "source": [
    "if outcome == '3M mRS 0-2':\n",
    "    shap_values_path = mrs_shap_values_path\n",
    "elif outcome == '3M Death':\n",
    "    shap_values_path = death_shap_values_path\n",
    "elif outcome == 'Death in hospital':\n",
    "    shap_values_path = death_in_hosp_shap_values_path\n",
    "else:\n",
    "    raise ValueError(f'Outcome {outcome} not supported')"
   ]
  },
  {
   "cell_type": "markdown",
   "metadata": {
    "collapsed": false
   },
   "source": [
    "## Load the data"
   ]
  },
  {
   "cell_type": "code",
   "execution_count": null,
   "metadata": {
    "ExecuteTime": {
     "end_time": "2024-10-24T07:00:15.104568Z",
     "start_time": "2024-10-24T06:57:48.103223Z"
    }
   },
   "outputs": [],
   "source": [
    "from prediction.outcome_prediction.data_loading.data_loader import load_data\n",
    "\n",
    "pids, train_data, test_data, train_splits, test_features_lookup_table = load_data(features_path, labels_path, outcome, test_size, n_splits, seed)\n"
   ]
  },
  {
   "cell_type": "code",
   "execution_count": null,
   "metadata": {
    "ExecuteTime": {
     "end_time": "2024-03-11T15:46:57.678115Z",
     "start_time": "2024-03-11T15:46:57.120298Z"
    }
   },
   "outputs": [],
   "source": [
    "# load the shap values\n",
    "with open(os.path.join(shap_values_path), 'rb') as handle:\n",
    "    original_shap_values = pickle.load(handle)"
   ]
  },
  {
   "cell_type": "code",
   "execution_count": null,
   "metadata": {
    "ExecuteTime": {
     "end_time": "2024-03-11T15:46:57.685587Z",
     "start_time": "2024-03-11T15:46:57.680431Z"
    }
   },
   "outputs": [],
   "source": [
    "only_last_timestep = True\n",
    "if only_last_timestep:\n",
    "    # use predictions from last timestep (as it also produces output for other timesteps)\n",
    "    shap_values = [original_shap_values[-1]]\n",
    "\n",
    "else:\n",
    "    shap_values = [np.array([original_shap_values[i][:, -1, :] for i in range(len(original_shap_values))]).swapaxes(0, 1)]"
   ]
  },
  {
   "cell_type": "code",
   "execution_count": null,
   "metadata": {
    "ExecuteTime": {
     "end_time": "2024-03-11T15:46:57.692115Z",
     "start_time": "2024-03-11T15:46:57.687500Z"
    }
   },
   "outputs": [],
   "source": [
    "features = list(test_features_lookup_table['sample_label'].keys())"
   ]
  },
  {
   "cell_type": "code",
   "execution_count": null,
   "metadata": {
    "ExecuteTime": {
     "end_time": "2024-03-11T15:46:57.699621Z",
     "start_time": "2024-03-11T15:46:57.694129Z"
    }
   },
   "outputs": [],
   "source": [
    "shap_values[0].shape"
   ]
  },
  {
   "cell_type": "markdown",
   "metadata": {
    "collapsed": false
   },
   "source": [
    "### Create working data frame\n",
    "\n",
    "Join data in a common dataframe with shap values and feature values"
   ]
  },
  {
   "cell_type": "code",
   "execution_count": null,
   "metadata": {
    "ExecuteTime": {
     "end_time": "2024-03-11T15:46:57.715898Z",
     "start_time": "2024-03-11T15:46:57.701560Z"
    }
   },
   "outputs": [],
   "source": [
    "selected_shap_values = shap_values[0].sum(axis=(1))\n",
    "selected_shap_values_df = pd.DataFrame(data=selected_shap_values, columns = np.array(features))\n",
    "selected_shap_values_df = selected_shap_values_df.reset_index()\n",
    "selected_shap_values_df.rename(columns={'index': 'case_admission_id_idx'}, inplace=True)\n",
    "selected_shap_values_df = selected_shap_values_df.melt(id_vars='case_admission_id_idx',  var_name='feature', value_name='shap_value')\n"
   ]
  },
  {
   "cell_type": "code",
   "execution_count": null,
   "metadata": {
    "ExecuteTime": {
     "end_time": "2024-10-24T07:00:15.329382Z",
     "start_time": "2024-10-24T07:00:15.326493Z"
    }
   },
   "outputs": [],
   "source": [
    "test_X_np, test_y_np = test_data\n"
   ]
  },
  {
   "cell_type": "code",
   "execution_count": null,
   "metadata": {
    "ExecuteTime": {
     "end_time": "2024-03-11T15:46:57.742496Z",
     "start_time": "2024-03-11T15:46:57.721934Z"
    }
   },
   "outputs": [],
   "source": [
    "selected_feature_values_df =  pd.DataFrame(data=test_X_np.mean(axis=(1)), columns = features)\n",
    "selected_feature_values_df = selected_feature_values_df.reset_index()\n",
    "selected_feature_values_df.rename(columns={'index': 'case_admission_id_idx'}, inplace=True)\n",
    "selected_feature_values_df = selected_feature_values_df.melt(id_vars='case_admission_id_idx',  var_name='feature', value_name='feature_value')\n"
   ]
  },
  {
   "cell_type": "code",
   "execution_count": null,
   "metadata": {
    "ExecuteTime": {
     "end_time": "2024-03-11T15:46:57.771465Z",
     "start_time": "2024-03-11T15:46:57.743829Z"
    }
   },
   "outputs": [],
   "source": [
    "features_with_shap_values_df = pd.merge(selected_shap_values_df, selected_feature_values_df, on=['case_admission_id_idx', 'feature'])"
   ]
  },
  {
   "cell_type": "code",
   "execution_count": null,
   "metadata": {
    "ExecuteTime": {
     "end_time": "2024-03-11T15:46:58.326024Z",
     "start_time": "2024-03-11T15:46:57.773377Z"
    }
   },
   "outputs": [],
   "source": [
    "reverse_categorical_encoding = True\n",
    "\n",
    "if reverse_categorical_encoding:\n",
    "    cat_encoding_df = pd.read_csv(cat_encoding_path)\n",
    "    for i in range(len(cat_encoding_df)):\n",
    "        cat_basename = cat_encoding_df.sample_label[i].lower().replace(' ', '_')\n",
    "        cat_item_list = cat_encoding_df.other_categories[i].replace('[', '').replace(']', '').replace('\\'', '').split(', ')\n",
    "        cat_item_list = [cat_basename + '_' + item.replace(' ', '_').lower() for item in cat_item_list]\n",
    "        for cat_item_idx, cat_item in enumerate(cat_item_list):\n",
    "            #  retrieve the dominant category for this subject (0 being default category)\n",
    "            features_with_shap_values_df.loc[features_with_shap_values_df.feature == cat_item, 'feature_value'] *= cat_item_idx + 1\n",
    "            features_with_shap_values_df.loc[features_with_shap_values_df.feature == cat_item, 'feature'] = cat_encoding_df.sample_label[i]\n",
    "            # sum the shap and feature values for each subject\n",
    "            features_with_shap_values_df = features_with_shap_values_df.groupby(['case_admission_id_idx', 'feature']).sum().reset_index()\n",
    "\n",
    "        # give a numerical encoding to the categorical features\n",
    "    cat_to_numerical_encoding = {\n",
    "        'Prestroke disability (Rankin)': {0:0, 1:5, 2:4, 3:2, 4:1, 5:3},\n",
    "        'categorical_onset_to_admission_time': {0:1, 1:2, 2:3, 3:4, 4:0},\n",
    "        'categorical_IVT': {0:2, 1:3, 2:4, 3:1, 4:0},\n",
    "        'categorical_IAT': {0:1, 1:0, 2:3, 3:2}\n",
    "    }\n",
    "\n",
    "    for cat_feature, cat_encoding in cat_to_numerical_encoding.items():\n",
    "        features_with_shap_values_df.loc[features_with_shap_values_df.feature == cat_feature, 'feature_value'] = features_with_shap_values_df.loc[features_with_shap_values_df.feature == cat_feature, 'feature_value'].map(cat_encoding)\n"
   ]
  },
  {
   "cell_type": "code",
   "execution_count": null,
   "metadata": {
    "ExecuteTime": {
     "end_time": "2024-03-11T15:46:58.470577Z",
     "start_time": "2024-03-11T15:46:58.327926Z"
    }
   },
   "outputs": [],
   "source": [
    "pool_hourly_split_values = True\n",
    "\n",
    "# For features that are downsampled to hourly values, pool the values (median, min, max)\n",
    "\n",
    "if pool_hourly_split_values:\n",
    "    hourly_split_features = ['NIHSS', 'systolic_blood_pressure', 'diastolic_blood_pressure', 'mean_blood_pressure', 'heart_rate', 'respiratory_rate', 'temperature', 'oxygen_saturation']\n",
    "    for feature in hourly_split_features:\n",
    "        features_with_shap_values_df.loc[features_with_shap_values_df.feature.str.contains(feature), 'feature'] = (feature[0].upper() + feature[1:]\n",
    ").replace('_', ' ')\n",
    "\n"
   ]
  },
  {
   "cell_type": "markdown",
   "metadata": {
    "collapsed": false
   },
   "source": [
    "Replace feature names with their english names"
   ]
  },
  {
   "cell_type": "code",
   "execution_count": null,
   "metadata": {
    "ExecuteTime": {
     "end_time": "2024-03-11T15:46:58.698753Z",
     "start_time": "2024-03-11T15:46:58.471942Z"
    }
   },
   "outputs": [],
   "source": [
    "feature_to_english_name_correspondence_path = os.path.join(os.path.dirname(\n",
    "    os.path.dirname(os.path.dirname(os.path.dirname(os.path.dirname(os.path.dirname(os.path.abspath('__file__'))))))),\n",
    "                                                           'preprocessing/preprocessing_tools/feature_name_to_english_name_correspondence.xlsx')\n",
    "feature_to_english_name_correspondence = pd.read_excel(feature_to_english_name_correspondence_path)\n"
   ]
  },
  {
   "cell_type": "code",
   "execution_count": null,
   "metadata": {
    "ExecuteTime": {
     "end_time": "2024-03-11T15:46:58.848919Z",
     "start_time": "2024-03-11T15:46:58.700047Z"
    }
   },
   "outputs": [],
   "source": [
    "for feature in features_with_shap_values_df.feature.unique():\n",
    "    if feature in feature_to_english_name_correspondence.feature_name.values:\n",
    "        features_with_shap_values_df.loc[features_with_shap_values_df.feature == feature, 'feature'] = feature_to_english_name_correspondence[feature_to_english_name_correspondence.feature_name == feature].english_name.values[0]"
   ]
  },
  {
   "cell_type": "markdown",
   "metadata": {
    "collapsed": false
   },
   "source": [
    "## Feature selection\n",
    "\n",
    "Select only the features that are in the top 10 most important features by mean absolute shap value"
   ]
  },
  {
   "cell_type": "code",
   "execution_count": null,
   "metadata": {
    "ExecuteTime": {
     "end_time": "2024-03-11T15:46:58.862070Z",
     "start_time": "2024-03-11T15:46:58.850640Z"
    }
   },
   "outputs": [],
   "source": [
    "# identify the top 10 most important features by mean absolute shap value\n",
    "features_with_shap_values_df['absolute_shap_value'] = np.abs(features_with_shap_values_df['shap_value'])\n",
    "top_10_features_by_mean_abs_summed_shap = features_with_shap_values_df.groupby('feature').mean().sort_values(by='absolute_shap_value', ascending=False).head(10).index.values\n",
    "top_10_features_by_mean_abs_summed_shap"
   ]
  },
  {
   "cell_type": "code",
   "execution_count": null,
   "metadata": {
    "ExecuteTime": {
     "end_time": "2024-03-11T15:46:58.868261Z",
     "start_time": "2024-03-11T15:46:58.863446Z"
    }
   },
   "outputs": [],
   "source": [
    "selected_features = top_10_features_by_mean_abs_summed_shap\n",
    "selected_features_with_shap_values_df = features_with_shap_values_df[features_with_shap_values_df.feature.isin(selected_features)]"
   ]
  },
  {
   "cell_type": "markdown",
   "metadata": {
    "collapsed": false
   },
   "source": [
    "Alternatively, features could also be selected before joining categories and pooling hourly values"
   ]
  },
  {
   "cell_type": "code",
   "execution_count": null,
   "metadata": {
    "ExecuteTime": {
     "end_time": "2024-03-11T15:46:58.881942Z",
     "start_time": "2024-03-11T15:46:58.870196Z"
    }
   },
   "outputs": [],
   "source": [
    "ten_most_important_features_by_mean_abs_shap = np.abs(shap_values[0]).mean(axis=(0, 1)).argsort()[::-1][0:10]\n",
    "np.array(features)[ten_most_important_features_by_mean_abs_shap]"
   ]
  },
  {
   "cell_type": "markdown",
   "metadata": {
    "collapsed": false
   },
   "source": [
    "## Create color palette for feature values"
   ]
  },
  {
   "cell_type": "code",
   "execution_count": null,
   "metadata": {
    "ExecuteTime": {
     "end_time": "2024-03-11T15:46:58.888774Z",
     "start_time": "2024-03-11T15:46:58.883144Z"
    }
   },
   "outputs": [],
   "source": [
    "\n",
    "all_colors_palette = sns.color_palette(['#f61067', '#049b9a', '#012D98', '#a76dfe'], n_colors=4)\n",
    "all_colors_palette"
   ]
  },
  {
   "cell_type": "code",
   "execution_count": null,
   "metadata": {
    "ExecuteTime": {
     "end_time": "2024-03-11T15:46:58.895268Z",
     "start_time": "2024-03-11T15:46:58.890303Z"
    }
   },
   "outputs": [],
   "source": [
    "base_colors = sns.color_palette(['#f61067', '#012D98'], n_colors=2)\n",
    "base_colors"
   ]
  },
  {
   "cell_type": "code",
   "execution_count": null,
   "metadata": {
    "ExecuteTime": {
     "end_time": "2024-03-11T15:46:59.058516Z",
     "start_time": "2024-03-11T15:46:58.897089Z"
    }
   },
   "outputs": [],
   "source": [
    "from prediction.utils.visualisation_helper_functions import hex_to_rgb_color, create_palette\n",
    "from colormath.color_objects import sRGBColor, HSVColor, LabColor, LCHuvColor, XYZColor, LCHabColor, LuvColor\n",
    "\n",
    "start_color = '#012D98'\n",
    "end_color = '#f61067'\n",
    "\n",
    "# start_color= '#049b9a'\n",
    "# end_color= '#012D98'\n",
    "\n",
    "number_of_colors = 50\n",
    "\n",
    "start_rgb = hex_to_rgb_color(start_color)\n",
    "end_rgb = hex_to_rgb_color(end_color)\n",
    "\n",
    "palette = create_palette(start_rgb, end_rgb, number_of_colors, LabColor, extrapolation_length=1)\n",
    "custom_cmap = sns.color_palette(palette, n_colors=number_of_colors, as_cmap=True)\n",
    "sns.color_palette(palette, n_colors=number_of_colors)"
   ]
  },
  {
   "cell_type": "markdown",
   "metadata": {
    "collapsed": false
   },
   "source": [
    "## Plot most important features with SHAP values\n",
    "\n",
    "Preqrequisites: pd.Dataframe with shap values and feature values for each feature, along with indexes for each case"
   ]
  },
  {
   "cell_type": "code",
   "execution_count": null,
   "metadata": {
    "ExecuteTime": {
     "end_time": "2024-03-11T15:46:59.422403Z",
     "start_time": "2024-03-11T15:46:59.059775Z"
    }
   },
   "outputs": [],
   "source": [
    "from matplotlib.colors import ListedColormap\n",
    "import matplotlib.lines as mlines\n",
    "from matplotlib.legend_handler import HandlerTuple\n",
    "import matplotlib.cm as cm\n",
    "\n",
    "\n",
    "plot_shap_direction_label = True\n",
    "plot_legend = True\n",
    "plot_colorbar = True\n",
    "plot_feature_value_along_y = False\n",
    "\n",
    "tick_label_size = 11\n",
    "label_font_size = 13\n",
    "\n",
    "row_height = 0.4\n",
    "alpha = 0.8\n",
    "\n",
    "plt.gcf().set_size_inches(10, 10)\n",
    "\n",
    "\n",
    "for pos, feature in enumerate(selected_features[::-1]):\n",
    "    shaps = selected_features_with_shap_values_df[selected_features_with_shap_values_df.feature.isin([feature])].shap_value.values\n",
    "    values = selected_features_with_shap_values_df[selected_features_with_shap_values_df.feature.isin([feature])].feature_value\n",
    "    plt.axhline(y=pos, color=\"#cccccc\", lw=0.5, dashes=(1, 5), zorder=-1)\n",
    "\n",
    "    values = np.array(values, dtype=np.float64)  # make sure this can be numeric\n",
    "\n",
    "    N = len(shaps)\n",
    "    nbins = 100\n",
    "    quant = np.round(nbins * (shaps - np.min(shaps)) / (np.max(shaps) - np.min(shaps) + 1e-8))\n",
    "    inds = np.argsort(quant + np.random.randn(N) * 1e-6)\n",
    "    layer = 0\n",
    "    last_bin = -1\n",
    "\n",
    "    if plot_feature_value_along_y:\n",
    "        ys = values.copy()\n",
    "        cluster_factor = 0.1\n",
    "        for ind in inds:\n",
    "            if quant[ind] != last_bin:\n",
    "                layer = 0\n",
    "            ys[ind] += cluster_factor * (np.ceil(layer / 2) * ((layer % 2) * 2 - 1))\n",
    "            layer += 1\n",
    "            last_bin = quant[ind]\n",
    "\n",
    "    else:\n",
    "        ys = np.zeros(N)\n",
    "        cluster_factor = 1\n",
    "        for ind in inds:\n",
    "            if quant[ind] != last_bin:\n",
    "                layer = 0\n",
    "            ys[ind] = cluster_factor * (np.ceil(layer / 2) * ((layer % 2) * 2 - 1))\n",
    "            layer += 1\n",
    "            last_bin = quant[ind]\n",
    "\n",
    "    ys *= 0.9 * (row_height / np.max(ys + 1))\n",
    "\n",
    "    # trim the color range, but prevent the color range from collapsing\n",
    "    vmin = np.nanpercentile(values, 5)\n",
    "    vmax = np.nanpercentile(values, 95)\n",
    "    if vmin == vmax:\n",
    "        vmin = np.nanpercentile(values, 1)\n",
    "        vmax = np.nanpercentile(values, 99)\n",
    "        if vmin == vmax:\n",
    "            vmin = np.min(values)\n",
    "            vmax = np.max(values)\n",
    "    if vmin > vmax: # fixes rare numerical precision issues\n",
    "        vmin = vmax\n",
    "\n",
    "    # plot the non-nan values colored by the trimmed feature value\n",
    "    cvals = values.astype(np.float64)\n",
    "    cvals_imp = cvals.copy()\n",
    "    cvals_imp[np.isnan(cvals)] = (vmin + vmax) / 2.0\n",
    "    cvals[cvals_imp > vmax] = vmax\n",
    "    cvals[cvals_imp < vmin] = vmin\n",
    "    plt.scatter(shaps, pos + ys,\n",
    "               cmap=ListedColormap(palette), vmin=vmin, vmax=vmax, s=16,\n",
    "               c=cvals, alpha=alpha, linewidth=0,\n",
    "               zorder=3, rasterized=len(shaps) > 500)\n",
    "\n",
    "\n",
    "import matplotlib.cm as cm\n",
    "\n",
    "axis_color=\"#333333\"\n",
    "if plot_colorbar:\n",
    "    m = cm.ScalarMappable(cmap=ListedColormap(palette))\n",
    "    m.set_array([0, 1])\n",
    "    cb = plt.colorbar(m, ticks=[0, 1], aspect=10, shrink=0.2)\n",
    "    cb.set_ticklabels(['Low', 'High'])\n",
    "    cb.ax.tick_params(labelsize=tick_label_size, length=0)\n",
    "    cb.set_label('Feature value', size=label_font_size)\n",
    "    cb.ax.yaxis.set_label_position('left')\n",
    "    cb.set_alpha(1)\n",
    "    cb.outline.set_visible(False)\n",
    "\n",
    "if plot_legend:\n",
    "    legend_markers = []\n",
    "    legend_labels = []\n",
    "    single_dot = mlines.Line2D([], [], color=palette[len(palette)//2], marker='.', linestyle='None',\n",
    "                          markersize=10)\n",
    "    single_dot_label = 'Single Patient\\n(summed over time)'\n",
    "    legend_markers.append(single_dot)\n",
    "    legend_labels.append(single_dot_label)\n",
    "\n",
    "    plt.gca().legend(legend_markers, legend_labels, title='SHAP/Feature values', fontsize=tick_label_size, title_fontsize=label_font_size,\n",
    "              handler_map={tuple: HandlerTuple(ndivide=None)},\n",
    "                     loc='upper left', frameon=True)\n",
    "\n",
    "\n",
    "plt.gca().xaxis.set_ticks_position('bottom')\n",
    "plt.gca().yaxis.set_ticks_position('none')\n",
    "plt.gca().spines['right'].set_visible(False)\n",
    "plt.gca().spines['top'].set_visible(False)\n",
    "plt.gca().spines['left'].set_visible(False)\n",
    "plt.gca().tick_params(color=axis_color, labelcolor=axis_color)\n",
    "\n",
    "yticklabels = selected_features[::-1]\n",
    "plt.yticks(range(len(selected_features_with_shap_values_df.feature.unique())), yticklabels, fontsize=label_font_size)\n",
    "plt.gca().tick_params('y', length=20, width=0.5, which='major')\n",
    "plt.gca().tick_params('x', labelsize=tick_label_size)\n",
    "plt.ylim(-1, len(selected_features_with_shap_values_df.feature.unique()))\n",
    "plt.xlabel('SHAP Value \\n(impact on model output)', fontsize=label_font_size)\n",
    "plt.grid(color='white', axis='y')\n",
    "\n",
    "# plt.xlim(-0.25, 0.15)\n",
    "\n",
    "# Plot additional explanation with the shap value X axis\n",
    "if plot_shap_direction_label:\n",
    "    x_ticks_coordinates = plt.xticks()[0]\n",
    "    x_ticks_labels = [item.get_text() for item in plt.xticks()[1]]\n",
    "    # let x tick label be the coordinate with 2 decimals\n",
    "\n",
    "    if outcome == '3M Death':\n",
    "        x_ticks_labels = [f'{x_ticks_coordinate:.0f}' for x_ticks_coordinate in x_ticks_coordinates]\n",
    "        x_ticks_labels[0] = f'Toward better\\noutcome'\n",
    "        x_ticks_labels[-1] = f'Toward worse\\noutcome'\n",
    "    else:\n",
    "        x_ticks_labels = [f'{x_ticks_coordinate:.1f}' for x_ticks_coordinate in x_ticks_coordinates]\n",
    "        x_ticks_labels[0] = f'Toward worse\\noutcome'\n",
    "        x_ticks_labels[-1] = f'Toward better\\noutcome'\n",
    "\n",
    "    plt.xticks(x_ticks_coordinates, x_ticks_labels)\n",
    "\n",
    "fig = plt.gcf()\n",
    "\n",
    "plt.show()\n"
   ]
  },
  {
   "cell_type": "code",
   "execution_count": null,
   "metadata": {
    "ExecuteTime": {
     "end_time": "2024-03-14T11:46:24.919132Z",
     "start_time": "2024-03-14T11:46:24.877088Z"
    }
   },
   "outputs": [],
   "source": [
    "from mpl_toolkits.axes_grid1 import make_axes_locatable\n",
    "from matplotlib.colors import ListedColormap\n",
    "import matplotlib.lines as mlines\n",
    "from matplotlib.legend_handler import HandlerTuple\n",
    "import matplotlib.cm as cm\n",
    "\n",
    "\n",
    "def plot_top_features_shap(selected_features_with_shap_values_df, selected_features,\n",
    "        ax,\n",
    "    plot_shap_direction_label = True,\n",
    "    plot_legend = True,\n",
    "    plot_colorbar = True,\n",
    "    plot_feature_value_along_y = False,\n",
    "    reverse_outcome_direction = False,   \n",
    "    tick_label_size = 11,\n",
    "    label_font_size = 13,\n",
    "    row_height = 0.4,\n",
    "    alpha = 0.8,\n",
    "    xlim:tuple = None\n",
    "    ):\n",
    "    \n",
    "    # Define the color palette\n",
    "    start_color = '#012D98'\n",
    "    end_color = '#f61067'\n",
    "    number_of_colors = 50\n",
    "    start_rgb = hex_to_rgb_color(start_color)\n",
    "    end_rgb = hex_to_rgb_color(end_color)\n",
    "    palette = create_palette(start_rgb, end_rgb, number_of_colors, LabColor, extrapolation_length=1)\n",
    "      \n",
    "    \n",
    "    for pos, feature in enumerate(selected_features[::-1]):\n",
    "        shaps = selected_features_with_shap_values_df[selected_features_with_shap_values_df.feature.isin([feature])].shap_value.values\n",
    "        values = selected_features_with_shap_values_df[selected_features_with_shap_values_df.feature.isin([feature])].feature_value\n",
    "        ax.axhline(y=pos, color=\"#cccccc\", lw=0.5, dashes=(1, 5), zorder=-1)\n",
    "    \n",
    "        values = np.array(values, dtype=np.float64)  # make sure this can be numeric\n",
    "    \n",
    "        N = len(shaps)\n",
    "        nbins = 100\n",
    "        quant = np.round(nbins * (shaps - np.min(shaps)) / (np.max(shaps) - np.min(shaps) + 1e-8))\n",
    "        inds = np.argsort(quant + np.random.randn(N) * 1e-6)\n",
    "        layer = 0\n",
    "        last_bin = -1\n",
    "    \n",
    "        if plot_feature_value_along_y:\n",
    "            ys = values.copy()\n",
    "            cluster_factor = 0.1\n",
    "            for ind in inds:\n",
    "                if quant[ind] != last_bin:\n",
    "                    layer = 0\n",
    "                ys[ind] += cluster_factor * (np.ceil(layer / 2) * ((layer % 2) * 2 - 1))\n",
    "                layer += 1\n",
    "                last_bin = quant[ind]\n",
    "    \n",
    "        else:\n",
    "            ys = np.zeros(N)\n",
    "            cluster_factor = 1\n",
    "            for ind in inds:\n",
    "                if quant[ind] != last_bin:\n",
    "                    layer = 0\n",
    "                ys[ind] = cluster_factor * (np.ceil(layer / 2) * ((layer % 2) * 2 - 1))\n",
    "                layer += 1\n",
    "                last_bin = quant[ind]\n",
    "    \n",
    "        ys *= 0.9 * (row_height / np.max(ys + 1))\n",
    "    \n",
    "        # trim the color range, but prevent the color range from collapsing\n",
    "        vmin = np.nanpercentile(values, 5)\n",
    "        vmax = np.nanpercentile(values, 95)\n",
    "        if vmin == vmax:\n",
    "            vmin = np.nanpercentile(values, 1)\n",
    "            vmax = np.nanpercentile(values, 99)\n",
    "            if vmin == vmax:\n",
    "                vmin = np.min(values)\n",
    "                vmax = np.max(values)\n",
    "        if vmin > vmax: # fixes rare numerical precision issues\n",
    "            vmin = vmax\n",
    "    \n",
    "        # plot the non-nan values colored by the trimmed feature value\n",
    "        cvals = values.astype(np.float64)\n",
    "        cvals_imp = cvals.copy()\n",
    "        cvals_imp[np.isnan(cvals)] = (vmin + vmax) / 2.0\n",
    "        cvals[cvals_imp > vmax] = vmax\n",
    "        cvals[cvals_imp < vmin] = vmin\n",
    "        ax.scatter(shaps, pos + ys,\n",
    "                   cmap=ListedColormap(palette), vmin=vmin, vmax=vmax, s=16,\n",
    "                   c=cvals, alpha=alpha, linewidth=0,\n",
    "                   zorder=3, rasterized=len(shaps) > 500)\n",
    "    \n",
    "    \n",
    "    \n",
    "    axis_color=\"#333333\"\n",
    "    if plot_colorbar:\n",
    "        m = cm.ScalarMappable(cmap=ListedColormap(palette))\n",
    "        m.set_array([0, 1])\n",
    "        \n",
    "        divider = make_axes_locatable(ax)\n",
    "        cax = divider.append_axes('right', size='5%', pad=0.5)\n",
    "\n",
    "        # get fig from ax\n",
    "        fig = ax.get_figure()\n",
    "        cb = fig.colorbar(m, ticks=[0, 1], aspect=10, shrink=0.2, ax=cax)\n",
    "        cb.set_ticklabels(['Low', 'High'], backgroundcolor=\"white\")\n",
    "        cb.ax.tick_params(labelsize=tick_label_size, length=0)\n",
    "        cb.set_label('Feature value', size=label_font_size, backgroundcolor=\"white\")\n",
    "        cb.ax.yaxis.set_label_position('left')\n",
    "        cb.set_alpha(1)\n",
    "        cb.outline.set_visible(False)\n",
    "        # turn off grid and spines on cax\n",
    "        cax.grid(False)\n",
    "        cax.spines['right'].set_visible(False)\n",
    "        cax.spines['top'].set_visible(False)\n",
    "        cax.spines['left'].set_visible(False)\n",
    "        cax.spines['bottom'].set_visible(False)\n",
    "        cax.set_xticks([])\n",
    "        cax.set_yticks([])\n",
    "\n",
    "    \n",
    "    if plot_legend:\n",
    "        legend_markers = []\n",
    "        legend_labels = []\n",
    "        single_dot = mlines.Line2D([], [], color=palette[len(palette)//2], marker='.', linestyle='None',\n",
    "                              markersize=10)\n",
    "        single_dot_label = 'Single Patient\\n(summed over time)'\n",
    "        legend_markers.append(single_dot)\n",
    "        legend_labels.append(single_dot_label)\n",
    "    \n",
    "        ax.legend(legend_markers, legend_labels, title='SHAP/Feature values', fontsize=tick_label_size, title_fontsize=label_font_size,\n",
    "                  handler_map={tuple: HandlerTuple(ndivide=None)},\n",
    "                         loc='upper left', frameon=True)\n",
    "    \n",
    "    \n",
    "    ax.xaxis.set_ticks_position('bottom')\n",
    "    ax.yaxis.set_ticks_position('none')\n",
    "    ax.spines['right'].set_visible(False)\n",
    "    ax.spines['top'].set_visible(False)\n",
    "    ax.spines['left'].set_visible(False)\n",
    "    ax.tick_params(color=axis_color, labelcolor=axis_color)\n",
    "    \n",
    "    yticklabels = selected_features[::-1]\n",
    "    ax.set_yticks(range(len(selected_features_with_shap_values_df.feature.unique())))\n",
    "    ax.set_yticklabels(yticklabels, fontsize=label_font_size)\n",
    "    ax.tick_params('y', length=20, width=0.5, which='major')\n",
    "    ax.tick_params('x', labelsize=tick_label_size)\n",
    "    ax.set_ylim(-1, len(selected_features_with_shap_values_df.feature.unique()))\n",
    "    ax.set_xlabel('SHAP Value \\n(impact on model output)', fontsize=label_font_size)\n",
    "    ax.grid(color='white', axis='y')\n",
    "    \n",
    "    if xlim:\n",
    "        ax.set_xlim(xlim[0], xlim[1])\n",
    "    \n",
    "    # Plot additional explanation with the shap value X axis\n",
    "    if plot_shap_direction_label:\n",
    "        x_ticks_coordinates = ax.get_xticks()\n",
    "        x_ticks_labels = [item.get_text() for item in ax.get_xticklabels()]\n",
    "        # let x tick label be the coordinate with 2 decimals\n",
    "    \n",
    "        if reverse_outcome_direction:\n",
    "            x_ticks_labels = [f'{x_ticks_coordinate:.1f}' for x_ticks_coordinate in x_ticks_coordinates]\n",
    "            x_ticks_labels[0] = f'Toward better\\noutcome'\n",
    "            x_ticks_labels[-1] = f'Toward worse\\noutcome'\n",
    "        else:\n",
    "            x_ticks_labels = [f'{x_ticks_coordinate:.1f}' for x_ticks_coordinate in x_ticks_coordinates]\n",
    "            x_ticks_labels[0] = f'Toward worse\\noutcome'\n",
    "            x_ticks_labels[-1] = f'Toward better\\noutcome'\n",
    "    \n",
    "        ax.set_xticks(x_ticks_coordinates)\n",
    "        ax.set_xticklabels(x_ticks_labels)\n",
    "    \n",
    "    return ax"
   ]
  },
  {
   "cell_type": "code",
   "execution_count": null,
   "metadata": {
    "ExecuteTime": {
     "end_time": "2024-03-14T11:46:26.653799Z",
     "start_time": "2024-03-14T11:46:25.831664Z"
    }
   },
   "outputs": [],
   "source": [
    "fig, ax = plt.subplots(figsize=(10, 10))\n",
    "\n",
    "reverse_outcome_direction = False\n",
    "if outcome in ['3M Death', 'Death in hospital']:\n",
    "    reverse_outcome_direction = True\n",
    "plot_top_features_shap(\n",
    "    selected_features_with_shap_values_df, selected_features,\n",
    "        ax,\n",
    "    reverse_outcome_direction=reverse_outcome_direction,\n",
    "    xlim=(-1.5, 1.5)\n",
    "    )"
   ]
  },
  {
   "cell_type": "code",
   "execution_count": null,
   "metadata": {
    "ExecuteTime": {
     "end_time": "2024-03-14T04:23:22.809426Z",
     "start_time": "2024-03-14T04:23:04.410953Z"
    }
   },
   "outputs": [],
   "source": [
    "# fig.savefig(os.path.join(output_dir, f'top_features_captum_shap_{outcome}.svg'), bbox_inches=\"tight\", format='svg', dpi=1200)"
   ]
  },
  {
   "cell_type": "code",
   "execution_count": null,
   "metadata": {
    "ExecuteTime": {
     "end_time": "2024-03-11T15:46:59.898997Z",
     "start_time": "2024-03-11T15:46:59.896263Z"
    }
   },
   "outputs": [],
   "source": [
    "save_plot_data = False"
   ]
  },
  {
   "cell_type": "code",
   "execution_count": null,
   "metadata": {
    "ExecuteTime": {
     "end_time": "2024-03-11T15:46:59.906274Z",
     "start_time": "2024-03-11T15:46:59.900175Z"
    }
   },
   "outputs": [],
   "source": [
    "if save_plot_data:\n",
    "    with open(os.path.join('/Users/jk1/Downloads', f'{outcome.replace(\" \", \"_\")}_top_shap_features_figure_data.pkl'), 'wb') as f:\n",
    "        pickle.dump((selected_features_with_shap_values_df, selected_features), f)"
   ]
  },
  {
   "cell_type": "code",
   "execution_count": null,
   "metadata": {
    "ExecuteTime": {
     "end_time": "2024-03-11T15:46:59.909654Z",
     "start_time": "2024-03-11T15:46:59.907828Z"
    }
   },
   "outputs": [],
   "source": []
  }
 ],
 "metadata": {
  "kernelspec": {
   "display_name": "Python 3",
   "language": "python",
   "name": "python3"
  },
  "language_info": {
   "codemirror_mode": {
    "name": "ipython",
    "version": 2
   },
   "file_extension": ".py",
   "mimetype": "text/x-python",
   "name": "python",
   "nbconvert_exporter": "python",
   "pygments_lexer": "ipython2",
   "version": "2.7.6"
  }
 },
 "nbformat": 4,
 "nbformat_minor": 0
}
