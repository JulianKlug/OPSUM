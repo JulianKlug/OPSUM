{
 "cells": [
  {
   "cell_type": "code",
   "execution_count": null,
   "metadata": {},
   "outputs": [],
   "source": [
    "import shap\n",
    "import numpy as np\n",
    "import pandas as pd\n",
    "import os\n",
    "import pickle\n",
    "from prediction.outcome_prediction.LSTM.testing.shap_helper_functions import check_shap_version_compatibility\n",
    "import seaborn as sns\n",
    "import matplotlib.pyplot as plt"
   ]
  },
  {
   "cell_type": "markdown",
   "metadata": {
    "collapsed": false
   },
   "source": [
    "Requirements:\n",
    "- TensorFlow 1.14\n",
    "- Python 3.7\n",
    "- Protobuf downgrade to 3.20: `pip install protobuf==3.20`\n",
    "- downgrade h5py to 2.10: `pip install h5py==2.10`\n",
    "- turn off masking in LSTM"
   ]
  },
  {
   "cell_type": "code",
   "execution_count": null,
   "metadata": {},
   "outputs": [],
   "source": [
    "# Shap values require very specific versions\n",
    "check_shap_version_compatibility()"
   ]
  },
  {
   "cell_type": "code",
   "execution_count": null,
   "metadata": {},
   "outputs": [],
   "source": [
    "# print the JS visualization code to the notebook\n",
    "shap.initjs()"
   ]
  },
  {
   "cell_type": "code",
   "execution_count": null,
   "metadata": {},
   "outputs": [],
   "source": [
    "test_features_lookup_table_path = ''\n",
    "shap_values_path = ''"
   ]
  },
  {
   "cell_type": "code",
   "execution_count": null,
   "metadata": {},
   "outputs": [],
   "source": [
    "output_dir = '/Users/jk1/Downloads'"
   ]
  },
  {
   "cell_type": "code",
   "execution_count": null,
   "metadata": {},
   "outputs": [],
   "source": [
    "outcome = '3M mRS 0-2'\n",
    "seed = 42\n",
    "test_size = 0.2\n",
    "n_splits = 5"
   ]
  },
  {
   "cell_type": "code",
   "execution_count": null,
   "metadata": {},
   "outputs": [],
   "source": [
    "# load the test features lookup table json\n",
    "with open(test_features_lookup_table_path, 'rb') as handle:\n",
    "    test_features_lookup_table = pickle.load(handle)"
   ]
  },
  {
   "cell_type": "code",
   "execution_count": null,
   "metadata": {},
   "outputs": [],
   "source": [
    "# load the shap values\n",
    "with open(os.path.join('/Users/jk1/Downloads', 'temp_shap_values.pkl'),\n",
    "          'rb') as handle:\n",
    "    shap_values = pickle.load(handle)"
   ]
  },
  {
   "cell_type": "code",
   "execution_count": null,
   "metadata": {},
   "outputs": [],
   "source": [
    "features = list(test_features_lookup_table['sample_label'].keys())"
   ]
  },
  {
   "cell_type": "code",
   "execution_count": null,
   "metadata": {},
   "outputs": [],
   "source": [
    "shap_values[0].shape"
   ]
  },
  {
   "cell_type": "code",
   "execution_count": null,
   "metadata": {},
   "outputs": [],
   "source": [
    "from tqdm import tqdm\n",
    "\n",
    "shap_values_df = pd.DataFrame()\n",
    "for subj_idx in tqdm(range(shap_values[0].shape[0])):\n",
    "    subj_df = pd.DataFrame(shap_values[0][subj_idx])\n",
    "    subj_df.reset_index(inplace=True)\n",
    "    subj_df.rename(columns={'index': 'timestep'}, inplace=True)\n",
    "    subj_df['subj_idx'] = subj_idx\n",
    "    shap_values_df = shap_values_df.append(subj_df, ignore_index=True)\n"
   ]
  },
  {
   "cell_type": "code",
   "execution_count": null,
   "metadata": {},
   "outputs": [],
   "source": [
    "shap_values_df = shap_values_df.melt(id_vars=['subj_idx', 'timestep'], var_name='feature_idx', value_name='shap_value')"
   ]
  },
  {
   "cell_type": "markdown",
   "metadata": {
    "collapsed": false
   },
   "source": [
    "# Palette Creation\n",
    "Create color palette for feature values"
   ]
  },
  {
   "cell_type": "code",
   "execution_count": null,
   "metadata": {},
   "outputs": [],
   "source": [
    "\n",
    "all_colors_palette = sns.color_palette(['#f61067', '#049b9a', '#012D98', '#a76dfe'], n_colors=4)\n",
    "all_colors_palette"
   ]
  },
  {
   "cell_type": "code",
   "execution_count": null,
   "metadata": {},
   "outputs": [],
   "source": [
    "base_colors = sns.color_palette(['#f61067', '#012D98'], n_colors=2)\n",
    "base_colors"
   ]
  },
  {
   "cell_type": "code",
   "execution_count": null,
   "metadata": {},
   "outputs": [],
   "source": [
    "from prediction.utils.visualisation_helper_functions import hex_to_rgb_color, create_palette\n",
    "from colormath.color_objects import sRGBColor, HSVColor, LabColor, LCHuvColor, XYZColor, LCHabColor, LuvColor\n",
    "\n",
    "# start_color = '#012D98'\n",
    "# end_color = '#f61067'\n",
    "\n",
    "start_color= '#049b9a'\n",
    "end_color= '#012D98'\n",
    "\n",
    "number_of_colors = 32400\n",
    "\n",
    "start_rgb = hex_to_rgb_color(start_color)\n",
    "end_rgb = hex_to_rgb_color(end_color)\n",
    "\n",
    "palette = create_palette(start_rgb, end_rgb, number_of_colors, LabColor, extrapolation_length=1)\n",
    "custom_cmap = sns.color_palette(palette, n_colors=number_of_colors, as_cmap=True)\n",
    "sns.color_palette(palette, n_colors=number_of_colors)"
   ]
  },
  {
   "cell_type": "markdown",
   "metadata": {
    "collapsed": false
   },
   "source": [
    "# Time importance\n",
    "Find most important timepoints"
   ]
  },
  {
   "cell_type": "markdown",
   "metadata": {
    "collapsed": false
   },
   "source": [
    "### Summed absolute SHAP features along time"
   ]
  },
  {
   "cell_type": "code",
   "execution_count": null,
   "metadata": {},
   "outputs": [],
   "source": [
    "summed_shap_along_features = np.abs(shap_values[0]).sum(axis=-1)"
   ]
  },
  {
   "cell_type": "code",
   "execution_count": null,
   "metadata": {},
   "outputs": [],
   "source": [
    "from matplotlib.colors import ListedColormap\n",
    "import matplotlib.cm as cm\n",
    "import matplotlib.patches as mpatches\n",
    "import matplotlib.lines as mlines\n",
    "from matplotlib.legend_handler import HandlerTuple\n",
    "\n",
    "plot_legend = True\n",
    "plot_colorbar = True\n",
    "plot_median = True\n",
    "\n",
    "tick_label_size = 11\n",
    "label_font_size = 13\n",
    "\n",
    "custom_params = {\"axes.spines.right\": False, \"axes.spines.top\": False, 'figure.figsize':(10,10)}\n",
    "sns.set_theme(style=\"whitegrid\", rc=custom_params, context=\"paper\", font_scale = 1)\n",
    "\n",
    "\n",
    "ax = sns.scatterplot(x=np.tile(np.arange(0,72), 451) + (np.random.rand(32472) / 1), y=summed_shap_along_features.flatten(),\n",
    "                     hue=np.log(summed_shap_along_features.flatten()),\n",
    "                     alpha=0.05, legend=False, palette=palette)\n",
    "\n",
    "if plot_median:\n",
    "    # plot median summed shap value on top\n",
    "    median_color = '#f61067'\n",
    "    ax = sns.lineplot(x=np.arange(0,72), y=np.median(summed_shap_along_features, axis=0), ax=ax,\n",
    "                      color=median_color, markers='.', lw=2, alpha=0.9)\n",
    "\n",
    "ax.set(yscale=\"log\")\n",
    "\n",
    "ax.set_xlabel('Time from admission (hours)', fontsize=label_font_size)\n",
    "ax.set_ylabel('Sum of absolute SHAP values', fontsize=label_font_size)\n",
    "ax.tick_params('x', labelsize=tick_label_size)\n",
    "ax.tick_params('y', labelsize=tick_label_size)\n",
    "\n",
    "if plot_colorbar:\n",
    "    m = cm.ScalarMappable(cmap=ListedColormap(palette))\n",
    "    m.set_array([0, 1])\n",
    "    cb = plt.colorbar(m, ticks=[0, 1], aspect=10, shrink=0.2)\n",
    "    cb.set_ticklabels(['Small impact on \\nmodel output', 'Large impact on \\nmodel output'])\n",
    "    cb.ax.tick_params(labelsize=tick_label_size, length=0)\n",
    "    cb.set_label('SHAP values', size=label_font_size)\n",
    "    cb.ax.yaxis.set_label_position('left')\n",
    "    cb.set_alpha(1)\n",
    "    cb.outline.set_visible(False)\n",
    "\n",
    "if plot_legend:\n",
    "    legend_markers = []\n",
    "    legend_labels = []\n",
    "    single_dot = mlines.Line2D([], [], color=palette[len(palette)//2], marker='.', linestyle='None',\n",
    "                          markersize=10)\n",
    "    single_dot_label = 'Single patient at timepoint t'\n",
    "    legend_markers.append(single_dot)\n",
    "    legend_labels.append(single_dot_label)\n",
    "\n",
    "    if plot_median:\n",
    "        median_line = mlines.Line2D([], [], color=median_color, linestyle='-')\n",
    "        median_line_label = 'Median'\n",
    "        legend_markers.append(median_line)\n",
    "        legend_labels.append(median_line_label)\n",
    "\n",
    "    ax.legend(legend_markers, legend_labels, title='Summed absolute SHAP', fontsize=tick_label_size, title_fontsize=label_font_size,\n",
    "              handler_map={tuple: HandlerTuple(ndivide=None)})\n",
    "\n",
    "fig = ax.get_figure()\n",
    "\n",
    "plt.show()"
   ]
  },
  {
   "cell_type": "code",
   "execution_count": null,
   "metadata": {},
   "outputs": [],
   "source": [
    "fig.savefig(os.path.join(output_dir, f'shap_vs_time_{outcome.replace(\" \", \"_\")}.svg'), bbox_inches=\"tight\", format='svg', dpi=1200)\n"
   ]
  },
  {
   "cell_type": "markdown",
   "metadata": {
    "collapsed": false
   },
   "source": [
    "### Plotting all shap values"
   ]
  },
  {
   "cell_type": "code",
   "execution_count": null,
   "metadata": {},
   "outputs": [],
   "source": [
    "ax = sns.scatterplot(data=shap_values_df, x='timestep', y='shap_value')\n",
    "ax.set(yscale=\"symlog\")"
   ]
  },
  {
   "cell_type": "code",
   "execution_count": null,
   "metadata": {},
   "outputs": [],
   "source": [
    "ax = sns.scatterplot(data=shap_values_df, x='timestep', y='shap_value')\n"
   ]
  },
  {
   "cell_type": "code",
   "execution_count": null,
   "metadata": {},
   "outputs": [],
   "source": []
  }
 ],
 "metadata": {
  "kernelspec": {
   "display_name": "Python 3",
   "language": "python",
   "name": "python3"
  },
  "language_info": {
   "codemirror_mode": {
    "name": "ipython",
    "version": 2
   },
   "file_extension": ".py",
   "mimetype": "text/x-python",
   "name": "python",
   "nbconvert_exporter": "python",
   "pygments_lexer": "ipython2",
   "version": "2.7.6"
  }
 },
 "nbformat": 4,
 "nbformat_minor": 0
}
