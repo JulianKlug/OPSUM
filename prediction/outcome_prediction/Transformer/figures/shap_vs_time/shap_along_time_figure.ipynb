{
 "cells": [
  {
   "cell_type": "code",
   "execution_count": null,
   "metadata": {
    "ExecuteTime": {
     "end_time": "2023-06-27T19:57:58.082867Z",
     "start_time": "2023-06-27T19:57:57.758152Z"
    }
   },
   "outputs": [],
   "source": [
    "import shap\n",
    "import numpy as np\n",
    "import pandas as pd\n",
    "import os\n",
    "import json\n",
    "import pickle\n",
    "import seaborn as sns\n",
    "import matplotlib.pyplot as plt\n",
    "from prediction.utils.shap_helper_functions import check_shap_version_compatibility"
   ]
  },
  {
   "cell_type": "markdown",
   "metadata": {
    "collapsed": false
   },
   "source": [
    "Requirements:\n",
    "- TensorFlow 1.14\n",
    "- Python 3.7\n",
    "- Protobuf downgrade to 3.20: `pip install protobuf==3.20`\n",
    "- downgrade h5py to 2.10: `pip install h5py==2.10`\n",
    "- turn off masking in LSTM"
   ]
  },
  {
   "cell_type": "code",
   "execution_count": null,
   "metadata": {
    "ExecuteTime": {
     "end_time": "2023-06-27T19:57:58.693278Z",
     "start_time": "2023-06-27T19:57:57.798006Z"
    }
   },
   "outputs": [],
   "source": [
    "# Shap values require very specific versions\n",
    "check_shap_version_compatibility()"
   ]
  },
  {
   "cell_type": "code",
   "execution_count": null,
   "metadata": {
    "ExecuteTime": {
     "end_time": "2023-06-27T19:57:58.733851Z",
     "start_time": "2023-06-27T19:57:57.808164Z"
    }
   },
   "outputs": [],
   "source": [
    "# print the JS visualization code to the notebook\n",
    "shap.initjs()"
   ]
  },
  {
   "cell_type": "code",
   "execution_count": null,
   "metadata": {
    "ExecuteTime": {
     "end_time": "2023-06-27T19:57:58.735420Z",
     "start_time": "2023-06-27T19:57:57.851763Z"
    }
   },
   "outputs": [],
   "source": [
    "mrs02_test_features_lookup_table_path = '/Users/jk1/temp/opsum_prediction_output/transformer/3M_mrs02/transformer_20230402_184459_test_set_evaluation/test_lookup_dict.json'\n",
    "mrs02_shap_values_path = '/Users/jk1/temp/opsum_prediction_output/transformer/3M_mrs02/transformer_20230402_184459_test_set_evaluation/explanability/transformer_explainer_shap_values_over_ts_3m_mrs02_captum_n1449_all_72_cv2.pkl'\n",
    "\n",
    "death_test_features_lookup_table_path = '/Users/jk1/temp/opsum_prediction_output/transformer/3M_Death/testing/test_lookup_dict.json'\n",
    "death_shap_values_path = '/Users/jk1/temp/opsum_prediction_output/transformer/3M_Death/testing/transformer_explainer_shap_values_over_ts_death_captum_n1431_all_ts_cv1.pkl'"
   ]
  },
  {
   "cell_type": "code",
   "execution_count": null,
   "metadata": {
    "ExecuteTime": {
     "end_time": "2023-06-27T19:57:58.735699Z",
     "start_time": "2023-06-27T19:57:57.860964Z"
    }
   },
   "outputs": [],
   "source": [
    "output_dir = '/Users/jk1/Downloads'"
   ]
  },
  {
   "cell_type": "code",
   "execution_count": null,
   "metadata": {
    "ExecuteTime": {
     "end_time": "2023-06-27T19:57:58.735977Z",
     "start_time": "2023-06-27T19:57:57.867277Z"
    }
   },
   "outputs": [],
   "source": [
    "outcome = '3M Death'\n",
    "seed = 42\n",
    "test_size = 0.2\n",
    "n_splits = 5"
   ]
  },
  {
   "cell_type": "code",
   "execution_count": null,
   "metadata": {
    "ExecuteTime": {
     "end_time": "2023-06-27T19:58:00.094962Z",
     "start_time": "2023-06-27T19:57:57.872371Z"
    }
   },
   "outputs": [],
   "source": [
    "if outcome == '3M mrs02':\n",
    "    # load the test features lookup table from json as dict\n",
    "    test_features_lookup_table = json.load(open(mrs02_test_features_lookup_table_path))\n",
    "    # load the shap values\n",
    "    with open(mrs02_shap_values_path,\n",
    "              'rb') as handle:\n",
    "        original_shap_values = pickle.load(handle)\n",
    "elif outcome == '3M Death':\n",
    "    # load the test features lookup table from json as dict\n",
    "    test_features_lookup_table = json.load(open(death_test_features_lookup_table_path))\n",
    "    # load the shap values\n",
    "    with open(death_shap_values_path,\n",
    "              'rb') as handle:\n",
    "        original_shap_values = pickle.load(handle)\n",
    "else:\n",
    "    raise ValueError('Outcome not supported')"
   ]
  },
  {
   "cell_type": "code",
   "execution_count": null,
   "metadata": {
    "ExecuteTime": {
     "end_time": "2023-06-27T19:58:00.104977Z",
     "start_time": "2023-06-27T19:58:00.099600Z"
    }
   },
   "outputs": [],
   "source": [
    "only_last_timestep = True\n",
    "if only_last_timestep:\n",
    "    # use predictions from last timestep (as it also produces output for other timesteps)\n",
    "    shap_values = [original_shap_values[-1]]\n",
    "\n",
    "else:\n",
    "    shap_values = [np.array([original_shap_values[i][:, -1, :] for i in range(len(original_shap_values))]).swapaxes(0, 1)]"
   ]
  },
  {
   "cell_type": "code",
   "execution_count": null,
   "metadata": {
    "ExecuteTime": {
     "end_time": "2023-06-27T19:58:00.143329Z",
     "start_time": "2023-06-27T19:58:00.108531Z"
    }
   },
   "outputs": [],
   "source": [
    "features = list(test_features_lookup_table['sample_label'].keys())"
   ]
  },
  {
   "cell_type": "code",
   "execution_count": null,
   "metadata": {
    "ExecuteTime": {
     "end_time": "2023-06-27T19:58:00.144018Z",
     "start_time": "2023-06-27T19:58:00.124599Z"
    }
   },
   "outputs": [],
   "source": [
    "shap_values[0].shape"
   ]
  },
  {
   "cell_type": "code",
   "execution_count": null,
   "metadata": {
    "ExecuteTime": {
     "end_time": "2023-06-27T19:58:00.160Z",
     "start_time": "2023-06-27T19:58:00.145507Z"
    }
   },
   "outputs": [],
   "source": [
    "n_subj = shap_values[0].shape[0]\n",
    "n_timesteps = shap_values[0].shape[1]"
   ]
  },
  {
   "cell_type": "code",
   "execution_count": null,
   "metadata": {
    "ExecuteTime": {
     "end_time": "2023-06-27T19:58:04.823076Z",
     "start_time": "2023-06-27T19:58:00.163558Z"
    }
   },
   "outputs": [],
   "source": [
    "from tqdm import tqdm\n",
    "\n",
    "shap_values_df = pd.DataFrame()\n",
    "for subj_idx in tqdm(range(shap_values[0].shape[0])):\n",
    "    subj_df = pd.DataFrame(shap_values[0][subj_idx])\n",
    "    subj_df.reset_index(inplace=True)\n",
    "    subj_df.rename(columns={'index': 'timestep'}, inplace=True)\n",
    "    subj_df['subj_idx'] = subj_idx\n",
    "    shap_values_df = shap_values_df.append(subj_df, ignore_index=True)\n"
   ]
  },
  {
   "cell_type": "code",
   "execution_count": null,
   "metadata": {
    "ExecuteTime": {
     "end_time": "2023-06-27T19:58:05.057599Z",
     "start_time": "2023-06-27T19:58:04.825638Z"
    }
   },
   "outputs": [],
   "source": [
    "shap_values_df = shap_values_df.melt(id_vars=['subj_idx', 'timestep'], var_name='feature_idx', value_name='shap_value')"
   ]
  },
  {
   "cell_type": "markdown",
   "metadata": {
    "collapsed": false
   },
   "source": [
    "# Palette Creation\n",
    "Create color palette for feature values"
   ]
  },
  {
   "cell_type": "code",
   "execution_count": null,
   "metadata": {
    "ExecuteTime": {
     "end_time": "2023-06-27T19:58:05.077645Z",
     "start_time": "2023-06-27T19:58:05.062433Z"
    }
   },
   "outputs": [],
   "source": [
    "\n",
    "all_colors_palette = sns.color_palette(['#f61067', '#049b9a', '#012D98', '#a76dfe'], n_colors=4)\n",
    "all_colors_palette"
   ]
  },
  {
   "cell_type": "code",
   "execution_count": null,
   "metadata": {
    "ExecuteTime": {
     "end_time": "2023-06-27T19:58:05.110985Z",
     "start_time": "2023-06-27T19:58:05.083939Z"
    }
   },
   "outputs": [],
   "source": [
    "base_colors = sns.color_palette(['#f61067', '#012D98'], n_colors=2)\n",
    "base_colors"
   ]
  },
  {
   "cell_type": "code",
   "execution_count": null,
   "metadata": {
    "ExecuteTime": {
     "end_time": "2023-06-27T19:58:20.404059Z",
     "start_time": "2023-06-27T19:58:05.101466Z"
    }
   },
   "outputs": [],
   "source": [
    "from prediction.utils.visualisation_helper_functions import hex_to_rgb_color, create_palette\n",
    "from colormath.color_objects import sRGBColor, HSVColor, LabColor, LCHuvColor, XYZColor, LCHabColor, LuvColor\n",
    "\n",
    "# start_color = '#012D98'\n",
    "# end_color = '#f61067'\n",
    "\n",
    "start_color= '#049b9a'\n",
    "end_color= '#012D98'\n",
    "\n",
    "number_of_colors = n_timesteps * n_subj\n",
    "\n",
    "start_rgb = hex_to_rgb_color(start_color)\n",
    "end_rgb = hex_to_rgb_color(end_color)\n",
    "\n",
    "palette = create_palette(start_rgb, end_rgb, number_of_colors, LabColor, extrapolation_length=1)\n",
    "custom_cmap = sns.color_palette(palette, n_colors=number_of_colors, as_cmap=True)\n",
    "sns.color_palette(palette, n_colors=number_of_colors)"
   ]
  },
  {
   "cell_type": "markdown",
   "metadata": {
    "collapsed": false
   },
   "source": [
    "# Time importance\n",
    "Find most important timepoints"
   ]
  },
  {
   "cell_type": "markdown",
   "metadata": {
    "collapsed": false
   },
   "source": [
    "### Summed absolute SHAP features along time"
   ]
  },
  {
   "cell_type": "code",
   "execution_count": null,
   "metadata": {
    "ExecuteTime": {
     "end_time": "2023-06-27T19:58:20.405368Z",
     "start_time": "2023-06-27T19:58:19.923396Z"
    }
   },
   "outputs": [],
   "source": [
    "summed_shap_along_features = np.abs(shap_values[0]).sum(axis=-1)"
   ]
  },
  {
   "cell_type": "code",
   "execution_count": null,
   "metadata": {
    "ExecuteTime": {
     "end_time": "2023-06-27T19:58:23.746452Z",
     "start_time": "2023-06-27T19:58:23.655577Z"
    }
   },
   "outputs": [],
   "source": [
    "from matplotlib.colors import ListedColormap\n",
    "import matplotlib.cm as cm\n",
    "from mpl_toolkits.axes_grid1 import make_axes_locatable\n",
    "import matplotlib.lines as mlines\n",
    "from matplotlib.legend_handler import HandlerTuple\n",
    "from prediction.utils.visualisation_helper_functions import hex_to_rgb_color, create_palette\n",
    "from colormath.color_objects import LabColor\n",
    "\n",
    "\n",
    "def plot_shap_along_time(summed_shap_along_features, n_timesteps, n_subj,\n",
    "        ax,\n",
    "    plot_legend = True,\n",
    "    plot_colorbar = True,\n",
    "    plot_median = True,\n",
    "    tick_label_size = 11,\n",
    "    label_font_size = 13,\n",
    "                         alpha=0.9\n",
    "    ):\n",
    "\n",
    "    # create palette\n",
    "    start_color= '#049b9a'\n",
    "    end_color= '#012D98'\n",
    "    number_of_colors = n_timesteps * n_subj\n",
    "    start_rgb = hex_to_rgb_color(start_color)\n",
    "    end_rgb = hex_to_rgb_color(end_color)    \n",
    "    palette = create_palette(start_rgb, end_rgb, number_of_colors, LabColor, extrapolation_length=1)\n",
    "\n",
    "    ax = sns.scatterplot(x=np.tile(np.arange(0, n_timesteps), n_subj) + (np.random.rand(n_subj * n_timesteps) / 1), y=summed_shap_along_features.flatten(),\n",
    "                         hue=np.log(summed_shap_along_features.flatten()), ax=ax,\n",
    "                         alpha=0.05, legend=False, palette=palette)\n",
    "    \n",
    "    if plot_median:\n",
    "        # plot median summed shap value on top\n",
    "        median_color = '#f61067'\n",
    "        ax = sns.lineplot(x=np.arange(0, n_timesteps), y=np.median(summed_shap_along_features, axis=0), ax=ax,\n",
    "                          color=median_color, markers='.', lw=2, alpha=alpha)\n",
    "    \n",
    "    ax.set(yscale=\"log\")\n",
    "    \n",
    "    ax.set_xlabel('Time from admission (hours)', fontsize=label_font_size)\n",
    "    ax.set_ylabel('Sum of absolute SHAP values', fontsize=label_font_size)\n",
    "    ax.tick_params('x', labelsize=tick_label_size)\n",
    "    ax.tick_params('y', labelsize=tick_label_size)\n",
    "    \n",
    "    if plot_colorbar:\n",
    "        m = cm.ScalarMappable(cmap=ListedColormap(palette))\n",
    "        m.set_array([0, 1])\n",
    "        divider = make_axes_locatable(ax)\n",
    "        cax = divider.append_axes('right', size='5%', pad=1.2)\n",
    "\n",
    "        # get fig from ax\n",
    "        fig = ax.get_figure()\n",
    "        \n",
    "        cb = fig.colorbar(m, ticks=[0, 1], aspect=10, shrink=0.2, ax=cax)\n",
    "        cb.set_ticklabels(['Small impact on \\nmodel output', 'Large impact on \\nmodel output'])\n",
    "        cb.ax.tick_params(labelsize=tick_label_size, length=0)\n",
    "        cb.set_label('SHAP values', size=label_font_size)\n",
    "        cb.ax.yaxis.set_label_position('left')\n",
    "        cb.set_alpha(1)\n",
    "        cb.outline.set_visible(False)\n",
    "        # turn off grid and spines on cax\n",
    "        cax.grid(False)\n",
    "        cax.spines['right'].set_visible(False)\n",
    "        cax.spines['top'].set_visible(False)\n",
    "        cax.spines['left'].set_visible(False)\n",
    "        cax.spines['bottom'].set_visible(False)\n",
    "        cax.set_xticks([])\n",
    "        cax.set_yticks([])\n",
    "    \n",
    "    if plot_legend:\n",
    "        legend_markers = []\n",
    "        legend_labels = []\n",
    "        single_dot = mlines.Line2D([], [], color=palette[len(palette)//2], marker='.', linestyle='None',\n",
    "                              markersize=10)\n",
    "        single_dot_label = 'Single patient at timepoint t'\n",
    "        legend_markers.append(single_dot)\n",
    "        legend_labels.append(single_dot_label)\n",
    "    \n",
    "        if plot_median:\n",
    "            median_line = mlines.Line2D([], [], color=median_color, linestyle='-')\n",
    "            median_line_label = 'Median'\n",
    "            legend_markers.append(median_line)\n",
    "            legend_labels.append(median_line_label)\n",
    "    \n",
    "        ax.legend(legend_markers, legend_labels, title='Summed absolute SHAP', fontsize=tick_label_size, title_fontsize=label_font_size,\n",
    "                  handler_map={tuple: HandlerTuple(ndivide=None)})\n",
    "        \n",
    "    return ax"
   ]
  },
  {
   "cell_type": "code",
   "execution_count": null,
   "metadata": {
    "ExecuteTime": {
     "end_time": "2023-06-27T19:58:40.276051Z",
     "start_time": "2023-06-27T19:58:23.680533Z"
    }
   },
   "outputs": [],
   "source": [
    "custom_params = {\"axes.spines.right\": False, \"axes.spines.top\": False, 'figure.figsize':(10,10)}\n",
    "sns.set_theme(style=\"whitegrid\", rc=custom_params, context=\"paper\", font_scale = 1)\n",
    "\n",
    "fig, ax = plt.subplots()\n",
    "\n",
    "plot_shap_along_time(summed_shap_along_features, n_timesteps, n_subj, ax, plot_legend=True, plot_colorbar=True, plot_median=True)\n",
    "    "
   ]
  },
  {
   "cell_type": "code",
   "execution_count": null,
   "metadata": {
    "ExecuteTime": {
     "end_time": "2023-06-27T19:58:40.281936Z",
     "start_time": "2023-06-27T19:58:40.274511Z"
    }
   },
   "outputs": [],
   "source": [
    "# fig.savefig(os.path.join(output_dir, f'shap_vs_time_{outcome.replace(\" \", \"_\")}.svg'), bbox_inches=\"tight\", format='svg', dpi=1200)\n"
   ]
  },
  {
   "cell_type": "code",
   "execution_count": null,
   "metadata": {
    "ExecuteTime": {
     "end_time": "2023-06-27T20:04:53.089731Z",
     "start_time": "2023-06-27T20:04:53.023823Z"
    }
   },
   "outputs": [],
   "source": [
    "if save_plot_data:\n",
    "    with open(os.path.join('/Users/jk1/Downloads', f'{outcome.replace(\" \", \"_\")}_shap_along_time_figure_data.pkl'), 'wb') as f:\n",
    "        pickle.dump((summed_shap_along_features, n_timesteps, n_subj), f)"
   ]
  },
  {
   "cell_type": "markdown",
   "metadata": {
    "collapsed": false
   },
   "source": [
    "### Plotting all shap values"
   ]
  },
  {
   "cell_type": "code",
   "execution_count": null,
   "metadata": {
    "ExecuteTime": {
     "start_time": "2023-06-27T19:58:40.328811Z"
    }
   },
   "outputs": [],
   "source": [
    "ax = sns.scatterplot(data=shap_values_df, x='timestep', y='shap_value')\n",
    "ax.set(yscale=\"symlog\")"
   ]
  },
  {
   "cell_type": "code",
   "execution_count": null,
   "metadata": {
    "ExecuteTime": {
     "start_time": "2023-06-27T19:58:40.336358Z"
    }
   },
   "outputs": [],
   "source": [
    "ax = sns.scatterplot(data=shap_values_df, x='timestep', y='shap_value')\n"
   ]
  },
  {
   "cell_type": "code",
   "execution_count": null,
   "metadata": {
    "ExecuteTime": {
     "start_time": "2023-06-27T19:58:40.339952Z"
    }
   },
   "outputs": [],
   "source": []
  }
 ],
 "metadata": {
  "kernelspec": {
   "display_name": "Python 3",
   "language": "python",
   "name": "python3"
  },
  "language_info": {
   "codemirror_mode": {
    "name": "ipython",
    "version": 2
   },
   "file_extension": ".py",
   "mimetype": "text/x-python",
   "name": "python",
   "nbconvert_exporter": "python",
   "pygments_lexer": "ipython2",
   "version": "2.7.6"
  }
 },
 "nbformat": 4,
 "nbformat_minor": 0
}
