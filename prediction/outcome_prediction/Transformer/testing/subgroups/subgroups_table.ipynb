{
 "cells": [
  {
   "cell_type": "code",
   "execution_count": null,
   "metadata": {},
   "outputs": [],
   "source": [
    "import pandas as pd\n",
    "import os"
   ]
  },
  {
   "cell_type": "markdown",
   "metadata": {
    "collapsed": false
   },
   "source": [
    "## Subgroups for outcome MRS 02"
   ]
  },
  {
   "cell_type": "code",
   "execution_count": null,
   "metadata": {},
   "outputs": [],
   "source": [
    "subgroups_dir = '/Users/jk1/temp/opsum_prediction_output/transformer/3M_mrs02/test_set_subgroup_evaluation'"
   ]
  },
  {
   "cell_type": "code",
   "execution_count": null,
   "metadata": {},
   "outputs": [],
   "source": [
    "# loop through directories and find subgroup_results.csv file\n",
    "all_subgroups_df = pd.DataFrame()\n",
    "for root, dirs, files in os.walk(subgroups_dir):\n",
    "    for file in files:\n",
    "        if file.endswith('subgroup_results.csv'):\n",
    "            subgroup_df = pd.read_csv(os.path.join(root, file))\n",
    "            all_subgroups_df = pd.concat([all_subgroups_df, subgroup_df])"
   ]
  },
  {
   "cell_type": "code",
   "execution_count": null,
   "metadata": {},
   "outputs": [],
   "source": [
    "all_subgroups_df = all_subgroups_df[all_subgroups_df.fold == all_subgroups_df.selected_fold_on_cv.mode()[0]]"
   ]
  },
  {
   "cell_type": "code",
   "execution_count": null,
   "metadata": {},
   "outputs": [],
   "source": [
    "selected_columns = ['auc_test', 'auc_test_lower_ci', 'auc_test_upper_ci', 'matthews_test',\n",
    "       'matthews_test_lower_ci', 'matthews_test_upper_ci', 'accuracy_test',\n",
    "       'accuracy_test_lower_ci', 'accuracy_test_upper_ci', 'precision_test',\n",
    "       'precision_test_lower_ci', 'precision_test_upper_ci', 'recall_test',\n",
    "       'recall_test_lower_ci', 'recall_test_upper_ci', 'specificity_test',\n",
    "       'specificity_test_lower_ci', 'specificity_test_upper_ci',\n",
    "       'neg_pred_value_test', 'neg_pred_value_test_lower_ci',\n",
    "       'neg_pred_value_test_upper_ci', 'outcome', 'subgroup_split', 'subgroup', 'n_pos_samples', 'n_total_samples']"
   ]
  },
  {
   "cell_type": "code",
   "execution_count": null,
   "metadata": {},
   "outputs": [],
   "source": [
    "all_subgroups_df = all_subgroups_df[selected_columns]"
   ]
  },
  {
   "cell_type": "code",
   "execution_count": null,
   "metadata": {},
   "outputs": [],
   "source": [
    "all_subgroups_df.to_csv(os.path.join(subgroups_dir, 'all_subgroups_results.csv'), index=False)"
   ]
  },
  {
   "cell_type": "code",
   "execution_count": null,
   "metadata": {},
   "outputs": [],
   "source": [
    "def preprocess_df(df, subgroup_split, subgroup, n_pos_samples=None, total_samples=None):\n",
    "    preprocessed_df = pd.DataFrame()\n",
    "    preprocessed_df['Subgroup'] = [subgroup]\n",
    "    preprocessed_df['Subgroup split'] = [subgroup_split]\n",
    "\n",
    "    # report result rounded to 3 decimal places with 95% CI\n",
    "    preprocessed_df['ROC AUC'] = [f'{round(df[\"auc_test\"].values[0], 3):.3f} ({round(df[\"auc_test_lower_ci\"].values[0], 3):.3f}-{round(df[\"auc_test_upper_ci\"].values[0], 3):.3f})']\n",
    "    preprocessed_df[\"Matthew's Coefficient\"] = [f'{round(df[\"matthews_test\"].values[0], 3):.3f} ({round(df[\"matthews_test_lower_ci\"].values[0], 3):.3f}-{round(df[\"matthews_test_upper_ci\"].values[0], 3):.3f})']\n",
    "    preprocessed_df[\"Accuracy\"] = [f'{round(df[\"accuracy_test\"].values[0], 3):.3f} ({round(df[\"accuracy_test_lower_ci\"].values[0], 3):.3f}-{round(df[\"accuracy_test_upper_ci\"].values[0], 3):.3f})']\n",
    "    preprocessed_df[\"Precision (positive predictive value)\"] = [f'{round(df[\"precision_test\"].values[0], 3):.3f} ({round(df[\"precision_test_lower_ci\"].values[0], 3):.3f}-{round(df[\"precision_test_upper_ci\"].values[0], 3):.3f})']\n",
    "    preprocessed_df[\"Recall (Sensitivity)\"] = [f'{round(df[\"recall_test\"].values[0], 3):.3f} ({round(df[\"recall_test_lower_ci\"].values[0], 3):.3f}-{round(df[\"recall_test_upper_ci\"].values[0], 3):.3f})']\n",
    "    if 'specificity_test' in df.columns:\n",
    "        preprocessed_df[\"Specificity\"] = [f'{round(df[\"specificity_test\"].values[0], 3):.3f} ({round(df[\"specificity_test_lower_ci\"].values[0], 3):.3f}-{round(df[\"specificity_test_upper_ci\"].values[0], 3):.3f})']\n",
    "    else:\n",
    "        preprocessed_df[\"Specificity\"] = [f'NA']\n",
    "\n",
    "    if (n_pos_samples is not None) and (total_samples is not None):\n",
    "        preprocessed_df['Number of events'] = [f'{int(n_pos_samples)} ({round(n_pos_samples/total_samples*100, 1)}%)']\n",
    "\n",
    "    return preprocessed_df"
   ]
  },
  {
   "cell_type": "code",
   "execution_count": null,
   "metadata": {},
   "outputs": [],
   "source": [
    "preprocessed_df = pd.DataFrame()\n",
    "for split in all_subgroups_df.subgroup_split.unique():\n",
    "    split_df = all_subgroups_df[all_subgroups_df.subgroup_split == split]\n",
    "    preprocessed_df = pd.concat([preprocessed_df, preprocess_df(split_df, split, split_df.subgroup.values[0], split_df.n_pos_samples.values[0], split_df.n_total_samples.values[0])])"
   ]
  },
  {
   "cell_type": "code",
   "execution_count": null,
   "metadata": {},
   "outputs": [],
   "source": [
    "preprocessed_df"
   ]
  },
  {
   "cell_type": "code",
   "execution_count": null,
   "metadata": {},
   "outputs": [],
   "source": [
    "preprocessed_df.to_csv(os.path.join(subgroups_dir, 'all_subgroups_results_preprocessed.csv'), index=False)"
   ]
  },
  {
   "cell_type": "markdown",
   "metadata": {
    "collapsed": false
   },
   "source": [
    "## Subgroups for outcome Death"
   ]
  },
  {
   "cell_type": "code",
   "execution_count": null,
   "metadata": {},
   "outputs": [],
   "source": [
    "death_subgroups_dir = '/Users/jk1/temp/opsum_prediction_output/transformer/3M_Death/test_set_subgroup_evaluation'"
   ]
  },
  {
   "cell_type": "code",
   "execution_count": null,
   "metadata": {},
   "outputs": [],
   "source": [
    "# loop through directories and find subgroup_results.csv file\n",
    "all_death_subgroups_df = pd.DataFrame()\n",
    "for root, dirs, files in os.walk(death_subgroups_dir):\n",
    "    for file in files:\n",
    "        if file.endswith('subgroup_results.csv'):\n",
    "            subgroup_df = pd.read_csv(os.path.join(root, file))\n",
    "            all_death_subgroups_df = pd.concat([all_death_subgroups_df, subgroup_df])"
   ]
  },
  {
   "cell_type": "code",
   "execution_count": null,
   "metadata": {},
   "outputs": [],
   "source": [
    "all_death_subgroups_df = all_death_subgroups_df[all_death_subgroups_df.fold == all_death_subgroups_df.selected_fold_on_cv.mode()[0]]"
   ]
  },
  {
   "cell_type": "code",
   "execution_count": null,
   "metadata": {},
   "outputs": [],
   "source": [
    "all_death_subgroups_df = all_death_subgroups_df[selected_columns]"
   ]
  },
  {
   "cell_type": "code",
   "execution_count": null,
   "metadata": {},
   "outputs": [],
   "source": [
    "all_death_subgroups_df.to_csv(os.path.join(death_subgroups_dir, 'all_subgroups_results.csv'), index=False)"
   ]
  },
  {
   "cell_type": "code",
   "execution_count": null,
   "metadata": {},
   "outputs": [],
   "source": [
    "all_death_subgroups_df"
   ]
  },
  {
   "cell_type": "code",
   "execution_count": null,
   "metadata": {},
   "outputs": [],
   "source": [
    "death_preprocessed_df = pd.DataFrame()\n",
    "for split in all_death_subgroups_df.subgroup_split.unique():\n",
    "    split_df = all_death_subgroups_df[all_death_subgroups_df.subgroup_split == split]\n",
    "    death_preprocessed_df = pd.concat([death_preprocessed_df, preprocess_df(split_df, split, split_df.subgroup.values[0],split_df.n_pos_samples.values[0], split_df.n_total_samples.values[0])])"
   ]
  },
  {
   "cell_type": "code",
   "execution_count": null,
   "metadata": {},
   "outputs": [],
   "source": [
    "death_preprocessed_df"
   ]
  },
  {
   "cell_type": "code",
   "execution_count": null,
   "metadata": {},
   "outputs": [],
   "source": [
    "# death_preprocessed_df.to_csv(os.path.join(death_subgroups_dir, 'all_subgroups_results_preprocessed.csv'), index=False)"
   ]
  },
  {
   "cell_type": "code",
   "execution_count": null,
   "metadata": {},
   "outputs": [],
   "source": []
  }
 ],
 "metadata": {
  "kernelspec": {
   "display_name": "Python 3",
   "language": "python",
   "name": "python3"
  },
  "language_info": {
   "codemirror_mode": {
    "name": "ipython",
    "version": 2
   },
   "file_extension": ".py",
   "mimetype": "text/x-python",
   "name": "python",
   "nbconvert_exporter": "python",
   "pygments_lexer": "ipython2",
   "version": "2.7.6"
  }
 },
 "nbformat": 4,
 "nbformat_minor": 0
}
