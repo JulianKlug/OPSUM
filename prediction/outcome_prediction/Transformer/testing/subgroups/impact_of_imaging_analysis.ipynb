{
 "cells": [
  {
   "cell_type": "markdown",
   "metadata": {
    "collapsed": false
   },
   "source": [
    "## Impact of access of imaging on prediction\n",
    "\n",
    "Imaging data was evaluated for a subset (10%) of the overall GSU cohort\n",
    "For this subset imaging data was extracted if available (n=149), a model was trained on the full dataset (with imaging data only available for 10% of the cohort)\n",
    "Evaluation was done on the test set for those with imaging data available, once with access to imaging data and once without access to imaging data (set to missing) "
   ]
  },
  {
   "cell_type": "code",
   "execution_count": null,
   "metadata": {
    "ExecuteTime": {
     "end_time": "2024-03-04T11:48:46.758833Z",
     "start_time": "2024-03-04T11:48:44.718354Z"
    }
   },
   "outputs": [],
   "source": [
    "import pandas as pd\n",
    "import os"
   ]
  },
  {
   "cell_type": "code",
   "execution_count": null,
   "metadata": {
    "ExecuteTime": {
     "end_time": "2024-03-04T11:51:55.477040Z",
     "start_time": "2024-03-04T11:51:55.456385Z"
    }
   },
   "outputs": [],
   "source": [
    "imaging_available_subgroups_dir = '/Users/jk1/temp/opsum_prediction_output/transformer/3M_mrs02_with_imaging/with_imaging/with_imaging_vs_nullified_imaging_test_set_subgroups/imaging_available_subgroups'\n",
    "imaging_set_to_missing_subgroups_dir = '/Users/jk1/temp/opsum_prediction_output/transformer/3M_mrs02_with_imaging/with_imaging/with_imaging_vs_nullified_imaging_test_set_subgroups/nullified_imaging_subgroup'"
   ]
  },
  {
   "cell_type": "code",
   "execution_count": null,
   "metadata": {
    "ExecuteTime": {
     "end_time": "2024-03-04T11:52:06.491221Z",
     "start_time": "2024-03-04T11:52:06.472362Z"
    }
   },
   "outputs": [],
   "source": [
    "# loop through directories and find subgroup_results.csv file\n",
    "imaging_available_all_subgroups_df = pd.DataFrame()\n",
    "for root, dirs, files in os.walk(imaging_available_subgroups_dir):\n",
    "    for file in files:\n",
    "        if file.endswith('subgroup_results.csv'):\n",
    "            subgroup_df = pd.read_csv(os.path.join(root, file))\n",
    "            imaging_available_all_subgroups_df = pd.concat([imaging_available_all_subgroups_df, subgroup_df])\n",
    "            \n",
    "imaging_set_to_missing_all_subgroups_df = pd.DataFrame()\n",
    "for root, dirs, files in os.walk(imaging_set_to_missing_subgroups_dir):\n",
    "    for file in files:\n",
    "        if file.endswith('subgroup_results.csv'):\n",
    "            subgroup_df = pd.read_csv(os.path.join(root, file))\n",
    "            imaging_set_to_missing_all_subgroups_df = pd.concat([imaging_set_to_missing_all_subgroups_df, subgroup_df])"
   ]
  },
  {
   "cell_type": "code",
   "execution_count": null,
   "metadata": {
    "ExecuteTime": {
     "end_time": "2024-03-04T11:52:11.833889Z",
     "start_time": "2024-03-04T11:52:11.801008Z"
    }
   },
   "outputs": [],
   "source": [
    "imaging_available_all_subgroups_df = imaging_available_all_subgroups_df[imaging_available_all_subgroups_df.fold == imaging_available_all_subgroups_df.selected_fold_on_cv.mode()[0]]\n",
    "imaging_set_to_missing_all_subgroups_df = imaging_set_to_missing_all_subgroups_df[imaging_set_to_missing_all_subgroups_df.fold == imaging_set_to_missing_all_subgroups_df.selected_fold_on_cv.mode()[0]]"
   ]
  },
  {
   "cell_type": "code",
   "execution_count": null,
   "metadata": {
    "ExecuteTime": {
     "end_time": "2024-03-04T11:48:46.791697Z",
     "start_time": "2024-03-04T11:48:46.787406Z"
    }
   },
   "outputs": [],
   "source": [
    "selected_columns = ['auc_test', 'auc_test_lower_ci', 'auc_test_upper_ci', 'matthews_test',\n",
    "       'matthews_test_lower_ci', 'matthews_test_upper_ci', 'accuracy_test',\n",
    "       'accuracy_test_lower_ci', 'accuracy_test_upper_ci', 'precision_test',\n",
    "       'precision_test_lower_ci', 'precision_test_upper_ci', 'recall_test',\n",
    "       'recall_test_lower_ci', 'recall_test_upper_ci', 'specificity_test',\n",
    "       'specificity_test_lower_ci', 'specificity_test_upper_ci',\n",
    "       'neg_pred_value_test', 'neg_pred_value_test_lower_ci',\n",
    "       'neg_pred_value_test_upper_ci', 'outcome', 'subgroup_split', 'subgroup', 'n_pos_samples', 'n_total_samples']"
   ]
  },
  {
   "cell_type": "code",
   "execution_count": null,
   "metadata": {
    "ExecuteTime": {
     "end_time": "2024-03-04T11:52:25.863370Z",
     "start_time": "2024-03-04T11:52:25.851359Z"
    }
   },
   "outputs": [],
   "source": [
    "imaging_available_all_subgroups_df = imaging_available_all_subgroups_df[selected_columns]\n",
    "imaging_set_to_missing_all_subgroups_df = imaging_set_to_missing_all_subgroups_df[selected_columns]"
   ]
  },
  {
   "cell_type": "code",
   "execution_count": null,
   "metadata": {
    "ExecuteTime": {
     "end_time": "2024-03-04T11:52:48.294391Z",
     "start_time": "2024-03-04T11:52:48.282847Z"
    }
   },
   "outputs": [],
   "source": [
    "def preprocess_df(df, subgroup_split, subgroup, n_pos_samples=None, total_samples=None):\n",
    "    preprocessed_df = pd.DataFrame()\n",
    "    preprocessed_df['Subgroup'] = [subgroup]\n",
    "    preprocessed_df['Subgroup split'] = [subgroup_split]\n",
    "\n",
    "    # report result rounded to 3 decimal places with 95% CI\n",
    "    preprocessed_df['ROC AUC'] = [f'{round(df[\"auc_test\"].values[0], 3):.3f} ({round(df[\"auc_test_lower_ci\"].values[0], 3):.3f}-{round(df[\"auc_test_upper_ci\"].values[0], 3):.3f})']\n",
    "    preprocessed_df[\"Matthew's Coefficient\"] = [f'{round(df[\"matthews_test\"].values[0], 3):.3f} ({round(df[\"matthews_test_lower_ci\"].values[0], 3):.3f}-{round(df[\"matthews_test_upper_ci\"].values[0], 3):.3f})']\n",
    "    preprocessed_df[\"Accuracy\"] = [f'{round(df[\"accuracy_test\"].values[0], 3):.3f} ({round(df[\"accuracy_test_lower_ci\"].values[0], 3):.3f}-{round(df[\"accuracy_test_upper_ci\"].values[0], 3):.3f})']\n",
    "    preprocessed_df[\"Precision (positive predictive value)\"] = [f'{round(df[\"precision_test\"].values[0], 3):.3f} ({round(df[\"precision_test_lower_ci\"].values[0], 3):.3f}-{round(df[\"precision_test_upper_ci\"].values[0], 3):.3f})']\n",
    "    preprocessed_df[\"Recall (Sensitivity)\"] = [f'{round(df[\"recall_test\"].values[0], 3):.3f} ({round(df[\"recall_test_lower_ci\"].values[0], 3):.3f}-{round(df[\"recall_test_upper_ci\"].values[0], 3):.3f})']\n",
    "    if 'specificity_test' in df.columns:\n",
    "        preprocessed_df[\"Specificity\"] = [f'{round(df[\"specificity_test\"].values[0], 3):.3f} ({round(df[\"specificity_test_lower_ci\"].values[0], 3):.3f}-{round(df[\"specificity_test_upper_ci\"].values[0], 3):.3f})']\n",
    "    else:\n",
    "        preprocessed_df[\"Specificity\"] = [f'NA']\n",
    "\n",
    "    if (n_pos_samples is not None) and (total_samples is not None):\n",
    "        preprocessed_df['Number of events'] = [f'{int(n_pos_samples)} ({round(n_pos_samples/total_samples*100, 1)}%)']\n",
    "\n",
    "    return preprocessed_df"
   ]
  },
  {
   "cell_type": "code",
   "execution_count": null,
   "metadata": {
    "ExecuteTime": {
     "end_time": "2024-03-04T11:53:46.417461Z",
     "start_time": "2024-03-04T11:53:46.391091Z"
    }
   },
   "outputs": [],
   "source": [
    "preprocessed_imaging_available_all_subgroups_df = pd.DataFrame()\n",
    "for split in imaging_available_all_subgroups_df.subgroup_split.unique():\n",
    "    split_df = imaging_available_all_subgroups_df[imaging_available_all_subgroups_df.subgroup_split == split]\n",
    "    preprocessed_imaging_available_all_subgroups_df = pd.concat([preprocessed_imaging_available_all_subgroups_df, preprocess_df(split_df, split, split_df.subgroup.values[0], split_df.n_pos_samples.values[0], split_df.n_total_samples.values[0])])\n",
    "    \n",
    "preprocessed_imaging_set_to_missing_all_subgroups_df = pd.DataFrame()\n",
    "for split in imaging_set_to_missing_all_subgroups_df.subgroup_split.unique():\n",
    "    split_df = imaging_set_to_missing_all_subgroups_df[imaging_set_to_missing_all_subgroups_df.subgroup_split == split]\n",
    "    preprocessed_imaging_set_to_missing_all_subgroups_df = pd.concat([preprocessed_imaging_set_to_missing_all_subgroups_df, preprocess_df(split_df, split, split_df.subgroup.values[0], split_df.n_pos_samples.values[0], split_df.n_total_samples.values[0])])"
   ]
  },
  {
   "cell_type": "code",
   "execution_count": null,
   "metadata": {
    "ExecuteTime": {
     "end_time": "2024-03-04T11:53:50.853723Z",
     "start_time": "2024-03-04T11:53:50.848030Z"
    }
   },
   "outputs": [],
   "source": [
    "preprocessed_imaging_available_all_subgroups_df"
   ]
  },
  {
   "cell_type": "code",
   "execution_count": null,
   "metadata": {
    "ExecuteTime": {
     "end_time": "2024-03-04T11:54:07.508572Z",
     "start_time": "2024-03-04T11:54:07.494829Z"
    }
   },
   "outputs": [],
   "source": [
    "preprocessed_imaging_set_to_missing_all_subgroups_df"
   ]
  },
  {
   "cell_type": "code",
   "execution_count": null,
   "metadata": {
    "ExecuteTime": {
     "end_time": "2024-03-04T11:55:39.619792Z",
     "start_time": "2024-03-04T11:55:39.611411Z"
    }
   },
   "outputs": [],
   "source": [
    "preprocessed_imaging_available_all_subgroups_df['Imaging'] = 'available'\n",
    "preprocessed_imaging_set_to_missing_all_subgroups_df['Imaging'] = 'unavailable'"
   ]
  },
  {
   "cell_type": "code",
   "execution_count": null,
   "metadata": {
    "ExecuteTime": {
     "end_time": "2024-03-04T11:56:57.135887Z",
     "start_time": "2024-03-04T11:56:57.128063Z"
    }
   },
   "outputs": [],
   "source": [
    "comparison_df = pd.concat([preprocessed_imaging_available_all_subgroups_df[preprocessed_imaging_available_all_subgroups_df['Subgroup split'] == 'with_imaging_available'], preprocessed_imaging_set_to_missing_all_subgroups_df[preprocessed_imaging_set_to_missing_all_subgroups_df['Subgroup split'] == 'with_imaging_available']])"
   ]
  },
  {
   "cell_type": "code",
   "execution_count": null,
   "metadata": {
    "ExecuteTime": {
     "end_time": "2024-03-04T11:57:31.300320Z",
     "start_time": "2024-03-04T11:57:31.285978Z"
    }
   },
   "outputs": [],
   "source": [
    "comparison_df.drop(columns=['Subgroup', 'Subgroup split'], inplace=True)"
   ]
  },
  {
   "cell_type": "code",
   "execution_count": null,
   "metadata": {
    "ExecuteTime": {
     "end_time": "2024-03-04T11:57:33.133986Z",
     "start_time": "2024-03-04T11:57:33.114566Z"
    }
   },
   "outputs": [],
   "source": [
    "comparison_df"
   ]
  },
  {
   "cell_type": "code",
   "execution_count": null,
   "metadata": {
    "ExecuteTime": {
     "end_time": "2024-03-04T11:58:11.046923Z",
     "start_time": "2024-03-04T11:58:11.032216Z"
    }
   },
   "outputs": [],
   "source": [
    "# comparison_df.to_csv(os.path.join(imaging_available_subgroups_dir, 'imaging_available_vs_unavailable.csv'), index=False)"
   ]
  },
  {
   "cell_type": "code",
   "execution_count": null,
   "metadata": {},
   "outputs": [],
   "source": []
  }
 ],
 "metadata": {
  "kernelspec": {
   "display_name": "Python 3",
   "language": "python",
   "name": "python3"
  },
  "language_info": {
   "codemirror_mode": {
    "name": "ipython",
    "version": 2
   },
   "file_extension": ".py",
   "mimetype": "text/x-python",
   "name": "python",
   "nbconvert_exporter": "python",
   "pygments_lexer": "ipython2",
   "version": "2.7.6"
  }
 },
 "nbformat": 4,
 "nbformat_minor": 0
}
