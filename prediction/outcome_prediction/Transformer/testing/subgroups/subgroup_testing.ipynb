{
 "cells": [
  {
   "cell_type": "code",
   "execution_count": null,
   "metadata": {},
   "outputs": [],
   "source": [
    "import json\n",
    "import os\n",
    "import pickle\n",
    "\n",
    "import pandas as pd\n",
    "from tqdm import tqdm\n",
    "\n",
    "from prediction.outcome_prediction.Transformer.architecture import OPSUMTransformer\n",
    "from prediction.outcome_prediction.Transformer.lightning_wrapper import LitModel\n",
    "from prediction.outcome_prediction.Transformer.testing.test_transformer_model import test_transformer_model\n",
    "from prediction.outcome_prediction.data_loading.data_loader import load_data\n",
    "from prediction.utils.utils import save_json, ensure_dir\n",
    "from preprocessing.preprocessing_tools.normalisation.reverse_normalisation import reverse_normalisation"
   ]
  },
  {
   "cell_type": "code",
   "execution_count": null,
   "metadata": {},
   "outputs": [],
   "source": [
    "features_path = '/Users/jk1/temp/opsum_prepro_output/gsu_prepro_01012023_233050/preprocessed_features_01012023_233050.csv'\n",
    "labels_path = '/Users/jk1/temp/opsum_prepro_output/gsu_prepro_01012023_233050/preprocessed_outcomes_01012023_233050.csv'\n",
    "normalisation_parameters_path = '/Users/jk1/temp/opsum_prepro_output/gsu_prepro_01012023_233050/logs_01012023_233050/normalisation_parameters.csv'"
   ]
  },
  {
   "cell_type": "code",
   "execution_count": null,
   "metadata": {},
   "outputs": [],
   "source": [
    "outcome = '3M mRS 0-2'\n",
    "test_size = 0.2\n",
    "n_splits = 5\n",
    "seed = 42"
   ]
  },
  {
   "cell_type": "code",
   "execution_count": null,
   "metadata": {},
   "outputs": [],
   "source": [
    "normalisation_parameters_df = pd.read_csv(normalisation_parameters_path)"
   ]
  },
  {
   "cell_type": "code",
   "execution_count": null,
   "metadata": {},
   "outputs": [],
   "source": [
    "pids, train_data, test_data, train_splits, test_features_lookup_table = load_data(features_path, labels_path, outcome, test_size, n_splits, seed)"
   ]
  },
  {
   "cell_type": "code",
   "execution_count": null,
   "metadata": {},
   "outputs": [],
   "source": [
    "test_X_np, test_y_np = test_data"
   ]
  },
  {
   "cell_type": "code",
   "execution_count": null,
   "metadata": {},
   "outputs": [],
   "source": [
    "baseline_t0_test_X_np = test_X_np[:, 0, :]\n",
    "baseline_t0_test_X_df = pd.DataFrame(baseline_t0_test_X_np, columns=test_features_lookup_table['sample_label'])"
   ]
  },
  {
   "cell_type": "code",
   "execution_count": null,
   "metadata": {},
   "outputs": [],
   "source": [
    "baseline_t0_test_X_df = baseline_t0_test_X_df.reset_index().rename(columns={'index': 'pidx'}).melt(id_vars='pidx', var_name='sample_label', value_name='value')"
   ]
  },
  {
   "cell_type": "code",
   "execution_count": null,
   "metadata": {},
   "outputs": [],
   "source": [
    "non_norm_baseline_t0_test_X_df = reverse_normalisation(baseline_t0_test_X_df, normalisation_parameters_df)"
   ]
  },
  {
   "cell_type": "code",
   "execution_count": null,
   "metadata": {},
   "outputs": [],
   "source": [
    "non_norm_baseline_t0_test_X_df[(non_norm_baseline_t0_test_X_df.sample_label == 'max_NIHSS') & (non_norm_baseline_t0_test_X_df.value <= 5)]"
   ]
  },
  {
   "cell_type": "code",
   "execution_count": null,
   "metadata": {},
   "outputs": [],
   "source": [
    "non_norm_baseline_t0_test_X_df.sample_label.unique()"
   ]
  },
  {
   "cell_type": "markdown",
   "metadata": {
    "collapsed": false
   },
   "source": [
    "Identify patients per treatment category\n",
    "- no treatment\n",
    "- only IVT\n",
    "- IAT (+/- IVT)"
   ]
  },
  {
   "cell_type": "code",
   "execution_count": null,
   "metadata": {},
   "outputs": [],
   "source": [
    "all_pidx = set(non_norm_baseline_t0_test_X_df.pidx.unique())\n",
    "pidx_with_IAT = set(non_norm_baseline_t0_test_X_df[(non_norm_baseline_t0_test_X_df.sample_label == 'categorical_iat_no_iat') & (non_norm_baseline_t0_test_X_df.value == 0)].pidx.unique())\n",
    "pidx_with_IVT = set(non_norm_baseline_t0_test_X_df[(non_norm_baseline_t0_test_X_df.sample_label == 'categorical_ivt_no_ivt') & (non_norm_baseline_t0_test_X_df.value == 0)].pidx.unique())\n",
    "pidx_with_only_IVT = pidx_with_IVT - pidx_with_IAT\n",
    "pidx_with_no_ttt = all_pidx - pidx_with_IAT - pidx_with_IVT"
   ]
  },
  {
   "cell_type": "code",
   "execution_count": null,
   "metadata": {},
   "outputs": [],
   "source": [
    "len(all_pidx), len(pidx_with_IAT), len(pidx_with_only_IVT), len(pidx_with_no_ttt)"
   ]
  },
  {
   "cell_type": "code",
   "execution_count": null,
   "metadata": {},
   "outputs": [],
   "source": [
    "test_y_np.shape"
   ]
  },
  {
   "cell_type": "code",
   "execution_count": null,
   "metadata": {},
   "outputs": [],
   "source": [
    "test_X_np_no_ttt = test_X_np[list(pidx_with_no_ttt), :, :]\n",
    "test_y_np_no_ttt = test_y_np\n",
    "test_X_np_no_ttt.shape"
   ]
  },
  {
   "cell_type": "code",
   "execution_count": null,
   "metadata": {},
   "outputs": [],
   "source": [
    "pidx_sex_male = set(non_norm_baseline_t0_test_X_df[(non_norm_baseline_t0_test_X_df.sample_label == 'sex_male') & (non_norm_baseline_t0_test_X_df.value == 1)].pidx.unique())\n",
    "pidx_sex_female = all_pidx - pidx_sex_male\n",
    "len(pidx_sex_male), len(pidx_sex_female)"
   ]
  },
  {
   "cell_type": "code",
   "execution_count": null,
   "metadata": {},
   "outputs": [],
   "source": [
    "pidx_age_under_70 = set(non_norm_baseline_t0_test_X_df[(non_norm_baseline_t0_test_X_df.sample_label == 'age') & (non_norm_baseline_t0_test_X_df.value <= 70)].pidx.unique())\n",
    "pidx_age_over_70 = all_pidx - pidx_age_under_70\n",
    "len(pidx_age_under_70), len(pidx_age_over_70)"
   ]
  },
  {
   "cell_type": "code",
   "execution_count": null,
   "metadata": {},
   "outputs": [],
   "source": [
    "pidx_mrs3_to_5 = set(list(non_norm_baseline_t0_test_X_df[(non_norm_baseline_t0_test_X_df.sample_label == 'prestroke_disability_(rankin)_3.0') & (non_norm_baseline_t0_test_X_df.value == 1)].pidx.unique()) + list(non_norm_baseline_t0_test_X_df[(non_norm_baseline_t0_test_X_df.sample_label == 'prestroke_disability_(rankin)_4.0') & (non_norm_baseline_t0_test_X_df.value == 1)].pidx.unique()) + list(non_norm_baseline_t0_test_X_df[(non_norm_baseline_t0_test_X_df.sample_label == 'prestroke_disability_(rankin)_5.0') & (non_norm_baseline_t0_test_X_df.value == 1)].pidx.unique()))\n",
    "pidx_mrs0_to_2 = all_pidx - pidx_mrs3_to_5\n",
    "len(pidx_mrs3_to_5), len(pidx_mrs0_to_2)"
   ]
  }
 ],
 "metadata": {
  "kernelspec": {
   "display_name": "Python 3",
   "language": "python",
   "name": "python3"
  },
  "language_info": {
   "codemirror_mode": {
    "name": "ipython",
    "version": 2
   },
   "file_extension": ".py",
   "mimetype": "text/x-python",
   "name": "python",
   "nbconvert_exporter": "python",
   "pygments_lexer": "ipython2",
   "version": "2.7.6"
  }
 },
 "nbformat": 4,
 "nbformat_minor": 0
}
