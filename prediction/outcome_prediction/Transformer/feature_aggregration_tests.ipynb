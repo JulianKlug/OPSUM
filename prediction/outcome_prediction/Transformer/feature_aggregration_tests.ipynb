{
 "cells": [
  {
   "cell_type": "code",
   "execution_count": null,
   "metadata": {},
   "outputs": [],
   "source": [
    "import numpy\n",
    "import torch as ch"
   ]
  },
  {
   "cell_type": "code",
   "execution_count": null,
   "metadata": {},
   "outputs": [],
   "source": [
    "# test data with X of shape (1, 6, 3) and Y of shape (1) and value 1\n",
    "x = ch.randn(1, 6, 3)\n",
    "y = ch.tensor([1])"
   ]
  },
  {
   "cell_type": "code",
   "execution_count": null,
   "metadata": {},
   "outputs": [],
   "source": [
    "from prediction.outcome_prediction.Transformer.architecture import OPSUMTransformer\n",
    "\n",
    "model = OPSUMTransformer(\n",
    "            input_dim=3,\n",
    "            num_layers=2,\n",
    "            model_dim=8,\n",
    "            dropout=0.1,\n",
    "            ff_dim=16,\n",
    "            num_heads=2,\n",
    "            num_classes=1,\n",
    "            max_dim=500,\n",
    "            pos_encode_factor=1,\n",
    "    feature_aggregration=True\n",
    "        )\n"
   ]
  },
  {
   "cell_type": "code",
   "execution_count": null,
   "metadata": {},
   "outputs": [],
   "source": [
    "model(x)"
   ]
  },
  {
   "cell_type": "code",
   "execution_count": null,
   "metadata": {},
   "outputs": [],
   "source": [
    "import numpy as np\n",
    "np.cumulative_max([1, 2, 3, 4, 5, 6, 7, 8, 9, 10])"
   ]
  },
  {
   "cell_type": "code",
   "execution_count": null,
   "metadata": {},
   "outputs": [],
   "source": [
    "np.maximum.accumulate(x,axis=1).shape"
   ]
  },
  {
   "cell_type": "code",
   "execution_count": null,
   "metadata": {},
   "outputs": [],
   "source": [
    "np.minimum.accumulate(x,axis=1)"
   ]
  },
  {
   "cell_type": "code",
   "execution_count": null,
   "metadata": {},
   "outputs": [],
   "source": [
    "def feature_aggregation(x):\n",
    "    # given an array of shape (batch_size, seq_len, feature_dim), for each feature_dim, compute the cumulative average / max / min and add them to the feature_dim\n",
    "    time_avg = np.cumsum(x, axis=1) / np.arange(1, x.shape[1] + 1)[:, np.newaxis]\n",
    "    time_max = np.maximum.accumulate(x, axis=1)\n",
    "    time_min = np.minimum.accumulate(x, axis=1)\n",
    "    return np.concatenate([x, time_avg, time_max, time_min], axis=-1)"
   ]
  },
  {
   "cell_type": "code",
   "execution_count": null,
   "metadata": {},
   "outputs": [],
   "source": [
    "feature_aggregation(x).shape"
   ]
  },
  {
   "cell_type": "code",
   "execution_count": null,
   "metadata": {},
   "outputs": [],
   "source": [
    "x.shape"
   ]
  },
  {
   "cell_type": "code",
   "execution_count": null,
   "metadata": {},
   "outputs": [],
   "source": [
    "x"
   ]
  },
  {
   "cell_type": "code",
   "execution_count": null,
   "metadata": {},
   "outputs": [],
   "source": []
  }
 ],
 "metadata": {
  "kernelspec": {
   "display_name": "Python 3",
   "language": "python",
   "name": "python3"
  },
  "language_info": {
   "codemirror_mode": {
    "name": "ipython",
    "version": 2
   },
   "file_extension": ".py",
   "mimetype": "text/x-python",
   "name": "python",
   "nbconvert_exporter": "python",
   "pygments_lexer": "ipython2",
   "version": "2.7.6"
  }
 },
 "nbformat": 4,
 "nbformat_minor": 0
}
