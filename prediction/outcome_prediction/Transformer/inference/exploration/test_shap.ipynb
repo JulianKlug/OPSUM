{
 "cells": [
  {
   "cell_type": "code",
   "execution_count": null,
   "metadata": {
    "ExecuteTime": {
     "end_time": "2024-10-12T16:14:59.078288Z",
     "start_time": "2024-10-12T16:14:52.846638Z"
    }
   },
   "outputs": [],
   "source": [
    "import json\n",
    "import shap\n",
    "from torch.utils.data import DataLoader\n",
    "\n",
    "from prediction.outcome_prediction.Transformer.architecture import OPSUMTransformer\n",
    "from prediction.outcome_prediction.Transformer.lightning_wrapper import LitModel\n",
    "from prediction.outcome_prediction.Transformer.utils.utils import prepare_dataset\n"
   ]
  },
  {
   "cell_type": "code",
   "execution_count": null,
   "metadata": {
    "ExecuteTime": {
     "end_time": "2024-10-12T16:14:59.093420Z",
     "start_time": "2024-10-12T16:14:59.090810Z"
    }
   },
   "outputs": [],
   "source": [
    "features_path = '/Users/jk1/temp/opsum_prepro_output/gsu_prepro_01012023_233050/preprocessed_features_01012023_233050.csv'\n",
    "labels_path = '/Users/jk1/temp/opsum_prepro_output/gsu_prepro_01012023_233050/preprocessed_outcomes_01012023_233050.csv'"
   ]
  },
  {
   "cell_type": "code",
   "execution_count": null,
   "metadata": {
    "ExecuteTime": {
     "end_time": "2024-10-12T16:14:59.103435Z",
     "start_time": "2024-10-12T16:14:59.100373Z"
    }
   },
   "outputs": [],
   "source": [
    "model_config_path = '/Users/jk1/temp/opsum_prediction_output/transformer/3M_mrs02/transformer_20230402_184459_test_set_evaluation/hyperopt_selected_transformer_20230402_184459.json'\n",
    "model_weights_path = '/Users/jk1/temp/opsum_prediction_output/transformer/3M_mrs02/transformer_20230402_184459_test_set_evaluation/trained_models/checkpoints_opsum_transformer_20230402_184459_cv_2/opsum_transformer_epoch=14_val_auroc=0.9222.ckpt'"
   ]
  },
  {
   "cell_type": "code",
   "execution_count": null,
   "metadata": {
    "ExecuteTime": {
     "end_time": "2024-10-12T16:14:59.112991Z",
     "start_time": "2024-10-12T16:14:59.109746Z"
    }
   },
   "outputs": [],
   "source": [
    "outcome = '3M mRS 0-2'\n",
    "test_size = 0.2\n",
    "n_splits = 5\n",
    "seed = 42\n",
    "n_samples_background = 1"
   ]
  },
  {
   "cell_type": "markdown",
   "metadata": {
    "collapsed": false
   },
   "source": [
    "## Load model"
   ]
  },
  {
   "cell_type": "code",
   "execution_count": null,
   "metadata": {
    "ExecuteTime": {
     "end_time": "2024-10-12T16:14:59.123779Z",
     "start_time": "2024-10-12T16:14:59.119313Z"
    }
   },
   "outputs": [],
   "source": [
    "# load model config\n",
    "model_config = json.load(open(model_config_path, 'r'))"
   ]
  },
  {
   "cell_type": "code",
   "execution_count": null,
   "metadata": {
    "ExecuteTime": {
     "end_time": "2024-10-12T16:15:04.862860Z",
     "start_time": "2024-10-12T16:14:59.129850Z"
    }
   },
   "outputs": [],
   "source": [
    "ff_factor = 2\n",
    "ff_dim = ff_factor * model_config['model_dim']\n",
    "pos_encode_factor = 1\n",
    "\n",
    "model_architecture = OPSUMTransformer(\n",
    "    input_dim=84,\n",
    "    num_layers=int(model_config['num_layers']),\n",
    "    model_dim=int(model_config['model_dim']),\n",
    "    dropout=int(model_config['dropout']),\n",
    "    ff_dim=int(ff_dim),\n",
    "    num_heads=int(model_config['num_head']),\n",
    "    num_classes=1,\n",
    "    max_dim=500,\n",
    "    pos_encode_factor=pos_encode_factor\n",
    ")\n",
    "\n",
    "trained_model = LitModel.load_from_checkpoint(checkpoint_path=model_weights_path, model=model_architecture,\n",
    "                                              lr=model_config['lr'],\n",
    "                                              wd=model_config['weight_decay'],\n",
    "                                              train_noise=model_config['train_noise'])\n"
   ]
  },
  {
   "cell_type": "markdown",
   "metadata": {
    "collapsed": false
   },
   "source": [
    "## Load data"
   ]
  },
  {
   "cell_type": "code",
   "execution_count": null,
   "metadata": {
    "ExecuteTime": {
     "end_time": "2023-04-21T09:44:26.544088Z",
     "start_time": "2023-04-21T09:42:04.335653Z"
    }
   },
   "outputs": [],
   "source": [
    "from prediction.outcome_prediction.data_loading.data_loader import load_data\n",
    "\n",
    "pids, train_data, test_data, train_splits, test_features_lookup_table = load_data(features_path, labels_path, outcome, test_size, n_splits, seed)\n",
    "fold_X_train, _, fold_y_train, _ = train_splits[int(model_config['best_cv_fold'])]"
   ]
  },
  {
   "cell_type": "code",
   "execution_count": null,
   "metadata": {
    "ExecuteTime": {
     "end_time": "2023-04-21T09:44:26.549643Z",
     "start_time": "2023-04-21T09:44:26.546958Z"
    }
   },
   "outputs": [],
   "source": [
    "X_test, y_test = test_data\n",
    "X_train, y_train = fold_X_train, fold_y_train"
   ]
  },
  {
   "cell_type": "markdown",
   "metadata": {
    "collapsed": false
   },
   "source": [
    "## Prepare data"
   ]
  },
  {
   "cell_type": "code",
   "execution_count": null,
   "metadata": {
    "ExecuteTime": {
     "end_time": "2023-04-21T09:46:20.317665Z",
     "start_time": "2023-04-21T09:46:20.304637Z"
    }
   },
   "outputs": [],
   "source": [
    "ts = 71"
   ]
  },
  {
   "cell_type": "code",
   "execution_count": null,
   "metadata": {
    "ExecuteTime": {
     "end_time": "2023-04-21T09:46:20.620372Z",
     "start_time": "2023-04-21T09:46:20.600507Z"
    }
   },
   "outputs": [],
   "source": [
    "modified_time_steps = ts + 1\n",
    "\n",
    "X_test_with_first_n_ts = X_test[:, 0:modified_time_steps, :]\n",
    "X_train_with_first_n_ts = X_train[:, 0:modified_time_steps, :]\n",
    "\n",
    "train_dataset, test_dataset = prepare_dataset((X_train_with_first_n_ts, X_test_with_first_n_ts, y_train, y_test),\n",
    "                                              balanced=model_config['balanced'],\n",
    "                                              rescale=True,\n",
    "                                              use_gpu=False)"
   ]
  },
  {
   "cell_type": "code",
   "execution_count": null,
   "metadata": {
    "ExecuteTime": {
     "end_time": "2023-04-21T09:46:20.962360Z",
     "start_time": "2023-04-21T09:46:20.937536Z"
    }
   },
   "outputs": [],
   "source": [
    "# Prepare background dataset (use all training data in batch size)\n",
    "train_loader = DataLoader(train_dataset, batch_size=X_train.shape[0], shuffle=True, drop_last=True)\n",
    "\n",
    "batch = next(iter(train_loader))\n",
    "train_sample, _ = batch\n",
    "background = train_sample[:n_samples_background]\n",
    "\n",
    "test_loader = DataLoader(test_dataset, batch_size=1024)\n",
    "batch = next(iter(test_loader))\n",
    "test_samples, _ = batch"
   ]
  },
  {
   "cell_type": "markdown",
   "metadata": {
    "collapsed": false
   },
   "source": [
    "## Using SHAP library"
   ]
  },
  {
   "cell_type": "code",
   "execution_count": null,
   "metadata": {
    "ExecuteTime": {
     "end_time": "2023-04-21T09:46:21.996496Z",
     "start_time": "2023-04-21T09:46:21.920304Z"
    }
   },
   "outputs": [],
   "source": [
    "# Initialize DeepExplainer\n",
    "# explainer = shap.DeepExplainer(trained_model.model.to(background.device), background)"
   ]
  },
  {
   "cell_type": "code",
   "execution_count": null,
   "metadata": {
    "ExecuteTime": {
     "end_time": "2023-04-21T09:55:07.720903Z",
     "start_time": "2023-04-21T09:46:22.591221Z"
    }
   },
   "outputs": [],
   "source": [
    "# explainer.shap_values(test_samples)"
   ]
  },
  {
   "cell_type": "markdown",
   "metadata": {
    "ExecuteTime": {
     "end_time": "2023-04-21T09:56:17.613550Z",
     "start_time": "2023-04-21T09:56:17.539358Z"
    },
    "collapsed": false
   },
   "source": [
    "## Using Captum library"
   ]
  },
  {
   "cell_type": "code",
   "execution_count": null,
   "metadata": {
    "ExecuteTime": {
     "end_time": "2023-04-20T09:39:58.339584Z",
     "start_time": "2023-04-20T09:39:58.239348Z"
    }
   },
   "outputs": [],
   "source": [
    "from captum.attr import GradientShap\n",
    "\n",
    "gradient_shap = GradientShap(trained_model.model)\n"
   ]
  },
  {
   "cell_type": "code",
   "execution_count": null,
   "metadata": {
    "ExecuteTime": {
     "end_time": "2023-04-19T23:34:31.725916Z",
     "start_time": "2023-04-19T23:28:54.498473Z"
    },
    "pycharm": {
     "is_executing": true
    }
   },
   "outputs": [],
   "source": [
    "attributions_gs = gradient_shap.attribute(test_samples,\n",
    "                                          n_samples=100,\n",
    "                                          baselines=train_sample,\n",
    "                                          target=(-1, 0))"
   ]
  },
  {
   "cell_type": "code",
   "execution_count": null,
   "metadata": {
    "ExecuteTime": {
     "end_time": "2023-04-19T23:37:23.009985Z",
     "start_time": "2023-04-19T23:37:23.001721Z"
    },
    "pycharm": {
     "is_executing": true
    }
   },
   "outputs": [],
   "source": [
    "attributions_gs.shape"
   ]
  },
  {
   "cell_type": "code",
   "execution_count": null,
   "metadata": {
    "ExecuteTime": {
     "end_time": "2023-04-19T23:12:13.643648Z",
     "start_time": "2023-04-19T23:12:13.199884Z"
    },
    "pycharm": {
     "is_executing": true
    }
   },
   "outputs": [],
   "source": [
    "trained_model.model(test_samples[0:1]).shape"
   ]
  },
  {
   "cell_type": "code",
   "execution_count": null,
   "metadata": {
    "pycharm": {
     "is_executing": true
    }
   },
   "outputs": [],
   "source": []
  }
 ],
 "metadata": {
  "kernelspec": {
   "display_name": "Python 3",
   "language": "python",
   "name": "python3"
  },
  "language_info": {
   "codemirror_mode": {
    "name": "ipython",
    "version": 2
   },
   "file_extension": ".py",
   "mimetype": "text/x-python",
   "name": "python",
   "nbconvert_exporter": "python",
   "pygments_lexer": "ipython2",
   "version": "2.7.6"
  }
 },
 "nbformat": 4,
 "nbformat_minor": 0
}
