{
 "cells": [
  {
   "cell_type": "code",
   "execution_count": null,
   "metadata": {
    "ExecuteTime": {
     "end_time": "2023-04-16T13:08:48.405436Z",
     "start_time": "2023-04-16T13:08:48.400581Z"
    }
   },
   "outputs": [],
   "source": [
    "import json\n",
    "import shap\n",
    "from torch.utils.data import DataLoader\n",
    "\n",
    "from prediction.outcome_prediction.Transformer.architecture import OPSUMTransformer\n",
    "from prediction.outcome_prediction.Transformer.lightning_wrapper import LitModel\n",
    "from prediction.outcome_prediction.Transformer.utils.utils import prepare_dataset\n"
   ]
  },
  {
   "cell_type": "code",
   "execution_count": null,
   "metadata": {
    "ExecuteTime": {
     "end_time": "2023-04-16T12:58:04.023900Z",
     "start_time": "2023-04-16T12:58:04.016058Z"
    }
   },
   "outputs": [],
   "source": [
    "features_path = '/Users/jk1/temp/opsum_prepro_output/gsu_prepro_01012023_233050/preprocessed_features_01012023_233050.csv'\n",
    "labels_path = '/Users/jk1/temp/opsum_prepro_output/gsu_prepro_01012023_233050/preprocessed_outcomes_01012023_233050.csv'"
   ]
  },
  {
   "cell_type": "code",
   "execution_count": null,
   "metadata": {
    "ExecuteTime": {
     "end_time": "2023-04-16T12:58:04.024137Z",
     "start_time": "2023-04-16T12:58:04.019788Z"
    }
   },
   "outputs": [],
   "source": [
    "model_config_path = '/Users/jk1/temp/opsum_prediction_output/transformer/3M_mrs02/transformer_20230402_184459_test_set_evaluation/hyperopt_selected_transformer_20230402_184459.json'\n",
    "model_weights_path = '/Users/jk1/temp/opsum_prediction_output/transformer/3M_mrs02/transformer_20230402_184459_test_set_evaluation/trained_models/checkpoints_opsum_transformer_20230402_184459_cv_2/opsum_transformer_epoch=14_val_auroc=0.9222.ckpt'"
   ]
  },
  {
   "cell_type": "code",
   "execution_count": null,
   "metadata": {
    "ExecuteTime": {
     "end_time": "2023-04-16T13:03:18.005305Z",
     "start_time": "2023-04-16T13:03:17.997259Z"
    }
   },
   "outputs": [],
   "source": [
    "outcome = '3M mRS 0-2'\n",
    "test_size = 0.2\n",
    "n_splits = 5\n",
    "seed = 42\n",
    "n_samples_background = 1"
   ]
  },
  {
   "cell_type": "markdown",
   "metadata": {
    "collapsed": false
   },
   "source": [
    "## Load model"
   ]
  },
  {
   "cell_type": "code",
   "execution_count": null,
   "metadata": {
    "ExecuteTime": {
     "end_time": "2023-04-16T13:02:06.154226Z",
     "start_time": "2023-04-16T13:02:06.150151Z"
    }
   },
   "outputs": [],
   "source": [
    "# load model config\n",
    "model_config = json.load(open(model_config_path, 'r'))"
   ]
  },
  {
   "cell_type": "code",
   "execution_count": null,
   "metadata": {
    "ExecuteTime": {
     "end_time": "2023-04-16T12:58:09.395846Z",
     "start_time": "2023-04-16T12:58:06.201486Z"
    }
   },
   "outputs": [],
   "source": [
    "ff_factor = 2\n",
    "ff_dim = ff_factor * model_config['model_dim']\n",
    "pos_encode_factor = 1\n",
    "\n",
    "model_architecture = OPSUMTransformer(\n",
    "    input_dim=84,\n",
    "    num_layers=int(model_config['num_layers']),\n",
    "    model_dim=int(model_config['model_dim']),\n",
    "    dropout=int(model_config['dropout']),\n",
    "    ff_dim=int(ff_dim),\n",
    "    num_heads=int(model_config['num_head']),\n",
    "    num_classes=1,\n",
    "    max_dim=500,\n",
    "    pos_encode_factor=pos_encode_factor\n",
    ")\n",
    "\n",
    "trained_model = LitModel.load_from_checkpoint(checkpoint_path=model_weights_path, model=model_architecture,\n",
    "                                              lr=model_config['lr'],\n",
    "                                              wd=model_config['weight_decay'],\n",
    "                                              train_noise=model_config['train_noise'])\n"
   ]
  },
  {
   "cell_type": "markdown",
   "metadata": {
    "collapsed": false
   },
   "source": [
    "## Load data"
   ]
  },
  {
   "cell_type": "code",
   "execution_count": null,
   "metadata": {
    "ExecuteTime": {
     "end_time": "2023-04-16T13:02:06.002772Z",
     "start_time": "2023-04-16T12:59:39.918564Z"
    }
   },
   "outputs": [],
   "source": [
    "from prediction.outcome_prediction.data_loading.data_loader import load_data\n",
    "\n",
    "pids, train_data, test_data, train_splits, test_features_lookup_table = load_data(features_path, labels_path, outcome, test_size, n_splits, seed)\n",
    "fold_X_train, _, fold_y_train, _ = train_splits[int(model_config['best_cv_fold'])]"
   ]
  },
  {
   "cell_type": "code",
   "execution_count": null,
   "metadata": {
    "ExecuteTime": {
     "end_time": "2023-04-16T13:08:36.552381Z",
     "start_time": "2023-04-16T13:08:36.545962Z"
    }
   },
   "outputs": [],
   "source": [
    "X_test, y_test = test_data\n",
    "X_train, y_train = fold_X_train, fold_y_train"
   ]
  },
  {
   "cell_type": "code",
   "execution_count": null,
   "metadata": {
    "ExecuteTime": {
     "end_time": "2023-04-16T13:03:22.778363Z",
     "start_time": "2023-04-16T13:03:22.746213Z"
    }
   },
   "outputs": [],
   "source": [
    "\n"
   ]
  },
  {
   "cell_type": "code",
   "execution_count": null,
   "metadata": {
    "ExecuteTime": {
     "end_time": "2023-04-16T13:06:03.629133Z",
     "start_time": "2023-04-16T13:06:03.057512Z"
    }
   },
   "outputs": [],
   "source": [
    "\n"
   ]
  },
  {
   "cell_type": "markdown",
   "metadata": {
    "collapsed": false
   },
   "source": [
    "## Prepare data"
   ]
  },
  {
   "cell_type": "code",
   "execution_count": null,
   "metadata": {
    "ExecuteTime": {
     "end_time": "2023-04-16T13:06:34.788177Z",
     "start_time": "2023-04-16T13:06:34.783802Z"
    }
   },
   "outputs": [],
   "source": [
    "ts = 0"
   ]
  },
  {
   "cell_type": "code",
   "execution_count": null,
   "metadata": {
    "ExecuteTime": {
     "end_time": "2023-04-16T13:10:33.742797Z",
     "start_time": "2023-04-16T13:10:33.730345Z"
    }
   },
   "outputs": [],
   "source": [
    "modified_time_steps = ts + 1\n",
    "\n",
    "X_test_with_first_n_ts = X_test[:, 0:modified_time_steps, :]\n",
    "X_train_with_first_n_ts = X_train[:, 0:modified_time_steps, :]\n",
    "\n",
    "train_dataset, test_dataset = prepare_dataset((X_train_with_first_n_ts, X_test_with_first_n_ts, y_train, y_test),\n",
    "                                              balanced=model_config['balanced'],\n",
    "                                              rescale=True,\n",
    "                                              use_gpu=False)"
   ]
  },
  {
   "cell_type": "code",
   "execution_count": null,
   "metadata": {
    "ExecuteTime": {
     "end_time": "2023-04-16T13:10:36.261071Z",
     "start_time": "2023-04-16T13:10:36.242916Z"
    }
   },
   "outputs": [],
   "source": [
    "# Prepare background dataset (use all training data in batch size)\n",
    "train_loader = DataLoader(train_dataset, batch_size=X_train.shape[0], shuffle=True, drop_last=True)\n",
    "\n",
    "batch = next(iter(train_loader))\n",
    "train_sample, _ = batch\n",
    "background = train_sample[:n_samples_background]\n",
    "\n",
    "test_loader = DataLoader(test_dataset, batch_size=1024)\n",
    "batch = next(iter(test_loader))\n",
    "test_samples, _ = batch"
   ]
  },
  {
   "cell_type": "code",
   "execution_count": null,
   "metadata": {
    "ExecuteTime": {
     "end_time": "2023-04-16T13:10:43.887591Z",
     "start_time": "2023-04-16T13:10:43.839885Z"
    }
   },
   "outputs": [],
   "source": [
    "# Initialize DeepExplainer\n",
    "explainer = shap.DeepExplainer(trained_model.model.to(background.device), background)"
   ]
  },
  {
   "cell_type": "code",
   "execution_count": null,
   "metadata": {
    "ExecuteTime": {
     "end_time": "2023-04-16T13:11:49.164520Z",
     "start_time": "2023-04-16T13:10:45.569162Z"
    }
   },
   "outputs": [],
   "source": [
    "explainer.shap_values(test_samples)"
   ]
  },
  {
   "cell_type": "code",
   "execution_count": null,
   "metadata": {},
   "outputs": [],
   "source": []
  }
 ],
 "metadata": {
  "kernelspec": {
   "display_name": "Python 3",
   "language": "python",
   "name": "python3"
  },
  "language_info": {
   "codemirror_mode": {
    "name": "ipython",
    "version": 2
   },
   "file_extension": ".py",
   "mimetype": "text/x-python",
   "name": "python",
   "nbconvert_exporter": "python",
   "pygments_lexer": "ipython2",
   "version": "2.7.6"
  }
 },
 "nbformat": 4,
 "nbformat_minor": 0
}
