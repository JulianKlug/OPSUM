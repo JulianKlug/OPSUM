{
 "cells": [
  {
   "cell_type": "code",
   "execution_count": null,
   "metadata": {
    "ExecuteTime": {
     "end_time": "2023-05-04T17:59:12.082432Z",
     "start_time": "2023-05-04T17:59:12.079587Z"
    }
   },
   "outputs": [],
   "source": [
    "import matplotlib.pyplot as plt\n",
    "import pandas as pd\n",
    "import os\n",
    "import seaborn as sns"
   ]
  },
  {
   "cell_type": "code",
   "execution_count": null,
   "metadata": {
    "ExecuteTime": {
     "end_time": "2023-05-04T17:59:12.090777Z",
     "start_time": "2023-05-04T17:59:12.083325Z"
    }
   },
   "outputs": [],
   "source": [
    "analysis = 'mrs02'"
   ]
  },
  {
   "cell_type": "code",
   "execution_count": null,
   "metadata": {
    "ExecuteTime": {
     "end_time": "2023-05-04T17:59:12.090939Z",
     "start_time": "2023-05-04T17:59:12.087159Z"
    }
   },
   "outputs": [],
   "source": [
    "# output_dir = '/Users/jk1/temp/opsum_prediction_output/transformer/3M_Death'"
   ]
  },
  {
   "cell_type": "code",
   "execution_count": null,
   "metadata": {
    "ExecuteTime": {
     "end_time": "2023-05-04T18:00:16.861203Z",
     "start_time": "2023-05-04T18:00:16.856071Z"
    }
   },
   "outputs": [],
   "source": [
    "# paths for 3M mrs 02\n",
    "gridsearch_path_v1 = '/Users/jk1/temp/opsum_prediction_output/transformer/3M_mrs02/training/gridsearch_v1.jsonl'\n",
    "gridsearch_path_v2 = '/Users/jk1/temp/opsum_prediction_output/transformer/3M_mrs02/training/gridsearch_v2.jsonl'\n",
    "gridsearch_path_v3 = '/Users/jk1/temp/opsum_prediction_output/transformer/3M_mrs02/training/gridsearch_v3.jsonl'\n",
    "gridsearch_path_v4 = '/Users/jk1/temp/opsum_prediction_output/transformer/3M_mrs02/training/gridsearch_v4.jsonl'\n",
    "gridsearch_path_v4_n_5 = '/Users/jk1/temp/opsum_prediction_output/transformer/3M_mrs02/training/gridsearch_v4,5.jsonl'\n",
    "gridsearch_path_v5n1 = '/Users/jk1/temp/opsum_prediction_output/transformer/3M_mrs02/training/gridsearch_v5,1.jsonl'\n",
    "gridsearch_path_v5n2 = '/Users/jk1/temp/opsum_prediction_output/transformer/3M_mrs02/training/gridsearch_v5,2.jsonl'\n",
    "gridsearch_path_v6 = '/Users/jk1/temp/opsum_prediction_output/transformer/3M_mrs02/training/gridsearch_v6.jsonl'\n",
    "gridsearch_path_v7n1 = '/Users/jk1/temp/opsum_prediction_output/transformer/3M_mrs02/training/gridsearch_v7,1.jsonl'\n",
    "gridsearch_path_v7n2 = '/Users/jk1/temp/opsum_prediction_output/transformer/3M_mrs02/training/gridsearch_v7,2.jsonl'\n",
    "gridsearch_path_v7n3 = '/Users/jk1/temp/opsum_prediction_output/transformer/3M_mrs02/training/gridsearch_v7,3.jsonl'\n",
    "gridsearch_path_v7n4 = '/Users/jk1/temp/opsum_prediction_output/transformer/3M_mrs02/training/gridsearch_v7,4.jsonl'\n",
    "gridsearch_path_v7n5 = '/Users/jk1/temp/opsum_prediction_output/transformer/3M_mrs02/training/gridsearch_v7,5.jsonl'\n",
    "gridsearch_path_v7n6 = '/Users/jk1/temp/opsum_prediction_output/transformer/3M_mrs02/training/gridsearch_v7,6.jsonl'"
   ]
  },
  {
   "cell_type": "code",
   "execution_count": null,
   "metadata": {
    "ExecuteTime": {
     "end_time": "2023-05-04T18:00:17.378373Z",
     "start_time": "2023-05-04T18:00:17.371889Z"
    }
   },
   "outputs": [],
   "source": [
    "# paths for 3M death\n",
    "death_gridsearch_path_v1 = '/Users/jk1/temp/opsum_prediction_output/transformer/3M_Death/gridsearch.jsonl'"
   ]
  },
  {
   "cell_type": "code",
   "execution_count": null,
   "metadata": {
    "ExecuteTime": {
     "end_time": "2023-05-04T18:00:18.653980Z",
     "start_time": "2023-05-04T18:00:18.527602Z"
    }
   },
   "outputs": [],
   "source": [
    "df_v1 = pd.read_json(gridsearch_path_v1, lines=True, dtype={'timestamp': 'object'}, convert_dates=False).drop(0).dropna(axis=1, how='all')\n",
    "df_v2 = pd.read_json(gridsearch_path_v2, lines=True, dtype={'timestamp': 'object'}, convert_dates=False)\n",
    "df_v3 = pd.read_json(gridsearch_path_v3, lines=True, dtype={'timestamp': 'object'}, convert_dates=False)\n",
    "df_v4 = pd.read_json(gridsearch_path_v4, lines=True, dtype={'timestamp': 'object'}, convert_dates=False)\n",
    "df_v4_n_5 = pd.read_json(gridsearch_path_v4_n_5, lines=True, dtype={'timestamp': 'object'}, convert_dates=False)\n",
    "df_v5n1 = pd.read_json(gridsearch_path_v5n1, lines=True, dtype={'timestamp': 'object'}, convert_dates=False)\n",
    "df_v5n2 = pd.read_json(gridsearch_path_v5n2, lines=True, dtype={'timestamp': 'object'}, convert_dates=False)\n",
    "df_v6 = pd.read_json(gridsearch_path_v6, lines=True, dtype={'timestamp': 'object'}, convert_dates=False)\n",
    "df_7n1 = pd.read_json(gridsearch_path_v7n1, lines=True, dtype={'timestamp': 'object'}, convert_dates=False)\n",
    "df_7n2 = pd.read_json(gridsearch_path_v7n2, lines=True, dtype={'timestamp': 'object'}, convert_dates=False)\n",
    "df_7n3 = pd.read_json(gridsearch_path_v7n3, lines=True, dtype={'timestamp': 'object'}, convert_dates=False)\n",
    "df_7n4 = pd.read_json(gridsearch_path_v7n4, lines=True, dtype={'timestamp': 'object'}, convert_dates=False)\n",
    "df_7n5 = pd.read_json(gridsearch_path_v7n5, lines=True, dtype={'timestamp': 'object'}, convert_dates=False)\n",
    "df_7n6 = pd.read_json(gridsearch_path_v7n6, lines=True, dtype={'timestamp': 'object'}, convert_dates=False)\n"
   ]
  },
  {
   "cell_type": "code",
   "execution_count": null,
   "metadata": {
    "ExecuteTime": {
     "end_time": "2023-05-04T18:00:20.022888Z",
     "start_time": "2023-05-04T18:00:19.991932Z"
    }
   },
   "outputs": [],
   "source": [
    "mrs02_df = pd.concat([df_v1, df_v2, df_v3, df_v4, df_v4_n_5, df_v5n1, df_v5n2, df_v6, df_7n1, df_7n2, df_7n3, df_7n4, df_7n5, df_7n6], axis=0)\n",
    "mrs02_df['feature_aggregation'].fillna(False, inplace=True)\n",
    "mrs02_df['n_lr_warm_up_steps'].fillna(0, inplace=True)\n",
    "mrs02_df.shape"
   ]
  },
  {
   "cell_type": "code",
   "execution_count": null,
   "metadata": {
    "ExecuteTime": {
     "end_time": "2023-04-13T20:12:19.992568Z",
     "start_time": "2023-04-13T20:12:19.971722Z"
    }
   },
   "outputs": [],
   "source": [
    "death_df = pd.read_json(death_gridsearch_path_v1, lines=True, dtype={'timestamp': 'object'}, convert_dates=False)"
   ]
  },
  {
   "cell_type": "code",
   "execution_count": null,
   "metadata": {
    "ExecuteTime": {
     "end_time": "2023-04-13T20:12:21.179049Z",
     "start_time": "2023-04-13T20:12:21.175591Z"
    }
   },
   "outputs": [],
   "source": [
    "if analysis == 'mrs02':\n",
    "    df = mrs02_df\n",
    "else:\n",
    "    df = death_df"
   ]
  },
  {
   "cell_type": "code",
   "execution_count": null,
   "metadata": {
    "ExecuteTime": {
     "end_time": "2023-04-13T20:12:22.440697Z",
     "start_time": "2023-04-13T20:12:22.413213Z"
    }
   },
   "outputs": [],
   "source": [
    "df"
   ]
  },
  {
   "cell_type": "code",
   "execution_count": null,
   "metadata": {
    "ExecuteTime": {
     "end_time": "2023-04-13T20:12:53.343389Z",
     "start_time": "2023-04-13T20:12:53.318836Z"
    }
   },
   "outputs": [],
   "source": [
    "# find best by median_val_scores\n",
    "best_df = df.sort_values('median_val_scores', ascending=False).head(1)\n",
    "best_df"
   ]
  },
  {
   "cell_type": "code",
   "execution_count": null,
   "metadata": {
    "ExecuteTime": {
     "end_time": "2023-04-13T20:14:06.730158Z",
     "start_time": "2023-04-13T20:14:06.724212Z"
    }
   },
   "outputs": [],
   "source": [
    "# convert best_df to json\n",
    "best_df.to_json(os.path.join(output_dir, f'hyperopt_selected_transformer_{analysis}_{best_df[\"timestamp\"].values[0]}.json'), orient='records', lines=True)"
   ]
  },
  {
   "cell_type": "code",
   "execution_count": null,
   "metadata": {
    "ExecuteTime": {
     "end_time": "2023-04-13T20:14:09.016969Z",
     "start_time": "2023-04-13T20:14:08.771443Z"
    }
   },
   "outputs": [],
   "source": [
    "# plot histogram of median_val_scores\n",
    "ax = sns.histplot(x='median_val_scores', data=df)\n",
    "ax.figure.set_size_inches(10,10)\n",
    "ax.set_title('Median validation scores')\n",
    "plt.show()"
   ]
  },
  {
   "cell_type": "code",
   "execution_count": null,
   "metadata": {
    "ExecuteTime": {
     "end_time": "2023-04-13T20:14:11.445995Z",
     "start_time": "2023-04-13T20:14:11.437179Z"
    },
    "pycharm": {
     "name": "#%%¨\n"
    }
   },
   "outputs": [],
   "source": [
    "cat_gs_variables = ['num_layers', 'model_dim',\n",
    "        'batch_size', 'balanced',\n",
    "       'num_head']\n",
    "cont_gs_variables = ['dropout', 'train_noise',\n",
    "       'lr', 'weight_decay','grad_clip_value']"
   ]
  },
  {
   "cell_type": "code",
   "execution_count": null,
   "metadata": {
    "ExecuteTime": {
     "end_time": "2023-04-13T20:14:13.210653Z",
     "start_time": "2023-04-13T20:14:13.068082Z"
    }
   },
   "outputs": [],
   "source": [
    "ax = sns.boxplot(x='num_layers', y='median_val_scores', data=df, hue='feature_aggregation')\n",
    "# set figure size to 10,10\n",
    "ax.figure.set_size_inches(10,10)\n",
    "ax.set_title('Number of layers')\n",
    "ax.set_ylim(0.88, 0.92)\n",
    "plt.show()"
   ]
  },
  {
   "cell_type": "code",
   "execution_count": null,
   "metadata": {
    "ExecuteTime": {
     "end_time": "2023-04-13T20:14:14.353812Z",
     "start_time": "2023-04-13T20:14:14.215347Z"
    }
   },
   "outputs": [],
   "source": [
    "ax = sns.boxplot(x='model_dim', y='median_val_scores', data=df, hue='feature_aggregation')\n",
    "ax.figure.set_size_inches(10,10)\n",
    "ax.set_title('Model dimension')\n",
    "ax.set_ylim(0.88, 0.92)\n",
    "plt.show()"
   ]
  },
  {
   "cell_type": "code",
   "execution_count": null,
   "metadata": {
    "ExecuteTime": {
     "end_time": "2023-04-13T20:14:15.339246Z",
     "start_time": "2023-04-13T20:14:15.213972Z"
    }
   },
   "outputs": [],
   "source": [
    "ax = sns.boxplot(x='feature_aggregation', y='median_val_scores', data=df)\n",
    "ax.figure.set_size_inches(10,10)\n",
    "ax.set_title('Feature aggregation')\n",
    "ax.set_ylim(0.88, 0.92)\n",
    "plt.show()"
   ]
  },
  {
   "cell_type": "code",
   "execution_count": null,
   "metadata": {
    "ExecuteTime": {
     "end_time": "2023-04-13T20:14:16.109702Z",
     "start_time": "2023-04-13T20:14:15.991194Z"
    }
   },
   "outputs": [],
   "source": [
    "ax = sns.boxplot(x='batch_size', y='median_val_scores', data=df)\n",
    "ax.set_title('Batch size')\n",
    "ax.figure.set_size_inches(10,10)\n",
    "ax.set_ylim(0.88, 0.92)\n",
    "plt.show()"
   ]
  },
  {
   "cell_type": "code",
   "execution_count": null,
   "metadata": {
    "ExecuteTime": {
     "end_time": "2023-04-13T20:14:16.888751Z",
     "start_time": "2023-04-13T20:14:16.703639Z"
    }
   },
   "outputs": [],
   "source": [
    "ax = sns.boxplot(x='n_lr_warm_up_steps', y='median_val_scores', data=df, palette='Set2')\n",
    "ax.set_title('Warm up')\n",
    "ax.figure.set_size_inches(10,10)\n",
    "ax.set_ylim(0.88, 0.92)\n",
    "plt.show()"
   ]
  },
  {
   "cell_type": "code",
   "execution_count": null,
   "metadata": {
    "ExecuteTime": {
     "end_time": "2023-04-13T20:14:19.488015Z",
     "start_time": "2023-04-13T20:14:19.283728Z"
    }
   },
   "outputs": [],
   "source": [
    "ax = sns.boxplot(x='balanced', y='median_val_scores', data=df)\n",
    "ax.figure.set_size_inches(10,10)\n",
    "ax.set_title('Balanced')\n",
    "ax.set_ylim(0.88, 0.92)\n",
    "plt.show()"
   ]
  },
  {
   "cell_type": "code",
   "execution_count": null,
   "metadata": {
    "ExecuteTime": {
     "end_time": "2023-04-13T20:14:20.563479Z",
     "start_time": "2023-04-13T20:14:20.335024Z"
    }
   },
   "outputs": [],
   "source": [
    "ax = sns.boxplot(x='num_head', y='median_val_scores', data=df)\n",
    "ax.figure.set_size_inches(10,10)\n",
    "ax.set_title('Number of heads')\n",
    "ax.set_ylim(0.88, 0.92)\n",
    "plt.show()"
   ]
  },
  {
   "cell_type": "code",
   "execution_count": null,
   "metadata": {
    "ExecuteTime": {
     "end_time": "2023-04-13T20:14:21.942604Z",
     "start_time": "2023-04-13T20:14:21.333727Z"
    }
   },
   "outputs": [],
   "source": [
    "ax = sns.scatterplot(x='dropout', y='median_val_scores', data=df, hue='model_dim')\n",
    "ax.figure.set_size_inches(10,10)\n",
    "ax.set_title('Dropout')\n",
    "ax.set_ylim(0.88, 0.92)\n",
    "plt.show()"
   ]
  },
  {
   "cell_type": "code",
   "execution_count": null,
   "metadata": {
    "ExecuteTime": {
     "end_time": "2023-04-13T20:14:26.806566Z",
     "start_time": "2023-04-13T20:14:25.569193Z"
    }
   },
   "outputs": [],
   "source": [
    "ax = sns.regplot(x='train_noise', y='median_val_scores', data=df, logx=True)\n",
    "ax.figure.set_size_inches(10,10)\n",
    "ax.set_title('Train noise')\n",
    "ax.set_ylim(0.88, 0.92)\n",
    "ax.set_xscale('log')\n",
    "plt.show()"
   ]
  },
  {
   "cell_type": "code",
   "execution_count": null,
   "metadata": {
    "ExecuteTime": {
     "end_time": "2023-04-13T20:14:27.984122Z",
     "start_time": "2023-04-13T20:14:27.723061Z"
    }
   },
   "outputs": [],
   "source": [
    "ax = sns.scatterplot(x='lr', y='median_val_scores', data=df)\n",
    "ax.figure.set_size_inches(10,10)\n",
    "ax.set_title('Learning rate')\n",
    "ax.set_ylim(0.88, 0.92)\n",
    "plt.show()"
   ]
  },
  {
   "cell_type": "code",
   "execution_count": null,
   "metadata": {
    "ExecuteTime": {
     "end_time": "2023-04-13T20:14:29.138891Z",
     "start_time": "2023-04-13T20:14:28.886009Z"
    }
   },
   "outputs": [],
   "source": [
    "ax = sns.scatterplot(x='weight_decay', y='median_val_scores', data=df)\n",
    "ax.figure.set_size_inches(10,10)\n",
    "ax.set_title('Weight decay')\n",
    "ax.set_ylim(0.88, 0.92)\n",
    "ax.set_xlim(0, 0.1)\n",
    "plt.show()"
   ]
  },
  {
   "cell_type": "code",
   "execution_count": null,
   "metadata": {
    "ExecuteTime": {
     "end_time": "2023-04-13T20:14:31.393309Z",
     "start_time": "2023-04-13T20:14:31.117188Z"
    }
   },
   "outputs": [],
   "source": [
    "ax = sns.scatterplot(x='grad_clip_value', y='median_val_scores', data=df)\n",
    "ax.figure.set_size_inches(10,10)\n",
    "ax.set_title('Gradient clipping')\n",
    "ax.set_ylim(0.88, 0.92)\n",
    "plt.show()"
   ]
  },
  {
   "cell_type": "code",
   "execution_count": null,
   "metadata": {
    "ExecuteTime": {
     "end_time": "2023-04-13T20:14:35.384382Z",
     "start_time": "2023-04-13T20:14:32.227792Z"
    }
   },
   "outputs": [],
   "source": [
    "# plot a grid with all previous plots\n",
    "fig, axes = plt.subplots(4, 3, figsize=(25, 25))\n",
    "sns.boxplot(x='num_layers', y='median_val_scores', data=df, hue='feature_aggregation', ax=axes[0,0])\n",
    "sns.boxplot(x='model_dim', y='median_val_scores', data=df, hue='feature_aggregation', ax=axes[0,1])\n",
    "sns.boxplot(x='batch_size', y='median_val_scores', data=df, ax=axes[1,0])\n",
    "sns.boxplot(x='balanced', y='median_val_scores', data=df, ax=axes[1,1])\n",
    "sns.boxplot(x='num_head', y='median_val_scores', data=df, ax=axes[1,2])\n",
    "sns.regplot(x='dropout', y='median_val_scores', data=df, ax=axes[2,0])\n",
    "sns.regplot(x='train_noise', y='median_val_scores', data=df, logx=True, ax=axes[2,1])\n",
    "# set x scale to log for train noise plot\n",
    "axes[2,1].set_xscale('log')\n",
    "sns.scatterplot(x='lr', y='median_val_scores', data=df, ax=axes[2,2])\n",
    "sns.scatterplot(x='weight_decay', y='median_val_scores', data=df, ax=axes[0,2])\n",
    "# set x limits to 0, 0.1 for weight decay plot\n",
    "axes[0,2].set_xlim(0, 0.1)\n",
    "sns.scatterplot(x='grad_clip_value', y='median_val_scores', data=df, ax=axes[3,0])\n",
    "\n",
    "# set y limits to 0.88, 0.92 for all plots\n",
    "for ax in axes.flat:\n",
    "    ax.set_ylim(0.88, 0.915)\n",
    "\n",
    "plt.show()\n"
   ]
  },
  {
   "cell_type": "code",
   "execution_count": null,
   "metadata": {
    "ExecuteTime": {
     "end_time": "2023-04-07T17:37:34.590579Z",
     "start_time": "2023-04-07T17:37:34.590514Z"
    }
   },
   "outputs": [],
   "source": [
    "# fig.savefig('/Users/jk1/Downloads/gridsearch_results.png', dpi=300)"
   ]
  },
  {
   "cell_type": "code",
   "execution_count": null,
   "metadata": {
    "ExecuteTime": {
     "end_time": "2023-04-07T17:37:36.061175Z",
     "start_time": "2023-04-07T17:37:34.590731Z"
    }
   },
   "outputs": [],
   "source": [
    "# plot interaction between number of layers and model dimension\n",
    "ax = sns.catplot(x='num_layers', y='median_val_scores', data=df, kind='box', col='model_dim', col_wrap=3)\n",
    "ax.set_titles('Model dimension: {col_name}')\n",
    "ax.set_axis_labels('Number of layers', 'Median validation score')\n",
    "ax.set(ylim=(0.88, 0.92))\n",
    "plt.show()"
   ]
  },
  {
   "cell_type": "markdown",
   "metadata": {
    "collapsed": false
   },
   "source": [
    "## Focus on best model dimension"
   ]
  },
  {
   "cell_type": "code",
   "execution_count": null,
   "metadata": {
    "ExecuteTime": {
     "end_time": "2023-04-07T17:37:36.061310Z",
     "start_time": "2023-04-07T17:37:36.023358Z"
    }
   },
   "outputs": [],
   "source": [
    "best_model_dimension = 1024\n",
    "df_best_model_dim = df[df['model_dim'] == best_model_dimension]"
   ]
  },
  {
   "cell_type": "code",
   "execution_count": null,
   "metadata": {
    "ExecuteTime": {
     "end_time": "2023-04-07T17:37:38.556850Z",
     "start_time": "2023-04-07T17:37:36.040777Z"
    }
   },
   "outputs": [],
   "source": [
    "# plot a grid with all previous plots\n",
    "fig, axes = plt.subplots(4, 3, figsize=(25, 25))\n",
    "sns.boxplot(x='num_layers', y='median_val_scores', data=df_best_model_dim, ax=axes[0,0])\n",
    "sns.boxplot(x='batch_size', y='median_val_scores', data=df_best_model_dim, ax=axes[1,0])\n",
    "sns.boxplot(x='balanced', y='median_val_scores', data=df_best_model_dim, ax=axes[1,1])\n",
    "sns.boxplot(x='num_head', y='median_val_scores', data=df_best_model_dim, ax=axes[1,2])\n",
    "sns.regplot(x='dropout', y='median_val_scores', data=df_best_model_dim, ax=axes[2,0])\n",
    "sns.regplot(x='train_noise', y='median_val_scores', data=df_best_model_dim, logx=True, ax=axes[2,1])\n",
    "# set x scale to log for train noise plot\n",
    "axes[2,1].set_xscale('log')\n",
    "sns.scatterplot(x='lr', y='median_val_scores', data=df_best_model_dim, ax=axes[2,2])\n",
    "sns.scatterplot(x='weight_decay', y='median_val_scores', data=df_best_model_dim, ax=axes[0,2])\n",
    "# set x limits to 0, 0.1 for weight decay plot\n",
    "axes[0,2].set_xlim(0, 0.0002)\n",
    "sns.scatterplot(x='grad_clip_value', y='median_val_scores', data=df_best_model_dim, ax=axes[3,0])\n",
    "# set x limits to 0, 0.5 for grad_clip_value plot\n",
    "axes[3,0].set_xlim(0, 0.5)\n",
    "\n",
    "# set y limits to 0.88, 0.92 for all plots\n",
    "for ax in axes.flat:\n",
    "    ax.set_ylim(0.88, 0.915)\n",
    "\n",
    "plt.show()"
   ]
  },
  {
   "cell_type": "markdown",
   "metadata": {
    "collapsed": false
   },
   "source": [
    "## Model weight cleaning\n",
    "\n",
    "Select only best models for Model weight cleaning"
   ]
  },
  {
   "cell_type": "code",
   "execution_count": null,
   "metadata": {
    "ExecuteTime": {
     "end_time": "2023-04-13T20:15:26.245547Z",
     "start_time": "2023-04-13T20:15:26.238069Z"
    }
   },
   "outputs": [],
   "source": [
    "# find top X timestamps for median validation score, median rolling val score and worst cv fold validation score\n",
    "top_n = 3\n",
    "model_timestamps_to_retain = []\n",
    "for metric in ['median_val_scores', 'median_rolling_val_scores', 'worst_cv_fold_val_score']:\n",
    "    model_timestamps_to_retain.extend(df.sort_values(by=metric, ascending=False).head(top_n)['timestamp'].values)\n",
    "model_timestamps_to_retain"
   ]
  },
  {
   "cell_type": "code",
   "execution_count": null,
   "metadata": {
    "ExecuteTime": {
     "end_time": "2023-04-13T20:15:47.074964Z",
     "start_time": "2023-04-13T20:15:47.055709Z"
    }
   },
   "outputs": [],
   "source": [
    "# pd.DataFrame(model_timestamps_to_retain, columns=['timestamp']).to_csv(f'/Users/jk1/Downloads/{analysis}_model_timestamps_to_retain.csv', index=False)"
   ]
  },
  {
   "cell_type": "code",
   "execution_count": null,
   "metadata": {},
   "outputs": [],
   "source": []
  }
 ],
 "metadata": {
  "kernelspec": {
   "display_name": "Python 3",
   "language": "python",
   "name": "python3"
  },
  "language_info": {
   "codemirror_mode": {
    "name": "ipython",
    "version": 2
   },
   "file_extension": ".py",
   "mimetype": "text/x-python",
   "name": "python",
   "nbconvert_exporter": "python",
   "pygments_lexer": "ipython2",
   "version": "2.7.6"
  }
 },
 "nbformat": 4,
 "nbformat_minor": 0
}
