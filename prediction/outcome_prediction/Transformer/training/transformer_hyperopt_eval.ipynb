{
 "cells": [
  {
   "cell_type": "code",
   "execution_count": null,
   "metadata": {
    "ExecuteTime": {
     "end_time": "2023-04-03T23:00:39.551334Z",
     "start_time": "2023-04-03T23:00:39.539303Z"
    }
   },
   "outputs": [],
   "source": [
    "import matplotlib.pyplot as plt\n",
    "import pandas as pd\n",
    "import os\n",
    "import seaborn as sns"
   ]
  },
  {
   "cell_type": "code",
   "execution_count": null,
   "metadata": {
    "ExecuteTime": {
     "end_time": "2023-04-03T23:00:38.192968Z",
     "start_time": "2023-04-03T23:00:38.188456Z"
    }
   },
   "outputs": [],
   "source": [
    "gridsearch_path_v1 = '/Users/jk1/Downloads/gridsearch_v1.jsonl'\n",
    "gridsearch_path_v2 = '/Users/jk1/Downloads/gridsearch_v2.jsonl'\n",
    "gridsearch_path_v3 = '/Users/jk1/Downloads/gridsearch_v3.jsonl'\n",
    "gridsearch_path_v4 = '/Users/jk1/Downloads/gridsearch_v4.jsonl'\n",
    "gridsearch_path_v4_n_5 = '/Users/jk1/Downloads/gridsearch_v4,5.jsonl'\n",
    "gridsearch_path_v5n1 = '/Users/jk1/Downloads/gridsearch_v5,1.jsonl'\n",
    "gridsearch_path_v5n2 = '/Users/jk1/Downloads/gridsearch_v5,2.jsonl'\n",
    "gridsearch_path_v6 = '/Users/jk1/Downloads/gridsearch_v6.jsonl'"
   ]
  },
  {
   "cell_type": "code",
   "execution_count": null,
   "metadata": {
    "ExecuteTime": {
     "end_time": "2023-04-03T23:00:44.788532Z",
     "start_time": "2023-04-03T23:00:44.707801Z"
    }
   },
   "outputs": [],
   "source": [
    "df_v1 = pd.read_json(gridsearch_path_v1, lines=True, dtype={'timestamp': 'object'}, convert_dates=False).drop(0).dropna(axis=1, how='all')\n",
    "df_v2 = pd.read_json(gridsearch_path_v2, lines=True, dtype={'timestamp': 'object'}, convert_dates=False)\n",
    "df_v3 = pd.read_json(gridsearch_path_v3, lines=True, dtype={'timestamp': 'object'}, convert_dates=False)\n",
    "df_v4 = pd.read_json(gridsearch_path_v4, lines=True, dtype={'timestamp': 'object'}, convert_dates=False)\n",
    "df_v4_n_5 = pd.read_json(gridsearch_path_v4_n_5, lines=True, dtype={'timestamp': 'object'}, convert_dates=False)\n",
    "df_v5n1 = pd.read_json(gridsearch_path_v5n1, lines=True, dtype={'timestamp': 'object'}, convert_dates=False)\n",
    "df_v5n2 = pd.read_json(gridsearch_path_v5n2, lines=True, dtype={'timestamp': 'object'}, convert_dates=False)\n",
    "df_v6 = pd.read_json(gridsearch_path_v6, lines=True, dtype={'timestamp': 'object'}, convert_dates=False)"
   ]
  },
  {
   "cell_type": "code",
   "execution_count": null,
   "metadata": {},
   "outputs": [],
   "source": [
    "df_v3.shape"
   ]
  },
  {
   "cell_type": "code",
   "execution_count": null,
   "metadata": {
    "ExecuteTime": {
     "end_time": "2023-04-03T23:00:52.084502Z",
     "start_time": "2023-04-03T23:00:52.057442Z"
    }
   },
   "outputs": [],
   "source": [
    "df = pd.concat([df_v1, df_v2, df_v3, df_v4, df_v4_n_5, df_v5n1, df_v5n2, df_v6], axis=0)\n",
    "df['feature_aggregation'].fillna(False, inplace=True)\n",
    "df.shape"
   ]
  },
  {
   "cell_type": "code",
   "execution_count": null,
   "metadata": {
    "ExecuteTime": {
     "end_time": "2023-04-03T23:00:54.198033Z",
     "start_time": "2023-04-03T23:00:54.160998Z"
    }
   },
   "outputs": [],
   "source": [
    "df"
   ]
  },
  {
   "cell_type": "code",
   "execution_count": null,
   "metadata": {
    "ExecuteTime": {
     "end_time": "2023-04-03T23:01:17.629667Z",
     "start_time": "2023-04-03T23:01:17.540288Z"
    }
   },
   "outputs": [],
   "source": [
    "# find best by median_val_scores\n",
    "best_df = df.sort_values('median_val_scores', ascending=False).head(1)\n",
    "best_df"
   ]
  },
  {
   "cell_type": "code",
   "execution_count": null,
   "metadata": {},
   "outputs": [],
   "source": [
    "# convert best_df to json\n",
    "best_df.to_json(os.path.join(os.path.dirname(gridsearch_path_v1), f'hyperopt_selected_transformer_{best_df[\"timestamp\"].values[0]}.json'), orient='records', lines=True)"
   ]
  },
  {
   "cell_type": "code",
   "execution_count": null,
   "metadata": {
    "ExecuteTime": {
     "end_time": "2023-04-03T23:01:24.331457Z",
     "start_time": "2023-04-03T23:01:23.587835Z"
    }
   },
   "outputs": [],
   "source": [
    "# plot histogram of median_val_scores\n",
    "ax = sns.histplot(x='median_val_scores', data=df)\n",
    "ax.figure.set_size_inches(10,10)\n",
    "ax.set_title('Median validation scores')\n",
    "plt.show()"
   ]
  },
  {
   "cell_type": "code",
   "execution_count": null,
   "metadata": {
    "ExecuteTime": {
     "end_time": "2023-04-03T23:01:24.535216Z",
     "start_time": "2023-04-03T23:01:24.522513Z"
    },
    "pycharm": {
     "name": "#%%¨\n"
    }
   },
   "outputs": [],
   "source": [
    "cat_gs_variables = ['num_layers', 'model_dim',\n",
    "        'batch_size', 'balanced',\n",
    "       'num_head']\n",
    "cont_gs_variables = ['dropout', 'train_noise',\n",
    "       'lr', 'weight_decay','grad_clip_value']"
   ]
  },
  {
   "cell_type": "code",
   "execution_count": null,
   "metadata": {
    "ExecuteTime": {
     "end_time": "2023-04-03T23:01:25.702319Z",
     "start_time": "2023-04-03T23:01:25.369941Z"
    }
   },
   "outputs": [],
   "source": [
    "ax = sns.boxplot(x='num_layers', y='median_val_scores', data=df, hue='feature_aggregation')\n",
    "# set figure size to 10,10\n",
    "ax.figure.set_size_inches(10,10)\n",
    "ax.set_title('Number of layers')\n",
    "ax.set_ylim(0.88, 0.92)\n",
    "plt.show()"
   ]
  },
  {
   "cell_type": "code",
   "execution_count": null,
   "metadata": {
    "ExecuteTime": {
     "end_time": "2023-04-03T23:01:26.360301Z",
     "start_time": "2023-04-03T23:01:26.106939Z"
    }
   },
   "outputs": [],
   "source": [
    "ax = sns.boxplot(x='model_dim', y='median_val_scores', data=df, hue='feature_aggregation')\n",
    "ax.figure.set_size_inches(10,10)\n",
    "ax.set_title('Model dimension')\n",
    "ax.set_ylim(0.88, 0.92)\n",
    "plt.show()"
   ]
  },
  {
   "cell_type": "code",
   "execution_count": null,
   "metadata": {
    "ExecuteTime": {
     "end_time": "2023-04-03T23:01:26.827620Z",
     "start_time": "2023-04-03T23:01:26.666306Z"
    }
   },
   "outputs": [],
   "source": [
    "ax = sns.boxplot(x='feature_aggregation', y='median_val_scores', data=df)\n",
    "ax.figure.set_size_inches(10,10)\n",
    "ax.set_title('Feature aggregation')\n",
    "ax.set_ylim(0.88, 0.92)\n",
    "plt.show()"
   ]
  },
  {
   "cell_type": "code",
   "execution_count": null,
   "metadata": {
    "ExecuteTime": {
     "end_time": "2023-04-03T23:01:27.395008Z",
     "start_time": "2023-04-03T23:01:27.212300Z"
    }
   },
   "outputs": [],
   "source": [
    "ax = sns.boxplot(x='batch_size', y='median_val_scores', data=df)\n",
    "ax.set_title('Batch size')\n",
    "ax.figure.set_size_inches(10,10)\n",
    "ax.set_ylim(0.88, 0.92)\n",
    "plt.show()"
   ]
  },
  {
   "cell_type": "code",
   "execution_count": null,
   "metadata": {
    "ExecuteTime": {
     "end_time": "2023-04-03T23:01:28.163116Z",
     "start_time": "2023-04-03T23:01:27.740613Z"
    }
   },
   "outputs": [],
   "source": [
    "ax = sns.boxplot(x='balanced', y='median_val_scores', data=df)\n",
    "ax.figure.set_size_inches(10,10)\n",
    "ax.set_title('Balanced')\n",
    "ax.set_ylim(0.88, 0.92)\n",
    "plt.show()"
   ]
  },
  {
   "cell_type": "code",
   "execution_count": null,
   "metadata": {
    "ExecuteTime": {
     "end_time": "2023-04-03T23:01:28.531887Z",
     "start_time": "2023-04-03T23:01:28.363449Z"
    }
   },
   "outputs": [],
   "source": [
    "ax = sns.boxplot(x='num_head', y='median_val_scores', data=df)\n",
    "ax.figure.set_size_inches(10,10)\n",
    "ax.set_title('Number of heads')\n",
    "ax.set_ylim(0.88, 0.92)\n",
    "plt.show()"
   ]
  },
  {
   "cell_type": "code",
   "execution_count": null,
   "metadata": {
    "ExecuteTime": {
     "end_time": "2023-04-03T23:01:29.196193Z",
     "start_time": "2023-04-03T23:01:28.859865Z"
    }
   },
   "outputs": [],
   "source": [
    "ax = sns.scatterplot(x='dropout', y='median_val_scores', data=df, hue='model_dim')\n",
    "ax.figure.set_size_inches(10,10)\n",
    "ax.set_title('Dropout')\n",
    "ax.set_ylim(0.88, 0.92)\n",
    "plt.show()"
   ]
  },
  {
   "cell_type": "code",
   "execution_count": null,
   "metadata": {
    "ExecuteTime": {
     "end_time": "2023-04-03T23:01:30.836767Z",
     "start_time": "2023-04-03T23:01:29.668544Z"
    }
   },
   "outputs": [],
   "source": [
    "ax = sns.regplot(x='train_noise', y='median_val_scores', data=df, logx=True)\n",
    "ax.figure.set_size_inches(10,10)\n",
    "ax.set_title('Train noise')\n",
    "ax.set_ylim(0.88, 0.92)\n",
    "ax.set_xscale('log')\n",
    "plt.show()"
   ]
  },
  {
   "cell_type": "code",
   "execution_count": null,
   "metadata": {
    "ExecuteTime": {
     "end_time": "2023-04-03T23:01:31.020490Z",
     "start_time": "2023-04-03T23:01:30.844120Z"
    }
   },
   "outputs": [],
   "source": [
    "ax = sns.scatterplot(x='lr', y='median_val_scores', data=df)\n",
    "ax.figure.set_size_inches(10,10)\n",
    "ax.set_title('Learning rate')\n",
    "ax.set_ylim(0.88, 0.92)\n",
    "plt.show()"
   ]
  },
  {
   "cell_type": "code",
   "execution_count": null,
   "metadata": {
    "ExecuteTime": {
     "end_time": "2023-04-03T23:01:31.280829Z",
     "start_time": "2023-04-03T23:01:31.028301Z"
    }
   },
   "outputs": [],
   "source": [
    "ax = sns.scatterplot(x='weight_decay', y='median_val_scores', data=df)\n",
    "ax.figure.set_size_inches(10,10)\n",
    "ax.set_title('Weight decay')\n",
    "ax.set_ylim(0.88, 0.92)\n",
    "ax.set_xlim(0, 0.1)\n",
    "plt.show()"
   ]
  },
  {
   "cell_type": "code",
   "execution_count": null,
   "metadata": {
    "ExecuteTime": {
     "end_time": "2023-04-03T23:01:31.527028Z",
     "start_time": "2023-04-03T23:01:31.337521Z"
    }
   },
   "outputs": [],
   "source": [
    "ax = sns.scatterplot(x='grad_clip_value', y='median_val_scores', data=df)\n",
    "ax.figure.set_size_inches(10,10)\n",
    "ax.set_title('Gradient clipping')\n",
    "ax.set_ylim(0.88, 0.92)\n",
    "plt.show()"
   ]
  },
  {
   "cell_type": "code",
   "execution_count": null,
   "metadata": {
    "ExecuteTime": {
     "end_time": "2023-04-03T23:01:34.823192Z",
     "start_time": "2023-04-03T23:01:31.799353Z"
    }
   },
   "outputs": [],
   "source": [
    "# plot a grid with all previous plots\n",
    "fig, axes = plt.subplots(4, 3, figsize=(25, 25))\n",
    "sns.boxplot(x='num_layers', y='median_val_scores', data=df, hue='feature_aggregation', ax=axes[0,0])\n",
    "sns.boxplot(x='model_dim', y='median_val_scores', data=df, hue='feature_aggregation', ax=axes[0,1])\n",
    "sns.boxplot(x='batch_size', y='median_val_scores', data=df, ax=axes[1,0])\n",
    "sns.boxplot(x='balanced', y='median_val_scores', data=df, ax=axes[1,1])\n",
    "sns.boxplot(x='num_head', y='median_val_scores', data=df, ax=axes[1,2])\n",
    "sns.regplot(x='dropout', y='median_val_scores', data=df, ax=axes[2,0])\n",
    "sns.regplot(x='train_noise', y='median_val_scores', data=df, logx=True, ax=axes[2,1])\n",
    "# set x scale to log for train noise plot\n",
    "axes[2,1].set_xscale('log')\n",
    "sns.scatterplot(x='lr', y='median_val_scores', data=df, ax=axes[2,2])\n",
    "sns.scatterplot(x='weight_decay', y='median_val_scores', data=df, ax=axes[0,2])\n",
    "# set x limits to 0, 0.1 for weight decay plot\n",
    "axes[0,2].set_xlim(0, 0.1)\n",
    "sns.scatterplot(x='grad_clip_value', y='median_val_scores', data=df, ax=axes[3,0])\n",
    "\n",
    "# set y limits to 0.88, 0.92 for all plots\n",
    "for ax in axes.flat:\n",
    "    ax.set_ylim(0.88, 0.915)\n",
    "\n",
    "plt.show()\n"
   ]
  },
  {
   "cell_type": "code",
   "execution_count": null,
   "metadata": {},
   "outputs": [],
   "source": [
    "# fig.savefig('/Users/jk1/Downloads/gridsearch_results.png', dpi=300)"
   ]
  },
  {
   "cell_type": "code",
   "execution_count": null,
   "metadata": {
    "ExecuteTime": {
     "end_time": "2023-04-03T23:01:39.218548Z",
     "start_time": "2023-04-03T23:01:37.622094Z"
    }
   },
   "outputs": [],
   "source": [
    "# plot interaction between number of layers and model dimension\n",
    "ax = sns.catplot(x='num_layers', y='median_val_scores', data=df, kind='box', col='model_dim', col_wrap=3)\n",
    "ax.set_titles('Model dimension: {col_name}')\n",
    "ax.set_axis_labels('Number of layers', 'Median validation score')\n",
    "ax.set(ylim=(0.88, 0.92))\n",
    "plt.show()"
   ]
  },
  {
   "cell_type": "markdown",
   "metadata": {
    "collapsed": false
   },
   "source": [
    "## Focus on best model dimension"
   ]
  },
  {
   "cell_type": "code",
   "execution_count": null,
   "metadata": {
    "ExecuteTime": {
     "end_time": "2023-04-03T23:01:39.532316Z",
     "start_time": "2023-04-03T23:01:39.512604Z"
    }
   },
   "outputs": [],
   "source": [
    "best_model_dimension = 1024\n",
    "df_best_model_dim = df[df['model_dim'] == best_model_dimension]"
   ]
  },
  {
   "cell_type": "code",
   "execution_count": null,
   "metadata": {
    "ExecuteTime": {
     "end_time": "2023-04-03T23:01:43.240078Z",
     "start_time": "2023-04-03T23:01:40.814763Z"
    }
   },
   "outputs": [],
   "source": [
    "# plot a grid with all previous plots\n",
    "fig, axes = plt.subplots(4, 3, figsize=(25, 25))\n",
    "sns.boxplot(x='num_layers', y='median_val_scores', data=df_best_model_dim, ax=axes[0,0])\n",
    "sns.boxplot(x='batch_size', y='median_val_scores', data=df_best_model_dim, ax=axes[1,0])\n",
    "sns.boxplot(x='balanced', y='median_val_scores', data=df_best_model_dim, ax=axes[1,1])\n",
    "sns.boxplot(x='num_head', y='median_val_scores', data=df_best_model_dim, ax=axes[1,2])\n",
    "sns.regplot(x='dropout', y='median_val_scores', data=df_best_model_dim, ax=axes[2,0])\n",
    "sns.regplot(x='train_noise', y='median_val_scores', data=df_best_model_dim, logx=True, ax=axes[2,1])\n",
    "# set x scale to log for train noise plot\n",
    "axes[2,1].set_xscale('log')\n",
    "sns.scatterplot(x='lr', y='median_val_scores', data=df_best_model_dim, ax=axes[2,2])\n",
    "sns.scatterplot(x='weight_decay', y='median_val_scores', data=df_best_model_dim, ax=axes[0,2])\n",
    "# set x limits to 0, 0.1 for weight decay plot\n",
    "axes[0,2].set_xlim(0, 0.02)\n",
    "sns.scatterplot(x='grad_clip_value', y='median_val_scores', data=df_best_model_dim, ax=axes[3,0])\n",
    "\n",
    "# set y limits to 0.88, 0.92 for all plots\n",
    "for ax in axes.flat:\n",
    "    ax.set_ylim(0.88, 0.915)\n",
    "\n",
    "plt.show()"
   ]
  },
  {
   "cell_type": "markdown",
   "metadata": {
    "collapsed": false
   },
   "source": [
    "## Model weight cleaning\n",
    "\n",
    "Select only best models for Model weight cleaning"
   ]
  },
  {
   "cell_type": "code",
   "execution_count": null,
   "metadata": {},
   "outputs": [],
   "source": [
    "# find top 10 timestamps for median validation score, median rolling val score and worst cv fold validation score\n",
    "model_timestamps_to_retain = []\n",
    "for metric in ['median_val_scores', 'median_rolling_val_scores', 'worst_cv_fold_val_score']:\n",
    "    model_timestamps_to_retain.extend(df.sort_values(by=metric, ascending=False).head(10)['timestamp'].values)\n",
    "model_timestamps_to_retain"
   ]
  },
  {
   "cell_type": "code",
   "execution_count": null,
   "metadata": {},
   "outputs": [],
   "source": [
    "# pd.DataFrame(model_timestamps_to_retain, columns=['timestamp']).to_csv('/Users/jk1/Downloads/model_timestamps_to_retain.csv', index=False)"
   ]
  },
  {
   "cell_type": "code",
   "execution_count": null,
   "metadata": {},
   "outputs": [],
   "source": []
  }
 ],
 "metadata": {
  "kernelspec": {
   "display_name": "Python 3",
   "language": "python",
   "name": "python3"
  },
  "language_info": {
   "codemirror_mode": {
    "name": "ipython",
    "version": 2
   },
   "file_extension": ".py",
   "mimetype": "text/x-python",
   "name": "python",
   "nbconvert_exporter": "python",
   "pygments_lexer": "ipython2",
   "version": "2.7.6"
  }
 },
 "nbformat": 4,
 "nbformat_minor": 0
}
