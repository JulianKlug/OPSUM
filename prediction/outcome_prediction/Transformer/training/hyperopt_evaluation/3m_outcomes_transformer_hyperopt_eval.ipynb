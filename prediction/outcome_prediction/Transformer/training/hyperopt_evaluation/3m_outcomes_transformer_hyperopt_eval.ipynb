{
 "cells": [
  {
   "cell_type": "code",
   "execution_count": null,
   "metadata": {
    "ExecuteTime": {
     "end_time": "2024-02-27T13:07:11.858603Z",
     "start_time": "2024-02-27T13:07:11.846426Z"
    }
   },
   "outputs": [],
   "source": [
    "import matplotlib.pyplot as plt\n",
    "import pandas as pd\n",
    "import os\n",
    "import seaborn as sns"
   ]
  },
  {
   "cell_type": "code",
   "execution_count": null,
   "metadata": {
    "ExecuteTime": {
     "end_time": "2024-02-27T13:07:11.860658Z",
     "start_time": "2024-02-27T13:07:11.850129Z"
    }
   },
   "outputs": [],
   "source": [
    "analysis = 'mrs02'"
   ]
  },
  {
   "cell_type": "code",
   "execution_count": null,
   "metadata": {
    "ExecuteTime": {
     "end_time": "2024-02-27T13:07:11.870077Z",
     "start_time": "2024-02-27T13:07:11.858783Z"
    }
   },
   "outputs": [],
   "source": [
    "# output_dir = '/Users/jk1/temp/opsum_prediction_output/transformer/3M_Death'"
   ]
  },
  {
   "cell_type": "code",
   "execution_count": null,
   "metadata": {
    "ExecuteTime": {
     "end_time": "2024-02-27T13:07:11.913361Z",
     "start_time": "2024-02-27T13:07:11.874335Z"
    }
   },
   "outputs": [],
   "source": [
    "# paths for 3M mrs 02\n",
    "gridsearch_path_v1 = '/Users/jk1/temp/opsum_prediction_output/transformer/3M_mrs02/training/gridsearch_v1.jsonl'\n",
    "gridsearch_path_v2 = '/Users/jk1/temp/opsum_prediction_output/transformer/3M_mrs02/training/gridsearch_v2.jsonl'\n",
    "gridsearch_path_v3 = '/Users/jk1/temp/opsum_prediction_output/transformer/3M_mrs02/training/gridsearch_v3.jsonl'\n",
    "gridsearch_path_v4 = '/Users/jk1/temp/opsum_prediction_output/transformer/3M_mrs02/training/gridsearch_v4.jsonl'\n",
    "gridsearch_path_v4_n_5 = '/Users/jk1/temp/opsum_prediction_output/transformer/3M_mrs02/training/gridsearch_v4,5.jsonl'\n",
    "gridsearch_path_v5n1 = '/Users/jk1/temp/opsum_prediction_output/transformer/3M_mrs02/training/gridsearch_v5,1.jsonl'\n",
    "gridsearch_path_v5n2 = '/Users/jk1/temp/opsum_prediction_output/transformer/3M_mrs02/training/gridsearch_v5,2.jsonl'\n",
    "gridsearch_path_v6 = '/Users/jk1/temp/opsum_prediction_output/transformer/3M_mrs02/training/gridsearch_v6.jsonl'\n",
    "gridsearch_path_v7n1 = '/Users/jk1/temp/opsum_prediction_output/transformer/3M_mrs02/training/gridsearch_v7,1.jsonl'\n",
    "gridsearch_path_v7n2 = '/Users/jk1/temp/opsum_prediction_output/transformer/3M_mrs02/training/gridsearch_v7,2.jsonl'\n",
    "gridsearch_path_v7n3 = '/Users/jk1/temp/opsum_prediction_output/transformer/3M_mrs02/training/gridsearch_v7,3.jsonl'\n",
    "gridsearch_path_v7n4 = '/Users/jk1/temp/opsum_prediction_output/transformer/3M_mrs02/training/gridsearch_v7,4.jsonl'\n",
    "gridsearch_path_v7n5 = '/Users/jk1/temp/opsum_prediction_output/transformer/3M_mrs02/training/gridsearch_v7,5.jsonl'\n",
    "gridsearch_path_v7n6 = '/Users/jk1/temp/opsum_prediction_output/transformer/3M_mrs02/training/gridsearch_v7,6.jsonl'\n",
    "gridsearch_path_v8 = '/Users/jk1/temp/opsum_prediction_output/transformer/3M_mrs02/training/gridsearch_v8.jsonl'"
   ]
  },
  {
   "cell_type": "code",
   "execution_count": null,
   "metadata": {
    "ExecuteTime": {
     "end_time": "2024-02-27T13:07:11.915576Z",
     "start_time": "2024-02-27T13:07:11.883959Z"
    }
   },
   "outputs": [],
   "source": [
    "non_winsorized_mrs02_path = '/Users/jk1/temp/opsum_prediction_output/transformer/3M_mrs02/training/non_winsorized/gridsearch.jsonl'"
   ]
  },
  {
   "cell_type": "code",
   "execution_count": null,
   "metadata": {
    "ExecuteTime": {
     "end_time": "2024-02-27T13:07:11.921066Z",
     "start_time": "2024-02-27T13:07:11.891405Z"
    }
   },
   "outputs": [],
   "source": [
    "# paths for 3M death\n",
    "death_gridsearch_path_v1 = '/Users/jk1/temp/opsum_prediction_output/transformer/3M_Death/gridsearch.jsonl'"
   ]
  },
  {
   "cell_type": "code",
   "execution_count": null,
   "metadata": {
    "ExecuteTime": {
     "end_time": "2024-02-27T13:07:12.223689Z",
     "start_time": "2024-02-27T13:07:11.910851Z"
    }
   },
   "outputs": [],
   "source": [
    "df_v1 = pd.read_json(gridsearch_path_v1, lines=True, dtype={'timestamp': 'object'}, convert_dates=False).drop(0).dropna(axis=1, how='all')\n",
    "df_v2 = pd.read_json(gridsearch_path_v2, lines=True, dtype={'timestamp': 'object'}, convert_dates=False)\n",
    "df_v3 = pd.read_json(gridsearch_path_v3, lines=True, dtype={'timestamp': 'object'}, convert_dates=False)\n",
    "df_v4 = pd.read_json(gridsearch_path_v4, lines=True, dtype={'timestamp': 'object'}, convert_dates=False)\n",
    "df_v4_n_5 = pd.read_json(gridsearch_path_v4_n_5, lines=True, dtype={'timestamp': 'object'}, convert_dates=False)\n",
    "df_v5n1 = pd.read_json(gridsearch_path_v5n1, lines=True, dtype={'timestamp': 'object'}, convert_dates=False)\n",
    "df_v5n2 = pd.read_json(gridsearch_path_v5n2, lines=True, dtype={'timestamp': 'object'}, convert_dates=False)\n",
    "df_v6 = pd.read_json(gridsearch_path_v6, lines=True, dtype={'timestamp': 'object'}, convert_dates=False)\n",
    "df_7n1 = pd.read_json(gridsearch_path_v7n1, lines=True, dtype={'timestamp': 'object'}, convert_dates=False)\n",
    "df_7n2 = pd.read_json(gridsearch_path_v7n2, lines=True, dtype={'timestamp': 'object'}, convert_dates=False)\n",
    "df_7n3 = pd.read_json(gridsearch_path_v7n3, lines=True, dtype={'timestamp': 'object'}, convert_dates=False)\n",
    "df_7n4 = pd.read_json(gridsearch_path_v7n4, lines=True, dtype={'timestamp': 'object'}, convert_dates=False)\n",
    "df_7n5 = pd.read_json(gridsearch_path_v7n5, lines=True, dtype={'timestamp': 'object'}, convert_dates=False)\n",
    "df_7n6 = pd.read_json(gridsearch_path_v7n6, lines=True, dtype={'timestamp': 'object'}, convert_dates=False)\n",
    "df_v8 = pd.read_json(gridsearch_path_v8, lines=True, dtype={'timestamp': 'object'}, convert_dates=False)"
   ]
  },
  {
   "cell_type": "code",
   "execution_count": null,
   "metadata": {
    "ExecuteTime": {
     "end_time": "2024-02-27T13:07:12.248776Z",
     "start_time": "2024-02-27T13:07:12.223425Z"
    }
   },
   "outputs": [],
   "source": [
    "non_winsorized_mrs02_df = pd.read_json(non_winsorized_mrs02_path, lines=True, dtype={'timestamp': 'object'}, convert_dates=False)\n",
    "non_winsorized_mrs02_df['winsorized'] = 0"
   ]
  },
  {
   "cell_type": "code",
   "execution_count": null,
   "metadata": {
    "ExecuteTime": {
     "end_time": "2024-02-27T13:07:12.287081Z",
     "start_time": "2024-02-27T13:07:12.244984Z"
    }
   },
   "outputs": [],
   "source": [
    "mrs02_df = pd.concat([df_v1, df_v2, df_v3, df_v4, df_v4_n_5, df_v5n1, df_v5n2, df_v6, df_7n1, df_7n2, df_7n3, df_7n4, df_7n5, df_7n6, df_v8], axis=0)\n",
    "mrs02_df['feature_aggregation'].fillna(False, inplace=True)\n",
    "mrs02_df['n_lr_warm_up_steps'].fillna(0, inplace=True)\n",
    "mrs02_df['winsorized'] = 1\n",
    "mrs02_df = pd.concat([mrs02_df, non_winsorized_mrs02_df], axis=0)\n",
    "mrs02_df.shape"
   ]
  },
  {
   "cell_type": "code",
   "execution_count": null,
   "metadata": {
    "ExecuteTime": {
     "end_time": "2024-02-27T13:07:12.326440Z",
     "start_time": "2024-02-27T13:07:12.288244Z"
    }
   },
   "outputs": [],
   "source": [
    "death_df = pd.read_json(death_gridsearch_path_v1, lines=True, dtype={'timestamp': 'object'}, convert_dates=False)"
   ]
  },
  {
   "cell_type": "code",
   "execution_count": null,
   "metadata": {
    "ExecuteTime": {
     "end_time": "2024-02-27T13:07:12.356682Z",
     "start_time": "2024-02-27T13:07:12.308819Z"
    }
   },
   "outputs": [],
   "source": [
    "if analysis == 'mrs02':\n",
    "    df = mrs02_df\n",
    "else:\n",
    "    df = death_df"
   ]
  },
  {
   "cell_type": "code",
   "execution_count": null,
   "metadata": {
    "ExecuteTime": {
     "end_time": "2024-02-27T13:07:20.310824Z",
     "start_time": "2024-02-27T13:07:20.263526Z"
    }
   },
   "outputs": [],
   "source": [
    "df"
   ]
  },
  {
   "cell_type": "code",
   "execution_count": null,
   "metadata": {
    "ExecuteTime": {
     "end_time": "2024-02-27T13:07:20.739551Z",
     "start_time": "2024-02-27T13:07:20.663941Z"
    }
   },
   "outputs": [],
   "source": [
    "# find best by median_val_scores\n",
    "best_df = df.sort_values('median_val_scores', ascending=False).head(1)\n",
    "best_df"
   ]
  },
  {
   "cell_type": "code",
   "execution_count": null,
   "metadata": {
    "ExecuteTime": {
     "end_time": "2024-02-27T13:07:38.203808Z",
     "start_time": "2024-02-27T13:07:37.913771Z"
    }
   },
   "outputs": [],
   "source": [
    "# convert best_df to json\n",
    "best_df.to_json(os.path.join(output_dir, f'hyperopt_selected_transformer_{analysis}_{best_df[\"timestamp\"].values[0]}.json'), orient='records', lines=True)"
   ]
  },
  {
   "cell_type": "code",
   "execution_count": null,
   "metadata": {
    "ExecuteTime": {
     "end_time": "2024-02-27T13:07:40.152441Z",
     "start_time": "2024-02-27T13:07:38.450032Z"
    }
   },
   "outputs": [],
   "source": [
    "# plot histogram of median_val_scores\n",
    "ax = sns.histplot(x='median_val_scores', data=df)\n",
    "ax.figure.set_size_inches(10,10)\n",
    "ax.set_title('Median validation scores')\n",
    "plt.show()"
   ]
  },
  {
   "cell_type": "code",
   "execution_count": null,
   "metadata": {
    "ExecuteTime": {
     "end_time": "2024-02-27T13:07:40.875623Z",
     "start_time": "2024-02-27T13:07:40.869347Z"
    },
    "pycharm": {
     "name": "#%%¨\n"
    }
   },
   "outputs": [],
   "source": [
    "cat_gs_variables = ['num_layers', 'model_dim',\n",
    "        'batch_size', 'balanced',\n",
    "       'num_head']\n",
    "cont_gs_variables = ['dropout', 'train_noise',\n",
    "       'lr', 'weight_decay','grad_clip_value']"
   ]
  },
  {
   "cell_type": "code",
   "execution_count": null,
   "metadata": {
    "ExecuteTime": {
     "end_time": "2024-02-27T13:07:42.076979Z",
     "start_time": "2024-02-27T13:07:41.586420Z"
    }
   },
   "outputs": [],
   "source": [
    "ax = sns.boxplot(x='num_layers', y='median_val_scores', data=df, hue='feature_aggregation')\n",
    "# set figure size to 10,10\n",
    "ax.figure.set_size_inches(10,10)\n",
    "ax.set_title('Number of layers')\n",
    "ax.set_ylim(0.88, 0.92)\n",
    "plt.show()"
   ]
  },
  {
   "cell_type": "code",
   "execution_count": null,
   "metadata": {
    "ExecuteTime": {
     "end_time": "2024-02-27T13:07:42.628421Z",
     "start_time": "2024-02-27T13:07:42.077326Z"
    }
   },
   "outputs": [],
   "source": [
    "ax = sns.boxplot(x='model_dim', y='median_val_scores', data=df, hue='feature_aggregation')\n",
    "ax.figure.set_size_inches(10,10)\n",
    "ax.set_title('Model dimension')\n",
    "ax.set_ylim(0.88, 0.92)\n",
    "plt.show()"
   ]
  },
  {
   "cell_type": "code",
   "execution_count": null,
   "metadata": {
    "ExecuteTime": {
     "end_time": "2024-02-27T13:07:42.878320Z",
     "start_time": "2024-02-27T13:07:42.616012Z"
    }
   },
   "outputs": [],
   "source": [
    "ax = sns.boxplot(x='winsorized', y='median_val_scores', data=df)\n",
    "ax.figure.set_size_inches(10,10)\n",
    "ax.set_title('Feature aggregation')\n",
    "ax.set_ylim(0.88, 0.92)\n",
    "plt.show()"
   ]
  },
  {
   "cell_type": "code",
   "execution_count": null,
   "metadata": {
    "ExecuteTime": {
     "end_time": "2024-02-27T13:07:43.098437Z",
     "start_time": "2024-02-27T13:07:42.883757Z"
    }
   },
   "outputs": [],
   "source": [
    "ax = sns.boxplot(x='feature_aggregation', y='median_val_scores', data=df)\n",
    "ax.figure.set_size_inches(10,10)\n",
    "ax.set_title('Feature aggregation')\n",
    "ax.set_ylim(0.88, 0.92)\n",
    "plt.show()"
   ]
  },
  {
   "cell_type": "code",
   "execution_count": null,
   "metadata": {
    "ExecuteTime": {
     "end_time": "2024-02-27T13:07:43.329896Z",
     "start_time": "2024-02-27T13:07:43.114177Z"
    }
   },
   "outputs": [],
   "source": [
    "ax = sns.boxplot(x='batch_size', y='median_val_scores', data=df)\n",
    "ax.set_title('Batch size')\n",
    "ax.figure.set_size_inches(10,10)\n",
    "ax.set_ylim(0.88, 0.92)\n",
    "plt.show()"
   ]
  },
  {
   "cell_type": "code",
   "execution_count": null,
   "metadata": {
    "ExecuteTime": {
     "end_time": "2024-02-27T13:07:43.647691Z",
     "start_time": "2024-02-27T13:07:43.332290Z"
    }
   },
   "outputs": [],
   "source": [
    "ax = sns.boxplot(x='n_lr_warm_up_steps', y='median_val_scores', data=df, palette='Set2')\n",
    "ax.set_title('Warm up')\n",
    "ax.figure.set_size_inches(10,10)\n",
    "ax.set_ylim(0.88, 0.92)\n",
    "plt.show()"
   ]
  },
  {
   "cell_type": "code",
   "execution_count": null,
   "metadata": {
    "ExecuteTime": {
     "end_time": "2024-02-27T13:07:43.881414Z",
     "start_time": "2024-02-27T13:07:43.660299Z"
    }
   },
   "outputs": [],
   "source": [
    "ax = sns.boxplot(x='balanced', y='median_val_scores', data=df)\n",
    "ax.figure.set_size_inches(10,10)\n",
    "ax.set_title('Balanced')\n",
    "ax.set_ylim(0.88, 0.92)\n",
    "plt.show()"
   ]
  },
  {
   "cell_type": "code",
   "execution_count": null,
   "metadata": {
    "ExecuteTime": {
     "end_time": "2024-02-27T13:07:44.178874Z",
     "start_time": "2024-02-27T13:07:43.881806Z"
    }
   },
   "outputs": [],
   "source": [
    "ax = sns.boxplot(x='num_head', y='median_val_scores', data=df)\n",
    "ax.figure.set_size_inches(10,10)\n",
    "ax.set_title('Number of heads')\n",
    "ax.set_ylim(0.88, 0.92)\n",
    "plt.show()"
   ]
  },
  {
   "cell_type": "code",
   "execution_count": null,
   "metadata": {
    "ExecuteTime": {
     "end_time": "2024-02-27T13:07:44.865397Z",
     "start_time": "2024-02-27T13:07:44.176013Z"
    }
   },
   "outputs": [],
   "source": [
    "ax = sns.scatterplot(x='dropout', y='median_val_scores', data=df, hue='model_dim')\n",
    "ax.figure.set_size_inches(10,10)\n",
    "ax.set_title('Dropout')\n",
    "ax.set_ylim(0.88, 0.92)\n",
    "plt.show()"
   ]
  },
  {
   "cell_type": "code",
   "execution_count": null,
   "metadata": {
    "ExecuteTime": {
     "end_time": "2024-02-27T13:07:46.825007Z",
     "start_time": "2024-02-27T13:07:44.865567Z"
    }
   },
   "outputs": [],
   "source": [
    "ax = sns.regplot(x='train_noise', y='median_val_scores', data=df, logx=True)\n",
    "ax.figure.set_size_inches(10,10)\n",
    "ax.set_title('Train noise')\n",
    "ax.set_ylim(0.88, 0.92)\n",
    "ax.set_xscale('log')\n",
    "plt.show()"
   ]
  },
  {
   "cell_type": "code",
   "execution_count": null,
   "metadata": {
    "ExecuteTime": {
     "end_time": "2024-02-27T13:07:47.132860Z",
     "start_time": "2024-02-27T13:07:46.814051Z"
    }
   },
   "outputs": [],
   "source": [
    "ax = sns.scatterplot(x='lr', y='median_val_scores', data=df)\n",
    "ax.figure.set_size_inches(10,10)\n",
    "ax.set_title('Learning rate')\n",
    "ax.set_ylim(0.88, 0.92)\n",
    "plt.show()"
   ]
  },
  {
   "cell_type": "code",
   "execution_count": null,
   "metadata": {
    "ExecuteTime": {
     "end_time": "2024-02-27T13:07:47.442373Z",
     "start_time": "2024-02-27T13:07:47.134050Z"
    }
   },
   "outputs": [],
   "source": [
    "ax = sns.scatterplot(x='weight_decay', y='median_val_scores', data=df)\n",
    "ax.figure.set_size_inches(10,10)\n",
    "ax.set_title('Weight decay')\n",
    "ax.set_ylim(0.88, 0.92)\n",
    "ax.set_xlim(0, 0.1)\n",
    "plt.show()"
   ]
  },
  {
   "cell_type": "code",
   "execution_count": null,
   "metadata": {
    "ExecuteTime": {
     "end_time": "2024-02-27T13:07:47.813397Z",
     "start_time": "2024-02-27T13:07:47.453145Z"
    }
   },
   "outputs": [],
   "source": [
    "ax = sns.scatterplot(x='grad_clip_value', y='median_val_scores', data=df)\n",
    "ax.figure.set_size_inches(10,10)\n",
    "ax.set_title('Gradient clipping')\n",
    "ax.set_ylim(0.88, 0.92)\n",
    "plt.show()"
   ]
  },
  {
   "cell_type": "code",
   "execution_count": null,
   "metadata": {
    "ExecuteTime": {
     "end_time": "2024-02-27T13:07:52.854698Z",
     "start_time": "2024-02-27T13:07:47.813829Z"
    }
   },
   "outputs": [],
   "source": [
    "# plot a grid with all previous plots\n",
    "fig, axes = plt.subplots(4, 3, figsize=(25, 25))\n",
    "sns.boxplot(x='num_layers', y='median_val_scores', data=df, hue='feature_aggregation', ax=axes[0,0])\n",
    "sns.boxplot(x='model_dim', y='median_val_scores', data=df, hue='feature_aggregation', ax=axes[0,1])\n",
    "sns.boxplot(x='batch_size', y='median_val_scores', data=df, ax=axes[1,0])\n",
    "sns.boxplot(x='balanced', y='median_val_scores', data=df, ax=axes[1,1])\n",
    "sns.boxplot(x='num_head', y='median_val_scores', data=df, ax=axes[1,2])\n",
    "sns.regplot(x='dropout', y='median_val_scores', data=df, ax=axes[2,0])\n",
    "sns.regplot(x='train_noise', y='median_val_scores', data=df, logx=True, ax=axes[2,1])\n",
    "# set x scale to log for train noise plot\n",
    "axes[2,1].set_xscale('log')\n",
    "sns.scatterplot(x='lr', y='median_val_scores', data=df, ax=axes[2,2])\n",
    "sns.scatterplot(x='weight_decay', y='median_val_scores', data=df, ax=axes[0,2])\n",
    "# set x limits to 0, 0.1 for weight decay plot\n",
    "axes[0,2].set_xlim(0, 0.1)\n",
    "sns.scatterplot(x='grad_clip_value', y='median_val_scores', data=df, ax=axes[3,0])\n",
    "\n",
    "# set y limits to 0.88, 0.92 for all plots\n",
    "for ax in axes.flat:\n",
    "    ax.set_ylim(0.88, 0.915)\n",
    "\n",
    "plt.show()\n"
   ]
  },
  {
   "cell_type": "code",
   "execution_count": null,
   "metadata": {
    "ExecuteTime": {
     "end_time": "2024-02-27T13:07:52.856030Z",
     "start_time": "2024-02-27T13:07:52.726497Z"
    }
   },
   "outputs": [],
   "source": [
    "# fig.savefig('/Users/jk1/Downloads/gridsearch_results.png', dpi=300)"
   ]
  },
  {
   "cell_type": "code",
   "execution_count": null,
   "metadata": {
    "ExecuteTime": {
     "end_time": "2024-02-27T13:07:55.244318Z",
     "start_time": "2024-02-27T13:07:52.733800Z"
    }
   },
   "outputs": [],
   "source": [
    "# plot interaction between number of layers and model dimension\n",
    "ax = sns.catplot(x='num_layers', y='median_val_scores', data=df, kind='box', col='model_dim', col_wrap=3)\n",
    "ax.set_titles('Model dimension: {col_name}')\n",
    "ax.set_axis_labels('Number of layers', 'Median validation score')\n",
    "ax.set(ylim=(0.88, 0.92))\n",
    "plt.show()"
   ]
  },
  {
   "cell_type": "markdown",
   "metadata": {
    "collapsed": false
   },
   "source": [
    "## Focus on best model dimension"
   ]
  },
  {
   "cell_type": "code",
   "execution_count": null,
   "metadata": {
    "ExecuteTime": {
     "end_time": "2024-02-27T13:07:55.252212Z",
     "start_time": "2024-02-27T13:07:55.245419Z"
    }
   },
   "outputs": [],
   "source": [
    "best_model_dimension = 1024\n",
    "df_best_model_dim = df[df['model_dim'] == best_model_dimension]"
   ]
  },
  {
   "cell_type": "code",
   "execution_count": null,
   "metadata": {
    "ExecuteTime": {
     "end_time": "2024-02-27T13:07:59.464039Z",
     "start_time": "2024-02-27T13:07:55.262218Z"
    }
   },
   "outputs": [],
   "source": [
    "# plot a grid with all previous plots\n",
    "fig, axes = plt.subplots(4, 3, figsize=(25, 25))\n",
    "sns.boxplot(x='num_layers', y='median_val_scores', data=df_best_model_dim, ax=axes[0,0])\n",
    "sns.boxplot(x='batch_size', y='median_val_scores', data=df_best_model_dim, ax=axes[1,0])\n",
    "sns.boxplot(x='balanced', y='median_val_scores', data=df_best_model_dim, ax=axes[1,1])\n",
    "sns.boxplot(x='num_head', y='median_val_scores', data=df_best_model_dim, ax=axes[1,2])\n",
    "sns.regplot(x='dropout', y='median_val_scores', data=df_best_model_dim, ax=axes[2,0])\n",
    "sns.regplot(x='train_noise', y='median_val_scores', data=df_best_model_dim, logx=True, ax=axes[2,1])\n",
    "# set x scale to log for train noise plot\n",
    "axes[2,1].set_xscale('log')\n",
    "sns.scatterplot(x='lr', y='median_val_scores', data=df_best_model_dim, ax=axes[2,2])\n",
    "sns.scatterplot(x='weight_decay', y='median_val_scores', data=df_best_model_dim, ax=axes[0,2])\n",
    "# set x limits to 0, 0.1 for weight decay plot\n",
    "axes[0,2].set_xlim(0, 0.0002)\n",
    "sns.scatterplot(x='grad_clip_value', y='median_val_scores', data=df_best_model_dim, ax=axes[3,0])\n",
    "# set x limits to 0, 0.5 for grad_clip_value plot\n",
    "axes[3,0].set_xlim(0, 0.5)\n",
    "\n",
    "# set y limits to 0.88, 0.92 for all plots\n",
    "for ax in axes.flat:\n",
    "    ax.set_ylim(0.88, 0.915)\n",
    "\n",
    "plt.show()"
   ]
  },
  {
   "cell_type": "markdown",
   "metadata": {
    "collapsed": false
   },
   "source": [
    "## Model weight cleaning\n",
    "\n",
    "Select only best models for Model weight cleaning"
   ]
  },
  {
   "cell_type": "code",
   "execution_count": null,
   "metadata": {
    "ExecuteTime": {
     "end_time": "2023-05-10T08:05:57.671989Z",
     "start_time": "2023-05-10T08:05:57.661743Z"
    }
   },
   "outputs": [],
   "source": [
    "# find top X timestamps for median validation score, median rolling val score and worst cv fold validation score\n",
    "top_n = 3\n",
    "model_timestamps_to_retain = []\n",
    "for metric in ['median_val_scores', 'median_rolling_val_scores', 'worst_cv_fold_val_score']:\n",
    "    model_timestamps_to_retain.extend(df.sort_values(by=metric, ascending=False).head(top_n)['timestamp'].values)\n",
    "model_timestamps_to_retain"
   ]
  },
  {
   "cell_type": "code",
   "execution_count": null,
   "metadata": {
    "ExecuteTime": {
     "end_time": "2023-05-10T08:06:04.367432Z",
     "start_time": "2023-05-10T08:06:04.358924Z"
    }
   },
   "outputs": [],
   "source": [
    "# pd.DataFrame(model_timestamps_to_retain, columns=['timestamp']).to_csv(f'/Users/jk1/Downloads/{analysis}_model_timestamps_to_retain.csv', index=False)"
   ]
  },
  {
   "cell_type": "code",
   "execution_count": null,
   "metadata": {},
   "outputs": [],
   "source": []
  }
 ],
 "metadata": {
  "kernelspec": {
   "display_name": "Python 3",
   "language": "python",
   "name": "python3"
  },
  "language_info": {
   "codemirror_mode": {
    "name": "ipython",
    "version": 2
   },
   "file_extension": ".py",
   "mimetype": "text/x-python",
   "name": "python",
   "nbconvert_exporter": "python",
   "pygments_lexer": "ipython2",
   "version": "2.7.6"
  }
 },
 "nbformat": 4,
 "nbformat_minor": 0
}
