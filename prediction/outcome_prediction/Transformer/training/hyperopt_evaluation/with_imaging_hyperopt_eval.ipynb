{
 "cells": [
  {
   "cell_type": "code",
   "execution_count": null,
   "metadata": {
    "ExecuteTime": {
     "end_time": "2024-02-29T08:32:32.613284Z",
     "start_time": "2024-02-29T08:32:32.604480Z"
    }
   },
   "outputs": [],
   "source": [
    "import matplotlib.pyplot as plt\n",
    "import pandas as pd\n",
    "import os\n",
    "import seaborn as sns"
   ]
  },
  {
   "cell_type": "code",
   "execution_count": null,
   "metadata": {
    "ExecuteTime": {
     "end_time": "2024-02-29T08:32:32.614940Z",
     "start_time": "2024-02-29T08:32:32.610159Z"
    }
   },
   "outputs": [],
   "source": [
    "analysis = '3m_mrs_02_with_imaging'\n",
    "save_data = True"
   ]
  },
  {
   "cell_type": "code",
   "execution_count": null,
   "metadata": {
    "ExecuteTime": {
     "end_time": "2024-02-29T08:32:32.619028Z",
     "start_time": "2024-02-29T08:32:32.613702Z"
    }
   },
   "outputs": [],
   "source": [
    "output_dir = '/Users/jk1/Downloads'"
   ]
  },
  {
   "cell_type": "code",
   "execution_count": null,
   "metadata": {
    "ExecuteTime": {
     "end_time": "2024-02-29T08:32:32.627731Z",
     "start_time": "2024-02-29T08:32:32.618960Z"
    }
   },
   "outputs": [],
   "source": [
    "# paths for 3M mrs 02\n",
    "gridsearch_path_v1 = '/Users/jk1/temp/opsum_prediction_output/transformer/with_imaging/with_imaging/training/gridsearch_v1.jsonl'\n",
    "gridsearch_path_v2 = '/Users/jk1/temp/opsum_prediction_output/transformer/with_imaging/with_imaging/training/gridsearch_v2.jsonl'"
   ]
  },
  {
   "cell_type": "code",
   "execution_count": null,
   "metadata": {
    "ExecuteTime": {
     "end_time": "2024-02-29T08:32:36.529852Z",
     "start_time": "2024-02-29T08:32:36.332509Z"
    }
   },
   "outputs": [],
   "source": [
    "df_v1 = pd.read_json(gridsearch_path_v1, lines=True, dtype={'timestamp': 'object'}, convert_dates=False).drop(0)\n",
    "df_v2 = pd.read_json(gridsearch_path_v2, lines=True, dtype={'timestamp': 'object'}, convert_dates=False).drop(0)"
   ]
  },
  {
   "cell_type": "code",
   "execution_count": null,
   "metadata": {
    "ExecuteTime": {
     "end_time": "2024-02-29T08:32:48.905382Z",
     "start_time": "2024-02-29T08:32:48.842783Z"
    }
   },
   "outputs": [],
   "source": [
    "df = pd.concat([df_v1, df_v2], axis=0)\n",
    "df.reset_index(drop=True, inplace=True)\n",
    "df.shape"
   ]
  },
  {
   "cell_type": "code",
   "execution_count": null,
   "metadata": {
    "ExecuteTime": {
     "end_time": "2024-02-29T08:33:04.346482Z",
     "start_time": "2024-02-29T08:33:04.328740Z"
    }
   },
   "outputs": [],
   "source": [
    "# find best by median_val_scores\n",
    "best_df = df.sort_values('median_val_scores', ascending=False).head(1)\n",
    "best_df"
   ]
  },
  {
   "cell_type": "code",
   "execution_count": null,
   "metadata": {
    "ExecuteTime": {
     "end_time": "2024-02-29T08:33:53.443907Z",
     "start_time": "2024-02-29T08:33:53.438536Z"
    }
   },
   "outputs": [],
   "source": [
    "# convert best_df to json\n",
    "if save_data:\n",
    "    best_df.to_json(os.path.join(output_dir, f'hyperopt_selected_transformer_{analysis}_{best_df[\"timestamp\"].values[0]}.json'), orient='records', lines=True)"
   ]
  },
  {
   "cell_type": "code",
   "execution_count": null,
   "metadata": {
    "ExecuteTime": {
     "end_time": "2024-02-29T08:34:01.683644Z",
     "start_time": "2024-02-29T08:34:01.636767Z"
    }
   },
   "outputs": [],
   "source": [
    "df"
   ]
  },
  {
   "cell_type": "code",
   "execution_count": null,
   "metadata": {
    "ExecuteTime": {
     "end_time": "2024-02-29T08:34:10.730431Z",
     "start_time": "2024-02-29T08:34:10.392934Z"
    }
   },
   "outputs": [],
   "source": [
    "# plot histogram of median_val_scores\n",
    "ax = sns.histplot(x='median_val_scores', data=df)\n",
    "ax.figure.set_size_inches(10,10)\n",
    "ax.set_title('Median validation scores')\n",
    "plt.show()"
   ]
  },
  {
   "cell_type": "code",
   "execution_count": null,
   "metadata": {
    "ExecuteTime": {
     "end_time": "2024-02-29T08:34:18.885112Z",
     "start_time": "2024-02-29T08:34:18.879781Z"
    },
    "pycharm": {
     "name": "#%%¨\n"
    }
   },
   "outputs": [],
   "source": [
    "cat_gs_variables = ['num_layers', 'model_dim',\n",
    "        'batch_size', 'balanced',\n",
    "       'num_head']\n",
    "cont_gs_variables = ['dropout', 'train_noise',\n",
    "       'lr', 'weight_decay','grad_clip_value']"
   ]
  },
  {
   "cell_type": "code",
   "execution_count": null,
   "metadata": {
    "ExecuteTime": {
     "end_time": "2024-02-29T08:34:25.050437Z",
     "start_time": "2024-02-29T08:34:22.011549Z"
    }
   },
   "outputs": [],
   "source": [
    "# plot a grid with all previous plots\n",
    "fig, axes = plt.subplots(4, 3, figsize=(25, 25))\n",
    "sns.boxplot(x='num_layers', y='median_val_scores', data=df, hue='feature_aggregation', ax=axes[0,0])\n",
    "sns.boxplot(x='model_dim', y='median_val_scores', data=df, hue='feature_aggregation', ax=axes[0,1])\n",
    "sns.boxplot(x='batch_size', y='median_val_scores', data=df, ax=axes[1,0])\n",
    "sns.boxplot(x='balanced', y='median_val_scores', data=df, ax=axes[1,1])\n",
    "sns.boxplot(x='num_head', y='median_val_scores', data=df, ax=axes[1,2])\n",
    "sns.regplot(x='dropout', y='median_val_scores', data=df, ax=axes[2,0])\n",
    "sns.regplot(x='train_noise', y='median_val_scores', data=df, logx=True, ax=axes[2,1])\n",
    "# set x scale to log for train noise plot\n",
    "axes[2,1].set_xscale('log')\n",
    "sns.scatterplot(x='lr', y='median_val_scores', data=df, ax=axes[2,2])\n",
    "axes[2,2].set_xlim(0.0001, 0.0003)\n",
    "\n",
    "sns.scatterplot(x='weight_decay', y='median_val_scores', data=df, ax=axes[0,2])\n",
    "# set x limits to 0, 0.1 for weight decay plot\n",
    "axes[0,2].set_xlim(0, 0.0002)\n",
    "sns.scatterplot(x='grad_clip_value', y='median_val_scores', data=df, ax=axes[3,0])\n",
    "\n",
    "# set y limits to 0.88, 0.92 for all plots\n",
    "# for ax in axes.flat:\n",
    "    # ax.set_ylim(0.88, 0.915)\n",
    "\n",
    "plt.show()\n"
   ]
  },
  {
   "cell_type": "code",
   "execution_count": null,
   "metadata": {
    "ExecuteTime": {
     "end_time": "2024-02-27T13:18:34.901567Z",
     "start_time": "2024-02-27T13:18:34.895937Z"
    }
   },
   "outputs": [],
   "source": [
    "# fig.savefig('/Users/jk1/Downloads/gridsearch_results.png', dpi=300)"
   ]
  },
  {
   "cell_type": "code",
   "execution_count": null,
   "metadata": {
    "ExecuteTime": {
     "end_time": "2024-02-27T13:18:36.217820Z",
     "start_time": "2024-02-27T13:18:36.007501Z"
    }
   },
   "outputs": [],
   "source": [
    "# plot interaction between number of layers and model dimension\n",
    "ax = sns.catplot(x='num_layers', y='median_val_scores', data=df, kind='box', col='model_dim', col_wrap=3)\n",
    "ax.set_titles('Model dimension: {col_name}')\n",
    "ax.set_axis_labels('Number of layers', 'Median validation score')\n",
    "# ax.set(ylim=(0.88, 0.92))\n",
    "plt.show()"
   ]
  },
  {
   "cell_type": "markdown",
   "metadata": {
    "collapsed": false
   },
   "source": [
    "## Focus on best model dimension"
   ]
  },
  {
   "cell_type": "code",
   "execution_count": null,
   "metadata": {
    "ExecuteTime": {
     "end_time": "2024-02-27T13:18:37.500057Z",
     "start_time": "2024-02-27T13:18:37.483531Z"
    }
   },
   "outputs": [],
   "source": [
    "best_model_dimension = 1024\n",
    "df_best_model_dim = df[df['model_dim'] == best_model_dimension]"
   ]
  },
  {
   "cell_type": "code",
   "execution_count": null,
   "metadata": {
    "ExecuteTime": {
     "end_time": "2024-02-27T13:18:41.391163Z",
     "start_time": "2024-02-27T13:18:37.888831Z"
    }
   },
   "outputs": [],
   "source": [
    "# plot a grid with all previous plots\n",
    "fig, axes = plt.subplots(4, 3, figsize=(25, 25))\n",
    "sns.boxplot(x='num_layers', y='median_val_scores', data=df_best_model_dim, ax=axes[0,0])\n",
    "sns.boxplot(x='batch_size', y='median_val_scores', data=df_best_model_dim, ax=axes[1,0])\n",
    "sns.boxplot(x='balanced', y='median_val_scores', data=df_best_model_dim, ax=axes[1,1])\n",
    "sns.boxplot(x='num_head', y='median_val_scores', data=df_best_model_dim, ax=axes[1,2])\n",
    "sns.regplot(x='dropout', y='median_val_scores', data=df_best_model_dim, ax=axes[2,0])\n",
    "sns.regplot(x='train_noise', y='median_val_scores', data=df_best_model_dim, logx=True, ax=axes[2,1])\n",
    "# set x scale to log for train noise plot\n",
    "axes[2,1].set_xscale('log')\n",
    "sns.scatterplot(x='lr', y='median_val_scores', data=df_best_model_dim, ax=axes[2,2])\n",
    "sns.scatterplot(x='weight_decay', y='median_val_scores', data=df_best_model_dim, ax=axes[0,2])\n",
    "# set x limits to 0, 0.1 for weight decay plot\n",
    "axes[0,2].set_xlim(0, 0.0002)\n",
    "sns.scatterplot(x='grad_clip_value', y='median_val_scores', data=df_best_model_dim, ax=axes[3,0])\n",
    "# set x limits to 0, 0.5 for grad_clip_value plot\n",
    "axes[3,0].set_xlim(0, 0.5)\n",
    "\n",
    "# set y limits to 0.88, 0.92 for all plots\n",
    "for ax in axes.flat:\n",
    "    ax.set_ylim(0.88, 0.915)\n",
    "\n",
    "plt.show()"
   ]
  },
  {
   "cell_type": "markdown",
   "metadata": {
    "collapsed": false
   },
   "source": [
    "## Model weight cleaning\n",
    "\n",
    "Select only best models for Model weight cleaning"
   ]
  },
  {
   "cell_type": "code",
   "execution_count": null,
   "metadata": {
    "ExecuteTime": {
     "end_time": "2024-02-29T08:34:46.913856Z",
     "start_time": "2024-02-29T08:34:46.875807Z"
    }
   },
   "outputs": [],
   "source": [
    "# find top X timestamps for median validation score, median rolling val score and worst cv fold validation score\n",
    "top_n = 3\n",
    "model_timestamps_to_retain = []\n",
    "for metric in ['median_val_scores', 'median_rolling_val_scores', 'worst_cv_fold_val_score']:\n",
    "    model_timestamps_to_retain.extend(df.sort_values(by=metric, ascending=False).head(top_n)['timestamp'].values)\n",
    "model_timestamps_to_retain"
   ]
  },
  {
   "cell_type": "code",
   "execution_count": null,
   "metadata": {
    "ExecuteTime": {
     "end_time": "2024-02-29T08:35:57.511709Z",
     "start_time": "2024-02-29T08:35:57.494493Z"
    }
   },
   "outputs": [],
   "source": [
    "pd.DataFrame(model_timestamps_to_retain, columns=['timestamp']).to_csv(f'/Users/jk1/Downloads/{analysis}_model_timestamps_to_retain.csv', index=False)"
   ]
  },
  {
   "cell_type": "code",
   "execution_count": null,
   "metadata": {
    "ExecuteTime": {
     "end_time": "2024-02-29T08:35:18.451745Z",
     "start_time": "2024-02-29T08:35:18.394574Z"
    }
   },
   "outputs": [],
   "source": [
    "analysis"
   ]
  },
  {
   "cell_type": "code",
   "execution_count": null,
   "metadata": {},
   "outputs": [],
   "source": []
  }
 ],
 "metadata": {
  "kernelspec": {
   "display_name": "Python 3",
   "language": "python",
   "name": "python3"
  },
  "language_info": {
   "codemirror_mode": {
    "name": "ipython",
    "version": 2
   },
   "file_extension": ".py",
   "mimetype": "text/x-python",
   "name": "python",
   "nbconvert_exporter": "python",
   "pygments_lexer": "ipython2",
   "version": "2.7.6"
  }
 },
 "nbformat": 4,
 "nbformat_minor": 0
}
