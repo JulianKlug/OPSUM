{
 "cells": [
  {
   "cell_type": "code",
   "execution_count": null,
   "metadata": {
    "ExecuteTime": {
     "end_time": "2023-04-07T17:10:28.987541Z",
     "start_time": "2023-04-07T17:10:28.986818Z"
    }
   },
   "outputs": [],
   "source": [
    "import sys\n",
    "sys.path.insert(0, '/tmp/pycharm_project_87')"
   ]
  },
  {
   "cell_type": "code",
   "execution_count": null,
   "metadata": {
    "ExecuteTime": {
     "end_time": "2023-04-07T17:15:10.765823Z",
     "start_time": "2023-04-07T17:15:10.696299Z"
    }
   },
   "outputs": [],
   "source": [
    "import os\n",
    "from functools import partial\n",
    "from datetime import datetime\n",
    "import torch as ch\n",
    "from os import path\n",
    "import numpy as np\n",
    "from pytorch_lightning.callbacks import ModelCheckpoint\n",
    "from torch.utils.data import DataLoader\n",
    "import pytorch_lightning as pl\n",
    "import json\n",
    "\n",
    "from prediction.outcome_prediction.Transformer.architecture import OPSUMTransformer\n",
    "from prediction.outcome_prediction.Transformer.lightning_wrapper import LitModel\n"
   ]
  },
  {
   "cell_type": "code",
   "execution_count": null,
   "metadata": {
    "ExecuteTime": {
     "end_time": "2023-04-07T17:18:30.089160Z",
     "start_time": "2023-04-07T17:18:30.075835Z"
    }
   },
   "outputs": [],
   "source": [
    "from torch.utils.data import TensorDataset\n",
    "from sklearn.preprocessing import StandardScaler\n",
    "from pytorch_lightning.callbacks.callback import Callback\n",
    "try:\n",
    "    from pytorch_lightning.loggers import LightningLoggerBase\n",
    "except:\n",
    "    from pytorch_lightning.loggers.logger import Logger as LightningLoggerBase\n",
    "\n",
    "\n",
    "def prepare_dataset(scenario, balanced=False, aggregate=False, rescale=True, use_gpu=True):\n",
    "    X_train, X_val, y_train, y_val = scenario\n",
    "    scaler = StandardScaler()\n",
    "\n",
    "    if rescale:\n",
    "        X_train = scaler.fit_transform(X_train.reshape(-1, 84)).reshape(X_train.shape)\n",
    "        X_val = scaler.transform(X_val.reshape(-1, 84)).reshape(X_val.shape)\n",
    "\n",
    "    if balanced:\n",
    "        X_train_neg = X_train[y_train == 0]\n",
    "        X_train_pos = X_train[np.random.choice(np.where(y_train==1)[0], X_train_neg.shape[0])]\n",
    "        X_train = np.concatenate([X_train_neg, X_train_pos])\n",
    "        y_train = np.concatenate([np.zeros(X_train_neg.shape[0]), np.ones(X_train_pos.shape[0])])\n",
    "\n",
    "    if use_gpu:\n",
    "        train_dataset = TensorDataset(ch.from_numpy(X_train).cuda(), ch.from_numpy(y_train.astype(np.int32)).cuda())\n",
    "        val_dataset = TensorDataset(ch.from_numpy(X_val).cuda(), ch.from_numpy(y_val.astype(np.int32)).cuda())\n",
    "    else:\n",
    "        train_dataset = TensorDataset(ch.from_numpy(X_train), ch.from_numpy(y_train.astype(np.int32)))\n",
    "        val_dataset = TensorDataset(ch.from_numpy(X_val), ch.from_numpy(y_val.astype(np.int32)))\n",
    "    return train_dataset, val_dataset\n",
    "\n",
    "class DictLogger(LightningLoggerBase):\n",
    "    \"\"\"PyTorch Lightning `dict` logger.\"\"\"\n",
    "\n",
    "    def __init__(self, version):\n",
    "        super(DictLogger, self).__init__()\n",
    "        self.metrics = []\n",
    "        self._version = version\n",
    "\n",
    "    def log_metrics(self, metrics, step=None):\n",
    "        self.metrics.append(metrics)\n",
    "\n",
    "    @property\n",
    "    def version(self):\n",
    "        return self._version\n",
    "\n",
    "    @property\n",
    "    def experiment(self):\n",
    "        \"\"\"Return the experiment object associated with this logger.\"\"\"\n",
    "\n",
    "    def log_hyperparams(self, params):\n",
    "        \"\"\"\n",
    "        Record hyperparameters.\n",
    "        Args:\n",
    "            params: :class:`~argparse.Namespace` containing the hyperparameters\n",
    "        \"\"\"\n",
    "\n",
    "    @property\n",
    "    def name(self):\n",
    "        \"\"\"Return the experiment name.\"\"\"\n",
    "        return 'optuna'\n",
    "\n",
    "\n",
    "class MyEarlyStopping(Callback):\n",
    "\n",
    "    best_so_far = 0\n",
    "    last_improvement = 0\n",
    "\n",
    "    def __init__(self):\n",
    "        super().__init__()\n",
    "\n",
    "    def on_validation_end(self, trainer, pl_module):\n",
    "        logs = trainer.callback_metrics\n",
    "        val_auroc = logs['val_auroc'].item()\n",
    "\n",
    "        if val_auroc > self.best_so_far:\n",
    "            self.last_improvement = 0\n",
    "        else:\n",
    "            self.last_improvement += 1\n",
    "\n",
    "        print(self.last_improvement)\n",
    "        trainer.should_stop = val_auroc < 0.75 * self.best_so_far or self.last_improvement > 10 or \\\n",
    "                    (trainer.current_epoch > 10 and val_auroc < 0.55)\n",
    "\n",
    "        self.best_so_far = max(val_auroc, self.best_so_far)\n"
   ]
  },
  {
   "cell_type": "code",
   "execution_count": null,
   "metadata": {
    "ExecuteTime": {
     "end_time": "2023-04-07T17:18:37.017700Z",
     "start_time": "2023-04-07T17:18:37.013648Z"
    }
   },
   "outputs": [],
   "source": [
    "# INPUT_FOLDER = '/Users/jk1/Downloads'\n",
    "# SPLIT_FILE = 'train_data_splits_3M_mRS_0-2_ts0.8_rs42_ns5.pth'\n",
    "\n",
    "INPUT_FOLDER = '/home/gl/gsu_prepro_01012023_233050/data_splits'\n",
    "SPLIT_FILE = 'train_data_splits_3M_mRS_0-2_ts0.8_rs42_ns5.pth'"
   ]
  },
  {
   "cell_type": "code",
   "execution_count": null,
   "metadata": {
    "ExecuteTime": {
     "end_time": "2023-04-07T17:18:37.483046Z",
     "start_time": "2023-04-07T17:18:37.470614Z"
    }
   },
   "outputs": [],
   "source": [
    "use_gpu = True"
   ]
  },
  {
   "cell_type": "code",
   "execution_count": null,
   "metadata": {
    "ExecuteTime": {
     "end_time": "2023-04-07T17:18:39.755188Z",
     "start_time": "2023-04-07T17:18:38.005246Z"
    }
   },
   "outputs": [],
   "source": [
    "scenarios = ch.load(path.join(INPUT_FOLDER, SPLIT_FILE))"
   ]
  },
  {
   "cell_type": "code",
   "execution_count": null,
   "metadata": {
    "ExecuteTime": {
     "end_time": "2023-04-07T17:18:41.625226Z",
     "start_time": "2023-04-07T17:18:41.290377Z"
    }
   },
   "outputs": [],
   "source": [
    "single_split_dataset = prepare_dataset(scenarios[0], use_gpu=use_gpu)"
   ]
  },
  {
   "cell_type": "code",
   "execution_count": null,
   "metadata": {
    "ExecuteTime": {
     "end_time": "2023-04-07T17:18:42.312959Z",
     "start_time": "2023-04-07T17:18:42.312412Z"
    }
   },
   "outputs": [],
   "source": [
    "train_dataset, val_dataset =  single_split_dataset"
   ]
  },
  {
   "cell_type": "code",
   "execution_count": null,
   "metadata": {
    "ExecuteTime": {
     "end_time": "2023-04-07T17:22:27.839099Z",
     "start_time": "2023-04-07T17:22:27.815649Z"
    }
   },
   "outputs": [],
   "source": [
    "input_dim = 84\n",
    "bs = 16\n",
    "num_layers = 6\n",
    "model_dim = 1024\n",
    "train_noise = 1e-4\n",
    "wd = 0.0001\n",
    "ff_factor = 2\n",
    "ff_dim = ff_factor * model_dim\n",
    "dropout = 0.4\n",
    "num_heads = 16\n",
    "pos_encode_factor = 1\n",
    "lr = 0.0004\n",
    "n_lr_warm_up_steps = 5\n",
    "grad_clip = 0.05"
   ]
  },
  {
   "cell_type": "code",
   "execution_count": null,
   "metadata": {
    "ExecuteTime": {
     "end_time": "2023-04-07T17:22:28.133003Z",
     "start_time": "2023-04-07T17:22:28.130393Z"
    }
   },
   "outputs": [],
   "source": [
    "train_loader = DataLoader(train_dataset, batch_size=bs, shuffle=True, drop_last=True )\n",
    "val_loader = DataLoader(val_dataset, batch_size=1024)\n",
    "logger = DictLogger(0)"
   ]
  },
  {
   "cell_type": "code",
   "execution_count": null,
   "metadata": {
    "ExecuteTime": {
     "end_time": "2023-04-07T17:22:28.895298Z",
     "start_time": "2023-04-07T17:22:28.488037Z"
    }
   },
   "outputs": [],
   "source": [
    "model = OPSUMTransformer(\n",
    "            input_dim=input_dim,\n",
    "            num_layers=num_layers,\n",
    "            model_dim=model_dim,\n",
    "            dropout=dropout,\n",
    "            ff_dim=ff_dim,\n",
    "            num_heads=num_heads,\n",
    "            num_classes=1,\n",
    "            max_dim=500,\n",
    "            pos_encode_factor=pos_encode_factor\n",
    "        )\n"
   ]
  },
  {
   "cell_type": "code",
   "execution_count": null,
   "metadata": {
    "ExecuteTime": {
     "end_time": "2023-04-07T17:22:29.193067Z",
     "start_time": "2023-04-07T17:22:29.145318Z"
    }
   },
   "outputs": [],
   "source": [
    "module = LitModel(model, lr, wd, train_noise, lr_warmup_steps=n_lr_warm_up_steps)\n",
    "\n",
    "if use_gpu:\n",
    "    accelerator = 'gpu'\n",
    "else:\n",
    "    accelerator = 'cpu'\n",
    "\n",
    "trainer = pl.Trainer(accelerator=accelerator, devices=1, max_epochs=1000, logger=logger,\n",
    "                     log_every_n_steps = 25, enable_checkpointing=True,\n",
    "                     callbacks=[MyEarlyStopping()], gradient_clip_val=grad_clip)\n"
   ]
  },
  {
   "cell_type": "code",
   "execution_count": null,
   "metadata": {
    "ExecuteTime": {
     "end_time": "2023-04-07T17:23:55.141649Z",
     "start_time": "2023-04-07T17:22:31.767201Z"
    }
   },
   "outputs": [],
   "source": [
    "trainer.fit(model=module, train_dataloaders=train_loader, val_dataloaders=val_loader)"
   ]
  },
  {
   "cell_type": "code",
   "execution_count": null,
   "metadata": {},
   "outputs": [],
   "source": []
  }
 ],
 "metadata": {
  "kernelspec": {
   "display_name": "Python 3",
   "language": "python",
   "name": "python3"
  },
  "language_info": {
   "codemirror_mode": {
    "name": "ipython",
    "version": 2
   },
   "file_extension": ".py",
   "mimetype": "text/x-python",
   "name": "python",
   "nbconvert_exporter": "python",
   "pygments_lexer": "ipython2",
   "version": "2.7.6"
  }
 },
 "nbformat": 4,
 "nbformat_minor": 0
}
