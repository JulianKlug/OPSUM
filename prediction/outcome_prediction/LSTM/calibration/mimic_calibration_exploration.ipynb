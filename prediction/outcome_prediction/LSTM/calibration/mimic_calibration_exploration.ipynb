{
 "cells": [
  {
   "cell_type": "code",
   "execution_count": null,
   "metadata": {},
   "outputs": [],
   "source": [
    "import pandas as pd\n",
    "import os\n",
    "import numpy as np\n",
    "from sklearn.calibration import calibration_curve\n",
    "import matplotlib.pyplot as plt"
   ]
  },
  {
   "cell_type": "code",
   "execution_count": null,
   "metadata": {},
   "outputs": [],
   "source": [
    "model_weights_path= '/Users/jk1/temp/mimic/prediction/3M_Death/2023_01_04_2020/test_LSTM_sigmoid_all_balanced_0.0_2_True_RMSprop_3M Death_128_2/sigmoid_all_balanced_0.0_2_True_RMSprop_3M Death_128_2.hdf5'\n",
    "features_path = '/Users/jk1/temp/mimic/preprocessing/mimic_prepro_25012023_232713/preprocessed_features_25012023_232713.csv'\n",
    "labels_path = '/Users/jk1/temp/mimic/preprocessing/mimic_prepro_25012023_232713/preprocessed_outcomes_25012023_232713.csv'"
   ]
  },
  {
   "cell_type": "code",
   "execution_count": null,
   "metadata": {},
   "outputs": [],
   "source": [
    "outcome = '3M Death'"
   ]
  },
  {
   "cell_type": "code",
   "execution_count": null,
   "metadata": {},
   "outputs": [],
   "source": [
    "model_name = os.path.basename(model_weights_path).split('.hdf5')[0]\n",
    "\n",
    "model_config = {\n",
    "    'activation': model_name.split('_')[0],\n",
    "    'batch': model_name.split('_')[1],\n",
    "    'data': model_name.split('_')[2],\n",
    "    'dropout': float(model_name.split('_')[3]),\n",
    "    'layers': int(model_name.split('_')[4]),\n",
    "    'masking': model_name.split('_')[5],\n",
    "    'optimizer': model_name.split('_')[6],\n",
    "    'units': int(model_name.split('_')[8]),\n",
    "    'cv_fold': int(model_name.split('_')[9])\n",
    "}"
   ]
  },
  {
   "cell_type": "markdown",
   "metadata": {
    "collapsed": false
   },
   "source": [
    "## Initial calibration curve"
   ]
  },
  {
   "cell_type": "markdown",
   "metadata": {
    "collapsed": false
   },
   "source": [
    "Load data"
   ]
  },
  {
   "cell_type": "code",
   "execution_count": null,
   "metadata": {},
   "outputs": [],
   "source": [
    "from prediction.utils.utils import check_data\n",
    "from prediction.outcome_prediction.data_loading.data_formatting import feature_order_verification, features_to_numpy, \\\n",
    "    format_to_2d_table_with_time\n",
    "\n",
    "# load the dataset\n",
    "X, y = format_to_2d_table_with_time(feature_df_path=features_path, outcome_df_path=labels_path,\n",
    "                                    outcome=outcome)\n",
    "\n",
    "n_time_steps = X.relative_sample_date_hourly_cat.max() + 1\n",
    "n_channels = X.sample_label.unique().shape[0]\n",
    "\n",
    "# test if data is corrupted\n",
    "check_data(X)\n",
    "\n",
    "test_X_np = features_to_numpy(X,\n",
    "                              ['case_admission_id', 'relative_sample_date_hourly_cat', 'sample_label', 'value'])\n",
    "\n",
    "# ensure that the order of features (3rd dimension) is the one predefined for the model\n",
    "feature_order_verification(test_X_np)\n",
    "\n",
    "test_y_np = np.array([y[y.case_admission_id == cid].outcome.values[0] for cid in\n",
    "                      test_X_np[:, 0, 0, 0]]).astype('float32')\n",
    "\n",
    "# Remove the case_admission_id, sample_label, and time_step_label columns from the data\n",
    "test_X_np = test_X_np[:, :, :, -1].astype('float32')"
   ]
  },
  {
   "cell_type": "markdown",
   "metadata": {
    "collapsed": false
   },
   "source": [
    "Load model"
   ]
  },
  {
   "cell_type": "code",
   "execution_count": null,
   "metadata": {},
   "outputs": [],
   "source": [
    "from prediction.outcome_prediction.LSTM.LSTM import lstm_generator\n",
    "from prediction.utils.scoring import precision, recall, matthews\n",
    "\n",
    "model = lstm_generator(x_time_shape=n_time_steps, x_channels_shape=n_channels, masking=model_config['masking'], n_units=model_config['units'],\n",
    "                       activation=model_config['activation'], dropout=model_config['dropout'], n_layers=model_config['layers'])\n",
    "\n",
    "model.compile(loss='binary_crossentropy', optimizer=model_config['optimizer'],\n",
    "              metrics=['accuracy', precision, recall, matthews])\n",
    "\n",
    "model.load_weights(model_weights_path)"
   ]
  },
  {
   "cell_type": "markdown",
   "metadata": {
    "collapsed": false
   },
   "source": [
    "Make predictions"
   ]
  },
  {
   "cell_type": "code",
   "execution_count": null,
   "metadata": {},
   "outputs": [],
   "source": [
    "# calculate overall model prediction\n",
    "y_pred_test = model.predict(test_X_np)"
   ]
  },
  {
   "cell_type": "code",
   "execution_count": null,
   "metadata": {},
   "outputs": [],
   "source": [
    "from prediction.outcome_prediction.LSTM.calibration.calibration_visualisation_tools import plot_calibration_curve\n",
    "\n",
    "plot_calibration_curve(test_y_np, y_pred_test, n_bins=10)\n",
    "plt.title(\"Calibration curve\")\n",
    "plt.show()"
   ]
  },
  {
   "cell_type": "markdown",
   "metadata": {
    "collapsed": false
   },
   "source": [
    "## Re-calibration using GSU dataset"
   ]
  },
  {
   "cell_type": "code",
   "execution_count": null,
   "metadata": {},
   "outputs": [],
   "source": [
    "gsu_features_path = '/Users/jk1/temp/opsum_prepro_output/gsu_prepro_01012023_233050/preprocessed_features_01012023_233050.csv'\n",
    "gsu_labels_path = '/Users/jk1/temp/opsum_prepro_output/gsu_prepro_01012023_233050/preprocessed_outcomes_01012023_233050.csv'"
   ]
  },
  {
   "cell_type": "code",
   "execution_count": null,
   "metadata": {},
   "outputs": [],
   "source": [
    "from prediction.outcome_prediction.LSTM.calibration.calibration_tools import CalibratableModelFactory\n",
    "\n",
    "factory = CalibratableModelFactory()\n",
    "\n",
    "wrapped_model = factory.get_model(model)"
   ]
  },
  {
   "cell_type": "code",
   "execution_count": null,
   "metadata": {},
   "outputs": [],
   "source": [
    "accuracy, MCC = wrapped_model.score(test_X_np, test_y_np)\n",
    "print(f'{wrapped_model.name} accuracy: {round(100*accuracy, 2)}%')\n",
    "print(f'MCC: {MCC}')\n"
   ]
  },
  {
   "cell_type": "code",
   "execution_count": null,
   "metadata": {},
   "outputs": [],
   "source": [
    "plot_calibration_curve(test_y_np, wrapped_model.predict(test_X_np), n_bins=10)\n",
    "plt.show()"
   ]
  },
  {
   "cell_type": "markdown",
   "metadata": {
    "collapsed": false
   },
   "source": [
    "Load calibration data"
   ]
  },
  {
   "cell_type": "code",
   "execution_count": null,
   "metadata": {},
   "outputs": [],
   "source": [
    "from sklearn.model_selection import train_test_split\n",
    "from prediction.outcome_prediction.data_loading.data_formatting import link_patient_id_to_outcome\n",
    "\n",
    "# define constants\n",
    "seed = 42\n",
    "test_size = 0.20\n",
    "\n",
    "# load the dataset\n",
    "X, y = format_to_2d_table_with_time(feature_df_path=gsu_features_path, outcome_df_path=gsu_labels_path,\n",
    "                                    outcome=outcome)\n",
    "\n",
    "n_time_steps = X.relative_sample_date_hourly_cat.max() + 1\n",
    "n_channels = X.sample_label.unique().shape[0]\n",
    "\n",
    "# test if data is corrupted\n",
    "check_data(X)\n",
    "\n",
    "\"\"\"\n",
    "    SPLITTING DATA\n",
    "    Splitting is done by patient id (and not admission id) as in case of the rare multiple admissions per patient there\n",
    "    would be a risk of data leakage otherwise split 'pid' in TRAIN and TEST pid = unique patient_id\n",
    "    \"\"\"\n",
    "# Reduce every patient to a single outcome (to avoid duplicates)\n",
    "all_pids_with_outcome = link_patient_id_to_outcome(y, outcome)\n",
    "pid_train, pid_test, y_pid_train, y_pid_test = train_test_split(all_pids_with_outcome.patient_id.tolist(),\n",
    "                                                                all_pids_with_outcome.outcome.tolist(),\n",
    "                                                                stratify=all_pids_with_outcome.outcome.tolist(),\n",
    "                                                                test_size=test_size,\n",
    "                                                                random_state=seed)\n",
    "\n",
    "calib_X_df = X[X.patient_id.isin(pid_test)]\n",
    "calib_y_df = y[y.patient_id.isin(pid_test)]\n",
    "\n",
    "calib_X_np = features_to_numpy(calib_X_df,\n",
    "                              ['case_admission_id', 'relative_sample_date_hourly_cat', 'sample_label', 'value'])\n",
    "calib_y_np = np.array([calib_y_df[calib_y_df.case_admission_id == cid].outcome.values[0] for cid in\n",
    "                      calib_X_np[:, 0, 0, 0]]).astype('float32')\n",
    "\n",
    "# Remove the case_admission_id, sample_label, and time_step_label columns from the data\n",
    "calib_X_np = calib_X_np[:, :, :, -1].astype('float32')"
   ]
  },
  {
   "cell_type": "code",
   "execution_count": null,
   "metadata": {},
   "outputs": [],
   "source": [
    "wrapped_model.calibrate(calib_X_np, calib_y_np)"
   ]
  },
  {
   "cell_type": "code",
   "execution_count": null,
   "metadata": {},
   "outputs": [],
   "source": [
    "for method in ['sigmoid', 'isotonic']:\n",
    "    accuracy, MCC = wrapped_model.score_calibrated(test_X_np, test_y_np, method)\n",
    "    print(f'Accuracy after {method}: {round(100*accuracy, 2)}%')\n",
    "    print(f'MCC after {method}: {MCC}')\n",
    "    plt.figure(figsize=(10, 4))\n",
    "    plot_calibration_curve(test_y_np, wrapped_model.predict_calibrated(test_X_np, method))\n",
    "    plt.title(f'{method} calibration')\n",
    "    plt.show()"
   ]
  },
  {
   "cell_type": "markdown",
   "metadata": {
    "collapsed": false
   },
   "source": [
    "## Re-calibration using a fraction of MIMIC dataset\n",
    "\n",
    "Gist: use a sub-fraction of MIMIC to calibrate model"
   ]
  },
  {
   "cell_type": "code",
   "execution_count": null,
   "metadata": {},
   "outputs": [],
   "source": [
    "calib_size = 0.1\n",
    "\n",
    "ext_test_X, ext_calib_X, ext_test_y, ext_calib_y = train_test_split(test_X_np, test_y_np,\n",
    "                                                                    stratify=test_y_np,\n",
    "                                                                test_size=calib_size,\n",
    "                                                                random_state=seed)"
   ]
  },
  {
   "cell_type": "code",
   "execution_count": null,
   "metadata": {},
   "outputs": [],
   "source": [
    "wrapped_model.calibrate(ext_calib_X, ext_calib_y)"
   ]
  },
  {
   "cell_type": "code",
   "execution_count": null,
   "metadata": {},
   "outputs": [],
   "source": [
    "for method in ['sigmoid', 'isotonic']:\n",
    "    accuracy, MCC = wrapped_model.score_calibrated(test_X_np, test_y_np, method)\n",
    "    print(f'Accuracy after {method}: {round(100*accuracy, 2)}%')\n",
    "    print(f'MCC after {method}: {MCC}')\n",
    "    plt.figure(figsize=(10, 4))\n",
    "    plot_calibration_curve(test_y_np, wrapped_model.predict_calibrated(test_X_np, method))\n",
    "    plt.title(f'{method} calibration')\n",
    "    plt.show()"
   ]
  },
  {
   "cell_type": "code",
   "execution_count": null,
   "metadata": {},
   "outputs": [],
   "source": []
  }
 ],
 "metadata": {
  "kernelspec": {
   "display_name": "Python 3",
   "language": "python",
   "name": "python3"
  },
  "language_info": {
   "codemirror_mode": {
    "name": "ipython",
    "version": 2
   },
   "file_extension": ".py",
   "mimetype": "text/x-python",
   "name": "python",
   "nbconvert_exporter": "python",
   "pygments_lexer": "ipython2",
   "version": "2.7.6"
  }
 },
 "nbformat": 4,
 "nbformat_minor": 0
}
