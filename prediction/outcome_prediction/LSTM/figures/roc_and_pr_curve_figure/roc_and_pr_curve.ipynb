{
 "cells": [
  {
   "cell_type": "markdown",
   "metadata": {
    "collapsed": false
   },
   "source": [
    "# ROC Curve comparison with confidence intervals"
   ]
  },
  {
   "cell_type": "code",
   "execution_count": null,
   "metadata": {},
   "outputs": [],
   "source": [
    "import pickle\n",
    "import numpy as np\n",
    "import matplotlib.pyplot as plt\n",
    "from tqdm import tqdm\n",
    "import seaborn as sns\n",
    "import pandas as pd\n",
    "from sklearn.metrics import roc_curve, auc, precision_recall_curve\n",
    "import matplotlib.patches as mpatches\n",
    "from matplotlib.legend_handler import HandlerTuple"
   ]
  },
  {
   "cell_type": "code",
   "execution_count": null,
   "metadata": {},
   "outputs": [],
   "source": [
    "lstm_bs_predictions_path = '/Users/jk1/temp/opsum_prediction_output/LSTM_72h_testing/3M_mRS01/2023_01_06_1847/test_LSTM_sigmoid_all_unchanged_0.0_2_True_RMSprop_3M mRS 0-1_128_3/bootstrapped_gt_and_pred.pkl'\n",
    "outcome = '3M mRS 0-1'"
   ]
  },
  {
   "cell_type": "code",
   "execution_count": null,
   "metadata": {},
   "outputs": [],
   "source": [
    "lstm_bs_gt, lstm_bs_predictions = pickle.load(open(lstm_bs_predictions_path, 'rb'))"
   ]
  },
  {
   "cell_type": "code",
   "execution_count": null,
   "metadata": {},
   "outputs": [],
   "source": [
    "all_colors_palette = sns.color_palette(['#f61067', '#049b9a', '#012D98', '#a76dfe'], n_colors=4)\n",
    "all_colors_palette"
   ]
  },
  {
   "cell_type": "markdown",
   "metadata": {
    "collapsed": false
   },
   "source": [
    "Compute resampled ROC curve and ROC area / PR curve and PR area for LSTM over bootstrapped samples"
   ]
  },
  {
   "cell_type": "code",
   "execution_count": null,
   "metadata": {},
   "outputs": [],
   "source": [
    "lstm_bs_roc_aucs = []\n",
    "lstm_bs_pr_aucs = []\n",
    "\n",
    "lstm_resampled_roc_df = pd.DataFrame()\n",
    "lstm_resampled_pr_df = pd.DataFrame()\n",
    "\n",
    "for idx in tqdm(range(len(lstm_bs_predictions))):\n",
    "    # calculate the ROC curve and AUC\n",
    "    bs_fpr, bs_tpr, _ = roc_curve(lstm_bs_gt[idx], lstm_bs_predictions[idx])\n",
    "    bs_roc_auc = auc(bs_fpr, bs_tpr)\n",
    "    lstm_bs_roc_aucs.append(bs_roc_auc)\n",
    "\n",
    "    bs_precision, bs_recall, _ = precision_recall_curve(lstm_bs_gt[idx], lstm_bs_predictions[idx])\n",
    "    bs_pr_auc = auc(bs_recall, bs_precision)\n",
    "    lstm_bs_pr_aucs.append(bs_pr_auc)\n",
    "\n",
    "    bs_resampled_tpr = np.interp(np.linspace(0, 1, 200), bs_fpr, bs_tpr)\n",
    "    bs_resampled_roc_df = pd.DataFrame({'fpr': np.linspace(0,1,200),  'tpr': bs_resampled_tpr})\n",
    "    bs_resampled_roc_df['bootstrap_idx'] = idx\n",
    "    lstm_resampled_roc_df = lstm_resampled_roc_df.append(bs_resampled_roc_df)\n",
    "\n",
    "    # sort by recall\n",
    "    bs_recall, bs_precision = zip(*sorted(zip(bs_recall, bs_precision)))\n",
    "    bs_resampled_precision = np.interp(np.linspace(0, 1, 200), bs_recall, bs_precision)\n",
    "    bs_resampled_pr_df = pd.DataFrame({'precision': bs_resampled_precision, 'recall': np.linspace(0, 1, 200)})\n",
    "    bs_resampled_pr_df['bootstrap_idx'] = idx\n",
    "    lstm_resampled_pr_df = lstm_resampled_pr_df.append(bs_resampled_pr_df)"
   ]
  },
  {
   "cell_type": "markdown",
   "metadata": {
    "collapsed": false
   },
   "source": [
    "### Bootstrapped resampled ROC curve\n"
   ]
  },
  {
   "cell_type": "code",
   "execution_count": null,
   "metadata": {},
   "outputs": [],
   "source": [
    "custom_params = {\"axes.spines.right\": False, \"axes.spines.top\": False, 'figure.figsize':(10,10)}\n",
    "sns.set_theme(style=\"whitegrid\", rc=custom_params, context=\"paper\", font_scale = 1)\n",
    "\n",
    "ax = plt.subplot(111)\n",
    "\n",
    "plot_legend = True\n",
    "\n",
    "tick_label_size = 11\n",
    "label_font_size = 13\n",
    "\n",
    "ax = sns.lineplot(data=lstm_resampled_roc_df, x='fpr', y='tpr', color=all_colors_palette[0], label='LSTM (area = %0.2f)' % np.median(lstm_bs_roc_aucs),\n",
    "                   ax=ax, errorbar='sd')\n",
    "\n",
    "ax.plot([0, 1], [0, 1], color='grey', lw=1, linestyle='--', alpha=0.5)\n",
    "\n",
    "ax.set_xlabel('1 - Specificity (False Positive Rate)', fontsize=label_font_size)\n",
    "ax.set_ylabel('Sensitivity (True Positive Rate)', fontsize=label_font_size)\n",
    "ax.tick_params('x', labelsize=tick_label_size)\n",
    "ax.tick_params('y', labelsize=tick_label_size)\n",
    "\n",
    "if plot_legend:\n",
    "    legend_markers, legend_labels = ax.get_legend_handles_labels()\n",
    "    sd1_patch = mpatches.Patch(color=all_colors_palette[0], alpha=0.3)\n",
    "    # sd2_patch = mpatches.Patch(color=(0.00392156862745098, 0.17647058823529413, 0.596078431372549, 0.3))\n",
    "    # sd3_patch = mpatches.Patch(color=(0.6549019607843137, 0.42745098039215684, 0.996078431372549, 0.3))\n",
    "    sd_marker = (sd1_patch)\n",
    "    sd_labels = '± s.d.'\n",
    "    legend_markers.append(sd_marker)\n",
    "    legend_labels.append(sd_labels)\n",
    "    ax.legend(legend_markers, legend_labels, fontsize=label_font_size,\n",
    "              handler_map={tuple: HandlerTuple(ndivide=None)})\n",
    "\n",
    "else:\n",
    "    # remove legend\n",
    "    ax.get_legend().remove()\n"
   ]
  },
  {
   "cell_type": "markdown",
   "metadata": {
    "collapsed": false
   },
   "source": [
    "### Overall Precision-Recall curve"
   ]
  },
  {
   "cell_type": "code",
   "execution_count": null,
   "metadata": {},
   "outputs": [],
   "source": [
    "custom_params = {\"axes.spines.right\": False, \"axes.spines.top\": False, 'figure.figsize':(10,10)}\n",
    "sns.set_theme(style=\"whitegrid\", rc=custom_params, context=\"paper\", font_scale = 1)\n",
    "\n",
    "ax1 = plt.subplot(111)\n",
    "\n",
    "plot_legend = True\n",
    "\n",
    "tick_label_size = 11\n",
    "label_font_size = 13\n",
    "\n",
    "ax1 = sns.lineplot(data=lstm_resampled_pr_df, x='recall', y='precision', color=all_colors_palette[0], label='LSTM (area = %0.2f)' % np.median(lstm_bs_pr_aucs),\n",
    "                   ax=ax1, errorbar='sd')\n",
    "\n",
    "ax1.set_xlabel('Recall', fontsize=label_font_size)\n",
    "ax1.set_ylabel('Precision', fontsize=label_font_size)\n",
    "ax1.tick_params('x', labelsize=tick_label_size)\n",
    "ax1.tick_params('y', labelsize=tick_label_size)\n",
    "\n",
    "if plot_legend:\n",
    "    legend_markers, legend_labels = ax1.get_legend_handles_labels()\n",
    "    sd1_patch = mpatches.Patch(color=all_colors_palette[0], alpha=0.3)\n",
    "    # sd2_patch = mpatches.Patch(color=(0.00392156862745098, 0.17647058823529413, 0.596078431372549, 0.3))\n",
    "    # sd3_patch = mpatches.Patch(color=(0.6549019607843137, 0.42745098039215684, 0.996078431372549, 0.3))\n",
    "    sd_marker = (sd1_patch)\n",
    "    sd_labels = '± s.d.'\n",
    "    legend_markers.append(sd_marker)\n",
    "    legend_labels.append(sd_labels)\n",
    "    ax1.legend(legend_markers, legend_labels, fontsize=label_font_size,\n",
    "              handler_map={tuple: HandlerTuple(ndivide=None)})\n",
    "\n",
    "else:\n",
    "    # remove legend\n",
    "    ax1.get_legend().remove()\n"
   ]
  },
  {
   "cell_type": "code",
   "execution_count": null,
   "metadata": {},
   "outputs": [],
   "source": []
  }
 ],
 "metadata": {
  "kernelspec": {
   "display_name": "Python 3",
   "language": "python",
   "name": "python3"
  },
  "language_info": {
   "codemirror_mode": {
    "name": "ipython",
    "version": 2
   },
   "file_extension": ".py",
   "mimetype": "text/x-python",
   "name": "python",
   "nbconvert_exporter": "python",
   "pygments_lexer": "ipython2",
   "version": "2.7.6"
  }
 },
 "nbformat": 4,
 "nbformat_minor": 0
}
