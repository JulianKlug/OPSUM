{
 "cells": [
  {
   "cell_type": "markdown",
   "metadata": {
    "collapsed": false
   },
   "source": [
    "# ROC Curve comparison with confidence intervals"
   ]
  },
  {
   "cell_type": "code",
   "execution_count": null,
   "metadata": {},
   "outputs": [],
   "source": [
    "import pickle\n",
    "import numpy as np\n",
    "import matplotlib.pyplot as plt\n",
    "from tqdm import tqdm\n",
    "import seaborn as sns\n",
    "import pandas as pd\n",
    "from sklearn.metrics import roc_curve, auc\n",
    "import matplotlib.patches as mpatches\n",
    "from matplotlib.legend_handler import HandlerTuple"
   ]
  },
  {
   "cell_type": "code",
   "execution_count": null,
   "metadata": {},
   "outputs": [],
   "source": [
    "lstm_bs_predictions_path = '/Users/jk1/temp/opsum_prediction_output/LSTM_72h_testing/3M_mRS01/2023_01_06_1847/test_LSTM_sigmoid_all_unchanged_0.0_2_True_RMSprop_3M mRS 0-1_128_3/bootstrapped_gt_and_pred.pkl'\n",
    "lstm_predictions_path = '/Users/jk1/temp/opsum_prediction_output/LSTM_72h_testing/3M_mRS01/2023_01_06_1847/test_LSTM_sigmoid_all_unchanged_0.0_2_True_RMSprop_3M mRS 0-1_128_3/test_gt_and_pred.pkl'\n",
    "outcome = '3M mRS 0-1'"
   ]
  },
  {
   "cell_type": "code",
   "execution_count": null,
   "metadata": {},
   "outputs": [],
   "source": [
    "lstm_bs_gt, lstm_bs_predictions = pickle.load(open(lstm_bs_predictions_path, 'rb'))\n",
    "lstm_gt, lstm_test_predictions = pickle.load(open(lstm_predictions_path, 'rb'))"
   ]
  },
  {
   "cell_type": "code",
   "execution_count": null,
   "metadata": {},
   "outputs": [],
   "source": [
    "all_colors_palette = sns.color_palette(['#f61067', '#049b9a', '#012D98', '#a76dfe'], n_colors=4)\n",
    "all_colors_palette"
   ]
  },
  {
   "cell_type": "markdown",
   "metadata": {
    "collapsed": false
   },
   "source": [
    "Compute overall ROC curve and ROC area"
   ]
  },
  {
   "cell_type": "code",
   "execution_count": null,
   "metadata": {},
   "outputs": [],
   "source": [
    "test_fpr, test_tpr, _ = roc_curve(lstm_gt, lstm_test_predictions)\n",
    "test_roc_auc = auc(test_fpr, test_tpr)"
   ]
  },
  {
   "cell_type": "code",
   "execution_count": null,
   "metadata": {},
   "outputs": [],
   "source": [
    "lstm_test_df = pd.DataFrame({'fpr': test_fpr, 'tpr': test_tpr})"
   ]
  },
  {
   "cell_type": "markdown",
   "metadata": {
    "collapsed": false
   },
   "source": [
    "Compute ROC curves and ROC area for each bootstrap sample"
   ]
  },
  {
   "cell_type": "code",
   "execution_count": null,
   "metadata": {},
   "outputs": [],
   "source": [
    "lstm_bs_fprs = []\n",
    "lstm_bs_tprs = []\n",
    "lstm_bs_aucs = []\n",
    "lstm_bs_df = pd.DataFrame()\n",
    "resampled_bs_df = pd.DataFrame()\n",
    "for idx in tqdm(range(len(lstm_bs_predictions))):\n",
    "    # calculate the ROC curve and AUC\n",
    "    bs_fpr, bs_tpr, _ = roc_curve(lstm_bs_gt[idx], lstm_bs_predictions[idx])\n",
    "    bs_roc_auc = auc(bs_fpr, bs_tpr)\n",
    "    lstm_bs_fprs.append(bs_fpr)\n",
    "    lstm_bs_tprs.append(bs_tpr)\n",
    "    lstm_bs_aucs.append(bs_roc_auc)\n",
    "\n",
    "    bs_df = pd.DataFrame({'fpr': bs_fpr, 'tpr': bs_tpr, 'auc': bs_roc_auc})\n",
    "    bs_df['bootstrap_idx'] = idx\n",
    "    lstm_bs_df = lstm_bs_df.append(bs_df)\n",
    "\n",
    "    bs_resampled_tpr = np.interp(np.linspace(0, 1, 200), bs_fpr, bs_tpr)\n",
    "    bs_resampled_df = pd.DataFrame({'fpr': np.linspace(0,1,200),  'tpr': bs_resampled_tpr})\n",
    "    bs_resampled_df['bootstrap_idx'] = idx\n",
    "    resampled_bs_df = resampled_bs_df.append(bs_resampled_df)"
   ]
  },
  {
   "cell_type": "code",
   "execution_count": null,
   "metadata": {},
   "outputs": [],
   "source": [
    "# get medians\n",
    "median_roc_auc = np.percentile(lstm_bs_aucs, 50)\n",
    "\n",
    "# get 95% interval\n",
    "alpha = 100 - 95\n",
    "lower_ci_roc_auc = np.percentile(lstm_bs_aucs, alpha / 2)\n",
    "upper_ci_roc_auc = np.percentile(lstm_bs_aucs, 100 - alpha / 2)"
   ]
  },
  {
   "cell_type": "code",
   "execution_count": null,
   "metadata": {},
   "outputs": [],
   "source": [
    "sorted_lower_ci_idx = int((alpha / 2) * len(lstm_bs_aucs) / 100 + 0.5)\n",
    "unsorted_lower_ci_idx = np.where(lstm_bs_aucs == sorted(lstm_bs_aucs)[sorted_lower_ci_idx])[0][0]\n",
    "sorted_upper_ci_idx = int((100 - alpha / 2) * len(lstm_bs_aucs) / 100 + 0.5)\n",
    "unsorted_upper_ci_idx = np.where(lstm_bs_aucs == sorted(lstm_bs_aucs)[sorted_upper_ci_idx])[0][0]\n",
    "sorted_median_idx = int(50 * len(lstm_bs_aucs) / 100 + 0.5)\n",
    "unsorted_median_idx = np.where(lstm_bs_aucs == sorted(lstm_bs_aucs)[sorted_median_idx])[0][0]"
   ]
  },
  {
   "cell_type": "code",
   "execution_count": null,
   "metadata": {},
   "outputs": [],
   "source": [
    "lower_ci_fpr = lstm_bs_fprs[unsorted_lower_ci_idx]\n",
    "lower_ci_tpr = lstm_bs_tprs[unsorted_lower_ci_idx]\n",
    "upper_ci_fpr = lstm_bs_fprs[unsorted_upper_ci_idx]\n",
    "upper_ci_tpr = lstm_bs_tprs[unsorted_upper_ci_idx]\n",
    "median_fpr = lstm_bs_fprs[unsorted_median_idx]\n",
    "median_tpr = lstm_bs_tprs[unsorted_median_idx]"
   ]
  },
  {
   "cell_type": "code",
   "execution_count": null,
   "metadata": {},
   "outputs": [],
   "source": [
    "# subsample upper and lower ci to 150 points between 0 and 1 (to have same number of points as for plotting)\n",
    "sub_lower_ci_tpr = np.interp(np.linspace(0, 1, 150), lower_ci_fpr, lower_ci_tpr)\n",
    "sub_upper_ci_tpr = np.interp(np.linspace(0, 1, 150), upper_ci_fpr, upper_ci_tpr)"
   ]
  },
  {
   "cell_type": "markdown",
   "metadata": {
    "collapsed": false
   },
   "source": [
    "### Overall ROC curve\n"
   ]
  },
  {
   "cell_type": "code",
   "execution_count": null,
   "metadata": {},
   "outputs": [],
   "source": [
    "ax = plt.subplot(111)\n",
    "\n",
    "plot_legend = True\n",
    "\n",
    "tick_label_size = 11\n",
    "label_font_size = 13\n",
    "\n",
    "custom_params = {\"axes.spines.right\": False, \"axes.spines.top\": False, 'figure.figsize':(10,10)}\n",
    "sns.set_theme(style=\"whitegrid\", rc=custom_params, context=\"paper\", font_scale = 1)\n",
    "\n",
    "ax = sns.lineplot(data=lstm_test_df, x='fpr', y='tpr', color=all_colors_palette[0], label='LSTM (area = %0.2f)' % test_roc_auc,\n",
    "                   ax=ax, errorbar='sd')\n",
    "\n",
    "ax.plot([0, 1], [0, 1], color='grey', lw=1, linestyle='--', alpha=0.5)\n",
    "\n",
    "ax.set_xlabel('1 - Specificity (False Positive Rate)', fontsize=label_font_size)\n",
    "ax.set_ylabel('Sensitivity (True Positive Rate)', fontsize=label_font_size)\n",
    "ax.tick_params('x', labelsize=tick_label_size)\n",
    "ax.tick_params('y', labelsize=tick_label_size)\n",
    "\n",
    "if plot_legend:\n",
    "    legend_markers, legend_labels = ax.get_legend_handles_labels()\n",
    "    sd1_patch = mpatches.Patch(color=all_colors_palette[0], alpha=0.3)\n",
    "    # sd2_patch = mpatches.Patch(color=(0.00392156862745098, 0.17647058823529413, 0.596078431372549, 0.3))\n",
    "    # sd3_patch = mpatches.Patch(color=(0.6549019607843137, 0.42745098039215684, 0.996078431372549, 0.3))\n",
    "    sd_marker = (sd1_patch)\n",
    "    sd_labels = '± s.d.'\n",
    "    legend_markers.append(sd_marker)\n",
    "    legend_labels.append(sd_labels)\n",
    "    ax.legend(legend_markers, legend_labels, fontsize=tick_label_size,\n",
    "              handler_map={tuple: HandlerTuple(ndivide=None)})\n",
    "\n",
    "else:\n",
    "    # remove legend\n",
    "    ax.get_legend().remove()\n",
    "\n",
    "\n",
    "\n",
    "\n"
   ]
  },
  {
   "cell_type": "markdown",
   "metadata": {
    "collapsed": false
   },
   "source": [
    "### ROC curve after boostrapping"
   ]
  },
  {
   "cell_type": "markdown",
   "metadata": {
    "collapsed": false
   },
   "source": [
    "Confidence interval by taking corresponding roc curves"
   ]
  },
  {
   "cell_type": "code",
   "execution_count": null,
   "metadata": {},
   "outputs": [],
   "source": [
    "# plot roc curves for median, and fill between lower and upper confidence intervals\n",
    "plt.figure(figsize=(10, 10))\n",
    "ax = plt.subplot(111)\n",
    "\n",
    "# plot median\n",
    "ax.plot(median_fpr, median_tpr, color=all_colors_palette[0], lw=2, label='Median ROC curve (area = %0.2f)' % median_roc_auc)\n",
    "ax.plot([0, 1], [0, 1], color='navy', lw=1, linestyle='--')\n",
    "\n",
    "ax.fill_between(np.linspace(0, 1, 150), sub_lower_ci_tpr, sub_upper_ci_tpr, color=all_colors_palette[0], alpha=.2,\n",
    "                label=r'95% CI')"
   ]
  },
  {
   "cell_type": "markdown",
   "metadata": {
    "collapsed": false
   },
   "source": [
    "Confidence interval by resampling"
   ]
  },
  {
   "cell_type": "code",
   "execution_count": null,
   "metadata": {},
   "outputs": [],
   "source": [
    "plt.figure(figsize=(10, 10))\n",
    "ax1 = plt.subplot(111)\n",
    "\n",
    "\n",
    "ax1 = sns.lineplot(data=resampled_bs_df.groupby('fpr').tpr.quantile(0.5).reset_index(), x='fpr', y='tpr', color=all_colors_palette[0], lw=2, ax=ax1)\n",
    "ax1.fill_between(resampled_bs_df.groupby('fpr').tpr.quantile(alpha / 2 / 100).reset_index().fpr.values,\n",
    "                resampled_bs_df.groupby('fpr').tpr.quantile(alpha / 2 / 100).reset_index().tpr.values,\n",
    "                resampled_bs_df.groupby('fpr').tpr.quantile(1 - alpha / 2 / 100).reset_index().tpr.values,\n",
    "                color=all_colors_palette[0], alpha=.2)"
   ]
  },
  {
   "cell_type": "code",
   "execution_count": null,
   "metadata": {},
   "outputs": [],
   "source": [
    "sns.lineplot(data=resampled_bs_df, x='fpr', y='tpr', color=all_colors_palette[0], lw=2, errorbar='sd')"
   ]
  },
  {
   "cell_type": "code",
   "execution_count": null,
   "metadata": {},
   "outputs": [],
   "source": [
    "sns.lineplot(data=lstm_bs_df, x='fpr', y='tpr', color=all_colors_palette[0], lw=2, errorbar='sd')\n"
   ]
  },
  {
   "cell_type": "code",
   "execution_count": null,
   "metadata": {},
   "outputs": [],
   "source": []
  }
 ],
 "metadata": {
  "kernelspec": {
   "display_name": "Python 3",
   "language": "python",
   "name": "python3"
  },
  "language_info": {
   "codemirror_mode": {
    "name": "ipython",
    "version": 2
   },
   "file_extension": ".py",
   "mimetype": "text/x-python",
   "name": "python",
   "nbconvert_exporter": "python",
   "pygments_lexer": "ipython2",
   "version": "2.7.6"
  }
 },
 "nbformat": 4,
 "nbformat_minor": 0
}
