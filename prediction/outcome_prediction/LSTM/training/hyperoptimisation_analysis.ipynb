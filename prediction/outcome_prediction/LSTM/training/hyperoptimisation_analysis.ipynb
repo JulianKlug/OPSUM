{
 "cells": [
  {
   "cell_type": "markdown",
   "metadata": {
    "collapsed": false
   },
   "source": [
    "# Hyperoptimized Parameter Selection\n",
    "\n",
    "Strategy: find set of parameters with best median performance over all folds"
   ]
  },
  {
   "cell_type": "code",
   "execution_count": null,
   "metadata": {
    "ExecuteTime": {
     "end_time": "2024-02-24T16:59:28.378478Z",
     "start_time": "2024-02-24T16:59:28.369312Z"
    }
   },
   "outputs": [],
   "source": [
    "import os.path\n",
    "import os\n",
    "import pandas as pd\n",
    "import seaborn as sns\n",
    "import matplotlib.pyplot as plt"
   ]
  },
  {
   "cell_type": "code",
   "execution_count": null,
   "metadata": {
    "ExecuteTime": {
     "end_time": "2024-02-24T17:00:37.189822Z",
     "start_time": "2024-02-24T17:00:37.079787Z"
    }
   },
   "outputs": [],
   "source": [
    "AUC_results_path = '/Users/jk1/temp/opsum_prediction_output/LSTM_72h/training/Death_in_hospital/2024_02_05_1346/AUC_history_gridsearch.tsv'\n",
    "CV_results = '/Users/jk1/temp/opsum_prediction_output/LSTM_72h/training/Death_in_hospital/2024_02_05_1346/CV_history_gridsearch.tsv'"
   ]
  },
  {
   "cell_type": "code",
   "execution_count": null,
   "metadata": {
    "ExecuteTime": {
     "end_time": "2024-02-24T17:00:39.330624Z",
     "start_time": "2024-02-24T17:00:37.696045Z"
    }
   },
   "outputs": [],
   "source": [
    "AUC_results_df = pd.read_csv(AUC_results_path, sep='\\t')\n",
    "CV_results_df = pd.read_csv(CV_results, sep='\\t')"
   ]
  },
  {
   "cell_type": "code",
   "execution_count": null,
   "metadata": {
    "ExecuteTime": {
     "end_time": "2024-02-24T17:00:39.354120Z",
     "start_time": "2024-02-24T17:00:39.310117Z"
    }
   },
   "outputs": [],
   "source": [
    "AUC_results_df"
   ]
  },
  {
   "cell_type": "code",
   "execution_count": null,
   "metadata": {
    "ExecuteTime": {
     "end_time": "2024-02-15T08:39:21.147040Z",
     "start_time": "2024-02-15T08:39:21.126715Z"
    }
   },
   "outputs": [],
   "source": [
    "# get summary stats\n",
    "AUC_results_df.auc_val.describe()"
   ]
  },
  {
   "cell_type": "code",
   "execution_count": null,
   "metadata": {
    "ExecuteTime": {
     "end_time": "2024-02-15T08:39:21.383120Z",
     "start_time": "2024-02-15T08:39:21.160805Z"
    }
   },
   "outputs": [],
   "source": [
    "# plot train and val AUC for each activation\n",
    "print(AUC_results_df.activation.unique())\n",
    "ax  = sns.stripplot(x='activation', y='auc_train', data=AUC_results_df, alpha=0.3, size=2.5, color='blue')\n",
    "sns.stripplot(x='activation', y='auc_val', data=AUC_results_df, ax=ax, alpha=0.3, size=2.5, color='orange')\n",
    "# add legend\n",
    "ax.legend(['train', 'val'])\n",
    "ax.set_title('LSTM AUC by activation')\n",
    "ax.set_ylim(0.4, 1)\n",
    "ax.set_ylabel('AUC')\n",
    "plt.show()"
   ]
  },
  {
   "cell_type": "code",
   "execution_count": null,
   "metadata": {
    "ExecuteTime": {
     "end_time": "2024-02-15T08:39:21.386554Z",
     "start_time": "2024-02-15T08:39:21.382814Z"
    }
   },
   "outputs": [],
   "source": [
    "color1_alpha1 = (0.9647058823529412, 0.06274509803921569, 0.403921568627451, 1)\n",
    "color1_alpha01 = (0.9647058823529412, 0.06274509803921569, 0.403921568627451, 0.1)\n",
    "\n",
    "color2_alpha1 = (0.01568627450980392, 0.6078431372549019, 0.6039215686274509, 1)\n",
    "color2_alpha01 = (0.01568627450980392, 0.6078431372549019, 0.6039215686274509, 0.1)"
   ]
  },
  {
   "cell_type": "code",
   "execution_count": null,
   "metadata": {
    "ExecuteTime": {
     "end_time": "2024-02-15T08:39:21.938506Z",
     "start_time": "2024-02-15T08:39:21.385577Z"
    }
   },
   "outputs": [],
   "source": [
    "categorical_variable = 'data'\n",
    "print(AUC_results_df[categorical_variable].unique())\n",
    "fig, [ax1, ax2] = plt.subplots(1, 2, figsize=(10, 5))\n",
    "\n",
    "# plot train and val AUC for each variable\n",
    "sns.violinplot(x=categorical_variable, y='auc_train', data=AUC_results_df, ax=ax1, alpha=0.1, size=2.5, inner=None)\n",
    "sns.violinplot(x=categorical_variable, y='auc_val', data=AUC_results_df, ax=ax1, alpha=0.1, size=2.5)\n",
    "ax1.collections[0].set_edgecolor(color1_alpha1)\n",
    "ax1.collections[0].set_facecolor(color1_alpha01)\n",
    "ax1.collections[1].set_edgecolor(color1_alpha1)\n",
    "ax1.collections[1].set_facecolor(color1_alpha01)\n",
    "ax1.collections[2].set_edgecolor(color2_alpha1)\n",
    "ax1.collections[2].set_facecolor(color2_alpha01)\n",
    "# ax1.collections[4].set_edgecolor(color2_alpha1)\n",
    "# ax1.collections[4].set_facecolor(color2_alpha01)\n",
    "\n",
    "sns.stripplot(x=categorical_variable, y='auc_train', data=AUC_results_df, ax=ax1, alpha=0.1, size=2.5, color='magenta')\n",
    "sns.stripplot(x=categorical_variable, y='auc_val', data=AUC_results_df, ax=ax1, alpha=0.1, size=2.5, color='green')\n",
    "# add legend\n",
    "ax1.legend(['train', 'val'])\n",
    "ax1.set_title(f'LSTM AUC by {categorical_variable}')\n",
    "ax1.set_ylim(0.4, 1)\n",
    "ax1.set_ylabel('AUC')\n",
    "\n",
    "# plot train and val matthews for each variable\n",
    "sns.violinplot(x=categorical_variable, y='matthews_train', data=AUC_results_df, ax=ax2, alpha=0.1, size=2.5, inner=None)\n",
    "sns.violinplot(x=categorical_variable, y='matthews_val', data=AUC_results_df, ax=ax2, alpha=0.1, size=2.5)\n",
    "ax2.collections[0].set_edgecolor(color1_alpha1)\n",
    "ax2.collections[0].set_facecolor(color1_alpha01)\n",
    "ax2.collections[1].set_edgecolor(color1_alpha1)\n",
    "ax2.collections[1].set_facecolor(color1_alpha01)\n",
    "ax2.collections[2].set_edgecolor(color2_alpha1)\n",
    "ax2.collections[2].set_facecolor(color2_alpha01)\n",
    "# ax2.collections[4].set_edgecolor(color2_alpha1)\n",
    "# ax2.collections[4].set_facecolor(color2_alpha01)\n",
    "\n",
    "sns.stripplot(x=categorical_variable, y='matthews_train', data=AUC_results_df, ax=ax2, alpha=0.1, size=2.5, color='magenta')\n",
    "sns.stripplot(x=categorical_variable, y='matthews_val', data=AUC_results_df, ax=ax2, alpha=0.1, size=2.5, color='green')\n",
    "# add legend\n",
    "ax2.legend(['train', 'val'])\n",
    "ax2.set_title(f'LSTM Matthews by {categorical_variable}')\n",
    "ax2.set_ylim(-0.2, 0.8)\n",
    "ax2.set_ylabel('Matthews')\n",
    "\n",
    "plt.show()"
   ]
  },
  {
   "cell_type": "markdown",
   "metadata": {
    "collapsed": false
   },
   "source": [
    "Best Data: balanced"
   ]
  },
  {
   "cell_type": "code",
   "execution_count": null,
   "metadata": {
    "ExecuteTime": {
     "end_time": "2024-02-15T08:39:22.610441Z",
     "start_time": "2024-02-15T08:39:21.995110Z"
    }
   },
   "outputs": [],
   "source": [
    "categorical_variable = 'dropout'\n",
    "print(AUC_results_df[categorical_variable].unique())\n",
    "fig, [[ax1, ax2], [ax3, ax4]] = plt.subplots(2, 2, figsize=(10, 5))\n",
    "\n",
    "# plot train and val AUC for each variable\n",
    "sns.violinplot(x=categorical_variable, y='auc_train', data=AUC_results_df, ax=ax1, alpha=0.1, size=2.5, palette='Spectral')\n",
    "sns.violinplot(x=categorical_variable, y='auc_val', data=AUC_results_df, ax=ax2, alpha=0.1, size=2.5, palette='Spectral')\n",
    "\n",
    "\n",
    "# plot train and val matthews for each variable\n",
    "sns.violinplot(x=categorical_variable, y='matthews_train', data=AUC_results_df, ax=ax3, alpha=0.1, size=2.5, palette='Spectral')\n",
    "sns.violinplot(x=categorical_variable, y='matthews_val', data=AUC_results_df, ax=ax4, alpha=0.1, size=2.5, palette='Spectral')\n",
    "\n",
    "fig.set_tight_layout(True)\n",
    "fig.suptitle(f'LSTM results by {categorical_variable}')\n",
    "\n",
    "plt.show()"
   ]
  },
  {
   "cell_type": "markdown",
   "metadata": {
    "collapsed": false
   },
   "source": [
    "Best dropout: 0.2-0.4?"
   ]
  },
  {
   "cell_type": "code",
   "execution_count": null,
   "metadata": {
    "ExecuteTime": {
     "end_time": "2024-02-15T08:39:23.838927Z",
     "start_time": "2024-02-15T08:39:23.390389Z"
    }
   },
   "outputs": [],
   "source": [
    "categorical_variable = 'layers'\n",
    "print(AUC_results_df[categorical_variable].unique())\n",
    "fig, [[ax1, ax2], [ax3, ax4]] = plt.subplots(2, 2, figsize=(10, 5))\n",
    "\n",
    "# plot train and val AUC for each variable\n",
    "sns.violinplot(x=categorical_variable, y='auc_train', data=AUC_results_df, ax=ax1, alpha=0.1, size=2.5, palette='Spectral')\n",
    "sns.violinplot(x=categorical_variable, y='auc_val', data=AUC_results_df, ax=ax2, alpha=0.1, size=2.5, palette='Spectral')\n",
    "\n",
    "\n",
    "# plot train and val matthews for each variable\n",
    "sns.violinplot(x=categorical_variable, y='matthews_train', data=AUC_results_df, ax=ax3, alpha=0.1, size=2.5, palette='Spectral')\n",
    "sns.violinplot(x=categorical_variable, y='matthews_val', data=AUC_results_df, ax=ax4, alpha=0.1, size=2.5, palette='Spectral')\n",
    "\n",
    "fig.set_tight_layout(True)\n",
    "fig.suptitle(f'LSTM results by {categorical_variable}')\n",
    "\n",
    "plt.show()"
   ]
  },
  {
   "cell_type": "markdown",
   "metadata": {
    "collapsed": false
   },
   "source": [
    "best layers: 1"
   ]
  },
  {
   "cell_type": "code",
   "execution_count": null,
   "metadata": {
    "ExecuteTime": {
     "end_time": "2024-02-15T08:39:25.062472Z",
     "start_time": "2024-02-15T08:39:24.637857Z"
    }
   },
   "outputs": [],
   "source": [
    "categorical_variable = 'optimizer'\n",
    "print(AUC_results_df[categorical_variable].unique())\n",
    "fig, [[ax1, ax2], [ax3, ax4]] = plt.subplots(2, 2, figsize=(10, 5))\n",
    "\n",
    "# plot train and val AUC for each variable\n",
    "sns.violinplot(x=categorical_variable, y='auc_train', data=AUC_results_df, ax=ax1, alpha=0.1, size=2.5, palette='Spectral')\n",
    "sns.violinplot(x=categorical_variable, y='auc_val', data=AUC_results_df, ax=ax2, alpha=0.1, size=2.5, palette='Spectral')\n",
    "\n",
    "\n",
    "# plot train and val matthews for each variable\n",
    "sns.violinplot(x=categorical_variable, y='matthews_train', data=AUC_results_df, ax=ax3, alpha=0.1, size=2.5, palette='Spectral')\n",
    "sns.violinplot(x=categorical_variable, y='matthews_val', data=AUC_results_df, ax=ax4, alpha=0.1, size=2.5, palette='Spectral')\n",
    "\n",
    "fig.set_tight_layout(True)\n",
    "\n",
    "# set figure title\n",
    "fig.suptitle(f'LSTM results by {categorical_variable}')\n",
    "\n",
    "plt.show()"
   ]
  },
  {
   "cell_type": "code",
   "execution_count": null,
   "metadata": {
    "ExecuteTime": {
     "end_time": "2024-02-15T08:39:26.206955Z",
     "start_time": "2024-02-15T08:39:25.227044Z"
    }
   },
   "outputs": [],
   "source": [
    "categorical_variable = 'units'\n",
    "print(AUC_results_df[categorical_variable].unique())\n",
    "fig, [[ax1, ax2], [ax3, ax4]] = plt.subplots(2, 2, figsize=(10, 10))\n",
    "\n",
    "# plot train and val AUC for each variable\n",
    "sns.violinplot(x=categorical_variable, y='auc_train', data=AUC_results_df, ax=ax1, alpha=0.1, size=2.5, palette='Spectral')\n",
    "sns.violinplot(x=categorical_variable, y='auc_val', data=AUC_results_df, ax=ax2, alpha=0.1, size=2.5, palette='Spectral')\n",
    "\n",
    "\n",
    "# plot train and val matthews for each variable\n",
    "sns.violinplot(x=categorical_variable, y='matthews_train', data=AUC_results_df, ax=ax3, alpha=0.1, size=2.5, palette='Spectral')\n",
    "sns.violinplot(x=categorical_variable, y='matthews_val', data=AUC_results_df, ax=ax4, alpha=0.1, size=2.5, palette='Spectral')\n",
    "\n",
    "fig.set_tight_layout(True)\n",
    "\n",
    "# set figure title\n",
    "fig.suptitle(f'LSTM results by {categorical_variable}')\n",
    "\n",
    "plt.show()"
   ]
  },
  {
   "cell_type": "code",
   "execution_count": null,
   "metadata": {
    "ExecuteTime": {
     "end_time": "2024-02-15T08:39:26.220231Z",
     "start_time": "2024-02-15T08:39:26.215600Z"
    }
   },
   "outputs": [],
   "source": [
    "AUC_results_df.head()"
   ]
  },
  {
   "cell_type": "markdown",
   "metadata": {
    "collapsed": false
   },
   "source": [
    "## Finding best overall parameters\n",
    "\n",
    "(best mean performance over all folds)"
   ]
  },
  {
   "cell_type": "code",
   "execution_count": null,
   "metadata": {
    "ExecuteTime": {
     "end_time": "2024-02-15T08:39:27.999513Z",
     "start_time": "2024-02-15T08:39:27.974630Z"
    }
   },
   "outputs": [],
   "source": [
    "# get mean auc_val of parameter combination over all CV folds (cv_num)\n",
    "AUC_results_df.groupby(['activation', 'batch', 'data', 'layers', 'masking', 'units', 'optimizer', 'outcome', 'dropout'])['auc_val'].median().sort_values( ascending=False)"
   ]
  },
  {
   "cell_type": "code",
   "execution_count": null,
   "metadata": {
    "ExecuteTime": {
     "end_time": "2024-02-15T08:39:29.058979Z",
     "start_time": "2024-02-15T08:39:28.956878Z"
    }
   },
   "outputs": [],
   "source": [
    "AUC_results_df.groupby(['activation', 'batch', 'data', 'layers', 'masking', 'units', 'optimizer', 'outcome', 'dropout'])['matthews_val'].median().sort_values( ascending=False)"
   ]
  },
  {
   "cell_type": "code",
   "execution_count": null,
   "metadata": {
    "ExecuteTime": {
     "end_time": "2024-02-15T08:39:30.065596Z",
     "start_time": "2024-02-15T08:39:30.036670Z"
    }
   },
   "outputs": [],
   "source": [
    "best_overall_parameters = pd.DataFrame(AUC_results_df.groupby(['activation', 'batch', 'data', 'layers', 'masking', 'units', 'optimizer', 'outcome', 'dropout'])['auc_val'].median().sort_values(ascending=False).reset_index().iloc[0]).T\n",
    "best_overall_parameters"
   ]
  },
  {
   "cell_type": "code",
   "execution_count": null,
   "metadata": {
    "ExecuteTime": {
     "end_time": "2024-02-15T08:39:35.195325Z",
     "start_time": "2024-02-15T08:39:35.172866Z"
    }
   },
   "outputs": [],
   "source": [
    "overall_best_parameter_result = AUC_results_df[\n",
    "    (AUC_results_df['data'] == best_overall_parameters['data'][0]) &\n",
    "    (AUC_results_df['dropout'] == best_overall_parameters.dropout[0]) &\n",
    "    (AUC_results_df['layers'] == best_overall_parameters.layers[0]) &\n",
    "    (AUC_results_df['optimizer'] == best_overall_parameters.optimizer[0]) &\n",
    "    (AUC_results_df['units'] == best_overall_parameters.units[0])\n",
    "]\n",
    "overall_best_parameter_result"
   ]
  },
  {
   "cell_type": "code",
   "execution_count": null,
   "metadata": {
    "ExecuteTime": {
     "end_time": "2024-02-15T08:39:40.143285Z",
     "start_time": "2024-02-15T08:39:40.133621Z"
    }
   },
   "outputs": [],
   "source": [
    "best_overall_parameters['best_fold'] = overall_best_parameter_result.sort_values('auc_val', ascending=False)['cv_num'].iloc[0]\n",
    "print(f\"Best CV fold: {best_overall_parameters['best_fold']}\")"
   ]
  },
  {
   "cell_type": "code",
   "execution_count": null,
   "metadata": {
    "ExecuteTime": {
     "end_time": "2024-02-15T08:39:44.873875Z",
     "start_time": "2024-02-15T08:39:44.849634Z"
    }
   },
   "outputs": [],
   "source": [
    "# Save best parameters\n",
    "dirname = os.path.dirname(AUC_results_path)\n",
    "best_overall_parameters.to_csv(os.path.join(dirname, 'selected_best_hyperopt_parameters.csv'))"
   ]
  },
  {
   "cell_type": "markdown",
   "metadata": {
    "collapsed": false
   },
   "source": [
    "## Overall Best fold"
   ]
  },
  {
   "cell_type": "code",
   "execution_count": null,
   "metadata": {
    "ExecuteTime": {
     "end_time": "2024-02-15T08:39:46.378576Z",
     "start_time": "2024-02-15T08:39:46.358491Z"
    }
   },
   "outputs": [],
   "source": [
    "AUC_results_df"
   ]
  },
  {
   "cell_type": "markdown",
   "metadata": {
    "collapsed": false
   },
   "source": [
    "## Best individual parameters\n",
    "\n",
    "(by best individually performing parameter)"
   ]
  },
  {
   "cell_type": "code",
   "execution_count": null,
   "metadata": {
    "ExecuteTime": {
     "end_time": "2024-02-15T08:39:47.935092Z",
     "start_time": "2024-02-15T08:39:47.905542Z"
    }
   },
   "outputs": [],
   "source": [
    "individual_best_parameter_result = AUC_results_df[\n",
    "    (AUC_results_df['data'] == AUC_results_df.sort_values('auc_val', ascending=False)['data'].iloc[0] ) &\n",
    "    (AUC_results_df['dropout'] == AUC_results_df.sort_values('auc_val', ascending=False)['dropout'].iloc[0]) &\n",
    "    (AUC_results_df['layers'] == AUC_results_df.sort_values('auc_val', ascending=False)['layers'].iloc[0]) &\n",
    "    (AUC_results_df['optimizer'] == AUC_results_df.sort_values('auc_val', ascending=False)['optimizer'].iloc[0]) &\n",
    "    (AUC_results_df['units'] == AUC_results_df.sort_values('auc_val', ascending=False)['units'].iloc[0])\n",
    "]\n",
    "individual_best_parameter_result"
   ]
  },
  {
   "cell_type": "code",
   "execution_count": null,
   "metadata": {
    "ExecuteTime": {
     "end_time": "2024-02-15T08:39:48.465041Z",
     "start_time": "2024-02-15T08:39:48.453004Z"
    }
   },
   "outputs": [],
   "source": [
    "individual_best_parameter_result['matthews_val'].median(), individual_best_parameter_result['auc_val'].median()"
   ]
  },
  {
   "cell_type": "code",
   "execution_count": null,
   "metadata": {
    "ExecuteTime": {
     "end_time": "2024-02-15T08:39:49.218368Z",
     "start_time": "2024-02-15T08:39:49.157575Z"
    }
   },
   "outputs": [],
   "source": [
    "individual_best_parameter_CV_df = CV_results_df[\n",
    "    (CV_results_df['data'] == AUC_results_df.sort_values('auc_val', ascending=False)['data'].iloc[0]) &\n",
    "    (CV_results_df['dropout'] == AUC_results_df.sort_values('auc_val', ascending=False)['dropout'].iloc[0]) &\n",
    "    (CV_results_df['layers'] == AUC_results_df.sort_values('auc_val', ascending=False)['layers'].iloc[0]) &\n",
    "    (CV_results_df['optimizer'] == AUC_results_df.sort_values('auc_val', ascending=False)['optimizer'].iloc[0]) &\n",
    "    (CV_results_df['units'] == AUC_results_df.sort_values('auc_val', ascending=False)['units'].iloc[0])\n",
    "]\n"
   ]
  },
  {
   "cell_type": "code",
   "execution_count": null,
   "metadata": {
    "ExecuteTime": {
     "end_time": "2024-02-15T08:39:49.798058Z",
     "start_time": "2024-02-15T08:39:49.765265Z"
    }
   },
   "outputs": [],
   "source": [
    "individual_best_parameter_CV_df.head()"
   ]
  },
  {
   "cell_type": "code",
   "execution_count": null,
   "metadata": {},
   "outputs": [],
   "source": []
  }
 ],
 "metadata": {
  "kernelspec": {
   "display_name": "Python 3",
   "language": "python",
   "name": "python3"
  },
  "language_info": {
   "codemirror_mode": {
    "name": "ipython",
    "version": 2
   },
   "file_extension": ".py",
   "mimetype": "text/x-python",
   "name": "python",
   "nbconvert_exporter": "python",
   "pygments_lexer": "ipython2",
   "version": "2.7.6"
  }
 },
 "nbformat": 4,
 "nbformat_minor": 0
}
