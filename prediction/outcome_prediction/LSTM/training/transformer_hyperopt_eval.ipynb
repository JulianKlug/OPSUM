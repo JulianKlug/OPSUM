{
 "cells": [
  {
   "cell_type": "code",
   "execution_count": null,
   "metadata": {},
   "outputs": [],
   "source": [
    "import matplotlib.pyplot as plt\n",
    "import pandas as pd\n",
    "import os\n",
    "import seaborn as sns"
   ]
  },
  {
   "cell_type": "code",
   "execution_count": null,
   "metadata": {},
   "outputs": [],
   "source": [
    "gridsearch_path_v1 = '/Users/jk1/Downloads/gridsearch_v1.jsonl'\n",
    "gridsearch_path_v2 = '/Users/jk1/Downloads/gridsearch_v2.jsonl'\n",
    "gridsearch_path_v3 = '/Users/jk1/Downloads/gridsearch_v3.jsonl'"
   ]
  },
  {
   "cell_type": "code",
   "execution_count": null,
   "metadata": {},
   "outputs": [],
   "source": [
    "df_v1 = pd.read_json(gridsearch_path_v1, lines=True, dtype={'timestamp': 'object'}, convert_dates=False).drop(0).dropna(axis=1, how='all')\n",
    "df_v2 = pd.read_json(gridsearch_path_v2, lines=True, dtype={'timestamp': 'object'}, convert_dates=False)\n",
    "df_v3 = pd.read_json(gridsearch_path_v3, lines=True, dtype={'timestamp': 'object'}, convert_dates=False)"
   ]
  },
  {
   "cell_type": "code",
   "execution_count": null,
   "metadata": {},
   "outputs": [],
   "source": [
    "df_v3.shape"
   ]
  },
  {
   "cell_type": "code",
   "execution_count": null,
   "metadata": {},
   "outputs": [],
   "source": [
    "df = pd.concat([df_v1, df_v2, df_v3])\n",
    "df['feature_aggregation'].fillna(False, inplace=True)\n",
    "df.shape"
   ]
  },
  {
   "cell_type": "code",
   "execution_count": null,
   "metadata": {},
   "outputs": [],
   "source": [
    "df"
   ]
  },
  {
   "cell_type": "code",
   "execution_count": null,
   "metadata": {},
   "outputs": [],
   "source": [
    "# find best by median_val_scores\n",
    "best_df = df.sort_values('median_val_scores', ascending=False).head(1)\n",
    "best_df"
   ]
  },
  {
   "cell_type": "code",
   "execution_count": null,
   "metadata": {},
   "outputs": [],
   "source": [
    "# convert best_df to json\n",
    "best_df.to_json(os.path.join(os.path.dirname(gridsearch_path), f'hyperopt_selected_transformer_{best_df[\"timestamp\"].values[0]}.json'), orient='records', lines=True)"
   ]
  },
  {
   "cell_type": "code",
   "execution_count": null,
   "metadata": {
    "pycharm": {
     "name": "#%%¨\n"
    }
   },
   "outputs": [],
   "source": [
    "cat_gs_variables = ['num_layers', 'model_dim',\n",
    "        'batch_size', 'balanced',\n",
    "       'num_head']\n",
    "cont_gs_variables = ['dropout', 'train_noise',\n",
    "       'lr', 'weight_decay','grad_clip_value']"
   ]
  },
  {
   "cell_type": "code",
   "execution_count": null,
   "metadata": {},
   "outputs": [],
   "source": [
    "ax = sns.boxplot(x='num_layers', y='median_val_scores', data=df, hue='feature_aggregation')\n",
    "# set figure size to 10,10\n",
    "ax.figure.set_size_inches(10,10)\n",
    "ax.set_title('Number of layers')\n",
    "ax.set_ylim(0.88, 0.92)\n",
    "plt.show()"
   ]
  },
  {
   "cell_type": "code",
   "execution_count": null,
   "metadata": {},
   "outputs": [],
   "source": [
    "ax = sns.boxplot(x='model_dim', y='median_val_scores', data=df, hue='feature_aggregation')\n",
    "ax.figure.set_size_inches(10,10)\n",
    "ax.set_title('Model dimension')\n",
    "ax.set_ylim(0.88, 0.92)\n",
    "plt.show()"
   ]
  },
  {
   "cell_type": "code",
   "execution_count": null,
   "metadata": {},
   "outputs": [],
   "source": [
    "ax = sns.boxplot(x='feature_aggregation', y='median_val_scores', data=df)\n",
    "ax.figure.set_size_inches(10,10)\n",
    "ax.set_title('Feature aggregation')\n",
    "ax.set_ylim(0.88, 0.92)\n",
    "plt.show()"
   ]
  },
  {
   "cell_type": "code",
   "execution_count": null,
   "metadata": {},
   "outputs": [],
   "source": [
    "ax = sns.boxplot(x='batch_size', y='median_val_scores', data=df)\n",
    "ax.set_title('Batch size')\n",
    "ax.figure.set_size_inches(10,10)\n",
    "ax.set_ylim(0.88, 0.92)"
   ]
  },
  {
   "cell_type": "code",
   "execution_count": null,
   "metadata": {},
   "outputs": [],
   "source": [
    "ax = sns.boxplot(x='balanced', y='median_val_scores', data=df)\n",
    "ax.figure.set_size_inches(10,10)\n",
    "ax.set_title('Balanced')\n",
    "ax.set_ylim(0.88, 0.92)"
   ]
  },
  {
   "cell_type": "code",
   "execution_count": null,
   "metadata": {},
   "outputs": [],
   "source": [
    "ax = sns.violinplot(x='num_head', y='median_val_scores', data=df)\n",
    "ax.figure.set_size_inches(10,10)\n",
    "ax.set_title('Number of heads')\n",
    "ax.set_ylim(0.88, 0.92)"
   ]
  },
  {
   "cell_type": "code",
   "execution_count": null,
   "metadata": {},
   "outputs": [],
   "source": [
    "ax = sns.regplot(x='dropout', y='median_val_scores', data=df)\n",
    "ax.figure.set_size_inches(10,10)\n",
    "ax.set_title('Dropout')\n",
    "ax.set_ylim(0.88, 0.92)\n"
   ]
  },
  {
   "cell_type": "code",
   "execution_count": null,
   "metadata": {},
   "outputs": [],
   "source": [
    "ax = sns.regplot(x='train_noise', y='median_val_scores', data=df, logx=True)\n",
    "ax.figure.set_size_inches(10,10)\n",
    "ax.set_title('Train noise')\n",
    "ax.set_ylim(0.88, 0.92)\n",
    "ax.set_xscale('log')"
   ]
  },
  {
   "cell_type": "code",
   "execution_count": null,
   "metadata": {},
   "outputs": [],
   "source": [
    "ax = sns.scatterplot(x='lr', y='median_val_scores', data=df)\n",
    "ax.figure.set_size_inches(10,10)\n",
    "ax.set_title('Learning rate')\n",
    "ax.set_ylim(0.88, 0.92)"
   ]
  },
  {
   "cell_type": "code",
   "execution_count": null,
   "metadata": {},
   "outputs": [],
   "source": [
    "ax = sns.scatterplot(x='weight_decay', y='median_val_scores', data=df)\n",
    "ax.figure.set_size_inches(10,10)\n",
    "ax.set_title('Weight decay')\n",
    "ax.set_ylim(0.88, 0.92)\n",
    "ax.set_xlim(0, 0.1)"
   ]
  },
  {
   "cell_type": "code",
   "execution_count": null,
   "metadata": {},
   "outputs": [],
   "source": [
    "ax = sns.scatterplot(x='grad_clip_value', y='median_val_scores', data=df)\n",
    "ax.figure.set_size_inches(10,10)\n",
    "ax.set_title('Gradient clipping')\n",
    "ax.set_ylim(0.88, 0.92)"
   ]
  },
  {
   "cell_type": "code",
   "execution_count": null,
   "metadata": {},
   "outputs": [],
   "source": []
  }
 ],
 "metadata": {
  "kernelspec": {
   "display_name": "Python 3",
   "language": "python",
   "name": "python3"
  },
  "language_info": {
   "codemirror_mode": {
    "name": "ipython",
    "version": 2
   },
   "file_extension": ".py",
   "mimetype": "text/x-python",
   "name": "python",
   "nbconvert_exporter": "python",
   "pygments_lexer": "ipython2",
   "version": "2.7.6"
  }
 },
 "nbformat": 4,
 "nbformat_minor": 0
}
