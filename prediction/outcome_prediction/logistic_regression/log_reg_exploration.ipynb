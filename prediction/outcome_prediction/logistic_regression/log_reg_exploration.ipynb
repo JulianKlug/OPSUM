{
 "cells": [
  {
   "cell_type": "code",
   "execution_count": null,
   "id": "initial_id",
   "metadata": {
    "ExecuteTime": {
     "end_time": "2024-07-04T09:47:12.332103Z",
     "start_time": "2024-07-04T09:47:04.673505Z"
    }
   },
   "outputs": [],
   "source": [
    "import numpy as np\n",
    "import pandas as pd\n",
    "import torch as ch\n",
    "from os import path\n",
    "import numpy as np\n",
    "from sklearn.linear_model import LogisticRegression\n",
    "from sklearn.metrics import roc_auc_score, matthews_corrcoef, accuracy_score, precision_score, recall_score, \\\n",
    "    multilabel_confusion_matrix\n",
    "from sklearn.utils import resample"
   ]
  },
  {
   "cell_type": "code",
   "execution_count": null,
   "id": "5d23bfc864638abf",
   "metadata": {
    "ExecuteTime": {
     "end_time": "2024-07-04T10:58:01.311971Z",
     "start_time": "2024-07-04T10:58:01.309089Z"
    }
   },
   "outputs": [],
   "source": [
    "train_data_path_3m_mrs02 = '/Users/jk1/temp/opsum_prepro_output/gsu_prepro_01012023_233050/data_splits/3m_mrs/train_data_splits_3M_mRS_0-2_ts0.8_rs42_ns5.pth'\n",
    "test_data_path_3m_mrs02 = '/Users/jk1/temp/opsum_prepro_output/gsu_prepro_01012023_233050/data_splits/3m_mrs/test_data_3M_mRS_0-2_ts0.8_rs42.pth'\n",
    "\n",
    "train_data_path_3m_death = '/Users/jk1/temp/opsum_prepro_output/gsu_prepro_01012023_233050/data_splits/3m_death/train_data_splits_3M_Death_ts0.8_rs42_ns5.pth'\n",
    "test_data_path_3m_death = '/Users/jk1/temp/opsum_prepro_output/gsu_prepro_01012023_233050/data_splits/3m_death/test_data_3M_Death_ts0.8_rs42.pth'\n",
    "\n",
    "train_data_path_hospital_death = '/Users/jk1/temp/opsum_prepro_output/gsu_prepro_01012023_233050/data_splits/death_in_hospital/train_data_splits_Death_in_hospital_ts0.8_rs42_ns5.pth'\n",
    "test_data_path_hospital_death = '/Users/jk1/temp/opsum_prepro_output/gsu_prepro_01012023_233050/data_splits/death_in_hospital/test_data_Death_in_hospital_ts0.8_rs42.pth'"
   ]
  },
  {
   "cell_type": "code",
   "execution_count": null,
   "id": "6e11945ba3d6a841",
   "metadata": {
    "ExecuteTime": {
     "end_time": "2024-07-04T10:58:02.687574Z",
     "start_time": "2024-07-04T10:58:02.660352Z"
    }
   },
   "outputs": [],
   "source": [
    "# feature_order = pd.read_excel(path.join(path.dirname(path.dirname(__file__)),'LSTM', 'training', 'lstm_feature_order.xlsx'), header=None)\n",
    "feature_order = pd.read_excel(path.join(path.dirname(path.abspath(\"\")),'LSTM', 'training', 'lstm_feature_order.xlsx'), header=None)"
   ]
  },
  {
   "cell_type": "code",
   "execution_count": null,
   "id": "9daf1f2735418577",
   "metadata": {
    "ExecuteTime": {
     "end_time": "2024-07-04T10:58:02.932591Z",
     "start_time": "2024-07-04T10:58:02.928893Z"
    }
   },
   "outputs": [],
   "source": [
    "feature_order.columns = ['feature']"
   ]
  },
  {
   "cell_type": "code",
   "execution_count": null,
   "id": "4e57d7ed9397cdda",
   "metadata": {
    "ExecuteTime": {
     "end_time": "2024-07-04T11:43:57.786631Z",
     "start_time": "2024-07-04T11:43:57.782044Z"
    }
   },
   "outputs": [],
   "source": [
    "selected_features_3m_mrs02 = [\n",
    "    \"prestroke_disability_(rankin)_1.0\",\n",
    "    \"prestroke_disability_(rankin)_2.0\",\n",
    "    \"prestroke_disability_(rankin)_3.0\",\n",
    "    \"prestroke_disability_(rankin)_4.0\",\n",
    "    \"prestroke_disability_(rankin)_5.0\",\n",
    "    'age',\n",
    "    \"max_NIHSS\",\n",
    "    \"proteine C-reactive\",\n",
    "    \"categorical_onset_to_admission_time_541-1440min\",\n",
    "    \"categorical_onset_to_admission_time_<270min\",\n",
    "    \"categorical_onset_to_admission_time_>1440min\",\n",
    "    \"categorical_onset_to_admission_time_onset_unknown\",\n",
    "    \"referral_other_hospital\",\n",
    "    \"referral_self_referral_or_gp\",\n",
    "    \"leucocytes\",\n",
    "    \"categorical_ivt_91-270min\",\n",
    "    \"categorical_ivt_<90min\",\n",
    "    \"categorical_ivt_>540min\",\n",
    "    \"categorical_ivt_no_ivt\",\n",
    "    \"sodium\",\n",
    "    \"antiplatelet_drugs_yes\",\n",
    "    ]\n",
    "\n",
    "selected_features_3m_death = [\n",
    "    \"prestroke_disability_(rankin)_1.0\",\n",
    "    \"prestroke_disability_(rankin)_2.0\",\n",
    "    \"prestroke_disability_(rankin)_3.0\",\n",
    "    \"prestroke_disability_(rankin)_4.0\",\n",
    "    \"prestroke_disability_(rankin)_5.0\",\n",
    "    \"leucocytes\",\n",
    "    \"uree\",\n",
    "    \"Glasgow Coma Scale\",\n",
    "    \"INR\",\n",
    "    \"ALAT\",\n",
    "    \"max_NIHSS\",\n",
    "    \"categorical_ivt_91-270min\",\n",
    "    \"categorical_ivt_<90min\",\n",
    "    \"categorical_ivt_>540min\",\n",
    "    \"categorical_ivt_no_ivt\",\n",
    "    \"referral_other_hospital\",\n",
    "    \"referral_self_referral_or_gp\",\n",
    "    \"proteine C-reactive\",\n",
    "]\n",
    "\n",
    "selected_features_hospital_death = [\n",
    "    \"leucocytes\",\n",
    "    \"uree\",\n",
    "    \"Glasgow Coma Scale\",\n",
    "    \"cholesterol HDL\",\n",
    "   \"categorical_onset_to_admission_time_541-1440min\",\n",
    "    \"categorical_onset_to_admission_time_<270min\",\n",
    "    \"categorical_onset_to_admission_time_>1440min\",\n",
    "    \"categorical_onset_to_admission_time_onset_unknown\",\n",
    "    \"antihypert._drugs_pre-stroke_yes\",\n",
    "    \"max_NIHSS\",\n",
    "    \"INR\",\n",
    "    \"PTT\",\n",
    "    \"categorical_ivt_91-270min\",\n",
    "    \"categorical_ivt_<90min\",\n",
    "    \"categorical_ivt_>540min\",\n",
    "    \"categorical_ivt_no_ivt\",\n",
    "    ]"
   ]
  },
  {
   "cell_type": "code",
   "execution_count": null,
   "id": "fd843ccbc8bbf0e1",
   "metadata": {
    "ExecuteTime": {
     "end_time": "2024-07-04T11:44:04.776570Z",
     "start_time": "2024-07-04T11:44:04.774Z"
    }
   },
   "outputs": [],
   "source": [
    "simplified_selected_features = [\n",
    "    \"prestroke_disability_(rankin)_1.0\",\n",
    "    \"prestroke_disability_(rankin)_2.0\",\n",
    "    \"prestroke_disability_(rankin)_3.0\",\n",
    "    \"prestroke_disability_(rankin)_4.0\",\n",
    "    \"prestroke_disability_(rankin)_5.0\",\n",
    "    \"max_NIHSS\",\n",
    "    \"categorical_onset_to_admission_time_541-1440min\",\n",
    "    \"categorical_onset_to_admission_time_<270min\",\n",
    "    \"categorical_onset_to_admission_time_>1440min\",\n",
    "    \"categorical_onset_to_admission_time_onset_unknown\",\n",
    "    ]\n",
    "\n",
    "selected_features_3m_mrs02 = simplified_selected_features\n",
    "selected_features_3m_death = simplified_selected_features\n",
    "selected_features_hospital_death = simplified_selected_features"
   ]
  },
  {
   "cell_type": "code",
   "execution_count": null,
   "id": "7ab347846bba435c",
   "metadata": {
    "ExecuteTime": {
     "end_time": "2024-07-04T11:44:06.337742Z",
     "start_time": "2024-07-04T11:44:06.329387Z"
    }
   },
   "outputs": [],
   "source": [
    "# map selected feature to feature indices\n",
    "selected_features_3m_mrs02_idx = [feature_order.index[feature_order['feature'] == feature].values[0] for feature in selected_features_3m_mrs02]\n",
    "selected_features_3m_death_idx = [feature_order.index[feature_order['feature'] == feature].values[0] for feature in selected_features_3m_death]\n",
    "selected_features_hospital_death_idx = [feature_order.index[feature_order['feature'] == feature].values[0] for feature in selected_features_hospital_death]"
   ]
  },
  {
   "cell_type": "code",
   "execution_count": null,
   "id": "b025b5d8084b8775",
   "metadata": {
    "ExecuteTime": {
     "end_time": "2024-07-04T11:44:06.780935Z",
     "start_time": "2024-07-04T11:44:06.770157Z"
    }
   },
   "outputs": [],
   "source": [
    "def evaluate_model(model, X_test, y_test):\n",
    "    # calculate overall model prediction\n",
    "    \n",
    "    # bootstrap predictions\n",
    "    roc_auc_scores = []\n",
    "    matthews_scores = []\n",
    "    accuracy_scores = []\n",
    "    precision_scores = []\n",
    "    recall_scores = []\n",
    "    specificity_scores = []\n",
    "    neg_pred_value_scores = []\n",
    "\n",
    "    n_iterations = 1000\n",
    "    for i in range(n_iterations):\n",
    "        selected_idx = resample(np.arange(X_test.shape[0]), replace=True)\n",
    "        temp_X = X_test[selected_idx]\n",
    "        # ground truth\n",
    "        y_bs = y_test[selected_idx]\n",
    "        # predictions\n",
    "        y_pred_bs = model.predict_proba(temp_X)[:, 1]\n",
    "        y_pred_bs_binary = model.predict(temp_X)\n",
    "\n",
    "        # evaluate model\n",
    "        roc_auc_bs = roc_auc_score(y_bs, y_pred_bs)\n",
    "        roc_auc_scores.append(roc_auc_bs)\n",
    "        matthews_bs = matthews_corrcoef(y_bs, y_pred_bs_binary)\n",
    "        matthews_scores.append(matthews_bs)\n",
    "        accuracy_bs = accuracy_score(y_bs, y_pred_bs_binary)\n",
    "        accuracy_scores.append(accuracy_bs)\n",
    "        precision_bs = precision_score(y_bs, y_pred_bs_binary)  # == PPV\n",
    "        recall_bs = recall_score(y_bs, y_pred_bs_binary)  # == sensitivity\n",
    "        precision_scores.append(precision_bs)\n",
    "        recall_scores.append(recall_bs)\n",
    "\n",
    "        mcm = multilabel_confusion_matrix(y_bs, y_pred_bs_binary)\n",
    "        tn = mcm[:, 0, 0]\n",
    "        tp = mcm[:, 1, 1]\n",
    "        fn = mcm[:, 1, 0]\n",
    "        fp = mcm[:, 0, 1]\n",
    "        specificity_bs = tn / (tn + fp)\n",
    "        specificity_scores.append(specificity_bs)\n",
    "        neg_pred_value_bs = tn / (tn + fn)\n",
    "        neg_pred_value_scores.append(neg_pred_value_bs)\n",
    "\n",
    "    # get medians\n",
    "    median_roc_auc = np.percentile(roc_auc_scores, 50)\n",
    "    median_matthews = np.percentile(matthews_scores, 50)\n",
    "    median_accuracy = np.percentile(accuracy_scores, 50)\n",
    "    median_precision = np.percentile(precision_scores, 50)\n",
    "    median_recall = np.percentile(recall_scores, 50)\n",
    "    median_specificity = np.percentile(specificity_scores, 50)\n",
    "    median_neg_pred_value = np.percentile(neg_pred_value_scores, 50)\n",
    "\n",
    "    # get 95% interval\n",
    "    alpha = 100 - 95\n",
    "    lower_ci_roc_auc = np.percentile(roc_auc_scores, alpha / 2)\n",
    "    upper_ci_roc_auc = np.percentile(roc_auc_scores, 100 - alpha / 2)\n",
    "    lower_ci_matthews = np.percentile(matthews_scores, alpha / 2)\n",
    "    upper_ci_matthews = np.percentile(matthews_scores, 100 - alpha / 2)\n",
    "    lower_ci_accuracy = np.percentile(accuracy_scores, alpha / 2)\n",
    "    upper_ci_accuracy = np.percentile(accuracy_scores, 100 - alpha / 2)\n",
    "    lower_ci_precision = np.percentile(precision_scores, alpha / 2)\n",
    "    upper_ci_precision = np.percentile(precision_scores, 100 - alpha / 2)\n",
    "    lower_ci_recall = np.percentile(recall_scores, alpha / 2)\n",
    "    upper_ci_recall = np.percentile(recall_scores, 100 - alpha / 2)\n",
    "    lower_ci_specificity = np.percentile(specificity_scores, alpha / 2)\n",
    "    upper_ci_specificity = np.percentile(specificity_scores, 100 - alpha / 2)\n",
    "    lower_ci_neg_pred_value = np.percentile(neg_pred_value_scores, alpha / 2)\n",
    "    upper_ci_neg_pred_value = np.percentile(neg_pred_value_scores, 100 - alpha / 2)\n",
    "\n",
    "    result_df = pd.DataFrame([{\n",
    "        'auc_test': median_roc_auc,\n",
    "        'auc_test_lower_ci': lower_ci_roc_auc,\n",
    "        'auc_test_upper_ci': upper_ci_roc_auc,\n",
    "        'matthews_test': median_matthews,\n",
    "        'matthews_test_lower_ci': lower_ci_matthews,\n",
    "        'matthews_test_upper_ci': upper_ci_matthews,\n",
    "        'accuracy_test': median_accuracy,\n",
    "        'accuracy_test_lower_ci': lower_ci_accuracy,\n",
    "        'accuracy_test_upper_ci': upper_ci_accuracy,\n",
    "        'precision_test': median_precision,\n",
    "        'precision_test_lower_ci': lower_ci_precision,\n",
    "        'precision_test_upper_ci': upper_ci_precision,\n",
    "        'recall_test': median_recall,\n",
    "        'recall_test_lower_ci': lower_ci_recall,\n",
    "        'recall_test_upper_ci': upper_ci_recall,\n",
    "        'specificity_test': median_specificity,\n",
    "        'specificity_test_lower_ci': lower_ci_specificity,\n",
    "        'specificity_test_upper_ci': upper_ci_specificity,\n",
    "        'neg_pred_value_test': median_neg_pred_value,\n",
    "        'neg_pred_value_test_lower_ci': lower_ci_neg_pred_value,\n",
    "        'neg_pred_value_test_upper_ci': upper_ci_neg_pred_value,\n",
    "    }], index=[0])\n",
    "\n",
    "    return result_df"
   ]
  },
  {
   "cell_type": "code",
   "execution_count": null,
   "id": "3fd36d519dcb901b",
   "metadata": {
    "ExecuteTime": {
     "end_time": "2024-07-04T11:44:08.284148Z",
     "start_time": "2024-07-04T11:44:08.278505Z"
    }
   },
   "outputs": [],
   "source": [
    "def train_and_eval_log_reg(train_data_path, test_data_path, selected_features):\n",
    "    scenarios = ch.load(path.join(train_data_path))\n",
    "    models = []\n",
    "    roc_auc_vals = []\n",
    "    for scenario in scenarios:\n",
    "        X_train, X_val, y_train, y_val = scenario\n",
    "            \n",
    "        clf = LogisticRegression(random_state=0).fit(X_train[:,0,selected_features], y_train)\n",
    "        pred_y_val = clf.predict_proba(X_val[:,0,selected_features])[:,1]\n",
    "        roc_auc_val = roc_auc_score(y_val, pred_y_val)\n",
    "        models.append(clf)\n",
    "        roc_auc_vals.append(roc_auc_val)\n",
    "        \n",
    "    # select model with highest roc_auc\n",
    "    best_model_idx = np.argmax(roc_auc_vals)\n",
    "    print(roc_auc_vals)\n",
    "    best_model = models[best_model_idx]\n",
    "    # evaluate best model\n",
    "    test_data = ch.load(path.join(test_data_path))\n",
    "    X_test, y_test = test_data\n",
    "    X_test = X_test[:,0,selected_features]\n",
    "    result_df = evaluate_model(best_model, X_test, y_test)\n",
    "       \n",
    "    return result_df, best_model"
   ]
  },
  {
   "cell_type": "code",
   "execution_count": null,
   "id": "e461f95203654ce3",
   "metadata": {
    "ExecuteTime": {
     "end_time": "2024-07-04T11:44:16.548963Z",
     "start_time": "2024-07-04T11:44:09.579790Z"
    }
   },
   "outputs": [],
   "source": [
    "result_df_3m_mrs02, model_3m_mrs02 = train_and_eval_log_reg(train_data_path_3m_mrs02, test_data_path_3m_mrs02, selected_features_3m_mrs02_idx)\n",
    "result_df_3m_mrs02['outcome'] = '3m_mrs02'"
   ]
  },
  {
   "cell_type": "code",
   "execution_count": null,
   "id": "9c14b2b6c5eb7c35",
   "metadata": {
    "ExecuteTime": {
     "end_time": "2024-07-04T11:44:16.568905Z",
     "start_time": "2024-07-04T11:44:16.551070Z"
    }
   },
   "outputs": [],
   "source": [
    "result_df_3m_mrs02"
   ]
  },
  {
   "cell_type": "code",
   "execution_count": null,
   "id": "11535af4c9916c41",
   "metadata": {
    "ExecuteTime": {
     "end_time": "2024-07-04T11:44:38.044869Z",
     "start_time": "2024-07-04T11:44:16.571110Z"
    }
   },
   "outputs": [],
   "source": [
    "result_df_3m_mrs02, model_3m_mrs02 = train_and_eval_log_reg(train_data_path_3m_mrs02, test_data_path_3m_mrs02, selected_features_3m_mrs02_idx)\n",
    "result_df_3m_mrs02['outcome'] = '3m_mrs02'\n",
    "\n",
    "result_df_3m_death, model_3m_death = train_and_eval_log_reg(train_data_path_3m_death, test_data_path_3m_death, selected_features_3m_death_idx)\n",
    "result_df_3m_death['outcome'] = '3m_death'\n",
    "\n",
    "result_df_hospital_death, model_hospital_death = train_and_eval_log_reg(train_data_path_hospital_death, test_data_path_hospital_death, selected_features_hospital_death_idx)\n",
    "result_df_hospital_death['outcome'] = 'hospital_death'"
   ]
  },
  {
   "cell_type": "code",
   "execution_count": null,
   "id": "741166279b3aa7a6",
   "metadata": {
    "ExecuteTime": {
     "end_time": "2024-07-04T11:44:38.050114Z",
     "start_time": "2024-07-04T11:44:38.046478Z"
    }
   },
   "outputs": [],
   "source": [
    "concatenated_df = pd.concat([result_df_3m_mrs02, result_df_3m_death, result_df_hospital_death])\n",
    "concatenated_df['model'] = 'log_reg'"
   ]
  },
  {
   "cell_type": "code",
   "execution_count": null,
   "id": "921ee71dbcdecc3c",
   "metadata": {
    "ExecuteTime": {
     "end_time": "2024-07-04T11:44:38.067187Z",
     "start_time": "2024-07-04T11:44:38.051477Z"
    }
   },
   "outputs": [],
   "source": [
    "concatenated_df"
   ]
  },
  {
   "cell_type": "markdown",
   "id": "ba408139028c2e0f",
   "metadata": {},
   "source": [
    "## External validation"
   ]
  },
  {
   "cell_type": "code",
   "execution_count": null,
   "id": "5329699c359b9dd0",
   "metadata": {
    "ExecuteTime": {
     "end_time": "2024-07-04T11:45:12.700209Z",
     "start_time": "2024-07-04T11:45:12.697529Z"
    }
   },
   "outputs": [],
   "source": [
    "external_features_path = '/Users/jk1/temp/opsum_mimic/preprocessing/mimic_prepro_25012023_232713/preprocessed_features_25012023_232713.csv'\n",
    "external_labels_path = '/Users/jk1/temp/opsum_mimic/preprocessing/mimic_prepro_25012023_232713/preprocessed_outcomes_25012023_232713.csv'\n",
    "outcomes = ['3M Death', 'Death in hospital']"
   ]
  },
  {
   "cell_type": "code",
   "execution_count": null,
   "id": "105b2f304f4e3ff1",
   "metadata": {
    "ExecuteTime": {
     "end_time": "2024-07-04T11:45:14.073646Z",
     "start_time": "2024-07-04T11:45:14.070979Z"
    }
   },
   "outputs": [],
   "source": [
    "from prediction.outcome_prediction.data_loading.data_loader import load_external_data"
   ]
  },
  {
   "cell_type": "code",
   "execution_count": null,
   "id": "ef952421a02c3992",
   "metadata": {
    "ExecuteTime": {
     "end_time": "2024-07-04T11:45:25.174150Z",
     "start_time": "2024-07-04T11:45:14.802231Z"
    }
   },
   "outputs": [],
   "source": [
    "# evaluate model\n",
    "test_X_np, test_y_np, test_features_lookup_table = load_external_data(external_features_path, external_labels_path, outcomes[0])\n",
    "result_df_external_3m_death = evaluate_model(model_3m_death, test_X_np[:,0,selected_features_3m_death_idx], test_y_np)\n",
    "result_df_external_3m_death['outcome'] = '3m_death'"
   ]
  },
  {
   "cell_type": "code",
   "execution_count": null,
   "id": "b147b9ad7e3618bb",
   "metadata": {
    "ExecuteTime": {
     "end_time": "2024-07-04T11:45:36.495116Z",
     "start_time": "2024-07-04T11:45:25.175868Z"
    }
   },
   "outputs": [],
   "source": [
    "test_X_np, test_y_np, test_features_lookup_table = load_external_data(external_features_path, external_labels_path, outcomes[1])\n",
    "result_df_external_hospital_death = evaluate_model(model_hospital_death, test_X_np[:,0,selected_features_hospital_death_idx], test_y_np)\n",
    "result_df_external_hospital_death['outcome'] = 'hospital_death'"
   ]
  },
  {
   "cell_type": "code",
   "execution_count": null,
   "id": "605f76d59ebf8d30",
   "metadata": {
    "ExecuteTime": {
     "end_time": "2024-07-04T11:45:36.501940Z",
     "start_time": "2024-07-04T11:45:36.498329Z"
    }
   },
   "outputs": [],
   "source": [
    "concatenated_df_external = pd.concat([result_df_external_3m_death, result_df_external_hospital_death])\n",
    "concatenated_df_external['model'] = 'log_reg'"
   ]
  },
  {
   "cell_type": "code",
   "execution_count": null,
   "id": "f4b2a92eadc1d8b",
   "metadata": {
    "ExecuteTime": {
     "end_time": "2024-07-04T11:45:36.520705Z",
     "start_time": "2024-07-04T11:45:36.503980Z"
    }
   },
   "outputs": [],
   "source": [
    "concatenated_df_external"
   ]
  },
  {
   "cell_type": "markdown",
   "id": "27a54c9980b25b64",
   "metadata": {},
   "source": [
    "join both ds"
   ]
  },
  {
   "cell_type": "code",
   "execution_count": null,
   "id": "df8218c590e47231",
   "metadata": {
    "ExecuteTime": {
     "end_time": "2024-07-04T11:45:36.525604Z",
     "start_time": "2024-07-04T11:45:36.522563Z"
    }
   },
   "outputs": [],
   "source": [
    "concatenated_df['dataset'] = 'gsu'\n",
    "concatenated_df_external['dataset'] = 'mimic'"
   ]
  },
  {
   "cell_type": "code",
   "execution_count": null,
   "id": "e42c50fd96d8c8d8",
   "metadata": {
    "ExecuteTime": {
     "end_time": "2024-07-04T11:45:36.531462Z",
     "start_time": "2024-07-04T11:45:36.527308Z"
    }
   },
   "outputs": [],
   "source": [
    "concatenated_df_all = pd.concat([concatenated_df, concatenated_df_external])"
   ]
  },
  {
   "cell_type": "code",
   "execution_count": null,
   "id": "3ae9be37b93867d3",
   "metadata": {
    "ExecuteTime": {
     "end_time": "2024-07-04T11:45:36.537935Z",
     "start_time": "2024-07-04T11:45:36.532941Z"
    }
   },
   "outputs": [],
   "source": [
    "def preprocess_df(df, model_name, outcome, dataset_name):\n",
    "    preprocessed_df = pd.DataFrame()\n",
    "    # report result rounded to 3 decimal places with 95% CI\n",
    "    preprocessed_df['ROC AUC'] = [f'{round(df[\"auc_test\"].values[0], 3):.3f} ({round(df[\"auc_test_lower_ci\"].values[0], 3):.3f}-{round(df[\"auc_test_upper_ci\"].values[0], 3):.3f})']\n",
    "    preprocessed_df[\"Matthew's Coefficient\"] = [f'{round(df[\"matthews_test\"].values[0], 3):.3f} ({round(df[\"matthews_test_lower_ci\"].values[0], 3):.3f}-{round(df[\"matthews_test_upper_ci\"].values[0], 3):.3f})']\n",
    "    preprocessed_df[\"Accuracy\"] = [f'{round(df[\"accuracy_test\"].values[0], 3):.3f} ({round(df[\"accuracy_test_lower_ci\"].values[0], 3):.3f}-{round(df[\"accuracy_test_upper_ci\"].values[0], 3):.3f})']\n",
    "    preprocessed_df[\"Precision (positive predictive value)\"] = [f'{round(df[\"precision_test\"].values[0], 3):.3f} ({round(df[\"precision_test_lower_ci\"].values[0], 3):.3f}-{round(df[\"precision_test_upper_ci\"].values[0], 3):.3f})']\n",
    "    preprocessed_df[\"Recall (Sensitivity)\"] = [f'{round(df[\"recall_test\"].values[0], 3):.3f} ({round(df[\"recall_test_lower_ci\"].values[0], 3):.3f}-{round(df[\"recall_test_upper_ci\"].values[0], 3):.3f})']\n",
    "    if 'specificity_test' in df.columns:\n",
    "        preprocessed_df[\"Specificity\"] = [f'{round(df[\"specificity_test\"].values[0], 3):.3f} ({round(df[\"specificity_test_lower_ci\"].values[0], 3):.3f}-{round(df[\"specificity_test_upper_ci\"].values[0], 3):.3f})']\n",
    "    else:\n",
    "        preprocessed_df[\"Specificity\"] = [f'NA']\n",
    "\n",
    "    preprocessed_df['Model'] = [model_name]\n",
    "    preprocessed_df['Outcome'] = [outcome]\n",
    "    preprocessed_df['Dataset'] = [dataset_name]\n",
    "\n",
    "    return preprocessed_df"
   ]
  },
  {
   "cell_type": "code",
   "execution_count": null,
   "id": "c0f29d9880785d",
   "metadata": {
    "ExecuteTime": {
     "end_time": "2024-07-04T11:45:36.568766Z",
     "start_time": "2024-07-04T11:45:36.540623Z"
    }
   },
   "outputs": [],
   "source": [
    "preprocessed_df_all = pd.concat([preprocess_df(concatenated_df[concatenated_df['outcome'] == '3m_mrs02'], 'Logistic Regression', '3M mRS 0-2', 'GSU'),\n",
    "                                    preprocess_df(concatenated_df[concatenated_df['outcome'] == '3m_death'], 'Logistic Regression', '3M Death', 'GSU'),\n",
    "                                    preprocess_df(concatenated_df[concatenated_df['outcome'] == 'hospital_death'], 'Logistic Regression', 'Death in hospital', 'GSU'),\n",
    "                                    preprocess_df(concatenated_df_external[concatenated_df_external['outcome'] == '3m_death'], 'Logistic Regression', '3M Death', 'MIMIC'),\n",
    "                                    preprocess_df(concatenated_df_external[concatenated_df_external['outcome'] == 'hospital_death'], 'Logistic Regression', 'Death in hospital', 'MIMIC')])"
   ]
  },
  {
   "cell_type": "code",
   "execution_count": null,
   "id": "b3cf1dcfafacbb93",
   "metadata": {
    "ExecuteTime": {
     "end_time": "2024-07-04T11:45:36.579746Z",
     "start_time": "2024-07-04T11:45:36.570299Z"
    }
   },
   "outputs": [],
   "source": [
    "preprocessed_df_all"
   ]
  },
  {
   "cell_type": "code",
   "execution_count": null,
   "id": "fe0f1069776929ff",
   "metadata": {
    "ExecuteTime": {
     "end_time": "2024-07-04T11:46:46.309511Z",
     "start_time": "2024-07-04T11:46:46.296349Z"
    }
   },
   "outputs": [],
   "source": [
    "preprocessed_df_all.to_excel('/Users/jk1/Downloads/log_reg_results_simplified_vars.xlsx', index=False)"
   ]
  },
  {
   "cell_type": "code",
   "execution_count": null,
   "id": "f11cf89b0cdf2bd5",
   "metadata": {},
   "outputs": [],
   "source": []
  }
 ],
 "metadata": {
  "kernelspec": {
   "display_name": "Python 3",
   "language": "python",
   "name": "python3"
  },
  "language_info": {
   "codemirror_mode": {
    "name": "ipython",
    "version": 2
   },
   "file_extension": ".py",
   "mimetype": "text/x-python",
   "name": "python",
   "nbconvert_exporter": "python",
   "pygments_lexer": "ipython2",
   "version": "2.7.6"
  }
 },
 "nbformat": 4,
 "nbformat_minor": 5
}
