{
 "cells": [
  {
   "cell_type": "code",
   "execution_count": null,
   "metadata": {
    "pycharm": {
     "name": "#%%\n"
    }
   },
   "outputs": [],
   "source": [
    "import pandas as pd\n",
    "from baseline_scores import hiat_score, thrive_score, span100_score\n",
    "from sklearn import metrics\n",
    "import tensorflow as tf\n",
    "import seaborn as sns\n",
    "import matplotlib.pyplot as plt\n",
    "import os\n",
    "import numpy as np\n",
    "\n",
    "from prediction.mrs_outcome_prediction.baseline_models.evaluation_helper_functions import evaluate_method"
   ]
  },
  {
   "cell_type": "code",
   "execution_count": null,
   "metadata": {
    "pycharm": {
     "name": "#%%\n"
    }
   },
   "outputs": [],
   "source": [
    "stroke_registry_path = '/Users/jk1/OneDrive - unige.ch/stroke_research/geneva_stroke_unit_dataset/data/stroke_registry/post_hoc_modified/stroke_registry_post_hoc_modified.xlsx'"
   ]
  },
  {
   "cell_type": "code",
   "execution_count": null,
   "metadata": {
    "pycharm": {
     "name": "#%%\n"
    }
   },
   "outputs": [],
   "source": [
    "data_df = pd.read_excel(stroke_registry_path)"
   ]
  },
  {
   "cell_type": "code",
   "execution_count": null,
   "metadata": {
    "pycharm": {
     "name": "#%%\n"
    }
   },
   "outputs": [],
   "source": [
    "data_df"
   ]
  },
  {
   "cell_type": "code",
   "execution_count": null,
   "metadata": {
    "pycharm": {
     "name": "#%%\n"
    }
   },
   "outputs": [],
   "source": [
    "# only keep data with '3M mRs' not nan\n",
    "data_df = data_df[data_df['3M mRS'].notnull()]"
   ]
  },
  {
   "cell_type": "code",
   "execution_count": null,
   "metadata": {
    "pycharm": {
     "name": "#%%\n"
    }
   },
   "outputs": [],
   "source": [
    "data_df['3M mRS 0-1'] = np.where(data_df['3M mRS'].isna(), np.nan, np.where(data_df['3M mRS'] <= 1, 1, 0))\n",
    "data_df['3M mRS 0-2'] = np.where(data_df['3M mRS'].isna(), np.nan, np.where(data_df['3M mRS'] <= 2, 1, 0))"
   ]
  },
  {
   "cell_type": "code",
   "execution_count": null,
   "metadata": {
    "pycharm": {
     "name": "#%%\n"
    }
   },
   "outputs": [],
   "source": [
    "# mrs forwarding (model simply outputs premorbid mrs)\n",
    "data_df['mrs01_forwarding good outcome pred'] = data_df['Prestroke disability (Rankin)'] <= 1\n",
    "data_df['mrs01_forwarding_prob'] = data_df['Prestroke disability (Rankin)'] <= 1\n",
    "data_df['mrs02_forwarding good outcome pred'] = data_df['Prestroke disability (Rankin)'] <= 2\n",
    "data_df['mrs02_forwarding_prob'] = data_df['Prestroke disability (Rankin)'] <= 2"
   ]
  },
  {
   "cell_type": "code",
   "execution_count": null,
   "metadata": {
    "pycharm": {
     "name": "#%%\n"
    }
   },
   "outputs": [],
   "source": [
    "data_df['HIAT_prob'] =  data_df.apply(\n",
    "    lambda subject: hiat_score(\n",
    "        subject['Age (calc.)'],\n",
    "        subject['NIH on admission'],\n",
    "        subject['1st glucose']),\n",
    "    axis=1)\n",
    "\n",
    "# defined as mRS < 4 at discharge\n",
    "data_df['HIAT good outcome pred'] = data_df['HIAT_prob'] > 0.5"
   ]
  },
  {
   "cell_type": "code",
   "execution_count": null,
   "metadata": {
    "pycharm": {
     "name": "#%%\n"
    }
   },
   "outputs": [],
   "source": [
    "data_df['span100_prob'] =  data_df.apply(\n",
    "    lambda subject: span100_score(\n",
    "        subject['Age (calc.)'],\n",
    "        subject['NIH on admission']),\n",
    "    axis=1)\n",
    "data_df['span100 good outcome pred'] = data_df['span100_prob'] > 0.5"
   ]
  },
  {
   "cell_type": "code",
   "execution_count": null,
   "metadata": {
    "pycharm": {
     "name": "#%%\n"
    }
   },
   "outputs": [],
   "source": [
    "data_df['THRIVE_prob'] = data_df.apply(\n",
    "    lambda subject: thrive_score(\n",
    "        subject['Age (calc.)'],\n",
    "        subject['NIH on admission'],\n",
    "        subject['MedHist Hypertension'],\n",
    "        subject['MedHist Diabetes'],\n",
    "        subject['MedHist Atrial Fibr.']\n",
    "    ),\n",
    "    axis=1)\n",
    "\n",
    "data_df['THRIVE good outcome pred'] = data_df['THRIVE_prob'] > 0.5"
   ]
  },
  {
   "cell_type": "code",
   "execution_count": null,
   "metadata": {
    "pycharm": {
     "name": "#%%\n"
    }
   },
   "outputs": [],
   "source": [
    "from prediction.mrs_outcome_prediction.baseline_models.baseline_scores import thriveC_score\n",
    "\n",
    "data_df['THRIVEC_prob'] = data_df.apply(\n",
    "    lambda subject: thriveC_score(\n",
    "        subject['Age (calc.)'],\n",
    "        subject['NIH on admission'],\n",
    "        subject['MedHist Hypertension'],\n",
    "        subject['MedHist Diabetes'],\n",
    "        subject['MedHist Atrial Fibr.']\n",
    "    ),\n",
    "    axis=1)\n",
    "\n",
    "data_df['THRIVEC good outcome pred'] = data_df['THRIVEC_prob'] > 0.5"
   ]
  },
  {
   "cell_type": "code",
   "execution_count": null,
   "metadata": {
    "pycharm": {
     "name": "#%%\n"
    }
   },
   "outputs": [],
   "source": [
    "data_df[['Age (calc.)',\n",
    "        'NIH on admission',\n",
    "        'MedHist Hypertension',\n",
    "        'MedHist Diabetes',\n",
    "        'MedHist Atrial Fibr.', 'THRIVE_prob', 'THRIVE good outcome pred', 'THRIVEC_prob', 'THRIVEC good outcome pred']]"
   ]
  },
  {
   "cell_type": "code",
   "execution_count": null,
   "metadata": {
    "pycharm": {
     "name": "#%%\n"
    }
   },
   "outputs": [],
   "source": [
    "thrive_df = evaluate_method('THRIVE', data_df, ground_truth='3M mRS 0-2')\n",
    "thriveC_df = evaluate_method('THRIVEC', data_df, ground_truth='3M mRS 0-2')\n",
    "hiat_df = evaluate_method('HIAT', data_df, ground_truth='3M mRS 0-2')\n",
    "span100_df = evaluate_method('span100', data_df, ground_truth='3M mRS 0-2')\n",
    "mrs02_forwarding_df = evaluate_method('mrs02_forwarding', data_df, ground_truth='3M mRS 0-2')\n",
    "\n",
    "mrs02_result_df = pd.concat([thrive_df, thriveC_df, hiat_df, span100_df, mrs02_forwarding_df])\n",
    "mrs02_result_df"
   ]
  },
  {
   "cell_type": "code",
   "execution_count": null,
   "metadata": {
    "pycharm": {
     "name": "#%%\n"
    }
   },
   "outputs": [],
   "source": [
    "thrive_df = evaluate_method('THRIVE', data_df, ground_truth='3M mRS 0-1')\n",
    "thriveC_df = evaluate_method('THRIVEC', data_df, ground_truth='3M mRS 0-1')\n",
    "hiat_df = evaluate_method('HIAT', data_df, ground_truth='3M mRS 0-1')\n",
    "span100_df = evaluate_method('span100', data_df, ground_truth='3M mRS 0-1')\n",
    "mrs01_forwarding_df = evaluate_method('mrs01_forwarding', data_df, ground_truth='3M mRS 0-1')\n",
    "\n",
    "mrs01_result_df = pd.concat([thrive_df, thriveC_df, hiat_df, span100_df, mrs01_forwarding_df])\n",
    "mrs01_result_df"
   ]
  },
  {
   "cell_type": "code",
   "execution_count": null,
   "metadata": {
    "pycharm": {
     "name": "#%%\n"
    }
   },
   "outputs": [],
   "source": [
    "output_dir = '/Users/jk1/Downloads'\n",
    "mrs02_result_df.to_csv(os.path.join(output_dir, 'mrs02_clinical_scores_results.csv'))\n",
    "mrs01_result_df.to_csv(os.path.join(output_dir, 'mrs01_clinical_scores_results.csv'))"
   ]
  },
  {
   "cell_type": "code",
   "execution_count": null,
   "metadata": {
    "pycharm": {
     "name": "#%%\n"
    }
   },
   "outputs": [],
   "source": []
  }
 ],
 "metadata": {
  "kernelspec": {
   "display_name": "Python 3",
   "language": "python",
   "name": "python3"
  },
  "language_info": {
   "codemirror_mode": {
    "name": "ipython",
    "version": 2
   },
   "file_extension": ".py",
   "mimetype": "text/x-python",
   "name": "python",
   "nbconvert_exporter": "python",
   "pygments_lexer": "ipython2",
   "version": "2.7.6"
  }
 },
 "nbformat": 4,
 "nbformat_minor": 0
}
