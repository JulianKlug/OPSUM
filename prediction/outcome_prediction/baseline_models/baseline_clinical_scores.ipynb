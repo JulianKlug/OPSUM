{
 "cells": [
  {
   "cell_type": "code",
   "execution_count": null,
   "metadata": {},
   "outputs": [],
   "source": [
    "import pandas as pd\n",
    "from baseline_scores import hiat_score, thrive_score, span100_score\n",
    "import os\n",
    "import numpy as np\n",
    "import matplotlib.pyplot as plt\n",
    "from prediction.outcome_prediction.baseline_models.evaluation_helper_functions import evaluate_method"
   ]
  },
  {
   "cell_type": "code",
   "execution_count": null,
   "metadata": {},
   "outputs": [],
   "source": [
    "stroke_registry_path = '/Users/jk1/OneDrive - unige.ch/stroke_research/geneva_stroke_unit_dataset/data/stroke_registry/post_hoc_modified/stroke_registry_post_hoc_modified.xlsx'\n",
    "preprocessed_features_path = '/Users/jk1/temp/opsum_prepro_output/gsu_prepro_01012023_233050/preprocessed_features_01012023_233050.csv'\n",
    "preprocessed_outcomes_path = '/Users/jk1/temp/opsum_prepro_output/gsu_prepro_01012023_233050/preprocessed_outcomes_01012023_233050.csv'"
   ]
  },
  {
   "cell_type": "code",
   "execution_count": null,
   "metadata": {},
   "outputs": [],
   "source": [
    "output_dir = '/Users/jk1/Downloads'"
   ]
  },
  {
   "cell_type": "code",
   "execution_count": null,
   "metadata": {},
   "outputs": [],
   "source": [
    "outcome = '3M mRS'"
   ]
  },
  {
   "cell_type": "code",
   "execution_count": null,
   "metadata": {},
   "outputs": [],
   "source": [
    "from preprocessing.geneva_stroke_unit_preprocessing.utils import create_registry_case_identification_column\n",
    "\n",
    "data_df = pd.read_excel(stroke_registry_path)\n",
    "data_df['case_admission_id'] = create_registry_case_identification_column(data_df)"
   ]
  },
  {
   "cell_type": "code",
   "execution_count": null,
   "metadata": {},
   "outputs": [],
   "source": [
    "outcomes_df = pd.read_csv(preprocessed_outcomes_path)\n",
    "features_df = pd.read_csv(preprocessed_features_path)\n",
    "patient_selection = outcomes_df[(outcomes_df.case_admission_id.isin(features_df.case_admission_id.unique())) & (\n",
    "            ~outcomes_df[outcome].isnull())].case_admission_id.unique()"
   ]
  },
  {
   "cell_type": "code",
   "execution_count": null,
   "metadata": {},
   "outputs": [],
   "source": [
    "data_df = data_df[data_df.case_admission_id.isin(patient_selection)]"
   ]
  },
  {
   "cell_type": "code",
   "execution_count": null,
   "metadata": {},
   "outputs": [],
   "source": [
    "data_df = pd.merge(data_df, outcomes_df[['case_admission_id', '3M mRS 0-1', '3M mRS 0-2']], how='left', on='case_admission_id')"
   ]
  },
  {
   "cell_type": "code",
   "execution_count": null,
   "metadata": {},
   "outputs": [],
   "source": [
    "# data_df['3M mRS 0-1'] = np.where(data_df['3M mRS'].isna(), np.nan, np.where(data_df['3M mRS'] <= 1, 1, 0))\n",
    "# data_df['3M mRS 0-2'] = np.where(data_df['3M mRS'].isna(), np.nan, np.where(data_df['3M mRS'] <= 2, 1, 0))"
   ]
  },
  {
   "cell_type": "code",
   "execution_count": null,
   "metadata": {},
   "outputs": [],
   "source": [
    "# mrs forwarding (model simply outputs premorbid mrs)\n",
    "data_df['mrs01_forwarding good outcome pred'] = data_df['Prestroke disability (Rankin)'] <= 1\n",
    "data_df['mrs01_forwarding_prob'] = data_df['Prestroke disability (Rankin)'] <= 1\n",
    "data_df['mrs02_forwarding good outcome pred'] = data_df['Prestroke disability (Rankin)'] <= 2\n",
    "data_df['mrs02_forwarding_prob'] = data_df['Prestroke disability (Rankin)'] <= 2"
   ]
  },
  {
   "cell_type": "code",
   "execution_count": null,
   "metadata": {},
   "outputs": [],
   "source": [
    "data_df['HIAT_prob'] =  data_df.apply(\n",
    "    lambda subject: hiat_score(\n",
    "        subject['Age (calc.)'],\n",
    "        subject['NIH on admission'],\n",
    "        subject['1st glucose']),\n",
    "    axis=1)\n",
    "\n",
    "# defined as mRS < 4 at discharge\n",
    "data_df['HIAT good outcome pred'] = data_df['HIAT_prob'] > 0.5"
   ]
  },
  {
   "cell_type": "code",
   "execution_count": null,
   "metadata": {},
   "outputs": [],
   "source": [
    "data_df['span100_prob'] =  data_df.apply(\n",
    "    lambda subject: span100_score(\n",
    "        subject['Age (calc.)'],\n",
    "        subject['NIH on admission']),\n",
    "    axis=1)\n",
    "data_df['span100 good outcome pred'] = data_df['span100_prob'] > 0.5"
   ]
  },
  {
   "cell_type": "code",
   "execution_count": null,
   "metadata": {},
   "outputs": [],
   "source": [
    "data_df['THRIVE_prob'] = data_df.apply(\n",
    "    lambda subject: thrive_score(\n",
    "        subject['Age (calc.)'],\n",
    "        subject['NIH on admission'],\n",
    "        subject['MedHist Hypertension'],\n",
    "        subject['MedHist Diabetes'],\n",
    "        subject['MedHist Atrial Fibr.']\n",
    "    ),\n",
    "    axis=1)\n",
    "\n",
    "data_df['THRIVE good outcome pred'] = data_df['THRIVE_prob'] > 0.5"
   ]
  },
  {
   "cell_type": "code",
   "execution_count": null,
   "metadata": {},
   "outputs": [],
   "source": [
    "from prediction.outcome_prediction.baseline_models.baseline_scores import thriveC_score\n",
    "\n",
    "data_df['THRIVEC_prob'] = data_df.apply(\n",
    "    lambda subject: thriveC_score(\n",
    "        subject['Age (calc.)'],\n",
    "        subject['NIH on admission'],\n",
    "        subject['MedHist Hypertension'],\n",
    "        subject['MedHist Diabetes'],\n",
    "        subject['MedHist Atrial Fibr.']\n",
    "    ),\n",
    "    axis=1)\n",
    "\n",
    "data_df['THRIVEC good outcome pred'] = data_df['THRIVEC_prob'] > 0.5"
   ]
  },
  {
   "cell_type": "code",
   "execution_count": null,
   "metadata": {},
   "outputs": [],
   "source": [
    "extracted_df = data_df[['Age (calc.)',\n",
    "        'NIH on admission',\n",
    "        'MedHist Hypertension',\n",
    "        'MedHist Diabetes',\n",
    "        'MedHist Atrial Fibr.', 'THRIVE_prob', 'THRIVE good outcome pred', 'THRIVEC_prob', 'THRIVEC good outcome pred']]\n",
    "extracted_df"
   ]
  },
  {
   "cell_type": "code",
   "execution_count": null,
   "metadata": {},
   "outputs": [],
   "source": [
    "extracted_df[extracted_df.THRIVE_prob.isna()]"
   ]
  },
  {
   "cell_type": "code",
   "execution_count": null,
   "metadata": {},
   "outputs": [],
   "source": [
    "thrive_df, roc_auc_figure, THRIVE_C_bootstrapping_data, THRIVE_C_testing_data = evaluate_method('THRIVE', data_df[~data_df['THRIVE_prob'].isna()], ground_truth='3M mRS 0-2')\n",
    "roc_auc_figure\n",
    "plt.show()\n",
    "thriveC_df, roc_auc_figure, _, _ = evaluate_method('THRIVEC', data_df[~data_df['THRIVEC_prob'].isna()], ground_truth='3M mRS 0-2')\n",
    "roc_auc_figure\n",
    "plt.show()\n",
    "hiat_df, roc_auc_figure, _, _ = evaluate_method('HIAT', data_df[~data_df['HIAT_prob'].isna()], ground_truth='3M mRS 0-2')\n",
    "roc_auc_figure\n",
    "plt.show()\n",
    "span100_df, roc_auc_figure, _, _ = evaluate_method('span100', data_df[~data_df['span100_prob'].isna()], ground_truth='3M mRS 0-2')\n",
    "roc_auc_figure\n",
    "plt.show()\n",
    "mrs02_forwarding_df, roc_auc_figure, _, _ = evaluate_method('mrs02_forwarding', data_df[~data_df['mrs02_forwarding_prob'].isna()], ground_truth='3M mRS 0-2')\n",
    "\n",
    "mrs02_result_df = pd.concat([thrive_df, thriveC_df, hiat_df, span100_df, mrs02_forwarding_df])\n",
    "mrs02_result_df"
   ]
  },
  {
   "cell_type": "code",
   "execution_count": null,
   "metadata": {},
   "outputs": [],
   "source": [
    "from prediction.utils.utils import ensure_dir\n",
    "# save bootstrapped ground truth and predictions\n",
    "import pickle\n",
    "THRIVE_C_output_dir = os.path.join(output_dir, 'THRIVE_C_predictions')\n",
    "ensure_dir(THRIVE_C_output_dir)\n",
    "pickle.dump(THRIVE_C_bootstrapping_data, open(os.path.join(THRIVE_C_output_dir, 'bootstrapped_gt_and_pred.pkl'), 'wb'))\n",
    "pickle.dump(THRIVE_C_testing_data, open(os.path.join(THRIVE_C_output_dir, 'test_gt_and_pred.pkl'), 'wb'))"
   ]
  },
  {
   "cell_type": "code",
   "execution_count": null,
   "metadata": {},
   "outputs": [],
   "source": [
    "thrive_df, roc_auc_figure, _, _ = evaluate_method('THRIVE', data_df[~data_df['THRIVE_prob'].isna()], ground_truth='3M mRS 0-1')\n",
    "plt.show()\n",
    "thriveC_df, roc_auc_figure, _, _ = evaluate_method('THRIVEC', data_df[~data_df['THRIVEC_prob'].isna()], ground_truth='3M mRS 0-1')\n",
    "plt.show()\n",
    "hiat_df, roc_auc_figure, _, _ = evaluate_method('HIAT', data_df[~data_df['HIAT_prob'].isna()], ground_truth='3M mRS 0-1')\n",
    "plt.show()\n",
    "span100_df, roc_auc_figure, _, _ = evaluate_method('span100', data_df[~data_df['span100_prob'].isna()], ground_truth='3M mRS 0-1')\n",
    "plt.show()\n",
    "mrs01_forwarding_df, roc_auc_figure, _, _ = evaluate_method('mrs01_forwarding', data_df[~data_df['mrs01_forwarding_prob'].isna()], ground_truth='3M mRS 0-1')\n",
    "plt.show()\n",
    "\n",
    "mrs01_result_df = pd.concat([thrive_df, thriveC_df, hiat_df, span100_df, mrs01_forwarding_df])\n",
    "mrs01_result_df"
   ]
  },
  {
   "cell_type": "code",
   "execution_count": null,
   "metadata": {},
   "outputs": [],
   "source": [
    "mrs02_result_df.to_csv(os.path.join(output_dir, 'mrs02_clinical_scores_results.csv'))\n",
    "mrs01_result_df.to_csv(os.path.join(output_dir, 'mrs01_clinical_scores_results.csv'))"
   ]
  },
  {
   "cell_type": "code",
   "execution_count": null,
   "metadata": {},
   "outputs": [],
   "source": []
  }
 ],
 "metadata": {
  "kernelspec": {
   "display_name": "Python 3",
   "language": "python",
   "name": "python3"
  },
  "language_info": {
   "codemirror_mode": {
    "name": "ipython",
    "version": 2
   },
   "file_extension": ".py",
   "mimetype": "text/x-python",
   "name": "python",
   "nbconvert_exporter": "python",
   "pygments_lexer": "ipython2",
   "version": "2.7.6"
  }
 },
 "nbformat": 4,
 "nbformat_minor": 0
}
