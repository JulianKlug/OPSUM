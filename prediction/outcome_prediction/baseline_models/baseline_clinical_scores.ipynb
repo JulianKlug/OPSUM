{
 "cells": [
  {
   "cell_type": "code",
   "execution_count": null,
   "metadata": {
    "ExecuteTime": {
     "end_time": "2024-03-04T08:05:03.504797Z",
     "start_time": "2024-03-04T08:04:52.241963Z"
    }
   },
   "outputs": [],
   "source": [
    "import pandas as pd\n",
    "from baseline_scores import hiat_score, thrive_score, span100_score\n",
    "import os\n",
    "from prediction.utils.utils import ensure_dir\n",
    "import pickle\n",
    "import matplotlib.pyplot as plt\n",
    "from prediction.outcome_prediction.baseline_models.evaluation_helper_functions import evaluate_method"
   ]
  },
  {
   "cell_type": "code",
   "execution_count": null,
   "metadata": {
    "ExecuteTime": {
     "end_time": "2024-03-04T08:05:03.512601Z",
     "start_time": "2024-03-04T08:05:03.507006Z"
    }
   },
   "outputs": [],
   "source": [
    "stroke_registry_path = '/Users/jk1/Library/CloudStorage/OneDrive-unige.ch/stroke_research/geneva_stroke_unit_dataset/data/stroke_registry/post_hoc_modified/stroke_registry_post_hoc_modified.xlsx'\n",
    "preprocessed_features_path = '/Users/jk1/temp/opsum_prepro_output/gsu_prepro_01012023_233050/preprocessed_features_01012023_233050.csv'\n",
    "preprocessed_outcomes_path = '/Users/jk1/temp/opsum_prepro_output/gsu_prepro_01012023_233050/preprocessed_outcomes_01012023_233050.csv'"
   ]
  },
  {
   "cell_type": "code",
   "execution_count": null,
   "metadata": {
    "ExecuteTime": {
     "end_time": "2024-03-04T08:05:03.514700Z",
     "start_time": "2024-03-04T08:05:03.511503Z"
    }
   },
   "outputs": [],
   "source": [
    "output_dir = '/Users/jk1/Downloads'"
   ]
  },
  {
   "cell_type": "code",
   "execution_count": null,
   "metadata": {
    "ExecuteTime": {
     "end_time": "2024-03-04T08:05:03.521602Z",
     "start_time": "2024-03-04T08:05:03.515815Z"
    }
   },
   "outputs": [],
   "source": [
    "outcome = 'Death in hospital'"
   ]
  },
  {
   "cell_type": "code",
   "execution_count": null,
   "metadata": {
    "ExecuteTime": {
     "end_time": "2024-03-04T08:05:09.699986Z",
     "start_time": "2024-03-04T08:05:03.521876Z"
    }
   },
   "outputs": [],
   "source": [
    "from preprocessing.geneva_stroke_unit_preprocessing.utils import create_registry_case_identification_column\n",
    "\n",
    "data_df = pd.read_excel(stroke_registry_path)\n",
    "data_df['case_admission_id'] = create_registry_case_identification_column(data_df)"
   ]
  },
  {
   "cell_type": "code",
   "execution_count": null,
   "metadata": {
    "ExecuteTime": {
     "end_time": "2024-03-04T08:05:19.160751Z",
     "start_time": "2024-03-04T08:05:09.700772Z"
    }
   },
   "outputs": [],
   "source": [
    "outcomes_df = pd.read_csv(preprocessed_outcomes_path)\n",
    "features_df = pd.read_csv(preprocessed_features_path)\n",
    "patient_selection = outcomes_df[(outcomes_df.case_admission_id.isin(features_df.case_admission_id.unique())) & (\n",
    "            ~outcomes_df[outcome].isnull())].case_admission_id.unique()"
   ]
  },
  {
   "cell_type": "code",
   "execution_count": null,
   "metadata": {
    "ExecuteTime": {
     "end_time": "2024-03-04T08:05:19.236912Z",
     "start_time": "2024-03-04T08:05:19.159439Z"
    }
   },
   "outputs": [],
   "source": [
    "data_df = data_df[data_df.case_admission_id.isin(patient_selection)]\n",
    "data_df.drop(columns=[outcome], inplace=True)"
   ]
  },
  {
   "cell_type": "code",
   "execution_count": null,
   "metadata": {
    "ExecuteTime": {
     "end_time": "2024-03-04T08:05:19.454034Z",
     "start_time": "2024-03-04T08:05:19.237670Z"
    }
   },
   "outputs": [],
   "source": [
    "data_df = pd.merge(data_df, outcomes_df[['case_admission_id', '3M mRS 0-1', '3M mRS 0-2', '3M Death', 'Death in hospital']], how='left', on='case_admission_id')"
   ]
  },
  {
   "cell_type": "code",
   "execution_count": null,
   "metadata": {
    "ExecuteTime": {
     "end_time": "2024-03-04T08:05:19.455794Z",
     "start_time": "2024-03-04T08:05:19.363691Z"
    }
   },
   "outputs": [],
   "source": [
    "# data_df['3M mRS 0-1'] = np.where(data_df['3M mRS'].isna(), np.nan, np.where(data_df['3M mRS'] <= 1, 1, 0))\n",
    "# data_df['3M mRS 0-2'] = np.where(data_df['3M mRS'].isna(), np.nan, np.where(data_df['3M mRS'] <= 2, 1, 0))"
   ]
  },
  {
   "cell_type": "code",
   "execution_count": null,
   "metadata": {
    "ExecuteTime": {
     "end_time": "2024-03-04T08:05:19.456530Z",
     "start_time": "2024-03-04T08:05:19.369358Z"
    }
   },
   "outputs": [],
   "source": [
    "# mrs forwarding (model simply outputs premorbid mrs)\n",
    "data_df['mrs01_forwarding good outcome pred'] = data_df['Prestroke disability (Rankin)'] <= 1\n",
    "data_df['mrs01_forwarding_prob'] = data_df['Prestroke disability (Rankin)'] <= 1\n",
    "data_df['mrs02_forwarding good outcome pred'] = data_df['Prestroke disability (Rankin)'] <= 2\n",
    "data_df['mrs02_forwarding_prob'] = data_df['Prestroke disability (Rankin)'] <= 2"
   ]
  },
  {
   "cell_type": "code",
   "execution_count": null,
   "metadata": {
    "ExecuteTime": {
     "end_time": "2024-03-04T08:05:19.482112Z",
     "start_time": "2024-03-04T08:05:19.375776Z"
    }
   },
   "outputs": [],
   "source": [
    "data_df['HIAT_prob'] =  data_df.apply(\n",
    "    lambda subject: hiat_score(\n",
    "        subject['Age (calc.)'],\n",
    "        subject['NIH on admission'],\n",
    "        subject['1st glucose']),\n",
    "    axis=1)\n",
    "\n",
    "# defined as mRS < 4 at discharge\n",
    "data_df['HIAT good outcome pred'] = data_df['HIAT_prob'] > 0.5"
   ]
  },
  {
   "cell_type": "code",
   "execution_count": null,
   "metadata": {
    "ExecuteTime": {
     "end_time": "2024-03-04T08:05:19.508226Z",
     "start_time": "2024-03-04T08:05:19.454913Z"
    }
   },
   "outputs": [],
   "source": [
    "data_df['span100_prob'] =  data_df.apply(\n",
    "    lambda subject: span100_score(\n",
    "        subject['Age (calc.)'],\n",
    "        subject['NIH on admission']),\n",
    "    axis=1)\n",
    "data_df['span100 good outcome pred'] = data_df['span100_prob'] > 0.5"
   ]
  },
  {
   "cell_type": "code",
   "execution_count": null,
   "metadata": {
    "ExecuteTime": {
     "end_time": "2024-03-04T08:05:19.582586Z",
     "start_time": "2024-03-04T08:05:19.505804Z"
    }
   },
   "outputs": [],
   "source": [
    "data_df['THRIVE_prob'] = data_df.apply(\n",
    "    lambda subject: thrive_score(\n",
    "        subject['Age (calc.)'],\n",
    "        subject['NIH on admission'],\n",
    "        subject['MedHist Hypertension'],\n",
    "        subject['MedHist Diabetes'],\n",
    "        subject['MedHist Atrial Fibr.']\n",
    "    ),\n",
    "    axis=1)\n",
    "\n",
    "data_df['THRIVE good outcome pred'] = data_df['THRIVE_prob'] > 0.5"
   ]
  },
  {
   "cell_type": "code",
   "execution_count": null,
   "metadata": {
    "ExecuteTime": {
     "end_time": "2024-03-04T08:05:19.664443Z",
     "start_time": "2024-03-04T08:05:19.588705Z"
    }
   },
   "outputs": [],
   "source": [
    "from prediction.outcome_prediction.baseline_models.baseline_scores import thriveC_score\n",
    "\n",
    "data_df['THRIVEC_prob'] = data_df.apply(\n",
    "    lambda subject: thriveC_score(\n",
    "        subject['Age (calc.)'],\n",
    "        subject['NIH on admission'],\n",
    "        subject['MedHist Hypertension'],\n",
    "        subject['MedHist Diabetes'],\n",
    "        subject['MedHist Atrial Fibr.']\n",
    "    ),\n",
    "    axis=1)\n",
    "\n",
    "data_df['THRIVEC good outcome pred'] = data_df['THRIVEC_prob'] > 0.5"
   ]
  },
  {
   "cell_type": "code",
   "execution_count": null,
   "metadata": {
    "ExecuteTime": {
     "end_time": "2024-03-04T08:05:19.690922Z",
     "start_time": "2024-03-04T08:05:19.665047Z"
    }
   },
   "outputs": [],
   "source": [
    "extracted_df = data_df[['Age (calc.)',\n",
    "        'NIH on admission',\n",
    "        'MedHist Hypertension',\n",
    "        'MedHist Diabetes',\n",
    "        'MedHist Atrial Fibr.', 'THRIVE_prob', 'THRIVE good outcome pred', 'THRIVEC_prob', 'THRIVEC good outcome pred']]\n",
    "extracted_df"
   ]
  },
  {
   "cell_type": "markdown",
   "metadata": {
    "collapsed": false
   },
   "source": [
    "## 3M mRS 0-2"
   ]
  },
  {
   "cell_type": "code",
   "execution_count": null,
   "metadata": {
    "ExecuteTime": {
     "end_time": "2024-03-04T08:05:20.203989Z",
     "start_time": "2024-03-04T08:05:19.698208Z"
    }
   },
   "outputs": [],
   "source": [
    "thrive_df, roc_auc_figure, _, _ = evaluate_method('THRIVE', data_df[~data_df['THRIVE_prob'].isna()], ground_truth='3M mRS 0-2')\n",
    "thrive_df['method_name'] = 'THRIVE'\n",
    "roc_auc_figure\n",
    "plt.show()\n",
    "thriveC_df, roc_auc_figure, THRIVE_C_bootstrapping_data, THRIVE_C_testing_data = evaluate_method('THRIVEC', data_df[~data_df['THRIVEC_prob'].isna()], ground_truth='3M mRS 0-2')\n",
    "thriveC_df['method_name'] = 'THRIVEC'\n",
    "roc_auc_figure\n",
    "plt.show()\n",
    "hiat_df, roc_auc_figure, _, _ = evaluate_method('HIAT', data_df[~data_df['HIAT_prob'].isna()], ground_truth='3M mRS 0-2')\n",
    "roc_auc_figure\n",
    "hiat_df['method_name'] = 'HIAT'\n",
    "plt.show()\n",
    "span100_df, roc_auc_figure, _, _ = evaluate_method('span100', data_df[~data_df['span100_prob'].isna()], ground_truth='3M mRS 0-2')\n",
    "span100_df['method_name'] = 'span100'\n",
    "roc_auc_figure\n",
    "plt.show()\n",
    "mrs02_forwarding_df, roc_auc_figure, _, _ = evaluate_method('mrs02_forwarding', data_df[~data_df['mrs02_forwarding_prob'].isna()], ground_truth='3M mRS 0-2')\n",
    "mrs02_forwarding_df['method_name'] = 'mrs02_forwarding'\n",
    "\n",
    "mrs02_result_df = pd.concat([thrive_df, thriveC_df, hiat_df, span100_df, mrs02_forwarding_df])\n",
    "mrs02_result_df"
   ]
  },
  {
   "cell_type": "code",
   "execution_count": null,
   "metadata": {
    "ExecuteTime": {
     "end_time": "2024-03-04T08:05:20.221975Z",
     "start_time": "2024-03-04T08:05:20.205544Z"
    }
   },
   "outputs": [],
   "source": [
    "# save bootstrapped ground truth and predictions\n",
    "# THRIVE_C_output_dir = os.path.join(output_dir, 'THRIVE_C_predictions')\n",
    "# ensure_dir(THRIVE_C_output_dir)\n",
    "# thriveC_df.to_csv(os.path.join(THRIVE_C_output_dir, 'thriveC_mrs02_results.csv'))\n",
    "# pickle.dump(THRIVE_C_bootstrapping_data, open(os.path.join(THRIVE_C_output_dir, 'bootstrapped_gt_and_pred.pkl'), 'wb'))\n",
    "# pickle.dump(THRIVE_C_testing_data, open(os.path.join(THRIVE_C_output_dir, 'test_gt_and_pred.pkl'), 'wb'))"
   ]
  },
  {
   "cell_type": "markdown",
   "metadata": {
    "collapsed": false
   },
   "source": [
    "## 3M mRS 0-1"
   ]
  },
  {
   "cell_type": "code",
   "execution_count": null,
   "metadata": {
    "ExecuteTime": {
     "start_time": "2024-03-04T08:05:20.208061Z"
    }
   },
   "outputs": [],
   "source": [
    "thrive_df, roc_auc_figure, _, _ = evaluate_method('THRIVE', data_df[~data_df['THRIVE_prob'].isna()], ground_truth='3M mRS 0-1')\n",
    "thrive_df['method_name'] = 'THRIVE'\n",
    "plt.show()\n",
    "thriveC_df, roc_auc_figure, _, _ = evaluate_method('THRIVEC', data_df[~data_df['THRIVEC_prob'].isna()], ground_truth='3M mRS 0-1')\n",
    "thriveC_df['method_name'] = 'THRIVEC'\n",
    "plt.show()\n",
    "hiat_df, roc_auc_figure, _, _ = evaluate_method('HIAT', data_df[~data_df['HIAT_prob'].isna()], ground_truth='3M mRS 0-1')\n",
    "hiat_df['method_name'] = 'HIAT'\n",
    "plt.show()\n",
    "span100_df, roc_auc_figure, _, _ = evaluate_method('span100', data_df[~data_df['span100_prob'].isna()], ground_truth='3M mRS 0-1')\n",
    "span100_df['method_name'] = 'span100'\n",
    "plt.show()\n",
    "mrs01_forwarding_df, roc_auc_figure, _, _ = evaluate_method('mrs01_forwarding', data_df[~data_df['mrs01_forwarding_prob'].isna()], ground_truth='3M mRS 0-1')\n",
    "mrs01_forwarding_df['method_name'] = 'mrs01_forwarding'\n",
    "plt.show()\n",
    "\n",
    "mrs01_result_df = pd.concat([thrive_df, thriveC_df, hiat_df, span100_df, mrs01_forwarding_df])\n",
    "mrs01_result_df"
   ]
  },
  {
   "cell_type": "code",
   "execution_count": null,
   "metadata": {
    "ExecuteTime": {
     "start_time": "2024-03-04T08:05:20.210656Z"
    }
   },
   "outputs": [],
   "source": [
    "# mrs02_result_df.to_csv(os.path.join(output_dir, 'mrs02_clinical_scores_results.csv'))\n",
    "# mrs01_result_df.to_csv(os.path.join(output_dir, 'mrs01_clinical_scores_results.csv'))"
   ]
  },
  {
   "cell_type": "markdown",
   "metadata": {
    "collapsed": false
   },
   "source": [
    "## Evaluating for death at 3 months"
   ]
  },
  {
   "cell_type": "code",
   "execution_count": null,
   "metadata": {
    "ExecuteTime": {
     "end_time": "2024-03-04T08:05:49.133714Z",
     "start_time": "2024-03-04T08:05:49.121187Z"
    }
   },
   "outputs": [],
   "source": [
    "data_df['inv_THRIVEC_prob'] = 1 - data_df['THRIVEC_prob']\n",
    "data_df['inv_THRIVEC good outcome pred'] = data_df['inv_THRIVEC_prob'] > 0.5\n",
    "\n",
    "data_df['inv_THRIVE_prob'] = 1 - data_df['THRIVE_prob']\n",
    "data_df['inv_THRIVE good outcome pred'] = data_df['inv_THRIVE_prob'] > 0.5\n",
    "\n",
    "data_df['inv_HIAT_prob'] = 1 - data_df['HIAT_prob']\n",
    "data_df['inv_HIAT good outcome pred'] = data_df['inv_HIAT_prob'] > 0.5\n",
    "\n",
    "data_df['inv_span100_prob'] = 1 - data_df['span100_prob']\n",
    "data_df['inv_span100 good outcome pred'] = data_df['inv_span100_prob'] > 0.5"
   ]
  },
  {
   "cell_type": "code",
   "execution_count": null,
   "metadata": {
    "ExecuteTime": {
     "end_time": "2024-03-04T08:05:45.455845Z",
     "start_time": "2024-03-04T08:05:45.398924Z"
    }
   },
   "outputs": [],
   "source": [
    "death_thriveC_df, roc_auc_figure, death_THRIVE_C_bootstrapping_data, death_THRIVE_C_testing_data = evaluate_method('inv_THRIVEC', data_df[~data_df['THRIVEC_prob'].isna()], ground_truth='3M Death')\n",
    "death_thriveC_df['method_name'] = 'THRIVEC'\n",
    "roc_auc_figure\n",
    "\n",
    "death_thrive_df, roc_auc_figure, death_THRIVE_bootstrapping_data, death_THRIVE_testing_data = evaluate_method('inv_THRIVE', data_df[~data_df['THRIVE_prob'].isna()], ground_truth='3M Death')\n",
    "death_thrive_df['method_name'] = 'THRIVE'\n",
    "roc_auc_figure\n",
    "\n",
    "death_hiat_df, roc_auc_figure, death_HIAT_bootstrapping_data, death_HIAT_testing_data = evaluate_method('inv_HIAT', data_df[~data_df['HIAT_prob'].isna()], ground_truth='3M Death')\n",
    "death_hiat_df['method_name'] = 'HIAT'\n",
    "roc_auc_figure\n",
    "\n",
    "death_span100_df, roc_auc_figure, death_span100_bootstrapping_data, death_span100_testing_data = evaluate_method('inv_span100', data_df[~data_df['span100_prob'].isna()], ground_truth='3M Death')\n",
    "death_span100_df['method_name'] = 'span100'\n",
    "roc_auc_figure"
   ]
  },
  {
   "cell_type": "code",
   "execution_count": null,
   "metadata": {
    "ExecuteTime": {
     "start_time": "2024-03-04T08:05:20.218713Z"
    }
   },
   "outputs": [],
   "source": [
    "death_result_df = pd.concat([death_thriveC_df, death_thrive_df, death_hiat_df, death_span100_df])\n",
    "death_result_df"
   ]
  },
  {
   "cell_type": "code",
   "execution_count": null,
   "metadata": {
    "ExecuteTime": {
     "start_time": "2024-03-04T08:05:20.220901Z"
    }
   },
   "outputs": [],
   "source": [
    "# death_result_df.to_csv(os.path.join(output_dir, '3m_death_clinical_scores_results.csv'))"
   ]
  },
  {
   "cell_type": "code",
   "execution_count": null,
   "metadata": {
    "ExecuteTime": {
     "end_time": "2024-03-04T08:05:20.225576Z",
     "start_time": "2024-03-04T08:05:20.223333Z"
    }
   },
   "outputs": [],
   "source": [
    "# death_THRIVE_C_output_dir = os.path.join(output_dir, 'THRIVE_C_3m_death_predictions')\n",
    "# ensure_dir(death_THRIVE_C_output_dir)\n",
    "# death_thriveC_df.to_csv(os.path.join(death_THRIVE_C_output_dir, '3m_death_results.csv'))\n",
    "# pickle.dump(death_THRIVE_C_bootstrapping_data, open(os.path.join(death_THRIVE_C_output_dir, '3m_death_bootstrapped_gt_and_pred.pkl'), 'wb'))\n",
    "# pickle.dump(death_THRIVE_C_testing_data, open(os.path.join(death_THRIVE_C_output_dir, '3m_death_test_gt_and_pred.pkl'), 'wb'))"
   ]
  },
  {
   "cell_type": "markdown",
   "metadata": {
    "collapsed": false
   },
   "source": [
    "## Evaluating for death in hospital"
   ]
  },
  {
   "cell_type": "code",
   "execution_count": null,
   "metadata": {
    "ExecuteTime": {
     "end_time": "2024-03-04T08:07:23.615698Z",
     "start_time": "2024-03-04T08:06:45.849946Z"
    }
   },
   "outputs": [],
   "source": [
    "death_in_hosp_thriveC_df, roc_auc_figure, death_in_hosp_THRIVE_C_bootstrapping_data, death_in_hosp_THRIVE_C_testing_data = evaluate_method('inv_THRIVEC', data_df[~data_df['THRIVEC_prob'].isna()], ground_truth='Death in hospital')\n",
    "death_in_hosp_thriveC_df['method_name'] = 'THRIVEC'\n",
    "roc_auc_figure\n",
    "\n",
    "death_in_hosp_thrive_df, roc_auc_figure, death_in_hosp_THRIVE_bootstrapping_data, death_in_hosp_THRIVE_testing_data = evaluate_method('inv_THRIVE', data_df[~data_df['THRIVE_prob'].isna()], ground_truth='Death in hospital')\n",
    "death_in_hosp_thrive_df['method_name'] = 'THRIVE'\n",
    "roc_auc_figure\n",
    "\n",
    "death_in_hosp_hiat_df, roc_auc_figure, death_in_hosp_HIAT_bootstrapping_data, death_in_hosp_HIAT_testing_data = evaluate_method('inv_HIAT', data_df[~data_df['HIAT_prob'].isna()], ground_truth='Death in hospital')\n",
    "death_in_hosp_hiat_df['method_name'] = 'HIAT'\n",
    "roc_auc_figure\n",
    "\n",
    "death_in_hosp_span100_df, roc_auc_figure, death_in_hosp_span100_bootstrapping_data, death_in_hosp_span100_testing_data = evaluate_method('inv_span100', data_df[~data_df['span100_prob'].isna()], ground_truth='Death in hospital')\n",
    "death_in_hosp_span100_df['method_name'] = 'span100'\n",
    "roc_auc_figure"
   ]
  },
  {
   "cell_type": "code",
   "execution_count": null,
   "metadata": {
    "ExecuteTime": {
     "end_time": "2024-03-04T08:07:23.616753Z",
     "start_time": "2024-03-04T08:07:23.594810Z"
    }
   },
   "outputs": [],
   "source": [
    "death_in_hospital_df = pd.concat([death_in_hosp_thriveC_df, death_in_hosp_thrive_df, death_in_hosp_hiat_df, death_in_hosp_span100_df])"
   ]
  },
  {
   "cell_type": "code",
   "execution_count": null,
   "metadata": {
    "ExecuteTime": {
     "end_time": "2024-03-04T08:07:23.625816Z",
     "start_time": "2024-03-04T08:07:23.599312Z"
    }
   },
   "outputs": [],
   "source": [
    "death_in_hospital_df"
   ]
  },
  {
   "cell_type": "code",
   "execution_count": null,
   "metadata": {
    "ExecuteTime": {
     "end_time": "2024-03-04T08:09:19.726031Z",
     "start_time": "2024-03-04T08:09:19.702859Z"
    }
   },
   "outputs": [],
   "source": [
    "death_in_hospital_THRIVE_C_output_dir = os.path.join(output_dir, 'THRIVE_C_death_in_hospital_predictions')\n",
    "ensure_dir(death_in_hospital_THRIVE_C_output_dir)\n",
    "death_in_hospital_df.to_csv(os.path.join(death_in_hospital_THRIVE_C_output_dir, 'death_in_hospital_results.csv'))\n",
    "# pickle.dump(death_in_hosp_THRIVE_C_bootstrapping_data, open(os.path.join(death_in_hospital_THRIVE_C_output_dir, 'death_in_hospital_bootstrapped_gt_and_pred.pkl'), 'wb'))\n",
    "# pickle.dump(death_in_hosp_THRIVE_C_testing_data, open(os.path.join(death_in_hospital_THRIVE_C_output_dir, 'death_in_hospital_test_gt_and_pred.pkl'), 'wb'))\n"
   ]
  },
  {
   "cell_type": "code",
   "execution_count": null,
   "metadata": {
    "ExecuteTime": {
     "start_time": "2024-03-04T08:05:20.231482Z"
    }
   },
   "outputs": [],
   "source": []
  }
 ],
 "metadata": {
  "kernelspec": {
   "display_name": "Python 3",
   "language": "python",
   "name": "python3"
  },
  "language_info": {
   "codemirror_mode": {
    "name": "ipython",
    "version": 2
   },
   "file_extension": ".py",
   "mimetype": "text/x-python",
   "name": "python",
   "nbconvert_exporter": "python",
   "pygments_lexer": "ipython2",
   "version": "2.7.6"
  }
 },
 "nbformat": 4,
 "nbformat_minor": 0
}
