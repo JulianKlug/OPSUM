{
 "cells": [
  {
   "cell_type": "code",
   "execution_count": null,
   "metadata": {
    "ExecuteTime": {
     "end_time": "2023-05-03T17:12:22.250913Z",
     "start_time": "2023-05-03T17:12:18.767014Z"
    }
   },
   "outputs": [],
   "source": [
    "import pandas as pd\n",
    "from baseline_scores import hiat_score, thrive_score, span100_score\n",
    "import os\n",
    "import numpy as np\n",
    "import matplotlib.pyplot as plt\n",
    "from prediction.outcome_prediction.baseline_models.evaluation_helper_functions import evaluate_method"
   ]
  },
  {
   "cell_type": "code",
   "execution_count": null,
   "metadata": {
    "ExecuteTime": {
     "end_time": "2023-05-03T17:12:22.258407Z",
     "start_time": "2023-05-03T17:12:22.251732Z"
    }
   },
   "outputs": [],
   "source": [
    "stroke_registry_path = '/Users/jk1/OneDrive - unige.ch/stroke_research/geneva_stroke_unit_dataset/data/stroke_registry/post_hoc_modified/stroke_registry_post_hoc_modified.xlsx'\n",
    "preprocessed_features_path = '/Users/jk1/temp/opsum_prepro_output/gsu_prepro_01012023_233050/preprocessed_features_01012023_233050.csv'\n",
    "preprocessed_outcomes_path = '/Users/jk1/temp/opsum_prepro_output/gsu_prepro_01012023_233050/preprocessed_outcomes_01012023_233050.csv'"
   ]
  },
  {
   "cell_type": "code",
   "execution_count": null,
   "metadata": {
    "ExecuteTime": {
     "end_time": "2023-05-03T17:12:22.263106Z",
     "start_time": "2023-05-03T17:12:22.259522Z"
    }
   },
   "outputs": [],
   "source": [
    "output_dir = '/Users/jk1/Downloads'"
   ]
  },
  {
   "cell_type": "code",
   "execution_count": null,
   "metadata": {
    "ExecuteTime": {
     "end_time": "2023-05-03T17:12:22.268644Z",
     "start_time": "2023-05-03T17:12:22.263996Z"
    }
   },
   "outputs": [],
   "source": [
    "outcome = '3M mRS'"
   ]
  },
  {
   "cell_type": "code",
   "execution_count": null,
   "metadata": {
    "ExecuteTime": {
     "end_time": "2023-05-03T17:12:35.314158Z",
     "start_time": "2023-05-03T17:12:22.269391Z"
    }
   },
   "outputs": [],
   "source": [
    "from preprocessing.geneva_stroke_unit_preprocessing.utils import create_registry_case_identification_column\n",
    "\n",
    "data_df = pd.read_excel(stroke_registry_path)\n",
    "data_df['case_admission_id'] = create_registry_case_identification_column(data_df)"
   ]
  },
  {
   "cell_type": "code",
   "execution_count": null,
   "metadata": {
    "ExecuteTime": {
     "end_time": "2023-05-03T17:12:44.894129Z",
     "start_time": "2023-05-03T17:12:35.319886Z"
    }
   },
   "outputs": [],
   "source": [
    "outcomes_df = pd.read_csv(preprocessed_outcomes_path)\n",
    "features_df = pd.read_csv(preprocessed_features_path)\n",
    "patient_selection = outcomes_df[(outcomes_df.case_admission_id.isin(features_df.case_admission_id.unique())) & (\n",
    "            ~outcomes_df[outcome].isnull())].case_admission_id.unique()"
   ]
  },
  {
   "cell_type": "code",
   "execution_count": null,
   "metadata": {
    "ExecuteTime": {
     "end_time": "2023-05-03T17:12:44.947577Z",
     "start_time": "2023-05-03T17:12:44.894803Z"
    }
   },
   "outputs": [],
   "source": [
    "data_df = data_df[data_df.case_admission_id.isin(patient_selection)]"
   ]
  },
  {
   "cell_type": "code",
   "execution_count": null,
   "metadata": {
    "ExecuteTime": {
     "end_time": "2023-05-03T17:12:45.090168Z",
     "start_time": "2023-05-03T17:12:44.947962Z"
    }
   },
   "outputs": [],
   "source": [
    "data_df = pd.merge(data_df, outcomes_df[['case_admission_id', '3M mRS 0-1', '3M mRS 0-2', '3M Death']], how='left', on='case_admission_id')"
   ]
  },
  {
   "cell_type": "code",
   "execution_count": null,
   "metadata": {
    "ExecuteTime": {
     "end_time": "2023-05-03T17:12:45.094902Z",
     "start_time": "2023-05-03T17:12:45.088796Z"
    }
   },
   "outputs": [],
   "source": [
    "# data_df['3M mRS 0-1'] = np.where(data_df['3M mRS'].isna(), np.nan, np.where(data_df['3M mRS'] <= 1, 1, 0))\n",
    "# data_df['3M mRS 0-2'] = np.where(data_df['3M mRS'].isna(), np.nan, np.where(data_df['3M mRS'] <= 2, 1, 0))"
   ]
  },
  {
   "cell_type": "code",
   "execution_count": null,
   "metadata": {
    "ExecuteTime": {
     "end_time": "2023-05-03T17:12:45.102330Z",
     "start_time": "2023-05-03T17:12:45.095717Z"
    }
   },
   "outputs": [],
   "source": [
    "# mrs forwarding (model simply outputs premorbid mrs)\n",
    "data_df['mrs01_forwarding good outcome pred'] = data_df['Prestroke disability (Rankin)'] <= 1\n",
    "data_df['mrs01_forwarding_prob'] = data_df['Prestroke disability (Rankin)'] <= 1\n",
    "data_df['mrs02_forwarding good outcome pred'] = data_df['Prestroke disability (Rankin)'] <= 2\n",
    "data_df['mrs02_forwarding_prob'] = data_df['Prestroke disability (Rankin)'] <= 2"
   ]
  },
  {
   "cell_type": "code",
   "execution_count": null,
   "metadata": {
    "ExecuteTime": {
     "end_time": "2023-05-03T17:12:45.180444Z",
     "start_time": "2023-05-03T17:12:45.104392Z"
    }
   },
   "outputs": [],
   "source": [
    "data_df['HIAT_prob'] =  data_df.apply(\n",
    "    lambda subject: hiat_score(\n",
    "        subject['Age (calc.)'],\n",
    "        subject['NIH on admission'],\n",
    "        subject['1st glucose']),\n",
    "    axis=1)\n",
    "\n",
    "# defined as mRS < 4 at discharge\n",
    "data_df['HIAT good outcome pred'] = data_df['HIAT_prob'] > 0.5"
   ]
  },
  {
   "cell_type": "code",
   "execution_count": null,
   "metadata": {
    "ExecuteTime": {
     "end_time": "2023-05-03T17:12:45.227675Z",
     "start_time": "2023-05-03T17:12:45.182299Z"
    }
   },
   "outputs": [],
   "source": [
    "data_df['span100_prob'] =  data_df.apply(\n",
    "    lambda subject: span100_score(\n",
    "        subject['Age (calc.)'],\n",
    "        subject['NIH on admission']),\n",
    "    axis=1)\n",
    "data_df['span100 good outcome pred'] = data_df['span100_prob'] > 0.5"
   ]
  },
  {
   "cell_type": "code",
   "execution_count": null,
   "metadata": {
    "ExecuteTime": {
     "end_time": "2023-05-03T17:12:45.293901Z",
     "start_time": "2023-05-03T17:12:45.225939Z"
    }
   },
   "outputs": [],
   "source": [
    "data_df['THRIVE_prob'] = data_df.apply(\n",
    "    lambda subject: thrive_score(\n",
    "        subject['Age (calc.)'],\n",
    "        subject['NIH on admission'],\n",
    "        subject['MedHist Hypertension'],\n",
    "        subject['MedHist Diabetes'],\n",
    "        subject['MedHist Atrial Fibr.']\n",
    "    ),\n",
    "    axis=1)\n",
    "\n",
    "data_df['THRIVE good outcome pred'] = data_df['THRIVE_prob'] > 0.5"
   ]
  },
  {
   "cell_type": "code",
   "execution_count": null,
   "metadata": {
    "ExecuteTime": {
     "end_time": "2023-05-03T17:12:45.367504Z",
     "start_time": "2023-05-03T17:12:45.295829Z"
    }
   },
   "outputs": [],
   "source": [
    "from prediction.outcome_prediction.baseline_models.baseline_scores import thriveC_score\n",
    "\n",
    "data_df['THRIVEC_prob'] = data_df.apply(\n",
    "    lambda subject: thriveC_score(\n",
    "        subject['Age (calc.)'],\n",
    "        subject['NIH on admission'],\n",
    "        subject['MedHist Hypertension'],\n",
    "        subject['MedHist Diabetes'],\n",
    "        subject['MedHist Atrial Fibr.']\n",
    "    ),\n",
    "    axis=1)\n",
    "\n",
    "data_df['THRIVEC good outcome pred'] = data_df['THRIVEC_prob'] > 0.5"
   ]
  },
  {
   "cell_type": "code",
   "execution_count": null,
   "metadata": {
    "ExecuteTime": {
     "end_time": "2023-05-03T17:12:45.406927Z",
     "start_time": "2023-05-03T17:12:45.368059Z"
    }
   },
   "outputs": [],
   "source": [
    "extracted_df = data_df[['Age (calc.)',\n",
    "        'NIH on admission',\n",
    "        'MedHist Hypertension',\n",
    "        'MedHist Diabetes',\n",
    "        'MedHist Atrial Fibr.', 'THRIVE_prob', 'THRIVE good outcome pred', 'THRIVEC_prob', 'THRIVEC good outcome pred']]\n",
    "extracted_df"
   ]
  },
  {
   "cell_type": "code",
   "execution_count": null,
   "metadata": {
    "ExecuteTime": {
     "end_time": "2023-05-03T17:30:55.752149Z",
     "start_time": "2023-05-03T17:30:55.744445Z"
    }
   },
   "outputs": [],
   "source": [
    "extracted_df[extracted_df.THRIVE_prob.isna()]"
   ]
  },
  {
   "cell_type": "code",
   "execution_count": null,
   "metadata": {
    "ExecuteTime": {
     "end_time": "2023-05-03T17:49:26.413646Z",
     "start_time": "2023-05-03T17:48:41.810050Z"
    }
   },
   "outputs": [],
   "source": [
    "thrive_df, roc_auc_figure, _, _ = evaluate_method('THRIVE', data_df[~data_df['THRIVE_prob'].isna()], ground_truth='3M mRS 0-2')\n",
    "thrive_df['method_name'] = 'THRIVE'\n",
    "roc_auc_figure\n",
    "plt.show()\n",
    "thriveC_df, roc_auc_figure, THRIVE_C_bootstrapping_data, THRIVE_C_testing_data = evaluate_method('THRIVEC', data_df[~data_df['THRIVEC_prob'].isna()], ground_truth='3M mRS 0-2')\n",
    "thriveC_df['method_name'] = 'THRIVEC'\n",
    "roc_auc_figure\n",
    "plt.show()\n",
    "hiat_df, roc_auc_figure, _, _ = evaluate_method('HIAT', data_df[~data_df['HIAT_prob'].isna()], ground_truth='3M mRS 0-2')\n",
    "roc_auc_figure\n",
    "hiat_df['method_name'] = 'HIAT'\n",
    "plt.show()\n",
    "span100_df, roc_auc_figure, _, _ = evaluate_method('span100', data_df[~data_df['span100_prob'].isna()], ground_truth='3M mRS 0-2')\n",
    "span100_df['method_name'] = 'span100'\n",
    "roc_auc_figure\n",
    "plt.show()\n",
    "mrs02_forwarding_df, roc_auc_figure, _, _ = evaluate_method('mrs02_forwarding', data_df[~data_df['mrs02_forwarding_prob'].isna()], ground_truth='3M mRS 0-2')\n",
    "mrs02_forwarding_df['method_name'] = 'mrs02_forwarding'\n",
    "\n",
    "mrs02_result_df = pd.concat([thrive_df, thriveC_df, hiat_df, span100_df, mrs02_forwarding_df])\n",
    "mrs02_result_df"
   ]
  },
  {
   "cell_type": "code",
   "execution_count": null,
   "metadata": {
    "ExecuteTime": {
     "end_time": "2023-04-26T09:47:42.765588Z",
     "start_time": "2023-04-26T09:47:42.714906Z"
    }
   },
   "outputs": [],
   "source": [
    "# from prediction.utils.utils import ensure_dir\n",
    "# save bootstrapped ground truth and predictions\n",
    "import pickle\n",
    "# THRIVE_C_output_dir = os.path.join(output_dir, 'THRIVE_C_predictions')\n",
    "# ensure_dir(THRIVE_C_output_dir)\n",
    "# thriveC_df.to_csv(os.path.join(THRIVE_C_output_dir, 'thriveC_mrs02_results.csv'))\n",
    "# pickle.dump(THRIVE_C_bootstrapping_data, open(os.path.join(THRIVE_C_output_dir, 'bootstrapped_gt_and_pred.pkl'), 'wb'))\n",
    "# pickle.dump(THRIVE_C_testing_data, open(os.path.join(THRIVE_C_output_dir, 'test_gt_and_pred.pkl'), 'wb'))"
   ]
  },
  {
   "cell_type": "code",
   "execution_count": null,
   "metadata": {
    "ExecuteTime": {
     "end_time": "2023-05-03T17:32:27.954565Z",
     "start_time": "2023-05-03T17:31:41.793153Z"
    }
   },
   "outputs": [],
   "source": [
    "thrive_df, roc_auc_figure, _, _ = evaluate_method('THRIVE', data_df[~data_df['THRIVE_prob'].isna()], ground_truth='3M mRS 0-1')\n",
    "thrive_df['method_name'] = 'THRIVE'\n",
    "plt.show()\n",
    "thriveC_df, roc_auc_figure, _, _ = evaluate_method('THRIVEC', data_df[~data_df['THRIVEC_prob'].isna()], ground_truth='3M mRS 0-1')\n",
    "thriveC_df['method_name'] = 'THRIVEC'\n",
    "plt.show()\n",
    "hiat_df, roc_auc_figure, _, _ = evaluate_method('HIAT', data_df[~data_df['HIAT_prob'].isna()], ground_truth='3M mRS 0-1')\n",
    "hiat_df['method_name'] = 'HIAT'\n",
    "plt.show()\n",
    "span100_df, roc_auc_figure, _, _ = evaluate_method('span100', data_df[~data_df['span100_prob'].isna()], ground_truth='3M mRS 0-1')\n",
    "span100_df['method_name'] = 'span100'\n",
    "plt.show()\n",
    "mrs01_forwarding_df, roc_auc_figure, _, _ = evaluate_method('mrs01_forwarding', data_df[~data_df['mrs01_forwarding_prob'].isna()], ground_truth='3M mRS 0-1')\n",
    "mrs01_forwarding_df['method_name'] = 'mrs01_forwarding'\n",
    "plt.show()\n",
    "\n",
    "mrs01_result_df = pd.concat([thrive_df, thriveC_df, hiat_df, span100_df, mrs01_forwarding_df])\n",
    "mrs01_result_df"
   ]
  },
  {
   "cell_type": "code",
   "execution_count": null,
   "metadata": {
    "ExecuteTime": {
     "end_time": "2023-05-03T17:49:26.425492Z",
     "start_time": "2023-05-03T17:49:26.416263Z"
    }
   },
   "outputs": [],
   "source": [
    "# mrs02_result_df.to_csv(os.path.join(output_dir, 'mrs02_clinical_scores_results.csv'))\n",
    "# mrs01_result_df.to_csv(os.path.join(output_dir, 'mrs01_clinical_scores_results.csv'))"
   ]
  },
  {
   "cell_type": "markdown",
   "metadata": {
    "collapsed": false
   },
   "source": [
    "Evaluating for death at 3 months"
   ]
  },
  {
   "cell_type": "code",
   "execution_count": null,
   "metadata": {
    "ExecuteTime": {
     "end_time": "2023-04-26T09:50:00.250631Z",
     "start_time": "2023-04-26T09:50:00.250350Z"
    }
   },
   "outputs": [],
   "source": [
    "data_df['inv_THRIVEC_prob'] = 1 - data_df['THRIVEC_prob']\n",
    "data_df['inv_THRIVEC good outcome pred'] = data_df['inv_THRIVEC_prob'] > 0.5"
   ]
  },
  {
   "cell_type": "code",
   "execution_count": null,
   "metadata": {
    "ExecuteTime": {
     "end_time": "2023-04-26T09:50:09.187413Z",
     "start_time": "2023-04-26T09:50:00.760617Z"
    }
   },
   "outputs": [],
   "source": [
    "death_thriveC_df, roc_auc_figure, death_THRIVE_C_bootstrapping_data, death_THRIVE_C_testing_data = evaluate_method('inv_THRIVEC', data_df[~data_df['THRIVEC_prob'].isna()], ground_truth='3M Death')\n",
    "roc_auc_figure\n",
    "plt.show()"
   ]
  },
  {
   "cell_type": "code",
   "execution_count": null,
   "metadata": {
    "ExecuteTime": {
     "end_time": "2023-04-26T09:50:11.191200Z",
     "start_time": "2023-04-26T09:50:11.180248Z"
    }
   },
   "outputs": [],
   "source": [
    "death_THRIVE_C_output_dir = os.path.join(output_dir, 'THRIVE_C_3m_death_predictions')\n",
    "ensure_dir(death_THRIVE_C_output_dir)\n",
    "death_thriveC_df.to_csv(os.path.join(death_THRIVE_C_output_dir, '3m_death_results.csv'))\n",
    "# pickle.dump(death_THRIVE_C_bootstrapping_data, open(os.path.join(death_THRIVE_C_output_dir, '3m_death_bootstrapped_gt_and_pred.pkl'), 'wb'))\n",
    "# pickle.dump(death_THRIVE_C_testing_data, open(os.path.join(death_THRIVE_C_output_dir, '3m_death_test_gt_and_pred.pkl'), 'wb'))"
   ]
  },
  {
   "cell_type": "code",
   "execution_count": null,
   "metadata": {},
   "outputs": [],
   "source": []
  }
 ],
 "metadata": {
  "kernelspec": {
   "display_name": "Python 3",
   "language": "python",
   "name": "python3"
  },
  "language_info": {
   "codemirror_mode": {
    "name": "ipython",
    "version": 2
   },
   "file_extension": ".py",
   "mimetype": "text/x-python",
   "name": "python",
   "nbconvert_exporter": "python",
   "pygments_lexer": "ipython2",
   "version": "2.7.6"
  }
 },
 "nbformat": 4,
 "nbformat_minor": 0
}
