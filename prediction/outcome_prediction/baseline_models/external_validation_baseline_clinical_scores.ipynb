{
 "cells": [
  {
   "cell_type": "code",
   "execution_count": null,
   "metadata": {
    "ExecuteTime": {
     "end_time": "2024-02-24T16:00:55.004829Z",
     "start_time": "2024-02-24T16:00:49.808928Z"
    }
   },
   "outputs": [],
   "source": [
    "import os\n",
    "import pickle\n",
    "from prediction.outcome_prediction.baseline_models.baseline_scores import hiat_score, span100_score, thriveC_score, \\\n",
    "    thrive_score\n",
    "from prediction.outcome_prediction.baseline_models.evaluation_helper_functions import evaluate_method\n",
    "from prediction.outcome_prediction.data_loading.data_loader import load_external_data\n",
    "import pandas as pd\n",
    "\n",
    "from preprocessing.preprocessing_tools.normalisation.reverse_normalisation import reverse_normalisation"
   ]
  },
  {
   "cell_type": "code",
   "execution_count": null,
   "metadata": {
    "ExecuteTime": {
     "end_time": "2024-02-24T16:00:55.014076Z",
     "start_time": "2024-02-24T16:00:55.006646Z"
    }
   },
   "outputs": [],
   "source": [
    "external_features_df_path = '/Users/jk1/temp/opsum_mimic/preprocessing/mimic_prepro_25012023_232713/preprocessed_features_25012023_232713.csv'\n",
    "external_outcomes_df_path = '/Users/jk1/temp/opsum_mimic/preprocessing/mimic_prepro_25012023_232713/preprocessed_outcomes_25012023_232713.csv'\n",
    "outcome = 'Death in hospital'\n",
    "\n",
    "normalisation_parameters_path = '/Users/jk1/temp/opsum_mimic/preprocessing/mimic_prepro_25012023_232713/logs_25012023_232713/reference_population_normalisation_parameters.csv'\n",
    "\n",
    "output_dir = '/Users/jk1/Downloads'"
   ]
  },
  {
   "cell_type": "markdown",
   "metadata": {
    "collapsed": false
   },
   "source": [
    "## Prepare data"
   ]
  },
  {
   "cell_type": "code",
   "execution_count": null,
   "metadata": {
    "ExecuteTime": {
     "end_time": "2024-02-24T16:01:01.385974Z",
     "start_time": "2024-02-24T16:00:55.009652Z"
    }
   },
   "outputs": [],
   "source": [
    "test_X_np, test_y_np, test_features_lookup_table = load_external_data(external_features_df_path, external_outcomes_df_path,\n",
    "                                                                          outcome)"
   ]
  },
  {
   "cell_type": "code",
   "execution_count": null,
   "metadata": {
    "ExecuteTime": {
     "end_time": "2024-02-24T16:01:01.402707Z",
     "start_time": "2024-02-24T16:01:01.388078Z"
    }
   },
   "outputs": [],
   "source": [
    "admission_test_X_np = test_X_np[:,0,:]"
   ]
  },
  {
   "cell_type": "code",
   "execution_count": null,
   "metadata": {
    "ExecuteTime": {
     "end_time": "2024-02-24T16:01:01.404227Z",
     "start_time": "2024-02-24T16:01:01.395533Z"
    }
   },
   "outputs": [],
   "source": [
    "test_X_np.shape, admission_test_X_np.shape, test_y_np.shape"
   ]
  },
  {
   "cell_type": "code",
   "execution_count": null,
   "metadata": {
    "ExecuteTime": {
     "end_time": "2024-02-24T16:01:01.424843Z",
     "start_time": "2024-02-24T16:01:01.400499Z"
    }
   },
   "outputs": [],
   "source": [
    "admission_test_X_df = pd.DataFrame(admission_test_X_np, columns=test_features_lookup_table['sample_label'])\n",
    "admission_test_X_df = admission_test_X_df.reset_index().rename(columns={'index': 'pidx'}).melt(id_vars='pidx',\n",
    "                                                                                                   var_name='sample_label',\n",
    "                                                                                                   value_name='value')"
   ]
  },
  {
   "cell_type": "code",
   "execution_count": null,
   "metadata": {
    "ExecuteTime": {
     "end_time": "2024-02-24T16:01:01.446392Z",
     "start_time": "2024-02-24T16:01:01.409969Z"
    }
   },
   "outputs": [],
   "source": [
    "outcomes_df = pd.DataFrame(test_y_np, columns=[outcome])"
   ]
  },
  {
   "cell_type": "code",
   "execution_count": null,
   "metadata": {
    "ExecuteTime": {
     "end_time": "2024-02-24T16:01:01.834427Z",
     "start_time": "2024-02-24T16:01:01.413891Z"
    }
   },
   "outputs": [],
   "source": [
    "# load normalisation parameters\n",
    "normalisation_parameters_df = pd.read_csv(normalisation_parameters_path)\n",
    "\n",
    "non_norm_admission_test_X_df = reverse_normalisation(admission_test_X_df, normalisation_parameters_df)"
   ]
  },
  {
   "cell_type": "code",
   "execution_count": null,
   "metadata": {
    "ExecuteTime": {
     "end_time": "2024-02-24T16:01:20.235617Z",
     "start_time": "2024-02-24T16:01:20.210313Z"
    }
   },
   "outputs": [],
   "source": [
    "# reverse melting\n",
    "non_norm_admission_test_X_df = non_norm_admission_test_X_df.pivot(index='pidx', columns='sample_label', values='value').reset_index().rename(columns={'index': 'pidx'})"
   ]
  },
  {
   "cell_type": "code",
   "execution_count": null,
   "metadata": {
    "ExecuteTime": {
     "end_time": "2024-02-24T16:01:47.805424Z",
     "start_time": "2024-02-24T16:01:47.791619Z"
    }
   },
   "outputs": [],
   "source": [
    "non_norm_admission_test_df = pd.concat([non_norm_admission_test_X_df, outcomes_df], axis=1)\n",
    "non_norm_admission_test_df.rename(columns={'pidx': 'case_admission_id'}, inplace=True)"
   ]
  },
  {
   "cell_type": "code",
   "execution_count": null,
   "metadata": {
    "ExecuteTime": {
     "end_time": "2024-02-24T16:01:49.036581Z",
     "start_time": "2024-02-24T16:01:49.017298Z"
    }
   },
   "outputs": [],
   "source": [
    "non_norm_admission_test_df"
   ]
  },
  {
   "cell_type": "markdown",
   "metadata": {
    "collapsed": false
   },
   "source": [
    "## Create baseline clinical scores"
   ]
  },
  {
   "cell_type": "code",
   "execution_count": null,
   "metadata": {
    "ExecuteTime": {
     "end_time": "2024-02-24T16:01:59.938247Z",
     "start_time": "2024-02-24T16:01:59.914497Z"
    }
   },
   "outputs": [],
   "source": [
    "non_norm_admission_test_df['HIAT_prob'] =  non_norm_admission_test_df.apply(\n",
    "    lambda subject: hiat_score(\n",
    "        subject['age'],\n",
    "        subject['median_NIHSS'],\n",
    "        subject['glucose']),\n",
    "    axis=1)\n",
    "\n",
    "# defined as mRS < 4 at discharge\n",
    "non_norm_admission_test_df['HIAT good outcome pred'] = non_norm_admission_test_df['HIAT_prob'] > 0.5"
   ]
  },
  {
   "cell_type": "code",
   "execution_count": null,
   "metadata": {
    "ExecuteTime": {
     "end_time": "2024-02-24T16:02:00.594870Z",
     "start_time": "2024-02-24T16:02:00.567257Z"
    }
   },
   "outputs": [],
   "source": [
    "non_norm_admission_test_df['span100_prob'] =  non_norm_admission_test_df.apply(\n",
    "    lambda subject: span100_score(\n",
    "        subject['age'],\n",
    "        subject['median_NIHSS']),\n",
    "    axis=1)\n",
    "non_norm_admission_test_df['span100 good outcome pred'] = non_norm_admission_test_df['span100_prob'] > 0.5"
   ]
  },
  {
   "cell_type": "code",
   "execution_count": null,
   "metadata": {
    "ExecuteTime": {
     "end_time": "2024-02-24T16:02:01.093231Z",
     "start_time": "2024-02-24T16:02:01.082322Z"
    }
   },
   "outputs": [],
   "source": [
    "non_norm_admission_test_df['THRIVE_prob'] = non_norm_admission_test_df.apply(\n",
    "    lambda subject: thrive_score(\n",
    "        subject['age'],\n",
    "        subject['median_NIHSS'],\n",
    "        subject['medhist_hypertension_yes'],\n",
    "        subject['medhist_diabetes_yes'],\n",
    "        subject['medhist_atrial_fibr._yes']\n",
    "    ),\n",
    "    axis=1)\n",
    "\n",
    "non_norm_admission_test_df['THRIVE good outcome pred'] = non_norm_admission_test_df['THRIVE_prob'] > 0.5"
   ]
  },
  {
   "cell_type": "code",
   "execution_count": null,
   "metadata": {
    "ExecuteTime": {
     "end_time": "2024-02-24T16:02:01.596613Z",
     "start_time": "2024-02-24T16:02:01.584822Z"
    }
   },
   "outputs": [],
   "source": [
    "non_norm_admission_test_df['THRIVEC_prob'] = non_norm_admission_test_df.apply(\n",
    "    lambda subject: thriveC_score(\n",
    "        subject['age'],\n",
    "        subject['median_NIHSS'],\n",
    "        subject['medhist_hypertension_yes'],\n",
    "        subject['medhist_diabetes_yes'],\n",
    "        subject['medhist_atrial_fibr._yes']\n",
    "    ),\n",
    "    axis=1)\n",
    "\n",
    "non_norm_admission_test_df['THRIVEC good outcome pred'] = non_norm_admission_test_df['THRIVEC_prob'] > 0.5"
   ]
  },
  {
   "cell_type": "code",
   "execution_count": null,
   "metadata": {
    "ExecuteTime": {
     "end_time": "2024-02-24T16:02:02.158183Z",
     "start_time": "2024-02-24T16:02:02.140872Z"
    }
   },
   "outputs": [],
   "source": [
    "non_norm_admission_test_df[['age', 'median_NIHSS',\n",
    "        'medhist_hypertension_yes',\n",
    "        'medhist_diabetes_yes',\n",
    "        'medhist_atrial_fibr._yes',\n",
    "        'THRIVE_prob', 'THRIVE good outcome pred', 'THRIVEC_prob', 'THRIVEC good outcome pred']]"
   ]
  },
  {
   "cell_type": "markdown",
   "metadata": {
    "collapsed": false
   },
   "source": [
    "Computes inverse scores to predict bad outcome"
   ]
  },
  {
   "cell_type": "code",
   "execution_count": null,
   "metadata": {
    "ExecuteTime": {
     "end_time": "2024-02-24T16:02:11.672363Z",
     "start_time": "2024-02-24T16:02:11.660295Z"
    }
   },
   "outputs": [],
   "source": [
    "non_norm_admission_test_df['inv_THRIVEC_prob'] = 1 - non_norm_admission_test_df['THRIVEC_prob']\n",
    "non_norm_admission_test_df['inv_THRIVEC good outcome pred'] = non_norm_admission_test_df['inv_THRIVEC_prob'] > 0.5\n",
    "\n",
    "non_norm_admission_test_df['inv_THRIVE_prob'] = 1 - non_norm_admission_test_df['THRIVE_prob']\n",
    "non_norm_admission_test_df['inv_THRIVE good outcome pred'] = non_norm_admission_test_df['inv_THRIVE_prob'] > 0.5\n",
    "\n",
    "non_norm_admission_test_df['inv_HIAT_prob'] = 1 - non_norm_admission_test_df['HIAT_prob']\n",
    "non_norm_admission_test_df['inv_HIAT good outcome pred'] = non_norm_admission_test_df['inv_HIAT_prob'] > 0.5\n",
    "\n",
    "non_norm_admission_test_df['inv_span100_prob'] = 1 - non_norm_admission_test_df['span100_prob']\n",
    "non_norm_admission_test_df['inv_span100 good outcome pred'] = non_norm_admission_test_df['inv_span100_prob'] > 0.5"
   ]
  },
  {
   "cell_type": "code",
   "execution_count": null,
   "metadata": {
    "ExecuteTime": {
     "end_time": "2024-02-24T16:02:38.146557Z",
     "start_time": "2024-02-24T16:02:12.777290Z"
    }
   },
   "outputs": [],
   "source": [
    "outcome_thriveC_df, roc_auc_figure, outcome_THRIVE_C_bootstrapping_data, outcome_THRIVE_C_testing_data = evaluate_method('inv_THRIVEC', non_norm_admission_test_df[~non_norm_admission_test_df['THRIVEC_prob'].isna()], ground_truth=outcome)\n",
    "outcome_thriveC_df['method_name'] = 'THRIVEC'\n",
    "roc_auc_figure\n",
    "\n",
    "outcome_thrive_df, roc_auc_figure, outcome_THRIVE_bootstrapping_data, outcome_THRIVE_testing_data = evaluate_method('inv_THRIVE', non_norm_admission_test_df[~non_norm_admission_test_df['THRIVE_prob'].isna()], ground_truth=outcome)\n",
    "outcome_thrive_df['method_name'] = 'THRIVE'\n",
    "roc_auc_figure\n",
    "\n",
    "outcome_hiat_df, roc_auc_figure, outcome_HIAT_bootstrapping_data, outcome_HIAT_testing_data = evaluate_method('inv_HIAT', non_norm_admission_test_df[~non_norm_admission_test_df['HIAT_prob'].isna()], ground_truth=outcome)\n",
    "outcome_hiat_df['method_name'] = 'HIAT'\n",
    "roc_auc_figure\n",
    "\n",
    "outcome_span100_df, roc_auc_figure, outcome_span100_bootstrapping_data, outcome_span100_testing_data = evaluate_method('inv_span100', non_norm_admission_test_df[~non_norm_admission_test_df['span100_prob'].isna()], ground_truth=outcome)\n",
    "outcome_span100_df['method_name'] = 'span100'\n",
    "roc_auc_figure"
   ]
  },
  {
   "cell_type": "code",
   "execution_count": null,
   "metadata": {
    "ExecuteTime": {
     "end_time": "2024-02-24T16:02:38.179154Z",
     "start_time": "2024-02-24T16:02:38.147083Z"
    }
   },
   "outputs": [],
   "source": [
    "mimic_outcome_df = pd.concat([outcome_thriveC_df, outcome_thrive_df, outcome_hiat_df, outcome_span100_df])\n",
    "mimic_outcome_df"
   ]
  },
  {
   "cell_type": "code",
   "execution_count": null,
   "metadata": {
    "ExecuteTime": {
     "end_time": "2024-02-24T16:03:45.724102Z",
     "start_time": "2024-02-24T16:03:45.696113Z"
    }
   },
   "outputs": [],
   "source": [
    "mimic_outcome_df.to_csv(os.path.join(output_dir, f'mimic_{\"_\".join(outcome.split(\" \"))}_baseline_score_results.csv'))"
   ]
  },
  {
   "cell_type": "code",
   "execution_count": null,
   "metadata": {
    "ExecuteTime": {
     "end_time": "2024-02-24T16:03:46.286363Z",
     "start_time": "2024-02-24T16:03:46.281065Z"
    }
   },
   "outputs": [],
   "source": [
    "pickle.dump(outcome_THRIVE_C_testing_data, open(os.path.join(output_dir, f'mimic_{\"_\".join(outcome.split(\" \"))}_test_gt_and_pred.pkl'), 'wb'))"
   ]
  },
  {
   "cell_type": "code",
   "execution_count": null,
   "metadata": {},
   "outputs": [],
   "source": []
  }
 ],
 "metadata": {
  "kernelspec": {
   "display_name": "Python 3",
   "language": "python",
   "name": "python3"
  },
  "language_info": {
   "codemirror_mode": {
    "name": "ipython",
    "version": 2
   },
   "file_extension": ".py",
   "mimetype": "text/x-python",
   "name": "python",
   "nbconvert_exporter": "python",
   "pygments_lexer": "ipython2",
   "version": "2.7.6"
  }
 },
 "nbformat": 4,
 "nbformat_minor": 0
}
