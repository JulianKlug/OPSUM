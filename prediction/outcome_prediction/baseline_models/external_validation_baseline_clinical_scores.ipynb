{
 "cells": [
  {
   "cell_type": "code",
   "execution_count": null,
   "metadata": {
    "ExecuteTime": {
     "end_time": "2024-03-04T08:08:52.056804Z",
     "start_time": "2024-03-04T08:08:46.923848Z"
    }
   },
   "outputs": [],
   "source": [
    "import os\n",
    "import pickle\n",
    "from prediction.outcome_prediction.baseline_models.baseline_scores import hiat_score, span100_score, thriveC_score, \\\n",
    "    thrive_score\n",
    "from prediction.outcome_prediction.baseline_models.evaluation_helper_functions import evaluate_method\n",
    "from prediction.outcome_prediction.data_loading.data_loader import load_external_data\n",
    "import pandas as pd\n",
    "\n",
    "from preprocessing.preprocessing_tools.normalisation.reverse_normalisation import reverse_normalisation"
   ]
  },
  {
   "cell_type": "code",
   "execution_count": null,
   "metadata": {
    "ExecuteTime": {
     "end_time": "2024-03-04T08:08:52.062640Z",
     "start_time": "2024-03-04T08:08:52.058552Z"
    }
   },
   "outputs": [],
   "source": [
    "external_features_df_path = '/Users/jk1/temp/opsum_mimic/preprocessing/mimic_prepro_25012023_232713/preprocessed_features_25012023_232713.csv'\n",
    "external_outcomes_df_path = '/Users/jk1/temp/opsum_mimic/preprocessing/mimic_prepro_25012023_232713/preprocessed_outcomes_25012023_232713.csv'\n",
    "outcome = 'Death in hospital'\n",
    "\n",
    "normalisation_parameters_path = '/Users/jk1/temp/opsum_mimic/preprocessing/mimic_prepro_25012023_232713/logs_25012023_232713/reference_population_normalisation_parameters.csv'\n",
    "\n",
    "output_dir = '/Users/jk1/Downloads'"
   ]
  },
  {
   "cell_type": "markdown",
   "metadata": {
    "collapsed": false
   },
   "source": [
    "## Prepare data"
   ]
  },
  {
   "cell_type": "code",
   "execution_count": null,
   "metadata": {
    "ExecuteTime": {
     "end_time": "2024-03-04T08:08:57.627319Z",
     "start_time": "2024-03-04T08:08:52.063031Z"
    }
   },
   "outputs": [],
   "source": [
    "test_X_np, test_y_np, test_features_lookup_table = load_external_data(external_features_df_path, external_outcomes_df_path,\n",
    "                                                                          outcome)"
   ]
  },
  {
   "cell_type": "code",
   "execution_count": null,
   "metadata": {
    "ExecuteTime": {
     "end_time": "2024-03-04T08:08:57.637837Z",
     "start_time": "2024-03-04T08:08:57.628708Z"
    }
   },
   "outputs": [],
   "source": [
    "admission_test_X_np = test_X_np[:,0,:]"
   ]
  },
  {
   "cell_type": "code",
   "execution_count": null,
   "metadata": {
    "ExecuteTime": {
     "end_time": "2024-03-04T08:08:57.655325Z",
     "start_time": "2024-03-04T08:08:57.638333Z"
    }
   },
   "outputs": [],
   "source": [
    "test_X_np.shape, admission_test_X_np.shape, test_y_np.shape"
   ]
  },
  {
   "cell_type": "code",
   "execution_count": null,
   "metadata": {
    "ExecuteTime": {
     "end_time": "2024-03-04T08:08:57.669213Z",
     "start_time": "2024-03-04T08:08:57.649265Z"
    }
   },
   "outputs": [],
   "source": [
    "admission_test_X_df = pd.DataFrame(admission_test_X_np, columns=test_features_lookup_table['sample_label'])\n",
    "admission_test_X_df = admission_test_X_df.reset_index().rename(columns={'index': 'pidx'}).melt(id_vars='pidx',\n",
    "                                                                                                   var_name='sample_label',\n",
    "                                                                                                   value_name='value')"
   ]
  },
  {
   "cell_type": "code",
   "execution_count": null,
   "metadata": {
    "ExecuteTime": {
     "end_time": "2024-03-04T08:08:57.670106Z",
     "start_time": "2024-03-04T08:08:57.657386Z"
    }
   },
   "outputs": [],
   "source": [
    "outcomes_df = pd.DataFrame(test_y_np, columns=[outcome])"
   ]
  },
  {
   "cell_type": "code",
   "execution_count": null,
   "metadata": {
    "ExecuteTime": {
     "end_time": "2024-03-04T08:08:57.943429Z",
     "start_time": "2024-03-04T08:08:57.662724Z"
    }
   },
   "outputs": [],
   "source": [
    "# load normalisation parameters\n",
    "normalisation_parameters_df = pd.read_csv(normalisation_parameters_path)\n",
    "\n",
    "non_norm_admission_test_X_df = reverse_normalisation(admission_test_X_df, normalisation_parameters_df)"
   ]
  },
  {
   "cell_type": "code",
   "execution_count": null,
   "metadata": {
    "ExecuteTime": {
     "end_time": "2024-03-04T08:08:57.965512Z",
     "start_time": "2024-03-04T08:08:57.940902Z"
    }
   },
   "outputs": [],
   "source": [
    "# reverse melting\n",
    "non_norm_admission_test_X_df = non_norm_admission_test_X_df.pivot(index='pidx', columns='sample_label', values='value').reset_index().rename(columns={'index': 'pidx'})"
   ]
  },
  {
   "cell_type": "code",
   "execution_count": null,
   "metadata": {
    "ExecuteTime": {
     "end_time": "2024-03-04T08:08:57.972331Z",
     "start_time": "2024-03-04T08:08:57.966530Z"
    }
   },
   "outputs": [],
   "source": [
    "non_norm_admission_test_df = pd.concat([non_norm_admission_test_X_df, outcomes_df], axis=1)\n",
    "non_norm_admission_test_df.rename(columns={'pidx': 'case_admission_id'}, inplace=True)"
   ]
  },
  {
   "cell_type": "code",
   "execution_count": null,
   "metadata": {
    "ExecuteTime": {
     "end_time": "2024-03-04T08:08:58.002268Z",
     "start_time": "2024-03-04T08:08:57.972745Z"
    }
   },
   "outputs": [],
   "source": [
    "non_norm_admission_test_df"
   ]
  },
  {
   "cell_type": "markdown",
   "metadata": {
    "collapsed": false
   },
   "source": [
    "## Create baseline clinical scores"
   ]
  },
  {
   "cell_type": "code",
   "execution_count": null,
   "metadata": {
    "ExecuteTime": {
     "end_time": "2024-03-04T08:08:58.014759Z",
     "start_time": "2024-03-04T08:08:58.004404Z"
    }
   },
   "outputs": [],
   "source": [
    "non_norm_admission_test_df['HIAT_prob'] =  non_norm_admission_test_df.apply(\n",
    "    lambda subject: hiat_score(\n",
    "        subject['age'],\n",
    "        subject['median_NIHSS'],\n",
    "        subject['glucose']),\n",
    "    axis=1)\n",
    "\n",
    "# defined as mRS < 4 at discharge\n",
    "non_norm_admission_test_df['HIAT good outcome pred'] = non_norm_admission_test_df['HIAT_prob'] > 0.5"
   ]
  },
  {
   "cell_type": "code",
   "execution_count": null,
   "metadata": {
    "ExecuteTime": {
     "end_time": "2024-03-04T08:08:58.037342Z",
     "start_time": "2024-03-04T08:08:58.015381Z"
    }
   },
   "outputs": [],
   "source": [
    "non_norm_admission_test_df['span100_prob'] =  non_norm_admission_test_df.apply(\n",
    "    lambda subject: span100_score(\n",
    "        subject['age'],\n",
    "        subject['median_NIHSS']),\n",
    "    axis=1)\n",
    "non_norm_admission_test_df['span100 good outcome pred'] = non_norm_admission_test_df['span100_prob'] > 0.5"
   ]
  },
  {
   "cell_type": "code",
   "execution_count": null,
   "metadata": {
    "ExecuteTime": {
     "end_time": "2024-03-04T08:08:58.053569Z",
     "start_time": "2024-03-04T08:08:58.027905Z"
    }
   },
   "outputs": [],
   "source": [
    "non_norm_admission_test_df['THRIVE_prob'] = non_norm_admission_test_df.apply(\n",
    "    lambda subject: thrive_score(\n",
    "        subject['age'],\n",
    "        subject['median_NIHSS'],\n",
    "        subject['medhist_hypertension_yes'],\n",
    "        subject['medhist_diabetes_yes'],\n",
    "        subject['medhist_atrial_fibr._yes']\n",
    "    ),\n",
    "    axis=1)\n",
    "\n",
    "non_norm_admission_test_df['THRIVE good outcome pred'] = non_norm_admission_test_df['THRIVE_prob'] > 0.5"
   ]
  },
  {
   "cell_type": "code",
   "execution_count": null,
   "metadata": {
    "ExecuteTime": {
     "end_time": "2024-03-04T08:08:58.096186Z",
     "start_time": "2024-03-04T08:08:58.041981Z"
    }
   },
   "outputs": [],
   "source": [
    "non_norm_admission_test_df['THRIVEC_prob'] = non_norm_admission_test_df.apply(\n",
    "    lambda subject: thriveC_score(\n",
    "        subject['age'],\n",
    "        subject['median_NIHSS'],\n",
    "        subject['medhist_hypertension_yes'],\n",
    "        subject['medhist_diabetes_yes'],\n",
    "        subject['medhist_atrial_fibr._yes']\n",
    "    ),\n",
    "    axis=1)\n",
    "\n",
    "non_norm_admission_test_df['THRIVEC good outcome pred'] = non_norm_admission_test_df['THRIVEC_prob'] > 0.5"
   ]
  },
  {
   "cell_type": "code",
   "execution_count": null,
   "metadata": {
    "ExecuteTime": {
     "end_time": "2024-03-04T08:08:58.097890Z",
     "start_time": "2024-03-04T08:08:58.057545Z"
    }
   },
   "outputs": [],
   "source": [
    "non_norm_admission_test_df[['age', 'median_NIHSS',\n",
    "        'medhist_hypertension_yes',\n",
    "        'medhist_diabetes_yes',\n",
    "        'medhist_atrial_fibr._yes',\n",
    "        'THRIVE_prob', 'THRIVE good outcome pred', 'THRIVEC_prob', 'THRIVEC good outcome pred']]"
   ]
  },
  {
   "cell_type": "markdown",
   "metadata": {
    "collapsed": false
   },
   "source": [
    "Computes inverse scores to predict bad outcome"
   ]
  },
  {
   "cell_type": "code",
   "execution_count": null,
   "metadata": {
    "ExecuteTime": {
     "end_time": "2024-03-04T08:08:58.098800Z",
     "start_time": "2024-03-04T08:08:58.082145Z"
    }
   },
   "outputs": [],
   "source": [
    "non_norm_admission_test_df['inv_THRIVEC_prob'] = 1 - non_norm_admission_test_df['THRIVEC_prob']\n",
    "non_norm_admission_test_df['inv_THRIVEC good outcome pred'] = non_norm_admission_test_df['inv_THRIVEC_prob'] > 0.5\n",
    "\n",
    "non_norm_admission_test_df['inv_THRIVE_prob'] = 1 - non_norm_admission_test_df['THRIVE_prob']\n",
    "non_norm_admission_test_df['inv_THRIVE good outcome pred'] = non_norm_admission_test_df['inv_THRIVE_prob'] > 0.5\n",
    "\n",
    "non_norm_admission_test_df['inv_HIAT_prob'] = 1 - non_norm_admission_test_df['HIAT_prob']\n",
    "non_norm_admission_test_df['inv_HIAT good outcome pred'] = non_norm_admission_test_df['inv_HIAT_prob'] > 0.5\n",
    "\n",
    "non_norm_admission_test_df['inv_span100_prob'] = 1 - non_norm_admission_test_df['span100_prob']\n",
    "non_norm_admission_test_df['inv_span100 good outcome pred'] = non_norm_admission_test_df['inv_span100_prob'] > 0.5"
   ]
  },
  {
   "cell_type": "code",
   "execution_count": null,
   "metadata": {
    "ExecuteTime": {
     "end_time": "2024-03-04T08:09:15.308554Z",
     "start_time": "2024-03-04T08:08:58.093438Z"
    }
   },
   "outputs": [],
   "source": [
    "outcome_thriveC_df, roc_auc_figure, outcome_THRIVE_C_bootstrapping_data, outcome_THRIVE_C_testing_data = evaluate_method('inv_THRIVEC', non_norm_admission_test_df[~non_norm_admission_test_df['THRIVEC_prob'].isna()], ground_truth=outcome)\n",
    "outcome_thriveC_df['method_name'] = 'THRIVEC'\n",
    "roc_auc_figure\n",
    "\n",
    "outcome_thrive_df, roc_auc_figure, outcome_THRIVE_bootstrapping_data, outcome_THRIVE_testing_data = evaluate_method('inv_THRIVE', non_norm_admission_test_df[~non_norm_admission_test_df['THRIVE_prob'].isna()], ground_truth=outcome)\n",
    "outcome_thrive_df['method_name'] = 'THRIVE'\n",
    "roc_auc_figure\n",
    "\n",
    "outcome_hiat_df, roc_auc_figure, outcome_HIAT_bootstrapping_data, outcome_HIAT_testing_data = evaluate_method('inv_HIAT', non_norm_admission_test_df[~non_norm_admission_test_df['HIAT_prob'].isna()], ground_truth=outcome)\n",
    "outcome_hiat_df['method_name'] = 'HIAT'\n",
    "roc_auc_figure\n",
    "\n",
    "outcome_span100_df, roc_auc_figure, outcome_span100_bootstrapping_data, outcome_span100_testing_data = evaluate_method('inv_span100', non_norm_admission_test_df[~non_norm_admission_test_df['span100_prob'].isna()], ground_truth=outcome)\n",
    "outcome_span100_df['method_name'] = 'span100'\n",
    "roc_auc_figure"
   ]
  },
  {
   "cell_type": "code",
   "execution_count": null,
   "metadata": {
    "ExecuteTime": {
     "end_time": "2024-03-04T08:09:15.335583Z",
     "start_time": "2024-03-04T08:09:15.322873Z"
    }
   },
   "outputs": [],
   "source": [
    "mimic_outcome_df = pd.concat([outcome_thriveC_df, outcome_thrive_df, outcome_hiat_df, outcome_span100_df])\n",
    "mimic_outcome_df"
   ]
  },
  {
   "cell_type": "code",
   "execution_count": null,
   "metadata": {
    "ExecuteTime": {
     "end_time": "2024-03-04T08:09:15.345769Z",
     "start_time": "2024-03-04T08:09:15.330126Z"
    }
   },
   "outputs": [],
   "source": [
    "mimic_outcome_df.to_csv(os.path.join(output_dir, f'mimic_{\"_\".join(outcome.split(\" \"))}_baseline_score_results.csv'))"
   ]
  },
  {
   "cell_type": "code",
   "execution_count": null,
   "metadata": {
    "ExecuteTime": {
     "end_time": "2024-03-04T08:09:15.365710Z",
     "start_time": "2024-03-04T08:09:15.338069Z"
    }
   },
   "outputs": [],
   "source": [
    "# pickle.dump(outcome_THRIVE_C_testing_data, open(os.path.join(output_dir, f'mimic_{\"_\".join(outcome.split(\" \"))}_test_gt_and_pred.pkl'), 'wb'))"
   ]
  },
  {
   "cell_type": "code",
   "execution_count": null,
   "metadata": {
    "ExecuteTime": {
     "end_time": "2024-03-04T08:09:15.389285Z",
     "start_time": "2024-03-04T08:09:15.343413Z"
    }
   },
   "outputs": [],
   "source": []
  }
 ],
 "metadata": {
  "kernelspec": {
   "display_name": "Python 3",
   "language": "python",
   "name": "python3"
  },
  "language_info": {
   "codemirror_mode": {
    "name": "ipython",
    "version": 2
   },
   "file_extension": ".py",
   "mimetype": "text/x-python",
   "name": "python",
   "nbconvert_exporter": "python",
   "pygments_lexer": "ipython2",
   "version": "2.7.6"
  }
 },
 "nbformat": 4,
 "nbformat_minor": 0
}
