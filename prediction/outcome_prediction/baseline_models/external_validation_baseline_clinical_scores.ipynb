{
 "cells": [
  {
   "cell_type": "code",
   "execution_count": null,
   "metadata": {
    "ExecuteTime": {
     "end_time": "2023-07-25T06:39:43.932704Z",
     "start_time": "2023-07-25T06:39:40.682721Z"
    }
   },
   "outputs": [],
   "source": [
    "import os\n",
    "import pickle\n",
    "from prediction.outcome_prediction.baseline_models.baseline_scores import hiat_score, span100_score, thriveC_score, \\\n",
    "    thrive_score\n",
    "from prediction.outcome_prediction.baseline_models.evaluation_helper_functions import evaluate_method\n",
    "from prediction.outcome_prediction.data_loading.data_loader import load_external_data\n",
    "import pandas as pd\n",
    "\n",
    "from preprocessing.preprocessing_tools.normalisation.reverse_normalisation import reverse_normalisation"
   ]
  },
  {
   "cell_type": "code",
   "execution_count": null,
   "metadata": {
    "ExecuteTime": {
     "end_time": "2023-07-25T06:39:43.938437Z",
     "start_time": "2023-07-25T06:39:43.932627Z"
    }
   },
   "outputs": [],
   "source": [
    "external_features_df_path = '/Users/jk1/temp/opsum_mimic/preprocessing/mimic_prepro_25012023_232713/preprocessed_features_25012023_232713.csv'\n",
    "external_outcomes_df_path = '/Users/jk1/temp/opsum_mimic/preprocessing/mimic_prepro_25012023_232713/preprocessed_outcomes_25012023_232713.csv'\n",
    "outcome = '3M Death'\n",
    "\n",
    "normalisation_parameters_path = '/Users/jk1/temp/opsum_mimic/preprocessing/mimic_prepro_25012023_232713/logs_25012023_232713/reference_population_normalisation_parameters.csv'\n",
    "\n",
    "output_dir = '/Users/jk1/Downloads'"
   ]
  },
  {
   "cell_type": "markdown",
   "metadata": {
    "collapsed": false
   },
   "source": [
    "## Prepare data"
   ]
  },
  {
   "cell_type": "code",
   "execution_count": null,
   "metadata": {
    "ExecuteTime": {
     "end_time": "2023-07-25T06:39:49.330710Z",
     "start_time": "2023-07-25T06:39:43.936332Z"
    }
   },
   "outputs": [],
   "source": [
    "test_X_np, test_y_np, test_features_lookup_table = load_external_data(external_features_df_path, external_outcomes_df_path,\n",
    "                                                                          outcome)"
   ]
  },
  {
   "cell_type": "code",
   "execution_count": null,
   "metadata": {
    "ExecuteTime": {
     "end_time": "2023-07-25T06:39:49.344064Z",
     "start_time": "2023-07-25T06:39:49.335593Z"
    }
   },
   "outputs": [],
   "source": [
    "admission_test_X_np = test_X_np[:,0,:]"
   ]
  },
  {
   "cell_type": "code",
   "execution_count": null,
   "metadata": {
    "ExecuteTime": {
     "end_time": "2023-07-25T06:39:49.355444Z",
     "start_time": "2023-07-25T06:39:49.345140Z"
    }
   },
   "outputs": [],
   "source": [
    "test_X_np.shape, admission_test_X_np.shape, test_y_np.shape"
   ]
  },
  {
   "cell_type": "code",
   "execution_count": null,
   "metadata": {
    "ExecuteTime": {
     "end_time": "2023-07-25T06:39:49.371844Z",
     "start_time": "2023-07-25T06:39:49.349648Z"
    }
   },
   "outputs": [],
   "source": [
    "admission_test_X_df = pd.DataFrame(admission_test_X_np, columns=test_features_lookup_table['sample_label'])\n",
    "admission_test_X_df = admission_test_X_df.reset_index().rename(columns={'index': 'pidx'}).melt(id_vars='pidx',\n",
    "                                                                                                   var_name='sample_label',\n",
    "                                                                                                   value_name='value')"
   ]
  },
  {
   "cell_type": "code",
   "execution_count": null,
   "metadata": {
    "ExecuteTime": {
     "end_time": "2023-07-25T06:39:49.372395Z",
     "start_time": "2023-07-25T06:39:49.359513Z"
    }
   },
   "outputs": [],
   "source": [
    "outcomes_df = pd.DataFrame(test_y_np, columns=['3M Death'])"
   ]
  },
  {
   "cell_type": "code",
   "execution_count": null,
   "metadata": {
    "ExecuteTime": {
     "end_time": "2023-07-25T06:39:49.661270Z",
     "start_time": "2023-07-25T06:39:49.363840Z"
    }
   },
   "outputs": [],
   "source": [
    "# load normalisation parameters\n",
    "normalisation_parameters_df = pd.read_csv(normalisation_parameters_path)\n",
    "\n",
    "non_norm_admission_test_X_df = reverse_normalisation(admission_test_X_df, normalisation_parameters_df)"
   ]
  },
  {
   "cell_type": "code",
   "execution_count": null,
   "metadata": {
    "ExecuteTime": {
     "end_time": "2023-07-25T06:39:49.688496Z",
     "start_time": "2023-07-25T06:39:49.658141Z"
    }
   },
   "outputs": [],
   "source": [
    "# reverse melting\n",
    "non_norm_admission_test_X_df = non_norm_admission_test_X_df.pivot(index='pidx', columns='sample_label', values='value').reset_index().rename(columns={'index': 'pidx'})"
   ]
  },
  {
   "cell_type": "code",
   "execution_count": null,
   "metadata": {
    "ExecuteTime": {
     "end_time": "2023-07-25T06:39:49.690829Z",
     "start_time": "2023-07-25T06:39:49.684926Z"
    }
   },
   "outputs": [],
   "source": [
    "non_norm_admission_test_df = pd.concat([non_norm_admission_test_X_df, outcomes_df], axis=1)\n",
    "non_norm_admission_test_df.rename(columns={'pidx': 'case_admission_id'}, inplace=True)"
   ]
  },
  {
   "cell_type": "code",
   "execution_count": null,
   "metadata": {
    "ExecuteTime": {
     "end_time": "2023-07-25T06:39:49.746442Z",
     "start_time": "2023-07-25T06:39:49.691108Z"
    }
   },
   "outputs": [],
   "source": [
    "non_norm_admission_test_df"
   ]
  },
  {
   "cell_type": "markdown",
   "metadata": {
    "collapsed": false
   },
   "source": [
    "## Create baseline clinical scores"
   ]
  },
  {
   "cell_type": "code",
   "execution_count": null,
   "metadata": {
    "ExecuteTime": {
     "end_time": "2023-07-25T06:39:49.746754Z",
     "start_time": "2023-07-25T06:39:49.722722Z"
    }
   },
   "outputs": [],
   "source": [
    "non_norm_admission_test_df['HIAT_prob'] =  non_norm_admission_test_df.apply(\n",
    "    lambda subject: hiat_score(\n",
    "        subject['age'],\n",
    "        subject['median_NIHSS'],\n",
    "        subject['glucose']),\n",
    "    axis=1)\n",
    "\n",
    "# defined as mRS < 4 at discharge\n",
    "non_norm_admission_test_df['HIAT good outcome pred'] = non_norm_admission_test_df['HIAT_prob'] > 0.5"
   ]
  },
  {
   "cell_type": "code",
   "execution_count": null,
   "metadata": {
    "ExecuteTime": {
     "end_time": "2023-07-25T06:39:49.749086Z",
     "start_time": "2023-07-25T06:39:49.733235Z"
    }
   },
   "outputs": [],
   "source": [
    "non_norm_admission_test_df['span100_prob'] =  non_norm_admission_test_df.apply(\n",
    "    lambda subject: span100_score(\n",
    "        subject['age'],\n",
    "        subject['median_NIHSS']),\n",
    "    axis=1)\n",
    "non_norm_admission_test_df['span100 good outcome pred'] = non_norm_admission_test_df['span100_prob'] > 0.5"
   ]
  },
  {
   "cell_type": "code",
   "execution_count": null,
   "metadata": {
    "ExecuteTime": {
     "end_time": "2023-07-25T06:39:49.771088Z",
     "start_time": "2023-07-25T06:39:49.744750Z"
    }
   },
   "outputs": [],
   "source": [
    "non_norm_admission_test_df['THRIVE_prob'] = non_norm_admission_test_df.apply(\n",
    "    lambda subject: thrive_score(\n",
    "        subject['age'],\n",
    "        subject['median_NIHSS'],\n",
    "        subject['medhist_hypertension_yes'],\n",
    "        subject['medhist_diabetes_yes'],\n",
    "        subject['medhist_atrial_fibr._yes']\n",
    "    ),\n",
    "    axis=1)\n",
    "\n",
    "non_norm_admission_test_df['THRIVE good outcome pred'] = non_norm_admission_test_df['THRIVE_prob'] > 0.5"
   ]
  },
  {
   "cell_type": "code",
   "execution_count": null,
   "metadata": {
    "ExecuteTime": {
     "end_time": "2023-07-25T06:39:49.774879Z",
     "start_time": "2023-07-25T06:39:49.758708Z"
    }
   },
   "outputs": [],
   "source": [
    "non_norm_admission_test_df['THRIVEC_prob'] = non_norm_admission_test_df.apply(\n",
    "    lambda subject: thriveC_score(\n",
    "        subject['age'],\n",
    "        subject['median_NIHSS'],\n",
    "        subject['medhist_hypertension_yes'],\n",
    "        subject['medhist_diabetes_yes'],\n",
    "        subject['medhist_atrial_fibr._yes']\n",
    "    ),\n",
    "    axis=1)\n",
    "\n",
    "non_norm_admission_test_df['THRIVEC good outcome pred'] = non_norm_admission_test_df['THRIVEC_prob'] > 0.5"
   ]
  },
  {
   "cell_type": "code",
   "execution_count": null,
   "metadata": {
    "ExecuteTime": {
     "end_time": "2023-07-25T06:39:49.826571Z",
     "start_time": "2023-07-25T06:39:49.772337Z"
    }
   },
   "outputs": [],
   "source": [
    "non_norm_admission_test_df[['age', 'median_NIHSS',\n",
    "        'medhist_hypertension_yes',\n",
    "        'medhist_diabetes_yes',\n",
    "        'medhist_atrial_fibr._yes',\n",
    "        'THRIVE_prob', 'THRIVE good outcome pred', 'THRIVEC_prob', 'THRIVEC good outcome pred']]"
   ]
  },
  {
   "cell_type": "markdown",
   "metadata": {
    "collapsed": false
   },
   "source": [
    "Computes inverse scores to predict bad outcome"
   ]
  },
  {
   "cell_type": "code",
   "execution_count": null,
   "metadata": {
    "ExecuteTime": {
     "end_time": "2023-07-25T06:39:49.831204Z",
     "start_time": "2023-07-25T06:39:49.794463Z"
    }
   },
   "outputs": [],
   "source": [
    "non_norm_admission_test_df['inv_THRIVEC_prob'] = 1 - non_norm_admission_test_df['THRIVEC_prob']\n",
    "non_norm_admission_test_df['inv_THRIVEC good outcome pred'] = non_norm_admission_test_df['inv_THRIVEC_prob'] > 0.5\n",
    "\n",
    "non_norm_admission_test_df['inv_THRIVE_prob'] = 1 - non_norm_admission_test_df['THRIVE_prob']\n",
    "non_norm_admission_test_df['inv_THRIVE good outcome pred'] = non_norm_admission_test_df['inv_THRIVE_prob'] > 0.5\n",
    "\n",
    "non_norm_admission_test_df['inv_HIAT_prob'] = 1 - non_norm_admission_test_df['HIAT_prob']\n",
    "non_norm_admission_test_df['inv_HIAT good outcome pred'] = non_norm_admission_test_df['inv_HIAT_prob'] > 0.5\n",
    "\n",
    "non_norm_admission_test_df['inv_span100_prob'] = 1 - non_norm_admission_test_df['span100_prob']\n",
    "non_norm_admission_test_df['inv_span100 good outcome pred'] = non_norm_admission_test_df['inv_span100_prob'] > 0.5"
   ]
  },
  {
   "cell_type": "code",
   "execution_count": null,
   "metadata": {
    "ExecuteTime": {
     "end_time": "2023-07-25T06:40:08.288676Z",
     "start_time": "2023-07-25T06:39:49.804687Z"
    }
   },
   "outputs": [],
   "source": [
    "death_thriveC_df, roc_auc_figure, death_THRIVE_C_bootstrapping_data, death_THRIVE_C_testing_data = evaluate_method('inv_THRIVEC', non_norm_admission_test_df[~non_norm_admission_test_df['THRIVEC_prob'].isna()], ground_truth='3M Death')\n",
    "death_thriveC_df['method_name'] = 'THRIVEC'\n",
    "roc_auc_figure\n",
    "\n",
    "death_thrive_df, roc_auc_figure, death_THRIVE_bootstrapping_data, death_THRIVE_testing_data = evaluate_method('inv_THRIVE', non_norm_admission_test_df[~non_norm_admission_test_df['THRIVE_prob'].isna()], ground_truth='3M Death')\n",
    "death_thrive_df['method_name'] = 'THRIVE'\n",
    "roc_auc_figure\n",
    "\n",
    "death_hiat_df, roc_auc_figure, death_HIAT_bootstrapping_data, death_HIAT_testing_data = evaluate_method('inv_HIAT', non_norm_admission_test_df[~non_norm_admission_test_df['HIAT_prob'].isna()], ground_truth='3M Death')\n",
    "death_hiat_df['method_name'] = 'HIAT'\n",
    "roc_auc_figure\n",
    "\n",
    "death_span100_df, roc_auc_figure, death_span100_bootstrapping_data, death_span100_testing_data = evaluate_method('inv_span100', non_norm_admission_test_df[~non_norm_admission_test_df['span100_prob'].isna()], ground_truth='3M Death')\n",
    "death_span100_df['method_name'] = 'span100'\n",
    "roc_auc_figure"
   ]
  },
  {
   "cell_type": "code",
   "execution_count": null,
   "metadata": {
    "ExecuteTime": {
     "end_time": "2023-07-25T06:40:17.428888Z",
     "start_time": "2023-07-25T06:40:17.401354Z"
    }
   },
   "outputs": [],
   "source": [
    "mimic_death_df = pd.concat([death_thriveC_df, death_thrive_df, death_hiat_df, death_span100_df])\n",
    "mimic_death_df"
   ]
  },
  {
   "cell_type": "code",
   "execution_count": null,
   "metadata": {
    "ExecuteTime": {
     "end_time": "2023-07-25T06:40:08.314669Z",
     "start_time": "2023-07-25T06:40:08.308102Z"
    }
   },
   "outputs": [],
   "source": [
    "# mimic_death_df.to_csv(os.path.join(output_dir, 'mimic_death_baseline_score_results.csv'))"
   ]
  },
  {
   "cell_type": "code",
   "execution_count": null,
   "metadata": {
    "ExecuteTime": {
     "end_time": "2023-07-25T06:41:03.501737Z",
     "start_time": "2023-07-25T06:41:03.470808Z"
    }
   },
   "outputs": [],
   "source": [
    "# pickle.dump(death_THRIVE_C_testing_data, open(os.path.join(output_dir, '3m_mimic_death_test_gt_and_pred.pkl'), 'wb'))"
   ]
  },
  {
   "cell_type": "code",
   "execution_count": null,
   "metadata": {},
   "outputs": [],
   "source": []
  }
 ],
 "metadata": {
  "kernelspec": {
   "display_name": "Python 3",
   "language": "python",
   "name": "python3"
  },
  "language_info": {
   "codemirror_mode": {
    "name": "ipython",
    "version": 2
   },
   "file_extension": ".py",
   "mimetype": "text/x-python",
   "name": "python",
   "nbconvert_exporter": "python",
   "pygments_lexer": "ipython2",
   "version": "2.7.6"
  }
 },
 "nbformat": 4,
 "nbformat_minor": 0
}
