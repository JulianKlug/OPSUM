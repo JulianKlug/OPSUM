{
 "cells": [
  {
   "cell_type": "code",
   "execution_count": null,
   "metadata": {
    "ExecuteTime": {
     "end_time": "2024-03-04T08:11:00.387462Z",
     "start_time": "2024-03-04T08:10:58.974633Z"
    }
   },
   "outputs": [],
   "source": [
    "import pandas as pd\n",
    "import os"
   ]
  },
  {
   "cell_type": "code",
   "execution_count": null,
   "metadata": {
    "ExecuteTime": {
     "end_time": "2024-03-04T08:11:00.394747Z",
     "start_time": "2024-03-04T08:11:00.390629Z"
    }
   },
   "outputs": [],
   "source": [
    "mrs02_baseline_performance_path = '/Users/jk1/temp/opsum_prediction_output/baseline_models/mrs02_clinical_scores_results.csv'\n",
    "death_baseline_performance_path = '/Users/jk1/temp/opsum_prediction_output/baseline_models/3m_death_clinical_scores_results.csv'\n",
    "death_in_hospital_baseline_performance_path = '/Users/jk1/temp/opsum_prediction_output/baseline_models/baseline_scores_death_in_hospital_results.csv'\n",
    "mimic_death_baseline_performance_path = '/Users/jk1/temp/opsum_prediction_output/baseline_models/mimic_death_baseline_score_results.csv'\n",
    "mimic_death_in_hospital_baseline_performance_path = '/Users/jk1/temp/opsum_prediction_output/baseline_models/mimic_death_in_hospital_baseline_score_results.csv'"
   ]
  },
  {
   "cell_type": "code",
   "execution_count": null,
   "metadata": {
    "ExecuteTime": {
     "end_time": "2024-03-04T08:11:00.401216Z",
     "start_time": "2024-03-04T08:11:00.394024Z"
    }
   },
   "outputs": [],
   "source": [
    "output_dir = '/Users/jk1/Downloads'"
   ]
  },
  {
   "cell_type": "code",
   "execution_count": null,
   "metadata": {
    "ExecuteTime": {
     "end_time": "2024-03-04T08:11:06.981570Z",
     "start_time": "2024-03-04T08:11:06.965550Z"
    }
   },
   "outputs": [],
   "source": [
    "mrs02_baseline_performance_df = pd.read_csv(mrs02_baseline_performance_path)\n",
    "death_baseline_performance_df = pd.read_csv(death_baseline_performance_path)\n",
    "death_in_hospital_baseline_performance_df = pd.read_csv(death_in_hospital_baseline_performance_path)\n",
    "mimic_death_baseline_performance_df = pd.read_csv(mimic_death_baseline_performance_path)\n",
    "mimic_death_in_hospital_baseline_performance_df = pd.read_csv(mimic_death_in_hospital_baseline_performance_path)"
   ]
  },
  {
   "cell_type": "code",
   "execution_count": null,
   "metadata": {
    "ExecuteTime": {
     "end_time": "2024-03-04T08:11:09.704017Z",
     "start_time": "2024-03-04T08:11:09.699448Z"
    }
   },
   "outputs": [],
   "source": [
    "def preprocess_df(df, model_name, outcome, dataset_name):\n",
    "    preprocessed_df = pd.DataFrame()\n",
    "    # report result rounded to 3 decimal places with 95% CI\n",
    "    preprocessed_df['ROC AUC'] = [f'{round(df[\"auc_test\"].values[0], 3):.3f} ({round(df[\"auc_test_lower_ci\"].values[0], 3):.3f}-{round(df[\"auc_test_upper_ci\"].values[0], 3):.3f})']\n",
    "    preprocessed_df[\"Matthew's Coefficient\"] = [f'{round(df[\"matthews_test\"].values[0], 3):.3f} ({round(df[\"matthews_test_lower_ci\"].values[0], 3):.3f}-{round(df[\"matthews_test_upper_ci\"].values[0], 3):.3f})']\n",
    "    preprocessed_df[\"Accuracy\"] = [f'{round(df[\"accuracy_test\"].values[0], 3):.3f} ({round(df[\"accuracy_test_lower_ci\"].values[0], 3):.3f}-{round(df[\"accuracy_test_upper_ci\"].values[0], 3):.3f})']\n",
    "    preprocessed_df[\"Precision (positive predictive value)\"] = [f'{round(df[\"precision_test\"].values[0], 3):.3f} ({round(df[\"precision_test_lower_ci\"].values[0], 3):.3f}-{round(df[\"precision_test_upper_ci\"].values[0], 3):.3f})']\n",
    "    preprocessed_df[\"Recall (Sensitivity)\"] = [f'{round(df[\"recall_test\"].values[0], 3):.3f} ({round(df[\"recall_test_lower_ci\"].values[0], 3):.3f}-{round(df[\"recall_test_upper_ci\"].values[0], 3):.3f})']\n",
    "    if 'specificity_test' in df.columns:\n",
    "        preprocessed_df[\"Specificity\"] = [f'{round(df[\"specificity_test\"].values[0], 3):.3f} ({round(df[\"specificity_test_lower_ci\"].values[0], 3):.3f}-{round(df[\"specificity_test_upper_ci\"].values[0], 3):.3f})']\n",
    "    else:\n",
    "        preprocessed_df[\"Specificity\"] = [f'NA']\n",
    "\n",
    "    preprocessed_df['Model'] = [model_name]\n",
    "    preprocessed_df['Outcome'] = [outcome]\n",
    "    preprocessed_df['Dataset'] = [dataset_name]\n",
    "\n",
    "    return preprocessed_df"
   ]
  },
  {
   "cell_type": "code",
   "execution_count": null,
   "metadata": {
    "ExecuteTime": {
     "end_time": "2024-03-04T08:11:41.745531Z",
     "start_time": "2024-03-04T08:11:41.645378Z"
    }
   },
   "outputs": [],
   "source": [
    "# mrs02\n",
    "mrs02_processed_thrive_df = preprocess_df(mrs02_baseline_performance_df[mrs02_baseline_performance_df.method_name == 'THRIVE'], 'THRIVE', '3M mrs02', 'GSU')\n",
    "mrs02_processed_thrivec_df = preprocess_df(mrs02_baseline_performance_df[mrs02_baseline_performance_df.method_name == 'THRIVEC'], 'THRIVE-C', '3M mrs02', 'GSU')\n",
    "mrs02_processed_HIAT_df = preprocess_df(mrs02_baseline_performance_df[mrs02_baseline_performance_df.method_name == 'HIAT'], 'HIAT', '3M mrs02', 'GSU')\n",
    "mrs02_processed_span100_df = preprocess_df(mrs02_baseline_performance_df[mrs02_baseline_performance_df.method_name == 'span100'], 'SPAN-100', '3M mrs02', 'GSU')\n",
    "\n",
    "# death\n",
    "death_processed_thrive_df = preprocess_df(death_baseline_performance_df[death_baseline_performance_df.method_name == 'THRIVE'], 'THRIVE', '3M death', 'GSU')\n",
    "death_processed_thrivec_df = preprocess_df(death_baseline_performance_df[death_baseline_performance_df.method_name == 'THRIVEC'], 'THRIVE-C', '3M death', 'GSU')\n",
    "death_processed_HIAT_df = preprocess_df(death_baseline_performance_df[death_baseline_performance_df.method_name == 'HIAT'], 'HIAT', '3M death', 'GSU')\n",
    "death_processed_span100_df = preprocess_df(death_baseline_performance_df[death_baseline_performance_df.method_name == 'span100'], 'SPAN-100', '3M death', 'GSU')\n",
    "\n",
    "# death in hospital\n",
    "death_in_hospital_processed_thrive_df = preprocess_df(death_in_hospital_baseline_performance_df[death_in_hospital_baseline_performance_df.method_name == 'THRIVE'], 'THRIVE', 'Death in hospital', 'GSU')\n",
    "death_in_hospital_processed_thrivec_df = preprocess_df(death_in_hospital_baseline_performance_df[death_in_hospital_baseline_performance_df.method_name == 'THRIVEC'], 'THRIVE-C', 'Death in hospital', 'GSU')\n",
    "death_in_hospital_processed_HIAT_df = preprocess_df(death_in_hospital_baseline_performance_df[death_in_hospital_baseline_performance_df.method_name == 'HIAT'], 'HIAT', 'Death in hospital', 'GSU')\n",
    "death_in_hospital_processed_span100_df = preprocess_df(death_in_hospital_baseline_performance_df[death_in_hospital_baseline_performance_df.method_name == 'span100'], 'SPAN-100', 'Death in hospital', 'GSU')\n",
    "\n",
    "# mimic death\n",
    "mimic_death_processed_thrive_df = preprocess_df(mimic_death_baseline_performance_df[mimic_death_baseline_performance_df.method_name == 'THRIVE'], 'THRIVE', '3M death', 'MIMIC')\n",
    "mimic_death_processed_thrivec_df = preprocess_df(mimic_death_baseline_performance_df[mimic_death_baseline_performance_df.method_name == 'THRIVEC'], 'THRIVE-C', '3M death', 'MIMIC')\n",
    "mimic_death_processed_HIAT_df = preprocess_df(mimic_death_baseline_performance_df[mimic_death_baseline_performance_df.method_name == 'HIAT'], 'HIAT', '3M death', 'MIMIC')\n",
    "mimic_death_processed_span100_df = preprocess_df(mimic_death_baseline_performance_df[mimic_death_baseline_performance_df.method_name == 'span100'], 'SPAN-100', '3M death', 'MIMIC')\n",
    "\n",
    "\n",
    "# mimic death in hospital\n",
    "mimic_death_in_hospital_processed_thrive_df = preprocess_df(mimic_death_in_hospital_baseline_performance_df[mimic_death_in_hospital_baseline_performance_df.method_name == 'THRIVE'], 'THRIVE', 'Death in hospital', 'MIMIC')\n",
    "mimic_death_in_hospital_processed_thrivec_df = preprocess_df(mimic_death_in_hospital_baseline_performance_df[mimic_death_in_hospital_baseline_performance_df.method_name == 'THRIVEC'], 'THRIVE-C', 'Death in hospital', 'MIMIC')\n",
    "mimic_death_in_hospital_processed_HIAT_df = preprocess_df(mimic_death_in_hospital_baseline_performance_df[mimic_death_in_hospital_baseline_performance_df.method_name == 'HIAT'], 'HIAT', 'Death in hospital', 'MIMIC')\n",
    "mimic_death_in_hospital_processed_span100_df = preprocess_df(mimic_death_in_hospital_baseline_performance_df[mimic_death_in_hospital_baseline_performance_df.method_name == 'span100'], 'SPAN-100', 'Death in hospital', 'MIMIC')\n"
   ]
  },
  {
   "cell_type": "code",
   "execution_count": null,
   "metadata": {
    "ExecuteTime": {
     "end_time": "2024-03-04T08:12:06.655136Z",
     "start_time": "2024-03-04T08:12:06.628180Z"
    }
   },
   "outputs": [],
   "source": [
    "overall_mrs02_results_df = pd.concat([mrs02_processed_thrive_df, mrs02_processed_thrivec_df, mrs02_processed_HIAT_df, mrs02_processed_span100_df], ignore_index=True)\n",
    "overall_death_results_df = pd.concat([death_processed_thrive_df, death_processed_thrivec_df, death_processed_HIAT_df, death_processed_span100_df], ignore_index=True)\n",
    "overall_death_in_hospital_results_df = pd.concat([death_in_hospital_processed_thrive_df, death_in_hospital_processed_thrivec_df, death_in_hospital_processed_HIAT_df, death_in_hospital_processed_span100_df], ignore_index=True)\n",
    "\n",
    "overall_mimic_death_results_df = pd.concat([mimic_death_processed_thrive_df, mimic_death_processed_thrivec_df, mimic_death_processed_HIAT_df, mimic_death_processed_span100_df], ignore_index=True)\n",
    "overall_mimic_death_in_hospital_results_df = pd.concat([mimic_death_in_hospital_processed_thrive_df, mimic_death_in_hospital_processed_thrivec_df, mimic_death_in_hospital_processed_HIAT_df, mimic_death_in_hospital_processed_span100_df], ignore_index=True)\n",
    "\n",
    "overall_results = pd.concat([overall_mrs02_results_df, overall_death_results_df, overall_death_in_hospital_results_df, overall_mimic_death_results_df, overall_mimic_death_in_hospital_results_df], ignore_index=True)"
   ]
  },
  {
   "cell_type": "code",
   "execution_count": null,
   "metadata": {
    "ExecuteTime": {
     "end_time": "2024-03-04T08:12:07.760139Z",
     "start_time": "2024-03-04T08:12:07.747747Z"
    }
   },
   "outputs": [],
   "source": [
    "overall_results"
   ]
  },
  {
   "cell_type": "code",
   "execution_count": null,
   "metadata": {
    "ExecuteTime": {
     "end_time": "2024-03-04T08:12:16.508703Z",
     "start_time": "2024-03-04T08:12:16.501133Z"
    }
   },
   "outputs": [],
   "source": [
    "# save results as csv\n",
    "# overall_results.to_csv(os.path.join(output_dir, 'baseline_clinical_model_comparison_table.csv'), index=False)\n"
   ]
  },
  {
   "cell_type": "code",
   "execution_count": null,
   "metadata": {},
   "outputs": [],
   "source": []
  }
 ],
 "metadata": {
  "kernelspec": {
   "display_name": "Python 3",
   "language": "python",
   "name": "python3"
  },
  "language_info": {
   "codemirror_mode": {
    "name": "ipython",
    "version": 2
   },
   "file_extension": ".py",
   "mimetype": "text/x-python",
   "name": "python",
   "nbconvert_exporter": "python",
   "pygments_lexer": "ipython2",
   "version": "2.7.6"
  }
 },
 "nbformat": 4,
 "nbformat_minor": 0
}
