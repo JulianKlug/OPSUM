{
 "cells": [
  {
   "cell_type": "code",
   "execution_count": null,
   "metadata": {},
   "outputs": [],
   "source": [
    "import pandas as pd\n",
    "import matplotlib.pyplot as plt\n",
    "import seaborn as sns"
   ]
  },
  {
   "cell_type": "code",
   "execution_count": null,
   "metadata": {},
   "outputs": [],
   "source": [
    "AUC_df_path = '/Users/jk1/Downloads/2023_02_15_2054/AUC_history_gridsearch.tsv'"
   ]
  },
  {
   "cell_type": "code",
   "execution_count": null,
   "metadata": {},
   "outputs": [],
   "source": [
    "AUC_df = pd.read_csv(AUC_df_path, sep='\\t')"
   ]
  },
  {
   "cell_type": "code",
   "execution_count": null,
   "metadata": {},
   "outputs": [],
   "source": [
    "AUC_df.head()"
   ]
  },
  {
   "cell_type": "code",
   "execution_count": null,
   "metadata": {},
   "outputs": [],
   "source": [
    "other_columns = ['auc_train', 'auc_val', 'matthews_train', 'matthews_val', 'cv_num', 'outcome']\n",
    "var_columns = [col for col in AUC_df.columns if col not in other_columns]"
   ]
  },
  {
   "cell_type": "code",
   "execution_count": null,
   "metadata": {},
   "outputs": [],
   "source": [
    "categories = ['data', 'optimizer', 'batch', 'mlp_units']"
   ]
  },
  {
   "cell_type": "code",
   "execution_count": null,
   "metadata": {},
   "outputs": [],
   "source": [
    "# for every var column, plot the AUC_val as a function of the var column\n",
    "for var_col in var_columns:\n",
    "    print('Plotting AUC_val as a function of {}'.format(var_col))\n",
    "    if var_col in categories:\n",
    "        ax = sns.catplot(x=var_col, y='auc_val', data=AUC_df, kind='box')\n",
    "    else:\n",
    "        ax = sns.violinplot(x=var_col, y='auc_val', data=AUC_df, fit_reg=False)\n",
    "    ax.set(xlabel=var_col, ylabel='AUC_val')\n",
    "    ax.set(title='AUC_val as a function of {}'.format(var_col))\n",
    "    plt.show()\n"
   ]
  },
  {
   "cell_type": "code",
   "execution_count": null,
   "metadata": {},
   "outputs": [],
   "source": []
  }
 ],
 "metadata": {
  "kernelspec": {
   "display_name": "Python 3",
   "language": "python",
   "name": "python3"
  },
  "language_info": {
   "codemirror_mode": {
    "name": "ipython",
    "version": 3
   },
   "file_extension": ".py",
   "mimetype": "text/x-python",
   "name": "python",
   "nbconvert_exporter": "python",
   "pygments_lexer": "ipython3",
   "version": "3.8.11"
  }
 },
 "nbformat": 4,
 "nbformat_minor": 1
}
