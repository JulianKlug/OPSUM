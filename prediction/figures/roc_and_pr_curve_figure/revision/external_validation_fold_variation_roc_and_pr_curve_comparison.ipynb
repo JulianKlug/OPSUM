{
 "cells": [
  {
   "attachments": {},
   "cell_type": "markdown",
   "metadata": {
    "collapsed": false
   },
   "source": [
    "# External validation: ROC & PR Curve comparison with confidence intervals\n",
    "\n",
    "Confidence are obtained from variance of performance across folds"
   ]
  },
  {
   "cell_type": "code",
   "execution_count": null,
   "metadata": {
    "ExecuteTime": {
     "end_time": "2024-03-04T13:53:29.657915Z",
     "start_time": "2024-03-04T13:53:29.532635Z"
    }
   },
   "outputs": [],
   "source": [
    "import pickle\n",
    "import os\n",
    "import numpy as np\n",
    "import matplotlib.pyplot as plt\n",
    "from tqdm import tqdm\n",
    "import seaborn as sns\n",
    "import pandas as pd\n",
    "from sklearn.metrics import roc_curve, auc, precision_recall_curve\n",
    "import matplotlib.patches as mpatches\n",
    "from matplotlib.legend_handler import HandlerTuple"
   ]
  },
  {
   "cell_type": "code",
   "execution_count": null,
   "metadata": {
    "ExecuteTime": {
     "end_time": "2024-03-04T13:53:29.678304Z",
     "start_time": "2024-03-04T13:53:29.661377Z"
    }
   },
   "outputs": [],
   "source": [
    "# for some reason spacing of plots only works correctly in opsum_shap environment \n",
    "# verify that python version is 3.7\n",
    "import sys\n",
    "assert sys.version_info.major == 3 and sys.version_info.minor == 7"
   ]
  },
  {
   "cell_type": "code",
   "execution_count": null,
   "metadata": {
    "ExecuteTime": {
     "end_time": "2024-03-04T13:53:29.682189Z",
     "start_time": "2024-03-04T13:53:29.668088Z"
    }
   },
   "outputs": [],
   "source": [
    "\n",
    "transformer_ext_death_predictions_path = '/Users/jk1/temp/opsum_prediction_output/transformer/3M_Death/external_validation'\n",
    "lstm_ext_death_predictions_path = '/Users/jk1/temp/opsum_prediction_output/LSTM_72h/external_validation/3M_Death/2023_01_04_2020/all_folds'\n",
    "xgb_ext_death_predictions_path = '/Users/jk1/temp/opsum_prediction_output/linear_72h_xgb/3M_Death/external_validation/all_folds'\n",
    "thrive_c_ext_death_predictions_path = '/Users/jk1/temp/opsum_prediction_output/THRIVE_C/THRIVE_C_3m_mimic_death_predictions/3m_mimic_death_test_gt_and_pred.pkl'\n",
    "\n",
    "transformer_ext_death_in_hosp_predictions_path = '/Users/jk1/temp/opsum_prediction_output/transformer/Death_in_hospital/external_validation'\n",
    "lstm_ext_death_in_hosp_predictions_path = '/Users/jk1/temp/opsum_prediction_output/LSTM_72h/external_validation/Death_in_hospital/2024_02_24'\n",
    "xgb_ext_death_in_hosp_predictions_path = '/Users/jk1/temp/opsum_prediction_output/linear_72h_xgb/Death_in_hospital/external_validation'\n",
    "thrive_c_ext_death_in_hosp_predictions_path = '/Users/jk1/temp/opsum_prediction_output/THRIVE_C/THRIVE_C_death_in_hospital_mimic_predictions/mimic_Death_in_hospital_test_gt_and_pred.pkl'\n",
    "\n",
    "roc_auc_statistics_path = '/Users/jk1/Library/CloudStorage/OneDrive-unige.ch/stroke_research/geneva_stroke_unit_dataset/opsum_paper/supp_figures_and_tables/model_comparison/table/revision/overall_model_comparison.csv'"
   ]
  },
  {
   "cell_type": "code",
   "execution_count": null,
   "metadata": {
    "ExecuteTime": {
     "end_time": "2024-03-04T13:53:29.725667Z",
     "start_time": "2024-03-04T13:53:29.684956Z"
    }
   },
   "outputs": [],
   "source": [
    "output_dir = '/Users/jk1/Downloads'"
   ]
  },
  {
   "cell_type": "code",
   "execution_count": null,
   "metadata": {
    "ExecuteTime": {
     "end_time": "2024-03-04T13:53:29.745468Z",
     "start_time": "2024-03-04T13:53:29.716658Z"
    }
   },
   "outputs": [],
   "source": [
    "n_folds = 5\n",
    "seed = 42\n",
    "\n",
    "# for transformer, indices already start at 0\n",
    "death_transformer_selected_fold = 1\n",
    "death_in_hosp_transformer_selected_fold = 2\n",
    "\n",
    "# subtract one to go from fold number to index (as folds will be in a list)\n",
    "death_xgb_selected_fold = 3 - 1\n",
    "death_in_hosp_xgb_selected_fold = 3 - 1\n",
    "\n",
    "# subtract one to go from fold number to index (as folds will be in a list)\n",
    "death_lstm_selected_fold = 2 - 1\n",
    "death_in_hosp_lstm_selected_fold = 3 - 1"
   ]
  },
  {
   "attachments": {},
   "cell_type": "markdown",
   "metadata": {
    "collapsed": false
   },
   "source": [
    "Load data"
   ]
  },
  {
   "cell_type": "code",
   "execution_count": null,
   "metadata": {
    "ExecuteTime": {
     "end_time": "2024-03-04T13:53:29.771200Z",
     "start_time": "2024-03-04T13:53:29.749825Z"
    }
   },
   "outputs": [],
   "source": [
    "roc_auc_statistics = pd.read_csv(roc_auc_statistics_path)\n",
    "roc_auc_statistics['clean_roc_auc'] = roc_auc_statistics['ROC AUC'].apply(lambda x: float(x.split(' ')[0]))"
   ]
  },
  {
   "cell_type": "code",
   "execution_count": null,
   "metadata": {
    "ExecuteTime": {
     "end_time": "2024-03-04T13:53:29.820160Z",
     "start_time": "2024-03-04T13:53:29.782567Z"
    }
   },
   "outputs": [],
   "source": [
    "thrivec_ext_death_gt, thrivec_ext_death_predictions = pickle.load(open(thrive_c_ext_death_predictions_path, 'rb'))\n",
    "throvec_ext_death_in_hosp_gt, thrivec_ext_death_in_hosp_predictions = pickle.load(open(thrive_c_ext_death_in_hosp_predictions_path, 'rb'))\n",
    "\n",
    "thrivec_ext_death_roc_auc = roc_auc_statistics[(roc_auc_statistics.Model == 'THRIVE-C') & (roc_auc_statistics.Outcome == '3M death')\n",
    "                                                     & (roc_auc_statistics.Dataset == 'MIMIC')]['clean_roc_auc'].values[0]\n",
    "thrivec_ext_death_in_hosp_roc_auc = roc_auc_statistics[(roc_auc_statistics.Model == 'THRIVE-C') & (roc_auc_statistics.Outcome == 'Death in hospital')\n",
    "                                                        & (roc_auc_statistics.Dataset == 'MIMIC')]['clean_roc_auc'].values[0]"
   ]
  },
  {
   "cell_type": "code",
   "execution_count": null,
   "metadata": {
    "ExecuteTime": {
     "end_time": "2024-03-04T13:53:31.260845Z",
     "start_time": "2024-03-04T13:53:29.806606Z"
    }
   },
   "outputs": [],
   "source": [
    "transformer_ext_death_folds = []\n",
    "for fidx in range(n_folds):\n",
    "    transformer_ext_death_folds.append(pickle.load(open(os.path.join(transformer_ext_death_predictions_path, f'fold_{fidx}_test_gt_and_pred.pkl'), 'rb')))\n",
    "    \n",
    "transformer_ext_death_in_hosp_folds = []\n",
    "for fidx in range(n_folds):\n",
    "    transformer_ext_death_in_hosp_folds.append(pickle.load(open(os.path.join(transformer_ext_death_in_hosp_predictions_path, f'fold_{fidx}_test_gt_and_pred.pkl'), 'rb')))\n",
    "\n",
    "transformer_ext_death_roc_auc = roc_auc_statistics[(roc_auc_statistics.Model == 'Transformer') & (roc_auc_statistics.Outcome == '3M Death')\n",
    "                                                     & (roc_auc_statistics.Dataset == 'MIMIC')]['clean_roc_auc'].values[0]    \n",
    "transformer_ext_death_in_hosp_roc_auc = roc_auc_statistics[(roc_auc_statistics.Model == 'Transformer') & (roc_auc_statistics.Outcome == 'Death in hospital')\n",
    "                                                        & (roc_auc_statistics.Dataset == 'MIMIC')]['clean_roc_auc'].values[0]"
   ]
  },
  {
   "cell_type": "code",
   "execution_count": null,
   "metadata": {
    "ExecuteTime": {
     "end_time": "2024-03-04T13:53:31.286023Z",
     "start_time": "2024-03-04T13:53:31.267798Z"
    }
   },
   "outputs": [],
   "source": [
    "xgb_ext_death_folds = []\n",
    "for fidx in range(n_folds):\n",
    "    xgb_ext_death_folds.append(pickle.load(open(os.path.join(xgb_ext_death_predictions_path, f'external_validation_gt_and_pred_cv_{fidx}.pkl'), 'rb')))\n",
    "    \n",
    "xgb_ext_death_in_hosp_folds = []\n",
    "for fidx in range(n_folds):\n",
    "    xgb_ext_death_in_hosp_folds.append(pickle.load(open(os.path.join(xgb_ext_death_in_hosp_predictions_path, f'external_validation_gt_and_pred_cv_{fidx}.pkl'), 'rb')))\n",
    "\n",
    "xgb_ext_death_roc_auc = roc_auc_statistics[(roc_auc_statistics.Model == 'XGB') & (roc_auc_statistics.Outcome == '3M Death')\n",
    "                                                     & (roc_auc_statistics.Dataset == 'MIMIC')]['clean_roc_auc'].values[0]\n",
    "\n",
    "xgb_ext_death_in_hosp_roc_auc = roc_auc_statistics[(roc_auc_statistics.Model == 'XGB') & (roc_auc_statistics.Outcome == 'Death in hospital')\n",
    "                                                        & (roc_auc_statistics.Dataset == 'MIMIC')]['clean_roc_auc'].values[0]"
   ]
  },
  {
   "cell_type": "code",
   "execution_count": null,
   "metadata": {
    "ExecuteTime": {
     "end_time": "2024-03-04T13:53:31.306056Z",
     "start_time": "2024-03-04T13:53:31.282057Z"
    }
   },
   "outputs": [],
   "source": [
    "lstm_ext_death_folds = []\n",
    "for fidx in range(n_folds):\n",
    "    # search in every subdir of lstm_mrs02_predictions_path to find and load file: test_gt_and_pred_fold_{fidx}.pkl\n",
    "    for subdir in os.listdir(lstm_ext_death_predictions_path):\n",
    "        if os.path.isdir(os.path.join(lstm_ext_death_predictions_path, subdir)):\n",
    "            for file in os.listdir(os.path.join(lstm_ext_death_predictions_path, subdir)):\n",
    "                if file == f'test_gt_and_pred_fold_{fidx+1}.pkl':\n",
    "                    lstm_ext_death_folds.append(pickle.load(open(os.path.join(lstm_ext_death_predictions_path, subdir, file), 'rb')))\n",
    "                    \n",
    "lstm_ext_death_in_hosp_folds = []\n",
    "for fidx in range(n_folds):\n",
    "    # search in every subdir of lstm_mrs02_predictions_path to find and load file: test_gt_and_pred_fold_{fidx}.pkl\n",
    "    for subdir in os.listdir(lstm_ext_death_in_hosp_predictions_path):\n",
    "        if os.path.isdir(os.path.join(lstm_ext_death_in_hosp_predictions_path, subdir)):\n",
    "            for file in os.listdir(os.path.join(lstm_ext_death_in_hosp_predictions_path, subdir)):\n",
    "                if file == f'test_gt_and_pred_fold_{fidx+1}.pkl':\n",
    "                    lstm_ext_death_in_hosp_folds.append(pickle.load(open(os.path.join(lstm_ext_death_in_hosp_predictions_path, subdir, file), 'rb')))\n",
    "\n",
    "lstm_ext_death_roc_auc = roc_auc_statistics[(roc_auc_statistics.Model == 'LSTM') & (roc_auc_statistics.Outcome == '3M Death')\n",
    "                                                     & (roc_auc_statistics.Dataset == 'MIMIC')]['clean_roc_auc'].values[0]\n",
    "\n",
    "lstm_ext_death_in_hosp_roc_auc = roc_auc_statistics[(roc_auc_statistics.Model == 'LSTM') & (roc_auc_statistics.Outcome == 'Death in hospital')\n",
    "                                                        & (roc_auc_statistics.Dataset == 'MIMIC')]['clean_roc_auc'].values[0]"
   ]
  },
  {
   "cell_type": "code",
   "execution_count": null,
   "metadata": {
    "ExecuteTime": {
     "end_time": "2024-03-04T13:53:31.320807Z",
     "start_time": "2024-03-04T13:53:31.307317Z"
    }
   },
   "outputs": [],
   "source": [
    "all_colors_palette = sns.color_palette(['#f61067', '#049b9a', '#012D98', '#a76dfe'], n_colors=4)\n",
    "all_colors_palette"
   ]
  },
  {
   "attachments": {},
   "cell_type": "markdown",
   "metadata": {
    "collapsed": false
   },
   "source": [
    "# Helper functions"
   ]
  },
  {
   "cell_type": "code",
   "execution_count": null,
   "metadata": {
    "ExecuteTime": {
     "end_time": "2024-03-04T13:53:31.325530Z",
     "start_time": "2024-03-04T13:53:31.318498Z"
    }
   },
   "outputs": [],
   "source": [
    "def compute_roc_and_pr_curves(folds, n_interpolated_points=200):\n",
    "    roc_df = pd.DataFrame()\n",
    "    resampled_roc_df = pd.DataFrame()\n",
    "    roc_aucs = []\n",
    "    pr_df = pd.DataFrame()\n",
    "    resampled_pr_df = pd.DataFrame()\n",
    "    pr_aucs = []\n",
    "    for fidx in tqdm(range(n_folds)):\n",
    "        fpr, tpr, _ = roc_curve(folds[fidx][0], folds[fidx][1])\n",
    "        roc_aucs.append(auc(fpr, tpr))\n",
    "        resampled_tpr = np.interp(np.linspace(0, 1, n_interpolated_points), fpr, tpr)\n",
    "        roc_df = roc_df.append(pd.DataFrame({'fpr': fpr, 'tpr': tpr, 'fold': fidx}))\n",
    "        resampled_roc_df = resampled_roc_df.append(pd.DataFrame({'fpr': np.linspace(0,1,n_interpolated_points),  'tpr': resampled_tpr, 'fold': fidx}))\n",
    "\n",
    "        precision, recall, _ = precision_recall_curve(folds[fidx][0], folds[fidx][1])\n",
    "        recall, precision = zip(*sorted(zip(recall, precision)))\n",
    "        pr_aucs.append(auc(recall, precision))\n",
    "        resampled_precision = np.interp(np.linspace(0, 1, n_interpolated_points), recall, precision)\n",
    "        pr_df = pr_df.append(pd.DataFrame({'recall': recall, 'precision': precision, 'fold': fidx}))\n",
    "        resampled_pr_df = resampled_pr_df.append(pd.DataFrame({'recall': np.linspace(0,1,n_interpolated_points),  'precision': resampled_precision, 'fold': fidx}))\n",
    "\n",
    "    return roc_df, resampled_roc_df, roc_aucs, pr_df, resampled_pr_df, pr_aucs\n"
   ]
  },
  {
   "cell_type": "markdown",
   "metadata": {
    "collapsed": false
   },
   "source": [
    "## Prepare data for death (3 months) external validation"
   ]
  },
  {
   "cell_type": "code",
   "execution_count": null,
   "metadata": {
    "ExecuteTime": {
     "end_time": "2024-03-04T13:53:31.450283Z",
     "start_time": "2024-03-04T13:53:31.326217Z"
    }
   },
   "outputs": [],
   "source": [
    "# split thrivec data into 5 folds\n",
    "ext_death_thrivec_folds = []\n",
    "for fidx in range(n_folds):\n",
    "    ext_death_thrivec_folds.append((thrivec_ext_death_gt[fidx::n_folds], thrivec_ext_death_predictions[fidx::n_folds]))\n",
    "\n",
    "ext_death_thrivec_fpr, ext_death_thrivec_tpr, _ = roc_curve(thrivec_ext_death_gt, thrivec_ext_death_predictions)\n",
    "ext_death_thrivec_roc_auc = auc(ext_death_thrivec_fpr, ext_death_thrivec_tpr)\n",
    "ext_death_thrivec_resampled_tpr = np.interp(np.linspace(0, 1, 200), ext_death_thrivec_fpr, ext_death_thrivec_tpr)\n",
    "\n",
    "ext_death_thrivec_precision, ext_death_thrivec_recall, _ = precision_recall_curve(thrivec_ext_death_gt, thrivec_ext_death_predictions)\n",
    "ext_death_thrivec_recall, ext_death_thrivec_precision = zip(*sorted(zip(ext_death_thrivec_recall, ext_death_thrivec_precision)))\n",
    "ext_death_thrivec_pr_auc = auc(ext_death_thrivec_recall, ext_death_thrivec_precision)\n",
    "ext_death_thrivec_resampled_precision = np.interp(np.linspace(0, 1, 200), ext_death_thrivec_recall, ext_death_thrivec_precision)\n",
    "\n",
    "ext_death_thrivec_roc_df, ext_death_thrivec_resampled_roc_df, ext_death_thrivec_roc_aucs, ext_death_thrivec_pr_df, ext_death_thrivec_resampled_pr_df, ext_death_thrivec_pr_aucs = compute_roc_and_pr_curves(\n",
    "    ext_death_thrivec_folds)\n",
    "\n",
    "ext_death_thrivec_resampled_roc_std = ext_death_thrivec_resampled_roc_df.groupby('fpr').agg({'tpr': ['mean', 'std']})['tpr']['std']\n",
    "ext_death_thrivec_resampled_pr_std = ext_death_thrivec_resampled_pr_df.groupby('recall').agg({'precision': ['mean', 'std']})['precision'][\n",
    "    'std']"
   ]
  },
  {
   "cell_type": "code",
   "execution_count": null,
   "metadata": {
    "ExecuteTime": {
     "end_time": "2024-03-04T13:53:31.507850Z",
     "start_time": "2024-03-04T13:53:31.439861Z"
    }
   },
   "outputs": [],
   "source": [
    "transformer_ext_death_roc_df, transformer_ext_death_resampled_roc_df, transformer_ext_death_roc_aucs, transformer_ext_death_pr_df, transformer_ext_death_resampled_pr_df, transformer_ext_death_pr_aucs = compute_roc_and_pr_curves(transformer_ext_death_folds)\n",
    "\n",
    "transformer_ext_death_resampled_roc_std = transformer_ext_death_resampled_roc_df.groupby('fpr').agg({'tpr': ['mean', 'std']})['tpr']['std']\n",
    "transformer_ext_death_resampled_pr_std = transformer_ext_death_resampled_pr_df.groupby('recall').agg({'precision': ['mean', 'std']})['precision']['std']"
   ]
  },
  {
   "cell_type": "code",
   "execution_count": null,
   "metadata": {
    "ExecuteTime": {
     "end_time": "2024-03-04T13:53:31.569989Z",
     "start_time": "2024-03-04T13:53:31.479506Z"
    }
   },
   "outputs": [],
   "source": [
    "death_ext_xgb_roc_df, death_ext_xgb_resampled_roc_df, death_ext_xgb_roc_aucs, death_ext_xgb_pr_df, death_ext_xgb_resampled_pr_df, death_ext_xgb_pr_aucs = compute_roc_and_pr_curves(xgb_ext_death_folds)\n",
    "death_ext_xgb_resampled_roc_std = death_ext_xgb_resampled_roc_df.groupby('fpr').agg({'tpr': ['mean', 'std']})['tpr']['std']\n",
    "death_ext_xgb_resampled_pr_std = death_ext_xgb_resampled_pr_df.groupby('recall').agg({'precision': ['mean', 'std']})['precision']['std']"
   ]
  },
  {
   "cell_type": "code",
   "execution_count": null,
   "metadata": {
    "ExecuteTime": {
     "end_time": "2024-03-04T13:53:31.583398Z",
     "start_time": "2024-03-04T13:53:31.517800Z"
    }
   },
   "outputs": [],
   "source": [
    "ext_death_lstm_roc_df, ext_death_lstm_resampled_roc_df, ext_death_lstm_roc_aucs, ext_death_lstm_pr_df, ext_death_lstm_resampled_pr_df, ext_death_lstm_pr_aucs = compute_roc_and_pr_curves(lstm_ext_death_folds)\n",
    "ext_death_lstm_resampled_roc_std = ext_death_lstm_resampled_roc_df.groupby('fpr').agg({'tpr': ['mean', 'std']})['tpr']['std']\n",
    "ext_death_lstm_resampled_pr_std = ext_death_lstm_resampled_pr_df.groupby('recall').agg({'precision': ['mean', 'std']})['precision']['std']"
   ]
  },
  {
   "cell_type": "markdown",
   "metadata": {
    "collapsed": false
   },
   "source": [
    "## Prepare data for death in hospital external validation"
   ]
  },
  {
   "cell_type": "code",
   "execution_count": null,
   "metadata": {
    "ExecuteTime": {
     "end_time": "2024-03-04T13:53:31.647829Z",
     "start_time": "2024-03-04T13:53:31.559847Z"
    }
   },
   "outputs": [],
   "source": [
    "# split thrivec data into 5 folds\n",
    "ext_death_in_hosp_thrivec_folds = []\n",
    "for fidx in range(n_folds):\n",
    "    ext_death_in_hosp_thrivec_folds.append((throvec_ext_death_in_hosp_gt[fidx::n_folds], thrivec_ext_death_in_hosp_predictions[fidx::n_folds]))\n",
    "    \n",
    "ext_death_in_hosp_thrivec_fpr, ext_death_in_hosp_thrivec_tpr, _ = roc_curve(throvec_ext_death_in_hosp_gt, thrivec_ext_death_in_hosp_predictions)\n",
    "ext_death_in_hosp_thrivec_roc_auc = auc(ext_death_in_hosp_thrivec_fpr, ext_death_in_hosp_thrivec_tpr)\n",
    "ext_death_in_hosp_thrivec_resampled_tpr = np.interp(np.linspace(0, 1, 200), ext_death_in_hosp_thrivec_fpr, ext_death_in_hosp_thrivec_tpr)\n",
    "\n",
    "ext_death_in_hosp_thrivec_precision, ext_death_in_hosp_thrivec_recall, _ = precision_recall_curve(throvec_ext_death_in_hosp_gt, thrivec_ext_death_in_hosp_predictions)\n",
    "ext_death_in_hosp_thrivec_recall, ext_death_in_hosp_thrivec_precision = zip(*sorted(zip(ext_death_in_hosp_thrivec_recall, ext_death_in_hosp_thrivec_precision)))\n",
    "\n",
    "ext_death_in_hosp_thrivec_pr_auc = auc(ext_death_in_hosp_thrivec_recall, ext_death_in_hosp_thrivec_precision)\n",
    "ext_death_in_hosp_thrivec_resampled_precision = np.interp(np.linspace(0, 1, 200), ext_death_in_hosp_thrivec_recall, ext_death_in_hosp_thrivec_precision)\n",
    "\n",
    "ext_death_in_hosp_thrivec_roc_df, ext_death_in_hosp_thrivec_resampled_roc_df, ext_death_in_hosp_thrivec_roc_aucs, ext_death_in_hosp_thrivec_pr_df, ext_death_in_hosp_thrivec_resampled_pr_df, ext_death_in_hosp_thrivec_pr_aucs = compute_roc_and_pr_curves(\n",
    "    ext_death_in_hosp_thrivec_folds)\n",
    "\n",
    "ext_death_in_hosp_thrivec_resampled_roc_std = ext_death_in_hosp_thrivec_resampled_roc_df.groupby('fpr').agg({'tpr': ['mean', 'std']})['tpr']['std']\n",
    "ext_death_in_hosp_thrivec_resampled_pr_std = ext_death_in_hosp_thrivec_resampled_pr_df.groupby('recall').agg({'precision': ['mean', 'std']})['precision'][\n",
    "    'std']"
   ]
  },
  {
   "cell_type": "code",
   "execution_count": null,
   "metadata": {
    "ExecuteTime": {
     "end_time": "2024-03-04T13:53:31.674620Z",
     "start_time": "2024-03-04T13:53:31.600183Z"
    }
   },
   "outputs": [],
   "source": [
    "transformer_ext_death_in_hosp_roc_df, transformer_ext_death_in_hosp_resampled_roc_df, transformer_ext_death_in_hosp_roc_aucs, transformer_ext_death_in_hosp_pr_df, transformer_ext_death_in_hosp_resampled_pr_df, transformer_ext_death_in_hosp_pr_aucs = compute_roc_and_pr_curves(transformer_ext_death_in_hosp_folds)\n",
    "\n",
    "transformer_ext_death_in_hosp_resampled_roc_std = transformer_ext_death_in_hosp_resampled_roc_df.groupby('fpr').agg({'tpr': ['mean', 'std']})['tpr']['std']\n",
    "transformer_ext_death_in_hosp_resampled_pr_std = transformer_ext_death_in_hosp_resampled_pr_df.groupby('recall').agg({'precision': ['mean', 'std']})['precision']['std']"
   ]
  },
  {
   "cell_type": "code",
   "execution_count": null,
   "metadata": {
    "ExecuteTime": {
     "end_time": "2024-03-04T13:53:31.710161Z",
     "start_time": "2024-03-04T13:53:31.635445Z"
    }
   },
   "outputs": [],
   "source": [
    "death_ext_xgb_in_hosp_roc_df, death_ext_xgb_in_hosp_resampled_roc_df, death_ext_xgb_in_hosp_roc_aucs, death_ext_xgb_in_hosp_pr_df, death_ext_xgb_in_hosp_resampled_pr_df, death_ext_xgb_in_hosp_pr_aucs = compute_roc_and_pr_curves(xgb_ext_death_in_hosp_folds)\n",
    "death_ext_xgb_in_hosp_resampled_roc_std = death_ext_xgb_in_hosp_resampled_roc_df.groupby('fpr').agg({'tpr': ['mean', 'std']})['tpr']['std']\n",
    "death_ext_xgb_in_hosp_resampled_pr_std = death_ext_xgb_in_hosp_resampled_pr_df.groupby('recall').agg({'precision': ['mean', 'std']})['precision']['std']"
   ]
  },
  {
   "cell_type": "code",
   "execution_count": null,
   "metadata": {
    "ExecuteTime": {
     "end_time": "2024-03-04T13:53:31.769498Z",
     "start_time": "2024-03-04T13:53:31.669509Z"
    }
   },
   "outputs": [],
   "source": [
    "ext_death_lstm_in_hosp_roc_df, ext_death_lstm_in_hosp_resampled_roc_df, ext_death_lstm_in_hosp_roc_aucs, ext_death_lstm_in_hosp_pr_df, ext_death_lstm_in_hosp_resampled_pr_df, ext_death_lstm_in_hosp_pr_aucs = compute_roc_and_pr_curves(lstm_ext_death_in_hosp_folds)\n",
    "ext_death_lstm_in_hosp_resampled_roc_std = ext_death_lstm_in_hosp_resampled_roc_df.groupby('fpr').agg({'tpr': ['mean', 'std']})['tpr']['std']\n",
    "ext_death_lstm_in_hosp_resampled_pr_std = ext_death_lstm_in_hosp_resampled_pr_df.groupby('recall').agg({'precision': ['mean', 'std']})['precision']['std']"
   ]
  },
  {
   "attachments": {},
   "cell_type": "markdown",
   "metadata": {
    "collapsed": false
   },
   "source": [
    "### Resampled ROC curve with fold variation\n"
   ]
  },
  {
   "cell_type": "code",
   "execution_count": null,
   "metadata": {
    "ExecuteTime": {
     "end_time": "2024-03-04T13:53:31.787289Z",
     "start_time": "2024-03-04T13:53:31.715921Z"
    }
   },
   "outputs": [],
   "source": [
    "def plot_roc_auc_curve(transformer_roc_df, transformer_resampled_roc_df, transformer_resampled_roc_std, transformer_roc_auc, transformer_selected_fold,\n",
    "                            xgb_roc_df, xgb_resampled_roc_df, xgb_resampled_roc_std, xgb_roc_auc, xgb_selected_fold,\n",
    "                            lstm_roc_df, lstm_resampled_roc_df, lstm_resampled_roc_std, lstm_roc_auc, lstm_selected_fold,\n",
    "                           thrivec_resampled_tpr, thrivec_resampled_roc_std, thrivec_roc_auc,\n",
    "                           ax, plot_legend = True, tick_label_size = 11, label_font_size = 13):\n",
    "\n",
    "    all_colors_palette = sns.color_palette(['#f61067', '#049b9a', '#012D98', '#a76dfe'], n_colors=4)\n",
    "    n_float_numbers = 3\n",
    "    \n",
    "    ## Main model: Transformer\n",
    "    # plot variation across folds (+/- 1 std)\n",
    "    error = 1*transformer_resampled_roc_std.values\n",
    "    lower = transformer_resampled_roc_df[transformer_resampled_roc_df.fold == transformer_selected_fold].tpr - error\n",
    "    upper = transformer_resampled_roc_df[transformer_resampled_roc_df.fold == transformer_selected_fold].tpr + error\n",
    "    ax.fill_between(transformer_resampled_roc_std.index, lower, upper, alpha=0.2, color=all_colors_palette[0])\n",
    "    \n",
    "    # Plot selected fold in bold\n",
    "    ax = sns.lineplot(data=transformer_roc_df[transformer_roc_df.fold == transformer_selected_fold], x='fpr', y='tpr', color=all_colors_palette[0], label=f'Transformer (area = %0.{n_float_numbers}f)' % transformer_roc_auc,\n",
    "                       ax=ax, errorbar=None)\n",
    "    \n",
    "    \n",
    "    ## Comparators: THRIVE-C\n",
    "    # plot variation across folds (+/- 1 std)\n",
    "    error = 1*thrivec_resampled_roc_std.values\n",
    "    lower = thrivec_resampled_tpr - error\n",
    "    upper = thrivec_resampled_tpr + error\n",
    "    ax.fill_between(np.linspace(0, 1, 200), lower, upper, alpha=0.1, color=all_colors_palette[1])\n",
    "    \n",
    "    # Plot THRIVE-C in bold\n",
    "    sns.lineplot(x=np.linspace(0, 1, 200), y=thrivec_resampled_tpr, color=all_colors_palette[1], label=f'THRIVE-C (area = %0.{n_float_numbers}f)' % thrivec_roc_auc,\n",
    "                 ax=ax, linewidth=2)\n",
    "    \n",
    "    ## Comparators: XGBoost \n",
    "    error = 1*xgb_resampled_roc_std.values\n",
    "    lower = xgb_resampled_roc_df[xgb_resampled_roc_df.fold == xgb_selected_fold].tpr - error\n",
    "    upper = xgb_resampled_roc_df[xgb_resampled_roc_df.fold == xgb_selected_fold].tpr + error\n",
    "    ax.fill_between(xgb_resampled_roc_std.index, lower, upper, alpha=0.2, color=all_colors_palette[2])   \n",
    "    ax = sns.lineplot(data=xgb_roc_df[xgb_roc_df.fold == xgb_selected_fold], x='fpr', y='tpr', color=all_colors_palette[2], label=f'XGBoost (area = %0.{n_float_numbers}f)' % xgb_roc_auc,\n",
    "                       ax=ax, errorbar=None)\n",
    "    \n",
    "    ## Comparators: LSTM\n",
    "    error = 1*lstm_resampled_roc_std.values\n",
    "    lower = lstm_resampled_roc_df[lstm_resampled_roc_df.fold == lstm_selected_fold].tpr - error\n",
    "    upper = lstm_resampled_roc_df[lstm_resampled_roc_df.fold == lstm_selected_fold].tpr + error\n",
    "    ax.fill_between(lstm_resampled_roc_std.index, lower, upper, alpha=0.2, color=all_colors_palette[3])\n",
    "    ax = sns.lineplot(data=lstm_roc_df[lstm_roc_df.fold == lstm_selected_fold], x='fpr', y='tpr', color=all_colors_palette[3], label=f'LSTM (area = %0.{n_float_numbers}f)' % lstm_roc_auc,\n",
    "                       ax=ax, errorbar=None)\n",
    "    \n",
    "    ax.plot([0, 1], [0, 1], color='grey', lw=1, linestyle='--', alpha=0.5)\n",
    "    \n",
    "    ax.set_xlabel('1 - Specificity (False Positive Rate)', fontsize=label_font_size)\n",
    "    ax.set_ylabel('Sensitivity (True Positive Rate)', fontsize=label_font_size)\n",
    "    ax.tick_params('x', labelsize=tick_label_size)\n",
    "    ax.tick_params('y', labelsize=tick_label_size)\n",
    "    \n",
    "    if plot_legend:\n",
    "        legend_markers, legend_labels = ax.get_legend_handles_labels()\n",
    "        sd1_patch = mpatches.Patch(color=all_colors_palette[0], alpha=0.3)\n",
    "        sd2_patch = mpatches.Patch(color=all_colors_palette[1], alpha=0.3)\n",
    "        sd_3_patch = mpatches.Patch(color=all_colors_palette[2], alpha=0.3)\n",
    "        sd_4_patch = mpatches.Patch(color=all_colors_palette[3], alpha=0.3)\n",
    "        sd_marker = (sd1_patch, sd2_patch, sd_3_patch, sd_4_patch)\n",
    "        sd_labels = '± s.d.'\n",
    "        legend_markers.append(sd_marker)\n",
    "        legend_labels.append(sd_labels)\n",
    "        ax.legend(legend_markers, legend_labels, fontsize=label_font_size,\n",
    "                  handler_map={tuple: HandlerTuple(ndivide=None)})\n",
    "    \n",
    "    else:\n",
    "        # remove legend\n",
    "        ax.get_legend().remove()\n",
    "    \n",
    "    fig = ax.get_figure()\n",
    "    return fig"
   ]
  },
  {
   "cell_type": "markdown",
   "metadata": {
    "collapsed": false
   },
   "source": [
    "#### Plot external validation death (3 months) ROC curve"
   ]
  },
  {
   "cell_type": "code",
   "execution_count": null,
   "metadata": {
    "ExecuteTime": {
     "end_time": "2024-03-04T13:53:32.100322Z",
     "start_time": "2024-03-04T13:53:31.719106Z"
    }
   },
   "outputs": [],
   "source": [
    "custom_params = {\"axes.spines.right\": False, \"axes.spines.top\": False, 'figure.figsize':(10,10)}\n",
    "sns.set_theme(style=\"whitegrid\", rc=custom_params, context=\"paper\", font_scale = 1)\n",
    "\n",
    "ax = plt.subplot(111)\n",
    "\n",
    "plot_roc_auc_curve(transformer_ext_death_roc_df, transformer_ext_death_resampled_roc_df, transformer_ext_death_resampled_roc_std, transformer_ext_death_roc_auc, death_transformer_selected_fold,\n",
    "                          death_ext_xgb_roc_df, death_ext_xgb_resampled_roc_df, death_ext_xgb_resampled_roc_std, xgb_ext_death_roc_auc, death_xgb_selected_fold,\n",
    "                            ext_death_lstm_roc_df, ext_death_lstm_resampled_roc_df, ext_death_lstm_resampled_roc_std, lstm_ext_death_roc_auc, death_lstm_selected_fold,\n",
    "                       ext_death_thrivec_resampled_tpr, ext_death_thrivec_resampled_roc_std, thrivec_ext_death_roc_auc, \n",
    "                       ax, plot_legend = True, tick_label_size = 11, label_font_size = 13)\n",
    "\n",
    "plt.show()"
   ]
  },
  {
   "cell_type": "markdown",
   "metadata": {
    "collapsed": false
   },
   "source": [
    "#### Plot external validation death in hospital ROC curve"
   ]
  },
  {
   "cell_type": "code",
   "execution_count": null,
   "metadata": {
    "ExecuteTime": {
     "end_time": "2024-03-04T13:53:32.494405Z",
     "start_time": "2024-03-04T13:53:32.107872Z"
    }
   },
   "outputs": [],
   "source": [
    "custom_params = {\"axes.spines.right\": False, \"axes.spines.top\": False, 'figure.figsize':(10,10)}\n",
    "sns.set_theme(style=\"whitegrid\", rc=custom_params, context=\"paper\", font_scale = 1)\n",
    "\n",
    "ax = plt.subplot(111)\n",
    "\n",
    "plot_roc_auc_curve(transformer_ext_death_in_hosp_roc_df, transformer_ext_death_in_hosp_resampled_roc_df, transformer_ext_death_in_hosp_resampled_roc_std, transformer_ext_death_in_hosp_roc_auc, death_in_hosp_transformer_selected_fold,\n",
    "                          death_ext_xgb_in_hosp_roc_df, death_ext_xgb_in_hosp_resampled_roc_df, death_ext_xgb_in_hosp_resampled_roc_std, xgb_ext_death_in_hosp_roc_auc, death_in_hosp_xgb_selected_fold,\n",
    "                            ext_death_lstm_in_hosp_roc_df, ext_death_lstm_in_hosp_resampled_roc_df, ext_death_lstm_in_hosp_resampled_roc_std, lstm_ext_death_in_hosp_roc_auc, death_in_hosp_lstm_selected_fold,\n",
    "                          ext_death_in_hosp_thrivec_resampled_tpr, ext_death_in_hosp_thrivec_resampled_roc_std, ext_death_in_hosp_thrivec_roc_auc,\n",
    "                          ax, plot_legend = True, tick_label_size = 11, label_font_size = 13)\n",
    "\n",
    "plt.show()"
   ]
  },
  {
   "attachments": {},
   "cell_type": "markdown",
   "metadata": {
    "collapsed": false
   },
   "source": [
    "### Overall Precision-Recall curve"
   ]
  },
  {
   "cell_type": "code",
   "execution_count": null,
   "metadata": {
    "ExecuteTime": {
     "end_time": "2024-03-04T13:53:32.518584Z",
     "start_time": "2024-03-04T13:53:32.504032Z"
    }
   },
   "outputs": [],
   "source": [
    "def plot_pr_curve(transformer_pr_df, transformer_resampled_pr_df, transformer_resampled_pr_std, transformer_pr_aucs, transformer_selected_fold,\n",
    "                    xgb_pr_df, xgb_resampled_pr_df, xgb_resampled_pr_std, xgb_pr_aucs, xgb_selected_fold,\n",
    "                    lstm_pr_df, lstm_resampled_pr_df, lstm_resampled_pr_std, lstm_pr_aucs, lstm_selected_fold,\n",
    "                      thrivec_resampled_precision, thrivec_resampled_pr_std, thrivec_pr_auc,\n",
    "                      ax1, plot_legend = True, tick_label_size = 11, label_font_size = 13):\n",
    "    \n",
    "    all_colors_palette = sns.color_palette(['#f61067', '#049b9a', '#012D98', '#a76dfe'], n_colors=4)\n",
    "    n_float_numbers = 3\n",
    "\n",
    "\n",
    "    ## Main model: Transformer\n",
    "    # plot variation across folds (+/- 1 std)\n",
    "    error = 1*transformer_resampled_pr_std.values\n",
    "    lower = transformer_resampled_pr_df[transformer_resampled_pr_df.fold == transformer_selected_fold].precision - error\n",
    "    upper = transformer_resampled_pr_df[transformer_resampled_pr_df.fold == transformer_selected_fold].precision + error\n",
    "    ax1.fill_between(transformer_resampled_pr_std.index, lower, upper, alpha=0.2, color=all_colors_palette[0])\n",
    "    \n",
    "    # Plot selected fold in bold\n",
    "    ax1 = sns.lineplot(data=transformer_pr_df[transformer_pr_df.fold == transformer_selected_fold], x='recall', y='precision', color=all_colors_palette[0], label=f'Transformer (area = %0.{n_float_numbers}f)' % transformer_pr_aucs[transformer_selected_fold],\n",
    "                       ax=ax1, errorbar=None)\n",
    "    \n",
    "    ## Comparators: THRIVE-C\n",
    "    # plot variation across folds (+/- 1 std)\n",
    "    error = 1*thrivec_resampled_pr_std.values\n",
    "    lower = thrivec_resampled_precision - error\n",
    "    upper = thrivec_resampled_precision + error\n",
    "    ax1.fill_between(np.linspace(0, 1, 200), lower, upper, alpha=0.1, color=all_colors_palette[1])\n",
    "    \n",
    "    # Plot THRIVE-C in bold\n",
    "    sns.lineplot(x=np.linspace(0, 1, 200), y=thrivec_resampled_precision, color=all_colors_palette[1], label='THRIVE-C (area = %0.2f)' % thrivec_pr_auc,\n",
    "                 ax=ax1, linewidth=2)\n",
    "    \n",
    "    ## Comparators: XGBoost\n",
    "    error = 1*xgb_resampled_pr_std.values\n",
    "    lower = xgb_resampled_pr_df[xgb_resampled_pr_df.fold == xgb_selected_fold].precision - error\n",
    "    upper = xgb_resampled_pr_df[xgb_resampled_pr_df.fold == xgb_selected_fold].precision + error\n",
    "    ax1.fill_between(xgb_resampled_pr_std.index, lower, upper, alpha=0.2, color=all_colors_palette[2])\n",
    "    ax1 = sns.lineplot(data=xgb_pr_df[xgb_pr_df.fold == xgb_selected_fold], x='recall', y='precision', color=all_colors_palette[2], label=f'XGBoost (area = %0.{n_float_numbers}f)' % xgb_pr_aucs[xgb_selected_fold],\n",
    "                       ax=ax1, errorbar=None)\n",
    "    \n",
    "    ## Comparators: LSTM\n",
    "    error = 1*lstm_resampled_pr_std.values\n",
    "    lower = lstm_resampled_pr_df[lstm_resampled_pr_df.fold == lstm_selected_fold].precision - error\n",
    "    upper = lstm_resampled_pr_df[lstm_resampled_pr_df.fold == lstm_selected_fold].precision + error\n",
    "    ax1.fill_between(lstm_resampled_pr_std.index, lower, upper, alpha=0.2, color=all_colors_palette[3])\n",
    "    ax1 = sns.lineplot(data=lstm_pr_df[lstm_pr_df.fold == lstm_selected_fold], x='recall', y='precision', color=all_colors_palette[3], label=f'LSTM (area = %0.{n_float_numbers}f)' % lstm_pr_aucs[lstm_selected_fold],\n",
    "                       ax=ax1, errorbar=None)\n",
    "    \n",
    "    ax1.set_xlabel('Recall', fontsize=label_font_size)\n",
    "    ax1.set_ylabel('Precision', fontsize=label_font_size)\n",
    "    ax1.tick_params('x', labelsize=tick_label_size)\n",
    "    ax1.tick_params('y', labelsize=tick_label_size)\n",
    "    \n",
    "    if plot_legend:\n",
    "        legend_markers, legend_labels = ax1.get_legend_handles_labels()\n",
    "        sd1_patch = mpatches.Patch(color=all_colors_palette[0], alpha=0.3)\n",
    "        sd2_patch = mpatches.Patch(color=all_colors_palette[1], alpha=0.3)\n",
    "        sd3_patch = mpatches.Patch(color=all_colors_palette[2], alpha=0.3)\n",
    "        sd4_patch = mpatches.Patch(color=all_colors_palette[3], alpha=0.3)\n",
    "        sd_marker = (sd1_patch, sd2_patch, sd3_patch, sd4_patch)\n",
    "        sd_labels = '± s.d.'\n",
    "        legend_markers.append(sd_marker)\n",
    "        legend_labels.append(sd_labels)\n",
    "        ax1.legend(legend_markers, legend_labels, fontsize=label_font_size,\n",
    "                  handler_map={tuple: HandlerTuple(ndivide=None)})\n",
    "    \n",
    "    else:\n",
    "        # remove legend\n",
    "        ax1.get_legend().remove()\n",
    "    \n",
    "    fig1 = ax1.get_figure()\n",
    "    return fig1"
   ]
  },
  {
   "cell_type": "markdown",
   "metadata": {
    "collapsed": false
   },
   "source": [
    "## Plot PR curve for external validation death"
   ]
  },
  {
   "cell_type": "code",
   "execution_count": null,
   "metadata": {
    "ExecuteTime": {
     "end_time": "2024-03-04T13:53:32.903433Z",
     "start_time": "2024-03-04T13:53:32.510994Z"
    }
   },
   "outputs": [],
   "source": [
    "custom_params = {\"axes.spines.right\": False, \"axes.spines.top\": False, 'figure.figsize':(10,10)}\n",
    "sns.set_theme(style=\"whitegrid\", rc=custom_params, context=\"paper\", font_scale = 1)\n",
    "\n",
    "ax1 = plt.subplot(111)\n",
    "\n",
    "fig1 = plot_pr_curve(transformer_ext_death_pr_df, transformer_ext_death_resampled_pr_df, transformer_ext_death_resampled_pr_std, transformer_ext_death_pr_aucs, death_transformer_selected_fold,\n",
    "                    death_ext_xgb_pr_df, death_ext_xgb_resampled_pr_df, death_ext_xgb_resampled_pr_std, death_ext_xgb_pr_aucs, death_xgb_selected_fold,\n",
    "                    ext_death_lstm_pr_df, ext_death_lstm_resampled_pr_df, ext_death_lstm_resampled_pr_std, ext_death_lstm_pr_aucs, death_lstm_selected_fold,\n",
    "                      ext_death_thrivec_resampled_precision, ext_death_thrivec_resampled_pr_std, ext_death_thrivec_pr_auc,\n",
    "                      ax1, plot_legend = True, tick_label_size = 11, label_font_size = 13)\n",
    "\n",
    "plt.show()"
   ]
  },
  {
   "cell_type": "markdown",
   "metadata": {
    "collapsed": false
   },
   "source": [
    "## Plot PR curve for external validation death in hospital"
   ]
  },
  {
   "cell_type": "code",
   "execution_count": null,
   "metadata": {
    "ExecuteTime": {
     "end_time": "2024-03-04T13:53:33.241871Z",
     "start_time": "2024-03-04T13:53:32.901449Z"
    }
   },
   "outputs": [],
   "source": [
    "custom_params = {\"axes.spines.right\": False, \"axes.spines.top\": False, 'figure.figsize':(10,10)}\n",
    "sns.set_theme(style=\"whitegrid\", rc=custom_params, context=\"paper\", font_scale = 1)\n",
    "\n",
    "ax1 = plt.subplot(111)\n",
    "\n",
    "fig1 = plot_pr_curve(transformer_ext_death_in_hosp_pr_df, transformer_ext_death_in_hosp_resampled_pr_df, transformer_ext_death_in_hosp_resampled_pr_std, transformer_ext_death_in_hosp_pr_aucs, death_in_hosp_transformer_selected_fold,\n",
    "                    death_ext_xgb_in_hosp_pr_df, death_ext_xgb_in_hosp_resampled_pr_df, death_ext_xgb_in_hosp_resampled_pr_std, death_ext_xgb_in_hosp_pr_aucs, death_in_hosp_xgb_selected_fold,\n",
    "                    ext_death_lstm_in_hosp_pr_df, ext_death_lstm_in_hosp_resampled_pr_df, ext_death_lstm_in_hosp_resampled_pr_std, ext_death_lstm_in_hosp_pr_aucs, death_in_hosp_lstm_selected_fold,\n",
    "                      ext_death_in_hosp_thrivec_resampled_precision, ext_death_in_hosp_thrivec_resampled_pr_std, ext_death_in_hosp_thrivec_pr_auc,\n",
    "                      ax1, plot_legend = True, tick_label_size = 11, label_font_size = 13)\n",
    "\n",
    "plt.show()"
   ]
  },
  {
   "cell_type": "markdown",
   "metadata": {
    "collapsed": false
   },
   "source": [
    "### Combined plot with external validation"
   ]
  },
  {
   "cell_type": "code",
   "execution_count": null,
   "metadata": {
    "ExecuteTime": {
     "end_time": "2024-03-04T13:53:34.952768Z",
     "start_time": "2024-03-04T13:53:33.241162Z"
    }
   },
   "outputs": [],
   "source": [
    "sns.set_theme(style=\"whitegrid\", context=\"paper\", font_scale = 1)\n",
    "\n",
    "cm = 1/2.54  # centimeters in inches\n",
    "main_fig2 = plt.figure(figsize=(18 * cm, 20 * cm))\n",
    "\n",
    "tick_label_size = 6\n",
    "label_font_size = 7\n",
    "subplot_number_font_size = 9\n",
    "suptitle_font_size = 10\n",
    "plot_subplot_titles = True\n",
    "\n",
    "subfigs = main_fig2.subfigures(2, 1, wspace=0.07, height_ratios=[1, 1])\n",
    "    \n",
    "# External validation death (3 months)\n",
    "subfigs[0].suptitle('I. Prediction of mortality (3 months)', fontsize=suptitle_font_size, horizontalalignment='left', x=0.1, y=1.0)\n",
    "\n",
    "ax5, ax6 = subfigs[0].subplots(1, 2)\n",
    "subfigs[0].subplots_adjust(wspace=0.3)\n",
    "\n",
    "plot_roc_auc_curve(transformer_ext_death_roc_df, transformer_ext_death_resampled_roc_df, transformer_ext_death_resampled_roc_std, transformer_ext_death_roc_auc, death_transformer_selected_fold,\n",
    "                    death_ext_xgb_roc_df, death_ext_xgb_resampled_roc_df, death_ext_xgb_resampled_roc_std, xgb_ext_death_roc_auc, death_xgb_selected_fold,\n",
    "                    ext_death_lstm_roc_df, ext_death_lstm_resampled_roc_df, ext_death_lstm_resampled_roc_std, lstm_ext_death_roc_auc, death_lstm_selected_fold,\n",
    "                    ext_death_thrivec_resampled_tpr, ext_death_thrivec_resampled_roc_std, thrivec_ext_death_roc_auc,\n",
    "                    ax5, plot_legend = True, tick_label_size = tick_label_size, label_font_size = label_font_size)\n",
    "\n",
    "if plot_subplot_titles:\n",
    "    ax5.set_title('A.', fontsize=subplot_number_font_size, horizontalalignment='left', x=-0.1)\n",
    "    \n",
    "plot_pr_curve(transformer_ext_death_pr_df, transformer_ext_death_resampled_pr_df, transformer_ext_death_resampled_pr_std, transformer_ext_death_pr_aucs, death_transformer_selected_fold,\n",
    "                    death_ext_xgb_pr_df, death_ext_xgb_resampled_pr_df, death_ext_xgb_resampled_pr_std, death_ext_xgb_pr_aucs, death_xgb_selected_fold,\n",
    "                    ext_death_lstm_pr_df, ext_death_lstm_resampled_pr_df, ext_death_lstm_resampled_pr_std, ext_death_lstm_pr_aucs, death_lstm_selected_fold,\n",
    "                      ext_death_thrivec_resampled_precision, ext_death_thrivec_resampled_pr_std, ext_death_thrivec_pr_auc,\n",
    "                      ax6, plot_legend = True, tick_label_size = tick_label_size, label_font_size = label_font_size)\n",
    "\n",
    "if plot_subplot_titles:\n",
    "    ax6.set_title('B.', fontsize=subplot_number_font_size, horizontalalignment='left', x=-0.1)\n",
    "\n",
    "\n",
    "# External validation death in hospital\n",
    "subfigs[1].suptitle('II. Prediction of mortality (in hospital)', fontsize=suptitle_font_size, horizontalalignment='left', x=0.1, y=1.0)\n",
    "\n",
    "ax7, ax8 = subfigs[1].subplots(1, 2)\n",
    "subfigs[1].subplots_adjust(wspace=0.3)\n",
    "\n",
    "plot_roc_auc_curve(transformer_ext_death_in_hosp_roc_df, transformer_ext_death_in_hosp_resampled_roc_df, transformer_ext_death_in_hosp_resampled_roc_std, transformer_ext_death_in_hosp_roc_auc, death_in_hosp_transformer_selected_fold,\n",
    "                    death_ext_xgb_in_hosp_roc_df, death_ext_xgb_in_hosp_resampled_roc_df, death_ext_xgb_in_hosp_resampled_roc_std, xgb_ext_death_in_hosp_roc_auc, death_in_hosp_xgb_selected_fold,\n",
    "                    ext_death_lstm_in_hosp_roc_df, ext_death_lstm_in_hosp_resampled_roc_df, ext_death_lstm_in_hosp_resampled_roc_std, lstm_ext_death_in_hosp_roc_auc, death_in_hosp_lstm_selected_fold,\n",
    "                    ext_death_in_hosp_thrivec_resampled_tpr, ext_death_in_hosp_thrivec_resampled_roc_std, ext_death_in_hosp_thrivec_roc_auc,\n",
    "                    ax7, plot_legend = True, tick_label_size = tick_label_size, label_font_size = label_font_size)\n",
    "\n",
    "if plot_subplot_titles:\n",
    "    ax7.set_title('C.', fontsize=subplot_number_font_size, horizontalalignment='left', x=-0.1)\n",
    "    \n",
    "plot_pr_curve(transformer_ext_death_in_hosp_pr_df, transformer_ext_death_in_hosp_resampled_pr_df, transformer_ext_death_in_hosp_resampled_pr_std, transformer_ext_death_in_hosp_pr_aucs, death_in_hosp_transformer_selected_fold,\n",
    "                    death_ext_xgb_in_hosp_pr_df, death_ext_xgb_in_hosp_resampled_pr_df, death_ext_xgb_in_hosp_resampled_pr_std, death_ext_xgb_in_hosp_pr_aucs, death_in_hosp_xgb_selected_fold,\n",
    "                    ext_death_lstm_in_hosp_pr_df, ext_death_lstm_in_hosp_resampled_pr_df, ext_death_lstm_in_hosp_resampled_pr_std, ext_death_lstm_in_hosp_pr_aucs, death_in_hosp_lstm_selected_fold,\n",
    "                      ext_death_in_hosp_thrivec_resampled_precision, ext_death_in_hosp_thrivec_resampled_pr_std, ext_death_in_hosp_thrivec_pr_auc,\n",
    "                      ax8, plot_legend = True, tick_label_size = tick_label_size, label_font_size = label_font_size)\n",
    "\n",
    "if plot_subplot_titles:\n",
    "    ax8.set_title('D.', fontsize=subplot_number_font_size, horizontalalignment='left', x=-0.1)\n",
    "    \n",
    "plt.show()"
   ]
  },
  {
   "cell_type": "code",
   "execution_count": null,
   "metadata": {
    "ExecuteTime": {
     "end_time": "2024-03-04T13:53:34.955645Z",
     "start_time": "2024-03-04T13:53:34.951574Z"
    }
   },
   "outputs": [],
   "source": [
    "# main_fig2.savefig(os.path.join(output_dir, 'external_validation_comparative_figure.tiff'), bbox_inches=\"tight\", format='tiff', dpi=1200)\n"
   ]
  },
  {
   "cell_type": "markdown",
   "metadata": {
    "collapsed": false
   },
   "source": [
    "reversed order"
   ]
  },
  {
   "cell_type": "code",
   "execution_count": null,
   "metadata": {
    "ExecuteTime": {
     "end_time": "2024-03-04T13:53:36.243781Z",
     "start_time": "2024-03-04T13:53:34.954441Z"
    }
   },
   "outputs": [],
   "source": [
    "sns.set_theme(style=\"whitegrid\", context=\"paper\", font_scale = 1)\n",
    "\n",
    "cm = 1/2.54  # centimeters in inches\n",
    "main_fig2 = plt.figure(figsize=(18 * cm, 20 * cm))\n",
    "\n",
    "tick_label_size = 6\n",
    "label_font_size = 7\n",
    "subplot_number_font_size = 9\n",
    "suptitle_font_size = 10\n",
    "plot_subplot_titles = True\n",
    "\n",
    "subfigs = main_fig2.subfigures(2, 1, wspace=0.07, height_ratios=[1, 1])\n",
    "\n",
    "\n",
    "# External validation death in hospital\n",
    "subfigs[0].suptitle('I. Prediction of mortality (in hospital)', fontsize=suptitle_font_size, horizontalalignment='left', x=0.1, y=1.0)\n",
    "\n",
    "ax7, ax8 = subfigs[0].subplots(1, 2)\n",
    "subfigs[0].subplots_adjust(wspace=0.3)\n",
    "\n",
    "plot_roc_auc_curve(transformer_ext_death_in_hosp_roc_df, transformer_ext_death_in_hosp_resampled_roc_df, transformer_ext_death_in_hosp_resampled_roc_std, transformer_ext_death_in_hosp_roc_auc, death_in_hosp_transformer_selected_fold,\n",
    "                    death_ext_xgb_in_hosp_roc_df, death_ext_xgb_in_hosp_resampled_roc_df, death_ext_xgb_in_hosp_resampled_roc_std, xgb_ext_death_in_hosp_roc_auc, death_in_hosp_xgb_selected_fold,\n",
    "                    ext_death_lstm_in_hosp_roc_df, ext_death_lstm_in_hosp_resampled_roc_df, ext_death_lstm_in_hosp_resampled_roc_std, lstm_ext_death_in_hosp_roc_auc, death_in_hosp_lstm_selected_fold,\n",
    "                    ext_death_in_hosp_thrivec_resampled_tpr, ext_death_in_hosp_thrivec_resampled_roc_std, ext_death_in_hosp_thrivec_roc_auc,\n",
    "                    ax7, plot_legend = True, tick_label_size = tick_label_size, label_font_size = label_font_size)\n",
    "\n",
    "if plot_subplot_titles:\n",
    "    ax7.set_title('A.', fontsize=subplot_number_font_size, horizontalalignment='left', x=-0.1)\n",
    "    \n",
    "plot_pr_curve(transformer_ext_death_in_hosp_pr_df, transformer_ext_death_in_hosp_resampled_pr_df, transformer_ext_death_in_hosp_resampled_pr_std, transformer_ext_death_in_hosp_pr_aucs, death_in_hosp_transformer_selected_fold,\n",
    "                    death_ext_xgb_in_hosp_pr_df, death_ext_xgb_in_hosp_resampled_pr_df, death_ext_xgb_in_hosp_resampled_pr_std, death_ext_xgb_in_hosp_pr_aucs, death_in_hosp_xgb_selected_fold,\n",
    "                    ext_death_lstm_in_hosp_pr_df, ext_death_lstm_in_hosp_resampled_pr_df, ext_death_lstm_in_hosp_resampled_pr_std, ext_death_lstm_in_hosp_pr_aucs, death_in_hosp_lstm_selected_fold,\n",
    "                      ext_death_in_hosp_thrivec_resampled_precision, ext_death_in_hosp_thrivec_resampled_pr_std, ext_death_in_hosp_thrivec_pr_auc,\n",
    "                      ax8, plot_legend = True, tick_label_size = tick_label_size, label_font_size = label_font_size)\n",
    "\n",
    "if plot_subplot_titles:\n",
    "    ax8.set_title('B.', fontsize=subplot_number_font_size, horizontalalignment='left', x=-0.1)\n",
    "\n",
    "\n",
    "# External validation death (3 months)\n",
    "subfigs[1].suptitle('II. Prediction of mortality (3 months)', fontsize=suptitle_font_size, horizontalalignment='left', x=0.1, y=1.0)\n",
    "\n",
    "ax5, ax6 = subfigs[1].subplots(1, 2)\n",
    "subfigs[1].subplots_adjust(wspace=0.3)\n",
    "\n",
    "plot_roc_auc_curve(transformer_ext_death_roc_df, transformer_ext_death_resampled_roc_df, transformer_ext_death_resampled_roc_std, transformer_ext_death_roc_auc, death_transformer_selected_fold,\n",
    "                    death_ext_xgb_roc_df, death_ext_xgb_resampled_roc_df, death_ext_xgb_resampled_roc_std, xgb_ext_death_roc_auc, death_xgb_selected_fold,\n",
    "                    ext_death_lstm_roc_df, ext_death_lstm_resampled_roc_df, ext_death_lstm_resampled_roc_std, lstm_ext_death_roc_auc, death_lstm_selected_fold,\n",
    "                    ext_death_thrivec_resampled_tpr, ext_death_thrivec_resampled_roc_std, thrivec_ext_death_roc_auc,\n",
    "                    ax5, plot_legend = True, tick_label_size = tick_label_size, label_font_size = label_font_size)\n",
    "\n",
    "if plot_subplot_titles:\n",
    "    ax5.set_title('C.', fontsize=subplot_number_font_size, horizontalalignment='left', x=-0.1)\n",
    "    \n",
    "plot_pr_curve(transformer_ext_death_pr_df, transformer_ext_death_resampled_pr_df, transformer_ext_death_resampled_pr_std, transformer_ext_death_pr_aucs, death_transformer_selected_fold,\n",
    "                    death_ext_xgb_pr_df, death_ext_xgb_resampled_pr_df, death_ext_xgb_resampled_pr_std, death_ext_xgb_pr_aucs, death_xgb_selected_fold,\n",
    "                    ext_death_lstm_pr_df, ext_death_lstm_resampled_pr_df, ext_death_lstm_resampled_pr_std, ext_death_lstm_pr_aucs, death_lstm_selected_fold,\n",
    "                      ext_death_thrivec_resampled_precision, ext_death_thrivec_resampled_pr_std, ext_death_thrivec_pr_auc,\n",
    "                      ax6, plot_legend = True, tick_label_size = tick_label_size, label_font_size = label_font_size)\n",
    "\n",
    "if plot_subplot_titles:\n",
    "    ax6.set_title('D.', fontsize=subplot_number_font_size, horizontalalignment='left', x=-0.1)\n",
    "\n",
    "\n",
    "    \n",
    "plt.show()"
   ]
  },
  {
   "cell_type": "code",
   "execution_count": null,
   "metadata": {
    "ExecuteTime": {
     "end_time": "2024-03-04T13:54:41.134089Z",
     "start_time": "2024-03-04T13:54:38.267425Z"
    }
   },
   "outputs": [],
   "source": [
    "# main_fig2.savefig(os.path.join(output_dir, 'external_validation_comparative_figure_reversed.tiff'), bbox_inches=\"tight\", format='tiff', dpi=1200)"
   ]
  },
  {
   "cell_type": "code",
   "execution_count": null,
   "metadata": {},
   "outputs": [],
   "source": []
  }
 ],
 "metadata": {
  "kernelspec": {
   "display_name": "Python 3",
   "language": "python",
   "name": "python3"
  },
  "language_info": {
   "codemirror_mode": {
    "name": "ipython",
    "version": 3
   },
   "file_extension": ".py",
   "mimetype": "text/x-python",
   "name": "python",
   "nbconvert_exporter": "python",
   "pygments_lexer": "ipython3",
   "version": "3.8.11"
  }
 },
 "nbformat": 4,
 "nbformat_minor": 0
}
