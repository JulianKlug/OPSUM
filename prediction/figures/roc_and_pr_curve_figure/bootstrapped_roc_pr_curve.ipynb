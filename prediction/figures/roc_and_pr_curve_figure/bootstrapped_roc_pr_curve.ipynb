{
 "cells": [
  {
   "cell_type": "markdown",
   "metadata": {
    "collapsed": false
   },
   "source": [
    "# ROC Curve comparison with confidence intervals"
   ]
  },
  {
   "cell_type": "code",
   "execution_count": null,
   "metadata": {
    "ExecuteTime": {
     "end_time": "2023-04-22T17:44:54.016914Z",
     "start_time": "2023-04-22T17:44:54.013790Z"
    }
   },
   "outputs": [],
   "source": [
    "import pickle\n",
    "import numpy as np\n",
    "import os\n",
    "import matplotlib.pyplot as plt\n",
    "from tqdm import tqdm\n",
    "import seaborn as sns\n",
    "import pandas as pd\n",
    "from sklearn.metrics import roc_curve, auc, precision_recall_curve\n",
    "import matplotlib.patches as mpatches\n",
    "from matplotlib.legend_handler import HandlerTuple"
   ]
  },
  {
   "cell_type": "code",
   "execution_count": null,
   "metadata": {
    "ExecuteTime": {
     "end_time": "2023-04-22T18:00:58.220300Z",
     "start_time": "2023-04-22T18:00:58.214409Z"
    }
   },
   "outputs": [],
   "source": [
    "lstm_bs_predictions_path = '/Users/jk1/temp/opsum_prediction_output/LSTM_72h_testing/3M_mRS01/2023_01_06_1847/test_LSTM_sigmoid_all_unchanged_0.0_2_True_RMSprop_3M mRS 0-1_128_3/bootstrapped_gt_and_pred.pkl'\n",
    "thrive_c_bs_mrs02_predictions_path = '/Users/jk1/temp/opsum_prediction_output/THRIVE_C/THRIVE_C_3m_mrs02_predictions/bootstrapped_gt_and_pred.pkl'\n",
    "thrive_c_bs_death_predictions_path = '/Users/jk1/temp/opsum_prediction_output/THRIVE_C/THRIVE_C_3m_death_predictions/3m_death_bootstrapped_gt_and_pred.pkl'\n",
    "xgb_bs_predictions_path = '/Users/jk1/temp/opsum_prediction_output/linear_72h_xgb/with_feature_aggregration/testing/bootstrapped_gt_and_pred.pkl'\n",
    "transformer_bs_death_predictions_path = '/Users/jk1/temp/opsum_prediction_output/transformer/3M_Death/testing/fold_1_bootstrapped_gt_and_pred.pkl'\n",
    "transformer_bs_mrs02_predictions_path = '/Users/jk1/temp/opsum_prediction_output/transformer/3M_mrs02/transformer_20230402_184459_test_set_evaluation/fold_2_bootstrapped_gt_and_pred.pkl'\n",
    "output_dir = '/Users/jk1/Downloads'\n",
    "outcome = '3M Death'"
   ]
  },
  {
   "cell_type": "code",
   "execution_count": null,
   "metadata": {
    "ExecuteTime": {
     "end_time": "2023-04-22T18:00:58.607643Z",
     "start_time": "2023-04-22T18:00:58.598150Z"
    }
   },
   "outputs": [],
   "source": [
    "if outcome == '3M Death':\n",
    "    transformer_bs_predictions_path = transformer_bs_death_predictions_path\n",
    "    thrive_c_bs_predictions_path = thrive_c_bs_death_predictions_path\n",
    "elif outcome == '3M mRS 0-2':\n",
    "    transformer_bs_predictions_path = transformer_bs_mrs02_predictions_path\n",
    "    thrive_c_bs_predictions_path = thrive_c_bs_mrs02_predictions_path\n",
    "else:\n",
    "    raise ValueError('Outcome not supported')"
   ]
  },
  {
   "cell_type": "code",
   "execution_count": null,
   "metadata": {
    "ExecuteTime": {
     "end_time": "2023-04-22T18:01:00.538639Z",
     "start_time": "2023-04-22T18:00:59.864696Z"
    }
   },
   "outputs": [],
   "source": [
    "lstm_bs_gt, lstm_bs_predictions = pickle.load(open(lstm_bs_predictions_path, 'rb'))\n",
    "thrivec_bs_gt, thrivec_bs_predictions = pickle.load(open(thrive_c_bs_predictions_path, 'rb'))\n",
    "# xgb_bs_gt, xgb_bs_predictions = pickle.load(open(xgb_bs_predictions_path, 'rb'))\n",
    "transformer_bs_gt, transformer_bs_predictions = pickle.load(open(transformer_bs_predictions_path, 'rb'))"
   ]
  },
  {
   "cell_type": "code",
   "execution_count": null,
   "metadata": {
    "ExecuteTime": {
     "end_time": "2023-04-22T18:01:00.967026Z",
     "start_time": "2023-04-22T18:01:00.957257Z"
    }
   },
   "outputs": [],
   "source": [
    "all_colors_palette = sns.color_palette(['#f61067', '#049b9a', '#012D98', '#a76dfe'], n_colors=4)\n",
    "all_colors_palette"
   ]
  },
  {
   "cell_type": "markdown",
   "metadata": {
    "collapsed": false
   },
   "source": [
    "Compute resampled ROC curve and ROC area / PR curve and PR area for LSTM over bootstrapped samples"
   ]
  },
  {
   "cell_type": "code",
   "execution_count": null,
   "metadata": {
    "ExecuteTime": {
     "end_time": "2023-04-22T18:01:02.358068Z",
     "start_time": "2023-04-22T18:01:02.351940Z"
    }
   },
   "outputs": [],
   "source": [
    "def compute_boostrapped_auc_and_pr_curves(bs_gt, bs_predictions, interpolations_points=200):\n",
    "    bs_roc_aucs = []\n",
    "    bs_pr_aucs = []\n",
    "\n",
    "    resampled_roc_df = pd.DataFrame()\n",
    "    resampled_pr_df = pd.DataFrame()\n",
    "\n",
    "    for idx in tqdm(range(len(bs_predictions))):\n",
    "        # calculate the ROC curve and AUC\n",
    "        bs_fpr, bs_tpr, _ = roc_curve(bs_gt[idx], bs_predictions[idx])\n",
    "        bs_roc_auc = auc(bs_fpr, bs_tpr)\n",
    "        bs_roc_aucs.append(bs_roc_auc)\n",
    "\n",
    "        bs_precision, bs_recall, _ = precision_recall_curve(bs_gt[idx], bs_predictions[idx])\n",
    "        bs_pr_auc = auc(bs_recall, bs_precision)\n",
    "        bs_pr_aucs.append(bs_pr_auc)\n",
    "\n",
    "        bs_resampled_tpr = np.interp(np.linspace(0, 1, interpolations_points), bs_fpr, bs_tpr)\n",
    "        bs_resampled_roc_df = pd.DataFrame({'fpr': np.linspace(0,1,interpolations_points),  'tpr': bs_resampled_tpr})\n",
    "        bs_resampled_roc_df['bootstrap_idx'] = idx\n",
    "        resampled_roc_df = resampled_roc_df.append(bs_resampled_roc_df)\n",
    "\n",
    "        # sort by recall\n",
    "        bs_recall, bs_precision = zip(*sorted(zip(bs_recall, bs_precision)))\n",
    "        bs_resampled_precision = np.interp(np.linspace(0, 1, interpolations_points), bs_recall, bs_precision)\n",
    "        bs_resampled_pr_df = pd.DataFrame({'precision': bs_resampled_precision, 'recall': np.linspace(0, 1, interpolations_points)})\n",
    "        bs_resampled_pr_df['bootstrap_idx'] = idx\n",
    "        resampled_pr_df = resampled_pr_df.append(bs_resampled_pr_df)\n",
    "\n",
    "    return bs_roc_aucs, bs_pr_aucs, resampled_roc_df, resampled_pr_df"
   ]
  },
  {
   "cell_type": "code",
   "execution_count": null,
   "metadata": {
    "ExecuteTime": {
     "end_time": "2023-04-22T18:01:21.323739Z",
     "start_time": "2023-04-22T18:01:03.136795Z"
    }
   },
   "outputs": [],
   "source": [
    "lstm_bs_roc_aucs, lstm_bs_pr_aucs, lstm_resampled_roc_df, lstm_resampled_pr_df = compute_boostrapped_auc_and_pr_curves(lstm_bs_gt, lstm_bs_predictions)\n",
    "thrivec_bs_roc_aucs, thrivec_bs_pr_aucs, thrivec_resampled_roc_df, thrivec_resampled_pr_df = compute_boostrapped_auc_and_pr_curves(thrivec_bs_gt, thrivec_bs_predictions)\n",
    "# xgb_bs_roc_aucs, xgb_bs_pr_aucs, xgb_resampled_roc_df, xgb_resampled_pr_df = compute_boostrapped_auc_and_pr_curves(xgb_bs_gt, xgb_bs_predictions)\n",
    "transformer_bs_roc_aucs, transformer_bs_pr_aucs, transformer_resampled_roc_df, transformer_resampled_pr_df = compute_boostrapped_auc_and_pr_curves(transformer_bs_gt, transformer_bs_predictions)"
   ]
  },
  {
   "cell_type": "markdown",
   "metadata": {
    "collapsed": false
   },
   "source": [
    "### Bootstrapped resampled ROC curve\n"
   ]
  },
  {
   "cell_type": "code",
   "execution_count": null,
   "metadata": {
    "ExecuteTime": {
     "end_time": "2023-04-22T19:05:00.035018Z",
     "start_time": "2023-04-22T19:04:54.090970Z"
    }
   },
   "outputs": [],
   "source": [
    "custom_params = {\"axes.spines.right\": False, \"axes.spines.top\": False, 'figure.figsize':(10,10)}\n",
    "sns.set_theme(style=\"whitegrid\", rc=custom_params, context=\"paper\", font_scale = 1)\n",
    "\n",
    "ax = plt.subplot(111)\n",
    "\n",
    "plot_legend = True\n",
    "\n",
    "tick_label_size = 11\n",
    "label_font_size = 13\n",
    "\n",
    "# ax = sns.lineplot(data=lstm_resampled_roc_df, x='fpr', y='tpr', color=all_colors_palette[0], label='LSTM (area = %0.2f)' % np.median(lstm_bs_roc_aucs),\n",
    "#                    ax=ax, errorbar='sd')\n",
    "\n",
    "ax = sns.lineplot(data=thrivec_resampled_roc_df, x='fpr', y='tpr', color=all_colors_palette[1], label='THRIVE-C (area = %0.2f)' % np.median(thrivec_bs_roc_aucs),\n",
    "                   ax=ax, errorbar='sd')\n",
    "\n",
    "# ax = sns.lineplot(data=xgb_resampled_roc_df, x='fpr', y='tpr', color=all_colors_palette[2], label='XGBoost (area = %0.2f)' % np.median(xgb_bs_roc_aucs),\n",
    "#                    ax=ax, errorbar='sd')\n",
    "\n",
    "ax = sns.lineplot(data=transformer_resampled_roc_df, x='fpr', y='tpr', color=all_colors_palette[0], label='Transformer (area = %0.2f)' % np.median(transformer_bs_roc_aucs),\n",
    "                   ax=ax, errorbar='sd')\n",
    "\n",
    "ax.plot([0, 1], [0, 1], color='grey', lw=1, linestyle='--', alpha=0.5)\n",
    "\n",
    "ax.set_xlabel('1 - Specificity (False Positive Rate)', fontsize=label_font_size)\n",
    "ax.set_ylabel('Sensitivity (True Positive Rate)', fontsize=label_font_size)\n",
    "ax.tick_params('x', labelsize=tick_label_size)\n",
    "ax.tick_params('y', labelsize=tick_label_size)\n",
    "\n",
    "if plot_legend:\n",
    "    legend_markers, legend_labels = ax.get_legend_handles_labels()\n",
    "    sd1_patch = mpatches.Patch(color=all_colors_palette[0], alpha=0.3)\n",
    "    sd2_patch = mpatches.Patch(color=all_colors_palette[1], alpha=0.3)\n",
    "    # sd3_patch = mpatches.Patch(color=all_colors_palette[2], alpha=0.3)\n",
    "    # sd4_patch = mpatches.Patch(color=all_colors_palette[3], alpha=0.3)\n",
    "    # sd_marker = (sd1_patch, sd2_patch, sd3_patch, sd4_patch)\n",
    "    sd_marker = (sd1_patch, sd2_patch)\n",
    "    sd_labels = '± s.d.'\n",
    "    legend_markers.append(sd_marker)\n",
    "    legend_labels.append(sd_labels)\n",
    "    ax.legend(legend_markers, legend_labels, fontsize=label_font_size,\n",
    "              handler_map={tuple: HandlerTuple(ndivide=None)})\n",
    "\n",
    "else:\n",
    "    # remove legend\n",
    "    ax.get_legend().remove()\n",
    "\n",
    "fig = ax.get_figure()\n",
    "\n",
    "plt.show()"
   ]
  },
  {
   "cell_type": "code",
   "execution_count": null,
   "metadata": {
    "ExecuteTime": {
     "end_time": "2023-04-22T18:01:22.073692Z",
     "start_time": "2023-04-22T18:01:21.946036Z"
    }
   },
   "outputs": [],
   "source": [
    "fig.savefig(os.path.join(output_dir, f'roc_curve_{outcome.replace(\" \", \"_\")}.svg'), bbox_inches=\"tight\", format='svg', dpi=1200)"
   ]
  },
  {
   "cell_type": "markdown",
   "metadata": {
    "collapsed": false
   },
   "source": [
    "### Overall Precision-Recall curve"
   ]
  },
  {
   "cell_type": "code",
   "execution_count": null,
   "metadata": {
    "ExecuteTime": {
     "end_time": "2023-04-22T18:01:22.723287Z",
     "start_time": "2023-04-22T18:01:22.075436Z"
    }
   },
   "outputs": [],
   "source": [
    "custom_params = {\"axes.spines.right\": False, \"axes.spines.top\": False, 'figure.figsize':(10,10)}\n",
    "sns.set_theme(style=\"whitegrid\", rc=custom_params, context=\"paper\", font_scale = 1)\n",
    "\n",
    "ax1 = plt.subplot(111)\n",
    "\n",
    "plot_legend = True\n",
    "\n",
    "tick_label_size = 11\n",
    "label_font_size = 13\n",
    "\n",
    "# ax1 = sns.lineplot(data=lstm_resampled_pr_df, x='recall', y='precision', color=all_colors_palette[1], label='LSTM (area = %0.2f)' % np.median(lstm_bs_pr_aucs),\n",
    "#                    ax=ax1, errorbar='sd')\n",
    "\n",
    "ax1 = sns.lineplot(data=thrivec_resampled_pr_df, x='recall', y='precision', color=all_colors_palette[1], label='THRIVE-C (area = %0.2f)' % np.median(thrivec_bs_pr_aucs),\n",
    "                   ax=ax1, errorbar='sd')\n",
    "\n",
    "# ax1 = sns.lineplot(data=xgb_resampled_pr_df, x='recall', y='precision', color=all_colors_palette[2], label='XGBoost (area = %0.2f)' % np.median(xgb_bs_pr_aucs),\n",
    "#                    ax=ax1, errorbar='sd')\n",
    "\n",
    "ax1 = sns.lineplot(data=transformer_resampled_pr_df, x='recall', y='precision', color=all_colors_palette[0], label='Transformer (area = %0.2f)' % np.median(transformer_bs_pr_aucs),\n",
    "                   ax=ax1, errorbar='sd')\n",
    "\n",
    "# ax1.set_ylim(0, 1)\n",
    "\n",
    "ax1.set_xlabel('Recall', fontsize=label_font_size)\n",
    "ax1.set_ylabel('Precision', fontsize=label_font_size)\n",
    "ax1.tick_params('x', labelsize=tick_label_size)\n",
    "ax1.tick_params('y', labelsize=tick_label_size)\n",
    "\n",
    "if plot_legend:\n",
    "    legend_markers, legend_labels = ax1.get_legend_handles_labels()\n",
    "    sd1_patch = mpatches.Patch(color=all_colors_palette[0], alpha=0.3)\n",
    "    sd2_patch = mpatches.Patch(color=all_colors_palette[1], alpha=0.3)\n",
    "    # sd3_patch = mpatches.Patch(color=all_colors_palette[2], alpha=0.3)\n",
    "    # sd4_patch = mpatches.Patch(color=all_colors_palette[3], alpha=0.3)\n",
    "    # sd_marker = (sd1_patch, sd2_patch, sd3_patch, sd4_patch)\n",
    "    sd_marker = (sd1_patch, sd2_patch)\n",
    "    sd_labels = '± s.d.'\n",
    "    legend_markers.append(sd_marker)\n",
    "    legend_labels.append(sd_labels)\n",
    "    ax1.legend(legend_markers, legend_labels, fontsize=label_font_size,\n",
    "              handler_map={tuple: HandlerTuple(ndivide=None)})\n",
    "\n",
    "else:\n",
    "    # remove legend\n",
    "    ax1.get_legend().remove()\n",
    "\n",
    "fig1 = ax1.get_figure()\n",
    "\n",
    "plt.show()"
   ]
  },
  {
   "cell_type": "code",
   "execution_count": null,
   "metadata": {
    "ExecuteTime": {
     "end_time": "2023-04-22T18:01:22.841909Z",
     "start_time": "2023-04-22T18:01:22.725300Z"
    }
   },
   "outputs": [],
   "source": [
    "fig1.savefig(os.path.join(output_dir, f'precision_recall_curve_{outcome.replace(\" \", \"_\")}.svg'), bbox_inches=\"tight\", format='svg', dpi=1200)\n"
   ]
  },
  {
   "cell_type": "code",
   "execution_count": null,
   "metadata": {},
   "outputs": [],
   "source": []
  }
 ],
 "metadata": {
  "kernelspec": {
   "display_name": "Python 3",
   "language": "python",
   "name": "python3"
  },
  "language_info": {
   "codemirror_mode": {
    "name": "ipython",
    "version": 2
   },
   "file_extension": ".py",
   "mimetype": "text/x-python",
   "name": "python",
   "nbconvert_exporter": "python",
   "pygments_lexer": "ipython2",
   "version": "2.7.6"
  }
 },
 "nbformat": 4,
 "nbformat_minor": 0
}
