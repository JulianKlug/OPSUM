{
 "cells": [
  {
   "attachments": {},
   "cell_type": "markdown",
   "metadata": {
    "collapsed": false
   },
   "source": [
    "# ROC Curve comparison with confidence intervals"
   ]
  },
  {
   "cell_type": "code",
   "execution_count": null,
   "metadata": {
    "ExecuteTime": {
     "end_time": "2023-06-19T07:05:21.814406Z",
     "start_time": "2023-06-19T07:05:21.521736Z"
    }
   },
   "outputs": [],
   "source": [
    "import pickle\n",
    "import os\n",
    "import numpy as np\n",
    "import matplotlib.pyplot as plt\n",
    "from tqdm import tqdm\n",
    "import seaborn as sns\n",
    "import pandas as pd\n",
    "from sklearn.metrics import roc_curve, auc, precision_recall_curve\n",
    "import matplotlib.patches as mpatches\n",
    "from matplotlib.legend_handler import HandlerTuple"
   ]
  },
  {
   "cell_type": "code",
   "execution_count": null,
   "metadata": {
    "ExecuteTime": {
     "end_time": "2023-06-19T07:05:21.820477Z",
     "start_time": "2023-06-19T07:05:21.815136Z"
    }
   },
   "outputs": [],
   "source": [
    "thrive_c_mrs02_predictions_path = '/Users/jk1/temp/opsum_prediction_output/THRIVE_C/THRIVE_C_3m_mrs02_predictions/test_gt_and_pred.pkl'\n",
    "transformer_mrs02_predictions_path = '/Users/jk1/temp/opsum_prediction_output/transformer/3M_mrs02/transformer_20230402_184459_test_set_evaluation'\n",
    "\n",
    "thrive_c_death_predictions_path = '/Users/jk1/temp/opsum_prediction_output/THRIVE_C/THRIVE_C_3m_death_predictions/3m_death_test_gt_and_pred.pkl'\n",
    "transformer_death_predictions_path = '/Users/jk1/temp/opsum_prediction_output/transformer/3M_Death/testing'\n",
    "transformer_ext_death_predictions_path = '/Users/jk1/temp/opsum_prediction_output/transformer/3M_Death/external_validation'"
   ]
  },
  {
   "cell_type": "code",
   "execution_count": null,
   "metadata": {
    "ExecuteTime": {
     "end_time": "2023-06-19T07:05:21.826837Z",
     "start_time": "2023-06-19T07:05:21.819281Z"
    }
   },
   "outputs": [],
   "source": [
    "output_dir = '/Users/jk1/Downloads'"
   ]
  },
  {
   "cell_type": "code",
   "execution_count": null,
   "metadata": {
    "ExecuteTime": {
     "end_time": "2023-06-19T07:05:21.831836Z",
     "start_time": "2023-06-19T07:05:21.827848Z"
    }
   },
   "outputs": [],
   "source": [
    "n_folds = 5\n",
    "seed = 42\n",
    "mrs02_selected_fold = 2\n",
    "death_selected_fold = 1"
   ]
  },
  {
   "cell_type": "code",
   "execution_count": null,
   "metadata": {
    "ExecuteTime": {
     "end_time": "2023-06-19T07:05:21.836938Z",
     "start_time": "2023-06-19T07:05:21.832244Z"
    }
   },
   "outputs": [],
   "source": [
    "save_plot_data = False # save data used in plots"
   ]
  },
  {
   "attachments": {},
   "cell_type": "markdown",
   "metadata": {
    "collapsed": false
   },
   "source": [
    "Load data"
   ]
  },
  {
   "cell_type": "code",
   "execution_count": null,
   "metadata": {
    "ExecuteTime": {
     "end_time": "2023-06-19T07:05:21.855774Z",
     "start_time": "2023-06-19T07:05:21.838315Z"
    }
   },
   "outputs": [],
   "source": [
    "thrivec_mrs02_gt, thrivec_mrs02_predictions = pickle.load(open(thrive_c_mrs02_predictions_path, 'rb'))\n",
    "thrivec_death_gt, thrivec_death_predictions = pickle.load(open(thrive_c_death_predictions_path, 'rb'))"
   ]
  },
  {
   "cell_type": "code",
   "execution_count": null,
   "metadata": {
    "ExecuteTime": {
     "end_time": "2023-06-19T07:05:23.092014Z",
     "start_time": "2023-06-19T07:05:21.847616Z"
    }
   },
   "outputs": [],
   "source": [
    "transformer_mrs02_folds = []\n",
    "for fidx in range(n_folds):\n",
    "    transformer_mrs02_folds.append(pickle.load(open(os.path.join(transformer_mrs02_predictions_path, f'fold_{fidx}_test_gt_and_pred.pkl'), 'rb')))"
   ]
  },
  {
   "cell_type": "code",
   "execution_count": null,
   "metadata": {
    "ExecuteTime": {
     "end_time": "2023-06-19T07:05:23.105998Z",
     "start_time": "2023-06-19T07:05:23.096424Z"
    }
   },
   "outputs": [],
   "source": [
    "transformer_death_folds = []\n",
    "for fidx in range(n_folds):\n",
    "    transformer_death_folds.append(pickle.load(open(os.path.join(transformer_death_predictions_path, f'fold_{fidx}_test_gt_and_pred.pkl'), 'rb')))"
   ]
  },
  {
   "cell_type": "code",
   "execution_count": null,
   "metadata": {
    "ExecuteTime": {
     "end_time": "2023-06-19T07:05:23.138228Z",
     "start_time": "2023-06-19T07:05:23.106560Z"
    }
   },
   "outputs": [],
   "source": [
    "transformer_ext_death_folds = []\n",
    "for fidx in range(n_folds):\n",
    "    transformer_ext_death_folds.append(pickle.load(open(os.path.join(transformer_ext_death_predictions_path, f'fold_{fidx}_test_gt_and_pred.pkl'), 'rb')))"
   ]
  },
  {
   "cell_type": "code",
   "execution_count": null,
   "metadata": {
    "ExecuteTime": {
     "end_time": "2023-06-19T07:05:23.152943Z",
     "start_time": "2023-06-19T07:05:23.126340Z"
    }
   },
   "outputs": [],
   "source": [
    "all_colors_palette = sns.color_palette(['#f61067', '#049b9a', '#012D98', '#a76dfe'], n_colors=4)\n",
    "all_colors_palette"
   ]
  },
  {
   "attachments": {},
   "cell_type": "markdown",
   "metadata": {
    "collapsed": false
   },
   "source": [
    "# Helper functions"
   ]
  },
  {
   "cell_type": "code",
   "execution_count": null,
   "metadata": {
    "ExecuteTime": {
     "end_time": "2023-06-19T07:05:23.153392Z",
     "start_time": "2023-06-19T07:05:23.139224Z"
    }
   },
   "outputs": [],
   "source": [
    "def compute_roc_and_pr_curves(folds, n_interpolated_points=200):\n",
    "    roc_df = pd.DataFrame()\n",
    "    resampled_roc_df = pd.DataFrame()\n",
    "    roc_aucs = []\n",
    "    pr_df = pd.DataFrame()\n",
    "    resampled_pr_df = pd.DataFrame()\n",
    "    pr_aucs = []\n",
    "    for fidx in tqdm(range(n_folds)):\n",
    "        fpr, tpr, _ = roc_curve(folds[fidx][0], folds[fidx][1])\n",
    "        roc_aucs.append(auc(fpr, tpr))\n",
    "        resampled_tpr = np.interp(np.linspace(0, 1, n_interpolated_points), fpr, tpr)\n",
    "        roc_df = roc_df.append(pd.DataFrame({'fpr': fpr, 'tpr': tpr, 'fold': fidx}))\n",
    "        resampled_roc_df = resampled_roc_df.append(pd.DataFrame({'fpr': np.linspace(0,1,n_interpolated_points),  'tpr': resampled_tpr, 'fold': fidx}))\n",
    "\n",
    "        precision, recall, _ = precision_recall_curve(folds[fidx][0], folds[fidx][1])\n",
    "        recall, precision = zip(*sorted(zip(recall, precision)))\n",
    "        pr_aucs.append(auc(recall, precision))\n",
    "        resampled_precision = np.interp(np.linspace(0, 1, n_interpolated_points), recall, precision)\n",
    "        pr_df = pr_df.append(pd.DataFrame({'recall': recall, 'precision': precision, 'fold': fidx}))\n",
    "        resampled_pr_df = resampled_pr_df.append(pd.DataFrame({'recall': np.linspace(0,1,n_interpolated_points),  'precision': resampled_precision, 'fold': fidx}))\n",
    "\n",
    "    return roc_df, resampled_roc_df, roc_aucs, pr_df, resampled_pr_df, pr_aucs\n"
   ]
  },
  {
   "attachments": {},
   "cell_type": "markdown",
   "metadata": {
    "collapsed": false
   },
   "source": [
    "# Functional Outcome"
   ]
  },
  {
   "cell_type": "code",
   "execution_count": null,
   "metadata": {
    "ExecuteTime": {
     "end_time": "2023-06-19T07:05:23.336195Z",
     "start_time": "2023-06-19T07:05:23.319879Z"
    }
   },
   "outputs": [],
   "source": [
    "outcome = '3M mRS 0-2'\n",
    "selected_fold = mrs02_selected_fold"
   ]
  },
  {
   "attachments": {},
   "cell_type": "markdown",
   "metadata": {
    "collapsed": false
   },
   "source": [
    "### Compute ROC and PR curve standard deviation for THRIVE-C"
   ]
  },
  {
   "cell_type": "code",
   "execution_count": null,
   "metadata": {
    "ExecuteTime": {
     "end_time": "2023-06-19T07:05:24.296652Z",
     "start_time": "2023-06-19T07:05:24.289024Z"
    }
   },
   "outputs": [],
   "source": [
    "# split thrivec data into 5 folds\n",
    "thrivec_folds = []\n",
    "for fidx in range(n_folds):\n",
    "    thrivec_folds.append((thrivec_mrs02_gt[fidx::n_folds], thrivec_mrs02_predictions[fidx::n_folds]))"
   ]
  },
  {
   "cell_type": "code",
   "execution_count": null,
   "metadata": {
    "ExecuteTime": {
     "end_time": "2023-06-19T07:05:24.664727Z",
     "start_time": "2023-06-19T07:05:24.644594Z"
    }
   },
   "outputs": [],
   "source": [
    "thrivec_fpr, thrivec_tpr, _ = roc_curve(thrivec_mrs02_gt, thrivec_mrs02_predictions)\n",
    "thrivec_roc_auc = auc(thrivec_fpr, thrivec_tpr)\n",
    "thrivec_resampled_tpr = np.interp(np.linspace(0, 1, 200), thrivec_fpr, thrivec_tpr)\n",
    "\n",
    "thrivec_precision, thrivec_recall, _ = precision_recall_curve(thrivec_mrs02_gt, thrivec_mrs02_predictions)\n",
    "thrivec_recall, thrivec_precision = zip(*sorted(zip(thrivec_recall, thrivec_precision)))\n",
    "thrivec_pr_auc = auc(thrivec_recall, thrivec_precision)\n",
    "thrivec_resampled_precision = np.interp(np.linspace(0, 1, 200), thrivec_recall, thrivec_precision)"
   ]
  },
  {
   "cell_type": "code",
   "execution_count": null,
   "metadata": {
    "ExecuteTime": {
     "end_time": "2023-06-19T07:05:25.406208Z",
     "start_time": "2023-06-19T07:05:25.349602Z"
    }
   },
   "outputs": [],
   "source": [
    "thrivec_roc_df, thrivec_resampled_roc_df, thrivec_roc_aucs, thrivec_pr_df, thrivec_resampled_pr_df, thrivec_pr_aucs = compute_roc_and_pr_curves(thrivec_folds)"
   ]
  },
  {
   "cell_type": "code",
   "execution_count": null,
   "metadata": {
    "ExecuteTime": {
     "end_time": "2023-06-19T07:05:25.746561Z",
     "start_time": "2023-06-19T07:05:25.732982Z"
    }
   },
   "outputs": [],
   "source": [
    "thrivec_resampled_roc_std = thrivec_resampled_roc_df.groupby('fpr').agg({'tpr': ['mean', 'std']})['tpr']['std']\n",
    "thrivec_resampled_pr_std = thrivec_resampled_pr_df.groupby('recall').agg({'precision': ['mean', 'std']})['precision']['std']"
   ]
  },
  {
   "attachments": {},
   "cell_type": "markdown",
   "metadata": {
    "collapsed": false
   },
   "source": [
    "### Transformer curves with fold variation"
   ]
  },
  {
   "cell_type": "code",
   "execution_count": null,
   "metadata": {
    "ExecuteTime": {
     "end_time": "2023-06-19T07:05:26.603710Z",
     "start_time": "2023-06-19T07:05:26.534681Z"
    }
   },
   "outputs": [],
   "source": [
    "transformer_roc_df, transformer_resampled_roc_df, transformer_roc_aucs, transformer_pr_df, transformer_resampled_pr_df, transformer_pr_aucs = compute_roc_and_pr_curves(transformer_mrs02_folds)"
   ]
  },
  {
   "cell_type": "code",
   "execution_count": null,
   "metadata": {
    "ExecuteTime": {
     "end_time": "2023-06-19T07:05:27.478806Z",
     "start_time": "2023-06-19T07:05:27.460674Z"
    }
   },
   "outputs": [],
   "source": [
    "transformer_resampled_roc_std = transformer_resampled_roc_df.groupby('fpr').agg({'tpr': ['mean', 'std']})['tpr']['std']\n",
    "transformer_resampled_pr_std = transformer_resampled_pr_df.groupby('recall').agg({'precision': ['mean', 'std']})['precision']['std']"
   ]
  },
  {
   "attachments": {},
   "cell_type": "markdown",
   "metadata": {
    "collapsed": false
   },
   "source": [
    "### Resampled ROC curve with fold variation\n"
   ]
  },
  {
   "cell_type": "code",
   "execution_count": null,
   "metadata": {
    "ExecuteTime": {
     "end_time": "2023-06-19T06:54:09.950557Z",
     "start_time": "2023-06-19T06:54:09.945319Z"
    }
   },
   "outputs": [],
   "source": [
    "def plot_mrs_roc_auc_curve(transformer_roc_df, transformer_resampled_roc_df, transformer_resampled_roc_std, transformer_roc_aucs,\n",
    "                           thrivec_resampled_tpr, thrivec_resampled_roc_std, thrivec_roc_auc, selected_fold,\n",
    "                           ax, plot_legend = True, tick_label_size = 11, label_font_size = 13):\n",
    "\n",
    "    all_colors_palette = sns.color_palette(['#f61067', '#049b9a', '#012D98', '#a76dfe'], n_colors=4)\n",
    "    \n",
    "    ## Main model: Transformer\n",
    "    # plot variation across folds (+/- 1 std)\n",
    "    error = 1*transformer_resampled_roc_std.values\n",
    "    lower = transformer_resampled_roc_df[transformer_resampled_roc_df.fold == selected_fold].tpr - error\n",
    "    upper = transformer_resampled_roc_df[transformer_resampled_roc_df.fold == selected_fold].tpr + error\n",
    "    ax.fill_between(transformer_resampled_roc_std.index, lower, upper, alpha=0.2, color=all_colors_palette[0])\n",
    "    \n",
    "    # Plot selected fold in bold\n",
    "    ax = sns.lineplot(data=transformer_roc_df[transformer_roc_df.fold == selected_fold], x='fpr', y='tpr', color=all_colors_palette[0], label='Transformer (area = %0.2f)' % transformer_roc_aucs[selected_fold],\n",
    "                       ax=ax, errorbar=None)\n",
    "    \n",
    "    \n",
    "    ## Comparators: THRIVE-C\n",
    "    # plot variation across folds (+/- 1 std)\n",
    "    error = 1*thrivec_resampled_roc_std.values\n",
    "    lower = thrivec_resampled_tpr - error\n",
    "    upper = thrivec_resampled_tpr + error\n",
    "    ax.fill_between(np.linspace(0, 1, 200), lower, upper, alpha=0.2, color=all_colors_palette[1])\n",
    "    \n",
    "    # Plot THRIVE-C in bold\n",
    "    sns.lineplot(x=np.linspace(0, 1, 200), y=thrivec_resampled_tpr, color=all_colors_palette[1], label='THRIVE-C (area = %0.2f)' % thrivec_roc_auc,\n",
    "                 ax=ax, linewidth=2)\n",
    "    \n",
    "    \n",
    "    ax.plot([0, 1], [0, 1], color='grey', lw=1, linestyle='--', alpha=0.5)\n",
    "    \n",
    "    ax.set_xlabel('1 - Specificity (False Positive Rate)', fontsize=label_font_size)\n",
    "    ax.set_ylabel('Sensitivity (True Positive Rate)', fontsize=label_font_size)\n",
    "    ax.tick_params('x', labelsize=tick_label_size)\n",
    "    ax.tick_params('y', labelsize=tick_label_size)\n",
    "    \n",
    "    if plot_legend:\n",
    "        legend_markers, legend_labels = ax.get_legend_handles_labels()\n",
    "        sd1_patch = mpatches.Patch(color=all_colors_palette[0], alpha=0.3)\n",
    "        sd2_patch = mpatches.Patch(color=all_colors_palette[1], alpha=0.3)\n",
    "        sd_marker = (sd1_patch, sd2_patch)\n",
    "        sd_labels = '± s.d.'\n",
    "        legend_markers.append(sd_marker)\n",
    "        legend_labels.append(sd_labels)\n",
    "        ax.legend(legend_markers, legend_labels, fontsize=label_font_size,\n",
    "                  handler_map={tuple: HandlerTuple(ndivide=None)})\n",
    "    \n",
    "    else:\n",
    "        # remove legend\n",
    "        ax.get_legend().remove()\n",
    "    \n",
    "    fig = ax.get_figure()\n",
    "    return fig"
   ]
  },
  {
   "cell_type": "code",
   "execution_count": null,
   "metadata": {
    "ExecuteTime": {
     "end_time": "2023-06-19T06:54:10.852365Z",
     "start_time": "2023-06-19T06:54:10.515769Z"
    }
   },
   "outputs": [],
   "source": [
    "custom_params = {\"axes.spines.right\": False, \"axes.spines.top\": False, 'figure.figsize':(10,10)}\n",
    "sns.set_theme(style=\"whitegrid\", rc=custom_params, context=\"paper\", font_scale = 1)\n",
    "\n",
    "ax = plt.subplot(111)\n",
    "\n",
    "plot_mrs_roc_auc_curve(transformer_roc_df, transformer_resampled_roc_df, transformer_resampled_roc_std, transformer_roc_aucs,\n",
    "                       thrivec_resampled_tpr, thrivec_resampled_roc_std, thrivec_roc_auc, selected_fold,\n",
    "                       ax, plot_legend = True, tick_label_size = 11, label_font_size = 13)\n",
    "\n",
    "plt.show()"
   ]
  },
  {
   "cell_type": "code",
   "execution_count": null,
   "metadata": {
    "ExecuteTime": {
     "end_time": "2023-06-19T06:57:57.206932Z",
     "start_time": "2023-06-19T06:57:57.191377Z"
    }
   },
   "outputs": [],
   "source": [
    "if save_plot_data:\n",
    "    with open(os.path.join('/Users/jk1/Downloads', f'transformer_roc_auc_figure_data.pkl'), 'wb') as f:\n",
    "        pickle.dump((transformer_roc_df, transformer_resampled_roc_df, transformer_resampled_roc_std, transformer_roc_aucs), f)\n",
    "    with open(os.path.join('/Users/jk1/Downloads', f'thrivec_roc_auc_figure_data.pkl'), 'wb') as f:\n",
    "        pickle.dump((thrivec_resampled_tpr, thrivec_resampled_roc_std, thrivec_roc_auc), f)"
   ]
  },
  {
   "cell_type": "code",
   "execution_count": null,
   "metadata": {
    "ExecuteTime": {
     "end_time": "2023-04-23T15:28:29.401478Z",
     "start_time": "2023-04-23T15:28:29.259926Z"
    }
   },
   "outputs": [],
   "source": [
    "# fig.savefig(os.path.join(output_dir, f'roc_curve_{outcome.replace(\" \", \"_\")}.svg'), bbox_inches=\"tight\", format='svg', dpi=1200)"
   ]
  },
  {
   "attachments": {},
   "cell_type": "markdown",
   "metadata": {
    "collapsed": false
   },
   "source": [
    "### Overall Precision-Recall curve"
   ]
  },
  {
   "cell_type": "code",
   "execution_count": null,
   "metadata": {
    "ExecuteTime": {
     "end_time": "2023-06-19T07:06:20.579389Z",
     "start_time": "2023-06-19T07:06:20.569001Z"
    }
   },
   "outputs": [],
   "source": [
    "def plot_mrs_pr_curve(transformer_pr_df, transformer_resampled_pr_df, transformer_resampled_pr_std, transformer_pr_aucs,\n",
    "                      thrivec_resampled_precision, thrivec_resampled_pr_std, thrivec_pr_auc,\n",
    "                      selected_fold,\n",
    "                      ax1, plot_legend = True, tick_label_size = 11, label_font_size = 13):\n",
    "    \n",
    "    all_colors_palette = sns.color_palette(['#f61067', '#049b9a', '#012D98', '#a76dfe'], n_colors=4)\n",
    "\n",
    "    ## Main model: Transformer\n",
    "    # plot variation across folds (+/- 1 std)\n",
    "    error = 1*transformer_resampled_pr_std.values\n",
    "    lower = transformer_resampled_pr_df[transformer_resampled_pr_df.fold == selected_fold].precision - error\n",
    "    upper = transformer_resampled_pr_df[transformer_resampled_pr_df.fold == selected_fold].precision + error\n",
    "    ax1.fill_between(transformer_resampled_pr_std.index, lower, upper, alpha=0.2, color=all_colors_palette[0])\n",
    "    \n",
    "    # Plot selected fold in bold\n",
    "    ax1 = sns.lineplot(data=transformer_pr_df[transformer_pr_df.fold == selected_fold], x='recall', y='precision', color=all_colors_palette[0], label='Transformer (area = %0.2f)' % transformer_pr_aucs[selected_fold],\n",
    "                       ax=ax1, errorbar=None)\n",
    "    \n",
    "    \n",
    "    ## Comparators: THRIVE-C\n",
    "    # plot variation across folds (+/- 1 std)\n",
    "    error = 1*thrivec_resampled_pr_std.values\n",
    "    lower = thrivec_resampled_precision - error\n",
    "    upper = thrivec_resampled_precision + error\n",
    "    ax1.fill_between(np.linspace(0, 1, 200), lower, upper, alpha=0.2, color=all_colors_palette[1])\n",
    "    \n",
    "    # Plot THRIVE-C in bold\n",
    "    sns.lineplot(x=np.linspace(0, 1, 200), y=thrivec_resampled_precision, color=all_colors_palette[1], label='THRIVE-C (area = %0.2f)' % thrivec_pr_auc,\n",
    "                 ax=ax1, linewidth=2)\n",
    "    \n",
    "    ax1.set_xlabel('Recall', fontsize=label_font_size)\n",
    "    ax1.set_ylabel('Precision', fontsize=label_font_size)\n",
    "    ax1.tick_params('x', labelsize=tick_label_size)\n",
    "    ax1.tick_params('y', labelsize=tick_label_size)\n",
    "    \n",
    "    if plot_legend:\n",
    "        legend_markers, legend_labels = ax1.get_legend_handles_labels()\n",
    "        sd1_patch = mpatches.Patch(color=all_colors_palette[0], alpha=0.3)\n",
    "        sd2_patch = mpatches.Patch(color=all_colors_palette[1], alpha=0.3)\n",
    "        # sd3_patch = mpatches.Patch(color=all_colors_palette[2], alpha=0.3)\n",
    "        # sd4_patch = mpatches.Patch(color=all_colors_palette[3], alpha=0.3)\n",
    "        # sd_marker = (sd1_patch, sd2_patch, sd3_patch, sd4_patch)\n",
    "        sd_marker = (sd1_patch, sd2_patch)\n",
    "        sd_labels = '± s.d.'\n",
    "        legend_markers.append(sd_marker)\n",
    "        legend_labels.append(sd_labels)\n",
    "        ax1.legend(legend_markers, legend_labels, fontsize=label_font_size,\n",
    "                  handler_map={tuple: HandlerTuple(ndivide=None)})\n",
    "    \n",
    "    else:\n",
    "        # remove legend\n",
    "        ax1.get_legend().remove()\n",
    "    \n",
    "    fig1 = ax1.get_figure()\n",
    "    return fig1"
   ]
  },
  {
   "cell_type": "code",
   "execution_count": null,
   "metadata": {
    "ExecuteTime": {
     "end_time": "2023-06-19T07:06:21.313232Z",
     "start_time": "2023-06-19T07:06:20.863019Z"
    }
   },
   "outputs": [],
   "source": [
    "custom_params = {\"axes.spines.right\": False, \"axes.spines.top\": False, 'figure.figsize':(10,10)}\n",
    "sns.set_theme(style=\"whitegrid\", rc=custom_params, context=\"paper\", font_scale = 1)\n",
    "\n",
    "ax1 = plt.subplot(111)\n",
    "\n",
    "fig1 = plot_mrs_pr_curve(transformer_pr_df, transformer_resampled_pr_df, transformer_resampled_pr_std,\n",
    "                      thrivec_resampled_precision, thrivec_resampled_pr_std, selected_fold,\n",
    "                      ax1, plot_legend = True, tick_label_size = 11, label_font_size = 13)\n",
    "\n",
    "plt.show()"
   ]
  },
  {
   "cell_type": "code",
   "execution_count": null,
   "metadata": {
    "ExecuteTime": {
     "end_time": "2023-06-19T07:06:57.974341Z",
     "start_time": "2023-06-19T07:06:57.961166Z"
    }
   },
   "outputs": [],
   "source": [
    "if save_plot_data:\n",
    "    with open(os.path.join('/Users/jk1/Downloads', f'transformer_pr_figure_data.pkl'), 'wb') as f:\n",
    "        pickle.dump((transformer_pr_df, transformer_resampled_pr_df, transformer_resampled_pr_std, transformer_pr_aucs), f)\n",
    "    with open(os.path.join('/Users/jk1/Downloads', f'thrivec_pr_figure_data.pkl'), 'wb') as f:\n",
    "        pickle.dump((thrivec_resampled_precision, thrivec_resampled_pr_std, thrivec_pr_auc), f)"
   ]
  },
  {
   "cell_type": "code",
   "execution_count": null,
   "metadata": {
    "ExecuteTime": {
     "end_time": "2023-04-23T15:29:04.591199Z",
     "start_time": "2023-04-23T15:29:04.466289Z"
    }
   },
   "outputs": [],
   "source": [
    "# fig1.savefig(os.path.join(output_dir, f'precision_recall_curve_{outcome.replace(\" \", \"_\")}.svg'), bbox_inches=\"tight\", format='svg', dpi=1200)"
   ]
  },
  {
   "attachments": {},
   "cell_type": "markdown",
   "metadata": {
    "collapsed": false
   },
   "source": [
    "# Survival outcome"
   ]
  },
  {
   "cell_type": "code",
   "execution_count": null,
   "metadata": {
    "ExecuteTime": {
     "end_time": "2023-06-19T07:07:12.310437Z",
     "start_time": "2023-06-19T07:07:12.293952Z"
    }
   },
   "outputs": [],
   "source": [
    "outcome = '3M Death'\n",
    "selected_fold = death_selected_fold"
   ]
  },
  {
   "attachments": {},
   "cell_type": "markdown",
   "metadata": {
    "collapsed": false
   },
   "source": [
    "### Compute ROC and PR curve standard deviation for THRIVE-C\n"
   ]
  },
  {
   "cell_type": "code",
   "execution_count": null,
   "metadata": {
    "ExecuteTime": {
     "end_time": "2023-06-19T07:07:13.565236Z",
     "start_time": "2023-06-19T07:07:13.476714Z"
    }
   },
   "outputs": [],
   "source": [
    "# split thrivec data into 5 folds\n",
    "thrivec_folds = []\n",
    "for fidx in range(n_folds):\n",
    "    thrivec_folds.append((thrivec_death_gt[fidx::n_folds], thrivec_death_predictions[fidx::n_folds]))\n",
    "\n",
    "thrivec_fpr, thrivec_tpr, _ = roc_curve(thrivec_death_gt, thrivec_death_predictions)\n",
    "thrivec_roc_auc = auc(thrivec_fpr, thrivec_tpr)\n",
    "thrivec_resampled_tpr = np.interp(np.linspace(0, 1, 200), thrivec_fpr, thrivec_tpr)\n",
    "\n",
    "thrivec_precision, thrivec_recall, _ = precision_recall_curve(thrivec_death_gt, thrivec_death_predictions)\n",
    "thrivec_recall, thrivec_precision = zip(*sorted(zip(thrivec_recall, thrivec_precision)))\n",
    "thrivec_pr_auc = auc(thrivec_recall, thrivec_precision)\n",
    "thrivec_resampled_precision = np.interp(np.linspace(0, 1, 200), thrivec_recall, thrivec_precision)\n",
    "\n",
    "thrivec_roc_df, thrivec_resampled_roc_df, thrivec_roc_aucs, thrivec_pr_df, thrivec_resampled_pr_df, thrivec_pr_aucs = compute_roc_and_pr_curves(\n",
    "    thrivec_folds)\n",
    "\n",
    "thrivec_resampled_roc_std = thrivec_resampled_roc_df.groupby('fpr').agg({'tpr': ['mean', 'std']})['tpr']['std']\n",
    "thrivec_resampled_pr_std = thrivec_resampled_pr_df.groupby('recall').agg({'precision': ['mean', 'std']})['precision'][\n",
    "    'std']"
   ]
  },
  {
   "attachments": {},
   "cell_type": "markdown",
   "metadata": {
    "collapsed": false
   },
   "source": [
    "### Compute ROC and PR curve standard deviation for Transformer"
   ]
  },
  {
   "attachments": {},
   "cell_type": "markdown",
   "metadata": {
    "collapsed": false
   },
   "source": [
    "Hold out data"
   ]
  },
  {
   "cell_type": "code",
   "execution_count": null,
   "metadata": {
    "ExecuteTime": {
     "end_time": "2023-06-19T07:07:26.256007Z",
     "start_time": "2023-06-19T07:07:26.187506Z"
    }
   },
   "outputs": [],
   "source": [
    "transformer_death_roc_df, transformer_death_resampled_roc_df, transformer_death_roc_aucs, transformer_death_pr_df, transformer_death_resampled_pr_df, transformer_death_pr_aucs = compute_roc_and_pr_curves(transformer_death_folds)\n",
    "\n",
    "transformer_death_resampled_roc_std = transformer_death_resampled_roc_df.groupby('fpr').agg({'tpr': ['mean', 'std']})['tpr']['std']\n",
    "transformer_death_resampled_pr_std = transformer_death_resampled_pr_df.groupby('recall').agg({'precision': ['mean', 'std']})['precision']['std']"
   ]
  },
  {
   "attachments": {},
   "cell_type": "markdown",
   "metadata": {
    "collapsed": false
   },
   "source": [
    "External data"
   ]
  },
  {
   "cell_type": "code",
   "execution_count": null,
   "metadata": {
    "ExecuteTime": {
     "end_time": "2023-06-19T07:07:27.381256Z",
     "start_time": "2023-06-19T07:07:27.311762Z"
    }
   },
   "outputs": [],
   "source": [
    "transformer_ext_death_roc_df, transformer_ext_death_resampled_roc_df, transformer_ext_death_roc_aucs, transformer_ext_death_pr_df, transformer_ext_death_resampled_pr_df, transformer_ext_death_pr_aucs = compute_roc_and_pr_curves(transformer_ext_death_folds)\n",
    "\n",
    "transformer_ext_death_resampled_roc_std = transformer_ext_death_resampled_roc_df.groupby('fpr').agg({'tpr': ['mean', 'std']})['tpr']['std']\n",
    "transformer_ext_death_resampled_pr_std = transformer_ext_death_resampled_pr_df.groupby('recall').agg({'precision': ['mean', 'std']})['precision']['std']"
   ]
  },
  {
   "attachments": {},
   "cell_type": "markdown",
   "metadata": {
    "collapsed": false
   },
   "source": [
    "## Resampled ROC curve with inter fold variation"
   ]
  },
  {
   "cell_type": "code",
   "execution_count": null,
   "metadata": {},
   "outputs": [],
   "source": [
    "def plot_death_roc_curve(\n",
    "                    transformer_death_roc_df, transformer_death_resampled_roc_df, transformer_death_resampled_roc_std, transformer_death_roc_aucs,\n",
    "                    transformer_ext_death_roc_df, transformer_ext_death_resampled_roc_df, transformer_ext_death_resampled_roc_std, transformer_ext_death_roc_aucs,\n",
    "                    thrivec_resampled_tpr, thrivec_resampled_roc_std, thrivec_roc_auc, \n",
    "                    ax, selected_fold, \n",
    "                        plot_legend = True, tick_label_size = 11, label_font_size = 13):\n",
    "    \n",
    "    all_colors_palette = sns.color_palette(['#f61067', '#049b9a', '#012D98', '#a76dfe'], n_colors=4)\n",
    "\n",
    "\n",
    "    ## Main model: Transformer\n",
    "    # plot variation across folds (+/- 1 std)\n",
    "    error = 1*transformer_death_resampled_roc_std.values\n",
    "    lower = transformer_death_resampled_roc_df[transformer_death_resampled_roc_df.fold == selected_fold].tpr - error\n",
    "    upper = transformer_death_resampled_roc_df[transformer_death_resampled_roc_df.fold == selected_fold].tpr + error\n",
    "    ax.fill_between(transformer_death_resampled_roc_std.index, lower, upper, alpha=0.2, color=all_colors_palette[0])\n",
    "\n",
    "    # Plot selected fold in bold\n",
    "    ax = sns.lineplot(data=transformer_death_roc_df[transformer_death_roc_df.fold == selected_fold], x='fpr', y='tpr', color=all_colors_palette[0], label='Transformer (area = %0.2f)' % np.median(transformer_death_roc_aucs[selected_fold]),\n",
    "                    ax=ax, errorbar=None)\n",
    "\n",
    "    ## Main model in external data\n",
    "    # plot variation across folds (+/- 1 std)\n",
    "    error = 1*transformer_ext_death_resampled_roc_std.values\n",
    "    lower = transformer_ext_death_resampled_roc_df[transformer_ext_death_resampled_roc_df.fold == selected_fold].tpr - error\n",
    "    upper = transformer_ext_death_resampled_roc_df[transformer_ext_death_resampled_roc_df.fold == selected_fold].tpr + error\n",
    "    ax.fill_between(transformer_ext_death_resampled_roc_std.index, lower, upper, alpha=0.2, color=all_colors_palette[3])\n",
    "\n",
    "    # Plot selected fold in bold\n",
    "    ax = sns.lineplot(data=transformer_ext_death_roc_df[transformer_ext_death_roc_df.fold == selected_fold], x='fpr', y='tpr', color=all_colors_palette[3], label='Transformer MIMIC (area = %0.2f)' % np.median(transformer_ext_death_roc_aucs[selected_fold]),\n",
    "                    ax=ax, errorbar=None)\n",
    "\n",
    "    ## Comparators: THRIVE-C\n",
    "    # plot variation across folds (+/- 1 std)\n",
    "    error = 1*thrivec_resampled_roc_std.values\n",
    "    lower = thrivec_resampled_tpr - error\n",
    "    upper = thrivec_resampled_tpr + error\n",
    "    ax.fill_between(np.linspace(0, 1, 200), lower, upper, alpha=0.2, color=all_colors_palette[1])\n",
    "\n",
    "    # Plot THRIVE-C in bold\n",
    "    sns.lineplot(x=np.linspace(0, 1, 200), y=thrivec_resampled_tpr, color=all_colors_palette[1], label='THRIVE-C (area = %0.2f)' % thrivec_roc_auc,\n",
    "                ax=ax, linewidth=2)\n",
    "\n",
    "\n",
    "    ax.plot([0, 1], [0, 1], color='grey', lw=1, linestyle='--', alpha=0.5)\n",
    "\n",
    "    ax.set_xlabel('1 - Specificity (False Positive Rate)', fontsize=label_font_size)\n",
    "    ax.set_ylabel('Sensitivity (True Positive Rate)', fontsize=label_font_size)\n",
    "    ax.tick_params('x', labelsize=tick_label_size)\n",
    "    ax.tick_params('y', labelsize=tick_label_size)\n",
    "\n",
    "    if plot_legend:\n",
    "        legend_markers, legend_labels = ax.get_legend_handles_labels()\n",
    "        sd1_patch = mpatches.Patch(color=all_colors_palette[0], alpha=0.3)\n",
    "        sd2_patch = mpatches.Patch(color=all_colors_palette[1], alpha=0.3)\n",
    "        sd3_patch = mpatches.Patch(color=all_colors_palette[3], alpha=0.3)\n",
    "        sd_marker = (sd1_patch, sd2_patch, sd3_patch)\n",
    "        sd_labels = '± s.d.'\n",
    "        legend_markers.append(sd_marker)\n",
    "        legend_labels.append(sd_labels)\n",
    "        ax.legend(legend_markers, legend_labels, fontsize=label_font_size,\n",
    "                handler_map={tuple: HandlerTuple(ndivide=None)})\n",
    "\n",
    "    else:\n",
    "        # remove legend\n",
    "        ax.get_legend().remove()\n",
    "\n",
    "    fig = ax.get_figure()\n",
    "    return fig"
   ]
  },
  {
   "cell_type": "code",
   "execution_count": null,
   "metadata": {},
   "outputs": [],
   "source": [
    "custom_params = {\"axes.spines.right\": False, \"axes.spines.top\": False, 'figure.figsize':(10,10)}\n",
    "sns.set_theme(style=\"whitegrid\", rc=custom_params, context=\"paper\", font_scale = 1)\n",
    "\n",
    "ax = plt.subplot(111)\n",
    "\n",
    "plot_death_roc_curve(\n",
    "    transformer_death_roc_df, transformer_death_resampled_roc_df, transformer_death_resampled_roc_std, transformer_death_roc_aucs,\n",
    "                    transformer_ext_death_roc_df, transformer_ext_death_resampled_roc_df, transformer_ext_death_resampled_roc_std, transformer_ext_death_roc_aucs,\n",
    "                    thrivec_resampled_tpr, thrivec_resampled_roc_std, thrivec_roc_auc, \n",
    "                    ax, selected_fold\n",
    ")\n",
    "\n",
    "plt.show()"
   ]
  },
  {
   "cell_type": "code",
   "execution_count": null,
   "metadata": {},
   "outputs": [],
   "source": [
    "if save_plot_data:\n",
    "    with open(os.path.join('/Users/jk1/Downloads', f'transformer_death_roc_figure_data.pkl'), 'wb') as f:\n",
    "        pickle.dump((transformer_death_roc_df, transformer_death_resampled_roc_df, transformer_death_resampled_roc_std, transformer_death_roc_aucs), f)\n",
    "    with open(os.path.join('/Users/jk1/Downloads', f'transformer_ext_death_roc_figure_data.pkl'), 'wb') as f:\n",
    "        pickle.dump((transformer_ext_death_roc_df, transformer_ext_death_resampled_roc_df, transformer_ext_death_resampled_roc_std, transformer_ext_death_roc_aucs), f)\n",
    "    with open(os.path.join('/Users/jk1/Downloads', f'thrivec_death_roc_figure_data.pkl'), 'wb') as f:\n",
    "        pickle.dump((thrivec_resampled_tpr, thrivec_resampled_roc_std, thrivec_roc_auc), f)"
   ]
  },
  {
   "cell_type": "code",
   "execution_count": null,
   "metadata": {
    "ExecuteTime": {
     "end_time": "2023-04-23T15:30:03.412707Z",
     "start_time": "2023-04-23T15:30:03.263365Z"
    }
   },
   "outputs": [],
   "source": [
    "# fig.savefig(os.path.join(output_dir, f'roc_curve_{outcome.replace(\" \", \"_\")}.svg'), bbox_inches=\"tight\", format='svg', dpi=1200)"
   ]
  },
  {
   "attachments": {},
   "cell_type": "markdown",
   "metadata": {
    "collapsed": false
   },
   "source": [
    "## Resampled PR curve with inter fold variation"
   ]
  },
  {
   "cell_type": "code",
   "execution_count": null,
   "metadata": {},
   "outputs": [],
   "source": [
    "def plot_death_pr_curve(transformer_death_pr_df, transformer_death_resampled_pr_df, transformer_death_resampled_pr_std, transformer_death_pr_aucs,\n",
    "                        transformer_ext_death_pr_df, transformer_ext_death_resampled_pr_df, transformer_ext_death_resampled_pr_std, transformer_ext_death_pr_aucs,\n",
    "                        thrivec_resampled_precision, thrivec_resampled_pr_std, thrivec_pr_auc,  \n",
    "                        ax1, selected_fold, \n",
    "                                            plot_legend = True, tick_label_size = 11, label_font_size = 13):\n",
    "    all_colors_palette = sns.color_palette(['#f61067', '#049b9a', '#012D98', '#a76dfe'], n_colors=4)\n",
    "\n",
    "    ## Main model: Transformer\n",
    "    # plot variation across folds (+/- 1 std)\n",
    "    error = 1*transformer_death_resampled_pr_std.values\n",
    "    lower = transformer_death_resampled_pr_df[transformer_death_resampled_pr_df.fold == selected_fold].precision - error\n",
    "    upper = transformer_death_resampled_pr_df[transformer_death_resampled_pr_df.fold == selected_fold].precision + error\n",
    "    ax1.fill_between(transformer_death_resampled_pr_std.index, lower, upper, alpha=0.2, color=all_colors_palette[0])\n",
    "\n",
    "    # Plot selected fold in bold\n",
    "    ax1 = sns.lineplot(data=transformer_death_pr_df[transformer_death_pr_df.fold == selected_fold], x='recall', y='precision', color=all_colors_palette[0], label='Transformer (area = %0.2f)' % transformer_death_pr_aucs[selected_fold],\n",
    "                    ax=ax1, errorbar=None)\n",
    "\n",
    "    ## Main model in external data\n",
    "    # plot variation across folds (+/- 1 std)\n",
    "    error = 1*transformer_ext_death_resampled_pr_std.values\n",
    "    lower = transformer_ext_death_resampled_pr_df[transformer_ext_death_resampled_pr_df.fold == selected_fold].precision - error\n",
    "    upper = transformer_ext_death_resampled_pr_df[transformer_ext_death_resampled_pr_df.fold == selected_fold].precision + error\n",
    "    ax1.fill_between(transformer_ext_death_resampled_pr_std.index, lower, upper, alpha=0.2, color=all_colors_palette[3])\n",
    "\n",
    "    # Plot selected fold in bold\n",
    "    ax1 = sns.lineplot(data=transformer_ext_death_pr_df[transformer_ext_death_pr_df.fold == selected_fold], x='recall', y='precision', color=all_colors_palette[3], label='Transformer MIMIC (area = %0.2f)' % transformer_ext_death_pr_aucs[selected_fold],\n",
    "                    ax=ax1, errorbar=None)\n",
    "\n",
    "    ## Comparators: THRIVE-C\n",
    "    # plot variation across folds (+/- 1 std)\n",
    "    error = 1*thrivec_resampled_pr_std.values\n",
    "    lower = thrivec_resampled_precision - error\n",
    "    upper = thrivec_resampled_precision + error\n",
    "    ax1.fill_between(np.linspace(0, 1, 200), lower, upper, alpha=0.2, color=all_colors_palette[1])\n",
    "\n",
    "    # Plot THRIVE-C in bold\n",
    "    sns.lineplot(x=np.linspace(0, 1, 200), y=thrivec_resampled_precision, color=all_colors_palette[1], label='THRIVE-C (area = %0.2f)' % thrivec_pr_auc,\n",
    "                ax=ax1, linewidth=2)\n",
    "\n",
    "    ax1.set_xlabel('Recall', fontsize=label_font_size)\n",
    "    ax1.set_ylabel('Precision', fontsize=label_font_size)\n",
    "    ax1.tick_params('x', labelsize=tick_label_size)\n",
    "    ax1.tick_params('y', labelsize=tick_label_size)\n",
    "\n",
    "    if plot_legend:\n",
    "        legend_markers, legend_labels = ax1.get_legend_handles_labels()\n",
    "        sd1_patch = mpatches.Patch(color=all_colors_palette[0], alpha=0.3)\n",
    "        sd2_patch = mpatches.Patch(color=all_colors_palette[1], alpha=0.3)\n",
    "        sd3_patch = mpatches.Patch(color=all_colors_palette[2], alpha=0.3)\n",
    "        sd_marker = (sd1_patch, sd2_patch, sd3_patch)\n",
    "        sd_labels = '± s.d.'\n",
    "        legend_markers.append(sd_marker)\n",
    "        legend_labels.append(sd_labels)\n",
    "        ax1.legend(legend_markers, legend_labels, fontsize=label_font_size,\n",
    "                handler_map={tuple: HandlerTuple(ndivide=None)})\n",
    "\n",
    "    else:\n",
    "        # remove legend\n",
    "        ax1.get_legend().remove()\n",
    "\n",
    "    fig1 = ax1.get_figure()\n",
    "    return fig1"
   ]
  },
  {
   "cell_type": "code",
   "execution_count": null,
   "metadata": {},
   "outputs": [],
   "source": [
    "custom_params = {\"axes.spines.right\": False, \"axes.spines.top\": False, 'figure.figsize':(10,10)}\n",
    "sns.set_theme(style=\"whitegrid\", rc=custom_params, context=\"paper\", font_scale = 1)\n",
    "\n",
    "ax1 = plt.subplot(111)\n",
    "\n",
    "plot_death_pr_curve(transformer_death_pr_df, transformer_death_resampled_pr_df, transformer_death_resampled_pr_std, transformer_death_pr_aucs,  \n",
    "                    transformer_ext_death_pr_df, transformer_ext_death_resampled_pr_df, transformer_ext_death_resampled_pr_std, transformer_ext_death_pr_aucs,\n",
    "                    thrivec_resampled_precision, thrivec_resampled_pr_std, thrivec_pr_auc,\n",
    "                    ax1, selected_fold, plot_legend=True, tick_label_size=11, label_font_size=13)\n",
    "\n",
    "plt.show()"
   ]
  },
  {
   "cell_type": "code",
   "execution_count": null,
   "metadata": {},
   "outputs": [],
   "source": [
    "if save_plot_data:\n",
    "    with open(os.path.join('/Users/jk1/Downloads', f'transformer_death_pr_figure_data.pkl'), 'wb') as f:\n",
    "        pickle.dump((transformer_death_pr_df, transformer_death_resampled_pr_df, transformer_death_resampled_pr_std, transformer_death_pr_aucs), f)\n",
    "    with open(os.path.join('/Users/jk1/Downloads', f'transformer_ext_death_pr_figure_data.pkl'), 'wb') as f:\n",
    "        pickle.dump((transformer_ext_death_pr_df, transformer_ext_death_resampled_pr_df, transformer_ext_death_resampled_pr_std, transformer_ext_death_pr_aucs), f)\n",
    "    with open(os.path.join('/Users/jk1/Downloads', f'thrivec_death_pr_figure_data.pkl'), 'wb') as f:\n",
    "        pickle.dump((thrivec_resampled_precision, thrivec_resampled_pr_std, thrivec_pr_auc), f)"
   ]
  },
  {
   "cell_type": "code",
   "execution_count": null,
   "metadata": {
    "ExecuteTime": {
     "end_time": "2023-04-23T15:30:23.477522Z",
     "start_time": "2023-04-23T15:30:23.325987Z"
    }
   },
   "outputs": [],
   "source": [
    "# fig1.savefig(os.path.join(output_dir, f'precision_recall_curve_{outcome.replace(\" \", \"_\")}.svg'), bbox_inches=\"tight\", format='svg', dpi=1200)"
   ]
  },
  {
   "cell_type": "code",
   "execution_count": null,
   "metadata": {},
   "outputs": [],
   "source": []
  }
 ],
 "metadata": {
  "kernelspec": {
   "display_name": "Python 3",
   "language": "python",
   "name": "python3"
  },
  "language_info": {
   "codemirror_mode": {
    "name": "ipython",
    "version": 3
   },
   "file_extension": ".py",
   "mimetype": "text/x-python",
   "name": "python",
   "nbconvert_exporter": "python",
   "pygments_lexer": "ipython3",
   "version": "3.8.11"
  }
 },
 "nbformat": 4,
 "nbformat_minor": 0
}
