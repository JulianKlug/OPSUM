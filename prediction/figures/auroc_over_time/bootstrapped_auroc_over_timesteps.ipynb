{
 "cells": [
  {
   "cell_type": "code",
   "execution_count": null,
   "metadata": {
    "ExecuteTime": {
     "end_time": "2023-04-22T19:15:57.191721Z",
     "start_time": "2023-04-22T19:15:57.185395Z"
    }
   },
   "outputs": [],
   "source": [
    "import pandas as pd\n",
    "import pickle\n",
    "import os\n",
    "import numpy as np\n",
    "from prediction.outcome_prediction.data_loading.data_loader import load_data\n",
    "import seaborn as sns\n",
    "import matplotlib.pyplot as plt\n",
    "from sklearn.metrics import roc_auc_score\n",
    "import matplotlib.patches as mpatches\n",
    "from sklearn.utils import resample\n",
    "from tqdm import tqdm\n",
    "from matplotlib.legend_handler import HandlerTuple\n",
    "import matplotlib.lines as mlines\n"
   ]
  },
  {
   "cell_type": "code",
   "execution_count": null,
   "metadata": {
    "ExecuteTime": {
     "end_time": "2023-04-22T18:55:22.614709Z",
     "start_time": "2023-04-22T18:55:22.609867Z"
    }
   },
   "outputs": [],
   "source": [
    "mrs02_predictions_over_time_path = '/Users/jk1/temp/opsum_prediction_output/transformer/3M_mrs02/transformer_20230402_184459_test_set_evaluation/predictions_over_timesteps_cv2.pkl'\n",
    "death_predictions_over_time_path = '/Users/jk1/temp/opsum_prediction_output/transformer/3M_Death/testing/predictions_over_timesteps_cv1.pkl'\n",
    "features_path = '/Users/jk1/temp/opsum_prepro_output/gsu_prepro_01012023_233050/preprocessed_features_01012023_233050.csv'\n",
    "labels_path = '/Users/jk1/temp/opsum_prepro_output/gsu_prepro_01012023_233050/preprocessed_outcomes_01012023_233050.csv'"
   ]
  },
  {
   "cell_type": "code",
   "execution_count": null,
   "metadata": {
    "ExecuteTime": {
     "end_time": "2023-04-22T18:08:49.635396Z",
     "start_time": "2023-04-22T18:08:49.628042Z"
    }
   },
   "outputs": [],
   "source": [
    "model_name = 'Transformer'\n",
    "test_size = 0.2\n",
    "seed = 42\n",
    "n_time_steps = 72\n",
    "n_splits = 5"
   ]
  },
  {
   "cell_type": "code",
   "execution_count": null,
   "metadata": {
    "ExecuteTime": {
     "end_time": "2023-04-22T18:55:30.519137Z",
     "start_time": "2023-04-22T18:55:30.464039Z"
    }
   },
   "outputs": [],
   "source": [
    "with open(mrs02_predictions_over_time_path, 'rb') as handle:\n",
    "    mrs02_predictions_over_time = pickle.load(handle)\n",
    "\n",
    "with open(death_predictions_over_time_path, 'rb') as handle:\n",
    "    death_predictions_over_time = pickle.load(handle)"
   ]
  },
  {
   "cell_type": "code",
   "execution_count": null,
   "metadata": {
    "ExecuteTime": {
     "end_time": "2023-04-22T19:00:22.134519Z",
     "start_time": "2023-04-22T18:55:38.787457Z"
    }
   },
   "outputs": [],
   "source": [
    "mrs02_pids, mrs02_train_data, mrs02_test_data, mrs02_train_splits, mrs02_test_features_lookup_table = load_data(features_path, labels_path, '3M mRS 0-2', test_size, n_splits, seed)\n",
    "\n",
    "death_pids, death_train_data, death_test_data, death_train_splits, death_test_features_lookup_table = load_data(features_path, labels_path, '3M Death', test_size, n_splits, seed)"
   ]
  },
  {
   "cell_type": "code",
   "execution_count": null,
   "metadata": {
    "ExecuteTime": {
     "end_time": "2023-04-22T19:00:22.144146Z",
     "start_time": "2023-04-22T19:00:22.140564Z"
    }
   },
   "outputs": [],
   "source": [
    "mrs02_test_X_np, mrs02_test_y_np = mrs02_test_data\n",
    "death_test_X_np, death_test_y_np = death_test_data"
   ]
  },
  {
   "cell_type": "code",
   "execution_count": null,
   "metadata": {
    "ExecuteTime": {
     "end_time": "2023-04-22T19:00:34.336631Z",
     "start_time": "2023-04-22T19:00:34.331471Z"
    }
   },
   "outputs": [],
   "source": [
    "def get_roc_auc_scores(predictions_over_time, test_y_np, n_time_steps):\n",
    "    roc_auc_scores = []\n",
    "    roc_auc_scores_bs = pd.DataFrame()\n",
    "    for ts in tqdm(range(n_time_steps)):\n",
    "\n",
    "        # bootstrap to get 95% CI\n",
    "        n_bs_samples = 1000\n",
    "        roc_auc_scores_bs_at_ts = []\n",
    "        for i in range(n_bs_samples):\n",
    "            y_pred_bs, y_bs = resample(predictions_over_time[ts], test_y_np, replace=True)\n",
    "\n",
    "            # evaluate model\n",
    "            roc_auc_bs = roc_auc_score(y_bs, y_pred_bs)\n",
    "            roc_auc_scores_bs_at_ts.append(roc_auc_bs)\n",
    "        roc_auc_scores_bs_at_ts_df = pd.DataFrame(roc_auc_scores_bs_at_ts, columns=['roc_auc_score'])\n",
    "        roc_auc_scores_bs_at_ts_df['n_hours'] = ts\n",
    "        roc_auc_scores_bs = pd.concat([roc_auc_scores_bs, roc_auc_scores_bs_at_ts_df])\n",
    "\n",
    "        # non bootstrapped score\n",
    "        y_pred = predictions_over_time[ts]\n",
    "        roc_auc_scores.append([ts, roc_auc_score(test_y_np, y_pred)])\n",
    "\n",
    "    roc_auc_scores_df = pd.DataFrame(roc_auc_scores, columns=['n_hours', 'roc_auc_score'])\n",
    "    return roc_auc_scores_df, roc_auc_scores_bs"
   ]
  },
  {
   "cell_type": "code",
   "execution_count": null,
   "metadata": {
    "ExecuteTime": {
     "end_time": "2023-04-22T19:02:49.964841Z",
     "start_time": "2023-04-22T19:00:34.969635Z"
    }
   },
   "outputs": [],
   "source": [
    "mrs02_roc_auc_scores, mrs02_roc_auc_scores_bs = get_roc_auc_scores(mrs02_predictions_over_time, mrs02_test_y_np, n_time_steps)\n",
    "death_roc_auc_scores, death_roc_auc_scores_bs = get_roc_auc_scores(death_predictions_over_time, death_test_y_np, n_time_steps)"
   ]
  },
  {
   "cell_type": "code",
   "execution_count": null,
   "metadata": {
    "ExecuteTime": {
     "end_time": "2023-04-22T19:02:49.979424Z",
     "start_time": "2023-04-22T19:02:49.974664Z"
    }
   },
   "outputs": [],
   "source": [
    "mrs02_roc_auc_scores_bs.head()"
   ]
  },
  {
   "cell_type": "code",
   "execution_count": null,
   "metadata": {
    "ExecuteTime": {
     "end_time": "2023-04-22T19:02:49.991557Z",
     "start_time": "2023-04-22T19:02:49.984561Z"
    }
   },
   "outputs": [],
   "source": [
    "death_roc_auc_scores_bs.head()"
   ]
  },
  {
   "cell_type": "code",
   "execution_count": null,
   "metadata": {
    "ExecuteTime": {
     "end_time": "2023-04-22T19:02:50.010182Z",
     "start_time": "2023-04-22T19:02:49.990806Z"
    }
   },
   "outputs": [],
   "source": [
    "all_colors_palette = sns.color_palette(['#f61067', '#049b9a', '#012D98', '#a76dfe'], n_colors=4)\n",
    "all_colors_palette"
   ]
  },
  {
   "cell_type": "code",
   "execution_count": null,
   "metadata": {
    "ExecuteTime": {
     "end_time": "2023-04-22T19:15:14.030058Z",
     "start_time": "2023-04-22T19:15:13.205377Z"
    }
   },
   "outputs": [],
   "source": [
    "plot_zoom = True\n",
    "plot_title = False\n",
    "plot_legend = True\n",
    "\n",
    "tick_label_size = 11\n",
    "label_font_size = 13\n",
    "\n",
    "errorbar = 'sd'\n",
    "\n",
    "fig, ax = plt.subplots(figsize=(10, 10))\n",
    "\n",
    "sns.lineplot(x='n_hours', y='roc_auc_score', data=mrs02_roc_auc_scores_bs, legend=True, ax=ax, errorbar=errorbar, color=all_colors_palette[2])\n",
    "sns.lineplot(x='n_hours', y='roc_auc_score', data=death_roc_auc_scores_bs , legend=True, ax=ax, errorbar=errorbar, color=all_colors_palette[3])\n",
    "if plot_title:\n",
    "    ax.set_title(f'{model_name} performance in the holdout test dataset as a function of observation period')\n",
    "ax.set_xlabel('Time after admission (hours)')\n",
    "ax.set_ylabel('ROC AUC')\n",
    "ax.set_ylim([0, 1])\n",
    "\n",
    "\n",
    "if plot_zoom:\n",
    "    ax2 = plt.axes([0.2, 0.2, .7, .5], facecolor='w')\n",
    "    sns.lineplot(x='n_hours', y='roc_auc_score', data=mrs02_roc_auc_scores_bs, legend='auto', ax=ax2, errorbar=errorbar, color=all_colors_palette[2])\n",
    "    sns.lineplot(x='n_hours', y='roc_auc_score', data=death_roc_auc_scores_bs , legend='auto', ax=ax2, errorbar=errorbar, color=all_colors_palette[3])\n",
    "    ax2.set_title('Zoomed in')\n",
    "    ax2.set_ybound(0.8,0.92)\n",
    "    ax2.set_xlabel('Time after admission (hours)')\n",
    "    ax2.set_ylabel('ROC AUC')\n",
    "\n",
    "if plot_legend:\n",
    "    legend_markers, legend_labels = ax.get_legend_handles_labels()\n",
    "    sd1_patch = mpatches.Patch(color=all_colors_palette[2], alpha=0.3)\n",
    "    sd2_patch = mpatches.Patch(color=all_colors_palette[3], alpha=0.3)\n",
    "    sd_marker = (sd1_patch, sd2_patch)\n",
    "    sd_labels = '± s.d.'\n",
    "    legend_markers.append(sd_marker)\n",
    "    legend_labels.append(sd_labels)\n",
    "\n",
    "    mrs02_line = mlines.Line2D([], [], color=all_colors_palette[2], linestyle='-')\n",
    "    mrs02_line_label = 'ROC AUC for functional outcome'\n",
    "    legend_markers.append(mrs02_line)\n",
    "    legend_labels.append(mrs02_line_label)\n",
    "\n",
    "    death_line = mlines.Line2D([], [], color=all_colors_palette[3], linestyle='-')\n",
    "    death_line_label = 'ROC AUC for mortality'\n",
    "    legend_markers.append(death_line)\n",
    "    legend_labels.append(death_line_label)\n",
    "\n",
    "    ax.legend(legend_markers, legend_labels, fontsize=label_font_size,\n",
    "              handler_map={tuple: HandlerTuple(ndivide=None)})\n",
    "\n",
    "plt.tight_layout()\n",
    "plt.show()"
   ]
  },
  {
   "cell_type": "code",
   "execution_count": null,
   "metadata": {
    "ExecuteTime": {
     "end_time": "2023-04-22T19:16:10.287002Z",
     "start_time": "2023-04-22T19:16:10.020033Z"
    }
   },
   "outputs": [],
   "source": [
    "# fig.savefig(os.path.join('/Users/jk1/Downloads', f'{model_name}_roc_auc_scores_over_time.png'), bbox_inches='tight')"
   ]
  },
  {
   "cell_type": "markdown",
   "metadata": {
    "collapsed": false
   },
   "source": [
    "\n",
    "## Performance at 24h"
   ]
  },
  {
   "cell_type": "code",
   "execution_count": null,
   "metadata": {
    "ExecuteTime": {
     "end_time": "2023-04-22T19:22:40.630572Z",
     "start_time": "2023-04-22T19:22:39.596872Z"
    }
   },
   "outputs": [],
   "source": [
    "from sklearn.utils import resample\n",
    "\n",
    "roc_auc_scores_bs = []\n",
    "ts = 24\n",
    "\n",
    "n_iterations = 1000\n",
    "for i in range(n_iterations):\n",
    "    y_pred_bs, y_bs = resample(death_predictions_over_time[ts], death_test_y_np, replace=True)\n",
    "\n",
    "    # evaluate model\n",
    "    roc_auc_bs = roc_auc_score(y_bs, y_pred_bs)\n",
    "    roc_auc_scores_bs.append(roc_auc_bs)\n",
    "\n",
    "median_roc_auc = np.percentile(roc_auc_scores_bs, 50)\n",
    "# get 95% interval\n",
    "alpha = 100 - 95\n",
    "lower_ci_roc_auc = np.percentile(roc_auc_scores_bs, alpha / 2)\n",
    "upper_ci_roc_auc = np.percentile(roc_auc_scores_bs, 100 - alpha / 2)\n",
    "\n",
    "print(median_roc_auc, lower_ci_roc_auc, upper_ci_roc_auc)"
   ]
  },
  {
   "cell_type": "code",
   "execution_count": null,
   "metadata": {},
   "outputs": [],
   "source": []
  }
 ],
 "metadata": {
  "kernelspec": {
   "display_name": "Python 3",
   "language": "python",
   "name": "python3"
  },
  "language_info": {
   "codemirror_mode": {
    "name": "ipython",
    "version": 2
   },
   "file_extension": ".py",
   "mimetype": "text/x-python",
   "name": "python",
   "nbconvert_exporter": "python",
   "pygments_lexer": "ipython2",
   "version": "2.7.6"
  }
 },
 "nbformat": 4,
 "nbformat_minor": 0
}
