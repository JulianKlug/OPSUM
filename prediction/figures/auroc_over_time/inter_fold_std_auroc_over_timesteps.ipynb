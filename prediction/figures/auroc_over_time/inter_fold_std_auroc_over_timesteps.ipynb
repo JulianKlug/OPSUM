{
 "cells": [
  {
   "cell_type": "code",
   "execution_count": null,
   "metadata": {
    "ExecuteTime": {
     "end_time": "2023-06-19T08:00:54.872597Z",
     "start_time": "2023-06-19T08:00:54.548280Z"
    }
   },
   "outputs": [],
   "source": [
    "import pandas as pd\n",
    "import pickle\n",
    "import os\n",
    "import numpy as np\n",
    "from prediction.outcome_prediction.data_loading.data_loader import load_data\n",
    "import seaborn as sns\n",
    "import matplotlib.pyplot as plt\n",
    "from sklearn.metrics import roc_auc_score\n",
    "import matplotlib.patches as mpatches\n",
    "from sklearn.utils import resample\n",
    "from tqdm import tqdm\n",
    "from matplotlib.legend_handler import HandlerTuple\n",
    "import matplotlib.lines as mlines\n"
   ]
  },
  {
   "cell_type": "code",
   "execution_count": null,
   "metadata": {
    "ExecuteTime": {
     "end_time": "2023-06-19T08:00:54.880616Z",
     "start_time": "2023-06-19T08:00:54.873234Z"
    }
   },
   "outputs": [],
   "source": [
    "mrs02_predictions_over_time_dir = '/Users/jk1/temp/opsum_prediction_output/transformer/3M_mrs02/transformer_20230402_184459_test_set_evaluation/predictions_over_time'\n",
    "death_predictions_over_time_dir = '/Users/jk1/temp/opsum_prediction_output/transformer/3M_Death/testing/predictions_over_time'\n",
    "features_path = '/Users/jk1/temp/opsum_prepro_output/gsu_prepro_01012023_233050/preprocessed_features_01012023_233050.csv'\n",
    "labels_path = '/Users/jk1/temp/opsum_prepro_output/gsu_prepro_01012023_233050/preprocessed_outcomes_01012023_233050.csv'"
   ]
  },
  {
   "cell_type": "code",
   "execution_count": null,
   "metadata": {
    "ExecuteTime": {
     "end_time": "2023-06-19T08:00:54.892009Z",
     "start_time": "2023-06-19T08:00:54.881809Z"
    }
   },
   "outputs": [],
   "source": [
    "model_name = 'Transformer'\n",
    "test_size = 0.2\n",
    "seed = 42\n",
    "n_time_steps = 72\n",
    "n_splits = 5"
   ]
  },
  {
   "cell_type": "code",
   "execution_count": null,
   "metadata": {
    "ExecuteTime": {
     "end_time": "2023-06-19T08:00:54.898416Z",
     "start_time": "2023-06-19T08:00:54.888720Z"
    }
   },
   "outputs": [],
   "source": [
    "saving_data = False"
   ]
  },
  {
   "cell_type": "code",
   "execution_count": null,
   "metadata": {
    "ExecuteTime": {
     "end_time": "2023-06-19T08:00:54.898807Z",
     "start_time": "2023-06-19T08:00:54.895364Z"
    }
   },
   "outputs": [],
   "source": [
    "mrs02_selected_fold = 2\n",
    "death_selected_fold = 1"
   ]
  },
  {
   "cell_type": "code",
   "execution_count": null,
   "metadata": {
    "ExecuteTime": {
     "end_time": "2023-06-19T08:00:56.654928Z",
     "start_time": "2023-06-19T08:00:54.901867Z"
    }
   },
   "outputs": [],
   "source": [
    "transformer_mrs02_folds = []\n",
    "for fidx in range(n_splits):\n",
    "    transformer_mrs02_folds.append(pickle.load(open(os.path.join(mrs02_predictions_over_time_dir, f'predictions_over_timesteps_from_fold_{fidx}.pkl'), 'rb')))\n",
    "\n",
    "transformer_death_folds = []\n",
    "for fidx in range(n_splits):\n",
    "    transformer_death_folds.append(pickle.load(open(os.path.join(death_predictions_over_time_dir, f'predictions_over_timesteps_from_fold_{fidx}.pkl'), 'rb')))"
   ]
  },
  {
   "cell_type": "code",
   "execution_count": null,
   "metadata": {
    "ExecuteTime": {
     "end_time": "2023-06-19T08:06:19.317467Z",
     "start_time": "2023-06-19T08:00:56.643121Z"
    }
   },
   "outputs": [],
   "source": [
    "mrs02_pids, mrs02_train_data, mrs02_test_data, mrs02_train_splits, mrs02_test_features_lookup_table = load_data(features_path, labels_path, '3M mRS 0-2', test_size, n_splits, seed)\n",
    "\n",
    "death_pids, death_train_data, death_test_data, death_train_splits, death_test_features_lookup_table = load_data(features_path, labels_path, '3M Death', test_size, n_splits, seed)"
   ]
  },
  {
   "cell_type": "code",
   "execution_count": null,
   "metadata": {
    "ExecuteTime": {
     "end_time": "2023-06-19T08:06:19.325794Z",
     "start_time": "2023-06-19T08:06:19.314936Z"
    }
   },
   "outputs": [],
   "source": [
    "mrs02_test_X_np, mrs02_test_y_np = mrs02_test_data\n",
    "death_test_X_np, death_test_y_np = death_test_data"
   ]
  },
  {
   "cell_type": "code",
   "execution_count": null,
   "metadata": {
    "ExecuteTime": {
     "end_time": "2023-06-19T08:06:19.333263Z",
     "start_time": "2023-06-19T08:06:19.324037Z"
    }
   },
   "outputs": [],
   "source": [
    "def get_roc_auc_scores(predictions_over_time_folds, test_y_np, n_time_steps):\n",
    "    roc_auc_scores_df = pd.DataFrame()\n",
    "    for ts in tqdm(range(n_time_steps)):\n",
    "        roc_auc_scores_at_ts_df_ = pd.DataFrame()\n",
    "        for fidx in range(n_splits):\n",
    "            y_pred, y = resample(predictions_over_time_folds[fidx][ts], test_y_np, replace=True)\n",
    "\n",
    "            # evaluate model\n",
    "            roc_auc = roc_auc_score(y, y_pred)\n",
    "            roc_auc_scores_at_ts_df_ = pd.concat([roc_auc_scores_at_ts_df_, pd.DataFrame({'roc_auc_score': [roc_auc], 'fold': [fidx]})])\n",
    "\n",
    "        roc_auc_scores_at_ts_df_['n_hours'] = ts\n",
    "        roc_auc_scores_df = pd.concat([roc_auc_scores_df, roc_auc_scores_at_ts_df_])\n",
    "\n",
    "    return roc_auc_scores_df"
   ]
  },
  {
   "cell_type": "code",
   "execution_count": null,
   "metadata": {
    "ExecuteTime": {
     "end_time": "2023-06-19T08:06:19.341841Z",
     "start_time": "2023-06-19T08:06:19.337071Z"
    }
   },
   "outputs": [],
   "source": [
    "def get_bootstrapped_roc_auc_scores(predictions_over_time, test_y_np, n_time_steps):\n",
    "    roc_auc_scores_bs = pd.DataFrame()\n",
    "    for ts in tqdm(range(n_time_steps)):\n",
    "        # bootstrap to get 95% CI\n",
    "        n_bs_samples = 1000\n",
    "        roc_auc_scores_bs_at_ts = []\n",
    "        for i in range(n_bs_samples):\n",
    "            y_pred_bs, y_bs = resample(predictions_over_time[ts], test_y_np, replace=True)\n",
    "\n",
    "            # evaluate model\n",
    "            roc_auc_bs = roc_auc_score(y_bs, y_pred_bs)\n",
    "            roc_auc_scores_bs_at_ts.append(roc_auc_bs)\n",
    "        roc_auc_scores_bs_at_ts_df = pd.DataFrame(roc_auc_scores_bs_at_ts, columns=['roc_auc_score'])\n",
    "        roc_auc_scores_bs_at_ts_df['n_hours'] = ts\n",
    "        roc_auc_scores_bs = pd.concat([roc_auc_scores_bs, roc_auc_scores_bs_at_ts_df])\n",
    "\n",
    "    return roc_auc_scores_bs"
   ]
  },
  {
   "cell_type": "code",
   "execution_count": null,
   "metadata": {
    "ExecuteTime": {
     "end_time": "2023-06-19T08:06:21.148245Z",
     "start_time": "2023-06-19T08:06:19.345672Z"
    }
   },
   "outputs": [],
   "source": [
    "mrs02_roc_auc_scores = get_roc_auc_scores(transformer_mrs02_folds, mrs02_test_y_np, n_time_steps)\n",
    "death_roc_auc_scores = get_roc_auc_scores(transformer_death_folds, death_test_y_np, n_time_steps)"
   ]
  },
  {
   "cell_type": "code",
   "execution_count": null,
   "metadata": {
    "ExecuteTime": {
     "end_time": "2023-06-19T08:09:06.214872Z",
     "start_time": "2023-06-19T08:06:21.150279Z"
    }
   },
   "outputs": [],
   "source": [
    "mr02_selected_fold_bootstrapped_roc_auc_scores = get_bootstrapped_roc_auc_scores(transformer_mrs02_folds[mrs02_selected_fold], mrs02_test_y_np, n_time_steps)\n",
    "death_selected_fold_bootstrapped_roc_auc_scores = get_bootstrapped_roc_auc_scores(transformer_death_folds[death_selected_fold], death_test_y_np, n_time_steps)"
   ]
  },
  {
   "cell_type": "code",
   "execution_count": null,
   "metadata": {
    "ExecuteTime": {
     "end_time": "2023-06-19T08:09:06.256884Z",
     "start_time": "2023-06-19T08:09:06.220883Z"
    }
   },
   "outputs": [],
   "source": [
    "mr02_selected_fold_bootstrapped_roc_auc_scores.head()"
   ]
  },
  {
   "cell_type": "code",
   "execution_count": null,
   "metadata": {
    "ExecuteTime": {
     "end_time": "2023-06-19T08:09:06.258613Z",
     "start_time": "2023-06-19T08:09:06.240503Z"
    }
   },
   "outputs": [],
   "source": [
    "death_roc_auc_scores.head()"
   ]
  },
  {
   "cell_type": "code",
   "execution_count": null,
   "metadata": {
    "ExecuteTime": {
     "end_time": "2023-06-19T08:09:06.383257Z",
     "start_time": "2023-06-19T08:09:06.252577Z"
    }
   },
   "outputs": [],
   "source": [
    "all_colors_palette = sns.color_palette(['#f61067', '#049b9a', '#012D98', '#a76dfe'], n_colors=4)\n",
    "all_colors_palette"
   ]
  },
  {
   "cell_type": "code",
   "execution_count": null,
   "metadata": {
    "ExecuteTime": {
     "end_time": "2023-06-19T08:09:06.441357Z",
     "start_time": "2023-06-19T08:09:06.263241Z"
    }
   },
   "outputs": [],
   "source": [
    "mrs02_roc_auc_std = mrs02_roc_auc_scores.groupby('n_hours').agg({'roc_auc_score': ['mean', 'std']})['roc_auc_score']['std']\n",
    "death_roc_auc_std = death_roc_auc_scores.groupby('n_hours').agg({'roc_auc_score': ['mean', 'std']})['roc_auc_score']['std']"
   ]
  },
  {
   "cell_type": "code",
   "execution_count": null,
   "metadata": {
    "ExecuteTime": {
     "end_time": "2023-06-19T06:55:50.612418Z",
     "start_time": "2023-06-19T06:55:50.497863Z"
    }
   },
   "outputs": [],
   "source": [
    "mr02_selected_fold_bootstrapped_roc_auc_scores.groupby('n_hours').agg({'roc_auc_score': ['median']}).roc_auc_score['median'].values"
   ]
  },
  {
   "cell_type": "code",
   "execution_count": null,
   "metadata": {
    "ExecuteTime": {
     "end_time": "2023-04-24T21:34:54.722563Z",
     "start_time": "2023-04-24T21:34:53.885669Z"
    }
   },
   "outputs": [],
   "source": [
    "plot_zoom = True\n",
    "plot_title = False\n",
    "plot_legend = True\n",
    "\n",
    "tick_label_size = 11\n",
    "label_font_size = 13\n",
    "\n",
    "errorbar = 'sd'\n",
    "\n",
    "fig, ax = plt.subplots(figsize=(10, 10))\n",
    "\n",
    "## MRS02\n",
    "# plot variation across folds (+/- 1 std)\n",
    "error = 1*mrs02_roc_auc_std.values\n",
    "baseline = mr02_selected_fold_bootstrapped_roc_auc_scores.groupby('n_hours').agg({'roc_auc_score': ['median']}).roc_auc_score['median'].values\n",
    "lower = baseline - error\n",
    "upper = baseline + error\n",
    "ax.fill_between(mrs02_roc_auc_std.index, lower, upper, alpha=0.2, color=all_colors_palette[2])\n",
    "\n",
    "sns.lineplot(x='n_hours', y='roc_auc_score', data=mr02_selected_fold_bootstrapped_roc_auc_scores, legend=True, ax=ax, errorbar=None, color=all_colors_palette[2])\n",
    "\n",
    "## Death\n",
    "# plot variation across folds (+/- 1 std)\n",
    "error = 1*death_roc_auc_std.values\n",
    "baseline = death_selected_fold_bootstrapped_roc_auc_scores.groupby('n_hours').agg({'roc_auc_score': ['median']}).roc_auc_score['median'].values\n",
    "lower = baseline - error\n",
    "upper = baseline + error\n",
    "ax.fill_between(death_roc_auc_std.index, lower, upper, alpha=0.2, color=all_colors_palette[3])\n",
    "\n",
    "sns.lineplot(x='n_hours', y='roc_auc_score', data=death_selected_fold_bootstrapped_roc_auc_scores, legend=True, ax=ax, errorbar=None, color=all_colors_palette[3])\n",
    "\n",
    "if plot_title:\n",
    "    ax.set_title(f'{model_name} performance in the holdout test dataset as a function of observation period')\n",
    "\n",
    "ax.set_xlabel('Time after admission (hours)')\n",
    "ax.set_ylabel('ROC AUC')\n",
    "ax.set_ylim([0, 1])\n",
    "\n",
    "if plot_zoom:\n",
    "    ax2 = plt.axes([0.2, 0.2, .7, .5], facecolor='w')\n",
    "    ## MRS02\n",
    "    # plot variation across folds (+/- 1 std)\n",
    "    error = 1*mrs02_roc_auc_std.values\n",
    "    baseline = mr02_selected_fold_bootstrapped_roc_auc_scores.groupby('n_hours').agg({'roc_auc_score': ['median']}).roc_auc_score['median'].values\n",
    "    lower = baseline - error\n",
    "    upper = baseline + error\n",
    "    ax2.fill_between(mrs02_roc_auc_std.index, lower, upper, alpha=0.2, color=all_colors_palette[2])\n",
    "\n",
    "    sns.lineplot(x='n_hours', y='roc_auc_score', data=mr02_selected_fold_bootstrapped_roc_auc_scores, legend=True, ax=ax2, errorbar=None, color=all_colors_palette[2])\n",
    "\n",
    "    ## Death\n",
    "    # plot variation across folds (+/- 1 std)\n",
    "    error = 1*death_roc_auc_std.values\n",
    "    baseline = death_selected_fold_bootstrapped_roc_auc_scores.groupby('n_hours').agg({'roc_auc_score': ['median']}).roc_auc_score['median'].values\n",
    "    lower = baseline - error\n",
    "    upper = baseline + error\n",
    "    ax2.fill_between(death_roc_auc_std.index, lower, upper, alpha=0.2, color=all_colors_palette[3])\n",
    "\n",
    "    sns.lineplot(x='n_hours', y='roc_auc_score', data=death_selected_fold_bootstrapped_roc_auc_scores, legend=True, ax=ax2, errorbar=None, color=all_colors_palette[3])\n",
    "\n",
    "    ax2.set_title('Zoomed in')\n",
    "    ax2.set_ybound(0.8,0.92)\n",
    "    ax2.set_xlabel('Time after admission (hours)')\n",
    "    ax2.set_ylabel('ROC AUC')\n",
    "\n",
    "if plot_legend:\n",
    "    legend_markers, legend_labels = ax.get_legend_handles_labels()\n",
    "    sd1_patch = mpatches.Patch(color=all_colors_palette[2], alpha=0.3)\n",
    "    sd2_patch = mpatches.Patch(color=all_colors_palette[3], alpha=0.3)\n",
    "    sd_marker = (sd1_patch, sd2_patch)\n",
    "    sd_labels = '± s.d.'\n",
    "    legend_markers.append(sd_marker)\n",
    "    legend_labels.append(sd_labels)\n",
    "\n",
    "    mrs02_line = mlines.Line2D([], [], color=all_colors_palette[2], linestyle='-')\n",
    "    mrs02_line_label = 'ROC AUC for functional outcome'\n",
    "    legend_markers.append(mrs02_line)\n",
    "    legend_labels.append(mrs02_line_label)\n",
    "\n",
    "    death_line = mlines.Line2D([], [], color=all_colors_palette[3], linestyle='-')\n",
    "    death_line_label = 'ROC AUC for mortality'\n",
    "    legend_markers.append(death_line)\n",
    "    legend_labels.append(death_line_label)\n",
    "\n",
    "    ax.legend(legend_markers, legend_labels, fontsize=label_font_size,\n",
    "              handler_map={tuple: HandlerTuple(ndivide=None)})\n",
    "\n",
    "plt.tight_layout()\n",
    "plt.show()"
   ]
  },
  {
   "cell_type": "code",
   "execution_count": null,
   "metadata": {
    "ExecuteTime": {
     "end_time": "2023-06-19T06:20:32.929807Z",
     "start_time": "2023-06-19T06:20:32.914473Z"
    }
   },
   "outputs": [],
   "source": [
    "def plot_auroc_over_time(mr02_roc_aucs, mrs02_roc_auc_std, death_roc_aucs, death_roc_auc_std, ax, plot_zoom = True, plot_title = False, plot_legend = True, tick_label_size = 11, label_font_size = 13, errorbar = 'sd'):\n",
    "    all_colors_palette = sns.color_palette(['#f61067', '#049b9a', '#012D98', '#a76dfe'], n_colors=4)\n",
    "\n",
    "    ## MRS02\n",
    "    # plot variation across folds (+/- 1 std)\n",
    "    error = 1*mrs02_roc_auc_std.values\n",
    "    baseline = mr02_roc_aucs.groupby('n_hours').agg({'roc_auc_score': ['median']}).roc_auc_score['median'].values\n",
    "    lower = baseline - error\n",
    "    upper = baseline + error\n",
    "    ax.fill_between(mrs02_roc_auc_std.index, lower, upper, alpha=0.2, color=all_colors_palette[2])\n",
    "    \n",
    "    sns.lineplot(x='n_hours', y='roc_auc_score', data=mr02_roc_aucs, legend=True, ax=ax, errorbar=None, color=all_colors_palette[2])\n",
    "    \n",
    "    ## Death\n",
    "    # plot variation across folds (+/- 1 std)\n",
    "    error = 1*death_roc_auc_std.values\n",
    "    baseline = death_roc_aucs.groupby('n_hours').agg({'roc_auc_score': ['median']}).roc_auc_score['median'].values\n",
    "    lower = baseline - error\n",
    "    upper = baseline + error\n",
    "    ax.fill_between(death_roc_auc_std.index, lower, upper, alpha=0.2, color=all_colors_palette[3])\n",
    "    \n",
    "    sns.lineplot(x='n_hours', y='roc_auc_score', data=death_roc_aucs, legend=True, ax=ax, errorbar=None, color=all_colors_palette[3])\n",
    "    \n",
    "    if plot_title:\n",
    "        ax.set_title(f'{model_name} performance in the holdout test dataset as a function of observation period')\n",
    "    \n",
    "    ax.set_xlabel('Time after admission (hours)')\n",
    "    ax.set_ylabel('ROC AUC')\n",
    "    ax.set_ylim([0, 1])\n",
    "    \n",
    "    if plot_zoom:\n",
    "        ax2 = ax.inset_axes([0.2, 0.2, .7, .5], facecolor='w')\n",
    "        ## MRS02\n",
    "        # plot variation across folds (+/- 1 std)\n",
    "        error = 1*mrs02_roc_auc_std.values\n",
    "        baseline = mr02_roc_aucs.groupby('n_hours').agg({'roc_auc_score': ['median']}).roc_auc_score['median'].values\n",
    "        lower = baseline - error\n",
    "        upper = baseline + error\n",
    "        ax2.fill_between(mrs02_roc_auc_std.index, lower, upper, alpha=0.2, color=all_colors_palette[2])\n",
    "    \n",
    "        sns.lineplot(x='n_hours', y='roc_auc_score', data=mr02_roc_aucs, legend=True, ax=ax2, errorbar=None, color=all_colors_palette[2])\n",
    "    \n",
    "        ## Death\n",
    "        # plot variation across folds (+/- 1 std)\n",
    "        error = 1*death_roc_auc_std.values\n",
    "        baseline = death_roc_aucs.groupby('n_hours').agg({'roc_auc_score': ['median']}).roc_auc_score['median'].values\n",
    "        lower = baseline - error\n",
    "        upper = baseline + error\n",
    "        ax2.fill_between(death_roc_auc_std.index, lower, upper, alpha=0.2, color=all_colors_palette[3])\n",
    "    \n",
    "        sns.lineplot(x='n_hours', y='roc_auc_score', data=death_roc_aucs, legend=True, ax=ax2, errorbar=None, color=all_colors_palette[3])\n",
    "    \n",
    "        ax2.set_title('Zoomed in')\n",
    "        ax2.set_ybound(0.8,0.92)\n",
    "        ax2.set_xlabel('Time after admission (hours)')\n",
    "        ax2.set_ylabel('ROC AUC')\n",
    "    \n",
    "    if plot_legend:\n",
    "        legend_markers, legend_labels = ax.get_legend_handles_labels()\n",
    "        sd1_patch = mpatches.Patch(color=all_colors_palette[2], alpha=0.3)\n",
    "        sd2_patch = mpatches.Patch(color=all_colors_palette[3], alpha=0.3)\n",
    "        sd_marker = (sd1_patch, sd2_patch)\n",
    "        sd_labels = '± s.d.'\n",
    "        legend_markers.append(sd_marker)\n",
    "        legend_labels.append(sd_labels)\n",
    "    \n",
    "        mrs02_line = mlines.Line2D([], [], color=all_colors_palette[2], linestyle='-')\n",
    "        mrs02_line_label = 'ROC AUC for functional outcome'\n",
    "        legend_markers.append(mrs02_line)\n",
    "        legend_labels.append(mrs02_line_label)\n",
    "    \n",
    "        death_line = mlines.Line2D([], [], color=all_colors_palette[3], linestyle='-')\n",
    "        death_line_label = 'ROC AUC for mortality'\n",
    "        legend_markers.append(death_line)\n",
    "        legend_labels.append(death_line_label)\n",
    "    \n",
    "        ax.legend(legend_markers, legend_labels, fontsize=label_font_size,\n",
    "                  handler_map={tuple: HandlerTuple(ndivide=None)})"
   ]
  },
  {
   "cell_type": "code",
   "execution_count": null,
   "metadata": {
    "ExecuteTime": {
     "end_time": "2023-06-19T08:10:41.501048Z",
     "start_time": "2023-06-19T08:10:41.484237Z"
    }
   },
   "outputs": [],
   "source": [
    "# save data used for plot\n",
    "if saving_data:\n",
    "    import pickle\n",
    "    with open(os.path.join('/Users/jk1/Downloads', f'{model_name}_roc_auc_scores_over_time.pkl'), 'wb') as f:\n",
    "        pickle.dump((mr02_selected_fold_bootstrapped_roc_auc_scores, death_selected_fold_bootstrapped_roc_auc_scores), f)\n",
    "    with open(os.path.join('/Users/jk1/Downloads', f'{model_name}_roc_auc_scores_over_time_std.pkl'), 'wb') as f:\n",
    "        pickle.dump((mrs02_roc_auc_std, death_roc_auc_std), f)"
   ]
  },
  {
   "cell_type": "code",
   "execution_count": null,
   "metadata": {
    "ExecuteTime": {
     "end_time": "2023-06-19T06:22:00.589226Z",
     "start_time": "2023-06-19T06:21:58.982844Z"
    }
   },
   "outputs": [],
   "source": [
    "fig, ax = plt.subplots(figsize=(10, 10))\n",
    "\n",
    "plot_auroc_over_time(mr02_selected_fold_bootstrapped_roc_auc_scores, mrs02_roc_auc_std,\n",
    "                     death_selected_fold_bootstrapped_roc_auc_scores, death_roc_auc_std,\n",
    "                     ax)\n",
    "\n",
    "plt.show()"
   ]
  },
  {
   "cell_type": "code",
   "execution_count": null,
   "metadata": {
    "ExecuteTime": {
     "end_time": "2023-04-24T21:38:00.203649Z",
     "start_time": "2023-04-24T21:37:59.904495Z"
    }
   },
   "outputs": [],
   "source": [
    "# fig.savefig(os.path.join('/Users/jk1/Downloads', f'{model_name}_roc_auc_scores_over_time.png'), bbox_inches='tight')"
   ]
  },
  {
   "attachments": {},
   "cell_type": "markdown",
   "metadata": {
    "collapsed": false
   },
   "source": [
    "\n",
    "## Performance at 24h"
   ]
  },
  {
   "cell_type": "code",
   "execution_count": null,
   "metadata": {
    "ExecuteTime": {
     "end_time": "2023-04-22T19:22:40.630572Z",
     "start_time": "2023-04-22T19:22:39.596872Z"
    }
   },
   "outputs": [],
   "source": [
    "from sklearn.utils import resample\n",
    "\n",
    "roc_auc_scores_bs = []\n",
    "ts = 24\n",
    "\n",
    "n_iterations = 1000\n",
    "for i in range(n_iterations):\n",
    "    y_pred_bs, y_bs = resample(death_predictions_over_time[ts], death_test_y_np, replace=True)\n",
    "\n",
    "    # evaluate model\n",
    "    roc_auc_bs = roc_auc_score(y_bs, y_pred_bs)\n",
    "    roc_auc_scores_bs.append(roc_auc_bs)\n",
    "\n",
    "median_roc_auc = np.percentile(roc_auc_scores_bs, 50)\n",
    "# get 95% interval\n",
    "alpha = 100 - 95\n",
    "lower_ci_roc_auc = np.percentile(roc_auc_scores_bs, alpha / 2)\n",
    "upper_ci_roc_auc = np.percentile(roc_auc_scores_bs, 100 - alpha / 2)\n",
    "\n",
    "print(median_roc_auc, lower_ci_roc_auc, upper_ci_roc_auc)"
   ]
  },
  {
   "cell_type": "code",
   "execution_count": null,
   "metadata": {},
   "outputs": [],
   "source": []
  }
 ],
 "metadata": {
  "kernelspec": {
   "display_name": "Python 3",
   "language": "python",
   "name": "python3"
  },
  "language_info": {
   "codemirror_mode": {
    "name": "ipython",
    "version": 3
   },
   "file_extension": ".py",
   "mimetype": "text/x-python",
   "name": "python",
   "nbconvert_exporter": "python",
   "pygments_lexer": "ipython3",
   "version": "3.8.11"
  }
 },
 "nbformat": 4,
 "nbformat_minor": 0
}
