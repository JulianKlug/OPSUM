{
 "cells": [
  {
   "cell_type": "code",
   "execution_count": null,
   "metadata": {
    "ExecuteTime": {
     "end_time": "2023-04-10T21:20:01.705328Z",
     "start_time": "2023-04-10T21:20:01.698858Z"
    }
   },
   "outputs": [],
   "source": [
    "import pandas as pd\n",
    "import pickle\n",
    "import numpy as np"
   ]
  },
  {
   "cell_type": "code",
   "execution_count": null,
   "metadata": {
    "ExecuteTime": {
     "end_time": "2023-04-10T21:24:44.959351Z",
     "start_time": "2023-04-10T21:24:44.954395Z"
    }
   },
   "outputs": [],
   "source": [
    "predictions_over_time_path = '/Users/jk1/temp/opsum_prediction_output/linear_72h_xgb/with_feature_aggregration/testing/predictions_over_timesteps.pkl'\n",
    "features_path = '/Users/jk1/temp/opsum_prepro_output/gsu_prepro_01012023_233050/preprocessed_features_01012023_233050.csv'\n",
    "labels_path = '/Users/jk1/temp/opsum_prepro_output/gsu_prepro_01012023_233050/preprocessed_outcomes_01012023_233050.csv'"
   ]
  },
  {
   "cell_type": "code",
   "execution_count": null,
   "metadata": {
    "ExecuteTime": {
     "end_time": "2023-04-10T21:24:45.177691Z",
     "start_time": "2023-04-10T21:24:45.175502Z"
    }
   },
   "outputs": [],
   "source": [
    "model_name = 'XGB'\n",
    "outcome = '3M mRS 0-2'\n",
    "test_size = 0.2\n",
    "seed = 42\n",
    "n_time_steps = 72\n",
    "n_splits = 5"
   ]
  },
  {
   "cell_type": "code",
   "execution_count": null,
   "metadata": {
    "ExecuteTime": {
     "end_time": "2023-04-10T21:24:45.464497Z",
     "start_time": "2023-04-10T21:24:45.459133Z"
    }
   },
   "outputs": [],
   "source": [
    "with open(predictions_over_time_path, 'rb') as handle:\n",
    "    predictions_over_time = pickle.load(handle)"
   ]
  },
  {
   "cell_type": "code",
   "execution_count": null,
   "metadata": {
    "ExecuteTime": {
     "end_time": "2023-04-10T21:27:14.537991Z",
     "start_time": "2023-04-10T21:24:45.812973Z"
    }
   },
   "outputs": [],
   "source": [
    "from prediction.outcome_prediction.Transformer.utils.data_loader import load_data\n",
    "\n",
    "pids, train_data, test_data, train_splits, test_features_lookup_table = load_data(features_path, labels_path, outcome, test_size, n_splits, seed)\n"
   ]
  },
  {
   "cell_type": "code",
   "execution_count": null,
   "metadata": {
    "ExecuteTime": {
     "end_time": "2023-04-10T21:27:14.568289Z",
     "start_time": "2023-04-10T21:27:14.528861Z"
    }
   },
   "outputs": [],
   "source": [
    "test_X_np, test_y_np = test_data"
   ]
  },
  {
   "cell_type": "code",
   "execution_count": null,
   "metadata": {
    "ExecuteTime": {
     "end_time": "2023-04-10T21:27:14.579148Z",
     "start_time": "2023-04-10T21:27:14.529443Z"
    }
   },
   "outputs": [],
   "source": [
    "from sklearn.metrics import roc_auc_score\n",
    "\n",
    "roc_auc_scores = []\n",
    "for ts in range(n_time_steps):\n",
    "    modified_time_steps = ts + 1\n",
    "    y_pred = predictions_over_time[ts]\n",
    "    roc_auc_scores.append([modified_time_steps, roc_auc_score(test_y_np, y_pred)])"
   ]
  },
  {
   "cell_type": "code",
   "execution_count": null,
   "metadata": {
    "ExecuteTime": {
     "end_time": "2023-04-10T21:27:14.686100Z",
     "start_time": "2023-04-10T21:27:14.588193Z"
    }
   },
   "outputs": [],
   "source": [
    "results_df = pd.DataFrame(roc_auc_scores, columns=['n_hours', 'roc_auc_score'])\n",
    "results_df.head()"
   ]
  },
  {
   "cell_type": "code",
   "execution_count": null,
   "metadata": {
    "ExecuteTime": {
     "end_time": "2023-04-10T21:27:15.028385Z",
     "start_time": "2023-04-10T21:27:14.603282Z"
    }
   },
   "outputs": [],
   "source": [
    "import seaborn as sns\n",
    "import matplotlib.pyplot as plt\n",
    "import os\n",
    "\n",
    "fig = plt.figure()\n",
    "ax = sns.lineplot(x='n_hours', y='roc_auc_score', data=results_df, legend=True)\n",
    "ax.set_title(f'{model_name} performance in the holdout test dataset as a function of observation period')\n",
    "ax.set_xlabel('Time after admission (hours)')\n",
    "ax.set_ylabel('ROC AUC')\n",
    "ax.set_ybound(0.8,0.92)\n",
    "\n",
    "plt.tight_layout()\n",
    "plt.show()"
   ]
  },
  {
   "cell_type": "code",
   "execution_count": null,
   "metadata": {
    "ExecuteTime": {
     "end_time": "2023-04-10T21:28:21.611527Z",
     "start_time": "2023-04-10T21:28:21.473537Z"
    }
   },
   "outputs": [],
   "source": [
    "fig.savefig(os.path.join('/Users/jk1/Downloads', f'{model_name}_{outcome}_roc_auc_scores_over_time.png'), bbox_inches='tight')"
   ]
  },
  {
   "cell_type": "markdown",
   "metadata": {
    "collapsed": false
   },
   "source": [
    "\n",
    "## Performance at 24h"
   ]
  },
  {
   "cell_type": "code",
   "execution_count": null,
   "metadata": {
    "ExecuteTime": {
     "end_time": "2023-04-10T21:29:31.495725Z",
     "start_time": "2023-04-10T21:29:30.410448Z"
    }
   },
   "outputs": [],
   "source": [
    "from sklearn.utils import resample\n",
    "\n",
    "roc_auc_scores_bs = []\n",
    "ts = 24\n",
    "\n",
    "n_iterations = 1000\n",
    "for i in range(n_iterations):\n",
    "    y_pred_bs, y_bs = resample(predictions_over_time[ts], test_y_np, replace=True)\n",
    "\n",
    "    # evaluate model\n",
    "    roc_auc_bs = roc_auc_score(y_bs, y_pred_bs)\n",
    "    roc_auc_scores_bs.append(roc_auc_bs)\n",
    "\n",
    "median_roc_auc = np.percentile(roc_auc_scores_bs, 50)\n",
    "# get 95% interval\n",
    "alpha = 100 - 95\n",
    "lower_ci_roc_auc = np.percentile(roc_auc_scores_bs, alpha / 2)\n",
    "upper_ci_roc_auc = np.percentile(roc_auc_scores_bs, 100 - alpha / 2)\n",
    "\n",
    "print(median_roc_auc, lower_ci_roc_auc, upper_ci_roc_auc)"
   ]
  },
  {
   "cell_type": "code",
   "execution_count": null,
   "metadata": {},
   "outputs": [],
   "source": []
  }
 ],
 "metadata": {
  "kernelspec": {
   "display_name": "Python 3",
   "language": "python",
   "name": "python3"
  },
  "language_info": {
   "codemirror_mode": {
    "name": "ipython",
    "version": 2
   },
   "file_extension": ".py",
   "mimetype": "text/x-python",
   "name": "python",
   "nbconvert_exporter": "python",
   "pygments_lexer": "ipython2",
   "version": "2.7.6"
  }
 },
 "nbformat": 4,
 "nbformat_minor": 0
}
