{
 "cells": [
  {
   "cell_type": "code",
   "execution_count": null,
   "id": "initial_id",
   "metadata": {
    "ExecuteTime": {
     "end_time": "2025-03-06T08:52:30.530119Z",
     "start_time": "2025-03-06T08:52:30.526146Z"
    }
   },
   "outputs": [],
   "source": [
    "import matplotlib.pyplot as plt\n",
    "import pandas as pd\n",
    "import os\n",
    "import seaborn as sns"
   ]
  },
  {
   "cell_type": "code",
   "execution_count": null,
   "id": "801ca5fa6e5486ff",
   "metadata": {
    "ExecuteTime": {
     "end_time": "2025-03-06T08:52:30.586944Z",
     "start_time": "2025-03-06T08:52:30.583123Z"
    }
   },
   "outputs": [],
   "source": [
    "log_folder_path = '/Users/jk1/temp/opsum_end/training/hyperopt/tte_gridsearch'\n",
    "output_dir = '/Users/jk1/Downloads'"
   ]
  },
  {
   "cell_type": "code",
   "execution_count": null,
   "id": "38525202312f478",
   "metadata": {
    "ExecuteTime": {
     "end_time": "2025-03-06T08:52:30.706256Z",
     "start_time": "2025-03-06T08:52:30.699725Z"
    }
   },
   "outputs": [],
   "source": [
    "# find all jsonl files in log_folder_path\n",
    "gs_df = pd.DataFrame()\n",
    "for root, dirs, files in os.walk(log_folder_path):\n",
    "    for file in files:\n",
    "        if file.endswith('.jsonl'):\n",
    "            temp_df = pd.read_json(os.path.join(root, file),  \n",
    "                              lines=True, dtype={'timestamp': 'object'}, convert_dates=False).drop(0)\n",
    "            # add file name as column\n",
    "            temp_df['file_name'] = file\n",
    "            gs_df = pd.concat([gs_df, temp_df], ignore_index=True)\n"
   ]
  },
  {
   "cell_type": "code",
   "execution_count": null,
   "id": "4168d945d95ab438",
   "metadata": {
    "ExecuteTime": {
     "end_time": "2025-03-06T08:52:44.358426Z",
     "start_time": "2025-03-06T08:52:44.351751Z"
    }
   },
   "outputs": [],
   "source": [
    "gs_df"
   ]
  },
  {
   "cell_type": "code",
   "execution_count": null,
   "id": "76e926edc7bbaba",
   "metadata": {
    "ExecuteTime": {
     "end_time": "2025-03-06T08:52:40.215456Z",
     "start_time": "2025-03-06T08:52:36.757064Z"
    }
   },
   "outputs": [],
   "source": [
    "# find best by median_val_scores\n",
    "best_df = gs_df.sort_values('median_val_mae', ascending=True).head(1)\n",
    "best_df"
   ]
  },
  {
   "cell_type": "code",
   "execution_count": null,
   "id": "21a45c86fa80ba46",
   "metadata": {
    "ExecuteTime": {
     "end_time": "2025-03-05T06:03:13.098358Z",
     "start_time": "2025-03-05T06:03:13.093776Z"
    }
   },
   "outputs": [],
   "source": [
    "best_df.file_name.values[0]"
   ]
  },
  {
   "cell_type": "code",
   "execution_count": null,
   "id": "2e2ff3f473b3744",
   "metadata": {
    "ExecuteTime": {
     "end_time": "2025-03-05T06:06:47.454348Z",
     "start_time": "2025-03-05T06:06:47.444755Z"
    }
   },
   "outputs": [],
   "source": [
    "# best_df.to_csv(os.path.join(output_dir, 'tte_end_transformer_best_hyperparameters.csv'), index=False)"
   ]
  },
  {
   "cell_type": "code",
   "execution_count": null,
   "id": "1cfcba07",
   "metadata": {},
   "outputs": [],
   "source": [
    "# only retain top 5 models\n",
    "top_5_df = gs_df.sort_values('median_val_mae', ascending=True).head(5)\n",
    "# make a table with model timestamp and file_name\n",
    "top_5_df = top_5_df[['timestamp', 'file_name']]\n",
    "# save table with timestamp of current date\n",
    "timestamp = pd.Timestamp.now().strftime('%Y%m%d')\n",
    "filename = f'tte_end_transformer_top_5_models_{timestamp}.csv'\n"
   ]
  },
  {
   "cell_type": "code",
   "execution_count": null,
   "id": "f5575b1ac9754ede",
   "metadata": {
    "ExecuteTime": {
     "end_time": "2025-01-31T08:59:45.921300Z",
     "start_time": "2025-01-31T08:59:45.135396Z"
    }
   },
   "outputs": [],
   "source": [
    "# plot histogram of median_val_mae and median_val_mape\n",
    "fig, axes = plt.subplots(1, 2, figsize=(15, 5))\n",
    "sns.histplot(gs_df['median_val_mae'], ax=axes[0])\n",
    "sns.histplot(gs_df['median_val_mape'], ax=axes[1])\n",
    "plt.show()"
   ]
  },
  {
   "cell_type": "code",
   "execution_count": null,
   "id": "4ad2eb1e6da667eb",
   "metadata": {
    "ExecuteTime": {
     "end_time": "2025-01-31T09:00:18.219437Z",
     "start_time": "2025-01-31T09:00:15.278354Z"
    }
   },
   "outputs": [],
   "source": [
    "# plot a grid with all previous plots\n",
    "fig, axes = plt.subplots(4, 3, figsize=(25, 25))\n",
    "sns.boxplot(x='num_layers', y='median_val_mae', data=gs_df, ax=axes[0,0])\n",
    "sns.boxplot(x='batch_size', y='median_val_mae', data=gs_df, ax=axes[1,0])\n",
    "sns.boxplot(x='num_head', y='median_val_mae', data=gs_df, ax=axes[1,2])\n",
    "sns.regplot(x='dropout', y='median_val_mae', data=gs_df, ax=axes[2,0])\n",
    "sns.regplot(x='train_noise', y='median_val_mae', data=gs_df, logx=True, ax=axes[2,1])\n",
    "# set x scale to log for train noise plot\n",
    "axes[2,1].set_xscale('log')\n",
    "sns.scatterplot(x='lr', y='median_val_mae', data=gs_df, ax=axes[2,2])\n",
    "sns.scatterplot(x='weight_decay', y='median_val_mae', data=gs_df, ax=axes[0,2])\n",
    "# set x limits to 0, 0.1 for weight decay plot\n",
    "# axes[0,2].set_xlim(0, 0.0002)\n",
    "sns.scatterplot(x='grad_clip_value', y='median_val_mae', data=gs_df, ax=axes[3,0])\n",
    "# set x limits to 0, 0.5 for grad_clip_value plot\n",
    "# axes[3,0].set_xlim(0, 0.5)\n",
    "\n",
    "# # set y limits to 0.88, 0.92 for all plots\n",
    "# for ax in axes.flat:\n",
    "#     ax.set_ylim(0.88, 0.915)\n",
    "\n",
    "plt.show()"
   ]
  },
  {
   "cell_type": "code",
   "execution_count": null,
   "id": "a8198a950e7b6945",
   "metadata": {
    "ExecuteTime": {
     "end_time": "2024-08-18T14:36:28.010684Z",
     "start_time": "2024-08-18T14:36:28.006496Z"
    }
   },
   "outputs": [],
   "source": []
  }
 ],
 "metadata": {
  "kernelspec": {
   "display_name": "opsum",
   "language": "python",
   "name": "python3"
  },
  "language_info": {
   "codemirror_mode": {
    "name": "ipython",
    "version": 3
   },
   "file_extension": ".py",
   "mimetype": "text/x-python",
   "name": "python",
   "nbconvert_exporter": "python",
   "pygments_lexer": "ipython3",
   "version": "3.8.11"
  }
 },
 "nbformat": 4,
 "nbformat_minor": 5
}
