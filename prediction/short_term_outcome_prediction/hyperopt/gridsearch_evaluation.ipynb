{
 "cells": [
  {
   "cell_type": "code",
   "execution_count": null,
   "id": "initial_id",
   "metadata": {
    "ExecuteTime": {
     "end_time": "2025-03-19T09:36:36.478030Z",
     "start_time": "2025-03-19T09:36:36.471086Z"
    }
   },
   "outputs": [],
   "source": [
    "import matplotlib.pyplot as plt\n",
    "import pandas as pd\n",
    "import os\n",
    "import seaborn as sns"
   ]
  },
  {
   "cell_type": "code",
   "execution_count": null,
   "id": "801ca5fa6e5486ff",
   "metadata": {
    "ExecuteTime": {
     "end_time": "2025-03-19T09:36:37.451718Z",
     "start_time": "2025-03-19T09:36:37.447630Z"
    }
   },
   "outputs": [],
   "source": [
    "log_folder_path = \"/Users/jk1/temp/opsum_end/training/hyperopt/gridsearch\"\n",
    "output_dir = \"/Users/jk1/Downloads\""
   ]
  },
  {
   "cell_type": "code",
   "execution_count": null,
   "id": "38525202312f478",
   "metadata": {
    "ExecuteTime": {
     "end_time": "2025-03-19T09:36:38.225651Z",
     "start_time": "2025-03-19T09:36:37.990656Z"
    }
   },
   "outputs": [],
   "source": [
    "# find all jsonl files in log_folder_path\n",
    "gs_df = pd.DataFrame()\n",
    "for root, dirs, files in os.walk(log_folder_path):\n",
    "    for file in files:\n",
    "        if file.endswith(\".jsonl\"):\n",
    "            temp_df = pd.read_json(os.path.join(root, file),  \n",
    "                              lines=True, dtype={\"timestamp\": \"object\"}, convert_dates=False).drop(0)\n",
    "            # add file name as column\n",
    "            temp_df[\"file_name\"] = file\n",
    "            gs_df = pd.concat([gs_df, temp_df], ignore_index=True)\n"
   ]
  },
  {
   "cell_type": "code",
   "execution_count": null,
   "id": "f45a801a",
   "metadata": {},
   "outputs": [],
   "source": [
    "# replace nan in loss_function with \"nan_or_bce\"\n",
    "gs_df[\"loss_function\"] = gs_df[\"loss_function\"].fillna(\"nan_or_bce\")\n",
    "# replance nan in scheduler with \"exponential\"\n",
    "gs_df[\"scheduler\"] = gs_df[\"scheduler\"].fillna(\"exponential\")\n",
    "# replace nan in restrict_to_first_event with 1\n",
    "gs_df[\"restrict_to_first_event\"] = gs_df[\"restrict_to_first_event\"].fillna(1)\n",
    "# replace nan in target_interval with 0\n",
    "gs_df[\"target_interval\"] = gs_df[\"target_interval\"].fillna(0)\n",
    "\n",
    "# replace nan in oversampling_ratio with 1"
   ]
  },
  {
   "cell_type": "code",
   "execution_count": null,
   "id": "b3344ade",
   "metadata": {},
   "outputs": [],
   "source": [
    "gs_df.split_file.unique()"
   ]
  },
  {
   "cell_type": "code",
   "execution_count": null,
   "id": "4168d945d95ab438",
   "metadata": {
    "ExecuteTime": {
     "end_time": "2025-03-19T09:36:38.440472Z",
     "start_time": "2025-03-19T09:36:38.407692Z"
    }
   },
   "outputs": [],
   "source": [
    "gs_df"
   ]
  },
  {
   "cell_type": "code",
   "execution_count": null,
   "id": "76e926edc7bbaba",
   "metadata": {
    "ExecuteTime": {
     "end_time": "2025-03-19T09:36:40.248896Z",
     "start_time": "2025-03-19T09:36:40.223670Z"
    }
   },
   "outputs": [],
   "source": [
    "# find best by median_val_scoressqueeu\n",
    "best_df = gs_df.sort_values(\"median_val_scores\", ascending=False).head(1)\n",
    "best_df"
   ]
  },
  {
   "cell_type": "code",
   "execution_count": null,
   "id": "2e2ff3f473b3744",
   "metadata": {
    "ExecuteTime": {
     "end_time": "2025-03-19T09:34:39.245408Z",
     "start_time": "2024-08-19T16:20:32.525048Z"
    }
   },
   "outputs": [],
   "source": [
    "# best_df.to_csv(os.path.join(output_dir, \"end_transformer_best_hyperparameters.csv\"), index=False)"
   ]
  },
  {
   "cell_type": "code",
   "execution_count": null,
   "id": "f5575b1ac9754ede",
   "metadata": {
    "ExecuteTime": {
     "end_time": "2025-03-19T09:35:45.259955Z",
     "start_time": "2025-03-19T09:35:44.987888Z"
    }
   },
   "outputs": [],
   "source": [
    "# plot histogram of median_val_scores for all split_files\n",
    "ax = sns.histplot(x=\"median_val_scores\", data=gs_df, hue=\"split_file\")\n",
    "ax.figure.set_size_inches(10,10)\n",
    "ax.set_title(\"Median validation scores\")\n",
    "plt.show()\n"
   ]
  },
  {
   "cell_type": "code",
   "execution_count": null,
   "id": "4ad2eb1e6da667eb",
   "metadata": {
    "ExecuteTime": {
     "end_time": "2025-01-31T08:50:52.419327Z",
     "start_time": "2025-01-31T08:50:49.073147Z"
    }
   },
   "outputs": [],
   "source": [
    "# plot a grid with all previous plots\n",
    "fig, axes = plt.subplots(6, 3, figsize=(25, 25))\n",
    "sns.boxplot(x=\"num_layers\", y=\"median_val_scores\", data=gs_df, ax=axes[0,0])\n",
    "sns.boxplot(x=\"batch_size\", y=\"median_val_scores\", data=gs_df, ax=axes[1,0])\n",
    "sns.boxplot(x=\"num_head\", y=\"median_val_scores\", data=gs_df, ax=axes[1,2])\n",
    "sns.regplot(x=\"dropout\", y=\"median_val_scores\", data=gs_df, ax=axes[2,0])\n",
    "sns.regplot(x=\"train_noise\", y=\"median_val_scores\", data=gs_df, logx=True, ax=axes[2,1])\n",
    "# set x scale to log for train noise plot\n",
    "axes[2,1].set_xscale(\"log\")\n",
    "sns.scatterplot(x=\"lr\", y=\"median_val_scores\", data=gs_df, ax=axes[2,2])\n",
    "sns.scatterplot(x=\"weight_decay\", y=\"median_val_scores\", data=gs_df, ax=axes[0,2])\n",
    "# set x limits to 0, 0.1 for weight decay plot\n",
    "axes[0,2].set_xlim(0, 0.0002)\n",
    "\n",
    "sns.scatterplot(x=\"grad_clip_value\", y=\"median_val_scores\", data=gs_df, ax=axes[3,0])\n",
    "\n",
    "# oversampling_ratio\n",
    "sns.boxplot(x=\"oversampling_ratio\", y=\"median_val_scores\", data=gs_df, ax=axes[3,1])\n",
    "\n",
    "# loss_function\n",
    "sns.boxplot(x=\"loss_function\", y=\"median_val_scores\", data=gs_df, ax=axes[3,2])\n",
    "\n",
    "# tau\n",
    "sns.boxplot(x=\"tau\", y=\"median_val_scores\", data=gs_df, ax=axes[0,1])\n",
    "\n",
    "# gamma\n",
    "sns.boxplot(x=\"gamma\", y=\"median_val_scores\", data=gs_df, ax=axes[1,1])\n",
    "\n",
    "# alpha\n",
    "sns.boxplot(x=\"alpha\", y=\"median_val_scores\", data=gs_df, ax=axes[4,0])\n",
    "\n",
    "# n_lr_warm_up_steps\n",
    "sns.boxplot(x=\"n_lr_warm_up_steps\", y=\"median_val_scores\", data=gs_df, ax=axes[4,1])\n",
    "\n",
    "# model_dim\n",
    "sns.boxplot(x=\"model_dim\", y=\"median_val_scores\", data=gs_df, ax=axes[4,2])\n",
    "\n",
    "# scheduler\n",
    "sns.boxplot(x=\"scheduler\", y=\"median_val_scores\", data=gs_df, ax=axes[5,0])\n",
    "\n",
    "# # set y limits to 0.88, 0.92 for all plots\n",
    "for ax in axes.flat:\n",
    "    ax.set_ylim(0.75, 0.915)\n",
    "\n",
    "plt.show()"
   ]
  },
  {
   "cell_type": "code",
   "execution_count": null,
   "id": "a8bb468e",
   "metadata": {},
   "outputs": [],
   "source": [
    "def plot_hyperparameter_vs_metric(hyperparameters, metric, df):\n",
    "    # plot auc_val vs hyperparameters\n",
    "    n_hyperparameter_values = len(hyperparameters)\n",
    "    fig, axes = plt.subplots(n_hyperparameter_values // 3 + 1, 3, figsize=(25, 35))\n",
    "    for i, hyperparameter in enumerate(hyperparameters):\n",
    "        ax = axes[i // 3, i % 3]\n",
    "        # if number of unique values is > 10, use scatter plot\n",
    "        if len(df[hyperparameter].unique()) > 10:\n",
    "            sns.scatterplot(data=df, x=hyperparameter, y=metric, ax=ax)\n",
    "        else:\n",
    "            sns.boxplot(data=df, x=hyperparameter, y=metric, ax=ax)\n",
    "        ax.set_title(f'{metric} vs {hyperparameter}')\n",
    "        ax.set_xlabel(hyperparameter)\n",
    "        ax.set_ylabel(metric)\n",
    "\n",
    "        ax.set_ylim(0.75, 0.85)\n",
    "\n",
    "    plt.tight_layout()\n"
   ]
  },
  {
   "cell_type": "code",
   "execution_count": null,
   "id": "55b57073",
   "metadata": {},
   "outputs": [],
   "source": [
    "hyperparameters = ['batch_size', 'num_layers', 'model_dim', 'train_noise', 'weight_decay',\n",
    "       'dropout', 'num_head', 'lr', 'n_lr_warm_up_steps', 'grad_clip_value',\n",
    "       'early_stopping_step_limit', 'scheduler',\n",
    "       'alpha', 'gamma', 'model_type', 'loss_function', 'imbalance_factor',\n",
    "       'oversampling_ratio', 'n_trials', 'target_interval',\n",
    "       'restrict_to_first_event', 'max_epochs']"
   ]
  },
  {
   "cell_type": "code",
   "execution_count": null,
   "id": "a81dab03",
   "metadata": {},
   "outputs": [],
   "source": [
    "all_event_gs_df = gs_df[gs_df[\"split_file\"] == '/home/users/k/klug/data/opsum/gsu_Extraction_20220815_prepro_09052025_220520/early_neurological_deterioration_train_data_splits/train_data_splits_early_neurological_deterioration_ts0.8_rs42_ns5.pth']\n",
    "first_event_gs_df = gs_df[gs_df[\"split_file\"] == '/home/users/k/klug/data/opsum/gsu_Extraction_20220815_prepro_08062024_083500/early_neurological_deterioration_train_data_splits/train_data_splits_early_neurological_deterioration_ts0.8_rs42_ns5.pth']"
   ]
  },
  {
   "cell_type": "code",
   "execution_count": null,
   "id": "30e6fd93",
   "metadata": {},
   "outputs": [],
   "source": [
    "metric = \"median_val_scores\"\n",
    "print(\"all_event_gs_df\")\n",
    "plot_hyperparameter_vs_metric(hyperparameters, metric, all_event_gs_df)"
   ]
  },
  {
   "cell_type": "code",
   "execution_count": null,
   "id": "42db41a4",
   "metadata": {},
   "outputs": [],
   "source": [
    "print(\"first_event_gs_df\")\n",
    "plot_hyperparameter_vs_metric(hyperparameters, metric, first_event_gs_df)"
   ]
  },
  {
   "cell_type": "code",
   "execution_count": null,
   "id": "acc039ac",
   "metadata": {},
   "outputs": [],
   "source": [
    "        # Manual hyperparameter tuning\n",
    "        #  - grad clip to 1\n",
    "        # - lr to 1e-5\n",
    "        # - wd to 5e-4\n",
    "        # - dropout to 0.5\n",
    "        # - loss function to focal\n",
    "        # - num layers to 2\n",
    "        # - model_dim to 256\n",
    "        # - num_head 32"
   ]
  },
  {
   "cell_type": "code",
   "execution_count": null,
   "id": "a8198a950e7b6945",
   "metadata": {
    "ExecuteTime": {
     "end_time": "2024-08-18T14:36:28.010684Z",
     "start_time": "2024-08-18T14:36:28.006496Z"
    }
   },
   "outputs": [],
   "source": [
    "config = {\n",
    "    \"n_trials\": 1000,\n",
    "    \"target_interval\": 1,\n",
    "    \"restrict_to_first_event\": 0,\n",
    "    \"batch_size\": [256],\n",
    "    \"num_layers\": [2, 6],\n",
    "    \"model_dim\": [256, 1024],\n",
    "    \"train_noise\": [1e-5, 1e-6],\n",
    "    \"weight_decay\": [1e-5, 1e-4, 5e-4],\n",
    "    \"dropout\": [0.3, 0.2, 0.5],\n",
    "    \"num_head\": [16, 32],\n",
    "    \"lr\": [1e-5, 1e-4],\n",
    "    \"n_lr_warm_up_steps\": [0, 100],\n",
    "    \"grad_clip_value\": [0.01, 0.75, 1],\n",
    "    \"early_stopping_step_limit\": [10],\n",
    "    \"scheduler\": [\"exponential\", \"cosine\"],\n",
    "    \"imbalance_factor\": [62],\n",
    "    \"loss_function\": [\"focal\", \"bce\"],\n",
    "    \"alpha\": [0.25, 0.6],\n",
    "    \"gamma\": [2.0, 3.0],\n",
    "    \"tau\": [1.0],\n",
    "    \"oversampling_ratio\": [1, 10],\n",
    "    \"max_epochs\": 100\n",
    "}"
   ]
  }
 ],
 "metadata": {
  "kernelspec": {
   "display_name": "opsum",
   "language": "python",
   "name": "python3"
  },
  "language_info": {
   "codemirror_mode": {
    "name": "ipython",
    "version": 3
   },
   "file_extension": ".py",
   "mimetype": "text/x-python",
   "name": "python",
   "nbconvert_exporter": "python",
   "pygments_lexer": "ipython3",
   "version": "3.8.11"
  }
 },
 "nbformat": 4,
 "nbformat_minor": 5
}
