{
 "cells": [
  {
   "cell_type": "code",
   "execution_count": null,
   "id": "initial_id",
   "metadata": {
    "ExecuteTime": {
     "end_time": "2025-03-19T09:36:36.478030Z",
     "start_time": "2025-03-19T09:36:36.471086Z"
    }
   },
   "outputs": [],
   "source": [
    "import matplotlib.pyplot as plt\n",
    "import pandas as pd\n",
    "import os\n",
    "import seaborn as sns"
   ]
  },
  {
   "cell_type": "code",
   "execution_count": null,
   "id": "801ca5fa6e5486ff",
   "metadata": {
    "ExecuteTime": {
     "end_time": "2025-03-19T09:36:37.451718Z",
     "start_time": "2025-03-19T09:36:37.447630Z"
    }
   },
   "outputs": [],
   "source": [
    "log_folder_path = '/Users/jk1/temp/opsum_end/training/hyperopt/gridsearch'\n",
    "output_dir = '/Users/jk1/Downloads'"
   ]
  },
  {
   "cell_type": "code",
   "execution_count": null,
   "id": "38525202312f478",
   "metadata": {
    "ExecuteTime": {
     "end_time": "2025-03-19T09:36:38.225651Z",
     "start_time": "2025-03-19T09:36:37.990656Z"
    }
   },
   "outputs": [],
   "source": [
    "# find all jsonl files in log_folder_path\n",
    "gs_df = pd.DataFrame()\n",
    "for root, dirs, files in os.walk(log_folder_path):\n",
    "    for file in files:\n",
    "        if file.endswith('.jsonl'):\n",
    "            temp_df = pd.read_json(os.path.join(root, file),  \n",
    "                              lines=True, dtype={'timestamp': 'object'}, convert_dates=False).drop(0)\n",
    "            # add file name as column\n",
    "            temp_df['file_name'] = file\n",
    "            gs_df = pd.concat([gs_df, temp_df], ignore_index=True)\n"
   ]
  },
  {
   "cell_type": "code",
   "execution_count": null,
   "id": "4168d945d95ab438",
   "metadata": {
    "ExecuteTime": {
     "end_time": "2025-03-19T09:36:38.440472Z",
     "start_time": "2025-03-19T09:36:38.407692Z"
    }
   },
   "outputs": [],
   "source": [
    "gs_df"
   ]
  },
  {
   "cell_type": "code",
   "execution_count": null,
   "id": "76e926edc7bbaba",
   "metadata": {
    "ExecuteTime": {
     "end_time": "2025-03-19T09:36:40.248896Z",
     "start_time": "2025-03-19T09:36:40.223670Z"
    }
   },
   "outputs": [],
   "source": [
    "# find best by median_val_scores\n",
    "best_df = gs_df.sort_values('median_val_scores', ascending=False).head(1)\n",
    "best_df"
   ]
  },
  {
   "cell_type": "code",
   "execution_count": null,
   "id": "2e2ff3f473b3744",
   "metadata": {
    "ExecuteTime": {
     "end_time": "2025-03-19T09:34:39.245408Z",
     "start_time": "2024-08-19T16:20:32.525048Z"
    }
   },
   "outputs": [],
   "source": [
    "# best_df.to_csv(os.path.join(output_dir, 'end_transformer_best_hyperparameters.csv'), index=False)"
   ]
  },
  {
   "cell_type": "code",
   "execution_count": null,
   "id": "f5575b1ac9754ede",
   "metadata": {
    "ExecuteTime": {
     "end_time": "2025-03-19T09:35:45.259955Z",
     "start_time": "2025-03-19T09:35:44.987888Z"
    }
   },
   "outputs": [],
   "source": [
    "# plot histogram of median_val_scores\n",
    "ax = sns.histplot(x='median_val_scores', data=gs_df)\n",
    "ax.figure.set_size_inches(10,10)\n",
    "ax.set_title('Median validation scores')\n",
    "plt.show()"
   ]
  },
  {
   "cell_type": "code",
   "execution_count": null,
   "id": "4ad2eb1e6da667eb",
   "metadata": {
    "ExecuteTime": {
     "end_time": "2025-01-31T08:50:52.419327Z",
     "start_time": "2025-01-31T08:50:49.073147Z"
    }
   },
   "outputs": [],
   "source": [
    "# plot a grid with all previous plots\n",
    "fig, axes = plt.subplots(4, 3, figsize=(25, 25))\n",
    "sns.boxplot(x='num_layers', y='median_val_scores', data=gs_df, ax=axes[0,0])\n",
    "sns.boxplot(x='batch_size', y='median_val_scores', data=gs_df, ax=axes[1,0])\n",
    "sns.boxplot(x='num_head', y='median_val_scores', data=gs_df, ax=axes[1,2])\n",
    "sns.regplot(x='dropout', y='median_val_scores', data=gs_df, ax=axes[2,0])\n",
    "sns.regplot(x='train_noise', y='median_val_scores', data=gs_df, logx=True, ax=axes[2,1])\n",
    "# set x scale to log for train noise plot\n",
    "axes[2,1].set_xscale('log')\n",
    "sns.scatterplot(x='lr', y='median_val_scores', data=gs_df, ax=axes[2,2])\n",
    "sns.scatterplot(x='weight_decay', y='median_val_scores', data=gs_df, ax=axes[0,2])\n",
    "# set x limits to 0, 0.1 for weight decay plot\n",
    "# axes[0,2].set_xlim(0, 0.0002)\n",
    "sns.scatterplot(x='grad_clip_value', y='median_val_scores', data=gs_df, ax=axes[3,0])\n",
    "# set x limits to 0, 0.5 for grad_clip_value plot\n",
    "# axes[3,0].set_xlim(0, 0.5)\n",
    "\n",
    "# # set y limits to 0.88, 0.92 for all plots\n",
    "# for ax in axes.flat:\n",
    "#     ax.set_ylim(0.88, 0.915)\n",
    "\n",
    "plt.show()"
   ]
  },
  {
   "cell_type": "code",
   "execution_count": null,
   "id": "a8198a950e7b6945",
   "metadata": {
    "ExecuteTime": {
     "end_time": "2024-08-18T14:36:28.010684Z",
     "start_time": "2024-08-18T14:36:28.006496Z"
    }
   },
   "outputs": [],
   "source": []
  }
 ],
 "metadata": {
  "kernelspec": {
   "display_name": "Python 3",
   "language": "python",
   "name": "python3"
  },
  "language_info": {
   "codemirror_mode": {
    "name": "ipython",
    "version": 2
   },
   "file_extension": ".py",
   "mimetype": "text/x-python",
   "name": "python",
   "nbconvert_exporter": "python",
   "pygments_lexer": "ipython2",
   "version": "2.7.6"
  }
 },
 "nbformat": 4,
 "nbformat_minor": 5
}
