{
 "cells": [
  {
   "cell_type": "code",
   "execution_count": null,
   "id": "3d42b1835112764c",
   "metadata": {
    "ExecuteTime": {
     "end_time": "2025-04-03T09:12:49.655928Z",
     "start_time": "2025-04-03T09:12:49.652761Z"
    }
   },
   "outputs": [],
   "source": [
    "import matplotlib.pyplot as plt\n",
    "import pandas as pd\n",
    "import os\n",
    "import seaborn as sns"
   ]
  },
  {
   "cell_type": "code",
   "execution_count": null,
   "id": "2804349e84a8b0a6",
   "metadata": {
    "ExecuteTime": {
     "end_time": "2025-04-03T09:12:49.664562Z",
     "start_time": "2025-04-03T09:12:49.662016Z"
    }
   },
   "outputs": [],
   "source": [
    "log_folder_path = '/Users/jk1/temp/opsum_end/training/hyperopt/decoder_gridsearch'\n",
    "output_dir = '/Users/jk1/Downloads'"
   ]
  },
  {
   "cell_type": "code",
   "execution_count": null,
   "id": "552c17ad27d9e28b",
   "metadata": {
    "ExecuteTime": {
     "end_time": "2025-04-03T09:12:49.987113Z",
     "start_time": "2025-04-03T09:12:49.935798Z"
    }
   },
   "outputs": [],
   "source": [
    "# find all jsonl files in log_folder_path\n",
    "gs_df = pd.DataFrame()\n",
    "for root, dirs, files in os.walk(log_folder_path):\n",
    "    for file in files:\n",
    "        if file.endswith('.jsonl'):\n",
    "            temp_df = pd.read_json(os.path.join(root, file),\n",
    "                              lines=True, dtype={'timestamp': 'object'}, convert_dates=False).drop(0)\n",
    "            # add file name as column\n",
    "            temp_df['file_name'] = file\n",
    "            gs_df = pd.concat([gs_df, temp_df], ignore_index=True)\n"
   ]
  },
  {
   "cell_type": "code",
   "execution_count": null,
   "id": "6321ed99494149fe",
   "metadata": {
    "ExecuteTime": {
     "end_time": "2025-04-03T09:12:50.045077Z",
     "start_time": "2025-04-03T09:12:50.014948Z"
    }
   },
   "outputs": [],
   "source": [
    "gs_df"
   ]
  },
  {
   "cell_type": "code",
   "execution_count": null,
   "id": "c3a10593e062ca80",
   "metadata": {
    "ExecuteTime": {
     "end_time": "2025-04-03T09:12:50.188862Z",
     "start_time": "2025-04-03T09:12:50.171307Z"
    }
   },
   "outputs": [],
   "source": [
    "best_df = gs_df.sort_values('median_val_scores', ascending=False).head(1)\n",
    "best_df"
   ]
  },
  {
   "cell_type": "code",
   "execution_count": null,
   "id": "4cfee2a1",
   "metadata": {
    "ExecuteTime": {
     "end_time": "2025-04-03T09:13:18.619922Z",
     "start_time": "2025-04-03T09:13:18.614984Z"
    }
   },
   "outputs": [],
   "source": [
    "# best_df.to_csv(os.path.join(output_dir, 'best_enc_dec_df.csv'))"
   ]
  },
  {
   "cell_type": "code",
   "execution_count": null,
   "id": "859113d976b6289f",
   "metadata": {},
   "outputs": [],
   "source": []
  }
 ],
 "metadata": {
  "kernelspec": {
   "display_name": "opsum",
   "language": "python",
   "name": "python3"
  },
  "language_info": {
   "codemirror_mode": {
    "name": "ipython",
    "version": 3
   },
   "file_extension": ".py",
   "mimetype": "text/x-python",
   "name": "python",
   "nbconvert_exporter": "python",
   "pygments_lexer": "ipython3",
   "version": "3.8.11"
  }
 },
 "nbformat": 4,
 "nbformat_minor": 5
}
