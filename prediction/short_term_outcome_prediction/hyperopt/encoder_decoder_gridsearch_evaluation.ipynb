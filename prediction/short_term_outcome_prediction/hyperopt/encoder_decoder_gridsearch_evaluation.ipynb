{
 "cells": [
  {
   "cell_type": "code",
   "execution_count": null,
   "id": "3d42b1835112764c",
   "metadata": {
    "ExecuteTime": {
     "end_time": "2025-03-06T10:47:32.561217Z",
     "start_time": "2025-03-06T10:47:32.557097Z"
    }
   },
   "outputs": [],
   "source": [
    "import matplotlib.pyplot as plt\n",
    "import pandas as pd\n",
    "import os\n",
    "import seaborn as sns"
   ]
  },
  {
   "cell_type": "code",
   "execution_count": null,
   "id": "2804349e84a8b0a6",
   "metadata": {
    "ExecuteTime": {
     "end_time": "2025-03-06T10:47:32.710293Z",
     "start_time": "2025-03-06T10:47:32.706509Z"
    }
   },
   "outputs": [],
   "source": [
    "log_folder_path = '/Users/jk1/temp/opsum_end/training/hyperopt/decoder_gridsearch'\n",
    "output_dir = '/Users/jk1/Downloads'"
   ]
  },
  {
   "cell_type": "code",
   "execution_count": null,
   "id": "552c17ad27d9e28b",
   "metadata": {
    "ExecuteTime": {
     "end_time": "2025-03-06T10:48:02.761716Z",
     "start_time": "2025-03-06T10:48:02.755283Z"
    }
   },
   "outputs": [],
   "source": [
    "# find all jsonl files in log_folder_path\n",
    "gs_df = pd.DataFrame()\n",
    "for root, dirs, files in os.walk(log_folder_path):\n",
    "    for file in files:\n",
    "        if file.endswith('.jsonl'):\n",
    "            temp_df = pd.read_json(os.path.join(root, file),\n",
    "                              lines=True, dtype={'timestamp': 'object'}, convert_dates=False).drop(0)\n",
    "            # add file name as column\n",
    "            temp_df['file_name'] = file\n",
    "            gs_df = pd.concat([gs_df, temp_df], ignore_index=True)\n"
   ]
  },
  {
   "cell_type": "code",
   "execution_count": null,
   "id": "6321ed99494149fe",
   "metadata": {
    "ExecuteTime": {
     "end_time": "2025-03-06T10:48:03.185831Z",
     "start_time": "2025-03-06T10:48:03.179019Z"
    }
   },
   "outputs": [],
   "source": [
    "gs_df"
   ]
  },
  {
   "cell_type": "code",
   "execution_count": null,
   "id": "c3a10593e062ca80",
   "metadata": {},
   "outputs": [],
   "source": [
    "best_df = gs_df.sort_values('median_val_scores', ascending=False).head(1)\n",
    "best_df"
   ]
  },
  {
   "cell_type": "code",
   "execution_count": null,
   "id": "4cfee2a1",
   "metadata": {},
   "outputs": [],
   "source": []
  }
 ],
 "metadata": {
  "kernelspec": {
   "display_name": "opsum",
   "language": "python",
   "name": "python3"
  },
  "language_info": {
   "codemirror_mode": {
    "name": "ipython",
    "version": 3
   },
   "file_extension": ".py",
   "mimetype": "text/x-python",
   "name": "python",
   "nbconvert_exporter": "python",
   "pygments_lexer": "ipython3",
   "version": "3.8.11"
  }
 },
 "nbformat": 4,
 "nbformat_minor": 5
}
