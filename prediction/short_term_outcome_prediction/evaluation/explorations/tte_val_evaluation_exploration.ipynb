{
 "cells": [
  {
   "cell_type": "code",
   "execution_count": null,
   "id": "initial_id",
   "metadata": {
    "ExecuteTime": {
     "end_time": "2025-03-05T05:55:20.077976Z",
     "start_time": "2025-03-05T05:55:20.073103Z"
    }
   },
   "outputs": [],
   "source": [
    "import os\n",
    "\n",
    "import pandas as pd\n",
    "import torch as ch\n",
    "import numpy as np\n",
    "from torch.utils.data import DataLoader, TensorDataset\n",
    "from tqdm import tqdm\n",
    "from sklearn.metrics import matthews_corrcoef, average_precision_score, roc_auc_score, accuracy_score\n",
    "from sklearn.preprocessing import StandardScaler\n",
    "import pytorch_lightning as pl\n",
    "from prediction.outcome_prediction.Transformer.utils.utils import DictLogger\n",
    "from prediction.outcome_prediction.Transformer.architecture import OPSUMTransformer\n",
    "from prediction.outcome_prediction.Transformer.lightning_wrapper import LitEncoderRegressionModel"
   ]
  },
  {
   "cell_type": "code",
   "execution_count": null,
   "id": "359c6a54ff55c78b",
   "metadata": {
    "ExecuteTime": {
     "end_time": "2025-03-05T09:35:32.355749Z",
     "start_time": "2025-03-05T09:35:32.352643Z"
    }
   },
   "outputs": [],
   "source": [
    "data_path = '/Users/jk1/temp/opsum_end/preprocessing/gsu_Extraction_20220815_prepro_08062024_083500/early_neurological_deterioration_train_data_splits/train_data_splits_early_neurological_deterioration_ts0.8_rs42_ns5.pth'\n",
    "# data_path = '/Users/jk1/Downloads/train_data_splits_early_neurological_deterioration_ts0.8_rs42_ns5.pth'\n",
    "model_path = '/Users/jk1/temp/opsum_end/training/hyperopt/tte_gridsearch/best_05_03_2025/checkpoints_short_opsum_transformer_tte_20250109_235614_cv_1/short_opsum_transformer_tte_epoch=07_val_mae=3.7831.ckpt'\n",
    "model_hyperparams_path = '/Users/jk1/temp/opsum_end/training/hyperopt/tte_gridsearch/best_05_03_2025/checkpoints_short_opsum_transformer_tte_20250109_235614_cv_1/tte_end_transformer_best_hyperparameters.csv'\n",
    "predictions_path = '/Users/jk1/Downloads/tte_validation_evaluation_results_6h/predictions.pt'"
   ]
  },
  {
   "cell_type": "code",
   "execution_count": null,
   "id": "836e4adf174f866f",
   "metadata": {
    "ExecuteTime": {
     "end_time": "2025-03-05T09:35:40.274495Z",
     "start_time": "2025-03-05T09:35:40.271787Z"
    }
   },
   "outputs": [],
   "source": [
    "use_gpu = False\n",
    "n_time_steps = 72\n",
    "eval_n_time_steps_before_event = 6"
   ]
  },
  {
   "cell_type": "code",
   "execution_count": null,
   "id": "d64d4a6f1c9ce0df",
   "metadata": {
    "ExecuteTime": {
     "end_time": "2025-03-05T06:13:33.530912Z",
     "start_time": "2025-03-05T06:13:33.522742Z"
    }
   },
   "outputs": [],
   "source": [
    "model_config = pd.read_csv(model_hyperparams_path)\n",
    "model_config = model_config.to_dict(orient='records')[0]"
   ]
  },
  {
   "cell_type": "code",
   "execution_count": null,
   "id": "6da41a3220200d7f",
   "metadata": {
    "ExecuteTime": {
     "end_time": "2025-03-05T09:38:49.184266Z",
     "start_time": "2025-03-05T09:38:49.178658Z"
    }
   },
   "outputs": [],
   "source": [
    "model_config"
   ]
  },
  {
   "cell_type": "code",
   "execution_count": null,
   "id": "3daeb28ad86e5ba2",
   "metadata": {
    "ExecuteTime": {
     "end_time": "2025-03-05T09:38:32.549147Z",
     "start_time": "2025-03-05T09:35:44.726078Z"
    }
   },
   "outputs": [],
   "source": [
    "splits = ch.load(os.path.join(data_path))"
   ]
  },
  {
   "cell_type": "code",
   "execution_count": null,
   "id": "46cb015fdd426459",
   "metadata": {
    "ExecuteTime": {
     "end_time": "2025-03-05T09:38:58.141037Z",
     "start_time": "2025-03-05T09:38:58.127245Z"
    }
   },
   "outputs": [],
   "source": [
    "full_X_train, full_X_val, y_train, y_val = splits[model_config['best_cv_fold']]"
   ]
  },
  {
   "cell_type": "code",
   "execution_count": null,
   "id": "74533d7b8e776c8e",
   "metadata": {
    "ExecuteTime": {
     "end_time": "2025-03-05T09:39:00.162442Z",
     "start_time": "2025-03-05T09:38:59.407698Z"
    }
   },
   "outputs": [],
   "source": [
    "# prepare input data\n",
    "X_train = full_X_train[:, :, :, -1].astype('float32')\n",
    "X_val = full_X_val[:, :, :, -1].astype('float32')\n",
    "\n",
    "scaler = StandardScaler()\n",
    "X_train = scaler.fit_transform(X_train.reshape(-1, X_train.shape[-1])).reshape(X_train.shape)\n",
    "X_val = scaler.transform(X_val.reshape(-1, X_train.shape[-1])).reshape(X_val.shape)"
   ]
  },
  {
   "cell_type": "markdown",
   "id": "bbe38a86e6c13e8e",
   "metadata": {},
   "source": [
    "Load model"
   ]
  },
  {
   "cell_type": "code",
   "execution_count": null,
   "id": "e4369fdf4f172569",
   "metadata": {
    "ExecuteTime": {
     "end_time": "2025-03-05T06:14:09.797632Z",
     "start_time": "2025-03-05T06:14:05.415085Z"
    }
   },
   "outputs": [],
   "source": [
    "accelerator = 'gpu' if use_gpu else 'cpu'\n",
    "\n",
    "ff_factor = 2\n",
    "ff_dim = ff_factor * model_config['model_dim']\n",
    "pos_encode_factor = 1\n",
    "\n",
    "input_dim = X_val.shape[-1]\n",
    "\n",
    "logger = DictLogger(0)\n",
    "trainer = pl.Trainer(accelerator=accelerator, devices=1, max_epochs=1000,\n",
    "                     gradient_clip_val=model_config['grad_clip_value'], logger=logger)\n",
    "\n",
    "\n",
    "model_architecture = OPSUMTransformer(\n",
    "            input_dim=input_dim,\n",
    "            num_layers=int(model_config['num_layers']),\n",
    "            model_dim=int(model_config['model_dim']),\n",
    "            dropout=int(model_config['dropout']),\n",
    "            ff_dim=int(ff_dim),\n",
    "            num_heads=int(model_config['num_head']),\n",
    "            num_classes=1,\n",
    "            max_dim=500,\n",
    "            pos_encode_factor=pos_encode_factor\n",
    "        )\n",
    "\n",
    "trained_model = LitEncoderRegressionModel.load_from_checkpoint(checkpoint_path=model_path, model=model_architecture,\n",
    "                                              lr=model_config['lr'],\n",
    "                                              wd=model_config['weight_decay'],\n",
    "                                              train_noise=model_config['train_noise'])"
   ]
  },
  {
   "cell_type": "code",
   "execution_count": null,
   "id": "c08625b798304318",
   "metadata": {
    "ExecuteTime": {
     "end_time": "2025-03-05T09:33:12.505182Z",
     "start_time": "2025-03-05T09:33:12.495190Z"
    }
   },
   "outputs": [],
   "source": [
    "if predictions_path == '':\n",
    "    pred_over_ts = []\n",
    "    for ts in tqdm(range(n_time_steps)):\n",
    "        modified_time_steps = ts + 1\n",
    "    \n",
    "        X_val_with_first_n_ts = X_val[:, 0:modified_time_steps, :]\n",
    "        y_placeholder = ch.zeros((X_val_with_first_n_ts.shape[0], 1))\n",
    "        if use_gpu:\n",
    "            val_dataset = TensorDataset(ch.from_numpy(X_val_with_first_n_ts).cuda(), y_placeholder.cuda())\n",
    "        else:\n",
    "            val_dataset = TensorDataset(ch.from_numpy(X_val_with_first_n_ts), y_placeholder)\n",
    "    \n",
    "        val_loader = DataLoader(val_dataset, batch_size=1024)\n",
    "        if ts == 0:\n",
    "            y_pred = np.array(trainer.predict(trained_model, val_loader)[0])\n",
    "        else:\n",
    "            y_pred = np.array(trainer.predict(trained_model, val_loader)[0][:, -1])\n",
    "    \n",
    "        pred_over_ts.append(np.squeeze(y_pred))\n",
    "        pred_over_ts_np = np.squeeze(pred_over_ts).T\n",
    "    \n",
    "else:\n",
    "    predictions_data = ch.load(predictions_path)\n",
    "    pred_over_ts_np = np.squeeze(predictions_data).T\n",
    "\n",
    "        "
   ]
  },
  {
   "cell_type": "code",
   "execution_count": null,
   "id": "554e82acb069a44",
   "metadata": {
    "ExecuteTime": {
     "end_time": "2025-03-05T09:39:08.764779Z",
     "start_time": "2025-03-05T09:39:08.760520Z"
    }
   },
   "outputs": [],
   "source": [
    "pred_over_ts_np.shape"
   ]
  },
  {
   "cell_type": "code",
   "execution_count": null,
   "id": "dace94db042d4df1",
   "metadata": {
    "ExecuteTime": {
     "end_time": "2025-03-05T09:39:09.366124Z",
     "start_time": "2025-03-05T09:39:09.362367Z"
    }
   },
   "outputs": [],
   "source": [
    "X_val.shape"
   ]
  },
  {
   "cell_type": "code",
   "execution_count": null,
   "id": "32032e256a11509b",
   "metadata": {
    "ExecuteTime": {
     "end_time": "2025-03-05T09:39:21.508266Z",
     "start_time": "2025-03-05T09:39:21.455172Z"
    }
   },
   "outputs": [],
   "source": [
    "# construct classification y \n",
    "y_val_list = []\n",
    "for cid in full_X_val[:, 0, 0, 0]:\n",
    "    if cid not in y_val.case_admission_id.values:\n",
    "        cid_y = np.zeros(n_time_steps)\n",
    "    else:\n",
    "        cid_event_ts = y_val[y_val.case_admission_id == cid].relative_sample_date_hourly_cat.values\n",
    "        if cid_event_ts < (eval_n_time_steps_before_event + 1):\n",
    "            # if the event occurs before a detection window, ignore the patient\n",
    "            cid_y = np.array([])\n",
    "        else:\n",
    "            # let y be 0s until 6 hours before the event then stop the series\n",
    "            cid_y = np.zeros(int(cid_event_ts) - eval_n_time_steps_before_event - 1)\n",
    "            cid_y = np.append(cid_y, 1)\n",
    "    \n",
    "    y_val_list.append(cid_y)"
   ]
  },
  {
   "cell_type": "code",
   "execution_count": null,
   "id": "f1cf16f2ac184e8c",
   "metadata": {
    "ExecuteTime": {
     "end_time": "2025-03-05T08:31:30.472736Z",
     "start_time": "2025-03-05T08:31:30.467669Z"
    }
   },
   "outputs": [],
   "source": [
    "# compute roc scores for each time step\n",
    "roc_scores = []\n",
    "auprc_scores = []\n",
    "mcc_scores = []\n",
    "\n",
    "for ts in range(n_time_steps):\n",
    "    pts_idx = [i for i, y in enumerate(y_val_list) if len(y) > ts]\n",
    "    y_true = np.array([y[ts] for y in y_val_list if len(y) > ts])\n",
    "    y_pred = pred_over_ts_np[pts_idx, ts]\n",
    "    y_pred_bin = y_pred < eval_n_time_steps_before_event\n",
    "    \n",
    "    if len(np.unique(y_true)) == 1:\n",
    "        roc_scores.append(np.nan)\n",
    "        auprc_scores.append(np.nan)\n",
    "        mcc_scores.append(np.nan)\n",
    "\n",
    "    else:\n",
    "        roc_scores.append(roc_auc_score(y_true, y_pred_bin))\n",
    "        auprc_scores.append(average_precision_score(y_true, y_pred_bin))\n",
    "        mcc_scores.append(matthews_corrcoef(y_true, np.where(y_pred_bin > 0.5, 1, 0)))\n"
   ]
  },
  {
   "cell_type": "code",
   "execution_count": null,
   "id": "24d68d8b79c11e40",
   "metadata": {
    "ExecuteTime": {
     "end_time": "2025-03-05T08:26:45.767040Z",
     "start_time": "2025-03-05T08:26:45.762338Z"
    }
   },
   "outputs": [],
   "source": [
    "roc_scores"
   ]
  },
  {
   "cell_type": "code",
   "execution_count": null,
   "id": "df8e2e0e4b80f8a0",
   "metadata": {
    "ExecuteTime": {
     "end_time": "2025-03-05T09:30:29.404560Z",
     "start_time": "2025-03-05T09:30:29.399762Z"
    }
   },
   "outputs": [],
   "source": [
    "pred_over_ts_np.shape[0]"
   ]
  },
  {
   "cell_type": "code",
   "execution_count": null,
   "id": "32a9bc2405f32843",
   "metadata": {
    "ExecuteTime": {
     "end_time": "2025-03-05T09:41:49.713192Z",
     "start_time": "2025-03-05T09:40:38.281405Z"
    }
   },
   "outputs": [],
   "source": [
    "# for every patient plot the prediction over time\n",
    "import matplotlib.pyplot as plt\n",
    "import seaborn as sns\n",
    "\n",
    "for i in range(pred_over_ts_np.shape[0]):\n",
    "    cid = full_X_val[i, 0, 0, 0]\n",
    "    ax = sns.scatterplot(x=range(1, pred_over_ts_np.shape[1] + 1), y=pred_over_ts_np[i, :], hue=pred_over_ts_np[i, :] < 6)\n",
    "    ax.set_ylim(0, 80)\n",
    "    ax.set_title(f'Prediction over time for patient {cid}')\n",
    "    \n",
    "    if cid in y_val.case_admission_id.values:\n",
    "        ax.axvline(x=y_val[y_val.case_admission_id == cid].relative_sample_date_hourly_cat.values, color='red')\n",
    "    \n",
    "    plt.show()"
   ]
  },
  {
   "cell_type": "code",
   "execution_count": null,
   "id": "a13d4f061f24889e",
   "metadata": {
    "ExecuteTime": {
     "end_time": "2025-03-05T09:52:05.093978Z",
     "start_time": "2025-03-05T09:52:05.088090Z"
    }
   },
   "outputs": [],
   "source": [
    "np.log(0+1)"
   ]
  },
  {
   "cell_type": "code",
   "execution_count": null,
   "id": "af573312d96ac817",
   "metadata": {},
   "outputs": [],
   "source": []
  }
 ],
 "metadata": {
  "kernelspec": {
   "display_name": "Python 3",
   "language": "python",
   "name": "python3"
  },
  "language_info": {
   "codemirror_mode": {
    "name": "ipython",
    "version": 2
   },
   "file_extension": ".py",
   "mimetype": "text/x-python",
   "name": "python",
   "nbconvert_exporter": "python",
   "pygments_lexer": "ipython2",
   "version": "2.7.6"
  }
 },
 "nbformat": 4,
 "nbformat_minor": 5
}
