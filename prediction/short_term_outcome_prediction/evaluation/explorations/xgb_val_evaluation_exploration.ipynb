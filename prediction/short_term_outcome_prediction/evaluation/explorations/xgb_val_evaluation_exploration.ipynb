{
 "cells": [
  {
   "cell_type": "code",
   "execution_count": null,
   "id": "initial_id",
   "metadata": {
    "ExecuteTime": {
     "end_time": "2024-09-25T09:53:37.110180Z",
     "start_time": "2024-09-25T09:53:26.158382Z"
    }
   },
   "outputs": [],
   "source": [
    "import os\n",
    "import torch as ch\n",
    "import pandas as pd\n",
    "import xgboost as xgb\n",
    "import numpy as np\n",
    "from tqdm import tqdm\n",
    "from prediction.utils.utils import aggregate_features_over_time\n",
    "from prediction.short_term_outcome_prediction.timeseries_decomposition import prepare_aggregate_dataset\n",
    "from prediction.utils.scoring import precision, recall, specificity\n",
    "from sklearn.metrics import accuracy_score, roc_auc_score, matthews_corrcoef"
   ]
  },
  {
   "cell_type": "code",
   "execution_count": null,
   "id": "da162c835156d6de",
   "metadata": {
    "ExecuteTime": {
     "end_time": "2024-09-25T10:10:56.981253Z",
     "start_time": "2024-09-25T10:10:56.968029Z"
    }
   },
   "outputs": [],
   "source": [
    "data_path = '/Users/jk1/temp/opsum_end/preprocessing/gsu_Extraction_20220815_prepro_08062024_083500/early_neurological_deterioration_train_data_splits/train_data_splits_early_neurological_deterioration_ts0.8_rs42_ns5.pth'\n",
    "config_path = '/Users/jk1/Downloads/xgb_gs/xgb_best_model_mcc.csv'\n",
    "model_path = '/Users/jk1/Downloads/checkpoints_short_opsum_xgb_20240822_003347/xgb_20240822_003347_cv_4.model'"
   ]
  },
  {
   "cell_type": "code",
   "execution_count": null,
   "id": "dfdca1d1541a6772",
   "metadata": {
    "ExecuteTime": {
     "end_time": "2024-09-25T10:10:59.350950Z",
     "start_time": "2024-09-25T10:10:59.303204Z"
    }
   },
   "outputs": [],
   "source": [
    "best_config = pd.read_csv(config_path)"
   ]
  },
  {
   "cell_type": "code",
   "execution_count": null,
   "id": "f02d29c1a69dcb7b",
   "metadata": {
    "ExecuteTime": {
     "end_time": "2024-09-25T10:11:15.889103Z",
     "start_time": "2024-09-25T10:11:15.884389Z"
    }
   },
   "outputs": [],
   "source": [
    "best_config['CV'][0]"
   ]
  },
  {
   "cell_type": "code",
   "execution_count": null,
   "id": "e018711cd47fc592",
   "metadata": {
    "ExecuteTime": {
     "end_time": "2024-09-25T09:54:32.528215Z",
     "start_time": "2024-09-25T09:53:37.231545Z"
    }
   },
   "outputs": [],
   "source": [
    "splits = ch.load(os.path.join(data_path))"
   ]
  },
  {
   "cell_type": "code",
   "execution_count": null,
   "id": "eea31d5009086c0e",
   "metadata": {
    "ExecuteTime": {
     "end_time": "2024-09-25T09:54:34.600848Z",
     "start_time": "2024-09-25T09:54:32.547305Z"
    }
   },
   "outputs": [],
   "source": [
    "preprocessed_split = prepare_aggregate_dataset(splits[best_config['CV'][0]], rescale=True, target_time_to_outcome=6,\n",
    "                                              mask_after_first_positive=True)"
   ]
  },
  {
   "cell_type": "code",
   "execution_count": null,
   "id": "e8c3e00575b388f8",
   "metadata": {
    "ExecuteTime": {
     "end_time": "2024-09-25T09:54:34.608044Z",
     "start_time": "2024-09-25T09:54:34.603752Z"
    }
   },
   "outputs": [],
   "source": [
    "full_X_train, full_X_val, y_train, y_val = preprocessed_split"
   ]
  },
  {
   "cell_type": "code",
   "execution_count": null,
   "id": "c9c16c3a3af68781",
   "metadata": {
    "ExecuteTime": {
     "end_time": "2024-09-25T10:11:26.515309Z",
     "start_time": "2024-09-25T10:11:26.508909Z"
    }
   },
   "outputs": [],
   "source": [
    "trained_xgb = xgb.XGBClassifier(learning_rate=best_config['learning_rate'][0], max_depth=best_config['max_depth'][0], n_estimators=best_config['n_estimators'][0],\n",
    "                                        reg_lambda=best_config['reg_lambda'][0], alpha=best_config['alpha'][0])\n"
   ]
  },
  {
   "cell_type": "code",
   "execution_count": null,
   "id": "f3629b31dc71c7c1",
   "metadata": {
    "ExecuteTime": {
     "end_time": "2024-09-25T10:11:28.123154Z",
     "start_time": "2024-09-25T10:11:28.118135Z"
    }
   },
   "outputs": [],
   "source": [
    "trained_xgb.load_model(model_path)"
   ]
  },
  {
   "cell_type": "markdown",
   "id": "770bc90b367c5fc1",
   "metadata": {},
   "source": [
    "### Evaluation as in gridsearch"
   ]
  },
  {
   "cell_type": "code",
   "execution_count": null,
   "id": "836989844622c7c9",
   "metadata": {
    "ExecuteTime": {
     "end_time": "2024-09-25T10:11:31.435205Z",
     "start_time": "2024-09-25T10:11:31.037855Z"
    }
   },
   "outputs": [],
   "source": [
    "model_y_val = trained_xgb.predict_proba(full_X_val)[:, 1].astype('float32')\n",
    "model_y_pred_val = np.where(model_y_val > 0.5, 1, 0).astype('float32')\n",
    "model_acc_val = accuracy_score(y_val, model_y_pred_val)\n",
    "model_precision_val = precision(y_val, model_y_pred_val.astype(float)).numpy()\n",
    "model_sn_val = recall(y_val, model_y_pred_val).numpy()\n",
    "model_auc_val = roc_auc_score(y_val, model_y_val)\n",
    "model_mcc_val = matthews_corrcoef(y_val, model_y_pred_val)\n",
    "model_sp_val = specificity(y_val, model_y_pred_val).numpy()\n",
    "\n",
    "model_y_train = trained_xgb.predict_proba(full_X_train)[:, 1].astype('float32')\n",
    "model_y_pred_train = np.where(model_y_train > 0.5, 1, 0).astype('float32')\n",
    "model_acc_train = accuracy_score(y_train, model_y_pred_train)\n",
    "model_precision_train = precision(y_train, model_y_pred_train.astype(float)).numpy()\n",
    "model_sn_train = recall(y_train, model_y_pred_train).numpy()\n",
    "model_auc_train = roc_auc_score(y_train, model_y_train)\n",
    "model_mcc_train = matthews_corrcoef(y_train, model_y_pred_train)\n",
    "model_sp_train = specificity(y_train, model_y_pred_train).numpy()"
   ]
  },
  {
   "cell_type": "code",
   "execution_count": null,
   "id": "c4c4c20e0486d953",
   "metadata": {
    "ExecuteTime": {
     "end_time": "2024-09-25T10:11:36.194981Z",
     "start_time": "2024-09-25T10:11:36.189572Z"
    }
   },
   "outputs": [],
   "source": [
    "# print the results in a table\n",
    "results = pd.DataFrame({'train': [model_acc_train, model_precision_train, model_sn_train, model_sp_train, model_auc_train, model_mcc_train],\n",
    "                        'val': [model_acc_val, model_precision_val, model_sn_val, model_sp_val, model_auc_val, model_mcc_val]},\n",
    "                       index=['accuracy', 'precision', 'sensitivity', 'specificity', 'auc', 'mcc'])"
   ]
  },
  {
   "cell_type": "code",
   "execution_count": null,
   "id": "71d6f57e6164d404",
   "metadata": {
    "ExecuteTime": {
     "end_time": "2024-09-25T10:11:36.538925Z",
     "start_time": "2024-09-25T10:11:36.532733Z"
    }
   },
   "outputs": [],
   "source": [
    "results"
   ]
  },
  {
   "cell_type": "markdown",
   "id": "421f4a1f572a85e",
   "metadata": {},
   "source": [
    "### More realistic evaluation"
   ]
  },
  {
   "cell_type": "code",
   "execution_count": null,
   "id": "54cf542f948dc6f5",
   "metadata": {
    "ExecuteTime": {
     "end_time": "2024-09-25T10:17:16.237203Z",
     "start_time": "2024-09-25T10:17:16.231961Z"
    }
   },
   "outputs": [],
   "source": [
    "raw_X_train, raw_X_val, raw_y_train, raw_y_val = splits[best_config['CV'][0]]"
   ]
  },
  {
   "cell_type": "code",
   "execution_count": null,
   "id": "7bdd8b8eee2e90d3",
   "metadata": {
    "ExecuteTime": {
     "end_time": "2024-09-25T10:17:20.554913Z",
     "start_time": "2024-09-25T10:17:20.551483Z"
    }
   },
   "outputs": [],
   "source": [
    "raw_X_train.shape"
   ]
  },
  {
   "cell_type": "code",
   "execution_count": null,
   "id": "3311fbaa4dccedb1",
   "metadata": {
    "ExecuteTime": {
     "end_time": "2024-09-25T10:22:16.251514Z",
     "start_time": "2024-09-25T10:22:16.248830Z"
    }
   },
   "outputs": [],
   "source": [
    "n_time_steps = 72"
   ]
  },
  {
   "cell_type": "code",
   "execution_count": null,
   "id": "2570b0b1afb1ee1f",
   "metadata": {
    "ExecuteTime": {
     "end_time": "2024-09-25T10:30:43.220285Z",
     "start_time": "2024-09-25T10:30:43.217695Z"
    }
   },
   "outputs": [],
   "source": [
    "eval_n_time_steps_before_event = 6"
   ]
  },
  {
   "cell_type": "code",
   "execution_count": null,
   "id": "77cbdf9ef2401baf",
   "metadata": {
    "ExecuteTime": {
     "end_time": "2024-09-25T10:38:57.266227Z",
     "start_time": "2024-09-25T10:38:47.595454Z"
    }
   },
   "outputs": [],
   "source": [
    "pred_over_ts = []\n",
    "for ts in tqdm(range(n_time_steps)):\n",
    "    modified_time_steps = ts + 1\n",
    "\n",
    "    X_val_with_first_n_ts = raw_X_val[:, 0:modified_time_steps, :]\n",
    "    x_data = X_val_with_first_n_ts[:, :, :, -1].astype('float32')\n",
    "    # aggregate features\n",
    "    x_data, _ = aggregate_features_over_time(x_data, np.array([None]), moving_average=False)\n",
    "    \n",
    "    y_pred = trained_xgb.predict_proba(x_data)[:, 1].astype('float32')\n",
    "    \n",
    "    # reshape into (n_patients, n_time_steps)\n",
    "    n_patients = X_val_with_first_n_ts.shape[0]\n",
    "    y_pred = y_pred.reshape(n_patients, -1)\n",
    "    # only keep last timestep prediction\n",
    "    y_pred = y_pred[:, -1]\n",
    "    \n",
    "    pred_over_ts.append(np.squeeze(y_pred))"
   ]
  },
  {
   "cell_type": "code",
   "execution_count": null,
   "id": "ab88fe5c6d9128d4",
   "metadata": {
    "ExecuteTime": {
     "end_time": "2024-09-25T10:38:58.061094Z",
     "start_time": "2024-09-25T10:38:58.003536Z"
    }
   },
   "outputs": [],
   "source": [
    "pred_over_ts_np = np.squeeze(pred_over_ts).T"
   ]
  },
  {
   "cell_type": "code",
   "execution_count": null,
   "id": "6e8fd95a058bebc4",
   "metadata": {
    "ExecuteTime": {
     "end_time": "2024-09-25T10:38:58.658832Z",
     "start_time": "2024-09-25T10:38:58.655179Z"
    }
   },
   "outputs": [],
   "source": [
    "pred_over_ts_np.shape"
   ]
  },
  {
   "cell_type": "code",
   "execution_count": null,
   "id": "3967b0a6016b0154",
   "metadata": {
    "ExecuteTime": {
     "end_time": "2024-09-25T10:39:05.262686Z",
     "start_time": "2024-09-25T10:39:05.204844Z"
    }
   },
   "outputs": [],
   "source": [
    "# construct y \n",
    "y_val_list = []\n",
    "for cid in raw_X_val[:, 0, 0, 0]:\n",
    "    if cid not in raw_y_val.case_admission_id.values:\n",
    "        cid_y = np.zeros(n_time_steps)\n",
    "    else:\n",
    "        cid_event_ts = raw_y_val[raw_y_val.case_admission_id == cid].relative_sample_date_hourly_cat.values\n",
    "        if cid_event_ts < (eval_n_time_steps_before_event + 1):\n",
    "            # if the event occurs before a detection window, ignore the patient\n",
    "            cid_y = np.array([])\n",
    "        else:\n",
    "            # let y be 0s until 6 hours before the event then stop the series\n",
    "            cid_y = np.zeros(int(cid_event_ts) - eval_n_time_steps_before_event - 1)\n",
    "            cid_y = np.append(cid_y, 1)\n",
    "    \n",
    "    y_val_list.append(cid_y)"
   ]
  },
  {
   "cell_type": "code",
   "execution_count": null,
   "id": "93e1654a47795217",
   "metadata": {
    "ExecuteTime": {
     "end_time": "2024-09-25T10:39:05.763148Z",
     "start_time": "2024-09-25T10:39:05.695020Z"
    }
   },
   "outputs": [],
   "source": [
    "# compute roc scores for each time step\n",
    "from sklearn.metrics import roc_auc_score\n",
    "\n",
    "roc_scores = []\n",
    "for ts in range(n_time_steps):\n",
    "    pts_idx = [i for i, y in enumerate(y_val_list) if len(y) > ts]\n",
    "    y_true = np.array([y[ts] for y in y_val_list if len(y) > ts])\n",
    "    y_pred = pred_over_ts_np[pts_idx, ts]\n",
    "    if len(np.unique(y_true)) == 1:\n",
    "        roc_scores.append(np.nan)\n",
    "    else:\n",
    "        roc_scores.append(roc_auc_score(y_true, y_pred))\n",
    "\n"
   ]
  },
  {
   "cell_type": "code",
   "execution_count": null,
   "id": "17ab7ee7ef998b0c",
   "metadata": {
    "ExecuteTime": {
     "end_time": "2024-09-25T10:39:07.299525Z",
     "start_time": "2024-09-25T10:39:07.287532Z"
    }
   },
   "outputs": [],
   "source": [
    "np.nanmedian(roc_scores)\n"
   ]
  },
  {
   "cell_type": "code",
   "execution_count": null,
   "id": "4eeed6f26d1d8e4f",
   "metadata": {
    "ExecuteTime": {
     "end_time": "2024-09-25T10:39:20.762127Z",
     "start_time": "2024-09-25T10:39:20.550907Z"
    }
   },
   "outputs": [],
   "source": [
    "# plot roc scores over time\n",
    "import matplotlib.pyplot as plt\n",
    "import seaborn as sns\n",
    "\n",
    "sns.scatterplot(x=range(1, n_time_steps + 1), y=roc_scores)\n",
    "plt.title('ROC AUC over time')\n",
    "plt.show()"
   ]
  },
  {
   "cell_type": "code",
   "execution_count": null,
   "id": "186e2fb7e01ec491",
   "metadata": {
    "ExecuteTime": {
     "end_time": "2024-09-25T10:43:57.967881Z",
     "start_time": "2024-09-25T10:43:57.902241Z"
    }
   },
   "outputs": [],
   "source": [
    "# compute MCC scores for each time step\n",
    "# matthews_corrcoef(y_val, model_y_pred_val)\n",
    "mcc_scores = []\n",
    "for ts in range(n_time_steps):\n",
    "    pts_idx = [i for i, y in enumerate(y_val_list) if len(y) > ts]\n",
    "    y_true = np.array([y[ts] for y in y_val_list if len(y) > ts])\n",
    "    y_pred = pred_over_ts_np[pts_idx, ts]\n",
    "    if len(np.unique(y_true)) == 1:\n",
    "        mcc_scores.append(np.nan)\n",
    "    else:\n",
    "        mcc_scores.append(matthews_corrcoef(y_true, np.where(y_pred > 0.5, 1, 0)))"
   ]
  },
  {
   "cell_type": "code",
   "execution_count": null,
   "id": "13bb8e8cb788ed17",
   "metadata": {
    "ExecuteTime": {
     "end_time": "2024-09-25T10:44:00.662561Z",
     "start_time": "2024-09-25T10:44:00.658317Z"
    }
   },
   "outputs": [],
   "source": [
    "np.nanmedian(mcc_scores)"
   ]
  },
  {
   "cell_type": "markdown",
   "id": "8de2fdfef161f1a3",
   "metadata": {},
   "source": [
    "Plot the prediction over time for each patient"
   ]
  },
  {
   "cell_type": "code",
   "execution_count": null,
   "id": "3d08ad30233ecbed",
   "metadata": {
    "ExecuteTime": {
     "end_time": "2024-09-25T10:41:45.207384Z",
     "start_time": "2024-09-25T10:40:25.503294Z"
    }
   },
   "outputs": [],
   "source": [
    "# for every patient plot the prediction over time\n",
    "import matplotlib.pyplot as plt\n",
    "import seaborn as sns\n",
    "\n",
    "for i in range(pred_over_ts_np.shape[0]):\n",
    "    cid = raw_X_val[i, 0, 0, 0]\n",
    "    ax = sns.scatterplot(x=range(1, pred_over_ts_np.shape[1] + 1), y=pred_over_ts_np[i, :], hue=pred_over_ts_np[i, :] > 0.5)\n",
    "    ax.set_ylim(0, 1)\n",
    "    ax.set_title(f'Prediction over time for patient {cid}')\n",
    "    \n",
    "    if cid in raw_y_val.case_admission_id.values:\n",
    "        ax.axvline(x=raw_y_val[raw_y_val.case_admission_id == cid].relative_sample_date_hourly_cat.values, color='red')\n",
    "    \n",
    "    plt.show()"
   ]
  },
  {
   "cell_type": "code",
   "execution_count": null,
   "id": "5c6237ebcd886f90",
   "metadata": {},
   "outputs": [],
   "source": []
  }
 ],
 "metadata": {
  "kernelspec": {
   "display_name": "Python 3",
   "language": "python",
   "name": "python3"
  },
  "language_info": {
   "codemirror_mode": {
    "name": "ipython",
    "version": 2
   },
   "file_extension": ".py",
   "mimetype": "text/x-python",
   "name": "python",
   "nbconvert_exporter": "python",
   "pygments_lexer": "ipython2",
   "version": "2.7.6"
  }
 },
 "nbformat": 4,
 "nbformat_minor": 5
}
