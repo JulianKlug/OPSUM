{
 "cells": [
  {
   "cell_type": "code",
   "execution_count": null,
   "id": "initial_id",
   "metadata": {
    "ExecuteTime": {
     "end_time": "2024-09-25T16:54:50.380522Z",
     "start_time": "2024-09-25T16:54:50.377520Z"
    }
   },
   "outputs": [],
   "source": [
    "import pandas as pd\n",
    "import seaborn as sns\n",
    "import matplotlib.pyplot as plt"
   ]
  },
  {
   "cell_type": "code",
   "execution_count": null,
   "id": "d7da038c33c6d4d0",
   "metadata": {
    "ExecuteTime": {
     "end_time": "2024-09-25T16:57:14.889440Z",
     "start_time": "2024-09-25T16:57:14.878166Z"
    }
   },
   "outputs": [],
   "source": [
    "data_path = '/Users/jk1/Downloads/transformer_validation_evaluation_results_6h/validation_scores.csv'"
   ]
  },
  {
   "cell_type": "code",
   "execution_count": null,
   "id": "5793dfed4378f20f",
   "metadata": {
    "ExecuteTime": {
     "end_time": "2024-09-25T16:59:26.843425Z",
     "start_time": "2024-09-25T16:59:26.835908Z"
    }
   },
   "outputs": [],
   "source": [
    "# Load data\n",
    "data = pd.read_csv(data_path)\n",
    "# rename index to timestep\n",
    "data.rename(columns={'Unnamed: 0': 'timestep'}, inplace=True)"
   ]
  },
  {
   "cell_type": "code",
   "execution_count": null,
   "id": "d7c1de9ac4f32578",
   "metadata": {
    "ExecuteTime": {
     "end_time": "2024-09-25T16:59:27.883667Z",
     "start_time": "2024-09-25T16:59:27.873608Z"
    }
   },
   "outputs": [],
   "source": [
    "data.head()"
   ]
  },
  {
   "cell_type": "code",
   "execution_count": null,
   "id": "4cc5d05f61795896",
   "metadata": {
    "ExecuteTime": {
     "end_time": "2024-09-25T17:06:25.911176Z",
     "start_time": "2024-09-25T17:06:25.677616Z"
    }
   },
   "outputs": [],
   "source": [
    "fig, ax = plt.subplots(figsize=(5, 5))\n",
    "\n",
    "sns.scatterplot(data, y='roc', x='timestep', color='darkblue',\n",
    "                ax=ax)\n",
    "\n",
    "ax.set_xlabel('Time since admission (h)')\n",
    "ax.set_ylabel('Area under the ROC curve')\n",
    "\n",
    "plt.show()"
   ]
  },
  {
   "cell_type": "code",
   "execution_count": null,
   "id": "a4d566d6d1045306",
   "metadata": {
    "ExecuteTime": {
     "end_time": "2024-09-25T17:09:58.707163Z",
     "start_time": "2024-09-25T17:09:58.499861Z"
    }
   },
   "outputs": [],
   "source": [
    "output_dir = '/Users/jk1/Downloads'\n",
    "output_path = f'{output_dir}/roc_auc_over_time.png'\n",
    "# fig.savefig(output_path, dpi=300)"
   ]
  },
  {
   "cell_type": "code",
   "execution_count": null,
   "id": "337753149081c56e",
   "metadata": {},
   "outputs": [],
   "source": []
  }
 ],
 "metadata": {
  "kernelspec": {
   "display_name": "Python 3",
   "language": "python",
   "name": "python3"
  },
  "language_info": {
   "codemirror_mode": {
    "name": "ipython",
    "version": 2
   },
   "file_extension": ".py",
   "mimetype": "text/x-python",
   "name": "python",
   "nbconvert_exporter": "python",
   "pygments_lexer": "ipython2",
   "version": "2.7.6"
  }
 },
 "nbformat": 4,
 "nbformat_minor": 5
}
