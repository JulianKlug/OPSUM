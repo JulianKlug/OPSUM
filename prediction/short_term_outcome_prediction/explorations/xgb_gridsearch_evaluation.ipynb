{
 "cells": [
  {
   "cell_type": "code",
   "execution_count": null,
   "id": "initial_id",
   "metadata": {
    "ExecuteTime": {
     "end_time": "2024-09-25T10:02:22.052410Z",
     "start_time": "2024-09-25T10:02:22.049372Z"
    }
   },
   "outputs": [],
   "source": [
    "import matplotlib.pyplot as plt\n",
    "import pandas as pd\n",
    "import os\n",
    "import seaborn as sns"
   ]
  },
  {
   "cell_type": "code",
   "execution_count": null,
   "id": "b7dfd825b243cf65",
   "metadata": {
    "ExecuteTime": {
     "end_time": "2024-09-25T10:02:23.781066Z",
     "start_time": "2024-09-25T10:02:23.777755Z"
    }
   },
   "outputs": [],
   "source": [
    "log_folder_path = '/Users/jk1/Downloads/xgb_gs'\n",
    "output_dir = '/Users/jk1/Downloads'"
   ]
  },
  {
   "cell_type": "code",
   "execution_count": null,
   "id": "5df24c93e6096cfd",
   "metadata": {
    "ExecuteTime": {
     "end_time": "2024-09-25T07:54:52.052204Z",
     "start_time": "2024-09-25T07:54:51.892391Z"
    }
   },
   "outputs": [],
   "source": [
    "gs_df = pd.DataFrame()\n",
    "for root, dirs, files in os.walk(log_folder_path):\n",
    "    for file in files:\n",
    "        if file.endswith('.jsonl'):\n",
    "            temp_df = pd.read_json(os.path.join(root, file),  \n",
    "                              lines=True, dtype={'timestamp': 'object'}, convert_dates=False).drop(0)\n",
    "            # add file name as column\n",
    "            temp_df['file_name'] = file\n",
    "            gs_df = pd.concat([gs_df, temp_df], ignore_index=True)"
   ]
  },
  {
   "cell_type": "code",
   "execution_count": null,
   "id": "ce6cba7b03680cb",
   "metadata": {
    "ExecuteTime": {
     "end_time": "2024-09-25T07:54:52.139137Z",
     "start_time": "2024-09-25T07:54:52.053596Z"
    }
   },
   "outputs": [],
   "source": [
    "gs_df"
   ]
  },
  {
   "cell_type": "code",
   "execution_count": null,
   "id": "b2e38efb0e502dd",
   "metadata": {
    "ExecuteTime": {
     "end_time": "2024-09-25T07:54:52.156966Z",
     "start_time": "2024-09-25T07:54:52.141447Z"
    }
   },
   "outputs": [],
   "source": [
    "best_df = gs_df.sort_values('median_val_scores', ascending=False).head(1)\n",
    "best_df"
   ]
  },
  {
   "cell_type": "code",
   "execution_count": null,
   "id": "fba22c4b0b816d4c",
   "metadata": {
    "ExecuteTime": {
     "end_time": "2024-09-25T08:50:21.821137Z",
     "start_time": "2024-09-25T08:50:21.801431Z"
    }
   },
   "outputs": [],
   "source": [
    "# save best config\n",
    "# best_df.to_csv(os.path.join(output_dir, 'xgb_best_config.csv'), index=False)"
   ]
  },
  {
   "cell_type": "markdown",
   "id": "50e2a0eeadbd1aed",
   "metadata": {},
   "source": [
    "## Cave\n",
    "\n",
    "ROC AUC not reliable alone, as very imbalanced data and XGB has a tendency to predict only 0"
   ]
  },
  {
   "cell_type": "code",
   "execution_count": null,
   "id": "da0dfb6b60806995",
   "metadata": {
    "ExecuteTime": {
     "end_time": "2024-09-25T10:02:26.644346Z",
     "start_time": "2024-09-25T10:02:26.641856Z"
    }
   },
   "outputs": [],
   "source": [
    "full_results_dir = '/Users/jk1/Downloads/xgb_csvs'"
   ]
  },
  {
   "cell_type": "code",
   "execution_count": null,
   "id": "d096ad49260ada29",
   "metadata": {
    "ExecuteTime": {
     "end_time": "2024-09-25T10:06:52.025511Z",
     "start_time": "2024-09-25T10:06:47.456808Z"
    }
   },
   "outputs": [],
   "source": [
    "# load all csv files in directory and join them in one df\n",
    "gs_full_results_df = pd.DataFrame()\n",
    "for root, dirs, files in os.walk(full_results_dir):\n",
    "    for file in files:\n",
    "        if file.endswith('.csv'):\n",
    "            temp_df = pd.read_csv(os.path.join(root, file))\n",
    "            # append timestamp from file name as column \n",
    "            temp_df['timestamp'] = '_'.join(file.split('_')[1:])[0:-4]\n",
    "            gs_full_results_df = pd.concat([gs_full_results_df, temp_df], ignore_index=True)\n",
    "            "
   ]
  },
  {
   "cell_type": "code",
   "execution_count": null,
   "id": "8f3ca41cb8c9907a",
   "metadata": {
    "ExecuteTime": {
     "end_time": "2024-09-25T10:06:52.060327Z",
     "start_time": "2024-09-25T10:06:52.028210Z"
    }
   },
   "outputs": [],
   "source": [
    "gs_full_results_df"
   ]
  },
  {
   "cell_type": "code",
   "execution_count": null,
   "id": "f92356b80ecfb0ad",
   "metadata": {
    "ExecuteTime": {
     "end_time": "2024-09-25T10:08:24.549146Z",
     "start_time": "2024-09-25T10:08:24.545135Z"
    }
   },
   "outputs": [],
   "source": [
    "# select best model based on mcc_val\n",
    "best_model = gs_full_results_df.sort_values('mcc_val', ascending=False).head(1)"
   ]
  },
  {
   "cell_type": "code",
   "execution_count": null,
   "id": "4c784a416231e6cb",
   "metadata": {
    "ExecuteTime": {
     "end_time": "2024-09-25T10:08:26.530731Z",
     "start_time": "2024-09-25T10:08:26.516630Z"
    }
   },
   "outputs": [],
   "source": [
    "best_model"
   ]
  },
  {
   "cell_type": "code",
   "execution_count": null,
   "id": "c94ecce690cd7b7a",
   "metadata": {
    "ExecuteTime": {
     "end_time": "2024-09-25T10:09:14.419809Z",
     "start_time": "2024-09-25T10:09:14.411118Z"
    }
   },
   "outputs": [],
   "source": [
    "# save best model config\n",
    "best_model.to_csv(os.path.join(output_dir, 'xgb_best_model.csv'), index=False)"
   ]
  },
  {
   "cell_type": "code",
   "execution_count": null,
   "id": "3aac9ce6384afa3b",
   "metadata": {},
   "outputs": [],
   "source": []
  }
 ],
 "metadata": {
  "kernelspec": {
   "display_name": "Python 3",
   "language": "python",
   "name": "python3"
  },
  "language_info": {
   "codemirror_mode": {
    "name": "ipython",
    "version": 2
   },
   "file_extension": ".py",
   "mimetype": "text/x-python",
   "name": "python",
   "nbconvert_exporter": "python",
   "pygments_lexer": "ipython2",
   "version": "2.7.6"
  }
 },
 "nbformat": 4,
 "nbformat_minor": 5
}
