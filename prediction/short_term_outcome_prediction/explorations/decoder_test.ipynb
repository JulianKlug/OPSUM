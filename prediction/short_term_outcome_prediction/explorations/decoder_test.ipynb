{
 "cells": [
  {
   "cell_type": "code",
   "execution_count": null,
   "id": "initial_id",
   "metadata": {
    "ExecuteTime": {
     "end_time": "2024-08-21T05:37:44.439047Z",
     "start_time": "2024-08-21T05:37:38.023294Z"
    }
   },
   "outputs": [],
   "source": [
    "import torch\n",
    "import torch as ch\n",
    "from os import path\n",
    "import numpy as np\n",
    "from torch.utils.data import DataLoader\n",
    "from prediction.outcome_prediction.Transformer.lightning_wrapper import LitModel\n",
    "from prediction.short_term_outcome_prediction.timeseries_decomposition import BucketBatchSampler, \\\n",
    "    prepare_subsequence_dataset"
   ]
  },
  {
   "cell_type": "code",
   "execution_count": null,
   "id": "d33f8b0d3764daaa",
   "metadata": {
    "ExecuteTime": {
     "end_time": "2024-08-21T05:37:44.442615Z",
     "start_time": "2024-08-21T05:37:44.440607Z"
    }
   },
   "outputs": [],
   "source": [
    "data_splits_path = '/Users/jk1/Downloads/train_data_splits_early_neurological_deterioration_ts0.8_rs42_ns5.pth'"
   ]
  },
  {
   "cell_type": "code",
   "execution_count": null,
   "id": "358b09727b34e203",
   "metadata": {
    "ExecuteTime": {
     "end_time": "2024-08-21T05:37:44.447639Z",
     "start_time": "2024-08-21T05:37:44.445099Z"
    }
   },
   "outputs": [],
   "source": [
    "use_gpu = False\n",
    "batch_size = 32"
   ]
  },
  {
   "cell_type": "code",
   "execution_count": null,
   "id": "14a3cbb7d5f6d2f3",
   "metadata": {
    "ExecuteTime": {
     "end_time": "2024-08-21T05:37:45.356604Z",
     "start_time": "2024-08-21T05:37:44.449490Z"
    }
   },
   "outputs": [],
   "source": [
    "splits = ch.load(path.join(data_splits_path))"
   ]
  },
  {
   "cell_type": "code",
   "execution_count": null,
   "id": "ccb268487ab9fbaa",
   "metadata": {
    "ExecuteTime": {
     "end_time": "2024-08-21T05:37:45.365785Z",
     "start_time": "2024-08-21T05:37:45.357926Z"
    }
   },
   "outputs": [],
   "source": [
    "target_variable = 'max_NIHSS'\n",
    "target_variable_index = np.where(splits[0][0][0][0][:, 2] == target_variable)[0][0]\n",
    "target_variable_index"
   ]
  },
  {
   "cell_type": "code",
   "execution_count": null,
   "id": "f59d834c1af33a55",
   "metadata": {
    "ExecuteTime": {
     "end_time": "2024-08-21T05:37:45.466440Z",
     "start_time": "2024-08-21T05:37:45.367592Z"
    }
   },
   "outputs": [],
   "source": [
    "all_datasets = [prepare_subsequence_dataset(x, use_gpu=use_gpu, use_target_timeseries=True, \n",
    "                                                target_timeseries_length=1) for x in splits]"
   ]
  },
  {
   "cell_type": "code",
   "execution_count": null,
   "id": "9da69a46866ae5d4",
   "metadata": {
    "ExecuteTime": {
     "end_time": "2024-08-21T05:37:45.472552Z",
     "start_time": "2024-08-21T05:37:45.468406Z"
    }
   },
   "outputs": [],
   "source": [
    "splits[0][0].shape"
   ]
  },
  {
   "cell_type": "code",
   "execution_count": null,
   "id": "5e21ab5731b729ba",
   "metadata": {
    "ExecuteTime": {
     "end_time": "2024-08-21T05:37:45.476582Z",
     "start_time": "2024-08-21T05:37:45.473969Z"
    }
   },
   "outputs": [],
   "source": [
    "train_dataset, val_dataset = all_datasets[0]"
   ]
  },
  {
   "cell_type": "code",
   "execution_count": null,
   "id": "87d32346f832a5e1",
   "metadata": {
    "ExecuteTime": {
     "end_time": "2024-08-21T05:37:45.483595Z",
     "start_time": "2024-08-21T05:37:45.480028Z"
    }
   },
   "outputs": [],
   "source": [
    "len(train_dataset), len(val_dataset)"
   ]
  },
  {
   "cell_type": "code",
   "execution_count": null,
   "id": "e2590f1060021d64",
   "metadata": {
    "ExecuteTime": {
     "end_time": "2024-08-21T05:37:45.489676Z",
     "start_time": "2024-08-21T05:37:45.485320Z"
    }
   },
   "outputs": [],
   "source": [
    "train_dataset[2][0].shape, train_dataset[2][2].shape \n"
   ]
  },
  {
   "cell_type": "code",
   "execution_count": null,
   "id": "9af42599bb8f0cf5",
   "metadata": {
    "ExecuteTime": {
     "end_time": "2024-08-21T05:38:16.877245Z",
     "start_time": "2024-08-21T05:38:16.872937Z"
    }
   },
   "outputs": [],
   "source": [
    "train_bucket_sampler = BucketBatchSampler(train_dataset.idx_to_len_map, batch_size)\n",
    "train_loader = DataLoader(train_dataset, batch_sampler=train_bucket_sampler,\n",
    "                          # shuffling is done in the bucket sampler\n",
    "                          shuffle=False, drop_last=False)"
   ]
  },
  {
   "cell_type": "code",
   "execution_count": null,
   "id": "1835dc2686a8ba40",
   "metadata": {
    "ExecuteTime": {
     "end_time": "2024-08-21T05:38:39.518296Z",
     "start_time": "2024-08-21T05:38:39.512640Z"
    }
   },
   "outputs": [],
   "source": [
    "# get first item from train_loader\n",
    "for x in train_loader:\n",
    "    print(x[0].shape, x[1].shape, x[2].shape)\n",
    "    break"
   ]
  },
  {
   "cell_type": "code",
   "execution_count": null,
   "id": "1051dce84a9a052d",
   "metadata": {
    "ExecuteTime": {
     "end_time": "2024-08-21T06:10:20.343534Z",
     "start_time": "2024-08-21T06:10:20.232030Z"
    }
   },
   "outputs": [],
   "source": [
    "model = ch.nn.Transformer(d_model=84, nhead=2, batch_first=True)"
   ]
  },
  {
   "cell_type": "code",
   "execution_count": null,
   "id": "61c51c182245debe",
   "metadata": {},
   "outputs": [],
   "source": [
    "module = LitModel(model, lr=1e-3, wd=1e-5, train_noise=0.1)"
   ]
  },
  {
   "cell_type": "code",
   "execution_count": null,
   "id": "c902cd649fe8e8a1",
   "metadata": {},
   "outputs": [],
   "source": [
    "train_x = ch.randn(32, 5, 10)\n",
    "train_y = ch.randn(32, 2, 10)"
   ]
  },
  {
   "cell_type": "code",
   "execution_count": null,
   "id": "844d5c8f40d4bf62",
   "metadata": {},
   "outputs": [],
   "source": [
    "train_y.shape"
   ]
  },
  {
   "cell_type": "code",
   "execution_count": null,
   "id": "a1fb5969cf941d74",
   "metadata": {},
   "outputs": [],
   "source": [
    "res = model(train_x, train_y)\n",
    "res.shape"
   ]
  },
  {
   "cell_type": "code",
   "execution_count": null,
   "id": "b14366665b0116c9",
   "metadata": {
    "ExecuteTime": {
     "end_time": "2024-08-21T07:18:16.463490Z",
     "start_time": "2024-08-21T07:18:16.454394Z"
    }
   },
   "outputs": [],
   "source": [
    "x[2].shape"
   ]
  },
  {
   "cell_type": "code",
   "execution_count": null,
   "id": "a2b834c143bc3311",
   "metadata": {
    "ExecuteTime": {
     "end_time": "2024-08-21T07:37:15.727279Z",
     "start_time": "2024-08-21T07:37:15.680427Z"
    }
   },
   "outputs": [],
   "source": [
    "# vector with torch infinite values of shape x[2].shape\n",
    "torch.full(x[2].shape, float('inf'))"
   ]
  },
  {
   "cell_type": "code",
   "execution_count": null,
   "id": "d670fb81276cc483",
   "metadata": {
    "ExecuteTime": {
     "end_time": "2024-08-21T07:37:31.089606Z",
     "start_time": "2024-08-21T07:37:30.964907Z"
    }
   },
   "outputs": [],
   "source": [
    "res = model(x[0], torch.full(x[2].shape, float('inf')))\n",
    "res.shape"
   ]
  },
  {
   "cell_type": "code",
   "execution_count": null,
   "id": "5293adf069c9bb7",
   "metadata": {
    "ExecuteTime": {
     "end_time": "2024-08-21T07:37:48.986549Z",
     "start_time": "2024-08-21T07:37:48.980832Z"
    }
   },
   "outputs": [],
   "source": [
    "res"
   ]
  },
  {
   "cell_type": "code",
   "execution_count": null,
   "id": "aded709831b5107",
   "metadata": {
    "ExecuteTime": {
     "end_time": "2024-08-21T08:20:10.441222Z",
     "start_time": "2024-08-21T08:20:10.433415Z"
    }
   },
   "outputs": [],
   "source": [
    "test = ch.nn.Linear(10, 5)"
   ]
  },
  {
   "cell_type": "code",
   "execution_count": null,
   "id": "5c7e3f4f0211199c",
   "metadata": {
    "ExecuteTime": {
     "end_time": "2024-08-21T08:20:27.258618Z",
     "start_time": "2024-08-21T08:20:27.238403Z"
    }
   },
   "outputs": [],
   "source": [
    "test(ch.randn(32, 5, 10)).shape"
   ]
  },
  {
   "cell_type": "code",
   "execution_count": null,
   "id": "a5d303cfdf50f89e",
   "metadata": {
    "ExecuteTime": {
     "end_time": "2024-08-21T06:11:11.956034Z",
     "start_time": "2024-08-21T06:11:11.951123Z"
    }
   },
   "outputs": [],
   "source": [
    "x[2][0].shape"
   ]
  },
  {
   "cell_type": "code",
   "execution_count": null,
   "id": "65eeebbb",
   "metadata": {
    "ExecuteTime": {
     "end_time": "2024-08-21T06:26:02.495372Z",
     "start_time": "2024-08-21T06:26:02.456019Z"
    }
   },
   "outputs": [],
   "source": [
    "import torchmetrics\n",
    "from torchmetrics.regression import CosineSimilarity\n",
    "metric = CosineSimilarity()\n",
    "torchmetrics.functional.pairwise_cosine_similarity(x[2][0], res[0]), metric(x[2][0], res[0])"
   ]
  },
  {
   "cell_type": "code",
   "execution_count": null,
   "id": "231ae9636b251dcf",
   "metadata": {},
   "outputs": [],
   "source": []
  }
 ],
 "metadata": {
  "kernelspec": {
   "display_name": "Python 3",
   "language": "python",
   "name": "python3"
  },
  "language_info": {
   "codemirror_mode": {
    "name": "ipython",
    "version": 3
   },
   "file_extension": ".py",
   "mimetype": "text/x-python",
   "name": "python",
   "nbconvert_exporter": "python",
   "pygments_lexer": "ipython3",
   "version": "3.8.11"
  }
 },
 "nbformat": 4,
 "nbformat_minor": 5
}
