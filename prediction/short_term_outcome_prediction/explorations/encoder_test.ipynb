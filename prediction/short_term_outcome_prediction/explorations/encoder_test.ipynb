{
 "cells": [
  {
   "cell_type": "code",
   "execution_count": null,
   "id": "initial_id",
   "metadata": {
    "ExecuteTime": {
     "end_time": "2025-01-06T06:46:55.443351Z",
     "start_time": "2025-01-06T06:46:45.894344Z"
    }
   },
   "outputs": [],
   "source": [
    "import torch as ch\n",
    "from os import path\n",
    "\n",
    "from prediction.short_term_outcome_prediction.timeseries_decomposition import prepare_subsequence_dataset"
   ]
  },
  {
   "cell_type": "code",
   "execution_count": null,
   "id": "74c9c03b108bb0",
   "metadata": {
    "ExecuteTime": {
     "end_time": "2025-01-06T06:46:55.451022Z",
     "start_time": "2025-01-06T06:46:55.448235Z"
    }
   },
   "outputs": [],
   "source": [
    "data_splits_path = '/Users/jk1/Downloads/train_data_splits_early_neurological_deterioration_ts0.8_rs42_ns5.pth'"
   ]
  },
  {
   "cell_type": "code",
   "execution_count": null,
   "id": "59bed86e1f55addd",
   "metadata": {
    "ExecuteTime": {
     "end_time": "2025-01-06T06:46:55.902620Z",
     "start_time": "2025-01-06T06:46:55.899407Z"
    }
   },
   "outputs": [],
   "source": [
    "use_gpu = ch.cuda.is_available()"
   ]
  },
  {
   "cell_type": "code",
   "execution_count": null,
   "id": "7a795f6ce48cbfe8",
   "metadata": {
    "ExecuteTime": {
     "end_time": "2025-01-06T06:46:56.153183Z",
     "start_time": "2025-01-06T06:46:55.911868Z"
    }
   },
   "outputs": [],
   "source": [
    "splits = ch.load(path.join(data_splits_path))\n",
    "all_datasets = [prepare_subsequence_dataset(x, use_gpu=use_gpu, use_time_to_event=True) for x in splits]"
   ]
  },
  {
   "cell_type": "code",
   "execution_count": null,
   "id": "2c1d26581e6e0132",
   "metadata": {
    "ExecuteTime": {
     "end_time": "2025-01-06T06:46:56.227444Z",
     "start_time": "2025-01-06T06:46:56.163847Z"
    }
   },
   "outputs": [],
   "source": [
    "for i in range(len(all_datasets[0][0])):\n",
    "    print(all_datasets[0][0][i][1])"
   ]
  },
  {
   "cell_type": "code",
   "execution_count": null,
   "id": "e20a7180bb2cb791",
   "metadata": {
    "ExecuteTime": {
     "end_time": "2025-01-06T06:46:56.304418Z",
     "start_time": "2025-01-06T06:46:56.301021Z"
    }
   },
   "outputs": [],
   "source": [
    "train_dataset = all_datasets[0][0]"
   ]
  },
  {
   "cell_type": "code",
   "execution_count": null,
   "id": "d83a66b935843c09",
   "metadata": {
    "ExecuteTime": {
     "end_time": "2025-01-06T06:54:23.228188Z",
     "start_time": "2025-01-06T06:54:22.984493Z"
    }
   },
   "outputs": [],
   "source": [
    "from prediction.outcome_prediction.Transformer.architecture import OPSUMTransformer\n",
    "\n",
    "input_dim = train_dataset[0][0].shape[-1]\n",
    "ff_factor = 2\n",
    "ff_dim = ff_factor * 1024\n",
    "\n",
    "model = OPSUMTransformer(\n",
    "    input_dim=input_dim,\n",
    "    num_layers=1,\n",
    "    model_dim=1024,\n",
    "    dropout=0.1,\n",
    "    ff_dim=ff_dim,\n",
    "    num_heads=2,\n",
    "    num_classes=1,\n",
    "    max_dim=500,\n",
    "    pos_encode_factor=1,\n",
    "    enforce_non_negative=True\n",
    ")"
   ]
  },
  {
   "cell_type": "code",
   "execution_count": null,
   "id": "829a43069c717dff",
   "metadata": {
    "ExecuteTime": {
     "end_time": "2025-01-06T06:54:24.188602Z",
     "start_time": "2025-01-06T06:54:24.183919Z"
    }
   },
   "outputs": [],
   "source": [
    "from torch.utils.data import DataLoader\n",
    "from prediction.short_term_outcome_prediction.timeseries_decomposition import BucketBatchSampler\n",
    "\n",
    "train_bucket_sampler = BucketBatchSampler(train_dataset.idx_to_len_map, 2)\n",
    "train_loader = DataLoader(train_dataset, batch_sampler=train_bucket_sampler,\n",
    "                                  # shuffling is done in the bucket sampler\n",
    "                                  shuffle=False, drop_last=False)"
   ]
  },
  {
   "cell_type": "code",
   "execution_count": null,
   "id": "62f2f713703c1800",
   "metadata": {
    "ExecuteTime": {
     "end_time": "2025-01-06T06:54:36.227734Z",
     "start_time": "2025-01-06T06:54:36.223364Z"
    }
   },
   "outputs": [],
   "source": [
    "sample = next(iter(train_loader))"
   ]
  },
  {
   "cell_type": "code",
   "execution_count": null,
   "id": "1aeda240de95461b",
   "metadata": {
    "ExecuteTime": {
     "end_time": "2025-01-06T06:54:36.574247Z",
     "start_time": "2025-01-06T06:54:36.569386Z"
    }
   },
   "outputs": [],
   "source": [
    "sample[0].shape"
   ]
  },
  {
   "cell_type": "code",
   "execution_count": null,
   "id": "f1b3141495df5f20",
   "metadata": {
    "ExecuteTime": {
     "end_time": "2025-01-06T06:54:37.373380Z",
     "start_time": "2025-01-06T06:54:37.277365Z"
    }
   },
   "outputs": [],
   "source": [
    "model(sample[0])"
   ]
  },
  {
   "cell_type": "code",
   "execution_count": null,
   "id": "208d7e952de37144",
   "metadata": {
    "ExecuteTime": {
     "end_time": "2025-01-06T06:51:38.214488Z",
     "start_time": "2025-01-06T06:51:38.174245Z"
    }
   },
   "outputs": [],
   "source": [
    "model(sample[0]).shape"
   ]
  },
  {
   "cell_type": "code",
   "execution_count": null,
   "id": "b8d8ac3bc67fdccc",
   "metadata": {
    "ExecuteTime": {
     "end_time": "2025-01-06T06:52:23.760521Z",
     "start_time": "2025-01-06T06:52:22.570237Z"
    }
   },
   "outputs": [],
   "source": [
    "from prediction.outcome_prediction.Transformer.lightning_wrapper import LitModel\n",
    "\n",
    "module = LitModel(model, lr=0.0001, wd=0.1, train_noise=0.1) "
   ]
  },
  {
   "cell_type": "code",
   "execution_count": null,
   "id": "cf2b47005f050311",
   "metadata": {
    "ExecuteTime": {
     "end_time": "2025-01-06T06:52:57.655946Z",
     "start_time": "2025-01-06T06:52:57.615124Z"
    }
   },
   "outputs": [],
   "source": [
    "module.predict_step(sample, 0).shape"
   ]
  },
  {
   "cell_type": "code",
   "execution_count": null,
   "id": "92c855db93affe88",
   "metadata": {},
   "outputs": [],
   "source": []
  }
 ],
 "metadata": {
  "kernelspec": {
   "display_name": "Python 3",
   "language": "python",
   "name": "python3"
  },
  "language_info": {
   "codemirror_mode": {
    "name": "ipython",
    "version": 2
   },
   "file_extension": ".py",
   "mimetype": "text/x-python",
   "name": "python",
   "nbconvert_exporter": "python",
   "pygments_lexer": "ipython2",
   "version": "2.7.6"
  }
 },
 "nbformat": 4,
 "nbformat_minor": 5
}
