{
 "cells": [
  {
   "cell_type": "code",
   "execution_count": null,
   "id": "f7ba06e20a49bef9",
   "metadata": {
    "ExecuteTime": {
     "end_time": "2024-06-30T12:55:52.933319Z",
     "start_time": "2024-06-30T12:55:52.928986Z"
    }
   },
   "outputs": [],
   "source": [
    "import os\n",
    "import torch as ch\n",
    "import numpy as np\n",
    "from torch.utils.data import DataLoader, TensorDataset\n",
    "from tqdm import tqdm\n",
    "import pytorch_lightning as pl\n",
    "from prediction.outcome_prediction.Transformer.utils.utils import DictLogger\n",
    "from prediction.outcome_prediction.Transformer.architecture import OPSUMTransformer\n",
    "from prediction.outcome_prediction.Transformer.lightning_wrapper import LitModel"
   ]
  },
  {
   "cell_type": "code",
   "execution_count": null,
   "id": "initial_id",
   "metadata": {
    "ExecuteTime": {
     "end_time": "2024-06-30T12:55:53.271030Z",
     "start_time": "2024-06-30T12:55:53.268108Z"
    }
   },
   "outputs": [],
   "source": [
    "data_path = '/Users/jk1/temp/opsum_end/preprocessing/gsu_Extraction_20220815_prepro_08062024_083500/early_neurological_deterioration_train_data_splits/train_data_splits_early_neurological_deterioration_ts0.8_rs42_ns5.pth'\n",
    "model_path = '/Users/jk1/Downloads/checkpoints_short_opsum_transformer_20240630_122240_cv_0/short_opsum_transformer_epoch=04_val_auroc=0.8382.ckpt'"
   ]
  },
  {
   "cell_type": "code",
   "execution_count": null,
   "id": "bf0c7d6ca65b6f0b",
   "metadata": {
    "ExecuteTime": {
     "end_time": "2024-06-30T12:55:53.619373Z",
     "start_time": "2024-06-30T12:55:53.616845Z"
    }
   },
   "outputs": [],
   "source": [
    "use_gpu = False\n",
    "n_time_steps = 25"
   ]
  },
  {
   "cell_type": "code",
   "execution_count": null,
   "id": "2dce32a69246812e",
   "metadata": {
    "ExecuteTime": {
     "end_time": "2024-06-30T12:55:54.899791Z",
     "start_time": "2024-06-30T12:55:54.896644Z"
    }
   },
   "outputs": [],
   "source": [
    "model_config = {'batch_size': 448, 'num_layers': 6, 'model_dim': 1024, 'train_noise': 0.0008770809674857685, 'weight_decay': 7.413878783171394e-05, 'dropout': 0.3586067792276709, 'num_head': 16, 'lr': 0.00021724790802004346, 'n_lr_warm_up_steps': 0, 'grad_clip_value': 0.1541250945448667, 'early_stopping_step_limit': 10}"
   ]
  },
  {
   "cell_type": "code",
   "execution_count": null,
   "id": "5efbdbb0d769aa26",
   "metadata": {
    "ExecuteTime": {
     "end_time": "2024-06-30T12:58:48.587807Z",
     "start_time": "2024-06-30T12:55:55.583194Z"
    }
   },
   "outputs": [],
   "source": [
    "splits = ch.load(os.path.join(data_path))"
   ]
  },
  {
   "cell_type": "code",
   "execution_count": null,
   "id": "9c691b4eb5b9445a",
   "metadata": {
    "ExecuteTime": {
     "end_time": "2024-06-30T12:58:48.607087Z",
     "start_time": "2024-06-30T12:58:48.596548Z"
    }
   },
   "outputs": [],
   "source": [
    "full_X_train, full_X_val, y_train, y_val = splits[0]"
   ]
  },
  {
   "cell_type": "code",
   "execution_count": null,
   "id": "de8c6d9d776707d7",
   "metadata": {
    "ExecuteTime": {
     "end_time": "2024-06-30T12:58:49.443694Z",
     "start_time": "2024-06-30T12:58:48.609677Z"
    }
   },
   "outputs": [],
   "source": [
    "from sklearn.preprocessing import StandardScaler\n",
    "\n",
    "# prepare input data\n",
    "X_train = full_X_train[:, :, :, -1].astype('float32')\n",
    "X_val = full_X_val[:, :, :, -1].astype('float32')\n",
    "\n",
    "scaler = StandardScaler()\n",
    "X_train = scaler.fit_transform(X_train.reshape(-1, X_train.shape[-1])).reshape(X_train.shape)\n",
    "X_val = scaler.transform(X_val.reshape(-1, X_train.shape[-1])).reshape(X_val.shape)"
   ]
  },
  {
   "cell_type": "code",
   "execution_count": null,
   "id": "1ba7844ff708aaa3",
   "metadata": {
    "ExecuteTime": {
     "end_time": "2024-06-30T12:58:49.450224Z",
     "start_time": "2024-06-30T12:58:49.445792Z"
    }
   },
   "outputs": [],
   "source": [
    "X_val.shape"
   ]
  },
  {
   "cell_type": "markdown",
   "id": "5c9a1e3f24e8f66f",
   "metadata": {
    "collapsed": false
   },
   "source": [
    "Load model"
   ]
  },
  {
   "cell_type": "code",
   "execution_count": null,
   "id": "861225aab1602bd",
   "metadata": {
    "ExecuteTime": {
     "end_time": "2024-06-30T12:58:51.711700Z",
     "start_time": "2024-06-30T12:58:49.451614Z"
    }
   },
   "outputs": [],
   "source": [
    "accelerator = 'gpu' if use_gpu else 'cpu'\n",
    "\n",
    "logger = DictLogger(0)\n",
    "trainer = pl.Trainer(accelerator=accelerator, devices=1, max_epochs=1000,\n",
    "                     gradient_clip_val=model_config['grad_clip_value'], logger=logger)\n",
    "\n",
    "\n",
    "\n",
    "# define model\n",
    "ff_factor = 2\n",
    "ff_dim = ff_factor * model_config['model_dim']\n",
    "pos_encode_factor = 1\n",
    "\n",
    "model_architecture = OPSUMTransformer(\n",
    "    input_dim=84,\n",
    "    num_layers=int(model_config['num_layers']),\n",
    "    model_dim=int(model_config['model_dim']),\n",
    "    dropout=int(model_config['dropout']),\n",
    "    ff_dim=int(ff_dim),\n",
    "    num_heads=int(model_config['num_head']),\n",
    "    num_classes=1,\n",
    "    max_dim=500,\n",
    "    pos_encode_factor=pos_encode_factor\n",
    ")\n",
    "\n",
    "trained_model = LitModel.load_from_checkpoint(checkpoint_path=model_path, model=model_architecture,\n",
    "                                              lr=model_config['lr'],\n",
    "                                              wd=model_config['weight_decay'],\n",
    "                                              train_noise=model_config['train_noise'])"
   ]
  },
  {
   "cell_type": "markdown",
   "id": "da56a882cf138807",
   "metadata": {
    "collapsed": false
   },
   "source": [
    "Predict first n time steps of the validation set"
   ]
  },
  {
   "cell_type": "code",
   "execution_count": null,
   "id": "62534c1e5f4e25d3",
   "metadata": {
    "ExecuteTime": {
     "end_time": "2024-06-30T13:05:19.909480Z",
     "start_time": "2024-06-30T12:58:51.713221Z"
    }
   },
   "outputs": [],
   "source": [
    "pred_over_ts = []\n",
    "for ts in tqdm(range(n_time_steps)):\n",
    "    modified_time_steps = ts + 1\n",
    "\n",
    "    X_val_with_first_n_ts = X_val[:, 0:modified_time_steps, :]\n",
    "    y_placeholder = ch.zeros((X_val_with_first_n_ts.shape[0], 1))\n",
    "    if use_gpu:\n",
    "        val_dataset = TensorDataset(ch.from_numpy(X_val_with_first_n_ts).cuda(), y_placeholder.cuda())\n",
    "    else:\n",
    "        val_dataset = TensorDataset(ch.from_numpy(X_val_with_first_n_ts), y_placeholder)\n",
    "\n",
    "    val_loader = DataLoader(val_dataset, batch_size=1024)\n",
    "    if ts == 0:\n",
    "        y_pred = np.array(ch.sigmoid(trainer.predict(trained_model, val_loader)[0]))\n",
    "    else:\n",
    "        y_pred = np.array(ch.sigmoid(trainer.predict(trained_model, val_loader)[0])[:, -1])\n",
    "        \n",
    "    pred_over_ts.append(np.squeeze(y_pred))\n"
   ]
  },
  {
   "cell_type": "code",
   "execution_count": null,
   "id": "842d77d0bd2290f8",
   "metadata": {
    "ExecuteTime": {
     "end_time": "2024-06-30T13:05:19.914895Z",
     "start_time": "2024-06-30T13:05:19.911545Z"
    }
   },
   "outputs": [],
   "source": [
    "pred_over_ts_np = np.squeeze(pred_over_ts).T"
   ]
  },
  {
   "cell_type": "code",
   "execution_count": null,
   "id": "ac63b95e197022d2",
   "metadata": {
    "ExecuteTime": {
     "end_time": "2024-06-30T13:15:25.734913Z",
     "start_time": "2024-06-30T13:15:25.729862Z"
    }
   },
   "outputs": [],
   "source": [
    "pred_over_ts_np.shape"
   ]
  },
  {
   "cell_type": "markdown",
   "id": "d139cd87e9791456",
   "metadata": {
    "collapsed": false
   },
   "source": [
    "Global evaluation"
   ]
  },
  {
   "cell_type": "code",
   "execution_count": null,
   "id": "aeb58a810e199a6",
   "metadata": {
    "ExecuteTime": {
     "end_time": "2024-06-30T13:34:37.729964Z",
     "start_time": "2024-06-30T13:34:37.688276Z"
    }
   },
   "outputs": [],
   "source": [
    "# construct y \n",
    "eval_n_time_steps_before_event = 6\n",
    "y_val_list = []\n",
    "for cid in full_X_val[:, 0, 0, 0]:\n",
    "    if cid not in y_val.case_admission_id.values:\n",
    "        cid_y = np.zeros(n_time_steps)\n",
    "    else:\n",
    "        cid_event_ts = y_val[y_val.case_admission_id == cid].relative_sample_date_hourly_cat.values\n",
    "        if cid_event_ts < (eval_n_time_steps_before_event + 1):\n",
    "            # if the event occurs before a detection window, ignore the patient\n",
    "            cid_y = np.array([])\n",
    "        else:\n",
    "            # let y be 0s until 6 hours before the event then stop the series\n",
    "            cid_y = np.zeros(int(cid_event_ts) - eval_n_time_steps_before_event - 1)\n",
    "            cid_y = np.append(cid_y, 1)\n",
    "    y_val_list.append(cid_y)\n",
    "        "
   ]
  },
  {
   "cell_type": "code",
   "execution_count": null,
   "id": "b9194088aac8b132",
   "metadata": {
    "ExecuteTime": {
     "end_time": "2024-06-30T13:45:50.280448Z",
     "start_time": "2024-06-30T13:45:50.248124Z"
    }
   },
   "outputs": [],
   "source": [
    "# compute roc scores for each time step\n",
    "from sklearn.metrics import roc_auc_score\n",
    "\n",
    "roc_scores = []\n",
    "for ts in range(n_time_steps):\n",
    "    pts_idx = [i for i, y in enumerate(y_val_list) if len(y) > ts]\n",
    "    y_true = np.array([y[ts] for y in y_val_list if len(y) > ts])\n",
    "    y_pred = pred_over_ts_np[pts_idx, ts]\n",
    "    if len(np.unique(y_true)) == 1:\n",
    "        roc_scores.append(np.nan)\n",
    "    else:\n",
    "        roc_scores.append(roc_auc_score(y_true, y_pred))"
   ]
  },
  {
   "cell_type": "code",
   "execution_count": null,
   "id": "d2fa82defc65a470",
   "metadata": {
    "ExecuteTime": {
     "end_time": "2024-06-30T13:46:27.863853Z",
     "start_time": "2024-06-30T13:46:27.859371Z"
    }
   },
   "outputs": [],
   "source": [
    "np.nanmedian(roc_scores)"
   ]
  },
  {
   "cell_type": "markdown",
   "id": "84266141146a66ea",
   "metadata": {
    "collapsed": false
   },
   "source": [
    "Plot the prediction over time for each patient"
   ]
  },
  {
   "cell_type": "code",
   "execution_count": null,
   "id": "9e0f1927816c17d7",
   "metadata": {
    "ExecuteTime": {
     "end_time": "2024-06-30T13:06:13.844086Z",
     "start_time": "2024-06-30T13:05:19.950627Z"
    }
   },
   "outputs": [],
   "source": [
    "# for every patient plot the prediction over time\n",
    "import matplotlib.pyplot as plt\n",
    "import seaborn as sns\n",
    "\n",
    "for i in range(pred_over_ts_np.shape[0]):\n",
    "    cid = full_X_val[i, 0, 0, 0]\n",
    "    ax = sns.scatterplot(x=range(1, pred_over_ts_np.shape[1] + 1), y=pred_over_ts_np[i, :], hue=pred_over_ts_np[i, :] > 0.5)\n",
    "    ax.set_ylim(0, 0.2)\n",
    "    ax.set_title(f'Prediction over time for patient {cid}')\n",
    "    \n",
    "    if cid in y_val.case_admission_id.values:\n",
    "        ax.axvline(x=y_val[y_val.case_admission_id == cid].relative_sample_date_hourly_cat.values, color='red')\n",
    "    \n",
    "    plt.show()"
   ]
  },
  {
   "cell_type": "code",
   "execution_count": null,
   "id": "d89e6318eebc2028",
   "metadata": {},
   "outputs": [],
   "source": []
  }
 ],
 "metadata": {
  "kernelspec": {
   "display_name": "Python 3",
   "language": "python",
   "name": "python3"
  },
  "language_info": {
   "codemirror_mode": {
    "name": "ipython",
    "version": 2
   },
   "file_extension": ".py",
   "mimetype": "text/x-python",
   "name": "python",
   "nbconvert_exporter": "python",
   "pygments_lexer": "ipython2",
   "version": "2.7.6"
  }
 },
 "nbformat": 4,
 "nbformat_minor": 5
}
