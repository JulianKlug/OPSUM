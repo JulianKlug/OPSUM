{
 "cells": [
  {
   "cell_type": "code",
   "execution_count": null,
   "id": "f7ba06e20a49bef9",
   "metadata": {
    "ExecuteTime": {
     "end_time": "2024-09-25T11:09:57.891747Z",
     "start_time": "2024-09-25T11:09:57.856739Z"
    }
   },
   "outputs": [],
   "source": [
    "import os\n",
    "import torch as ch\n",
    "import numpy as np\n",
    "from torch.utils.data import DataLoader, TensorDataset\n",
    "from tqdm import tqdm\n",
    "from sklearn.metrics import matthews_corrcoef, average_precision_score, roc_auc_score\n",
    "import pytorch_lightning as pl\n",
    "from prediction.outcome_prediction.Transformer.utils.utils import DictLogger\n",
    "from prediction.outcome_prediction.Transformer.architecture import OPSUMTransformer\n",
    "from prediction.outcome_prediction.Transformer.lightning_wrapper import LitModel"
   ]
  },
  {
   "cell_type": "code",
   "execution_count": null,
   "id": "initial_id",
   "metadata": {
    "ExecuteTime": {
     "end_time": "2024-09-25T10:44:57.682962Z",
     "start_time": "2024-09-25T10:44:57.679977Z"
    }
   },
   "outputs": [],
   "source": [
    "data_path = '/Users/jk1/temp/opsum_end/preprocessing/gsu_Extraction_20220815_prepro_08062024_083500/early_neurological_deterioration_train_data_splits/train_data_splits_early_neurological_deterioration_ts0.8_rs42_ns5.pth'\n",
    "# data_path = '/Users/jk1/Downloads/train_data_splits_early_neurological_deterioration_ts0.8_rs42_ns5.pth'\n",
    "model_path = '/Users/jk1/temp/opsum_end/training/hyperopt/gridsearch/best/checkpoints_short_opsum_transformer_20240814_073845_cv_0/short_opsum_transformer_epoch=07_val_auroc=0.8399.ckpt'\n",
    "predictions_path = '/Users/jk1/Downloads/predictions.pt'"
   ]
  },
  {
   "cell_type": "code",
   "execution_count": null,
   "id": "bf0c7d6ca65b6f0b",
   "metadata": {
    "ExecuteTime": {
     "end_time": "2024-09-25T10:44:58.116630Z",
     "start_time": "2024-09-25T10:44:58.114237Z"
    }
   },
   "outputs": [],
   "source": [
    "use_gpu = False\n",
    "n_time_steps = 72\n",
    "eval_n_time_steps_before_event = 6"
   ]
  },
  {
   "cell_type": "code",
   "execution_count": null,
   "id": "2dce32a69246812e",
   "metadata": {
    "ExecuteTime": {
     "end_time": "2024-09-25T10:44:58.728470Z",
     "start_time": "2024-09-25T10:44:58.724521Z"
    }
   },
   "outputs": [],
   "source": [
    "model_config = {'batch_size': 448, 'num_layers': 6, 'model_dim': 1024, 'train_noise': 0.000059, 'weight_decay': 0.000015, 'dropout': 0.295302, 'num_head': 32, 'lr': 0.000176, 'n_lr_warm_up_steps': 0, 'grad_clip_value': 0.002903, 'early_stopping_step_limit': 10, \"imbalance_factor\": 62}"
   ]
  },
  {
   "cell_type": "code",
   "execution_count": null,
   "id": "5efbdbb0d769aa26",
   "metadata": {
    "ExecuteTime": {
     "end_time": "2024-09-25T10:48:12.325704Z",
     "start_time": "2024-09-25T10:44:59.170712Z"
    }
   },
   "outputs": [],
   "source": [
    "splits = ch.load(os.path.join(data_path))"
   ]
  },
  {
   "cell_type": "code",
   "execution_count": null,
   "id": "6f904dcf12dc92e1",
   "metadata": {
    "ExecuteTime": {
     "end_time": "2024-09-25T10:48:12.365591Z",
     "start_time": "2024-09-25T10:48:12.345214Z"
    }
   },
   "outputs": [],
   "source": [
    "best_cv_fold = 0"
   ]
  },
  {
   "cell_type": "code",
   "execution_count": null,
   "id": "9c691b4eb5b9445a",
   "metadata": {
    "ExecuteTime": {
     "end_time": "2024-09-25T10:48:12.377911Z",
     "start_time": "2024-09-25T10:48:12.370791Z"
    }
   },
   "outputs": [],
   "source": [
    "full_X_train, full_X_val, y_train, y_val = splits[best_cv_fold]"
   ]
  },
  {
   "cell_type": "code",
   "execution_count": null,
   "id": "de8c6d9d776707d7",
   "metadata": {
    "ExecuteTime": {
     "end_time": "2024-09-25T10:48:13.625514Z",
     "start_time": "2024-09-25T10:48:12.381919Z"
    }
   },
   "outputs": [],
   "source": [
    "from sklearn.preprocessing import StandardScaler\n",
    "\n",
    "# prepare input data\n",
    "X_train = full_X_train[:, :, :, -1].astype('float32')\n",
    "X_val = full_X_val[:, :, :, -1].astype('float32')\n",
    "\n",
    "scaler = StandardScaler()\n",
    "X_train = scaler.fit_transform(X_train.reshape(-1, X_train.shape[-1])).reshape(X_train.shape)\n",
    "X_val = scaler.transform(X_val.reshape(-1, X_train.shape[-1])).reshape(X_val.shape)"
   ]
  },
  {
   "cell_type": "code",
   "execution_count": null,
   "id": "1ba7844ff708aaa3",
   "metadata": {
    "ExecuteTime": {
     "end_time": "2024-09-25T10:48:13.639467Z",
     "start_time": "2024-09-25T10:48:13.627409Z"
    }
   },
   "outputs": [],
   "source": [
    "X_val.shape"
   ]
  },
  {
   "cell_type": "markdown",
   "id": "5c9a1e3f24e8f66f",
   "metadata": {
    "collapsed": false
   },
   "source": [
    "Load model"
   ]
  },
  {
   "cell_type": "code",
   "execution_count": null,
   "id": "861225aab1602bd",
   "metadata": {
    "ExecuteTime": {
     "end_time": "2024-09-25T10:48:16.703728Z",
     "start_time": "2024-09-25T10:48:13.641283Z"
    }
   },
   "outputs": [],
   "source": [
    "accelerator = 'gpu' if use_gpu else 'cpu'\n",
    "\n",
    "logger = DictLogger(0)\n",
    "trainer = pl.Trainer(accelerator=accelerator, devices=1, max_epochs=1000,\n",
    "                     gradient_clip_val=model_config['grad_clip_value'], logger=logger)\n",
    "\n",
    "\n",
    "# define model\n",
    "ff_factor = 2\n",
    "ff_dim = ff_factor * model_config['model_dim']\n",
    "pos_encode_factor = 1\n",
    "\n",
    "model_architecture = OPSUMTransformer(\n",
    "    input_dim=84,\n",
    "    num_layers=int(model_config['num_layers']),\n",
    "    model_dim=int(model_config['model_dim']),\n",
    "    dropout=int(model_config['dropout']),\n",
    "    ff_dim=int(ff_dim),\n",
    "    num_heads=int(model_config['num_head']),\n",
    "    num_classes=1,\n",
    "    max_dim=500,\n",
    "    pos_encode_factor=pos_encode_factor\n",
    ")\n",
    "\n",
    "trained_model = LitModel.load_from_checkpoint(checkpoint_path=model_path, model=model_architecture,\n",
    "                                              lr=model_config['lr'],\n",
    "                                              wd=model_config['weight_decay'],\n",
    "                                              train_noise=model_config['train_noise'],\n",
    "                                              imbalance_factor=ch.tensor(model_config['imbalance_factor']))"
   ]
  },
  {
   "cell_type": "markdown",
   "id": "da56a882cf138807",
   "metadata": {
    "collapsed": false
   },
   "source": [
    "Predict first n time steps of the validation set"
   ]
  },
  {
   "cell_type": "code",
   "execution_count": null,
   "id": "9bf21a35ddd75827",
   "metadata": {
    "ExecuteTime": {
     "end_time": "2024-09-25T10:48:16.709608Z",
     "start_time": "2024-09-25T10:48:16.705535Z"
    }
   },
   "outputs": [],
   "source": [
    "# X_val.shape"
   ]
  },
  {
   "cell_type": "code",
   "execution_count": null,
   "id": "62534c1e5f4e25d3",
   "metadata": {
    "ExecuteTime": {
     "end_time": "2024-09-25T10:48:16.719917Z",
     "start_time": "2024-09-25T10:48:16.716948Z"
    }
   },
   "outputs": [],
   "source": [
    "# pred_over_ts = []\n",
    "# for ts in tqdm(range(n_time_steps)):\n",
    "#     modified_time_steps = ts + 1\n",
    "# \n",
    "#     X_val_with_first_n_ts = X_val[:, 0:modified_time_steps, :]\n",
    "#     y_placeholder = ch.zeros((X_val_with_first_n_ts.shape[0], 1))\n",
    "#     if use_gpu:\n",
    "#         val_dataset = TensorDataset(ch.from_numpy(X_val_with_first_n_ts).cuda(), y_placeholder.cuda())\n",
    "#     else:\n",
    "#         val_dataset = TensorDataset(ch.from_numpy(X_val_with_first_n_ts), y_placeholder)\n",
    "# \n",
    "#     val_loader = DataLoader(val_dataset, batch_size=1024)\n",
    "#     if ts == 0:\n",
    "#         y_pred = np.array(ch.sigmoid(trainer.predict(trained_model, val_loader)[0]))\n",
    "#     else:\n",
    "#         y_pred = np.array(ch.sigmoid(trainer.predict(trained_model, val_loader)[0])[:, -1])\n",
    "#         \n",
    "#     pred_over_ts.append(np.squeeze(y_pred))\n"
   ]
  },
  {
   "cell_type": "code",
   "execution_count": null,
   "id": "842d77d0bd2290f8",
   "metadata": {
    "ExecuteTime": {
     "end_time": "2024-09-25T10:48:16.724580Z",
     "start_time": "2024-09-25T10:48:16.722421Z"
    }
   },
   "outputs": [],
   "source": [
    "# pred_over_ts_np = np.squeeze(pred_over_ts).T"
   ]
  },
  {
   "cell_type": "markdown",
   "id": "c49f22753d9e2779",
   "metadata": {},
   "source": [
    "Or load from disk (after performing inference step)"
   ]
  },
  {
   "cell_type": "code",
   "execution_count": null,
   "id": "36cac6350dc4c980",
   "metadata": {
    "ExecuteTime": {
     "end_time": "2024-09-25T10:48:16.741986Z",
     "start_time": "2024-09-25T10:48:16.726935Z"
    }
   },
   "outputs": [],
   "source": [
    "predictions_data = ch.load(predictions_path)"
   ]
  },
  {
   "cell_type": "code",
   "execution_count": null,
   "id": "ae5bb5f725d8d4fa",
   "metadata": {
    "ExecuteTime": {
     "end_time": "2024-09-25T10:48:16.746691Z",
     "start_time": "2024-09-25T10:48:16.743554Z"
    }
   },
   "outputs": [],
   "source": [
    "pred_over_ts_np = np.squeeze(predictions_data).T"
   ]
  },
  {
   "cell_type": "code",
   "execution_count": null,
   "id": "250dd6def21c2022",
   "metadata": {
    "ExecuteTime": {
     "end_time": "2024-09-25T10:48:16.751311Z",
     "start_time": "2024-09-25T10:48:16.747982Z"
    }
   },
   "outputs": [],
   "source": [
    "pred_over_ts_np.shape"
   ]
  },
  {
   "cell_type": "markdown",
   "id": "d139cd87e9791456",
   "metadata": {
    "collapsed": false
   },
   "source": [
    "Global evaluation"
   ]
  },
  {
   "cell_type": "code",
   "execution_count": null,
   "id": "aeb58a810e199a6",
   "metadata": {
    "ExecuteTime": {
     "end_time": "2024-09-25T10:48:16.807146Z",
     "start_time": "2024-09-25T10:48:16.752477Z"
    }
   },
   "outputs": [],
   "source": [
    "# construct y \n",
    "y_val_list = []\n",
    "for cid in full_X_val[:, 0, 0, 0]:\n",
    "    if cid not in y_val.case_admission_id.values:\n",
    "        cid_y = np.zeros(n_time_steps)\n",
    "    else:\n",
    "        cid_event_ts = y_val[y_val.case_admission_id == cid].relative_sample_date_hourly_cat.values\n",
    "        if cid_event_ts < (eval_n_time_steps_before_event + 1):\n",
    "            # if the event occurs before a detection window, ignore the patient\n",
    "            cid_y = np.array([])\n",
    "        else:\n",
    "            # let y be 0s until 6 hours before the event then stop the series\n",
    "            cid_y = np.zeros(int(cid_event_ts) - eval_n_time_steps_before_event - 1)\n",
    "            cid_y = np.append(cid_y, 1)\n",
    "    \n",
    "    y_val_list.append(cid_y)\n",
    "        "
   ]
  },
  {
   "cell_type": "code",
   "execution_count": null,
   "id": "b9194088aac8b132",
   "metadata": {
    "ExecuteTime": {
     "end_time": "2024-09-25T10:48:16.860604Z",
     "start_time": "2024-09-25T10:48:16.808494Z"
    }
   },
   "outputs": [],
   "source": [
    "# compute roc scores for each time step\n",
    "roc_scores = []\n",
    "for ts in range(n_time_steps):\n",
    "    pts_idx = [i for i, y in enumerate(y_val_list) if len(y) > ts]\n",
    "    y_true = np.array([y[ts] for y in y_val_list if len(y) > ts])\n",
    "    y_pred = pred_over_ts_np[pts_idx, ts]\n",
    "    if len(np.unique(y_true)) == 1:\n",
    "        roc_scores.append(np.nan)\n",
    "    else:\n",
    "        roc_scores.append(roc_auc_score(y_true, y_pred))"
   ]
  },
  {
   "cell_type": "code",
   "execution_count": null,
   "id": "d2fa82defc65a470",
   "metadata": {
    "ExecuteTime": {
     "end_time": "2024-09-25T10:48:16.868049Z",
     "start_time": "2024-09-25T10:48:16.862163Z"
    }
   },
   "outputs": [],
   "source": [
    "np.nanmedian(roc_scores)"
   ]
  },
  {
   "cell_type": "code",
   "execution_count": null,
   "id": "79c16a84a102e6f6",
   "metadata": {
    "ExecuteTime": {
     "end_time": "2024-09-25T10:48:16.990866Z",
     "start_time": "2024-09-25T10:48:16.869724Z"
    }
   },
   "outputs": [],
   "source": [
    "# plot roc scores over time\n",
    "import matplotlib.pyplot as plt\n",
    "import seaborn as sns\n",
    "\n",
    "sns.scatterplot(x=range(1, n_time_steps + 1), y=roc_scores)\n",
    "plt.title('ROC AUC over time')\n"
   ]
  },
  {
   "cell_type": "code",
   "execution_count": null,
   "id": "93347c11886e01ec",
   "metadata": {
    "ExecuteTime": {
     "end_time": "2024-09-25T11:10:36.087297Z",
     "start_time": "2024-09-25T11:10:36.015146Z"
    }
   },
   "outputs": [],
   "source": [
    "# compute auprc scores for each time step\n",
    "auprc_scores = []\n",
    "for ts in range(n_time_steps):\n",
    "    pts_idx = [i for i, y in enumerate(y_val_list) if len(y) > ts]\n",
    "    y_true = np.array([y[ts] for y in y_val_list if len(y) > ts])\n",
    "    y_pred = pred_over_ts_np[pts_idx, ts]\n",
    "    if len(np.unique(y_true)) == 1:\n",
    "        auprc_scores.append(np.nan)\n",
    "    else:\n",
    "        # auprc_scores.append(binary_auprc(y_true, y_pred))\n",
    "        auprc_scores.append(average_precision_score(y_true, y_pred))"
   ]
  },
  {
   "cell_type": "code",
   "execution_count": null,
   "id": "628e3e3102136082",
   "metadata": {
    "ExecuteTime": {
     "end_time": "2024-09-25T11:10:37.006432Z",
     "start_time": "2024-09-25T11:10:36.998640Z"
    }
   },
   "outputs": [],
   "source": [
    "np.nanmedian(auprc_scores)"
   ]
  },
  {
   "cell_type": "code",
   "execution_count": null,
   "id": "e67aaf1c8a9c9a34",
   "metadata": {
    "ExecuteTime": {
     "end_time": "2024-09-25T10:48:17.040991Z",
     "start_time": "2024-09-25T10:48:16.992121Z"
    }
   },
   "outputs": [],
   "source": [
    "# compute MCC scores for each time step\n",
    "# matthews_corrcoef(y_val, model_y_pred_val)\n",
    "mcc_scores = []\n",
    "for ts in range(n_time_steps):\n",
    "    pts_idx = [i for i, y in enumerate(y_val_list) if len(y) > ts]\n",
    "    y_true = np.array([y[ts] for y in y_val_list if len(y) > ts])\n",
    "    y_pred = pred_over_ts_np[pts_idx, ts]\n",
    "    if len(np.unique(y_true)) == 1:\n",
    "        mcc_scores.append(np.nan)\n",
    "    else:\n",
    "        mcc_scores.append(matthews_corrcoef(y_true, np.where(y_pred > 0.5, 1, 0)))"
   ]
  },
  {
   "cell_type": "code",
   "execution_count": null,
   "id": "6c8221f217cbe02a",
   "metadata": {
    "ExecuteTime": {
     "end_time": "2024-09-25T10:48:17.046380Z",
     "start_time": "2024-09-25T10:48:17.042334Z"
    }
   },
   "outputs": [],
   "source": [
    "np.nanmedian(mcc_scores)"
   ]
  },
  {
   "cell_type": "markdown",
   "id": "84266141146a66ea",
   "metadata": {
    "collapsed": false
   },
   "source": [
    "Plot the prediction over time for each patient"
   ]
  },
  {
   "cell_type": "code",
   "execution_count": null,
   "id": "9e0f1927816c17d7",
   "metadata": {
    "ExecuteTime": {
     "end_time": "2024-09-25T08:01:41.028293Z",
     "start_time": "2024-09-25T08:00:13.927961Z"
    }
   },
   "outputs": [],
   "source": [
    "# for every patient plot the prediction over time\n",
    "import matplotlib.pyplot as plt\n",
    "import seaborn as sns\n",
    "\n",
    "for i in range(pred_over_ts_np.shape[0]):\n",
    "    cid = full_X_val[i, 0, 0, 0]\n",
    "    ax = sns.scatterplot(x=range(1, pred_over_ts_np.shape[1] + 1), y=pred_over_ts_np[i, :], hue=pred_over_ts_np[i, :] > 0.5)\n",
    "    ax.set_ylim(0, 1)\n",
    "    ax.set_title(f'Prediction over time for patient {cid}')\n",
    "    \n",
    "    if cid in y_val.case_admission_id.values:\n",
    "        ax.axvline(x=y_val[y_val.case_admission_id == cid].relative_sample_date_hourly_cat.values, color='red')\n",
    "    \n",
    "    plt.show()"
   ]
  },
  {
   "cell_type": "code",
   "execution_count": null,
   "id": "d89e6318eebc2028",
   "metadata": {},
   "outputs": [],
   "source": []
  }
 ],
 "metadata": {
  "kernelspec": {
   "display_name": "Python 3",
   "language": "python",
   "name": "python3"
  },
  "language_info": {
   "codemirror_mode": {
    "name": "ipython",
    "version": 2
   },
   "file_extension": ".py",
   "mimetype": "text/x-python",
   "name": "python",
   "nbconvert_exporter": "python",
   "pygments_lexer": "ipython2",
   "version": "2.7.6"
  }
 },
 "nbformat": 4,
 "nbformat_minor": 5
}
