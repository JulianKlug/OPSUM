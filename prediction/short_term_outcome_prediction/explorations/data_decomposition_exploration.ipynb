{
 "cells": [
  {
   "cell_type": "code",
   "execution_count": null,
   "id": "initial_id",
   "metadata": {
    "ExecuteTime": {
     "end_time": "2024-06-23T21:49:33.961911Z",
     "start_time": "2024-06-23T21:49:32.477221Z"
    }
   },
   "outputs": [],
   "source": [
    "import pandas as pd\n",
    "import numpy as np"
   ]
  },
  {
   "cell_type": "code",
   "execution_count": null,
   "id": "c135ef23b6519a7e",
   "metadata": {
    "ExecuteTime": {
     "end_time": "2024-06-23T17:51:16.360942Z",
     "start_time": "2024-06-23T17:51:16.358662Z"
    }
   },
   "outputs": [],
   "source": [
    "features_path = '/Users/jk1/temp/opsum_end/preprocessing/gsu_Extraction_20220815_prepro_09052025_220520/preprocessed_features_09052025_220520.csv'\n",
    "short_term_outcomes_path = '/Users/jk1/temp/opsum_end/preprocessing/gsu_Extraction_20220815_prepro_09052025_220520/preprocessed_outcomes_short_term_09052025_220520.csv'"
   ]
  },
  {
   "cell_type": "code",
   "execution_count": null,
   "id": "13125fd55fb20bd6",
   "metadata": {
    "ExecuteTime": {
     "end_time": "2024-06-23T17:51:26.340418Z",
     "start_time": "2024-06-23T17:51:16.362977Z"
    }
   },
   "outputs": [],
   "source": [
    "features = pd.read_csv(features_path)\n",
    "short_term_outcomes = pd.read_csv(short_term_outcomes_path)"
   ]
  },
  {
   "cell_type": "code",
   "execution_count": null,
   "id": "ee997a67dcb71c42",
   "metadata": {
    "ExecuteTime": {
     "end_time": "2024-06-23T17:51:26.351128Z",
     "start_time": "2024-06-23T17:51:26.343462Z"
    }
   },
   "outputs": [],
   "source": [
    "selection_cid = short_term_outcomes.case_admission_id.values[0:5]"
   ]
  },
  {
   "cell_type": "code",
   "execution_count": null,
   "id": "cae9aa692b36bb35",
   "metadata": {
    "ExecuteTime": {
     "end_time": "2024-06-23T17:51:26.820114Z",
     "start_time": "2024-06-23T17:51:26.352763Z"
    }
   },
   "outputs": [],
   "source": [
    "x_df = features[features.case_admission_id.isin(selection_cid)]\n",
    "y_df = short_term_outcomes[short_term_outcomes.case_admission_id.isin(selection_cid)]"
   ]
  },
  {
   "cell_type": "code",
   "execution_count": null,
   "id": "22750ca815ec57b7",
   "metadata": {
    "ExecuteTime": {
     "end_time": "2024-06-23T17:51:26.981894Z",
     "start_time": "2024-06-23T17:51:26.821998Z"
    }
   },
   "outputs": [],
   "source": [
    "from prediction.outcome_prediction.data_loading.data_formatting import features_to_numpy\n",
    "\n",
    "x_np = features_to_numpy(x_df,\n",
    "                                   ['case_admission_id', 'relative_sample_date_hourly_cat', 'sample_label', 'value'])\n"
   ]
  },
  {
   "cell_type": "code",
   "execution_count": null,
   "id": "1579efae0e134c2e",
   "metadata": {
    "ExecuteTime": {
     "end_time": "2024-06-23T18:01:13.445507Z",
     "start_time": "2024-06-23T18:01:13.441171Z"
    }
   },
   "outputs": [],
   "source": [
    "x_np.shape, y_df.shape"
   ]
  },
  {
   "cell_type": "code",
   "execution_count": null,
   "id": "99bd44ee9a3981d2",
   "metadata": {
    "ExecuteTime": {
     "end_time": "2024-06-23T17:51:27.009284Z",
     "start_time": "2024-06-23T17:51:26.992983Z"
    }
   },
   "outputs": [],
   "source": [
    "y_df"
   ]
  },
  {
   "cell_type": "code",
   "execution_count": null,
   "id": "ad790bfe4f1ba3be",
   "metadata": {
    "ExecuteTime": {
     "end_time": "2024-06-23T17:51:27.018421Z",
     "start_time": "2024-06-23T17:51:27.010869Z"
    }
   },
   "outputs": [],
   "source": [
    "features.head()"
   ]
  },
  {
   "cell_type": "markdown",
   "id": "721a7eb9",
   "metadata": {},
   "source": [
    "## testing final functions"
   ]
  },
  {
   "cell_type": "code",
   "execution_count": null,
   "id": "2c330488",
   "metadata": {},
   "outputs": [],
   "source": [
    "from prediction.short_term_outcome_prediction.timeseries_decomposition import decompose_and_label_timeseries\n",
    "\n",
    "\n",
    "map, flat_labels = decompose_and_label_timeseries(x_np, y_df, target_time_to_outcome=6, target_interval=True, restrict_to_first_event=False)"
   ]
  },
  {
   "cell_type": "code",
   "execution_count": null,
   "id": "56553ac4",
   "metadata": {},
   "outputs": [],
   "source": [
    "flat_labels[72*4:72*5]"
   ]
  },
  {
   "cell_type": "code",
   "execution_count": null,
   "id": "b9fc6363",
   "metadata": {},
   "outputs": [],
   "source": [
    "from torch import tensor\n",
    "from prediction.short_term_outcome_prediction.timeseries_decomposition import StrokeUnitBucketDataset\n",
    "\n",
    "\n",
    "stroke_unit_dataset = StrokeUnitBucketDataset(tensor(x_np[:, :, :, -1].astype('float32')), tensor(flat_labels), map)"
   ]
  },
  {
   "cell_type": "code",
   "execution_count": null,
   "id": "2b34b095",
   "metadata": {},
   "outputs": [],
   "source": [
    "stroke_unit_dataset[72*4+5][1]"
   ]
  },
  {
   "cell_type": "markdown",
   "id": "31936607",
   "metadata": {},
   "source": [
    "## initial exploration"
   ]
  },
  {
   "cell_type": "code",
   "execution_count": null,
   "id": "21d10f5593375e2c",
   "metadata": {
    "ExecuteTime": {
     "end_time": "2024-06-23T17:54:28.632424Z",
     "start_time": "2024-06-23T17:54:28.619138Z"
    }
   },
   "outputs": [],
   "source": [
    "delta = 6\n",
    "\n",
    "# create index mapping (list of (cid idx, ts) in which the index in the list is the index of the sample in the flattened targets array)\n",
    "map = []\n",
    "# labels for every sub sequence\n",
    "flat_labels = []\n",
    "# maximum number of timesteps (for most patients is max of relative_sample_date_hourly_cat, but for some patients it until the occurrence of the event)\n",
    "overall_max_ts = x_np.shape[1]\n",
    "for idx, cid in enumerate(x_np[:, 0, 0, 0]):\n",
    "    if cid in y_df.case_admission_id.values:\n",
    "        max_ts = y_df[y_df.case_admission_id == cid].relative_sample_date_hourly_cat.values[0]\n",
    "    else:\n",
    "        max_ts = overall_max_ts\n",
    "    for ts in range(int(max_ts)):\n",
    "        # store idx of cid and idx of ts\n",
    "        map.append((idx, ts))\n",
    "        if cid in y_df.case_admission_id.values and ts + delta >= max_ts:\n",
    "            flat_labels.append(1)\n",
    "        else:\n",
    "            flat_labels.append(0)"
   ]
  },
  {
   "cell_type": "code",
   "execution_count": null,
   "id": "47c1135bd45ebb56",
   "metadata": {
    "ExecuteTime": {
     "end_time": "2024-06-23T17:55:30.409990Z",
     "start_time": "2024-06-23T17:55:30.406605Z"
    }
   },
   "outputs": [],
   "source": [
    "len(flat_labels)"
   ]
  },
  {
   "cell_type": "code",
   "execution_count": null,
   "id": "b4063b49af3a7c35",
   "metadata": {
    "ExecuteTime": {
     "end_time": "2024-06-08T15:50:56.547480Z",
     "start_time": "2024-06-08T15:50:56.542203Z"
    }
   },
   "outputs": [],
   "source": [
    "x_np[0, :73]"
   ]
  },
  {
   "cell_type": "code",
   "execution_count": null,
   "id": "9024e142c1e4d6b4",
   "metadata": {
    "ExecuteTime": {
     "end_time": "2024-06-23T18:23:13.411492Z",
     "start_time": "2024-06-23T18:23:13.406164Z"
    }
   },
   "outputs": [],
   "source": [
    "len(map), len(flat_labels)"
   ]
  },
  {
   "cell_type": "code",
   "execution_count": null,
   "id": "b7acb537020c4574",
   "metadata": {
    "ExecuteTime": {
     "end_time": "2024-06-08T15:02:24.994421Z",
     "start_time": "2024-06-08T15:02:24.990285Z"
    }
   },
   "outputs": [],
   "source": [
    "flat_labels"
   ]
  },
  {
   "cell_type": "code",
   "execution_count": null,
   "id": "e1ff7e289ec2d2a7",
   "metadata": {
    "ExecuteTime": {
     "end_time": "2024-06-23T18:23:47.043158Z",
     "start_time": "2024-06-23T18:23:47.040302Z"
    }
   },
   "outputs": [],
   "source": [
    "# create a mapping from overall idx to length of sequence\n",
    "idx_to_len_map = [(idx, map_i[1] + 1) for idx, map_i in enumerate(map)]"
   ]
  },
  {
   "cell_type": "code",
   "execution_count": null,
   "id": "c45a18a97fe3e7f1",
   "metadata": {
    "ExecuteTime": {
     "end_time": "2024-06-23T18:23:47.700758Z",
     "start_time": "2024-06-23T18:23:47.689113Z"
    }
   },
   "outputs": [],
   "source": [
    "idx_to_len_map"
   ]
  },
  {
   "cell_type": "code",
   "execution_count": null,
   "id": "5be42e3d3d5e6a44",
   "metadata": {
    "ExecuteTime": {
     "end_time": "2024-06-23T18:25:18.064855Z",
     "start_time": "2024-06-23T18:25:18.059410Z"
    }
   },
   "outputs": [],
   "source": [
    "from torch.utils.data import Sampler, Dataset\n",
    "from torch import tensor\n",
    "from collections import OrderedDict\n",
    "from random import shuffle\n",
    "\n",
    "\n",
    "class StrokeUnitBucketDataset(Dataset):\n",
    "\n",
    "    def __init__(self, inputs: tensor, targets: tensor, idx_map: list): \n",
    "        \"\"\"\n",
    "        Every sample is a sequence of timesteps with an associated label/target.\n",
    "        - The index of each sample is an index in the flattened targets array\n",
    "        - To retrieve the inputs for a sample, we need to know the case admission id and the last timestep for this sample (provided in idx_map) \n",
    "        \n",
    "        Args:\n",
    "            inputs (tensor): tensor of shape (num_samples, num_features, num_timesteps)\n",
    "            targets (tensor): tensor of shape (with targets for all idx) (flattened)\n",
    "            idx_map (list): list of tuples (cid_idx, ts) where idx in list is the index of the sample in targets, cid_idx is the idx of case admission id, and ts is the last timestep for this idx \n",
    "                - This is necessary to retrieve the inputs for this idx (as every patient has multiple timesteps)\n",
    "        \"\"\"\n",
    "        self.inputs = inputs\n",
    "        self.targets = targets\n",
    "        self.idx_map = idx_map\n",
    "\n",
    "    def __len__(self):\n",
    "        return len(self.idx_map)\n",
    "\n",
    "    def __getitem__(self, index):\n",
    "        cid_idx = self.idx_map[index][0]\n",
    "        last_ts = self.idx_map[index][1]\n",
    "        if self.targets is None:\n",
    "            return self.inputs[cid_idx, 0: last_ts + 1]\n",
    "        else:\n",
    "            return self.inputs[cid_idx, 0: last_ts + 1], self.targets[index]"
   ]
  },
  {
   "cell_type": "code",
   "execution_count": null,
   "id": "f8cd8266c0d0d585",
   "metadata": {
    "ExecuteTime": {
     "end_time": "2024-06-23T19:02:22.675709Z",
     "start_time": "2024-06-23T19:02:22.671776Z"
    }
   },
   "outputs": [],
   "source": [
    "from torch import tensor\n",
    "\n",
    "# only retain values from X (dropping case admission id, relative_sample_date_hourly_cat, sample_label)\n",
    "stroke_unit_dataset = StrokeUnitBucketDataset(tensor(x_np[:, :, :, -1].astype('float32')), tensor(flat_labels), map)"
   ]
  },
  {
   "cell_type": "code",
   "execution_count": null,
   "id": "dc4af781ad595b30",
   "metadata": {
    "ExecuteTime": {
     "end_time": "2024-06-23T19:02:22.964714Z",
     "start_time": "2024-06-23T19:02:22.960231Z"
    }
   },
   "outputs": [],
   "source": [
    "map[1], flat_labels[2]"
   ]
  },
  {
   "cell_type": "code",
   "execution_count": null,
   "id": "52195f75b5ca7eac",
   "metadata": {
    "ExecuteTime": {
     "end_time": "2024-06-23T20:40:25.957906Z",
     "start_time": "2024-06-23T20:40:25.953617Z"
    }
   },
   "outputs": [],
   "source": [
    "stroke_unit_dataset[0][0].shape[-1]"
   ]
  },
  {
   "cell_type": "code",
   "execution_count": null,
   "id": "16fd625960fb696d",
   "metadata": {
    "ExecuteTime": {
     "end_time": "2024-06-23T19:02:23.842251Z",
     "start_time": "2024-06-23T19:02:23.835090Z"
    }
   },
   "outputs": [],
   "source": [
    "class BucketBatchSampler(Sampler):\n",
    "    # Ref: https://discuss.pytorch.org/t/tensorflow-esque-bucket-by-sequence-length/41284/13\n",
    "    # want inputs to be an array\n",
    "    def __init__(self, idx_to_len_map, batch_size):\n",
    "        self.batch_size = batch_size\n",
    "        self.idx_to_len_map = idx_to_len_map # list of tuples (idx, length)\n",
    "        self.batch_list = self._generate_batch_map()\n",
    "        self.num_batches = len(self.batch_list)\n",
    "\n",
    "    def _generate_batch_map(self):\n",
    "        # shuffle all of the indices first so they are put into buckets differently\n",
    "        shuffle(self.idx_to_len_map)\n",
    "        # Organize lengths, e.g., batch_map[10] = [30, 124, 203, ...] <= indices of sequences of length 10\n",
    "        batch_map = OrderedDict()\n",
    "        for idx, length in self.idx_to_len_map:\n",
    "            if length not in batch_map:\n",
    "                batch_map[length] = [idx]\n",
    "            else:\n",
    "                batch_map[length].append(idx)\n",
    "        # Use batch_map to split indices into batches of equal size\n",
    "        # e.g., for batch_size=3, batch_list = [[23,45,47], [49,50,62], [63,65,66], ...]\n",
    "        batch_list = []\n",
    "        for length, indices in batch_map.items():\n",
    "            for group in [indices[i:(i + self.batch_size)] for i in range(0, len(indices), self.batch_size)]:\n",
    "                batch_list.append(group)\n",
    "        return batch_list\n",
    "\n",
    "    def batch_count(self):\n",
    "        return self.num_batches\n",
    "\n",
    "    def __len__(self):\n",
    "        return len(self.idx_to_len_map)\n",
    "\n",
    "    def __iter__(self):\n",
    "        self.batch_list = self._generate_batch_map()\n",
    "        # shuffle all the batches so they arent ordered by bucket size\n",
    "        shuffle(self.batch_list)\n",
    "        for i in self.batch_list:\n",
    "            yield i"
   ]
  },
  {
   "cell_type": "code",
   "execution_count": null,
   "id": "20cf899ed1997193",
   "metadata": {
    "ExecuteTime": {
     "end_time": "2024-06-23T19:02:24.396837Z",
     "start_time": "2024-06-23T19:02:24.392049Z"
    }
   },
   "outputs": [],
   "source": [
    "batch_size = 3\n",
    "bucket_sampler = BucketBatchSampler(idx_to_len_map, batch_size)"
   ]
  },
  {
   "cell_type": "code",
   "execution_count": null,
   "id": "c2157bc1403c2c71",
   "metadata": {
    "ExecuteTime": {
     "end_time": "2024-06-23T19:02:25.209702Z",
     "start_time": "2024-06-23T19:02:25.201884Z"
    }
   },
   "outputs": [],
   "source": [
    "bucket_sampler._generate_batch_map()"
   ]
  },
  {
   "cell_type": "code",
   "execution_count": null,
   "id": "fbf5717c4002f014",
   "metadata": {
    "ExecuteTime": {
     "end_time": "2024-06-23T19:02:26.241933Z",
     "start_time": "2024-06-23T19:02:26.238293Z"
    }
   },
   "outputs": [],
   "source": [
    "bucket_sampler.batch_count()"
   ]
  },
  {
   "cell_type": "code",
   "execution_count": null,
   "id": "779c19f4abf40aa5",
   "metadata": {
    "ExecuteTime": {
     "end_time": "2024-06-23T19:02:27.371292Z",
     "start_time": "2024-06-23T19:02:27.365581Z"
    }
   },
   "outputs": [],
   "source": [
    "next(bucket_sampler.__iter__())"
   ]
  },
  {
   "cell_type": "code",
   "execution_count": null,
   "id": "ee63595e29ddadde",
   "metadata": {
    "ExecuteTime": {
     "end_time": "2024-06-23T21:35:47.403699Z",
     "start_time": "2024-06-23T21:35:47.338968Z"
    }
   },
   "outputs": [],
   "source": [
    "from torch.utils.data import DataLoader\n",
    "\n",
    "dataloader = DataLoader(stroke_unit_dataset, batch_size=3, batch_sampler=bucket_sampler, shuffle=False, num_workers=0, drop_last=False)\n"
   ]
  },
  {
   "cell_type": "code",
   "execution_count": null,
   "id": "c1c4ad9249be3a43",
   "metadata": {
    "ExecuteTime": {
     "end_time": "2024-06-23T19:02:42.212658Z",
     "start_time": "2024-06-23T19:02:42.205440Z"
    }
   },
   "outputs": [],
   "source": [
    "# get first batch\n",
    "dataloader_iter = iter(dataloader)\n",
    "x, y = next(dataloader_iter)\n",
    "print(x.shape)"
   ]
  },
  {
   "cell_type": "code",
   "execution_count": null,
   "id": "e724676edfa026f2",
   "metadata": {
    "ExecuteTime": {
     "end_time": "2024-06-23T19:02:45.994035Z",
     "start_time": "2024-06-23T19:02:45.978142Z"
    }
   },
   "outputs": [],
   "source": [
    "for i, (x, y) in enumerate(dataloader):\n",
    "    print(x.shape)\n",
    "    print(y)\n",
    "    if i > 10:\n",
    "        break"
   ]
  },
  {
   "cell_type": "code",
   "execution_count": null,
   "id": "2c256bc221be3dab",
   "metadata": {},
   "outputs": [],
   "source": []
  }
 ],
 "metadata": {
  "kernelspec": {
   "display_name": "opsum",
   "language": "python",
   "name": "python3"
  },
  "language_info": {
   "codemirror_mode": {
    "name": "ipython",
    "version": 3
   },
   "file_extension": ".py",
   "mimetype": "text/x-python",
   "name": "python",
   "nbconvert_exporter": "python",
   "pygments_lexer": "ipython3",
   "version": "3.8.11"
  }
 },
 "nbformat": 4,
 "nbformat_minor": 5
}
