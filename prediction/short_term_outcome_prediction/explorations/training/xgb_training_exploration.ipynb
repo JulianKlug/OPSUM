{
 "cells": [
  {
   "cell_type": "code",
   "execution_count": null,
   "id": "322b79dd",
   "metadata": {},
   "outputs": [],
   "source": [
    "import os\n",
    "from functools import partial\n",
    "from datetime import datetime\n",
    "import optuna\n",
    "import torch as ch\n",
    "from os import path\n",
    "import numpy as np\n",
    "import pandas as pd\n",
    "import json\n",
    "import seaborn as sns\n",
    "import matplotlib.pyplot as plt\n",
    "import sklearn\n",
    "\n",
    "from sklearn.metrics import accuracy_score, roc_auc_score, matthews_corrcoef, average_precision_score\n",
    "import xgboost as xgb\n",
    "\n",
    "from prediction.short_term_outcome_prediction.timeseries_decomposition import prepare_aggregate_dataset\n",
    "from prediction.utils.scoring import precision, recall, specificity\n",
    "from prediction.utils.utils import ensure_dir"
   ]
  },
  {
   "cell_type": "code",
   "execution_count": null,
   "id": "e43fb811",
   "metadata": {},
   "outputs": [],
   "source": [
    "# data_path = '/mnt/data1/klug/datasets/opsum/short_term_outcomes/gsu_Extraction_20220815_prepro_08062024_083500/early_neurological_deterioration_train_data_splits/train_data_splits_early_neurological_deterioration_ts0.8_rs42_ns5.pth'\n",
    "data_path = '/Users/jk1/temp/opsum_end/preprocessing/gsu_Extraction_20220815_prepro_09052025_220520/early_neurological_deterioration_train_data_splits/train_data_splits_early_neurological_deterioration_ts0.8_rs42_ns5.pth'\n",
    "output_dir = '/Users/jk1/Downloads'\n"
   ]
  },
  {
   "cell_type": "code",
   "execution_count": null,
   "id": "dab60af1",
   "metadata": {},
   "outputs": [],
   "source": [
    "splits = ch.load(os.path.join(data_path))"
   ]
  },
  {
   "cell_type": "code",
   "execution_count": null,
   "id": "20e2d876",
   "metadata": {},
   "outputs": [],
   "source": [
    "selected_split_data = splits[0]\n",
    "dataset = prepare_aggregate_dataset(selected_split_data, rescale=True, target_time_to_outcome=6, \n",
    "                          target_interval=True, restrict_to_first_event=False)"
   ]
  },
  {
   "cell_type": "code",
   "execution_count": null,
   "id": "d7d746b4",
   "metadata": {},
   "outputs": [],
   "source": [
    "X_train, X_val, y_train, y_val = dataset"
   ]
  },
  {
   "cell_type": "code",
   "execution_count": null,
   "id": "441ab74d",
   "metadata": {},
   "outputs": [],
   "source": [
    "print(X_train.shape, X_val.shape, y_train.shape, y_val.shape)\n",
    "# print positive percentage\n",
    "print(f'Positive percentage in train: {y_train.sum() / len(y_train)*100:.2f}')\n",
    "print(f'Positive percentage in val: {y_val.sum() / len(y_val)*100:.2f}')\n"
   ]
  },
  {
   "cell_type": "code",
   "execution_count": null,
   "id": "03dae904",
   "metadata": {},
   "outputs": [],
   "source": [
    "subset_X_train = X_train[:10000]\n",
    "subset_y_train = y_train[:10000]\n",
    "subset_X_val = X_val[:1000]\n",
    "subset_y_val = y_val[:1000]\n"
   ]
  },
  {
   "cell_type": "code",
   "execution_count": null,
   "id": "39607348",
   "metadata": {},
   "outputs": [],
   "source": [
    "\n",
    "subset_X_train = X_train\n",
    "subset_y_train = y_train\n",
    "subset_X_val = X_val\n",
    "subset_y_val = y_val"
   ]
  },
  {
   "cell_type": "code",
   "execution_count": null,
   "id": "9434eaa7",
   "metadata": {},
   "outputs": [],
   "source": [
    "scale_pos_weight = len(subset_y_train[subset_y_train == 0]) / len(subset_y_train[subset_y_train == 1])\n",
    "print(f'Scale pos weight: {scale_pos_weight:.2f}')\n",
    "\n",
    "xgb_model = xgb.XGBClassifier(    \n",
    "            reg_lambda=10,  # L2 regularization (default is 1)\n",
    "            reg_alpha=1, \n",
    "            scale_pos_weight=scale_pos_weight,  \n",
    "            max_depth=4,\n",
    "    min_child_weight=3,\n",
    "    learning_rate=0.1,\n",
    "    n_estimators=500,\n",
    "    subsample=0.8,\n",
    "    colsample_bytree=0.8,\n",
    "    colsample_bylevel=0.8,\n",
    "    booster='dart', \n",
    "        grow_policy='lossguide',\n",
    "    num_boost_round=500,\n",
    ")\n",
    "\n",
    "# trained_xgb = xgb_model.fit(subset_X_train, subset_y_train, eval_metric=[\"aucpr\", \"auc\"],\n",
    "#                                 early_stopping_rounds=70,  # Stop if no improvement in 10 rounds\n",
    "\n",
    "#                                     eval_set=[(subset_X_train, subset_y_train), (subset_X_val, subset_y_val)])\n",
    "# train_history = trained_xgb.evals_result()\n"
   ]
  },
  {
   "cell_type": "code",
   "execution_count": null,
   "id": "9e423cb3",
   "metadata": {},
   "outputs": [],
   "source": [
    "from sklearn.ensemble import BaggingClassifier\n",
    "\n",
    "\n",
    "model = BaggingClassifier(\n",
    "    base_estimator=xgb_model,\n",
    "    n_estimators=10,\n",
    "    max_samples=0.8,\n",
    "    max_features=0.8,\n",
    "    bootstrap=True,\n",
    "    bootstrap_features=False,\n",
    "    n_jobs=-1,\n",
    "    random_state=42\n",
    ")\n",
    "trained_xgb = model.fit(subset_X_train, subset_y_train)"
   ]
  },
  {
   "cell_type": "code",
   "execution_count": null,
   "id": "fbe72501",
   "metadata": {},
   "outputs": [],
   "source": [
    "\n",
    "# print(f\"Best iteration: {trained_xgb.best_iteration}\")\n",
    "# iterations = list(range(len(train_history[\"validation_0\"][\"auc\"])))\n",
    "\n",
    "# 2 subfigure\n",
    "fig, ax = plt.subplots(1, 3, figsize=(18, 5))\n",
    "# ax[0].plot(iterations, train_history[\"validation_0\"][\"auc\"], label=\"training data\")\n",
    "# ax[0].plot(iterations, train_history[\"validation_1\"][\"auc\"], label=\"val data\")\n",
    "\n",
    "# set axes\n",
    "ax[0].set_title(\"AUC\")\n",
    "ax[0].set_xlabel(\"iterations\")\n",
    "ax[0].set_ylabel(\"AUC\")\n",
    "ax[0].legend()\n",
    "\n",
    "\n",
    "y_pred_proba_train = trained_xgb.predict_proba(subset_X_train)\n",
    "y_pred_proba_val = trained_xgb.predict_proba(subset_X_val)\n",
    "\n",
    "fpr_val, tpr_val, _ = sklearn.metrics.roc_curve(subset_y_val, y_pred_proba_val[:, 1])\n",
    "fpr_train, tpr_train, _ = sklearn.metrics.roc_curve(subset_y_train, y_pred_proba_train[:, 1])\n",
    "\n",
    "auc_val = sklearn.metrics.auc(fpr_val, tpr_val)\n",
    "auc_train = sklearn.metrics.auc(fpr_train, tpr_train)\n",
    "\n",
    "\n",
    "ax[1].set_title(f\"ROC curve, AUC=(val: {auc_val:.4f}, train: {auc_train:.4f})\")\n",
    "ax[1].plot(fpr_val, tpr_val, label=\"val data\")\n",
    "ax[1].plot(fpr_train, tpr_train, label=\"train data\")\n",
    "\n",
    "# plot precision recall curve\n",
    "precision_val, recall_val, _ = sklearn.metrics.precision_recall_curve(subset_y_val, y_pred_proba_val[:, 1])\n",
    "precision_train, recall_train, _ = sklearn.metrics.precision_recall_curve(subset_y_train, y_pred_proba_train[:, 1])\n",
    "pr_auc_val = sklearn.metrics.auc(recall_val, precision_val)\n",
    "pr_auc_train = sklearn.metrics.auc(recall_train, precision_train)\n",
    "ax[2].set_title(f\"PR curve, AUC=(val: {pr_auc_val:.4f}, train: {pr_auc_train:.4f})\")\n",
    "ax[2].plot(recall_val, precision_val, label=\"val data\")\n",
    "ax[2].plot(recall_train, precision_train, label=\"train data\")\n",
    "# set axes\n",
    "ax[2].set_xlabel(\"Recall\")\n",
    "ax[2].set_ylabel(\"Precision\")\n",
    "ax[2].legend()\n",
    "plt.tight_layout()"
   ]
  },
  {
   "cell_type": "code",
   "execution_count": null,
   "id": "38183d20",
   "metadata": {},
   "outputs": [],
   "source": [
    "y_pred_proba_val"
   ]
  },
  {
   "cell_type": "code",
   "execution_count": null,
   "id": "2ceade48",
   "metadata": {},
   "outputs": [],
   "source": [
    "# best for now\n",
    "# reg_lambda=1,  \n",
    "# reg_alpha=1"
   ]
  },
  {
   "cell_type": "code",
   "execution_count": null,
   "id": "ec3c1da6",
   "metadata": {},
   "outputs": [],
   "source": []
  },
  {
   "cell_type": "code",
   "execution_count": null,
   "id": "9836c40c",
   "metadata": {},
   "outputs": [],
   "source": []
  }
 ],
 "metadata": {
  "kernelspec": {
   "display_name": "opsum",
   "language": "python",
   "name": "python3"
  },
  "language_info": {
   "codemirror_mode": {
    "name": "ipython",
    "version": 3
   },
   "file_extension": ".py",
   "mimetype": "text/x-python",
   "name": "python",
   "nbconvert_exporter": "python",
   "pygments_lexer": "ipython3",
   "version": "3.8.11"
  }
 },
 "nbformat": 4,
 "nbformat_minor": 5
}
