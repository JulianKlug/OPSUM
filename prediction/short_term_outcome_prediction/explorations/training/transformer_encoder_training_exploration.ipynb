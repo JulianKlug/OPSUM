{
 "cells": [
  {
   "cell_type": "code",
   "execution_count": null,
   "id": "773a7f26493f2a43",
   "metadata": {
    "ExecuteTime": {
     "end_time": "2025-03-06T15:22:52.809475Z",
     "start_time": "2025-03-06T15:22:51.100343Z"
    }
   },
   "outputs": [],
   "source": [
    "import os\n",
    "import pandas as pd\n",
    "import torch as ch\n",
    "import numpy as np\n",
    "import json\n",
    "from torch.utils.data import DataLoader, TensorDataset\n",
    "import pytorch_lightning as pl\n",
    "from prediction.outcome_prediction.Transformer.utils.utils import DictLogger\n",
    "from prediction.outcome_prediction.Transformer.architecture import OPSUMTransformer\n",
    "from prediction.outcome_prediction.Transformer.lightning_wrapper import LitModel\n",
    "from prediction.short_term_outcome_prediction.timeseries_decomposition import BucketBatchSampler\n",
    "from pytorch_lightning.callbacks import ModelCheckpoint\n",
    "from pytorch_lightning import loggers as pl_loggers"
   ]
  },
  {
   "cell_type": "code",
   "execution_count": null,
   "id": "228c2fa233b23553",
   "metadata": {
    "ExecuteTime": {
     "end_time": "2025-03-06T07:20:03.929139Z",
     "start_time": "2025-03-06T07:20:03.872334Z"
    }
   },
   "outputs": [],
   "source": [
    "%load_ext autoreload\n",
    "%autoreload 2 "
   ]
  },
  {
   "cell_type": "code",
   "execution_count": null,
   "id": "initial_id",
   "metadata": {
    "ExecuteTime": {
     "end_time": "2025-03-06T07:20:11.678574Z",
     "start_time": "2025-03-06T07:20:11.623772Z"
    }
   },
   "outputs": [],
   "source": [
    "data_path = '/mnt/data1/klug/datasets/opsum/short_term_outcomes/gsu_Extraction_20220815_prepro_08062024_083500/early_neurological_deterioration_train_data_splits/train_data_splits_early_neurological_deterioration_ts0.8_rs42_ns5.pth'\n",
    "# data_path = '/Users/jk1/temp/opsum_end/preprocessing/gsu_Extraction_20220815_prepro_08062024_083500/early_neurological_deterioration_train_data_splits/train_data_splits_early_neurological_deterioration_ts0.8_rs42_ns5.pth'\n",
    "# output_dir = '/Users/jk1/Downloads'\n",
    "output_dir = '/home/klug/temp/enc_testing'"
   ]
  },
  {
   "cell_type": "code",
   "execution_count": null,
   "id": "5fdf6e6fa26e9b3c",
   "metadata": {
    "ExecuteTime": {
     "end_time": "2025-03-06T07:20:41.737818Z",
     "start_time": "2025-03-06T07:20:41.683282Z"
    }
   },
   "outputs": [],
   "source": [
    "config_path = '/home/klug/temp/checkpoints_short_opsum_transformer_20240814_073845_cv_0/end_transformer_best_hyperparameters.csv'"
   ]
  },
  {
   "cell_type": "code",
   "execution_count": null,
   "id": "31e3c51da02b4cfb",
   "metadata": {
    "ExecuteTime": {
     "end_time": "2025-03-06T07:20:42.057559Z",
     "start_time": "2025-03-06T07:20:42.003197Z"
    }
   },
   "outputs": [],
   "source": [
    "use_gpu = True"
   ]
  },
  {
   "cell_type": "code",
   "execution_count": null,
   "id": "acd2b59c622ffcba",
   "metadata": {
    "ExecuteTime": {
     "end_time": "2025-03-06T07:20:43.072321Z",
     "start_time": "2025-03-06T07:20:43.009920Z"
    }
   },
   "outputs": [],
   "source": [
    "hp_model_config = pd.read_csv(config_path)\n",
    "hp_model_config = hp_model_config.to_dict(orient='records')[0]\n",
    "classification_threshold = 6\n",
    "imbalance_factor = 62"
   ]
  },
  {
   "cell_type": "code",
   "execution_count": null,
   "id": "e543d2291f0114f8",
   "metadata": {
    "ExecuteTime": {
     "end_time": "2025-03-06T15:23:00.869785Z",
     "start_time": "2025-03-06T15:23:00.813881Z"
    }
   },
   "outputs": [],
   "source": [
    "model_config = {'batch_size': 256,\n",
    " 'num_layers': 2,\n",
    " 'model_dim': 256,\n",
    " 'train_noise': 5.868386798073278e-05,\n",
    " 'weight_decay': 5e-4,\n",
    " 'dropout': 0.5,\n",
    " 'num_head': 32,\n",
    " 'lr': 1e-5,\n",
    " 'n_lr_warm_up_steps': 0,\n",
    " 'grad_clip_value': 1,\n",
    "                'alpha': 0.25,\n",
    "                'gamma': 2.0,\n",
    " 'early_stopping_step_limit': 10,\n",
    "                'scheduler': 'exponential',\n",
    "                'loss_function': 'focal',\n",
    "                       }\n"
   ]
  },
  {
   "cell_type": "code",
   "execution_count": null,
   "id": "1d9be03276ead256",
   "metadata": {
    "ExecuteTime": {
     "end_time": "2025-03-06T07:24:55.302746Z",
     "start_time": "2025-03-06T07:21:00.110092Z"
    }
   },
   "outputs": [],
   "source": [
    "splits = ch.load(os.path.join(data_path))"
   ]
  },
  {
   "cell_type": "code",
   "execution_count": null,
   "id": "72b194f15300c63e",
   "metadata": {
    "ExecuteTime": {
     "end_time": "2025-03-06T07:24:59.692729Z",
     "start_time": "2025-03-06T07:24:55.652323Z"
    }
   },
   "outputs": [],
   "source": [
    "from prediction.short_term_outcome_prediction.timeseries_decomposition import prepare_subsequence_dataset\n",
    "\n",
    "train_dataset, val_dataset = prepare_subsequence_dataset(splits[hp_model_config['best_cv_fold']], use_gpu=use_gpu, use_time_to_event=False)"
   ]
  },
  {
   "cell_type": "code",
   "execution_count": null,
   "id": "5dc29ec4cba84cc8",
   "metadata": {
    "ExecuteTime": {
     "end_time": "2025-03-06T15:23:09.585531Z",
     "start_time": "2025-03-06T15:23:09.532146Z"
    }
   },
   "outputs": [],
   "source": [
    "save_model = True"
   ]
  },
  {
   "cell_type": "code",
   "execution_count": null,
   "id": "28e1d8af062439fa",
   "metadata": {
    "ExecuteTime": {
     "end_time": "2025-03-06T15:23:52.557525Z",
     "start_time": "2025-03-06T15:23:51.824750Z"
    }
   },
   "outputs": [],
   "source": [
    "accelerator = 'gpu' if use_gpu else 'cpu'\n",
    "\n",
    "input_dim = train_dataset[0][0].shape[-1]\n",
    "ff_factor = 2\n",
    "ff_dim = ff_factor * model_config['model_dim']\n",
    "pos_encode_factor = 1\n",
    "\n",
    "model = OPSUMTransformer(\n",
    "            input_dim=input_dim,\n",
    "            num_layers=int(model_config['num_layers']),\n",
    "            model_dim=int(model_config['model_dim']),\n",
    "            dropout=float(model_config['dropout']),\n",
    "            ff_dim=int(ff_dim),\n",
    "            num_heads=int(model_config['num_head']),\n",
    "            num_classes=1,\n",
    "            max_dim=500,\n",
    "            pos_encode_factor=pos_encode_factor\n",
    "    )\n",
    "\n",
    "\n",
    "train_bucket_sampler = BucketBatchSampler(train_dataset.idx_to_len_map, model_config['batch_size'])\n",
    "train_loader = DataLoader(train_dataset, batch_sampler=train_bucket_sampler,\n",
    "                          # shuffling is done in the bucket sampler\n",
    "                          shuffle=False, drop_last=False)\n",
    "\n",
    "val_bucket_sampler = BucketBatchSampler(val_dataset.idx_to_len_map, 1024)\n",
    "val_loader = DataLoader(val_dataset, batch_sampler=val_bucket_sampler)\n",
    "\n",
    "run_name = 'dim_256_lay2'\n",
    "\n",
    "if save_model:\n",
    "    checkpoint_callback = ModelCheckpoint(\n",
    "                save_top_k=1,\n",
    "                monitor=\"val_auroc\",\n",
    "                mode=\"max\",\n",
    "                dirpath=output_dir,\n",
    "                filename=\"short_opsum_transformer_{epoch:02d}_{val_auroc:.4f}\",\n",
    "            )\n",
    "    # save config to output_dir\n",
    "    # save model config\n",
    "    file_name = 'short_opsum_transformer_{epoch:02d}_{val_auroc:.4f}.json'\n",
    "    with open(os.path.join(output_dir, file_name), 'w') as f:\n",
    "        json.dump(model_config, f)\n",
    "\n",
    "    callbacks = [checkpoint_callback]\n",
    "else:\n",
    "    callbacks = []\n",
    "\n",
    "logger = DictLogger(0)\n",
    "tb_logger = pl_loggers.TensorBoardLogger(save_dir=output_dir, name='logs', version=run_name)\n",
    "\n",
    "module = LitModel(model, lr=model_config['lr'],\n",
    "                                              wd=model_config['weight_decay'],\n",
    "                                              train_noise=model_config['train_noise'], lr_warmup_steps=model_config['n_lr_warm_up_steps'],\n",
    "                                   imbalance_factor=ch.tensor(imbalance_factor).float(),\n",
    "                  loss_function=model_config['loss_function'],\n",
    "                                      alpha=model_config['alpha'],\n",
    "                                      gamma=model_config['gamma'],\n",
    "                                      scheduler=model_config['scheduler'],\n",
    "                  debug_mode=True\n",
    "                                   )\n",
    "trainer = pl.Trainer(accelerator=accelerator, devices=1, max_epochs=50,\n",
    "                     logger=[logger, tb_logger],\n",
    "                        callbacks=callbacks,\n",
    "                     log_every_n_steps=25, enable_checkpointing=True,\n",
    "                     gradient_clip_val=model_config['grad_clip_value'])"
   ]
  },
  {
   "cell_type": "code",
   "execution_count": null,
   "id": "53d3a12dec5477be",
   "metadata": {
    "ExecuteTime": {
     "end_time": "2025-03-06T15:44:15.273600Z",
     "start_time": "2025-03-06T15:23:54.667433Z"
    }
   },
   "outputs": [],
   "source": [
    "# train whilst plotting the loss\n",
    "trainer.fit(module, train_loader, val_loader)"
   ]
  },
  {
   "cell_type": "code",
   "execution_count": null,
   "id": "62aef2fe68e33d22",
   "metadata": {},
   "outputs": [],
   "source": [
    "# changes made (manual tuning):\n",
    "# - grad clip to 1\n",
    "# - lr to 1e-5\n",
    "# - wd to 5e-4\n",
    "# - dropout to 0.5\n",
    "# - loss function to focal\n",
    "# - num layers to 2\n",
    "# - model_dim to 256\n",
    "# - num_head 32\n"
   ]
  },
  {
   "cell_type": "code",
   "execution_count": null,
   "id": "d3984844afd65004",
   "metadata": {
    "ExecuteTime": {
     "end_time": "2025-03-05T14:31:59.048713Z",
     "start_time": "2025-03-05T14:31:58.123631Z"
    }
   },
   "outputs": [],
   "source": [
    "import gc\n",
    "del model, module, trainer\n",
    "\n",
    "gc.collect()\n",
    "# Clear GPU memory\n",
    "ch.cuda.empty_cache()\n",
    "ch.cuda.synchronize()  # Ensures GPU operations complete\n",
    "\n"
   ]
  },
  {
   "cell_type": "code",
   "execution_count": null,
   "id": "8d2f0c9734308470",
   "metadata": {
    "ExecuteTime": {
     "end_time": "2025-03-05T12:14:21.249643Z",
     "start_time": "2025-03-05T12:14:21.245431Z"
    }
   },
   "outputs": [],
   "source": []
  },
  {
   "cell_type": "code",
   "execution_count": null,
   "id": "38cac11126815a38",
   "metadata": {},
   "outputs": [],
   "source": []
  }
 ],
 "metadata": {
  "kernelspec": {
   "display_name": "Python 3",
   "language": "python",
   "name": "python3"
  },
  "language_info": {
   "codemirror_mode": {
    "name": "ipython",
    "version": 2
   },
   "file_extension": ".py",
   "mimetype": "text/x-python",
   "name": "python",
   "nbconvert_exporter": "python",
   "pygments_lexer": "ipython2",
   "version": "2.7.6"
  }
 },
 "nbformat": 4,
 "nbformat_minor": 5
}
