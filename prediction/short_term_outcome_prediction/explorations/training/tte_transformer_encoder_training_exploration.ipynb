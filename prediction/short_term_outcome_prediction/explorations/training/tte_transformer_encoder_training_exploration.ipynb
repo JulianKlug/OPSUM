{
 "cells": [
  {
   "cell_type": "code",
   "execution_count": null,
   "id": "773a7f26493f2a43",
   "metadata": {
    "ExecuteTime": {
     "end_time": "2025-03-05T11:10:22.205609Z",
     "start_time": "2025-03-05T11:10:22.199715Z"
    }
   },
   "outputs": [],
   "source": [
    "import os\n",
    "\n",
    "import pandas as pd\n",
    "import torch as ch\n",
    "import numpy as np\n",
    "from torch.utils.data import DataLoader, TensorDataset\n",
    "from tqdm import tqdm\n",
    "from sklearn.metrics import matthews_corrcoef, average_precision_score, roc_auc_score, accuracy_score\n",
    "from sklearn.preprocessing import StandardScaler\n",
    "import pytorch_lightning as pl\n",
    "from prediction.outcome_prediction.Transformer.utils.utils import DictLogger\n",
    "from prediction.outcome_prediction.Transformer.architecture import OPSUMTransformer\n",
    "from prediction.outcome_prediction.Transformer.lightning_wrapper import LitEncoderRegressionModel"
   ]
  },
  {
   "cell_type": "code",
   "execution_count": null,
   "id": "228c2fa233b23553",
   "metadata": {
    "ExecuteTime": {
     "end_time": "2025-03-05T11:11:23.500793Z",
     "start_time": "2025-03-05T11:11:23.435022Z"
    }
   },
   "outputs": [],
   "source": [
    "%load_ext autoreload\n",
    "%autoreload 2 "
   ]
  },
  {
   "cell_type": "code",
   "execution_count": null,
   "id": "initial_id",
   "metadata": {
    "ExecuteTime": {
     "end_time": "2025-03-05T10:45:32.599094Z",
     "start_time": "2025-03-05T10:45:32.595049Z"
    }
   },
   "outputs": [],
   "source": [
    "data_path = '/mnt/data1/klug/datasets/opsum/short_term_outcomes/gsu_Extraction_20220815_prepro_08062024_083500/early_neurological_deterioration_train_data_splits/train_data_splits_early_neurological_deterioration_ts0.8_rs42_ns5.pth'\n",
    "# data_path = '/Users/jk1/temp/opsum_end/preprocessing/gsu_Extraction_20220815_prepro_08062024_083500/early_neurological_deterioration_train_data_splits/train_data_splits_early_neurological_deterioration_ts0.8_rs42_ns5.pth'\n",
    "# output_dir = '/Users/jk1/Downloads'\n",
    "output_dir = '/home/klug/temp/tte_testing'"
   ]
  },
  {
   "cell_type": "code",
   "execution_count": null,
   "id": "5fdf6e6fa26e9b3c",
   "metadata": {
    "ExecuteTime": {
     "end_time": "2025-03-05T10:45:32.763622Z",
     "start_time": "2025-03-05T10:45:32.759771Z"
    }
   },
   "outputs": [],
   "source": [
    "config_path = '/home/klug/temp/checkpoints_short_opsum_transformer_tte_20250109_235614_cv_1/tte_end_transformer_best_hyperparameters.csv'"
   ]
  },
  {
   "cell_type": "code",
   "execution_count": null,
   "id": "31e3c51da02b4cfb",
   "metadata": {
    "ExecuteTime": {
     "end_time": "2025-03-05T10:45:32.925092Z",
     "start_time": "2025-03-05T10:45:32.921284Z"
    }
   },
   "outputs": [],
   "source": [
    "use_gpu = True"
   ]
  },
  {
   "cell_type": "code",
   "execution_count": null,
   "id": "acd2b59c622ffcba",
   "metadata": {
    "ExecuteTime": {
     "end_time": "2025-03-05T10:45:33.084737Z",
     "start_time": "2025-03-05T10:45:33.071553Z"
    }
   },
   "outputs": [],
   "source": [
    "model_config = pd.read_csv(config_path)\n",
    "model_config = model_config.to_dict(orient='records')[0]\n",
    "classification_threshold = 6"
   ]
  },
  {
   "cell_type": "code",
   "execution_count": null,
   "id": "e543d2291f0114f8",
   "metadata": {
    "ExecuteTime": {
     "end_time": "2025-03-05T10:45:33.191488Z",
     "start_time": "2025-03-05T10:45:33.178581Z"
    }
   },
   "outputs": [],
   "source": [
    "model_config"
   ]
  },
  {
   "cell_type": "code",
   "execution_count": null,
   "id": "1d9be03276ead256",
   "metadata": {
    "ExecuteTime": {
     "end_time": "2025-03-05T10:49:26.591838Z",
     "start_time": "2025-03-05T10:45:33.380661Z"
    }
   },
   "outputs": [],
   "source": [
    "splits = ch.load(os.path.join(data_path))"
   ]
  },
  {
   "cell_type": "code",
   "execution_count": null,
   "id": "72b194f15300c63e",
   "metadata": {
    "ExecuteTime": {
     "end_time": "2025-03-05T10:49:32.785644Z",
     "start_time": "2025-03-05T10:49:26.692117Z"
    }
   },
   "outputs": [],
   "source": [
    "from prediction.short_term_outcome_prediction.timeseries_decomposition import prepare_subsequence_dataset\n",
    "\n",
    "train_dataset, val_dataset = prepare_subsequence_dataset(splits[model_config['best_cv_fold']], use_gpu=use_gpu, use_time_to_event=True)"
   ]
  },
  {
   "cell_type": "code",
   "execution_count": null,
   "id": "28e1d8af062439fa",
   "metadata": {
    "ExecuteTime": {
     "end_time": "2025-03-05T11:46:56.620895Z",
     "start_time": "2025-03-05T11:46:56.199410Z"
    }
   },
   "outputs": [],
   "source": [
    "from prediction.short_term_outcome_prediction.timeseries_decomposition import BucketBatchSampler\n",
    "from pytorch_lightning import loggers as pl_loggers\n",
    "\n",
    "accelerator = 'gpu' if use_gpu else 'cpu'\n",
    "\n",
    "input_dim = train_dataset[0][0].shape[-1]\n",
    "ff_factor = 2\n",
    "ff_dim = ff_factor * model_config['model_dim']\n",
    "pos_encode_factor = 1\n",
    "\n",
    "model = OPSUMTransformer(\n",
    "            input_dim=input_dim,\n",
    "            num_layers=int(model_config['num_layers']),\n",
    "            model_dim=int(model_config['model_dim']),\n",
    "            dropout=int(model_config['dropout']),\n",
    "            ff_dim=int(ff_dim),\n",
    "            num_heads=int(model_config['num_head']),\n",
    "            num_classes=1,\n",
    "            max_dim=500,\n",
    "            pos_encode_factor=pos_encode_factor\n",
    "    )\n",
    "\n",
    "train_bucket_sampler = BucketBatchSampler(train_dataset.idx_to_len_map, model_config['batch_size'])\n",
    "train_loader = DataLoader(train_dataset, batch_sampler=train_bucket_sampler,\n",
    "                          # shuffling is done in the bucket sampler\n",
    "                          shuffle=False, drop_last=False)\n",
    "\n",
    "val_bucket_sampler = BucketBatchSampler(val_dataset.idx_to_len_map, 1024)\n",
    "val_loader = DataLoader(val_dataset, batch_sampler=val_bucket_sampler)\n",
    "logger = DictLogger(0)\n",
    "\n",
    "run_name = ''\n",
    "\n",
    "tb_logger = pl_loggers.TensorBoardLogger(save_dir=output_dir, name='logs', version=run_name)\n",
    "\n",
    "module = LitEncoderRegressionModel(model, lr=model_config['lr'],\n",
    "                                              wd=model_config['weight_decay'],\n",
    "                                              train_noise=model_config['train_noise'], lr_warmup_steps=model_config['n_lr_warm_up_steps'],\n",
    "                                   classification_threshold=classification_threshold,\n",
    "                                   loss_function='exp'\n",
    "                                   )\n",
    "trainer = pl.Trainer(accelerator=accelerator, devices=1, max_epochs=50,\n",
    "                     logger=[logger, tb_logger],\n",
    "                     log_every_n_steps=25, enable_checkpointing=True,\n",
    "                     gradient_clip_val=model_config['grad_clip_value'])"
   ]
  },
  {
   "cell_type": "code",
   "execution_count": null,
   "id": "53d3a12dec5477be",
   "metadata": {
    "ExecuteTime": {
     "end_time": "2025-03-05T11:55:22.624181Z",
     "start_time": "2025-03-05T11:46:57.472968Z"
    }
   },
   "outputs": [],
   "source": [
    "# train whilst plotting the loss\n",
    "trainer.fit(module, train_loader, val_loader)"
   ]
  },
  {
   "cell_type": "code",
   "execution_count": null,
   "id": "d3984844afd65004",
   "metadata": {
    "ExecuteTime": {
     "end_time": "2025-03-05T12:08:23.099570Z",
     "start_time": "2025-03-05T12:08:22.636732Z"
    }
   },
   "outputs": [],
   "source": [
    "import gc\n",
    "# del model, module, trainer\n",
    "\n",
    "gc.collect()\n",
    "# Clear GPU memory\n",
    "ch.cuda.empty_cache()\n",
    "ch.cuda.synchronize()  # Ensures GPU operations complete\n",
    "\n"
   ]
  },
  {
   "cell_type": "code",
   "execution_count": null,
   "id": "8d2f0c9734308470",
   "metadata": {},
   "outputs": [],
   "source": []
  }
 ],
 "metadata": {
  "kernelspec": {
   "display_name": "Python 3",
   "language": "python",
   "name": "python3"
  },
  "language_info": {
   "codemirror_mode": {
    "name": "ipython",
    "version": 2
   },
   "file_extension": ".py",
   "mimetype": "text/x-python",
   "name": "python",
   "nbconvert_exporter": "python",
   "pygments_lexer": "ipython2",
   "version": "2.7.6"
  }
 },
 "nbformat": 4,
 "nbformat_minor": 5
}
