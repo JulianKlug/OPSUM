{
 "cells": [
  {
   "cell_type": "code",
   "execution_count": null,
   "id": "773a7f26493f2a43",
   "metadata": {
    "ExecuteTime": {
     "start_time": "2025-03-12T16:38:10.323975Z"
    },
    "jupyter": {
     "is_executing": true
    }
   },
   "outputs": [],
   "source": [
    "import os\n",
    "\n",
    "import pandas as pd\n",
    "import torch as ch\n",
    "import numpy as np\n",
    "from torch.utils.data import DataLoader, TensorDataset\n",
    "from tqdm import tqdm\n",
    "import json\n",
    "from sklearn.metrics import matthews_corrcoef, average_precision_score, roc_auc_score, accuracy_score\n",
    "from sklearn.preprocessing import StandardScaler\n",
    "import pytorch_lightning as pl\n",
    "from prediction.outcome_prediction.Transformer.utils.utils import DictLogger\n",
    "from prediction.outcome_prediction.Transformer.architecture import OPSUMTransformer\n",
    "from prediction.outcome_prediction.Transformer.lightning_wrapper import LitEncoderRegressionModel\n",
    "from pytorch_lightning.callbacks import ModelCheckpoint\n",
    "from pytorch_lightning import loggers as pl_loggers\n"
   ]
  },
  {
   "cell_type": "code",
   "execution_count": null,
   "id": "228c2fa233b23553",
   "metadata": {
    "ExecuteTime": {
     "end_time": "2025-03-12T16:17:09.475627Z",
     "start_time": "2025-03-12T16:17:09.408945Z"
    }
   },
   "outputs": [],
   "source": [
    "%load_ext autoreload\n",
    "%autoreload 2 "
   ]
  },
  {
   "cell_type": "code",
   "execution_count": null,
   "id": "initial_id",
   "metadata": {
    "ExecuteTime": {
     "end_time": "2025-03-12T16:17:10.105405Z",
     "start_time": "2025-03-12T16:17:10.051496Z"
    }
   },
   "outputs": [],
   "source": [
    "data_path = '/mnt/data1/klug/datasets/opsum/short_term_outcomes/gsu_Extraction_20220815_prepro_08062024_083500/early_neurological_deterioration_train_data_splits/train_data_splits_early_neurological_deterioration_ts0.8_rs42_ns5.pth'\n",
    "# data_path = '/Users/jk1/temp/opsum_end/preprocessing/gsu_Extraction_20220815_prepro_08062024_083500/early_neurological_deterioration_train_data_splits/train_data_splits_early_neurological_deterioration_ts0.8_rs42_ns5.pth'\n",
    "# output_dir = '/Users/jk1/Downloads'\n",
    "output_dir = '/home/klug/temp/tte_testing'"
   ]
  },
  {
   "cell_type": "code",
   "execution_count": null,
   "id": "5fdf6e6fa26e9b3c",
   "metadata": {
    "ExecuteTime": {
     "end_time": "2025-03-12T16:17:10.848534Z",
     "start_time": "2025-03-12T16:17:10.795559Z"
    }
   },
   "outputs": [],
   "source": [
    "config_path = '/home/klug/temp/checkpoints_short_opsum_transformer_tte_20250109_235614_cv_1/tte_end_transformer_best_hyperparameters.csv'"
   ]
  },
  {
   "cell_type": "code",
   "execution_count": null,
   "id": "31e3c51da02b4cfb",
   "metadata": {
    "ExecuteTime": {
     "end_time": "2025-03-12T16:17:11.305531Z",
     "start_time": "2025-03-12T16:17:11.252298Z"
    }
   },
   "outputs": [],
   "source": [
    "use_gpu = True"
   ]
  },
  {
   "cell_type": "code",
   "execution_count": null,
   "id": "acd2b59c622ffcba",
   "metadata": {
    "ExecuteTime": {
     "end_time": "2025-03-12T16:17:12.006050Z",
     "start_time": "2025-03-12T16:17:11.944564Z"
    }
   },
   "outputs": [],
   "source": [
    "hp_model_config = pd.read_csv(config_path)\n",
    "hp_model_config = hp_model_config.to_dict(orient='records')[0]\n",
    "classification_threshold = 6"
   ]
  },
  {
   "cell_type": "code",
   "execution_count": null,
   "id": "1d9be03276ead256",
   "metadata": {
    "ExecuteTime": {
     "start_time": "2025-03-12T16:23:58.281963Z"
    },
    "jupyter": {
     "is_executing": true
    }
   },
   "outputs": [],
   "source": [
    "splits = ch.load(os.path.join(data_path))"
   ]
  },
  {
   "cell_type": "code",
   "execution_count": null,
   "id": "72b194f15300c63e",
   "metadata": {
    "ExecuteTime": {
     "end_time": "2025-03-12T16:21:06.611047Z",
     "start_time": "2025-03-12T14:05:54.554933Z"
    }
   },
   "outputs": [],
   "source": [
    "from prediction.short_term_outcome_prediction.timeseries_decomposition import prepare_subsequence_dataset\n",
    "\n",
    "train_dataset, val_dataset = prepare_subsequence_dataset(splits[hp_model_config['best_cv_fold']], use_gpu=use_gpu, use_time_to_event=True)"
   ]
  },
  {
   "cell_type": "code",
   "execution_count": null,
   "id": "4cf5d7ce9113644f",
   "metadata": {
    "ExecuteTime": {
     "end_time": "2025-03-12T16:21:06.614011Z",
     "start_time": "2025-03-12T16:12:39.359473Z"
    }
   },
   "outputs": [],
   "source": [
    "model_config = {'batch_size': 256,\n",
    " 'num_layers': 2,\n",
    " 'model_dim': 256,\n",
    " 'train_noise': 5.868386798073278e-05,\n",
    " 'weight_decay': 1e-5,\n",
    " 'dropout': 0.5,\n",
    " 'num_head': 8,\n",
    "'lr': 1e-3,  # or 1e-4\n",
    "'n_lr_warm_up_steps': 500,  # Try 500 or 1000\n",
    " 'grad_clip_value': 1,\n",
    " 'early_stopping_step_limit': 10,\n",
    " 'loss_function': 'log_cosh',\n",
    "    'scheduler': 'exponential',\n",
    "       }\n",
    "save_model = False\n",
    "model_config['best_cv_fold'] = hp_model_config['best_cv_fold']"
   ]
  },
  {
   "cell_type": "code",
   "execution_count": null,
   "id": "28e1d8af062439fa",
   "metadata": {
    "ExecuteTime": {
     "end_time": "2025-03-12T16:21:06.614824Z",
     "start_time": "2025-03-12T16:12:40.096920Z"
    }
   },
   "outputs": [],
   "source": [
    "from prediction.short_term_outcome_prediction.timeseries_decomposition import BucketBatchSampler\n",
    "from pytorch_lightning import loggers as pl_loggers\n",
    "\n",
    "accelerator = 'gpu' if use_gpu else 'cpu'\n",
    "\n",
    "input_dim = train_dataset[0][0].shape[-1]\n",
    "ff_factor = 2\n",
    "ff_dim = ff_factor * model_config['model_dim']\n",
    "pos_encode_factor = 1\n",
    "\n",
    "model = OPSUMTransformer(\n",
    "            input_dim=input_dim,\n",
    "            num_layers=int(model_config['num_layers']),\n",
    "            model_dim=int(model_config['model_dim']),\n",
    "            dropout=int(model_config['dropout']),\n",
    "            ff_dim=int(ff_dim),\n",
    "            num_heads=int(model_config['num_head']),\n",
    "            num_classes=1,\n",
    "            max_dim=500,\n",
    "            pos_encode_factor=pos_encode_factor\n",
    "    )\n",
    "\n",
    "train_bucket_sampler = BucketBatchSampler(train_dataset.idx_to_len_map, model_config['batch_size'])\n",
    "train_loader = DataLoader(train_dataset, batch_sampler=train_bucket_sampler,\n",
    "                          # shuffling is done in the bucket sampler\n",
    "                          shuffle=False, drop_last=False)\n",
    "\n",
    "val_bucket_sampler = BucketBatchSampler(val_dataset.idx_to_len_map, 1024)\n",
    "val_loader = DataLoader(val_dataset, batch_sampler=val_bucket_sampler)\n",
    "\n",
    "if save_model:\n",
    "    checkpoint_callback = ModelCheckpoint(\n",
    "                save_top_k=1,\n",
    "                monitor=\"val_mae\",\n",
    "                mode=\"min\",\n",
    "                dirpath=output_dir,\n",
    "                filename=\"tte_short_opsum_transformer_{epoch:02d}_{val_auroc:.4f}\",\n",
    "            )\n",
    "    # save config to output_dir\n",
    "    # save model config\n",
    "    file_name = 'tte_short_opsum_transformer_config.json'\n",
    "    with open(os.path.join(output_dir, file_name), 'w') as f:\n",
    "        json.dump(model_config, f)\n",
    "\n",
    "    callbacks = [checkpoint_callback]\n",
    "else:\n",
    "    callbacks = []\n",
    "\n",
    "# prompt user for run name\n",
    "run_name = input()\n",
    "\n",
    "logger = DictLogger(0)\n",
    "tb_logger = pl_loggers.TensorBoardLogger(save_dir=output_dir, name='logs', version=run_name)\n",
    "\n",
    "\n",
    "module = LitEncoderRegressionModel(model, lr=model_config['lr'],\n",
    "                                          wd=model_config['weight_decay'],\n",
    "                                          train_noise=model_config['train_noise'],\n",
    "                                            lr_warmup_steps=model_config['n_lr_warm_up_steps'],\n",
    "                                   classification_threshold=classification_threshold,\n",
    "                                   loss_function=model_config['loss_function'],\n",
    "                                   scheduler=model_config['scheduler'],\n",
    "                                   debug_mode=True\n",
    "                                   )\n",
    "trainer = pl.Trainer(accelerator=accelerator, devices=1, max_epochs=50,\n",
    "                     logger=[logger, tb_logger],\n",
    "                     callbacks=callbacks,\n",
    "                     log_every_n_steps=25, enable_checkpointing=True,\n",
    "                     gradient_clip_val=model_config['grad_clip_value'])"
   ]
  },
  {
   "cell_type": "code",
   "execution_count": null,
   "id": "53d3a12dec5477be",
   "metadata": {
    "ExecuteTime": {
     "end_time": "2025-03-12T16:21:06.646129Z",
     "start_time": "2025-03-12T16:12:45.349384Z"
    }
   },
   "outputs": [],
   "source": [
    "# train whilst plotting the loss\n",
    "trainer.fit(module, train_loader, val_loader)"
   ]
  },
  {
   "cell_type": "code",
   "execution_count": null,
   "id": "f806bb46b85e66a2",
   "metadata": {
    "ExecuteTime": {
     "end_time": "2025-03-12T16:12:54.100583Z",
     "start_time": "2025-03-12T16:12:54.096300Z"
    }
   },
   "outputs": [],
   "source": []
  },
  {
   "cell_type": "code",
   "execution_count": null,
   "id": "cea47353c3d6b77f",
   "metadata": {},
   "outputs": [],
   "source": []
  },
  {
   "cell_type": "code",
   "execution_count": null,
   "id": "d3984844afd65004",
   "metadata": {
    "ExecuteTime": {
     "end_time": "2025-03-05T12:08:23.099570Z",
     "start_time": "2025-03-05T12:08:22.636732Z"
    }
   },
   "outputs": [],
   "source": [
    "import gc\n",
    "# del model, module, trainer\n",
    "\n",
    "gc.collect()\n",
    "# Clear GPU memory\n",
    "ch.cuda.empty_cache()\n",
    "ch.cuda.synchronize()  # Ensures GPU operations complete\n",
    "\n"
   ]
  },
  {
   "cell_type": "code",
   "execution_count": null,
   "id": "8d2f0c9734308470",
   "metadata": {},
   "outputs": [],
   "source": []
  }
 ],
 "metadata": {
  "kernelspec": {
   "display_name": "Python 3",
   "language": "python",
   "name": "python3"
  },
  "language_info": {
   "codemirror_mode": {
    "name": "ipython",
    "version": 2
   },
   "file_extension": ".py",
   "mimetype": "text/x-python",
   "name": "python",
   "nbconvert_exporter": "python",
   "pygments_lexer": "ipython2",
   "version": "2.7.6"
  }
 },
 "nbformat": 4,
 "nbformat_minor": 5
}
