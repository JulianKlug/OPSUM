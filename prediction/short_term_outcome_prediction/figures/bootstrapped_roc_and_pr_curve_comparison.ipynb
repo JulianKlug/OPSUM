{
 "cells": [
  {
   "attachments": {},
   "cell_type": "markdown",
   "metadata": {
    "collapsed": false
   },
   "source": [
    "# ROC Curve comparison with confidence intervals"
   ]
  },
  {
   "cell_type": "code",
   "execution_count": null,
   "metadata": {
    "ExecuteTime": {
     "end_time": "2023-07-05T07:01:35.903628Z",
     "start_time": "2023-07-05T07:01:35.508855Z"
    }
   },
   "outputs": [],
   "source": [
    "import pickle\n",
    "import numpy as np\n",
    "import matplotlib.pyplot as plt\n",
    "from tqdm import tqdm\n",
    "import seaborn as sns\n",
    "import pandas as pd\n",
    "from sklearn.metrics import roc_curve, auc, precision_recall_curve\n",
    "import matplotlib.patches as mpatches\n",
    "from matplotlib.legend_handler import HandlerTuple\n",
    "import os"
   ]
  },
  {
   "cell_type": "code",
   "execution_count": null,
   "metadata": {
    "ExecuteTime": {
     "end_time": "2023-07-05T07:10:37.866913Z",
     "start_time": "2023-07-05T07:10:37.854380Z"
    }
   },
   "outputs": [],
   "source": [
    "xgb_bs_predictions_path = '/Users/jk1/temp/opsum_end/testing/bootstrapped_gt_and_pred_cv_1.pkl'\n",
    "outcome = 'end'\n"
   ]
  },
  {
   "cell_type": "code",
   "execution_count": null,
   "metadata": {
    "ExecuteTime": {
     "end_time": "2023-07-05T07:10:38.855271Z",
     "start_time": "2023-07-05T07:10:38.841864Z"
    }
   },
   "outputs": [],
   "source": [
    "output_dir = '/Users/jk1/Downloads'"
   ]
  },
  {
   "cell_type": "code",
   "execution_count": null,
   "metadata": {
    "ExecuteTime": {
     "end_time": "2023-07-05T07:10:40.072791Z",
     "start_time": "2023-07-05T07:10:39.198350Z"
    }
   },
   "outputs": [],
   "source": [
    "\n",
    "xgb_bs_gt, xgb_bs_predictions = pickle.load(open(xgb_bs_predictions_path, 'rb'))\n"
   ]
  },
  {
   "cell_type": "code",
   "execution_count": null,
   "metadata": {
    "ExecuteTime": {
     "end_time": "2023-07-05T07:10:40.092498Z",
     "start_time": "2023-07-05T07:10:40.071448Z"
    }
   },
   "outputs": [],
   "source": [
    "all_colors_palette = sns.color_palette(['#f61067', '#049b9a', '#012D98', '#a76dfe', '#fca9ef'], n_colors=5)\n",
    "all_colors_palette"
   ]
  },
  {
   "attachments": {},
   "cell_type": "markdown",
   "metadata": {
    "collapsed": false
   },
   "source": [
    "Compute resampled ROC curve and ROC area / PR curve and PR area for LSTM over bootstrapped samples"
   ]
  },
  {
   "cell_type": "code",
   "execution_count": null,
   "metadata": {
    "ExecuteTime": {
     "end_time": "2023-07-05T07:10:42.213804Z",
     "start_time": "2023-07-05T07:10:42.208760Z"
    }
   },
   "outputs": [],
   "source": [
    "def compute_boostrapped_auc_and_pr_curves(bs_gt, bs_predictions):\n",
    "    bs_roc_aucs = []\n",
    "    bs_pr_aucs = []\n",
    "\n",
    "    resampled_roc_df = pd.DataFrame()\n",
    "    resampled_pr_df = pd.DataFrame()\n",
    "\n",
    "    for idx in tqdm(range(len(bs_predictions))):\n",
    "        # calculate the ROC curve and AUC\n",
    "        bs_fpr, bs_tpr, _ = roc_curve(bs_gt[idx], bs_predictions[idx])\n",
    "        bs_roc_auc = auc(bs_fpr, bs_tpr)\n",
    "        bs_roc_aucs.append(bs_roc_auc)\n",
    "\n",
    "        bs_precision, bs_recall, _ = precision_recall_curve(bs_gt[idx], bs_predictions[idx])\n",
    "        bs_pr_auc = auc(bs_recall, bs_precision)\n",
    "        bs_pr_aucs.append(bs_pr_auc)\n",
    "\n",
    "        bs_resampled_tpr = np.interp(np.linspace(0, 1, 200), bs_fpr, bs_tpr)\n",
    "        bs_resampled_roc_df = pd.DataFrame({'fpr': np.linspace(0,1,200),  'tpr': bs_resampled_tpr})\n",
    "        bs_resampled_roc_df['bootstrap_idx'] = idx\n",
    "        resampled_roc_df = resampled_roc_df.append(bs_resampled_roc_df)\n",
    "\n",
    "        # sort by recall\n",
    "        bs_recall, bs_precision = zip(*sorted(zip(bs_recall, bs_precision)))\n",
    "        bs_resampled_precision = np.interp(np.linspace(0, 1, 200), bs_recall, bs_precision)\n",
    "        bs_resampled_pr_df = pd.DataFrame({'precision': bs_resampled_precision, 'recall': np.linspace(0, 1, 200)})\n",
    "        bs_resampled_pr_df['bootstrap_idx'] = idx\n",
    "        resampled_pr_df = resampled_pr_df.append(bs_resampled_pr_df)\n",
    "\n",
    "    return bs_roc_aucs, bs_pr_aucs, resampled_roc_df, resampled_pr_df"
   ]
  },
  {
   "cell_type": "code",
   "execution_count": null,
   "metadata": {
    "ExecuteTime": {
     "end_time": "2023-07-05T07:11:21.637122Z",
     "start_time": "2023-07-05T07:10:42.665335Z"
    }
   },
   "outputs": [],
   "source": [
    "xgb_bs_roc_aucs, xgb_bs_pr_aucs, xgb_resampled_roc_df, xgb_resampled_pr_df = compute_boostrapped_auc_and_pr_curves(xgb_bs_gt, xgb_bs_predictions)\n"
   ]
  },
  {
   "attachments": {},
   "cell_type": "markdown",
   "metadata": {
    "collapsed": false
   },
   "source": [
    "### Bootstrapped resampled ROC curve\n"
   ]
  },
  {
   "cell_type": "code",
   "execution_count": null,
   "metadata": {
    "ExecuteTime": {
     "end_time": "2023-05-08T21:22:14.209374Z",
     "start_time": "2023-05-08T21:22:12.935701Z"
    }
   },
   "outputs": [],
   "source": [
    "custom_params = {\"axes.spines.right\": False, \"axes.spines.top\": False, 'figure.figsize':(10,10)}\n",
    "sns.set_theme(style=\"whitegrid\", rc=custom_params, context=\"paper\", font_scale = 1)\n",
    "\n",
    "ax = plt.subplot(111)\n",
    "\n",
    "plot_legend = True\n",
    "\n",
    "tick_label_size = 11\n",
    "label_font_size = 13\n",
    "\n",
    "errorbar = 'sd'\n",
    "\n",
    "ax = sns.lineplot(data=xgb_resampled_roc_df, x='fpr', y='tpr', color=all_colors_palette[2], label='XGBoost (area = %0.2f)' % np.median(xgb_bs_roc_aucs),\n",
    "                   ax=ax, errorbar=errorbar)\n",
    "\n",
    "\n",
    "ax.plot([0, 1], [0, 1], color='grey', lw=1, linestyle='--', alpha=0.5)\n",
    "\n",
    "ax.set_xlabel('1 - Specificity (False Positive Rate)', fontsize=label_font_size)\n",
    "ax.set_ylabel('Sensitivity (True Positive Rate)', fontsize=label_font_size)\n",
    "ax.tick_params('x', labelsize=tick_label_size)\n",
    "ax.tick_params('y', labelsize=tick_label_size)\n",
    "\n",
    "if plot_legend:\n",
    "    legend_markers, legend_labels = ax.get_legend_handles_labels()\n",
    "    if not errorbar is None:\n",
    "        # sd1_patch = mpatches.Patch(color=all_colors_palette[0], alpha=0.3)\n",
    "        # sd2_patch = mpatches.Patch(color=all_colors_palette[1], alpha=0.3)\n",
    "        sd3_patch = mpatches.Patch(color=all_colors_palette[2], alpha=0.3)\n",
    "        # sd4_patch = mpatches.Patch(color=all_colors_palette[3], alpha=0.3)\n",
    "        # sd_marker = (sd1_patch, sd2_patch, sd3_patch, sd4_patch)\n",
    "        sd_marker = (sd3_patch)\n",
    "        sd_labels = '± s.d.'\n",
    "        legend_markers.append(sd_marker)\n",
    "        legend_labels.append(sd_labels)\n",
    "    ax.legend(legend_markers, legend_labels, fontsize=label_font_size,\n",
    "              handler_map={tuple: HandlerTuple(ndivide=None)})\n",
    "\n",
    "else:\n",
    "    # remove legend\n",
    "    ax.get_legend().remove()\n",
    "\n",
    "fig = ax.get_figure()\n",
    "\n",
    "plt.show()"
   ]
  },
  {
   "cell_type": "code",
   "execution_count": null,
   "metadata": {
    "ExecuteTime": {
     "end_time": "2023-05-08T21:24:01.200881Z",
     "start_time": "2023-05-08T21:24:01.064662Z"
    }
   },
   "outputs": [],
   "source": [
    "# fig.savefig(os.path.join(output_dir, f'roc_curve_comparison_{outcome.replace(\" \", \"_\")}.svg'), bbox_inches=\"tight\", format='svg', dpi=1200)"
   ]
  },
  {
   "attachments": {},
   "cell_type": "markdown",
   "metadata": {
    "collapsed": false
   },
   "source": [
    "### Overall Precision-Recall curve"
   ]
  },
  {
   "cell_type": "code",
   "execution_count": null,
   "metadata": {
    "ExecuteTime": {
     "end_time": "2023-05-08T21:24:03.880656Z",
     "start_time": "2023-05-08T21:24:02.345957Z"
    }
   },
   "outputs": [],
   "source": [
    "custom_params = {\"axes.spines.right\": False, \"axes.spines.top\": False, 'figure.figsize':(10,10)}\n",
    "sns.set_theme(style=\"whitegrid\", rc=custom_params, context=\"paper\", font_scale = 1)\n",
    "\n",
    "ax1 = plt.subplot(111)\n",
    "\n",
    "plot_legend = True\n",
    "\n",
    "tick_label_size = 11\n",
    "label_font_size = 13\n",
    "\n",
    "errorbar = 'sd'\n",
    "\n",
    "ax1 = sns.lineplot(data=xgb_resampled_pr_df, x='recall', y='precision', color=all_colors_palette[2], label='XGBoost (area = %0.2f)' % np.median(xgb_bs_pr_aucs),\n",
    "                   ax=ax1, errorbar=errorbar)\n",
    "\n",
    "ax1.set_xlabel('Recall (Sensitivity)', fontsize=label_font_size)\n",
    "ax1.set_ylabel('Precision (PPV)', fontsize=label_font_size)\n",
    "ax1.tick_params('x', labelsize=tick_label_size)\n",
    "ax1.tick_params('y', labelsize=tick_label_size)\n",
    "\n",
    "if plot_legend:\n",
    "    legend_markers, legend_labels = ax1.get_legend_handles_labels()\n",
    "    if not errorbar is None:\n",
    "        # sd1_patch = mpatches.Patch(color=all_colors_palette[0], alpha=0.3)\n",
    "        # sd2_patch = mpatches.Patch(color=all_colors_palette[1], alpha=0.3)\n",
    "        sd3_patch = mpatches.Patch(color=all_colors_palette[2], alpha=0.3)\n",
    "        # sd4_patch = mpatches.Patch(color=all_colors_palette[3], alpha=0.3)\n",
    "        # sd_marker = (sd1_patch, sd2_patch, sd3_patch, sd4_patch)\n",
    "        sd_marker = (sd3_patch)\n",
    "        sd_labels = '± s.d.'\n",
    "        legend_markers.append(sd_marker)\n",
    "        legend_labels.append(sd_labels)\n",
    "    ax1.legend(legend_markers, legend_labels, fontsize=label_font_size,\n",
    "              handler_map={tuple: HandlerTuple(ndivide=None)})\n",
    "\n",
    "else:\n",
    "    # remove legend\n",
    "    ax1.get_legend().remove()\n",
    "\n",
    "fig1 = ax1.get_figure()\n",
    "\n",
    "plt.show()"
   ]
  },
  {
   "cell_type": "code",
   "execution_count": null,
   "metadata": {
    "ExecuteTime": {
     "end_time": "2023-05-08T21:24:22.793857Z",
     "start_time": "2023-05-08T21:24:22.668140Z"
    }
   },
   "outputs": [],
   "source": [
    "# fig1.savefig(os.path.join(output_dir, f'precision_recall_curve_comparison_{outcome.replace(\" \", \"_\")}.svg'), bbox_inches=\"tight\", format='svg', dpi=1200)"
   ]
  },
  {
   "cell_type": "markdown",
   "metadata": {
    "collapsed": false
   },
   "source": [
    "## Compare ROC AUCs"
   ]
  },
  {
   "cell_type": "code",
   "execution_count": null,
   "metadata": {
    "ExecuteTime": {
     "end_time": "2023-07-05T07:11:21.647940Z",
     "start_time": "2023-07-05T07:11:21.643035Z"
    }
   },
   "outputs": [],
   "source": [
    "roc_auc_df = pd.concat([\n",
    "    # pd.DataFrame({'model': 'LSTM', 'roc_auc': lstm_bs_roc_aucs}),\n",
    "    # pd.DataFrame({'model': 'THRIVE-C', 'roc_auc': thrivec_bs_roc_aucs}),\n",
    "    pd.DataFrame({'model': 'XGBoost', 'roc_auc': xgb_bs_roc_aucs}),\n",
    "    # pd.DataFrame({'model': 'Transformer', 'roc_auc': transformer_bs_roc_aucs}),\n",
    "])"
   ]
  },
  {
   "cell_type": "code",
   "execution_count": null,
   "metadata": {
    "ExecuteTime": {
     "end_time": "2023-07-05T07:11:21.940941Z",
     "start_time": "2023-07-05T07:11:21.651036Z"
    }
   },
   "outputs": [],
   "source": [
    "sns.stripplot(data=roc_auc_df, x='model', y='roc_auc', palette=all_colors_palette)"
   ]
  },
  {
   "cell_type": "code",
   "execution_count": null,
   "metadata": {},
   "outputs": [],
   "source": []
  }
 ],
 "metadata": {
  "kernelspec": {
   "display_name": "opsum",
   "language": "python",
   "name": "python3"
  },
  "language_info": {
   "codemirror_mode": {
    "name": "ipython",
    "version": 3
   },
   "file_extension": ".py",
   "mimetype": "text/x-python",
   "name": "python",
   "nbconvert_exporter": "python",
   "pygments_lexer": "ipython3",
   "version": "3.8.11"
  }
 },
 "nbformat": 4,
 "nbformat_minor": 0
}
